{
 "cells": [
  {
   "cell_type": "code",
   "execution_count": 15,
   "id": "d37f696d",
   "metadata": {},
   "outputs": [],
   "source": [
    "import warnings\n",
    "warnings.filterwarnings('ignore')\n",
    "from tqdm import tqdm\n",
    "import pandas as pd\n",
    "import numpy as np\n",
    "import tensorflow as tf\n",
    "from sklearn.model_selection import GridSearchCV\n",
    "from tensorflow.keras.models import Sequential\n",
    "from keras.regularizers import l1, l2\n",
    "from tensorflow.keras import initializers\n",
    "from tensorflow.keras.layers import Dense, Input\n",
    "from tensorflow.keras.callbacks import EarlyStopping\n",
    "from scikeras.wrappers import KerasClassifier\n",
    "from sklearn.model_selection import KFold\n",
    "import keras_tuner\n",
    "import keras\n",
    "from keras import layers\n",
    "import itertools\n",
    "from sklearn.model_selection import train_test_split\n",
    "from keras.optimizers import SGD\n",
    "from keras.callbacks import EarlyStopping\n",
    "from keras.callbacks import LearningRateScheduler\n",
    "import matplotlib.pyplot as plt\n",
    "from sklearn.model_selection import KFold, StratifiedKFold\n",
    "from sklearn.preprocessing import OneHotEncoder\n",
    "import keras.backend as K\n",
    "from sklearn.preprocessing import StandardScaler, MinMaxScaler\n",
    "from math import ceil\n",
    "from keras.losses import mean_squared_error\n",
    "import random\n",
    "\n",
    "seed = 7"
   ]
  },
  {
   "cell_type": "code",
   "execution_count": 16,
   "id": "6d8327a6",
   "metadata": {},
   "outputs": [],
   "source": [
    "def plot_curves(curve_1, label_1, curve_2=None, label_2=None):\n",
    "    if curve_1 is not None: \n",
    "        plt.plot(curve_1, label = label_1, color=\"black\")\n",
    "    if curve_2 is not None: \n",
    "        plt.plot(curve_2, label = label_2, linestyle='dashed', color=\"grey\")   \n",
    "    plt.legend()\n",
    "    plt.show()\n",
    "\n",
    "def set_random_seeds():\n",
    "    random.seed(seed)\n",
    "    np.random.seed(seed)\n",
    "    tf.random.set_seed(seed)\n",
    "    tf.keras.utils.set_random_seed(seed)"
   ]
  },
  {
   "cell_type": "code",
   "execution_count": 17,
   "id": "d60634f7",
   "metadata": {},
   "outputs": [],
   "source": [
    "x_scaler = None\n",
    "y_scaler = None\n",
    "\n",
    "def load_monks(path, encode):\n",
    "    \n",
    "    train = pd.read_csv(f\"{path}.train\", header=None, sep=\" \")\n",
    "    test = pd.read_csv(f\"{path}.test\", header=None, sep=\" \")\n",
    "    \n",
    "    train.drop(0, axis=1, inplace=True)\n",
    "    test.drop(0, axis=1, inplace=True)\n",
    "    train.drop(8, axis=1, inplace=True)\n",
    "    test.drop(8, axis=1, inplace=True)\n",
    "    \n",
    "    y_train = train.iloc[:, 0].to_numpy().astype(np.float64)\n",
    "    x_train = train.iloc[:, 1:].to_numpy().astype(np.float64)\n",
    "    y_test = test.iloc[:, 0].to_numpy().astype(np.float64)\n",
    "    x_test = test.iloc[:, 1:].to_numpy().astype(np.float64)\n",
    "    \n",
    "        \n",
    "    if encode:\n",
    "        \n",
    "        encoder = OneHotEncoder()\n",
    "        \n",
    "        encoder.fit(x_train)\n",
    "        x_train = encoder.transform(x_train).toarray()\n",
    "        x_test = encoder.transform(x_test).toarray()\n",
    "        \n",
    "        \n",
    "    \n",
    "    print(f\"Loaded {path} dataset\")\n",
    "    \n",
    "    return x_train, y_train, x_test, y_test\n",
    "    \n",
    "\n",
    "def load_cup(scale):\n",
    "    global x_scaler\n",
    "    global y_scaler\n",
    "    \n",
    "    # x_scaler = MinMaxScaler()\n",
    "    # y_scaler = MinMaxScaler()\n",
    "    x_scaler = StandardScaler()\n",
    "    y_scaler = StandardScaler()\n",
    "    # scaler = MinMaxScaler()\n",
    "    \n",
    "    train = pd.read_csv(\"../data/ML-CUP22-INTERNAL-TR.csv\", header=None, sep=\",\")\n",
    "    test = pd.read_csv(\"../data/ML-CUP22-INTERNAL-TS.csv\", header=None, sep=\",\")\n",
    "    train.drop(0, axis=1, inplace=True)\n",
    "    test.drop(0, axis=1, inplace=True)\n",
    "\n",
    "    x_train = train.iloc[:, :9].to_numpy().astype(np.float64)\n",
    "    y_train = train.iloc[:, 9:].to_numpy().astype(np.float64)\n",
    "\n",
    "    x_test = test.iloc[:, :9].to_numpy().astype(np.float64)\n",
    "    y_test = test.iloc[:, 9:].to_numpy().astype(np.float64) \n",
    "    # x_test_blind = test.to_numpy().astype(np.float64)\n",
    "    \n",
    "    # x_train, x_test, y_train, y_test = train_test_split(x_train, y_train, test_size=0.1, shuffle=True, random_state=7)\n",
    "    \n",
    "    if scale:\n",
    "        x_scaler.fit(x_train)\n",
    "        x_train = x_scaler.transform(x_train)\n",
    "        x_test = x_scaler.transform(x_test)\n",
    "        \n",
    "        y_scaler.fit(y_train)\n",
    "        y_train = y_scaler.transform(y_train)\n",
    "        y_test = y_scaler.transform(y_test)\n",
    "        \n",
    "        \n",
    "    return x_train, y_train, x_test, y_test #, x_test_blind\n",
    "    \n",
    "    \n",
    "    \n",
    "def load_dataset(dataset, encode=True):\n",
    "    assert dataset in [\"monks1\", \"monks2\", \"monks3\", \"cup\"]\n",
    "    \n",
    "    if dataset == \"monks1\":\n",
    "        return load_monks(\"./../data/monks-1\", encode)\n",
    "    elif dataset == \"monks2\":\n",
    "        return load_monks(\"./../data/monks-2\", encode)\n",
    "    elif dataset == \"monks3\":\n",
    "        return load_monks(\"./../data/monks-3\", encode)\n",
    "    else:\n",
    "        return load_cup(encode)"
   ]
  },
  {
   "cell_type": "code",
   "execution_count": 85,
   "id": "68a4b4e1",
   "metadata": {},
   "outputs": [],
   "source": [
    "train_acc = []\n",
    "train_loss = []\n",
    "test_acc = []\n",
    "test_loss = []\n",
    "\n",
    "def median_index(array):\n",
    "    n = len(array)\n",
    "    med_idx = np.argsort(array)[ceil((n-1)/2)]\n",
    "    # med_val = array[med_idx]\n",
    "    return med_idx #, med_val\n",
    "\n",
    "def mee(y_true_t, y_pred_t):\n",
    "    return tf.reduce_mean(tf.sqrt(tf.reduce_sum(tf.square(y_true_t - y_pred_t), axis=1)))\n",
    "    \n",
    "    \n",
    "def mse(y_true_t, y_pred_t):\n",
    "    return tf.reduce_mean(tf.reduce_sum(tf.square(y_true_t - y_pred_t), axis=1))\n",
    "\n",
    "\n",
    "def merge_dicts(dicts):\n",
    "    merged = {}\n",
    "    for d in dicts:\n",
    "        merged = {**merged, **d}\n",
    "    return merged\n",
    "\n",
    "\n",
    "def get_attributes_num(dataset):\n",
    "    return 1 if len(dataset.shape) == 1 else dataset.shape[1]\n",
    "\n",
    "\n",
    "def get_params_configurations(params):\n",
    "    \n",
    "    keys = list(params.keys())\n",
    "    keys.remove(\"task\")\n",
    "    keys.remove(\"initialization\")\n",
    "    keys.remove(\"early_stopping\")\n",
    "    keys.remove(\"regularization\")\n",
    "    keys.remove(\"nesterov\")\n",
    "    keys.remove(\"trials_train\")\n",
    "    keys.remove(\"hidden_layers\")\n",
    "    keys.remove(\"trials_final\")\n",
    "    keys.remove(\"learning_rate_decay\")\n",
    "    sorted_keys = sorted(keys)\n",
    "    arguments = []\n",
    "    for key in sorted_keys:\n",
    "        arguments.append(params[key])\n",
    "    \n",
    "    arguments = tuple(arguments)\n",
    "    all_params = list(itertools.product(*arguments))\n",
    "        \n",
    "    configurations = []\n",
    "    \n",
    "    for conf in all_params:\n",
    "        \n",
    "        dict_conf = {}\n",
    "        \n",
    "        for i in range(len(sorted_keys)):\n",
    "            dict_conf[sorted_keys[i]] = conf[i]\n",
    "        dict_conf[\"initialization\"] = params[\"initialization\"]\n",
    "        dict_conf[\"early_stopping\"] = params[\"early_stopping\"]\n",
    "        dict_conf[\"task\"] = params[\"task\"]\n",
    "        dict_conf[\"trials_train\"] = params[\"trials_train\"]\n",
    "        dict_conf[\"trials_final\"] = params[\"trials_final\"]\n",
    "        dict_conf[\"nesterov\"] = params[\"nesterov\"]\n",
    "        dict_conf[\"learning_rate_decay\"] = params[\"learning_rate_decay\"]\n",
    "        \n",
    "        # add regularization parameters\n",
    "        for reg in params[\"regularization\"]:\n",
    "            method = reg[\"type\"]\n",
    "            \n",
    "            if method == None:\n",
    "                reg_dict_conf = dict_conf.copy()\n",
    "                reg_dict_conf[\"regularization\"] = {\n",
    "                    \"method\": None\n",
    "                }\n",
    "                configurations.append(reg_dict_conf)\n",
    "                continue\n",
    "            \n",
    "            for val in reg[\"value\"]:\n",
    "                reg_dict_conf = dict_conf.copy()\n",
    "                reg_dict_conf[\"regularization\"] = {\n",
    "                    \"method\": method,\n",
    "                    \"value\": val\n",
    "                }\n",
    "        \n",
    "                configurations.append(reg_dict_conf)\n",
    "            \n",
    "        \n",
    "    return configurations\n",
    "\n",
    "\n",
    "def get_callbacks(config):\n",
    "    \n",
    "    lr_decay = config[\"learning_rate_decay\"]\n",
    "    early_stopping = config[\"early_stopping\"]\n",
    "    \n",
    "    callbacks = []\n",
    "    \n",
    "    if early_stopping != None:\n",
    "        early_stop = EarlyStopping(\n",
    "            monitor=early_stopping[\"monitor\"], \n",
    "            patience=early_stopping[\"patience\"], \n",
    "            min_delta=early_stopping[\"delta\"], \n",
    "        )\n",
    "        callbacks.append(early_stop)\n",
    "\n",
    "    if lr_decay != None:\n",
    "        decay_epochs = lr_decay[\"epochs\"]\n",
    "        lr_final = lr_decay[\"lr_final\"]\n",
    "        linear_scheduler = get_linear_scheduler(decay_epochs, lr_final)\n",
    "        scheduler = LearningRateScheduler(linear_scheduler)\n",
    "        callbacks.append(scheduler)\n",
    "        \n",
    "    return callbacks if callbacks != [] else None\n",
    "        \n",
    "    \n",
    "class TestCallback(tf.keras.callbacks.Callback):\n",
    "    def __init__(self, x_test, y_test, task):\n",
    "        self.x_test = x_test\n",
    "        self.y_test = y_test\n",
    "        self.task = task\n",
    "\n",
    "    def on_epoch_end(self, epoch, logs):        \n",
    "        if self.task == \"classification\":\n",
    "            loss, acc = self.model.evaluate(self.x_test, self.y_test, verbose=0)\n",
    "            logs['test_accuracy'] = acc\n",
    "            logs[\"test_loss\"] = loss\n",
    "        if self.task == \"regression\":\n",
    "            mse_test, mee_test = self.model.evaluate(self.x_test, self.y_test, verbose=0)\n",
    "            logs['test_loss'] = mse_test\n",
    "            logs[\"test_mee\"] = mee_test\n",
    "\n",
    "\n",
    "def get_layers_configurations(params, configurations):\n",
    "    \n",
    "    layers_list = params[\"hidden_layers\"]\n",
    "        \n",
    "    layers_params_confs = []\n",
    "    \n",
    "    for layers in layers_list:\n",
    "        \n",
    "        layers_conf = {}\n",
    "        \n",
    "        for i in range(len(layers)):\n",
    "            \n",
    "            units, activation = layers[i]\n",
    "            \n",
    "            layers_conf[f\"units_{i+1}\"] = units\n",
    "            layers_conf[f\"activations_{i+1}\"] = activation\n",
    "            \n",
    "        layers_params_confs.append(layers_conf)\n",
    "        \n",
    "    \n",
    "    new_configurations = []\n",
    "    \n",
    "    \n",
    "    for conf in configurations:\n",
    "        \n",
    "        for layers_conf in layers_params_confs:\n",
    "            \n",
    "            new_conf = conf\n",
    "            new_conf.update(layers_conf)\n",
    "            new_configurations.append(new_conf)\n",
    "            \n",
    "    \n",
    "    \n",
    "    \n",
    "    '''layers = params[\"layers\"]\n",
    "    layers_params_confs = []\n",
    "    \n",
    "    for n_layer in range(len(layers)):\n",
    "        layers_params_confs.append([]) \n",
    "    \n",
    "    for i in range(len(layers)):\n",
    "        layer = layers[i]\n",
    "        activations = layer[\"activations\"]\n",
    "        units = layer[\"units\"]\n",
    "        layer_confs = list(itertools.product(activations, units))\n",
    "        for conf in layer_confs:\n",
    "            conf_dict = {\n",
    "                f\"activations_{i+1}\": conf[0],\n",
    "                f\"units_{i+1}\": conf[1]\n",
    "            }\n",
    "            layers_params_confs[i].append(conf_dict)\n",
    "        \n",
    "    layers_confs = []\n",
    "    for i in range(len(layers_params_confs)):\n",
    "        confs = layers_params_confs[:i+1]\n",
    "        confs = tuple(confs)\n",
    "        confs = list(itertools.product(*confs))\n",
    "        for conf in confs:\n",
    "            layers_confs.append(merge_dicts(conf))'''\n",
    "                \n",
    "    return new_configurations\n",
    "\n",
    "\n",
    "\n",
    "def get_configurations(params):\n",
    "    \n",
    "    configurations = get_params_configurations(params)\n",
    "    layers_confs = get_layers_configurations(params, configurations)\n",
    "    return layers_confs\n",
    "    \n",
    "    '''configurations = get_params_configurations(params)\n",
    "    layers_confs = get_layers_configurations(params, configurations)\n",
    "    configurations = list(itertools.product(configurations, layers_confs))\n",
    "    configurations_merged = []\n",
    "    \n",
    "    for conf in configurations:\n",
    "        configurations_merged.append(merge_dicts(conf))\n",
    "        \n",
    "    \n",
    "    return configurations_merged'''\n",
    "\n",
    "            \n",
    "\n",
    "def get_linear_scheduler(epochs, lr_final):\n",
    "    \n",
    "    def linear_scheduler(epoch, lr):\n",
    "        if (epoch < epochs):\n",
    "            alpha = epoch/epochs\n",
    "            return (1-alpha)*lr + alpha*lr_final\n",
    "        else:\n",
    "            return lr_final\n",
    "        \n",
    "    return linear_scheduler\n",
    "    \n",
    "\n",
    "def get_model(config, input_size, output_size):\n",
    "    \n",
    "    lr = config[\"learning_rate\"]\n",
    "    momentum = config[\"momentum\"]\n",
    "    init_method = config[\"initialization\"][\"type\"]\n",
    "    task = config[\"task\"]\n",
    "    nesterov = config[\"nesterov\"]\n",
    "    \n",
    "    reg_method = config[\"regularization\"][\"method\"]\n",
    "    \n",
    "    if reg_method == \"l1\":\n",
    "        reg_value = config[\"regularization\"][\"value\"]\n",
    "        reg = l1(reg_value)\n",
    "    elif reg_method == \"l2\":\n",
    "        reg_value = config[\"regularization\"][\"value\"]\n",
    "        reg = l2(reg_value)\n",
    "    else:\n",
    "        reg = None\n",
    "    \n",
    "    \n",
    "    init = None\n",
    "    if init_method == \"uniform\":\n",
    "        min_val = config[\"initialization\"][\"min\"]\n",
    "        max_val = config[\"initialization\"][\"max\"]\n",
    "        init = initializers.RandomUniform(minval=min_val, maxval=max_val, seed=None)\n",
    "    if init_method == \"normal\":\n",
    "        mean = config[\"initialization\"][\"mean\"]\n",
    "        std = config[\"initialization\"][\"std\"]\n",
    "        init = initializers.RandomNormal(mean=mean, stddev=std, seed=None)\n",
    "        \n",
    "    \n",
    "    if momentum != None:\n",
    "        optimizer = SGD(learning_rate=lr, momentum=momentum, nesterov=nesterov)\n",
    "    else:\n",
    "        optimizer = SGD(learning_rate=lr)\n",
    "    \n",
    "    n_layers = 0\n",
    "    for key in config.keys():\n",
    "        if key.startswith(\"units_\"):\n",
    "            n_layers += 1\n",
    "\n",
    "    model = Sequential()\n",
    "    model.add(Input(input_size))\n",
    "    \n",
    "    for l in range(1,n_layers+1):\n",
    "        activation = config[f\"activations_{l}\"]\n",
    "        n_units = config[f\"units_{l}\"]\n",
    "        \n",
    "        if init != None:\n",
    "            model.add(Dense(n_units, activation=activation,\n",
    "                            kernel_regularizer=reg, bias_regularizer=reg,\n",
    "                            kernel_initializer = init, bias_initializer=init))\n",
    "        else:\n",
    "            model.add(Dense(n_units, activation=activation,\n",
    "                            kernel_regularizer=reg, bias_regularizer=reg))\n",
    "\n",
    "        \n",
    "        \n",
    "    if task == \"classification\":\n",
    "        \n",
    "        if init != None:\n",
    "            model.add(Dense(output_size, activation=\"sigmoid\",\n",
    "                            kernel_regularizer=reg, bias_regularizer=reg,\n",
    "                            kernel_initializer = init, bias_initializer=init))\n",
    "        else:\n",
    "            model.add(Dense(output_size, activation=\"sigmoid\",\n",
    "                            kernel_regularizer=reg, bias_regularizer=reg))\n",
    "        \n",
    "        model.compile(optimizer = optimizer, loss = 'mean_squared_error', metrics = ['accuracy'])\n",
    "        \n",
    "    elif task == \"regression\":\n",
    "        \n",
    "        if init != None:\n",
    "            model.add(Dense(output_size, activation=\"linear\",\n",
    "                            kernel_regularizer=reg, bias_regularizer=reg,\n",
    "                            kernel_initializer = init, bias_initializer = init))\n",
    "        else:\n",
    "            model.add(Dense(output_size, activation=\"linear\",\n",
    "                            kernel_regularizer=reg, bias_regularizer=reg))\n",
    "        \n",
    "        model.compile(optimizer = optimizer, loss = 'mean_squared_error', metrics = [mee])\n",
    "        \n",
    "    return model\n",
    "    \n",
    "    \n",
    "def fit_model_k_fold(x_train, y_train, config, n_folds):\n",
    "    \n",
    "    task = config[\"task\"]\n",
    "    \n",
    "    if task == \"classification\":\n",
    "        train_metric = \"accuracy\"\n",
    "        val_metric = \"val_accuracy\"\n",
    "    elif task == \"regression\":\n",
    "        train_metric = \"mee\"\n",
    "        val_metric = \"val_mee\"\n",
    "    \n",
    "    trials = config[\"trials_train\"]\n",
    "    max_epochs = config[\"max_epochs\"]\n",
    "    batch_size = config[\"batch_size\"]\n",
    "    \n",
    "    callbacks = get_callbacks(config)\n",
    "\n",
    "    \n",
    "    kf = KFold(n_splits = n_folds, shuffle=True)\n",
    "\n",
    "    train_losses = []\n",
    "    val_losses = []\n",
    "    train_accs = []\n",
    "    val_accs = []\n",
    "\n",
    "    fold = 1\n",
    "    for train_index, val_index in kf.split(x_train, y_train):\n",
    "        \n",
    "        print(f\"\\nExecuting fold {fold}/{n_folds}\")\n",
    "        \n",
    "        input_size = get_attributes_num(x_train)\n",
    "        output_size = get_attributes_num(y_train)\n",
    "        \n",
    "                \n",
    "        x_train_fold = x_train[train_index]\n",
    "        y_train_fold = y_train[train_index]\n",
    "\n",
    "        x_val_fold = x_train[val_index]\n",
    "        y_val_fold = y_train[val_index]\n",
    "\n",
    "        \n",
    "        trials_val_loss = []\n",
    "        trials_train_loss = []\n",
    "        trials_val_acc = []\n",
    "        trials_train_acc = []\n",
    "        \n",
    "        with tqdm(total=trials) as pbar:\n",
    "            for trial in range(trials):\n",
    "                model = get_model(config, input_size, output_size)\n",
    "                history = model.fit(x_train_fold, y_train_fold, epochs=max_epochs,\n",
    "                                    validation_data=(x_val_fold, y_val_fold),\n",
    "                                    callbacks=callbacks, verbose = 0)\n",
    "\n",
    "                trial_train_loss = history.history[\"loss\"]\n",
    "                trial_val_loss = history.history[\"val_loss\"]         \n",
    "                trial_train_acc = history.history[train_metric]\n",
    "                trial_val_acc = history.history[val_metric]\n",
    "\n",
    "                trials_val_loss.append(trial_val_loss[-1])\n",
    "                trials_train_loss.append(trial_train_loss[-1])\n",
    "                trials_val_acc.append(trial_val_acc[-1])\n",
    "                trials_train_acc.append(trial_train_acc[-1])\n",
    "\n",
    "                pbar.update(1)\n",
    "            \n",
    "        # get the median metrics among the trials\n",
    "        med_idx = median_index(trials_val_loss)\n",
    "        med_val_loss = trials_val_loss[med_idx]\n",
    "        med_train_loss = trials_train_loss[med_idx]\n",
    "        med_val_acc = trials_val_acc[med_idx]\n",
    "        med_train_acc = trials_train_acc[med_idx]\n",
    "        std_val_loss = np.std(trials_val_loss)\n",
    "        std_train_loss = np.std(trials_train_loss)\n",
    "        std_val_acc = np.std(trials_val_acc)\n",
    "        std_train_acc = np.std(trials_train_acc)\n",
    "\n",
    "        print(f\"Fold {fold}/{n_folds} median val_loss: {med_val_loss}, std val_loss {std_val_loss}\")\n",
    "        print(f\"Fold {fold}/{n_folds} median train_loss: {med_train_loss}, std train_loss {std_train_loss}\")\n",
    "        print(f\"Fold {fold}/{n_folds} median {val_metric}: {med_val_acc}, std {val_metric} {std_val_acc}\")\n",
    "        print(f\"Fold {fold}/{n_folds} median train_{train_metric}: {med_train_acc}, train_{train_metric} {std_train_acc}\")\n",
    "            \n",
    "        train_losses.append(med_train_loss)\n",
    "        val_losses.append(med_val_loss)\n",
    "        val_accs.append(med_val_acc)\n",
    "        train_accs.append(med_train_acc)\n",
    "        \n",
    "        fold += 1\n",
    "        \n",
    "    mean_train_loss = np.mean(train_losses)\n",
    "    mean_val_loss = np.mean(val_losses)\n",
    "    mean_train_acc = np.mean(train_accs)\n",
    "    mean_val_acc = np.mean(val_accs)\n",
    "    std_train_loss = np.std(train_losses)\n",
    "    std_val_loss = np.std(val_losses)\n",
    "    std_train_acc = np.std(train_accs)\n",
    "    std_val_acc = np.std(val_accs)\n",
    "    \n",
    "    print(f\"\\nMean val_loss: {mean_val_loss}, std val_loss: {std_val_loss}\")\n",
    "    print(f\"Mean train_loss: {mean_train_loss}, std train_loss: {std_train_loss}\")\n",
    "    print(f\"Mean {val_metric}: {mean_val_acc}, std {val_metric}: {std_val_acc}\")\n",
    "    print(f\"Mean train_{train_metric}: {mean_val_acc}, std train_{train_metric}: {std_train_acc}\")\n",
    "    \n",
    "    return mean_val_loss\n",
    "\n",
    "\n",
    "\n",
    "\n",
    "def fit_model_hold_out(x_train, y_train, config, val_split):\n",
    "    \n",
    "    task = config[\"task\"]\n",
    "    \n",
    "    if task == \"classification\":\n",
    "        train_metric = \"accuracy\"\n",
    "        val_metric = \"val_accuracy\"\n",
    "    elif task == \"regression\":\n",
    "        train_metric = \"mee\"\n",
    "        val_metric = \"val_mee\"\n",
    "        \n",
    "    trials = config[\"trials_train\"]\n",
    "    input_size = get_attributes_num(x_train)\n",
    "    output_size = get_attributes_num(y_train)\n",
    "    \n",
    "    \n",
    "    max_epochs = config[\"max_epochs\"]\n",
    "    batch_size = config[\"batch_size\"]\n",
    "\n",
    "    \n",
    "    callbacks = get_callbacks(config)\n",
    "    \n",
    "    if task == \"classification\":\n",
    "        stratify = y_train\n",
    "    else:\n",
    "        stratify = None\n",
    "        \n",
    "        \n",
    "    x_train, x_val, y_train, y_val = train_test_split(x_train, y_train, test_size=val_split, shuffle=True, stratify=stratify)\n",
    "\n",
    "    \n",
    "    trials_val_loss = []\n",
    "    trials_train_loss = []\n",
    "    trials_val_acc = []\n",
    "    trials_train_acc = []\n",
    "        \n",
    "    with tqdm(total=trials) as pbar:\n",
    "        for trial in range(trials):            \n",
    "            model = get_model(config, input_size, output_size)\n",
    "            history = model.fit(x_train, y_train, epochs=max_epochs, batch_size=batch_size,\n",
    "                                verbose=0, validation_data=(x_val, y_val), callbacks=callbacks)\n",
    "            \n",
    "\n",
    "            trial_train_loss = history.history[\"loss\"]\n",
    "            trial_val_loss = history.history[\"val_loss\"]         \n",
    "            trial_train_acc = history.history[train_metric]\n",
    "            trial_val_acc = history.history[val_metric]\n",
    "            \n",
    "            trials_val_loss.append(trial_val_loss[-1])\n",
    "            trials_train_loss.append(trial_train_loss[-1])\n",
    "            trials_val_acc.append(trial_val_acc[-1])\n",
    "            trials_train_acc.append(trial_train_acc[-1])\n",
    "            \n",
    "            pbar.update(1)\n",
    "    \n",
    "    # get the median metrics among the trials\n",
    "    med_idx = median_index(trials_val_loss)\n",
    "    med_val_loss = trials_val_loss[med_idx]\n",
    "    med_train_loss = trials_train_loss[med_idx]\n",
    "    med_val_acc = trials_val_acc[med_idx]\n",
    "    med_train_acc = trials_train_acc[med_idx]\n",
    "    std_val_loss = np.std(trials_val_loss)\n",
    "    std_train_loss = np.std(trials_train_loss)\n",
    "    std_val_acc = np.std(trials_val_acc)\n",
    "    std_train_acc = np.std(trials_train_acc)\n",
    "\n",
    "    print(f\"\\nMedian val_loss: {med_val_loss}, std val_loss {std_val_loss}\")\n",
    "    print(f\"Median train_loss: {med_train_loss}, std train_loss {std_train_loss}\")\n",
    "    print(f\"Median {val_metric}: {med_val_acc}, std {val_metric} {std_val_acc}\")\n",
    "    print(f\"Median train_{train_metric}: {med_train_acc}, train_{train_metric} {std_train_acc}\")\n",
    "    \n",
    "    return med_val_loss\n",
    "    \n",
    "    \n",
    "\n",
    "def fit_final_model(x_train, y_train, x_test, y_test, config):\n",
    "    global y_scaler\n",
    "    global train_acc\n",
    "    global test_acc\n",
    "    global train_loss\n",
    "    global test_loss\n",
    "    \n",
    "    task = config[\"task\"]\n",
    "    trails = config[\"trials_final\"]\n",
    "    \n",
    "    if task == \"classification\":\n",
    "        train_metric = \"accuracy\"\n",
    "        val_metric = \"val_accuracy\"\n",
    "        test_metric = \"test_accuracy\"\n",
    "    elif task == \"regression\":\n",
    "        train_metric = \"mee\"\n",
    "        val_metric = \"val_mee\"\n",
    "        test_metric = \"test_mee\"\n",
    "    val_loss = \"val_mse\"\n",
    "    train_loss = \"mse\"\n",
    "    test_loss = \"test_mse\"\n",
    "\n",
    "    max_epochs = config[\"max_epochs\"]\n",
    "    batch_size = config[\"batch_size\"]\n",
    "    trials = config[\"trials_final\"]\n",
    "    \n",
    "    '''if config[\"early_stopping\"][\"monitor\"] == \"val_loss\":\n",
    "        config[\"early_stopping\"][\"monitor\"] = \"loss\"'''\n",
    "        \n",
    "    callbacks = get_callbacks(config)\n",
    "    callbacks.append(TestCallback(x_test, y_test, task))\n",
    "    \n",
    "    input_size = get_attributes_num(x_train)\n",
    "    output_size = get_attributes_num(y_train)\n",
    "    \n",
    "    \n",
    "    trials_val_loss = []\n",
    "    trials_train_loss = []\n",
    "    trials_val_acc = []\n",
    "    trials_train_acc = []\n",
    "    trials_test_acc = []\n",
    "    trials_test_loss = []\n",
    "    \n",
    "    trials_history_val_loss = []\n",
    "    trials_history_train_loss = []\n",
    "    trials_history_val_acc = []\n",
    "    trials_history_train_acc = []\n",
    "    trials_history_test_acc = []\n",
    "    trials_history_test_loss = []\n",
    "    \n",
    "    models = []\n",
    "    \n",
    "    if task == \"classification\":\n",
    "        stratify = y_train\n",
    "    else:\n",
    "        stratify = None\n",
    "    \n",
    "    x_train, x_val, y_train, y_val = train_test_split(x_train, y_train, test_size=0.2, shuffle=True, stratify=stratify)\n",
    "    \n",
    "    with tqdm(total=trials) as pbar:\n",
    "        for trial in range(trials):\n",
    "            \n",
    "            model = get_model(config, input_size, output_size)\n",
    "            history = model.fit(x_train, y_train, epochs=max_epochs, validation_data=(x_val, y_val),\n",
    "                                batch_size=batch_size, verbose=0, callbacks=callbacks)\n",
    "\n",
    "            models.append(model)\n",
    "            \n",
    "            trial_train_loss = history.history[\"loss\"]\n",
    "            trial_val_loss = history.history[\"val_loss\"]\n",
    "            trial_test_loss = history.history[\"test_loss\"]\n",
    "            trial_train_acc = history.history[train_metric]\n",
    "            trial_val_acc = history.history[val_metric]\n",
    "            trial_test_acc = history.history[test_metric]\n",
    "\n",
    "            trials_val_loss.append(trial_val_loss[-1])\n",
    "            trials_train_loss.append(trial_train_loss[-1])\n",
    "            trials_test_loss.append(trial_test_loss[-1])\n",
    "            trials_val_acc.append(trial_val_acc[-1])\n",
    "            trials_train_acc.append(trial_train_acc[-1])\n",
    "            trials_test_acc.append(trial_test_acc[-1])\n",
    "            \n",
    "\n",
    "            trials_history_val_loss.append(trial_val_loss)\n",
    "            trials_history_train_loss.append(trial_train_loss)\n",
    "            trials_history_test_loss.append(trial_test_loss)\n",
    "            trials_history_val_acc.append(trial_val_acc)\n",
    "            trials_history_train_acc.append(trial_train_acc)\n",
    "            trials_history_test_acc.append(trial_test_acc)\n",
    "            \n",
    "\n",
    "            print(f\"Trial {trial+1}/{trials} {val_loss}: {trial_val_loss[-1]}\")\n",
    "            print(f\"Trial {trial+1}/{trials} train_{train_loss}: {trial_train_loss[-1]}\")\n",
    "            # print(f\"Trial {trial+1}/{trials} {test_loss}: {trial_test_loss[-1]}\")\n",
    "            print(f\"Trial {trial+1}/{trials} {val_metric}: {trial_val_acc[-1]}\")\n",
    "            print(f\"Trial {trial+1}/{trials} train_{train_metric}: {trial_train_acc[-1]}\")\n",
    "            # print(f\"Trial {trial+1}/{trials} {test_metric}: {trial_test_acc[-1]}\")\n",
    "\n",
    "            pbar.update(1)\n",
    "        \n",
    "    # get the mean metrics among the trials\n",
    "    med_idx = median_index(trials_val_loss)\n",
    "    \n",
    "    med_model = models[med_idx]\n",
    "    \n",
    "    med_val_loss = trials_val_loss[med_idx]\n",
    "    med_train_loss = trials_train_loss[med_idx]\n",
    "    med_val_acc = trials_val_acc[med_idx]\n",
    "    med_train_acc = trials_train_acc[med_idx]\n",
    "    std_val_loss = np.std(trials_val_loss)\n",
    "    std_train_loss = np.std(trials_train_loss)\n",
    "    std_val_acc = np.std(trials_val_acc)\n",
    "    std_train_acc = np.std(trials_train_acc)\n",
    "    \n",
    "    print(f\"\\nMedian {val_loss}: {med_val_loss}, std {val_loss}: {std_val_loss}\")\n",
    "    print(f\"Median train_{train_loss}: {med_train_loss}, std train_{train_loss}: {std_train_loss}\")\n",
    "    print(f\"Median {val_metric}: {med_val_acc}, std {val_metric}: {std_val_acc}\")\n",
    "    print(f\"Median train_{train_metric}: {med_train_acc}, std train_{train_metric}: {std_train_acc}\")\n",
    "        \n",
    "    train_acc = trials_history_train_acc[med_idx]\n",
    "    test_acc = trials_history_test_acc[med_idx]\n",
    "    val_acc = trials_history_val_acc[med_idx]\n",
    "    \n",
    "    train_loss = trials_history_train_loss[med_idx]\n",
    "    test_loss = trials_history_test_loss[med_idx]\n",
    "    val_loss = trials_history_val_loss[med_idx]\n",
    "    \n",
    "    if task == \"regression\":\n",
    "    \n",
    "        y_pred = med_model.predict(x_val)\n",
    "        y_pred = y_scaler.inverse_transform(y_pred)\n",
    "        y_val = y_scaler.inverse_transform(y_val)\n",
    "\n",
    "\n",
    "        mse_val = mse(y_val, y_pred)\n",
    "        mee_val = mee(y_val, y_pred)\n",
    "\n",
    "        print(f\"\\nValidation MSE: {mse_val}\")\n",
    "        print(f\"Validation MEE: {mee_val}\")\n",
    "    \n",
    "    \n",
    "    print(f\"\\nMedian model train_loss: {train_loss[-1]}\")\n",
    "    print(f\"Median model val_loss: {val_loss[-1]}\")\n",
    "    \n",
    "    print(f\"\\nMedian model train_{train_metric}: {train_acc[-1]}\")\n",
    "    print(f\"Median model {val_metric}: {val_acc[-1]}\")\n",
    "    \n",
    "    \n",
    "    # plot_curves(train_acc, f\"Training {train_metric}\", test_acc, f\"Test {train_metric}\")\n",
    "    plot_curves(train_acc, f\"Training {train_metric}\", val_acc, f\"Validation {val_metric}\")\n",
    "    \n",
    "    # plot_curves(train_loss, \"Train loss\", test_loss, \"Test loss\")\n",
    "    plot_curves(train_loss, \"Train loss\", val_loss, \"Validation loss\")\n",
    "    \n",
    "    \n",
    "    return med_model    \n",
    "    \n",
    "\n",
    "def fit_model(x_train, y_train, config, validation):\n",
    "    if validation[\"type\"] == \"k-fold\":\n",
    "        val_loss = fit_model_k_fold(x_train, y_train, config, validation[\"n_folds\"])\n",
    "    elif validation[\"type\"] == \"hold-out\":\n",
    "        val_loss = fit_model_hold_out(x_train, y_train, config, validation[\"val_split\"])\n",
    "    return val_loss\n",
    "\n",
    "\n",
    "\n",
    "def test_model(model, x_test, y_test):\n",
    "    input_size = x_test.shape[1]\n",
    "    result = model.evaluate(x_test, y_test)\n",
    "    print(result)\n",
    "    \n",
    "\n",
    "def assess_model(model, x_train, y_train, x_test, y_test, scale=True):\n",
    "    global train_acc\n",
    "    global test_acc\n",
    "    global train_loss\n",
    "    global test_loss\n",
    "    \n",
    "    \n",
    "    y_train_pred = model.predict(x_train)\n",
    "    y_test_pred = model.predict(x_test)\n",
    "    \n",
    "    if scale:\n",
    "        y_train_pred = y_scaler.inverse_transform(y_train_pred)\n",
    "        y_train  = y_scaler.inverse_transform(y_train)\n",
    "        y_test_pred = y_scaler.inverse_transform(y_test_pred)\n",
    "        y_test  = y_scaler.inverse_transform(y_test)\n",
    "\n",
    "    mse_train = mse(y_train, y_train_pred)\n",
    "    mse_test = mse(y_test, y_test_pred)\n",
    "\n",
    "    mee_train = mee(y_train, y_train_pred)\n",
    "    mee_test = mee(y_test, y_test_pred)\n",
    "\n",
    "    print(f\"Train MSE: {mse_train}\")\n",
    "    print(f\"Train MEE: {mee_train}\")\n",
    "    print(f\"Test MSE: {mse_test}\")\n",
    "    print(f\"Test MEE: {mee_test}\")\n",
    "    \n",
    "    plot_curves(train_acc, f\"Train MEE\", test_acc, f\"Test MEE\")\n",
    "    plot_curves(train_loss, \"Train loss\", test_loss, \"Test loss\")\n",
    "\n",
    "\n",
    "    \n",
    "def model_selection(configurations, x_train, y_train, validation):\n",
    "        \n",
    "    best_loss = float(\"inf\")\n",
    "    best_conf = None\n",
    "    \n",
    "    idx = 1\n",
    "    n_confs = len(configurations)\n",
    "    for config in configurations:\n",
    "\n",
    "        print(f\"Testing configuration {idx}/{n_confs}:\\n{config}\")\n",
    "        val_loss = fit_model(x_train, y_train, config, validation)\n",
    "\n",
    "        if val_loss < best_loss:\n",
    "            best_loss = val_loss;\n",
    "            best_conf = config\n",
    "        idx += 1\n",
    "        \n",
    "        print(\"\\n\\n\")\n",
    "\n",
    "            \n",
    "    print(\"\\n\\n\")\n",
    "    print(f\"Best configuration (loss {best_loss}):\\n{best_conf}\")\n",
    "    \n",
    "    return best_conf\n",
    "    \n",
    "\n",
    "def grid_search(params, x_train, y_train, x_test, y_test, validation={\"type\": \"hold-out\", \"val_split\": 0.2}):\n",
    "    set_random_seeds()\n",
    "    configurations = get_configurations(params)    \n",
    "    best_conf = model_selection(configurations, x_train, y_train, validation)\n",
    "    model = fit_final_model(x_train, y_train, x_test, y_test, best_conf)\n",
    "        \n",
    "    return model"
   ]
  },
  {
   "cell_type": "markdown",
   "id": "58a98502",
   "metadata": {},
   "source": [
    "# ML Cup"
   ]
  },
  {
   "cell_type": "code",
   "execution_count": 86,
   "id": "cebb8e47",
   "metadata": {},
   "outputs": [
    {
     "name": "stdout",
     "output_type": "stream",
     "text": [
      "(1194, 9) (1194, 2)\n",
      "(298, 9) (298, 2)\n"
     ]
    }
   ],
   "source": [
    "x_train, y_train, x_test, y_test = load_dataset(\"cup\", True)\n",
    "print(x_train.shape, y_train.shape)\n",
    "print(x_test.shape, y_test.shape)\n",
    "#print(x_test_blind.shape)"
   ]
  },
  {
   "cell_type": "code",
   "execution_count": 102,
   "id": "1ea9267d",
   "metadata": {},
   "outputs": [],
   "source": [
    "params = {\n",
    "    \"task\": \"regression\",\n",
    "    \"trials_train\": 1,\n",
    "    \"trials_final\": 5,\n",
    "    \"initialization\": {\n",
    "        \"type\": \"default\",\n",
    "    },\n",
    "    \"early_stopping\": {\n",
    "        \"monitor\": \"val_loss\",\n",
    "        \"patience\": 20,\n",
    "        \"delta\": 0.01\n",
    "    },\n",
    "    \"max_epochs\": [500],\n",
    "    \"learning_rate\": [0.1, 0.2, 0.3],\n",
    "    \"batch_size\": [16],\n",
    "    \"nesterov\": False,\n",
    "    \"momentum\": [0.1, 0.2, 0.3, 0.4],\n",
    "    \"learning_rate_decay\": {\n",
    "        \"epochs\": 100,\n",
    "        \"lr_final\": 0.01\n",
    "    },\n",
    "    \"regularization\": [\n",
    "        {\n",
    "            \"type\": \"l1\",\n",
    "            \"value\": [0.001, 0.0001, 0.00001]\n",
    "        }\n",
    "    ],\n",
    "    \"hidden_layers\": [ \n",
    "        [(10, \"tanh\"), (10, \"relu\"), (10, \"tanh\")],\n",
    "        [(25, \"tanh\"), (25, \"relu\"), (25, \"tanh\")],\n",
    "        [(50, \"tanh\"), (50, \"relu\"), (50, \"tanh\")],\n",
    "        [(30, \"tanh\"), (30, \"relu\")],\n",
    "        [(50, \"tanh\"), (50, \"relu\")]\n",
    "    ]\n",
    "}\n",
    "\n",
    "\n",
    "k_fold_val = {\n",
    "    \"type\": \"k-fold\",\n",
    "    \"n_folds\": 4\n",
    "}\n",
    "\n",
    "hold_out_val = {\n",
    "    \"type\": \"hold-out\",\n",
    "    \"val_split\": 0.15\n",
    "}"
   ]
  },
  {
   "cell_type": "code",
   "execution_count": 103,
   "id": "e8b5f6d4",
   "metadata": {
    "scrolled": true
   },
   "outputs": [
    {
     "name": "stdout",
     "output_type": "stream",
     "text": [
      "Testing configuration 1/180:\n",
      "{'batch_size': 16, 'learning_rate': 0.1, 'max_epochs': 500, 'momentum': 0.1, 'initialization': {'type': 'default'}, 'early_stopping': {'monitor': 'val_loss', 'patience': 20, 'delta': 0.01}, 'task': 'regression', 'trials_train': 1, 'trials_final': 5, 'nesterov': False, 'learning_rate_decay': {'epochs': 100, 'lr_final': 0.01}, 'regularization': {'method': 'l1', 'value': 0.001}, 'units_1': 50, 'activations_1': 'tanh', 'units_2': 50, 'activations_2': 'relu', 'units_3': 50, 'activations_3': 'tanh'}\n",
      "\n",
      "Executing fold 1/4\n"
     ]
    },
    {
     "name": "stderr",
     "output_type": "stream",
     "text": [
      "100%|█████████████████████████████████████████████| 1/1 [00:32<00:00, 32.02s/it]\n"
     ]
    },
    {
     "name": "stdout",
     "output_type": "stream",
     "text": [
      "Fold 1/4 median val_loss: 0.24098503589630127, std val_loss 0.0\n",
      "Fold 1/4 median train_loss: 0.23843544721603394, std train_loss 0.0\n",
      "Fold 1/4 median val_mee: 0.3083305358886719, std val_mee 0.0\n",
      "Fold 1/4 median train_mee: 0.309668630361557, train_mee 0.0\n",
      "\n",
      "Executing fold 2/4\n"
     ]
    },
    {
     "name": "stderr",
     "output_type": "stream",
     "text": [
      "100%|█████████████████████████████████████████████| 1/1 [00:32<00:00, 32.50s/it]\n"
     ]
    },
    {
     "name": "stdout",
     "output_type": "stream",
     "text": [
      "Fold 2/4 median val_loss: 0.2297932356595993, std val_loss 0.0\n",
      "Fold 2/4 median train_loss: 0.23939138650894165, std train_loss 0.0\n",
      "Fold 2/4 median val_mee: 0.3088650405406952, std val_mee 0.0\n",
      "Fold 2/4 median train_mee: 0.31668567657470703, train_mee 0.0\n",
      "\n",
      "Executing fold 3/4\n"
     ]
    },
    {
     "name": "stderr",
     "output_type": "stream",
     "text": [
      "100%|█████████████████████████████████████████████| 1/1 [00:34<00:00, 34.84s/it]\n"
     ]
    },
    {
     "name": "stdout",
     "output_type": "stream",
     "text": [
      "Fold 3/4 median val_loss: 0.2629565894603729, std val_loss 0.0\n",
      "Fold 3/4 median train_loss: 0.24040384590625763, std train_loss 0.0\n",
      "Fold 3/4 median val_mee: 0.32997310161590576, std val_mee 0.0\n",
      "Fold 3/4 median train_mee: 0.3066982328891754, train_mee 0.0\n",
      "\n",
      "Executing fold 4/4\n"
     ]
    },
    {
     "name": "stderr",
     "output_type": "stream",
     "text": [
      "100%|█████████████████████████████████████████████| 1/1 [00:34<00:00, 34.05s/it]\n"
     ]
    },
    {
     "name": "stdout",
     "output_type": "stream",
     "text": [
      "Fold 4/4 median val_loss: 0.23247624933719635, std val_loss 0.0\n",
      "Fold 4/4 median train_loss: 0.22251829504966736, std train_loss 0.0\n",
      "Fold 4/4 median val_mee: 0.32724839448928833, std val_mee 0.0\n",
      "Fold 4/4 median train_mee: 0.30837035179138184, train_mee 0.0\n",
      "\n",
      "Mean val_loss: 0.24155277758836746, std val_loss: 0.013029924066834349\n",
      "Mean train_loss: 0.23518724367022514, std train_loss: 0.007347462849900097\n",
      "Mean val_mee: 0.3186042681336403, std val_mee: 0.010054519177319924\n",
      "Mean train_mee: 0.3186042681336403, std train_mee: 0.0038032664020069126\n",
      "\n",
      "\n",
      "\n",
      "Testing configuration 2/180:\n",
      "{'batch_size': 16, 'learning_rate': 0.1, 'max_epochs': 500, 'momentum': 0.1, 'initialization': {'type': 'default'}, 'early_stopping': {'monitor': 'val_loss', 'patience': 20, 'delta': 0.01}, 'task': 'regression', 'trials_train': 1, 'trials_final': 5, 'nesterov': False, 'learning_rate_decay': {'epochs': 100, 'lr_final': 0.01}, 'regularization': {'method': 'l1', 'value': 0.001}, 'units_1': 50, 'activations_1': 'tanh', 'units_2': 50, 'activations_2': 'relu', 'units_3': 50, 'activations_3': 'tanh'}\n",
      "\n",
      "Executing fold 1/4\n"
     ]
    },
    {
     "name": "stderr",
     "output_type": "stream",
     "text": [
      "100%|█████████████████████████████████████████████| 1/1 [00:33<00:00, 33.04s/it]\n"
     ]
    },
    {
     "name": "stdout",
     "output_type": "stream",
     "text": [
      "Fold 1/4 median val_loss: 0.24699100852012634, std val_loss 0.0\n",
      "Fold 1/4 median train_loss: 0.222166046500206, std train_loss 0.0\n",
      "Fold 1/4 median val_mee: 0.3347041606903076, std val_mee 0.0\n",
      "Fold 1/4 median train_mee: 0.3036710321903229, train_mee 0.0\n",
      "\n",
      "Executing fold 2/4\n"
     ]
    },
    {
     "name": "stderr",
     "output_type": "stream",
     "text": [
      "100%|█████████████████████████████████████████████| 1/1 [00:40<00:00, 40.06s/it]\n"
     ]
    },
    {
     "name": "stdout",
     "output_type": "stream",
     "text": [
      "Fold 2/4 median val_loss: 0.23056045174598694, std val_loss 0.0\n",
      "Fold 2/4 median train_loss: 0.2317037582397461, std train_loss 0.0\n",
      "Fold 2/4 median val_mee: 0.30144333839416504, std val_mee 0.0\n",
      "Fold 2/4 median train_mee: 0.3163611590862274, train_mee 0.0\n",
      "\n",
      "Executing fold 3/4\n"
     ]
    },
    {
     "name": "stderr",
     "output_type": "stream",
     "text": [
      "100%|█████████████████████████████████████████████| 1/1 [00:28<00:00, 28.95s/it]\n"
     ]
    },
    {
     "name": "stdout",
     "output_type": "stream",
     "text": [
      "Fold 3/4 median val_loss: 0.2412613481283188, std val_loss 0.0\n",
      "Fold 3/4 median train_loss: 0.23721647262573242, std train_loss 0.0\n",
      "Fold 3/4 median val_mee: 0.3219316005706787, std val_mee 0.0\n",
      "Fold 3/4 median train_mee: 0.3113800585269928, train_mee 0.0\n",
      "\n",
      "Executing fold 4/4\n"
     ]
    },
    {
     "name": "stderr",
     "output_type": "stream",
     "text": [
      "100%|█████████████████████████████████████████████| 1/1 [00:30<00:00, 30.74s/it]\n"
     ]
    },
    {
     "name": "stdout",
     "output_type": "stream",
     "text": [
      "Fold 4/4 median val_loss: 0.23007908463478088, std val_loss 0.0\n",
      "Fold 4/4 median train_loss: 0.22653326392173767, std train_loss 0.0\n",
      "Fold 4/4 median val_mee: 0.3135540783405304, std val_mee 0.0\n",
      "Fold 4/4 median train_mee: 0.3101375997066498, train_mee 0.0\n",
      "\n",
      "Mean val_loss: 0.23722297325730324, std val_loss: 0.007196306726967004\n",
      "Mean train_loss: 0.22940488532185555, std train_loss: 0.005633664656556525\n",
      "Mean val_mee: 0.31790829449892044, std val_mee: 0.012127882036360851\n",
      "Mean train_mee: 0.31790829449892044, std train_mee: 0.004523360622848825\n",
      "\n",
      "\n",
      "\n",
      "Testing configuration 3/180:\n",
      "{'batch_size': 16, 'learning_rate': 0.1, 'max_epochs': 500, 'momentum': 0.1, 'initialization': {'type': 'default'}, 'early_stopping': {'monitor': 'val_loss', 'patience': 20, 'delta': 0.01}, 'task': 'regression', 'trials_train': 1, 'trials_final': 5, 'nesterov': False, 'learning_rate_decay': {'epochs': 100, 'lr_final': 0.01}, 'regularization': {'method': 'l1', 'value': 0.001}, 'units_1': 50, 'activations_1': 'tanh', 'units_2': 50, 'activations_2': 'relu', 'units_3': 50, 'activations_3': 'tanh'}\n",
      "\n",
      "Executing fold 1/4\n"
     ]
    },
    {
     "name": "stderr",
     "output_type": "stream",
     "text": [
      "100%|█████████████████████████████████████████████| 1/1 [00:28<00:00, 28.93s/it]\n"
     ]
    },
    {
     "name": "stdout",
     "output_type": "stream",
     "text": [
      "Fold 1/4 median val_loss: 0.2293887883424759, std val_loss 0.0\n",
      "Fold 1/4 median train_loss: 0.23492431640625, std train_loss 0.0\n",
      "Fold 1/4 median val_mee: 0.29506510496139526, std val_mee 0.0\n",
      "Fold 1/4 median train_mee: 0.31400272250175476, train_mee 0.0\n",
      "\n",
      "Executing fold 2/4\n"
     ]
    },
    {
     "name": "stderr",
     "output_type": "stream",
     "text": [
      "100%|█████████████████████████████████████████████| 1/1 [00:29<00:00, 29.30s/it]\n"
     ]
    },
    {
     "name": "stdout",
     "output_type": "stream",
     "text": [
      "Fold 2/4 median val_loss: 0.24160398542881012, std val_loss 0.0\n",
      "Fold 2/4 median train_loss: 0.23097839951515198, std train_loss 0.0\n",
      "Fold 2/4 median val_mee: 0.3282558023929596, std val_mee 0.0\n",
      "Fold 2/4 median train_mee: 0.3058359920978546, train_mee 0.0\n",
      "\n",
      "Executing fold 3/4\n"
     ]
    },
    {
     "name": "stderr",
     "output_type": "stream",
     "text": [
      "100%|█████████████████████████████████████████████| 1/1 [00:39<00:00, 39.92s/it]\n"
     ]
    },
    {
     "name": "stdout",
     "output_type": "stream",
     "text": [
      "Fold 3/4 median val_loss: 0.24542582035064697, std val_loss 0.0\n",
      "Fold 3/4 median train_loss: 0.2402811497449875, std train_loss 0.0\n",
      "Fold 3/4 median val_mee: 0.3112378716468811, std val_mee 0.0\n",
      "Fold 3/4 median train_mee: 0.311411589384079, train_mee 0.0\n",
      "\n",
      "Executing fold 4/4\n"
     ]
    },
    {
     "name": "stderr",
     "output_type": "stream",
     "text": [
      "100%|█████████████████████████████████████████████| 1/1 [00:29<00:00, 29.16s/it]\n"
     ]
    },
    {
     "name": "stdout",
     "output_type": "stream",
     "text": [
      "Fold 4/4 median val_loss: 0.23719334602355957, std val_loss 0.0\n",
      "Fold 4/4 median train_loss: 0.22744090855121613, std train_loss 0.0\n",
      "Fold 4/4 median val_mee: 0.3326602876186371, std val_mee 0.0\n",
      "Fold 4/4 median train_mee: 0.3094407916069031, train_mee 0.0\n",
      "\n",
      "Mean val_loss: 0.23840298503637314, std val_loss: 0.005964176136344861\n",
      "Mean train_loss: 0.2334061935544014, std train_loss: 0.004770967634611062\n",
      "Mean val_mee: 0.31680476665496826, std val_mee: 0.014883942480775778\n",
      "Mean train_mee: 0.31680476665496826, std train_mee: 0.0029810503422662915\n",
      "\n",
      "\n",
      "\n",
      "Testing configuration 4/180:\n",
      "{'batch_size': 16, 'learning_rate': 0.1, 'max_epochs': 500, 'momentum': 0.1, 'initialization': {'type': 'default'}, 'early_stopping': {'monitor': 'val_loss', 'patience': 20, 'delta': 0.01}, 'task': 'regression', 'trials_train': 1, 'trials_final': 5, 'nesterov': False, 'learning_rate_decay': {'epochs': 100, 'lr_final': 0.01}, 'regularization': {'method': 'l1', 'value': 0.001}, 'units_1': 50, 'activations_1': 'tanh', 'units_2': 50, 'activations_2': 'relu', 'units_3': 50, 'activations_3': 'tanh'}\n",
      "\n",
      "Executing fold 1/4\n"
     ]
    },
    {
     "name": "stderr",
     "output_type": "stream",
     "text": [
      "100%|█████████████████████████████████████████████| 1/1 [00:29<00:00, 29.56s/it]\n"
     ]
    },
    {
     "name": "stdout",
     "output_type": "stream",
     "text": [
      "Fold 1/4 median val_loss: 0.2277812957763672, std val_loss 0.0\n",
      "Fold 1/4 median train_loss: 0.23095020651817322, std train_loss 0.0\n",
      "Fold 1/4 median val_mee: 0.3107224106788635, std val_mee 0.0\n",
      "Fold 1/4 median train_mee: 0.3108186721801758, train_mee 0.0\n",
      "\n",
      "Executing fold 2/4\n"
     ]
    },
    {
     "name": "stderr",
     "output_type": "stream",
     "text": [
      "100%|█████████████████████████████████████████████| 1/1 [00:30<00:00, 30.94s/it]\n"
     ]
    },
    {
     "name": "stdout",
     "output_type": "stream",
     "text": [
      "Fold 2/4 median val_loss: 0.24051737785339355, std val_loss 0.0\n",
      "Fold 2/4 median train_loss: 0.23944327235221863, std train_loss 0.0\n",
      "Fold 2/4 median val_mee: 0.3139815628528595, std val_mee 0.0\n",
      "Fold 2/4 median train_mee: 0.307324081659317, train_mee 0.0\n",
      "\n",
      "Executing fold 3/4\n"
     ]
    },
    {
     "name": "stderr",
     "output_type": "stream",
     "text": [
      "100%|█████████████████████████████████████████████| 1/1 [00:30<00:00, 30.53s/it]\n"
     ]
    },
    {
     "name": "stdout",
     "output_type": "stream",
     "text": [
      "Fold 3/4 median val_loss: 0.23039363324642181, std val_loss 0.0\n",
      "Fold 3/4 median train_loss: 0.2316720187664032, std train_loss 0.0\n",
      "Fold 3/4 median val_mee: 0.2988598346710205, std val_mee 0.0\n",
      "Fold 3/4 median train_mee: 0.3153117597103119, train_mee 0.0\n",
      "\n",
      "Executing fold 4/4\n"
     ]
    },
    {
     "name": "stderr",
     "output_type": "stream",
     "text": [
      "100%|█████████████████████████████████████████████| 1/1 [00:29<00:00, 29.58s/it]\n"
     ]
    },
    {
     "name": "stdout",
     "output_type": "stream",
     "text": [
      "Fold 4/4 median val_loss: 0.25011393427848816, std val_loss 0.0\n",
      "Fold 4/4 median train_loss: 0.23030225932598114, std train_loss 0.0\n",
      "Fold 4/4 median val_mee: 0.33385157585144043, std val_mee 0.0\n",
      "Fold 4/4 median train_mee: 0.3039394021034241, train_mee 0.0\n",
      "\n",
      "Mean val_loss: 0.23720156028866768, std val_loss: 0.008843264418044216\n",
      "Mean train_loss: 0.23309193924069405, std train_loss: 0.0036988153349460404\n",
      "Mean val_mee: 0.314353846013546, std val_mee: 0.01258522718960149\n",
      "Mean train_mee: 0.314353846013546, std train_mee: 0.004215402776812941\n",
      "\n",
      "\n",
      "\n",
      "Testing configuration 5/180:\n",
      "{'batch_size': 16, 'learning_rate': 0.1, 'max_epochs': 500, 'momentum': 0.1, 'initialization': {'type': 'default'}, 'early_stopping': {'monitor': 'val_loss', 'patience': 20, 'delta': 0.01}, 'task': 'regression', 'trials_train': 1, 'trials_final': 5, 'nesterov': False, 'learning_rate_decay': {'epochs': 100, 'lr_final': 0.01}, 'regularization': {'method': 'l1', 'value': 0.001}, 'units_1': 50, 'activations_1': 'tanh', 'units_2': 50, 'activations_2': 'relu', 'units_3': 50, 'activations_3': 'tanh'}\n",
      "\n",
      "Executing fold 1/4\n"
     ]
    },
    {
     "name": "stderr",
     "output_type": "stream",
     "text": [
      "100%|█████████████████████████████████████████████| 1/1 [00:30<00:00, 30.06s/it]\n"
     ]
    },
    {
     "name": "stdout",
     "output_type": "stream",
     "text": [
      "Fold 1/4 median val_loss: 0.2478993684053421, std val_loss 0.0\n",
      "Fold 1/4 median train_loss: 0.23749910295009613, std train_loss 0.0\n",
      "Fold 1/4 median val_mee: 0.32353711128234863, std val_mee 0.0\n",
      "Fold 1/4 median train_mee: 0.30803999304771423, train_mee 0.0\n",
      "\n",
      "Executing fold 2/4\n"
     ]
    },
    {
     "name": "stderr",
     "output_type": "stream",
     "text": [
      "100%|█████████████████████████████████████████████| 1/1 [00:29<00:00, 29.53s/it]\n"
     ]
    },
    {
     "name": "stdout",
     "output_type": "stream",
     "text": [
      "Fold 2/4 median val_loss: 0.23856554925441742, std val_loss 0.0\n",
      "Fold 2/4 median train_loss: 0.2416992038488388, std train_loss 0.0\n",
      "Fold 2/4 median val_mee: 0.3130180835723877, std val_mee 0.0\n",
      "Fold 2/4 median train_mee: 0.3139806091785431, train_mee 0.0\n",
      "\n",
      "Executing fold 3/4\n"
     ]
    },
    {
     "name": "stderr",
     "output_type": "stream",
     "text": [
      "100%|█████████████████████████████████████████████| 1/1 [00:29<00:00, 29.75s/it]\n"
     ]
    },
    {
     "name": "stdout",
     "output_type": "stream",
     "text": [
      "Fold 3/4 median val_loss: 0.2465980052947998, std val_loss 0.0\n",
      "Fold 3/4 median train_loss: 0.22935828566551208, std train_loss 0.0\n",
      "Fold 3/4 median val_mee: 0.31468772888183594, std val_mee 0.0\n",
      "Fold 3/4 median train_mee: 0.30496716499328613, train_mee 0.0\n",
      "\n",
      "Executing fold 4/4\n"
     ]
    },
    {
     "name": "stderr",
     "output_type": "stream",
     "text": [
      "100%|█████████████████████████████████████████████| 1/1 [00:28<00:00, 28.82s/it]\n"
     ]
    },
    {
     "name": "stdout",
     "output_type": "stream",
     "text": [
      "Fold 4/4 median val_loss: 0.2361312210559845, std val_loss 0.0\n",
      "Fold 4/4 median train_loss: 0.2336445152759552, std train_loss 0.0\n",
      "Fold 4/4 median val_mee: 0.31491392850875854, std val_mee 0.0\n",
      "Fold 4/4 median train_mee: 0.31055325269699097, train_mee 0.0\n",
      "\n",
      "Mean val_loss: 0.24229853600263596, std val_loss: 0.0050454366389597214\n",
      "Mean train_loss: 0.23555027693510056, std train_loss: 0.004571102394700496\n",
      "Mean val_mee: 0.3165392130613327, std val_mee: 0.004106046636771769\n",
      "Mean train_mee: 0.3165392130613327, std train_mee: 0.003309484388621674\n",
      "\n",
      "\n",
      "\n",
      "Testing configuration 6/180:\n",
      "{'batch_size': 16, 'learning_rate': 0.1, 'max_epochs': 500, 'momentum': 0.1, 'initialization': {'type': 'default'}, 'early_stopping': {'monitor': 'val_loss', 'patience': 20, 'delta': 0.01}, 'task': 'regression', 'trials_train': 1, 'trials_final': 5, 'nesterov': False, 'learning_rate_decay': {'epochs': 100, 'lr_final': 0.01}, 'regularization': {'method': 'l1', 'value': 0.0001}, 'units_1': 50, 'activations_1': 'tanh', 'units_2': 50, 'activations_2': 'relu', 'units_3': 50, 'activations_3': 'tanh'}\n",
      "\n",
      "Executing fold 1/4\n"
     ]
    },
    {
     "name": "stderr",
     "output_type": "stream",
     "text": [
      "100%|█████████████████████████████████████████████| 1/1 [00:02<00:00,  2.66s/it]\n"
     ]
    },
    {
     "name": "stdout",
     "output_type": "stream",
     "text": [
      "Fold 1/4 median val_loss: 0.15180782973766327, std val_loss 0.0\n",
      "Fold 1/4 median train_loss: 0.14833496510982513, std train_loss 0.0\n",
      "Fold 1/4 median val_mee: 0.30459064245224, std val_mee 0.0\n",
      "Fold 1/4 median train_mee: 0.3009890615940094, train_mee 0.0\n",
      "\n",
      "Executing fold 2/4\n"
     ]
    },
    {
     "name": "stderr",
     "output_type": "stream",
     "text": [
      "100%|█████████████████████████████████████████████| 1/1 [00:02<00:00,  2.53s/it]\n"
     ]
    },
    {
     "name": "stdout",
     "output_type": "stream",
     "text": [
      "Fold 2/4 median val_loss: 0.17282678186893463, std val_loss 0.0\n",
      "Fold 2/4 median train_loss: 0.13983507454395294, std train_loss 0.0\n",
      "Fold 2/4 median val_mee: 0.3366958498954773, std val_mee 0.0\n",
      "Fold 2/4 median train_mee: 0.28636521100997925, train_mee 0.0\n",
      "\n",
      "Executing fold 3/4\n"
     ]
    },
    {
     "name": "stderr",
     "output_type": "stream",
     "text": [
      "100%|█████████████████████████████████████████████| 1/1 [00:03<00:00,  3.09s/it]\n"
     ]
    },
    {
     "name": "stdout",
     "output_type": "stream",
     "text": [
      "Fold 3/4 median val_loss: 0.140389084815979, std val_loss 0.0\n",
      "Fold 3/4 median train_loss: 0.15164528787136078, std train_loss 0.0\n",
      "Fold 3/4 median val_mee: 0.2805437445640564, std val_mee 0.0\n",
      "Fold 3/4 median train_mee: 0.30739614367485046, train_mee 0.0\n",
      "\n",
      "Executing fold 4/4\n"
     ]
    },
    {
     "name": "stderr",
     "output_type": "stream",
     "text": [
      "100%|█████████████████████████████████████████████| 1/1 [00:03<00:00,  3.18s/it]\n"
     ]
    },
    {
     "name": "stdout",
     "output_type": "stream",
     "text": [
      "Fold 4/4 median val_loss: 0.16265776753425598, std val_loss 0.0\n",
      "Fold 4/4 median train_loss: 0.1418895423412323, std train_loss 0.0\n",
      "Fold 4/4 median val_mee: 0.33431363105773926, std val_mee 0.0\n",
      "Fold 4/4 median train_mee: 0.29325607419013977, train_mee 0.0\n",
      "\n",
      "Mean val_loss: 0.15692036598920822, std val_loss: 0.01209703607066265\n",
      "Mean train_loss: 0.1454262174665928, std train_loss: 0.004767247625076762\n",
      "Mean val_mee: 0.31403596699237823, std val_mee: 0.023106260363733228\n",
      "Mean train_mee: 0.31403596699237823, std train_mee: 0.007923195733247276\n",
      "\n",
      "\n",
      "\n",
      "Testing configuration 7/180:\n",
      "{'batch_size': 16, 'learning_rate': 0.1, 'max_epochs': 500, 'momentum': 0.1, 'initialization': {'type': 'default'}, 'early_stopping': {'monitor': 'val_loss', 'patience': 20, 'delta': 0.01}, 'task': 'regression', 'trials_train': 1, 'trials_final': 5, 'nesterov': False, 'learning_rate_decay': {'epochs': 100, 'lr_final': 0.01}, 'regularization': {'method': 'l1', 'value': 0.0001}, 'units_1': 50, 'activations_1': 'tanh', 'units_2': 50, 'activations_2': 'relu', 'units_3': 50, 'activations_3': 'tanh'}\n",
      "\n",
      "Executing fold 1/4\n"
     ]
    },
    {
     "name": "stderr",
     "output_type": "stream",
     "text": [
      "100%|█████████████████████████████████████████████| 1/1 [00:02<00:00,  2.66s/it]\n"
     ]
    },
    {
     "name": "stdout",
     "output_type": "stream",
     "text": [
      "Fold 1/4 median val_loss: 0.1515352725982666, std val_loss 0.0\n",
      "Fold 1/4 median train_loss: 0.1461225301027298, std train_loss 0.0\n",
      "Fold 1/4 median val_mee: 0.30659937858581543, std val_mee 0.0\n",
      "Fold 1/4 median train_mee: 0.30014345049858093, train_mee 0.0\n",
      "\n",
      "Executing fold 2/4\n"
     ]
    },
    {
     "name": "stderr",
     "output_type": "stream",
     "text": [
      "100%|█████████████████████████████████████████████| 1/1 [00:02<00:00,  2.57s/it]\n"
     ]
    },
    {
     "name": "stdout",
     "output_type": "stream",
     "text": [
      "Fold 2/4 median val_loss: 0.16535663604736328, std val_loss 0.0\n",
      "Fold 2/4 median train_loss: 0.14344504475593567, std train_loss 0.0\n",
      "Fold 2/4 median val_mee: 0.32558149099349976, std val_mee 0.0\n",
      "Fold 2/4 median train_mee: 0.2930430471897125, train_mee 0.0\n",
      "\n",
      "Executing fold 3/4\n"
     ]
    },
    {
     "name": "stderr",
     "output_type": "stream",
     "text": [
      "100%|█████████████████████████████████████████████| 1/1 [00:02<00:00,  2.53s/it]\n"
     ]
    },
    {
     "name": "stdout",
     "output_type": "stream",
     "text": [
      "Fold 3/4 median val_loss: 0.16311664879322052, std val_loss 0.0\n",
      "Fold 3/4 median train_loss: 0.14272642135620117, std train_loss 0.0\n",
      "Fold 3/4 median val_mee: 0.32461342215538025, std val_mee 0.0\n",
      "Fold 3/4 median train_mee: 0.29551777243614197, train_mee 0.0\n",
      "\n",
      "Executing fold 4/4\n"
     ]
    },
    {
     "name": "stderr",
     "output_type": "stream",
     "text": [
      "100%|█████████████████████████████████████████████| 1/1 [00:03<00:00,  3.44s/it]\n"
     ]
    },
    {
     "name": "stdout",
     "output_type": "stream",
     "text": [
      "Fold 4/4 median val_loss: 0.143595889210701, std val_loss 0.0\n",
      "Fold 4/4 median train_loss: 0.14955782890319824, std train_loss 0.0\n",
      "Fold 4/4 median val_mee: 0.30653461813926697, std val_mee 0.0\n",
      "Fold 4/4 median train_mee: 0.3021621108055115, train_mee 0.0\n",
      "\n",
      "Mean val_loss: 0.15590111166238785, std val_loss: 0.008831052709057333\n",
      "Mean train_loss: 0.14546295627951622, std train_loss: 0.0026815858058232603\n",
      "Mean val_mee: 0.3158322274684906, std val_mee: 0.00927157695780922\n",
      "Mean train_mee: 0.3158322274684906, std train_mee: 0.0036169430528561926\n",
      "\n",
      "\n",
      "\n",
      "Testing configuration 8/180:\n",
      "{'batch_size': 16, 'learning_rate': 0.1, 'max_epochs': 500, 'momentum': 0.1, 'initialization': {'type': 'default'}, 'early_stopping': {'monitor': 'val_loss', 'patience': 20, 'delta': 0.01}, 'task': 'regression', 'trials_train': 1, 'trials_final': 5, 'nesterov': False, 'learning_rate_decay': {'epochs': 100, 'lr_final': 0.01}, 'regularization': {'method': 'l1', 'value': 0.0001}, 'units_1': 50, 'activations_1': 'tanh', 'units_2': 50, 'activations_2': 'relu', 'units_3': 50, 'activations_3': 'tanh'}\n",
      "\n",
      "Executing fold 1/4\n"
     ]
    },
    {
     "name": "stderr",
     "output_type": "stream",
     "text": [
      "100%|█████████████████████████████████████████████| 1/1 [00:02<00:00,  2.33s/it]\n"
     ]
    },
    {
     "name": "stdout",
     "output_type": "stream",
     "text": [
      "Fold 1/4 median val_loss: 0.16228817403316498, std val_loss 0.0\n",
      "Fold 1/4 median train_loss: 0.1434977650642395, std train_loss 0.0\n",
      "Fold 1/4 median val_mee: 0.32337379455566406, std val_mee 0.0\n",
      "Fold 1/4 median train_mee: 0.2920648157596588, train_mee 0.0\n",
      "\n",
      "Executing fold 2/4\n"
     ]
    },
    {
     "name": "stderr",
     "output_type": "stream",
     "text": [
      "100%|█████████████████████████████████████████████| 1/1 [00:02<00:00,  2.57s/it]\n"
     ]
    },
    {
     "name": "stdout",
     "output_type": "stream",
     "text": [
      "Fold 2/4 median val_loss: 0.16421182453632355, std val_loss 0.0\n",
      "Fold 2/4 median train_loss: 0.14212875068187714, std train_loss 0.0\n",
      "Fold 2/4 median val_mee: 0.3204577565193176, std val_mee 0.0\n",
      "Fold 2/4 median train_mee: 0.2901023030281067, train_mee 0.0\n",
      "\n",
      "Executing fold 3/4\n"
     ]
    },
    {
     "name": "stderr",
     "output_type": "stream",
     "text": [
      "100%|█████████████████████████████████████████████| 1/1 [00:02<00:00,  2.22s/it]\n"
     ]
    },
    {
     "name": "stdout",
     "output_type": "stream",
     "text": [
      "Fold 3/4 median val_loss: 0.1342482566833496, std val_loss 0.0\n",
      "Fold 3/4 median train_loss: 0.1526215821504593, std train_loss 0.0\n",
      "Fold 3/4 median val_mee: 0.2736751437187195, std val_mee 0.0\n",
      "Fold 3/4 median train_mee: 0.3080981373786926, train_mee 0.0\n",
      "\n",
      "Executing fold 4/4\n"
     ]
    },
    {
     "name": "stderr",
     "output_type": "stream",
     "text": [
      "100%|█████████████████████████████████████████████| 1/1 [00:02<00:00,  2.84s/it]\n"
     ]
    },
    {
     "name": "stdout",
     "output_type": "stream",
     "text": [
      "Fold 4/4 median val_loss: 0.16423380374908447, std val_loss 0.0\n",
      "Fold 4/4 median train_loss: 0.14387008547782898, std train_loss 0.0\n",
      "Fold 4/4 median val_mee: 0.31829601526260376, std val_mee 0.0\n",
      "Fold 4/4 median train_mee: 0.29576125741004944, train_mee 0.0\n",
      "\n",
      "Mean val_loss: 0.15624551475048065, std val_loss: 0.012724660569223487\n",
      "Mean train_loss: 0.14552954584360123, std train_loss: 0.004145609983788623\n",
      "Mean val_mee: 0.30895067751407623, std val_mee: 0.020445890752236857\n",
      "Mean train_mee: 0.30895067751407623, std train_mee: 0.00699399280305504\n",
      "\n",
      "\n",
      "\n",
      "Testing configuration 9/180:\n",
      "{'batch_size': 16, 'learning_rate': 0.1, 'max_epochs': 500, 'momentum': 0.1, 'initialization': {'type': 'default'}, 'early_stopping': {'monitor': 'val_loss', 'patience': 20, 'delta': 0.01}, 'task': 'regression', 'trials_train': 1, 'trials_final': 5, 'nesterov': False, 'learning_rate_decay': {'epochs': 100, 'lr_final': 0.01}, 'regularization': {'method': 'l1', 'value': 0.0001}, 'units_1': 50, 'activations_1': 'tanh', 'units_2': 50, 'activations_2': 'relu', 'units_3': 50, 'activations_3': 'tanh'}\n",
      "\n",
      "Executing fold 1/4\n"
     ]
    },
    {
     "name": "stderr",
     "output_type": "stream",
     "text": [
      "100%|█████████████████████████████████████████████| 1/1 [00:02<00:00,  2.58s/it]\n"
     ]
    },
    {
     "name": "stdout",
     "output_type": "stream",
     "text": [
      "Fold 1/4 median val_loss: 0.15804028511047363, std val_loss 0.0\n",
      "Fold 1/4 median train_loss: 0.14477726817131042, std train_loss 0.0\n",
      "Fold 1/4 median val_mee: 0.3267987370491028, std val_mee 0.0\n",
      "Fold 1/4 median train_mee: 0.29872292280197144, train_mee 0.0\n",
      "\n",
      "Executing fold 2/4\n"
     ]
    },
    {
     "name": "stderr",
     "output_type": "stream",
     "text": [
      "100%|█████████████████████████████████████████████| 1/1 [00:02<00:00,  2.78s/it]\n"
     ]
    },
    {
     "name": "stdout",
     "output_type": "stream",
     "text": [
      "Fold 2/4 median val_loss: 0.14375269412994385, std val_loss 0.0\n",
      "Fold 2/4 median train_loss: 0.15101473033428192, std train_loss 0.0\n",
      "Fold 2/4 median val_mee: 0.29166942834854126, std val_mee 0.0\n",
      "Fold 2/4 median train_mee: 0.30898165702819824, train_mee 0.0\n",
      "\n",
      "Executing fold 3/4\n"
     ]
    },
    {
     "name": "stderr",
     "output_type": "stream",
     "text": [
      "100%|█████████████████████████████████████████████| 1/1 [00:04<00:00,  4.09s/it]\n"
     ]
    },
    {
     "name": "stdout",
     "output_type": "stream",
     "text": [
      "Fold 3/4 median val_loss: 0.15722006559371948, std val_loss 0.0\n",
      "Fold 3/4 median train_loss: 0.14563317596912384, std train_loss 0.0\n",
      "Fold 3/4 median val_mee: 0.3164195418357849, std val_mee 0.0\n",
      "Fold 3/4 median train_mee: 0.29481884837150574, train_mee 0.0\n",
      "\n",
      "Executing fold 4/4\n"
     ]
    },
    {
     "name": "stderr",
     "output_type": "stream",
     "text": [
      "100%|█████████████████████████████████████████████| 1/1 [00:02<00:00,  2.81s/it]\n"
     ]
    },
    {
     "name": "stdout",
     "output_type": "stream",
     "text": [
      "Fold 4/4 median val_loss: 0.16578343510627747, std val_loss 0.0\n",
      "Fold 4/4 median train_loss: 0.1441480666399002, std train_loss 0.0\n",
      "Fold 4/4 median val_mee: 0.325339138507843, std val_mee 0.0\n",
      "Fold 4/4 median train_mee: 0.29109087586402893, train_mee 0.0\n",
      "\n",
      "Mean val_loss: 0.1561991199851036, std val_loss: 0.007924721317885287\n",
      "Mean train_loss: 0.1463933102786541, std train_loss: 0.002719744408448922\n",
      "Mean val_mee: 0.315056711435318, std val_mee: 0.014075029208655693\n",
      "Mean train_mee: 0.315056711435318, std train_mee: 0.006676893665249177\n",
      "\n",
      "\n",
      "\n",
      "Testing configuration 10/180:\n",
      "{'batch_size': 16, 'learning_rate': 0.1, 'max_epochs': 500, 'momentum': 0.1, 'initialization': {'type': 'default'}, 'early_stopping': {'monitor': 'val_loss', 'patience': 20, 'delta': 0.01}, 'task': 'regression', 'trials_train': 1, 'trials_final': 5, 'nesterov': False, 'learning_rate_decay': {'epochs': 100, 'lr_final': 0.01}, 'regularization': {'method': 'l1', 'value': 0.0001}, 'units_1': 50, 'activations_1': 'tanh', 'units_2': 50, 'activations_2': 'relu', 'units_3': 50, 'activations_3': 'tanh'}\n",
      "\n",
      "Executing fold 1/4\n"
     ]
    },
    {
     "name": "stderr",
     "output_type": "stream",
     "text": [
      "100%|█████████████████████████████████████████████| 1/1 [00:03<00:00,  3.96s/it]\n"
     ]
    },
    {
     "name": "stdout",
     "output_type": "stream",
     "text": [
      "Fold 1/4 median val_loss: 0.14657960832118988, std val_loss 0.0\n",
      "Fold 1/4 median train_loss: 0.14539098739624023, std train_loss 0.0\n",
      "Fold 1/4 median val_mee: 0.2883090376853943, std val_mee 0.0\n",
      "Fold 1/4 median train_mee: 0.2971859574317932, train_mee 0.0\n",
      "\n",
      "Executing fold 2/4\n"
     ]
    },
    {
     "name": "stderr",
     "output_type": "stream",
     "text": [
      "100%|█████████████████████████████████████████████| 1/1 [00:04<00:00,  4.57s/it]\n"
     ]
    },
    {
     "name": "stdout",
     "output_type": "stream",
     "text": [
      "Fold 2/4 median val_loss: 0.16575907170772552, std val_loss 0.0\n",
      "Fold 2/4 median train_loss: 0.1409861445426941, std train_loss 0.0\n",
      "Fold 2/4 median val_mee: 0.34089964628219604, std val_mee 0.0\n",
      "Fold 2/4 median train_mee: 0.29021334648132324, train_mee 0.0\n",
      "\n",
      "Executing fold 3/4\n"
     ]
    },
    {
     "name": "stderr",
     "output_type": "stream",
     "text": [
      "100%|█████████████████████████████████████████████| 1/1 [00:02<00:00,  2.89s/it]\n"
     ]
    },
    {
     "name": "stdout",
     "output_type": "stream",
     "text": [
      "Fold 3/4 median val_loss: 0.14951427280902863, std val_loss 0.0\n",
      "Fold 3/4 median train_loss: 0.14837317168712616, std train_loss 0.0\n",
      "Fold 3/4 median val_mee: 0.30033138394355774, std val_mee 0.0\n",
      "Fold 3/4 median train_mee: 0.3028065860271454, train_mee 0.0\n",
      "\n",
      "Executing fold 4/4\n"
     ]
    },
    {
     "name": "stderr",
     "output_type": "stream",
     "text": [
      "100%|█████████████████████████████████████████████| 1/1 [00:03<00:00,  3.29s/it]\n"
     ]
    },
    {
     "name": "stdout",
     "output_type": "stream",
     "text": [
      "Fold 4/4 median val_loss: 0.15908929705619812, std val_loss 0.0\n",
      "Fold 4/4 median train_loss: 0.14195020496845245, std train_loss 0.0\n",
      "Fold 4/4 median val_mee: 0.3158831000328064, std val_mee 0.0\n",
      "Fold 4/4 median train_mee: 0.2918146252632141, train_mee 0.0\n",
      "\n",
      "Mean val_loss: 0.15523556247353554, std val_loss: 0.007636331163399004\n",
      "Mean train_loss: 0.14417512714862823, std train_loss: 0.002924969352733633\n",
      "Mean val_mee: 0.3113557919859886, std val_mee: 0.019659770479994756\n",
      "Mean train_mee: 0.3113557919859886, std train_mee: 0.004943663595770311\n",
      "\n",
      "\n",
      "\n",
      "Testing configuration 11/180:\n",
      "{'batch_size': 16, 'learning_rate': 0.1, 'max_epochs': 500, 'momentum': 0.1, 'initialization': {'type': 'default'}, 'early_stopping': {'monitor': 'val_loss', 'patience': 20, 'delta': 0.01}, 'task': 'regression', 'trials_train': 1, 'trials_final': 5, 'nesterov': False, 'learning_rate_decay': {'epochs': 100, 'lr_final': 0.01}, 'regularization': {'method': 'l1', 'value': 1e-05}, 'units_1': 50, 'activations_1': 'tanh', 'units_2': 50, 'activations_2': 'relu', 'units_3': 50, 'activations_3': 'tanh'}\n",
      "\n",
      "Executing fold 1/4\n"
     ]
    },
    {
     "name": "stderr",
     "output_type": "stream",
     "text": [
      "100%|█████████████████████████████████████████████| 1/1 [00:03<00:00,  3.01s/it]\n"
     ]
    },
    {
     "name": "stdout",
     "output_type": "stream",
     "text": [
      "Fold 1/4 median val_loss: 0.09288346767425537, std val_loss 0.0\n",
      "Fold 1/4 median train_loss: 0.08294399827718735, std train_loss 0.0\n",
      "Fold 1/4 median val_mee: 0.30280154943466187, std val_mee 0.0\n",
      "Fold 1/4 median train_mee: 0.2971668839454651, train_mee 0.0\n",
      "\n",
      "Executing fold 2/4\n"
     ]
    },
    {
     "name": "stderr",
     "output_type": "stream",
     "text": [
      "100%|█████████████████████████████████████████████| 1/1 [00:02<00:00,  2.55s/it]\n"
     ]
    },
    {
     "name": "stdout",
     "output_type": "stream",
     "text": [
      "Fold 2/4 median val_loss: 0.09845254570245743, std val_loss 0.0\n",
      "Fold 2/4 median train_loss: 0.08462287485599518, std train_loss 0.0\n",
      "Fold 2/4 median val_mee: 0.3148658871650696, std val_mee 0.0\n",
      "Fold 2/4 median train_mee: 0.29883918166160583, train_mee 0.0\n",
      "\n",
      "Executing fold 3/4\n"
     ]
    },
    {
     "name": "stderr",
     "output_type": "stream",
     "text": [
      "100%|█████████████████████████████████████████████| 1/1 [00:02<00:00,  2.81s/it]\n"
     ]
    },
    {
     "name": "stdout",
     "output_type": "stream",
     "text": [
      "Fold 3/4 median val_loss: 0.10229823738336563, std val_loss 0.0\n",
      "Fold 3/4 median train_loss: 0.08037014305591583, std train_loss 0.0\n",
      "Fold 3/4 median val_mee: 0.32138362526893616, std val_mee 0.0\n",
      "Fold 3/4 median train_mee: 0.28647375106811523, train_mee 0.0\n",
      "\n",
      "Executing fold 4/4\n"
     ]
    },
    {
     "name": "stderr",
     "output_type": "stream",
     "text": [
      "100%|█████████████████████████████████████████████| 1/1 [00:02<00:00,  2.94s/it]\n"
     ]
    },
    {
     "name": "stdout",
     "output_type": "stream",
     "text": [
      "Fold 4/4 median val_loss: 0.08100514113903046, std val_loss 0.0\n",
      "Fold 4/4 median train_loss: 0.08721768110990524, std train_loss 0.0\n",
      "Fold 4/4 median val_mee: 0.2963624894618988, std val_mee 0.0\n",
      "Fold 4/4 median train_mee: 0.30040186643600464, train_mee 0.0\n",
      "\n",
      "Mean val_loss: 0.09365984797477722, std val_loss: 0.008036418582818122\n",
      "Mean train_loss: 0.0837886743247509, std train_loss: 0.0024926798691515444\n",
      "Mean val_mee: 0.3088533878326416, std val_mee: 0.009820950673634548\n",
      "Mean train_mee: 0.3088533878326416, std train_mee: 0.00545975638917374\n",
      "\n",
      "\n",
      "\n",
      "Testing configuration 12/180:\n",
      "{'batch_size': 16, 'learning_rate': 0.1, 'max_epochs': 500, 'momentum': 0.1, 'initialization': {'type': 'default'}, 'early_stopping': {'monitor': 'val_loss', 'patience': 20, 'delta': 0.01}, 'task': 'regression', 'trials_train': 1, 'trials_final': 5, 'nesterov': False, 'learning_rate_decay': {'epochs': 100, 'lr_final': 0.01}, 'regularization': {'method': 'l1', 'value': 1e-05}, 'units_1': 50, 'activations_1': 'tanh', 'units_2': 50, 'activations_2': 'relu', 'units_3': 50, 'activations_3': 'tanh'}\n",
      "\n",
      "Executing fold 1/4\n"
     ]
    },
    {
     "name": "stderr",
     "output_type": "stream",
     "text": [
      "100%|█████████████████████████████████████████████| 1/1 [00:02<00:00,  2.64s/it]\n"
     ]
    },
    {
     "name": "stdout",
     "output_type": "stream",
     "text": [
      "Fold 1/4 median val_loss: 0.09704744070768356, std val_loss 0.0\n",
      "Fold 1/4 median train_loss: 0.08272125571966171, std train_loss 0.0\n",
      "Fold 1/4 median val_mee: 0.314818799495697, std val_mee 0.0\n",
      "Fold 1/4 median train_mee: 0.29660749435424805, train_mee 0.0\n",
      "\n",
      "Executing fold 2/4\n"
     ]
    },
    {
     "name": "stderr",
     "output_type": "stream",
     "text": [
      "100%|█████████████████████████████████████████████| 1/1 [00:02<00:00,  2.67s/it]\n"
     ]
    },
    {
     "name": "stdout",
     "output_type": "stream",
     "text": [
      "Fold 2/4 median val_loss: 0.09245985001325607, std val_loss 0.0\n",
      "Fold 2/4 median train_loss: 0.08485792577266693, std train_loss 0.0\n",
      "Fold 2/4 median val_mee: 0.31055861711502075, std val_mee 0.0\n",
      "Fold 2/4 median train_mee: 0.29669293761253357, train_mee 0.0\n",
      "\n",
      "Executing fold 3/4\n"
     ]
    },
    {
     "name": "stderr",
     "output_type": "stream",
     "text": [
      "100%|█████████████████████████████████████████████| 1/1 [00:02<00:00,  2.44s/it]\n"
     ]
    },
    {
     "name": "stdout",
     "output_type": "stream",
     "text": [
      "Fold 3/4 median val_loss: 0.08664753288030624, std val_loss 0.0\n",
      "Fold 3/4 median train_loss: 0.08615071326494217, std train_loss 0.0\n",
      "Fold 3/4 median val_mee: 0.3009549081325531, std val_mee 0.0\n",
      "Fold 3/4 median train_mee: 0.30305740237236023, train_mee 0.0\n",
      "\n",
      "Executing fold 4/4\n"
     ]
    },
    {
     "name": "stderr",
     "output_type": "stream",
     "text": [
      "100%|█████████████████████████████████████████████| 1/1 [00:02<00:00,  2.33s/it]\n"
     ]
    },
    {
     "name": "stdout",
     "output_type": "stream",
     "text": [
      "Fold 4/4 median val_loss: 0.0964602679014206, std val_loss 0.0\n",
      "Fold 4/4 median train_loss: 0.08402852714061737, std train_loss 0.0\n",
      "Fold 4/4 median val_mee: 0.31371819972991943, std val_mee 0.0\n",
      "Fold 4/4 median train_mee: 0.2930681109428406, train_mee 0.0\n",
      "\n",
      "Mean val_loss: 0.09315377287566662, std val_loss: 0.004150489319273762\n",
      "Mean train_loss: 0.08443960547447205, std train_loss: 0.0012474567145707776\n",
      "Mean val_mee: 0.3100126311182976, std val_mee: 0.005458272153402878\n",
      "Mean train_mee: 0.3100126311182976, std train_mee: 0.0036018013917839473\n",
      "\n",
      "\n",
      "\n",
      "Testing configuration 13/180:\n",
      "{'batch_size': 16, 'learning_rate': 0.1, 'max_epochs': 500, 'momentum': 0.1, 'initialization': {'type': 'default'}, 'early_stopping': {'monitor': 'val_loss', 'patience': 20, 'delta': 0.01}, 'task': 'regression', 'trials_train': 1, 'trials_final': 5, 'nesterov': False, 'learning_rate_decay': {'epochs': 100, 'lr_final': 0.01}, 'regularization': {'method': 'l1', 'value': 1e-05}, 'units_1': 50, 'activations_1': 'tanh', 'units_2': 50, 'activations_2': 'relu', 'units_3': 50, 'activations_3': 'tanh'}\n",
      "\n",
      "Executing fold 1/4\n"
     ]
    },
    {
     "name": "stderr",
     "output_type": "stream",
     "text": [
      "100%|█████████████████████████████████████████████| 1/1 [00:03<00:00,  3.64s/it]\n"
     ]
    },
    {
     "name": "stdout",
     "output_type": "stream",
     "text": [
      "Fold 1/4 median val_loss: 0.09660488367080688, std val_loss 0.0\n",
      "Fold 1/4 median train_loss: 0.0829620212316513, std train_loss 0.0\n",
      "Fold 1/4 median val_mee: 0.32503122091293335, std val_mee 0.0\n",
      "Fold 1/4 median train_mee: 0.2945302426815033, train_mee 0.0\n",
      "\n",
      "Executing fold 2/4\n"
     ]
    },
    {
     "name": "stderr",
     "output_type": "stream",
     "text": [
      "100%|█████████████████████████████████████████████| 1/1 [00:02<00:00,  2.39s/it]\n"
     ]
    },
    {
     "name": "stdout",
     "output_type": "stream",
     "text": [
      "Fold 2/4 median val_loss: 0.10686874389648438, std val_loss 0.0\n",
      "Fold 2/4 median train_loss: 0.08173897117376328, std train_loss 0.0\n",
      "Fold 2/4 median val_mee: 0.3262353241443634, std val_mee 0.0\n",
      "Fold 2/4 median train_mee: 0.29571297764778137, train_mee 0.0\n",
      "\n",
      "Executing fold 3/4\n"
     ]
    },
    {
     "name": "stderr",
     "output_type": "stream",
     "text": [
      "100%|█████████████████████████████████████████████| 1/1 [00:02<00:00,  2.52s/it]\n"
     ]
    },
    {
     "name": "stdout",
     "output_type": "stream",
     "text": [
      "Fold 3/4 median val_loss: 0.08721881359815598, std val_loss 0.0\n",
      "Fold 3/4 median train_loss: 0.08660538494586945, std train_loss 0.0\n",
      "Fold 3/4 median val_mee: 0.30278071761131287, std val_mee 0.0\n",
      "Fold 3/4 median train_mee: 0.29884982109069824, train_mee 0.0\n",
      "\n",
      "Executing fold 4/4\n"
     ]
    },
    {
     "name": "stderr",
     "output_type": "stream",
     "text": [
      "100%|█████████████████████████████████████████████| 1/1 [00:02<00:00,  2.72s/it]\n"
     ]
    },
    {
     "name": "stdout",
     "output_type": "stream",
     "text": [
      "Fold 4/4 median val_loss: 0.07771287113428116, std val_loss 0.0\n",
      "Fold 4/4 median train_loss: 0.0876571387052536, std train_loss 0.0\n",
      "Fold 4/4 median val_mee: 0.2817646861076355, std val_mee 0.0\n",
      "Fold 4/4 median train_mee: 0.3025190830230713, train_mee 0.0\n",
      "\n",
      "Mean val_loss: 0.0921013280749321, std val_loss: 0.010830803568995495\n",
      "Mean train_loss: 0.08474087901413441, std train_loss: 0.0024574752617220856\n",
      "Mean val_mee: 0.3089529871940613, std val_mee: 0.018265331900561753\n",
      "Mean train_mee: 0.3089529871940613, std train_mee: 0.0030974337152914486\n",
      "\n",
      "\n",
      "\n",
      "Testing configuration 14/180:\n",
      "{'batch_size': 16, 'learning_rate': 0.1, 'max_epochs': 500, 'momentum': 0.1, 'initialization': {'type': 'default'}, 'early_stopping': {'monitor': 'val_loss', 'patience': 20, 'delta': 0.01}, 'task': 'regression', 'trials_train': 1, 'trials_final': 5, 'nesterov': False, 'learning_rate_decay': {'epochs': 100, 'lr_final': 0.01}, 'regularization': {'method': 'l1', 'value': 1e-05}, 'units_1': 50, 'activations_1': 'tanh', 'units_2': 50, 'activations_2': 'relu', 'units_3': 50, 'activations_3': 'tanh'}\n",
      "\n",
      "Executing fold 1/4\n"
     ]
    },
    {
     "name": "stderr",
     "output_type": "stream",
     "text": [
      "100%|█████████████████████████████████████████████| 1/1 [00:02<00:00,  2.36s/it]\n"
     ]
    },
    {
     "name": "stdout",
     "output_type": "stream",
     "text": [
      "Fold 1/4 median val_loss: 0.0912262424826622, std val_loss 0.0\n",
      "Fold 1/4 median train_loss: 0.08722672611474991, std train_loss 0.0\n",
      "Fold 1/4 median val_mee: 0.30636751651763916, std val_mee 0.0\n",
      "Fold 1/4 median train_mee: 0.3043159544467926, train_mee 0.0\n",
      "\n",
      "Executing fold 2/4\n"
     ]
    },
    {
     "name": "stderr",
     "output_type": "stream",
     "text": [
      "100%|█████████████████████████████████████████████| 1/1 [00:03<00:00,  3.48s/it]\n"
     ]
    },
    {
     "name": "stdout",
     "output_type": "stream",
     "text": [
      "Fold 2/4 median val_loss: 0.08860300481319427, std val_loss 0.0\n",
      "Fold 2/4 median train_loss: 0.08581347018480301, std train_loss 0.0\n",
      "Fold 2/4 median val_mee: 0.3060595393180847, std val_mee 0.0\n",
      "Fold 2/4 median train_mee: 0.30222204327583313, train_mee 0.0\n",
      "\n",
      "Executing fold 3/4\n"
     ]
    },
    {
     "name": "stderr",
     "output_type": "stream",
     "text": [
      "100%|█████████████████████████████████████████████| 1/1 [00:02<00:00,  2.95s/it]\n"
     ]
    },
    {
     "name": "stdout",
     "output_type": "stream",
     "text": [
      "Fold 3/4 median val_loss: 0.10379645973443985, std val_loss 0.0\n",
      "Fold 3/4 median train_loss: 0.0801621675491333, std train_loss 0.0\n",
      "Fold 3/4 median val_mee: 0.32506585121154785, std val_mee 0.0\n",
      "Fold 3/4 median train_mee: 0.2937108874320984, train_mee 0.0\n",
      "\n",
      "Executing fold 4/4\n"
     ]
    },
    {
     "name": "stderr",
     "output_type": "stream",
     "text": [
      "100%|█████████████████████████████████████████████| 1/1 [00:02<00:00,  2.54s/it]\n"
     ]
    },
    {
     "name": "stdout",
     "output_type": "stream",
     "text": [
      "Fold 4/4 median val_loss: 0.08862185478210449, std val_loss 0.0\n",
      "Fold 4/4 median train_loss: 0.08556313812732697, std train_loss 0.0\n",
      "Fold 4/4 median val_mee: 0.31003427505493164, std val_mee 0.0\n",
      "Fold 4/4 median train_mee: 0.2958807647228241, train_mee 0.0\n",
      "\n",
      "Mean val_loss: 0.0930618904531002, std val_loss: 0.0062888027285948386\n",
      "Mean train_loss: 0.0846913754940033, std train_loss: 0.002690761693367421\n",
      "Mean val_mee: 0.31188179552555084, std val_mee: 0.007770756020865993\n",
      "Mean train_mee: 0.31188179552555084, std train_mee: 0.004368668926267527\n",
      "\n",
      "\n",
      "\n",
      "Testing configuration 15/180:\n",
      "{'batch_size': 16, 'learning_rate': 0.1, 'max_epochs': 500, 'momentum': 0.1, 'initialization': {'type': 'default'}, 'early_stopping': {'monitor': 'val_loss', 'patience': 20, 'delta': 0.01}, 'task': 'regression', 'trials_train': 1, 'trials_final': 5, 'nesterov': False, 'learning_rate_decay': {'epochs': 100, 'lr_final': 0.01}, 'regularization': {'method': 'l1', 'value': 1e-05}, 'units_1': 50, 'activations_1': 'tanh', 'units_2': 50, 'activations_2': 'relu', 'units_3': 50, 'activations_3': 'tanh'}\n",
      "\n",
      "Executing fold 1/4\n"
     ]
    },
    {
     "name": "stderr",
     "output_type": "stream",
     "text": [
      "100%|█████████████████████████████████████████████| 1/1 [00:03<00:00,  3.47s/it]\n"
     ]
    },
    {
     "name": "stdout",
     "output_type": "stream",
     "text": [
      "Fold 1/4 median val_loss: 0.10818152129650116, std val_loss 0.0\n",
      "Fold 1/4 median train_loss: 0.08193662762641907, std train_loss 0.0\n",
      "Fold 1/4 median val_mee: 0.3250945508480072, std val_mee 0.0\n",
      "Fold 1/4 median train_mee: 0.2958511412143707, train_mee 0.0\n",
      "\n",
      "Executing fold 2/4\n"
     ]
    },
    {
     "name": "stderr",
     "output_type": "stream",
     "text": [
      "100%|█████████████████████████████████████████████| 1/1 [00:02<00:00,  2.63s/it]\n"
     ]
    },
    {
     "name": "stdout",
     "output_type": "stream",
     "text": [
      "Fold 2/4 median val_loss: 0.08811359852552414, std val_loss 0.0\n",
      "Fold 2/4 median train_loss: 0.08677499741315842, std train_loss 0.0\n",
      "Fold 2/4 median val_mee: 0.3159644305706024, std val_mee 0.0\n",
      "Fold 2/4 median train_mee: 0.2967209219932556, train_mee 0.0\n",
      "\n",
      "Executing fold 3/4\n"
     ]
    },
    {
     "name": "stderr",
     "output_type": "stream",
     "text": [
      "100%|█████████████████████████████████████████████| 1/1 [00:03<00:00,  3.02s/it]\n"
     ]
    },
    {
     "name": "stdout",
     "output_type": "stream",
     "text": [
      "Fold 3/4 median val_loss: 0.09165102988481522, std val_loss 0.0\n",
      "Fold 3/4 median train_loss: 0.08220230787992477, std train_loss 0.0\n",
      "Fold 3/4 median val_mee: 0.3080539107322693, std val_mee 0.0\n",
      "Fold 3/4 median train_mee: 0.29181796312332153, train_mee 0.0\n",
      "\n",
      "Executing fold 4/4\n"
     ]
    },
    {
     "name": "stderr",
     "output_type": "stream",
     "text": [
      "100%|█████████████████████████████████████████████| 1/1 [00:02<00:00,  2.62s/it]\n"
     ]
    },
    {
     "name": "stdout",
     "output_type": "stream",
     "text": [
      "Fold 4/4 median val_loss: 0.0842769593000412, std val_loss 0.0\n",
      "Fold 4/4 median train_loss: 0.08784365653991699, std train_loss 0.0\n",
      "Fold 4/4 median val_mee: 0.2928915321826935, std val_mee 0.0\n",
      "Fold 4/4 median train_mee: 0.304076224565506, train_mee 0.0\n",
      "\n",
      "Mean val_loss: 0.09305577725172043, std val_loss: 0.009113920990213811\n",
      "Mean train_loss: 0.08468939736485481, std train_loss: 0.002648699390448315\n",
      "Mean val_mee: 0.3105011060833931, std val_mee: 0.011820558389952935\n",
      "Mean train_mee: 0.3105011060833931, std train_mee: 0.004423513136108019\n",
      "\n",
      "\n",
      "\n",
      "Testing configuration 16/180:\n",
      "{'batch_size': 16, 'learning_rate': 0.1, 'max_epochs': 500, 'momentum': 0.2, 'initialization': {'type': 'default'}, 'early_stopping': {'monitor': 'val_loss', 'patience': 20, 'delta': 0.01}, 'task': 'regression', 'trials_train': 1, 'trials_final': 5, 'nesterov': False, 'learning_rate_decay': {'epochs': 100, 'lr_final': 0.01}, 'regularization': {'method': 'l1', 'value': 0.001}, 'units_1': 50, 'activations_1': 'tanh', 'units_2': 50, 'activations_2': 'relu', 'units_3': 50, 'activations_3': 'tanh'}\n",
      "\n",
      "Executing fold 1/4\n"
     ]
    },
    {
     "name": "stderr",
     "output_type": "stream",
     "text": [
      "100%|█████████████████████████████████████████████| 1/1 [00:27<00:00, 27.90s/it]\n"
     ]
    },
    {
     "name": "stdout",
     "output_type": "stream",
     "text": [
      "Fold 1/4 median val_loss: 0.24245093762874603, std val_loss 0.0\n",
      "Fold 1/4 median train_loss: 0.21972723305225372, std train_loss 0.0\n",
      "Fold 1/4 median val_mee: 0.3360584080219269, std val_mee 0.0\n",
      "Fold 1/4 median train_mee: 0.3053893446922302, train_mee 0.0\n",
      "\n",
      "Executing fold 2/4\n"
     ]
    },
    {
     "name": "stderr",
     "output_type": "stream",
     "text": [
      "100%|█████████████████████████████████████████████| 1/1 [00:26<00:00, 26.76s/it]\n"
     ]
    },
    {
     "name": "stdout",
     "output_type": "stream",
     "text": [
      "Fold 2/4 median val_loss: 0.22748632729053497, std val_loss 0.0\n",
      "Fold 2/4 median train_loss: 0.21496179699897766, std train_loss 0.0\n",
      "Fold 2/4 median val_mee: 0.31391167640686035, std val_mee 0.0\n",
      "Fold 2/4 median train_mee: 0.30499038100242615, train_mee 0.0\n",
      "\n",
      "Executing fold 3/4\n"
     ]
    },
    {
     "name": "stderr",
     "output_type": "stream",
     "text": [
      "100%|█████████████████████████████████████████████| 1/1 [00:26<00:00, 26.24s/it]\n"
     ]
    },
    {
     "name": "stdout",
     "output_type": "stream",
     "text": [
      "Fold 3/4 median val_loss: 0.20656177401542664, std val_loss 0.0\n",
      "Fold 3/4 median train_loss: 0.2223118096590042, std train_loss 0.0\n",
      "Fold 3/4 median val_mee: 0.28394168615341187, std val_mee 0.0\n",
      "Fold 3/4 median train_mee: 0.31813034415245056, train_mee 0.0\n",
      "\n",
      "Executing fold 4/4\n"
     ]
    },
    {
     "name": "stderr",
     "output_type": "stream",
     "text": [
      "100%|█████████████████████████████████████████████| 1/1 [00:26<00:00, 26.47s/it]\n"
     ]
    },
    {
     "name": "stdout",
     "output_type": "stream",
     "text": [
      "Fold 4/4 median val_loss: 0.22086907923221588, std val_loss 0.0\n",
      "Fold 4/4 median train_loss: 0.2208874374628067, std train_loss 0.0\n",
      "Fold 4/4 median val_mee: 0.32210245728492737, std val_mee 0.0\n",
      "Fold 4/4 median train_mee: 0.3107616901397705, train_mee 0.0\n",
      "\n",
      "Mean val_loss: 0.22434202954173088, std val_loss: 0.012903662569888154\n",
      "Mean train_loss: 0.21947206929326057, std train_loss: 0.0027602109118995658\n",
      "Mean val_mee: 0.3140035569667816, std val_mee: 0.019077035672929687\n",
      "Mean train_mee: 0.3140035569667816, std train_mee: 0.00531282668160394\n",
      "\n",
      "\n",
      "\n",
      "Testing configuration 17/180:\n",
      "{'batch_size': 16, 'learning_rate': 0.1, 'max_epochs': 500, 'momentum': 0.2, 'initialization': {'type': 'default'}, 'early_stopping': {'monitor': 'val_loss', 'patience': 20, 'delta': 0.01}, 'task': 'regression', 'trials_train': 1, 'trials_final': 5, 'nesterov': False, 'learning_rate_decay': {'epochs': 100, 'lr_final': 0.01}, 'regularization': {'method': 'l1', 'value': 0.001}, 'units_1': 50, 'activations_1': 'tanh', 'units_2': 50, 'activations_2': 'relu', 'units_3': 50, 'activations_3': 'tanh'}\n",
      "\n",
      "Executing fold 1/4\n"
     ]
    },
    {
     "name": "stderr",
     "output_type": "stream",
     "text": [
      "100%|█████████████████████████████████████████████| 1/1 [00:25<00:00, 25.84s/it]\n"
     ]
    },
    {
     "name": "stdout",
     "output_type": "stream",
     "text": [
      "Fold 1/4 median val_loss: 0.23595765233039856, std val_loss 0.0\n",
      "Fold 1/4 median train_loss: 0.22740493714809418, std train_loss 0.0\n",
      "Fold 1/4 median val_mee: 0.3218318819999695, std val_mee 0.0\n",
      "Fold 1/4 median train_mee: 0.31067800521850586, train_mee 0.0\n",
      "\n",
      "Executing fold 2/4\n"
     ]
    },
    {
     "name": "stderr",
     "output_type": "stream",
     "text": [
      "100%|█████████████████████████████████████████████| 1/1 [00:27<00:00, 27.59s/it]\n"
     ]
    },
    {
     "name": "stdout",
     "output_type": "stream",
     "text": [
      "Fold 2/4 median val_loss: 0.21648181974887848, std val_loss 0.0\n",
      "Fold 2/4 median train_loss: 0.21246370673179626, std train_loss 0.0\n",
      "Fold 2/4 median val_mee: 0.3210248351097107, std val_mee 0.0\n",
      "Fold 2/4 median train_mee: 0.312237024307251, train_mee 0.0\n",
      "\n",
      "Executing fold 3/4\n"
     ]
    },
    {
     "name": "stderr",
     "output_type": "stream",
     "text": [
      "100%|█████████████████████████████████████████████| 1/1 [00:20<00:00, 20.56s/it]\n"
     ]
    },
    {
     "name": "stdout",
     "output_type": "stream",
     "text": [
      "Fold 3/4 median val_loss: 0.28940221667289734, std val_loss 0.0\n",
      "Fold 3/4 median train_loss: 0.26476141810417175, std train_loss 0.0\n",
      "Fold 3/4 median val_mee: 0.3433796763420105, std val_mee 0.0\n",
      "Fold 3/4 median train_mee: 0.3004164397716522, train_mee 0.0\n",
      "\n",
      "Executing fold 4/4\n"
     ]
    },
    {
     "name": "stderr",
     "output_type": "stream",
     "text": [
      "100%|█████████████████████████████████████████████| 1/1 [00:29<00:00, 29.07s/it]\n"
     ]
    },
    {
     "name": "stdout",
     "output_type": "stream",
     "text": [
      "Fold 4/4 median val_loss: 0.20541274547576904, std val_loss 0.0\n",
      "Fold 4/4 median train_loss: 0.21057195961475372, std train_loss 0.0\n",
      "Fold 4/4 median val_mee: 0.2891387343406677, std val_mee 0.0\n",
      "Fold 4/4 median train_mee: 0.31787532567977905, train_mee 0.0\n",
      "\n",
      "Mean val_loss: 0.23681360855698586, std val_loss: 0.03227107916933345\n",
      "Mean train_loss: 0.22880050539970398, std train_loss: 0.02176181130692613\n",
      "Mean val_mee: 0.3188437819480896, std val_mee: 0.019352556044891726\n",
      "Mean train_mee: 0.3188437819480896, std train_mee: 0.0063040713334968695\n",
      "\n",
      "\n",
      "\n",
      "Testing configuration 18/180:\n",
      "{'batch_size': 16, 'learning_rate': 0.1, 'max_epochs': 500, 'momentum': 0.2, 'initialization': {'type': 'default'}, 'early_stopping': {'monitor': 'val_loss', 'patience': 20, 'delta': 0.01}, 'task': 'regression', 'trials_train': 1, 'trials_final': 5, 'nesterov': False, 'learning_rate_decay': {'epochs': 100, 'lr_final': 0.01}, 'regularization': {'method': 'l1', 'value': 0.001}, 'units_1': 50, 'activations_1': 'tanh', 'units_2': 50, 'activations_2': 'relu', 'units_3': 50, 'activations_3': 'tanh'}\n",
      "\n",
      "Executing fold 1/4\n"
     ]
    },
    {
     "name": "stderr",
     "output_type": "stream",
     "text": [
      "100%|█████████████████████████████████████████████| 1/1 [00:25<00:00, 25.31s/it]\n"
     ]
    },
    {
     "name": "stdout",
     "output_type": "stream",
     "text": [
      "Fold 1/4 median val_loss: 0.24249298870563507, std val_loss 0.0\n",
      "Fold 1/4 median train_loss: 0.2320374995470047, std train_loss 0.0\n",
      "Fold 1/4 median val_mee: 0.31423670053482056, std val_mee 0.0\n",
      "Fold 1/4 median train_mee: 0.3086419701576233, train_mee 0.0\n",
      "\n",
      "Executing fold 2/4\n"
     ]
    },
    {
     "name": "stderr",
     "output_type": "stream",
     "text": [
      "100%|█████████████████████████████████████████████| 1/1 [00:27<00:00, 27.61s/it]\n"
     ]
    },
    {
     "name": "stdout",
     "output_type": "stream",
     "text": [
      "Fold 2/4 median val_loss: 0.23005777597427368, std val_loss 0.0\n",
      "Fold 2/4 median train_loss: 0.21134065091609955, std train_loss 0.0\n",
      "Fold 2/4 median val_mee: 0.3294719159603119, std val_mee 0.0\n",
      "Fold 2/4 median train_mee: 0.30638161301612854, train_mee 0.0\n",
      "\n",
      "Executing fold 3/4\n"
     ]
    },
    {
     "name": "stderr",
     "output_type": "stream",
     "text": [
      "100%|█████████████████████████████████████████████| 1/1 [00:25<00:00, 25.90s/it]\n"
     ]
    },
    {
     "name": "stdout",
     "output_type": "stream",
     "text": [
      "Fold 3/4 median val_loss: 0.2172050029039383, std val_loss 0.0\n",
      "Fold 3/4 median train_loss: 0.22364376485347748, std train_loss 0.0\n",
      "Fold 3/4 median val_mee: 0.30789729952812195, std val_mee 0.0\n",
      "Fold 3/4 median train_mee: 0.3126618266105652, train_mee 0.0\n",
      "\n",
      "Executing fold 4/4\n"
     ]
    },
    {
     "name": "stderr",
     "output_type": "stream",
     "text": [
      "100%|█████████████████████████████████████████████| 1/1 [00:26<00:00, 26.13s/it]\n"
     ]
    },
    {
     "name": "stdout",
     "output_type": "stream",
     "text": [
      "Fold 4/4 median val_loss: 0.21472829580307007, std val_loss 0.0\n",
      "Fold 4/4 median train_loss: 0.2228822410106659, std train_loss 0.0\n",
      "Fold 4/4 median val_mee: 0.3039305806159973, std val_mee 0.0\n",
      "Fold 4/4 median train_mee: 0.3145606219768524, train_mee 0.0\n",
      "\n",
      "Mean val_loss: 0.22612101584672928, std val_loss: 0.011099875363982494\n",
      "Mean train_loss: 0.2224760390818119, std train_loss: 0.007364560056672569\n",
      "Mean val_mee: 0.3138841241598129, std val_mee: 0.009721351006485307\n",
      "Mean train_mee: 0.3138841241598129, std train_mee: 0.0032233677446985797\n",
      "\n",
      "\n",
      "\n",
      "Testing configuration 19/180:\n",
      "{'batch_size': 16, 'learning_rate': 0.1, 'max_epochs': 500, 'momentum': 0.2, 'initialization': {'type': 'default'}, 'early_stopping': {'monitor': 'val_loss', 'patience': 20, 'delta': 0.01}, 'task': 'regression', 'trials_train': 1, 'trials_final': 5, 'nesterov': False, 'learning_rate_decay': {'epochs': 100, 'lr_final': 0.01}, 'regularization': {'method': 'l1', 'value': 0.001}, 'units_1': 50, 'activations_1': 'tanh', 'units_2': 50, 'activations_2': 'relu', 'units_3': 50, 'activations_3': 'tanh'}\n",
      "\n",
      "Executing fold 1/4\n"
     ]
    },
    {
     "name": "stderr",
     "output_type": "stream",
     "text": [
      "100%|█████████████████████████████████████████████| 1/1 [00:26<00:00, 26.67s/it]\n"
     ]
    },
    {
     "name": "stdout",
     "output_type": "stream",
     "text": [
      "Fold 1/4 median val_loss: 0.2149767428636551, std val_loss 0.0\n",
      "Fold 1/4 median train_loss: 0.2140531688928604, std train_loss 0.0\n",
      "Fold 1/4 median val_mee: 0.31209513545036316, std val_mee 0.0\n",
      "Fold 1/4 median train_mee: 0.3048686981201172, train_mee 0.0\n",
      "\n",
      "Executing fold 2/4\n"
     ]
    },
    {
     "name": "stderr",
     "output_type": "stream",
     "text": [
      "100%|█████████████████████████████████████████████| 1/1 [00:27<00:00, 27.74s/it]\n"
     ]
    },
    {
     "name": "stdout",
     "output_type": "stream",
     "text": [
      "Fold 2/4 median val_loss: 0.22659076750278473, std val_loss 0.0\n",
      "Fold 2/4 median train_loss: 0.21452423930168152, std train_loss 0.0\n",
      "Fold 2/4 median val_mee: 0.3214440941810608, std val_mee 0.0\n",
      "Fold 2/4 median train_mee: 0.3120816648006439, train_mee 0.0\n",
      "\n",
      "Executing fold 3/4\n"
     ]
    },
    {
     "name": "stderr",
     "output_type": "stream",
     "text": [
      "100%|█████████████████████████████████████████████| 1/1 [00:29<00:00, 29.07s/it]\n"
     ]
    },
    {
     "name": "stdout",
     "output_type": "stream",
     "text": [
      "Fold 3/4 median val_loss: 0.21889328956604004, std val_loss 0.0\n",
      "Fold 3/4 median train_loss: 0.2186530977487564, std train_loss 0.0\n",
      "Fold 3/4 median val_mee: 0.32995349168777466, std val_mee 0.0\n",
      "Fold 3/4 median train_mee: 0.3122401833534241, train_mee 0.0\n",
      "\n",
      "Executing fold 4/4\n"
     ]
    },
    {
     "name": "stderr",
     "output_type": "stream",
     "text": [
      "100%|█████████████████████████████████████████████| 1/1 [00:30<00:00, 30.10s/it]\n"
     ]
    },
    {
     "name": "stdout",
     "output_type": "stream",
     "text": [
      "Fold 4/4 median val_loss: 0.2162291258573532, std val_loss 0.0\n",
      "Fold 4/4 median train_loss: 0.20239484310150146, std train_loss 0.0\n",
      "Fold 4/4 median val_mee: 0.30726608633995056, std val_mee 0.0\n",
      "Fold 4/4 median train_mee: 0.30845850706100464, train_mee 0.0\n",
      "\n",
      "Mean val_loss: 0.21917248144745827, std val_loss: 0.004510445668077553\n",
      "Mean train_loss: 0.21240633726119995, std train_loss: 0.006050818030950173\n",
      "Mean val_mee: 0.3176897019147873, std val_mee: 0.008724203924455253\n",
      "Mean train_mee: 0.3176897019147873, std train_mee: 0.0030280551393371343\n",
      "\n",
      "\n",
      "\n",
      "Testing configuration 20/180:\n",
      "{'batch_size': 16, 'learning_rate': 0.1, 'max_epochs': 500, 'momentum': 0.2, 'initialization': {'type': 'default'}, 'early_stopping': {'monitor': 'val_loss', 'patience': 20, 'delta': 0.01}, 'task': 'regression', 'trials_train': 1, 'trials_final': 5, 'nesterov': False, 'learning_rate_decay': {'epochs': 100, 'lr_final': 0.01}, 'regularization': {'method': 'l1', 'value': 0.001}, 'units_1': 50, 'activations_1': 'tanh', 'units_2': 50, 'activations_2': 'relu', 'units_3': 50, 'activations_3': 'tanh'}\n",
      "\n",
      "Executing fold 1/4\n"
     ]
    },
    {
     "name": "stderr",
     "output_type": "stream",
     "text": [
      "100%|█████████████████████████████████████████████| 1/1 [00:29<00:00, 29.15s/it]\n"
     ]
    },
    {
     "name": "stdout",
     "output_type": "stream",
     "text": [
      "Fold 1/4 median val_loss: 0.21893174946308136, std val_loss 0.0\n",
      "Fold 1/4 median train_loss: 0.22290882468223572, std train_loss 0.0\n",
      "Fold 1/4 median val_mee: 0.29988351464271545, std val_mee 0.0\n",
      "Fold 1/4 median train_mee: 0.31384605169296265, train_mee 0.0\n",
      "\n",
      "Executing fold 2/4\n"
     ]
    },
    {
     "name": "stderr",
     "output_type": "stream",
     "text": [
      "100%|█████████████████████████████████████████████| 1/1 [00:29<00:00, 29.62s/it]\n"
     ]
    },
    {
     "name": "stdout",
     "output_type": "stream",
     "text": [
      "Fold 2/4 median val_loss: 0.22467216849327087, std val_loss 0.0\n",
      "Fold 2/4 median train_loss: 0.2151450365781784, std train_loss 0.0\n",
      "Fold 2/4 median val_mee: 0.31072351336479187, std val_mee 0.0\n",
      "Fold 2/4 median train_mee: 0.3069458603858948, train_mee 0.0\n",
      "\n",
      "Executing fold 3/4\n"
     ]
    },
    {
     "name": "stderr",
     "output_type": "stream",
     "text": [
      "100%|█████████████████████████████████████████████| 1/1 [00:27<00:00, 27.72s/it]\n"
     ]
    },
    {
     "name": "stdout",
     "output_type": "stream",
     "text": [
      "Fold 3/4 median val_loss: 0.21718807518482208, std val_loss 0.0\n",
      "Fold 3/4 median train_loss: 0.21903790533542633, std train_loss 0.0\n",
      "Fold 3/4 median val_mee: 0.3111826777458191, std val_mee 0.0\n",
      "Fold 3/4 median train_mee: 0.31297117471694946, train_mee 0.0\n",
      "\n",
      "Executing fold 4/4\n"
     ]
    },
    {
     "name": "stderr",
     "output_type": "stream",
     "text": [
      "100%|█████████████████████████████████████████████| 1/1 [00:28<00:00, 28.61s/it]\n"
     ]
    },
    {
     "name": "stdout",
     "output_type": "stream",
     "text": [
      "Fold 4/4 median val_loss: 0.22304973006248474, std val_loss 0.0\n",
      "Fold 4/4 median train_loss: 0.20971821248531342, std train_loss 0.0\n",
      "Fold 4/4 median val_mee: 0.33171218633651733, std val_mee 0.0\n",
      "Fold 4/4 median train_mee: 0.30390119552612305, train_mee 0.0\n",
      "\n",
      "Mean val_loss: 0.22096043080091476, std val_loss: 0.003020280738854976\n",
      "Mean train_loss: 0.21670249477028847, std train_loss: 0.0048779746960207725\n",
      "Mean val_mee: 0.31337547302246094, std val_mee: 0.01151205061266068\n",
      "Mean train_mee: 0.31337547302246094, std train_mee: 0.004146663820129884\n",
      "\n",
      "\n",
      "\n",
      "Testing configuration 21/180:\n",
      "{'batch_size': 16, 'learning_rate': 0.1, 'max_epochs': 500, 'momentum': 0.2, 'initialization': {'type': 'default'}, 'early_stopping': {'monitor': 'val_loss', 'patience': 20, 'delta': 0.01}, 'task': 'regression', 'trials_train': 1, 'trials_final': 5, 'nesterov': False, 'learning_rate_decay': {'epochs': 100, 'lr_final': 0.01}, 'regularization': {'method': 'l1', 'value': 0.0001}, 'units_1': 50, 'activations_1': 'tanh', 'units_2': 50, 'activations_2': 'relu', 'units_3': 50, 'activations_3': 'tanh'}\n",
      "\n",
      "Executing fold 1/4\n"
     ]
    },
    {
     "name": "stderr",
     "output_type": "stream",
     "text": [
      "100%|█████████████████████████████████████████████| 1/1 [00:02<00:00,  2.55s/it]\n"
     ]
    },
    {
     "name": "stdout",
     "output_type": "stream",
     "text": [
      "Fold 1/4 median val_loss: 0.15675099194049835, std val_loss 0.0\n",
      "Fold 1/4 median train_loss: 0.1459348350763321, std train_loss 0.0\n",
      "Fold 1/4 median val_mee: 0.3088330924510956, std val_mee 0.0\n",
      "Fold 1/4 median train_mee: 0.29731640219688416, train_mee 0.0\n",
      "\n",
      "Executing fold 2/4\n"
     ]
    },
    {
     "name": "stderr",
     "output_type": "stream",
     "text": [
      "100%|█████████████████████████████████████████████| 1/1 [00:03<00:00,  3.15s/it]\n"
     ]
    },
    {
     "name": "stdout",
     "output_type": "stream",
     "text": [
      "Fold 2/4 median val_loss: 0.14314931631088257, std val_loss 0.0\n",
      "Fold 2/4 median train_loss: 0.14821328222751617, std train_loss 0.0\n",
      "Fold 2/4 median val_mee: 0.30190032720565796, std val_mee 0.0\n",
      "Fold 2/4 median train_mee: 0.3001483082771301, train_mee 0.0\n",
      "\n",
      "Executing fold 3/4\n"
     ]
    },
    {
     "name": "stderr",
     "output_type": "stream",
     "text": [
      "100%|█████████████████████████████████████████████| 1/1 [00:02<00:00,  2.35s/it]\n"
     ]
    },
    {
     "name": "stdout",
     "output_type": "stream",
     "text": [
      "Fold 3/4 median val_loss: 0.1596025675535202, std val_loss 0.0\n",
      "Fold 3/4 median train_loss: 0.14497897028923035, std train_loss 0.0\n",
      "Fold 3/4 median val_mee: 0.3146916925907135, std val_mee 0.0\n",
      "Fold 3/4 median train_mee: 0.29731234908103943, train_mee 0.0\n",
      "\n",
      "Executing fold 4/4\n"
     ]
    },
    {
     "name": "stderr",
     "output_type": "stream",
     "text": [
      "100%|█████████████████████████████████████████████| 1/1 [00:02<00:00,  2.88s/it]\n"
     ]
    },
    {
     "name": "stdout",
     "output_type": "stream",
     "text": [
      "Fold 4/4 median val_loss: 0.16725365817546844, std val_loss 0.0\n",
      "Fold 4/4 median train_loss: 0.14261852204799652, std train_loss 0.0\n",
      "Fold 4/4 median val_mee: 0.34048908948898315, std val_mee 0.0\n",
      "Fold 4/4 median train_mee: 0.28523489832878113, train_mee 0.0\n",
      "\n",
      "Mean val_loss: 0.1566891334950924, std val_loss: 0.008709588905111618\n",
      "Mean train_loss: 0.14543640241026878, std train_loss: 0.0020068128041419472\n",
      "Mean val_mee: 0.31647855043411255, std val_mee: 0.014583179239510106\n",
      "Mean train_mee: 0.31647855043411255, std train_mee: 0.005757059371505894\n",
      "\n",
      "\n",
      "\n",
      "Testing configuration 22/180:\n",
      "{'batch_size': 16, 'learning_rate': 0.1, 'max_epochs': 500, 'momentum': 0.2, 'initialization': {'type': 'default'}, 'early_stopping': {'monitor': 'val_loss', 'patience': 20, 'delta': 0.01}, 'task': 'regression', 'trials_train': 1, 'trials_final': 5, 'nesterov': False, 'learning_rate_decay': {'epochs': 100, 'lr_final': 0.01}, 'regularization': {'method': 'l1', 'value': 0.0001}, 'units_1': 50, 'activations_1': 'tanh', 'units_2': 50, 'activations_2': 'relu', 'units_3': 50, 'activations_3': 'tanh'}\n",
      "\n",
      "Executing fold 1/4\n"
     ]
    },
    {
     "name": "stderr",
     "output_type": "stream",
     "text": [
      "100%|█████████████████████████████████████████████| 1/1 [00:02<00:00,  2.44s/it]\n"
     ]
    },
    {
     "name": "stdout",
     "output_type": "stream",
     "text": [
      "Fold 1/4 median val_loss: 0.15057486295700073, std val_loss 0.0\n",
      "Fold 1/4 median train_loss: 0.14679132401943207, std train_loss 0.0\n",
      "Fold 1/4 median val_mee: 0.31706929206848145, std val_mee 0.0\n",
      "Fold 1/4 median train_mee: 0.2965426445007324, train_mee 0.0\n",
      "\n",
      "Executing fold 2/4\n"
     ]
    },
    {
     "name": "stderr",
     "output_type": "stream",
     "text": [
      "100%|█████████████████████████████████████████████| 1/1 [00:03<00:00,  3.39s/it]\n"
     ]
    },
    {
     "name": "stdout",
     "output_type": "stream",
     "text": [
      "Fold 2/4 median val_loss: 0.14635877311229706, std val_loss 0.0\n",
      "Fold 2/4 median train_loss: 0.1453249603509903, std train_loss 0.0\n",
      "Fold 2/4 median val_mee: 0.29479169845581055, std val_mee 0.0\n",
      "Fold 2/4 median train_mee: 0.29934388399124146, train_mee 0.0\n",
      "\n",
      "Executing fold 3/4\n"
     ]
    },
    {
     "name": "stderr",
     "output_type": "stream",
     "text": [
      "100%|█████████████████████████████████████████████| 1/1 [00:02<00:00,  2.62s/it]\n"
     ]
    },
    {
     "name": "stdout",
     "output_type": "stream",
     "text": [
      "Fold 3/4 median val_loss: 0.15866121649742126, std val_loss 0.0\n",
      "Fold 3/4 median train_loss: 0.14293541014194489, std train_loss 0.0\n",
      "Fold 3/4 median val_mee: 0.31746602058410645, std val_mee 0.0\n",
      "Fold 3/4 median train_mee: 0.2916412353515625, train_mee 0.0\n",
      "\n",
      "Executing fold 4/4\n"
     ]
    },
    {
     "name": "stderr",
     "output_type": "stream",
     "text": [
      "100%|█████████████████████████████████████████████| 1/1 [00:03<00:00,  3.03s/it]\n"
     ]
    },
    {
     "name": "stdout",
     "output_type": "stream",
     "text": [
      "Fold 4/4 median val_loss: 0.16987574100494385, std val_loss 0.0\n",
      "Fold 4/4 median train_loss: 0.13920240104198456, std train_loss 0.0\n",
      "Fold 4/4 median val_mee: 0.33073097467422485, std val_mee 0.0\n",
      "Fold 4/4 median train_mee: 0.29008951783180237, train_mee 0.0\n",
      "\n",
      "Mean val_loss: 0.15636764839291573, std val_loss: 0.008964694196606237\n",
      "Mean train_loss: 0.14356352388858795, std train_loss: 0.0028694629923404595\n",
      "Mean val_mee: 0.3150144964456558, std val_mee: 0.012905438796299837\n",
      "Mean train_mee: 0.3150144964456558, std train_mee: 0.003715638525849731\n",
      "\n",
      "\n",
      "\n",
      "Testing configuration 23/180:\n",
      "{'batch_size': 16, 'learning_rate': 0.1, 'max_epochs': 500, 'momentum': 0.2, 'initialization': {'type': 'default'}, 'early_stopping': {'monitor': 'val_loss', 'patience': 20, 'delta': 0.01}, 'task': 'regression', 'trials_train': 1, 'trials_final': 5, 'nesterov': False, 'learning_rate_decay': {'epochs': 100, 'lr_final': 0.01}, 'regularization': {'method': 'l1', 'value': 0.0001}, 'units_1': 50, 'activations_1': 'tanh', 'units_2': 50, 'activations_2': 'relu', 'units_3': 50, 'activations_3': 'tanh'}\n",
      "\n",
      "Executing fold 1/4\n"
     ]
    },
    {
     "name": "stderr",
     "output_type": "stream",
     "text": [
      "100%|█████████████████████████████████████████████| 1/1 [00:03<00:00,  3.10s/it]\n"
     ]
    },
    {
     "name": "stdout",
     "output_type": "stream",
     "text": [
      "Fold 1/4 median val_loss: 0.16216032207012177, std val_loss 0.0\n",
      "Fold 1/4 median train_loss: 0.14360642433166504, std train_loss 0.0\n",
      "Fold 1/4 median val_mee: 0.318764328956604, std val_mee 0.0\n",
      "Fold 1/4 median train_mee: 0.2946779429912567, train_mee 0.0\n",
      "\n",
      "Executing fold 2/4\n"
     ]
    },
    {
     "name": "stderr",
     "output_type": "stream",
     "text": [
      "100%|█████████████████████████████████████████████| 1/1 [00:02<00:00,  2.98s/it]\n"
     ]
    },
    {
     "name": "stdout",
     "output_type": "stream",
     "text": [
      "Fold 2/4 median val_loss: 0.1615220159292221, std val_loss 0.0\n",
      "Fold 2/4 median train_loss: 0.14123433828353882, std train_loss 0.0\n",
      "Fold 2/4 median val_mee: 0.32173576951026917, std val_mee 0.0\n",
      "Fold 2/4 median train_mee: 0.2898944914340973, train_mee 0.0\n",
      "\n",
      "Executing fold 3/4\n"
     ]
    },
    {
     "name": "stderr",
     "output_type": "stream",
     "text": [
      "100%|█████████████████████████████████████████████| 1/1 [00:02<00:00,  2.32s/it]\n"
     ]
    },
    {
     "name": "stdout",
     "output_type": "stream",
     "text": [
      "Fold 3/4 median val_loss: 0.16108091175556183, std val_loss 0.0\n",
      "Fold 3/4 median train_loss: 0.14507436752319336, std train_loss 0.0\n",
      "Fold 3/4 median val_mee: 0.32143718004226685, std val_mee 0.0\n",
      "Fold 3/4 median train_mee: 0.29566246271133423, train_mee 0.0\n",
      "\n",
      "Executing fold 4/4\n"
     ]
    },
    {
     "name": "stderr",
     "output_type": "stream",
     "text": [
      "100%|█████████████████████████████████████████████| 1/1 [00:02<00:00,  2.27s/it]\n"
     ]
    },
    {
     "name": "stdout",
     "output_type": "stream",
     "text": [
      "Fold 4/4 median val_loss: 0.1491599828004837, std val_loss 0.0\n",
      "Fold 4/4 median train_loss: 0.1504823863506317, std train_loss 0.0\n",
      "Fold 4/4 median val_mee: 0.3067396581172943, std val_mee 0.0\n",
      "Fold 4/4 median train_mee: 0.3047884404659271, train_mee 0.0\n",
      "\n",
      "Mean val_loss: 0.15848080813884735, std val_loss: 0.005395046139761274\n",
      "Mean train_loss: 0.14509937912225723, std train_loss: 0.0033964999298002705\n",
      "Mean val_mee: 0.3171692341566086, std val_mee: 0.006131659461352001\n",
      "Mean train_mee: 0.3171692341566086, std train_mee: 0.0053878075750910075\n",
      "\n",
      "\n",
      "\n",
      "Testing configuration 24/180:\n",
      "{'batch_size': 16, 'learning_rate': 0.1, 'max_epochs': 500, 'momentum': 0.2, 'initialization': {'type': 'default'}, 'early_stopping': {'monitor': 'val_loss', 'patience': 20, 'delta': 0.01}, 'task': 'regression', 'trials_train': 1, 'trials_final': 5, 'nesterov': False, 'learning_rate_decay': {'epochs': 100, 'lr_final': 0.01}, 'regularization': {'method': 'l1', 'value': 0.0001}, 'units_1': 50, 'activations_1': 'tanh', 'units_2': 50, 'activations_2': 'relu', 'units_3': 50, 'activations_3': 'tanh'}\n",
      "\n",
      "Executing fold 1/4\n"
     ]
    },
    {
     "name": "stderr",
     "output_type": "stream",
     "text": [
      "100%|█████████████████████████████████████████████| 1/1 [00:02<00:00,  2.30s/it]\n"
     ]
    },
    {
     "name": "stdout",
     "output_type": "stream",
     "text": [
      "Fold 1/4 median val_loss: 0.15893131494522095, std val_loss 0.0\n",
      "Fold 1/4 median train_loss: 0.14379790425300598, std train_loss 0.0\n",
      "Fold 1/4 median val_mee: 0.30963683128356934, std val_mee 0.0\n",
      "Fold 1/4 median train_mee: 0.29199519753456116, train_mee 0.0\n",
      "\n",
      "Executing fold 2/4\n"
     ]
    },
    {
     "name": "stderr",
     "output_type": "stream",
     "text": [
      "100%|█████████████████████████████████████████████| 1/1 [00:03<00:00,  3.80s/it]\n"
     ]
    },
    {
     "name": "stdout",
     "output_type": "stream",
     "text": [
      "Fold 2/4 median val_loss: 0.16434049606323242, std val_loss 0.0\n",
      "Fold 2/4 median train_loss: 0.1406017690896988, std train_loss 0.0\n",
      "Fold 2/4 median val_mee: 0.33426064252853394, std val_mee 0.0\n",
      "Fold 2/4 median train_mee: 0.2905837595462799, train_mee 0.0\n",
      "\n",
      "Executing fold 3/4\n"
     ]
    },
    {
     "name": "stderr",
     "output_type": "stream",
     "text": [
      "100%|█████████████████████████████████████████████| 1/1 [00:04<00:00,  4.77s/it]\n"
     ]
    },
    {
     "name": "stdout",
     "output_type": "stream",
     "text": [
      "Fold 3/4 median val_loss: 0.15227608382701874, std val_loss 0.0\n",
      "Fold 3/4 median train_loss: 0.14546073973178864, std train_loss 0.0\n",
      "Fold 3/4 median val_mee: 0.2971380054950714, std val_mee 0.0\n",
      "Fold 3/4 median train_mee: 0.2982335090637207, train_mee 0.0\n",
      "\n",
      "Executing fold 4/4\n"
     ]
    },
    {
     "name": "stderr",
     "output_type": "stream",
     "text": [
      "100%|█████████████████████████████████████████████| 1/1 [00:02<00:00,  2.97s/it]\n"
     ]
    },
    {
     "name": "stdout",
     "output_type": "stream",
     "text": [
      "Fold 4/4 median val_loss: 0.1463974416255951, std val_loss 0.0\n",
      "Fold 4/4 median train_loss: 0.14810405671596527, std train_loss 0.0\n",
      "Fold 4/4 median val_mee: 0.2985345721244812, std val_mee 0.0\n",
      "Fold 4/4 median train_mee: 0.2987271249294281, train_mee 0.0\n",
      "\n",
      "Mean val_loss: 0.1554863341152668, std val_loss: 0.006767158752415253\n",
      "Mean train_loss: 0.14449111744761467, std train_loss: 0.0027203433934504958\n",
      "Mean val_mee: 0.30989251285791397, std val_mee: 0.014879107773020067\n",
      "Mean train_mee: 0.30989251285791397, std train_mee: 0.0036340770702931614\n",
      "\n",
      "\n",
      "\n",
      "Testing configuration 25/180:\n",
      "{'batch_size': 16, 'learning_rate': 0.1, 'max_epochs': 500, 'momentum': 0.2, 'initialization': {'type': 'default'}, 'early_stopping': {'monitor': 'val_loss', 'patience': 20, 'delta': 0.01}, 'task': 'regression', 'trials_train': 1, 'trials_final': 5, 'nesterov': False, 'learning_rate_decay': {'epochs': 100, 'lr_final': 0.01}, 'regularization': {'method': 'l1', 'value': 0.0001}, 'units_1': 50, 'activations_1': 'tanh', 'units_2': 50, 'activations_2': 'relu', 'units_3': 50, 'activations_3': 'tanh'}\n",
      "\n",
      "Executing fold 1/4\n"
     ]
    },
    {
     "name": "stderr",
     "output_type": "stream",
     "text": [
      "100%|█████████████████████████████████████████████| 1/1 [00:02<00:00,  2.72s/it]\n"
     ]
    },
    {
     "name": "stdout",
     "output_type": "stream",
     "text": [
      "Fold 1/4 median val_loss: 0.1587771475315094, std val_loss 0.0\n",
      "Fold 1/4 median train_loss: 0.14601166546344757, std train_loss 0.0\n",
      "Fold 1/4 median val_mee: 0.3254040479660034, std val_mee 0.0\n",
      "Fold 1/4 median train_mee: 0.2938535511493683, train_mee 0.0\n",
      "\n",
      "Executing fold 2/4\n"
     ]
    },
    {
     "name": "stderr",
     "output_type": "stream",
     "text": [
      "100%|█████████████████████████████████████████████| 1/1 [00:03<00:00,  3.23s/it]\n"
     ]
    },
    {
     "name": "stdout",
     "output_type": "stream",
     "text": [
      "Fold 2/4 median val_loss: 0.14572347700595856, std val_loss 0.0\n",
      "Fold 2/4 median train_loss: 0.14676758646965027, std train_loss 0.0\n",
      "Fold 2/4 median val_mee: 0.296626478433609, std val_mee 0.0\n",
      "Fold 2/4 median train_mee: 0.29787808656692505, train_mee 0.0\n",
      "\n",
      "Executing fold 3/4\n"
     ]
    },
    {
     "name": "stderr",
     "output_type": "stream",
     "text": [
      "100%|█████████████████████████████████████████████| 1/1 [00:03<00:00,  3.57s/it]\n"
     ]
    },
    {
     "name": "stdout",
     "output_type": "stream",
     "text": [
      "Fold 3/4 median val_loss: 0.15987837314605713, std val_loss 0.0\n",
      "Fold 3/4 median train_loss: 0.14080078899860382, std train_loss 0.0\n",
      "Fold 3/4 median val_mee: 0.3122960031032562, std val_mee 0.0\n",
      "Fold 3/4 median train_mee: 0.29016366600990295, train_mee 0.0\n",
      "\n",
      "Executing fold 4/4\n"
     ]
    },
    {
     "name": "stderr",
     "output_type": "stream",
     "text": [
      "100%|█████████████████████████████████████████████| 1/1 [00:02<00:00,  2.41s/it]\n"
     ]
    },
    {
     "name": "stdout",
     "output_type": "stream",
     "text": [
      "Fold 4/4 median val_loss: 0.15766547620296478, std val_loss 0.0\n",
      "Fold 4/4 median train_loss: 0.1439989060163498, std train_loss 0.0\n",
      "Fold 4/4 median val_mee: 0.3169587254524231, std val_mee 0.0\n",
      "Fold 4/4 median train_mee: 0.2973305583000183, train_mee 0.0\n",
      "\n",
      "Mean val_loss: 0.15551111847162247, std val_loss: 0.0057048015282386315\n",
      "Mean train_loss: 0.14439473673701286, std train_loss: 0.0023085718889544727\n",
      "Mean val_mee: 0.31282131373882294, std val_mee: 0.010464129420866051\n",
      "Mean train_mee: 0.31282131373882294, std train_mee: 0.003093118705561076\n",
      "\n",
      "\n",
      "\n",
      "Testing configuration 26/180:\n",
      "{'batch_size': 16, 'learning_rate': 0.1, 'max_epochs': 500, 'momentum': 0.2, 'initialization': {'type': 'default'}, 'early_stopping': {'monitor': 'val_loss', 'patience': 20, 'delta': 0.01}, 'task': 'regression', 'trials_train': 1, 'trials_final': 5, 'nesterov': False, 'learning_rate_decay': {'epochs': 100, 'lr_final': 0.01}, 'regularization': {'method': 'l1', 'value': 1e-05}, 'units_1': 50, 'activations_1': 'tanh', 'units_2': 50, 'activations_2': 'relu', 'units_3': 50, 'activations_3': 'tanh'}\n",
      "\n",
      "Executing fold 1/4\n"
     ]
    },
    {
     "name": "stderr",
     "output_type": "stream",
     "text": [
      "100%|█████████████████████████████████████████████| 1/1 [00:02<00:00,  2.54s/it]\n"
     ]
    },
    {
     "name": "stdout",
     "output_type": "stream",
     "text": [
      "Fold 1/4 median val_loss: 0.0845632553100586, std val_loss 0.0\n",
      "Fold 1/4 median train_loss: 0.0886426568031311, std train_loss 0.0\n",
      "Fold 1/4 median val_mee: 0.29314738512039185, std val_mee 0.0\n",
      "Fold 1/4 median train_mee: 0.30184081196784973, train_mee 0.0\n",
      "\n",
      "Executing fold 2/4\n"
     ]
    },
    {
     "name": "stderr",
     "output_type": "stream",
     "text": [
      "100%|█████████████████████████████████████████████| 1/1 [00:02<00:00,  2.44s/it]\n"
     ]
    },
    {
     "name": "stdout",
     "output_type": "stream",
     "text": [
      "Fold 2/4 median val_loss: 0.08170757442712784, std val_loss 0.0\n",
      "Fold 2/4 median train_loss: 0.08709703385829926, std train_loss 0.0\n",
      "Fold 2/4 median val_mee: 0.2945617735385895, std val_mee 0.0\n",
      "Fold 2/4 median train_mee: 0.3014996647834778, train_mee 0.0\n",
      "\n",
      "Executing fold 3/4\n"
     ]
    },
    {
     "name": "stderr",
     "output_type": "stream",
     "text": [
      "100%|█████████████████████████████████████████████| 1/1 [00:02<00:00,  2.29s/it]\n"
     ]
    },
    {
     "name": "stdout",
     "output_type": "stream",
     "text": [
      "Fold 3/4 median val_loss: 0.11542212963104248, std val_loss 0.0\n",
      "Fold 3/4 median train_loss: 0.07834488153457642, std train_loss 0.0\n",
      "Fold 3/4 median val_mee: 0.34305402636528015, std val_mee 0.0\n",
      "Fold 3/4 median train_mee: 0.2858690619468689, train_mee 0.0\n",
      "\n",
      "Executing fold 4/4\n"
     ]
    },
    {
     "name": "stderr",
     "output_type": "stream",
     "text": [
      "100%|█████████████████████████████████████████████| 1/1 [00:02<00:00,  2.43s/it]\n"
     ]
    },
    {
     "name": "stdout",
     "output_type": "stream",
     "text": [
      "Fold 4/4 median val_loss: 0.09376431256532669, std val_loss 0.0\n",
      "Fold 4/4 median train_loss: 0.08365059643983841, std train_loss 0.0\n",
      "Fold 4/4 median val_mee: 0.3080117106437683, std val_mee 0.0\n",
      "Fold 4/4 median train_mee: 0.29751643538475037, train_mee 0.0\n",
      "\n",
      "Mean val_loss: 0.0938643179833889, std val_loss: 0.013219733590973603\n",
      "Mean train_loss: 0.0844337921589613, std train_loss: 0.003952708756923367\n",
      "Mean val_mee: 0.30969372391700745, std val_mee: 0.020115269063070425\n",
      "Mean train_mee: 0.30969372391700745, std train_mee: 0.0064699139409207145\n",
      "\n",
      "\n",
      "\n",
      "Testing configuration 27/180:\n",
      "{'batch_size': 16, 'learning_rate': 0.1, 'max_epochs': 500, 'momentum': 0.2, 'initialization': {'type': 'default'}, 'early_stopping': {'monitor': 'val_loss', 'patience': 20, 'delta': 0.01}, 'task': 'regression', 'trials_train': 1, 'trials_final': 5, 'nesterov': False, 'learning_rate_decay': {'epochs': 100, 'lr_final': 0.01}, 'regularization': {'method': 'l1', 'value': 1e-05}, 'units_1': 50, 'activations_1': 'tanh', 'units_2': 50, 'activations_2': 'relu', 'units_3': 50, 'activations_3': 'tanh'}\n",
      "\n",
      "Executing fold 1/4\n"
     ]
    },
    {
     "name": "stderr",
     "output_type": "stream",
     "text": [
      "100%|█████████████████████████████████████████████| 1/1 [00:02<00:00,  2.51s/it]\n"
     ]
    },
    {
     "name": "stdout",
     "output_type": "stream",
     "text": [
      "Fold 1/4 median val_loss: 0.08412227779626846, std val_loss 0.0\n",
      "Fold 1/4 median train_loss: 0.08666720241308212, std train_loss 0.0\n",
      "Fold 1/4 median val_mee: 0.2859587073326111, std val_mee 0.0\n",
      "Fold 1/4 median train_mee: 0.2982507646083832, train_mee 0.0\n",
      "\n",
      "Executing fold 2/4\n"
     ]
    },
    {
     "name": "stderr",
     "output_type": "stream",
     "text": [
      "100%|█████████████████████████████████████████████| 1/1 [00:02<00:00,  2.56s/it]\n"
     ]
    },
    {
     "name": "stdout",
     "output_type": "stream",
     "text": [
      "Fold 2/4 median val_loss: 0.09675943106412888, std val_loss 0.0\n",
      "Fold 2/4 median train_loss: 0.08055984228849411, std train_loss 0.0\n",
      "Fold 2/4 median val_mee: 0.32589930295944214, std val_mee 0.0\n",
      "Fold 2/4 median train_mee: 0.2891632616519928, train_mee 0.0\n",
      "\n",
      "Executing fold 3/4\n"
     ]
    },
    {
     "name": "stderr",
     "output_type": "stream",
     "text": [
      "100%|█████████████████████████████████████████████| 1/1 [00:02<00:00,  2.60s/it]\n"
     ]
    },
    {
     "name": "stdout",
     "output_type": "stream",
     "text": [
      "Fold 3/4 median val_loss: 0.09881169348955154, std val_loss 0.0\n",
      "Fold 3/4 median train_loss: 0.0826532170176506, std train_loss 0.0\n",
      "Fold 3/4 median val_mee: 0.3285784423351288, std val_mee 0.0\n",
      "Fold 3/4 median train_mee: 0.2924661338329315, train_mee 0.0\n",
      "\n",
      "Executing fold 4/4\n"
     ]
    },
    {
     "name": "stderr",
     "output_type": "stream",
     "text": [
      "100%|█████████████████████████████████████████████| 1/1 [00:02<00:00,  2.18s/it]\n"
     ]
    },
    {
     "name": "stdout",
     "output_type": "stream",
     "text": [
      "Fold 4/4 median val_loss: 0.1065981537103653, std val_loss 0.0\n",
      "Fold 4/4 median train_loss: 0.08116626739501953, std train_loss 0.0\n",
      "Fold 4/4 median val_mee: 0.3274601101875305, std val_mee 0.0\n",
      "Fold 4/4 median train_mee: 0.29188302159309387, train_mee 0.0\n",
      "\n",
      "Mean val_loss: 0.09657288901507854, std val_loss: 0.008071101153862257\n",
      "Mean train_loss: 0.08276163227856159, std train_loss: 0.0023800367757903264\n",
      "Mean val_mee: 0.31697414070367813, std val_mee: 0.017932031402331315\n",
      "Mean train_mee: 0.31697414070367813, std train_mee: 0.00330944569532193\n",
      "\n",
      "\n",
      "\n",
      "Testing configuration 28/180:\n",
      "{'batch_size': 16, 'learning_rate': 0.1, 'max_epochs': 500, 'momentum': 0.2, 'initialization': {'type': 'default'}, 'early_stopping': {'monitor': 'val_loss', 'patience': 20, 'delta': 0.01}, 'task': 'regression', 'trials_train': 1, 'trials_final': 5, 'nesterov': False, 'learning_rate_decay': {'epochs': 100, 'lr_final': 0.01}, 'regularization': {'method': 'l1', 'value': 1e-05}, 'units_1': 50, 'activations_1': 'tanh', 'units_2': 50, 'activations_2': 'relu', 'units_3': 50, 'activations_3': 'tanh'}\n",
      "\n",
      "Executing fold 1/4\n"
     ]
    },
    {
     "name": "stderr",
     "output_type": "stream",
     "text": [
      "100%|█████████████████████████████████████████████| 1/1 [00:02<00:00,  2.27s/it]\n"
     ]
    },
    {
     "name": "stdout",
     "output_type": "stream",
     "text": [
      "Fold 1/4 median val_loss: 0.09046892821788788, std val_loss 0.0\n",
      "Fold 1/4 median train_loss: 0.08606606721878052, std train_loss 0.0\n",
      "Fold 1/4 median val_mee: 0.30093055963516235, std val_mee 0.0\n",
      "Fold 1/4 median train_mee: 0.29950445890426636, train_mee 0.0\n",
      "\n",
      "Executing fold 2/4\n"
     ]
    },
    {
     "name": "stderr",
     "output_type": "stream",
     "text": [
      "100%|█████████████████████████████████████████████| 1/1 [00:03<00:00,  3.24s/it]\n"
     ]
    },
    {
     "name": "stdout",
     "output_type": "stream",
     "text": [
      "Fold 2/4 median val_loss: 0.08452613651752472, std val_loss 0.0\n",
      "Fold 2/4 median train_loss: 0.08780580013990402, std train_loss 0.0\n",
      "Fold 2/4 median val_mee: 0.3047616481781006, std val_mee 0.0\n",
      "Fold 2/4 median train_mee: 0.3040483891963959, train_mee 0.0\n",
      "\n",
      "Executing fold 3/4\n"
     ]
    },
    {
     "name": "stderr",
     "output_type": "stream",
     "text": [
      "100%|█████████████████████████████████████████████| 1/1 [00:02<00:00,  2.42s/it]\n"
     ]
    },
    {
     "name": "stdout",
     "output_type": "stream",
     "text": [
      "Fold 3/4 median val_loss: 0.10077342391014099, std val_loss 0.0\n",
      "Fold 3/4 median train_loss: 0.08136625587940216, std train_loss 0.0\n",
      "Fold 3/4 median val_mee: 0.3123210072517395, std val_mee 0.0\n",
      "Fold 3/4 median train_mee: 0.2900291979312897, train_mee 0.0\n",
      "\n",
      "Executing fold 4/4\n"
     ]
    },
    {
     "name": "stderr",
     "output_type": "stream",
     "text": [
      "100%|█████████████████████████████████████████████| 1/1 [00:02<00:00,  2.21s/it]\n"
     ]
    },
    {
     "name": "stdout",
     "output_type": "stream",
     "text": [
      "Fold 4/4 median val_loss: 0.09881442040205002, std val_loss 0.0\n",
      "Fold 4/4 median train_loss: 0.08191585540771484, std train_loss 0.0\n",
      "Fold 4/4 median val_mee: 0.31195878982543945, std val_mee 0.0\n",
      "Fold 4/4 median train_mee: 0.2893735468387604, train_mee 0.0\n",
      "\n",
      "Mean val_loss: 0.0936457272619009, std val_loss: 0.006534111182810393\n",
      "Mean train_loss: 0.08428849466145039, std train_loss: 0.0027248898396543754\n",
      "Mean val_mee: 0.3074930012226105, std val_mee: 0.004841973747989695\n",
      "Mean train_mee: 0.3074930012226105, std train_mee: 0.006251908971411152\n",
      "\n",
      "\n",
      "\n",
      "Testing configuration 29/180:\n",
      "{'batch_size': 16, 'learning_rate': 0.1, 'max_epochs': 500, 'momentum': 0.2, 'initialization': {'type': 'default'}, 'early_stopping': {'monitor': 'val_loss', 'patience': 20, 'delta': 0.01}, 'task': 'regression', 'trials_train': 1, 'trials_final': 5, 'nesterov': False, 'learning_rate_decay': {'epochs': 100, 'lr_final': 0.01}, 'regularization': {'method': 'l1', 'value': 1e-05}, 'units_1': 50, 'activations_1': 'tanh', 'units_2': 50, 'activations_2': 'relu', 'units_3': 50, 'activations_3': 'tanh'}\n",
      "\n",
      "Executing fold 1/4\n"
     ]
    },
    {
     "name": "stderr",
     "output_type": "stream",
     "text": [
      "100%|█████████████████████████████████████████████| 1/1 [00:02<00:00,  2.67s/it]\n"
     ]
    },
    {
     "name": "stdout",
     "output_type": "stream",
     "text": [
      "Fold 1/4 median val_loss: 0.07958334684371948, std val_loss 0.0\n",
      "Fold 1/4 median train_loss: 0.08719149976968765, std train_loss 0.0\n",
      "Fold 1/4 median val_mee: 0.2928585410118103, std val_mee 0.0\n",
      "Fold 1/4 median train_mee: 0.2987750470638275, train_mee 0.0\n",
      "\n",
      "Executing fold 2/4\n"
     ]
    },
    {
     "name": "stderr",
     "output_type": "stream",
     "text": [
      "100%|█████████████████████████████████████████████| 1/1 [00:03<00:00,  3.64s/it]\n"
     ]
    },
    {
     "name": "stdout",
     "output_type": "stream",
     "text": [
      "Fold 2/4 median val_loss: 0.08804137259721756, std val_loss 0.0\n",
      "Fold 2/4 median train_loss: 0.08539765328168869, std train_loss 0.0\n",
      "Fold 2/4 median val_mee: 0.30528584122657776, std val_mee 0.0\n",
      "Fold 2/4 median train_mee: 0.29505303502082825, train_mee 0.0\n",
      "\n",
      "Executing fold 3/4\n"
     ]
    },
    {
     "name": "stderr",
     "output_type": "stream",
     "text": [
      "100%|█████████████████████████████████████████████| 1/1 [00:03<00:00,  3.30s/it]\n"
     ]
    },
    {
     "name": "stdout",
     "output_type": "stream",
     "text": [
      "Fold 3/4 median val_loss: 0.09365583211183548, std val_loss 0.0\n",
      "Fold 3/4 median train_loss: 0.08115853369235992, std train_loss 0.0\n",
      "Fold 3/4 median val_mee: 0.3217259347438812, std val_mee 0.0\n",
      "Fold 3/4 median train_mee: 0.28956860303878784, train_mee 0.0\n",
      "\n",
      "Executing fold 4/4\n"
     ]
    },
    {
     "name": "stderr",
     "output_type": "stream",
     "text": [
      "100%|█████████████████████████████████████████████| 1/1 [00:02<00:00,  2.42s/it]\n"
     ]
    },
    {
     "name": "stdout",
     "output_type": "stream",
     "text": [
      "Fold 4/4 median val_loss: 0.10910312086343765, std val_loss 0.0\n",
      "Fold 4/4 median train_loss: 0.07862930744886398, std train_loss 0.0\n",
      "Fold 4/4 median val_mee: 0.3276197910308838, std val_mee 0.0\n",
      "Fold 4/4 median train_mee: 0.2913990616798401, train_mee 0.0\n",
      "\n",
      "Mean val_loss: 0.09259591810405254, std val_loss: 0.010766638939595107\n",
      "Mean train_loss: 0.08309424854815006, std train_loss: 0.003382891956665925\n",
      "Mean val_mee: 0.31187252700328827, std val_mee: 0.01369290017912953\n",
      "Mean train_mee: 0.31187252700328827, std train_mee: 0.0035337501308639794\n",
      "\n",
      "\n",
      "\n",
      "Testing configuration 30/180:\n",
      "{'batch_size': 16, 'learning_rate': 0.1, 'max_epochs': 500, 'momentum': 0.2, 'initialization': {'type': 'default'}, 'early_stopping': {'monitor': 'val_loss', 'patience': 20, 'delta': 0.01}, 'task': 'regression', 'trials_train': 1, 'trials_final': 5, 'nesterov': False, 'learning_rate_decay': {'epochs': 100, 'lr_final': 0.01}, 'regularization': {'method': 'l1', 'value': 1e-05}, 'units_1': 50, 'activations_1': 'tanh', 'units_2': 50, 'activations_2': 'relu', 'units_3': 50, 'activations_3': 'tanh'}\n",
      "\n",
      "Executing fold 1/4\n"
     ]
    },
    {
     "name": "stderr",
     "output_type": "stream",
     "text": [
      "100%|█████████████████████████████████████████████| 1/1 [00:02<00:00,  2.58s/it]\n"
     ]
    },
    {
     "name": "stdout",
     "output_type": "stream",
     "text": [
      "Fold 1/4 median val_loss: 0.08846729248762131, std val_loss 0.0\n",
      "Fold 1/4 median train_loss: 0.08679874241352081, std train_loss 0.0\n",
      "Fold 1/4 median val_mee: 0.30225670337677, std val_mee 0.0\n",
      "Fold 1/4 median train_mee: 0.302854984998703, train_mee 0.0\n",
      "\n",
      "Executing fold 2/4\n"
     ]
    },
    {
     "name": "stderr",
     "output_type": "stream",
     "text": [
      "100%|█████████████████████████████████████████████| 1/1 [00:03<00:00,  3.74s/it]\n"
     ]
    },
    {
     "name": "stdout",
     "output_type": "stream",
     "text": [
      "Fold 2/4 median val_loss: 0.10095492005348206, std val_loss 0.0\n",
      "Fold 2/4 median train_loss: 0.08125581592321396, std train_loss 0.0\n",
      "Fold 2/4 median val_mee: 0.31843438744544983, std val_mee 0.0\n",
      "Fold 2/4 median train_mee: 0.2927379608154297, train_mee 0.0\n",
      "\n",
      "Executing fold 3/4\n"
     ]
    },
    {
     "name": "stderr",
     "output_type": "stream",
     "text": [
      "100%|█████████████████████████████████████████████| 1/1 [00:04<00:00,  4.40s/it]\n"
     ]
    },
    {
     "name": "stdout",
     "output_type": "stream",
     "text": [
      "Fold 3/4 median val_loss: 0.08142589777708054, std val_loss 0.0\n",
      "Fold 3/4 median train_loss: 0.08590616285800934, std train_loss 0.0\n",
      "Fold 3/4 median val_mee: 0.2975452244281769, std val_mee 0.0\n",
      "Fold 3/4 median train_mee: 0.29571542143821716, train_mee 0.0\n",
      "\n",
      "Executing fold 4/4\n"
     ]
    },
    {
     "name": "stderr",
     "output_type": "stream",
     "text": [
      "100%|█████████████████████████████████████████████| 1/1 [00:03<00:00,  3.42s/it]\n"
     ]
    },
    {
     "name": "stdout",
     "output_type": "stream",
     "text": [
      "Fold 4/4 median val_loss: 0.11221937835216522, std val_loss 0.0\n",
      "Fold 4/4 median train_loss: 0.07825638353824615, std train_loss 0.0\n",
      "Fold 4/4 median val_mee: 0.3316444754600525, std val_mee 0.0\n",
      "Fold 4/4 median train_mee: 0.2879164218902588, train_mee 0.0\n",
      "\n",
      "Mean val_loss: 0.09576687216758728, std val_loss: 0.011795637017487176\n",
      "Mean train_loss: 0.08305427618324757, std train_loss: 0.0034788115102438104\n",
      "Mean val_mee: 0.3124701976776123, std val_mee: 0.01351198338877992\n",
      "Mean train_mee: 0.3124701976776123, std train_mee: 0.005416555162303158\n",
      "\n",
      "\n",
      "\n",
      "Testing configuration 31/180:\n",
      "{'batch_size': 16, 'learning_rate': 0.1, 'max_epochs': 500, 'momentum': 0.3, 'initialization': {'type': 'default'}, 'early_stopping': {'monitor': 'val_loss', 'patience': 20, 'delta': 0.01}, 'task': 'regression', 'trials_train': 1, 'trials_final': 5, 'nesterov': False, 'learning_rate_decay': {'epochs': 100, 'lr_final': 0.01}, 'regularization': {'method': 'l1', 'value': 0.001}, 'units_1': 50, 'activations_1': 'tanh', 'units_2': 50, 'activations_2': 'relu', 'units_3': 50, 'activations_3': 'tanh'}\n",
      "\n",
      "Executing fold 1/4\n"
     ]
    },
    {
     "name": "stderr",
     "output_type": "stream",
     "text": [
      "100%|█████████████████████████████████████████████| 1/1 [00:26<00:00, 26.17s/it]\n"
     ]
    },
    {
     "name": "stdout",
     "output_type": "stream",
     "text": [
      "Fold 1/4 median val_loss: 0.19647221267223358, std val_loss 0.0\n",
      "Fold 1/4 median train_loss: 0.20272767543792725, std train_loss 0.0\n",
      "Fold 1/4 median val_mee: 0.2970607578754425, std val_mee 0.0\n",
      "Fold 1/4 median train_mee: 0.31743642687797546, train_mee 0.0\n",
      "\n",
      "Executing fold 2/4\n"
     ]
    },
    {
     "name": "stderr",
     "output_type": "stream",
     "text": [
      "100%|█████████████████████████████████████████████| 1/1 [00:26<00:00, 26.25s/it]\n"
     ]
    },
    {
     "name": "stdout",
     "output_type": "stream",
     "text": [
      "Fold 2/4 median val_loss: 0.19672301411628723, std val_loss 0.0\n",
      "Fold 2/4 median train_loss: 0.20874227583408356, std train_loss 0.0\n",
      "Fold 2/4 median val_mee: 0.29421502351760864, std val_mee 0.0\n",
      "Fold 2/4 median train_mee: 0.31739839911460876, train_mee 0.0\n",
      "\n",
      "Executing fold 3/4\n"
     ]
    },
    {
     "name": "stderr",
     "output_type": "stream",
     "text": [
      "100%|█████████████████████████████████████████████| 1/1 [00:22<00:00, 22.89s/it]\n"
     ]
    },
    {
     "name": "stdout",
     "output_type": "stream",
     "text": [
      "Fold 3/4 median val_loss: 0.23103874921798706, std val_loss 0.0\n",
      "Fold 3/4 median train_loss: 0.21423384547233582, std train_loss 0.0\n",
      "Fold 3/4 median val_mee: 0.34523531794548035, std val_mee 0.0\n",
      "Fold 3/4 median train_mee: 0.29940393567085266, train_mee 0.0\n",
      "\n",
      "Executing fold 4/4\n"
     ]
    },
    {
     "name": "stderr",
     "output_type": "stream",
     "text": [
      "100%|█████████████████████████████████████████████| 1/1 [00:23<00:00, 23.06s/it]\n"
     ]
    },
    {
     "name": "stdout",
     "output_type": "stream",
     "text": [
      "Fold 4/4 median val_loss: 0.2295573502779007, std val_loss 0.0\n",
      "Fold 4/4 median train_loss: 0.20552395284175873, std train_loss 0.0\n",
      "Fold 4/4 median val_mee: 0.3342251479625702, std val_mee 0.0\n",
      "Fold 4/4 median train_mee: 0.30503132939338684, train_mee 0.0\n",
      "\n",
      "Mean val_loss: 0.21344783157110214, std val_loss: 0.016858589298341994\n",
      "Mean train_loss: 0.20780693739652634, std train_loss: 0.004277584772072214\n",
      "Mean val_mee: 0.3176840618252754, std val_mee: 0.022409795120083422\n",
      "Mean train_mee: 0.3176840618252754, std train_mee: 0.007856014085855461\n",
      "\n",
      "\n",
      "\n",
      "Testing configuration 32/180:\n",
      "{'batch_size': 16, 'learning_rate': 0.1, 'max_epochs': 500, 'momentum': 0.3, 'initialization': {'type': 'default'}, 'early_stopping': {'monitor': 'val_loss', 'patience': 20, 'delta': 0.01}, 'task': 'regression', 'trials_train': 1, 'trials_final': 5, 'nesterov': False, 'learning_rate_decay': {'epochs': 100, 'lr_final': 0.01}, 'regularization': {'method': 'l1', 'value': 0.001}, 'units_1': 50, 'activations_1': 'tanh', 'units_2': 50, 'activations_2': 'relu', 'units_3': 50, 'activations_3': 'tanh'}\n",
      "\n",
      "Executing fold 1/4\n"
     ]
    },
    {
     "name": "stderr",
     "output_type": "stream",
     "text": [
      "100%|█████████████████████████████████████████████| 1/1 [00:26<00:00, 26.66s/it]\n"
     ]
    },
    {
     "name": "stdout",
     "output_type": "stream",
     "text": [
      "Fold 1/4 median val_loss: 0.2077540010213852, std val_loss 0.0\n",
      "Fold 1/4 median train_loss: 0.1885317862033844, std train_loss 0.0\n",
      "Fold 1/4 median val_mee: 0.3289768099784851, std val_mee 0.0\n",
      "Fold 1/4 median train_mee: 0.3038550317287445, train_mee 0.0\n",
      "\n",
      "Executing fold 2/4\n"
     ]
    },
    {
     "name": "stderr",
     "output_type": "stream",
     "text": [
      "100%|█████████████████████████████████████████████| 1/1 [00:25<00:00, 25.05s/it]\n"
     ]
    },
    {
     "name": "stdout",
     "output_type": "stream",
     "text": [
      "Fold 2/4 median val_loss: 0.2045808583498001, std val_loss 0.0\n",
      "Fold 2/4 median train_loss: 0.20954707264900208, std train_loss 0.0\n",
      "Fold 2/4 median val_mee: 0.30436521768569946, std val_mee 0.0\n",
      "Fold 2/4 median train_mee: 0.31526610255241394, train_mee 0.0\n",
      "\n",
      "Executing fold 3/4\n"
     ]
    },
    {
     "name": "stderr",
     "output_type": "stream",
     "text": [
      "100%|█████████████████████████████████████████████| 1/1 [00:23<00:00, 23.97s/it]\n"
     ]
    },
    {
     "name": "stdout",
     "output_type": "stream",
     "text": [
      "Fold 3/4 median val_loss: 0.21186716854572296, std val_loss 0.0\n",
      "Fold 3/4 median train_loss: 0.20543935894966125, std train_loss 0.0\n",
      "Fold 3/4 median val_mee: 0.31772270798683167, std val_mee 0.0\n",
      "Fold 3/4 median train_mee: 0.31159207224845886, train_mee 0.0\n",
      "\n",
      "Executing fold 4/4\n"
     ]
    },
    {
     "name": "stderr",
     "output_type": "stream",
     "text": [
      "100%|█████████████████████████████████████████████| 1/1 [00:23<00:00, 23.59s/it]\n"
     ]
    },
    {
     "name": "stdout",
     "output_type": "stream",
     "text": [
      "Fold 4/4 median val_loss: 0.21041423082351685, std val_loss 0.0\n",
      "Fold 4/4 median train_loss: 0.2126864641904831, std train_loss 0.0\n",
      "Fold 4/4 median val_mee: 0.30557820200920105, std val_mee 0.0\n",
      "Fold 4/4 median train_mee: 0.309631884098053, train_mee 0.0\n",
      "\n",
      "Mean val_loss: 0.20865406468510628, std val_loss: 0.0027759388368012693\n",
      "Mean train_loss: 0.2040511704981327, std train_loss: 0.00932136784047967\n",
      "Mean val_mee: 0.3141607344150543, std val_mee: 0.010022671317068164\n",
      "Mean train_mee: 0.3141607344150543, std train_mee: 0.004127132861428439\n",
      "\n",
      "\n",
      "\n",
      "Testing configuration 33/180:\n",
      "{'batch_size': 16, 'learning_rate': 0.1, 'max_epochs': 500, 'momentum': 0.3, 'initialization': {'type': 'default'}, 'early_stopping': {'monitor': 'val_loss', 'patience': 20, 'delta': 0.01}, 'task': 'regression', 'trials_train': 1, 'trials_final': 5, 'nesterov': False, 'learning_rate_decay': {'epochs': 100, 'lr_final': 0.01}, 'regularization': {'method': 'l1', 'value': 0.001}, 'units_1': 50, 'activations_1': 'tanh', 'units_2': 50, 'activations_2': 'relu', 'units_3': 50, 'activations_3': 'tanh'}\n",
      "\n",
      "Executing fold 1/4\n"
     ]
    },
    {
     "name": "stderr",
     "output_type": "stream",
     "text": [
      "100%|█████████████████████████████████████████████| 1/1 [00:25<00:00, 25.08s/it]\n"
     ]
    },
    {
     "name": "stdout",
     "output_type": "stream",
     "text": [
      "Fold 1/4 median val_loss: 0.21288350224494934, std val_loss 0.0\n",
      "Fold 1/4 median train_loss: 0.20054060220718384, std train_loss 0.0\n",
      "Fold 1/4 median val_mee: 0.33460965752601624, std val_mee 0.0\n",
      "Fold 1/4 median train_mee: 0.3108308017253876, train_mee 0.0\n",
      "\n",
      "Executing fold 2/4\n"
     ]
    },
    {
     "name": "stderr",
     "output_type": "stream",
     "text": [
      "100%|█████████████████████████████████████████████| 1/1 [00:25<00:00, 25.86s/it]\n"
     ]
    },
    {
     "name": "stdout",
     "output_type": "stream",
     "text": [
      "Fold 2/4 median val_loss: 0.20879200100898743, std val_loss 0.0\n",
      "Fold 2/4 median train_loss: 0.19730179011821747, std train_loss 0.0\n",
      "Fold 2/4 median val_mee: 0.33035343885421753, std val_mee 0.0\n",
      "Fold 2/4 median train_mee: 0.3113405108451843, train_mee 0.0\n",
      "\n",
      "Executing fold 3/4\n"
     ]
    },
    {
     "name": "stderr",
     "output_type": "stream",
     "text": [
      "100%|█████████████████████████████████████████████| 1/1 [00:23<00:00, 23.44s/it]\n"
     ]
    },
    {
     "name": "stdout",
     "output_type": "stream",
     "text": [
      "Fold 3/4 median val_loss: 0.2074085921049118, std val_loss 0.0\n",
      "Fold 3/4 median train_loss: 0.21619310975074768, std train_loss 0.0\n",
      "Fold 3/4 median val_mee: 0.30110472440719604, std val_mee 0.0\n",
      "Fold 3/4 median train_mee: 0.31516924500465393, train_mee 0.0\n",
      "\n",
      "Executing fold 4/4\n"
     ]
    },
    {
     "name": "stderr",
     "output_type": "stream",
     "text": [
      "100%|█████████████████████████████████████████████| 1/1 [00:22<00:00, 22.70s/it]\n"
     ]
    },
    {
     "name": "stdout",
     "output_type": "stream",
     "text": [
      "Fold 4/4 median val_loss: 0.21681270003318787, std val_loss 0.0\n",
      "Fold 4/4 median train_loss: 0.21580708026885986, std train_loss 0.0\n",
      "Fold 4/4 median val_mee: 0.2970159649848938, std val_mee 0.0\n",
      "Fold 4/4 median train_mee: 0.31092849373817444, train_mee 0.0\n",
      "\n",
      "Mean val_loss: 0.2114741988480091, std val_loss: 0.003681340598408178\n",
      "Mean train_loss: 0.2074606455862522, std train_loss: 0.008616963605061832\n",
      "Mean val_mee: 0.3157709464430809, std val_mee: 0.01684037943819842\n",
      "Mean train_mee: 0.3157709464430809, std train_mee: 0.0018011172204371406\n",
      "\n",
      "\n",
      "\n",
      "Testing configuration 34/180:\n",
      "{'batch_size': 16, 'learning_rate': 0.1, 'max_epochs': 500, 'momentum': 0.3, 'initialization': {'type': 'default'}, 'early_stopping': {'monitor': 'val_loss', 'patience': 20, 'delta': 0.01}, 'task': 'regression', 'trials_train': 1, 'trials_final': 5, 'nesterov': False, 'learning_rate_decay': {'epochs': 100, 'lr_final': 0.01}, 'regularization': {'method': 'l1', 'value': 0.001}, 'units_1': 50, 'activations_1': 'tanh', 'units_2': 50, 'activations_2': 'relu', 'units_3': 50, 'activations_3': 'tanh'}\n",
      "\n",
      "Executing fold 1/4\n"
     ]
    },
    {
     "name": "stderr",
     "output_type": "stream",
     "text": [
      "100%|█████████████████████████████████████████████| 1/1 [00:23<00:00, 23.86s/it]\n"
     ]
    },
    {
     "name": "stdout",
     "output_type": "stream",
     "text": [
      "Fold 1/4 median val_loss: 0.2051900327205658, std val_loss 0.0\n",
      "Fold 1/4 median train_loss: 0.21023812890052795, std train_loss 0.0\n",
      "Fold 1/4 median val_mee: 0.3034377694129944, std val_mee 0.0\n",
      "Fold 1/4 median train_mee: 0.31675985455513, train_mee 0.0\n",
      "\n",
      "Executing fold 2/4\n"
     ]
    },
    {
     "name": "stderr",
     "output_type": "stream",
     "text": [
      "100%|█████████████████████████████████████████████| 1/1 [00:26<00:00, 26.30s/it]\n"
     ]
    },
    {
     "name": "stdout",
     "output_type": "stream",
     "text": [
      "Fold 2/4 median val_loss: 0.2244720160961151, std val_loss 0.0\n",
      "Fold 2/4 median train_loss: 0.2147614061832428, std train_loss 0.0\n",
      "Fold 2/4 median val_mee: 0.3282011151313782, std val_mee 0.0\n",
      "Fold 2/4 median train_mee: 0.30596932768821716, train_mee 0.0\n",
      "\n",
      "Executing fold 3/4\n"
     ]
    },
    {
     "name": "stderr",
     "output_type": "stream",
     "text": [
      "100%|█████████████████████████████████████████████| 1/1 [00:26<00:00, 26.02s/it]\n"
     ]
    },
    {
     "name": "stdout",
     "output_type": "stream",
     "text": [
      "Fold 3/4 median val_loss: 0.21198321878910065, std val_loss 0.0\n",
      "Fold 3/4 median train_loss: 0.1901547759771347, std train_loss 0.0\n",
      "Fold 3/4 median val_mee: 0.33502042293548584, std val_mee 0.0\n",
      "Fold 3/4 median train_mee: 0.3066236972808838, train_mee 0.0\n",
      "\n",
      "Executing fold 4/4\n"
     ]
    },
    {
     "name": "stderr",
     "output_type": "stream",
     "text": [
      "100%|█████████████████████████████████████████████| 1/1 [00:25<00:00, 25.70s/it]\n"
     ]
    },
    {
     "name": "stdout",
     "output_type": "stream",
     "text": [
      "Fold 4/4 median val_loss: 0.2016211450099945, std val_loss 0.0\n",
      "Fold 4/4 median train_loss: 0.20984995365142822, std train_loss 0.0\n",
      "Fold 4/4 median val_mee: 0.30042144656181335, std val_mee 0.0\n",
      "Fold 4/4 median train_mee: 0.3192140460014343, train_mee 0.0\n",
      "\n",
      "Mean val_loss: 0.21081660315394402, std val_loss: 0.008718458005580734\n",
      "Mean train_loss: 0.20625106617808342, std train_loss: 0.00949164244789961\n",
      "Mean val_mee: 0.31677018851041794, std val_mee: 0.015072921932020334\n",
      "Mean train_mee: 0.31677018851041794, std train_mee: 0.005913796653136001\n",
      "\n",
      "\n",
      "\n",
      "Testing configuration 35/180:\n",
      "{'batch_size': 16, 'learning_rate': 0.1, 'max_epochs': 500, 'momentum': 0.3, 'initialization': {'type': 'default'}, 'early_stopping': {'monitor': 'val_loss', 'patience': 20, 'delta': 0.01}, 'task': 'regression', 'trials_train': 1, 'trials_final': 5, 'nesterov': False, 'learning_rate_decay': {'epochs': 100, 'lr_final': 0.01}, 'regularization': {'method': 'l1', 'value': 0.001}, 'units_1': 50, 'activations_1': 'tanh', 'units_2': 50, 'activations_2': 'relu', 'units_3': 50, 'activations_3': 'tanh'}\n",
      "\n",
      "Executing fold 1/4\n"
     ]
    },
    {
     "name": "stderr",
     "output_type": "stream",
     "text": [
      "100%|█████████████████████████████████████████████| 1/1 [00:27<00:00, 27.14s/it]\n"
     ]
    },
    {
     "name": "stdout",
     "output_type": "stream",
     "text": [
      "Fold 1/4 median val_loss: 0.19636495411396027, std val_loss 0.0\n",
      "Fold 1/4 median train_loss: 0.19834564626216888, std train_loss 0.0\n",
      "Fold 1/4 median val_mee: 0.30611664056777954, std val_mee 0.0\n",
      "Fold 1/4 median train_mee: 0.31492719054222107, train_mee 0.0\n",
      "\n",
      "Executing fold 2/4\n"
     ]
    },
    {
     "name": "stderr",
     "output_type": "stream",
     "text": [
      "100%|█████████████████████████████████████████████| 1/1 [00:40<00:00, 40.70s/it]\n"
     ]
    },
    {
     "name": "stdout",
     "output_type": "stream",
     "text": [
      "Fold 2/4 median val_loss: 0.20706212520599365, std val_loss 0.0\n",
      "Fold 2/4 median train_loss: 0.20254147052764893, std train_loss 0.0\n",
      "Fold 2/4 median val_mee: 0.32938840985298157, std val_mee 0.0\n",
      "Fold 2/4 median train_mee: 0.3067311942577362, train_mee 0.0\n",
      "\n",
      "Executing fold 3/4\n"
     ]
    },
    {
     "name": "stderr",
     "output_type": "stream",
     "text": [
      "100%|█████████████████████████████████████████████| 1/1 [00:41<00:00, 41.16s/it]\n"
     ]
    },
    {
     "name": "stdout",
     "output_type": "stream",
     "text": [
      "Fold 3/4 median val_loss: 0.20404337346553802, std val_loss 0.0\n",
      "Fold 3/4 median train_loss: 0.19666552543640137, std train_loss 0.0\n",
      "Fold 3/4 median val_mee: 0.30811041593551636, std val_mee 0.0\n",
      "Fold 3/4 median train_mee: 0.31054598093032837, train_mee 0.0\n",
      "\n",
      "Executing fold 4/4\n"
     ]
    },
    {
     "name": "stderr",
     "output_type": "stream",
     "text": [
      "100%|█████████████████████████████████████████████| 1/1 [00:25<00:00, 25.54s/it]\n"
     ]
    },
    {
     "name": "stdout",
     "output_type": "stream",
     "text": [
      "Fold 4/4 median val_loss: 0.21152517199516296, std val_loss 0.0\n",
      "Fold 4/4 median train_loss: 0.20195935666561127, std train_loss 0.0\n",
      "Fold 4/4 median val_mee: 0.3169024586677551, std val_mee 0.0\n",
      "Fold 4/4 median train_mee: 0.30801740288734436, train_mee 0.0\n",
      "\n",
      "Mean val_loss: 0.20474890619516373, std val_loss: 0.00552397477629997\n",
      "Mean train_loss: 0.1998779997229576, std train_loss: 0.002454293259817977\n",
      "Mean val_mee: 0.31512948125600815, std val_mee: 0.00917822244338291\n",
      "Mean train_mee: 0.31512948125600815, std train_mee: 0.0031296480943334842\n",
      "\n",
      "\n",
      "\n",
      "Testing configuration 36/180:\n",
      "{'batch_size': 16, 'learning_rate': 0.1, 'max_epochs': 500, 'momentum': 0.3, 'initialization': {'type': 'default'}, 'early_stopping': {'monitor': 'val_loss', 'patience': 20, 'delta': 0.01}, 'task': 'regression', 'trials_train': 1, 'trials_final': 5, 'nesterov': False, 'learning_rate_decay': {'epochs': 100, 'lr_final': 0.01}, 'regularization': {'method': 'l1', 'value': 0.0001}, 'units_1': 50, 'activations_1': 'tanh', 'units_2': 50, 'activations_2': 'relu', 'units_3': 50, 'activations_3': 'tanh'}\n",
      "\n",
      "Executing fold 1/4\n"
     ]
    },
    {
     "name": "stderr",
     "output_type": "stream",
     "text": [
      "100%|█████████████████████████████████████████████| 1/1 [00:02<00:00,  2.63s/it]\n"
     ]
    },
    {
     "name": "stdout",
     "output_type": "stream",
     "text": [
      "Fold 1/4 median val_loss: 0.14422298967838287, std val_loss 0.0\n",
      "Fold 1/4 median train_loss: 0.14699137210845947, std train_loss 0.0\n",
      "Fold 1/4 median val_mee: 0.2977590262889862, std val_mee 0.0\n",
      "Fold 1/4 median train_mee: 0.2963410019874573, train_mee 0.0\n",
      "\n",
      "Executing fold 2/4\n"
     ]
    },
    {
     "name": "stderr",
     "output_type": "stream",
     "text": [
      "100%|█████████████████████████████████████████████| 1/1 [00:02<00:00,  2.42s/it]\n"
     ]
    },
    {
     "name": "stdout",
     "output_type": "stream",
     "text": [
      "Fold 2/4 median val_loss: 0.18155892193317413, std val_loss 0.0\n",
      "Fold 2/4 median train_loss: 0.13476593792438507, std train_loss 0.0\n",
      "Fold 2/4 median val_mee: 0.34574252367019653, std val_mee 0.0\n",
      "Fold 2/4 median train_mee: 0.283845990896225, train_mee 0.0\n",
      "\n",
      "Executing fold 3/4\n"
     ]
    },
    {
     "name": "stderr",
     "output_type": "stream",
     "text": [
      "100%|█████████████████████████████████████████████| 1/1 [00:03<00:00,  3.14s/it]\n"
     ]
    },
    {
     "name": "stdout",
     "output_type": "stream",
     "text": [
      "Fold 3/4 median val_loss: 0.1518896520137787, std val_loss 0.0\n",
      "Fold 3/4 median train_loss: 0.14467234909534454, std train_loss 0.0\n",
      "Fold 3/4 median val_mee: 0.31636616587638855, std val_mee 0.0\n",
      "Fold 3/4 median train_mee: 0.2931055724620819, train_mee 0.0\n",
      "\n",
      "Executing fold 4/4\n"
     ]
    },
    {
     "name": "stderr",
     "output_type": "stream",
     "text": [
      "100%|█████████████████████████████████████████████| 1/1 [00:02<00:00,  2.39s/it]\n"
     ]
    },
    {
     "name": "stdout",
     "output_type": "stream",
     "text": [
      "Fold 4/4 median val_loss: 0.13923488557338715, std val_loss 0.0\n",
      "Fold 4/4 median train_loss: 0.1489020437002182, std train_loss 0.0\n",
      "Fold 4/4 median val_mee: 0.2834676206111908, std val_mee 0.0\n",
      "Fold 4/4 median train_mee: 0.3031151592731476, train_mee 0.0\n",
      "\n",
      "Mean val_loss: 0.1542266122996807, std val_loss: 0.01641143556383968\n",
      "Mean train_loss: 0.14383292570710182, std train_loss: 0.005444874653631823\n",
      "Mean val_mee: 0.3108338341116905, std val_mee: 0.02328671049333942\n",
      "Mean train_mee: 0.3108338341116905, std train_mee: 0.006935934697988493\n",
      "\n",
      "\n",
      "\n",
      "Testing configuration 37/180:\n",
      "{'batch_size': 16, 'learning_rate': 0.1, 'max_epochs': 500, 'momentum': 0.3, 'initialization': {'type': 'default'}, 'early_stopping': {'monitor': 'val_loss', 'patience': 20, 'delta': 0.01}, 'task': 'regression', 'trials_train': 1, 'trials_final': 5, 'nesterov': False, 'learning_rate_decay': {'epochs': 100, 'lr_final': 0.01}, 'regularization': {'method': 'l1', 'value': 0.0001}, 'units_1': 50, 'activations_1': 'tanh', 'units_2': 50, 'activations_2': 'relu', 'units_3': 50, 'activations_3': 'tanh'}\n",
      "\n",
      "Executing fold 1/4\n"
     ]
    },
    {
     "name": "stderr",
     "output_type": "stream",
     "text": [
      "100%|█████████████████████████████████████████████| 1/1 [00:02<00:00,  2.66s/it]\n"
     ]
    },
    {
     "name": "stdout",
     "output_type": "stream",
     "text": [
      "Fold 1/4 median val_loss: 0.14932118356227875, std val_loss 0.0\n",
      "Fold 1/4 median train_loss: 0.14731758832931519, std train_loss 0.0\n",
      "Fold 1/4 median val_mee: 0.3079875111579895, std val_mee 0.0\n",
      "Fold 1/4 median train_mee: 0.2972816824913025, train_mee 0.0\n",
      "\n",
      "Executing fold 2/4\n"
     ]
    },
    {
     "name": "stderr",
     "output_type": "stream",
     "text": [
      "100%|█████████████████████████████████████████████| 1/1 [00:02<00:00,  2.94s/it]\n"
     ]
    },
    {
     "name": "stdout",
     "output_type": "stream",
     "text": [
      "Fold 2/4 median val_loss: 0.15328344702720642, std val_loss 0.0\n",
      "Fold 2/4 median train_loss: 0.14535152912139893, std train_loss 0.0\n",
      "Fold 2/4 median val_mee: 0.31248152256011963, std val_mee 0.0\n",
      "Fold 2/4 median train_mee: 0.299053817987442, train_mee 0.0\n",
      "\n",
      "Executing fold 3/4\n"
     ]
    },
    {
     "name": "stderr",
     "output_type": "stream",
     "text": [
      "100%|█████████████████████████████████████████████| 1/1 [00:04<00:00,  4.15s/it]\n"
     ]
    },
    {
     "name": "stdout",
     "output_type": "stream",
     "text": [
      "Fold 3/4 median val_loss: 0.15849971771240234, std val_loss 0.0\n",
      "Fold 3/4 median train_loss: 0.14343705773353577, std train_loss 0.0\n",
      "Fold 3/4 median val_mee: 0.3089739680290222, std val_mee 0.0\n",
      "Fold 3/4 median train_mee: 0.2920464873313904, train_mee 0.0\n",
      "\n",
      "Executing fold 4/4\n"
     ]
    },
    {
     "name": "stderr",
     "output_type": "stream",
     "text": [
      "100%|█████████████████████████████████████████████| 1/1 [00:02<00:00,  2.79s/it]\n"
     ]
    },
    {
     "name": "stdout",
     "output_type": "stream",
     "text": [
      "Fold 4/4 median val_loss: 0.16085867583751678, std val_loss 0.0\n",
      "Fold 4/4 median train_loss: 0.1399839222431183, std train_loss 0.0\n",
      "Fold 4/4 median val_mee: 0.33187341690063477, std val_mee 0.0\n",
      "Fold 4/4 median train_mee: 0.28963130712509155, train_mee 0.0\n",
      "\n",
      "Mean val_loss: 0.15549075603485107, std val_loss: 0.00449455923685444\n",
      "Mean train_loss: 0.14402252435684204, std train_loss: 0.0027054010075626975\n",
      "Mean val_mee: 0.31532910466194153, std val_mee: 0.009696774567843873\n",
      "Mean train_mee: 0.31532910466194153, std train_mee: 0.0038144090722402792\n",
      "\n",
      "\n",
      "\n",
      "Testing configuration 38/180:\n",
      "{'batch_size': 16, 'learning_rate': 0.1, 'max_epochs': 500, 'momentum': 0.3, 'initialization': {'type': 'default'}, 'early_stopping': {'monitor': 'val_loss', 'patience': 20, 'delta': 0.01}, 'task': 'regression', 'trials_train': 1, 'trials_final': 5, 'nesterov': False, 'learning_rate_decay': {'epochs': 100, 'lr_final': 0.01}, 'regularization': {'method': 'l1', 'value': 0.0001}, 'units_1': 50, 'activations_1': 'tanh', 'units_2': 50, 'activations_2': 'relu', 'units_3': 50, 'activations_3': 'tanh'}\n",
      "\n",
      "Executing fold 1/4\n"
     ]
    },
    {
     "name": "stderr",
     "output_type": "stream",
     "text": [
      "100%|█████████████████████████████████████████████| 1/1 [00:02<00:00,  2.37s/it]\n"
     ]
    },
    {
     "name": "stdout",
     "output_type": "stream",
     "text": [
      "Fold 1/4 median val_loss: 0.16756273806095123, std val_loss 0.0\n",
      "Fold 1/4 median train_loss: 0.13993698358535767, std train_loss 0.0\n",
      "Fold 1/4 median val_mee: 0.33851099014282227, std val_mee 0.0\n",
      "Fold 1/4 median train_mee: 0.2877222001552582, train_mee 0.0\n",
      "\n",
      "Executing fold 2/4\n"
     ]
    },
    {
     "name": "stderr",
     "output_type": "stream",
     "text": [
      "100%|█████████████████████████████████████████████| 1/1 [00:02<00:00,  2.36s/it]\n"
     ]
    },
    {
     "name": "stdout",
     "output_type": "stream",
     "text": [
      "Fold 2/4 median val_loss: 0.17509707808494568, std val_loss 0.0\n",
      "Fold 2/4 median train_loss: 0.1412295699119568, std train_loss 0.0\n",
      "Fold 2/4 median val_mee: 0.33975353837013245, std val_mee 0.0\n",
      "Fold 2/4 median train_mee: 0.2919788658618927, train_mee 0.0\n",
      "\n",
      "Executing fold 3/4\n"
     ]
    },
    {
     "name": "stderr",
     "output_type": "stream",
     "text": [
      "100%|█████████████████████████████████████████████| 1/1 [00:02<00:00,  2.46s/it]\n"
     ]
    },
    {
     "name": "stdout",
     "output_type": "stream",
     "text": [
      "Fold 3/4 median val_loss: 0.13878947496414185, std val_loss 0.0\n",
      "Fold 3/4 median train_loss: 0.15033318102359772, std train_loss 0.0\n",
      "Fold 3/4 median val_mee: 0.2871870696544647, std val_mee 0.0\n",
      "Fold 3/4 median train_mee: 0.30553194880485535, train_mee 0.0\n",
      "\n",
      "Executing fold 4/4\n"
     ]
    },
    {
     "name": "stderr",
     "output_type": "stream",
     "text": [
      "100%|█████████████████████████████████████████████| 1/1 [00:02<00:00,  2.60s/it]\n"
     ]
    },
    {
     "name": "stdout",
     "output_type": "stream",
     "text": [
      "Fold 4/4 median val_loss: 0.1466362327337265, std val_loss 0.0\n",
      "Fold 4/4 median train_loss: 0.14736460149288177, std train_loss 0.0\n",
      "Fold 4/4 median val_mee: 0.2947726249694824, std val_mee 0.0\n",
      "Fold 4/4 median train_mee: 0.30301567912101746, train_mee 0.0\n",
      "\n",
      "Mean val_loss: 0.15702138096094131, std val_loss: 0.01481641603092685\n",
      "Mean train_loss: 0.1447160840034485, std train_loss: 0.004288414775356082\n",
      "Mean val_mee: 0.31505605578422546, std val_mee: 0.024229102053958416\n",
      "Mean train_mee: 0.31505605578422546, std train_mee: 0.007420519549168233\n",
      "\n",
      "\n",
      "\n",
      "Testing configuration 39/180:\n",
      "{'batch_size': 16, 'learning_rate': 0.1, 'max_epochs': 500, 'momentum': 0.3, 'initialization': {'type': 'default'}, 'early_stopping': {'monitor': 'val_loss', 'patience': 20, 'delta': 0.01}, 'task': 'regression', 'trials_train': 1, 'trials_final': 5, 'nesterov': False, 'learning_rate_decay': {'epochs': 100, 'lr_final': 0.01}, 'regularization': {'method': 'l1', 'value': 0.0001}, 'units_1': 50, 'activations_1': 'tanh', 'units_2': 50, 'activations_2': 'relu', 'units_3': 50, 'activations_3': 'tanh'}\n",
      "\n",
      "Executing fold 1/4\n"
     ]
    },
    {
     "name": "stderr",
     "output_type": "stream",
     "text": [
      "100%|█████████████████████████████████████████████| 1/1 [00:03<00:00,  3.53s/it]\n"
     ]
    },
    {
     "name": "stdout",
     "output_type": "stream",
     "text": [
      "Fold 1/4 median val_loss: 0.14977777004241943, std val_loss 0.0\n",
      "Fold 1/4 median train_loss: 0.14203676581382751, std train_loss 0.0\n",
      "Fold 1/4 median val_mee: 0.2944321036338806, std val_mee 0.0\n",
      "Fold 1/4 median train_mee: 0.294080525636673, train_mee 0.0\n",
      "\n",
      "Executing fold 2/4\n"
     ]
    },
    {
     "name": "stderr",
     "output_type": "stream",
     "text": [
      "100%|█████████████████████████████████████████████| 1/1 [00:02<00:00,  2.68s/it]\n"
     ]
    },
    {
     "name": "stdout",
     "output_type": "stream",
     "text": [
      "Fold 2/4 median val_loss: 0.15066023170948029, std val_loss 0.0\n",
      "Fold 2/4 median train_loss: 0.14749005436897278, std train_loss 0.0\n",
      "Fold 2/4 median val_mee: 0.3200799524784088, std val_mee 0.0\n",
      "Fold 2/4 median train_mee: 0.2950610816478729, train_mee 0.0\n",
      "\n",
      "Executing fold 3/4\n"
     ]
    },
    {
     "name": "stderr",
     "output_type": "stream",
     "text": [
      "100%|█████████████████████████████████████████████| 1/1 [00:03<00:00,  3.18s/it]\n"
     ]
    },
    {
     "name": "stdout",
     "output_type": "stream",
     "text": [
      "Fold 3/4 median val_loss: 0.14812827110290527, std val_loss 0.0\n",
      "Fold 3/4 median train_loss: 0.14454729855060577, std train_loss 0.0\n",
      "Fold 3/4 median val_mee: 0.30260199308395386, std val_mee 0.0\n",
      "Fold 3/4 median train_mee: 0.29224056005477905, train_mee 0.0\n",
      "\n",
      "Executing fold 4/4\n"
     ]
    },
    {
     "name": "stderr",
     "output_type": "stream",
     "text": [
      "100%|█████████████████████████████████████████████| 1/1 [00:02<00:00,  2.61s/it]\n"
     ]
    },
    {
     "name": "stdout",
     "output_type": "stream",
     "text": [
      "Fold 4/4 median val_loss: 0.1671779453754425, std val_loss 0.0\n",
      "Fold 4/4 median train_loss: 0.14189912378787994, std train_loss 0.0\n",
      "Fold 4/4 median val_mee: 0.3231998383998871, std val_mee 0.0\n",
      "Fold 4/4 median train_mee: 0.292263001203537, train_mee 0.0\n",
      "\n",
      "Mean val_loss: 0.15393605455756187, std val_loss: 0.007699031863321211\n",
      "Mean train_loss: 0.1439933106303215, std train_loss: 0.0022774879549419483\n",
      "Mean val_mee: 0.3100784718990326, std val_mee: 0.011967732115886266\n",
      "Mean train_mee: 0.3100784718990326, std train_mee: 0.0012102545789508103\n",
      "\n",
      "\n",
      "\n",
      "Testing configuration 40/180:\n",
      "{'batch_size': 16, 'learning_rate': 0.1, 'max_epochs': 500, 'momentum': 0.3, 'initialization': {'type': 'default'}, 'early_stopping': {'monitor': 'val_loss', 'patience': 20, 'delta': 0.01}, 'task': 'regression', 'trials_train': 1, 'trials_final': 5, 'nesterov': False, 'learning_rate_decay': {'epochs': 100, 'lr_final': 0.01}, 'regularization': {'method': 'l1', 'value': 0.0001}, 'units_1': 50, 'activations_1': 'tanh', 'units_2': 50, 'activations_2': 'relu', 'units_3': 50, 'activations_3': 'tanh'}\n",
      "\n",
      "Executing fold 1/4\n"
     ]
    },
    {
     "name": "stderr",
     "output_type": "stream",
     "text": [
      "100%|█████████████████████████████████████████████| 1/1 [00:03<00:00,  3.43s/it]\n"
     ]
    },
    {
     "name": "stdout",
     "output_type": "stream",
     "text": [
      "Fold 1/4 median val_loss: 0.14324918389320374, std val_loss 0.0\n",
      "Fold 1/4 median train_loss: 0.14805185794830322, std train_loss 0.0\n",
      "Fold 1/4 median val_mee: 0.30396685004234314, std val_mee 0.0\n",
      "Fold 1/4 median train_mee: 0.29758602380752563, train_mee 0.0\n",
      "\n",
      "Executing fold 2/4\n"
     ]
    },
    {
     "name": "stderr",
     "output_type": "stream",
     "text": [
      "100%|█████████████████████████████████████████████| 1/1 [00:02<00:00,  2.88s/it]\n"
     ]
    },
    {
     "name": "stdout",
     "output_type": "stream",
     "text": [
      "Fold 2/4 median val_loss: 0.16939975321292877, std val_loss 0.0\n",
      "Fold 2/4 median train_loss: 0.13925370573997498, std train_loss 0.0\n",
      "Fold 2/4 median val_mee: 0.3272203207015991, std val_mee 0.0\n",
      "Fold 2/4 median train_mee: 0.286111980676651, train_mee 0.0\n",
      "\n",
      "Executing fold 3/4\n"
     ]
    },
    {
     "name": "stderr",
     "output_type": "stream",
     "text": [
      "100%|█████████████████████████████████████████████| 1/1 [00:03<00:00,  3.38s/it]\n"
     ]
    },
    {
     "name": "stdout",
     "output_type": "stream",
     "text": [
      "Fold 3/4 median val_loss: 0.13374142348766327, std val_loss 0.0\n",
      "Fold 3/4 median train_loss: 0.1485714614391327, std train_loss 0.0\n",
      "Fold 3/4 median val_mee: 0.27837225794792175, std val_mee 0.0\n",
      "Fold 3/4 median train_mee: 0.30292394757270813, train_mee 0.0\n",
      "\n",
      "Executing fold 4/4\n"
     ]
    },
    {
     "name": "stderr",
     "output_type": "stream",
     "text": [
      "100%|█████████████████████████████████████████████| 1/1 [00:03<00:00,  3.53s/it]\n"
     ]
    },
    {
     "name": "stdout",
     "output_type": "stream",
     "text": [
      "Fold 4/4 median val_loss: 0.17292480170726776, std val_loss 0.0\n",
      "Fold 4/4 median train_loss: 0.1373230665922165, std train_loss 0.0\n",
      "Fold 4/4 median val_mee: 0.3358698785305023, std val_mee 0.0\n",
      "Fold 4/4 median train_mee: 0.286361426115036, train_mee 0.0\n",
      "\n",
      "Mean val_loss: 0.15482879057526588, std val_loss: 0.016722312285358955\n",
      "Mean train_loss: 0.14330002292990685, std train_loss: 0.005061242186035023\n",
      "Mean val_mee: 0.3113573268055916, std val_mee: 0.02233345966114818\n",
      "Mean train_mee: 0.3113573268055916, std train_mee: 0.007259305494617822\n",
      "\n",
      "\n",
      "\n",
      "Testing configuration 41/180:\n",
      "{'batch_size': 16, 'learning_rate': 0.1, 'max_epochs': 500, 'momentum': 0.3, 'initialization': {'type': 'default'}, 'early_stopping': {'monitor': 'val_loss', 'patience': 20, 'delta': 0.01}, 'task': 'regression', 'trials_train': 1, 'trials_final': 5, 'nesterov': False, 'learning_rate_decay': {'epochs': 100, 'lr_final': 0.01}, 'regularization': {'method': 'l1', 'value': 1e-05}, 'units_1': 50, 'activations_1': 'tanh', 'units_2': 50, 'activations_2': 'relu', 'units_3': 50, 'activations_3': 'tanh'}\n",
      "\n",
      "Executing fold 1/4\n"
     ]
    },
    {
     "name": "stderr",
     "output_type": "stream",
     "text": [
      "100%|█████████████████████████████████████████████| 1/1 [00:03<00:00,  3.21s/it]\n"
     ]
    },
    {
     "name": "stdout",
     "output_type": "stream",
     "text": [
      "Fold 1/4 median val_loss: 0.08989320695400238, std val_loss 0.0\n",
      "Fold 1/4 median train_loss: 0.08521401882171631, std train_loss 0.0\n",
      "Fold 1/4 median val_mee: 0.31779971718788147, std val_mee 0.0\n",
      "Fold 1/4 median train_mee: 0.2962932586669922, train_mee 0.0\n",
      "\n",
      "Executing fold 2/4\n"
     ]
    },
    {
     "name": "stderr",
     "output_type": "stream",
     "text": [
      "100%|█████████████████████████████████████████████| 1/1 [00:02<00:00,  2.38s/it]\n"
     ]
    },
    {
     "name": "stdout",
     "output_type": "stream",
     "text": [
      "Fold 2/4 median val_loss: 0.10121214389801025, std val_loss 0.0\n",
      "Fold 2/4 median train_loss: 0.08233103156089783, std train_loss 0.0\n",
      "Fold 2/4 median val_mee: 0.3036394715309143, std val_mee 0.0\n",
      "Fold 2/4 median train_mee: 0.2975136339664459, train_mee 0.0\n",
      "\n",
      "Executing fold 3/4\n"
     ]
    },
    {
     "name": "stderr",
     "output_type": "stream",
     "text": [
      "100%|█████████████████████████████████████████████| 1/1 [00:02<00:00,  2.43s/it]\n"
     ]
    },
    {
     "name": "stdout",
     "output_type": "stream",
     "text": [
      "Fold 3/4 median val_loss: 0.10204651206731796, std val_loss 0.0\n",
      "Fold 3/4 median train_loss: 0.08240534365177155, std train_loss 0.0\n",
      "Fold 3/4 median val_mee: 0.3210562765598297, std val_mee 0.0\n",
      "Fold 3/4 median train_mee: 0.29188302159309387, train_mee 0.0\n",
      "\n",
      "Executing fold 4/4\n"
     ]
    },
    {
     "name": "stderr",
     "output_type": "stream",
     "text": [
      "100%|█████████████████████████████████████████████| 1/1 [00:02<00:00,  2.58s/it]\n"
     ]
    },
    {
     "name": "stdout",
     "output_type": "stream",
     "text": [
      "Fold 4/4 median val_loss: 0.09125003963708878, std val_loss 0.0\n",
      "Fold 4/4 median train_loss: 0.08434798568487167, std train_loss 0.0\n",
      "Fold 4/4 median val_mee: 0.3132839798927307, std val_mee 0.0\n",
      "Fold 4/4 median train_mee: 0.29697176814079285, train_mee 0.0\n",
      "\n",
      "Mean val_loss: 0.09610047563910484, std val_loss: 0.00555745930109807\n",
      "Mean train_loss: 0.08357459492981434, std train_loss: 0.0012449339702432863\n",
      "Mean val_mee: 0.31394486129283905, std val_mee: 0.006558772054304899\n",
      "Mean train_mee: 0.31394486129283905, std train_mee: 0.002226160339634919\n",
      "\n",
      "\n",
      "\n",
      "Testing configuration 42/180:\n",
      "{'batch_size': 16, 'learning_rate': 0.1, 'max_epochs': 500, 'momentum': 0.3, 'initialization': {'type': 'default'}, 'early_stopping': {'monitor': 'val_loss', 'patience': 20, 'delta': 0.01}, 'task': 'regression', 'trials_train': 1, 'trials_final': 5, 'nesterov': False, 'learning_rate_decay': {'epochs': 100, 'lr_final': 0.01}, 'regularization': {'method': 'l1', 'value': 1e-05}, 'units_1': 50, 'activations_1': 'tanh', 'units_2': 50, 'activations_2': 'relu', 'units_3': 50, 'activations_3': 'tanh'}\n",
      "\n",
      "Executing fold 1/4\n"
     ]
    },
    {
     "name": "stderr",
     "output_type": "stream",
     "text": [
      "100%|█████████████████████████████████████████████| 1/1 [00:02<00:00,  2.60s/it]\n"
     ]
    },
    {
     "name": "stdout",
     "output_type": "stream",
     "text": [
      "Fold 1/4 median val_loss: 0.11251678317785263, std val_loss 0.0\n",
      "Fold 1/4 median train_loss: 0.07837746292352676, std train_loss 0.0\n",
      "Fold 1/4 median val_mee: 0.33936211466789246, std val_mee 0.0\n",
      "Fold 1/4 median train_mee: 0.2825813293457031, train_mee 0.0\n",
      "\n",
      "Executing fold 2/4\n"
     ]
    },
    {
     "name": "stderr",
     "output_type": "stream",
     "text": [
      "100%|█████████████████████████████████████████████| 1/1 [00:02<00:00,  2.58s/it]\n"
     ]
    },
    {
     "name": "stdout",
     "output_type": "stream",
     "text": [
      "Fold 2/4 median val_loss: 0.08985060453414917, std val_loss 0.0\n",
      "Fold 2/4 median train_loss: 0.08451665937900543, std train_loss 0.0\n",
      "Fold 2/4 median val_mee: 0.30691662430763245, std val_mee 0.0\n",
      "Fold 2/4 median train_mee: 0.29608407616615295, train_mee 0.0\n",
      "\n",
      "Executing fold 3/4\n"
     ]
    },
    {
     "name": "stderr",
     "output_type": "stream",
     "text": [
      "100%|█████████████████████████████████████████████| 1/1 [00:02<00:00,  2.55s/it]\n"
     ]
    },
    {
     "name": "stdout",
     "output_type": "stream",
     "text": [
      "Fold 3/4 median val_loss: 0.09676714241504669, std val_loss 0.0\n",
      "Fold 3/4 median train_loss: 0.08108942955732346, std train_loss 0.0\n",
      "Fold 3/4 median val_mee: 0.3202787935733795, std val_mee 0.0\n",
      "Fold 3/4 median train_mee: 0.2918265461921692, train_mee 0.0\n",
      "\n",
      "Executing fold 4/4\n"
     ]
    },
    {
     "name": "stderr",
     "output_type": "stream",
     "text": [
      "100%|█████████████████████████████████████████████| 1/1 [00:02<00:00,  2.96s/it]\n"
     ]
    },
    {
     "name": "stdout",
     "output_type": "stream",
     "text": [
      "Fold 4/4 median val_loss: 0.08114221692085266, std val_loss 0.0\n",
      "Fold 4/4 median train_loss: 0.08496838063001633, std train_loss 0.0\n",
      "Fold 4/4 median val_mee: 0.28495827317237854, std val_mee 0.0\n",
      "Fold 4/4 median train_mee: 0.2991325557231903, train_mee 0.0\n",
      "\n",
      "Mean val_loss: 0.09506918676197529, std val_loss: 0.011494517861955485\n",
      "Mean train_loss: 0.082237983122468, std train_loss: 0.0026865511129407667\n",
      "Mean val_mee: 0.31287895143032074, std val_mee: 0.019819366904063367\n",
      "Mean train_mee: 0.31287895143032074, std train_mee: 0.006237682187672916\n",
      "\n",
      "\n",
      "\n",
      "Testing configuration 43/180:\n",
      "{'batch_size': 16, 'learning_rate': 0.1, 'max_epochs': 500, 'momentum': 0.3, 'initialization': {'type': 'default'}, 'early_stopping': {'monitor': 'val_loss', 'patience': 20, 'delta': 0.01}, 'task': 'regression', 'trials_train': 1, 'trials_final': 5, 'nesterov': False, 'learning_rate_decay': {'epochs': 100, 'lr_final': 0.01}, 'regularization': {'method': 'l1', 'value': 1e-05}, 'units_1': 50, 'activations_1': 'tanh', 'units_2': 50, 'activations_2': 'relu', 'units_3': 50, 'activations_3': 'tanh'}\n",
      "\n",
      "Executing fold 1/4\n"
     ]
    },
    {
     "name": "stderr",
     "output_type": "stream",
     "text": [
      "100%|█████████████████████████████████████████████| 1/1 [00:02<00:00,  2.97s/it]\n"
     ]
    },
    {
     "name": "stdout",
     "output_type": "stream",
     "text": [
      "Fold 1/4 median val_loss: 0.09433892369270325, std val_loss 0.0\n",
      "Fold 1/4 median train_loss: 0.08199828863143921, std train_loss 0.0\n",
      "Fold 1/4 median val_mee: 0.3093584179878235, std val_mee 0.0\n",
      "Fold 1/4 median train_mee: 0.29104867577552795, train_mee 0.0\n",
      "\n",
      "Executing fold 2/4\n"
     ]
    },
    {
     "name": "stderr",
     "output_type": "stream",
     "text": [
      "100%|█████████████████████████████████████████████| 1/1 [00:02<00:00,  2.50s/it]\n"
     ]
    },
    {
     "name": "stdout",
     "output_type": "stream",
     "text": [
      "Fold 2/4 median val_loss: 0.0988369733095169, std val_loss 0.0\n",
      "Fold 2/4 median train_loss: 0.08219683915376663, std train_loss 0.0\n",
      "Fold 2/4 median val_mee: 0.321846067905426, std val_mee 0.0\n",
      "Fold 2/4 median train_mee: 0.29558783769607544, train_mee 0.0\n",
      "\n",
      "Executing fold 3/4\n"
     ]
    },
    {
     "name": "stderr",
     "output_type": "stream",
     "text": [
      "100%|█████████████████████████████████████████████| 1/1 [00:02<00:00,  2.42s/it]\n"
     ]
    },
    {
     "name": "stdout",
     "output_type": "stream",
     "text": [
      "Fold 3/4 median val_loss: 0.09766219556331635, std val_loss 0.0\n",
      "Fold 3/4 median train_loss: 0.07987137138843536, std train_loss 0.0\n",
      "Fold 3/4 median val_mee: 0.316585510969162, std val_mee 0.0\n",
      "Fold 3/4 median train_mee: 0.28791120648384094, train_mee 0.0\n",
      "\n",
      "Executing fold 4/4\n"
     ]
    },
    {
     "name": "stderr",
     "output_type": "stream",
     "text": [
      "100%|█████████████████████████████████████████████| 1/1 [00:03<00:00,  3.13s/it]\n"
     ]
    },
    {
     "name": "stdout",
     "output_type": "stream",
     "text": [
      "Fold 4/4 median val_loss: 0.08884493261575699, std val_loss 0.0\n",
      "Fold 4/4 median train_loss: 0.08428195863962173, std train_loss 0.0\n",
      "Fold 4/4 median val_mee: 0.30979639291763306, std val_mee 0.0\n",
      "Fold 4/4 median train_mee: 0.29335907101631165, train_mee 0.0\n",
      "\n",
      "Mean val_loss: 0.09492075629532337, std val_loss: 0.003876416113016122\n",
      "Mean train_loss: 0.08208711445331573, std train_loss: 0.001560992302050829\n",
      "Mean val_mee: 0.31439659744501114, std val_mee: 0.0051679562327225145\n",
      "Mean train_mee: 0.31439659744501114, std train_mee: 0.002843445602516137\n",
      "\n",
      "\n",
      "\n",
      "Testing configuration 44/180:\n",
      "{'batch_size': 16, 'learning_rate': 0.1, 'max_epochs': 500, 'momentum': 0.3, 'initialization': {'type': 'default'}, 'early_stopping': {'monitor': 'val_loss', 'patience': 20, 'delta': 0.01}, 'task': 'regression', 'trials_train': 1, 'trials_final': 5, 'nesterov': False, 'learning_rate_decay': {'epochs': 100, 'lr_final': 0.01}, 'regularization': {'method': 'l1', 'value': 1e-05}, 'units_1': 50, 'activations_1': 'tanh', 'units_2': 50, 'activations_2': 'relu', 'units_3': 50, 'activations_3': 'tanh'}\n",
      "\n",
      "Executing fold 1/4\n"
     ]
    },
    {
     "name": "stderr",
     "output_type": "stream",
     "text": [
      "100%|█████████████████████████████████████████████| 1/1 [00:03<00:00,  3.60s/it]\n"
     ]
    },
    {
     "name": "stdout",
     "output_type": "stream",
     "text": [
      "Fold 1/4 median val_loss: 0.10247893631458282, std val_loss 0.0\n",
      "Fold 1/4 median train_loss: 0.07942332327365875, std train_loss 0.0\n",
      "Fold 1/4 median val_mee: 0.31795069575309753, std val_mee 0.0\n",
      "Fold 1/4 median train_mee: 0.29144087433815, train_mee 0.0\n",
      "\n",
      "Executing fold 2/4\n"
     ]
    },
    {
     "name": "stderr",
     "output_type": "stream",
     "text": [
      "100%|█████████████████████████████████████████████| 1/1 [00:02<00:00,  2.75s/it]\n"
     ]
    },
    {
     "name": "stdout",
     "output_type": "stream",
     "text": [
      "Fold 2/4 median val_loss: 0.08940446376800537, std val_loss 0.0\n",
      "Fold 2/4 median train_loss: 0.08408688753843307, std train_loss 0.0\n",
      "Fold 2/4 median val_mee: 0.31166842579841614, std val_mee 0.0\n",
      "Fold 2/4 median train_mee: 0.29297178983688354, train_mee 0.0\n",
      "\n",
      "Executing fold 3/4\n"
     ]
    },
    {
     "name": "stderr",
     "output_type": "stream",
     "text": [
      "100%|█████████████████████████████████████████████| 1/1 [00:03<00:00,  3.28s/it]\n"
     ]
    },
    {
     "name": "stdout",
     "output_type": "stream",
     "text": [
      "Fold 3/4 median val_loss: 0.09985757619142532, std val_loss 0.0\n",
      "Fold 3/4 median train_loss: 0.07946766912937164, std train_loss 0.0\n",
      "Fold 3/4 median val_mee: 0.32127514481544495, std val_mee 0.0\n",
      "Fold 3/4 median train_mee: 0.2860116958618164, train_mee 0.0\n",
      "\n",
      "Executing fold 4/4\n"
     ]
    },
    {
     "name": "stderr",
     "output_type": "stream",
     "text": [
      "100%|█████████████████████████████████████████████| 1/1 [00:02<00:00,  2.55s/it]\n"
     ]
    },
    {
     "name": "stdout",
     "output_type": "stream",
     "text": [
      "Fold 4/4 median val_loss: 0.08187414705753326, std val_loss 0.0\n",
      "Fold 4/4 median train_loss: 0.08687210083007812, std train_loss 0.0\n",
      "Fold 4/4 median val_mee: 0.2938139736652374, std val_mee 0.0\n",
      "Fold 4/4 median train_mee: 0.3014744818210602, train_mee 0.0\n",
      "\n",
      "Mean val_loss: 0.0934037808328867, std val_loss: 0.008260401224003523\n",
      "Mean train_loss: 0.0824624951928854, std train_loss: 0.0031736737967674317\n",
      "Mean val_mee: 0.311177060008049, std val_mee: 0.010601552547526151\n",
      "Mean train_mee: 0.311177060008049, std train_mee: 0.005547124193299349\n",
      "\n",
      "\n",
      "\n",
      "Testing configuration 45/180:\n",
      "{'batch_size': 16, 'learning_rate': 0.1, 'max_epochs': 500, 'momentum': 0.3, 'initialization': {'type': 'default'}, 'early_stopping': {'monitor': 'val_loss', 'patience': 20, 'delta': 0.01}, 'task': 'regression', 'trials_train': 1, 'trials_final': 5, 'nesterov': False, 'learning_rate_decay': {'epochs': 100, 'lr_final': 0.01}, 'regularization': {'method': 'l1', 'value': 1e-05}, 'units_1': 50, 'activations_1': 'tanh', 'units_2': 50, 'activations_2': 'relu', 'units_3': 50, 'activations_3': 'tanh'}\n",
      "\n",
      "Executing fold 1/4\n"
     ]
    },
    {
     "name": "stderr",
     "output_type": "stream",
     "text": [
      "100%|█████████████████████████████████████████████| 1/1 [00:02<00:00,  2.51s/it]\n"
     ]
    },
    {
     "name": "stdout",
     "output_type": "stream",
     "text": [
      "Fold 1/4 median val_loss: 0.08897845447063446, std val_loss 0.0\n",
      "Fold 1/4 median train_loss: 0.08598020672798157, std train_loss 0.0\n",
      "Fold 1/4 median val_mee: 0.30195188522338867, std val_mee 0.0\n",
      "Fold 1/4 median train_mee: 0.3025676906108856, train_mee 0.0\n",
      "\n",
      "Executing fold 2/4\n"
     ]
    },
    {
     "name": "stderr",
     "output_type": "stream",
     "text": [
      "100%|█████████████████████████████████████████████| 1/1 [00:02<00:00,  2.67s/it]\n"
     ]
    },
    {
     "name": "stdout",
     "output_type": "stream",
     "text": [
      "Fold 2/4 median val_loss: 0.10518502444028854, std val_loss 0.0\n",
      "Fold 2/4 median train_loss: 0.07985805720090866, std train_loss 0.0\n",
      "Fold 2/4 median val_mee: 0.32266929745674133, std val_mee 0.0\n",
      "Fold 2/4 median train_mee: 0.28792092204093933, train_mee 0.0\n",
      "\n",
      "Executing fold 3/4\n"
     ]
    },
    {
     "name": "stderr",
     "output_type": "stream",
     "text": [
      "100%|█████████████████████████████████████████████| 1/1 [00:02<00:00,  2.63s/it]\n"
     ]
    },
    {
     "name": "stdout",
     "output_type": "stream",
     "text": [
      "Fold 3/4 median val_loss: 0.08731289952993393, std val_loss 0.0\n",
      "Fold 3/4 median train_loss: 0.08619372546672821, std train_loss 0.0\n",
      "Fold 3/4 median val_mee: 0.2889728844165802, std val_mee 0.0\n",
      "Fold 3/4 median train_mee: 0.3008963465690613, train_mee 0.0\n",
      "\n",
      "Executing fold 4/4\n"
     ]
    },
    {
     "name": "stderr",
     "output_type": "stream",
     "text": [
      "100%|█████████████████████████████████████████████| 1/1 [00:03<00:00,  3.29s/it]\n"
     ]
    },
    {
     "name": "stdout",
     "output_type": "stream",
     "text": [
      "Fold 4/4 median val_loss: 0.09874159842729568, std val_loss 0.0\n",
      "Fold 4/4 median train_loss: 0.0812675803899765, std train_loss 0.0\n",
      "Fold 4/4 median val_mee: 0.3324648141860962, std val_mee 0.0\n",
      "Fold 4/4 median train_mee: 0.2877700626850128, train_mee 0.0\n",
      "\n",
      "Mean val_loss: 0.09505449421703815, std val_loss: 0.007298508877859337\n",
      "Mean train_loss: 0.08332489244639874, std train_loss: 0.002807684826925157\n",
      "Mean val_mee: 0.3115147203207016, std val_mee: 0.017050756618691744\n",
      "Mean train_mee: 0.3115147203207016, std train_mee: 0.006968566663575661\n",
      "\n",
      "\n",
      "\n",
      "Testing configuration 46/180:\n",
      "{'batch_size': 16, 'learning_rate': 0.1, 'max_epochs': 500, 'momentum': 0.4, 'initialization': {'type': 'default'}, 'early_stopping': {'monitor': 'val_loss', 'patience': 20, 'delta': 0.01}, 'task': 'regression', 'trials_train': 1, 'trials_final': 5, 'nesterov': False, 'learning_rate_decay': {'epochs': 100, 'lr_final': 0.01}, 'regularization': {'method': 'l1', 'value': 0.001}, 'units_1': 50, 'activations_1': 'tanh', 'units_2': 50, 'activations_2': 'relu', 'units_3': 50, 'activations_3': 'tanh'}\n",
      "\n",
      "Executing fold 1/4\n"
     ]
    },
    {
     "name": "stderr",
     "output_type": "stream",
     "text": [
      "100%|█████████████████████████████████████████████| 1/1 [00:22<00:00, 22.71s/it]\n"
     ]
    },
    {
     "name": "stdout",
     "output_type": "stream",
     "text": [
      "Fold 1/4 median val_loss: 0.19963248074054718, std val_loss 0.0\n",
      "Fold 1/4 median train_loss: 0.18166464567184448, std train_loss 0.0\n",
      "Fold 1/4 median val_mee: 0.3255760073661804, std val_mee 0.0\n",
      "Fold 1/4 median train_mee: 0.3043604791164398, train_mee 0.0\n",
      "\n",
      "Executing fold 2/4\n"
     ]
    },
    {
     "name": "stderr",
     "output_type": "stream",
     "text": [
      "100%|█████████████████████████████████████████████| 1/1 [00:23<00:00, 23.43s/it]\n"
     ]
    },
    {
     "name": "stdout",
     "output_type": "stream",
     "text": [
      "Fold 2/4 median val_loss: 0.18452519178390503, std val_loss 0.0\n",
      "Fold 2/4 median train_loss: 0.1895502656698227, std train_loss 0.0\n",
      "Fold 2/4 median val_mee: 0.30075275897979736, std val_mee 0.0\n",
      "Fold 2/4 median train_mee: 0.31639736890792847, train_mee 0.0\n",
      "\n",
      "Executing fold 3/4\n"
     ]
    },
    {
     "name": "stderr",
     "output_type": "stream",
     "text": [
      "100%|█████████████████████████████████████████████| 1/1 [00:20<00:00, 20.76s/it]\n"
     ]
    },
    {
     "name": "stdout",
     "output_type": "stream",
     "text": [
      "Fold 3/4 median val_loss: 0.2078140825033188, std val_loss 0.0\n",
      "Fold 3/4 median train_loss: 0.19512100517749786, std train_loss 0.0\n",
      "Fold 3/4 median val_mee: 0.3246143162250519, std val_mee 0.0\n",
      "Fold 3/4 median train_mee: 0.30893078446388245, train_mee 0.0\n",
      "\n",
      "Executing fold 4/4\n"
     ]
    },
    {
     "name": "stderr",
     "output_type": "stream",
     "text": [
      "100%|█████████████████████████████████████████████| 1/1 [00:22<00:00, 22.38s/it]\n"
     ]
    },
    {
     "name": "stdout",
     "output_type": "stream",
     "text": [
      "Fold 4/4 median val_loss: 0.18627384305000305, std val_loss 0.0\n",
      "Fold 4/4 median train_loss: 0.1893031746149063, std train_loss 0.0\n",
      "Fold 4/4 median val_mee: 0.3144453167915344, std val_mee 0.0\n",
      "Fold 4/4 median train_mee: 0.3115171492099762, train_mee 0.0\n",
      "\n",
      "Mean val_loss: 0.1945613995194435, std val_loss: 0.009627545494143023\n",
      "Mean train_loss: 0.18890977278351784, std train_loss: 0.0047863417882208865\n",
      "Mean val_mee: 0.316347099840641, std val_mee: 0.010003997282482593\n",
      "Mean train_mee: 0.316347099840641, std train_mee: 0.004353504650057901\n",
      "\n",
      "\n",
      "\n",
      "Testing configuration 47/180:\n",
      "{'batch_size': 16, 'learning_rate': 0.1, 'max_epochs': 500, 'momentum': 0.4, 'initialization': {'type': 'default'}, 'early_stopping': {'monitor': 'val_loss', 'patience': 20, 'delta': 0.01}, 'task': 'regression', 'trials_train': 1, 'trials_final': 5, 'nesterov': False, 'learning_rate_decay': {'epochs': 100, 'lr_final': 0.01}, 'regularization': {'method': 'l1', 'value': 0.001}, 'units_1': 50, 'activations_1': 'tanh', 'units_2': 50, 'activations_2': 'relu', 'units_3': 50, 'activations_3': 'tanh'}\n",
      "\n",
      "Executing fold 1/4\n"
     ]
    },
    {
     "name": "stderr",
     "output_type": "stream",
     "text": [
      "100%|█████████████████████████████████████████████| 1/1 [00:21<00:00, 21.14s/it]\n"
     ]
    },
    {
     "name": "stdout",
     "output_type": "stream",
     "text": [
      "Fold 1/4 median val_loss: 0.1959128975868225, std val_loss 0.0\n",
      "Fold 1/4 median train_loss: 0.19753599166870117, std train_loss 0.0\n",
      "Fold 1/4 median val_mee: 0.30461937189102173, std val_mee 0.0\n",
      "Fold 1/4 median train_mee: 0.31455373764038086, train_mee 0.0\n",
      "\n",
      "Executing fold 2/4\n"
     ]
    },
    {
     "name": "stderr",
     "output_type": "stream",
     "text": [
      "100%|█████████████████████████████████████████████| 1/1 [00:23<00:00, 23.31s/it]\n"
     ]
    },
    {
     "name": "stdout",
     "output_type": "stream",
     "text": [
      "Fold 2/4 median val_loss: 0.1767253279685974, std val_loss 0.0\n",
      "Fold 2/4 median train_loss: 0.18317414820194244, std train_loss 0.0\n",
      "Fold 2/4 median val_mee: 0.3162965178489685, std val_mee 0.0\n",
      "Fold 2/4 median train_mee: 0.31352442502975464, train_mee 0.0\n",
      "\n",
      "Executing fold 3/4\n"
     ]
    },
    {
     "name": "stderr",
     "output_type": "stream",
     "text": [
      "100%|█████████████████████████████████████████████| 1/1 [00:22<00:00, 22.04s/it]\n"
     ]
    },
    {
     "name": "stdout",
     "output_type": "stream",
     "text": [
      "Fold 3/4 median val_loss: 0.2075396031141281, std val_loss 0.0\n",
      "Fold 3/4 median train_loss: 0.18132631480693817, std train_loss 0.0\n",
      "Fold 3/4 median val_mee: 0.3370284140110016, std val_mee 0.0\n",
      "Fold 3/4 median train_mee: 0.303534597158432, train_mee 0.0\n",
      "\n",
      "Executing fold 4/4\n"
     ]
    },
    {
     "name": "stderr",
     "output_type": "stream",
     "text": [
      "100%|█████████████████████████████████████████████| 1/1 [00:21<00:00, 21.85s/it]\n"
     ]
    },
    {
     "name": "stdout",
     "output_type": "stream",
     "text": [
      "Fold 4/4 median val_loss: 0.19646787643432617, std val_loss 0.0\n",
      "Fold 4/4 median train_loss: 0.1936245858669281, std train_loss 0.0\n",
      "Fold 4/4 median val_mee: 0.3099209666252136, std val_mee 0.0\n",
      "Fold 4/4 median train_mee: 0.31049391627311707, train_mee 0.0\n",
      "\n",
      "Mean val_loss: 0.19416142627596855, std val_loss: 0.011083552045521238\n",
      "Mean train_loss: 0.18891526013612747, std train_loss: 0.0068382603497848275\n",
      "Mean val_mee: 0.31696631759405136, std val_mee: 0.012298581044262636\n",
      "Mean train_mee: 0.31696631759405136, std train_mee: 0.004303892552882667\n",
      "\n",
      "\n",
      "\n",
      "Testing configuration 48/180:\n",
      "{'batch_size': 16, 'learning_rate': 0.1, 'max_epochs': 500, 'momentum': 0.4, 'initialization': {'type': 'default'}, 'early_stopping': {'monitor': 'val_loss', 'patience': 20, 'delta': 0.01}, 'task': 'regression', 'trials_train': 1, 'trials_final': 5, 'nesterov': False, 'learning_rate_decay': {'epochs': 100, 'lr_final': 0.01}, 'regularization': {'method': 'l1', 'value': 0.001}, 'units_1': 50, 'activations_1': 'tanh', 'units_2': 50, 'activations_2': 'relu', 'units_3': 50, 'activations_3': 'tanh'}\n",
      "\n",
      "Executing fold 1/4\n"
     ]
    },
    {
     "name": "stderr",
     "output_type": "stream",
     "text": [
      "100%|█████████████████████████████████████████████| 1/1 [00:21<00:00, 21.79s/it]\n"
     ]
    },
    {
     "name": "stdout",
     "output_type": "stream",
     "text": [
      "Fold 1/4 median val_loss: 0.18847471475601196, std val_loss 0.0\n",
      "Fold 1/4 median train_loss: 0.19317471981048584, std train_loss 0.0\n",
      "Fold 1/4 median val_mee: 0.3017771542072296, std val_mee 0.0\n",
      "Fold 1/4 median train_mee: 0.3127601742744446, train_mee 0.0\n",
      "\n",
      "Executing fold 2/4\n"
     ]
    },
    {
     "name": "stderr",
     "output_type": "stream",
     "text": [
      "100%|█████████████████████████████████████████████| 1/1 [00:19<00:00, 19.76s/it]\n"
     ]
    },
    {
     "name": "stdout",
     "output_type": "stream",
     "text": [
      "Fold 2/4 median val_loss: 0.2256341129541397, std val_loss 0.0\n",
      "Fold 2/4 median train_loss: 0.21335595846176147, std train_loss 0.0\n",
      "Fold 2/4 median val_mee: 0.3293360769748688, std val_mee 0.0\n",
      "Fold 2/4 median train_mee: 0.31024169921875, train_mee 0.0\n",
      "\n",
      "Executing fold 3/4\n"
     ]
    },
    {
     "name": "stderr",
     "output_type": "stream",
     "text": [
      "100%|█████████████████████████████████████████████| 1/1 [00:21<00:00, 21.50s/it]\n"
     ]
    },
    {
     "name": "stdout",
     "output_type": "stream",
     "text": [
      "Fold 3/4 median val_loss: 0.19346141815185547, std val_loss 0.0\n",
      "Fold 3/4 median train_loss: 0.18967001140117645, std train_loss 0.0\n",
      "Fold 3/4 median val_mee: 0.313242107629776, std val_mee 0.0\n",
      "Fold 3/4 median train_mee: 0.31108054518699646, train_mee 0.0\n",
      "\n",
      "Executing fold 4/4\n"
     ]
    },
    {
     "name": "stderr",
     "output_type": "stream",
     "text": [
      "100%|█████████████████████████████████████████████| 1/1 [00:22<00:00, 22.25s/it]\n"
     ]
    },
    {
     "name": "stdout",
     "output_type": "stream",
     "text": [
      "Fold 4/4 median val_loss: 0.19026334583759308, std val_loss 0.0\n",
      "Fold 4/4 median train_loss: 0.18016621470451355, std train_loss 0.0\n",
      "Fold 4/4 median val_mee: 0.3130829930305481, std val_mee 0.0\n",
      "Fold 4/4 median train_mee: 0.30712106823921204, train_mee 0.0\n",
      "\n",
      "Mean val_loss: 0.19945839792490005, std val_loss: 0.01521777006112486\n",
      "Mean train_loss: 0.19409172609448433, std train_loss: 0.012097757824557426\n",
      "Mean val_mee: 0.3143595829606056, std val_mee: 0.009816966426264027\n",
      "Mean train_mee: 0.3143595829606056, std train_mee: 0.002047602948008436\n",
      "\n",
      "\n",
      "\n",
      "Testing configuration 49/180:\n",
      "{'batch_size': 16, 'learning_rate': 0.1, 'max_epochs': 500, 'momentum': 0.4, 'initialization': {'type': 'default'}, 'early_stopping': {'monitor': 'val_loss', 'patience': 20, 'delta': 0.01}, 'task': 'regression', 'trials_train': 1, 'trials_final': 5, 'nesterov': False, 'learning_rate_decay': {'epochs': 100, 'lr_final': 0.01}, 'regularization': {'method': 'l1', 'value': 0.001}, 'units_1': 50, 'activations_1': 'tanh', 'units_2': 50, 'activations_2': 'relu', 'units_3': 50, 'activations_3': 'tanh'}\n",
      "\n",
      "Executing fold 1/4\n"
     ]
    },
    {
     "name": "stderr",
     "output_type": "stream",
     "text": [
      "100%|█████████████████████████████████████████████| 1/1 [00:24<00:00, 24.92s/it]\n"
     ]
    },
    {
     "name": "stdout",
     "output_type": "stream",
     "text": [
      "Fold 1/4 median val_loss: 0.1800571084022522, std val_loss 0.0\n",
      "Fold 1/4 median train_loss: 0.18934819102287292, std train_loss 0.0\n",
      "Fold 1/4 median val_mee: 0.30218151211738586, std val_mee 0.0\n",
      "Fold 1/4 median train_mee: 0.31039029359817505, train_mee 0.0\n",
      "\n",
      "Executing fold 2/4\n"
     ]
    },
    {
     "name": "stderr",
     "output_type": "stream",
     "text": [
      "100%|█████████████████████████████████████████████| 1/1 [00:20<00:00, 20.75s/it]\n"
     ]
    },
    {
     "name": "stdout",
     "output_type": "stream",
     "text": [
      "Fold 2/4 median val_loss: 0.22611522674560547, std val_loss 0.0\n",
      "Fold 2/4 median train_loss: 0.21172523498535156, std train_loss 0.0\n",
      "Fold 2/4 median val_mee: 0.3205414116382599, std val_mee 0.0\n",
      "Fold 2/4 median train_mee: 0.3079770505428314, train_mee 0.0\n",
      "\n",
      "Executing fold 3/4\n"
     ]
    },
    {
     "name": "stderr",
     "output_type": "stream",
     "text": [
      "100%|█████████████████████████████████████████████| 1/1 [00:23<00:00, 23.23s/it]\n"
     ]
    },
    {
     "name": "stdout",
     "output_type": "stream",
     "text": [
      "Fold 3/4 median val_loss: 0.20921233296394348, std val_loss 0.0\n",
      "Fold 3/4 median train_loss: 0.18452250957489014, std train_loss 0.0\n",
      "Fold 3/4 median val_mee: 0.3308041989803314, std val_mee 0.0\n",
      "Fold 3/4 median train_mee: 0.3057982325553894, train_mee 0.0\n",
      "\n",
      "Executing fold 4/4\n"
     ]
    },
    {
     "name": "stderr",
     "output_type": "stream",
     "text": [
      "100%|█████████████████████████████████████████████| 1/1 [00:23<00:00, 23.29s/it]\n"
     ]
    },
    {
     "name": "stdout",
     "output_type": "stream",
     "text": [
      "Fold 4/4 median val_loss: 0.20046983659267426, std val_loss 0.0\n",
      "Fold 4/4 median train_loss: 0.19714386761188507, std train_loss 0.0\n",
      "Fold 4/4 median val_mee: 0.31501802802085876, std val_mee 0.0\n",
      "Fold 4/4 median train_mee: 0.3104493021965027, train_mee 0.0\n",
      "\n",
      "Mean val_loss: 0.20396362617611885, std val_loss: 0.01659797042156227\n",
      "Mean train_loss: 0.19568495079874992, std train_loss: 0.010297739722724207\n",
      "Mean val_mee: 0.317136287689209, std val_mee: 0.010326410370943876\n",
      "Mean train_mee: 0.317136287689209, std train_mee: 0.0019268817677058775\n",
      "\n",
      "\n",
      "\n",
      "Testing configuration 50/180:\n",
      "{'batch_size': 16, 'learning_rate': 0.1, 'max_epochs': 500, 'momentum': 0.4, 'initialization': {'type': 'default'}, 'early_stopping': {'monitor': 'val_loss', 'patience': 20, 'delta': 0.01}, 'task': 'regression', 'trials_train': 1, 'trials_final': 5, 'nesterov': False, 'learning_rate_decay': {'epochs': 100, 'lr_final': 0.01}, 'regularization': {'method': 'l1', 'value': 0.001}, 'units_1': 50, 'activations_1': 'tanh', 'units_2': 50, 'activations_2': 'relu', 'units_3': 50, 'activations_3': 'tanh'}\n",
      "\n",
      "Executing fold 1/4\n"
     ]
    },
    {
     "name": "stderr",
     "output_type": "stream",
     "text": [
      "100%|█████████████████████████████████████████████| 1/1 [00:23<00:00, 23.83s/it]\n"
     ]
    },
    {
     "name": "stdout",
     "output_type": "stream",
     "text": [
      "Fold 1/4 median val_loss: 0.19184310734272003, std val_loss 0.0\n",
      "Fold 1/4 median train_loss: 0.18734076619148254, std train_loss 0.0\n",
      "Fold 1/4 median val_mee: 0.3076961040496826, std val_mee 0.0\n",
      "Fold 1/4 median train_mee: 0.30780264735221863, train_mee 0.0\n",
      "\n",
      "Executing fold 2/4\n"
     ]
    },
    {
     "name": "stderr",
     "output_type": "stream",
     "text": [
      "100%|█████████████████████████████████████████████| 1/1 [00:23<00:00, 23.50s/it]\n"
     ]
    },
    {
     "name": "stdout",
     "output_type": "stream",
     "text": [
      "Fold 2/4 median val_loss: 0.19956718385219574, std val_loss 0.0\n",
      "Fold 2/4 median train_loss: 0.19281814992427826, std train_loss 0.0\n",
      "Fold 2/4 median val_mee: 0.3269151747226715, std val_mee 0.0\n",
      "Fold 2/4 median train_mee: 0.3102085590362549, train_mee 0.0\n",
      "\n",
      "Executing fold 3/4\n"
     ]
    },
    {
     "name": "stderr",
     "output_type": "stream",
     "text": [
      "100%|█████████████████████████████████████████████| 1/1 [00:40<00:00, 40.13s/it]\n"
     ]
    },
    {
     "name": "stdout",
     "output_type": "stream",
     "text": [
      "Fold 3/4 median val_loss: 0.19611822068691254, std val_loss 0.0\n",
      "Fold 3/4 median train_loss: 0.19575762748718262, std train_loss 0.0\n",
      "Fold 3/4 median val_mee: 0.3090607523918152, std val_mee 0.0\n",
      "Fold 3/4 median train_mee: 0.30876559019088745, train_mee 0.0\n",
      "\n",
      "Executing fold 4/4\n"
     ]
    },
    {
     "name": "stderr",
     "output_type": "stream",
     "text": [
      "100%|█████████████████████████████████████████████| 1/1 [00:22<00:00, 22.11s/it]\n"
     ]
    },
    {
     "name": "stdout",
     "output_type": "stream",
     "text": [
      "Fold 4/4 median val_loss: 0.19291536509990692, std val_loss 0.0\n",
      "Fold 4/4 median train_loss: 0.18782462179660797, std train_loss 0.0\n",
      "Fold 4/4 median val_mee: 0.3158690631389618, std val_mee 0.0\n",
      "Fold 4/4 median train_mee: 0.3110255300998688, train_mee 0.0\n",
      "\n",
      "Mean val_loss: 0.1951109692454338, std val_loss: 0.003015460291022845\n",
      "Mean train_loss: 0.19093529134988785, std train_loss: 0.0035141484891907182\n",
      "Mean val_mee: 0.3148852735757828, std val_mee: 0.007604202275814821\n",
      "Mean train_mee: 0.3148852735757828, std train_mee: 0.0012489888997384204\n",
      "\n",
      "\n",
      "\n",
      "Testing configuration 51/180:\n",
      "{'batch_size': 16, 'learning_rate': 0.1, 'max_epochs': 500, 'momentum': 0.4, 'initialization': {'type': 'default'}, 'early_stopping': {'monitor': 'val_loss', 'patience': 20, 'delta': 0.01}, 'task': 'regression', 'trials_train': 1, 'trials_final': 5, 'nesterov': False, 'learning_rate_decay': {'epochs': 100, 'lr_final': 0.01}, 'regularization': {'method': 'l1', 'value': 0.0001}, 'units_1': 50, 'activations_1': 'tanh', 'units_2': 50, 'activations_2': 'relu', 'units_3': 50, 'activations_3': 'tanh'}\n",
      "\n",
      "Executing fold 1/4\n"
     ]
    },
    {
     "name": "stderr",
     "output_type": "stream",
     "text": [
      "100%|█████████████████████████████████████████████| 1/1 [00:02<00:00,  2.43s/it]\n"
     ]
    },
    {
     "name": "stdout",
     "output_type": "stream",
     "text": [
      "Fold 1/4 median val_loss: 0.16513261198997498, std val_loss 0.0\n",
      "Fold 1/4 median train_loss: 0.1409723311662674, std train_loss 0.0\n",
      "Fold 1/4 median val_mee: 0.31791573762893677, std val_mee 0.0\n",
      "Fold 1/4 median train_mee: 0.2924373745918274, train_mee 0.0\n",
      "\n",
      "Executing fold 2/4\n"
     ]
    },
    {
     "name": "stderr",
     "output_type": "stream",
     "text": [
      "100%|█████████████████████████████████████████████| 1/1 [00:02<00:00,  2.87s/it]\n"
     ]
    },
    {
     "name": "stdout",
     "output_type": "stream",
     "text": [
      "Fold 2/4 median val_loss: 0.15213973820209503, std val_loss 0.0\n",
      "Fold 2/4 median train_loss: 0.14330293238162994, std train_loss 0.0\n",
      "Fold 2/4 median val_mee: 0.3272183835506439, std val_mee 0.0\n",
      "Fold 2/4 median train_mee: 0.29380089044570923, train_mee 0.0\n",
      "\n",
      "Executing fold 3/4\n"
     ]
    },
    {
     "name": "stderr",
     "output_type": "stream",
     "text": [
      "100%|█████████████████████████████████████████████| 1/1 [00:02<00:00,  2.42s/it]\n"
     ]
    },
    {
     "name": "stdout",
     "output_type": "stream",
     "text": [
      "Fold 3/4 median val_loss: 0.14416052401065826, std val_loss 0.0\n",
      "Fold 3/4 median train_loss: 0.1492735594511032, std train_loss 0.0\n",
      "Fold 3/4 median val_mee: 0.2910431921482086, std val_mee 0.0\n",
      "Fold 3/4 median train_mee: 0.30252018570899963, train_mee 0.0\n",
      "\n",
      "Executing fold 4/4\n"
     ]
    },
    {
     "name": "stderr",
     "output_type": "stream",
     "text": [
      "100%|█████████████████████████████████████████████| 1/1 [00:02<00:00,  2.34s/it]\n"
     ]
    },
    {
     "name": "stdout",
     "output_type": "stream",
     "text": [
      "Fold 4/4 median val_loss: 0.1684093028306961, std val_loss 0.0\n",
      "Fold 4/4 median train_loss: 0.13926094770431519, std train_loss 0.0\n",
      "Fold 4/4 median val_mee: 0.33231547474861145, std val_mee 0.0\n",
      "Fold 4/4 median train_mee: 0.28784409165382385, train_mee 0.0\n",
      "\n",
      "Mean val_loss: 0.1574605442583561, std val_loss: 0.009797160982032668\n",
      "Mean train_loss: 0.14320244267582893, std train_loss: 0.003787391484766782\n",
      "Mean val_mee: 0.3171231970191002, std val_mee: 0.01591785843322865\n",
      "Mean train_mee: 0.3171231970191002, std train_mee: 0.005312237064720975\n",
      "\n",
      "\n",
      "\n",
      "Testing configuration 52/180:\n",
      "{'batch_size': 16, 'learning_rate': 0.1, 'max_epochs': 500, 'momentum': 0.4, 'initialization': {'type': 'default'}, 'early_stopping': {'monitor': 'val_loss', 'patience': 20, 'delta': 0.01}, 'task': 'regression', 'trials_train': 1, 'trials_final': 5, 'nesterov': False, 'learning_rate_decay': {'epochs': 100, 'lr_final': 0.01}, 'regularization': {'method': 'l1', 'value': 0.0001}, 'units_1': 50, 'activations_1': 'tanh', 'units_2': 50, 'activations_2': 'relu', 'units_3': 50, 'activations_3': 'tanh'}\n",
      "\n",
      "Executing fold 1/4\n"
     ]
    },
    {
     "name": "stderr",
     "output_type": "stream",
     "text": [
      "100%|█████████████████████████████████████████████| 1/1 [00:03<00:00,  3.11s/it]\n"
     ]
    },
    {
     "name": "stdout",
     "output_type": "stream",
     "text": [
      "Fold 1/4 median val_loss: 0.1597411185503006, std val_loss 0.0\n",
      "Fold 1/4 median train_loss: 0.14303988218307495, std train_loss 0.0\n",
      "Fold 1/4 median val_mee: 0.3240744471549988, std val_mee 0.0\n",
      "Fold 1/4 median train_mee: 0.29015272855758667, train_mee 0.0\n",
      "\n",
      "Executing fold 2/4\n"
     ]
    },
    {
     "name": "stderr",
     "output_type": "stream",
     "text": [
      "100%|█████████████████████████████████████████████| 1/1 [00:02<00:00,  2.37s/it]\n"
     ]
    },
    {
     "name": "stdout",
     "output_type": "stream",
     "text": [
      "Fold 2/4 median val_loss: 0.15011559426784515, std val_loss 0.0\n",
      "Fold 2/4 median train_loss: 0.14516618847846985, std train_loss 0.0\n",
      "Fold 2/4 median val_mee: 0.30787840485572815, std val_mee 0.0\n",
      "Fold 2/4 median train_mee: 0.2966795265674591, train_mee 0.0\n",
      "\n",
      "Executing fold 3/4\n"
     ]
    },
    {
     "name": "stderr",
     "output_type": "stream",
     "text": [
      "100%|█████████████████████████████████████████████| 1/1 [00:02<00:00,  2.35s/it]\n"
     ]
    },
    {
     "name": "stdout",
     "output_type": "stream",
     "text": [
      "Fold 3/4 median val_loss: 0.16981641948223114, std val_loss 0.0\n",
      "Fold 3/4 median train_loss: 0.13915714621543884, std train_loss 0.0\n",
      "Fold 3/4 median val_mee: 0.32530197501182556, std val_mee 0.0\n",
      "Fold 3/4 median train_mee: 0.28941044211387634, train_mee 0.0\n",
      "\n",
      "Executing fold 4/4\n"
     ]
    },
    {
     "name": "stderr",
     "output_type": "stream",
     "text": [
      "100%|█████████████████████████████████████████████| 1/1 [00:02<00:00,  2.29s/it]\n"
     ]
    },
    {
     "name": "stdout",
     "output_type": "stream",
     "text": [
      "Fold 4/4 median val_loss: 0.14324288070201874, std val_loss 0.0\n",
      "Fold 4/4 median train_loss: 0.14590515196323395, std train_loss 0.0\n",
      "Fold 4/4 median val_mee: 0.29090258479118347, std val_mee 0.0\n",
      "Fold 4/4 median train_mee: 0.2975662648677826, train_mee 0.0\n",
      "\n",
      "Mean val_loss: 0.1557290032505989, std val_loss: 0.01002454465259119\n",
      "Mean train_loss: 0.1433170922100544, std train_loss: 0.0026219842854731073\n",
      "Mean val_mee: 0.312039352953434, std val_mee: 0.014007293579781947\n",
      "Mean train_mee: 0.312039352953434, std train_mee: 0.0036933550165169815\n",
      "\n",
      "\n",
      "\n",
      "Testing configuration 53/180:\n",
      "{'batch_size': 16, 'learning_rate': 0.1, 'max_epochs': 500, 'momentum': 0.4, 'initialization': {'type': 'default'}, 'early_stopping': {'monitor': 'val_loss', 'patience': 20, 'delta': 0.01}, 'task': 'regression', 'trials_train': 1, 'trials_final': 5, 'nesterov': False, 'learning_rate_decay': {'epochs': 100, 'lr_final': 0.01}, 'regularization': {'method': 'l1', 'value': 0.0001}, 'units_1': 50, 'activations_1': 'tanh', 'units_2': 50, 'activations_2': 'relu', 'units_3': 50, 'activations_3': 'tanh'}\n",
      "\n",
      "Executing fold 1/4\n"
     ]
    },
    {
     "name": "stderr",
     "output_type": "stream",
     "text": [
      "100%|█████████████████████████████████████████████| 1/1 [00:03<00:00,  3.14s/it]\n"
     ]
    },
    {
     "name": "stdout",
     "output_type": "stream",
     "text": [
      "Fold 1/4 median val_loss: 0.14573444426059723, std val_loss 0.0\n",
      "Fold 1/4 median train_loss: 0.14530980587005615, std train_loss 0.0\n",
      "Fold 1/4 median val_mee: 0.29958850145339966, std val_mee 0.0\n",
      "Fold 1/4 median train_mee: 0.29722243547439575, train_mee 0.0\n",
      "\n",
      "Executing fold 2/4\n"
     ]
    },
    {
     "name": "stderr",
     "output_type": "stream",
     "text": [
      "100%|█████████████████████████████████████████████| 1/1 [00:03<00:00,  3.58s/it]\n"
     ]
    },
    {
     "name": "stdout",
     "output_type": "stream",
     "text": [
      "Fold 2/4 median val_loss: 0.15152016282081604, std val_loss 0.0\n",
      "Fold 2/4 median train_loss: 0.14511163532733917, std train_loss 0.0\n",
      "Fold 2/4 median val_mee: 0.3084612786769867, std val_mee 0.0\n",
      "Fold 2/4 median train_mee: 0.29403790831565857, train_mee 0.0\n",
      "\n",
      "Executing fold 3/4\n"
     ]
    },
    {
     "name": "stderr",
     "output_type": "stream",
     "text": [
      "100%|█████████████████████████████████████████████| 1/1 [00:04<00:00,  4.51s/it]\n"
     ]
    },
    {
     "name": "stdout",
     "output_type": "stream",
     "text": [
      "Fold 3/4 median val_loss: 0.1633765548467636, std val_loss 0.0\n",
      "Fold 3/4 median train_loss: 0.14027251303195953, std train_loss 0.0\n",
      "Fold 3/4 median val_mee: 0.32577574253082275, std val_mee 0.0\n",
      "Fold 3/4 median train_mee: 0.2889746129512787, train_mee 0.0\n",
      "\n",
      "Executing fold 4/4\n"
     ]
    },
    {
     "name": "stderr",
     "output_type": "stream",
     "text": [
      "100%|█████████████████████████████████████████████| 1/1 [00:03<00:00,  3.73s/it]\n"
     ]
    },
    {
     "name": "stdout",
     "output_type": "stream",
     "text": [
      "Fold 4/4 median val_loss: 0.15549488365650177, std val_loss 0.0\n",
      "Fold 4/4 median train_loss: 0.14164987206459045, std train_loss 0.0\n",
      "Fold 4/4 median val_mee: 0.3055552840232849, std val_mee 0.0\n",
      "Fold 4/4 median train_mee: 0.29542428255081177, train_mee 0.0\n",
      "\n",
      "Mean val_loss: 0.15403151139616966, std val_loss: 0.0064152063525837804\n",
      "Mean train_loss: 0.14308595657348633, std train_loss: 0.0021809793319581485\n",
      "Mean val_mee: 0.3098452016711235, std val_mee: 0.009737821467321904\n",
      "Mean train_mee: 0.3098452016711235, std train_mee: 0.0030675557752076216\n",
      "\n",
      "\n",
      "\n",
      "Testing configuration 54/180:\n",
      "{'batch_size': 16, 'learning_rate': 0.1, 'max_epochs': 500, 'momentum': 0.4, 'initialization': {'type': 'default'}, 'early_stopping': {'monitor': 'val_loss', 'patience': 20, 'delta': 0.01}, 'task': 'regression', 'trials_train': 1, 'trials_final': 5, 'nesterov': False, 'learning_rate_decay': {'epochs': 100, 'lr_final': 0.01}, 'regularization': {'method': 'l1', 'value': 0.0001}, 'units_1': 50, 'activations_1': 'tanh', 'units_2': 50, 'activations_2': 'relu', 'units_3': 50, 'activations_3': 'tanh'}\n",
      "\n",
      "Executing fold 1/4\n"
     ]
    },
    {
     "name": "stderr",
     "output_type": "stream",
     "text": [
      "100%|█████████████████████████████████████████████| 1/1 [00:03<00:00,  3.38s/it]\n"
     ]
    },
    {
     "name": "stdout",
     "output_type": "stream",
     "text": [
      "Fold 1/4 median val_loss: 0.13300128281116486, std val_loss 0.0\n",
      "Fold 1/4 median train_loss: 0.14666281640529633, std train_loss 0.0\n",
      "Fold 1/4 median val_mee: 0.2788124680519104, std val_mee 0.0\n",
      "Fold 1/4 median train_mee: 0.29994988441467285, train_mee 0.0\n",
      "\n",
      "Executing fold 2/4\n"
     ]
    },
    {
     "name": "stderr",
     "output_type": "stream",
     "text": [
      "100%|█████████████████████████████████████████████| 1/1 [00:06<00:00,  6.00s/it]\n"
     ]
    },
    {
     "name": "stdout",
     "output_type": "stream",
     "text": [
      "Fold 2/4 median val_loss: 0.15526586771011353, std val_loss 0.0\n",
      "Fold 2/4 median train_loss: 0.14098313450813293, std train_loss 0.0\n",
      "Fold 2/4 median val_mee: 0.3121408522129059, std val_mee 0.0\n",
      "Fold 2/4 median train_mee: 0.289726585149765, train_mee 0.0\n",
      "\n",
      "Executing fold 3/4\n"
     ]
    },
    {
     "name": "stderr",
     "output_type": "stream",
     "text": [
      "100%|█████████████████████████████████████████████| 1/1 [00:02<00:00,  2.61s/it]\n"
     ]
    },
    {
     "name": "stdout",
     "output_type": "stream",
     "text": [
      "Fold 3/4 median val_loss: 0.1589609980583191, std val_loss 0.0\n",
      "Fold 3/4 median train_loss: 0.14301204681396484, std train_loss 0.0\n",
      "Fold 3/4 median val_mee: 0.3244883418083191, std val_mee 0.0\n",
      "Fold 3/4 median train_mee: 0.2921285331249237, train_mee 0.0\n",
      "\n",
      "Executing fold 4/4\n"
     ]
    },
    {
     "name": "stderr",
     "output_type": "stream",
     "text": [
      "100%|█████████████████████████████████████████████| 1/1 [00:03<00:00,  3.10s/it]\n"
     ]
    },
    {
     "name": "stdout",
     "output_type": "stream",
     "text": [
      "Fold 4/4 median val_loss: 0.16263975203037262, std val_loss 0.0\n",
      "Fold 4/4 median train_loss: 0.13886038959026337, std train_loss 0.0\n",
      "Fold 4/4 median val_mee: 0.31556931138038635, std val_mee 0.0\n",
      "Fold 4/4 median train_mee: 0.2893401086330414, train_mee 0.0\n",
      "\n",
      "Mean val_loss: 0.15246697515249252, std val_loss: 0.011536948261833163\n",
      "Mean train_loss: 0.14237959682941437, std train_loss: 0.002875799433419682\n",
      "Mean val_mee: 0.30775274336338043, std val_mee: 0.017305880685865704\n",
      "Mean train_mee: 0.30775274336338043, std train_mee: 0.004271641629062944\n",
      "\n",
      "\n",
      "\n",
      "Testing configuration 55/180:\n",
      "{'batch_size': 16, 'learning_rate': 0.1, 'max_epochs': 500, 'momentum': 0.4, 'initialization': {'type': 'default'}, 'early_stopping': {'monitor': 'val_loss', 'patience': 20, 'delta': 0.01}, 'task': 'regression', 'trials_train': 1, 'trials_final': 5, 'nesterov': False, 'learning_rate_decay': {'epochs': 100, 'lr_final': 0.01}, 'regularization': {'method': 'l1', 'value': 0.0001}, 'units_1': 50, 'activations_1': 'tanh', 'units_2': 50, 'activations_2': 'relu', 'units_3': 50, 'activations_3': 'tanh'}\n",
      "\n",
      "Executing fold 1/4\n"
     ]
    },
    {
     "name": "stderr",
     "output_type": "stream",
     "text": [
      "100%|█████████████████████████████████████████████| 1/1 [00:02<00:00,  2.57s/it]\n"
     ]
    },
    {
     "name": "stdout",
     "output_type": "stream",
     "text": [
      "Fold 1/4 median val_loss: 0.14620769023895264, std val_loss 0.0\n",
      "Fold 1/4 median train_loss: 0.147051602602005, std train_loss 0.0\n",
      "Fold 1/4 median val_mee: 0.2973836064338684, std val_mee 0.0\n",
      "Fold 1/4 median train_mee: 0.29906460642814636, train_mee 0.0\n",
      "\n",
      "Executing fold 2/4\n"
     ]
    },
    {
     "name": "stderr",
     "output_type": "stream",
     "text": [
      "100%|█████████████████████████████████████████████| 1/1 [00:02<00:00,  2.61s/it]\n"
     ]
    },
    {
     "name": "stdout",
     "output_type": "stream",
     "text": [
      "Fold 2/4 median val_loss: 0.14811725914478302, std val_loss 0.0\n",
      "Fold 2/4 median train_loss: 0.1454077512025833, std train_loss 0.0\n",
      "Fold 2/4 median val_mee: 0.3016996681690216, std val_mee 0.0\n",
      "Fold 2/4 median train_mee: 0.2949654757976532, train_mee 0.0\n",
      "\n",
      "Executing fold 3/4\n"
     ]
    },
    {
     "name": "stderr",
     "output_type": "stream",
     "text": [
      "100%|█████████████████████████████████████████████| 1/1 [00:02<00:00,  2.52s/it]\n"
     ]
    },
    {
     "name": "stdout",
     "output_type": "stream",
     "text": [
      "Fold 3/4 median val_loss: 0.1593431532382965, std val_loss 0.0\n",
      "Fold 3/4 median train_loss: 0.14144796133041382, std train_loss 0.0\n",
      "Fold 3/4 median val_mee: 0.2951284646987915, std val_mee 0.0\n",
      "Fold 3/4 median train_mee: 0.29227107763290405, train_mee 0.0\n",
      "\n",
      "Executing fold 4/4\n"
     ]
    },
    {
     "name": "stderr",
     "output_type": "stream",
     "text": [
      "100%|█████████████████████████████████████████████| 1/1 [00:02<00:00,  2.84s/it]\n"
     ]
    },
    {
     "name": "stdout",
     "output_type": "stream",
     "text": [
      "Fold 4/4 median val_loss: 0.16897287964820862, std val_loss 0.0\n",
      "Fold 4/4 median train_loss: 0.1383495181798935, std train_loss 0.0\n",
      "Fold 4/4 median val_mee: 0.3449731469154358, std val_mee 0.0\n",
      "Fold 4/4 median train_mee: 0.28122952580451965, train_mee 0.0\n",
      "\n",
      "Mean val_loss: 0.1556602455675602, std val_loss: 0.009179290297879764\n",
      "Mean train_loss: 0.1430642083287239, std train_loss: 0.0033997082173047224\n",
      "Mean val_mee: 0.3097962215542793, std val_mee: 0.020446187663497716\n",
      "Mean train_mee: 0.3097962215542793, std train_mee: 0.006609164928017885\n",
      "\n",
      "\n",
      "\n",
      "Testing configuration 56/180:\n",
      "{'batch_size': 16, 'learning_rate': 0.1, 'max_epochs': 500, 'momentum': 0.4, 'initialization': {'type': 'default'}, 'early_stopping': {'monitor': 'val_loss', 'patience': 20, 'delta': 0.01}, 'task': 'regression', 'trials_train': 1, 'trials_final': 5, 'nesterov': False, 'learning_rate_decay': {'epochs': 100, 'lr_final': 0.01}, 'regularization': {'method': 'l1', 'value': 1e-05}, 'units_1': 50, 'activations_1': 'tanh', 'units_2': 50, 'activations_2': 'relu', 'units_3': 50, 'activations_3': 'tanh'}\n",
      "\n",
      "Executing fold 1/4\n"
     ]
    },
    {
     "name": "stderr",
     "output_type": "stream",
     "text": [
      "100%|█████████████████████████████████████████████| 1/1 [00:02<00:00,  2.31s/it]\n"
     ]
    },
    {
     "name": "stdout",
     "output_type": "stream",
     "text": [
      "Fold 1/4 median val_loss: 0.08343152701854706, std val_loss 0.0\n",
      "Fold 1/4 median train_loss: 0.08485466986894608, std train_loss 0.0\n",
      "Fold 1/4 median val_mee: 0.29416027665138245, std val_mee 0.0\n",
      "Fold 1/4 median train_mee: 0.29701346158981323, train_mee 0.0\n",
      "\n",
      "Executing fold 2/4\n"
     ]
    },
    {
     "name": "stderr",
     "output_type": "stream",
     "text": [
      "100%|█████████████████████████████████████████████| 1/1 [00:02<00:00,  2.30s/it]\n"
     ]
    },
    {
     "name": "stdout",
     "output_type": "stream",
     "text": [
      "Fold 2/4 median val_loss: 0.0873866155743599, std val_loss 0.0\n",
      "Fold 2/4 median train_loss: 0.08608167618513107, std train_loss 0.0\n",
      "Fold 2/4 median val_mee: 0.30113229155540466, std val_mee 0.0\n",
      "Fold 2/4 median train_mee: 0.29675301909446716, train_mee 0.0\n",
      "\n",
      "Executing fold 3/4\n"
     ]
    },
    {
     "name": "stderr",
     "output_type": "stream",
     "text": [
      "100%|█████████████████████████████████████████████| 1/1 [00:02<00:00,  2.34s/it]\n"
     ]
    },
    {
     "name": "stdout",
     "output_type": "stream",
     "text": [
      "Fold 3/4 median val_loss: 0.09536866098642349, std val_loss 0.0\n",
      "Fold 3/4 median train_loss: 0.08372681587934494, std train_loss 0.0\n",
      "Fold 3/4 median val_mee: 0.31226804852485657, std val_mee 0.0\n",
      "Fold 3/4 median train_mee: 0.29325082898139954, train_mee 0.0\n",
      "\n",
      "Executing fold 4/4\n"
     ]
    },
    {
     "name": "stderr",
     "output_type": "stream",
     "text": [
      "100%|█████████████████████████████████████████████| 1/1 [00:02<00:00,  2.20s/it]\n"
     ]
    },
    {
     "name": "stdout",
     "output_type": "stream",
     "text": [
      "Fold 4/4 median val_loss: 0.11041148751974106, std val_loss 0.0\n",
      "Fold 4/4 median train_loss: 0.07880710065364838, std train_loss 0.0\n",
      "Fold 4/4 median val_mee: 0.3252295255661011, std val_mee 0.0\n",
      "Fold 4/4 median train_mee: 0.2887137532234192, train_mee 0.0\n",
      "\n",
      "Mean val_loss: 0.09414957277476788, std val_loss: 0.010326545189069372\n",
      "Mean train_loss: 0.08336756564676762, std train_loss: 0.0027615564753029\n",
      "Mean val_mee: 0.3081975355744362, std val_mee: 0.011764566182790438\n",
      "Mean train_mee: 0.3081975355744362, std train_mee: 0.0033595998754835906\n",
      "\n",
      "\n",
      "\n",
      "Testing configuration 57/180:\n",
      "{'batch_size': 16, 'learning_rate': 0.1, 'max_epochs': 500, 'momentum': 0.4, 'initialization': {'type': 'default'}, 'early_stopping': {'monitor': 'val_loss', 'patience': 20, 'delta': 0.01}, 'task': 'regression', 'trials_train': 1, 'trials_final': 5, 'nesterov': False, 'learning_rate_decay': {'epochs': 100, 'lr_final': 0.01}, 'regularization': {'method': 'l1', 'value': 1e-05}, 'units_1': 50, 'activations_1': 'tanh', 'units_2': 50, 'activations_2': 'relu', 'units_3': 50, 'activations_3': 'tanh'}\n",
      "\n",
      "Executing fold 1/4\n"
     ]
    },
    {
     "name": "stderr",
     "output_type": "stream",
     "text": [
      "100%|█████████████████████████████████████████████| 1/1 [00:02<00:00,  2.42s/it]\n"
     ]
    },
    {
     "name": "stdout",
     "output_type": "stream",
     "text": [
      "Fold 1/4 median val_loss: 0.09544694423675537, std val_loss 0.0\n",
      "Fold 1/4 median train_loss: 0.08511880040168762, std train_loss 0.0\n",
      "Fold 1/4 median val_mee: 0.3260568380355835, std val_mee 0.0\n",
      "Fold 1/4 median train_mee: 0.2944858968257904, train_mee 0.0\n",
      "\n",
      "Executing fold 2/4\n"
     ]
    },
    {
     "name": "stderr",
     "output_type": "stream",
     "text": [
      "100%|█████████████████████████████████████████████| 1/1 [00:02<00:00,  2.89s/it]\n"
     ]
    },
    {
     "name": "stdout",
     "output_type": "stream",
     "text": [
      "Fold 2/4 median val_loss: 0.09347781538963318, std val_loss 0.0\n",
      "Fold 2/4 median train_loss: 0.08203864097595215, std train_loss 0.0\n",
      "Fold 2/4 median val_mee: 0.31867700815200806, std val_mee 0.0\n",
      "Fold 2/4 median train_mee: 0.2940373420715332, train_mee 0.0\n",
      "\n",
      "Executing fold 3/4\n"
     ]
    },
    {
     "name": "stderr",
     "output_type": "stream",
     "text": [
      "100%|█████████████████████████████████████████████| 1/1 [00:02<00:00,  2.50s/it]\n"
     ]
    },
    {
     "name": "stdout",
     "output_type": "stream",
     "text": [
      "Fold 3/4 median val_loss: 0.09060285240411758, std val_loss 0.0\n",
      "Fold 3/4 median train_loss: 0.08354347199201584, std train_loss 0.0\n",
      "Fold 3/4 median val_mee: 0.3051128387451172, std val_mee 0.0\n",
      "Fold 3/4 median train_mee: 0.29397982358932495, train_mee 0.0\n",
      "\n",
      "Executing fold 4/4\n"
     ]
    },
    {
     "name": "stderr",
     "output_type": "stream",
     "text": [
      "100%|█████████████████████████████████████████████| 1/1 [00:02<00:00,  2.52s/it]\n"
     ]
    },
    {
     "name": "stdout",
     "output_type": "stream",
     "text": [
      "Fold 4/4 median val_loss: 0.0967564731836319, std val_loss 0.0\n",
      "Fold 4/4 median train_loss: 0.08167506009340286, std train_loss 0.0\n",
      "Fold 4/4 median val_mee: 0.3034525513648987, std val_mee 0.0\n",
      "Fold 4/4 median train_mee: 0.2906893193721771, train_mee 0.0\n",
      "\n",
      "Mean val_loss: 0.09407102130353451, std val_loss: 0.002317590585589483\n",
      "Mean train_loss: 0.08309399336576462, std train_loss: 0.0013628109614211095\n",
      "Mean val_mee: 0.31332480907440186, std val_mee: 0.009429322952982802\n",
      "Mean train_mee: 0.31332480907440186, std train_mee: 0.0015188666462157073\n",
      "\n",
      "\n",
      "\n",
      "Testing configuration 58/180:\n",
      "{'batch_size': 16, 'learning_rate': 0.1, 'max_epochs': 500, 'momentum': 0.4, 'initialization': {'type': 'default'}, 'early_stopping': {'monitor': 'val_loss', 'patience': 20, 'delta': 0.01}, 'task': 'regression', 'trials_train': 1, 'trials_final': 5, 'nesterov': False, 'learning_rate_decay': {'epochs': 100, 'lr_final': 0.01}, 'regularization': {'method': 'l1', 'value': 1e-05}, 'units_1': 50, 'activations_1': 'tanh', 'units_2': 50, 'activations_2': 'relu', 'units_3': 50, 'activations_3': 'tanh'}\n",
      "\n",
      "Executing fold 1/4\n"
     ]
    },
    {
     "name": "stderr",
     "output_type": "stream",
     "text": [
      "100%|█████████████████████████████████████████████| 1/1 [00:02<00:00,  2.38s/it]\n"
     ]
    },
    {
     "name": "stdout",
     "output_type": "stream",
     "text": [
      "Fold 1/4 median val_loss: 0.08625751733779907, std val_loss 0.0\n",
      "Fold 1/4 median train_loss: 0.08431008458137512, std train_loss 0.0\n",
      "Fold 1/4 median val_mee: 0.305452823638916, std val_mee 0.0\n",
      "Fold 1/4 median train_mee: 0.2934858500957489, train_mee 0.0\n",
      "\n",
      "Executing fold 2/4\n"
     ]
    },
    {
     "name": "stderr",
     "output_type": "stream",
     "text": [
      "100%|█████████████████████████████████████████████| 1/1 [00:02<00:00,  2.26s/it]\n"
     ]
    },
    {
     "name": "stdout",
     "output_type": "stream",
     "text": [
      "Fold 2/4 median val_loss: 0.10834286361932755, std val_loss 0.0\n",
      "Fold 2/4 median train_loss: 0.07976636290550232, std train_loss 0.0\n",
      "Fold 2/4 median val_mee: 0.3185846209526062, std val_mee 0.0\n",
      "Fold 2/4 median train_mee: 0.2897854149341583, train_mee 0.0\n",
      "\n",
      "Executing fold 3/4\n"
     ]
    },
    {
     "name": "stderr",
     "output_type": "stream",
     "text": [
      "100%|█████████████████████████████████████████████| 1/1 [00:03<00:00,  3.76s/it]\n"
     ]
    },
    {
     "name": "stdout",
     "output_type": "stream",
     "text": [
      "Fold 3/4 median val_loss: 0.09369119256734848, std val_loss 0.0\n",
      "Fold 3/4 median train_loss: 0.08194058388471603, std train_loss 0.0\n",
      "Fold 3/4 median val_mee: 0.3091992735862732, std val_mee 0.0\n",
      "Fold 3/4 median train_mee: 0.2910877764225006, train_mee 0.0\n",
      "\n",
      "Executing fold 4/4\n"
     ]
    },
    {
     "name": "stderr",
     "output_type": "stream",
     "text": [
      "100%|█████████████████████████████████████████████| 1/1 [00:03<00:00,  3.17s/it]\n"
     ]
    },
    {
     "name": "stdout",
     "output_type": "stream",
     "text": [
      "Fold 4/4 median val_loss: 0.08002541959285736, std val_loss 0.0\n",
      "Fold 4/4 median train_loss: 0.0844348892569542, std train_loss 0.0\n",
      "Fold 4/4 median val_mee: 0.2906911075115204, std val_mee 0.0\n",
      "Fold 4/4 median train_mee: 0.2918688654899597, train_mee 0.0\n",
      "\n",
      "Mean val_loss: 0.09207924827933311, std val_loss: 0.010562798936284456\n",
      "Mean train_loss: 0.08261298015713692, std train_loss: 0.0019206029469436866\n",
      "Mean val_mee: 0.30598195642232895, std val_mee: 0.010040770947887622\n",
      "Mean train_mee: 0.30598195642232895, std train_mee: 0.0013394408520655183\n",
      "\n",
      "\n",
      "\n",
      "Testing configuration 59/180:\n",
      "{'batch_size': 16, 'learning_rate': 0.1, 'max_epochs': 500, 'momentum': 0.4, 'initialization': {'type': 'default'}, 'early_stopping': {'monitor': 'val_loss', 'patience': 20, 'delta': 0.01}, 'task': 'regression', 'trials_train': 1, 'trials_final': 5, 'nesterov': False, 'learning_rate_decay': {'epochs': 100, 'lr_final': 0.01}, 'regularization': {'method': 'l1', 'value': 1e-05}, 'units_1': 50, 'activations_1': 'tanh', 'units_2': 50, 'activations_2': 'relu', 'units_3': 50, 'activations_3': 'tanh'}\n",
      "\n",
      "Executing fold 1/4\n"
     ]
    },
    {
     "name": "stderr",
     "output_type": "stream",
     "text": [
      "100%|█████████████████████████████████████████████| 1/1 [00:02<00:00,  2.66s/it]\n"
     ]
    },
    {
     "name": "stdout",
     "output_type": "stream",
     "text": [
      "Fold 1/4 median val_loss: 0.0848192349076271, std val_loss 0.0\n",
      "Fold 1/4 median train_loss: 0.08489271253347397, std train_loss 0.0\n",
      "Fold 1/4 median val_mee: 0.3000621199607849, std val_mee 0.0\n",
      "Fold 1/4 median train_mee: 0.296992689371109, train_mee 0.0\n",
      "\n",
      "Executing fold 2/4\n"
     ]
    },
    {
     "name": "stderr",
     "output_type": "stream",
     "text": [
      "100%|█████████████████████████████████████████████| 1/1 [00:02<00:00,  2.76s/it]\n"
     ]
    },
    {
     "name": "stdout",
     "output_type": "stream",
     "text": [
      "Fold 2/4 median val_loss: 0.08904892951250076, std val_loss 0.0\n",
      "Fold 2/4 median train_loss: 0.08259373158216476, std train_loss 0.0\n",
      "Fold 2/4 median val_mee: 0.29890176653862, std val_mee 0.0\n",
      "Fold 2/4 median train_mee: 0.2888919711112976, train_mee 0.0\n",
      "\n",
      "Executing fold 3/4\n"
     ]
    },
    {
     "name": "stderr",
     "output_type": "stream",
     "text": [
      "100%|█████████████████████████████████████████████| 1/1 [00:02<00:00,  2.40s/it]\n"
     ]
    },
    {
     "name": "stdout",
     "output_type": "stream",
     "text": [
      "Fold 3/4 median val_loss: 0.10581089556217194, std val_loss 0.0\n",
      "Fold 3/4 median train_loss: 0.07896643131971359, std train_loss 0.0\n",
      "Fold 3/4 median val_mee: 0.31808385252952576, std val_mee 0.0\n",
      "Fold 3/4 median train_mee: 0.29100146889686584, train_mee 0.0\n",
      "\n",
      "Executing fold 4/4\n"
     ]
    },
    {
     "name": "stderr",
     "output_type": "stream",
     "text": [
      "100%|█████████████████████████████████████████████| 1/1 [00:02<00:00,  2.56s/it]\n"
     ]
    },
    {
     "name": "stdout",
     "output_type": "stream",
     "text": [
      "Fold 4/4 median val_loss: 0.09863781929016113, std val_loss 0.0\n",
      "Fold 4/4 median train_loss: 0.0823565199971199, std train_loss 0.0\n",
      "Fold 4/4 median val_mee: 0.31803053617477417, std val_mee 0.0\n",
      "Fold 4/4 median train_mee: 0.29053494334220886, train_mee 0.0\n",
      "\n",
      "Mean val_loss: 0.09457921981811523, std val_loss: 0.00819243837345531\n",
      "Mean train_loss: 0.08220234885811806, std train_loss: 0.002114602101921986\n",
      "Mean val_mee: 0.3087695688009262, std val_mee: 0.009296700824324513\n",
      "Mean train_mee: 0.3087695688009262, std train_mee: 0.003067835430128411\n",
      "\n",
      "\n",
      "\n",
      "Testing configuration 60/180:\n",
      "{'batch_size': 16, 'learning_rate': 0.1, 'max_epochs': 500, 'momentum': 0.4, 'initialization': {'type': 'default'}, 'early_stopping': {'monitor': 'val_loss', 'patience': 20, 'delta': 0.01}, 'task': 'regression', 'trials_train': 1, 'trials_final': 5, 'nesterov': False, 'learning_rate_decay': {'epochs': 100, 'lr_final': 0.01}, 'regularization': {'method': 'l1', 'value': 1e-05}, 'units_1': 50, 'activations_1': 'tanh', 'units_2': 50, 'activations_2': 'relu', 'units_3': 50, 'activations_3': 'tanh'}\n",
      "\n",
      "Executing fold 1/4\n"
     ]
    },
    {
     "name": "stderr",
     "output_type": "stream",
     "text": [
      "100%|█████████████████████████████████████████████| 1/1 [00:02<00:00,  2.68s/it]\n"
     ]
    },
    {
     "name": "stdout",
     "output_type": "stream",
     "text": [
      "Fold 1/4 median val_loss: 0.1097896546125412, std val_loss 0.0\n",
      "Fold 1/4 median train_loss: 0.07764985412359238, std train_loss 0.0\n",
      "Fold 1/4 median val_mee: 0.33332616090774536, std val_mee 0.0\n",
      "Fold 1/4 median train_mee: 0.28520920872688293, train_mee 0.0\n",
      "\n",
      "Executing fold 2/4\n"
     ]
    },
    {
     "name": "stderr",
     "output_type": "stream",
     "text": [
      "100%|█████████████████████████████████████████████| 1/1 [00:02<00:00,  2.57s/it]\n"
     ]
    },
    {
     "name": "stdout",
     "output_type": "stream",
     "text": [
      "Fold 2/4 median val_loss: 0.08709222078323364, std val_loss 0.0\n",
      "Fold 2/4 median train_loss: 0.08458274602890015, std train_loss 0.0\n",
      "Fold 2/4 median val_mee: 0.2961011826992035, std val_mee 0.0\n",
      "Fold 2/4 median train_mee: 0.29903632402420044, train_mee 0.0\n",
      "\n",
      "Executing fold 3/4\n"
     ]
    },
    {
     "name": "stderr",
     "output_type": "stream",
     "text": [
      "100%|█████████████████████████████████████████████| 1/1 [00:02<00:00,  2.97s/it]\n"
     ]
    },
    {
     "name": "stdout",
     "output_type": "stream",
     "text": [
      "Fold 3/4 median val_loss: 0.08822443336248398, std val_loss 0.0\n",
      "Fold 3/4 median train_loss: 0.08462315052747726, std train_loss 0.0\n",
      "Fold 3/4 median val_mee: 0.2950764298439026, std val_mee 0.0\n",
      "Fold 3/4 median train_mee: 0.2963871359825134, train_mee 0.0\n",
      "\n",
      "Executing fold 4/4\n"
     ]
    },
    {
     "name": "stderr",
     "output_type": "stream",
     "text": [
      "100%|█████████████████████████████████████████████| 1/1 [00:02<00:00,  2.30s/it]\n"
     ]
    },
    {
     "name": "stdout",
     "output_type": "stream",
     "text": [
      "Fold 4/4 median val_loss: 0.08758901059627533, std val_loss 0.0\n",
      "Fold 4/4 median train_loss: 0.0844855085015297, std train_loss 0.0\n",
      "Fold 4/4 median val_mee: 0.3125952184200287, std val_mee 0.0\n",
      "Fold 4/4 median train_mee: 0.2913338243961334, train_mee 0.0\n",
      "\n",
      "Mean val_loss: 0.09317382983863354, std val_loss: 0.00960154067152587\n",
      "Mean train_loss: 0.08283531479537487, std train_loss: 0.0029942450704358568\n",
      "Mean val_mee: 0.30927474796772003, std val_mee: 0.015529255035780539\n",
      "Mean train_mee: 0.30927474796772003, std train_mee: 0.005276887980045269\n",
      "\n",
      "\n",
      "\n",
      "Testing configuration 61/180:\n",
      "{'batch_size': 16, 'learning_rate': 0.2, 'max_epochs': 500, 'momentum': 0.1, 'initialization': {'type': 'default'}, 'early_stopping': {'monitor': 'val_loss', 'patience': 20, 'delta': 0.01}, 'task': 'regression', 'trials_train': 1, 'trials_final': 5, 'nesterov': False, 'learning_rate_decay': {'epochs': 100, 'lr_final': 0.01}, 'regularization': {'method': 'l1', 'value': 0.001}, 'units_1': 50, 'activations_1': 'tanh', 'units_2': 50, 'activations_2': 'relu', 'units_3': 50, 'activations_3': 'tanh'}\n",
      "\n",
      "Executing fold 1/4\n"
     ]
    },
    {
     "name": "stderr",
     "output_type": "stream",
     "text": [
      "100%|█████████████████████████████████████████████| 1/1 [00:18<00:00, 18.44s/it]\n"
     ]
    },
    {
     "name": "stdout",
     "output_type": "stream",
     "text": [
      "Fold 1/4 median val_loss: 0.27789679169654846, std val_loss 0.0\n",
      "Fold 1/4 median train_loss: 0.24904531240463257, std train_loss 0.0\n",
      "Fold 1/4 median val_mee: 0.35402369499206543, std val_mee 0.0\n",
      "Fold 1/4 median train_mee: 0.3008294701576233, train_mee 0.0\n",
      "\n",
      "Executing fold 2/4\n"
     ]
    },
    {
     "name": "stderr",
     "output_type": "stream",
     "text": [
      "100%|█████████████████████████████████████████████| 1/1 [00:20<00:00, 20.22s/it]\n"
     ]
    },
    {
     "name": "stdout",
     "output_type": "stream",
     "text": [
      "Fold 2/4 median val_loss: 0.22711990773677826, std val_loss 0.0\n",
      "Fold 2/4 median train_loss: 0.23875874280929565, std train_loss 0.0\n",
      "Fold 2/4 median val_mee: 0.2951776385307312, std val_mee 0.0\n",
      "Fold 2/4 median train_mee: 0.31377825140953064, train_mee 0.0\n",
      "\n",
      "Executing fold 3/4\n"
     ]
    },
    {
     "name": "stderr",
     "output_type": "stream",
     "text": [
      "100%|█████████████████████████████████████████████| 1/1 [00:21<00:00, 21.15s/it]\n"
     ]
    },
    {
     "name": "stdout",
     "output_type": "stream",
     "text": [
      "Fold 3/4 median val_loss: 0.23747460544109344, std val_loss 0.0\n",
      "Fold 3/4 median train_loss: 0.22827470302581787, std train_loss 0.0\n",
      "Fold 3/4 median val_mee: 0.3131353557109833, std val_mee 0.0\n",
      "Fold 3/4 median train_mee: 0.31053075194358826, train_mee 0.0\n",
      "\n",
      "Executing fold 4/4\n"
     ]
    },
    {
     "name": "stderr",
     "output_type": "stream",
     "text": [
      "100%|█████████████████████████████████████████████| 1/1 [00:18<00:00, 18.40s/it]\n"
     ]
    },
    {
     "name": "stdout",
     "output_type": "stream",
     "text": [
      "Fold 4/4 median val_loss: 0.24082255363464355, std val_loss 0.0\n",
      "Fold 4/4 median train_loss: 0.24356511235237122, std train_loss 0.0\n",
      "Fold 4/4 median val_mee: 0.30835309624671936, std val_mee 0.0\n",
      "Fold 4/4 median train_mee: 0.31295275688171387, train_mee 0.0\n",
      "\n",
      "Mean val_loss: 0.24582846462726593, std val_loss: 0.019191364009076766\n",
      "Mean train_loss: 0.23991096764802933, std train_loss: 0.007640669212998947\n",
      "Mean val_mee: 0.3176724463701248, std val_mee: 0.0219935509552077\n",
      "Mean train_mee: 0.3176724463701248, std train_mee: 0.005159055673715939\n",
      "\n",
      "\n",
      "\n",
      "Testing configuration 62/180:\n",
      "{'batch_size': 16, 'learning_rate': 0.2, 'max_epochs': 500, 'momentum': 0.1, 'initialization': {'type': 'default'}, 'early_stopping': {'monitor': 'val_loss', 'patience': 20, 'delta': 0.01}, 'task': 'regression', 'trials_train': 1, 'trials_final': 5, 'nesterov': False, 'learning_rate_decay': {'epochs': 100, 'lr_final': 0.01}, 'regularization': {'method': 'l1', 'value': 0.001}, 'units_1': 50, 'activations_1': 'tanh', 'units_2': 50, 'activations_2': 'relu', 'units_3': 50, 'activations_3': 'tanh'}\n",
      "\n",
      "Executing fold 1/4\n"
     ]
    },
    {
     "name": "stderr",
     "output_type": "stream",
     "text": [
      "100%|█████████████████████████████████████████████| 1/1 [00:20<00:00, 20.30s/it]\n"
     ]
    },
    {
     "name": "stdout",
     "output_type": "stream",
     "text": [
      "Fold 1/4 median val_loss: 0.2436016947031021, std val_loss 0.0\n",
      "Fold 1/4 median train_loss: 0.23487524688243866, std train_loss 0.0\n",
      "Fold 1/4 median val_mee: 0.3322008550167084, std val_mee 0.0\n",
      "Fold 1/4 median train_mee: 0.30969318747520447, train_mee 0.0\n",
      "\n",
      "Executing fold 2/4\n"
     ]
    },
    {
     "name": "stderr",
     "output_type": "stream",
     "text": [
      "100%|█████████████████████████████████████████████| 1/1 [00:19<00:00, 19.67s/it]\n"
     ]
    },
    {
     "name": "stdout",
     "output_type": "stream",
     "text": [
      "Fold 2/4 median val_loss: 0.24493303894996643, std val_loss 0.0\n",
      "Fold 2/4 median train_loss: 0.24027466773986816, std train_loss 0.0\n",
      "Fold 2/4 median val_mee: 0.3098699152469635, std val_mee 0.0\n",
      "Fold 2/4 median train_mee: 0.30903133749961853, train_mee 0.0\n",
      "\n",
      "Executing fold 3/4\n"
     ]
    },
    {
     "name": "stderr",
     "output_type": "stream",
     "text": [
      "100%|█████████████████████████████████████████████| 1/1 [00:20<00:00, 20.31s/it]\n"
     ]
    },
    {
     "name": "stdout",
     "output_type": "stream",
     "text": [
      "Fold 3/4 median val_loss: 0.24611607193946838, std val_loss 0.0\n",
      "Fold 3/4 median train_loss: 0.2376418560743332, std train_loss 0.0\n",
      "Fold 3/4 median val_mee: 0.3197852671146393, std val_mee 0.0\n",
      "Fold 3/4 median train_mee: 0.3085101544857025, train_mee 0.0\n",
      "\n",
      "Executing fold 4/4\n"
     ]
    },
    {
     "name": "stderr",
     "output_type": "stream",
     "text": [
      "100%|█████████████████████████████████████████████| 1/1 [00:19<00:00, 19.83s/it]\n"
     ]
    },
    {
     "name": "stdout",
     "output_type": "stream",
     "text": [
      "Fold 4/4 median val_loss: 0.24785110354423523, std val_loss 0.0\n",
      "Fold 4/4 median train_loss: 0.24411514401435852, std train_loss 0.0\n",
      "Fold 4/4 median val_mee: 0.3133646249771118, std val_mee 0.0\n",
      "Fold 4/4 median train_mee: 0.31038588285446167, train_mee 0.0\n",
      "\n",
      "Mean val_loss: 0.24562547728419304, std val_loss: 0.001562790944704993\n",
      "Mean train_loss: 0.23922672867774963, std train_loss: 0.00340741822224282\n",
      "Mean val_mee: 0.31880516558885574, std val_mee: 0.008512392070808393\n",
      "Mean train_mee: 0.31880516558885574, std train_mee: 0.0007045486630889534\n",
      "\n",
      "\n",
      "\n",
      "Testing configuration 63/180:\n",
      "{'batch_size': 16, 'learning_rate': 0.2, 'max_epochs': 500, 'momentum': 0.1, 'initialization': {'type': 'default'}, 'early_stopping': {'monitor': 'val_loss', 'patience': 20, 'delta': 0.01}, 'task': 'regression', 'trials_train': 1, 'trials_final': 5, 'nesterov': False, 'learning_rate_decay': {'epochs': 100, 'lr_final': 0.01}, 'regularization': {'method': 'l1', 'value': 0.001}, 'units_1': 50, 'activations_1': 'tanh', 'units_2': 50, 'activations_2': 'relu', 'units_3': 50, 'activations_3': 'tanh'}\n",
      "\n",
      "Executing fold 1/4\n"
     ]
    },
    {
     "name": "stderr",
     "output_type": "stream",
     "text": [
      "100%|█████████████████████████████████████████████| 1/1 [00:19<00:00, 19.16s/it]\n"
     ]
    },
    {
     "name": "stdout",
     "output_type": "stream",
     "text": [
      "Fold 1/4 median val_loss: 0.2557491958141327, std val_loss 0.0\n",
      "Fold 1/4 median train_loss: 0.2414548248052597, std train_loss 0.0\n",
      "Fold 1/4 median val_mee: 0.3197919726371765, std val_mee 0.0\n",
      "Fold 1/4 median train_mee: 0.3101026713848114, train_mee 0.0\n",
      "\n",
      "Executing fold 2/4\n"
     ]
    },
    {
     "name": "stderr",
     "output_type": "stream",
     "text": [
      "100%|█████████████████████████████████████████████| 1/1 [00:16<00:00, 16.00s/it]\n"
     ]
    },
    {
     "name": "stdout",
     "output_type": "stream",
     "text": [
      "Fold 2/4 median val_loss: 0.2758150100708008, std val_loss 0.0\n",
      "Fold 2/4 median train_loss: 0.2659182548522949, std train_loss 0.0\n",
      "Fold 2/4 median val_mee: 0.3275773823261261, std val_mee 0.0\n",
      "Fold 2/4 median train_mee: 0.3106825351715088, train_mee 0.0\n",
      "\n",
      "Executing fold 3/4\n"
     ]
    },
    {
     "name": "stderr",
     "output_type": "stream",
     "text": [
      "100%|█████████████████████████████████████████████| 1/1 [00:22<00:00, 22.44s/it]\n"
     ]
    },
    {
     "name": "stdout",
     "output_type": "stream",
     "text": [
      "Fold 3/4 median val_loss: 0.2224837988615036, std val_loss 0.0\n",
      "Fold 3/4 median train_loss: 0.23488669097423553, std train_loss 0.0\n",
      "Fold 3/4 median val_mee: 0.30157163739204407, std val_mee 0.0\n",
      "Fold 3/4 median train_mee: 0.3187984824180603, train_mee 0.0\n",
      "\n",
      "Executing fold 4/4\n"
     ]
    },
    {
     "name": "stderr",
     "output_type": "stream",
     "text": [
      "100%|█████████████████████████████████████████████| 1/1 [00:20<00:00, 20.67s/it]\n"
     ]
    },
    {
     "name": "stdout",
     "output_type": "stream",
     "text": [
      "Fold 4/4 median val_loss: 0.24976886808872223, std val_loss 0.0\n",
      "Fold 4/4 median train_loss: 0.23453441262245178, std train_loss 0.0\n",
      "Fold 4/4 median val_mee: 0.3266006112098694, std val_mee 0.0\n",
      "Fold 4/4 median train_mee: 0.30658167600631714, train_mee 0.0\n",
      "\n",
      "Mean val_loss: 0.2509542182087898, std val_loss: 0.01905925375611178\n",
      "Mean train_loss: 0.24419854581356049, std train_loss: 0.012839196592688557\n",
      "Mean val_mee: 0.318885400891304, std val_mee: 0.010436274363508628\n",
      "Mean train_mee: 0.318885400891304, std train_mee: 0.004474139473798472\n",
      "\n",
      "\n",
      "\n",
      "Testing configuration 64/180:\n",
      "{'batch_size': 16, 'learning_rate': 0.2, 'max_epochs': 500, 'momentum': 0.1, 'initialization': {'type': 'default'}, 'early_stopping': {'monitor': 'val_loss', 'patience': 20, 'delta': 0.01}, 'task': 'regression', 'trials_train': 1, 'trials_final': 5, 'nesterov': False, 'learning_rate_decay': {'epochs': 100, 'lr_final': 0.01}, 'regularization': {'method': 'l1', 'value': 0.001}, 'units_1': 50, 'activations_1': 'tanh', 'units_2': 50, 'activations_2': 'relu', 'units_3': 50, 'activations_3': 'tanh'}\n",
      "\n",
      "Executing fold 1/4\n"
     ]
    },
    {
     "name": "stderr",
     "output_type": "stream",
     "text": [
      "100%|█████████████████████████████████████████████| 1/1 [00:22<00:00, 22.15s/it]\n"
     ]
    },
    {
     "name": "stdout",
     "output_type": "stream",
     "text": [
      "Fold 1/4 median val_loss: 0.2478233277797699, std val_loss 0.0\n",
      "Fold 1/4 median train_loss: 0.22580401599407196, std train_loss 0.0\n",
      "Fold 1/4 median val_mee: 0.3227757215499878, std val_mee 0.0\n",
      "Fold 1/4 median train_mee: 0.3035307228565216, train_mee 0.0\n",
      "\n",
      "Executing fold 2/4\n"
     ]
    },
    {
     "name": "stderr",
     "output_type": "stream",
     "text": [
      "100%|█████████████████████████████████████████████| 1/1 [00:17<00:00, 17.72s/it]\n"
     ]
    },
    {
     "name": "stdout",
     "output_type": "stream",
     "text": [
      "Fold 2/4 median val_loss: 0.2855055332183838, std val_loss 0.0\n",
      "Fold 2/4 median train_loss: 0.2621433138847351, std train_loss 0.0\n",
      "Fold 2/4 median val_mee: 0.3373866677284241, std val_mee 0.0\n",
      "Fold 2/4 median train_mee: 0.30369147658348083, train_mee 0.0\n",
      "\n",
      "Executing fold 3/4\n"
     ]
    },
    {
     "name": "stderr",
     "output_type": "stream",
     "text": [
      "100%|█████████████████████████████████████████████| 1/1 [00:21<00:00, 21.85s/it]\n"
     ]
    },
    {
     "name": "stdout",
     "output_type": "stream",
     "text": [
      "Fold 3/4 median val_loss: 0.21989822387695312, std val_loss 0.0\n",
      "Fold 3/4 median train_loss: 0.23710398375988007, std train_loss 0.0\n",
      "Fold 3/4 median val_mee: 0.2992607057094574, std val_mee 0.0\n",
      "Fold 3/4 median train_mee: 0.3181929290294647, train_mee 0.0\n",
      "\n",
      "Executing fold 4/4\n"
     ]
    },
    {
     "name": "stderr",
     "output_type": "stream",
     "text": [
      "100%|█████████████████████████████████████████████| 1/1 [00:20<00:00, 20.87s/it]\n"
     ]
    },
    {
     "name": "stdout",
     "output_type": "stream",
     "text": [
      "Fold 4/4 median val_loss: 0.23300866782665253, std val_loss 0.0\n",
      "Fold 4/4 median train_loss: 0.23412802815437317, std train_loss 0.0\n",
      "Fold 4/4 median val_mee: 0.3083038628101349, std val_mee 0.0\n",
      "Fold 4/4 median train_mee: 0.3136897087097168, train_mee 0.0\n",
      "\n",
      "Mean val_loss: 0.24655893817543983, std val_loss: 0.024560331125319558\n",
      "Mean train_loss: 0.23979483544826508, std train_loss: 0.01355129980057435\n",
      "Mean val_mee: 0.31693173944950104, std val_mee: 0.014485008685124905\n",
      "Mean train_mee: 0.31693173944950104, std train_mee: 0.006367627536637281\n",
      "\n",
      "\n",
      "\n",
      "Testing configuration 65/180:\n",
      "{'batch_size': 16, 'learning_rate': 0.2, 'max_epochs': 500, 'momentum': 0.1, 'initialization': {'type': 'default'}, 'early_stopping': {'monitor': 'val_loss', 'patience': 20, 'delta': 0.01}, 'task': 'regression', 'trials_train': 1, 'trials_final': 5, 'nesterov': False, 'learning_rate_decay': {'epochs': 100, 'lr_final': 0.01}, 'regularization': {'method': 'l1', 'value': 0.001}, 'units_1': 50, 'activations_1': 'tanh', 'units_2': 50, 'activations_2': 'relu', 'units_3': 50, 'activations_3': 'tanh'}\n",
      "\n",
      "Executing fold 1/4\n"
     ]
    },
    {
     "name": "stderr",
     "output_type": "stream",
     "text": [
      "100%|█████████████████████████████████████████████| 1/1 [00:21<00:00, 21.89s/it]\n"
     ]
    },
    {
     "name": "stdout",
     "output_type": "stream",
     "text": [
      "Fold 1/4 median val_loss: 0.2497357577085495, std val_loss 0.0\n",
      "Fold 1/4 median train_loss: 0.2206101268529892, std train_loss 0.0\n",
      "Fold 1/4 median val_mee: 0.34761324524879456, std val_mee 0.0\n",
      "Fold 1/4 median train_mee: 0.2979981303215027, train_mee 0.0\n",
      "\n",
      "Executing fold 2/4\n"
     ]
    },
    {
     "name": "stderr",
     "output_type": "stream",
     "text": [
      "100%|█████████████████████████████████████████████| 1/1 [00:21<00:00, 21.27s/it]\n"
     ]
    },
    {
     "name": "stdout",
     "output_type": "stream",
     "text": [
      "Fold 2/4 median val_loss: 0.2356865406036377, std val_loss 0.0\n",
      "Fold 2/4 median train_loss: 0.2384014129638672, std train_loss 0.0\n",
      "Fold 2/4 median val_mee: 0.30521121621131897, std val_mee 0.0\n",
      "Fold 2/4 median train_mee: 0.31365054845809937, train_mee 0.0\n",
      "\n",
      "Executing fold 3/4\n"
     ]
    },
    {
     "name": "stderr",
     "output_type": "stream",
     "text": [
      "100%|█████████████████████████████████████████████| 1/1 [00:20<00:00, 20.94s/it]\n"
     ]
    },
    {
     "name": "stdout",
     "output_type": "stream",
     "text": [
      "Fold 3/4 median val_loss: 0.2277558594942093, std val_loss 0.0\n",
      "Fold 3/4 median train_loss: 0.22639338672161102, std train_loss 0.0\n",
      "Fold 3/4 median val_mee: 0.30800706148147583, std val_mee 0.0\n",
      "Fold 3/4 median train_mee: 0.3090822398662567, train_mee 0.0\n",
      "\n",
      "Executing fold 4/4\n"
     ]
    },
    {
     "name": "stderr",
     "output_type": "stream",
     "text": [
      "100%|█████████████████████████████████████████████| 1/1 [00:21<00:00, 21.68s/it]\n"
     ]
    },
    {
     "name": "stdout",
     "output_type": "stream",
     "text": [
      "Fold 4/4 median val_loss: 0.2166956216096878, std val_loss 0.0\n",
      "Fold 4/4 median train_loss: 0.22410546243190765, std train_loss 0.0\n",
      "Fold 4/4 median val_mee: 0.30323487520217896, std val_mee 0.0\n",
      "Fold 4/4 median train_mee: 0.31700533628463745, train_mee 0.0\n",
      "\n",
      "Mean val_loss: 0.23246844485402107, std val_loss: 0.012036472150721275\n",
      "Mean train_loss: 0.22737759724259377, std train_loss: 0.00668951988373767\n",
      "Mean val_mee: 0.3160165995359421, std val_mee: 0.018320954573150777\n",
      "Mean train_mee: 0.3160165995359421, std train_mee: 0.0071764765817493225\n",
      "\n",
      "\n",
      "\n",
      "Testing configuration 66/180:\n",
      "{'batch_size': 16, 'learning_rate': 0.2, 'max_epochs': 500, 'momentum': 0.1, 'initialization': {'type': 'default'}, 'early_stopping': {'monitor': 'val_loss', 'patience': 20, 'delta': 0.01}, 'task': 'regression', 'trials_train': 1, 'trials_final': 5, 'nesterov': False, 'learning_rate_decay': {'epochs': 100, 'lr_final': 0.01}, 'regularization': {'method': 'l1', 'value': 0.0001}, 'units_1': 50, 'activations_1': 'tanh', 'units_2': 50, 'activations_2': 'relu', 'units_3': 50, 'activations_3': 'tanh'}\n",
      "\n",
      "Executing fold 1/4\n"
     ]
    },
    {
     "name": "stderr",
     "output_type": "stream",
     "text": [
      "100%|█████████████████████████████████████████████| 1/1 [00:02<00:00,  2.57s/it]\n"
     ]
    },
    {
     "name": "stdout",
     "output_type": "stream",
     "text": [
      "Fold 1/4 median val_loss: 0.15545690059661865, std val_loss 0.0\n",
      "Fold 1/4 median train_loss: 0.13886594772338867, std train_loss 0.0\n",
      "Fold 1/4 median val_mee: 0.3041065037250519, std val_mee 0.0\n",
      "Fold 1/4 median train_mee: 0.29004815220832825, train_mee 0.0\n",
      "\n",
      "Executing fold 2/4\n"
     ]
    },
    {
     "name": "stderr",
     "output_type": "stream",
     "text": [
      "100%|█████████████████████████████████████████████| 1/1 [00:03<00:00,  3.25s/it]\n"
     ]
    },
    {
     "name": "stdout",
     "output_type": "stream",
     "text": [
      "Fold 2/4 median val_loss: 0.14674685895442963, std val_loss 0.0\n",
      "Fold 2/4 median train_loss: 0.1430571973323822, std train_loss 0.0\n",
      "Fold 2/4 median val_mee: 0.30731356143951416, std val_mee 0.0\n",
      "Fold 2/4 median train_mee: 0.2894861698150635, train_mee 0.0\n",
      "\n",
      "Executing fold 3/4\n"
     ]
    },
    {
     "name": "stderr",
     "output_type": "stream",
     "text": [
      "100%|█████████████████████████████████████████████| 1/1 [00:02<00:00,  2.67s/it]\n"
     ]
    },
    {
     "name": "stdout",
     "output_type": "stream",
     "text": [
      "Fold 3/4 median val_loss: 0.14825475215911865, std val_loss 0.0\n",
      "Fold 3/4 median train_loss: 0.1438952535390854, std train_loss 0.0\n",
      "Fold 3/4 median val_mee: 0.30637305974960327, std val_mee 0.0\n",
      "Fold 3/4 median train_mee: 0.2963681221008301, train_mee 0.0\n",
      "\n",
      "Executing fold 4/4\n"
     ]
    },
    {
     "name": "stderr",
     "output_type": "stream",
     "text": [
      "100%|█████████████████████████████████████████████| 1/1 [00:03<00:00,  3.61s/it]\n"
     ]
    },
    {
     "name": "stdout",
     "output_type": "stream",
     "text": [
      "Fold 4/4 median val_loss: 0.16187679767608643, std val_loss 0.0\n",
      "Fold 4/4 median train_loss: 0.13822779059410095, std train_loss 0.0\n",
      "Fold 4/4 median val_mee: 0.3224584758281708, std val_mee 0.0\n",
      "Fold 4/4 median train_mee: 0.2825030982494354, train_mee 0.0\n",
      "\n",
      "Mean val_loss: 0.15308382734656334, std val_loss: 0.00605030865813673\n",
      "Mean train_loss: 0.1410115472972393, std train_loss: 0.0024926564479044204\n",
      "Mean val_mee: 0.310062900185585, std val_mee: 0.007250909258323564\n",
      "Mean train_mee: 0.310062900185585, std train_mee: 0.0049088512215758485\n",
      "\n",
      "\n",
      "\n",
      "Testing configuration 67/180:\n",
      "{'batch_size': 16, 'learning_rate': 0.2, 'max_epochs': 500, 'momentum': 0.1, 'initialization': {'type': 'default'}, 'early_stopping': {'monitor': 'val_loss', 'patience': 20, 'delta': 0.01}, 'task': 'regression', 'trials_train': 1, 'trials_final': 5, 'nesterov': False, 'learning_rate_decay': {'epochs': 100, 'lr_final': 0.01}, 'regularization': {'method': 'l1', 'value': 0.0001}, 'units_1': 50, 'activations_1': 'tanh', 'units_2': 50, 'activations_2': 'relu', 'units_3': 50, 'activations_3': 'tanh'}\n",
      "\n",
      "Executing fold 1/4\n"
     ]
    },
    {
     "name": "stderr",
     "output_type": "stream",
     "text": [
      "100%|█████████████████████████████████████████████| 1/1 [00:04<00:00,  4.96s/it]\n"
     ]
    },
    {
     "name": "stdout",
     "output_type": "stream",
     "text": [
      "Fold 1/4 median val_loss: 0.16411904990673065, std val_loss 0.0\n",
      "Fold 1/4 median train_loss: 0.14093400537967682, std train_loss 0.0\n",
      "Fold 1/4 median val_mee: 0.3229483366012573, std val_mee 0.0\n",
      "Fold 1/4 median train_mee: 0.2897842526435852, train_mee 0.0\n",
      "\n",
      "Executing fold 2/4\n"
     ]
    },
    {
     "name": "stderr",
     "output_type": "stream",
     "text": [
      "100%|█████████████████████████████████████████████| 1/1 [00:03<00:00,  3.95s/it]\n"
     ]
    },
    {
     "name": "stdout",
     "output_type": "stream",
     "text": [
      "Fold 2/4 median val_loss: 0.14539925754070282, std val_loss 0.0\n",
      "Fold 2/4 median train_loss: 0.1422162652015686, std train_loss 0.0\n",
      "Fold 2/4 median val_mee: 0.3048929274082184, std val_mee 0.0\n",
      "Fold 2/4 median train_mee: 0.2930566370487213, train_mee 0.0\n",
      "\n",
      "Executing fold 3/4\n"
     ]
    },
    {
     "name": "stderr",
     "output_type": "stream",
     "text": [
      "100%|█████████████████████████████████████████████| 1/1 [00:02<00:00,  2.29s/it]\n"
     ]
    },
    {
     "name": "stdout",
     "output_type": "stream",
     "text": [
      "Fold 3/4 median val_loss: 0.1521987020969391, std val_loss 0.0\n",
      "Fold 3/4 median train_loss: 0.1417752057313919, std train_loss 0.0\n",
      "Fold 3/4 median val_mee: 0.3020603060722351, std val_mee 0.0\n",
      "Fold 3/4 median train_mee: 0.2921200692653656, train_mee 0.0\n",
      "\n",
      "Executing fold 4/4\n"
     ]
    },
    {
     "name": "stderr",
     "output_type": "stream",
     "text": [
      "100%|█████████████████████████████████████████████| 1/1 [00:03<00:00,  3.33s/it]\n"
     ]
    },
    {
     "name": "stdout",
     "output_type": "stream",
     "text": [
      "Fold 4/4 median val_loss: 0.14512884616851807, std val_loss 0.0\n",
      "Fold 4/4 median train_loss: 0.14267705380916595, std train_loss 0.0\n",
      "Fold 4/4 median val_mee: 0.2956071197986603, std val_mee 0.0\n",
      "Fold 4/4 median train_mee: 0.2943456768989563, train_mee 0.0\n",
      "\n",
      "Mean val_loss: 0.15171146392822266, std val_loss: 0.007703252509429813\n",
      "Mean train_loss: 0.14190063253045082, std train_loss: 0.0006427584919031059\n",
      "Mean val_mee: 0.3063771724700928, std val_mee: 0.010141940570079229\n",
      "Mean train_mee: 0.3063771724700928, std train_mee: 0.0016670190931356744\n",
      "\n",
      "\n",
      "\n",
      "Testing configuration 68/180:\n",
      "{'batch_size': 16, 'learning_rate': 0.2, 'max_epochs': 500, 'momentum': 0.1, 'initialization': {'type': 'default'}, 'early_stopping': {'monitor': 'val_loss', 'patience': 20, 'delta': 0.01}, 'task': 'regression', 'trials_train': 1, 'trials_final': 5, 'nesterov': False, 'learning_rate_decay': {'epochs': 100, 'lr_final': 0.01}, 'regularization': {'method': 'l1', 'value': 0.0001}, 'units_1': 50, 'activations_1': 'tanh', 'units_2': 50, 'activations_2': 'relu', 'units_3': 50, 'activations_3': 'tanh'}\n",
      "\n",
      "Executing fold 1/4\n"
     ]
    },
    {
     "name": "stderr",
     "output_type": "stream",
     "text": [
      "100%|█████████████████████████████████████████████| 1/1 [00:02<00:00,  2.57s/it]\n"
     ]
    },
    {
     "name": "stdout",
     "output_type": "stream",
     "text": [
      "Fold 1/4 median val_loss: 0.1512584090232849, std val_loss 0.0\n",
      "Fold 1/4 median train_loss: 0.14211209118366241, std train_loss 0.0\n",
      "Fold 1/4 median val_mee: 0.31235066056251526, std val_mee 0.0\n",
      "Fold 1/4 median train_mee: 0.29180100560188293, train_mee 0.0\n",
      "\n",
      "Executing fold 2/4\n"
     ]
    },
    {
     "name": "stderr",
     "output_type": "stream",
     "text": [
      "100%|█████████████████████████████████████████████| 1/1 [00:02<00:00,  2.49s/it]\n"
     ]
    },
    {
     "name": "stdout",
     "output_type": "stream",
     "text": [
      "Fold 2/4 median val_loss: 0.15691491961479187, std val_loss 0.0\n",
      "Fold 2/4 median train_loss: 0.14288771152496338, std train_loss 0.0\n",
      "Fold 2/4 median val_mee: 0.3280133903026581, std val_mee 0.0\n",
      "Fold 2/4 median train_mee: 0.29725363850593567, train_mee 0.0\n",
      "\n",
      "Executing fold 3/4\n"
     ]
    },
    {
     "name": "stderr",
     "output_type": "stream",
     "text": [
      "100%|█████████████████████████████████████████████| 1/1 [00:02<00:00,  2.76s/it]\n"
     ]
    },
    {
     "name": "stdout",
     "output_type": "stream",
     "text": [
      "Fold 3/4 median val_loss: 0.14226225018501282, std val_loss 0.0\n",
      "Fold 3/4 median train_loss: 0.14368398487567902, std train_loss 0.0\n",
      "Fold 3/4 median val_mee: 0.2885105013847351, std val_mee 0.0\n",
      "Fold 3/4 median train_mee: 0.2937622666358948, train_mee 0.0\n",
      "\n",
      "Executing fold 4/4\n"
     ]
    },
    {
     "name": "stderr",
     "output_type": "stream",
     "text": [
      "100%|█████████████████████████████████████████████| 1/1 [00:03<00:00,  3.64s/it]\n"
     ]
    },
    {
     "name": "stdout",
     "output_type": "stream",
     "text": [
      "Fold 4/4 median val_loss: 0.17813539505004883, std val_loss 0.0\n",
      "Fold 4/4 median train_loss: 0.13615718483924866, std train_loss 0.0\n",
      "Fold 4/4 median val_mee: 0.34428784251213074, std val_mee 0.0\n",
      "Fold 4/4 median train_mee: 0.2850216031074524, train_mee 0.0\n",
      "\n",
      "Mean val_loss: 0.1571427434682846, std val_loss: 0.013198463891260934\n",
      "Mean train_loss: 0.14121024310588837, std train_loss: 0.00296984959392061\n",
      "Mean val_mee: 0.3182905986905098, std val_mee: 0.020570163001054957\n",
      "Mean train_mee: 0.3182905986905098, std train_mee: 0.004456383168090789\n",
      "\n",
      "\n",
      "\n",
      "Testing configuration 69/180:\n",
      "{'batch_size': 16, 'learning_rate': 0.2, 'max_epochs': 500, 'momentum': 0.1, 'initialization': {'type': 'default'}, 'early_stopping': {'monitor': 'val_loss', 'patience': 20, 'delta': 0.01}, 'task': 'regression', 'trials_train': 1, 'trials_final': 5, 'nesterov': False, 'learning_rate_decay': {'epochs': 100, 'lr_final': 0.01}, 'regularization': {'method': 'l1', 'value': 0.0001}, 'units_1': 50, 'activations_1': 'tanh', 'units_2': 50, 'activations_2': 'relu', 'units_3': 50, 'activations_3': 'tanh'}\n",
      "\n",
      "Executing fold 1/4\n"
     ]
    },
    {
     "name": "stderr",
     "output_type": "stream",
     "text": [
      "100%|█████████████████████████████████████████████| 1/1 [00:02<00:00,  2.61s/it]\n"
     ]
    },
    {
     "name": "stdout",
     "output_type": "stream",
     "text": [
      "Fold 1/4 median val_loss: 0.15964995324611664, std val_loss 0.0\n",
      "Fold 1/4 median train_loss: 0.14006160199642181, std train_loss 0.0\n",
      "Fold 1/4 median val_mee: 0.3226299285888672, std val_mee 0.0\n",
      "Fold 1/4 median train_mee: 0.2850876450538635, train_mee 0.0\n",
      "\n",
      "Executing fold 2/4\n"
     ]
    },
    {
     "name": "stderr",
     "output_type": "stream",
     "text": [
      "100%|█████████████████████████████████████████████| 1/1 [00:02<00:00,  2.61s/it]\n"
     ]
    },
    {
     "name": "stdout",
     "output_type": "stream",
     "text": [
      "Fold 2/4 median val_loss: 0.13241732120513916, std val_loss 0.0\n",
      "Fold 2/4 median train_loss: 0.14660799503326416, std train_loss 0.0\n",
      "Fold 2/4 median val_mee: 0.2788693308830261, std val_mee 0.0\n",
      "Fold 2/4 median train_mee: 0.30325716733932495, train_mee 0.0\n",
      "\n",
      "Executing fold 3/4\n"
     ]
    },
    {
     "name": "stderr",
     "output_type": "stream",
     "text": [
      "100%|█████████████████████████████████████████████| 1/1 [00:02<00:00,  2.55s/it]\n"
     ]
    },
    {
     "name": "stdout",
     "output_type": "stream",
     "text": [
      "Fold 3/4 median val_loss: 0.157632514834404, std val_loss 0.0\n",
      "Fold 3/4 median train_loss: 0.1425565779209137, std train_loss 0.0\n",
      "Fold 3/4 median val_mee: 0.3166961669921875, std val_mee 0.0\n",
      "Fold 3/4 median train_mee: 0.2958463728427887, train_mee 0.0\n",
      "\n",
      "Executing fold 4/4\n"
     ]
    },
    {
     "name": "stderr",
     "output_type": "stream",
     "text": [
      "100%|█████████████████████████████████████████████| 1/1 [00:02<00:00,  2.55s/it]\n"
     ]
    },
    {
     "name": "stdout",
     "output_type": "stream",
     "text": [
      "Fold 4/4 median val_loss: 0.15819691121578217, std val_loss 0.0\n",
      "Fold 4/4 median train_loss: 0.13834263384342194, std train_loss 0.0\n",
      "Fold 4/4 median val_mee: 0.3156253695487976, std val_mee 0.0\n",
      "Fold 4/4 median train_mee: 0.28487539291381836, train_mee 0.0\n",
      "\n",
      "Mean val_loss: 0.1519741751253605, std val_loss: 0.011315115528905682\n",
      "Mean train_loss: 0.1418922021985054, std train_loss: 0.0031076771779001595\n",
      "Mean val_mee: 0.3084551990032196, std val_mee: 0.01728851822959086\n",
      "Mean train_mee: 0.3084551990032196, std train_mee: 0.007742329758343876\n",
      "\n",
      "\n",
      "\n",
      "Testing configuration 70/180:\n",
      "{'batch_size': 16, 'learning_rate': 0.2, 'max_epochs': 500, 'momentum': 0.1, 'initialization': {'type': 'default'}, 'early_stopping': {'monitor': 'val_loss', 'patience': 20, 'delta': 0.01}, 'task': 'regression', 'trials_train': 1, 'trials_final': 5, 'nesterov': False, 'learning_rate_decay': {'epochs': 100, 'lr_final': 0.01}, 'regularization': {'method': 'l1', 'value': 0.0001}, 'units_1': 50, 'activations_1': 'tanh', 'units_2': 50, 'activations_2': 'relu', 'units_3': 50, 'activations_3': 'tanh'}\n",
      "\n",
      "Executing fold 1/4\n"
     ]
    },
    {
     "name": "stderr",
     "output_type": "stream",
     "text": [
      "100%|█████████████████████████████████████████████| 1/1 [00:03<00:00,  3.26s/it]\n"
     ]
    },
    {
     "name": "stdout",
     "output_type": "stream",
     "text": [
      "Fold 1/4 median val_loss: 0.15800747275352478, std val_loss 0.0\n",
      "Fold 1/4 median train_loss: 0.14008255302906036, std train_loss 0.0\n",
      "Fold 1/4 median val_mee: 0.3272501826286316, std val_mee 0.0\n",
      "Fold 1/4 median train_mee: 0.28396621346473694, train_mee 0.0\n",
      "\n",
      "Executing fold 2/4\n"
     ]
    },
    {
     "name": "stderr",
     "output_type": "stream",
     "text": [
      "100%|█████████████████████████████████████████████| 1/1 [00:02<00:00,  2.54s/it]\n"
     ]
    },
    {
     "name": "stdout",
     "output_type": "stream",
     "text": [
      "Fold 2/4 median val_loss: 0.15743757784366608, std val_loss 0.0\n",
      "Fold 2/4 median train_loss: 0.13990521430969238, std train_loss 0.0\n",
      "Fold 2/4 median val_mee: 0.327597439289093, std val_mee 0.0\n",
      "Fold 2/4 median train_mee: 0.2912881076335907, train_mee 0.0\n",
      "\n",
      "Executing fold 3/4\n"
     ]
    },
    {
     "name": "stderr",
     "output_type": "stream",
     "text": [
      "100%|█████████████████████████████████████████████| 1/1 [00:02<00:00,  2.64s/it]\n"
     ]
    },
    {
     "name": "stdout",
     "output_type": "stream",
     "text": [
      "Fold 3/4 median val_loss: 0.16185469925403595, std val_loss 0.0\n",
      "Fold 3/4 median train_loss: 0.13842058181762695, std train_loss 0.0\n",
      "Fold 3/4 median val_mee: 0.30370232462882996, std val_mee 0.0\n",
      "Fold 3/4 median train_mee: 0.2878687381744385, train_mee 0.0\n",
      "\n",
      "Executing fold 4/4\n"
     ]
    },
    {
     "name": "stderr",
     "output_type": "stream",
     "text": [
      "100%|█████████████████████████████████████████████| 1/1 [00:02<00:00,  2.92s/it]\n"
     ]
    },
    {
     "name": "stdout",
     "output_type": "stream",
     "text": [
      "Fold 4/4 median val_loss: 0.145123690366745, std val_loss 0.0\n",
      "Fold 4/4 median train_loss: 0.1433134227991104, std train_loss 0.0\n",
      "Fold 4/4 median val_mee: 0.30122628808021545, std val_mee 0.0\n",
      "Fold 4/4 median train_mee: 0.2988613545894623, train_mee 0.0\n",
      "\n",
      "Mean val_loss: 0.15560586005449295, std val_loss: 0.006285833403770169\n",
      "Mean train_loss: 0.14043044298887253, std train_loss: 0.0017852175710183992\n",
      "Mean val_mee: 0.3149440586566925, std val_mee: 0.012511020563719057\n",
      "Mean train_mee: 0.3149440586566925, std train_mee: 0.005480584110383798\n",
      "\n",
      "\n",
      "\n",
      "Testing configuration 71/180:\n",
      "{'batch_size': 16, 'learning_rate': 0.2, 'max_epochs': 500, 'momentum': 0.1, 'initialization': {'type': 'default'}, 'early_stopping': {'monitor': 'val_loss', 'patience': 20, 'delta': 0.01}, 'task': 'regression', 'trials_train': 1, 'trials_final': 5, 'nesterov': False, 'learning_rate_decay': {'epochs': 100, 'lr_final': 0.01}, 'regularization': {'method': 'l1', 'value': 1e-05}, 'units_1': 50, 'activations_1': 'tanh', 'units_2': 50, 'activations_2': 'relu', 'units_3': 50, 'activations_3': 'tanh'}\n",
      "\n",
      "Executing fold 1/4\n"
     ]
    },
    {
     "name": "stderr",
     "output_type": "stream",
     "text": [
      "100%|█████████████████████████████████████████████| 1/1 [00:02<00:00,  2.71s/it]\n"
     ]
    },
    {
     "name": "stdout",
     "output_type": "stream",
     "text": [
      "Fold 1/4 median val_loss: 0.09791678190231323, std val_loss 0.0\n",
      "Fold 1/4 median train_loss: 0.08089451491832733, std train_loss 0.0\n",
      "Fold 1/4 median val_mee: 0.33330458402633667, std val_mee 0.0\n",
      "Fold 1/4 median train_mee: 0.28825920820236206, train_mee 0.0\n",
      "\n",
      "Executing fold 2/4\n"
     ]
    },
    {
     "name": "stderr",
     "output_type": "stream",
     "text": [
      "100%|█████████████████████████████████████████████| 1/1 [00:02<00:00,  2.65s/it]\n"
     ]
    },
    {
     "name": "stdout",
     "output_type": "stream",
     "text": [
      "Fold 2/4 median val_loss: 0.0897894948720932, std val_loss 0.0\n",
      "Fold 2/4 median train_loss: 0.08240637928247452, std train_loss 0.0\n",
      "Fold 2/4 median val_mee: 0.29535460472106934, std val_mee 0.0\n",
      "Fold 2/4 median train_mee: 0.2925274968147278, train_mee 0.0\n",
      "\n",
      "Executing fold 3/4\n"
     ]
    },
    {
     "name": "stderr",
     "output_type": "stream",
     "text": [
      "100%|█████████████████████████████████████████████| 1/1 [00:02<00:00,  2.34s/it]\n"
     ]
    },
    {
     "name": "stdout",
     "output_type": "stream",
     "text": [
      "Fold 3/4 median val_loss: 0.08920533210039139, std val_loss 0.0\n",
      "Fold 3/4 median train_loss: 0.0827380046248436, std train_loss 0.0\n",
      "Fold 3/4 median val_mee: 0.3016278147697449, std val_mee 0.0\n",
      "Fold 3/4 median train_mee: 0.29190725088119507, train_mee 0.0\n",
      "\n",
      "Executing fold 4/4\n"
     ]
    },
    {
     "name": "stderr",
     "output_type": "stream",
     "text": [
      "100%|█████████████████████████████████████████████| 1/1 [00:02<00:00,  2.83s/it]\n"
     ]
    },
    {
     "name": "stdout",
     "output_type": "stream",
     "text": [
      "Fold 4/4 median val_loss: 0.09675263613462448, std val_loss 0.0\n",
      "Fold 4/4 median train_loss: 0.0790884867310524, std train_loss 0.0\n",
      "Fold 4/4 median val_mee: 0.3129175305366516, std val_mee 0.0\n",
      "Fold 4/4 median train_mee: 0.2847954332828522, train_mee 0.0\n",
      "\n",
      "Mean val_loss: 0.09341606125235558, std val_loss: 0.003945612817281792\n",
      "Mean train_loss: 0.08128184638917446, std train_loss: 0.001444456930268845\n",
      "Mean val_mee: 0.3108011335134506, std val_mee: 0.014436320946255772\n",
      "Mean train_mee: 0.3108011335134506, std train_mee: 0.003105153989631473\n",
      "\n",
      "\n",
      "\n",
      "Testing configuration 72/180:\n",
      "{'batch_size': 16, 'learning_rate': 0.2, 'max_epochs': 500, 'momentum': 0.1, 'initialization': {'type': 'default'}, 'early_stopping': {'monitor': 'val_loss', 'patience': 20, 'delta': 0.01}, 'task': 'regression', 'trials_train': 1, 'trials_final': 5, 'nesterov': False, 'learning_rate_decay': {'epochs': 100, 'lr_final': 0.01}, 'regularization': {'method': 'l1', 'value': 1e-05}, 'units_1': 50, 'activations_1': 'tanh', 'units_2': 50, 'activations_2': 'relu', 'units_3': 50, 'activations_3': 'tanh'}\n",
      "\n",
      "Executing fold 1/4\n"
     ]
    },
    {
     "name": "stderr",
     "output_type": "stream",
     "text": [
      "100%|█████████████████████████████████████████████| 1/1 [00:02<00:00,  2.60s/it]\n"
     ]
    },
    {
     "name": "stdout",
     "output_type": "stream",
     "text": [
      "Fold 1/4 median val_loss: 0.08953409641981125, std val_loss 0.0\n",
      "Fold 1/4 median train_loss: 0.08295398950576782, std train_loss 0.0\n",
      "Fold 1/4 median val_mee: 0.3026426136493683, std val_mee 0.0\n",
      "Fold 1/4 median train_mee: 0.2924008369445801, train_mee 0.0\n",
      "\n",
      "Executing fold 2/4\n"
     ]
    },
    {
     "name": "stderr",
     "output_type": "stream",
     "text": [
      "100%|█████████████████████████████████████████████| 1/1 [00:03<00:00,  3.42s/it]\n"
     ]
    },
    {
     "name": "stdout",
     "output_type": "stream",
     "text": [
      "Fold 2/4 median val_loss: 0.09444468468427658, std val_loss 0.0\n",
      "Fold 2/4 median train_loss: 0.07881013303995132, std train_loss 0.0\n",
      "Fold 2/4 median val_mee: 0.30529889464378357, std val_mee 0.0\n",
      "Fold 2/4 median train_mee: 0.2832876741886139, train_mee 0.0\n",
      "\n",
      "Executing fold 3/4\n"
     ]
    },
    {
     "name": "stderr",
     "output_type": "stream",
     "text": [
      "100%|█████████████████████████████████████████████| 1/1 [00:03<00:00,  3.35s/it]\n"
     ]
    },
    {
     "name": "stdout",
     "output_type": "stream",
     "text": [
      "Fold 3/4 median val_loss: 0.09246659278869629, std val_loss 0.0\n",
      "Fold 3/4 median train_loss: 0.08175957202911377, std train_loss 0.0\n",
      "Fold 3/4 median val_mee: 0.30749210715293884, std val_mee 0.0\n",
      "Fold 3/4 median train_mee: 0.28966790437698364, train_mee 0.0\n",
      "\n",
      "Executing fold 4/4\n"
     ]
    },
    {
     "name": "stderr",
     "output_type": "stream",
     "text": [
      "100%|█████████████████████████████████████████████| 1/1 [00:02<00:00,  2.87s/it]\n"
     ]
    },
    {
     "name": "stdout",
     "output_type": "stream",
     "text": [
      "Fold 4/4 median val_loss: 0.09686020016670227, std val_loss 0.0\n",
      "Fold 4/4 median train_loss: 0.07960432022809982, std train_loss 0.0\n",
      "Fold 4/4 median val_mee: 0.30655601620674133, std val_mee 0.0\n",
      "Fold 4/4 median train_mee: 0.2867244780063629, train_mee 0.0\n",
      "\n",
      "Mean val_loss: 0.0933263935148716, std val_loss: 0.0026860351420833375\n",
      "Mean train_loss: 0.08078200370073318, std train_loss: 0.0016544163954768792\n",
      "Mean val_mee: 0.305497407913208, std val_mee: 0.001822685819272624\n",
      "Mean train_mee: 0.305497407913208, std train_mee: 0.00339045003621183\n",
      "\n",
      "\n",
      "\n",
      "Testing configuration 73/180:\n",
      "{'batch_size': 16, 'learning_rate': 0.2, 'max_epochs': 500, 'momentum': 0.1, 'initialization': {'type': 'default'}, 'early_stopping': {'monitor': 'val_loss', 'patience': 20, 'delta': 0.01}, 'task': 'regression', 'trials_train': 1, 'trials_final': 5, 'nesterov': False, 'learning_rate_decay': {'epochs': 100, 'lr_final': 0.01}, 'regularization': {'method': 'l1', 'value': 1e-05}, 'units_1': 50, 'activations_1': 'tanh', 'units_2': 50, 'activations_2': 'relu', 'units_3': 50, 'activations_3': 'tanh'}\n",
      "\n",
      "Executing fold 1/4\n"
     ]
    },
    {
     "name": "stderr",
     "output_type": "stream",
     "text": [
      "100%|█████████████████████████████████████████████| 1/1 [00:03<00:00,  3.53s/it]\n"
     ]
    },
    {
     "name": "stdout",
     "output_type": "stream",
     "text": [
      "Fold 1/4 median val_loss: 0.10019737482070923, std val_loss 0.0\n",
      "Fold 1/4 median train_loss: 0.07835730165243149, std train_loss 0.0\n",
      "Fold 1/4 median val_mee: 0.3169091045856476, std val_mee 0.0\n",
      "Fold 1/4 median train_mee: 0.2814004123210907, train_mee 0.0\n",
      "\n",
      "Executing fold 2/4\n"
     ]
    },
    {
     "name": "stderr",
     "output_type": "stream",
     "text": [
      "100%|█████████████████████████████████████████████| 1/1 [00:03<00:00,  3.63s/it]\n"
     ]
    },
    {
     "name": "stdout",
     "output_type": "stream",
     "text": [
      "Fold 2/4 median val_loss: 0.10302316397428513, std val_loss 0.0\n",
      "Fold 2/4 median train_loss: 0.07688502967357635, std train_loss 0.0\n",
      "Fold 2/4 median val_mee: 0.3187079429626465, std val_mee 0.0\n",
      "Fold 2/4 median train_mee: 0.2819148600101471, train_mee 0.0\n",
      "\n",
      "Executing fold 3/4\n"
     ]
    },
    {
     "name": "stderr",
     "output_type": "stream",
     "text": [
      "100%|█████████████████████████████████████████████| 1/1 [00:04<00:00,  4.59s/it]\n"
     ]
    },
    {
     "name": "stdout",
     "output_type": "stream",
     "text": [
      "Fold 3/4 median val_loss: 0.0822543278336525, std val_loss 0.0\n",
      "Fold 3/4 median train_loss: 0.08469208329916, std train_loss 0.0\n",
      "Fold 3/4 median val_mee: 0.29097336530685425, std val_mee 0.0\n",
      "Fold 3/4 median train_mee: 0.2967645525932312, train_mee 0.0\n",
      "\n",
      "Executing fold 4/4\n"
     ]
    },
    {
     "name": "stderr",
     "output_type": "stream",
     "text": [
      "100%|█████████████████████████████████████████████| 1/1 [00:03<00:00,  3.44s/it]\n"
     ]
    },
    {
     "name": "stdout",
     "output_type": "stream",
     "text": [
      "Fold 4/4 median val_loss: 0.09018319845199585, std val_loss 0.0\n",
      "Fold 4/4 median train_loss: 0.08364586532115936, std train_loss 0.0\n",
      "Fold 4/4 median val_mee: 0.30118560791015625, std val_mee 0.0\n",
      "Fold 4/4 median train_mee: 0.2970629334449768, train_mee 0.0\n",
      "\n",
      "Mean val_loss: 0.09391451627016068, std val_loss: 0.00825112873489267\n",
      "Mean train_loss: 0.0808950699865818, std train_loss: 0.0033355987655282614\n",
      "Mean val_mee: 0.30694400519132614, std val_mee: 0.011466406535980139\n",
      "Mean train_mee: 0.30694400519132614, std train_mee: 0.007630950794358577\n",
      "\n",
      "\n",
      "\n",
      "Testing configuration 74/180:\n",
      "{'batch_size': 16, 'learning_rate': 0.2, 'max_epochs': 500, 'momentum': 0.1, 'initialization': {'type': 'default'}, 'early_stopping': {'monitor': 'val_loss', 'patience': 20, 'delta': 0.01}, 'task': 'regression', 'trials_train': 1, 'trials_final': 5, 'nesterov': False, 'learning_rate_decay': {'epochs': 100, 'lr_final': 0.01}, 'regularization': {'method': 'l1', 'value': 1e-05}, 'units_1': 50, 'activations_1': 'tanh', 'units_2': 50, 'activations_2': 'relu', 'units_3': 50, 'activations_3': 'tanh'}\n",
      "\n",
      "Executing fold 1/4\n"
     ]
    },
    {
     "name": "stderr",
     "output_type": "stream",
     "text": [
      "100%|█████████████████████████████████████████████| 1/1 [00:03<00:00,  3.06s/it]\n"
     ]
    },
    {
     "name": "stdout",
     "output_type": "stream",
     "text": [
      "Fold 1/4 median val_loss: 0.0885416567325592, std val_loss 0.0\n",
      "Fold 1/4 median train_loss: 0.08184000849723816, std train_loss 0.0\n",
      "Fold 1/4 median val_mee: 0.30438822507858276, std val_mee 0.0\n",
      "Fold 1/4 median train_mee: 0.292434960603714, train_mee 0.0\n",
      "\n",
      "Executing fold 2/4\n"
     ]
    },
    {
     "name": "stderr",
     "output_type": "stream",
     "text": [
      "100%|█████████████████████████████████████████████| 1/1 [00:02<00:00,  2.75s/it]\n"
     ]
    },
    {
     "name": "stdout",
     "output_type": "stream",
     "text": [
      "Fold 2/4 median val_loss: 0.08164914697408676, std val_loss 0.0\n",
      "Fold 2/4 median train_loss: 0.08689601719379425, std train_loss 0.0\n",
      "Fold 2/4 median val_mee: 0.30005282163619995, std val_mee 0.0\n",
      "Fold 2/4 median train_mee: 0.29619860649108887, train_mee 0.0\n",
      "\n",
      "Executing fold 3/4\n"
     ]
    },
    {
     "name": "stderr",
     "output_type": "stream",
     "text": [
      "100%|█████████████████████████████████████████████| 1/1 [00:02<00:00,  2.41s/it]\n"
     ]
    },
    {
     "name": "stdout",
     "output_type": "stream",
     "text": [
      "Fold 3/4 median val_loss: 0.09622037410736084, std val_loss 0.0\n",
      "Fold 3/4 median train_loss: 0.07903259992599487, std train_loss 0.0\n",
      "Fold 3/4 median val_mee: 0.3005181550979614, std val_mee 0.0\n",
      "Fold 3/4 median train_mee: 0.28839629888534546, train_mee 0.0\n",
      "\n",
      "Executing fold 4/4\n"
     ]
    },
    {
     "name": "stderr",
     "output_type": "stream",
     "text": [
      "100%|█████████████████████████████████████████████| 1/1 [00:02<00:00,  2.68s/it]\n"
     ]
    },
    {
     "name": "stdout",
     "output_type": "stream",
     "text": [
      "Fold 4/4 median val_loss: 0.10528251528739929, std val_loss 0.0\n",
      "Fold 4/4 median train_loss: 0.07871028035879135, std train_loss 0.0\n",
      "Fold 4/4 median val_mee: 0.32443946599960327, std val_mee 0.0\n",
      "Fold 4/4 median train_mee: 0.2835060656070709, train_mee 0.0\n",
      "\n",
      "Mean val_loss: 0.09292342327535152, std val_loss: 0.00880236082400262\n",
      "Mean train_loss: 0.08161972649395466, std train_loss: 0.0032804675124989595\n",
      "Mean val_mee: 0.30734966695308685, std val_mee: 0.010009306609746667\n",
      "Mean train_mee: 0.30734966695308685, std train_mee: 0.004717599788856479\n",
      "\n",
      "\n",
      "\n",
      "Testing configuration 75/180:\n",
      "{'batch_size': 16, 'learning_rate': 0.2, 'max_epochs': 500, 'momentum': 0.1, 'initialization': {'type': 'default'}, 'early_stopping': {'monitor': 'val_loss', 'patience': 20, 'delta': 0.01}, 'task': 'regression', 'trials_train': 1, 'trials_final': 5, 'nesterov': False, 'learning_rate_decay': {'epochs': 100, 'lr_final': 0.01}, 'regularization': {'method': 'l1', 'value': 1e-05}, 'units_1': 50, 'activations_1': 'tanh', 'units_2': 50, 'activations_2': 'relu', 'units_3': 50, 'activations_3': 'tanh'}\n",
      "\n",
      "Executing fold 1/4\n"
     ]
    },
    {
     "name": "stderr",
     "output_type": "stream",
     "text": [
      "100%|█████████████████████████████████████████████| 1/1 [00:02<00:00,  2.62s/it]\n"
     ]
    },
    {
     "name": "stdout",
     "output_type": "stream",
     "text": [
      "Fold 1/4 median val_loss: 0.09526041895151138, std val_loss 0.0\n",
      "Fold 1/4 median train_loss: 0.08063703030347824, std train_loss 0.0\n",
      "Fold 1/4 median val_mee: 0.3043111562728882, std val_mee 0.0\n",
      "Fold 1/4 median train_mee: 0.29257097840309143, train_mee 0.0\n",
      "\n",
      "Executing fold 2/4\n"
     ]
    },
    {
     "name": "stderr",
     "output_type": "stream",
     "text": [
      "100%|█████████████████████████████████████████████| 1/1 [00:02<00:00,  2.46s/it]\n"
     ]
    },
    {
     "name": "stdout",
     "output_type": "stream",
     "text": [
      "Fold 2/4 median val_loss: 0.09938054531812668, std val_loss 0.0\n",
      "Fold 2/4 median train_loss: 0.0810331478714943, std train_loss 0.0\n",
      "Fold 2/4 median val_mee: 0.32370156049728394, std val_mee 0.0\n",
      "Fold 2/4 median train_mee: 0.287861168384552, train_mee 0.0\n",
      "\n",
      "Executing fold 3/4\n"
     ]
    },
    {
     "name": "stderr",
     "output_type": "stream",
     "text": [
      "100%|█████████████████████████████████████████████| 1/1 [00:02<00:00,  2.53s/it]\n"
     ]
    },
    {
     "name": "stdout",
     "output_type": "stream",
     "text": [
      "Fold 3/4 median val_loss: 0.10355979204177856, std val_loss 0.0\n",
      "Fold 3/4 median train_loss: 0.07992996275424957, std train_loss 0.0\n",
      "Fold 3/4 median val_mee: 0.32851657271385193, std val_mee 0.0\n",
      "Fold 3/4 median train_mee: 0.28866204619407654, train_mee 0.0\n",
      "\n",
      "Executing fold 4/4\n"
     ]
    },
    {
     "name": "stderr",
     "output_type": "stream",
     "text": [
      "100%|█████████████████████████████████████████████| 1/1 [00:02<00:00,  2.84s/it]\n"
     ]
    },
    {
     "name": "stdout",
     "output_type": "stream",
     "text": [
      "Fold 4/4 median val_loss: 0.07825232297182083, std val_loss 0.0\n",
      "Fold 4/4 median train_loss: 0.08702676743268967, std train_loss 0.0\n",
      "Fold 4/4 median val_mee: 0.29148635268211365, std val_mee 0.0\n",
      "Fold 4/4 median train_mee: 0.29967883229255676, train_mee 0.0\n",
      "\n",
      "Mean val_loss: 0.09411326982080936, std val_loss: 0.009615957561657782\n",
      "Mean train_loss: 0.08215672709047794, std train_loss: 0.0028393520796837343\n",
      "Mean val_mee: 0.3120039105415344, std val_mee: 0.014913514636536774\n",
      "Mean train_mee: 0.3120039105415344, std train_mee: 0.004674744710859957\n",
      "\n",
      "\n",
      "\n",
      "Testing configuration 76/180:\n",
      "{'batch_size': 16, 'learning_rate': 0.2, 'max_epochs': 500, 'momentum': 0.2, 'initialization': {'type': 'default'}, 'early_stopping': {'monitor': 'val_loss', 'patience': 20, 'delta': 0.01}, 'task': 'regression', 'trials_train': 1, 'trials_final': 5, 'nesterov': False, 'learning_rate_decay': {'epochs': 100, 'lr_final': 0.01}, 'regularization': {'method': 'l1', 'value': 0.001}, 'units_1': 50, 'activations_1': 'tanh', 'units_2': 50, 'activations_2': 'relu', 'units_3': 50, 'activations_3': 'tanh'}\n",
      "\n",
      "Executing fold 1/4\n"
     ]
    },
    {
     "name": "stderr",
     "output_type": "stream",
     "text": [
      "100%|█████████████████████████████████████████████| 1/1 [00:18<00:00, 18.16s/it]\n"
     ]
    },
    {
     "name": "stdout",
     "output_type": "stream",
     "text": [
      "Fold 1/4 median val_loss: 0.22423464059829712, std val_loss 0.0\n",
      "Fold 1/4 median train_loss: 0.22535063326358795, std train_loss 0.0\n",
      "Fold 1/4 median val_mee: 0.30409735441207886, std val_mee 0.0\n",
      "Fold 1/4 median train_mee: 0.31387028098106384, train_mee 0.0\n",
      "\n",
      "Executing fold 2/4\n"
     ]
    },
    {
     "name": "stderr",
     "output_type": "stream",
     "text": [
      "100%|█████████████████████████████████████████████| 1/1 [00:19<00:00, 19.43s/it]\n"
     ]
    },
    {
     "name": "stdout",
     "output_type": "stream",
     "text": [
      "Fold 2/4 median val_loss: 0.21266746520996094, std val_loss 0.0\n",
      "Fold 2/4 median train_loss: 0.2061963677406311, std train_loss 0.0\n",
      "Fold 2/4 median val_mee: 0.32597312331199646, std val_mee 0.0\n",
      "Fold 2/4 median train_mee: 0.31252652406692505, train_mee 0.0\n",
      "\n",
      "Executing fold 3/4\n"
     ]
    },
    {
     "name": "stderr",
     "output_type": "stream",
     "text": [
      "100%|█████████████████████████████████████████████| 1/1 [00:18<00:00, 18.36s/it]\n"
     ]
    },
    {
     "name": "stdout",
     "output_type": "stream",
     "text": [
      "Fold 3/4 median val_loss: 0.2385149747133255, std val_loss 0.0\n",
      "Fold 3/4 median train_loss: 0.21192623674869537, std train_loss 0.0\n",
      "Fold 3/4 median val_mee: 0.3327837884426117, std val_mee 0.0\n",
      "Fold 3/4 median train_mee: 0.301665723323822, train_mee 0.0\n",
      "\n",
      "Executing fold 4/4\n"
     ]
    },
    {
     "name": "stderr",
     "output_type": "stream",
     "text": [
      "100%|█████████████████████████████████████████████| 1/1 [00:19<00:00, 19.34s/it]\n"
     ]
    },
    {
     "name": "stdout",
     "output_type": "stream",
     "text": [
      "Fold 4/4 median val_loss: 0.21067306399345398, std val_loss 0.0\n",
      "Fold 4/4 median train_loss: 0.2187294214963913, std train_loss 0.0\n",
      "Fold 4/4 median val_mee: 0.30538496375083923, std val_mee 0.0\n",
      "Fold 4/4 median train_mee: 0.3137076795101166, train_mee 0.0\n",
      "\n",
      "Mean val_loss: 0.22152253612875938, std val_loss: 0.01109303617473206\n",
      "Mean train_loss: 0.21555066481232643, std train_loss: 0.007189979627860088\n",
      "Mean val_mee: 0.31705980747938156, std val_mee: 0.01256003525146204\n",
      "Mean train_mee: 0.31705980747938156, std train_mee: 0.005093771805147169\n",
      "\n",
      "\n",
      "\n",
      "Testing configuration 77/180:\n",
      "{'batch_size': 16, 'learning_rate': 0.2, 'max_epochs': 500, 'momentum': 0.2, 'initialization': {'type': 'default'}, 'early_stopping': {'monitor': 'val_loss', 'patience': 20, 'delta': 0.01}, 'task': 'regression', 'trials_train': 1, 'trials_final': 5, 'nesterov': False, 'learning_rate_decay': {'epochs': 100, 'lr_final': 0.01}, 'regularization': {'method': 'l1', 'value': 0.001}, 'units_1': 50, 'activations_1': 'tanh', 'units_2': 50, 'activations_2': 'relu', 'units_3': 50, 'activations_3': 'tanh'}\n",
      "\n",
      "Executing fold 1/4\n"
     ]
    },
    {
     "name": "stderr",
     "output_type": "stream",
     "text": [
      "100%|█████████████████████████████████████████████| 1/1 [00:19<00:00, 19.16s/it]\n"
     ]
    },
    {
     "name": "stdout",
     "output_type": "stream",
     "text": [
      "Fold 1/4 median val_loss: 0.21313977241516113, std val_loss 0.0\n",
      "Fold 1/4 median train_loss: 0.21928933262825012, std train_loss 0.0\n",
      "Fold 1/4 median val_mee: 0.3069402575492859, std val_mee 0.0\n",
      "Fold 1/4 median train_mee: 0.31706956028938293, train_mee 0.0\n",
      "\n",
      "Executing fold 2/4\n"
     ]
    },
    {
     "name": "stderr",
     "output_type": "stream",
     "text": [
      "100%|█████████████████████████████████████████████| 1/1 [00:19<00:00, 19.50s/it]\n"
     ]
    },
    {
     "name": "stdout",
     "output_type": "stream",
     "text": [
      "Fold 2/4 median val_loss: 0.20921261608600616, std val_loss 0.0\n",
      "Fold 2/4 median train_loss: 0.21355877816677094, std train_loss 0.0\n",
      "Fold 2/4 median val_mee: 0.30469033122062683, std val_mee 0.0\n",
      "Fold 2/4 median train_mee: 0.31412720680236816, train_mee 0.0\n",
      "\n",
      "Executing fold 3/4\n"
     ]
    },
    {
     "name": "stderr",
     "output_type": "stream",
     "text": [
      "100%|█████████████████████████████████████████████| 1/1 [00:18<00:00, 18.34s/it]\n"
     ]
    },
    {
     "name": "stdout",
     "output_type": "stream",
     "text": [
      "Fold 3/4 median val_loss: 0.2377375364303589, std val_loss 0.0\n",
      "Fold 3/4 median train_loss: 0.2193150669336319, std train_loss 0.0\n",
      "Fold 3/4 median val_mee: 0.3242456912994385, std val_mee 0.0\n",
      "Fold 3/4 median train_mee: 0.30330607295036316, train_mee 0.0\n",
      "\n",
      "Executing fold 4/4\n"
     ]
    },
    {
     "name": "stderr",
     "output_type": "stream",
     "text": [
      "100%|█████████████████████████████████████████████| 1/1 [00:20<00:00, 21.00s/it]\n"
     ]
    },
    {
     "name": "stdout",
     "output_type": "stream",
     "text": [
      "Fold 4/4 median val_loss: 0.23080530762672424, std val_loss 0.0\n",
      "Fold 4/4 median train_loss: 0.21312977373600006, std train_loss 0.0\n",
      "Fold 4/4 median val_mee: 0.3385644555091858, std val_mee 0.0\n",
      "Fold 4/4 median train_mee: 0.3074686527252197, train_mee 0.0\n",
      "\n",
      "Mean val_loss: 0.2227238081395626, std val_loss: 0.01188621809729172\n",
      "Mean train_loss: 0.21632323786616325, std train_loss: 0.0029828346370035616\n",
      "Mean val_mee: 0.31861018389463425, std val_mee: 0.013782972998856486\n",
      "Mean train_mee: 0.31861018389463425, std train_mee: 0.005414268212630838\n",
      "\n",
      "\n",
      "\n",
      "Testing configuration 78/180:\n",
      "{'batch_size': 16, 'learning_rate': 0.2, 'max_epochs': 500, 'momentum': 0.2, 'initialization': {'type': 'default'}, 'early_stopping': {'monitor': 'val_loss', 'patience': 20, 'delta': 0.01}, 'task': 'regression', 'trials_train': 1, 'trials_final': 5, 'nesterov': False, 'learning_rate_decay': {'epochs': 100, 'lr_final': 0.01}, 'regularization': {'method': 'l1', 'value': 0.001}, 'units_1': 50, 'activations_1': 'tanh', 'units_2': 50, 'activations_2': 'relu', 'units_3': 50, 'activations_3': 'tanh'}\n",
      "\n",
      "Executing fold 1/4\n"
     ]
    },
    {
     "name": "stderr",
     "output_type": "stream",
     "text": [
      "100%|█████████████████████████████████████████████| 1/1 [00:18<00:00, 18.93s/it]\n"
     ]
    },
    {
     "name": "stdout",
     "output_type": "stream",
     "text": [
      "Fold 1/4 median val_loss: 0.22328658401966095, std val_loss 0.0\n",
      "Fold 1/4 median train_loss: 0.2132955640554428, std train_loss 0.0\n",
      "Fold 1/4 median val_mee: 0.3137896656990051, std val_mee 0.0\n",
      "Fold 1/4 median train_mee: 0.30809831619262695, train_mee 0.0\n",
      "\n",
      "Executing fold 2/4\n"
     ]
    },
    {
     "name": "stderr",
     "output_type": "stream",
     "text": [
      "100%|█████████████████████████████████████████████| 1/1 [00:20<00:00, 20.88s/it]\n"
     ]
    },
    {
     "name": "stdout",
     "output_type": "stream",
     "text": [
      "Fold 2/4 median val_loss: 0.23701438307762146, std val_loss 0.0\n",
      "Fold 2/4 median train_loss: 0.21123097836971283, std train_loss 0.0\n",
      "Fold 2/4 median val_mee: 0.34113678336143494, std val_mee 0.0\n",
      "Fold 2/4 median train_mee: 0.3018431067466736, train_mee 0.0\n",
      "\n",
      "Executing fold 3/4\n"
     ]
    },
    {
     "name": "stderr",
     "output_type": "stream",
     "text": [
      "100%|█████████████████████████████████████████████| 1/1 [00:16<00:00, 16.06s/it]\n"
     ]
    },
    {
     "name": "stdout",
     "output_type": "stream",
     "text": [
      "Fold 3/4 median val_loss: 0.23165173828601837, std val_loss 0.0\n",
      "Fold 3/4 median train_loss: 0.23553453385829926, std train_loss 0.0\n",
      "Fold 3/4 median val_mee: 0.31568384170532227, std val_mee 0.0\n",
      "Fold 3/4 median train_mee: 0.31767454743385315, train_mee 0.0\n",
      "\n",
      "Executing fold 4/4\n"
     ]
    },
    {
     "name": "stderr",
     "output_type": "stream",
     "text": [
      "100%|█████████████████████████████████████████████| 1/1 [00:20<00:00, 20.98s/it]\n"
     ]
    },
    {
     "name": "stdout",
     "output_type": "stream",
     "text": [
      "Fold 4/4 median val_loss: 0.204055517911911, std val_loss 0.0\n",
      "Fold 4/4 median train_loss: 0.21740642189979553, std train_loss 0.0\n",
      "Fold 4/4 median val_mee: 0.2947097420692444, std val_mee 0.0\n",
      "Fold 4/4 median train_mee: 0.3141481578350067, train_mee 0.0\n",
      "\n",
      "Mean val_loss: 0.22400205582380295, std val_loss: 0.012512139874000957\n",
      "Mean train_loss: 0.2193668745458126, std train_loss: 0.009595444229954403\n",
      "Mean val_mee: 0.3163300082087517, std val_mee: 0.01650517246680483\n",
      "Mean train_mee: 0.3163300082087517, std train_mee: 0.006030737175177459\n",
      "\n",
      "\n",
      "\n",
      "Testing configuration 79/180:\n",
      "{'batch_size': 16, 'learning_rate': 0.2, 'max_epochs': 500, 'momentum': 0.2, 'initialization': {'type': 'default'}, 'early_stopping': {'monitor': 'val_loss', 'patience': 20, 'delta': 0.01}, 'task': 'regression', 'trials_train': 1, 'trials_final': 5, 'nesterov': False, 'learning_rate_decay': {'epochs': 100, 'lr_final': 0.01}, 'regularization': {'method': 'l1', 'value': 0.001}, 'units_1': 50, 'activations_1': 'tanh', 'units_2': 50, 'activations_2': 'relu', 'units_3': 50, 'activations_3': 'tanh'}\n",
      "\n",
      "Executing fold 1/4\n"
     ]
    },
    {
     "name": "stderr",
     "output_type": "stream",
     "text": [
      "100%|█████████████████████████████████████████████| 1/1 [00:18<00:00, 18.46s/it]\n"
     ]
    },
    {
     "name": "stdout",
     "output_type": "stream",
     "text": [
      "Fold 1/4 median val_loss: 0.2450910061597824, std val_loss 0.0\n",
      "Fold 1/4 median train_loss: 0.22990047931671143, std train_loss 0.0\n",
      "Fold 1/4 median val_mee: 0.3272693455219269, std val_mee 0.0\n",
      "Fold 1/4 median train_mee: 0.3089730441570282, train_mee 0.0\n",
      "\n",
      "Executing fold 2/4\n"
     ]
    },
    {
     "name": "stderr",
     "output_type": "stream",
     "text": [
      "100%|█████████████████████████████████████████████| 1/1 [00:19<00:00, 19.79s/it]\n"
     ]
    },
    {
     "name": "stdout",
     "output_type": "stream",
     "text": [
      "Fold 2/4 median val_loss: 0.2160179615020752, std val_loss 0.0\n",
      "Fold 2/4 median train_loss: 0.22521232068538666, std train_loss 0.0\n",
      "Fold 2/4 median val_mee: 0.30886310338974, std val_mee 0.0\n",
      "Fold 2/4 median train_mee: 0.31141331791877747, train_mee 0.0\n",
      "\n",
      "Executing fold 3/4\n"
     ]
    },
    {
     "name": "stderr",
     "output_type": "stream",
     "text": [
      "100%|█████████████████████████████████████████████| 1/1 [00:18<00:00, 18.97s/it]\n"
     ]
    },
    {
     "name": "stdout",
     "output_type": "stream",
     "text": [
      "Fold 3/4 median val_loss: 0.22994498908519745, std val_loss 0.0\n",
      "Fold 3/4 median train_loss: 0.23110182583332062, std train_loss 0.0\n",
      "Fold 3/4 median val_mee: 0.31913214921951294, std val_mee 0.0\n",
      "Fold 3/4 median train_mee: 0.3156246244907379, train_mee 0.0\n",
      "\n",
      "Executing fold 4/4\n"
     ]
    },
    {
     "name": "stderr",
     "output_type": "stream",
     "text": [
      "100%|█████████████████████████████████████████████| 1/1 [00:20<00:00, 20.13s/it]\n"
     ]
    },
    {
     "name": "stdout",
     "output_type": "stream",
     "text": [
      "Fold 4/4 median val_loss: 0.2371533215045929, std val_loss 0.0\n",
      "Fold 4/4 median train_loss: 0.21064428985118866, std train_loss 0.0\n",
      "Fold 4/4 median val_mee: 0.3223268687725067, std val_mee 0.0\n",
      "Fold 4/4 median train_mee: 0.3040032684803009, train_mee 0.0\n",
      "\n",
      "Mean val_loss: 0.232051819562912, std val_loss: 0.010695431830294035\n",
      "Mean train_loss: 0.22421472892165184, std train_loss: 0.00813805669859001\n",
      "Mean val_mee: 0.31939786672592163, std val_mee: 0.00673778665006968\n",
      "Mean train_mee: 0.31939786672592163, std train_mee: 0.004202655250627948\n",
      "\n",
      "\n",
      "\n",
      "Testing configuration 80/180:\n",
      "{'batch_size': 16, 'learning_rate': 0.2, 'max_epochs': 500, 'momentum': 0.2, 'initialization': {'type': 'default'}, 'early_stopping': {'monitor': 'val_loss', 'patience': 20, 'delta': 0.01}, 'task': 'regression', 'trials_train': 1, 'trials_final': 5, 'nesterov': False, 'learning_rate_decay': {'epochs': 100, 'lr_final': 0.01}, 'regularization': {'method': 'l1', 'value': 0.001}, 'units_1': 50, 'activations_1': 'tanh', 'units_2': 50, 'activations_2': 'relu', 'units_3': 50, 'activations_3': 'tanh'}\n",
      "\n",
      "Executing fold 1/4\n"
     ]
    },
    {
     "name": "stderr",
     "output_type": "stream",
     "text": [
      "100%|█████████████████████████████████████████████| 1/1 [00:20<00:00, 20.30s/it]\n"
     ]
    },
    {
     "name": "stdout",
     "output_type": "stream",
     "text": [
      "Fold 1/4 median val_loss: 0.22125504910945892, std val_loss 0.0\n",
      "Fold 1/4 median train_loss: 0.21761289238929749, std train_loss 0.0\n",
      "Fold 1/4 median val_mee: 0.3209001123905182, std val_mee 0.0\n",
      "Fold 1/4 median train_mee: 0.31517305970191956, train_mee 0.0\n",
      "\n",
      "Executing fold 2/4\n"
     ]
    },
    {
     "name": "stderr",
     "output_type": "stream",
     "text": [
      "100%|█████████████████████████████████████████████| 1/1 [00:20<00:00, 20.86s/it]\n"
     ]
    },
    {
     "name": "stdout",
     "output_type": "stream",
     "text": [
      "Fold 2/4 median val_loss: 0.21828074753284454, std val_loss 0.0\n",
      "Fold 2/4 median train_loss: 0.21781791746616364, std train_loss 0.0\n",
      "Fold 2/4 median val_mee: 0.31513136625289917, std val_mee 0.0\n",
      "Fold 2/4 median train_mee: 0.31059232354164124, train_mee 0.0\n",
      "\n",
      "Executing fold 3/4\n"
     ]
    },
    {
     "name": "stderr",
     "output_type": "stream",
     "text": [
      "100%|█████████████████████████████████████████████| 1/1 [00:15<00:00, 15.70s/it]\n"
     ]
    },
    {
     "name": "stdout",
     "output_type": "stream",
     "text": [
      "Fold 3/4 median val_loss: 0.25118082761764526, std val_loss 0.0\n",
      "Fold 3/4 median train_loss: 0.24117997288703918, std train_loss 0.0\n",
      "Fold 3/4 median val_mee: 0.3148408532142639, std val_mee 0.0\n",
      "Fold 3/4 median train_mee: 0.31026220321655273, train_mee 0.0\n",
      "\n",
      "Executing fold 4/4\n"
     ]
    },
    {
     "name": "stderr",
     "output_type": "stream",
     "text": [
      "100%|█████████████████████████████████████████████| 1/1 [00:18<00:00, 18.63s/it]\n"
     ]
    },
    {
     "name": "stdout",
     "output_type": "stream",
     "text": [
      "Fold 4/4 median val_loss: 0.22890976071357727, std val_loss 0.0\n",
      "Fold 4/4 median train_loss: 0.21328775584697723, std train_loss 0.0\n",
      "Fold 4/4 median val_mee: 0.32478392124176025, std val_mee 0.0\n",
      "Fold 4/4 median train_mee: 0.30947038531303406, train_mee 0.0\n",
      "\n",
      "Mean val_loss: 0.2299065962433815, std val_loss: 0.012880180779883938\n",
      "Mean train_loss: 0.22247463464736938, std train_loss: 0.010949999696840258\n",
      "Mean val_mee: 0.3189140632748604, std val_mee: 0.004162314878738799\n",
      "Mean train_mee: 0.3189140632748604, std train_mee: 0.0022306788594755856\n",
      "\n",
      "\n",
      "\n",
      "Testing configuration 81/180:\n",
      "{'batch_size': 16, 'learning_rate': 0.2, 'max_epochs': 500, 'momentum': 0.2, 'initialization': {'type': 'default'}, 'early_stopping': {'monitor': 'val_loss', 'patience': 20, 'delta': 0.01}, 'task': 'regression', 'trials_train': 1, 'trials_final': 5, 'nesterov': False, 'learning_rate_decay': {'epochs': 100, 'lr_final': 0.01}, 'regularization': {'method': 'l1', 'value': 0.0001}, 'units_1': 50, 'activations_1': 'tanh', 'units_2': 50, 'activations_2': 'relu', 'units_3': 50, 'activations_3': 'tanh'}\n",
      "\n",
      "Executing fold 1/4\n"
     ]
    },
    {
     "name": "stderr",
     "output_type": "stream",
     "text": [
      "100%|█████████████████████████████████████████████| 1/1 [00:02<00:00,  2.71s/it]\n"
     ]
    },
    {
     "name": "stdout",
     "output_type": "stream",
     "text": [
      "Fold 1/4 median val_loss: 0.17288370430469513, std val_loss 0.0\n",
      "Fold 1/4 median train_loss: 0.13314920663833618, std train_loss 0.0\n",
      "Fold 1/4 median val_mee: 0.34574398398399353, std val_mee 0.0\n",
      "Fold 1/4 median train_mee: 0.2795322835445404, train_mee 0.0\n",
      "\n",
      "Executing fold 2/4\n"
     ]
    },
    {
     "name": "stderr",
     "output_type": "stream",
     "text": [
      "100%|█████████████████████████████████████████████| 1/1 [00:03<00:00,  3.06s/it]\n"
     ]
    },
    {
     "name": "stdout",
     "output_type": "stream",
     "text": [
      "Fold 2/4 median val_loss: 0.15752443671226501, std val_loss 0.0\n",
      "Fold 2/4 median train_loss: 0.1392616182565689, std train_loss 0.0\n",
      "Fold 2/4 median val_mee: 0.31873178482055664, std val_mee 0.0\n",
      "Fold 2/4 median train_mee: 0.2880263924598694, train_mee 0.0\n",
      "\n",
      "Executing fold 3/4\n"
     ]
    },
    {
     "name": "stderr",
     "output_type": "stream",
     "text": [
      "100%|█████████████████████████████████████████████| 1/1 [00:02<00:00,  2.24s/it]\n"
     ]
    },
    {
     "name": "stdout",
     "output_type": "stream",
     "text": [
      "Fold 3/4 median val_loss: 0.14178889989852905, std val_loss 0.0\n",
      "Fold 3/4 median train_loss: 0.14356620609760284, std train_loss 0.0\n",
      "Fold 3/4 median val_mee: 0.292904794216156, std val_mee 0.0\n",
      "Fold 3/4 median train_mee: 0.2964298725128174, train_mee 0.0\n",
      "\n",
      "Executing fold 4/4\n"
     ]
    },
    {
     "name": "stderr",
     "output_type": "stream",
     "text": [
      "100%|█████████████████████████████████████████████| 1/1 [00:02<00:00,  2.95s/it]\n"
     ]
    },
    {
     "name": "stdout",
     "output_type": "stream",
     "text": [
      "Fold 4/4 median val_loss: 0.1440027356147766, std val_loss 0.0\n",
      "Fold 4/4 median train_loss: 0.14188721776008606, std train_loss 0.0\n",
      "Fold 4/4 median val_mee: 0.2946915030479431, std val_mee 0.0\n",
      "Fold 4/4 median train_mee: 0.2953202426433563, train_mee 0.0\n",
      "\n",
      "Mean val_loss: 0.15404994413256645, std val_loss: 0.012430428649252319\n",
      "Mean train_loss: 0.1394660621881485, std train_loss: 0.003956565295180728\n",
      "Mean val_mee: 0.3130180165171623, std val_mee: 0.02147113703400532\n",
      "Mean train_mee: 0.3130180165171623, std train_mee: 0.0067638194538054775\n",
      "\n",
      "\n",
      "\n",
      "Testing configuration 82/180:\n",
      "{'batch_size': 16, 'learning_rate': 0.2, 'max_epochs': 500, 'momentum': 0.2, 'initialization': {'type': 'default'}, 'early_stopping': {'monitor': 'val_loss', 'patience': 20, 'delta': 0.01}, 'task': 'regression', 'trials_train': 1, 'trials_final': 5, 'nesterov': False, 'learning_rate_decay': {'epochs': 100, 'lr_final': 0.01}, 'regularization': {'method': 'l1', 'value': 0.0001}, 'units_1': 50, 'activations_1': 'tanh', 'units_2': 50, 'activations_2': 'relu', 'units_3': 50, 'activations_3': 'tanh'}\n",
      "\n",
      "Executing fold 1/4\n"
     ]
    },
    {
     "name": "stderr",
     "output_type": "stream",
     "text": [
      "100%|█████████████████████████████████████████████| 1/1 [00:02<00:00,  2.88s/it]\n"
     ]
    },
    {
     "name": "stdout",
     "output_type": "stream",
     "text": [
      "Fold 1/4 median val_loss: 0.14210093021392822, std val_loss 0.0\n",
      "Fold 1/4 median train_loss: 0.14392393827438354, std train_loss 0.0\n",
      "Fold 1/4 median val_mee: 0.29035457968711853, std val_mee 0.0\n",
      "Fold 1/4 median train_mee: 0.29751870036125183, train_mee 0.0\n",
      "\n",
      "Executing fold 2/4\n"
     ]
    },
    {
     "name": "stderr",
     "output_type": "stream",
     "text": [
      "100%|█████████████████████████████████████████████| 1/1 [00:02<00:00,  2.65s/it]\n"
     ]
    },
    {
     "name": "stdout",
     "output_type": "stream",
     "text": [
      "Fold 2/4 median val_loss: 0.16218821704387665, std val_loss 0.0\n",
      "Fold 2/4 median train_loss: 0.13708633184432983, std train_loss 0.0\n",
      "Fold 2/4 median val_mee: 0.31978875398635864, std val_mee 0.0\n",
      "Fold 2/4 median train_mee: 0.2848966121673584, train_mee 0.0\n",
      "\n",
      "Executing fold 3/4\n"
     ]
    },
    {
     "name": "stderr",
     "output_type": "stream",
     "text": [
      "100%|█████████████████████████████████████████████| 1/1 [00:03<00:00,  3.22s/it]\n"
     ]
    },
    {
     "name": "stdout",
     "output_type": "stream",
     "text": [
      "Fold 3/4 median val_loss: 0.15097862482070923, std val_loss 0.0\n",
      "Fold 3/4 median train_loss: 0.1408918797969818, std train_loss 0.0\n",
      "Fold 3/4 median val_mee: 0.306193083524704, std val_mee 0.0\n",
      "Fold 3/4 median train_mee: 0.2872684597969055, train_mee 0.0\n",
      "\n",
      "Executing fold 4/4\n"
     ]
    },
    {
     "name": "stderr",
     "output_type": "stream",
     "text": [
      "100%|█████████████████████████████████████████████| 1/1 [00:02<00:00,  2.40s/it]\n"
     ]
    },
    {
     "name": "stdout",
     "output_type": "stream",
     "text": [
      "Fold 4/4 median val_loss: 0.1523178368806839, std val_loss 0.0\n",
      "Fold 4/4 median train_loss: 0.13948187232017517, std train_loss 0.0\n",
      "Fold 4/4 median val_mee: 0.322468638420105, std val_mee 0.0\n",
      "Fold 4/4 median train_mee: 0.28658246994018555, train_mee 0.0\n",
      "\n",
      "Mean val_loss: 0.1518964022397995, std val_loss: 0.007122019494472366\n",
      "Mean train_loss: 0.1403460055589676, std train_loss: 0.002473448007340036\n",
      "Mean val_mee: 0.30970126390457153, std val_mee: 0.012760925005241381\n",
      "Mean train_mee: 0.30970126390457153, std train_mee: 0.004955577902194928\n",
      "\n",
      "\n",
      "\n",
      "Testing configuration 83/180:\n",
      "{'batch_size': 16, 'learning_rate': 0.2, 'max_epochs': 500, 'momentum': 0.2, 'initialization': {'type': 'default'}, 'early_stopping': {'monitor': 'val_loss', 'patience': 20, 'delta': 0.01}, 'task': 'regression', 'trials_train': 1, 'trials_final': 5, 'nesterov': False, 'learning_rate_decay': {'epochs': 100, 'lr_final': 0.01}, 'regularization': {'method': 'l1', 'value': 0.0001}, 'units_1': 50, 'activations_1': 'tanh', 'units_2': 50, 'activations_2': 'relu', 'units_3': 50, 'activations_3': 'tanh'}\n",
      "\n",
      "Executing fold 1/4\n"
     ]
    },
    {
     "name": "stderr",
     "output_type": "stream",
     "text": [
      "100%|█████████████████████████████████████████████| 1/1 [00:03<00:00,  3.81s/it]\n"
     ]
    },
    {
     "name": "stdout",
     "output_type": "stream",
     "text": [
      "Fold 1/4 median val_loss: 0.14299388229846954, std val_loss 0.0\n",
      "Fold 1/4 median train_loss: 0.14148084819316864, std train_loss 0.0\n",
      "Fold 1/4 median val_mee: 0.3003162741661072, std val_mee 0.0\n",
      "Fold 1/4 median train_mee: 0.2906314432621002, train_mee 0.0\n",
      "\n",
      "Executing fold 2/4\n"
     ]
    },
    {
     "name": "stderr",
     "output_type": "stream",
     "text": [
      "100%|█████████████████████████████████████████████| 1/1 [00:05<00:00,  5.13s/it]\n"
     ]
    },
    {
     "name": "stdout",
     "output_type": "stream",
     "text": [
      "Fold 2/4 median val_loss: 0.16847509145736694, std val_loss 0.0\n",
      "Fold 2/4 median train_loss: 0.1341269612312317, std train_loss 0.0\n",
      "Fold 2/4 median val_mee: 0.3378198742866516, std val_mee 0.0\n",
      "Fold 2/4 median train_mee: 0.27993544936180115, train_mee 0.0\n",
      "\n",
      "Executing fold 3/4\n"
     ]
    },
    {
     "name": "stderr",
     "output_type": "stream",
     "text": [
      "100%|█████████████████████████████████████████████| 1/1 [00:03<00:00,  3.00s/it]\n"
     ]
    },
    {
     "name": "stdout",
     "output_type": "stream",
     "text": [
      "Fold 3/4 median val_loss: 0.14557792246341705, std val_loss 0.0\n",
      "Fold 3/4 median train_loss: 0.14415432512760162, std train_loss 0.0\n",
      "Fold 3/4 median val_mee: 0.28763872385025024, std val_mee 0.0\n",
      "Fold 3/4 median train_mee: 0.2991103529930115, train_mee 0.0\n",
      "\n",
      "Executing fold 4/4\n"
     ]
    },
    {
     "name": "stderr",
     "output_type": "stream",
     "text": [
      "100%|█████████████████████████████████████████████| 1/1 [00:03<00:00,  3.88s/it]\n"
     ]
    },
    {
     "name": "stdout",
     "output_type": "stream",
     "text": [
      "Fold 4/4 median val_loss: 0.15208278596401215, std val_loss 0.0\n",
      "Fold 4/4 median train_loss: 0.14165596663951874, std train_loss 0.0\n",
      "Fold 4/4 median val_mee: 0.31030702590942383, std val_mee 0.0\n",
      "Fold 4/4 median train_mee: 0.29266610741615295, train_mee 0.0\n",
      "\n",
      "Mean val_loss: 0.15228242054581642, std val_loss: 0.009918035119484973\n",
      "Mean train_loss: 0.14035452529788017, std train_loss: 0.003747778868221134\n",
      "Mean val_mee: 0.3090204745531082, std val_mee: 0.018466205666711106\n",
      "Mean train_mee: 0.3090204745531082, std train_mee: 0.00689977779885818\n",
      "\n",
      "\n",
      "\n",
      "Testing configuration 84/180:\n",
      "{'batch_size': 16, 'learning_rate': 0.2, 'max_epochs': 500, 'momentum': 0.2, 'initialization': {'type': 'default'}, 'early_stopping': {'monitor': 'val_loss', 'patience': 20, 'delta': 0.01}, 'task': 'regression', 'trials_train': 1, 'trials_final': 5, 'nesterov': False, 'learning_rate_decay': {'epochs': 100, 'lr_final': 0.01}, 'regularization': {'method': 'l1', 'value': 0.0001}, 'units_1': 50, 'activations_1': 'tanh', 'units_2': 50, 'activations_2': 'relu', 'units_3': 50, 'activations_3': 'tanh'}\n",
      "\n",
      "Executing fold 1/4\n"
     ]
    },
    {
     "name": "stderr",
     "output_type": "stream",
     "text": [
      "100%|█████████████████████████████████████████████| 1/1 [00:02<00:00,  2.90s/it]\n"
     ]
    },
    {
     "name": "stdout",
     "output_type": "stream",
     "text": [
      "Fold 1/4 median val_loss: 0.16247901320457458, std val_loss 0.0\n",
      "Fold 1/4 median train_loss: 0.13917984068393707, std train_loss 0.0\n",
      "Fold 1/4 median val_mee: 0.3248863220214844, std val_mee 0.0\n",
      "Fold 1/4 median train_mee: 0.28923845291137695, train_mee 0.0\n",
      "\n",
      "Executing fold 2/4\n"
     ]
    },
    {
     "name": "stderr",
     "output_type": "stream",
     "text": [
      "100%|█████████████████████████████████████████████| 1/1 [00:03<00:00,  3.75s/it]\n"
     ]
    },
    {
     "name": "stdout",
     "output_type": "stream",
     "text": [
      "Fold 2/4 median val_loss: 0.13701367378234863, std val_loss 0.0\n",
      "Fold 2/4 median train_loss: 0.14568667113780975, std train_loss 0.0\n",
      "Fold 2/4 median val_mee: 0.2755122780799866, std val_mee 0.0\n",
      "Fold 2/4 median train_mee: 0.29958653450012207, train_mee 0.0\n",
      "\n",
      "Executing fold 3/4\n"
     ]
    },
    {
     "name": "stderr",
     "output_type": "stream",
     "text": [
      "100%|█████████████████████████████████████████████| 1/1 [00:03<00:00,  3.45s/it]\n"
     ]
    },
    {
     "name": "stdout",
     "output_type": "stream",
     "text": [
      "Fold 3/4 median val_loss: 0.1564815640449524, std val_loss 0.0\n",
      "Fold 3/4 median train_loss: 0.1360752135515213, std train_loss 0.0\n",
      "Fold 3/4 median val_mee: 0.3210882842540741, std val_mee 0.0\n",
      "Fold 3/4 median train_mee: 0.284000426530838, train_mee 0.0\n",
      "\n",
      "Executing fold 4/4\n"
     ]
    },
    {
     "name": "stderr",
     "output_type": "stream",
     "text": [
      "100%|█████████████████████████████████████████████| 1/1 [00:04<00:00,  4.95s/it]\n"
     ]
    },
    {
     "name": "stdout",
     "output_type": "stream",
     "text": [
      "Fold 4/4 median val_loss: 0.15816552937030792, std val_loss 0.0\n",
      "Fold 4/4 median train_loss: 0.1392049640417099, std train_loss 0.0\n",
      "Fold 4/4 median val_mee: 0.32910412549972534, std val_mee 0.0\n",
      "Fold 4/4 median train_mee: 0.28966084122657776, train_mee 0.0\n",
      "\n",
      "Mean val_loss: 0.15353494510054588, std val_loss: 0.009786133481895361\n",
      "Mean train_loss: 0.1400366723537445, std train_loss: 0.0035014833045561894\n",
      "Mean val_mee: 0.3126477524638176, std val_mee: 0.021626839996456374\n",
      "Mean train_mee: 0.3126477524638176, std train_mee: 0.005635737351590379\n",
      "\n",
      "\n",
      "\n",
      "Testing configuration 85/180:\n",
      "{'batch_size': 16, 'learning_rate': 0.2, 'max_epochs': 500, 'momentum': 0.2, 'initialization': {'type': 'default'}, 'early_stopping': {'monitor': 'val_loss', 'patience': 20, 'delta': 0.01}, 'task': 'regression', 'trials_train': 1, 'trials_final': 5, 'nesterov': False, 'learning_rate_decay': {'epochs': 100, 'lr_final': 0.01}, 'regularization': {'method': 'l1', 'value': 0.0001}, 'units_1': 50, 'activations_1': 'tanh', 'units_2': 50, 'activations_2': 'relu', 'units_3': 50, 'activations_3': 'tanh'}\n",
      "\n",
      "Executing fold 1/4\n"
     ]
    },
    {
     "name": "stderr",
     "output_type": "stream",
     "text": [
      "100%|█████████████████████████████████████████████| 1/1 [00:02<00:00,  2.87s/it]\n"
     ]
    },
    {
     "name": "stdout",
     "output_type": "stream",
     "text": [
      "Fold 1/4 median val_loss: 0.14237432181835175, std val_loss 0.0\n",
      "Fold 1/4 median train_loss: 0.14285266399383545, std train_loss 0.0\n",
      "Fold 1/4 median val_mee: 0.2940959632396698, std val_mee 0.0\n",
      "Fold 1/4 median train_mee: 0.29575642943382263, train_mee 0.0\n",
      "\n",
      "Executing fold 2/4\n"
     ]
    },
    {
     "name": "stderr",
     "output_type": "stream",
     "text": [
      "100%|█████████████████████████████████████████████| 1/1 [00:02<00:00,  2.97s/it]\n"
     ]
    },
    {
     "name": "stdout",
     "output_type": "stream",
     "text": [
      "Fold 2/4 median val_loss: 0.15297304093837738, std val_loss 0.0\n",
      "Fold 2/4 median train_loss: 0.14193320274353027, std train_loss 0.0\n",
      "Fold 2/4 median val_mee: 0.30876970291137695, std val_mee 0.0\n",
      "Fold 2/4 median train_mee: 0.2920286953449249, train_mee 0.0\n",
      "\n",
      "Executing fold 3/4\n"
     ]
    },
    {
     "name": "stderr",
     "output_type": "stream",
     "text": [
      "100%|█████████████████████████████████████████████| 1/1 [00:02<00:00,  2.63s/it]\n"
     ]
    },
    {
     "name": "stdout",
     "output_type": "stream",
     "text": [
      "Fold 3/4 median val_loss: 0.1615137755870819, std val_loss 0.0\n",
      "Fold 3/4 median train_loss: 0.13606633245944977, std train_loss 0.0\n",
      "Fold 3/4 median val_mee: 0.31842076778411865, std val_mee 0.0\n",
      "Fold 3/4 median train_mee: 0.2821720540523529, train_mee 0.0\n",
      "\n",
      "Executing fold 4/4\n"
     ]
    },
    {
     "name": "stderr",
     "output_type": "stream",
     "text": [
      "100%|█████████████████████████████████████████████| 1/1 [00:02<00:00,  2.32s/it]\n"
     ]
    },
    {
     "name": "stdout",
     "output_type": "stream",
     "text": [
      "Fold 4/4 median val_loss: 0.15750576555728912, std val_loss 0.0\n",
      "Fold 4/4 median train_loss: 0.1410103738307953, std train_loss 0.0\n",
      "Fold 4/4 median val_mee: 0.3258398771286011, std val_mee 0.0\n",
      "Fold 4/4 median train_mee: 0.2882060408592224, train_mee 0.0\n",
      "\n",
      "Mean val_loss: 0.15359172597527504, std val_loss: 0.007146528931868663\n",
      "Mean train_loss: 0.1404656432569027, std train_loss: 0.002622130132928992\n",
      "Mean val_mee: 0.3117815777659416, std val_mee: 0.011869782815821111\n",
      "Mean train_mee: 0.3117815777659416, std train_mee: 0.0050225409732191145\n",
      "\n",
      "\n",
      "\n",
      "Testing configuration 86/180:\n",
      "{'batch_size': 16, 'learning_rate': 0.2, 'max_epochs': 500, 'momentum': 0.2, 'initialization': {'type': 'default'}, 'early_stopping': {'monitor': 'val_loss', 'patience': 20, 'delta': 0.01}, 'task': 'regression', 'trials_train': 1, 'trials_final': 5, 'nesterov': False, 'learning_rate_decay': {'epochs': 100, 'lr_final': 0.01}, 'regularization': {'method': 'l1', 'value': 1e-05}, 'units_1': 50, 'activations_1': 'tanh', 'units_2': 50, 'activations_2': 'relu', 'units_3': 50, 'activations_3': 'tanh'}\n",
      "\n",
      "Executing fold 1/4\n"
     ]
    },
    {
     "name": "stderr",
     "output_type": "stream",
     "text": [
      "100%|█████████████████████████████████████████████| 1/1 [00:02<00:00,  2.58s/it]\n"
     ]
    },
    {
     "name": "stdout",
     "output_type": "stream",
     "text": [
      "Fold 1/4 median val_loss: 0.10187719017267227, std val_loss 0.0\n",
      "Fold 1/4 median train_loss: 0.07971370220184326, std train_loss 0.0\n",
      "Fold 1/4 median val_mee: 0.3114549517631531, std val_mee 0.0\n",
      "Fold 1/4 median train_mee: 0.28774604201316833, train_mee 0.0\n",
      "\n",
      "Executing fold 2/4\n"
     ]
    },
    {
     "name": "stderr",
     "output_type": "stream",
     "text": [
      "100%|█████████████████████████████████████████████| 1/1 [00:02<00:00,  2.31s/it]\n"
     ]
    },
    {
     "name": "stdout",
     "output_type": "stream",
     "text": [
      "Fold 2/4 median val_loss: 0.1146404817700386, std val_loss 0.0\n",
      "Fold 2/4 median train_loss: 0.07510564476251602, std train_loss 0.0\n",
      "Fold 2/4 median val_mee: 0.34610992670059204, std val_mee 0.0\n",
      "Fold 2/4 median train_mee: 0.2773283123970032, train_mee 0.0\n",
      "\n",
      "Executing fold 3/4\n"
     ]
    },
    {
     "name": "stderr",
     "output_type": "stream",
     "text": [
      "100%|█████████████████████████████████████████████| 1/1 [00:03<00:00,  3.45s/it]\n"
     ]
    },
    {
     "name": "stdout",
     "output_type": "stream",
     "text": [
      "Fold 3/4 median val_loss: 0.07295888662338257, std val_loss 0.0\n",
      "Fold 3/4 median train_loss: 0.0867253914475441, std train_loss 0.0\n",
      "Fold 3/4 median val_mee: 0.27859145402908325, std val_mee 0.0\n",
      "Fold 3/4 median train_mee: 0.29895302653312683, train_mee 0.0\n",
      "\n",
      "Executing fold 4/4\n"
     ]
    },
    {
     "name": "stderr",
     "output_type": "stream",
     "text": [
      "100%|█████████████████████████████████████████████| 1/1 [00:02<00:00,  2.36s/it]\n"
     ]
    },
    {
     "name": "stdout",
     "output_type": "stream",
     "text": [
      "Fold 4/4 median val_loss: 0.08399834483861923, std val_loss 0.0\n",
      "Fold 4/4 median train_loss: 0.08367637544870377, std train_loss 0.0\n",
      "Fold 4/4 median val_mee: 0.2840486168861389, std val_mee 0.0\n",
      "Fold 4/4 median train_mee: 0.2938409447669983, train_mee 0.0\n",
      "\n",
      "Mean val_loss: 0.09336872585117817, std val_loss: 0.01604094092164407\n",
      "Mean train_loss: 0.08130527846515179, std train_loss: 0.004357989751482079\n",
      "Mean val_mee: 0.3050512373447418, std val_mee: 0.02677710649609338\n",
      "Mean train_mee: 0.3050512373447418, std train_mee: 0.008053345970790724\n",
      "\n",
      "\n",
      "\n",
      "Testing configuration 87/180:\n",
      "{'batch_size': 16, 'learning_rate': 0.2, 'max_epochs': 500, 'momentum': 0.2, 'initialization': {'type': 'default'}, 'early_stopping': {'monitor': 'val_loss', 'patience': 20, 'delta': 0.01}, 'task': 'regression', 'trials_train': 1, 'trials_final': 5, 'nesterov': False, 'learning_rate_decay': {'epochs': 100, 'lr_final': 0.01}, 'regularization': {'method': 'l1', 'value': 1e-05}, 'units_1': 50, 'activations_1': 'tanh', 'units_2': 50, 'activations_2': 'relu', 'units_3': 50, 'activations_3': 'tanh'}\n",
      "\n",
      "Executing fold 1/4\n"
     ]
    },
    {
     "name": "stderr",
     "output_type": "stream",
     "text": [
      "100%|█████████████████████████████████████████████| 1/1 [00:03<00:00,  3.07s/it]\n"
     ]
    },
    {
     "name": "stdout",
     "output_type": "stream",
     "text": [
      "Fold 1/4 median val_loss: 0.10840076208114624, std val_loss 0.0\n",
      "Fold 1/4 median train_loss: 0.0782560482621193, std train_loss 0.0\n",
      "Fold 1/4 median val_mee: 0.3149181008338928, std val_mee 0.0\n",
      "Fold 1/4 median train_mee: 0.28851771354675293, train_mee 0.0\n",
      "\n",
      "Executing fold 2/4\n"
     ]
    },
    {
     "name": "stderr",
     "output_type": "stream",
     "text": [
      "100%|█████████████████████████████████████████████| 1/1 [00:02<00:00,  2.49s/it]\n"
     ]
    },
    {
     "name": "stdout",
     "output_type": "stream",
     "text": [
      "Fold 2/4 median val_loss: 0.08788949996232986, std val_loss 0.0\n",
      "Fold 2/4 median train_loss: 0.08492857217788696, std train_loss 0.0\n",
      "Fold 2/4 median val_mee: 0.30158156156539917, std val_mee 0.0\n",
      "Fold 2/4 median train_mee: 0.295041024684906, train_mee 0.0\n",
      "\n",
      "Executing fold 3/4\n"
     ]
    },
    {
     "name": "stderr",
     "output_type": "stream",
     "text": [
      "100%|█████████████████████████████████████████████| 1/1 [00:03<00:00,  3.33s/it]\n"
     ]
    },
    {
     "name": "stdout",
     "output_type": "stream",
     "text": [
      "Fold 3/4 median val_loss: 0.08853264153003693, std val_loss 0.0\n",
      "Fold 3/4 median train_loss: 0.08225768804550171, std train_loss 0.0\n",
      "Fold 3/4 median val_mee: 0.30289342999458313, std val_mee 0.0\n",
      "Fold 3/4 median train_mee: 0.2876417338848114, train_mee 0.0\n",
      "\n",
      "Executing fold 4/4\n"
     ]
    },
    {
     "name": "stderr",
     "output_type": "stream",
     "text": [
      "100%|█████████████████████████████████████████████| 1/1 [00:02<00:00,  2.65s/it]\n"
     ]
    },
    {
     "name": "stdout",
     "output_type": "stream",
     "text": [
      "Fold 4/4 median val_loss: 0.08879129588603973, std val_loss 0.0\n",
      "Fold 4/4 median train_loss: 0.08084370940923691, std train_loss 0.0\n",
      "Fold 4/4 median val_mee: 0.3101579546928406, std val_mee 0.0\n",
      "Fold 4/4 median train_mee: 0.2888515889644623, train_mee 0.0\n",
      "\n",
      "Mean val_loss: 0.09340354986488819, std val_loss: 0.008664868079770604\n",
      "Mean train_loss: 0.08157150447368622, std train_loss: 0.002411570391439549\n",
      "Mean val_mee: 0.3073877617716789, std val_mee: 0.0054380822486050796\n",
      "Mean train_mee: 0.3073877617716789, std train_mee: 0.002936353707869083\n",
      "\n",
      "\n",
      "\n",
      "Testing configuration 88/180:\n",
      "{'batch_size': 16, 'learning_rate': 0.2, 'max_epochs': 500, 'momentum': 0.2, 'initialization': {'type': 'default'}, 'early_stopping': {'monitor': 'val_loss', 'patience': 20, 'delta': 0.01}, 'task': 'regression', 'trials_train': 1, 'trials_final': 5, 'nesterov': False, 'learning_rate_decay': {'epochs': 100, 'lr_final': 0.01}, 'regularization': {'method': 'l1', 'value': 1e-05}, 'units_1': 50, 'activations_1': 'tanh', 'units_2': 50, 'activations_2': 'relu', 'units_3': 50, 'activations_3': 'tanh'}\n",
      "\n",
      "Executing fold 1/4\n"
     ]
    },
    {
     "name": "stderr",
     "output_type": "stream",
     "text": [
      "100%|█████████████████████████████████████████████| 1/1 [00:03<00:00,  3.01s/it]\n"
     ]
    },
    {
     "name": "stdout",
     "output_type": "stream",
     "text": [
      "Fold 1/4 median val_loss: 0.09281354397535324, std val_loss 0.0\n",
      "Fold 1/4 median train_loss: 0.08249147981405258, std train_loss 0.0\n",
      "Fold 1/4 median val_mee: 0.29913538694381714, std val_mee 0.0\n",
      "Fold 1/4 median train_mee: 0.29240700602531433, train_mee 0.0\n",
      "\n",
      "Executing fold 2/4\n"
     ]
    },
    {
     "name": "stderr",
     "output_type": "stream",
     "text": [
      "100%|█████████████████████████████████████████████| 1/1 [00:02<00:00,  2.39s/it]\n"
     ]
    },
    {
     "name": "stdout",
     "output_type": "stream",
     "text": [
      "Fold 2/4 median val_loss: 0.08672206103801727, std val_loss 0.0\n",
      "Fold 2/4 median train_loss: 0.08158289641141891, std train_loss 0.0\n",
      "Fold 2/4 median val_mee: 0.2892065942287445, std val_mee 0.0\n",
      "Fold 2/4 median train_mee: 0.2913150191307068, train_mee 0.0\n",
      "\n",
      "Executing fold 3/4\n"
     ]
    },
    {
     "name": "stderr",
     "output_type": "stream",
     "text": [
      "100%|█████████████████████████████████████████████| 1/1 [00:02<00:00,  2.31s/it]\n"
     ]
    },
    {
     "name": "stdout",
     "output_type": "stream",
     "text": [
      "Fold 3/4 median val_loss: 0.1129697635769844, std val_loss 0.0\n",
      "Fold 3/4 median train_loss: 0.07505278289318085, std train_loss 0.0\n",
      "Fold 3/4 median val_mee: 0.3398469090461731, std val_mee 0.0\n",
      "Fold 3/4 median train_mee: 0.2771304249763489, train_mee 0.0\n",
      "\n",
      "Executing fold 4/4\n"
     ]
    },
    {
     "name": "stderr",
     "output_type": "stream",
     "text": [
      "100%|█████████████████████████████████████████████| 1/1 [00:03<00:00,  3.47s/it]\n"
     ]
    },
    {
     "name": "stdout",
     "output_type": "stream",
     "text": [
      "Fold 4/4 median val_loss: 0.08109825104475021, std val_loss 0.0\n",
      "Fold 4/4 median train_loss: 0.08442669361829758, std train_loss 0.0\n",
      "Fold 4/4 median val_mee: 0.30511897802352905, std val_mee 0.0\n",
      "Fold 4/4 median train_mee: 0.295611709356308, train_mee 0.0\n",
      "\n",
      "Mean val_loss: 0.09340090490877628, std val_loss: 0.012033780266300637\n",
      "Mean train_loss: 0.08088846318423748, std train_loss: 0.003522291118235875\n",
      "Mean val_mee: 0.30832696706056595, std val_mee: 0.019064835028844707\n",
      "Mean train_mee: 0.30832696706056595, std train_mee: 0.007097792869595223\n",
      "\n",
      "\n",
      "\n",
      "Testing configuration 89/180:\n",
      "{'batch_size': 16, 'learning_rate': 0.2, 'max_epochs': 500, 'momentum': 0.2, 'initialization': {'type': 'default'}, 'early_stopping': {'monitor': 'val_loss', 'patience': 20, 'delta': 0.01}, 'task': 'regression', 'trials_train': 1, 'trials_final': 5, 'nesterov': False, 'learning_rate_decay': {'epochs': 100, 'lr_final': 0.01}, 'regularization': {'method': 'l1', 'value': 1e-05}, 'units_1': 50, 'activations_1': 'tanh', 'units_2': 50, 'activations_2': 'relu', 'units_3': 50, 'activations_3': 'tanh'}\n",
      "\n",
      "Executing fold 1/4\n"
     ]
    },
    {
     "name": "stderr",
     "output_type": "stream",
     "text": [
      "100%|█████████████████████████████████████████████| 1/1 [00:02<00:00,  2.80s/it]\n"
     ]
    },
    {
     "name": "stdout",
     "output_type": "stream",
     "text": [
      "Fold 1/4 median val_loss: 0.08645667880773544, std val_loss 0.0\n",
      "Fold 1/4 median train_loss: 0.08183733373880386, std train_loss 0.0\n",
      "Fold 1/4 median val_mee: 0.2964325547218323, std val_mee 0.0\n",
      "Fold 1/4 median train_mee: 0.2878975570201874, train_mee 0.0\n",
      "\n",
      "Executing fold 2/4\n"
     ]
    },
    {
     "name": "stderr",
     "output_type": "stream",
     "text": [
      "100%|█████████████████████████████████████████████| 1/1 [00:02<00:00,  2.63s/it]\n"
     ]
    },
    {
     "name": "stdout",
     "output_type": "stream",
     "text": [
      "Fold 2/4 median val_loss: 0.10385671257972717, std val_loss 0.0\n",
      "Fold 2/4 median train_loss: 0.07862948626279831, std train_loss 0.0\n",
      "Fold 2/4 median val_mee: 0.3197579085826874, std val_mee 0.0\n",
      "Fold 2/4 median train_mee: 0.2846258580684662, train_mee 0.0\n",
      "\n",
      "Executing fold 3/4\n"
     ]
    },
    {
     "name": "stderr",
     "output_type": "stream",
     "text": [
      "100%|█████████████████████████████████████████████| 1/1 [00:03<00:00,  3.69s/it]\n"
     ]
    },
    {
     "name": "stdout",
     "output_type": "stream",
     "text": [
      "Fold 3/4 median val_loss: 0.08958299458026886, std val_loss 0.0\n",
      "Fold 3/4 median train_loss: 0.08284057676792145, std train_loss 0.0\n",
      "Fold 3/4 median val_mee: 0.31351080536842346, std val_mee 0.0\n",
      "Fold 3/4 median train_mee: 0.2908315658569336, train_mee 0.0\n",
      "\n",
      "Executing fold 4/4\n"
     ]
    },
    {
     "name": "stderr",
     "output_type": "stream",
     "text": [
      "100%|█████████████████████████████████████████████| 1/1 [00:02<00:00,  2.89s/it]\n"
     ]
    },
    {
     "name": "stdout",
     "output_type": "stream",
     "text": [
      "Fold 4/4 median val_loss: 0.09069658815860748, std val_loss 0.0\n",
      "Fold 4/4 median train_loss: 0.08206284791231155, std train_loss 0.0\n",
      "Fold 4/4 median val_mee: 0.3016010820865631, std val_mee 0.0\n",
      "Fold 4/4 median train_mee: 0.29052338004112244, train_mee 0.0\n",
      "\n",
      "Mean val_loss: 0.09264824353158474, std val_loss: 0.00665526036232235\n",
      "Mean train_loss: 0.0813425611704588, std train_loss: 0.0016100030333584764\n",
      "Mean val_mee: 0.30782558768987656, std val_mee: 0.009263471975427144\n",
      "Mean train_mee: 0.30782558768987656, std train_mee: 0.0024949188550550403\n",
      "\n",
      "\n",
      "\n",
      "Testing configuration 90/180:\n",
      "{'batch_size': 16, 'learning_rate': 0.2, 'max_epochs': 500, 'momentum': 0.2, 'initialization': {'type': 'default'}, 'early_stopping': {'monitor': 'val_loss', 'patience': 20, 'delta': 0.01}, 'task': 'regression', 'trials_train': 1, 'trials_final': 5, 'nesterov': False, 'learning_rate_decay': {'epochs': 100, 'lr_final': 0.01}, 'regularization': {'method': 'l1', 'value': 1e-05}, 'units_1': 50, 'activations_1': 'tanh', 'units_2': 50, 'activations_2': 'relu', 'units_3': 50, 'activations_3': 'tanh'}\n",
      "\n",
      "Executing fold 1/4\n"
     ]
    },
    {
     "name": "stderr",
     "output_type": "stream",
     "text": [
      "100%|█████████████████████████████████████████████| 1/1 [00:02<00:00,  2.62s/it]\n"
     ]
    },
    {
     "name": "stdout",
     "output_type": "stream",
     "text": [
      "Fold 1/4 median val_loss: 0.08544168621301651, std val_loss 0.0\n",
      "Fold 1/4 median train_loss: 0.08335576951503754, std train_loss 0.0\n",
      "Fold 1/4 median val_mee: 0.3018379509449005, std val_mee 0.0\n",
      "Fold 1/4 median train_mee: 0.2934544086456299, train_mee 0.0\n",
      "\n",
      "Executing fold 2/4\n"
     ]
    },
    {
     "name": "stderr",
     "output_type": "stream",
     "text": [
      "100%|█████████████████████████████████████████████| 1/1 [00:02<00:00,  2.74s/it]\n"
     ]
    },
    {
     "name": "stdout",
     "output_type": "stream",
     "text": [
      "Fold 2/4 median val_loss: 0.09648972004652023, std val_loss 0.0\n",
      "Fold 2/4 median train_loss: 0.07955832779407501, std train_loss 0.0\n",
      "Fold 2/4 median val_mee: 0.3015812039375305, std val_mee 0.0\n",
      "Fold 2/4 median train_mee: 0.2867365777492523, train_mee 0.0\n",
      "\n",
      "Executing fold 3/4\n"
     ]
    },
    {
     "name": "stderr",
     "output_type": "stream",
     "text": [
      "100%|█████████████████████████████████████████████| 1/1 [00:02<00:00,  2.61s/it]\n"
     ]
    },
    {
     "name": "stdout",
     "output_type": "stream",
     "text": [
      "Fold 3/4 median val_loss: 0.09683624655008316, std val_loss 0.0\n",
      "Fold 3/4 median train_loss: 0.0791642889380455, std train_loss 0.0\n",
      "Fold 3/4 median val_mee: 0.3224993646144867, std val_mee 0.0\n",
      "Fold 3/4 median train_mee: 0.2837372124195099, train_mee 0.0\n",
      "\n",
      "Executing fold 4/4\n"
     ]
    },
    {
     "name": "stderr",
     "output_type": "stream",
     "text": [
      "100%|█████████████████████████████████████████████| 1/1 [00:03<00:00,  3.51s/it]\n"
     ]
    },
    {
     "name": "stdout",
     "output_type": "stream",
     "text": [
      "Fold 4/4 median val_loss: 0.08970949053764343, std val_loss 0.0\n",
      "Fold 4/4 median train_loss: 0.08302442729473114, std train_loss 0.0\n",
      "Fold 4/4 median val_mee: 0.3017069101333618, std val_mee 0.0\n",
      "Fold 4/4 median train_mee: 0.29176339507102966, train_mee 0.0\n",
      "\n",
      "Mean val_loss: 0.09211928583681583, std val_loss: 0.004789255257123496\n",
      "Mean train_loss: 0.0812757033854723, std train_loss: 0.001923028880757373\n",
      "Mean val_mee: 0.3069063574075699, std val_mee: 0.009003084600048616\n",
      "Mean train_mee: 0.3069063574075699, std train_mee: 0.003881827646886085\n",
      "\n",
      "\n",
      "\n",
      "Testing configuration 91/180:\n",
      "{'batch_size': 16, 'learning_rate': 0.2, 'max_epochs': 500, 'momentum': 0.3, 'initialization': {'type': 'default'}, 'early_stopping': {'monitor': 'val_loss', 'patience': 20, 'delta': 0.01}, 'task': 'regression', 'trials_train': 1, 'trials_final': 5, 'nesterov': False, 'learning_rate_decay': {'epochs': 100, 'lr_final': 0.01}, 'regularization': {'method': 'l1', 'value': 0.001}, 'units_1': 50, 'activations_1': 'tanh', 'units_2': 50, 'activations_2': 'relu', 'units_3': 50, 'activations_3': 'tanh'}\n",
      "\n",
      "Executing fold 1/4\n"
     ]
    },
    {
     "name": "stderr",
     "output_type": "stream",
     "text": [
      "100%|█████████████████████████████████████████████| 1/1 [00:15<00:00, 15.46s/it]\n"
     ]
    },
    {
     "name": "stdout",
     "output_type": "stream",
     "text": [
      "Fold 1/4 median val_loss: 0.21916836500167847, std val_loss 0.0\n",
      "Fold 1/4 median train_loss: 0.21835678815841675, std train_loss 0.0\n",
      "Fold 1/4 median val_mee: 0.30254608392715454, std val_mee 0.0\n",
      "Fold 1/4 median train_mee: 0.3147338032722473, train_mee 0.0\n",
      "\n",
      "Executing fold 2/4\n"
     ]
    },
    {
     "name": "stderr",
     "output_type": "stream",
     "text": [
      "100%|█████████████████████████████████████████████| 1/1 [00:23<00:00, 23.05s/it]\n"
     ]
    },
    {
     "name": "stdout",
     "output_type": "stream",
     "text": [
      "Fold 2/4 median val_loss: 0.20667894184589386, std val_loss 0.0\n",
      "Fold 2/4 median train_loss: 0.1922350376844406, std train_loss 0.0\n",
      "Fold 2/4 median val_mee: 0.3313014507293701, std val_mee 0.0\n",
      "Fold 2/4 median train_mee: 0.30443787574768066, train_mee 0.0\n",
      "\n",
      "Executing fold 3/4\n"
     ]
    },
    {
     "name": "stderr",
     "output_type": "stream",
     "text": [
      "100%|█████████████████████████████████████████████| 1/1 [00:16<00:00, 16.42s/it]\n"
     ]
    },
    {
     "name": "stdout",
     "output_type": "stream",
     "text": [
      "Fold 3/4 median val_loss: 0.20256425440311432, std val_loss 0.0\n",
      "Fold 3/4 median train_loss: 0.1968807876110077, std train_loss 0.0\n",
      "Fold 3/4 median val_mee: 0.3167332112789154, std val_mee 0.0\n",
      "Fold 3/4 median train_mee: 0.30912870168685913, train_mee 0.0\n",
      "\n",
      "Executing fold 4/4\n"
     ]
    },
    {
     "name": "stderr",
     "output_type": "stream",
     "text": [
      "100%|█████████████████████████████████████████████| 1/1 [00:16<00:00, 17.00s/it]\n"
     ]
    },
    {
     "name": "stdout",
     "output_type": "stream",
     "text": [
      "Fold 4/4 median val_loss: 0.2011599838733673, std val_loss 0.0\n",
      "Fold 4/4 median train_loss: 0.19689878821372986, std train_loss 0.0\n",
      "Fold 4/4 median val_mee: 0.31738150119781494, std val_mee 0.0\n",
      "Fold 4/4 median train_mee: 0.3107840418815613, train_mee 0.0\n",
      "\n",
      "Mean val_loss: 0.2073928862810135, std val_loss: 0.00709465245788646\n",
      "Mean train_loss: 0.20109285041689873, std train_loss: 0.010146871729640714\n",
      "Mean val_mee: 0.31699056178331375, std val_mee: 0.010169360179865751\n",
      "Mean train_mee: 0.31699056178331375, std train_mee: 0.0036915590047404403\n",
      "\n",
      "\n",
      "\n",
      "Testing configuration 92/180:\n",
      "{'batch_size': 16, 'learning_rate': 0.2, 'max_epochs': 500, 'momentum': 0.3, 'initialization': {'type': 'default'}, 'early_stopping': {'monitor': 'val_loss', 'patience': 20, 'delta': 0.01}, 'task': 'regression', 'trials_train': 1, 'trials_final': 5, 'nesterov': False, 'learning_rate_decay': {'epochs': 100, 'lr_final': 0.01}, 'regularization': {'method': 'l1', 'value': 0.001}, 'units_1': 50, 'activations_1': 'tanh', 'units_2': 50, 'activations_2': 'relu', 'units_3': 50, 'activations_3': 'tanh'}\n",
      "\n",
      "Executing fold 1/4\n"
     ]
    },
    {
     "name": "stderr",
     "output_type": "stream",
     "text": [
      "100%|█████████████████████████████████████████████| 1/1 [00:16<00:00, 16.98s/it]\n"
     ]
    },
    {
     "name": "stdout",
     "output_type": "stream",
     "text": [
      "Fold 1/4 median val_loss: 0.20437173545360565, std val_loss 0.0\n",
      "Fold 1/4 median train_loss: 0.2051745355129242, std train_loss 0.0\n",
      "Fold 1/4 median val_mee: 0.30154579877853394, std val_mee 0.0\n",
      "Fold 1/4 median train_mee: 0.3171311318874359, train_mee 0.0\n",
      "\n",
      "Executing fold 2/4\n"
     ]
    },
    {
     "name": "stderr",
     "output_type": "stream",
     "text": [
      "100%|█████████████████████████████████████████████| 1/1 [00:17<00:00, 17.22s/it]\n"
     ]
    },
    {
     "name": "stdout",
     "output_type": "stream",
     "text": [
      "Fold 2/4 median val_loss: 0.20000416040420532, std val_loss 0.0\n",
      "Fold 2/4 median train_loss: 0.20407508313655853, std train_loss 0.0\n",
      "Fold 2/4 median val_mee: 0.3171311914920807, std val_mee 0.0\n",
      "Fold 2/4 median train_mee: 0.3141757845878601, train_mee 0.0\n",
      "\n",
      "Executing fold 3/4\n"
     ]
    },
    {
     "name": "stderr",
     "output_type": "stream",
     "text": [
      "100%|█████████████████████████████████████████████| 1/1 [00:16<00:00, 16.08s/it]\n"
     ]
    },
    {
     "name": "stdout",
     "output_type": "stream",
     "text": [
      "Fold 3/4 median val_loss: 0.21186316013336182, std val_loss 0.0\n",
      "Fold 3/4 median train_loss: 0.19872865080833435, std train_loss 0.0\n",
      "Fold 3/4 median val_mee: 0.33250921964645386, std val_mee 0.0\n",
      "Fold 3/4 median train_mee: 0.30812379717826843, train_mee 0.0\n",
      "\n",
      "Executing fold 4/4\n"
     ]
    },
    {
     "name": "stderr",
     "output_type": "stream",
     "text": [
      "100%|█████████████████████████████████████████████| 1/1 [00:13<00:00, 13.97s/it]\n"
     ]
    },
    {
     "name": "stdout",
     "output_type": "stream",
     "text": [
      "Fold 4/4 median val_loss: 0.23063278198242188, std val_loss 0.0\n",
      "Fold 4/4 median train_loss: 0.2225373536348343, std train_loss 0.0\n",
      "Fold 4/4 median val_mee: 0.3150189518928528, std val_mee 0.0\n",
      "Fold 4/4 median train_mee: 0.3073008358478546, train_mee 0.0\n",
      "\n",
      "Mean val_loss: 0.21171795949339867, std val_loss: 0.011715072447086312\n",
      "Mean train_loss: 0.20762890577316284, std train_loss: 0.008946087759321325\n",
      "Mean val_mee: 0.3165512904524803, std val_mee: 0.010982994027288258\n",
      "Mean train_mee: 0.3165512904524803, std train_mee: 0.004116047964862706\n",
      "\n",
      "\n",
      "\n",
      "Testing configuration 93/180:\n",
      "{'batch_size': 16, 'learning_rate': 0.2, 'max_epochs': 500, 'momentum': 0.3, 'initialization': {'type': 'default'}, 'early_stopping': {'monitor': 'val_loss', 'patience': 20, 'delta': 0.01}, 'task': 'regression', 'trials_train': 1, 'trials_final': 5, 'nesterov': False, 'learning_rate_decay': {'epochs': 100, 'lr_final': 0.01}, 'regularization': {'method': 'l1', 'value': 0.001}, 'units_1': 50, 'activations_1': 'tanh', 'units_2': 50, 'activations_2': 'relu', 'units_3': 50, 'activations_3': 'tanh'}\n",
      "\n",
      "Executing fold 1/4\n"
     ]
    },
    {
     "name": "stderr",
     "output_type": "stream",
     "text": [
      "100%|█████████████████████████████████████████████| 1/1 [00:16<00:00, 16.05s/it]\n"
     ]
    },
    {
     "name": "stdout",
     "output_type": "stream",
     "text": [
      "Fold 1/4 median val_loss: 0.21170328557491302, std val_loss 0.0\n",
      "Fold 1/4 median train_loss: 0.20997929573059082, std train_loss 0.0\n",
      "Fold 1/4 median val_mee: 0.30624762177467346, std val_mee 0.0\n",
      "Fold 1/4 median train_mee: 0.3083436191082001, train_mee 0.0\n",
      "\n",
      "Executing fold 2/4\n"
     ]
    },
    {
     "name": "stderr",
     "output_type": "stream",
     "text": [
      "100%|█████████████████████████████████████████████| 1/1 [00:16<00:00, 16.84s/it]\n"
     ]
    },
    {
     "name": "stdout",
     "output_type": "stream",
     "text": [
      "Fold 2/4 median val_loss: 0.21616172790527344, std val_loss 0.0\n",
      "Fold 2/4 median train_loss: 0.20456567406654358, std train_loss 0.0\n",
      "Fold 2/4 median val_mee: 0.32540157437324524, std val_mee 0.0\n",
      "Fold 2/4 median train_mee: 0.31428927183151245, train_mee 0.0\n",
      "\n",
      "Executing fold 3/4\n"
     ]
    },
    {
     "name": "stderr",
     "output_type": "stream",
     "text": [
      "100%|█████████████████████████████████████████████| 1/1 [00:16<00:00, 16.20s/it]\n"
     ]
    },
    {
     "name": "stdout",
     "output_type": "stream",
     "text": [
      "Fold 3/4 median val_loss: 0.22065085172653198, std val_loss 0.0\n",
      "Fold 3/4 median train_loss: 0.19787296652793884, std train_loss 0.0\n",
      "Fold 3/4 median val_mee: 0.32262855768203735, std val_mee 0.0\n",
      "Fold 3/4 median train_mee: 0.3050351142883301, train_mee 0.0\n",
      "\n",
      "Executing fold 4/4\n"
     ]
    },
    {
     "name": "stderr",
     "output_type": "stream",
     "text": [
      "100%|█████████████████████████████████████████████| 1/1 [00:19<00:00, 19.68s/it]\n"
     ]
    },
    {
     "name": "stdout",
     "output_type": "stream",
     "text": [
      "Fold 4/4 median val_loss: 0.186537504196167, std val_loss 0.0\n",
      "Fold 4/4 median train_loss: 0.19806526601314545, std train_loss 0.0\n",
      "Fold 4/4 median val_mee: 0.30924192070961, std val_mee 0.0\n",
      "Fold 4/4 median train_mee: 0.31058403849601746, train_mee 0.0\n",
      "\n",
      "Mean val_loss: 0.20876334235072136, std val_loss: 0.01321627912658954\n",
      "Mean train_loss: 0.20262080058455467, std train_loss: 0.0050305269886873425\n",
      "Mean val_mee: 0.3158799186348915, std val_mee: 0.008262115592386043\n",
      "Mean train_mee: 0.3158799186348915, std train_mee: 0.003367818426387144\n",
      "\n",
      "\n",
      "\n",
      "Testing configuration 94/180:\n",
      "{'batch_size': 16, 'learning_rate': 0.2, 'max_epochs': 500, 'momentum': 0.3, 'initialization': {'type': 'default'}, 'early_stopping': {'monitor': 'val_loss', 'patience': 20, 'delta': 0.01}, 'task': 'regression', 'trials_train': 1, 'trials_final': 5, 'nesterov': False, 'learning_rate_decay': {'epochs': 100, 'lr_final': 0.01}, 'regularization': {'method': 'l1', 'value': 0.001}, 'units_1': 50, 'activations_1': 'tanh', 'units_2': 50, 'activations_2': 'relu', 'units_3': 50, 'activations_3': 'tanh'}\n",
      "\n",
      "Executing fold 1/4\n"
     ]
    },
    {
     "name": "stderr",
     "output_type": "stream",
     "text": [
      "100%|█████████████████████████████████████████████| 1/1 [00:17<00:00, 17.68s/it]\n"
     ]
    },
    {
     "name": "stdout",
     "output_type": "stream",
     "text": [
      "Fold 1/4 median val_loss: 0.20496916770935059, std val_loss 0.0\n",
      "Fold 1/4 median train_loss: 0.20625993609428406, std train_loss 0.0\n",
      "Fold 1/4 median val_mee: 0.31237488985061646, std val_mee 0.0\n",
      "Fold 1/4 median train_mee: 0.3180546462535858, train_mee 0.0\n",
      "\n",
      "Executing fold 2/4\n"
     ]
    },
    {
     "name": "stderr",
     "output_type": "stream",
     "text": [
      "100%|█████████████████████████████████████████████| 1/1 [00:20<00:00, 20.61s/it]\n"
     ]
    },
    {
     "name": "stdout",
     "output_type": "stream",
     "text": [
      "Fold 2/4 median val_loss: 0.20584037899971008, std val_loss 0.0\n",
      "Fold 2/4 median train_loss: 0.20140710473060608, std train_loss 0.0\n",
      "Fold 2/4 median val_mee: 0.31398850679397583, std val_mee 0.0\n",
      "Fold 2/4 median train_mee: 0.3088620603084564, train_mee 0.0\n",
      "\n",
      "Executing fold 3/4\n"
     ]
    },
    {
     "name": "stderr",
     "output_type": "stream",
     "text": [
      "100%|█████████████████████████████████████████████| 1/1 [00:16<00:00, 16.04s/it]\n"
     ]
    },
    {
     "name": "stdout",
     "output_type": "stream",
     "text": [
      "Fold 3/4 median val_loss: 0.23328232765197754, std val_loss 0.0\n",
      "Fold 3/4 median train_loss: 0.2038102149963379, std train_loss 0.0\n",
      "Fold 3/4 median val_mee: 0.34064045548439026, std val_mee 0.0\n",
      "Fold 3/4 median train_mee: 0.2998025417327881, train_mee 0.0\n",
      "\n",
      "Executing fold 4/4\n"
     ]
    },
    {
     "name": "stderr",
     "output_type": "stream",
     "text": [
      "100%|█████████████████████████████████████████████| 1/1 [00:16<00:00, 16.81s/it]\n"
     ]
    },
    {
     "name": "stdout",
     "output_type": "stream",
     "text": [
      "Fold 4/4 median val_loss: 0.19965793192386627, std val_loss 0.0\n",
      "Fold 4/4 median train_loss: 0.2040010690689087, std train_loss 0.0\n",
      "Fold 4/4 median val_mee: 0.2984893321990967, std val_mee 0.0\n",
      "Fold 4/4 median train_mee: 0.31123143434524536, train_mee 0.0\n",
      "\n",
      "Mean val_loss: 0.21093745157122612, std val_loss: 0.013116036097031552\n",
      "Mean train_loss: 0.20386958122253418, std train_loss: 0.001717439976298582\n",
      "Mean val_mee: 0.3163732960820198, std val_mee: 0.015251275864378118\n",
      "Mean train_mee: 0.3163732960820198, std train_mee: 0.006531211473757204\n",
      "\n",
      "\n",
      "\n",
      "Testing configuration 95/180:\n",
      "{'batch_size': 16, 'learning_rate': 0.2, 'max_epochs': 500, 'momentum': 0.3, 'initialization': {'type': 'default'}, 'early_stopping': {'monitor': 'val_loss', 'patience': 20, 'delta': 0.01}, 'task': 'regression', 'trials_train': 1, 'trials_final': 5, 'nesterov': False, 'learning_rate_decay': {'epochs': 100, 'lr_final': 0.01}, 'regularization': {'method': 'l1', 'value': 0.001}, 'units_1': 50, 'activations_1': 'tanh', 'units_2': 50, 'activations_2': 'relu', 'units_3': 50, 'activations_3': 'tanh'}\n",
      "\n",
      "Executing fold 1/4\n"
     ]
    },
    {
     "name": "stderr",
     "output_type": "stream",
     "text": [
      "100%|█████████████████████████████████████████████| 1/1 [00:18<00:00, 18.75s/it]\n"
     ]
    },
    {
     "name": "stdout",
     "output_type": "stream",
     "text": [
      "Fold 1/4 median val_loss: 0.18957293033599854, std val_loss 0.0\n",
      "Fold 1/4 median train_loss: 0.19606322050094604, std train_loss 0.0\n",
      "Fold 1/4 median val_mee: 0.30027592182159424, std val_mee 0.0\n",
      "Fold 1/4 median train_mee: 0.31475725769996643, train_mee 0.0\n",
      "\n",
      "Executing fold 2/4\n"
     ]
    },
    {
     "name": "stderr",
     "output_type": "stream",
     "text": [
      "100%|█████████████████████████████████████████████| 1/1 [00:16<00:00, 16.75s/it]\n"
     ]
    },
    {
     "name": "stdout",
     "output_type": "stream",
     "text": [
      "Fold 2/4 median val_loss: 0.22213706374168396, std val_loss 0.0\n",
      "Fold 2/4 median train_loss: 0.20453017950057983, std train_loss 0.0\n",
      "Fold 2/4 median val_mee: 0.33125221729278564, std val_mee 0.0\n",
      "Fold 2/4 median train_mee: 0.3059369623661041, train_mee 0.0\n",
      "\n",
      "Executing fold 3/4\n"
     ]
    },
    {
     "name": "stderr",
     "output_type": "stream",
     "text": [
      "100%|█████████████████████████████████████████████| 1/1 [00:17<00:00, 17.75s/it]\n"
     ]
    },
    {
     "name": "stdout",
     "output_type": "stream",
     "text": [
      "Fold 3/4 median val_loss: 0.19997888803482056, std val_loss 0.0\n",
      "Fold 3/4 median train_loss: 0.19238997995853424, std train_loss 0.0\n",
      "Fold 3/4 median val_mee: 0.3199354410171509, std val_mee 0.0\n",
      "Fold 3/4 median train_mee: 0.30623170733451843, train_mee 0.0\n",
      "\n",
      "Executing fold 4/4\n"
     ]
    },
    {
     "name": "stderr",
     "output_type": "stream",
     "text": [
      "100%|█████████████████████████████████████████████| 1/1 [00:16<00:00, 16.54s/it]\n"
     ]
    },
    {
     "name": "stdout",
     "output_type": "stream",
     "text": [
      "Fold 4/4 median val_loss: 0.20748287439346313, std val_loss 0.0\n",
      "Fold 4/4 median train_loss: 0.20645104348659515, std train_loss 0.0\n",
      "Fold 4/4 median val_mee: 0.297271728515625, std val_mee 0.0\n",
      "Fold 4/4 median train_mee: 0.3096126914024353, train_mee 0.0\n",
      "\n",
      "Mean val_loss: 0.20479293912649155, std val_loss: 0.011862526774508499\n",
      "Mean train_loss: 0.19985860586166382, std train_loss: 0.005819560915990016\n",
      "Mean val_mee: 0.31218382716178894, std val_mee: 0.014034421213346256\n",
      "Mean train_mee: 0.31218382716178894, std train_mee: 0.0035529749243809593\n",
      "\n",
      "\n",
      "\n",
      "Testing configuration 96/180:\n",
      "{'batch_size': 16, 'learning_rate': 0.2, 'max_epochs': 500, 'momentum': 0.3, 'initialization': {'type': 'default'}, 'early_stopping': {'monitor': 'val_loss', 'patience': 20, 'delta': 0.01}, 'task': 'regression', 'trials_train': 1, 'trials_final': 5, 'nesterov': False, 'learning_rate_decay': {'epochs': 100, 'lr_final': 0.01}, 'regularization': {'method': 'l1', 'value': 0.0001}, 'units_1': 50, 'activations_1': 'tanh', 'units_2': 50, 'activations_2': 'relu', 'units_3': 50, 'activations_3': 'tanh'}\n",
      "\n",
      "Executing fold 1/4\n"
     ]
    },
    {
     "name": "stderr",
     "output_type": "stream",
     "text": [
      "100%|█████████████████████████████████████████████| 1/1 [00:02<00:00,  2.95s/it]\n"
     ]
    },
    {
     "name": "stdout",
     "output_type": "stream",
     "text": [
      "Fold 1/4 median val_loss: 0.14741601049900055, std val_loss 0.0\n",
      "Fold 1/4 median train_loss: 0.14014814794063568, std train_loss 0.0\n",
      "Fold 1/4 median val_mee: 0.3064822256565094, std val_mee 0.0\n",
      "Fold 1/4 median train_mee: 0.2887476086616516, train_mee 0.0\n",
      "\n",
      "Executing fold 2/4\n"
     ]
    },
    {
     "name": "stderr",
     "output_type": "stream",
     "text": [
      "100%|█████████████████████████████████████████████| 1/1 [00:03<00:00,  3.01s/it]\n"
     ]
    },
    {
     "name": "stdout",
     "output_type": "stream",
     "text": [
      "Fold 2/4 median val_loss: 0.14827479422092438, std val_loss 0.0\n",
      "Fold 2/4 median train_loss: 0.13860486447811127, std train_loss 0.0\n",
      "Fold 2/4 median val_mee: 0.29844361543655396, std val_mee 0.0\n",
      "Fold 2/4 median train_mee: 0.2880632281303406, train_mee 0.0\n",
      "\n",
      "Executing fold 3/4\n"
     ]
    },
    {
     "name": "stderr",
     "output_type": "stream",
     "text": [
      "100%|█████████████████████████████████████████████| 1/1 [00:03<00:00,  3.10s/it]\n"
     ]
    },
    {
     "name": "stdout",
     "output_type": "stream",
     "text": [
      "Fold 3/4 median val_loss: 0.15507303178310394, std val_loss 0.0\n",
      "Fold 3/4 median train_loss: 0.13967843353748322, std train_loss 0.0\n",
      "Fold 3/4 median val_mee: 0.32694917917251587, std val_mee 0.0\n",
      "Fold 3/4 median train_mee: 0.2845812439918518, train_mee 0.0\n",
      "\n",
      "Executing fold 4/4\n"
     ]
    },
    {
     "name": "stderr",
     "output_type": "stream",
     "text": [
      "100%|█████████████████████████████████████████████| 1/1 [00:02<00:00,  2.34s/it]\n"
     ]
    },
    {
     "name": "stdout",
     "output_type": "stream",
     "text": [
      "Fold 4/4 median val_loss: 0.1542363166809082, std val_loss 0.0\n",
      "Fold 4/4 median train_loss: 0.13584308326244354, std train_loss 0.0\n",
      "Fold 4/4 median val_mee: 0.3051822781562805, std val_mee 0.0\n",
      "Fold 4/4 median train_mee: 0.28366270661354065, train_mee 0.0\n",
      "\n",
      "Mean val_loss: 0.15125003829598427, std val_loss: 0.003430924957247177\n",
      "Mean train_loss: 0.13856863230466843, std train_loss: 0.0016700642781482724\n",
      "Mean val_mee: 0.30926432460546494, std val_mee: 0.010656512161009518\n",
      "Mean train_mee: 0.30926432460546494, std train_mee: 0.002179674777749795\n",
      "\n",
      "\n",
      "\n",
      "Testing configuration 97/180:\n",
      "{'batch_size': 16, 'learning_rate': 0.2, 'max_epochs': 500, 'momentum': 0.3, 'initialization': {'type': 'default'}, 'early_stopping': {'monitor': 'val_loss', 'patience': 20, 'delta': 0.01}, 'task': 'regression', 'trials_train': 1, 'trials_final': 5, 'nesterov': False, 'learning_rate_decay': {'epochs': 100, 'lr_final': 0.01}, 'regularization': {'method': 'l1', 'value': 0.0001}, 'units_1': 50, 'activations_1': 'tanh', 'units_2': 50, 'activations_2': 'relu', 'units_3': 50, 'activations_3': 'tanh'}\n",
      "\n",
      "Executing fold 1/4\n"
     ]
    },
    {
     "name": "stderr",
     "output_type": "stream",
     "text": [
      "100%|█████████████████████████████████████████████| 1/1 [00:02<00:00,  2.65s/it]\n"
     ]
    },
    {
     "name": "stdout",
     "output_type": "stream",
     "text": [
      "Fold 1/4 median val_loss: 0.1500338613986969, std val_loss 0.0\n",
      "Fold 1/4 median train_loss: 0.13847418129444122, std train_loss 0.0\n",
      "Fold 1/4 median val_mee: 0.30520230531692505, std val_mee 0.0\n",
      "Fold 1/4 median train_mee: 0.28680911660194397, train_mee 0.0\n",
      "\n",
      "Executing fold 2/4\n"
     ]
    },
    {
     "name": "stderr",
     "output_type": "stream",
     "text": [
      "100%|█████████████████████████████████████████████| 1/1 [00:02<00:00,  2.67s/it]\n"
     ]
    },
    {
     "name": "stdout",
     "output_type": "stream",
     "text": [
      "Fold 2/4 median val_loss: 0.1426677107810974, std val_loss 0.0\n",
      "Fold 2/4 median train_loss: 0.14006593823432922, std train_loss 0.0\n",
      "Fold 2/4 median val_mee: 0.30372992157936096, std val_mee 0.0\n",
      "Fold 2/4 median train_mee: 0.28891921043395996, train_mee 0.0\n",
      "\n",
      "Executing fold 3/4\n"
     ]
    },
    {
     "name": "stderr",
     "output_type": "stream",
     "text": [
      "100%|█████████████████████████████████████████████| 1/1 [00:03<00:00,  3.28s/it]\n"
     ]
    },
    {
     "name": "stdout",
     "output_type": "stream",
     "text": [
      "Fold 3/4 median val_loss: 0.15368813276290894, std val_loss 0.0\n",
      "Fold 3/4 median train_loss: 0.13760031759738922, std train_loss 0.0\n",
      "Fold 3/4 median val_mee: 0.32002347707748413, std val_mee 0.0\n",
      "Fold 3/4 median train_mee: 0.28481289744377136, train_mee 0.0\n",
      "\n",
      "Executing fold 4/4\n"
     ]
    },
    {
     "name": "stderr",
     "output_type": "stream",
     "text": [
      "100%|█████████████████████████████████████████████| 1/1 [00:03<00:00,  3.28s/it]\n"
     ]
    },
    {
     "name": "stdout",
     "output_type": "stream",
     "text": [
      "Fold 4/4 median val_loss: 0.1478687971830368, std val_loss 0.0\n",
      "Fold 4/4 median train_loss: 0.14015425741672516, std train_loss 0.0\n",
      "Fold 4/4 median val_mee: 0.2894623875617981, std val_mee 0.0\n",
      "Fold 4/4 median train_mee: 0.29026907682418823, train_mee 0.0\n",
      "\n",
      "Mean val_loss: 0.148564625531435, std val_loss: 0.003989572691648759\n",
      "Mean train_loss: 0.1390736736357212, std train_loss: 0.0010819449413396929\n",
      "Mean val_mee: 0.30460452288389206, std val_mee: 0.010818395003601811\n",
      "Mean train_mee: 0.30460452288389206, std train_mee: 0.0020745865660871084\n",
      "\n",
      "\n",
      "\n",
      "Testing configuration 98/180:\n",
      "{'batch_size': 16, 'learning_rate': 0.2, 'max_epochs': 500, 'momentum': 0.3, 'initialization': {'type': 'default'}, 'early_stopping': {'monitor': 'val_loss', 'patience': 20, 'delta': 0.01}, 'task': 'regression', 'trials_train': 1, 'trials_final': 5, 'nesterov': False, 'learning_rate_decay': {'epochs': 100, 'lr_final': 0.01}, 'regularization': {'method': 'l1', 'value': 0.0001}, 'units_1': 50, 'activations_1': 'tanh', 'units_2': 50, 'activations_2': 'relu', 'units_3': 50, 'activations_3': 'tanh'}\n",
      "\n",
      "Executing fold 1/4\n"
     ]
    },
    {
     "name": "stderr",
     "output_type": "stream",
     "text": [
      "100%|█████████████████████████████████████████████| 1/1 [00:02<00:00,  2.99s/it]\n"
     ]
    },
    {
     "name": "stdout",
     "output_type": "stream",
     "text": [
      "Fold 1/4 median val_loss: 0.1403629332780838, std val_loss 0.0\n",
      "Fold 1/4 median train_loss: 0.1414593607187271, std train_loss 0.0\n",
      "Fold 1/4 median val_mee: 0.29489269852638245, std val_mee 0.0\n",
      "Fold 1/4 median train_mee: 0.29070428013801575, train_mee 0.0\n",
      "\n",
      "Executing fold 2/4\n"
     ]
    },
    {
     "name": "stderr",
     "output_type": "stream",
     "text": [
      "100%|█████████████████████████████████████████████| 1/1 [00:03<00:00,  3.01s/it]\n"
     ]
    },
    {
     "name": "stdout",
     "output_type": "stream",
     "text": [
      "Fold 2/4 median val_loss: 0.1569885015487671, std val_loss 0.0\n",
      "Fold 2/4 median train_loss: 0.13720999658107758, std train_loss 0.0\n",
      "Fold 2/4 median val_mee: 0.3122864365577698, std val_mee 0.0\n",
      "Fold 2/4 median train_mee: 0.28795579075813293, train_mee 0.0\n",
      "\n",
      "Executing fold 3/4\n"
     ]
    },
    {
     "name": "stderr",
     "output_type": "stream",
     "text": [
      "100%|█████████████████████████████████████████████| 1/1 [00:03<00:00,  3.22s/it]\n"
     ]
    },
    {
     "name": "stdout",
     "output_type": "stream",
     "text": [
      "Fold 3/4 median val_loss: 0.14574185013771057, std val_loss 0.0\n",
      "Fold 3/4 median train_loss: 0.1399180293083191, std train_loss 0.0\n",
      "Fold 3/4 median val_mee: 0.3029927611351013, std val_mee 0.0\n",
      "Fold 3/4 median train_mee: 0.28786009550094604, train_mee 0.0\n",
      "\n",
      "Executing fold 4/4\n"
     ]
    },
    {
     "name": "stderr",
     "output_type": "stream",
     "text": [
      "100%|█████████████████████████████████████████████| 1/1 [00:03<00:00,  3.72s/it]\n"
     ]
    },
    {
     "name": "stdout",
     "output_type": "stream",
     "text": [
      "Fold 4/4 median val_loss: 0.16000168025493622, std val_loss 0.0\n",
      "Fold 4/4 median train_loss: 0.13773028552532196, std train_loss 0.0\n",
      "Fold 4/4 median val_mee: 0.3094733953475952, std val_mee 0.0\n",
      "Fold 4/4 median train_mee: 0.28888916969299316, train_mee 0.0\n",
      "\n",
      "Mean val_loss: 0.15077374130487442, std val_loss: 0.008023137706720578\n",
      "Mean train_loss: 0.13907941803336143, std train_loss: 0.00170896833986324\n",
      "Mean val_mee: 0.3049113228917122, std val_mee: 0.006694373011483311\n",
      "Mean train_mee: 0.3049113228917122, std train_mee: 0.001142299040305567\n",
      "\n",
      "\n",
      "\n",
      "Testing configuration 99/180:\n",
      "{'batch_size': 16, 'learning_rate': 0.2, 'max_epochs': 500, 'momentum': 0.3, 'initialization': {'type': 'default'}, 'early_stopping': {'monitor': 'val_loss', 'patience': 20, 'delta': 0.01}, 'task': 'regression', 'trials_train': 1, 'trials_final': 5, 'nesterov': False, 'learning_rate_decay': {'epochs': 100, 'lr_final': 0.01}, 'regularization': {'method': 'l1', 'value': 0.0001}, 'units_1': 50, 'activations_1': 'tanh', 'units_2': 50, 'activations_2': 'relu', 'units_3': 50, 'activations_3': 'tanh'}\n",
      "\n",
      "Executing fold 1/4\n"
     ]
    },
    {
     "name": "stderr",
     "output_type": "stream",
     "text": [
      "100%|█████████████████████████████████████████████| 1/1 [00:03<00:00,  3.26s/it]\n"
     ]
    },
    {
     "name": "stdout",
     "output_type": "stream",
     "text": [
      "Fold 1/4 median val_loss: 0.16615930199623108, std val_loss 0.0\n",
      "Fold 1/4 median train_loss: 0.13351593911647797, std train_loss 0.0\n",
      "Fold 1/4 median val_mee: 0.34096693992614746, std val_mee 0.0\n",
      "Fold 1/4 median train_mee: 0.27455922961235046, train_mee 0.0\n",
      "\n",
      "Executing fold 2/4\n"
     ]
    },
    {
     "name": "stderr",
     "output_type": "stream",
     "text": [
      "100%|█████████████████████████████████████████████| 1/1 [00:02<00:00,  2.87s/it]\n"
     ]
    },
    {
     "name": "stdout",
     "output_type": "stream",
     "text": [
      "Fold 2/4 median val_loss: 0.14262033998966217, std val_loss 0.0\n",
      "Fold 2/4 median train_loss: 0.14072993397712708, std train_loss 0.0\n",
      "Fold 2/4 median val_mee: 0.2833561599254608, std val_mee 0.0\n",
      "Fold 2/4 median train_mee: 0.2912364602088928, train_mee 0.0\n",
      "\n",
      "Executing fold 3/4\n"
     ]
    },
    {
     "name": "stderr",
     "output_type": "stream",
     "text": [
      "100%|█████████████████████████████████████████████| 1/1 [00:02<00:00,  2.68s/it]\n"
     ]
    },
    {
     "name": "stdout",
     "output_type": "stream",
     "text": [
      "Fold 3/4 median val_loss: 0.1333674043416977, std val_loss 0.0\n",
      "Fold 3/4 median train_loss: 0.14531801640987396, std train_loss 0.0\n",
      "Fold 3/4 median val_mee: 0.27589207887649536, std val_mee 0.0\n",
      "Fold 3/4 median train_mee: 0.2991045117378235, train_mee 0.0\n",
      "\n",
      "Executing fold 4/4\n"
     ]
    },
    {
     "name": "stderr",
     "output_type": "stream",
     "text": [
      "100%|█████████████████████████████████████████████| 1/1 [00:03<00:00,  3.32s/it]\n"
     ]
    },
    {
     "name": "stdout",
     "output_type": "stream",
     "text": [
      "Fold 4/4 median val_loss: 0.16262193024158478, std val_loss 0.0\n",
      "Fold 4/4 median train_loss: 0.13536345958709717, std train_loss 0.0\n",
      "Fold 4/4 median val_mee: 0.33283722400665283, std val_mee 0.0\n",
      "Fold 4/4 median train_mee: 0.2809935510158539, train_mee 0.0\n",
      "\n",
      "Mean val_loss: 0.15119224414229393, std val_loss: 0.013655154702988991\n",
      "Mean train_loss: 0.13873183727264404, std train_loss: 0.004634698152958167\n",
      "Mean val_mee: 0.3082631006836891, std val_mee: 0.02890357845087912\n",
      "Mean train_mee: 0.3082631006836891, std train_mee: 0.009410206256986254\n",
      "\n",
      "\n",
      "\n",
      "Testing configuration 100/180:\n",
      "{'batch_size': 16, 'learning_rate': 0.2, 'max_epochs': 500, 'momentum': 0.3, 'initialization': {'type': 'default'}, 'early_stopping': {'monitor': 'val_loss', 'patience': 20, 'delta': 0.01}, 'task': 'regression', 'trials_train': 1, 'trials_final': 5, 'nesterov': False, 'learning_rate_decay': {'epochs': 100, 'lr_final': 0.01}, 'regularization': {'method': 'l1', 'value': 0.0001}, 'units_1': 50, 'activations_1': 'tanh', 'units_2': 50, 'activations_2': 'relu', 'units_3': 50, 'activations_3': 'tanh'}\n",
      "\n",
      "Executing fold 1/4\n"
     ]
    },
    {
     "name": "stderr",
     "output_type": "stream",
     "text": [
      "100%|█████████████████████████████████████████████| 1/1 [00:03<00:00,  3.02s/it]\n"
     ]
    },
    {
     "name": "stdout",
     "output_type": "stream",
     "text": [
      "Fold 1/4 median val_loss: 0.15221266448497772, std val_loss 0.0\n",
      "Fold 1/4 median train_loss: 0.1357354074716568, std train_loss 0.0\n",
      "Fold 1/4 median val_mee: 0.3124283254146576, std val_mee 0.0\n",
      "Fold 1/4 median train_mee: 0.282243549823761, train_mee 0.0\n",
      "\n",
      "Executing fold 2/4\n"
     ]
    },
    {
     "name": "stderr",
     "output_type": "stream",
     "text": [
      "100%|█████████████████████████████████████████████| 1/1 [00:02<00:00,  2.91s/it]\n"
     ]
    },
    {
     "name": "stdout",
     "output_type": "stream",
     "text": [
      "Fold 2/4 median val_loss: 0.15112106502056122, std val_loss 0.0\n",
      "Fold 2/4 median train_loss: 0.1382368505001068, std train_loss 0.0\n",
      "Fold 2/4 median val_mee: 0.31202051043510437, std val_mee 0.0\n",
      "Fold 2/4 median train_mee: 0.2864952087402344, train_mee 0.0\n",
      "\n",
      "Executing fold 3/4\n"
     ]
    },
    {
     "name": "stderr",
     "output_type": "stream",
     "text": [
      "100%|█████████████████████████████████████████████| 1/1 [00:02<00:00,  2.87s/it]\n"
     ]
    },
    {
     "name": "stdout",
     "output_type": "stream",
     "text": [
      "Fold 3/4 median val_loss: 0.1488649696111679, std val_loss 0.0\n",
      "Fold 3/4 median train_loss: 0.14062853157520294, std train_loss 0.0\n",
      "Fold 3/4 median val_mee: 0.3060402274131775, std val_mee 0.0\n",
      "Fold 3/4 median train_mee: 0.28973594307899475, train_mee 0.0\n",
      "\n",
      "Executing fold 4/4\n"
     ]
    },
    {
     "name": "stderr",
     "output_type": "stream",
     "text": [
      "100%|█████████████████████████████████████████████| 1/1 [00:02<00:00,  2.78s/it]\n"
     ]
    },
    {
     "name": "stdout",
     "output_type": "stream",
     "text": [
      "Fold 4/4 median val_loss: 0.15636122226715088, std val_loss 0.0\n",
      "Fold 4/4 median train_loss: 0.1396317481994629, std train_loss 0.0\n",
      "Fold 4/4 median val_mee: 0.31199997663497925, std val_mee 0.0\n",
      "Fold 4/4 median train_mee: 0.2911132872104645, train_mee 0.0\n",
      "\n",
      "Mean val_loss: 0.15213998034596443, std val_loss: 0.0027197449372422756\n",
      "Mean train_loss: 0.13855813443660736, std train_loss: 0.0018378113144315086\n",
      "Mean val_mee: 0.3106222599744797, std val_mee: 0.0026509480527866715\n",
      "Mean train_mee: 0.3106222599744797, std train_mee: 0.003415139878269111\n",
      "\n",
      "\n",
      "\n",
      "Testing configuration 101/180:\n",
      "{'batch_size': 16, 'learning_rate': 0.2, 'max_epochs': 500, 'momentum': 0.3, 'initialization': {'type': 'default'}, 'early_stopping': {'monitor': 'val_loss', 'patience': 20, 'delta': 0.01}, 'task': 'regression', 'trials_train': 1, 'trials_final': 5, 'nesterov': False, 'learning_rate_decay': {'epochs': 100, 'lr_final': 0.01}, 'regularization': {'method': 'l1', 'value': 1e-05}, 'units_1': 50, 'activations_1': 'tanh', 'units_2': 50, 'activations_2': 'relu', 'units_3': 50, 'activations_3': 'tanh'}\n",
      "\n",
      "Executing fold 1/4\n"
     ]
    },
    {
     "name": "stderr",
     "output_type": "stream",
     "text": [
      "100%|█████████████████████████████████████████████| 1/1 [00:03<00:00,  3.21s/it]\n"
     ]
    },
    {
     "name": "stdout",
     "output_type": "stream",
     "text": [
      "Fold 1/4 median val_loss: 0.09666850417852402, std val_loss 0.0\n",
      "Fold 1/4 median train_loss: 0.07747448980808258, std train_loss 0.0\n",
      "Fold 1/4 median val_mee: 0.3139873147010803, std val_mee 0.0\n",
      "Fold 1/4 median train_mee: 0.2806323170661926, train_mee 0.0\n",
      "\n",
      "Executing fold 2/4\n"
     ]
    },
    {
     "name": "stderr",
     "output_type": "stream",
     "text": [
      "100%|█████████████████████████████████████████████| 1/1 [00:05<00:00,  5.69s/it]\n"
     ]
    },
    {
     "name": "stdout",
     "output_type": "stream",
     "text": [
      "Fold 2/4 median val_loss: 0.09496933221817017, std val_loss 0.0\n",
      "Fold 2/4 median train_loss: 0.07791747152805328, std train_loss 0.0\n",
      "Fold 2/4 median val_mee: 0.30099231004714966, std val_mee 0.0\n",
      "Fold 2/4 median train_mee: 0.28580090403556824, train_mee 0.0\n",
      "\n",
      "Executing fold 3/4\n"
     ]
    },
    {
     "name": "stderr",
     "output_type": "stream",
     "text": [
      "100%|█████████████████████████████████████████████| 1/1 [00:02<00:00,  2.50s/it]\n"
     ]
    },
    {
     "name": "stdout",
     "output_type": "stream",
     "text": [
      "Fold 3/4 median val_loss: 0.08610832691192627, std val_loss 0.0\n",
      "Fold 3/4 median train_loss: 0.08175268024206161, std train_loss 0.0\n",
      "Fold 3/4 median val_mee: 0.3117051422595978, std val_mee 0.0\n",
      "Fold 3/4 median train_mee: 0.2902807295322418, train_mee 0.0\n",
      "\n",
      "Executing fold 4/4\n"
     ]
    },
    {
     "name": "stderr",
     "output_type": "stream",
     "text": [
      "100%|█████████████████████████████████████████████| 1/1 [00:02<00:00,  2.38s/it]\n"
     ]
    },
    {
     "name": "stdout",
     "output_type": "stream",
     "text": [
      "Fold 4/4 median val_loss: 0.08992496132850647, std val_loss 0.0\n",
      "Fold 4/4 median train_loss: 0.07928161323070526, std train_loss 0.0\n",
      "Fold 4/4 median val_mee: 0.3042842745780945, std val_mee 0.0\n",
      "Fold 4/4 median train_mee: 0.28287258744239807, train_mee 0.0\n",
      "\n",
      "Mean val_loss: 0.09191778115928173, std val_loss: 0.004171403319046518\n",
      "Mean train_loss: 0.07910656370222569, std train_loss: 0.0016665968674544306\n",
      "Mean val_mee: 0.30774226039648056, std val_mee: 0.005296806386092827\n",
      "Mean train_mee: 0.30774226039648056, std train_mee: 0.0036085784035000674\n",
      "\n",
      "\n",
      "\n",
      "Testing configuration 102/180:\n",
      "{'batch_size': 16, 'learning_rate': 0.2, 'max_epochs': 500, 'momentum': 0.3, 'initialization': {'type': 'default'}, 'early_stopping': {'monitor': 'val_loss', 'patience': 20, 'delta': 0.01}, 'task': 'regression', 'trials_train': 1, 'trials_final': 5, 'nesterov': False, 'learning_rate_decay': {'epochs': 100, 'lr_final': 0.01}, 'regularization': {'method': 'l1', 'value': 1e-05}, 'units_1': 50, 'activations_1': 'tanh', 'units_2': 50, 'activations_2': 'relu', 'units_3': 50, 'activations_3': 'tanh'}\n",
      "\n",
      "Executing fold 1/4\n"
     ]
    },
    {
     "name": "stderr",
     "output_type": "stream",
     "text": [
      "100%|█████████████████████████████████████████████| 1/1 [00:02<00:00,  2.43s/it]\n"
     ]
    },
    {
     "name": "stdout",
     "output_type": "stream",
     "text": [
      "Fold 1/4 median val_loss: 0.08805202692747116, std val_loss 0.0\n",
      "Fold 1/4 median train_loss: 0.08364874869585037, std train_loss 0.0\n",
      "Fold 1/4 median val_mee: 0.30888861417770386, std val_mee 0.0\n",
      "Fold 1/4 median train_mee: 0.290705144405365, train_mee 0.0\n",
      "\n",
      "Executing fold 2/4\n"
     ]
    },
    {
     "name": "stderr",
     "output_type": "stream",
     "text": [
      "100%|█████████████████████████████████████████████| 1/1 [00:02<00:00,  2.48s/it]\n"
     ]
    },
    {
     "name": "stdout",
     "output_type": "stream",
     "text": [
      "Fold 2/4 median val_loss: 0.08910395950078964, std val_loss 0.0\n",
      "Fold 2/4 median train_loss: 0.08168374747037888, std train_loss 0.0\n",
      "Fold 2/4 median val_mee: 0.30111998319625854, std val_mee 0.0\n",
      "Fold 2/4 median train_mee: 0.2873331904411316, train_mee 0.0\n",
      "\n",
      "Executing fold 3/4\n"
     ]
    },
    {
     "name": "stderr",
     "output_type": "stream",
     "text": [
      "100%|█████████████████████████████████████████████| 1/1 [00:02<00:00,  2.46s/it]\n"
     ]
    },
    {
     "name": "stdout",
     "output_type": "stream",
     "text": [
      "Fold 3/4 median val_loss: 0.08871354907751083, std val_loss 0.0\n",
      "Fold 3/4 median train_loss: 0.08121434599161148, std train_loss 0.0\n",
      "Fold 3/4 median val_mee: 0.2943251430988312, std val_mee 0.0\n",
      "Fold 3/4 median train_mee: 0.2887880504131317, train_mee 0.0\n",
      "\n",
      "Executing fold 4/4\n"
     ]
    },
    {
     "name": "stderr",
     "output_type": "stream",
     "text": [
      "100%|█████████████████████████████████████████████| 1/1 [00:03<00:00,  3.32s/it]\n"
     ]
    },
    {
     "name": "stdout",
     "output_type": "stream",
     "text": [
      "Fold 4/4 median val_loss: 0.10658866167068481, std val_loss 0.0\n",
      "Fold 4/4 median train_loss: 0.07606304436922073, std train_loss 0.0\n",
      "Fold 4/4 median val_mee: 0.31982293725013733, std val_mee 0.0\n",
      "Fold 4/4 median train_mee: 0.2765210270881653, train_mee 0.0\n",
      "\n",
      "Mean val_loss: 0.09311454929411411, std val_loss: 0.007788364244918127\n",
      "Mean train_loss: 0.08065247163176537, std train_loss: 0.0028026662080289843\n",
      "Mean val_mee: 0.3060391694307327, std val_mee: 0.009480617026059254\n",
      "Mean train_mee: 0.3060391694307327, std train_mee: 0.005509842682331532\n",
      "\n",
      "\n",
      "\n",
      "Testing configuration 103/180:\n",
      "{'batch_size': 16, 'learning_rate': 0.2, 'max_epochs': 500, 'momentum': 0.3, 'initialization': {'type': 'default'}, 'early_stopping': {'monitor': 'val_loss', 'patience': 20, 'delta': 0.01}, 'task': 'regression', 'trials_train': 1, 'trials_final': 5, 'nesterov': False, 'learning_rate_decay': {'epochs': 100, 'lr_final': 0.01}, 'regularization': {'method': 'l1', 'value': 1e-05}, 'units_1': 50, 'activations_1': 'tanh', 'units_2': 50, 'activations_2': 'relu', 'units_3': 50, 'activations_3': 'tanh'}\n",
      "\n",
      "Executing fold 1/4\n"
     ]
    },
    {
     "name": "stderr",
     "output_type": "stream",
     "text": [
      "100%|█████████████████████████████████████████████| 1/1 [00:03<00:00,  3.46s/it]\n"
     ]
    },
    {
     "name": "stdout",
     "output_type": "stream",
     "text": [
      "Fold 1/4 median val_loss: 0.10565198212862015, std val_loss 0.0\n",
      "Fold 1/4 median train_loss: 0.07464500516653061, std train_loss 0.0\n",
      "Fold 1/4 median val_mee: 0.32946479320526123, std val_mee 0.0\n",
      "Fold 1/4 median train_mee: 0.2742995619773865, train_mee 0.0\n",
      "\n",
      "Executing fold 2/4\n"
     ]
    },
    {
     "name": "stderr",
     "output_type": "stream",
     "text": [
      "100%|█████████████████████████████████████████████| 1/1 [00:02<00:00,  2.44s/it]\n"
     ]
    },
    {
     "name": "stdout",
     "output_type": "stream",
     "text": [
      "Fold 2/4 median val_loss: 0.09067650884389877, std val_loss 0.0\n",
      "Fold 2/4 median train_loss: 0.08140747994184494, std train_loss 0.0\n",
      "Fold 2/4 median val_mee: 0.30448251962661743, std val_mee 0.0\n",
      "Fold 2/4 median train_mee: 0.29292792081832886, train_mee 0.0\n",
      "\n",
      "Executing fold 3/4\n"
     ]
    },
    {
     "name": "stderr",
     "output_type": "stream",
     "text": [
      "100%|█████████████████████████████████████████████| 1/1 [00:02<00:00,  2.20s/it]\n"
     ]
    },
    {
     "name": "stdout",
     "output_type": "stream",
     "text": [
      "Fold 3/4 median val_loss: 0.0830717608332634, std val_loss 0.0\n",
      "Fold 3/4 median train_loss: 0.08698130398988724, std train_loss 0.0\n",
      "Fold 3/4 median val_mee: 0.2940017282962799, std val_mee 0.0\n",
      "Fold 3/4 median train_mee: 0.2989833354949951, train_mee 0.0\n",
      "\n",
      "Executing fold 4/4\n"
     ]
    },
    {
     "name": "stderr",
     "output_type": "stream",
     "text": [
      "100%|█████████████████████████████████████████████| 1/1 [00:03<00:00,  3.65s/it]\n"
     ]
    },
    {
     "name": "stdout",
     "output_type": "stream",
     "text": [
      "Fold 4/4 median val_loss: 0.09056802093982697, std val_loss 0.0\n",
      "Fold 4/4 median train_loss: 0.07917474955320358, std train_loss 0.0\n",
      "Fold 4/4 median val_mee: 0.30573710799217224, std val_mee 0.0\n",
      "Fold 4/4 median train_mee: 0.2832765579223633, train_mee 0.0\n",
      "\n",
      "Mean val_loss: 0.09249206818640232, std val_loss: 0.008199447224163782\n",
      "Mean train_loss: 0.08055213466286659, std train_loss: 0.0044400788959369185\n",
      "Mean val_mee: 0.3084215372800827, std val_mee: 0.012975665028602807\n",
      "Mean train_mee: 0.3084215372800827, std train_mee: 0.009398838354897177\n",
      "\n",
      "\n",
      "\n",
      "Testing configuration 104/180:\n",
      "{'batch_size': 16, 'learning_rate': 0.2, 'max_epochs': 500, 'momentum': 0.3, 'initialization': {'type': 'default'}, 'early_stopping': {'monitor': 'val_loss', 'patience': 20, 'delta': 0.01}, 'task': 'regression', 'trials_train': 1, 'trials_final': 5, 'nesterov': False, 'learning_rate_decay': {'epochs': 100, 'lr_final': 0.01}, 'regularization': {'method': 'l1', 'value': 1e-05}, 'units_1': 50, 'activations_1': 'tanh', 'units_2': 50, 'activations_2': 'relu', 'units_3': 50, 'activations_3': 'tanh'}\n",
      "\n",
      "Executing fold 1/4\n"
     ]
    },
    {
     "name": "stderr",
     "output_type": "stream",
     "text": [
      "100%|█████████████████████████████████████████████| 1/1 [00:02<00:00,  2.85s/it]\n"
     ]
    },
    {
     "name": "stdout",
     "output_type": "stream",
     "text": [
      "Fold 1/4 median val_loss: 0.0885222852230072, std val_loss 0.0\n",
      "Fold 1/4 median train_loss: 0.08172963559627533, std train_loss 0.0\n",
      "Fold 1/4 median val_mee: 0.3043767511844635, std val_mee 0.0\n",
      "Fold 1/4 median train_mee: 0.2892417311668396, train_mee 0.0\n",
      "\n",
      "Executing fold 2/4\n"
     ]
    },
    {
     "name": "stderr",
     "output_type": "stream",
     "text": [
      "100%|█████████████████████████████████████████████| 1/1 [00:03<00:00,  3.05s/it]\n"
     ]
    },
    {
     "name": "stdout",
     "output_type": "stream",
     "text": [
      "Fold 2/4 median val_loss: 0.09899880737066269, std val_loss 0.0\n",
      "Fold 2/4 median train_loss: 0.07649247348308563, std train_loss 0.0\n",
      "Fold 2/4 median val_mee: 0.31296467781066895, std val_mee 0.0\n",
      "Fold 2/4 median train_mee: 0.28247156739234924, train_mee 0.0\n",
      "\n",
      "Executing fold 3/4\n"
     ]
    },
    {
     "name": "stderr",
     "output_type": "stream",
     "text": [
      "100%|█████████████████████████████████████████████| 1/1 [00:03<00:00,  3.35s/it]\n"
     ]
    },
    {
     "name": "stdout",
     "output_type": "stream",
     "text": [
      "Fold 3/4 median val_loss: 0.09797961264848709, std val_loss 0.0\n",
      "Fold 3/4 median train_loss: 0.07976515591144562, std train_loss 0.0\n",
      "Fold 3/4 median val_mee: 0.32288607954978943, std val_mee 0.0\n",
      "Fold 3/4 median train_mee: 0.28487709164619446, train_mee 0.0\n",
      "\n",
      "Executing fold 4/4\n"
     ]
    },
    {
     "name": "stderr",
     "output_type": "stream",
     "text": [
      "100%|█████████████████████████████████████████████| 1/1 [00:02<00:00,  2.85s/it]\n"
     ]
    },
    {
     "name": "stdout",
     "output_type": "stream",
     "text": [
      "Fold 4/4 median val_loss: 0.08721862733364105, std val_loss 0.0\n",
      "Fold 4/4 median train_loss: 0.08364469558000565, std train_loss 0.0\n",
      "Fold 4/4 median val_mee: 0.2968160808086395, std val_mee 0.0\n",
      "Fold 4/4 median train_mee: 0.2935114800930023, train_mee 0.0\n",
      "\n",
      "Mean val_loss: 0.09317983314394951, std val_loss: 0.005341513635947694\n",
      "Mean train_loss: 0.08040799014270306, std train_loss: 0.0026442161103732774\n",
      "Mean val_mee: 0.30926089733839035, std val_mee: 0.009722292967617462\n",
      "Mean train_mee: 0.30926089733839035, std train_mee: 0.0042229642639628326\n",
      "\n",
      "\n",
      "\n",
      "Testing configuration 105/180:\n",
      "{'batch_size': 16, 'learning_rate': 0.2, 'max_epochs': 500, 'momentum': 0.3, 'initialization': {'type': 'default'}, 'early_stopping': {'monitor': 'val_loss', 'patience': 20, 'delta': 0.01}, 'task': 'regression', 'trials_train': 1, 'trials_final': 5, 'nesterov': False, 'learning_rate_decay': {'epochs': 100, 'lr_final': 0.01}, 'regularization': {'method': 'l1', 'value': 1e-05}, 'units_1': 50, 'activations_1': 'tanh', 'units_2': 50, 'activations_2': 'relu', 'units_3': 50, 'activations_3': 'tanh'}\n",
      "\n",
      "Executing fold 1/4\n"
     ]
    },
    {
     "name": "stderr",
     "output_type": "stream",
     "text": [
      "100%|█████████████████████████████████████████████| 1/1 [00:03<00:00,  3.33s/it]\n"
     ]
    },
    {
     "name": "stdout",
     "output_type": "stream",
     "text": [
      "Fold 1/4 median val_loss: 0.0975668877363205, std val_loss 0.0\n",
      "Fold 1/4 median train_loss: 0.0793328583240509, std train_loss 0.0\n",
      "Fold 1/4 median val_mee: 0.306382954120636, std val_mee 0.0\n",
      "Fold 1/4 median train_mee: 0.2845514118671417, train_mee 0.0\n",
      "\n",
      "Executing fold 2/4\n"
     ]
    },
    {
     "name": "stderr",
     "output_type": "stream",
     "text": [
      "100%|█████████████████████████████████████████████| 1/1 [00:05<00:00,  5.21s/it]\n"
     ]
    },
    {
     "name": "stdout",
     "output_type": "stream",
     "text": [
      "Fold 2/4 median val_loss: 0.09144416451454163, std val_loss 0.0\n",
      "Fold 2/4 median train_loss: 0.0798586830496788, std train_loss 0.0\n",
      "Fold 2/4 median val_mee: 0.29401910305023193, std val_mee 0.0\n",
      "Fold 2/4 median train_mee: 0.28946366906166077, train_mee 0.0\n",
      "\n",
      "Executing fold 3/4\n"
     ]
    },
    {
     "name": "stderr",
     "output_type": "stream",
     "text": [
      "100%|█████████████████████████████████████████████| 1/1 [00:02<00:00,  2.54s/it]\n"
     ]
    },
    {
     "name": "stdout",
     "output_type": "stream",
     "text": [
      "Fold 3/4 median val_loss: 0.09312557429075241, std val_loss 0.0\n",
      "Fold 3/4 median train_loss: 0.07965908199548721, std train_loss 0.0\n",
      "Fold 3/4 median val_mee: 0.3109185993671417, std val_mee 0.0\n",
      "Fold 3/4 median train_mee: 0.28615090250968933, train_mee 0.0\n",
      "\n",
      "Executing fold 4/4\n"
     ]
    },
    {
     "name": "stderr",
     "output_type": "stream",
     "text": [
      "100%|█████████████████████████████████████████████| 1/1 [00:02<00:00,  2.55s/it]\n"
     ]
    },
    {
     "name": "stdout",
     "output_type": "stream",
     "text": [
      "Fold 4/4 median val_loss: 0.08811461925506592, std val_loss 0.0\n",
      "Fold 4/4 median train_loss: 0.08097071200609207, std train_loss 0.0\n",
      "Fold 4/4 median val_mee: 0.31371423602104187, std val_mee 0.0\n",
      "Fold 4/4 median train_mee: 0.28607723116874695, train_mee 0.0\n",
      "\n",
      "Mean val_loss: 0.09256281144917011, std val_loss: 0.0034057035346433833\n",
      "Mean train_loss: 0.07995533384382725, std train_loss: 0.00061554348318773\n",
      "Mean val_mee: 0.3062587231397629, std val_mee: 0.007535297805164466\n",
      "Mean train_mee: 0.3062587231397629, std train_mee: 0.0017934703945624538\n",
      "\n",
      "\n",
      "\n",
      "Testing configuration 106/180:\n",
      "{'batch_size': 16, 'learning_rate': 0.2, 'max_epochs': 500, 'momentum': 0.4, 'initialization': {'type': 'default'}, 'early_stopping': {'monitor': 'val_loss', 'patience': 20, 'delta': 0.01}, 'task': 'regression', 'trials_train': 1, 'trials_final': 5, 'nesterov': False, 'learning_rate_decay': {'epochs': 100, 'lr_final': 0.01}, 'regularization': {'method': 'l1', 'value': 0.001}, 'units_1': 50, 'activations_1': 'tanh', 'units_2': 50, 'activations_2': 'relu', 'units_3': 50, 'activations_3': 'tanh'}\n",
      "\n",
      "Executing fold 1/4\n"
     ]
    },
    {
     "name": "stderr",
     "output_type": "stream",
     "text": [
      "100%|█████████████████████████████████████████████| 1/1 [00:14<00:00, 14.61s/it]\n"
     ]
    },
    {
     "name": "stdout",
     "output_type": "stream",
     "text": [
      "Fold 1/4 median val_loss: 0.19246065616607666, std val_loss 0.0\n",
      "Fold 1/4 median train_loss: 0.18110968172550201, std train_loss 0.0\n",
      "Fold 1/4 median val_mee: 0.32637548446655273, std val_mee 0.0\n",
      "Fold 1/4 median train_mee: 0.3042149245738983, train_mee 0.0\n",
      "\n",
      "Executing fold 2/4\n"
     ]
    },
    {
     "name": "stderr",
     "output_type": "stream",
     "text": [
      "100%|█████████████████████████████████████████████| 1/1 [00:14<00:00, 14.44s/it]\n"
     ]
    },
    {
     "name": "stdout",
     "output_type": "stream",
     "text": [
      "Fold 2/4 median val_loss: 0.19341233372688293, std val_loss 0.0\n",
      "Fold 2/4 median train_loss: 0.1828041821718216, std train_loss 0.0\n",
      "Fold 2/4 median val_mee: 0.3165401816368103, std val_mee 0.0\n",
      "Fold 2/4 median train_mee: 0.3070013225078583, train_mee 0.0\n",
      "\n",
      "Executing fold 3/4\n"
     ]
    },
    {
     "name": "stderr",
     "output_type": "stream",
     "text": [
      "100%|█████████████████████████████████████████████| 1/1 [00:14<00:00, 14.07s/it]\n"
     ]
    },
    {
     "name": "stdout",
     "output_type": "stream",
     "text": [
      "Fold 3/4 median val_loss: 0.19123327732086182, std val_loss 0.0\n",
      "Fold 3/4 median train_loss: 0.17949600517749786, std train_loss 0.0\n",
      "Fold 3/4 median val_mee: 0.32778483629226685, std val_mee 0.0\n",
      "Fold 3/4 median train_mee: 0.3072757124900818, train_mee 0.0\n",
      "\n",
      "Executing fold 4/4\n"
     ]
    },
    {
     "name": "stderr",
     "output_type": "stream",
     "text": [
      "100%|█████████████████████████████████████████████| 1/1 [00:20<00:00, 20.73s/it]\n"
     ]
    },
    {
     "name": "stdout",
     "output_type": "stream",
     "text": [
      "Fold 4/4 median val_loss: 0.18024040758609772, std val_loss 0.0\n",
      "Fold 4/4 median train_loss: 0.18372878432273865, std train_loss 0.0\n",
      "Fold 4/4 median val_mee: 0.29505598545074463, std val_mee 0.0\n",
      "Fold 4/4 median train_mee: 0.31561416387557983, train_mee 0.0\n",
      "\n",
      "Mean val_loss: 0.18933666869997978, std val_loss: 0.0053082349611848125\n",
      "Mean train_loss: 0.18178466334939003, std train_loss: 0.0016211555607545435\n",
      "Mean val_mee: 0.31643912196159363, std val_mee: 0.013083436796220243\n",
      "Mean train_mee: 0.31643912196159363, std train_mee: 0.004263663261851731\n",
      "\n",
      "\n",
      "\n",
      "Testing configuration 107/180:\n",
      "{'batch_size': 16, 'learning_rate': 0.2, 'max_epochs': 500, 'momentum': 0.4, 'initialization': {'type': 'default'}, 'early_stopping': {'monitor': 'val_loss', 'patience': 20, 'delta': 0.01}, 'task': 'regression', 'trials_train': 1, 'trials_final': 5, 'nesterov': False, 'learning_rate_decay': {'epochs': 100, 'lr_final': 0.01}, 'regularization': {'method': 'l1', 'value': 0.001}, 'units_1': 50, 'activations_1': 'tanh', 'units_2': 50, 'activations_2': 'relu', 'units_3': 50, 'activations_3': 'tanh'}\n",
      "\n",
      "Executing fold 1/4\n"
     ]
    },
    {
     "name": "stderr",
     "output_type": "stream",
     "text": [
      "100%|█████████████████████████████████████████████| 1/1 [00:14<00:00, 14.65s/it]\n"
     ]
    },
    {
     "name": "stdout",
     "output_type": "stream",
     "text": [
      "Fold 1/4 median val_loss: 0.18750807642936707, std val_loss 0.0\n",
      "Fold 1/4 median train_loss: 0.19272805750370026, std train_loss 0.0\n",
      "Fold 1/4 median val_mee: 0.3098577558994293, std val_mee 0.0\n",
      "Fold 1/4 median train_mee: 0.3091185986995697, train_mee 0.0\n",
      "\n",
      "Executing fold 2/4\n"
     ]
    },
    {
     "name": "stderr",
     "output_type": "stream",
     "text": [
      "100%|█████████████████████████████████████████████| 1/1 [00:14<00:00, 14.34s/it]\n"
     ]
    },
    {
     "name": "stdout",
     "output_type": "stream",
     "text": [
      "Fold 2/4 median val_loss: 0.1881486475467682, std val_loss 0.0\n",
      "Fold 2/4 median train_loss: 0.19046133756637573, std train_loss 0.0\n",
      "Fold 2/4 median val_mee: 0.32114094495773315, std val_mee 0.0\n",
      "Fold 2/4 median train_mee: 0.31638389825820923, train_mee 0.0\n",
      "\n",
      "Executing fold 3/4\n"
     ]
    },
    {
     "name": "stderr",
     "output_type": "stream",
     "text": [
      "100%|█████████████████████████████████████████████| 1/1 [00:13<00:00, 13.40s/it]\n"
     ]
    },
    {
     "name": "stdout",
     "output_type": "stream",
     "text": [
      "Fold 3/4 median val_loss: 0.20317131280899048, std val_loss 0.0\n",
      "Fold 3/4 median train_loss: 0.18682539463043213, std train_loss 0.0\n",
      "Fold 3/4 median val_mee: 0.32643917202949524, std val_mee 0.0\n",
      "Fold 3/4 median train_mee: 0.3074893057346344, train_mee 0.0\n",
      "\n",
      "Executing fold 4/4\n"
     ]
    },
    {
     "name": "stderr",
     "output_type": "stream",
     "text": [
      "100%|█████████████████████████████████████████████| 1/1 [00:14<00:00, 14.00s/it]\n"
     ]
    },
    {
     "name": "stdout",
     "output_type": "stream",
     "text": [
      "Fold 4/4 median val_loss: 0.20711112022399902, std val_loss 0.0\n",
      "Fold 4/4 median train_loss: 0.18721945583820343, std train_loss 0.0\n",
      "Fold 4/4 median val_mee: 0.32290172576904297, std val_mee 0.0\n",
      "Fold 4/4 median train_mee: 0.3063916862010956, train_mee 0.0\n",
      "\n",
      "Mean val_loss: 0.1964847892522812, std val_loss: 0.008770706055306807\n",
      "Mean train_loss: 0.1893085613846779, std train_loss: 0.0024265369225915695\n",
      "Mean val_mee: 0.32008489966392517, std val_mee: 0.006205259620768515\n",
      "Mean train_mee: 0.32008489966392517, std train_mee: 0.0038974195919532478\n",
      "\n",
      "\n",
      "\n",
      "Testing configuration 108/180:\n",
      "{'batch_size': 16, 'learning_rate': 0.2, 'max_epochs': 500, 'momentum': 0.4, 'initialization': {'type': 'default'}, 'early_stopping': {'monitor': 'val_loss', 'patience': 20, 'delta': 0.01}, 'task': 'regression', 'trials_train': 1, 'trials_final': 5, 'nesterov': False, 'learning_rate_decay': {'epochs': 100, 'lr_final': 0.01}, 'regularization': {'method': 'l1', 'value': 0.001}, 'units_1': 50, 'activations_1': 'tanh', 'units_2': 50, 'activations_2': 'relu', 'units_3': 50, 'activations_3': 'tanh'}\n",
      "\n",
      "Executing fold 1/4\n"
     ]
    },
    {
     "name": "stderr",
     "output_type": "stream",
     "text": [
      "100%|█████████████████████████████████████████████| 1/1 [00:14<00:00, 14.46s/it]\n"
     ]
    },
    {
     "name": "stdout",
     "output_type": "stream",
     "text": [
      "Fold 1/4 median val_loss: 0.17984944581985474, std val_loss 0.0\n",
      "Fold 1/4 median train_loss: 0.18923881649971008, std train_loss 0.0\n",
      "Fold 1/4 median val_mee: 0.2974558174610138, std val_mee 0.0\n",
      "Fold 1/4 median train_mee: 0.31509023904800415, train_mee 0.0\n",
      "\n",
      "Executing fold 2/4\n"
     ]
    },
    {
     "name": "stderr",
     "output_type": "stream",
     "text": [
      "100%|█████████████████████████████████████████████| 1/1 [00:20<00:00, 20.76s/it]\n"
     ]
    },
    {
     "name": "stdout",
     "output_type": "stream",
     "text": [
      "Fold 2/4 median val_loss: 0.19718387722969055, std val_loss 0.0\n",
      "Fold 2/4 median train_loss: 0.18770337104797363, std train_loss 0.0\n",
      "Fold 2/4 median val_mee: 0.32446983456611633, std val_mee 0.0\n",
      "Fold 2/4 median train_mee: 0.3071151375770569, train_mee 0.0\n",
      "\n",
      "Executing fold 3/4\n"
     ]
    },
    {
     "name": "stderr",
     "output_type": "stream",
     "text": [
      "100%|█████████████████████████████████████████████| 1/1 [00:19<00:00, 19.78s/it]\n"
     ]
    },
    {
     "name": "stdout",
     "output_type": "stream",
     "text": [
      "Fold 3/4 median val_loss: 0.20064514875411987, std val_loss 0.0\n",
      "Fold 3/4 median train_loss: 0.19223782420158386, std train_loss 0.0\n",
      "Fold 3/4 median val_mee: 0.31101682782173157, std val_mee 0.0\n",
      "Fold 3/4 median train_mee: 0.3081825077533722, train_mee 0.0\n",
      "\n",
      "Executing fold 4/4\n"
     ]
    },
    {
     "name": "stderr",
     "output_type": "stream",
     "text": [
      "100%|█████████████████████████████████████████████| 1/1 [00:21<00:00, 21.39s/it]\n"
     ]
    },
    {
     "name": "stdout",
     "output_type": "stream",
     "text": [
      "Fold 4/4 median val_loss: 0.19638721644878387, std val_loss 0.0\n",
      "Fold 4/4 median train_loss: 0.18499305844306946, std train_loss 0.0\n",
      "Fold 4/4 median val_mee: 0.3136259913444519, std val_mee 0.0\n",
      "Fold 4/4 median train_mee: 0.3070192337036133, train_mee 0.0\n",
      "\n",
      "Mean val_loss: 0.19351642206311226, std val_loss: 0.008051345720941863\n",
      "Mean train_loss: 0.18854326754808426, std train_loss: 0.002619300862360701\n",
      "Mean val_mee: 0.3116421177983284, std val_mee: 0.009619357781797615\n",
      "Mean train_mee: 0.3116421177983284, std train_mee: 0.0033444151725395155\n",
      "\n",
      "\n",
      "\n",
      "Testing configuration 109/180:\n",
      "{'batch_size': 16, 'learning_rate': 0.2, 'max_epochs': 500, 'momentum': 0.4, 'initialization': {'type': 'default'}, 'early_stopping': {'monitor': 'val_loss', 'patience': 20, 'delta': 0.01}, 'task': 'regression', 'trials_train': 1, 'trials_final': 5, 'nesterov': False, 'learning_rate_decay': {'epochs': 100, 'lr_final': 0.01}, 'regularization': {'method': 'l1', 'value': 0.001}, 'units_1': 50, 'activations_1': 'tanh', 'units_2': 50, 'activations_2': 'relu', 'units_3': 50, 'activations_3': 'tanh'}\n",
      "\n",
      "Executing fold 1/4\n"
     ]
    },
    {
     "name": "stderr",
     "output_type": "stream",
     "text": [
      "100%|█████████████████████████████████████████████| 1/1 [00:16<00:00, 16.42s/it]\n"
     ]
    },
    {
     "name": "stdout",
     "output_type": "stream",
     "text": [
      "Fold 1/4 median val_loss: 0.1965724527835846, std val_loss 0.0\n",
      "Fold 1/4 median train_loss: 0.18220308423042297, std train_loss 0.0\n",
      "Fold 1/4 median val_mee: 0.3348015248775482, std val_mee 0.0\n",
      "Fold 1/4 median train_mee: 0.3072485625743866, train_mee 0.0\n",
      "\n",
      "Executing fold 2/4\n"
     ]
    },
    {
     "name": "stderr",
     "output_type": "stream",
     "text": [
      "100%|█████████████████████████████████████████████| 1/1 [00:15<00:00, 15.37s/it]\n"
     ]
    },
    {
     "name": "stdout",
     "output_type": "stream",
     "text": [
      "Fold 2/4 median val_loss: 0.17544259130954742, std val_loss 0.0\n",
      "Fold 2/4 median train_loss: 0.1876877397298813, std train_loss 0.0\n",
      "Fold 2/4 median val_mee: 0.2931531071662903, std val_mee 0.0\n",
      "Fold 2/4 median train_mee: 0.3141331970691681, train_mee 0.0\n",
      "\n",
      "Executing fold 3/4\n"
     ]
    },
    {
     "name": "stderr",
     "output_type": "stream",
     "text": [
      "100%|█████████████████████████████████████████████| 1/1 [00:14<00:00, 14.94s/it]\n"
     ]
    },
    {
     "name": "stdout",
     "output_type": "stream",
     "text": [
      "Fold 3/4 median val_loss: 0.18354856967926025, std val_loss 0.0\n",
      "Fold 3/4 median train_loss: 0.19187748432159424, std train_loss 0.0\n",
      "Fold 3/4 median val_mee: 0.3011459708213806, std val_mee 0.0\n",
      "Fold 3/4 median train_mee: 0.3122537434101105, train_mee 0.0\n",
      "\n",
      "Executing fold 4/4\n"
     ]
    },
    {
     "name": "stderr",
     "output_type": "stream",
     "text": [
      "100%|█████████████████████████████████████████████| 1/1 [00:14<00:00, 14.67s/it]\n"
     ]
    },
    {
     "name": "stdout",
     "output_type": "stream",
     "text": [
      "Fold 4/4 median val_loss: 0.21061822772026062, std val_loss 0.0\n",
      "Fold 4/4 median train_loss: 0.18566623330116272, std train_loss 0.0\n",
      "Fold 4/4 median val_mee: 0.3286721706390381, std val_mee 0.0\n",
      "Fold 4/4 median train_mee: 0.3025651276111603, train_mee 0.0\n",
      "\n",
      "Mean val_loss: 0.19154546037316322, std val_loss: 0.013344416058984423\n",
      "Mean train_loss: 0.1868586353957653, std train_loss: 0.003499008357573511\n",
      "Mean val_mee: 0.3144431933760643, std val_mee: 0.017656509804905778\n",
      "Mean train_mee: 0.3144431933760643, std train_mee: 0.0045111420638328185\n",
      "\n",
      "\n",
      "\n",
      "Testing configuration 110/180:\n",
      "{'batch_size': 16, 'learning_rate': 0.2, 'max_epochs': 500, 'momentum': 0.4, 'initialization': {'type': 'default'}, 'early_stopping': {'monitor': 'val_loss', 'patience': 20, 'delta': 0.01}, 'task': 'regression', 'trials_train': 1, 'trials_final': 5, 'nesterov': False, 'learning_rate_decay': {'epochs': 100, 'lr_final': 0.01}, 'regularization': {'method': 'l1', 'value': 0.001}, 'units_1': 50, 'activations_1': 'tanh', 'units_2': 50, 'activations_2': 'relu', 'units_3': 50, 'activations_3': 'tanh'}\n",
      "\n",
      "Executing fold 1/4\n"
     ]
    },
    {
     "name": "stderr",
     "output_type": "stream",
     "text": [
      "100%|█████████████████████████████████████████████| 1/1 [00:19<00:00, 19.67s/it]\n"
     ]
    },
    {
     "name": "stdout",
     "output_type": "stream",
     "text": [
      "Fold 1/4 median val_loss: 0.21012556552886963, std val_loss 0.0\n",
      "Fold 1/4 median train_loss: 0.19978459179401398, std train_loss 0.0\n",
      "Fold 1/4 median val_mee: 0.32089632749557495, std val_mee 0.0\n",
      "Fold 1/4 median train_mee: 0.3120199143886566, train_mee 0.0\n",
      "\n",
      "Executing fold 2/4\n"
     ]
    },
    {
     "name": "stderr",
     "output_type": "stream",
     "text": [
      "100%|█████████████████████████████████████████████| 1/1 [00:14<00:00, 14.46s/it]\n"
     ]
    },
    {
     "name": "stdout",
     "output_type": "stream",
     "text": [
      "Fold 2/4 median val_loss: 0.19056598842144012, std val_loss 0.0\n",
      "Fold 2/4 median train_loss: 0.1970292627811432, std train_loss 0.0\n",
      "Fold 2/4 median val_mee: 0.3051597774028778, std val_mee 0.0\n",
      "Fold 2/4 median train_mee: 0.31318944692611694, train_mee 0.0\n",
      "\n",
      "Executing fold 3/4\n"
     ]
    },
    {
     "name": "stderr",
     "output_type": "stream",
     "text": [
      "100%|█████████████████████████████████████████████| 1/1 [00:21<00:00, 21.31s/it]\n"
     ]
    },
    {
     "name": "stdout",
     "output_type": "stream",
     "text": [
      "Fold 3/4 median val_loss: 0.18150919675827026, std val_loss 0.0\n",
      "Fold 3/4 median train_loss: 0.1886548548936844, std train_loss 0.0\n",
      "Fold 3/4 median val_mee: 0.2932600975036621, std val_mee 0.0\n",
      "Fold 3/4 median train_mee: 0.31536558270454407, train_mee 0.0\n",
      "\n",
      "Executing fold 4/4\n"
     ]
    },
    {
     "name": "stderr",
     "output_type": "stream",
     "text": [
      "100%|█████████████████████████████████████████████| 1/1 [00:13<00:00, 13.86s/it]\n"
     ]
    },
    {
     "name": "stdout",
     "output_type": "stream",
     "text": [
      "Fold 4/4 median val_loss: 0.20139385759830475, std val_loss 0.0\n",
      "Fold 4/4 median train_loss: 0.1835232824087143, std train_loss 0.0\n",
      "Fold 4/4 median val_mee: 0.33585044741630554, std val_mee 0.0\n",
      "Fold 4/4 median train_mee: 0.30152300000190735, train_mee 0.0\n",
      "\n",
      "Mean val_loss: 0.1958986520767212, std val_loss: 0.010817764049486103\n",
      "Mean train_loss: 0.19224799796938896, std train_loss: 0.0064940757320548995\n",
      "Mean val_mee: 0.3137916624546051, std val_mee: 0.016071098735089214\n",
      "Mean train_mee: 0.3137916624546051, std train_mee: 0.005333884379135333\n",
      "\n",
      "\n",
      "\n",
      "Testing configuration 111/180:\n",
      "{'batch_size': 16, 'learning_rate': 0.2, 'max_epochs': 500, 'momentum': 0.4, 'initialization': {'type': 'default'}, 'early_stopping': {'monitor': 'val_loss', 'patience': 20, 'delta': 0.01}, 'task': 'regression', 'trials_train': 1, 'trials_final': 5, 'nesterov': False, 'learning_rate_decay': {'epochs': 100, 'lr_final': 0.01}, 'regularization': {'method': 'l1', 'value': 0.0001}, 'units_1': 50, 'activations_1': 'tanh', 'units_2': 50, 'activations_2': 'relu', 'units_3': 50, 'activations_3': 'tanh'}\n",
      "\n",
      "Executing fold 1/4\n"
     ]
    },
    {
     "name": "stderr",
     "output_type": "stream",
     "text": [
      "100%|█████████████████████████████████████████████| 1/1 [00:02<00:00,  2.60s/it]\n"
     ]
    },
    {
     "name": "stdout",
     "output_type": "stream",
     "text": [
      "Fold 1/4 median val_loss: 0.14699535071849823, std val_loss 0.0\n",
      "Fold 1/4 median train_loss: 0.13673940300941467, std train_loss 0.0\n",
      "Fold 1/4 median val_mee: 0.3041400909423828, std val_mee 0.0\n",
      "Fold 1/4 median train_mee: 0.2844923138618469, train_mee 0.0\n",
      "\n",
      "Executing fold 2/4\n"
     ]
    },
    {
     "name": "stderr",
     "output_type": "stream",
     "text": [
      "100%|█████████████████████████████████████████████| 1/1 [00:02<00:00,  2.80s/it]\n"
     ]
    },
    {
     "name": "stdout",
     "output_type": "stream",
     "text": [
      "Fold 2/4 median val_loss: 0.13577143847942352, std val_loss 0.0\n",
      "Fold 2/4 median train_loss: 0.14320115745067596, std train_loss 0.0\n",
      "Fold 2/4 median val_mee: 0.2766820788383484, std val_mee 0.0\n",
      "Fold 2/4 median train_mee: 0.29816633462905884, train_mee 0.0\n",
      "\n",
      "Executing fold 3/4\n"
     ]
    },
    {
     "name": "stderr",
     "output_type": "stream",
     "text": [
      "100%|█████████████████████████████████████████████| 1/1 [00:03<00:00,  3.04s/it]\n"
     ]
    },
    {
     "name": "stdout",
     "output_type": "stream",
     "text": [
      "Fold 3/4 median val_loss: 0.1580289602279663, std val_loss 0.0\n",
      "Fold 3/4 median train_loss: 0.13570116460323334, std train_loss 0.0\n",
      "Fold 3/4 median val_mee: 0.3231104016304016, std val_mee 0.0\n",
      "Fold 3/4 median train_mee: 0.27735862135887146, train_mee 0.0\n",
      "\n",
      "Executing fold 4/4\n"
     ]
    },
    {
     "name": "stderr",
     "output_type": "stream",
     "text": [
      "100%|█████████████████████████████████████████████| 1/1 [00:03<00:00,  3.14s/it]\n"
     ]
    },
    {
     "name": "stdout",
     "output_type": "stream",
     "text": [
      "Fold 4/4 median val_loss: 0.1591961681842804, std val_loss 0.0\n",
      "Fold 4/4 median train_loss: 0.1338641494512558, std train_loss 0.0\n",
      "Fold 4/4 median val_mee: 0.3139875531196594, std val_mee 0.0\n",
      "Fold 4/4 median train_mee: 0.28077811002731323, train_mee 0.0\n",
      "\n",
      "Mean val_loss: 0.14999797940254211, std val_loss: 0.009493597520621965\n",
      "Mean train_loss: 0.13737646862864494, std train_loss: 0.0035169547217057777\n",
      "Mean val_mee: 0.30448003113269806, std val_mee: 0.017394865552126212\n",
      "Mean train_mee: 0.30448003113269806, std train_mee: 0.007900426855091045\n",
      "\n",
      "\n",
      "\n",
      "Testing configuration 112/180:\n",
      "{'batch_size': 16, 'learning_rate': 0.2, 'max_epochs': 500, 'momentum': 0.4, 'initialization': {'type': 'default'}, 'early_stopping': {'monitor': 'val_loss', 'patience': 20, 'delta': 0.01}, 'task': 'regression', 'trials_train': 1, 'trials_final': 5, 'nesterov': False, 'learning_rate_decay': {'epochs': 100, 'lr_final': 0.01}, 'regularization': {'method': 'l1', 'value': 0.0001}, 'units_1': 50, 'activations_1': 'tanh', 'units_2': 50, 'activations_2': 'relu', 'units_3': 50, 'activations_3': 'tanh'}\n",
      "\n",
      "Executing fold 1/4\n"
     ]
    },
    {
     "name": "stderr",
     "output_type": "stream",
     "text": [
      "100%|█████████████████████████████████████████████| 1/1 [00:05<00:00,  5.54s/it]\n"
     ]
    },
    {
     "name": "stdout",
     "output_type": "stream",
     "text": [
      "Fold 1/4 median val_loss: 0.15107788145542145, std val_loss 0.0\n",
      "Fold 1/4 median train_loss: 0.1366157978773117, std train_loss 0.0\n",
      "Fold 1/4 median val_mee: 0.3040616512298584, std val_mee 0.0\n",
      "Fold 1/4 median train_mee: 0.29046937823295593, train_mee 0.0\n",
      "\n",
      "Executing fold 2/4\n"
     ]
    },
    {
     "name": "stderr",
     "output_type": "stream",
     "text": [
      "100%|█████████████████████████████████████████████| 1/1 [00:02<00:00,  2.50s/it]\n"
     ]
    },
    {
     "name": "stdout",
     "output_type": "stream",
     "text": [
      "Fold 2/4 median val_loss: 0.15651121735572815, std val_loss 0.0\n",
      "Fold 2/4 median train_loss: 0.1379687637090683, std train_loss 0.0\n",
      "Fold 2/4 median val_mee: 0.3194093108177185, std val_mee 0.0\n",
      "Fold 2/4 median train_mee: 0.2837694585323334, train_mee 0.0\n",
      "\n",
      "Executing fold 3/4\n"
     ]
    },
    {
     "name": "stderr",
     "output_type": "stream",
     "text": [
      "100%|█████████████████████████████████████████████| 1/1 [00:02<00:00,  2.46s/it]\n"
     ]
    },
    {
     "name": "stdout",
     "output_type": "stream",
     "text": [
      "Fold 3/4 median val_loss: 0.14209844172000885, std val_loss 0.0\n",
      "Fold 3/4 median train_loss: 0.1396900862455368, std train_loss 0.0\n",
      "Fold 3/4 median val_mee: 0.29192209243774414, std val_mee 0.0\n",
      "Fold 3/4 median train_mee: 0.2927379310131073, train_mee 0.0\n",
      "\n",
      "Executing fold 4/4\n"
     ]
    },
    {
     "name": "stderr",
     "output_type": "stream",
     "text": [
      "100%|█████████████████████████████████████████████| 1/1 [00:02<00:00,  2.84s/it]\n"
     ]
    },
    {
     "name": "stdout",
     "output_type": "stream",
     "text": [
      "Fold 4/4 median val_loss: 0.15159569680690765, std val_loss 0.0\n",
      "Fold 4/4 median train_loss: 0.13748982548713684, std train_loss 0.0\n",
      "Fold 4/4 median val_mee: 0.3151421844959259, std val_mee 0.0\n",
      "Fold 4/4 median train_mee: 0.28364142775535583, train_mee 0.0\n",
      "\n",
      "Mean val_loss: 0.15032080933451653, std val_loss: 0.005199206115377067\n",
      "Mean train_loss: 0.1379411183297634, std train_loss: 0.001120244679622983\n",
      "Mean val_mee: 0.30763380974531174, std val_mee: 0.010661337792631353\n",
      "Mean train_mee: 0.30763380974531174, std train_mee: 0.004029984688806351\n",
      "\n",
      "\n",
      "\n",
      "Testing configuration 113/180:\n",
      "{'batch_size': 16, 'learning_rate': 0.2, 'max_epochs': 500, 'momentum': 0.4, 'initialization': {'type': 'default'}, 'early_stopping': {'monitor': 'val_loss', 'patience': 20, 'delta': 0.01}, 'task': 'regression', 'trials_train': 1, 'trials_final': 5, 'nesterov': False, 'learning_rate_decay': {'epochs': 100, 'lr_final': 0.01}, 'regularization': {'method': 'l1', 'value': 0.0001}, 'units_1': 50, 'activations_1': 'tanh', 'units_2': 50, 'activations_2': 'relu', 'units_3': 50, 'activations_3': 'tanh'}\n",
      "\n",
      "Executing fold 1/4\n"
     ]
    },
    {
     "name": "stderr",
     "output_type": "stream",
     "text": [
      "100%|█████████████████████████████████████████████| 1/1 [00:02<00:00,  2.73s/it]\n"
     ]
    },
    {
     "name": "stdout",
     "output_type": "stream",
     "text": [
      "Fold 1/4 median val_loss: 0.1683042198419571, std val_loss 0.0\n",
      "Fold 1/4 median train_loss: 0.1305779069662094, std train_loss 0.0\n",
      "Fold 1/4 median val_mee: 0.32347092032432556, std val_mee 0.0\n",
      "Fold 1/4 median train_mee: 0.2794286012649536, train_mee 0.0\n",
      "\n",
      "Executing fold 2/4\n"
     ]
    },
    {
     "name": "stderr",
     "output_type": "stream",
     "text": [
      "100%|█████████████████████████████████████████████| 1/1 [00:02<00:00,  2.77s/it]\n"
     ]
    },
    {
     "name": "stdout",
     "output_type": "stream",
     "text": [
      "Fold 2/4 median val_loss: 0.13837385177612305, std val_loss 0.0\n",
      "Fold 2/4 median train_loss: 0.13990667462348938, std train_loss 0.0\n",
      "Fold 2/4 median val_mee: 0.2981816530227661, std val_mee 0.0\n",
      "Fold 2/4 median train_mee: 0.28924280405044556, train_mee 0.0\n",
      "\n",
      "Executing fold 3/4\n"
     ]
    },
    {
     "name": "stderr",
     "output_type": "stream",
     "text": [
      "100%|█████████████████████████████████████████████| 1/1 [00:03<00:00,  3.39s/it]\n"
     ]
    },
    {
     "name": "stdout",
     "output_type": "stream",
     "text": [
      "Fold 3/4 median val_loss: 0.1603325605392456, std val_loss 0.0\n",
      "Fold 3/4 median train_loss: 0.13275597989559174, std train_loss 0.0\n",
      "Fold 3/4 median val_mee: 0.31859809160232544, std val_mee 0.0\n",
      "Fold 3/4 median train_mee: 0.28025931119918823, train_mee 0.0\n",
      "\n",
      "Executing fold 4/4\n"
     ]
    },
    {
     "name": "stderr",
     "output_type": "stream",
     "text": [
      "100%|█████████████████████████████████████████████| 1/1 [00:03<00:00,  3.06s/it]\n"
     ]
    },
    {
     "name": "stdout",
     "output_type": "stream",
     "text": [
      "Fold 4/4 median val_loss: 0.1405676007270813, std val_loss 0.0\n",
      "Fold 4/4 median train_loss: 0.1405535638332367, std train_loss 0.0\n",
      "Fold 4/4 median val_mee: 0.29315274953842163, std val_mee 0.0\n",
      "Fold 4/4 median train_mee: 0.29026728868484497, train_mee 0.0\n",
      "\n",
      "Mean val_loss: 0.15189455822110176, std val_loss: 0.012763094711654072\n",
      "Mean train_loss: 0.1359485313296318, std train_loss: 0.004356294681433543\n",
      "Mean val_mee: 0.3083508536219597, std val_mee: 0.012923015436334303\n",
      "Mean train_mee: 0.3083508536219597, std train_mee: 0.004977437381724588\n",
      "\n",
      "\n",
      "\n",
      "Testing configuration 114/180:\n",
      "{'batch_size': 16, 'learning_rate': 0.2, 'max_epochs': 500, 'momentum': 0.4, 'initialization': {'type': 'default'}, 'early_stopping': {'monitor': 'val_loss', 'patience': 20, 'delta': 0.01}, 'task': 'regression', 'trials_train': 1, 'trials_final': 5, 'nesterov': False, 'learning_rate_decay': {'epochs': 100, 'lr_final': 0.01}, 'regularization': {'method': 'l1', 'value': 0.0001}, 'units_1': 50, 'activations_1': 'tanh', 'units_2': 50, 'activations_2': 'relu', 'units_3': 50, 'activations_3': 'tanh'}\n",
      "\n",
      "Executing fold 1/4\n"
     ]
    },
    {
     "name": "stderr",
     "output_type": "stream",
     "text": [
      "100%|█████████████████████████████████████████████| 1/1 [00:04<00:00,  4.54s/it]\n"
     ]
    },
    {
     "name": "stdout",
     "output_type": "stream",
     "text": [
      "Fold 1/4 median val_loss: 0.14288175106048584, std val_loss 0.0\n",
      "Fold 1/4 median train_loss: 0.13999031484127045, std train_loss 0.0\n",
      "Fold 1/4 median val_mee: 0.30773335695266724, std val_mee 0.0\n",
      "Fold 1/4 median train_mee: 0.2929658591747284, train_mee 0.0\n",
      "\n",
      "Executing fold 2/4\n"
     ]
    },
    {
     "name": "stderr",
     "output_type": "stream",
     "text": [
      "100%|█████████████████████████████████████████████| 1/1 [00:03<00:00,  3.36s/it]\n"
     ]
    },
    {
     "name": "stdout",
     "output_type": "stream",
     "text": [
      "Fold 2/4 median val_loss: 0.1450953334569931, std val_loss 0.0\n",
      "Fold 2/4 median train_loss: 0.13922855257987976, std train_loss 0.0\n",
      "Fold 2/4 median val_mee: 0.2923228442668915, std val_mee 0.0\n",
      "Fold 2/4 median train_mee: 0.29094329476356506, train_mee 0.0\n",
      "\n",
      "Executing fold 3/4\n"
     ]
    },
    {
     "name": "stderr",
     "output_type": "stream",
     "text": [
      "100%|█████████████████████████████████████████████| 1/1 [00:02<00:00,  2.52s/it]\n"
     ]
    },
    {
     "name": "stdout",
     "output_type": "stream",
     "text": [
      "Fold 3/4 median val_loss: 0.15881484746932983, std val_loss 0.0\n",
      "Fold 3/4 median train_loss: 0.13411417603492737, std train_loss 0.0\n",
      "Fold 3/4 median val_mee: 0.3276999890804291, std val_mee 0.0\n",
      "Fold 3/4 median train_mee: 0.28028035163879395, train_mee 0.0\n",
      "\n",
      "Executing fold 4/4\n"
     ]
    },
    {
     "name": "stderr",
     "output_type": "stream",
     "text": [
      "100%|█████████████████████████████████████████████| 1/1 [00:03<00:00,  3.17s/it]\n"
     ]
    },
    {
     "name": "stdout",
     "output_type": "stream",
     "text": [
      "Fold 4/4 median val_loss: 0.15712997317314148, std val_loss 0.0\n",
      "Fold 4/4 median train_loss: 0.1355973333120346, std train_loss 0.0\n",
      "Fold 4/4 median val_mee: 0.314563125371933, std val_mee 0.0\n",
      "Fold 4/4 median train_mee: 0.28229615092277527, train_mee 0.0\n",
      "\n",
      "Mean val_loss: 0.15098047628998756, std val_loss: 0.007060770853797451\n",
      "Mean train_loss: 0.13723259419202805, std train_loss: 0.0024488509046829317\n",
      "Mean val_mee: 0.3105798289179802, std val_mee: 0.012751337437964852\n",
      "Mean train_mee: 0.3105798289179802, std train_mee: 0.005427881964116292\n",
      "\n",
      "\n",
      "\n",
      "Testing configuration 115/180:\n",
      "{'batch_size': 16, 'learning_rate': 0.2, 'max_epochs': 500, 'momentum': 0.4, 'initialization': {'type': 'default'}, 'early_stopping': {'monitor': 'val_loss', 'patience': 20, 'delta': 0.01}, 'task': 'regression', 'trials_train': 1, 'trials_final': 5, 'nesterov': False, 'learning_rate_decay': {'epochs': 100, 'lr_final': 0.01}, 'regularization': {'method': 'l1', 'value': 0.0001}, 'units_1': 50, 'activations_1': 'tanh', 'units_2': 50, 'activations_2': 'relu', 'units_3': 50, 'activations_3': 'tanh'}\n",
      "\n",
      "Executing fold 1/4\n"
     ]
    },
    {
     "name": "stderr",
     "output_type": "stream",
     "text": [
      "100%|█████████████████████████████████████████████| 1/1 [00:03<00:00,  3.49s/it]\n"
     ]
    },
    {
     "name": "stdout",
     "output_type": "stream",
     "text": [
      "Fold 1/4 median val_loss: 0.14900122582912445, std val_loss 0.0\n",
      "Fold 1/4 median train_loss: 0.13516657054424286, std train_loss 0.0\n",
      "Fold 1/4 median val_mee: 0.3127670884132385, std val_mee 0.0\n",
      "Fold 1/4 median train_mee: 0.28374671936035156, train_mee 0.0\n",
      "\n",
      "Executing fold 2/4\n"
     ]
    },
    {
     "name": "stderr",
     "output_type": "stream",
     "text": [
      "100%|█████████████████████████████████████████████| 1/1 [00:02<00:00,  2.84s/it]\n"
     ]
    },
    {
     "name": "stdout",
     "output_type": "stream",
     "text": [
      "Fold 2/4 median val_loss: 0.1503961682319641, std val_loss 0.0\n",
      "Fold 2/4 median train_loss: 0.13554459810256958, std train_loss 0.0\n",
      "Fold 2/4 median val_mee: 0.31740859150886536, std val_mee 0.0\n",
      "Fold 2/4 median train_mee: 0.28497833013534546, train_mee 0.0\n",
      "\n",
      "Executing fold 3/4\n"
     ]
    },
    {
     "name": "stderr",
     "output_type": "stream",
     "text": [
      "100%|█████████████████████████████████████████████| 1/1 [00:03<00:00,  3.17s/it]\n"
     ]
    },
    {
     "name": "stdout",
     "output_type": "stream",
     "text": [
      "Fold 3/4 median val_loss: 0.15734659135341644, std val_loss 0.0\n",
      "Fold 3/4 median train_loss: 0.13156992197036743, std train_loss 0.0\n",
      "Fold 3/4 median val_mee: 0.319836288690567, std val_mee 0.0\n",
      "Fold 3/4 median train_mee: 0.2747475802898407, train_mee 0.0\n",
      "\n",
      "Executing fold 4/4\n"
     ]
    },
    {
     "name": "stderr",
     "output_type": "stream",
     "text": [
      "100%|█████████████████████████████████████████████| 1/1 [00:03<00:00,  3.19s/it]\n"
     ]
    },
    {
     "name": "stdout",
     "output_type": "stream",
     "text": [
      "Fold 4/4 median val_loss: 0.14197078347206116, std val_loss 0.0\n",
      "Fold 4/4 median train_loss: 0.1408054679632187, std train_loss 0.0\n",
      "Fold 4/4 median val_mee: 0.28583723306655884, std val_mee 0.0\n",
      "Fold 4/4 median train_mee: 0.29490143060684204, train_mee 0.0\n",
      "\n",
      "Mean val_loss: 0.14967869222164154, std val_loss: 0.005458531554486761\n",
      "Mean train_loss: 0.13577163964509964, std train_loss: 0.0032943707833704887\n",
      "Mean val_mee: 0.30896230041980743, std val_mee: 0.013590700918651673\n",
      "Mean train_mee: 0.30896230041980743, std train_mee: 0.007142490812353488\n",
      "\n",
      "\n",
      "\n",
      "Testing configuration 116/180:\n",
      "{'batch_size': 16, 'learning_rate': 0.2, 'max_epochs': 500, 'momentum': 0.4, 'initialization': {'type': 'default'}, 'early_stopping': {'monitor': 'val_loss', 'patience': 20, 'delta': 0.01}, 'task': 'regression', 'trials_train': 1, 'trials_final': 5, 'nesterov': False, 'learning_rate_decay': {'epochs': 100, 'lr_final': 0.01}, 'regularization': {'method': 'l1', 'value': 1e-05}, 'units_1': 50, 'activations_1': 'tanh', 'units_2': 50, 'activations_2': 'relu', 'units_3': 50, 'activations_3': 'tanh'}\n",
      "\n",
      "Executing fold 1/4\n"
     ]
    },
    {
     "name": "stderr",
     "output_type": "stream",
     "text": [
      "100%|█████████████████████████████████████████████| 1/1 [00:02<00:00,  2.81s/it]\n"
     ]
    },
    {
     "name": "stdout",
     "output_type": "stream",
     "text": [
      "Fold 1/4 median val_loss: 0.10266329348087311, std val_loss 0.0\n",
      "Fold 1/4 median train_loss: 0.07483197748661041, std train_loss 0.0\n",
      "Fold 1/4 median val_mee: 0.32042402029037476, std val_mee 0.0\n",
      "Fold 1/4 median train_mee: 0.2743431031703949, train_mee 0.0\n",
      "\n",
      "Executing fold 2/4\n"
     ]
    },
    {
     "name": "stderr",
     "output_type": "stream",
     "text": [
      "100%|█████████████████████████████████████████████| 1/1 [00:02<00:00,  2.99s/it]\n"
     ]
    },
    {
     "name": "stdout",
     "output_type": "stream",
     "text": [
      "Fold 2/4 median val_loss: 0.08870437741279602, std val_loss 0.0\n",
      "Fold 2/4 median train_loss: 0.07846882939338684, std train_loss 0.0\n",
      "Fold 2/4 median val_mee: 0.2999016046524048, std val_mee 0.0\n",
      "Fold 2/4 median train_mee: 0.2831028997898102, train_mee 0.0\n",
      "\n",
      "Executing fold 3/4\n"
     ]
    },
    {
     "name": "stderr",
     "output_type": "stream",
     "text": [
      "100%|█████████████████████████████████████████████| 1/1 [00:02<00:00,  2.49s/it]\n"
     ]
    },
    {
     "name": "stdout",
     "output_type": "stream",
     "text": [
      "Fold 3/4 median val_loss: 0.08951517194509506, std val_loss 0.0\n",
      "Fold 3/4 median train_loss: 0.07934016734361649, std train_loss 0.0\n",
      "Fold 3/4 median val_mee: 0.30174413323402405, std val_mee 0.0\n",
      "Fold 3/4 median train_mee: 0.28434857726097107, train_mee 0.0\n",
      "\n",
      "Executing fold 4/4\n"
     ]
    },
    {
     "name": "stderr",
     "output_type": "stream",
     "text": [
      "100%|█████████████████████████████████████████████| 1/1 [00:03<00:00,  3.13s/it]\n"
     ]
    },
    {
     "name": "stdout",
     "output_type": "stream",
     "text": [
      "Fold 4/4 median val_loss: 0.08768460154533386, std val_loss 0.0\n",
      "Fold 4/4 median train_loss: 0.08219163119792938, std train_loss 0.0\n",
      "Fold 4/4 median val_mee: 0.29534682631492615, std val_mee 0.0\n",
      "Fold 4/4 median train_mee: 0.2900392413139343, train_mee 0.0\n",
      "\n",
      "Mean val_loss: 0.09214186109602451, std val_loss: 0.006109081193175378\n",
      "Mean train_loss: 0.07870815135538578, std train_loss: 0.0026275499464928757\n",
      "Mean val_mee: 0.30435414612293243, std val_mee: 0.009565693371472986\n",
      "Mean train_mee: 0.30435414612293243, std train_mee: 0.005619500114984199\n",
      "\n",
      "\n",
      "\n",
      "Testing configuration 117/180:\n",
      "{'batch_size': 16, 'learning_rate': 0.2, 'max_epochs': 500, 'momentum': 0.4, 'initialization': {'type': 'default'}, 'early_stopping': {'monitor': 'val_loss', 'patience': 20, 'delta': 0.01}, 'task': 'regression', 'trials_train': 1, 'trials_final': 5, 'nesterov': False, 'learning_rate_decay': {'epochs': 100, 'lr_final': 0.01}, 'regularization': {'method': 'l1', 'value': 1e-05}, 'units_1': 50, 'activations_1': 'tanh', 'units_2': 50, 'activations_2': 'relu', 'units_3': 50, 'activations_3': 'tanh'}\n",
      "\n",
      "Executing fold 1/4\n"
     ]
    },
    {
     "name": "stderr",
     "output_type": "stream",
     "text": [
      "100%|█████████████████████████████████████████████| 1/1 [00:02<00:00,  2.48s/it]\n"
     ]
    },
    {
     "name": "stdout",
     "output_type": "stream",
     "text": [
      "Fold 1/4 median val_loss: 0.09014362096786499, std val_loss 0.0\n",
      "Fold 1/4 median train_loss: 0.08107490837574005, std train_loss 0.0\n",
      "Fold 1/4 median val_mee: 0.29824021458625793, std val_mee 0.0\n",
      "Fold 1/4 median train_mee: 0.28890714049339294, train_mee 0.0\n",
      "\n",
      "Executing fold 2/4\n"
     ]
    },
    {
     "name": "stderr",
     "output_type": "stream",
     "text": [
      "100%|█████████████████████████████████████████████| 1/1 [00:02<00:00,  2.49s/it]\n"
     ]
    },
    {
     "name": "stdout",
     "output_type": "stream",
     "text": [
      "Fold 2/4 median val_loss: 0.10428259521722794, std val_loss 0.0\n",
      "Fold 2/4 median train_loss: 0.07530583441257477, std train_loss 0.0\n",
      "Fold 2/4 median val_mee: 0.33278077840805054, std val_mee 0.0\n",
      "Fold 2/4 median train_mee: 0.27735069394111633, train_mee 0.0\n",
      "\n",
      "Executing fold 3/4\n"
     ]
    },
    {
     "name": "stderr",
     "output_type": "stream",
     "text": [
      "100%|█████████████████████████████████████████████| 1/1 [00:02<00:00,  2.66s/it]\n"
     ]
    },
    {
     "name": "stdout",
     "output_type": "stream",
     "text": [
      "Fold 3/4 median val_loss: 0.0883641466498375, std val_loss 0.0\n",
      "Fold 3/4 median train_loss: 0.07898993045091629, std train_loss 0.0\n",
      "Fold 3/4 median val_mee: 0.3009798228740692, std val_mee 0.0\n",
      "Fold 3/4 median train_mee: 0.28436279296875, train_mee 0.0\n",
      "\n",
      "Executing fold 4/4\n"
     ]
    },
    {
     "name": "stderr",
     "output_type": "stream",
     "text": [
      "100%|█████████████████████████████████████████████| 1/1 [00:02<00:00,  2.25s/it]\n"
     ]
    },
    {
     "name": "stdout",
     "output_type": "stream",
     "text": [
      "Fold 4/4 median val_loss: 0.08321382105350494, std val_loss 0.0\n",
      "Fold 4/4 median train_loss: 0.08237479627132416, std train_loss 0.0\n",
      "Fold 4/4 median val_mee: 0.29564177989959717, std val_mee 0.0\n",
      "Fold 4/4 median train_mee: 0.2903699576854706, train_mee 0.0\n",
      "\n",
      "Mean val_loss: 0.09150104597210884, std val_loss: 0.007805908626757469\n",
      "Mean train_loss: 0.07943636737763882, std train_loss: 0.002673003435778081\n",
      "Mean val_mee: 0.3069106489419937, std val_mee: 0.015054917285145748\n",
      "Mean train_mee: 0.3069106489419937, std train_mee: 0.0050688951867616265\n",
      "\n",
      "\n",
      "\n",
      "Testing configuration 118/180:\n",
      "{'batch_size': 16, 'learning_rate': 0.2, 'max_epochs': 500, 'momentum': 0.4, 'initialization': {'type': 'default'}, 'early_stopping': {'monitor': 'val_loss', 'patience': 20, 'delta': 0.01}, 'task': 'regression', 'trials_train': 1, 'trials_final': 5, 'nesterov': False, 'learning_rate_decay': {'epochs': 100, 'lr_final': 0.01}, 'regularization': {'method': 'l1', 'value': 1e-05}, 'units_1': 50, 'activations_1': 'tanh', 'units_2': 50, 'activations_2': 'relu', 'units_3': 50, 'activations_3': 'tanh'}\n",
      "\n",
      "Executing fold 1/4\n"
     ]
    },
    {
     "name": "stderr",
     "output_type": "stream",
     "text": [
      "100%|█████████████████████████████████████████████| 1/1 [00:03<00:00,  3.39s/it]\n"
     ]
    },
    {
     "name": "stdout",
     "output_type": "stream",
     "text": [
      "Fold 1/4 median val_loss: 0.10546790063381195, std val_loss 0.0\n",
      "Fold 1/4 median train_loss: 0.07666153460741043, std train_loss 0.0\n",
      "Fold 1/4 median val_mee: 0.3304505944252014, std val_mee 0.0\n",
      "Fold 1/4 median train_mee: 0.27658742666244507, train_mee 0.0\n",
      "\n",
      "Executing fold 2/4\n"
     ]
    },
    {
     "name": "stderr",
     "output_type": "stream",
     "text": [
      "100%|█████████████████████████████████████████████| 1/1 [00:02<00:00,  2.23s/it]\n"
     ]
    },
    {
     "name": "stdout",
     "output_type": "stream",
     "text": [
      "Fold 2/4 median val_loss: 0.08394137024879456, std val_loss 0.0\n",
      "Fold 2/4 median train_loss: 0.08263498544692993, std train_loss 0.0\n",
      "Fold 2/4 median val_mee: 0.3022219240665436, std val_mee 0.0\n",
      "Fold 2/4 median train_mee: 0.2920457720756531, train_mee 0.0\n",
      "\n",
      "Executing fold 3/4\n"
     ]
    },
    {
     "name": "stderr",
     "output_type": "stream",
     "text": [
      "100%|█████████████████████████████████████████████| 1/1 [00:02<00:00,  2.95s/it]\n"
     ]
    },
    {
     "name": "stdout",
     "output_type": "stream",
     "text": [
      "Fold 3/4 median val_loss: 0.09548448026180267, std val_loss 0.0\n",
      "Fold 3/4 median train_loss: 0.08097504824399948, std train_loss 0.0\n",
      "Fold 3/4 median val_mee: 0.3042455315589905, std val_mee 0.0\n",
      "Fold 3/4 median train_mee: 0.2930733561515808, train_mee 0.0\n",
      "\n",
      "Executing fold 4/4\n"
     ]
    },
    {
     "name": "stderr",
     "output_type": "stream",
     "text": [
      "100%|█████████████████████████████████████████████| 1/1 [00:02<00:00,  2.41s/it]\n"
     ]
    },
    {
     "name": "stdout",
     "output_type": "stream",
     "text": [
      "Fold 4/4 median val_loss: 0.09618847817182541, std val_loss 0.0\n",
      "Fold 4/4 median train_loss: 0.08006400614976883, std train_loss 0.0\n",
      "Fold 4/4 median val_mee: 0.3156730830669403, std val_mee 0.0\n",
      "Fold 4/4 median train_mee: 0.28527796268463135, train_mee 0.0\n",
      "\n",
      "Mean val_loss: 0.09527055732905865, std val_loss: 0.007635846908977407\n",
      "Mean train_loss: 0.08008389361202717, std train_loss: 0.002180318944319248\n",
      "Mean val_mee: 0.31314778327941895, std val_mee: 0.01122930204639757\n",
      "Mean train_mee: 0.31314778327941895, std train_mee: 0.0065854909777032875\n",
      "\n",
      "\n",
      "\n",
      "Testing configuration 119/180:\n",
      "{'batch_size': 16, 'learning_rate': 0.2, 'max_epochs': 500, 'momentum': 0.4, 'initialization': {'type': 'default'}, 'early_stopping': {'monitor': 'val_loss', 'patience': 20, 'delta': 0.01}, 'task': 'regression', 'trials_train': 1, 'trials_final': 5, 'nesterov': False, 'learning_rate_decay': {'epochs': 100, 'lr_final': 0.01}, 'regularization': {'method': 'l1', 'value': 1e-05}, 'units_1': 50, 'activations_1': 'tanh', 'units_2': 50, 'activations_2': 'relu', 'units_3': 50, 'activations_3': 'tanh'}\n",
      "\n",
      "Executing fold 1/4\n"
     ]
    },
    {
     "name": "stderr",
     "output_type": "stream",
     "text": [
      "100%|█████████████████████████████████████████████| 1/1 [00:04<00:00,  4.41s/it]\n"
     ]
    },
    {
     "name": "stdout",
     "output_type": "stream",
     "text": [
      "Fold 1/4 median val_loss: 0.10048602521419525, std val_loss 0.0\n",
      "Fold 1/4 median train_loss: 0.07627017796039581, std train_loss 0.0\n",
      "Fold 1/4 median val_mee: 0.3230815529823303, std val_mee 0.0\n",
      "Fold 1/4 median train_mee: 0.27762752771377563, train_mee 0.0\n",
      "\n",
      "Executing fold 2/4\n"
     ]
    },
    {
     "name": "stderr",
     "output_type": "stream",
     "text": [
      "100%|█████████████████████████████████████████████| 1/1 [00:02<00:00,  2.83s/it]\n"
     ]
    },
    {
     "name": "stdout",
     "output_type": "stream",
     "text": [
      "Fold 2/4 median val_loss: 0.09289047122001648, std val_loss 0.0\n",
      "Fold 2/4 median train_loss: 0.08113335818052292, std train_loss 0.0\n",
      "Fold 2/4 median val_mee: 0.30136388540267944, std val_mee 0.0\n",
      "Fold 2/4 median train_mee: 0.2901528477668762, train_mee 0.0\n",
      "\n",
      "Executing fold 3/4\n"
     ]
    },
    {
     "name": "stderr",
     "output_type": "stream",
     "text": [
      "100%|█████████████████████████████████████████████| 1/1 [00:02<00:00,  2.96s/it]\n"
     ]
    },
    {
     "name": "stdout",
     "output_type": "stream",
     "text": [
      "Fold 3/4 median val_loss: 0.08953642100095749, std val_loss 0.0\n",
      "Fold 3/4 median train_loss: 0.07998265326023102, std train_loss 0.0\n",
      "Fold 3/4 median val_mee: 0.3045945465564728, std val_mee 0.0\n",
      "Fold 3/4 median train_mee: 0.2874442934989929, train_mee 0.0\n",
      "\n",
      "Executing fold 4/4\n"
     ]
    },
    {
     "name": "stderr",
     "output_type": "stream",
     "text": [
      "100%|█████████████████████████████████████████████| 1/1 [00:02<00:00,  2.64s/it]\n"
     ]
    },
    {
     "name": "stdout",
     "output_type": "stream",
     "text": [
      "Fold 4/4 median val_loss: 0.08264714479446411, std val_loss 0.0\n",
      "Fold 4/4 median train_loss: 0.08332077413797379, std train_loss 0.0\n",
      "Fold 4/4 median val_mee: 0.2895963490009308, std val_mee 0.0\n",
      "Fold 4/4 median train_mee: 0.2889675498008728, train_mee 0.0\n",
      "\n",
      "Mean val_loss: 0.09139001555740833, std val_loss: 0.006419936931720257\n",
      "Mean train_loss: 0.08017674088478088, std train_loss: 0.0025543573377602726\n",
      "Mean val_mee: 0.30465908348560333, std val_mee: 0.012011825922133016\n",
      "Mean train_mee: 0.30465908348560333, std train_mee: 0.004955490270282078\n",
      "\n",
      "\n",
      "\n",
      "Testing configuration 120/180:\n",
      "{'batch_size': 16, 'learning_rate': 0.2, 'max_epochs': 500, 'momentum': 0.4, 'initialization': {'type': 'default'}, 'early_stopping': {'monitor': 'val_loss', 'patience': 20, 'delta': 0.01}, 'task': 'regression', 'trials_train': 1, 'trials_final': 5, 'nesterov': False, 'learning_rate_decay': {'epochs': 100, 'lr_final': 0.01}, 'regularization': {'method': 'l1', 'value': 1e-05}, 'units_1': 50, 'activations_1': 'tanh', 'units_2': 50, 'activations_2': 'relu', 'units_3': 50, 'activations_3': 'tanh'}\n",
      "\n",
      "Executing fold 1/4\n"
     ]
    },
    {
     "name": "stderr",
     "output_type": "stream",
     "text": [
      "100%|█████████████████████████████████████████████| 1/1 [00:02<00:00,  2.83s/it]\n"
     ]
    },
    {
     "name": "stdout",
     "output_type": "stream",
     "text": [
      "Fold 1/4 median val_loss: 0.0880940705537796, std val_loss 0.0\n",
      "Fold 1/4 median train_loss: 0.08097261935472488, std train_loss 0.0\n",
      "Fold 1/4 median val_mee: 0.30232346057891846, std val_mee 0.0\n",
      "Fold 1/4 median train_mee: 0.2872788906097412, train_mee 0.0\n",
      "\n",
      "Executing fold 2/4\n"
     ]
    },
    {
     "name": "stderr",
     "output_type": "stream",
     "text": [
      "100%|█████████████████████████████████████████████| 1/1 [00:03<00:00,  3.20s/it]\n"
     ]
    },
    {
     "name": "stdout",
     "output_type": "stream",
     "text": [
      "Fold 2/4 median val_loss: 0.08277039229869843, std val_loss 0.0\n",
      "Fold 2/4 median train_loss: 0.07946885377168655, std train_loss 0.0\n",
      "Fold 2/4 median val_mee: 0.2971460223197937, std val_mee 0.0\n",
      "Fold 2/4 median train_mee: 0.28663891553878784, train_mee 0.0\n",
      "\n",
      "Executing fold 3/4\n"
     ]
    },
    {
     "name": "stderr",
     "output_type": "stream",
     "text": [
      "100%|█████████████████████████████████████████████| 1/1 [00:02<00:00,  2.61s/it]\n"
     ]
    },
    {
     "name": "stdout",
     "output_type": "stream",
     "text": [
      "Fold 3/4 median val_loss: 0.10555516928434372, std val_loss 0.0\n",
      "Fold 3/4 median train_loss: 0.07704585045576096, std train_loss 0.0\n",
      "Fold 3/4 median val_mee: 0.31965214014053345, std val_mee 0.0\n",
      "Fold 3/4 median train_mee: 0.28097113966941833, train_mee 0.0\n",
      "\n",
      "Executing fold 4/4\n"
     ]
    },
    {
     "name": "stderr",
     "output_type": "stream",
     "text": [
      "100%|█████████████████████████████████████████████| 1/1 [00:02<00:00,  2.82s/it]\n"
     ]
    },
    {
     "name": "stdout",
     "output_type": "stream",
     "text": [
      "Fold 4/4 median val_loss: 0.09130293130874634, std val_loss 0.0\n",
      "Fold 4/4 median train_loss: 0.07996280491352081, std train_loss 0.0\n",
      "Fold 4/4 median val_mee: 0.29874011874198914, std val_mee 0.0\n",
      "Fold 4/4 median train_mee: 0.2833433747291565, train_mee 0.0\n",
      "\n",
      "Mean val_loss: 0.09193064086139202, std val_loss: 0.00843580493322784\n",
      "Mean train_loss: 0.0793625321239233, std train_loss: 0.0014431758864656837\n",
      "Mean val_mee: 0.3044654354453087, std val_mee: 0.008966285681421824\n",
      "Mean train_mee: 0.3044654354453087, std train_mee: 0.002553151814117751\n",
      "\n",
      "\n",
      "\n",
      "Testing configuration 121/180:\n",
      "{'batch_size': 16, 'learning_rate': 0.3, 'max_epochs': 500, 'momentum': 0.1, 'initialization': {'type': 'default'}, 'early_stopping': {'monitor': 'val_loss', 'patience': 20, 'delta': 0.01}, 'task': 'regression', 'trials_train': 1, 'trials_final': 5, 'nesterov': False, 'learning_rate_decay': {'epochs': 100, 'lr_final': 0.01}, 'regularization': {'method': 'l1', 'value': 0.001}, 'units_1': 50, 'activations_1': 'tanh', 'units_2': 50, 'activations_2': 'relu', 'units_3': 50, 'activations_3': 'tanh'}\n",
      "\n",
      "Executing fold 1/4\n"
     ]
    },
    {
     "name": "stderr",
     "output_type": "stream",
     "text": [
      "100%|█████████████████████████████████████████████| 1/1 [00:13<00:00, 13.63s/it]\n"
     ]
    },
    {
     "name": "stdout",
     "output_type": "stream",
     "text": [
      "Fold 1/4 median val_loss: 0.21671871840953827, std val_loss 0.0\n",
      "Fold 1/4 median train_loss: 0.23185758292675018, std train_loss 0.0\n",
      "Fold 1/4 median val_mee: 0.28124409914016724, std val_mee 0.0\n",
      "Fold 1/4 median train_mee: 0.31715673208236694, train_mee 0.0\n",
      "\n",
      "Executing fold 2/4\n"
     ]
    },
    {
     "name": "stderr",
     "output_type": "stream",
     "text": [
      "100%|█████████████████████████████████████████████| 1/1 [00:19<00:00, 19.18s/it]\n"
     ]
    },
    {
     "name": "stdout",
     "output_type": "stream",
     "text": [
      "Fold 2/4 median val_loss: 0.24643757939338684, std val_loss 0.0\n",
      "Fold 2/4 median train_loss: 0.2351895272731781, std train_loss 0.0\n",
      "Fold 2/4 median val_mee: 0.32642728090286255, std val_mee 0.0\n",
      "Fold 2/4 median train_mee: 0.3083280622959137, train_mee 0.0\n",
      "\n",
      "Executing fold 3/4\n"
     ]
    },
    {
     "name": "stderr",
     "output_type": "stream",
     "text": [
      "100%|█████████████████████████████████████████████| 1/1 [00:12<00:00, 12.75s/it]\n"
     ]
    },
    {
     "name": "stdout",
     "output_type": "stream",
     "text": [
      "Fold 3/4 median val_loss: 0.22703836858272552, std val_loss 0.0\n",
      "Fold 3/4 median train_loss: 0.22219820320606232, std train_loss 0.0\n",
      "Fold 3/4 median val_mee: 0.3247666656970978, std val_mee 0.0\n",
      "Fold 3/4 median train_mee: 0.31115034222602844, train_mee 0.0\n",
      "\n",
      "Executing fold 4/4\n"
     ]
    },
    {
     "name": "stderr",
     "output_type": "stream",
     "text": [
      "100%|█████████████████████████████████████████████| 1/1 [00:12<00:00, 12.26s/it]\n"
     ]
    },
    {
     "name": "stdout",
     "output_type": "stream",
     "text": [
      "Fold 4/4 median val_loss: 0.24145792424678802, std val_loss 0.0\n",
      "Fold 4/4 median train_loss: 0.22538700699806213, std train_loss 0.0\n",
      "Fold 4/4 median val_mee: 0.3226620852947235, std val_mee 0.0\n",
      "Fold 4/4 median train_mee: 0.30679693818092346, train_mee 0.0\n",
      "\n",
      "Mean val_loss: 0.23291314765810966, std val_loss: 0.011754744027244428\n",
      "Mean train_loss: 0.22865808010101318, std train_loss: 0.005131436183892625\n",
      "Mean val_mee: 0.31377503275871277, std val_mee: 0.018829078061772985\n",
      "Mean train_mee: 0.31377503275871277, std train_mee: 0.003957660221206413\n",
      "\n",
      "\n",
      "\n",
      "Testing configuration 122/180:\n",
      "{'batch_size': 16, 'learning_rate': 0.3, 'max_epochs': 500, 'momentum': 0.1, 'initialization': {'type': 'default'}, 'early_stopping': {'monitor': 'val_loss', 'patience': 20, 'delta': 0.01}, 'task': 'regression', 'trials_train': 1, 'trials_final': 5, 'nesterov': False, 'learning_rate_decay': {'epochs': 100, 'lr_final': 0.01}, 'regularization': {'method': 'l1', 'value': 0.001}, 'units_1': 50, 'activations_1': 'tanh', 'units_2': 50, 'activations_2': 'relu', 'units_3': 50, 'activations_3': 'tanh'}\n",
      "\n",
      "Executing fold 1/4\n"
     ]
    },
    {
     "name": "stderr",
     "output_type": "stream",
     "text": [
      "100%|█████████████████████████████████████████████| 1/1 [00:20<00:00, 20.13s/it]\n"
     ]
    },
    {
     "name": "stdout",
     "output_type": "stream",
     "text": [
      "Fold 1/4 median val_loss: 0.24119244515895844, std val_loss 0.0\n",
      "Fold 1/4 median train_loss: 0.23701810836791992, std train_loss 0.0\n",
      "Fold 1/4 median val_mee: 0.31514960527420044, std val_mee 0.0\n",
      "Fold 1/4 median train_mee: 0.3127967417240143, train_mee 0.0\n",
      "\n",
      "Executing fold 2/4\n"
     ]
    },
    {
     "name": "stderr",
     "output_type": "stream",
     "text": [
      "100%|█████████████████████████████████████████████| 1/1 [00:12<00:00, 12.59s/it]\n"
     ]
    },
    {
     "name": "stdout",
     "output_type": "stream",
     "text": [
      "Fold 2/4 median val_loss: 0.2239961177110672, std val_loss 0.0\n",
      "Fold 2/4 median train_loss: 0.22808068990707397, std train_loss 0.0\n",
      "Fold 2/4 median val_mee: 0.3105206787586212, std val_mee 0.0\n",
      "Fold 2/4 median train_mee: 0.3081607222557068, train_mee 0.0\n",
      "\n",
      "Executing fold 3/4\n"
     ]
    },
    {
     "name": "stderr",
     "output_type": "stream",
     "text": [
      "100%|█████████████████████████████████████████████| 1/1 [00:12<00:00, 12.43s/it]\n"
     ]
    },
    {
     "name": "stdout",
     "output_type": "stream",
     "text": [
      "Fold 3/4 median val_loss: 0.24033650755882263, std val_loss 0.0\n",
      "Fold 3/4 median train_loss: 0.22497935593128204, std train_loss 0.0\n",
      "Fold 3/4 median val_mee: 0.32853594422340393, std val_mee 0.0\n",
      "Fold 3/4 median train_mee: 0.30977869033813477, train_mee 0.0\n",
      "\n",
      "Executing fold 4/4\n"
     ]
    },
    {
     "name": "stderr",
     "output_type": "stream",
     "text": [
      "100%|█████████████████████████████████████████████| 1/1 [00:12<00:00, 12.09s/it]\n"
     ]
    },
    {
     "name": "stdout",
     "output_type": "stream",
     "text": [
      "Fold 4/4 median val_loss: 0.23830553889274597, std val_loss 0.0\n",
      "Fold 4/4 median train_loss: 0.22659781575202942, std train_loss 0.0\n",
      "Fold 4/4 median val_mee: 0.32941100001335144, std val_mee 0.0\n",
      "Fold 4/4 median train_mee: 0.3083886206150055, train_mee 0.0\n",
      "\n",
      "Mean val_loss: 0.23595765233039856, std val_loss: 0.006985132619151782\n",
      "Mean train_loss: 0.22916899248957634, std train_loss: 0.004662537584005226\n",
      "Mean val_mee: 0.32090430706739426, std val_mee: 0.008239266352975946\n",
      "Mean train_mee: 0.32090430706739426, std train_mee: 0.0018478855247808178\n",
      "\n",
      "\n",
      "\n",
      "Testing configuration 123/180:\n",
      "{'batch_size': 16, 'learning_rate': 0.3, 'max_epochs': 500, 'momentum': 0.1, 'initialization': {'type': 'default'}, 'early_stopping': {'monitor': 'val_loss', 'patience': 20, 'delta': 0.01}, 'task': 'regression', 'trials_train': 1, 'trials_final': 5, 'nesterov': False, 'learning_rate_decay': {'epochs': 100, 'lr_final': 0.01}, 'regularization': {'method': 'l1', 'value': 0.001}, 'units_1': 50, 'activations_1': 'tanh', 'units_2': 50, 'activations_2': 'relu', 'units_3': 50, 'activations_3': 'tanh'}\n",
      "\n",
      "Executing fold 1/4\n"
     ]
    },
    {
     "name": "stderr",
     "output_type": "stream",
     "text": [
      "100%|█████████████████████████████████████████████| 1/1 [00:11<00:00, 11.47s/it]\n"
     ]
    },
    {
     "name": "stdout",
     "output_type": "stream",
     "text": [
      "Fold 1/4 median val_loss: 0.2259596735239029, std val_loss 0.0\n",
      "Fold 1/4 median train_loss: 0.23955297470092773, std train_loss 0.0\n",
      "Fold 1/4 median val_mee: 0.2872379422187805, std val_mee 0.0\n",
      "Fold 1/4 median train_mee: 0.31930917501449585, train_mee 0.0\n",
      "\n",
      "Executing fold 2/4\n"
     ]
    },
    {
     "name": "stderr",
     "output_type": "stream",
     "text": [
      "100%|█████████████████████████████████████████████| 1/1 [00:12<00:00, 12.54s/it]\n"
     ]
    },
    {
     "name": "stdout",
     "output_type": "stream",
     "text": [
      "Fold 2/4 median val_loss: 0.2331075221300125, std val_loss 0.0\n",
      "Fold 2/4 median train_loss: 0.2312430739402771, std train_loss 0.0\n",
      "Fold 2/4 median val_mee: 0.3132970929145813, std val_mee 0.0\n",
      "Fold 2/4 median train_mee: 0.31012222170829773, train_mee 0.0\n",
      "\n",
      "Executing fold 3/4\n"
     ]
    },
    {
     "name": "stderr",
     "output_type": "stream",
     "text": [
      "100%|█████████████████████████████████████████████| 1/1 [00:20<00:00, 20.74s/it]\n"
     ]
    },
    {
     "name": "stdout",
     "output_type": "stream",
     "text": [
      "Fold 3/4 median val_loss: 0.24438919126987457, std val_loss 0.0\n",
      "Fold 3/4 median train_loss: 0.23035679757595062, std train_loss 0.0\n",
      "Fold 3/4 median val_mee: 0.3487798273563385, std val_mee 0.0\n",
      "Fold 3/4 median train_mee: 0.30647674202919006, train_mee 0.0\n",
      "\n",
      "Executing fold 4/4\n"
     ]
    },
    {
     "name": "stderr",
     "output_type": "stream",
     "text": [
      "100%|█████████████████████████████████████████████| 1/1 [00:13<00:00, 13.25s/it]\n"
     ]
    },
    {
     "name": "stdout",
     "output_type": "stream",
     "text": [
      "Fold 4/4 median val_loss: 0.24682015180587769, std val_loss 0.0\n",
      "Fold 4/4 median train_loss: 0.22678399085998535, std train_loss 0.0\n",
      "Fold 4/4 median val_mee: 0.32308429479599, std val_mee 0.0\n",
      "Fold 4/4 median train_mee: 0.3109428584575653, train_mee 0.0\n",
      "\n",
      "Mean val_loss: 0.23756913468241692, std val_loss: 0.008467290957465488\n",
      "Mean train_loss: 0.2319842092692852, std train_loss: 0.0046777727622008885\n",
      "Mean val_mee: 0.3180997893214226, std val_mee: 0.022031962736062706\n",
      "Mean train_mee: 0.3180997893214226, std train_mee: 0.004696912967712392\n",
      "\n",
      "\n",
      "\n",
      "Testing configuration 124/180:\n",
      "{'batch_size': 16, 'learning_rate': 0.3, 'max_epochs': 500, 'momentum': 0.1, 'initialization': {'type': 'default'}, 'early_stopping': {'monitor': 'val_loss', 'patience': 20, 'delta': 0.01}, 'task': 'regression', 'trials_train': 1, 'trials_final': 5, 'nesterov': False, 'learning_rate_decay': {'epochs': 100, 'lr_final': 0.01}, 'regularization': {'method': 'l1', 'value': 0.001}, 'units_1': 50, 'activations_1': 'tanh', 'units_2': 50, 'activations_2': 'relu', 'units_3': 50, 'activations_3': 'tanh'}\n",
      "\n",
      "Executing fold 1/4\n"
     ]
    },
    {
     "name": "stderr",
     "output_type": "stream",
     "text": [
      "100%|█████████████████████████████████████████████| 1/1 [00:13<00:00, 13.10s/it]\n"
     ]
    },
    {
     "name": "stdout",
     "output_type": "stream",
     "text": [
      "Fold 1/4 median val_loss: 0.22204425930976868, std val_loss 0.0\n",
      "Fold 1/4 median train_loss: 0.2343292534351349, std train_loss 0.0\n",
      "Fold 1/4 median val_mee: 0.30895671248435974, std val_mee 0.0\n",
      "Fold 1/4 median train_mee: 0.31796684861183167, train_mee 0.0\n",
      "\n",
      "Executing fold 2/4\n"
     ]
    },
    {
     "name": "stderr",
     "output_type": "stream",
     "text": [
      "100%|█████████████████████████████████████████████| 1/1 [00:13<00:00, 13.91s/it]\n"
     ]
    },
    {
     "name": "stdout",
     "output_type": "stream",
     "text": [
      "Fold 2/4 median val_loss: 0.2359904944896698, std val_loss 0.0\n",
      "Fold 2/4 median train_loss: 0.22336846590042114, std train_loss 0.0\n",
      "Fold 2/4 median val_mee: 0.32928213477134705, std val_mee 0.0\n",
      "Fold 2/4 median train_mee: 0.3081994950771332, train_mee 0.0\n",
      "\n",
      "Executing fold 3/4\n"
     ]
    },
    {
     "name": "stderr",
     "output_type": "stream",
     "text": [
      "100%|█████████████████████████████████████████████| 1/1 [00:13<00:00, 13.15s/it]\n"
     ]
    },
    {
     "name": "stdout",
     "output_type": "stream",
     "text": [
      "Fold 3/4 median val_loss: 0.2569220960140228, std val_loss 0.0\n",
      "Fold 3/4 median train_loss: 0.22013480961322784, std train_loss 0.0\n",
      "Fold 3/4 median val_mee: 0.3564950227737427, std val_mee 0.0\n",
      "Fold 3/4 median train_mee: 0.29650288820266724, train_mee 0.0\n",
      "\n",
      "Executing fold 4/4\n"
     ]
    },
    {
     "name": "stderr",
     "output_type": "stream",
     "text": [
      "100%|█████████████████████████████████████████████| 1/1 [00:13<00:00, 13.21s/it]\n"
     ]
    },
    {
     "name": "stdout",
     "output_type": "stream",
     "text": [
      "Fold 4/4 median val_loss: 0.21752259135246277, std val_loss 0.0\n",
      "Fold 4/4 median train_loss: 0.22516538202762604, std train_loss 0.0\n",
      "Fold 4/4 median val_mee: 0.2937369644641876, std val_mee 0.0\n",
      "Fold 4/4 median train_mee: 0.312631219625473, train_mee 0.0\n",
      "\n",
      "Mean val_loss: 0.23311986029148102, std val_loss: 0.015335666773517114\n",
      "Mean train_loss: 0.22574947774410248, std train_loss: 0.005271324177425603\n",
      "Mean val_mee: 0.32211770862340927, std val_mee: 0.023514927113555115\n",
      "Mean train_mee: 0.32211770862340927, std train_mee: 0.007910221226086466\n",
      "\n",
      "\n",
      "\n",
      "Testing configuration 125/180:\n",
      "{'batch_size': 16, 'learning_rate': 0.3, 'max_epochs': 500, 'momentum': 0.1, 'initialization': {'type': 'default'}, 'early_stopping': {'monitor': 'val_loss', 'patience': 20, 'delta': 0.01}, 'task': 'regression', 'trials_train': 1, 'trials_final': 5, 'nesterov': False, 'learning_rate_decay': {'epochs': 100, 'lr_final': 0.01}, 'regularization': {'method': 'l1', 'value': 0.001}, 'units_1': 50, 'activations_1': 'tanh', 'units_2': 50, 'activations_2': 'relu', 'units_3': 50, 'activations_3': 'tanh'}\n",
      "\n",
      "Executing fold 1/4\n"
     ]
    },
    {
     "name": "stderr",
     "output_type": "stream",
     "text": [
      "100%|█████████████████████████████████████████████| 1/1 [00:12<00:00, 12.26s/it]\n"
     ]
    },
    {
     "name": "stdout",
     "output_type": "stream",
     "text": [
      "Fold 1/4 median val_loss: 0.25466299057006836, std val_loss 0.0\n",
      "Fold 1/4 median train_loss: 0.23541314899921417, std train_loss 0.0\n",
      "Fold 1/4 median val_mee: 0.33286553621292114, std val_mee 0.0\n",
      "Fold 1/4 median train_mee: 0.30764240026474, train_mee 0.0\n",
      "\n",
      "Executing fold 2/4\n"
     ]
    },
    {
     "name": "stderr",
     "output_type": "stream",
     "text": [
      "100%|█████████████████████████████████████████████| 1/1 [00:13<00:00, 13.24s/it]\n"
     ]
    },
    {
     "name": "stdout",
     "output_type": "stream",
     "text": [
      "Fold 2/4 median val_loss: 0.23481696844100952, std val_loss 0.0\n",
      "Fold 2/4 median train_loss: 0.2275596708059311, std train_loss 0.0\n",
      "Fold 2/4 median val_mee: 0.3177204728126526, std val_mee 0.0\n",
      "Fold 2/4 median train_mee: 0.30601802468299866, train_mee 0.0\n",
      "\n",
      "Executing fold 3/4\n"
     ]
    },
    {
     "name": "stderr",
     "output_type": "stream",
     "text": [
      "100%|█████████████████████████████████████████████| 1/1 [00:02<00:00,  2.21s/it]\n"
     ]
    },
    {
     "name": "stdout",
     "output_type": "stream",
     "text": [
      "Fold 3/4 median val_loss: nan, std val_loss nan\n",
      "Fold 3/4 median train_loss: nan, std train_loss nan\n",
      "Fold 3/4 median val_mee: nan, std val_mee nan\n",
      "Fold 3/4 median train_mee: nan, train_mee nan\n",
      "\n",
      "Executing fold 4/4\n"
     ]
    },
    {
     "name": "stderr",
     "output_type": "stream",
     "text": [
      "100%|█████████████████████████████████████████████| 1/1 [00:12<00:00, 12.72s/it]\n"
     ]
    },
    {
     "name": "stdout",
     "output_type": "stream",
     "text": [
      "Fold 4/4 median val_loss: 0.22963058948516846, std val_loss 0.0\n",
      "Fold 4/4 median train_loss: 0.22899070382118225, std train_loss 0.0\n",
      "Fold 4/4 median val_mee: 0.3015383183956146, std val_mee 0.0\n",
      "Fold 4/4 median train_mee: 0.3130541443824768, train_mee 0.0\n",
      "\n",
      "Mean val_loss: nan, std val_loss: nan\n",
      "Mean train_loss: nan, std train_loss: nan\n",
      "Mean val_mee: nan, std val_mee: nan\n",
      "Mean train_mee: nan, std train_mee: nan\n",
      "\n",
      "\n",
      "\n",
      "Testing configuration 126/180:\n",
      "{'batch_size': 16, 'learning_rate': 0.3, 'max_epochs': 500, 'momentum': 0.1, 'initialization': {'type': 'default'}, 'early_stopping': {'monitor': 'val_loss', 'patience': 20, 'delta': 0.01}, 'task': 'regression', 'trials_train': 1, 'trials_final': 5, 'nesterov': False, 'learning_rate_decay': {'epochs': 100, 'lr_final': 0.01}, 'regularization': {'method': 'l1', 'value': 0.0001}, 'units_1': 50, 'activations_1': 'tanh', 'units_2': 50, 'activations_2': 'relu', 'units_3': 50, 'activations_3': 'tanh'}\n",
      "\n",
      "Executing fold 1/4\n"
     ]
    },
    {
     "name": "stderr",
     "output_type": "stream",
     "text": [
      "100%|█████████████████████████████████████████████| 1/1 [00:02<00:00,  2.55s/it]\n"
     ]
    },
    {
     "name": "stdout",
     "output_type": "stream",
     "text": [
      "Fold 1/4 median val_loss: 0.15225550532341003, std val_loss 0.0\n",
      "Fold 1/4 median train_loss: 0.13563063740730286, std train_loss 0.0\n",
      "Fold 1/4 median val_mee: 0.31354576349258423, std val_mee 0.0\n",
      "Fold 1/4 median train_mee: 0.28396573662757874, train_mee 0.0\n",
      "\n",
      "Executing fold 2/4\n"
     ]
    },
    {
     "name": "stderr",
     "output_type": "stream",
     "text": [
      "100%|█████████████████████████████████████████████| 1/1 [00:02<00:00,  2.45s/it]\n"
     ]
    },
    {
     "name": "stdout",
     "output_type": "stream",
     "text": [
      "Fold 2/4 median val_loss: 0.14990505576133728, std val_loss 0.0\n",
      "Fold 2/4 median train_loss: 0.1374925971031189, std train_loss 0.0\n",
      "Fold 2/4 median val_mee: 0.29959893226623535, std val_mee 0.0\n",
      "Fold 2/4 median train_mee: 0.2897647023200989, train_mee 0.0\n",
      "\n",
      "Executing fold 3/4\n"
     ]
    },
    {
     "name": "stderr",
     "output_type": "stream",
     "text": [
      "100%|█████████████████████████████████████████████| 1/1 [00:03<00:00,  3.95s/it]\n"
     ]
    },
    {
     "name": "stdout",
     "output_type": "stream",
     "text": [
      "Fold 3/4 median val_loss: 0.1478479504585266, std val_loss 0.0\n",
      "Fold 3/4 median train_loss: 0.13871490955352783, std train_loss 0.0\n",
      "Fold 3/4 median val_mee: 0.3052527904510498, std val_mee 0.0\n",
      "Fold 3/4 median train_mee: 0.29155024886131287, train_mee 0.0\n",
      "\n",
      "Executing fold 4/4\n"
     ]
    },
    {
     "name": "stderr",
     "output_type": "stream",
     "text": [
      "100%|█████████████████████████████████████████████| 1/1 [00:03<00:00,  3.05s/it]\n"
     ]
    },
    {
     "name": "stdout",
     "output_type": "stream",
     "text": [
      "Fold 4/4 median val_loss: 0.14742936193943024, std val_loss 0.0\n",
      "Fold 4/4 median train_loss: 0.13832873106002808, std train_loss 0.0\n",
      "Fold 4/4 median val_mee: 0.30384594202041626, std val_mee 0.0\n",
      "Fold 4/4 median train_mee: 0.28979063034057617, train_mee 0.0\n",
      "\n",
      "Mean val_loss: 0.14935946837067604, std val_loss: 0.0019166828680779666\n",
      "Mean train_loss: 0.13754171878099442, std train_loss: 0.0011885295402529372\n",
      "Mean val_mee: 0.3055608570575714, std val_mee: 0.005058139890616194\n",
      "Mean train_mee: 0.3055608570575714, std train_mee: 0.0028653896086092297\n",
      "\n",
      "\n",
      "\n",
      "Testing configuration 127/180:\n",
      "{'batch_size': 16, 'learning_rate': 0.3, 'max_epochs': 500, 'momentum': 0.1, 'initialization': {'type': 'default'}, 'early_stopping': {'monitor': 'val_loss', 'patience': 20, 'delta': 0.01}, 'task': 'regression', 'trials_train': 1, 'trials_final': 5, 'nesterov': False, 'learning_rate_decay': {'epochs': 100, 'lr_final': 0.01}, 'regularization': {'method': 'l1', 'value': 0.0001}, 'units_1': 50, 'activations_1': 'tanh', 'units_2': 50, 'activations_2': 'relu', 'units_3': 50, 'activations_3': 'tanh'}\n",
      "\n",
      "Executing fold 1/4\n"
     ]
    },
    {
     "name": "stderr",
     "output_type": "stream",
     "text": [
      "100%|█████████████████████████████████████████████| 1/1 [00:02<00:00,  2.96s/it]\n"
     ]
    },
    {
     "name": "stdout",
     "output_type": "stream",
     "text": [
      "Fold 1/4 median val_loss: 0.1679145246744156, std val_loss 0.0\n",
      "Fold 1/4 median train_loss: 0.13298408687114716, std train_loss 0.0\n",
      "Fold 1/4 median val_mee: 0.3264787793159485, std val_mee 0.0\n",
      "Fold 1/4 median train_mee: 0.2779978811740875, train_mee 0.0\n",
      "\n",
      "Executing fold 2/4\n"
     ]
    },
    {
     "name": "stderr",
     "output_type": "stream",
     "text": [
      "100%|█████████████████████████████████████████████| 1/1 [00:03<00:00,  3.05s/it]\n"
     ]
    },
    {
     "name": "stdout",
     "output_type": "stream",
     "text": [
      "Fold 2/4 median val_loss: 0.14254693686962128, std val_loss 0.0\n",
      "Fold 2/4 median train_loss: 0.1388094276189804, std train_loss 0.0\n",
      "Fold 2/4 median val_mee: 0.29737645387649536, std val_mee 0.0\n",
      "Fold 2/4 median train_mee: 0.289532333612442, train_mee 0.0\n",
      "\n",
      "Executing fold 3/4\n"
     ]
    },
    {
     "name": "stderr",
     "output_type": "stream",
     "text": [
      "100%|█████████████████████████████████████████████| 1/1 [00:02<00:00,  2.62s/it]\n"
     ]
    },
    {
     "name": "stdout",
     "output_type": "stream",
     "text": [
      "Fold 3/4 median val_loss: 0.14859271049499512, std val_loss 0.0\n",
      "Fold 3/4 median train_loss: 0.1389487236738205, std train_loss 0.0\n",
      "Fold 3/4 median val_mee: 0.30758827924728394, std val_mee 0.0\n",
      "Fold 3/4 median train_mee: 0.2874183654785156, train_mee 0.0\n",
      "\n",
      "Executing fold 4/4\n"
     ]
    },
    {
     "name": "stderr",
     "output_type": "stream",
     "text": [
      "100%|█████████████████████████████████████████████| 1/1 [00:03<00:00,  3.73s/it]\n"
     ]
    },
    {
     "name": "stdout",
     "output_type": "stream",
     "text": [
      "Fold 4/4 median val_loss: 0.14552940428256989, std val_loss 0.0\n",
      "Fold 4/4 median train_loss: 0.13669930398464203, std train_loss 0.0\n",
      "Fold 4/4 median val_mee: 0.2964678704738617, std val_mee 0.0\n",
      "Fold 4/4 median train_mee: 0.2877740263938904, train_mee 0.0\n",
      "\n",
      "Mean val_loss: 0.15114589408040047, std val_loss: 0.009914544129475516\n",
      "Mean train_loss: 0.13686038553714752, std train_loss: 0.0024089188355168804\n",
      "Mean val_mee: 0.30697784572839737, std val_mee: 0.012075857580434836\n",
      "Mean train_mee: 0.30697784572839737, std train_mee: 0.00450727975872161\n",
      "\n",
      "\n",
      "\n",
      "Testing configuration 128/180:\n",
      "{'batch_size': 16, 'learning_rate': 0.3, 'max_epochs': 500, 'momentum': 0.1, 'initialization': {'type': 'default'}, 'early_stopping': {'monitor': 'val_loss', 'patience': 20, 'delta': 0.01}, 'task': 'regression', 'trials_train': 1, 'trials_final': 5, 'nesterov': False, 'learning_rate_decay': {'epochs': 100, 'lr_final': 0.01}, 'regularization': {'method': 'l1', 'value': 0.0001}, 'units_1': 50, 'activations_1': 'tanh', 'units_2': 50, 'activations_2': 'relu', 'units_3': 50, 'activations_3': 'tanh'}\n",
      "\n",
      "Executing fold 1/4\n"
     ]
    },
    {
     "name": "stderr",
     "output_type": "stream",
     "text": [
      "100%|█████████████████████████████████████████████| 1/1 [00:03<00:00,  3.18s/it]\n"
     ]
    },
    {
     "name": "stdout",
     "output_type": "stream",
     "text": [
      "Fold 1/4 median val_loss: 0.15868191421031952, std val_loss 0.0\n",
      "Fold 1/4 median train_loss: 0.13600893318653107, std train_loss 0.0\n",
      "Fold 1/4 median val_mee: 0.3148394525051117, std val_mee 0.0\n",
      "Fold 1/4 median train_mee: 0.28793472051620483, train_mee 0.0\n",
      "\n",
      "Executing fold 2/4\n"
     ]
    },
    {
     "name": "stderr",
     "output_type": "stream",
     "text": [
      "100%|█████████████████████████████████████████████| 1/1 [00:03<00:00,  3.28s/it]\n"
     ]
    },
    {
     "name": "stdout",
     "output_type": "stream",
     "text": [
      "Fold 2/4 median val_loss: 0.15448862314224243, std val_loss 0.0\n",
      "Fold 2/4 median train_loss: 0.13725624978542328, std train_loss 0.0\n",
      "Fold 2/4 median val_mee: 0.3140166401863098, std val_mee 0.0\n",
      "Fold 2/4 median train_mee: 0.28433847427368164, train_mee 0.0\n",
      "\n",
      "Executing fold 3/4\n"
     ]
    },
    {
     "name": "stderr",
     "output_type": "stream",
     "text": [
      "100%|█████████████████████████████████████████████| 1/1 [00:02<00:00,  2.73s/it]\n"
     ]
    },
    {
     "name": "stdout",
     "output_type": "stream",
     "text": [
      "Fold 3/4 median val_loss: 0.14311392605304718, std val_loss 0.0\n",
      "Fold 3/4 median train_loss: 0.13891206681728363, std train_loss 0.0\n",
      "Fold 3/4 median val_mee: 0.28935056924819946, std val_mee 0.0\n",
      "Fold 3/4 median train_mee: 0.29092854261398315, train_mee 0.0\n",
      "\n",
      "Executing fold 4/4\n"
     ]
    },
    {
     "name": "stderr",
     "output_type": "stream",
     "text": [
      "100%|█████████████████████████████████████████████| 1/1 [00:02<00:00,  2.76s/it]\n"
     ]
    },
    {
     "name": "stdout",
     "output_type": "stream",
     "text": [
      "Fold 4/4 median val_loss: 0.14404425024986267, std val_loss 0.0\n",
      "Fold 4/4 median train_loss: 0.13753895461559296, std train_loss 0.0\n",
      "Fold 4/4 median val_mee: 0.30202820897102356, std val_mee 0.0\n",
      "Fold 4/4 median train_mee: 0.2870638370513916, train_mee 0.0\n",
      "\n",
      "Mean val_loss: 0.15008217841386795, std val_loss: 0.006678048524658273\n",
      "Mean train_loss: 0.13742905110120773, std train_loss: 0.0010317472538035625\n",
      "Mean val_mee: 0.30505871772766113, std val_mee: 0.010390344791426129\n",
      "Mean train_mee: 0.30505871772766113, std train_mee: 0.0023511559375761115\n",
      "\n",
      "\n",
      "\n",
      "Testing configuration 129/180:\n",
      "{'batch_size': 16, 'learning_rate': 0.3, 'max_epochs': 500, 'momentum': 0.1, 'initialization': {'type': 'default'}, 'early_stopping': {'monitor': 'val_loss', 'patience': 20, 'delta': 0.01}, 'task': 'regression', 'trials_train': 1, 'trials_final': 5, 'nesterov': False, 'learning_rate_decay': {'epochs': 100, 'lr_final': 0.01}, 'regularization': {'method': 'l1', 'value': 0.0001}, 'units_1': 50, 'activations_1': 'tanh', 'units_2': 50, 'activations_2': 'relu', 'units_3': 50, 'activations_3': 'tanh'}\n",
      "\n",
      "Executing fold 1/4\n"
     ]
    },
    {
     "name": "stderr",
     "output_type": "stream",
     "text": [
      "100%|█████████████████████████████████████████████| 1/1 [00:03<00:00,  3.82s/it]\n"
     ]
    },
    {
     "name": "stdout",
     "output_type": "stream",
     "text": [
      "Fold 1/4 median val_loss: 0.14692766964435577, std val_loss 0.0\n",
      "Fold 1/4 median train_loss: 0.13947902619838715, std train_loss 0.0\n",
      "Fold 1/4 median val_mee: 0.30017155408859253, std val_mee 0.0\n",
      "Fold 1/4 median train_mee: 0.2898564636707306, train_mee 0.0\n",
      "\n",
      "Executing fold 2/4\n"
     ]
    },
    {
     "name": "stderr",
     "output_type": "stream",
     "text": [
      "100%|█████████████████████████████████████████████| 1/1 [00:02<00:00,  2.68s/it]\n"
     ]
    },
    {
     "name": "stdout",
     "output_type": "stream",
     "text": [
      "Fold 2/4 median val_loss: 0.15183545649051666, std val_loss 0.0\n",
      "Fold 2/4 median train_loss: 0.13829195499420166, std train_loss 0.0\n",
      "Fold 2/4 median val_mee: 0.3195670247077942, std val_mee 0.0\n",
      "Fold 2/4 median train_mee: 0.2821371257305145, train_mee 0.0\n",
      "\n",
      "Executing fold 3/4\n"
     ]
    },
    {
     "name": "stderr",
     "output_type": "stream",
     "text": [
      "100%|█████████████████████████████████████████████| 1/1 [00:02<00:00,  2.69s/it]\n"
     ]
    },
    {
     "name": "stdout",
     "output_type": "stream",
     "text": [
      "Fold 3/4 median val_loss: 0.15893115103244781, std val_loss 0.0\n",
      "Fold 3/4 median train_loss: 0.13707759976387024, std train_loss 0.0\n",
      "Fold 3/4 median val_mee: 0.3064882159233093, std val_mee 0.0\n",
      "Fold 3/4 median train_mee: 0.2895332872867584, train_mee 0.0\n",
      "\n",
      "Executing fold 4/4\n"
     ]
    },
    {
     "name": "stderr",
     "output_type": "stream",
     "text": [
      "100%|█████████████████████████████████████████████| 1/1 [00:03<00:00,  3.39s/it]\n"
     ]
    },
    {
     "name": "stdout",
     "output_type": "stream",
     "text": [
      "Fold 4/4 median val_loss: 0.14804905652999878, std val_loss 0.0\n",
      "Fold 4/4 median train_loss: 0.13654235005378723, std train_loss 0.0\n",
      "Fold 4/4 median val_mee: 0.3010214567184448, std val_mee 0.0\n",
      "Fold 4/4 median train_mee: 0.2870592474937439, train_mee 0.0\n",
      "\n",
      "Mean val_loss: 0.15143583342432976, std val_loss: 0.004693966420859781\n",
      "Mean train_loss: 0.13784773275256157, std train_loss: 0.0011352951727294587\n",
      "Mean val_mee: 0.3068120628595352, std val_mee: 0.007752764100739254\n",
      "Mean train_mee: 0.3068120628595352, std train_mee: 0.0030879645487232794\n",
      "\n",
      "\n",
      "\n",
      "Testing configuration 130/180:\n",
      "{'batch_size': 16, 'learning_rate': 0.3, 'max_epochs': 500, 'momentum': 0.1, 'initialization': {'type': 'default'}, 'early_stopping': {'monitor': 'val_loss', 'patience': 20, 'delta': 0.01}, 'task': 'regression', 'trials_train': 1, 'trials_final': 5, 'nesterov': False, 'learning_rate_decay': {'epochs': 100, 'lr_final': 0.01}, 'regularization': {'method': 'l1', 'value': 0.0001}, 'units_1': 50, 'activations_1': 'tanh', 'units_2': 50, 'activations_2': 'relu', 'units_3': 50, 'activations_3': 'tanh'}\n",
      "\n",
      "Executing fold 1/4\n"
     ]
    },
    {
     "name": "stderr",
     "output_type": "stream",
     "text": [
      "100%|█████████████████████████████████████████████| 1/1 [00:03<00:00,  3.24s/it]\n"
     ]
    },
    {
     "name": "stdout",
     "output_type": "stream",
     "text": [
      "Fold 1/4 median val_loss: 0.13032181560993195, std val_loss 0.0\n",
      "Fold 1/4 median train_loss: 0.1444423347711563, std train_loss 0.0\n",
      "Fold 1/4 median val_mee: 0.27145516872406006, std val_mee 0.0\n",
      "Fold 1/4 median train_mee: 0.29933232069015503, train_mee 0.0\n",
      "\n",
      "Executing fold 2/4\n"
     ]
    },
    {
     "name": "stderr",
     "output_type": "stream",
     "text": [
      "100%|█████████████████████████████████████████████| 1/1 [00:03<00:00,  3.26s/it]\n"
     ]
    },
    {
     "name": "stdout",
     "output_type": "stream",
     "text": [
      "Fold 2/4 median val_loss: 0.15568801760673523, std val_loss 0.0\n",
      "Fold 2/4 median train_loss: 0.1355273574590683, std train_loss 0.0\n",
      "Fold 2/4 median val_mee: 0.3318362236022949, std val_mee 0.0\n",
      "Fold 2/4 median train_mee: 0.2800193130970001, train_mee 0.0\n",
      "\n",
      "Executing fold 3/4\n"
     ]
    },
    {
     "name": "stderr",
     "output_type": "stream",
     "text": [
      "100%|█████████████████████████████████████████████| 1/1 [00:03<00:00,  3.25s/it]\n"
     ]
    },
    {
     "name": "stdout",
     "output_type": "stream",
     "text": [
      "Fold 3/4 median val_loss: 0.1555178016424179, std val_loss 0.0\n",
      "Fold 3/4 median train_loss: 0.1353599578142166, std train_loss 0.0\n",
      "Fold 3/4 median val_mee: 0.32838883996009827, std val_mee 0.0\n",
      "Fold 3/4 median train_mee: 0.284557044506073, train_mee 0.0\n",
      "\n",
      "Executing fold 4/4\n"
     ]
    },
    {
     "name": "stderr",
     "output_type": "stream",
     "text": [
      "100%|█████████████████████████████████████████████| 1/1 [00:02<00:00,  2.54s/it]\n"
     ]
    },
    {
     "name": "stdout",
     "output_type": "stream",
     "text": [
      "Fold 4/4 median val_loss: 0.15593169629573822, std val_loss 0.0\n",
      "Fold 4/4 median train_loss: 0.13510189950466156, std train_loss 0.0\n",
      "Fold 4/4 median val_mee: 0.309652179479599, std val_mee 0.0\n",
      "Fold 4/4 median train_mee: 0.28741946816444397, train_mee 0.0\n",
      "\n",
      "Mean val_loss: 0.14936483278870583, std val_loss: 0.010995475109661921\n",
      "Mean train_loss: 0.1376078873872757, std train_loss: 0.003948779509495362\n",
      "Mean val_mee: 0.31033310294151306, std val_mee: 0.023980988632738016\n",
      "Mean train_mee: 0.31033310294151306, std train_mee: 0.007144770266039019\n",
      "\n",
      "\n",
      "\n",
      "Testing configuration 131/180:\n",
      "{'batch_size': 16, 'learning_rate': 0.3, 'max_epochs': 500, 'momentum': 0.1, 'initialization': {'type': 'default'}, 'early_stopping': {'monitor': 'val_loss', 'patience': 20, 'delta': 0.01}, 'task': 'regression', 'trials_train': 1, 'trials_final': 5, 'nesterov': False, 'learning_rate_decay': {'epochs': 100, 'lr_final': 0.01}, 'regularization': {'method': 'l1', 'value': 1e-05}, 'units_1': 50, 'activations_1': 'tanh', 'units_2': 50, 'activations_2': 'relu', 'units_3': 50, 'activations_3': 'tanh'}\n",
      "\n",
      "Executing fold 1/4\n"
     ]
    },
    {
     "name": "stderr",
     "output_type": "stream",
     "text": [
      "100%|█████████████████████████████████████████████| 1/1 [00:03<00:00,  3.10s/it]\n"
     ]
    },
    {
     "name": "stdout",
     "output_type": "stream",
     "text": [
      "Fold 1/4 median val_loss: 0.09726674109697342, std val_loss 0.0\n",
      "Fold 1/4 median train_loss: 0.07778459042310715, std train_loss 0.0\n",
      "Fold 1/4 median val_mee: 0.31509536504745483, std val_mee 0.0\n",
      "Fold 1/4 median train_mee: 0.2841085195541382, train_mee 0.0\n",
      "\n",
      "Executing fold 2/4\n"
     ]
    },
    {
     "name": "stderr",
     "output_type": "stream",
     "text": [
      "100%|█████████████████████████████████████████████| 1/1 [00:03<00:00,  3.08s/it]\n"
     ]
    },
    {
     "name": "stdout",
     "output_type": "stream",
     "text": [
      "Fold 2/4 median val_loss: 0.09685806185007095, std val_loss 0.0\n",
      "Fold 2/4 median train_loss: 0.07809660583734512, std train_loss 0.0\n",
      "Fold 2/4 median val_mee: 0.3105028569698334, std val_mee 0.0\n",
      "Fold 2/4 median train_mee: 0.28292253613471985, train_mee 0.0\n",
      "\n",
      "Executing fold 3/4\n"
     ]
    },
    {
     "name": "stderr",
     "output_type": "stream",
     "text": [
      "100%|█████████████████████████████████████████████| 1/1 [00:02<00:00,  2.65s/it]\n"
     ]
    },
    {
     "name": "stdout",
     "output_type": "stream",
     "text": [
      "Fold 3/4 median val_loss: 0.10797266662120819, std val_loss 0.0\n",
      "Fold 3/4 median train_loss: 0.07892297208309174, std train_loss 0.0\n",
      "Fold 3/4 median val_mee: 0.33112335205078125, std val_mee 0.0\n",
      "Fold 3/4 median train_mee: 0.2830093204975128, train_mee 0.0\n",
      "\n",
      "Executing fold 4/4\n"
     ]
    },
    {
     "name": "stderr",
     "output_type": "stream",
     "text": [
      "100%|█████████████████████████████████████████████| 1/1 [00:02<00:00,  2.52s/it]\n"
     ]
    },
    {
     "name": "stdout",
     "output_type": "stream",
     "text": [
      "Fold 4/4 median val_loss: 0.07539846003055573, std val_loss 0.0\n",
      "Fold 4/4 median train_loss: 0.08653438091278076, std train_loss 0.0\n",
      "Fold 4/4 median val_mee: 0.2911563813686371, std val_mee 0.0\n",
      "Fold 4/4 median train_mee: 0.29333797097206116, train_mee 0.0\n",
      "\n",
      "Mean val_loss: 0.09437398239970207, std val_loss: 0.01182722881040395\n",
      "Mean train_loss: 0.08033463731408119, std train_loss: 0.003603510214049234\n",
      "Mean val_mee: 0.31196948885917664, std val_mee: 0.01424761409516294\n",
      "Mean train_mee: 0.31196948885917664, std train_mee: 0.004351489714130507\n",
      "\n",
      "\n",
      "\n",
      "Testing configuration 132/180:\n",
      "{'batch_size': 16, 'learning_rate': 0.3, 'max_epochs': 500, 'momentum': 0.1, 'initialization': {'type': 'default'}, 'early_stopping': {'monitor': 'val_loss', 'patience': 20, 'delta': 0.01}, 'task': 'regression', 'trials_train': 1, 'trials_final': 5, 'nesterov': False, 'learning_rate_decay': {'epochs': 100, 'lr_final': 0.01}, 'regularization': {'method': 'l1', 'value': 1e-05}, 'units_1': 50, 'activations_1': 'tanh', 'units_2': 50, 'activations_2': 'relu', 'units_3': 50, 'activations_3': 'tanh'}\n",
      "\n",
      "Executing fold 1/4\n"
     ]
    },
    {
     "name": "stderr",
     "output_type": "stream",
     "text": [
      "100%|█████████████████████████████████████████████| 1/1 [00:03<00:00,  3.26s/it]\n"
     ]
    },
    {
     "name": "stdout",
     "output_type": "stream",
     "text": [
      "Fold 1/4 median val_loss: 0.12042700499296188, std val_loss 0.0\n",
      "Fold 1/4 median train_loss: 0.06803517043590546, std train_loss 0.0\n",
      "Fold 1/4 median val_mee: 0.3449617028236389, std val_mee 0.0\n",
      "Fold 1/4 median train_mee: 0.2702931761741638, train_mee 0.0\n",
      "\n",
      "Executing fold 2/4\n"
     ]
    },
    {
     "name": "stderr",
     "output_type": "stream",
     "text": [
      "100%|█████████████████████████████████████████████| 1/1 [00:02<00:00,  2.28s/it]\n"
     ]
    },
    {
     "name": "stdout",
     "output_type": "stream",
     "text": [
      "Fold 2/4 median val_loss: 0.08393700420856476, std val_loss 0.0\n",
      "Fold 2/4 median train_loss: 0.08284377306699753, std train_loss 0.0\n",
      "Fold 2/4 median val_mee: 0.29193150997161865, std val_mee 0.0\n",
      "Fold 2/4 median train_mee: 0.29197317361831665, train_mee 0.0\n",
      "\n",
      "Executing fold 3/4\n"
     ]
    },
    {
     "name": "stderr",
     "output_type": "stream",
     "text": [
      "100%|█████████████████████████████████████████████| 1/1 [00:02<00:00,  2.48s/it]\n"
     ]
    },
    {
     "name": "stdout",
     "output_type": "stream",
     "text": [
      "Fold 3/4 median val_loss: 0.08628157526254654, std val_loss 0.0\n",
      "Fold 3/4 median train_loss: 0.08122557401657104, std train_loss 0.0\n",
      "Fold 3/4 median val_mee: 0.30257612466812134, std val_mee 0.0\n",
      "Fold 3/4 median train_mee: 0.28766492009162903, train_mee 0.0\n",
      "\n",
      "Executing fold 4/4\n"
     ]
    },
    {
     "name": "stderr",
     "output_type": "stream",
     "text": [
      "100%|█████████████████████████████████████████████| 1/1 [00:03<00:00,  3.01s/it]\n"
     ]
    },
    {
     "name": "stdout",
     "output_type": "stream",
     "text": [
      "Fold 4/4 median val_loss: 0.0820285901427269, std val_loss 0.0\n",
      "Fold 4/4 median train_loss: 0.08382352441549301, std train_loss 0.0\n",
      "Fold 4/4 median val_mee: 0.29039841890335083, std val_mee 0.0\n",
      "Fold 4/4 median train_mee: 0.2914213538169861, train_mee 0.0\n",
      "\n",
      "Mean val_loss: 0.09316854365170002, std val_loss: 0.01580960098293527\n",
      "Mean train_loss: 0.07898201048374176, std train_loss: 0.006387886030595918\n",
      "Mean val_mee: 0.30746693909168243, std val_mee: 0.022149838105531165\n",
      "Mean train_mee: 0.30746693909168243, std train_mee: 0.008842991625771629\n",
      "\n",
      "\n",
      "\n",
      "Testing configuration 133/180:\n",
      "{'batch_size': 16, 'learning_rate': 0.3, 'max_epochs': 500, 'momentum': 0.1, 'initialization': {'type': 'default'}, 'early_stopping': {'monitor': 'val_loss', 'patience': 20, 'delta': 0.01}, 'task': 'regression', 'trials_train': 1, 'trials_final': 5, 'nesterov': False, 'learning_rate_decay': {'epochs': 100, 'lr_final': 0.01}, 'regularization': {'method': 'l1', 'value': 1e-05}, 'units_1': 50, 'activations_1': 'tanh', 'units_2': 50, 'activations_2': 'relu', 'units_3': 50, 'activations_3': 'tanh'}\n",
      "\n",
      "Executing fold 1/4\n"
     ]
    },
    {
     "name": "stderr",
     "output_type": "stream",
     "text": [
      "100%|█████████████████████████████████████████████| 1/1 [00:02<00:00,  2.69s/it]\n"
     ]
    },
    {
     "name": "stdout",
     "output_type": "stream",
     "text": [
      "Fold 1/4 median val_loss: 0.1007869765162468, std val_loss 0.0\n",
      "Fold 1/4 median train_loss: 0.07902645319700241, std train_loss 0.0\n",
      "Fold 1/4 median val_mee: 0.30869343876838684, std val_mee 0.0\n",
      "Fold 1/4 median train_mee: 0.28492337465286255, train_mee 0.0\n",
      "\n",
      "Executing fold 2/4\n"
     ]
    },
    {
     "name": "stderr",
     "output_type": "stream",
     "text": [
      "100%|█████████████████████████████████████████████| 1/1 [00:02<00:00,  2.53s/it]\n"
     ]
    },
    {
     "name": "stdout",
     "output_type": "stream",
     "text": [
      "Fold 2/4 median val_loss: 0.10484689474105835, std val_loss 0.0\n",
      "Fold 2/4 median train_loss: 0.07894928753376007, std train_loss 0.0\n",
      "Fold 2/4 median val_mee: 0.3149911165237427, std val_mee 0.0\n",
      "Fold 2/4 median train_mee: 0.2910868227481842, train_mee 0.0\n",
      "\n",
      "Executing fold 3/4\n"
     ]
    },
    {
     "name": "stderr",
     "output_type": "stream",
     "text": [
      "100%|█████████████████████████████████████████████| 1/1 [00:03<00:00,  3.28s/it]\n"
     ]
    },
    {
     "name": "stdout",
     "output_type": "stream",
     "text": [
      "Fold 3/4 median val_loss: 0.08270047605037689, std val_loss 0.0\n",
      "Fold 3/4 median train_loss: 0.08152065426111221, std train_loss 0.0\n",
      "Fold 3/4 median val_mee: 0.2891654670238495, std val_mee 0.0\n",
      "Fold 3/4 median train_mee: 0.2869829535484314, train_mee 0.0\n",
      "\n",
      "Executing fold 4/4\n"
     ]
    },
    {
     "name": "stderr",
     "output_type": "stream",
     "text": [
      "100%|█████████████████████████████████████████████| 1/1 [00:03<00:00,  3.60s/it]\n"
     ]
    },
    {
     "name": "stdout",
     "output_type": "stream",
     "text": [
      "Fold 4/4 median val_loss: 0.08652401715517044, std val_loss 0.0\n",
      "Fold 4/4 median train_loss: 0.08313059061765671, std train_loss 0.0\n",
      "Fold 4/4 median val_mee: 0.3052268624305725, std val_mee 0.0\n",
      "Fold 4/4 median train_mee: 0.2887409031391144, train_mee 0.0\n",
      "\n",
      "Mean val_loss: 0.09371459111571312, std val_loss: 0.009313456713474558\n",
      "Mean train_loss: 0.08065674640238285, std train_loss: 0.0017634847400365059\n",
      "Mean val_mee: 0.3045192211866379, std val_mee: 0.009530519495186485\n",
      "Mean train_mee: 0.3045192211866379, std train_mee: 0.00226714232816366\n",
      "\n",
      "\n",
      "\n",
      "Testing configuration 134/180:\n",
      "{'batch_size': 16, 'learning_rate': 0.3, 'max_epochs': 500, 'momentum': 0.1, 'initialization': {'type': 'default'}, 'early_stopping': {'monitor': 'val_loss', 'patience': 20, 'delta': 0.01}, 'task': 'regression', 'trials_train': 1, 'trials_final': 5, 'nesterov': False, 'learning_rate_decay': {'epochs': 100, 'lr_final': 0.01}, 'regularization': {'method': 'l1', 'value': 1e-05}, 'units_1': 50, 'activations_1': 'tanh', 'units_2': 50, 'activations_2': 'relu', 'units_3': 50, 'activations_3': 'tanh'}\n",
      "\n",
      "Executing fold 1/4\n"
     ]
    },
    {
     "name": "stderr",
     "output_type": "stream",
     "text": [
      "100%|█████████████████████████████████████████████| 1/1 [00:03<00:00,  3.13s/it]\n"
     ]
    },
    {
     "name": "stdout",
     "output_type": "stream",
     "text": [
      "Fold 1/4 median val_loss: 0.08391866087913513, std val_loss 0.0\n",
      "Fold 1/4 median train_loss: 0.08165700733661652, std train_loss 0.0\n",
      "Fold 1/4 median val_mee: 0.27996712923049927, std val_mee 0.0\n",
      "Fold 1/4 median train_mee: 0.2922799587249756, train_mee 0.0\n",
      "\n",
      "Executing fold 2/4\n"
     ]
    },
    {
     "name": "stderr",
     "output_type": "stream",
     "text": [
      "100%|█████████████████████████████████████████████| 1/1 [00:02<00:00,  2.68s/it]\n"
     ]
    },
    {
     "name": "stdout",
     "output_type": "stream",
     "text": [
      "Fold 2/4 median val_loss: 0.10619205981492996, std val_loss 0.0\n",
      "Fold 2/4 median train_loss: 0.0781477764248848, std train_loss 0.0\n",
      "Fold 2/4 median val_mee: 0.3493998646736145, std val_mee 0.0\n",
      "Fold 2/4 median train_mee: 0.2828267216682434, train_mee 0.0\n",
      "\n",
      "Executing fold 3/4\n"
     ]
    },
    {
     "name": "stderr",
     "output_type": "stream",
     "text": [
      "100%|█████████████████████████████████████████████| 1/1 [00:02<00:00,  2.98s/it]\n"
     ]
    },
    {
     "name": "stdout",
     "output_type": "stream",
     "text": [
      "Fold 3/4 median val_loss: 0.09279441833496094, std val_loss 0.0\n",
      "Fold 3/4 median train_loss: 0.07866907864809036, std train_loss 0.0\n",
      "Fold 3/4 median val_mee: 0.2987164855003357, std val_mee 0.0\n",
      "Fold 3/4 median train_mee: 0.2864384055137634, train_mee 0.0\n",
      "\n",
      "Executing fold 4/4\n"
     ]
    },
    {
     "name": "stderr",
     "output_type": "stream",
     "text": [
      "100%|█████████████████████████████████████████████| 1/1 [00:03<00:00,  3.03s/it]\n"
     ]
    },
    {
     "name": "stdout",
     "output_type": "stream",
     "text": [
      "Fold 4/4 median val_loss: 0.09675472229719162, std val_loss 0.0\n",
      "Fold 4/4 median train_loss: 0.07905841618776321, std train_loss 0.0\n",
      "Fold 4/4 median val_mee: 0.31966525316238403, std val_mee 0.0\n",
      "Fold 4/4 median train_mee: 0.2841828465461731, train_mee 0.0\n",
      "\n",
      "Mean val_loss: 0.09491496533155441, std val_loss: 0.007999578064727033\n",
      "Mean train_loss: 0.07938306964933872, std train_loss: 0.001352028566264472\n",
      "Mean val_mee: 0.3119371831417084, std val_mee: 0.02578782060884411\n",
      "Mean train_mee: 0.3119371831417084, std train_mee: 0.0036143943263975465\n",
      "\n",
      "\n",
      "\n",
      "Testing configuration 135/180:\n",
      "{'batch_size': 16, 'learning_rate': 0.3, 'max_epochs': 500, 'momentum': 0.1, 'initialization': {'type': 'default'}, 'early_stopping': {'monitor': 'val_loss', 'patience': 20, 'delta': 0.01}, 'task': 'regression', 'trials_train': 1, 'trials_final': 5, 'nesterov': False, 'learning_rate_decay': {'epochs': 100, 'lr_final': 0.01}, 'regularization': {'method': 'l1', 'value': 1e-05}, 'units_1': 50, 'activations_1': 'tanh', 'units_2': 50, 'activations_2': 'relu', 'units_3': 50, 'activations_3': 'tanh'}\n",
      "\n",
      "Executing fold 1/4\n"
     ]
    },
    {
     "name": "stderr",
     "output_type": "stream",
     "text": [
      "100%|█████████████████████████████████████████████| 1/1 [00:02<00:00,  2.63s/it]\n"
     ]
    },
    {
     "name": "stdout",
     "output_type": "stream",
     "text": [
      "Fold 1/4 median val_loss: 0.07504864782094955, std val_loss 0.0\n",
      "Fold 1/4 median train_loss: 0.08308769017457962, std train_loss 0.0\n",
      "Fold 1/4 median val_mee: 0.28382304310798645, std val_mee 0.0\n",
      "Fold 1/4 median train_mee: 0.29368120431900024, train_mee 0.0\n",
      "\n",
      "Executing fold 2/4\n"
     ]
    },
    {
     "name": "stderr",
     "output_type": "stream",
     "text": [
      "100%|█████████████████████████████████████████████| 1/1 [00:02<00:00,  2.52s/it]\n"
     ]
    },
    {
     "name": "stdout",
     "output_type": "stream",
     "text": [
      "Fold 2/4 median val_loss: 0.09510639309883118, std val_loss 0.0\n",
      "Fold 2/4 median train_loss: 0.07755768299102783, std train_loss 0.0\n",
      "Fold 2/4 median val_mee: 0.3189823627471924, std val_mee 0.0\n",
      "Fold 2/4 median train_mee: 0.27948540449142456, train_mee 0.0\n",
      "\n",
      "Executing fold 3/4\n"
     ]
    },
    {
     "name": "stderr",
     "output_type": "stream",
     "text": [
      "100%|█████████████████████████████████████████████| 1/1 [00:03<00:00,  3.22s/it]\n"
     ]
    },
    {
     "name": "stdout",
     "output_type": "stream",
     "text": [
      "Fold 3/4 median val_loss: 0.10449710488319397, std val_loss 0.0\n",
      "Fold 3/4 median train_loss: 0.0753636360168457, std train_loss 0.0\n",
      "Fold 3/4 median val_mee: 0.308391809463501, std val_mee 0.0\n",
      "Fold 3/4 median train_mee: 0.2786451280117035, train_mee 0.0\n",
      "\n",
      "Executing fold 4/4\n"
     ]
    },
    {
     "name": "stderr",
     "output_type": "stream",
     "text": [
      "100%|█████████████████████████████████████████████| 1/1 [00:02<00:00,  2.50s/it]\n"
     ]
    },
    {
     "name": "stdout",
     "output_type": "stream",
     "text": [
      "Fold 4/4 median val_loss: 0.08945458382368088, std val_loss 0.0\n",
      "Fold 4/4 median train_loss: 0.08082996308803558, std train_loss 0.0\n",
      "Fold 4/4 median val_mee: 0.29552680253982544, std val_mee 0.0\n",
      "Fold 4/4 median train_mee: 0.28940415382385254, train_mee 0.0\n",
      "\n",
      "Mean val_loss: 0.0910266824066639, std val_loss: 0.01067550237933667\n",
      "Mean train_loss: 0.07920974306762218, std train_loss: 0.0029658653299508325\n",
      "Mean val_mee: 0.3016810044646263, std val_mee: 0.013239645834586212\n",
      "Mean train_mee: 0.3016810044646263, std train_mee: 0.00642622446362313\n",
      "\n",
      "\n",
      "\n",
      "Testing configuration 136/180:\n",
      "{'batch_size': 16, 'learning_rate': 0.3, 'max_epochs': 500, 'momentum': 0.2, 'initialization': {'type': 'default'}, 'early_stopping': {'monitor': 'val_loss', 'patience': 20, 'delta': 0.01}, 'task': 'regression', 'trials_train': 1, 'trials_final': 5, 'nesterov': False, 'learning_rate_decay': {'epochs': 100, 'lr_final': 0.01}, 'regularization': {'method': 'l1', 'value': 0.001}, 'units_1': 50, 'activations_1': 'tanh', 'units_2': 50, 'activations_2': 'relu', 'units_3': 50, 'activations_3': 'tanh'}\n",
      "\n",
      "Executing fold 1/4\n"
     ]
    },
    {
     "name": "stderr",
     "output_type": "stream",
     "text": [
      "100%|█████████████████████████████████████████████| 1/1 [00:10<00:00, 10.69s/it]\n"
     ]
    },
    {
     "name": "stdout",
     "output_type": "stream",
     "text": [
      "Fold 1/4 median val_loss: 0.23423945903778076, std val_loss 0.0\n",
      "Fold 1/4 median train_loss: 0.21705742180347443, std train_loss 0.0\n",
      "Fold 1/4 median val_mee: 0.3331436216831207, std val_mee 0.0\n",
      "Fold 1/4 median train_mee: 0.3057263195514679, train_mee 0.0\n",
      "\n",
      "Executing fold 2/4\n"
     ]
    },
    {
     "name": "stderr",
     "output_type": "stream",
     "text": [
      "100%|█████████████████████████████████████████████| 1/1 [00:09<00:00,  9.69s/it]\n"
     ]
    },
    {
     "name": "stdout",
     "output_type": "stream",
     "text": [
      "Fold 2/4 median val_loss: 0.22422701120376587, std val_loss 0.0\n",
      "Fold 2/4 median train_loss: 0.22006109356880188, std train_loss 0.0\n",
      "Fold 2/4 median val_mee: 0.3261008560657501, std val_mee 0.0\n",
      "Fold 2/4 median train_mee: 0.3069286346435547, train_mee 0.0\n",
      "\n",
      "Executing fold 3/4\n"
     ]
    },
    {
     "name": "stderr",
     "output_type": "stream",
     "text": [
      "100%|█████████████████████████████████████████████| 1/1 [00:09<00:00,  9.81s/it]\n"
     ]
    },
    {
     "name": "stdout",
     "output_type": "stream",
     "text": [
      "Fold 3/4 median val_loss: 0.22155621647834778, std val_loss 0.0\n",
      "Fold 3/4 median train_loss: 0.2156902700662613, std train_loss 0.0\n",
      "Fold 3/4 median val_mee: 0.3042214512825012, std val_mee 0.0\n",
      "Fold 3/4 median train_mee: 0.3126704692840576, train_mee 0.0\n",
      "\n",
      "Executing fold 4/4\n"
     ]
    },
    {
     "name": "stderr",
     "output_type": "stream",
     "text": [
      "100%|█████████████████████████████████████████████| 1/1 [00:09<00:00,  9.53s/it]\n"
     ]
    },
    {
     "name": "stdout",
     "output_type": "stream",
     "text": [
      "Fold 4/4 median val_loss: 0.2163858860731125, std val_loss 0.0\n",
      "Fold 4/4 median train_loss: 0.2144159972667694, std train_loss 0.0\n",
      "Fold 4/4 median val_mee: 0.3212037980556488, std val_mee 0.0\n",
      "Fold 4/4 median train_mee: 0.31402239203453064, train_mee 0.0\n",
      "\n",
      "Mean val_loss: 0.22410214319825172, std val_loss: 0.006496212960901727\n",
      "Mean train_loss: 0.21680619567632675, std train_loss: 0.002098559819355352\n",
      "Mean val_mee: 0.3211674317717552, std val_mee: 0.010664607087305813\n",
      "Mean train_mee: 0.3211674317717552, std train_mee: 0.0035672937030197375\n",
      "\n",
      "\n",
      "\n",
      "Testing configuration 137/180:\n",
      "{'batch_size': 16, 'learning_rate': 0.3, 'max_epochs': 500, 'momentum': 0.2, 'initialization': {'type': 'default'}, 'early_stopping': {'monitor': 'val_loss', 'patience': 20, 'delta': 0.01}, 'task': 'regression', 'trials_train': 1, 'trials_final': 5, 'nesterov': False, 'learning_rate_decay': {'epochs': 100, 'lr_final': 0.01}, 'regularization': {'method': 'l1', 'value': 0.001}, 'units_1': 50, 'activations_1': 'tanh', 'units_2': 50, 'activations_2': 'relu', 'units_3': 50, 'activations_3': 'tanh'}\n",
      "\n",
      "Executing fold 1/4\n"
     ]
    },
    {
     "name": "stderr",
     "output_type": "stream",
     "text": [
      "100%|█████████████████████████████████████████████| 1/1 [00:10<00:00, 10.51s/it]\n"
     ]
    },
    {
     "name": "stdout",
     "output_type": "stream",
     "text": [
      "Fold 1/4 median val_loss: 0.22074298560619354, std val_loss 0.0\n",
      "Fold 1/4 median train_loss: 0.2168237715959549, std train_loss 0.0\n",
      "Fold 1/4 median val_mee: 0.3285256326198578, std val_mee 0.0\n",
      "Fold 1/4 median train_mee: 0.3165532648563385, train_mee 0.0\n",
      "\n",
      "Executing fold 2/4\n"
     ]
    },
    {
     "name": "stderr",
     "output_type": "stream",
     "text": [
      "100%|█████████████████████████████████████████████| 1/1 [00:09<00:00,  9.37s/it]\n"
     ]
    },
    {
     "name": "stdout",
     "output_type": "stream",
     "text": [
      "Fold 2/4 median val_loss: 0.2344275414943695, std val_loss 0.0\n",
      "Fold 2/4 median train_loss: 0.2222326397895813, std train_loss 0.0\n",
      "Fold 2/4 median val_mee: 0.3210199475288391, std val_mee 0.0\n",
      "Fold 2/4 median train_mee: 0.3081187903881073, train_mee 0.0\n",
      "\n",
      "Executing fold 3/4\n"
     ]
    },
    {
     "name": "stderr",
     "output_type": "stream",
     "text": [
      "100%|█████████████████████████████████████████████| 1/1 [00:08<00:00,  8.86s/it]\n"
     ]
    },
    {
     "name": "stdout",
     "output_type": "stream",
     "text": [
      "Fold 3/4 median val_loss: 0.2429770976305008, std val_loss 0.0\n",
      "Fold 3/4 median train_loss: 0.2220863401889801, std train_loss 0.0\n",
      "Fold 3/4 median val_mee: 0.3323812484741211, std val_mee 0.0\n",
      "Fold 3/4 median train_mee: 0.30314403772354126, train_mee 0.0\n",
      "\n",
      "Executing fold 4/4\n"
     ]
    },
    {
     "name": "stderr",
     "output_type": "stream",
     "text": [
      "100%|█████████████████████████████████████████████| 1/1 [00:10<00:00, 10.05s/it]\n"
     ]
    },
    {
     "name": "stdout",
     "output_type": "stream",
     "text": [
      "Fold 4/4 median val_loss: 0.19815555214881897, std val_loss 0.0\n",
      "Fold 4/4 median train_loss: 0.21159063279628754, std train_loss 0.0\n",
      "Fold 4/4 median val_mee: 0.29398319125175476, std val_mee 0.0\n",
      "Fold 4/4 median train_mee: 0.3185144364833832, train_mee 0.0\n",
      "\n",
      "Mean val_loss: 0.2240757942199707, std val_loss: 0.016936532293633125\n",
      "Mean train_loss: 0.21818334609270096, std train_loss: 0.004385842387161597\n",
      "Mean val_mee: 0.3189775049686432, std val_mee: 0.014997619572739424\n",
      "Mean train_mee: 0.3189775049686432, std train_mee: 0.006244300930915408\n",
      "\n",
      "\n",
      "\n",
      "Testing configuration 138/180:\n",
      "{'batch_size': 16, 'learning_rate': 0.3, 'max_epochs': 500, 'momentum': 0.2, 'initialization': {'type': 'default'}, 'early_stopping': {'monitor': 'val_loss', 'patience': 20, 'delta': 0.01}, 'task': 'regression', 'trials_train': 1, 'trials_final': 5, 'nesterov': False, 'learning_rate_decay': {'epochs': 100, 'lr_final': 0.01}, 'regularization': {'method': 'l1', 'value': 0.001}, 'units_1': 50, 'activations_1': 'tanh', 'units_2': 50, 'activations_2': 'relu', 'units_3': 50, 'activations_3': 'tanh'}\n",
      "\n",
      "Executing fold 1/4\n"
     ]
    },
    {
     "name": "stderr",
     "output_type": "stream",
     "text": [
      "100%|█████████████████████████████████████████████| 1/1 [00:10<00:00, 10.74s/it]\n"
     ]
    },
    {
     "name": "stdout",
     "output_type": "stream",
     "text": [
      "Fold 1/4 median val_loss: 0.23861822485923767, std val_loss 0.0\n",
      "Fold 1/4 median train_loss: 0.20759236812591553, std train_loss 0.0\n",
      "Fold 1/4 median val_mee: 0.34148353338241577, std val_mee 0.0\n",
      "Fold 1/4 median train_mee: 0.30742302536964417, train_mee 0.0\n",
      "\n",
      "Executing fold 2/4\n"
     ]
    },
    {
     "name": "stderr",
     "output_type": "stream",
     "text": [
      "100%|█████████████████████████████████████████████| 1/1 [00:09<00:00,  9.29s/it]\n"
     ]
    },
    {
     "name": "stdout",
     "output_type": "stream",
     "text": [
      "Fold 2/4 median val_loss: 0.22176049649715424, std val_loss 0.0\n",
      "Fold 2/4 median train_loss: 0.2222261279821396, std train_loss 0.0\n",
      "Fold 2/4 median val_mee: 0.3053531050682068, std val_mee 0.0\n",
      "Fold 2/4 median train_mee: 0.3110326826572418, train_mee 0.0\n",
      "\n",
      "Executing fold 3/4\n"
     ]
    },
    {
     "name": "stderr",
     "output_type": "stream",
     "text": [
      "100%|█████████████████████████████████████████████| 1/1 [00:10<00:00, 10.15s/it]\n"
     ]
    },
    {
     "name": "stdout",
     "output_type": "stream",
     "text": [
      "Fold 3/4 median val_loss: 0.21994714438915253, std val_loss 0.0\n",
      "Fold 3/4 median train_loss: 0.21963097155094147, std train_loss 0.0\n",
      "Fold 3/4 median val_mee: 0.31119367480278015, std val_mee 0.0\n",
      "Fold 3/4 median train_mee: 0.3167192339897156, train_mee 0.0\n",
      "\n",
      "Executing fold 4/4\n"
     ]
    },
    {
     "name": "stderr",
     "output_type": "stream",
     "text": [
      "100%|█████████████████████████████████████████████| 1/1 [00:12<00:00, 12.77s/it]\n"
     ]
    },
    {
     "name": "stdout",
     "output_type": "stream",
     "text": [
      "Fold 4/4 median val_loss: 0.2102063000202179, std val_loss 0.0\n",
      "Fold 4/4 median train_loss: 0.21874788403511047, std train_loss 0.0\n",
      "Fold 4/4 median val_mee: 0.31934547424316406, std val_mee 0.0\n",
      "Fold 4/4 median train_mee: 0.3186224400997162, train_mee 0.0\n",
      "\n",
      "Mean val_loss: 0.22263304144144058, std val_loss: 0.010221611527858951\n",
      "Mean train_loss: 0.21704933792352676, std train_loss: 0.005607658248842787\n",
      "Mean val_mee: 0.3193439468741417, std val_mee: 0.013714334493205636\n",
      "Mean train_mee: 0.3193439468741417, std train_mee: 0.004461218221570404\n",
      "\n",
      "\n",
      "\n",
      "Testing configuration 139/180:\n",
      "{'batch_size': 16, 'learning_rate': 0.3, 'max_epochs': 500, 'momentum': 0.2, 'initialization': {'type': 'default'}, 'early_stopping': {'monitor': 'val_loss', 'patience': 20, 'delta': 0.01}, 'task': 'regression', 'trials_train': 1, 'trials_final': 5, 'nesterov': False, 'learning_rate_decay': {'epochs': 100, 'lr_final': 0.01}, 'regularization': {'method': 'l1', 'value': 0.001}, 'units_1': 50, 'activations_1': 'tanh', 'units_2': 50, 'activations_2': 'relu', 'units_3': 50, 'activations_3': 'tanh'}\n",
      "\n",
      "Executing fold 1/4\n"
     ]
    },
    {
     "name": "stderr",
     "output_type": "stream",
     "text": [
      "100%|█████████████████████████████████████████████| 1/1 [00:10<00:00, 10.98s/it]\n"
     ]
    },
    {
     "name": "stdout",
     "output_type": "stream",
     "text": [
      "Fold 1/4 median val_loss: 0.22151800990104675, std val_loss 0.0\n",
      "Fold 1/4 median train_loss: 0.22359037399291992, std train_loss 0.0\n",
      "Fold 1/4 median val_mee: 0.31321820616722107, std val_mee 0.0\n",
      "Fold 1/4 median train_mee: 0.31065472960472107, train_mee 0.0\n",
      "\n",
      "Executing fold 2/4\n"
     ]
    },
    {
     "name": "stderr",
     "output_type": "stream",
     "text": [
      "100%|█████████████████████████████████████████████| 1/1 [00:12<00:00, 12.65s/it]\n"
     ]
    },
    {
     "name": "stdout",
     "output_type": "stream",
     "text": [
      "Fold 2/4 median val_loss: 0.21131202578544617, std val_loss 0.0\n",
      "Fold 2/4 median train_loss: 0.2045104056596756, std train_loss 0.0\n",
      "Fold 2/4 median val_mee: 0.3185710608959198, std val_mee 0.0\n",
      "Fold 2/4 median train_mee: 0.3115260899066925, train_mee 0.0\n",
      "\n",
      "Executing fold 3/4\n"
     ]
    },
    {
     "name": "stderr",
     "output_type": "stream",
     "text": [
      "100%|█████████████████████████████████████████████| 1/1 [00:11<00:00, 11.22s/it]\n"
     ]
    },
    {
     "name": "stdout",
     "output_type": "stream",
     "text": [
      "Fold 3/4 median val_loss: 0.21059373021125793, std val_loss 0.0\n",
      "Fold 3/4 median train_loss: 0.21158897876739502, std train_loss 0.0\n",
      "Fold 3/4 median val_mee: 0.31741034984588623, std val_mee 0.0\n",
      "Fold 3/4 median train_mee: 0.3138762414455414, train_mee 0.0\n",
      "\n",
      "Executing fold 4/4\n"
     ]
    },
    {
     "name": "stderr",
     "output_type": "stream",
     "text": [
      "100%|█████████████████████████████████████████████| 1/1 [00:08<00:00,  8.46s/it]\n"
     ]
    },
    {
     "name": "stdout",
     "output_type": "stream",
     "text": [
      "Fold 4/4 median val_loss: 0.23535770177841187, std val_loss 0.0\n",
      "Fold 4/4 median train_loss: 0.22116303443908691, std train_loss 0.0\n",
      "Fold 4/4 median val_mee: 0.31976866722106934, std val_mee 0.0\n",
      "Fold 4/4 median train_mee: 0.30719810724258423, train_mee 0.0\n",
      "\n",
      "Mean val_loss: 0.21969536691904068, std val_loss: 0.0100218631003622\n",
      "Mean train_loss: 0.21521319821476936, std train_loss: 0.007636464499268144\n",
      "Mean val_mee: 0.3172420710325241, std val_mee: 0.0024682842507613755\n",
      "Mean train_mee: 0.3172420710325241, std train_mee: 0.0023971046089488798\n",
      "\n",
      "\n",
      "\n",
      "Testing configuration 140/180:\n",
      "{'batch_size': 16, 'learning_rate': 0.3, 'max_epochs': 500, 'momentum': 0.2, 'initialization': {'type': 'default'}, 'early_stopping': {'monitor': 'val_loss', 'patience': 20, 'delta': 0.01}, 'task': 'regression', 'trials_train': 1, 'trials_final': 5, 'nesterov': False, 'learning_rate_decay': {'epochs': 100, 'lr_final': 0.01}, 'regularization': {'method': 'l1', 'value': 0.001}, 'units_1': 50, 'activations_1': 'tanh', 'units_2': 50, 'activations_2': 'relu', 'units_3': 50, 'activations_3': 'tanh'}\n",
      "\n",
      "Executing fold 1/4\n"
     ]
    },
    {
     "name": "stderr",
     "output_type": "stream",
     "text": [
      "100%|█████████████████████████████████████████████| 1/1 [00:11<00:00, 11.30s/it]\n"
     ]
    },
    {
     "name": "stdout",
     "output_type": "stream",
     "text": [
      "Fold 1/4 median val_loss: 0.22656387090682983, std val_loss 0.0\n",
      "Fold 1/4 median train_loss: 0.20567117631435394, std train_loss 0.0\n",
      "Fold 1/4 median val_mee: 0.3360655903816223, std val_mee 0.0\n",
      "Fold 1/4 median train_mee: 0.30581918358802795, train_mee 0.0\n",
      "\n",
      "Executing fold 2/4\n"
     ]
    },
    {
     "name": "stderr",
     "output_type": "stream",
     "text": [
      "100%|█████████████████████████████████████████████| 1/1 [00:11<00:00, 11.98s/it]\n"
     ]
    },
    {
     "name": "stdout",
     "output_type": "stream",
     "text": [
      "Fold 2/4 median val_loss: 0.2184792459011078, std val_loss 0.0\n",
      "Fold 2/4 median train_loss: 0.21016471087932587, std train_loss 0.0\n",
      "Fold 2/4 median val_mee: 0.3115021586418152, std val_mee 0.0\n",
      "Fold 2/4 median train_mee: 0.3101379871368408, train_mee 0.0\n",
      "\n",
      "Executing fold 3/4\n"
     ]
    },
    {
     "name": "stderr",
     "output_type": "stream",
     "text": [
      "100%|█████████████████████████████████████████████| 1/1 [00:09<00:00,  9.22s/it]\n"
     ]
    },
    {
     "name": "stdout",
     "output_type": "stream",
     "text": [
      "Fold 3/4 median val_loss: 0.23429803550243378, std val_loss 0.0\n",
      "Fold 3/4 median train_loss: 0.220892533659935, std train_loss 0.0\n",
      "Fold 3/4 median val_mee: 0.3247559666633606, std val_mee 0.0\n",
      "Fold 3/4 median train_mee: 0.30803409218788147, train_mee 0.0\n",
      "\n",
      "Executing fold 4/4\n"
     ]
    },
    {
     "name": "stderr",
     "output_type": "stream",
     "text": [
      "100%|█████████████████████████████████████████████| 1/1 [00:10<00:00, 10.19s/it]\n"
     ]
    },
    {
     "name": "stdout",
     "output_type": "stream",
     "text": [
      "Fold 4/4 median val_loss: 0.202440083026886, std val_loss 0.0\n",
      "Fold 4/4 median train_loss: 0.22060175240039825, std train_loss 0.0\n",
      "Fold 4/4 median val_mee: 0.29613441228866577, std val_mee 0.0\n",
      "Fold 4/4 median train_mee: 0.3208746016025543, train_mee 0.0\n",
      "\n",
      "Mean val_loss: 0.22044530883431435, std val_loss: 0.011804537240089775\n",
      "Mean train_loss: 0.21433254331350327, std train_loss: 0.006609208753962502\n",
      "Mean val_mee: 0.31711453199386597, std val_mee: 0.014909714075994583\n",
      "Mean train_mee: 0.31711453199386597, std train_mee: 0.005781454412391595\n",
      "\n",
      "\n",
      "\n",
      "Testing configuration 141/180:\n",
      "{'batch_size': 16, 'learning_rate': 0.3, 'max_epochs': 500, 'momentum': 0.2, 'initialization': {'type': 'default'}, 'early_stopping': {'monitor': 'val_loss', 'patience': 20, 'delta': 0.01}, 'task': 'regression', 'trials_train': 1, 'trials_final': 5, 'nesterov': False, 'learning_rate_decay': {'epochs': 100, 'lr_final': 0.01}, 'regularization': {'method': 'l1', 'value': 0.0001}, 'units_1': 50, 'activations_1': 'tanh', 'units_2': 50, 'activations_2': 'relu', 'units_3': 50, 'activations_3': 'tanh'}\n",
      "\n",
      "Executing fold 1/4\n"
     ]
    },
    {
     "name": "stderr",
     "output_type": "stream",
     "text": [
      "100%|█████████████████████████████████████████████| 1/1 [00:02<00:00,  2.82s/it]\n"
     ]
    },
    {
     "name": "stdout",
     "output_type": "stream",
     "text": [
      "Fold 1/4 median val_loss: 0.13525250554084778, std val_loss 0.0\n",
      "Fold 1/4 median train_loss: 0.14056698977947235, std train_loss 0.0\n",
      "Fold 1/4 median val_mee: 0.2907446026802063, std val_mee 0.0\n",
      "Fold 1/4 median train_mee: 0.2956494688987732, train_mee 0.0\n",
      "\n",
      "Executing fold 2/4\n"
     ]
    },
    {
     "name": "stderr",
     "output_type": "stream",
     "text": [
      "100%|█████████████████████████████████████████████| 1/1 [00:03<00:00,  3.26s/it]\n"
     ]
    },
    {
     "name": "stdout",
     "output_type": "stream",
     "text": [
      "Fold 2/4 median val_loss: 0.1576579213142395, std val_loss 0.0\n",
      "Fold 2/4 median train_loss: 0.13442975282669067, std train_loss 0.0\n",
      "Fold 2/4 median val_mee: 0.3052007257938385, std val_mee 0.0\n",
      "Fold 2/4 median train_mee: 0.28376275300979614, train_mee 0.0\n",
      "\n",
      "Executing fold 3/4\n"
     ]
    },
    {
     "name": "stderr",
     "output_type": "stream",
     "text": [
      "100%|█████████████████████████████████████████████| 1/1 [00:05<00:00,  5.05s/it]\n"
     ]
    },
    {
     "name": "stdout",
     "output_type": "stream",
     "text": [
      "Fold 3/4 median val_loss: 0.16305743157863617, std val_loss 0.0\n",
      "Fold 3/4 median train_loss: 0.1359991580247879, std train_loss 0.0\n",
      "Fold 3/4 median val_mee: 0.3319490849971771, std val_mee 0.0\n",
      "Fold 3/4 median train_mee: 0.28454023599624634, train_mee 0.0\n",
      "\n",
      "Executing fold 4/4\n"
     ]
    },
    {
     "name": "stderr",
     "output_type": "stream",
     "text": [
      "100%|█████████████████████████████████████████████| 1/1 [00:03<00:00,  3.24s/it]\n"
     ]
    },
    {
     "name": "stdout",
     "output_type": "stream",
     "text": [
      "Fold 4/4 median val_loss: 0.14768141508102417, std val_loss 0.0\n",
      "Fold 4/4 median train_loss: 0.13442331552505493, std train_loss 0.0\n",
      "Fold 4/4 median val_mee: 0.30379363894462585, std val_mee 0.0\n",
      "Fold 4/4 median train_mee: 0.2816689908504486, train_mee 0.0\n",
      "\n",
      "Mean val_loss: 0.1509123183786869, std val_loss: 0.010590979745032052\n",
      "Mean train_loss: 0.13635480403900146, std train_loss: 0.0025152267715446105\n",
      "Mean val_mee: 0.30792201310396194, std val_mee: 0.014973413859668015\n",
      "Mean train_mee: 0.30792201310396194, std train_mee: 0.005439411762939839\n",
      "\n",
      "\n",
      "\n",
      "Testing configuration 142/180:\n",
      "{'batch_size': 16, 'learning_rate': 0.3, 'max_epochs': 500, 'momentum': 0.2, 'initialization': {'type': 'default'}, 'early_stopping': {'monitor': 'val_loss', 'patience': 20, 'delta': 0.01}, 'task': 'regression', 'trials_train': 1, 'trials_final': 5, 'nesterov': False, 'learning_rate_decay': {'epochs': 100, 'lr_final': 0.01}, 'regularization': {'method': 'l1', 'value': 0.0001}, 'units_1': 50, 'activations_1': 'tanh', 'units_2': 50, 'activations_2': 'relu', 'units_3': 50, 'activations_3': 'tanh'}\n",
      "\n",
      "Executing fold 1/4\n"
     ]
    },
    {
     "name": "stderr",
     "output_type": "stream",
     "text": [
      "100%|█████████████████████████████████████████████| 1/1 [00:05<00:00,  5.65s/it]\n"
     ]
    },
    {
     "name": "stdout",
     "output_type": "stream",
     "text": [
      "Fold 1/4 median val_loss: 0.15420538187026978, std val_loss 0.0\n",
      "Fold 1/4 median train_loss: 0.1351722627878189, std train_loss 0.0\n",
      "Fold 1/4 median val_mee: 0.3176873028278351, std val_mee 0.0\n",
      "Fold 1/4 median train_mee: 0.28178054094314575, train_mee 0.0\n",
      "\n",
      "Executing fold 2/4\n"
     ]
    },
    {
     "name": "stderr",
     "output_type": "stream",
     "text": [
      "100%|█████████████████████████████████████████████| 1/1 [00:02<00:00,  2.74s/it]\n"
     ]
    },
    {
     "name": "stdout",
     "output_type": "stream",
     "text": [
      "Fold 2/4 median val_loss: 0.15080976486206055, std val_loss 0.0\n",
      "Fold 2/4 median train_loss: 0.1374371349811554, std train_loss 0.0\n",
      "Fold 2/4 median val_mee: 0.3096618950366974, std val_mee 0.0\n",
      "Fold 2/4 median train_mee: 0.2886740267276764, train_mee 0.0\n",
      "\n",
      "Executing fold 3/4\n"
     ]
    },
    {
     "name": "stderr",
     "output_type": "stream",
     "text": [
      "100%|█████████████████████████████████████████████| 1/1 [00:02<00:00,  2.99s/it]\n"
     ]
    },
    {
     "name": "stdout",
     "output_type": "stream",
     "text": [
      "Fold 3/4 median val_loss: 0.1443738490343094, std val_loss 0.0\n",
      "Fold 3/4 median train_loss: 0.1357988715171814, std train_loss 0.0\n",
      "Fold 3/4 median val_mee: 0.3028744161128998, std val_mee 0.0\n",
      "Fold 3/4 median train_mee: 0.28261858224868774, train_mee 0.0\n",
      "\n",
      "Executing fold 4/4\n"
     ]
    },
    {
     "name": "stderr",
     "output_type": "stream",
     "text": [
      "100%|█████████████████████████████████████████████| 1/1 [00:02<00:00,  2.95s/it]\n"
     ]
    },
    {
     "name": "stdout",
     "output_type": "stream",
     "text": [
      "Fold 4/4 median val_loss: 0.14730563759803772, std val_loss 0.0\n",
      "Fold 4/4 median train_loss: 0.1357657015323639, std train_loss 0.0\n",
      "Fold 4/4 median val_mee: 0.30502817034721375, std val_mee 0.0\n",
      "Fold 4/4 median train_mee: 0.28680506348609924, train_mee 0.0\n",
      "\n",
      "Mean val_loss: 0.14917365834116936, std val_loss: 0.003691976337275034\n",
      "Mean train_loss: 0.1360434927046299, std train_loss: 0.000842360941580759\n",
      "Mean val_mee: 0.3088129460811615, std val_mee: 0.005680351827496223\n",
      "Mean train_mee: 0.3088129460811615, std train_mee: 0.0028630877438489324\n",
      "\n",
      "\n",
      "\n",
      "Testing configuration 143/180:\n",
      "{'batch_size': 16, 'learning_rate': 0.3, 'max_epochs': 500, 'momentum': 0.2, 'initialization': {'type': 'default'}, 'early_stopping': {'monitor': 'val_loss', 'patience': 20, 'delta': 0.01}, 'task': 'regression', 'trials_train': 1, 'trials_final': 5, 'nesterov': False, 'learning_rate_decay': {'epochs': 100, 'lr_final': 0.01}, 'regularization': {'method': 'l1', 'value': 0.0001}, 'units_1': 50, 'activations_1': 'tanh', 'units_2': 50, 'activations_2': 'relu', 'units_3': 50, 'activations_3': 'tanh'}\n",
      "\n",
      "Executing fold 1/4\n"
     ]
    },
    {
     "name": "stderr",
     "output_type": "stream",
     "text": [
      "100%|█████████████████████████████████████████████| 1/1 [00:02<00:00,  2.81s/it]\n"
     ]
    },
    {
     "name": "stdout",
     "output_type": "stream",
     "text": [
      "Fold 1/4 median val_loss: 0.15505443513393402, std val_loss 0.0\n",
      "Fold 1/4 median train_loss: 0.13497458398342133, std train_loss 0.0\n",
      "Fold 1/4 median val_mee: 0.31291553378105164, std val_mee 0.0\n",
      "Fold 1/4 median train_mee: 0.2844546437263489, train_mee 0.0\n",
      "\n",
      "Executing fold 2/4\n"
     ]
    },
    {
     "name": "stderr",
     "output_type": "stream",
     "text": [
      "100%|█████████████████████████████████████████████| 1/1 [00:03<00:00,  3.86s/it]\n"
     ]
    },
    {
     "name": "stdout",
     "output_type": "stream",
     "text": [
      "Fold 2/4 median val_loss: 0.15144015848636627, std val_loss 0.0\n",
      "Fold 2/4 median train_loss: 0.13522401452064514, std train_loss 0.0\n",
      "Fold 2/4 median val_mee: 0.31558194756507874, std val_mee 0.0\n",
      "Fold 2/4 median train_mee: 0.2803843915462494, train_mee 0.0\n",
      "\n",
      "Executing fold 3/4\n"
     ]
    },
    {
     "name": "stderr",
     "output_type": "stream",
     "text": [
      "100%|█████████████████████████████████████████████| 1/1 [00:02<00:00,  2.81s/it]\n"
     ]
    },
    {
     "name": "stdout",
     "output_type": "stream",
     "text": [
      "Fold 3/4 median val_loss: 0.1260678619146347, std val_loss 0.0\n",
      "Fold 3/4 median train_loss: 0.14434809982776642, std train_loss 0.0\n",
      "Fold 3/4 median val_mee: 0.26564300060272217, std val_mee 0.0\n",
      "Fold 3/4 median train_mee: 0.29879307746887207, train_mee 0.0\n",
      "\n",
      "Executing fold 4/4\n"
     ]
    },
    {
     "name": "stderr",
     "output_type": "stream",
     "text": [
      "100%|█████████████████████████████████████████████| 1/1 [00:03<00:00,  3.91s/it]\n"
     ]
    },
    {
     "name": "stdout",
     "output_type": "stream",
     "text": [
      "Fold 4/4 median val_loss: 0.17440636456012726, std val_loss 0.0\n",
      "Fold 4/4 median train_loss: 0.12956969439983368, std train_loss 0.0\n",
      "Fold 4/4 median val_mee: 0.33254116773605347, std val_mee 0.0\n",
      "Fold 4/4 median train_mee: 0.2771398723125458, train_mee 0.0\n",
      "\n",
      "Mean val_loss: 0.15174220502376556, std val_loss: 0.01720391032576963\n",
      "Mean train_loss: 0.13602909818291664, std train_loss: 0.005307773674058491\n",
      "Mean val_mee: 0.3066704124212265, std val_mee: 0.02485438341874454\n",
      "Mean train_mee: 0.3066704124212265, std train_mee: 0.008268658566509284\n",
      "\n",
      "\n",
      "\n",
      "Testing configuration 144/180:\n",
      "{'batch_size': 16, 'learning_rate': 0.3, 'max_epochs': 500, 'momentum': 0.2, 'initialization': {'type': 'default'}, 'early_stopping': {'monitor': 'val_loss', 'patience': 20, 'delta': 0.01}, 'task': 'regression', 'trials_train': 1, 'trials_final': 5, 'nesterov': False, 'learning_rate_decay': {'epochs': 100, 'lr_final': 0.01}, 'regularization': {'method': 'l1', 'value': 0.0001}, 'units_1': 50, 'activations_1': 'tanh', 'units_2': 50, 'activations_2': 'relu', 'units_3': 50, 'activations_3': 'tanh'}\n",
      "\n",
      "Executing fold 1/4\n"
     ]
    },
    {
     "name": "stderr",
     "output_type": "stream",
     "text": [
      "100%|█████████████████████████████████████████████| 1/1 [00:02<00:00,  2.54s/it]\n"
     ]
    },
    {
     "name": "stdout",
     "output_type": "stream",
     "text": [
      "Fold 1/4 median val_loss: 0.15188921988010406, std val_loss 0.0\n",
      "Fold 1/4 median train_loss: 0.13716648519039154, std train_loss 0.0\n",
      "Fold 1/4 median val_mee: 0.3124595880508423, std val_mee 0.0\n",
      "Fold 1/4 median train_mee: 0.28893977403640747, train_mee 0.0\n",
      "\n",
      "Executing fold 2/4\n"
     ]
    },
    {
     "name": "stderr",
     "output_type": "stream",
     "text": [
      "100%|█████████████████████████████████████████████| 1/1 [00:02<00:00,  2.98s/it]\n"
     ]
    },
    {
     "name": "stdout",
     "output_type": "stream",
     "text": [
      "Fold 2/4 median val_loss: 0.14629337191581726, std val_loss 0.0\n",
      "Fold 2/4 median train_loss: 0.13931690156459808, std train_loss 0.0\n",
      "Fold 2/4 median val_mee: 0.3027094602584839, std val_mee 0.0\n",
      "Fold 2/4 median train_mee: 0.29171818494796753, train_mee 0.0\n",
      "\n",
      "Executing fold 3/4\n"
     ]
    },
    {
     "name": "stderr",
     "output_type": "stream",
     "text": [
      "100%|█████████████████████████████████████████████| 1/1 [00:02<00:00,  2.85s/it]\n"
     ]
    },
    {
     "name": "stdout",
     "output_type": "stream",
     "text": [
      "Fold 3/4 median val_loss: 0.1499103307723999, std val_loss 0.0\n",
      "Fold 3/4 median train_loss: 0.1367451250553131, std train_loss 0.0\n",
      "Fold 3/4 median val_mee: 0.31361934542655945, std val_mee 0.0\n",
      "Fold 3/4 median train_mee: 0.2823430895805359, train_mee 0.0\n",
      "\n",
      "Executing fold 4/4\n"
     ]
    },
    {
     "name": "stderr",
     "output_type": "stream",
     "text": [
      "100%|█████████████████████████████████████████████| 1/1 [00:02<00:00,  2.55s/it]\n"
     ]
    },
    {
     "name": "stdout",
     "output_type": "stream",
     "text": [
      "Fold 4/4 median val_loss: 0.15611107647418976, std val_loss 0.0\n",
      "Fold 4/4 median train_loss: 0.13526339828968048, std train_loss 0.0\n",
      "Fold 4/4 median val_mee: 0.3086705207824707, std val_mee 0.0\n",
      "Fold 4/4 median train_mee: 0.2843131124973297, train_mee 0.0\n",
      "\n",
      "Mean val_loss: 0.15105099976062775, std val_loss: 0.003544119699101888\n",
      "Mean train_loss: 0.1371229775249958, std train_loss: 0.0014505174102500634\n",
      "Mean val_mee: 0.3093647286295891, std val_mee: 0.004256008709836483\n",
      "Mean train_mee: 0.3093647286295891, std train_mee: 0.0037017758528958213\n",
      "\n",
      "\n",
      "\n",
      "Testing configuration 145/180:\n",
      "{'batch_size': 16, 'learning_rate': 0.3, 'max_epochs': 500, 'momentum': 0.2, 'initialization': {'type': 'default'}, 'early_stopping': {'monitor': 'val_loss', 'patience': 20, 'delta': 0.01}, 'task': 'regression', 'trials_train': 1, 'trials_final': 5, 'nesterov': False, 'learning_rate_decay': {'epochs': 100, 'lr_final': 0.01}, 'regularization': {'method': 'l1', 'value': 0.0001}, 'units_1': 50, 'activations_1': 'tanh', 'units_2': 50, 'activations_2': 'relu', 'units_3': 50, 'activations_3': 'tanh'}\n",
      "\n",
      "Executing fold 1/4\n"
     ]
    },
    {
     "name": "stderr",
     "output_type": "stream",
     "text": [
      "100%|█████████████████████████████████████████████| 1/1 [00:03<00:00,  3.89s/it]\n"
     ]
    },
    {
     "name": "stdout",
     "output_type": "stream",
     "text": [
      "Fold 1/4 median val_loss: 0.13588176667690277, std val_loss 0.0\n",
      "Fold 1/4 median train_loss: 0.13692820072174072, std train_loss 0.0\n",
      "Fold 1/4 median val_mee: 0.2900069057941437, std val_mee 0.0\n",
      "Fold 1/4 median train_mee: 0.28580495715141296, train_mee 0.0\n",
      "\n",
      "Executing fold 2/4\n"
     ]
    },
    {
     "name": "stderr",
     "output_type": "stream",
     "text": [
      "100%|█████████████████████████████████████████████| 1/1 [00:02<00:00,  2.91s/it]\n"
     ]
    },
    {
     "name": "stdout",
     "output_type": "stream",
     "text": [
      "Fold 2/4 median val_loss: 0.15886326134204865, std val_loss 0.0\n",
      "Fold 2/4 median train_loss: 0.13699758052825928, std train_loss 0.0\n",
      "Fold 2/4 median val_mee: 0.3177470564842224, std val_mee 0.0\n",
      "Fold 2/4 median train_mee: 0.2852322459220886, train_mee 0.0\n",
      "\n",
      "Executing fold 3/4\n"
     ]
    },
    {
     "name": "stderr",
     "output_type": "stream",
     "text": [
      "100%|█████████████████████████████████████████████| 1/1 [00:03<00:00,  3.07s/it]\n"
     ]
    },
    {
     "name": "stdout",
     "output_type": "stream",
     "text": [
      "Fold 3/4 median val_loss: 0.14403553307056427, std val_loss 0.0\n",
      "Fold 3/4 median train_loss: 0.13552525639533997, std train_loss 0.0\n",
      "Fold 3/4 median val_mee: 0.2986433506011963, std val_mee 0.0\n",
      "Fold 3/4 median train_mee: 0.2845463454723358, train_mee 0.0\n",
      "\n",
      "Executing fold 4/4\n"
     ]
    },
    {
     "name": "stderr",
     "output_type": "stream",
     "text": [
      "100%|█████████████████████████████████████████████| 1/1 [00:02<00:00,  2.66s/it]\n"
     ]
    },
    {
     "name": "stdout",
     "output_type": "stream",
     "text": [
      "Fold 4/4 median val_loss: 0.15965017676353455, std val_loss 0.0\n",
      "Fold 4/4 median train_loss: 0.1340150684118271, std train_loss 0.0\n",
      "Fold 4/4 median val_mee: 0.32457393407821655, std val_mee 0.0\n",
      "Fold 4/4 median train_mee: 0.28267744183540344, train_mee 0.0\n",
      "\n",
      "Mean val_loss: 0.14960768446326256, std val_loss: 0.010074311951458512\n",
      "Mean train_loss: 0.13586652651429176, std train_loss: 0.0012197128457700477\n",
      "Mean val_mee: 0.30774281173944473, std val_mee: 0.013970810148334048\n",
      "Mean train_mee: 0.30774281173944473, std train_mee: 0.001177490385184503\n",
      "\n",
      "\n",
      "\n",
      "Testing configuration 146/180:\n",
      "{'batch_size': 16, 'learning_rate': 0.3, 'max_epochs': 500, 'momentum': 0.2, 'initialization': {'type': 'default'}, 'early_stopping': {'monitor': 'val_loss', 'patience': 20, 'delta': 0.01}, 'task': 'regression', 'trials_train': 1, 'trials_final': 5, 'nesterov': False, 'learning_rate_decay': {'epochs': 100, 'lr_final': 0.01}, 'regularization': {'method': 'l1', 'value': 1e-05}, 'units_1': 50, 'activations_1': 'tanh', 'units_2': 50, 'activations_2': 'relu', 'units_3': 50, 'activations_3': 'tanh'}\n",
      "\n",
      "Executing fold 1/4\n"
     ]
    },
    {
     "name": "stderr",
     "output_type": "stream",
     "text": [
      "100%|█████████████████████████████████████████████| 1/1 [00:02<00:00,  2.39s/it]\n"
     ]
    },
    {
     "name": "stdout",
     "output_type": "stream",
     "text": [
      "Fold 1/4 median val_loss: 0.09970033913850784, std val_loss 0.0\n",
      "Fold 1/4 median train_loss: 0.08036728203296661, std train_loss 0.0\n",
      "Fold 1/4 median val_mee: 0.3155536651611328, std val_mee 0.0\n",
      "Fold 1/4 median train_mee: 0.285523921251297, train_mee 0.0\n",
      "\n",
      "Executing fold 2/4\n"
     ]
    },
    {
     "name": "stderr",
     "output_type": "stream",
     "text": [
      "100%|█████████████████████████████████████████████| 1/1 [00:02<00:00,  2.50s/it]\n"
     ]
    },
    {
     "name": "stdout",
     "output_type": "stream",
     "text": [
      "Fold 2/4 median val_loss: 0.09787914901971817, std val_loss 0.0\n",
      "Fold 2/4 median train_loss: 0.07752660661935806, std train_loss 0.0\n",
      "Fold 2/4 median val_mee: 0.3136734664440155, std val_mee 0.0\n",
      "Fold 2/4 median train_mee: 0.2801404893398285, train_mee 0.0\n",
      "\n",
      "Executing fold 3/4\n"
     ]
    },
    {
     "name": "stderr",
     "output_type": "stream",
     "text": [
      "100%|█████████████████████████████████████████████| 1/1 [00:02<00:00,  2.35s/it]\n"
     ]
    },
    {
     "name": "stdout",
     "output_type": "stream",
     "text": [
      "Fold 3/4 median val_loss: 0.10081207007169724, std val_loss 0.0\n",
      "Fold 3/4 median train_loss: 0.07855183631181717, std train_loss 0.0\n",
      "Fold 3/4 median val_mee: 0.3123641014099121, std val_mee 0.0\n",
      "Fold 3/4 median train_mee: 0.28365954756736755, train_mee 0.0\n",
      "\n",
      "Executing fold 4/4\n"
     ]
    },
    {
     "name": "stderr",
     "output_type": "stream",
     "text": [
      "100%|█████████████████████████████████████████████| 1/1 [00:02<00:00,  2.97s/it]\n"
     ]
    },
    {
     "name": "stdout",
     "output_type": "stream",
     "text": [
      "Fold 4/4 median val_loss: 0.0815768763422966, std val_loss 0.0\n",
      "Fold 4/4 median train_loss: 0.08180390298366547, std train_loss 0.0\n",
      "Fold 4/4 median val_mee: 0.29050105810165405, std val_mee 0.0\n",
      "Fold 4/4 median train_mee: 0.28801918029785156, train_mee 0.0\n",
      "\n",
      "Mean val_loss: 0.09499210864305496, std val_loss: 0.00781573485426979\n",
      "Mean train_loss: 0.07956240698695183, std train_loss: 0.0016460455924060548\n",
      "Mean val_mee: 0.3080230727791786, std val_mee: 0.010179664755322367\n",
      "Mean train_mee: 0.3080230727791786, std train_mee: 0.00287388549760719\n",
      "\n",
      "\n",
      "\n",
      "Testing configuration 147/180:\n",
      "{'batch_size': 16, 'learning_rate': 0.3, 'max_epochs': 500, 'momentum': 0.2, 'initialization': {'type': 'default'}, 'early_stopping': {'monitor': 'val_loss', 'patience': 20, 'delta': 0.01}, 'task': 'regression', 'trials_train': 1, 'trials_final': 5, 'nesterov': False, 'learning_rate_decay': {'epochs': 100, 'lr_final': 0.01}, 'regularization': {'method': 'l1', 'value': 1e-05}, 'units_1': 50, 'activations_1': 'tanh', 'units_2': 50, 'activations_2': 'relu', 'units_3': 50, 'activations_3': 'tanh'}\n",
      "\n",
      "Executing fold 1/4\n"
     ]
    },
    {
     "name": "stderr",
     "output_type": "stream",
     "text": [
      "100%|█████████████████████████████████████████████| 1/1 [00:02<00:00,  2.43s/it]\n"
     ]
    },
    {
     "name": "stdout",
     "output_type": "stream",
     "text": [
      "Fold 1/4 median val_loss: 0.11984247714281082, std val_loss 0.0\n",
      "Fold 1/4 median train_loss: 0.07225504517555237, std train_loss 0.0\n",
      "Fold 1/4 median val_mee: 0.33850008249282837, std val_mee 0.0\n",
      "Fold 1/4 median train_mee: 0.27231594920158386, train_mee 0.0\n",
      "\n",
      "Executing fold 2/4\n"
     ]
    },
    {
     "name": "stderr",
     "output_type": "stream",
     "text": [
      "100%|█████████████████████████████████████████████| 1/1 [00:03<00:00,  3.41s/it]\n"
     ]
    },
    {
     "name": "stdout",
     "output_type": "stream",
     "text": [
      "Fold 2/4 median val_loss: 0.07785087823867798, std val_loss 0.0\n",
      "Fold 2/4 median train_loss: 0.08226701617240906, std train_loss 0.0\n",
      "Fold 2/4 median val_mee: 0.28406357765197754, std val_mee 0.0\n",
      "Fold 2/4 median train_mee: 0.28733590245246887, train_mee 0.0\n",
      "\n",
      "Executing fold 3/4\n"
     ]
    },
    {
     "name": "stderr",
     "output_type": "stream",
     "text": [
      "100%|█████████████████████████████████████████████| 1/1 [00:03<00:00,  3.11s/it]\n"
     ]
    },
    {
     "name": "stdout",
     "output_type": "stream",
     "text": [
      "Fold 3/4 median val_loss: 0.08949855715036392, std val_loss 0.0\n",
      "Fold 3/4 median train_loss: 0.07922104746103287, std train_loss 0.0\n",
      "Fold 3/4 median val_mee: 0.299591600894928, std val_mee 0.0\n",
      "Fold 3/4 median train_mee: 0.28436487913131714, train_mee 0.0\n",
      "\n",
      "Executing fold 4/4\n"
     ]
    },
    {
     "name": "stderr",
     "output_type": "stream",
     "text": [
      "100%|█████████████████████████████████████████████| 1/1 [00:02<00:00,  2.63s/it]\n"
     ]
    },
    {
     "name": "stdout",
     "output_type": "stream",
     "text": [
      "Fold 4/4 median val_loss: 0.08199535310268402, std val_loss 0.0\n",
      "Fold 4/4 median train_loss: 0.08578231185674667, std train_loss 0.0\n",
      "Fold 4/4 median val_mee: 0.2990502417087555, std val_mee 0.0\n",
      "Fold 4/4 median train_mee: 0.29504159092903137, train_mee 0.0\n",
      "\n",
      "Mean val_loss: 0.09229681640863419, std val_loss: 0.016442315500051166\n",
      "Mean train_loss: 0.07988135516643524, std train_loss: 0.004977682157370259\n",
      "Mean val_mee: 0.30530137568712234, std val_mee: 0.02015487784102091\n",
      "Mean train_mee: 0.30530137568712234, std train_mee: 0.00817552478942026\n",
      "\n",
      "\n",
      "\n",
      "Testing configuration 148/180:\n",
      "{'batch_size': 16, 'learning_rate': 0.3, 'max_epochs': 500, 'momentum': 0.2, 'initialization': {'type': 'default'}, 'early_stopping': {'monitor': 'val_loss', 'patience': 20, 'delta': 0.01}, 'task': 'regression', 'trials_train': 1, 'trials_final': 5, 'nesterov': False, 'learning_rate_decay': {'epochs': 100, 'lr_final': 0.01}, 'regularization': {'method': 'l1', 'value': 1e-05}, 'units_1': 50, 'activations_1': 'tanh', 'units_2': 50, 'activations_2': 'relu', 'units_3': 50, 'activations_3': 'tanh'}\n",
      "\n",
      "Executing fold 1/4\n"
     ]
    },
    {
     "name": "stderr",
     "output_type": "stream",
     "text": [
      "100%|█████████████████████████████████████████████| 1/1 [00:02<00:00,  2.27s/it]\n"
     ]
    },
    {
     "name": "stdout",
     "output_type": "stream",
     "text": [
      "Fold 1/4 median val_loss: 0.09257211536169052, std val_loss 0.0\n",
      "Fold 1/4 median train_loss: 0.08180554211139679, std train_loss 0.0\n",
      "Fold 1/4 median val_mee: 0.30934467911720276, std val_mee 0.0\n",
      "Fold 1/4 median train_mee: 0.2878784239292145, train_mee 0.0\n",
      "\n",
      "Executing fold 2/4\n"
     ]
    },
    {
     "name": "stderr",
     "output_type": "stream",
     "text": [
      "100%|█████████████████████████████████████████████| 1/1 [00:02<00:00,  2.48s/it]\n"
     ]
    },
    {
     "name": "stdout",
     "output_type": "stream",
     "text": [
      "Fold 2/4 median val_loss: 0.09766317158937454, std val_loss 0.0\n",
      "Fold 2/4 median train_loss: 0.07760565727949142, std train_loss 0.0\n",
      "Fold 2/4 median val_mee: 0.3172197937965393, std val_mee 0.0\n",
      "Fold 2/4 median train_mee: 0.2791294455528259, train_mee 0.0\n",
      "\n",
      "Executing fold 3/4\n"
     ]
    },
    {
     "name": "stderr",
     "output_type": "stream",
     "text": [
      "100%|█████████████████████████████████████████████| 1/1 [00:02<00:00,  2.56s/it]\n"
     ]
    },
    {
     "name": "stdout",
     "output_type": "stream",
     "text": [
      "Fold 3/4 median val_loss: 0.09332135319709778, std val_loss 0.0\n",
      "Fold 3/4 median train_loss: 0.08188597857952118, std train_loss 0.0\n",
      "Fold 3/4 median val_mee: 0.30113181471824646, std val_mee 0.0\n",
      "Fold 3/4 median train_mee: 0.2921324670314789, train_mee 0.0\n",
      "\n",
      "Executing fold 4/4\n"
     ]
    },
    {
     "name": "stderr",
     "output_type": "stream",
     "text": [
      "100%|█████████████████████████████████████████████| 1/1 [00:03<00:00,  3.25s/it]\n"
     ]
    },
    {
     "name": "stdout",
     "output_type": "stream",
     "text": [
      "Fold 4/4 median val_loss: nan, std val_loss nan\n",
      "Fold 4/4 median train_loss: nan, std train_loss nan\n",
      "Fold 4/4 median val_mee: nan, std val_mee nan\n",
      "Fold 4/4 median train_mee: nan, train_mee nan\n",
      "\n",
      "Mean val_loss: nan, std val_loss: nan\n",
      "Mean train_loss: nan, std train_loss: nan\n",
      "Mean val_mee: nan, std val_mee: nan\n",
      "Mean train_mee: nan, std train_mee: nan\n",
      "\n",
      "\n",
      "\n",
      "Testing configuration 149/180:\n",
      "{'batch_size': 16, 'learning_rate': 0.3, 'max_epochs': 500, 'momentum': 0.2, 'initialization': {'type': 'default'}, 'early_stopping': {'monitor': 'val_loss', 'patience': 20, 'delta': 0.01}, 'task': 'regression', 'trials_train': 1, 'trials_final': 5, 'nesterov': False, 'learning_rate_decay': {'epochs': 100, 'lr_final': 0.01}, 'regularization': {'method': 'l1', 'value': 1e-05}, 'units_1': 50, 'activations_1': 'tanh', 'units_2': 50, 'activations_2': 'relu', 'units_3': 50, 'activations_3': 'tanh'}\n",
      "\n",
      "Executing fold 1/4\n"
     ]
    },
    {
     "name": "stderr",
     "output_type": "stream",
     "text": [
      "100%|█████████████████████████████████████████████| 1/1 [00:02<00:00,  2.55s/it]\n"
     ]
    },
    {
     "name": "stdout",
     "output_type": "stream",
     "text": [
      "Fold 1/4 median val_loss: 0.10305774956941605, std val_loss 0.0\n",
      "Fold 1/4 median train_loss: 0.07693755626678467, std train_loss 0.0\n",
      "Fold 1/4 median val_mee: 0.32023128867149353, std val_mee 0.0\n",
      "Fold 1/4 median train_mee: 0.2814442813396454, train_mee 0.0\n",
      "\n",
      "Executing fold 2/4\n"
     ]
    },
    {
     "name": "stderr",
     "output_type": "stream",
     "text": [
      "100%|█████████████████████████████████████████████| 1/1 [00:03<00:00,  3.28s/it]\n"
     ]
    },
    {
     "name": "stdout",
     "output_type": "stream",
     "text": [
      "Fold 2/4 median val_loss: 0.08914194256067276, std val_loss 0.0\n",
      "Fold 2/4 median train_loss: 0.0808720737695694, std train_loss 0.0\n",
      "Fold 2/4 median val_mee: 0.2972748279571533, std val_mee 0.0\n",
      "Fold 2/4 median train_mee: 0.2872738242149353, train_mee 0.0\n",
      "\n",
      "Executing fold 3/4\n"
     ]
    },
    {
     "name": "stderr",
     "output_type": "stream",
     "text": [
      "100%|█████████████████████████████████████████████| 1/1 [00:03<00:00,  3.52s/it]\n"
     ]
    },
    {
     "name": "stdout",
     "output_type": "stream",
     "text": [
      "Fold 3/4 median val_loss: 0.09297573566436768, std val_loss 0.0\n",
      "Fold 3/4 median train_loss: 0.08037073165178299, std train_loss 0.0\n",
      "Fold 3/4 median val_mee: 0.2924347221851349, std val_mee 0.0\n",
      "Fold 3/4 median train_mee: 0.2845192551612854, train_mee 0.0\n",
      "\n",
      "Executing fold 4/4\n"
     ]
    },
    {
     "name": "stderr",
     "output_type": "stream",
     "text": [
      "100%|█████████████████████████████████████████████| 1/1 [00:02<00:00,  2.51s/it]\n"
     ]
    },
    {
     "name": "stdout",
     "output_type": "stream",
     "text": [
      "Fold 4/4 median val_loss: 0.098857581615448, std val_loss 0.0\n",
      "Fold 4/4 median train_loss: 0.08054905384778976, std train_loss 0.0\n",
      "Fold 4/4 median val_mee: 0.3307443857192993, std val_mee 0.0\n",
      "Fold 4/4 median train_mee: 0.28797557950019836, train_mee 0.0\n",
      "\n",
      "Mean val_loss: 0.09600825235247612, std val_loss: 0.005342201228921055\n",
      "Mean train_loss: 0.0796823538839817, std train_loss: 0.001594865209351663\n",
      "Mean val_mee: 0.31017130613327026, std val_mee: 0.015853709438320394\n",
      "Mean train_mee: 0.31017130613327026, std train_mee: 0.002575402624932411\n",
      "\n",
      "\n",
      "\n",
      "Testing configuration 150/180:\n",
      "{'batch_size': 16, 'learning_rate': 0.3, 'max_epochs': 500, 'momentum': 0.2, 'initialization': {'type': 'default'}, 'early_stopping': {'monitor': 'val_loss', 'patience': 20, 'delta': 0.01}, 'task': 'regression', 'trials_train': 1, 'trials_final': 5, 'nesterov': False, 'learning_rate_decay': {'epochs': 100, 'lr_final': 0.01}, 'regularization': {'method': 'l1', 'value': 1e-05}, 'units_1': 50, 'activations_1': 'tanh', 'units_2': 50, 'activations_2': 'relu', 'units_3': 50, 'activations_3': 'tanh'}\n",
      "\n",
      "Executing fold 1/4\n"
     ]
    },
    {
     "name": "stderr",
     "output_type": "stream",
     "text": [
      "100%|█████████████████████████████████████████████| 1/1 [00:02<00:00,  2.70s/it]\n"
     ]
    },
    {
     "name": "stdout",
     "output_type": "stream",
     "text": [
      "Fold 1/4 median val_loss: 0.09036964178085327, std val_loss 0.0\n",
      "Fold 1/4 median train_loss: 0.08163522928953171, std train_loss 0.0\n",
      "Fold 1/4 median val_mee: 0.29350271821022034, std val_mee 0.0\n",
      "Fold 1/4 median train_mee: 0.29327747225761414, train_mee 0.0\n",
      "\n",
      "Executing fold 2/4\n"
     ]
    },
    {
     "name": "stderr",
     "output_type": "stream",
     "text": [
      "100%|█████████████████████████████████████████████| 1/1 [00:03<00:00,  3.15s/it]\n"
     ]
    },
    {
     "name": "stdout",
     "output_type": "stream",
     "text": [
      "Fold 2/4 median val_loss: 0.09351855516433716, std val_loss 0.0\n",
      "Fold 2/4 median train_loss: 0.07589122653007507, std train_loss 0.0\n",
      "Fold 2/4 median val_mee: 0.3090255558490753, std val_mee 0.0\n",
      "Fold 2/4 median train_mee: 0.27608391642570496, train_mee 0.0\n",
      "\n",
      "Executing fold 3/4\n"
     ]
    },
    {
     "name": "stderr",
     "output_type": "stream",
     "text": [
      "100%|█████████████████████████████████████████████| 1/1 [00:03<00:00,  3.59s/it]\n"
     ]
    },
    {
     "name": "stdout",
     "output_type": "stream",
     "text": [
      "Fold 3/4 median val_loss: 0.08489400893449783, std val_loss 0.0\n",
      "Fold 3/4 median train_loss: 0.08058800548315048, std train_loss 0.0\n",
      "Fold 3/4 median val_mee: 0.3019416034221649, std val_mee 0.0\n",
      "Fold 3/4 median train_mee: 0.28465840220451355, train_mee 0.0\n",
      "\n",
      "Executing fold 4/4\n"
     ]
    },
    {
     "name": "stderr",
     "output_type": "stream",
     "text": [
      "100%|█████████████████████████████████████████████| 1/1 [00:02<00:00,  2.35s/it]\n"
     ]
    },
    {
     "name": "stdout",
     "output_type": "stream",
     "text": [
      "Fold 4/4 median val_loss: 0.10917115956544876, std val_loss 0.0\n",
      "Fold 4/4 median train_loss: 0.0786614865064621, std train_loss 0.0\n",
      "Fold 4/4 median val_mee: 0.33068686723709106, std val_mee 0.0\n",
      "Fold 4/4 median train_mee: 0.28263726830482483, train_mee 0.0\n",
      "\n",
      "Mean val_loss: 0.09448834136128426, std val_loss: 0.009021370968897432\n",
      "Mean train_loss: 0.07919398695230484, std train_loss: 0.002184876137500706\n",
      "Mean val_mee: 0.3087891861796379, std val_mee: 0.013785225777213838\n",
      "Mean train_mee: 0.3087891861796379, std train_mee: 0.006142443937194362\n",
      "\n",
      "\n",
      "\n",
      "Testing configuration 151/180:\n",
      "{'batch_size': 16, 'learning_rate': 0.3, 'max_epochs': 500, 'momentum': 0.3, 'initialization': {'type': 'default'}, 'early_stopping': {'monitor': 'val_loss', 'patience': 20, 'delta': 0.01}, 'task': 'regression', 'trials_train': 1, 'trials_final': 5, 'nesterov': False, 'learning_rate_decay': {'epochs': 100, 'lr_final': 0.01}, 'regularization': {'method': 'l1', 'value': 0.001}, 'units_1': 50, 'activations_1': 'tanh', 'units_2': 50, 'activations_2': 'relu', 'units_3': 50, 'activations_3': 'tanh'}\n",
      "\n",
      "Executing fold 1/4\n"
     ]
    },
    {
     "name": "stderr",
     "output_type": "stream",
     "text": [
      "100%|█████████████████████████████████████████████| 1/1 [00:08<00:00,  8.41s/it]\n"
     ]
    },
    {
     "name": "stdout",
     "output_type": "stream",
     "text": [
      "Fold 1/4 median val_loss: 0.21413888037204742, std val_loss 0.0\n",
      "Fold 1/4 median train_loss: 0.19715332984924316, std train_loss 0.0\n",
      "Fold 1/4 median val_mee: 0.3344016671180725, std val_mee 0.0\n",
      "Fold 1/4 median train_mee: 0.30411383509635925, train_mee 0.0\n",
      "\n",
      "Executing fold 2/4\n"
     ]
    },
    {
     "name": "stderr",
     "output_type": "stream",
     "text": [
      "100%|█████████████████████████████████████████████| 1/1 [00:08<00:00,  8.79s/it]\n"
     ]
    },
    {
     "name": "stdout",
     "output_type": "stream",
     "text": [
      "Fold 2/4 median val_loss: 0.20834311842918396, std val_loss 0.0\n",
      "Fold 2/4 median train_loss: 0.19256944954395294, std train_loss 0.0\n",
      "Fold 2/4 median val_mee: 0.31927254796028137, std val_mee 0.0\n",
      "Fold 2/4 median train_mee: 0.3077850341796875, train_mee 0.0\n",
      "\n",
      "Executing fold 3/4\n"
     ]
    },
    {
     "name": "stderr",
     "output_type": "stream",
     "text": [
      "100%|█████████████████████████████████████████████| 1/1 [00:08<00:00,  8.60s/it]\n"
     ]
    },
    {
     "name": "stdout",
     "output_type": "stream",
     "text": [
      "Fold 3/4 median val_loss: 0.19199132919311523, std val_loss 0.0\n",
      "Fold 3/4 median train_loss: 0.18696999549865723, std train_loss 0.0\n",
      "Fold 3/4 median val_mee: 0.3077375888824463, std val_mee 0.0\n",
      "Fold 3/4 median train_mee: 0.30823588371276855, train_mee 0.0\n",
      "\n",
      "Executing fold 4/4\n"
     ]
    },
    {
     "name": "stderr",
     "output_type": "stream",
     "text": [
      "100%|█████████████████████████████████████████████| 1/1 [00:09<00:00,  9.48s/it]\n"
     ]
    },
    {
     "name": "stdout",
     "output_type": "stream",
     "text": [
      "Fold 4/4 median val_loss: 0.17857013642787933, std val_loss 0.0\n",
      "Fold 4/4 median train_loss: 0.19618916511535645, std train_loss 0.0\n",
      "Fold 4/4 median val_mee: 0.3038562536239624, std val_mee 0.0\n",
      "Fold 4/4 median train_mee: 0.32256248593330383, train_mee 0.0\n",
      "\n",
      "Mean val_loss: 0.1982608661055565, std val_loss: 0.013971355314535527\n",
      "Mean train_loss: 0.19322048500180244, std train_loss: 0.003992893575058002\n",
      "Mean val_mee: 0.31631701439619064, std val_mee: 0.011881360863639797\n",
      "Mean train_mee: 0.31631701439619064, std train_mee: 0.007047382413112475\n",
      "\n",
      "\n",
      "\n",
      "Testing configuration 152/180:\n",
      "{'batch_size': 16, 'learning_rate': 0.3, 'max_epochs': 500, 'momentum': 0.3, 'initialization': {'type': 'default'}, 'early_stopping': {'monitor': 'val_loss', 'patience': 20, 'delta': 0.01}, 'task': 'regression', 'trials_train': 1, 'trials_final': 5, 'nesterov': False, 'learning_rate_decay': {'epochs': 100, 'lr_final': 0.01}, 'regularization': {'method': 'l1', 'value': 0.001}, 'units_1': 50, 'activations_1': 'tanh', 'units_2': 50, 'activations_2': 'relu', 'units_3': 50, 'activations_3': 'tanh'}\n",
      "\n",
      "Executing fold 1/4\n"
     ]
    },
    {
     "name": "stderr",
     "output_type": "stream",
     "text": [
      "100%|█████████████████████████████████████████████| 1/1 [00:08<00:00,  8.93s/it]\n"
     ]
    },
    {
     "name": "stdout",
     "output_type": "stream",
     "text": [
      "Fold 1/4 median val_loss: 0.19262786209583282, std val_loss 0.0\n",
      "Fold 1/4 median train_loss: 0.1938302218914032, std train_loss 0.0\n",
      "Fold 1/4 median val_mee: 0.32328930497169495, std val_mee 0.0\n",
      "Fold 1/4 median train_mee: 0.31110793352127075, train_mee 0.0\n",
      "\n",
      "Executing fold 2/4\n"
     ]
    },
    {
     "name": "stderr",
     "output_type": "stream",
     "text": [
      "100%|█████████████████████████████████████████████| 1/1 [00:09<00:00,  9.03s/it]\n"
     ]
    },
    {
     "name": "stdout",
     "output_type": "stream",
     "text": [
      "Fold 2/4 median val_loss: 0.20819918811321259, std val_loss 0.0\n",
      "Fold 2/4 median train_loss: 0.18540915846824646, std train_loss 0.0\n",
      "Fold 2/4 median val_mee: 0.32928892970085144, std val_mee 0.0\n",
      "Fold 2/4 median train_mee: 0.30213430523872375, train_mee 0.0\n",
      "\n",
      "Executing fold 3/4\n"
     ]
    },
    {
     "name": "stderr",
     "output_type": "stream",
     "text": [
      "100%|█████████████████████████████████████████████| 1/1 [00:08<00:00,  8.70s/it]\n"
     ]
    },
    {
     "name": "stdout",
     "output_type": "stream",
     "text": [
      "Fold 3/4 median val_loss: 0.1876251995563507, std val_loss 0.0\n",
      "Fold 3/4 median train_loss: 0.2010381519794464, std train_loss 0.0\n",
      "Fold 3/4 median val_mee: 0.2810325026512146, std val_mee 0.0\n",
      "Fold 3/4 median train_mee: 0.31544870138168335, train_mee 0.0\n",
      "\n",
      "Executing fold 4/4\n"
     ]
    },
    {
     "name": "stderr",
     "output_type": "stream",
     "text": [
      "100%|█████████████████████████████████████████████| 1/1 [00:07<00:00,  7.96s/it]\n"
     ]
    },
    {
     "name": "stdout",
     "output_type": "stream",
     "text": [
      "Fold 4/4 median val_loss: 0.21293500065803528, std val_loss 0.0\n",
      "Fold 4/4 median train_loss: 0.2027812898159027, std train_loss 0.0\n",
      "Fold 4/4 median val_mee: 0.3284790813922882, std val_mee 0.0\n",
      "Fold 4/4 median train_mee: 0.306257963180542, train_mee 0.0\n",
      "\n",
      "Mean val_loss: 0.20034681260585785, std val_loss: 0.01050647318445982\n",
      "Mean train_loss: 0.1957647055387497, std train_loss: 0.006856042488063849\n",
      "Mean val_mee: 0.3155224546790123, std val_mee: 0.020045390771090164\n",
      "Mean train_mee: 0.3155224546790123, std train_mee: 0.005010226109119003\n",
      "\n",
      "\n",
      "\n",
      "Testing configuration 153/180:\n",
      "{'batch_size': 16, 'learning_rate': 0.3, 'max_epochs': 500, 'momentum': 0.3, 'initialization': {'type': 'default'}, 'early_stopping': {'monitor': 'val_loss', 'patience': 20, 'delta': 0.01}, 'task': 'regression', 'trials_train': 1, 'trials_final': 5, 'nesterov': False, 'learning_rate_decay': {'epochs': 100, 'lr_final': 0.01}, 'regularization': {'method': 'l1', 'value': 0.001}, 'units_1': 50, 'activations_1': 'tanh', 'units_2': 50, 'activations_2': 'relu', 'units_3': 50, 'activations_3': 'tanh'}\n",
      "\n",
      "Executing fold 1/4\n"
     ]
    },
    {
     "name": "stderr",
     "output_type": "stream",
     "text": [
      "100%|█████████████████████████████████████████████| 1/1 [00:07<00:00,  7.88s/it]\n"
     ]
    },
    {
     "name": "stdout",
     "output_type": "stream",
     "text": [
      "Fold 1/4 median val_loss: 0.21979157626628876, std val_loss 0.0\n",
      "Fold 1/4 median train_loss: 0.20286689698696136, std train_loss 0.0\n",
      "Fold 1/4 median val_mee: 0.34435218572616577, std val_mee 0.0\n",
      "Fold 1/4 median train_mee: 0.3060980439186096, train_mee 0.0\n",
      "\n",
      "Executing fold 2/4\n"
     ]
    },
    {
     "name": "stderr",
     "output_type": "stream",
     "text": [
      "100%|█████████████████████████████████████████████| 1/1 [00:08<00:00,  8.66s/it]\n"
     ]
    },
    {
     "name": "stdout",
     "output_type": "stream",
     "text": [
      "Fold 2/4 median val_loss: 0.20222070813179016, std val_loss 0.0\n",
      "Fold 2/4 median train_loss: 0.18785759806632996, std train_loss 0.0\n",
      "Fold 2/4 median val_mee: 0.3284991979598999, std val_mee 0.0\n",
      "Fold 2/4 median train_mee: 0.3068203926086426, train_mee 0.0\n",
      "\n",
      "Executing fold 3/4\n"
     ]
    },
    {
     "name": "stderr",
     "output_type": "stream",
     "text": [
      "100%|█████████████████████████████████████████████| 1/1 [00:08<00:00,  8.98s/it]\n"
     ]
    },
    {
     "name": "stdout",
     "output_type": "stream",
     "text": [
      "Fold 3/4 median val_loss: 0.18274515867233276, std val_loss 0.0\n",
      "Fold 3/4 median train_loss: 0.19662559032440186, std train_loss 0.0\n",
      "Fold 3/4 median val_mee: 0.28489646315574646, std val_mee 0.0\n",
      "Fold 3/4 median train_mee: 0.3194519877433777, train_mee 0.0\n",
      "\n",
      "Executing fold 4/4\n"
     ]
    },
    {
     "name": "stderr",
     "output_type": "stream",
     "text": [
      "100%|█████████████████████████████████████████████| 1/1 [00:02<00:00,  2.06s/it]\n"
     ]
    },
    {
     "name": "stdout",
     "output_type": "stream",
     "text": [
      "Fold 4/4 median val_loss: nan, std val_loss nan\n",
      "Fold 4/4 median train_loss: nan, std train_loss nan\n",
      "Fold 4/4 median val_mee: nan, std val_mee nan\n",
      "Fold 4/4 median train_mee: nan, train_mee nan\n",
      "\n",
      "Mean val_loss: nan, std val_loss: nan\n",
      "Mean train_loss: nan, std train_loss: nan\n",
      "Mean val_mee: nan, std val_mee: nan\n",
      "Mean train_mee: nan, std train_mee: nan\n",
      "\n",
      "\n",
      "\n",
      "Testing configuration 154/180:\n",
      "{'batch_size': 16, 'learning_rate': 0.3, 'max_epochs': 500, 'momentum': 0.3, 'initialization': {'type': 'default'}, 'early_stopping': {'monitor': 'val_loss', 'patience': 20, 'delta': 0.01}, 'task': 'regression', 'trials_train': 1, 'trials_final': 5, 'nesterov': False, 'learning_rate_decay': {'epochs': 100, 'lr_final': 0.01}, 'regularization': {'method': 'l1', 'value': 0.001}, 'units_1': 50, 'activations_1': 'tanh', 'units_2': 50, 'activations_2': 'relu', 'units_3': 50, 'activations_3': 'tanh'}\n",
      "\n",
      "Executing fold 1/4\n"
     ]
    },
    {
     "name": "stderr",
     "output_type": "stream",
     "text": [
      "100%|█████████████████████████████████████████████| 1/1 [00:10<00:00, 10.54s/it]\n"
     ]
    },
    {
     "name": "stdout",
     "output_type": "stream",
     "text": [
      "Fold 1/4 median val_loss: 0.200697124004364, std val_loss 0.0\n",
      "Fold 1/4 median train_loss: 0.19137069582939148, std train_loss 0.0\n",
      "Fold 1/4 median val_mee: 0.3141656517982483, std val_mee 0.0\n",
      "Fold 1/4 median train_mee: 0.310671329498291, train_mee 0.0\n",
      "\n",
      "Executing fold 2/4\n"
     ]
    },
    {
     "name": "stderr",
     "output_type": "stream",
     "text": [
      "100%|█████████████████████████████████████████████| 1/1 [00:08<00:00,  8.31s/it]\n"
     ]
    },
    {
     "name": "stdout",
     "output_type": "stream",
     "text": [
      "Fold 2/4 median val_loss: 0.21385686099529266, std val_loss 0.0\n",
      "Fold 2/4 median train_loss: 0.20333242416381836, std train_loss 0.0\n",
      "Fold 2/4 median val_mee: 0.31479743123054504, std val_mee 0.0\n",
      "Fold 2/4 median train_mee: 0.3065090775489807, train_mee 0.0\n",
      "\n",
      "Executing fold 3/4\n"
     ]
    },
    {
     "name": "stderr",
     "output_type": "stream",
     "text": [
      "100%|█████████████████████████████████████████████| 1/1 [00:08<00:00,  8.83s/it]\n"
     ]
    },
    {
     "name": "stdout",
     "output_type": "stream",
     "text": [
      "Fold 3/4 median val_loss: 0.20990824699401855, std val_loss 0.0\n",
      "Fold 3/4 median train_loss: 0.19971244037151337, std train_loss 0.0\n",
      "Fold 3/4 median val_mee: 0.3269251585006714, std val_mee 0.0\n",
      "Fold 3/4 median train_mee: 0.3101068139076233, train_mee 0.0\n",
      "\n",
      "Executing fold 4/4\n"
     ]
    },
    {
     "name": "stderr",
     "output_type": "stream",
     "text": [
      "100%|█████████████████████████████████████████████| 1/1 [00:09<00:00,  9.55s/it]\n"
     ]
    },
    {
     "name": "stdout",
     "output_type": "stream",
     "text": [
      "Fold 4/4 median val_loss: 0.1805877536535263, std val_loss 0.0\n",
      "Fold 4/4 median train_loss: 0.19272814691066742, std train_loss 0.0\n",
      "Fold 4/4 median val_mee: 0.3025538921356201, std val_mee 0.0\n",
      "Fold 4/4 median train_mee: 0.3154872953891754, train_mee 0.0\n",
      "\n",
      "Mean val_loss: 0.20126249641180038, std val_loss: 0.012856240279254928\n",
      "Mean train_loss: 0.19678592681884766, std train_loss: 0.004929792427527813\n",
      "Mean val_mee: 0.3146105334162712, std val_mee: 0.008620403708450566\n",
      "Mean train_mee: 0.3146105334162712, std train_mee: 0.003195096145554747\n",
      "\n",
      "\n",
      "\n",
      "Testing configuration 155/180:\n",
      "{'batch_size': 16, 'learning_rate': 0.3, 'max_epochs': 500, 'momentum': 0.3, 'initialization': {'type': 'default'}, 'early_stopping': {'monitor': 'val_loss', 'patience': 20, 'delta': 0.01}, 'task': 'regression', 'trials_train': 1, 'trials_final': 5, 'nesterov': False, 'learning_rate_decay': {'epochs': 100, 'lr_final': 0.01}, 'regularization': {'method': 'l1', 'value': 0.001}, 'units_1': 50, 'activations_1': 'tanh', 'units_2': 50, 'activations_2': 'relu', 'units_3': 50, 'activations_3': 'tanh'}\n",
      "\n",
      "Executing fold 1/4\n"
     ]
    },
    {
     "name": "stderr",
     "output_type": "stream",
     "text": [
      "100%|█████████████████████████████████████████████| 1/1 [00:09<00:00,  9.49s/it]\n"
     ]
    },
    {
     "name": "stdout",
     "output_type": "stream",
     "text": [
      "Fold 1/4 median val_loss: 0.21800152957439423, std val_loss 0.0\n",
      "Fold 1/4 median train_loss: 0.19537018239498138, std train_loss 0.0\n",
      "Fold 1/4 median val_mee: 0.32576119899749756, std val_mee 0.0\n",
      "Fold 1/4 median train_mee: 0.30480629205703735, train_mee 0.0\n",
      "\n",
      "Executing fold 2/4\n"
     ]
    },
    {
     "name": "stderr",
     "output_type": "stream",
     "text": [
      "100%|█████████████████████████████████████████████| 1/1 [00:09<00:00,  9.57s/it]\n"
     ]
    },
    {
     "name": "stdout",
     "output_type": "stream",
     "text": [
      "Fold 2/4 median val_loss: 0.1984132081270218, std val_loss 0.0\n",
      "Fold 2/4 median train_loss: 0.19355076551437378, std train_loss 0.0\n",
      "Fold 2/4 median val_mee: 0.3112262487411499, std val_mee 0.0\n",
      "Fold 2/4 median train_mee: 0.30817827582359314, train_mee 0.0\n",
      "\n",
      "Executing fold 3/4\n"
     ]
    },
    {
     "name": "stderr",
     "output_type": "stream",
     "text": [
      "100%|█████████████████████████████████████████████| 1/1 [00:07<00:00,  7.50s/it]\n"
     ]
    },
    {
     "name": "stdout",
     "output_type": "stream",
     "text": [
      "Fold 3/4 median val_loss: 0.2053193747997284, std val_loss 0.0\n",
      "Fold 3/4 median train_loss: 0.20569024980068207, std train_loss 0.0\n",
      "Fold 3/4 median val_mee: 0.3194558024406433, std val_mee 0.0\n",
      "Fold 3/4 median train_mee: 0.3115660846233368, train_mee 0.0\n",
      "\n",
      "Executing fold 4/4\n"
     ]
    },
    {
     "name": "stderr",
     "output_type": "stream",
     "text": [
      "100%|█████████████████████████████████████████████| 1/1 [00:08<00:00,  8.27s/it]\n"
     ]
    },
    {
     "name": "stdout",
     "output_type": "stream",
     "text": [
      "Fold 4/4 median val_loss: 0.19414818286895752, std val_loss 0.0\n",
      "Fold 4/4 median train_loss: 0.1997060924768448, std train_loss 0.0\n",
      "Fold 4/4 median val_mee: 0.29604870080947876, std val_mee 0.0\n",
      "Fold 4/4 median train_mee: 0.3105487525463104, train_mee 0.0\n",
      "\n",
      "Mean val_loss: 0.20397057384252548, std val_loss: 0.009028436477393207\n",
      "Mean train_loss: 0.1985793225467205, std train_loss: 0.004674929497533452\n",
      "Mean val_mee: 0.3131229877471924, std val_mee: 0.011123823744978042\n",
      "Mean train_mee: 0.3131229877471924, std train_mee: 0.0026001477775754282\n",
      "\n",
      "\n",
      "\n",
      "Testing configuration 156/180:\n",
      "{'batch_size': 16, 'learning_rate': 0.3, 'max_epochs': 500, 'momentum': 0.3, 'initialization': {'type': 'default'}, 'early_stopping': {'monitor': 'val_loss', 'patience': 20, 'delta': 0.01}, 'task': 'regression', 'trials_train': 1, 'trials_final': 5, 'nesterov': False, 'learning_rate_decay': {'epochs': 100, 'lr_final': 0.01}, 'regularization': {'method': 'l1', 'value': 0.0001}, 'units_1': 50, 'activations_1': 'tanh', 'units_2': 50, 'activations_2': 'relu', 'units_3': 50, 'activations_3': 'tanh'}\n",
      "\n",
      "Executing fold 1/4\n"
     ]
    },
    {
     "name": "stderr",
     "output_type": "stream",
     "text": [
      "100%|█████████████████████████████████████████████| 1/1 [00:02<00:00,  2.63s/it]\n"
     ]
    },
    {
     "name": "stdout",
     "output_type": "stream",
     "text": [
      "Fold 1/4 median val_loss: 0.14394497871398926, std val_loss 0.0\n",
      "Fold 1/4 median train_loss: 0.13677574694156647, std train_loss 0.0\n",
      "Fold 1/4 median val_mee: 0.29928499460220337, std val_mee 0.0\n",
      "Fold 1/4 median train_mee: 0.2873612344264984, train_mee 0.0\n",
      "\n",
      "Executing fold 2/4\n"
     ]
    },
    {
     "name": "stderr",
     "output_type": "stream",
     "text": [
      "100%|█████████████████████████████████████████████| 1/1 [00:03<00:00,  3.23s/it]\n"
     ]
    },
    {
     "name": "stdout",
     "output_type": "stream",
     "text": [
      "Fold 2/4 median val_loss: 0.1490623652935028, std val_loss 0.0\n",
      "Fold 2/4 median train_loss: 0.13609185814857483, std train_loss 0.0\n",
      "Fold 2/4 median val_mee: 0.30225127935409546, std val_mee 0.0\n",
      "Fold 2/4 median train_mee: 0.28313687443733215, train_mee 0.0\n",
      "\n",
      "Executing fold 3/4\n"
     ]
    },
    {
     "name": "stderr",
     "output_type": "stream",
     "text": [
      "100%|█████████████████████████████████████████████| 1/1 [00:02<00:00,  2.62s/it]\n"
     ]
    },
    {
     "name": "stdout",
     "output_type": "stream",
     "text": [
      "Fold 3/4 median val_loss: 0.16295328736305237, std val_loss 0.0\n",
      "Fold 3/4 median train_loss: 0.12768377363681793, std train_loss 0.0\n",
      "Fold 3/4 median val_mee: 0.3367398679256439, std val_mee 0.0\n",
      "Fold 3/4 median train_mee: 0.27538034319877625, train_mee 0.0\n",
      "\n",
      "Executing fold 4/4\n"
     ]
    },
    {
     "name": "stderr",
     "output_type": "stream",
     "text": [
      "100%|█████████████████████████████████████████████| 1/1 [00:02<00:00,  2.89s/it]\n"
     ]
    },
    {
     "name": "stdout",
     "output_type": "stream",
     "text": [
      "Fold 4/4 median val_loss: 0.14112786948680878, std val_loss 0.0\n",
      "Fold 4/4 median train_loss: 0.1364627480506897, std train_loss 0.0\n",
      "Fold 4/4 median val_mee: 0.2915467619895935, std val_mee 0.0\n",
      "Fold 4/4 median train_mee: 0.28741294145584106, train_mee 0.0\n",
      "\n",
      "Mean val_loss: 0.1492721252143383, std val_loss: 0.008395319948569171\n",
      "Mean train_loss: 0.13425353169441223, std train_loss: 0.0038007687297841614\n",
      "Mean val_mee: 0.30745572596788406, std val_mee: 0.017352976838792472\n",
      "Mean train_mee: 0.30745572596788406, std train_mee: 0.004902942945076806\n",
      "\n",
      "\n",
      "\n",
      "Testing configuration 157/180:\n",
      "{'batch_size': 16, 'learning_rate': 0.3, 'max_epochs': 500, 'momentum': 0.3, 'initialization': {'type': 'default'}, 'early_stopping': {'monitor': 'val_loss', 'patience': 20, 'delta': 0.01}, 'task': 'regression', 'trials_train': 1, 'trials_final': 5, 'nesterov': False, 'learning_rate_decay': {'epochs': 100, 'lr_final': 0.01}, 'regularization': {'method': 'l1', 'value': 0.0001}, 'units_1': 50, 'activations_1': 'tanh', 'units_2': 50, 'activations_2': 'relu', 'units_3': 50, 'activations_3': 'tanh'}\n",
      "\n",
      "Executing fold 1/4\n"
     ]
    },
    {
     "name": "stderr",
     "output_type": "stream",
     "text": [
      "100%|█████████████████████████████████████████████| 1/1 [00:02<00:00,  2.99s/it]\n"
     ]
    },
    {
     "name": "stdout",
     "output_type": "stream",
     "text": [
      "Fold 1/4 median val_loss: 0.14036904275417328, std val_loss 0.0\n",
      "Fold 1/4 median train_loss: 0.13598249852657318, std train_loss 0.0\n",
      "Fold 1/4 median val_mee: 0.2935267686843872, std val_mee 0.0\n",
      "Fold 1/4 median train_mee: 0.28566160798072815, train_mee 0.0\n",
      "\n",
      "Executing fold 2/4\n"
     ]
    },
    {
     "name": "stderr",
     "output_type": "stream",
     "text": [
      "100%|█████████████████████████████████████████████| 1/1 [00:03<00:00,  4.00s/it]\n"
     ]
    },
    {
     "name": "stdout",
     "output_type": "stream",
     "text": [
      "Fold 2/4 median val_loss: 0.15505428612232208, std val_loss 0.0\n",
      "Fold 2/4 median train_loss: 0.13304370641708374, std train_loss 0.0\n",
      "Fold 2/4 median val_mee: 0.3201618790626526, std val_mee 0.0\n",
      "Fold 2/4 median train_mee: 0.2779611349105835, train_mee 0.0\n",
      "\n",
      "Executing fold 3/4\n"
     ]
    },
    {
     "name": "stderr",
     "output_type": "stream",
     "text": [
      "100%|█████████████████████████████████████████████| 1/1 [00:02<00:00,  2.70s/it]\n"
     ]
    },
    {
     "name": "stdout",
     "output_type": "stream",
     "text": [
      "Fold 3/4 median val_loss: 0.1606919765472412, std val_loss 0.0\n",
      "Fold 3/4 median train_loss: 0.13014386594295502, std train_loss 0.0\n",
      "Fold 3/4 median val_mee: 0.30989107489585876, std val_mee 0.0\n",
      "Fold 3/4 median train_mee: 0.2792988419532776, train_mee 0.0\n",
      "\n",
      "Executing fold 4/4\n"
     ]
    },
    {
     "name": "stderr",
     "output_type": "stream",
     "text": [
      "100%|█████████████████████████████████████████████| 1/1 [00:03<00:00,  3.04s/it]\n"
     ]
    },
    {
     "name": "stdout",
     "output_type": "stream",
     "text": [
      "Fold 4/4 median val_loss: 0.13836130499839783, std val_loss 0.0\n",
      "Fold 4/4 median train_loss: 0.13878348469734192, std train_loss 0.0\n",
      "Fold 4/4 median val_mee: 0.3082292377948761, std val_mee 0.0\n",
      "Fold 4/4 median train_mee: 0.29128146171569824, train_mee 0.0\n",
      "\n",
      "Mean val_loss: 0.1486191526055336, std val_loss: 0.009492783724981529\n",
      "Mean train_loss: 0.13448838889598846, std train_loss: 0.0032265383418339706\n",
      "Mean val_mee: 0.30795224010944366, std val_mee: 0.009500069963552706\n",
      "Mean train_mee: 0.30795224010944366, std train_mee: 0.0053278078027250405\n",
      "\n",
      "\n",
      "\n",
      "Testing configuration 158/180:\n",
      "{'batch_size': 16, 'learning_rate': 0.3, 'max_epochs': 500, 'momentum': 0.3, 'initialization': {'type': 'default'}, 'early_stopping': {'monitor': 'val_loss', 'patience': 20, 'delta': 0.01}, 'task': 'regression', 'trials_train': 1, 'trials_final': 5, 'nesterov': False, 'learning_rate_decay': {'epochs': 100, 'lr_final': 0.01}, 'regularization': {'method': 'l1', 'value': 0.0001}, 'units_1': 50, 'activations_1': 'tanh', 'units_2': 50, 'activations_2': 'relu', 'units_3': 50, 'activations_3': 'tanh'}\n",
      "\n",
      "Executing fold 1/4\n"
     ]
    },
    {
     "name": "stderr",
     "output_type": "stream",
     "text": [
      "100%|█████████████████████████████████████████████| 1/1 [00:02<00:00,  2.43s/it]\n"
     ]
    },
    {
     "name": "stdout",
     "output_type": "stream",
     "text": [
      "Fold 1/4 median val_loss: 0.14780743420124054, std val_loss 0.0\n",
      "Fold 1/4 median train_loss: 0.13388293981552124, std train_loss 0.0\n",
      "Fold 1/4 median val_mee: 0.3042945861816406, std val_mee 0.0\n",
      "Fold 1/4 median train_mee: 0.28556665778160095, train_mee 0.0\n",
      "\n",
      "Executing fold 2/4\n"
     ]
    },
    {
     "name": "stderr",
     "output_type": "stream",
     "text": [
      "100%|█████████████████████████████████████████████| 1/1 [00:02<00:00,  2.90s/it]\n"
     ]
    },
    {
     "name": "stdout",
     "output_type": "stream",
     "text": [
      "Fold 2/4 median val_loss: 0.1491442173719406, std val_loss 0.0\n",
      "Fold 2/4 median train_loss: 0.13547766208648682, std train_loss 0.0\n",
      "Fold 2/4 median val_mee: 0.32337960600852966, std val_mee 0.0\n",
      "Fold 2/4 median train_mee: 0.27984097599983215, train_mee 0.0\n",
      "\n",
      "Executing fold 3/4\n"
     ]
    },
    {
     "name": "stderr",
     "output_type": "stream",
     "text": [
      "100%|█████████████████████████████████████████████| 1/1 [00:02<00:00,  2.53s/it]\n"
     ]
    },
    {
     "name": "stdout",
     "output_type": "stream",
     "text": [
      "Fold 3/4 median val_loss: 0.14963781833648682, std val_loss 0.0\n",
      "Fold 3/4 median train_loss: 0.135757714509964, std train_loss 0.0\n",
      "Fold 3/4 median val_mee: 0.31137529015541077, std val_mee 0.0\n",
      "Fold 3/4 median train_mee: 0.2863466739654541, train_mee 0.0\n",
      "\n",
      "Executing fold 4/4\n"
     ]
    },
    {
     "name": "stderr",
     "output_type": "stream",
     "text": [
      "100%|█████████████████████████████████████████████| 1/1 [00:02<00:00,  2.62s/it]\n"
     ]
    },
    {
     "name": "stdout",
     "output_type": "stream",
     "text": [
      "Fold 4/4 median val_loss: 0.14584758877754211, std val_loss 0.0\n",
      "Fold 4/4 median train_loss: 0.1352313607931137, std train_loss 0.0\n",
      "Fold 4/4 median val_mee: 0.29706650972366333, std val_mee 0.0\n",
      "Fold 4/4 median train_mee: 0.2836386561393738, train_mee 0.0\n",
      "\n",
      "Mean val_loss: 0.14810926467180252, std val_loss: 0.0014674708583972966\n",
      "Mean train_loss: 0.13508741930127144, std train_loss: 0.0007199088627867569\n",
      "Mean val_mee: 0.3090289980173111, std val_mee: 0.009707739413997614\n",
      "Mean train_mee: 0.3090289980173111, std train_mee: 0.0025148171958180913\n",
      "\n",
      "\n",
      "\n",
      "Testing configuration 159/180:\n",
      "{'batch_size': 16, 'learning_rate': 0.3, 'max_epochs': 500, 'momentum': 0.3, 'initialization': {'type': 'default'}, 'early_stopping': {'monitor': 'val_loss', 'patience': 20, 'delta': 0.01}, 'task': 'regression', 'trials_train': 1, 'trials_final': 5, 'nesterov': False, 'learning_rate_decay': {'epochs': 100, 'lr_final': 0.01}, 'regularization': {'method': 'l1', 'value': 0.0001}, 'units_1': 50, 'activations_1': 'tanh', 'units_2': 50, 'activations_2': 'relu', 'units_3': 50, 'activations_3': 'tanh'}\n",
      "\n",
      "Executing fold 1/4\n"
     ]
    },
    {
     "name": "stderr",
     "output_type": "stream",
     "text": [
      "100%|█████████████████████████████████████████████| 1/1 [00:04<00:00,  4.73s/it]\n"
     ]
    },
    {
     "name": "stdout",
     "output_type": "stream",
     "text": [
      "Fold 1/4 median val_loss: 0.13227322697639465, std val_loss 0.0\n",
      "Fold 1/4 median train_loss: 0.1379488706588745, std train_loss 0.0\n",
      "Fold 1/4 median val_mee: 0.27998262643814087, std val_mee 0.0\n",
      "Fold 1/4 median train_mee: 0.28743693232536316, train_mee 0.0\n",
      "\n",
      "Executing fold 2/4\n"
     ]
    },
    {
     "name": "stderr",
     "output_type": "stream",
     "text": [
      "100%|█████████████████████████████████████████████| 1/1 [00:02<00:00,  2.83s/it]\n"
     ]
    },
    {
     "name": "stdout",
     "output_type": "stream",
     "text": [
      "Fold 2/4 median val_loss: 0.14324228465557098, std val_loss 0.0\n",
      "Fold 2/4 median train_loss: 0.1382085680961609, std train_loss 0.0\n",
      "Fold 2/4 median val_mee: 0.28765466809272766, std val_mee 0.0\n",
      "Fold 2/4 median train_mee: 0.2904786467552185, train_mee 0.0\n",
      "\n",
      "Executing fold 3/4\n"
     ]
    },
    {
     "name": "stderr",
     "output_type": "stream",
     "text": [
      "100%|█████████████████████████████████████████████| 1/1 [00:02<00:00,  2.50s/it]\n"
     ]
    },
    {
     "name": "stdout",
     "output_type": "stream",
     "text": [
      "Fold 3/4 median val_loss: 0.157901793718338, std val_loss 0.0\n",
      "Fold 3/4 median train_loss: 0.13323445618152618, std train_loss 0.0\n",
      "Fold 3/4 median val_mee: 0.33061155676841736, std val_mee 0.0\n",
      "Fold 3/4 median train_mee: 0.2809904217720032, train_mee 0.0\n",
      "\n",
      "Executing fold 4/4\n"
     ]
    },
    {
     "name": "stderr",
     "output_type": "stream",
     "text": [
      "100%|█████████████████████████████████████████████| 1/1 [00:03<00:00,  3.49s/it]\n"
     ]
    },
    {
     "name": "stdout",
     "output_type": "stream",
     "text": [
      "Fold 4/4 median val_loss: 0.15790463984012604, std val_loss 0.0\n",
      "Fold 4/4 median train_loss: 0.13286615908145905, std train_loss 0.0\n",
      "Fold 4/4 median val_mee: 0.3096434772014618, std val_mee 0.0\n",
      "Fold 4/4 median train_mee: 0.2845019996166229, train_mee 0.0\n",
      "\n",
      "Mean val_loss: 0.14783048629760742, std val_loss: 0.010793513267890938\n",
      "Mean train_loss: 0.13556451350450516, std train_loss: 0.0025192492653560773\n",
      "Mean val_mee: 0.3019730821251869, std val_mee: 0.019796428416800068\n",
      "Mean train_mee: 0.3019730821251869, std train_mee: 0.0035133785227187647\n",
      "\n",
      "\n",
      "\n",
      "Testing configuration 160/180:\n",
      "{'batch_size': 16, 'learning_rate': 0.3, 'max_epochs': 500, 'momentum': 0.3, 'initialization': {'type': 'default'}, 'early_stopping': {'monitor': 'val_loss', 'patience': 20, 'delta': 0.01}, 'task': 'regression', 'trials_train': 1, 'trials_final': 5, 'nesterov': False, 'learning_rate_decay': {'epochs': 100, 'lr_final': 0.01}, 'regularization': {'method': 'l1', 'value': 0.0001}, 'units_1': 50, 'activations_1': 'tanh', 'units_2': 50, 'activations_2': 'relu', 'units_3': 50, 'activations_3': 'tanh'}\n",
      "\n",
      "Executing fold 1/4\n"
     ]
    },
    {
     "name": "stderr",
     "output_type": "stream",
     "text": [
      "100%|█████████████████████████████████████████████| 1/1 [00:03<00:00,  3.39s/it]\n"
     ]
    },
    {
     "name": "stdout",
     "output_type": "stream",
     "text": [
      "Fold 1/4 median val_loss: 0.15129448473453522, std val_loss 0.0\n",
      "Fold 1/4 median train_loss: 0.13374653458595276, std train_loss 0.0\n",
      "Fold 1/4 median val_mee: 0.3063028156757355, std val_mee 0.0\n",
      "Fold 1/4 median train_mee: 0.2842825651168823, train_mee 0.0\n",
      "\n",
      "Executing fold 2/4\n"
     ]
    },
    {
     "name": "stderr",
     "output_type": "stream",
     "text": [
      "100%|█████████████████████████████████████████████| 1/1 [00:03<00:00,  3.39s/it]\n"
     ]
    },
    {
     "name": "stdout",
     "output_type": "stream",
     "text": [
      "Fold 2/4 median val_loss: 0.1561383157968521, std val_loss 0.0\n",
      "Fold 2/4 median train_loss: 0.1325990855693817, std train_loss 0.0\n",
      "Fold 2/4 median val_mee: 0.310924232006073, std val_mee 0.0\n",
      "Fold 2/4 median train_mee: 0.28289738297462463, train_mee 0.0\n",
      "\n",
      "Executing fold 3/4\n"
     ]
    },
    {
     "name": "stderr",
     "output_type": "stream",
     "text": [
      "100%|█████████████████████████████████████████████| 1/1 [00:03<00:00,  3.25s/it]\n"
     ]
    },
    {
     "name": "stdout",
     "output_type": "stream",
     "text": [
      "Fold 3/4 median val_loss: 0.1407097727060318, std val_loss 0.0\n",
      "Fold 3/4 median train_loss: 0.13731485605239868, std train_loss 0.0\n",
      "Fold 3/4 median val_mee: 0.3058776259422302, std val_mee 0.0\n",
      "Fold 3/4 median train_mee: 0.2855749726295471, train_mee 0.0\n",
      "\n",
      "Executing fold 4/4\n"
     ]
    },
    {
     "name": "stderr",
     "output_type": "stream",
     "text": [
      "100%|█████████████████████████████████████████████| 1/1 [00:03<00:00,  3.04s/it]\n"
     ]
    },
    {
     "name": "stdout",
     "output_type": "stream",
     "text": [
      "Fold 4/4 median val_loss: 0.1410277783870697, std val_loss 0.0\n",
      "Fold 4/4 median train_loss: 0.13613241910934448, std train_loss 0.0\n",
      "Fold 4/4 median val_mee: 0.30208534002304077, std val_mee 0.0\n",
      "Fold 4/4 median train_mee: 0.2861659526824951, train_mee 0.0\n",
      "\n",
      "Mean val_loss: 0.1472925879061222, std val_loss: 0.006649123521387071\n",
      "Mean train_loss: 0.1349482238292694, std train_loss: 0.0018685404827349216\n",
      "Mean val_mee: 0.30629750341176987, std val_mee: 0.003135492912137877\n",
      "Mean train_mee: 0.30629750341176987, std train_mee: 0.0012584337285557034\n",
      "\n",
      "\n",
      "\n",
      "Testing configuration 161/180:\n",
      "{'batch_size': 16, 'learning_rate': 0.3, 'max_epochs': 500, 'momentum': 0.3, 'initialization': {'type': 'default'}, 'early_stopping': {'monitor': 'val_loss', 'patience': 20, 'delta': 0.01}, 'task': 'regression', 'trials_train': 1, 'trials_final': 5, 'nesterov': False, 'learning_rate_decay': {'epochs': 100, 'lr_final': 0.01}, 'regularization': {'method': 'l1', 'value': 1e-05}, 'units_1': 50, 'activations_1': 'tanh', 'units_2': 50, 'activations_2': 'relu', 'units_3': 50, 'activations_3': 'tanh'}\n",
      "\n",
      "Executing fold 1/4\n"
     ]
    },
    {
     "name": "stderr",
     "output_type": "stream",
     "text": [
      "100%|█████████████████████████████████████████████| 1/1 [00:02<00:00,  2.98s/it]\n"
     ]
    },
    {
     "name": "stdout",
     "output_type": "stream",
     "text": [
      "Fold 1/4 median val_loss: 0.10887307673692703, std val_loss 0.0\n",
      "Fold 1/4 median train_loss: 0.07317385822534561, std train_loss 0.0\n",
      "Fold 1/4 median val_mee: 0.32224899530410767, std val_mee 0.0\n",
      "Fold 1/4 median train_mee: 0.27162545919418335, train_mee 0.0\n",
      "\n",
      "Executing fold 2/4\n"
     ]
    },
    {
     "name": "stderr",
     "output_type": "stream",
     "text": [
      "100%|█████████████████████████████████████████████| 1/1 [00:03<00:00,  3.07s/it]\n"
     ]
    },
    {
     "name": "stdout",
     "output_type": "stream",
     "text": [
      "Fold 2/4 median val_loss: 0.08644120395183563, std val_loss 0.0\n",
      "Fold 2/4 median train_loss: 0.08096619695425034, std train_loss 0.0\n",
      "Fold 2/4 median val_mee: 0.2948508560657501, std val_mee 0.0\n",
      "Fold 2/4 median train_mee: 0.28692626953125, train_mee 0.0\n",
      "\n",
      "Executing fold 3/4\n"
     ]
    },
    {
     "name": "stderr",
     "output_type": "stream",
     "text": [
      "100%|█████████████████████████████████████████████| 1/1 [00:03<00:00,  3.20s/it]\n"
     ]
    },
    {
     "name": "stdout",
     "output_type": "stream",
     "text": [
      "Fold 3/4 median val_loss: 0.08294187486171722, std val_loss 0.0\n",
      "Fold 3/4 median train_loss: 0.07850880175828934, std train_loss 0.0\n",
      "Fold 3/4 median val_mee: 0.2854985296726227, std val_mee 0.0\n",
      "Fold 3/4 median train_mee: 0.2828304171562195, train_mee 0.0\n",
      "\n",
      "Executing fold 4/4\n"
     ]
    },
    {
     "name": "stderr",
     "output_type": "stream",
     "text": [
      "100%|█████████████████████████████████████████████| 1/1 [00:02<00:00,  2.07s/it]\n"
     ]
    },
    {
     "name": "stdout",
     "output_type": "stream",
     "text": [
      "Fold 4/4 median val_loss: nan, std val_loss nan\n",
      "Fold 4/4 median train_loss: nan, std train_loss nan\n",
      "Fold 4/4 median val_mee: nan, std val_mee nan\n",
      "Fold 4/4 median train_mee: nan, train_mee nan\n",
      "\n",
      "Mean val_loss: nan, std val_loss: nan\n",
      "Mean train_loss: nan, std train_loss: nan\n",
      "Mean val_mee: nan, std val_mee: nan\n",
      "Mean train_mee: nan, std train_mee: nan\n",
      "\n",
      "\n",
      "\n",
      "Testing configuration 162/180:\n",
      "{'batch_size': 16, 'learning_rate': 0.3, 'max_epochs': 500, 'momentum': 0.3, 'initialization': {'type': 'default'}, 'early_stopping': {'monitor': 'val_loss', 'patience': 20, 'delta': 0.01}, 'task': 'regression', 'trials_train': 1, 'trials_final': 5, 'nesterov': False, 'learning_rate_decay': {'epochs': 100, 'lr_final': 0.01}, 'regularization': {'method': 'l1', 'value': 1e-05}, 'units_1': 50, 'activations_1': 'tanh', 'units_2': 50, 'activations_2': 'relu', 'units_3': 50, 'activations_3': 'tanh'}\n",
      "\n",
      "Executing fold 1/4\n"
     ]
    },
    {
     "name": "stderr",
     "output_type": "stream",
     "text": [
      "100%|█████████████████████████████████████████████| 1/1 [00:02<00:00,  2.70s/it]\n"
     ]
    },
    {
     "name": "stdout",
     "output_type": "stream",
     "text": [
      "Fold 1/4 median val_loss: 0.08419501036405563, std val_loss 0.0\n",
      "Fold 1/4 median train_loss: 0.0841711089015007, std train_loss 0.0\n",
      "Fold 1/4 median val_mee: 0.2988688051700592, std val_mee 0.0\n",
      "Fold 1/4 median train_mee: 0.29105129837989807, train_mee 0.0\n",
      "\n",
      "Executing fold 2/4\n"
     ]
    },
    {
     "name": "stderr",
     "output_type": "stream",
     "text": [
      "100%|█████████████████████████████████████████████| 1/1 [00:03<00:00,  3.05s/it]\n"
     ]
    },
    {
     "name": "stdout",
     "output_type": "stream",
     "text": [
      "Fold 2/4 median val_loss: 0.09825029224157333, std val_loss 0.0\n",
      "Fold 2/4 median train_loss: 0.07689841836690903, std train_loss 0.0\n",
      "Fold 2/4 median val_mee: 0.30052074790000916, std val_mee 0.0\n",
      "Fold 2/4 median train_mee: 0.28193768858909607, train_mee 0.0\n",
      "\n",
      "Executing fold 3/4\n"
     ]
    },
    {
     "name": "stderr",
     "output_type": "stream",
     "text": [
      "100%|█████████████████████████████████████████████| 1/1 [00:02<00:00,  2.63s/it]\n"
     ]
    },
    {
     "name": "stdout",
     "output_type": "stream",
     "text": [
      "Fold 3/4 median val_loss: 0.09967435896396637, std val_loss 0.0\n",
      "Fold 3/4 median train_loss: 0.07461891323328018, std train_loss 0.0\n",
      "Fold 3/4 median val_mee: 0.30984169244766235, std val_mee 0.0\n",
      "Fold 3/4 median train_mee: 0.2787324786186218, train_mee 0.0\n",
      "\n",
      "Executing fold 4/4\n"
     ]
    },
    {
     "name": "stderr",
     "output_type": "stream",
     "text": [
      "100%|█████████████████████████████████████████████| 1/1 [00:02<00:00,  2.71s/it]\n"
     ]
    },
    {
     "name": "stdout",
     "output_type": "stream",
     "text": [
      "Fold 4/4 median val_loss: 0.08875259011983871, std val_loss 0.0\n",
      "Fold 4/4 median train_loss: 0.07963348180055618, std train_loss 0.0\n",
      "Fold 4/4 median val_mee: 0.3086276650428772, std val_mee 0.0\n",
      "Fold 4/4 median train_mee: 0.28588899970054626, train_mee 0.0\n",
      "\n",
      "Mean val_loss: 0.09271806292235851, std val_loss: 0.006468442921561315\n",
      "Mean train_loss: 0.07883048057556152, std train_loss: 0.003557994018398595\n",
      "Mean val_mee: 0.304464727640152, std val_mee: 0.004824705245975135\n",
      "Mean train_mee: 0.304464727640152, std train_mee: 0.004600017362976578\n",
      "\n",
      "\n",
      "\n",
      "Testing configuration 163/180:\n",
      "{'batch_size': 16, 'learning_rate': 0.3, 'max_epochs': 500, 'momentum': 0.3, 'initialization': {'type': 'default'}, 'early_stopping': {'monitor': 'val_loss', 'patience': 20, 'delta': 0.01}, 'task': 'regression', 'trials_train': 1, 'trials_final': 5, 'nesterov': False, 'learning_rate_decay': {'epochs': 100, 'lr_final': 0.01}, 'regularization': {'method': 'l1', 'value': 1e-05}, 'units_1': 50, 'activations_1': 'tanh', 'units_2': 50, 'activations_2': 'relu', 'units_3': 50, 'activations_3': 'tanh'}\n",
      "\n",
      "Executing fold 1/4\n"
     ]
    },
    {
     "name": "stderr",
     "output_type": "stream",
     "text": [
      "100%|█████████████████████████████████████████████| 1/1 [00:03<00:00,  3.07s/it]\n"
     ]
    },
    {
     "name": "stdout",
     "output_type": "stream",
     "text": [
      "Fold 1/4 median val_loss: 0.09340013563632965, std val_loss 0.0\n",
      "Fold 1/4 median train_loss: 0.07943711429834366, std train_loss 0.0\n",
      "Fold 1/4 median val_mee: 0.30886074900627136, std val_mee 0.0\n",
      "Fold 1/4 median train_mee: 0.2841710150241852, train_mee 0.0\n",
      "\n",
      "Executing fold 2/4\n"
     ]
    },
    {
     "name": "stderr",
     "output_type": "stream",
     "text": [
      "100%|█████████████████████████████████████████████| 1/1 [00:03<00:00,  3.20s/it]\n"
     ]
    },
    {
     "name": "stdout",
     "output_type": "stream",
     "text": [
      "Fold 2/4 median val_loss: 0.0904771089553833, std val_loss 0.0\n",
      "Fold 2/4 median train_loss: 0.07740353047847748, std train_loss 0.0\n",
      "Fold 2/4 median val_mee: 0.2980082333087921, std val_mee 0.0\n",
      "Fold 2/4 median train_mee: 0.2802214026451111, train_mee 0.0\n",
      "\n",
      "Executing fold 3/4\n"
     ]
    },
    {
     "name": "stderr",
     "output_type": "stream",
     "text": [
      "100%|█████████████████████████████████████████████| 1/1 [00:02<00:00,  2.42s/it]\n"
     ]
    },
    {
     "name": "stdout",
     "output_type": "stream",
     "text": [
      "Fold 3/4 median val_loss: 0.08962942659854889, std val_loss 0.0\n",
      "Fold 3/4 median train_loss: 0.07786958664655685, std train_loss 0.0\n",
      "Fold 3/4 median val_mee: 0.2984250783920288, std val_mee 0.0\n",
      "Fold 3/4 median train_mee: 0.2813362777233124, train_mee 0.0\n",
      "\n",
      "Executing fold 4/4\n"
     ]
    },
    {
     "name": "stderr",
     "output_type": "stream",
     "text": [
      "100%|█████████████████████████████████████████████| 1/1 [00:02<00:00,  2.41s/it]\n"
     ]
    },
    {
     "name": "stdout",
     "output_type": "stream",
     "text": [
      "Fold 4/4 median val_loss: 0.09449363499879837, std val_loss 0.0\n",
      "Fold 4/4 median train_loss: 0.07840811461210251, std train_loss 0.0\n",
      "Fold 4/4 median val_mee: 0.317030131816864, std val_mee 0.0\n",
      "Fold 4/4 median train_mee: 0.28455689549446106, train_mee 0.0\n",
      "\n",
      "Mean val_loss: 0.09200007654726505, std val_loss: 0.002007324753830062\n",
      "Mean train_loss: 0.07827958650887012, std train_loss: 0.0007569617084450545\n",
      "Mean val_mee: 0.3055810481309891, std val_mee: 0.00791191162604993\n",
      "Mean train_mee: 0.3055810481309891, std train_mee: 0.0018404466299283362\n",
      "\n",
      "\n",
      "\n",
      "Testing configuration 164/180:\n",
      "{'batch_size': 16, 'learning_rate': 0.3, 'max_epochs': 500, 'momentum': 0.3, 'initialization': {'type': 'default'}, 'early_stopping': {'monitor': 'val_loss', 'patience': 20, 'delta': 0.01}, 'task': 'regression', 'trials_train': 1, 'trials_final': 5, 'nesterov': False, 'learning_rate_decay': {'epochs': 100, 'lr_final': 0.01}, 'regularization': {'method': 'l1', 'value': 1e-05}, 'units_1': 50, 'activations_1': 'tanh', 'units_2': 50, 'activations_2': 'relu', 'units_3': 50, 'activations_3': 'tanh'}\n",
      "\n",
      "Executing fold 1/4\n"
     ]
    },
    {
     "name": "stderr",
     "output_type": "stream",
     "text": [
      "100%|█████████████████████████████████████████████| 1/1 [00:04<00:00,  4.16s/it]\n"
     ]
    },
    {
     "name": "stdout",
     "output_type": "stream",
     "text": [
      "Fold 1/4 median val_loss: 0.10447324067354202, std val_loss 0.0\n",
      "Fold 1/4 median train_loss: 0.07207085192203522, std train_loss 0.0\n",
      "Fold 1/4 median val_mee: 0.32682663202285767, std val_mee 0.0\n",
      "Fold 1/4 median train_mee: 0.27080434560775757, train_mee 0.0\n",
      "\n",
      "Executing fold 2/4\n"
     ]
    },
    {
     "name": "stderr",
     "output_type": "stream",
     "text": [
      "100%|█████████████████████████████████████████████| 1/1 [00:04<00:00,  4.06s/it]\n"
     ]
    },
    {
     "name": "stdout",
     "output_type": "stream",
     "text": [
      "Fold 2/4 median val_loss: 0.08537141978740692, std val_loss 0.0\n",
      "Fold 2/4 median train_loss: 0.08143943548202515, std train_loss 0.0\n",
      "Fold 2/4 median val_mee: 0.2872304320335388, std val_mee 0.0\n",
      "Fold 2/4 median train_mee: 0.285658061504364, train_mee 0.0\n",
      "\n",
      "Executing fold 3/4\n"
     ]
    },
    {
     "name": "stderr",
     "output_type": "stream",
     "text": [
      "100%|█████████████████████████████████████████████| 1/1 [00:05<00:00,  5.46s/it]\n"
     ]
    },
    {
     "name": "stdout",
     "output_type": "stream",
     "text": [
      "Fold 3/4 median val_loss: 0.08785301446914673, std val_loss 0.0\n",
      "Fold 3/4 median train_loss: 0.0789540484547615, std train_loss 0.0\n",
      "Fold 3/4 median val_mee: 0.2906706929206848, std val_mee 0.0\n",
      "Fold 3/4 median train_mee: 0.2845068871974945, train_mee 0.0\n",
      "\n",
      "Executing fold 4/4\n"
     ]
    },
    {
     "name": "stderr",
     "output_type": "stream",
     "text": [
      "100%|█████████████████████████████████████████████| 1/1 [00:02<00:00,  2.78s/it]\n"
     ]
    },
    {
     "name": "stdout",
     "output_type": "stream",
     "text": [
      "Fold 4/4 median val_loss: 0.09749043732881546, std val_loss 0.0\n",
      "Fold 4/4 median train_loss: 0.07798059284687042, std train_loss 0.0\n",
      "Fold 4/4 median val_mee: 0.3157772421836853, std val_mee 0.0\n",
      "Fold 4/4 median train_mee: 0.2807953357696533, train_mee 0.0\n",
      "\n",
      "Mean val_loss: 0.09379702806472778, std val_loss: 0.007647629700239857\n",
      "Mean train_loss: 0.07761123217642307, std train_loss: 0.0034384057633763017\n",
      "Mean val_mee: 0.30512624979019165, std val_mee: 0.016685125453506065\n",
      "Mean train_mee: 0.30512624979019165, std train_mee: 0.005846790381418634\n",
      "\n",
      "\n",
      "\n",
      "Testing configuration 165/180:\n",
      "{'batch_size': 16, 'learning_rate': 0.3, 'max_epochs': 500, 'momentum': 0.3, 'initialization': {'type': 'default'}, 'early_stopping': {'monitor': 'val_loss', 'patience': 20, 'delta': 0.01}, 'task': 'regression', 'trials_train': 1, 'trials_final': 5, 'nesterov': False, 'learning_rate_decay': {'epochs': 100, 'lr_final': 0.01}, 'regularization': {'method': 'l1', 'value': 1e-05}, 'units_1': 50, 'activations_1': 'tanh', 'units_2': 50, 'activations_2': 'relu', 'units_3': 50, 'activations_3': 'tanh'}\n",
      "\n",
      "Executing fold 1/4\n"
     ]
    },
    {
     "name": "stderr",
     "output_type": "stream",
     "text": [
      "100%|█████████████████████████████████████████████| 1/1 [00:02<00:00,  2.96s/it]\n"
     ]
    },
    {
     "name": "stdout",
     "output_type": "stream",
     "text": [
      "Fold 1/4 median val_loss: 0.10432227700948715, std val_loss 0.0\n",
      "Fold 1/4 median train_loss: 0.07443106174468994, std train_loss 0.0\n",
      "Fold 1/4 median val_mee: 0.32327574491500854, std val_mee 0.0\n",
      "Fold 1/4 median train_mee: 0.2788969576358795, train_mee 0.0\n",
      "\n",
      "Executing fold 2/4\n"
     ]
    },
    {
     "name": "stderr",
     "output_type": "stream",
     "text": [
      "100%|█████████████████████████████████████████████| 1/1 [00:03<00:00,  3.34s/it]\n"
     ]
    },
    {
     "name": "stdout",
     "output_type": "stream",
     "text": [
      "Fold 2/4 median val_loss: 0.08081839978694916, std val_loss 0.0\n",
      "Fold 2/4 median train_loss: 0.0817289724946022, std train_loss 0.0\n",
      "Fold 2/4 median val_mee: 0.2895820736885071, std val_mee 0.0\n",
      "Fold 2/4 median train_mee: 0.28785595297813416, train_mee 0.0\n",
      "\n",
      "Executing fold 3/4\n"
     ]
    },
    {
     "name": "stderr",
     "output_type": "stream",
     "text": [
      "100%|█████████████████████████████████████████████| 1/1 [00:03<00:00,  3.56s/it]\n"
     ]
    },
    {
     "name": "stdout",
     "output_type": "stream",
     "text": [
      "Fold 3/4 median val_loss: 0.0984589010477066, std val_loss 0.0\n",
      "Fold 3/4 median train_loss: 0.0763489156961441, std train_loss 0.0\n",
      "Fold 3/4 median val_mee: 0.3151490390300751, std val_mee 0.0\n",
      "Fold 3/4 median train_mee: 0.2794322669506073, train_mee 0.0\n",
      "\n",
      "Executing fold 4/4\n"
     ]
    },
    {
     "name": "stderr",
     "output_type": "stream",
     "text": [
      "100%|█████████████████████████████████████████████| 1/1 [00:02<00:00,  2.43s/it]\n"
     ]
    },
    {
     "name": "stdout",
     "output_type": "stream",
     "text": [
      "Fold 4/4 median val_loss: 0.08507508039474487, std val_loss 0.0\n",
      "Fold 4/4 median train_loss: 0.08023440837860107, std train_loss 0.0\n",
      "Fold 4/4 median val_mee: 0.2995164692401886, std val_mee 0.0\n",
      "Fold 4/4 median train_mee: 0.28902825713157654, train_mee 0.0\n",
      "\n",
      "Mean val_loss: 0.09216866455972195, std val_loss: 0.009571113014842132\n",
      "Mean train_loss: 0.07818583957850933, std train_loss: 0.002925024398221119\n",
      "Mean val_mee: 0.3068808317184448, std val_mee: 0.01313998948782341\n",
      "Mean train_mee: 0.3068808317184448, std train_mee: 0.0046610701155171495\n",
      "\n",
      "\n",
      "\n",
      "Testing configuration 166/180:\n",
      "{'batch_size': 16, 'learning_rate': 0.3, 'max_epochs': 500, 'momentum': 0.4, 'initialization': {'type': 'default'}, 'early_stopping': {'monitor': 'val_loss', 'patience': 20, 'delta': 0.01}, 'task': 'regression', 'trials_train': 1, 'trials_final': 5, 'nesterov': False, 'learning_rate_decay': {'epochs': 100, 'lr_final': 0.01}, 'regularization': {'method': 'l1', 'value': 0.001}, 'units_1': 50, 'activations_1': 'tanh', 'units_2': 50, 'activations_2': 'relu', 'units_3': 50, 'activations_3': 'tanh'}\n",
      "\n",
      "Executing fold 1/4\n"
     ]
    },
    {
     "name": "stderr",
     "output_type": "stream",
     "text": [
      "100%|█████████████████████████████████████████████| 1/1 [00:05<00:00,  5.76s/it]\n"
     ]
    },
    {
     "name": "stdout",
     "output_type": "stream",
     "text": [
      "Fold 1/4 median val_loss: 0.19601529836654663, std val_loss 0.0\n",
      "Fold 1/4 median train_loss: 0.1889599859714508, std train_loss 0.0\n",
      "Fold 1/4 median val_mee: 0.3231605589389801, std val_mee 0.0\n",
      "Fold 1/4 median train_mee: 0.30836084485054016, train_mee 0.0\n",
      "\n",
      "Executing fold 2/4\n"
     ]
    },
    {
     "name": "stderr",
     "output_type": "stream",
     "text": [
      "100%|█████████████████████████████████████████████| 1/1 [00:05<00:00,  5.47s/it]\n"
     ]
    },
    {
     "name": "stdout",
     "output_type": "stream",
     "text": [
      "Fold 2/4 median val_loss: 0.1848394274711609, std val_loss 0.0\n",
      "Fold 2/4 median train_loss: 0.18962274491786957, std train_loss 0.0\n",
      "Fold 2/4 median val_mee: 0.30377334356307983, std val_mee 0.0\n",
      "Fold 2/4 median train_mee: 0.3111395835876465, train_mee 0.0\n",
      "\n",
      "Executing fold 3/4\n"
     ]
    },
    {
     "name": "stderr",
     "output_type": "stream",
     "text": [
      "100%|█████████████████████████████████████████████| 1/1 [00:06<00:00,  6.43s/it]\n"
     ]
    },
    {
     "name": "stdout",
     "output_type": "stream",
     "text": [
      "Fold 3/4 median val_loss: 0.2000499665737152, std val_loss 0.0\n",
      "Fold 3/4 median train_loss: 0.16657483577728271, std train_loss 0.0\n",
      "Fold 3/4 median val_mee: 0.33998972177505493, std val_mee 0.0\n",
      "Fold 3/4 median train_mee: 0.2999143600463867, train_mee 0.0\n",
      "\n",
      "Executing fold 4/4\n"
     ]
    },
    {
     "name": "stderr",
     "output_type": "stream",
     "text": [
      "100%|█████████████████████████████████████████████| 1/1 [00:05<00:00,  5.04s/it]\n"
     ]
    },
    {
     "name": "stdout",
     "output_type": "stream",
     "text": [
      "Fold 4/4 median val_loss: 0.1783868372440338, std val_loss 0.0\n",
      "Fold 4/4 median train_loss: 0.18741224706172943, std train_loss 0.0\n",
      "Fold 4/4 median val_mee: 0.29857078194618225, std val_mee 0.0\n",
      "Fold 4/4 median train_mee: 0.3150657117366791, train_mee 0.0\n",
      "\n",
      "Mean val_loss: 0.18982288241386414, std val_loss: 0.008639404175579273\n",
      "Mean train_loss: 0.18314245343208313, std train_loss: 0.009598892579130944\n",
      "Mean val_mee: 0.3163736015558243, std val_mee: 0.016427802746161027\n",
      "Mean train_mee: 0.3163736015558243, std train_mee: 0.0055621675086782495\n",
      "\n",
      "\n",
      "\n",
      "Testing configuration 167/180:\n",
      "{'batch_size': 16, 'learning_rate': 0.3, 'max_epochs': 500, 'momentum': 0.4, 'initialization': {'type': 'default'}, 'early_stopping': {'monitor': 'val_loss', 'patience': 20, 'delta': 0.01}, 'task': 'regression', 'trials_train': 1, 'trials_final': 5, 'nesterov': False, 'learning_rate_decay': {'epochs': 100, 'lr_final': 0.01}, 'regularization': {'method': 'l1', 'value': 0.001}, 'units_1': 50, 'activations_1': 'tanh', 'units_2': 50, 'activations_2': 'relu', 'units_3': 50, 'activations_3': 'tanh'}\n",
      "\n",
      "Executing fold 1/4\n"
     ]
    },
    {
     "name": "stderr",
     "output_type": "stream",
     "text": [
      "100%|█████████████████████████████████████████████| 1/1 [00:02<00:00,  2.16s/it]\n"
     ]
    },
    {
     "name": "stdout",
     "output_type": "stream",
     "text": [
      "Fold 1/4 median val_loss: nan, std val_loss nan\n",
      "Fold 1/4 median train_loss: nan, std train_loss nan\n",
      "Fold 1/4 median val_mee: nan, std val_mee nan\n",
      "Fold 1/4 median train_mee: nan, train_mee nan\n",
      "\n",
      "Executing fold 2/4\n"
     ]
    },
    {
     "name": "stderr",
     "output_type": "stream",
     "text": [
      "100%|█████████████████████████████████████████████| 1/1 [00:02<00:00,  2.17s/it]\n"
     ]
    },
    {
     "name": "stdout",
     "output_type": "stream",
     "text": [
      "Fold 2/4 median val_loss: nan, std val_loss nan\n",
      "Fold 2/4 median train_loss: nan, std train_loss nan\n",
      "Fold 2/4 median val_mee: nan, std val_mee nan\n",
      "Fold 2/4 median train_mee: nan, train_mee nan\n",
      "\n",
      "Executing fold 3/4\n"
     ]
    },
    {
     "name": "stderr",
     "output_type": "stream",
     "text": [
      "100%|█████████████████████████████████████████████| 1/1 [00:05<00:00,  5.49s/it]\n"
     ]
    },
    {
     "name": "stdout",
     "output_type": "stream",
     "text": [
      "Fold 3/4 median val_loss: 0.1954866349697113, std val_loss 0.0\n",
      "Fold 3/4 median train_loss: 0.18582674860954285, std train_loss 0.0\n",
      "Fold 3/4 median val_mee: 0.31379836797714233, std val_mee 0.0\n",
      "Fold 3/4 median train_mee: 0.3146970272064209, train_mee 0.0\n",
      "\n",
      "Executing fold 4/4\n"
     ]
    },
    {
     "name": "stderr",
     "output_type": "stream",
     "text": [
      "100%|█████████████████████████████████████████████| 1/1 [00:05<00:00,  5.03s/it]\n"
     ]
    },
    {
     "name": "stdout",
     "output_type": "stream",
     "text": [
      "Fold 4/4 median val_loss: 0.21286024153232574, std val_loss 0.0\n",
      "Fold 4/4 median train_loss: 0.18752600252628326, std train_loss 0.0\n",
      "Fold 4/4 median val_mee: 0.3318212628364563, std val_mee 0.0\n",
      "Fold 4/4 median train_mee: 0.30398082733154297, train_mee 0.0\n",
      "\n",
      "Mean val_loss: nan, std val_loss: nan\n",
      "Mean train_loss: nan, std train_loss: nan\n",
      "Mean val_mee: nan, std val_mee: nan\n",
      "Mean train_mee: nan, std train_mee: nan\n",
      "\n",
      "\n",
      "\n",
      "Testing configuration 168/180:\n",
      "{'batch_size': 16, 'learning_rate': 0.3, 'max_epochs': 500, 'momentum': 0.4, 'initialization': {'type': 'default'}, 'early_stopping': {'monitor': 'val_loss', 'patience': 20, 'delta': 0.01}, 'task': 'regression', 'trials_train': 1, 'trials_final': 5, 'nesterov': False, 'learning_rate_decay': {'epochs': 100, 'lr_final': 0.01}, 'regularization': {'method': 'l1', 'value': 0.001}, 'units_1': 50, 'activations_1': 'tanh', 'units_2': 50, 'activations_2': 'relu', 'units_3': 50, 'activations_3': 'tanh'}\n",
      "\n",
      "Executing fold 1/4\n"
     ]
    },
    {
     "name": "stderr",
     "output_type": "stream",
     "text": [
      "100%|█████████████████████████████████████████████| 1/1 [00:02<00:00,  2.14s/it]\n"
     ]
    },
    {
     "name": "stdout",
     "output_type": "stream",
     "text": [
      "Fold 1/4 median val_loss: nan, std val_loss nan\n",
      "Fold 1/4 median train_loss: nan, std train_loss nan\n",
      "Fold 1/4 median val_mee: nan, std val_mee nan\n",
      "Fold 1/4 median train_mee: nan, train_mee nan\n",
      "\n",
      "Executing fold 2/4\n"
     ]
    },
    {
     "name": "stderr",
     "output_type": "stream",
     "text": [
      "100%|█████████████████████████████████████████████| 1/1 [00:06<00:00,  6.64s/it]\n"
     ]
    },
    {
     "name": "stdout",
     "output_type": "stream",
     "text": [
      "Fold 2/4 median val_loss: 0.19127918779850006, std val_loss 0.0\n",
      "Fold 2/4 median train_loss: 0.17894989252090454, std train_loss 0.0\n",
      "Fold 2/4 median val_mee: 0.32714658975601196, std val_mee 0.0\n",
      "Fold 2/4 median train_mee: 0.3068477511405945, train_mee 0.0\n",
      "\n",
      "Executing fold 3/4\n"
     ]
    },
    {
     "name": "stderr",
     "output_type": "stream",
     "text": [
      "100%|█████████████████████████████████████████████| 1/1 [00:05<00:00,  5.60s/it]\n"
     ]
    },
    {
     "name": "stdout",
     "output_type": "stream",
     "text": [
      "Fold 3/4 median val_loss: 0.19126352667808533, std val_loss 0.0\n",
      "Fold 3/4 median train_loss: 0.18348005414009094, std train_loss 0.0\n",
      "Fold 3/4 median val_mee: 0.314522922039032, std val_mee 0.0\n",
      "Fold 3/4 median train_mee: 0.3095058500766754, train_mee 0.0\n",
      "\n",
      "Executing fold 4/4\n"
     ]
    },
    {
     "name": "stderr",
     "output_type": "stream",
     "text": [
      "100%|█████████████████████████████████████████████| 1/1 [00:05<00:00,  5.77s/it]\n"
     ]
    },
    {
     "name": "stdout",
     "output_type": "stream",
     "text": [
      "Fold 4/4 median val_loss: 0.20169180631637573, std val_loss 0.0\n",
      "Fold 4/4 median train_loss: 0.184934601187706, std train_loss 0.0\n",
      "Fold 4/4 median val_mee: 0.3267907202243805, std val_mee 0.0\n",
      "Fold 4/4 median train_mee: 0.30763259530067444, train_mee 0.0\n",
      "\n",
      "Mean val_loss: nan, std val_loss: nan\n",
      "Mean train_loss: nan, std train_loss: nan\n",
      "Mean val_mee: nan, std val_mee: nan\n",
      "Mean train_mee: nan, std train_mee: nan\n",
      "\n",
      "\n",
      "\n",
      "Testing configuration 169/180:\n",
      "{'batch_size': 16, 'learning_rate': 0.3, 'max_epochs': 500, 'momentum': 0.4, 'initialization': {'type': 'default'}, 'early_stopping': {'monitor': 'val_loss', 'patience': 20, 'delta': 0.01}, 'task': 'regression', 'trials_train': 1, 'trials_final': 5, 'nesterov': False, 'learning_rate_decay': {'epochs': 100, 'lr_final': 0.01}, 'regularization': {'method': 'l1', 'value': 0.001}, 'units_1': 50, 'activations_1': 'tanh', 'units_2': 50, 'activations_2': 'relu', 'units_3': 50, 'activations_3': 'tanh'}\n",
      "\n",
      "Executing fold 1/4\n"
     ]
    },
    {
     "name": "stderr",
     "output_type": "stream",
     "text": [
      "100%|█████████████████████████████████████████████| 1/1 [00:06<00:00,  6.10s/it]\n"
     ]
    },
    {
     "name": "stdout",
     "output_type": "stream",
     "text": [
      "Fold 1/4 median val_loss: 0.17204302549362183, std val_loss 0.0\n",
      "Fold 1/4 median train_loss: 0.19272375106811523, std train_loss 0.0\n",
      "Fold 1/4 median val_mee: 0.2924720346927643, std val_mee 0.0\n",
      "Fold 1/4 median train_mee: 0.32583585381507874, train_mee 0.0\n",
      "\n",
      "Executing fold 2/4\n"
     ]
    },
    {
     "name": "stderr",
     "output_type": "stream",
     "text": [
      "100%|█████████████████████████████████████████████| 1/1 [00:03<00:00,  3.48s/it]\n"
     ]
    },
    {
     "name": "stdout",
     "output_type": "stream",
     "text": [
      "Fold 2/4 median val_loss: nan, std val_loss nan\n",
      "Fold 2/4 median train_loss: nan, std train_loss nan\n",
      "Fold 2/4 median val_mee: nan, std val_mee nan\n",
      "Fold 2/4 median train_mee: nan, train_mee nan\n",
      "\n",
      "Executing fold 3/4\n"
     ]
    },
    {
     "name": "stderr",
     "output_type": "stream",
     "text": [
      "100%|█████████████████████████████████████████████| 1/1 [00:05<00:00,  5.98s/it]\n"
     ]
    },
    {
     "name": "stdout",
     "output_type": "stream",
     "text": [
      "Fold 3/4 median val_loss: 0.18824326992034912, std val_loss 0.0\n",
      "Fold 3/4 median train_loss: 0.17846404016017914, std train_loss 0.0\n",
      "Fold 3/4 median val_mee: 0.3200579285621643, std val_mee 0.0\n",
      "Fold 3/4 median train_mee: 0.3079496920108795, train_mee 0.0\n",
      "\n",
      "Executing fold 4/4\n"
     ]
    },
    {
     "name": "stderr",
     "output_type": "stream",
     "text": [
      "100%|█████████████████████████████████████████████| 1/1 [00:10<00:00, 10.74s/it]\n"
     ]
    },
    {
     "name": "stdout",
     "output_type": "stream",
     "text": [
      "Fold 4/4 median val_loss: 0.20341989398002625, std val_loss 0.0\n",
      "Fold 4/4 median train_loss: 0.17811182141304016, std train_loss 0.0\n",
      "Fold 4/4 median val_mee: 0.3350842595100403, std val_mee 0.0\n",
      "Fold 4/4 median train_mee: 0.3036402761936188, train_mee 0.0\n",
      "\n",
      "Mean val_loss: nan, std val_loss: nan\n",
      "Mean train_loss: nan, std train_loss: nan\n",
      "Mean val_mee: nan, std val_mee: nan\n",
      "Mean train_mee: nan, std train_mee: nan\n",
      "\n",
      "\n",
      "\n",
      "Testing configuration 170/180:\n",
      "{'batch_size': 16, 'learning_rate': 0.3, 'max_epochs': 500, 'momentum': 0.4, 'initialization': {'type': 'default'}, 'early_stopping': {'monitor': 'val_loss', 'patience': 20, 'delta': 0.01}, 'task': 'regression', 'trials_train': 1, 'trials_final': 5, 'nesterov': False, 'learning_rate_decay': {'epochs': 100, 'lr_final': 0.01}, 'regularization': {'method': 'l1', 'value': 0.001}, 'units_1': 50, 'activations_1': 'tanh', 'units_2': 50, 'activations_2': 'relu', 'units_3': 50, 'activations_3': 'tanh'}\n",
      "\n",
      "Executing fold 1/4\n"
     ]
    },
    {
     "name": "stderr",
     "output_type": "stream",
     "text": [
      "100%|█████████████████████████████████████████████| 1/1 [00:06<00:00,  6.96s/it]\n"
     ]
    },
    {
     "name": "stdout",
     "output_type": "stream",
     "text": [
      "Fold 1/4 median val_loss: 0.18278981745243073, std val_loss 0.0\n",
      "Fold 1/4 median train_loss: 0.19176746904850006, std train_loss 0.0\n",
      "Fold 1/4 median val_mee: 0.30094578862190247, std val_mee 0.0\n",
      "Fold 1/4 median train_mee: 0.3155304491519928, train_mee 0.0\n",
      "\n",
      "Executing fold 2/4\n"
     ]
    },
    {
     "name": "stderr",
     "output_type": "stream",
     "text": [
      "100%|█████████████████████████████████████████████| 1/1 [00:05<00:00,  5.84s/it]\n"
     ]
    },
    {
     "name": "stdout",
     "output_type": "stream",
     "text": [
      "Fold 2/4 median val_loss: 0.19186019897460938, std val_loss 0.0\n",
      "Fold 2/4 median train_loss: 0.17835824191570282, std train_loss 0.0\n",
      "Fold 2/4 median val_mee: 0.3365076780319214, std val_mee 0.0\n",
      "Fold 2/4 median train_mee: 0.3080276548862457, train_mee 0.0\n",
      "\n",
      "Executing fold 3/4\n"
     ]
    },
    {
     "name": "stderr",
     "output_type": "stream",
     "text": [
      "100%|█████████████████████████████████████████████| 1/1 [00:06<00:00,  6.59s/it]\n"
     ]
    },
    {
     "name": "stdout",
     "output_type": "stream",
     "text": [
      "Fold 3/4 median val_loss: 0.19470232725143433, std val_loss 0.0\n",
      "Fold 3/4 median train_loss: 0.17619936168193817, std train_loss 0.0\n",
      "Fold 3/4 median val_mee: 0.32956239581108093, std val_mee 0.0\n",
      "Fold 3/4 median train_mee: 0.3051126301288605, train_mee 0.0\n",
      "\n",
      "Executing fold 4/4\n"
     ]
    },
    {
     "name": "stderr",
     "output_type": "stream",
     "text": [
      "100%|█████████████████████████████████████████████| 1/1 [00:05<00:00,  5.52s/it]\n"
     ]
    },
    {
     "name": "stdout",
     "output_type": "stream",
     "text": [
      "Fold 4/4 median val_loss: 0.18573765456676483, std val_loss 0.0\n",
      "Fold 4/4 median train_loss: 0.1914818435907364, std train_loss 0.0\n",
      "Fold 4/4 median val_mee: 0.30091699957847595, std val_mee 0.0\n",
      "Fold 4/4 median train_mee: 0.3146810233592987, train_mee 0.0\n",
      "\n",
      "Mean val_loss: 0.18877249956130981, std val_loss: 0.004735491354080233\n",
      "Mean train_loss: 0.18445172905921936, std train_loss: 0.007214130488403018\n",
      "Mean val_mee: 0.3169832155108452, std val_mee: 0.01623855573447379\n",
      "Mean train_mee: 0.3169832155108452, std train_mee: 0.004400733103393394\n",
      "\n",
      "\n",
      "\n",
      "Testing configuration 171/180:\n",
      "{'batch_size': 16, 'learning_rate': 0.3, 'max_epochs': 500, 'momentum': 0.4, 'initialization': {'type': 'default'}, 'early_stopping': {'monitor': 'val_loss', 'patience': 20, 'delta': 0.01}, 'task': 'regression', 'trials_train': 1, 'trials_final': 5, 'nesterov': False, 'learning_rate_decay': {'epochs': 100, 'lr_final': 0.01}, 'regularization': {'method': 'l1', 'value': 0.0001}, 'units_1': 50, 'activations_1': 'tanh', 'units_2': 50, 'activations_2': 'relu', 'units_3': 50, 'activations_3': 'tanh'}\n",
      "\n",
      "Executing fold 1/4\n"
     ]
    },
    {
     "name": "stderr",
     "output_type": "stream",
     "text": [
      "100%|█████████████████████████████████████████████| 1/1 [00:02<00:00,  2.53s/it]\n"
     ]
    },
    {
     "name": "stdout",
     "output_type": "stream",
     "text": [
      "Fold 1/4 median val_loss: 0.1579371690750122, std val_loss 0.0\n",
      "Fold 1/4 median train_loss: 0.13273882865905762, std train_loss 0.0\n",
      "Fold 1/4 median val_mee: 0.3342383801937103, std val_mee 0.0\n",
      "Fold 1/4 median train_mee: 0.28003591299057007, train_mee 0.0\n",
      "\n",
      "Executing fold 2/4\n"
     ]
    },
    {
     "name": "stderr",
     "output_type": "stream",
     "text": [
      "100%|█████████████████████████████████████████████| 1/1 [00:02<00:00,  2.61s/it]\n"
     ]
    },
    {
     "name": "stdout",
     "output_type": "stream",
     "text": [
      "Fold 2/4 median val_loss: 0.14817172288894653, std val_loss 0.0\n",
      "Fold 2/4 median train_loss: 0.13181866705417633, std train_loss 0.0\n",
      "Fold 2/4 median val_mee: 0.3099820017814636, std val_mee 0.0\n",
      "Fold 2/4 median train_mee: 0.2818627953529358, train_mee 0.0\n",
      "\n",
      "Executing fold 3/4\n"
     ]
    },
    {
     "name": "stderr",
     "output_type": "stream",
     "text": [
      "100%|█████████████████████████████████████████████| 1/1 [00:02<00:00,  2.10s/it]\n"
     ]
    },
    {
     "name": "stdout",
     "output_type": "stream",
     "text": [
      "Fold 3/4 median val_loss: nan, std val_loss nan\n",
      "Fold 3/4 median train_loss: nan, std train_loss nan\n",
      "Fold 3/4 median val_mee: nan, std val_mee nan\n",
      "Fold 3/4 median train_mee: nan, train_mee nan\n",
      "\n",
      "Executing fold 4/4\n"
     ]
    },
    {
     "name": "stderr",
     "output_type": "stream",
     "text": [
      "100%|█████████████████████████████████████████████| 1/1 [00:03<00:00,  3.19s/it]\n"
     ]
    },
    {
     "name": "stdout",
     "output_type": "stream",
     "text": [
      "Fold 4/4 median val_loss: 0.14562484622001648, std val_loss 0.0\n",
      "Fold 4/4 median train_loss: 0.13150593638420105, std train_loss 0.0\n",
      "Fold 4/4 median val_mee: 0.2947363555431366, std val_mee 0.0\n",
      "Fold 4/4 median train_mee: 0.28088217973709106, train_mee 0.0\n",
      "\n",
      "Mean val_loss: nan, std val_loss: nan\n",
      "Mean train_loss: nan, std train_loss: nan\n",
      "Mean val_mee: nan, std val_mee: nan\n",
      "Mean train_mee: nan, std train_mee: nan\n",
      "\n",
      "\n",
      "\n",
      "Testing configuration 172/180:\n",
      "{'batch_size': 16, 'learning_rate': 0.3, 'max_epochs': 500, 'momentum': 0.4, 'initialization': {'type': 'default'}, 'early_stopping': {'monitor': 'val_loss', 'patience': 20, 'delta': 0.01}, 'task': 'regression', 'trials_train': 1, 'trials_final': 5, 'nesterov': False, 'learning_rate_decay': {'epochs': 100, 'lr_final': 0.01}, 'regularization': {'method': 'l1', 'value': 0.0001}, 'units_1': 50, 'activations_1': 'tanh', 'units_2': 50, 'activations_2': 'relu', 'units_3': 50, 'activations_3': 'tanh'}\n",
      "\n",
      "Executing fold 1/4\n"
     ]
    },
    {
     "name": "stderr",
     "output_type": "stream",
     "text": [
      "100%|█████████████████████████████████████████████| 1/1 [00:02<00:00,  2.56s/it]\n"
     ]
    },
    {
     "name": "stdout",
     "output_type": "stream",
     "text": [
      "Fold 1/4 median val_loss: 0.14479638636112213, std val_loss 0.0\n",
      "Fold 1/4 median train_loss: 0.13464310765266418, std train_loss 0.0\n",
      "Fold 1/4 median val_mee: 0.306734174489975, std val_mee 0.0\n",
      "Fold 1/4 median train_mee: 0.2892611622810364, train_mee 0.0\n",
      "\n",
      "Executing fold 2/4\n"
     ]
    },
    {
     "name": "stderr",
     "output_type": "stream",
     "text": [
      "100%|█████████████████████████████████████████████| 1/1 [00:03<00:00,  3.40s/it]\n"
     ]
    },
    {
     "name": "stdout",
     "output_type": "stream",
     "text": [
      "Fold 2/4 median val_loss: 0.15616805851459503, std val_loss 0.0\n",
      "Fold 2/4 median train_loss: 0.13109898567199707, std train_loss 0.0\n",
      "Fold 2/4 median val_mee: 0.3098708987236023, std val_mee 0.0\n",
      "Fold 2/4 median train_mee: 0.2774394154548645, train_mee 0.0\n",
      "\n",
      "Executing fold 3/4\n"
     ]
    },
    {
     "name": "stderr",
     "output_type": "stream",
     "text": [
      "100%|█████████████████████████████████████████████| 1/1 [00:02<00:00,  2.40s/it]\n"
     ]
    },
    {
     "name": "stdout",
     "output_type": "stream",
     "text": [
      "Fold 3/4 median val_loss: 0.14196297526359558, std val_loss 0.0\n",
      "Fold 3/4 median train_loss: 0.13407020270824432, std train_loss 0.0\n",
      "Fold 3/4 median val_mee: 0.3048030436038971, std val_mee 0.0\n",
      "Fold 3/4 median train_mee: 0.2849748432636261, train_mee 0.0\n",
      "\n",
      "Executing fold 4/4\n"
     ]
    },
    {
     "name": "stderr",
     "output_type": "stream",
     "text": [
      "100%|█████████████████████████████████████████████| 1/1 [00:03<00:00,  3.02s/it]\n"
     ]
    },
    {
     "name": "stdout",
     "output_type": "stream",
     "text": [
      "Fold 4/4 median val_loss: 0.14880076050758362, std val_loss 0.0\n",
      "Fold 4/4 median train_loss: 0.13662271201610565, std train_loss 0.0\n",
      "Fold 4/4 median val_mee: 0.30863600969314575, std val_mee 0.0\n",
      "Fold 4/4 median train_mee: 0.2850852310657501, train_mee 0.0\n",
      "\n",
      "Mean val_loss: 0.1479320451617241, std val_loss: 0.005339680090214597\n",
      "Mean train_loss: 0.1341087520122528, std train_loss: 0.0019789966095970957\n",
      "Mean val_mee: 0.30751103162765503, std val_mee: 0.001921669489503247\n",
      "Mean train_mee: 0.30751103162765503, std train_mee: 0.004263346575311301\n",
      "\n",
      "\n",
      "\n",
      "Testing configuration 173/180:\n",
      "{'batch_size': 16, 'learning_rate': 0.3, 'max_epochs': 500, 'momentum': 0.4, 'initialization': {'type': 'default'}, 'early_stopping': {'monitor': 'val_loss', 'patience': 20, 'delta': 0.01}, 'task': 'regression', 'trials_train': 1, 'trials_final': 5, 'nesterov': False, 'learning_rate_decay': {'epochs': 100, 'lr_final': 0.01}, 'regularization': {'method': 'l1', 'value': 0.0001}, 'units_1': 50, 'activations_1': 'tanh', 'units_2': 50, 'activations_2': 'relu', 'units_3': 50, 'activations_3': 'tanh'}\n",
      "\n",
      "Executing fold 1/4\n"
     ]
    },
    {
     "name": "stderr",
     "output_type": "stream",
     "text": [
      "100%|█████████████████████████████████████████████| 1/1 [00:03<00:00,  3.08s/it]\n"
     ]
    },
    {
     "name": "stdout",
     "output_type": "stream",
     "text": [
      "Fold 1/4 median val_loss: 0.16621412336826324, std val_loss 0.0\n",
      "Fold 1/4 median train_loss: 0.12595175206661224, std train_loss 0.0\n",
      "Fold 1/4 median val_mee: 0.3320373296737671, std val_mee 0.0\n",
      "Fold 1/4 median train_mee: 0.2698225677013397, train_mee 0.0\n",
      "\n",
      "Executing fold 2/4\n"
     ]
    },
    {
     "name": "stderr",
     "output_type": "stream",
     "text": [
      "100%|█████████████████████████████████████████████| 1/1 [00:02<00:00,  2.13s/it]\n"
     ]
    },
    {
     "name": "stdout",
     "output_type": "stream",
     "text": [
      "Fold 2/4 median val_loss: nan, std val_loss nan\n",
      "Fold 2/4 median train_loss: nan, std train_loss nan\n",
      "Fold 2/4 median val_mee: nan, std val_mee nan\n",
      "Fold 2/4 median train_mee: nan, train_mee nan\n",
      "\n",
      "Executing fold 3/4\n"
     ]
    },
    {
     "name": "stderr",
     "output_type": "stream",
     "text": [
      "100%|█████████████████████████████████████████████| 1/1 [00:03<00:00,  3.09s/it]\n"
     ]
    },
    {
     "name": "stdout",
     "output_type": "stream",
     "text": [
      "Fold 3/4 median val_loss: nan, std val_loss nan\n",
      "Fold 3/4 median train_loss: nan, std train_loss nan\n",
      "Fold 3/4 median val_mee: nan, std val_mee nan\n",
      "Fold 3/4 median train_mee: nan, train_mee nan\n",
      "\n",
      "Executing fold 4/4\n"
     ]
    },
    {
     "name": "stderr",
     "output_type": "stream",
     "text": [
      "100%|█████████████████████████████████████████████| 1/1 [00:03<00:00,  3.05s/it]\n"
     ]
    },
    {
     "name": "stdout",
     "output_type": "stream",
     "text": [
      "Fold 4/4 median val_loss: 0.14047791063785553, std val_loss 0.0\n",
      "Fold 4/4 median train_loss: 0.1344740241765976, std train_loss 0.0\n",
      "Fold 4/4 median val_mee: 0.28594401478767395, std val_mee 0.0\n",
      "Fold 4/4 median train_mee: 0.28540584444999695, train_mee 0.0\n",
      "\n",
      "Mean val_loss: nan, std val_loss: nan\n",
      "Mean train_loss: nan, std train_loss: nan\n",
      "Mean val_mee: nan, std val_mee: nan\n",
      "Mean train_mee: nan, std train_mee: nan\n",
      "\n",
      "\n",
      "\n",
      "Testing configuration 174/180:\n",
      "{'batch_size': 16, 'learning_rate': 0.3, 'max_epochs': 500, 'momentum': 0.4, 'initialization': {'type': 'default'}, 'early_stopping': {'monitor': 'val_loss', 'patience': 20, 'delta': 0.01}, 'task': 'regression', 'trials_train': 1, 'trials_final': 5, 'nesterov': False, 'learning_rate_decay': {'epochs': 100, 'lr_final': 0.01}, 'regularization': {'method': 'l1', 'value': 0.0001}, 'units_1': 50, 'activations_1': 'tanh', 'units_2': 50, 'activations_2': 'relu', 'units_3': 50, 'activations_3': 'tanh'}\n",
      "\n",
      "Executing fold 1/4\n"
     ]
    },
    {
     "name": "stderr",
     "output_type": "stream",
     "text": [
      "100%|█████████████████████████████████████████████| 1/1 [00:02<00:00,  2.57s/it]\n"
     ]
    },
    {
     "name": "stdout",
     "output_type": "stream",
     "text": [
      "Fold 1/4 median val_loss: 0.1404925137758255, std val_loss 0.0\n",
      "Fold 1/4 median train_loss: 0.1344570517539978, std train_loss 0.0\n",
      "Fold 1/4 median val_mee: 0.302518755197525, std val_mee 0.0\n",
      "Fold 1/4 median train_mee: 0.28523388504981995, train_mee 0.0\n",
      "\n",
      "Executing fold 2/4\n"
     ]
    },
    {
     "name": "stderr",
     "output_type": "stream",
     "text": [
      "100%|█████████████████████████████████████████████| 1/1 [00:04<00:00,  4.80s/it]\n"
     ]
    },
    {
     "name": "stdout",
     "output_type": "stream",
     "text": [
      "Fold 2/4 median val_loss: 0.14835840463638306, std val_loss 0.0\n",
      "Fold 2/4 median train_loss: 0.1317240595817566, std train_loss 0.0\n",
      "Fold 2/4 median val_mee: 0.30445465445518494, std val_mee 0.0\n",
      "Fold 2/4 median train_mee: 0.2804429233074188, train_mee 0.0\n",
      "\n",
      "Executing fold 3/4\n"
     ]
    },
    {
     "name": "stderr",
     "output_type": "stream",
     "text": [
      "100%|█████████████████████████████████████████████| 1/1 [00:04<00:00,  4.80s/it]\n"
     ]
    },
    {
     "name": "stdout",
     "output_type": "stream",
     "text": [
      "Fold 3/4 median val_loss: 0.15985164046287537, std val_loss 0.0\n",
      "Fold 3/4 median train_loss: 0.13005615770816803, std train_loss 0.0\n",
      "Fold 3/4 median val_mee: 0.3191872835159302, std val_mee 0.0\n",
      "Fold 3/4 median train_mee: 0.2821252644062042, train_mee 0.0\n",
      "\n",
      "Executing fold 4/4\n"
     ]
    },
    {
     "name": "stderr",
     "output_type": "stream",
     "text": [
      "100%|█████████████████████████████████████████████| 1/1 [00:02<00:00,  2.73s/it]\n"
     ]
    },
    {
     "name": "stdout",
     "output_type": "stream",
     "text": [
      "Fold 4/4 median val_loss: 0.14355260133743286, std val_loss 0.0\n",
      "Fold 4/4 median train_loss: 0.13476309180259705, std train_loss 0.0\n",
      "Fold 4/4 median val_mee: 0.3016907572746277, std val_mee 0.0\n",
      "Fold 4/4 median train_mee: 0.2852895259857178, train_mee 0.0\n",
      "\n",
      "Mean val_loss: 0.1480637900531292, std val_loss: 0.007360626045573611\n",
      "Mean train_loss: 0.13275009021162987, std train_loss: 0.001954220068147765\n",
      "Mean val_mee: 0.30696286261081696, std val_mee: 0.007128687817440524\n",
      "Mean train_mee: 0.30696286261081696, std train_mee: 0.0020759382377968766\n",
      "\n",
      "\n",
      "\n",
      "Testing configuration 175/180:\n",
      "{'batch_size': 16, 'learning_rate': 0.3, 'max_epochs': 500, 'momentum': 0.4, 'initialization': {'type': 'default'}, 'early_stopping': {'monitor': 'val_loss', 'patience': 20, 'delta': 0.01}, 'task': 'regression', 'trials_train': 1, 'trials_final': 5, 'nesterov': False, 'learning_rate_decay': {'epochs': 100, 'lr_final': 0.01}, 'regularization': {'method': 'l1', 'value': 0.0001}, 'units_1': 50, 'activations_1': 'tanh', 'units_2': 50, 'activations_2': 'relu', 'units_3': 50, 'activations_3': 'tanh'}\n",
      "\n",
      "Executing fold 1/4\n"
     ]
    },
    {
     "name": "stderr",
     "output_type": "stream",
     "text": [
      "100%|█████████████████████████████████████████████| 1/1 [00:02<00:00,  2.97s/it]\n"
     ]
    },
    {
     "name": "stdout",
     "output_type": "stream",
     "text": [
      "Fold 1/4 median val_loss: nan, std val_loss nan\n",
      "Fold 1/4 median train_loss: nan, std train_loss nan\n",
      "Fold 1/4 median val_mee: nan, std val_mee nan\n",
      "Fold 1/4 median train_mee: nan, train_mee nan\n",
      "\n",
      "Executing fold 2/4\n"
     ]
    },
    {
     "name": "stderr",
     "output_type": "stream",
     "text": [
      "100%|█████████████████████████████████████████████| 1/1 [00:03<00:00,  3.35s/it]\n"
     ]
    },
    {
     "name": "stdout",
     "output_type": "stream",
     "text": [
      "Fold 2/4 median val_loss: 0.14757487177848816, std val_loss 0.0\n",
      "Fold 2/4 median train_loss: 0.13166996836662292, std train_loss 0.0\n",
      "Fold 2/4 median val_mee: 0.3046323359012604, std val_mee 0.0\n",
      "Fold 2/4 median train_mee: 0.279304563999176, train_mee 0.0\n",
      "\n",
      "Executing fold 3/4\n"
     ]
    },
    {
     "name": "stderr",
     "output_type": "stream",
     "text": [
      "100%|█████████████████████████████████████████████| 1/1 [00:02<00:00,  2.26s/it]\n"
     ]
    },
    {
     "name": "stdout",
     "output_type": "stream",
     "text": [
      "Fold 3/4 median val_loss: nan, std val_loss nan\n",
      "Fold 3/4 median train_loss: nan, std train_loss nan\n",
      "Fold 3/4 median val_mee: nan, std val_mee nan\n",
      "Fold 3/4 median train_mee: nan, train_mee nan\n",
      "\n",
      "Executing fold 4/4\n"
     ]
    },
    {
     "name": "stderr",
     "output_type": "stream",
     "text": [
      "100%|█████████████████████████████████████████████| 1/1 [00:02<00:00,  2.19s/it]\n"
     ]
    },
    {
     "name": "stdout",
     "output_type": "stream",
     "text": [
      "Fold 4/4 median val_loss: nan, std val_loss nan\n",
      "Fold 4/4 median train_loss: nan, std train_loss nan\n",
      "Fold 4/4 median val_mee: nan, std val_mee nan\n",
      "Fold 4/4 median train_mee: nan, train_mee nan\n",
      "\n",
      "Mean val_loss: nan, std val_loss: nan\n",
      "Mean train_loss: nan, std train_loss: nan\n",
      "Mean val_mee: nan, std val_mee: nan\n",
      "Mean train_mee: nan, std train_mee: nan\n",
      "\n",
      "\n",
      "\n",
      "Testing configuration 176/180:\n",
      "{'batch_size': 16, 'learning_rate': 0.3, 'max_epochs': 500, 'momentum': 0.4, 'initialization': {'type': 'default'}, 'early_stopping': {'monitor': 'val_loss', 'patience': 20, 'delta': 0.01}, 'task': 'regression', 'trials_train': 1, 'trials_final': 5, 'nesterov': False, 'learning_rate_decay': {'epochs': 100, 'lr_final': 0.01}, 'regularization': {'method': 'l1', 'value': 1e-05}, 'units_1': 50, 'activations_1': 'tanh', 'units_2': 50, 'activations_2': 'relu', 'units_3': 50, 'activations_3': 'tanh'}\n",
      "\n",
      "Executing fold 1/4\n"
     ]
    },
    {
     "name": "stderr",
     "output_type": "stream",
     "text": [
      "100%|█████████████████████████████████████████████| 1/1 [00:03<00:00,  3.47s/it]\n"
     ]
    },
    {
     "name": "stdout",
     "output_type": "stream",
     "text": [
      "Fold 1/4 median val_loss: 0.08596603572368622, std val_loss 0.0\n",
      "Fold 1/4 median train_loss: 0.07476315647363663, std train_loss 0.0\n",
      "Fold 1/4 median val_mee: 0.29782313108444214, std val_mee 0.0\n",
      "Fold 1/4 median train_mee: 0.27811166644096375, train_mee 0.0\n",
      "\n",
      "Executing fold 2/4\n"
     ]
    },
    {
     "name": "stderr",
     "output_type": "stream",
     "text": [
      "100%|█████████████████████████████████████████████| 1/1 [00:03<00:00,  3.35s/it]\n"
     ]
    },
    {
     "name": "stdout",
     "output_type": "stream",
     "text": [
      "Fold 2/4 median val_loss: 0.10251487791538239, std val_loss 0.0\n",
      "Fold 2/4 median train_loss: 0.07499799132347107, std train_loss 0.0\n",
      "Fold 2/4 median val_mee: 0.31326016783714294, std val_mee 0.0\n",
      "Fold 2/4 median train_mee: 0.27623289823532104, train_mee 0.0\n",
      "\n",
      "Executing fold 3/4\n"
     ]
    },
    {
     "name": "stderr",
     "output_type": "stream",
     "text": [
      "100%|█████████████████████████████████████████████| 1/1 [00:02<00:00,  2.69s/it]\n"
     ]
    },
    {
     "name": "stdout",
     "output_type": "stream",
     "text": [
      "Fold 3/4 median val_loss: 0.08219394087791443, std val_loss 0.0\n",
      "Fold 3/4 median train_loss: 0.07991921901702881, std train_loss 0.0\n",
      "Fold 3/4 median val_mee: 0.28177499771118164, std val_mee 0.0\n",
      "Fold 3/4 median train_mee: 0.2843073904514313, train_mee 0.0\n",
      "\n",
      "Executing fold 4/4\n"
     ]
    },
    {
     "name": "stderr",
     "output_type": "stream",
     "text": [
      "100%|█████████████████████████████████████████████| 1/1 [00:02<00:00,  2.56s/it]\n"
     ]
    },
    {
     "name": "stdout",
     "output_type": "stream",
     "text": [
      "Fold 4/4 median val_loss: 0.0961407944560051, std val_loss 0.0\n",
      "Fold 4/4 median train_loss: 0.07574983686208725, std train_loss 0.0\n",
      "Fold 4/4 median val_mee: 0.32305410504341125, std val_mee 0.0\n",
      "Fold 4/4 median train_mee: 0.2718895375728607, train_mee 0.0\n",
      "\n",
      "Mean val_loss: 0.09170391224324703, std val_loss: 0.00806110545857625\n",
      "Mean train_loss: 0.07635755091905594, std train_loss: 0.0020883780762044665\n",
      "Mean val_mee: 0.3039781004190445, std val_mee: 0.01565975850187982\n",
      "Mean train_mee: 0.3039781004190445, std train_mee: 0.00446442136607418\n",
      "\n",
      "\n",
      "\n",
      "Testing configuration 177/180:\n",
      "{'batch_size': 16, 'learning_rate': 0.3, 'max_epochs': 500, 'momentum': 0.4, 'initialization': {'type': 'default'}, 'early_stopping': {'monitor': 'val_loss', 'patience': 20, 'delta': 0.01}, 'task': 'regression', 'trials_train': 1, 'trials_final': 5, 'nesterov': False, 'learning_rate_decay': {'epochs': 100, 'lr_final': 0.01}, 'regularization': {'method': 'l1', 'value': 1e-05}, 'units_1': 50, 'activations_1': 'tanh', 'units_2': 50, 'activations_2': 'relu', 'units_3': 50, 'activations_3': 'tanh'}\n",
      "\n",
      "Executing fold 1/4\n"
     ]
    },
    {
     "name": "stderr",
     "output_type": "stream",
     "text": [
      "100%|█████████████████████████████████████████████| 1/1 [00:02<00:00,  2.89s/it]\n"
     ]
    },
    {
     "name": "stdout",
     "output_type": "stream",
     "text": [
      "Fold 1/4 median val_loss: 0.08879759162664413, std val_loss 0.0\n",
      "Fold 1/4 median train_loss: 0.08326857537031174, std train_loss 0.0\n",
      "Fold 1/4 median val_mee: 0.2836695909500122, std val_mee 0.0\n",
      "Fold 1/4 median train_mee: 0.28819698095321655, train_mee 0.0\n",
      "\n",
      "Executing fold 2/4\n"
     ]
    },
    {
     "name": "stderr",
     "output_type": "stream",
     "text": [
      "100%|█████████████████████████████████████████████| 1/1 [00:02<00:00,  2.16s/it]\n"
     ]
    },
    {
     "name": "stdout",
     "output_type": "stream",
     "text": [
      "Fold 2/4 median val_loss: nan, std val_loss nan\n",
      "Fold 2/4 median train_loss: nan, std train_loss nan\n",
      "Fold 2/4 median val_mee: nan, std val_mee nan\n",
      "Fold 2/4 median train_mee: nan, train_mee nan\n",
      "\n",
      "Executing fold 3/4\n"
     ]
    },
    {
     "name": "stderr",
     "output_type": "stream",
     "text": [
      "100%|█████████████████████████████████████████████| 1/1 [00:02<00:00,  2.06s/it]\n"
     ]
    },
    {
     "name": "stdout",
     "output_type": "stream",
     "text": [
      "Fold 3/4 median val_loss: nan, std val_loss nan\n",
      "Fold 3/4 median train_loss: nan, std train_loss nan\n",
      "Fold 3/4 median val_mee: nan, std val_mee nan\n",
      "Fold 3/4 median train_mee: nan, train_mee nan\n",
      "\n",
      "Executing fold 4/4\n"
     ]
    },
    {
     "name": "stderr",
     "output_type": "stream",
     "text": [
      "100%|█████████████████████████████████████████████| 1/1 [00:02<00:00,  2.83s/it]\n"
     ]
    },
    {
     "name": "stdout",
     "output_type": "stream",
     "text": [
      "Fold 4/4 median val_loss: 0.10356572270393372, std val_loss 0.0\n",
      "Fold 4/4 median train_loss: 0.07432932406663895, std train_loss 0.0\n",
      "Fold 4/4 median val_mee: 0.3171389400959015, std val_mee 0.0\n",
      "Fold 4/4 median train_mee: 0.2756003141403198, train_mee 0.0\n",
      "\n",
      "Mean val_loss: nan, std val_loss: nan\n",
      "Mean train_loss: nan, std train_loss: nan\n",
      "Mean val_mee: nan, std val_mee: nan\n",
      "Mean train_mee: nan, std train_mee: nan\n",
      "\n",
      "\n",
      "\n",
      "Testing configuration 178/180:\n",
      "{'batch_size': 16, 'learning_rate': 0.3, 'max_epochs': 500, 'momentum': 0.4, 'initialization': {'type': 'default'}, 'early_stopping': {'monitor': 'val_loss', 'patience': 20, 'delta': 0.01}, 'task': 'regression', 'trials_train': 1, 'trials_final': 5, 'nesterov': False, 'learning_rate_decay': {'epochs': 100, 'lr_final': 0.01}, 'regularization': {'method': 'l1', 'value': 1e-05}, 'units_1': 50, 'activations_1': 'tanh', 'units_2': 50, 'activations_2': 'relu', 'units_3': 50, 'activations_3': 'tanh'}\n",
      "\n",
      "Executing fold 1/4\n"
     ]
    },
    {
     "name": "stderr",
     "output_type": "stream",
     "text": [
      "100%|█████████████████████████████████████████████| 1/1 [00:02<00:00,  2.53s/it]\n"
     ]
    },
    {
     "name": "stdout",
     "output_type": "stream",
     "text": [
      "Fold 1/4 median val_loss: 0.09589645266532898, std val_loss 0.0\n",
      "Fold 1/4 median train_loss: 0.07545921951532364, std train_loss 0.0\n",
      "Fold 1/4 median val_mee: 0.3116445243358612, std val_mee 0.0\n",
      "Fold 1/4 median train_mee: 0.2745109498500824, train_mee 0.0\n",
      "\n",
      "Executing fold 2/4\n"
     ]
    },
    {
     "name": "stderr",
     "output_type": "stream",
     "text": [
      "100%|█████████████████████████████████████████████| 1/1 [00:03<00:00,  3.04s/it]\n"
     ]
    },
    {
     "name": "stdout",
     "output_type": "stream",
     "text": [
      "Fold 2/4 median val_loss: 0.07845727354288101, std val_loss 0.0\n",
      "Fold 2/4 median train_loss: 0.07853478938341141, std train_loss 0.0\n",
      "Fold 2/4 median val_mee: 0.2753276824951172, std val_mee 0.0\n",
      "Fold 2/4 median train_mee: 0.2853746712207794, train_mee 0.0\n",
      "\n",
      "Executing fold 3/4\n"
     ]
    },
    {
     "name": "stderr",
     "output_type": "stream",
     "text": [
      "100%|█████████████████████████████████████████████| 1/1 [00:02<00:00,  2.17s/it]\n"
     ]
    },
    {
     "name": "stdout",
     "output_type": "stream",
     "text": [
      "Fold 3/4 median val_loss: 0.09448789060115814, std val_loss 0.0\n",
      "Fold 3/4 median train_loss: 0.0789744108915329, std train_loss 0.0\n",
      "Fold 3/4 median val_mee: 0.31077608466148376, std val_mee 0.0\n",
      "Fold 3/4 median train_mee: 0.28302082419395447, train_mee 0.0\n",
      "\n",
      "Executing fold 4/4\n"
     ]
    },
    {
     "name": "stderr",
     "output_type": "stream",
     "text": [
      "100%|█████████████████████████████████████████████| 1/1 [00:02<00:00,  2.42s/it]\n"
     ]
    },
    {
     "name": "stdout",
     "output_type": "stream",
     "text": [
      "Fold 4/4 median val_loss: 0.09720952808856964, std val_loss 0.0\n",
      "Fold 4/4 median train_loss: 0.07809861749410629, std train_loss 0.0\n",
      "Fold 4/4 median val_mee: 0.3173884451389313, std val_mee 0.0\n",
      "Fold 4/4 median train_mee: 0.2799292504787445, train_mee 0.0\n",
      "\n",
      "Mean val_loss: 0.09151278622448444, std val_loss: 0.007598800180986116\n",
      "Mean train_loss: 0.07776675932109356, std train_loss: 0.0013677684649106908\n",
      "Mean val_mee: 0.30378418415784836, std val_mee: 0.016624680629182452\n",
      "Mean train_mee: 0.30378418415784836, std train_mee: 0.004066228412110273\n",
      "\n",
      "\n",
      "\n",
      "Testing configuration 179/180:\n",
      "{'batch_size': 16, 'learning_rate': 0.3, 'max_epochs': 500, 'momentum': 0.4, 'initialization': {'type': 'default'}, 'early_stopping': {'monitor': 'val_loss', 'patience': 20, 'delta': 0.01}, 'task': 'regression', 'trials_train': 1, 'trials_final': 5, 'nesterov': False, 'learning_rate_decay': {'epochs': 100, 'lr_final': 0.01}, 'regularization': {'method': 'l1', 'value': 1e-05}, 'units_1': 50, 'activations_1': 'tanh', 'units_2': 50, 'activations_2': 'relu', 'units_3': 50, 'activations_3': 'tanh'}\n",
      "\n",
      "Executing fold 1/4\n"
     ]
    },
    {
     "name": "stderr",
     "output_type": "stream",
     "text": [
      "100%|█████████████████████████████████████████████| 1/1 [00:02<00:00,  2.36s/it]\n"
     ]
    },
    {
     "name": "stdout",
     "output_type": "stream",
     "text": [
      "Fold 1/4 median val_loss: 0.100186288356781, std val_loss 0.0\n",
      "Fold 1/4 median train_loss: 0.07531420886516571, std train_loss 0.0\n",
      "Fold 1/4 median val_mee: 0.30907487869262695, std val_mee 0.0\n",
      "Fold 1/4 median train_mee: 0.2765670716762543, train_mee 0.0\n",
      "\n",
      "Executing fold 2/4\n"
     ]
    },
    {
     "name": "stderr",
     "output_type": "stream",
     "text": [
      "100%|█████████████████████████████████████████████| 1/1 [00:03<00:00,  3.33s/it]\n"
     ]
    },
    {
     "name": "stdout",
     "output_type": "stream",
     "text": [
      "Fold 2/4 median val_loss: nan, std val_loss nan\n",
      "Fold 2/4 median train_loss: nan, std train_loss nan\n",
      "Fold 2/4 median val_mee: nan, std val_mee nan\n",
      "Fold 2/4 median train_mee: nan, train_mee nan\n",
      "\n",
      "Executing fold 3/4\n"
     ]
    },
    {
     "name": "stderr",
     "output_type": "stream",
     "text": [
      "100%|█████████████████████████████████████████████| 1/1 [00:02<00:00,  2.64s/it]\n"
     ]
    },
    {
     "name": "stdout",
     "output_type": "stream",
     "text": [
      "Fold 3/4 median val_loss: 0.07726040482521057, std val_loss 0.0\n",
      "Fold 3/4 median train_loss: 0.08138976991176605, std train_loss 0.0\n",
      "Fold 3/4 median val_mee: 0.28130143880844116, std val_mee 0.0\n",
      "Fold 3/4 median train_mee: 0.28659114241600037, train_mee 0.0\n",
      "\n",
      "Executing fold 4/4\n"
     ]
    },
    {
     "name": "stderr",
     "output_type": "stream",
     "text": [
      "100%|█████████████████████████████████████████████| 1/1 [00:02<00:00,  2.73s/it]\n"
     ]
    },
    {
     "name": "stdout",
     "output_type": "stream",
     "text": [
      "Fold 4/4 median val_loss: 0.10701083391904831, std val_loss 0.0\n",
      "Fold 4/4 median train_loss: 0.07737476378679276, std train_loss 0.0\n",
      "Fold 4/4 median val_mee: 0.3153228163719177, std val_mee 0.0\n",
      "Fold 4/4 median train_mee: 0.2801381051540375, train_mee 0.0\n",
      "\n",
      "Mean val_loss: nan, std val_loss: nan\n",
      "Mean train_loss: nan, std train_loss: nan\n",
      "Mean val_mee: nan, std val_mee: nan\n",
      "Mean train_mee: nan, std train_mee: nan\n",
      "\n",
      "\n",
      "\n",
      "Testing configuration 180/180:\n",
      "{'batch_size': 16, 'learning_rate': 0.3, 'max_epochs': 500, 'momentum': 0.4, 'initialization': {'type': 'default'}, 'early_stopping': {'monitor': 'val_loss', 'patience': 20, 'delta': 0.01}, 'task': 'regression', 'trials_train': 1, 'trials_final': 5, 'nesterov': False, 'learning_rate_decay': {'epochs': 100, 'lr_final': 0.01}, 'regularization': {'method': 'l1', 'value': 1e-05}, 'units_1': 50, 'activations_1': 'tanh', 'units_2': 50, 'activations_2': 'relu', 'units_3': 50, 'activations_3': 'tanh'}\n",
      "\n",
      "Executing fold 1/4\n"
     ]
    },
    {
     "name": "stderr",
     "output_type": "stream",
     "text": [
      "100%|█████████████████████████████████████████████| 1/1 [00:03<00:00,  3.07s/it]\n"
     ]
    },
    {
     "name": "stdout",
     "output_type": "stream",
     "text": [
      "Fold 1/4 median val_loss: 0.090660460293293, std val_loss 0.0\n",
      "Fold 1/4 median train_loss: 0.07689006626605988, std train_loss 0.0\n",
      "Fold 1/4 median val_mee: 0.2924498915672302, std val_mee 0.0\n",
      "Fold 1/4 median train_mee: 0.27985790371894836, train_mee 0.0\n",
      "\n",
      "Executing fold 2/4\n"
     ]
    },
    {
     "name": "stderr",
     "output_type": "stream",
     "text": [
      "100%|█████████████████████████████████████████████| 1/1 [00:02<00:00,  2.50s/it]\n"
     ]
    },
    {
     "name": "stdout",
     "output_type": "stream",
     "text": [
      "Fold 2/4 median val_loss: nan, std val_loss nan\n",
      "Fold 2/4 median train_loss: nan, std train_loss nan\n",
      "Fold 2/4 median val_mee: nan, std val_mee nan\n",
      "Fold 2/4 median train_mee: nan, train_mee nan\n",
      "\n",
      "Executing fold 3/4\n"
     ]
    },
    {
     "name": "stderr",
     "output_type": "stream",
     "text": [
      "100%|█████████████████████████████████████████████| 1/1 [00:03<00:00,  3.89s/it]\n"
     ]
    },
    {
     "name": "stdout",
     "output_type": "stream",
     "text": [
      "Fold 3/4 median val_loss: 0.098078653216362, std val_loss 0.0\n",
      "Fold 3/4 median train_loss: 0.07389988005161285, std train_loss 0.0\n",
      "Fold 3/4 median val_mee: 0.3236875534057617, std val_mee 0.0\n",
      "Fold 3/4 median train_mee: 0.2750220000743866, train_mee 0.0\n",
      "\n",
      "Executing fold 4/4\n"
     ]
    },
    {
     "name": "stderr",
     "output_type": "stream",
     "text": [
      "100%|█████████████████████████████████████████████| 1/1 [00:03<00:00,  3.05s/it]\n"
     ]
    },
    {
     "name": "stdout",
     "output_type": "stream",
     "text": [
      "Fold 4/4 median val_loss: 0.08640731871128082, std val_loss 0.0\n",
      "Fold 4/4 median train_loss: 0.07734278589487076, std train_loss 0.0\n",
      "Fold 4/4 median val_mee: 0.3008780777454376, std val_mee 0.0\n",
      "Fold 4/4 median train_mee: 0.2780442535877228, train_mee 0.0\n",
      "\n",
      "Mean val_loss: nan, std val_loss: nan\n",
      "Mean train_loss: nan, std train_loss: nan\n",
      "Mean val_mee: nan, std val_mee: nan\n",
      "Mean train_mee: nan, std train_mee: nan\n",
      "\n",
      "\n",
      "\n",
      "\n",
      "\n",
      "\n",
      "Best configuration (loss 0.0910266824066639):\n",
      "{'batch_size': 16, 'learning_rate': 0.3, 'max_epochs': 500, 'momentum': 0.1, 'initialization': {'type': 'default'}, 'early_stopping': {'monitor': 'val_loss', 'patience': 20, 'delta': 0.01}, 'task': 'regression', 'trials_train': 1, 'trials_final': 5, 'nesterov': False, 'learning_rate_decay': {'epochs': 100, 'lr_final': 0.01}, 'regularization': {'method': 'l1', 'value': 1e-05}, 'units_1': 50, 'activations_1': 'tanh', 'units_2': 50, 'activations_2': 'relu', 'units_3': 50, 'activations_3': 'tanh'}\n"
     ]
    },
    {
     "name": "stderr",
     "output_type": "stream",
     "text": [
      " 20%|█████████                                    | 1/5 [00:06<00:25,  6.41s/it]"
     ]
    },
    {
     "name": "stdout",
     "output_type": "stream",
     "text": [
      "Trial 1/5 val_mse: 0.08223575353622437\n",
      "Trial 1/5 train_mse: 0.0780102089047432\n",
      "Trial 1/5 val_mee: 0.291414737701416\n",
      "Trial 1/5 train_mee: 0.2807501554489136\n"
     ]
    },
    {
     "name": "stderr",
     "output_type": "stream",
     "text": [
      "\r",
      " 40%|██████████████████                           | 2/5 [00:12<00:19,  6.35s/it]"
     ]
    },
    {
     "name": "stdout",
     "output_type": "stream",
     "text": [
      "Trial 2/5 val_mse: 0.08029159903526306\n",
      "Trial 2/5 train_mse: 0.07566089183092117\n",
      "Trial 2/5 val_mee: 0.28838613629341125\n",
      "Trial 2/5 train_mee: 0.2789340913295746\n"
     ]
    },
    {
     "name": "stderr",
     "output_type": "stream",
     "text": [
      "\r",
      " 60%|███████████████████████████                  | 3/5 [00:20<00:13,  6.85s/it]"
     ]
    },
    {
     "name": "stdout",
     "output_type": "stream",
     "text": [
      "Trial 3/5 val_mse: 0.0809483677148819\n",
      "Trial 3/5 train_mse: 0.07850100100040436\n",
      "Trial 3/5 val_mee: 0.28760191798210144\n",
      "Trial 3/5 train_mee: 0.2818412184715271\n"
     ]
    },
    {
     "name": "stderr",
     "output_type": "stream",
     "text": [
      "\r",
      " 80%|████████████████████████████████████         | 4/5 [00:27<00:06,  6.85s/it]"
     ]
    },
    {
     "name": "stdout",
     "output_type": "stream",
     "text": [
      "Trial 4/5 val_mse: 0.08226174116134644\n",
      "Trial 4/5 train_mse: 0.07688885927200317\n",
      "Trial 4/5 val_mee: 0.2910062074661255\n",
      "Trial 4/5 train_mee: 0.2786136269569397\n"
     ]
    },
    {
     "name": "stderr",
     "output_type": "stream",
     "text": [
      "100%|█████████████████████████████████████████████| 5/5 [00:33<00:00,  6.64s/it]"
     ]
    },
    {
     "name": "stdout",
     "output_type": "stream",
     "text": [
      "Trial 5/5 val_mse: 0.08133494853973389\n",
      "Trial 5/5 train_mse: 0.07862620800733566\n",
      "Trial 5/5 val_mee: 0.2864685654640198\n",
      "Trial 5/5 train_mee: 0.281838595867157\n",
      "\n",
      "Median val_mse: 0.08133494853973389, std val_mse: 0.0007585234700768688\n",
      "Median train_mse: 0.07862620800733566, std train_mse: 0.0011206664092405\n",
      "Median val_mee: 0.2864685654640198, std val_mee: 0.0019283387297035336\n",
      "Median train_mee: 0.281838595867157, std train_mee: 0.0013863040723210397\n",
      "8/8 [==============================] - 0s 1ms/step\n",
      "\n",
      "Validation MSE: 3.3223074635134147\n",
      "Validation MEE: 1.4261145494748386\n",
      "\n",
      "Median model train_loss: 0.07862620800733566\n",
      "Median model val_loss: 0.08133494853973389\n",
      "\n",
      "Median model train_mee: 0.281838595867157\n",
      "Median model val_mee: 0.2864685654640198\n"
     ]
    },
    {
     "name": "stderr",
     "output_type": "stream",
     "text": [
      "\n"
     ]
    },
    {
     "data": {
      "image/png": "[encoded data removed]",
      "text/plain": [
       "<Figure size 640x480 with 1 Axes>"
      ]
     },
     "metadata": {},
     "output_type": "display_data"
    },
    {
     "data": {
      "image/png": "[encoded data removed]",
      "text/plain": [
       "<Figure size 640x480 with 1 Axes>"
      ]
     },
     "metadata": {},
     "output_type": "display_data"
    }
   ],
   "source": [
    "model = grid_search(params, x_train, y_train, x_test, y_test, k_fold_val)"
   ]
  },
  {
   "cell_type": "code",
   "execution_count": 104,
   "id": "90961aa4",
   "metadata": {},
   "outputs": [
    {
     "name": "stdout",
     "output_type": "stream",
     "text": [
      "38/38 [==============================] - 0s 1ms/step\n",
      "10/10 [==============================] - 0s 1ms/step\n",
      "Train MSE: 3.0888443902404865\n",
      "Train MEE: 1.3681249114654874\n",
      "Test MSE: 3.4705514251031553\n",
      "Test MEE: 1.4998818267443181\n"
     ]
    },
    {
     "data": {
      "image/png": "[encoded data removed]",
      "text/plain": [
       "<Figure size 640x480 with 1 Axes>"
      ]
     },
     "metadata": {},
     "output_type": "display_data"
    },
    {
     "data": {
      "image/png": "[encoded data removed]",
      "text/plain": [
       "<Figure size 640x480 with 1 Axes>"
      ]
     },
     "metadata": {},
     "output_type": "display_data"
    }
   ],
   "source": [
    "assess_model(model, x_train, y_train, x_test, y_test, True)"
   ]
  },
  {
   "cell_type": "code",
   "execution_count": 105,
   "id": "03e0db07",
   "metadata": {},
   "outputs": [],
   "source": [
    "model.save(\"./../models/keras_model.hdf5\")"
   ]
  },
  {
   "cell_type": "code",
   "execution_count": 106,
   "id": "b317f7c2",
   "metadata": {},
   "outputs": [
    {
     "name": "stdout",
     "output_type": "stream",
     "text": [
      "38/38 [==============================] - 0s 1ms/step\n"
     ]
    },
    {
     "data": {
      "image/png": "[encoded data removed]",
      "text/plain": [
       "<Figure size 640x480 with 1 Axes>"
      ]
     },
     "metadata": {},
     "output_type": "display_data"
    }
   ],
   "source": [
    "# y_train_rescaled = scaler.inverse_transform(y_train)\n",
    "# print(y_train.shape)\n",
    "\n",
    "plt.scatter(y_train[:, 0], y_train[:, 1], label=\"True\")\n",
    "pred = model.predict(x_train)\n",
    "# pred = scaler.inverse_transform(pred)\n",
    "plt.scatter(pred[:, 0], pred[:, 1], label = \"Predicted\")\n",
    "plt.legend()\n",
    "plt.show()"
   ]
  },
  {
   "cell_type": "code",
   "execution_count": 107,
   "id": "8763cc51",
   "metadata": {},
   "outputs": [
    {
     "name": "stdout",
     "output_type": "stream",
     "text": [
      "10/10 [==============================] - 0s 2ms/step\n"
     ]
    },
    {
     "data": {
      "image/png": "[encoded data removed]",
      "text/plain": [
       "<Figure size 640x480 with 1 Axes>"
      ]
     },
     "metadata": {},
     "output_type": "display_data"
    }
   ],
   "source": [
    "plt.scatter(y_test[:, 0], y_test[:, 1], label=\"True\")\n",
    "pred = model.predict(x_test)\n",
    "# pred = scaler.inverse_transform(pred)\n",
    "plt.scatter(pred[:, 0], pred[:, 1], label = \"Predicted\")\n",
    "plt.legend()\n",
    "plt.show()"
   ]
  },
  {
   "cell_type": "code",
   "execution_count": null,
   "id": "3df8b273",
   "metadata": {},
   "outputs": [],
   "source": []
  }
 ],
 "metadata": {
  "kernelspec": {
   "display_name": "mlvenv",
   "language": "python",
   "name": "mlvenv"
  },
  "language_info": {
   "codemirror_mode": {
    "name": "ipython",
    "version": 3
   },
   "file_extension": ".py",
   "mimetype": "text/x-python",
   "name": "python",
   "nbconvert_exporter": "python",
   "pygments_lexer": "ipython3",
   "version": "3.10.6"
  }
 },
 "nbformat": 4,
 "nbformat_minor": 5
}
