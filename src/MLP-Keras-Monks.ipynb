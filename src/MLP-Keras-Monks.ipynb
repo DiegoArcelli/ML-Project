{
 "cells": [
  {
   "cell_type": "code",
   "execution_count": 1,
   "id": "d37f696d",
   "metadata": {},
   "outputs": [
    {
     "name": "stderr",
     "output_type": "stream",
     "text": [
      "2023-01-15 15:21:08.553913: I tensorflow/core/platform/cpu_feature_guard.cc:193] This TensorFlow binary is optimized with oneAPI Deep Neural Network Library (oneDNN) to use the following CPU instructions in performance-critical operations:  AVX2 FMA\n",
      "To enable them in other operations, rebuild TensorFlow with the appropriate compiler flags.\n",
      "2023-01-15 15:21:16.559810: E tensorflow/stream_executor/cuda/cuda_blas.cc:2981] Unable to register cuBLAS factory: Attempting to register factory for plugin cuBLAS when one has already been registered\n",
      "2023-01-15 15:21:43.072098: W tensorflow/stream_executor/platform/default/dso_loader.cc:64] Could not load dynamic library 'libnvinfer.so.7'; dlerror: libnvinfer.so.7: cannot open shared object file: No such file or directory\n",
      "2023-01-15 15:21:43.072594: W tensorflow/stream_executor/platform/default/dso_loader.cc:64] Could not load dynamic library 'libnvinfer_plugin.so.7'; dlerror: libnvinfer_plugin.so.7: cannot open shared object file: No such file or directory\n",
      "2023-01-15 15:21:43.072636: W tensorflow/compiler/tf2tensorrt/utils/py_utils.cc:38] TF-TRT Warning: Cannot dlopen some TensorRT libraries. If you would like to use Nvidia GPU with TensorRT, please make sure the missing libraries mentioned above are installed properly.\n"
     ]
    }
   ],
   "source": [
    "import warnings\n",
    "warnings.filterwarnings('ignore')\n",
    "from tqdm import tqdm\n",
    "import pandas as pd\n",
    "import numpy as np\n",
    "import tensorflow as tf\n",
    "from sklearn.model_selection import GridSearchCV\n",
    "from tensorflow.keras.models import Sequential\n",
    "from keras.regularizers import l1, l2\n",
    "from tensorflow.keras import initializers\n",
    "from tensorflow.keras.layers import Dense, Input\n",
    "from tensorflow.keras.callbacks import EarlyStopping\n",
    "from scikeras.wrappers import KerasClassifier\n",
    "from sklearn.model_selection import KFold\n",
    "import keras_tuner\n",
    "import keras\n",
    "from keras import layers\n",
    "import itertools\n",
    "from sklearn.model_selection import train_test_split\n",
    "from keras.optimizers import SGD\n",
    "from keras.callbacks import EarlyStopping\n",
    "from keras.callbacks import LearningRateScheduler\n",
    "import matplotlib.pyplot as plt\n",
    "from sklearn.model_selection import KFold, StratifiedKFold\n",
    "from sklearn.preprocessing import OneHotEncoder\n",
    "import keras.backend as K\n",
    "from sklearn.preprocessing import StandardScaler, MinMaxScaler\n",
    "from math import ceil\n",
    "from keras.losses import mean_squared_error\n",
    "import random\n",
    "\n",
    "seed = 42"
   ]
  },
  {
   "cell_type": "code",
   "execution_count": 2,
   "id": "6d8327a6",
   "metadata": {},
   "outputs": [],
   "source": [
    "def plot_curves(curve_1, label_1, curve_2=None, label_2=None):\n",
    "    if curve_1 is not None: \n",
    "        plt.plot(curve_1, label = label_1, color=\"black\")\n",
    "    if curve_2 is not None: \n",
    "        plt.plot(curve_2, label = label_2, linestyle='dashed', color=\"grey\")   \n",
    "    plt.legend()\n",
    "    plt.show()\n",
    "    \n",
    "def set_random_seeds():\n",
    "    random.seed(seed)\n",
    "    np.random.seed(seed)\n",
    "    tf.random.set_seed(seed)\n",
    "    tf.keras.utils.set_random_seed(seed)"
   ]
  },
  {
   "cell_type": "code",
   "execution_count": 3,
   "id": "d60634f7",
   "metadata": {},
   "outputs": [],
   "source": [
    "x_scaler = None\n",
    "y_scaler = None\n",
    "\n",
    "def load_monks(path, encode):\n",
    "    \n",
    "    train = pd.read_csv(f\"{path}.train\", header=None, sep=\" \")\n",
    "    test = pd.read_csv(f\"{path}.test\", header=None, sep=\" \")\n",
    "    \n",
    "    train.drop(0, axis=1, inplace=True)\n",
    "    test.drop(0, axis=1, inplace=True)\n",
    "    train.drop(8, axis=1, inplace=True)\n",
    "    test.drop(8, axis=1, inplace=True)\n",
    "    \n",
    "    y_train = train.iloc[:, 0].to_numpy().astype(np.float64)\n",
    "    x_train = train.iloc[:, 1:].to_numpy().astype(np.float64)\n",
    "    y_test = test.iloc[:, 0].to_numpy().astype(np.float64)\n",
    "    x_test = test.iloc[:, 1:].to_numpy().astype(np.float64)\n",
    "    \n",
    "        \n",
    "    if encode:\n",
    "        \n",
    "        encoder = OneHotEncoder()\n",
    "        \n",
    "        encoder.fit(x_train)\n",
    "        x_train = encoder.transform(x_train).toarray()\n",
    "        x_test = encoder.transform(x_test).toarray()\n",
    "        \n",
    "        \n",
    "    \n",
    "    print(f\"Loaded {path} dataset\")\n",
    "    \n",
    "    return x_train, y_train, x_test, y_test\n",
    "    \n",
    "\n",
    "def load_cup(scale):\n",
    "    global x_scaler\n",
    "    global y_scaler\n",
    "    \n",
    "    x_scaler = MinMaxScaler()\n",
    "    y_scaler = MinMaxScaler()\n",
    "    # scaler = MinMaxScaler()\n",
    "    \n",
    "    train = pd.read_csv(\"../data/ML-CUP22-INTERNAL-TR.csv\", header=None, sep=\",\")\n",
    "    test = pd.read_csv(\"../data/ML-CUP22-INTERNAL-TS.csv\", header=None, sep=\",\")\n",
    "    train.drop(0, axis=1, inplace=True)\n",
    "    test.drop(0, axis=1, inplace=True)\n",
    "\n",
    "    x_train = train.iloc[:, :9].to_numpy().astype(np.float64)\n",
    "    y_train = train.iloc[:, 9:].to_numpy().astype(np.float64)\n",
    "\n",
    "    x_test = test.iloc[:, :9].to_numpy().astype(np.float64)\n",
    "    y_test = test.iloc[:, 9:].to_numpy().astype(np.float64) \n",
    "    # x_test_blind = test.to_numpy().astype(np.float64)\n",
    "    \n",
    "    # x_train, x_test, y_train, y_test = train_test_split(x_train, y_train, test_size=0.1, shuffle=True, random_state=7)\n",
    "    \n",
    "    if scale:\n",
    "        x_scaler.fit(x_train)\n",
    "        x_train = x_scaler.transform(x_train)\n",
    "        x_test = x_scaler.transform(x_test)\n",
    "        \n",
    "        y_scaler.fit(y_train)\n",
    "        y_train = y_scaler.transform(y_train)\n",
    "        y_test = y_scaler.transform(y_test)\n",
    "        \n",
    "        \n",
    "    return x_train, y_train, x_test, y_test #, x_test_blind\n",
    "    \n",
    "    \n",
    "    \n",
    "def load_dataset(dataset, encode=True):\n",
    "    assert dataset in [\"monks1\", \"monks2\", \"monks3\", \"cup\"]\n",
    "    \n",
    "    if dataset == \"monks1\":\n",
    "        return load_monks(\"./../data/monks-1\", encode)\n",
    "    elif dataset == \"monks2\":\n",
    "        return load_monks(\"./../data/monks-2\", encode)\n",
    "    elif dataset == \"monks3\":\n",
    "        return load_monks(\"./../data/monks-3\", encode)\n",
    "    else:\n",
    "        return load_cup(encode)"
   ]
  },
  {
   "cell_type": "code",
   "execution_count": 4,
   "id": "68a4b4e1",
   "metadata": {},
   "outputs": [],
   "source": [
    "def median_index(array):\n",
    "    n = len(array)\n",
    "    med_idx = np.argsort(array)[ceil((n-1)/2)]\n",
    "    # med_val = array[med_idx]\n",
    "    return med_idx #, med_val\n",
    "\n",
    "def mee(y_true_t, y_pred_t):\n",
    "    return tf.reduce_mean(tf.sqrt(tf.reduce_sum(tf.square(y_true_t - y_pred_t), axis=1)))\n",
    "    \n",
    "    \n",
    "def mse(y_true_t, y_pred_t):\n",
    "    return tf.reduce_mean(tf.reduce_sum(tf.square(y_true_t - y_pred_t), axis=1))\n",
    "\n",
    "\n",
    "def merge_dicts(dicts):\n",
    "    merged = {}\n",
    "    for d in dicts:\n",
    "        merged = {**merged, **d}\n",
    "    return merged\n",
    "\n",
    "\n",
    "def get_attributes_num(dataset):\n",
    "    return 1 if len(dataset.shape) == 1 else dataset.shape[1]\n",
    "\n",
    "\n",
    "def get_params_configurations(params):\n",
    "    \n",
    "    keys = list(params.keys())\n",
    "    keys.remove(\"layers\")\n",
    "    keys.remove(\"task\")\n",
    "    keys.remove(\"initialization\")\n",
    "    keys.remove(\"early_stopping\")\n",
    "    keys.remove(\"regularization\")\n",
    "    keys.remove(\"nesterov\")\n",
    "    keys.remove(\"trials_train\")\n",
    "    keys.remove(\"trials_final\")\n",
    "    keys.remove(\"learning_rate_decay\")\n",
    "    sorted_keys = sorted(keys)\n",
    "    arguments = []\n",
    "    for key in sorted_keys:\n",
    "        arguments.append(params[key])\n",
    "    \n",
    "    arguments = tuple(arguments)\n",
    "    all_params = list(itertools.product(*arguments))\n",
    "        \n",
    "    configurations = []\n",
    "    \n",
    "    for conf in all_params:\n",
    "        \n",
    "        dict_conf = {}\n",
    "        \n",
    "        for i in range(len(sorted_keys)):\n",
    "            dict_conf[sorted_keys[i]] = conf[i]\n",
    "        dict_conf[\"initialization\"] = params[\"initialization\"]\n",
    "        dict_conf[\"early_stopping\"] = params[\"early_stopping\"]\n",
    "        dict_conf[\"task\"] = params[\"task\"]\n",
    "        dict_conf[\"trials_train\"] = params[\"trials_train\"]\n",
    "        dict_conf[\"trials_final\"] = params[\"trials_final\"]\n",
    "        dict_conf[\"nesterov\"] = params[\"nesterov\"]\n",
    "        dict_conf[\"learning_rate_decay\"] = params[\"learning_rate_decay\"]\n",
    "        \n",
    "        # add regularization parameters\n",
    "        for reg in params[\"regularization\"]:\n",
    "            method = reg[\"type\"]\n",
    "            \n",
    "            if method == None:\n",
    "                reg_dict_conf = dict_conf.copy()\n",
    "                reg_dict_conf[\"regularization\"] = {\n",
    "                    \"method\": None\n",
    "                }\n",
    "                configurations.append(reg_dict_conf)\n",
    "                continue\n",
    "            \n",
    "            for val in reg[\"value\"]:\n",
    "                reg_dict_conf = dict_conf.copy()\n",
    "                reg_dict_conf[\"regularization\"] = {\n",
    "                    \"method\": method,\n",
    "                    \"value\": val\n",
    "                }\n",
    "        \n",
    "                configurations.append(reg_dict_conf)\n",
    "            \n",
    "        \n",
    "    return configurations\n",
    "\n",
    "\n",
    "def get_callbacks(config):\n",
    "    \n",
    "    lr_decay = config[\"learning_rate_decay\"]\n",
    "    early_stopping = config[\"early_stopping\"]\n",
    "    \n",
    "    callbacks = []\n",
    "    \n",
    "    if early_stopping != None:\n",
    "        early_stop = EarlyStopping(\n",
    "            monitor=early_stopping[\"monitor\"], \n",
    "            patience=early_stopping[\"patience\"], \n",
    "            min_delta=early_stopping[\"delta\"], \n",
    "        )\n",
    "        callbacks.append(early_stop)\n",
    "\n",
    "    if lr_decay != None:\n",
    "        decay_epochs = lr_decay[\"epochs\"]\n",
    "        lr_final = lr_decay[\"lr_final\"]\n",
    "        linear_scheduler = get_linear_scheduler(decay_epochs, lr_final)\n",
    "        scheduler = LearningRateScheduler(linear_scheduler)\n",
    "        callbacks.append(scheduler)\n",
    "        \n",
    "    return callbacks if callbacks != [] else None\n",
    "        \n",
    "    \n",
    "class TestCallback(tf.keras.callbacks.Callback):\n",
    "    def __init__(self, x_test, y_test, task):\n",
    "        self.x_test = x_test\n",
    "        self.y_test = y_test\n",
    "        self.task = task\n",
    "\n",
    "    def on_epoch_end(self, epoch, logs):        \n",
    "        if self.task == \"classification\":\n",
    "            loss, acc = self.model.evaluate(self.x_test, self.y_test, verbose=0)\n",
    "            logs['test_accuracy'] = acc\n",
    "            logs[\"test_loss\"] = loss\n",
    "        if self.task == \"regression\":\n",
    "            mse_test, mee_test = self.model.evaluate(self.x_test, self.y_test, verbose=0)\n",
    "            logs['test_mse'] = mse_test\n",
    "            logs[\"test_mee\"] = mee_test\n",
    "\n",
    "\n",
    "def get_layers_configurations(params, configurations):\n",
    "    layers = params[\"layers\"]\n",
    "    layers_params_confs = []\n",
    "    \n",
    "    for n_layer in range(len(layers)):\n",
    "        layers_params_confs.append([]) \n",
    "    \n",
    "    for i in range(len(layers)):\n",
    "        layer = layers[i]\n",
    "        activations = layer[\"activations\"]\n",
    "        units = layer[\"units\"]\n",
    "        layer_confs = list(itertools.product(activations, units))\n",
    "        for conf in layer_confs:\n",
    "            conf_dict = {\n",
    "                f\"activations_{i+1}\": conf[0],\n",
    "                f\"units_{i+1}\": conf[1]\n",
    "            }\n",
    "            layers_params_confs[i].append(conf_dict)\n",
    "        \n",
    "    layers_confs = []\n",
    "    for i in range(len(layers_params_confs)):\n",
    "        confs = layers_params_confs[:i+1]\n",
    "        confs = tuple(confs)\n",
    "        confs = list(itertools.product(*confs))\n",
    "        for conf in confs:\n",
    "            layers_confs.append(merge_dicts(conf))\n",
    "                \n",
    "    return layers_confs\n",
    "\n",
    "\n",
    "\n",
    "def get_configurations(params):\n",
    "    \n",
    "    configurations = get_params_configurations(params)\n",
    "    layers_confs = get_layers_configurations(params, configurations)\n",
    "    configurations = list(itertools.product(configurations, layers_confs))\n",
    "    configurations_merged = []\n",
    "    \n",
    "    for conf in configurations:\n",
    "        configurations_merged.append(merge_dicts(conf))\n",
    "        \n",
    "    \n",
    "    return configurations_merged\n",
    "\n",
    "            \n",
    "\n",
    "def get_linear_scheduler(epochs, lr_final):\n",
    "    \n",
    "    def linear_scheduler(epoch, lr):\n",
    "        if (epoch < epochs):\n",
    "            alpha = epoch/epochs\n",
    "            return (1-alpha)*lr + alpha*lr_final\n",
    "        else:\n",
    "            return lr_final\n",
    "        \n",
    "    return linear_scheduler\n",
    "    \n",
    "\n",
    "def get_model(config, input_size, output_size):\n",
    "    \n",
    "    lr = config[\"learning_rate\"]\n",
    "    momentum = config[\"momentum\"]\n",
    "    init_method = config[\"initialization\"][\"type\"]\n",
    "    task = config[\"task\"]\n",
    "    nesterov = config[\"nesterov\"]\n",
    "    \n",
    "    reg_method = config[\"regularization\"][\"method\"]\n",
    "    \n",
    "    if reg_method == \"l1\":\n",
    "        reg_value = config[\"regularization\"][\"value\"]\n",
    "        reg = l1(reg_value)\n",
    "    elif reg_method == \"l2\":\n",
    "        reg_value = config[\"regularization\"][\"value\"]\n",
    "        reg = l2(reg_value)\n",
    "    else:\n",
    "        reg = None\n",
    "    \n",
    "    \n",
    "    init = None\n",
    "    if init_method == \"uniform\":\n",
    "        min_val = config[\"initialization\"][\"min\"]\n",
    "        max_val = config[\"initialization\"][\"max\"]\n",
    "        init = initializers.RandomUniform(minval=min_val, maxval=max_val, seed=None)\n",
    "    if init_method == \"normal\":\n",
    "        mean = config[\"initialization\"][\"mean\"]\n",
    "        std = config[\"initialization\"][\"std\"]\n",
    "        init = initializers.RandomNormal(mean=mean, stddev=std, seed=None)\n",
    "        \n",
    "    \n",
    "    if momentum != None:\n",
    "        optimizer = SGD(learning_rate=lr, momentum=momentum, nesterov=nesterov)\n",
    "    else:\n",
    "        optimizer = SGD(learning_rate=lr)\n",
    "    \n",
    "    n_layers = 0\n",
    "    for key in config.keys():\n",
    "        if key.startswith(\"units_\"):\n",
    "            n_layers += 1\n",
    "\n",
    "    model = Sequential()\n",
    "    model.add(Input(input_size))\n",
    "    \n",
    "    for l in range(1,n_layers+1):\n",
    "        activation = config[f\"activations_{l}\"]\n",
    "        n_units = config[f\"units_{l}\"]\n",
    "        \n",
    "        if init != None:\n",
    "            model.add(Dense(n_units, activation=activation,\n",
    "                            kernel_regularizer=reg, bias_regularizer=reg,\n",
    "                            kernel_initializer = init, bias_initializer=init))\n",
    "        else:\n",
    "            model.add(Dense(n_units, activation=activation,\n",
    "                            kernel_regularizer=reg, bias_regularizer=reg))\n",
    "\n",
    "        \n",
    "        \n",
    "    if task == \"classification\":\n",
    "        \n",
    "        if init != None:\n",
    "            model.add(Dense(output_size, activation=\"sigmoid\",\n",
    "                            kernel_regularizer=reg, bias_regularizer=reg,\n",
    "                            kernel_initializer = init, bias_initializer=init))\n",
    "        else:\n",
    "            model.add(Dense(output_size, activation=\"sigmoid\",\n",
    "                            kernel_regularizer=reg, bias_regularizer=reg))\n",
    "        \n",
    "        model.compile(optimizer = optimizer, loss = 'mean_squared_error', metrics = ['accuracy'])\n",
    "        \n",
    "    elif task == \"regression\":\n",
    "        \n",
    "        if init != None:\n",
    "            model.add(Dense(output_size, activation=\"linear\",\n",
    "                            kernel_regularizer=reg, bias_regularizer=reg,\n",
    "                            kernel_initializer = init, bias_initializer = init))\n",
    "        else:\n",
    "            model.add(Dense(output_size, activation=\"linear\",\n",
    "                            kernel_regularizer=reg, bias_regularizer=reg))\n",
    "        \n",
    "        model.compile(optimizer = optimizer, loss = 'mean_squared_error', metrics = [mee])\n",
    "        \n",
    "    return model\n",
    "    \n",
    "    \n",
    "def fit_model_k_fold(x_train, y_train, config, n_folds):\n",
    "    \n",
    "    task = config[\"task\"]\n",
    "    \n",
    "    if task == \"classification\":\n",
    "        train_metric = \"accuracy\"\n",
    "        val_metric = \"val_accuracy\"\n",
    "    elif task == \"regression\":\n",
    "        train_metric = \"mee\"\n",
    "        val_metric = \"val_mee\"\n",
    "    \n",
    "    trials = config[\"trials_train\"]\n",
    "    max_epochs = config[\"max_epochs\"]\n",
    "    batch_size = config[\"batch_size\"]\n",
    "    \n",
    "    callbacks = get_callbacks(config)\n",
    "\n",
    "    \n",
    "    kf = KFold(n_splits = n_folds, shuffle=True)\n",
    "\n",
    "    train_losses = []\n",
    "    val_losses = []\n",
    "    train_accs = []\n",
    "    val_accs = []\n",
    "\n",
    "    fold = 1\n",
    "    for train_index, val_index in kf.split(x_train, y_train):\n",
    "        \n",
    "        print(f\"\\nExecuting fold {fold}/{n_folds}\")\n",
    "        \n",
    "        input_size = get_attributes_num(x_train)\n",
    "        output_size = get_attributes_num(y_train)\n",
    "        \n",
    "                \n",
    "        x_train_fold = x_train[train_index]\n",
    "        y_train_fold = y_train[train_index]\n",
    "\n",
    "        x_val_fold = x_train[val_index]\n",
    "        y_val_fold = y_train[val_index]\n",
    "\n",
    "        \n",
    "        trials_val_loss = []\n",
    "        trials_train_loss = []\n",
    "        trials_val_acc = []\n",
    "        trials_train_acc = []\n",
    "        \n",
    "        with tqdm(total=trials) as pbar:\n",
    "            for trial in range(trials):\n",
    "                model = get_model(config, input_size, output_size)\n",
    "                history = model.fit(x_train_fold, y_train_fold, epochs=max_epochs,\n",
    "                                    validation_data=(x_val_fold, y_val_fold),\n",
    "                                    callbacks=callbacks, verbose = 0)\n",
    "\n",
    "                trial_train_loss = history.history[\"loss\"]\n",
    "                trial_val_loss = history.history[\"val_loss\"]         \n",
    "                trial_train_acc = history.history[train_metric]\n",
    "                trial_val_acc = history.history[val_metric]\n",
    "\n",
    "                trials_val_loss.append(trial_val_loss[-1])\n",
    "                trials_train_loss.append(trial_train_loss[-1])\n",
    "                trials_val_acc.append(trial_val_acc[-1])\n",
    "                trials_train_acc.append(trial_train_acc[-1])\n",
    "\n",
    "                pbar.update(1)\n",
    "            \n",
    "        # get the median metrics among the trials\n",
    "        med_idx = median_index(trials_val_loss)\n",
    "        med_val_loss = trials_val_loss[med_idx]\n",
    "        med_train_loss = trials_train_loss[med_idx]\n",
    "        med_val_acc = trials_val_acc[med_idx]\n",
    "        med_train_acc = trials_train_acc[med_idx]\n",
    "        std_val_loss = np.std(trials_val_loss)\n",
    "        std_train_loss = np.std(trials_train_loss)\n",
    "        std_val_acc = np.std(trials_val_acc)\n",
    "        std_train_acc = np.std(trials_train_acc)\n",
    "\n",
    "        print(f\"Fold {fold}/{n_folds} median val_loss: {med_val_loss}, std val_loss {std_val_loss}\")\n",
    "        print(f\"Fold {fold}/{n_folds} median train_loss: {med_train_loss}, std train_loss {std_train_loss}\")\n",
    "        print(f\"Fold {fold}/{n_folds} median {val_metric}: {med_val_acc}, std {val_metric} {std_val_acc}\")\n",
    "        print(f\"Fold {fold}/{n_folds} median train_{train_metric}: {med_train_acc}, train_{train_metric} {std_train_acc}\")\n",
    "            \n",
    "        train_losses.append(med_train_loss)\n",
    "        val_losses.append(med_val_loss)\n",
    "        val_accs.append(med_val_acc)\n",
    "        train_accs.append(med_train_acc)\n",
    "        \n",
    "        fold += 1\n",
    "        \n",
    "    mean_train_loss = np.mean(train_losses)\n",
    "    mean_val_loss = np.mean(val_losses)\n",
    "    mean_train_acc = np.mean(train_accs)\n",
    "    mean_val_acc = np.mean(val_accs)\n",
    "    std_train_loss = np.std(train_losses)\n",
    "    std_val_loss = np.std(val_losses)\n",
    "    std_train_acc = np.std(train_accs)\n",
    "    std_val_acc = np.std(val_accs)\n",
    "    \n",
    "    print(f\"\\nMean val_loss: {mean_val_loss}, std val_loss: {std_val_loss}\")\n",
    "    print(f\"Mean train_loss: {mean_train_loss}, std train_loss: {std_train_loss}\")\n",
    "    print(f\"Mean {val_metric}: {mean_val_acc}, std {val_metric}: {std_val_acc}\")\n",
    "    print(f\"Mean train_{train_metric}: {mean_val_acc}, std train_{train_metric}: {std_train_acc}\")\n",
    "    \n",
    "    return mean_val_loss\n",
    "\n",
    "\n",
    "\n",
    "\n",
    "def fit_model_hold_out(x_train, y_train, config, val_split):\n",
    "    \n",
    "    task = config[\"task\"]\n",
    "    \n",
    "    if task == \"classification\":\n",
    "        train_metric = \"accuracy\"\n",
    "        val_metric = \"val_accuracy\"\n",
    "    elif task == \"regression\":\n",
    "        train_metric = \"mee\"\n",
    "        val_metric = \"val_mee\"\n",
    "        \n",
    "    trials = config[\"trials_train\"]\n",
    "    input_size = get_attributes_num(x_train)\n",
    "    output_size = get_attributes_num(y_train)\n",
    "    \n",
    "    \n",
    "    max_epochs = config[\"max_epochs\"]\n",
    "    batch_size = config[\"batch_size\"]\n",
    "\n",
    "    \n",
    "    callbacks = get_callbacks(config)\n",
    "    \n",
    "    if task == \"classification\":\n",
    "        stratify = y_train\n",
    "    else:\n",
    "        stratify = None\n",
    "        \n",
    "        \n",
    "    x_train, x_val, y_train, y_val = train_test_split(x_train, y_train, test_size=val_split, shuffle=True, stratify=stratify)\n",
    "\n",
    "    \n",
    "    trials_val_loss = []\n",
    "    trials_train_loss = []\n",
    "    trials_val_acc = []\n",
    "    trials_train_acc = []\n",
    "        \n",
    "    with tqdm(total=trials) as pbar:\n",
    "        for trial in range(trials):            \n",
    "            model = get_model(config, input_size, output_size)\n",
    "            history = model.fit(x_train, y_train, epochs=max_epochs, batch_size=batch_size,\n",
    "                                verbose=0, validation_data=(x_val, y_val), callbacks=callbacks)\n",
    "            \n",
    "\n",
    "            trial_train_loss = history.history[\"loss\"]\n",
    "            trial_val_loss = history.history[\"val_loss\"]         \n",
    "            trial_train_acc = history.history[train_metric]\n",
    "            trial_val_acc = history.history[val_metric]\n",
    "            \n",
    "            trials_val_loss.append(trial_val_loss[-1])\n",
    "            trials_train_loss.append(trial_train_loss[-1])\n",
    "            trials_val_acc.append(trial_val_acc[-1])\n",
    "            trials_train_acc.append(trial_train_acc[-1])\n",
    "            \n",
    "            pbar.update(1)\n",
    "    \n",
    "    # get the median metrics among the trials\n",
    "    med_idx = median_index(trials_val_loss)\n",
    "    med_val_loss = trials_val_loss[med_idx]\n",
    "    med_train_loss = trials_train_loss[med_idx]\n",
    "    med_val_acc = trials_val_acc[med_idx]\n",
    "    med_train_acc = trials_train_acc[med_idx]\n",
    "    std_val_loss = np.std(trials_val_loss)\n",
    "    std_train_loss = np.std(trials_train_loss)\n",
    "    std_val_acc = np.std(trials_val_acc)\n",
    "    std_train_acc = np.std(trials_train_acc)\n",
    "\n",
    "    print(f\"\\nMedian val_loss: {med_val_loss}, std val_loss {std_val_loss}\")\n",
    "    print(f\"Median train_loss: {med_train_loss}, std train_loss {std_train_loss}\")\n",
    "    print(f\"Median {val_metric}: {med_val_acc}, std {val_metric} {std_val_acc}\")\n",
    "    print(f\"Median train_{train_metric}: {med_train_acc}, train_{train_metric} {std_train_acc}\")\n",
    "    \n",
    "    return med_val_loss\n",
    "    \n",
    "    \n",
    "\n",
    "def fit_final_model(x_train, y_train, x_test, y_test, config):\n",
    "    global y_scaler\n",
    "    \n",
    "    task = config[\"task\"]\n",
    "    trails = config[\"trials_final\"]\n",
    "    \n",
    "    if task == \"classification\":\n",
    "        train_metric = \"accuracy\"\n",
    "        val_metric = \"val_accuracy\"\n",
    "        test_metric = \"test_accuracy\"\n",
    "    elif task == \"regression\":\n",
    "        train_metric = \"mee\"\n",
    "        val_metric = \"val_mee\"\n",
    "        test_metric = \"test_mee\"\n",
    "    val_loss = \"val_mse\"\n",
    "    train_loss = \"mse\"\n",
    "    test_loss = \"test_mse\"\n",
    "\n",
    "    max_epochs = config[\"max_epochs\"]\n",
    "    batch_size = config[\"batch_size\"]\n",
    "    trials = config[\"trials_final\"]\n",
    "    \n",
    "    '''if config[\"early_stopping\"][\"monitor\"] == \"val_loss\":\n",
    "        config[\"early_stopping\"][\"monitor\"] = \"loss\"'''\n",
    "        \n",
    "    callbacks = get_callbacks(config)\n",
    "    callbacks.append(TestCallback(x_test, y_test, task))\n",
    "    \n",
    "    input_size = get_attributes_num(x_train)\n",
    "    output_size = get_attributes_num(y_train)\n",
    "    \n",
    "    \n",
    "    trials_val_loss = []\n",
    "    trials_train_loss = []\n",
    "    trials_val_acc = []\n",
    "    trials_train_acc = []\n",
    "    trials_test_acc = []\n",
    "    trials_test_loss = []\n",
    "    \n",
    "    trials_history_val_loss = []\n",
    "    trials_history_train_loss = []\n",
    "    trials_history_val_acc = []\n",
    "    trials_history_train_acc = []\n",
    "    trials_history_test_acc = []\n",
    "    trials_history_test_loss = []\n",
    "    \n",
    "    models = []\n",
    "    \n",
    "    if task == \"classification\":\n",
    "        stratify = y_train\n",
    "    else:\n",
    "        stratify = None\n",
    "    \n",
    "    x_train, x_val, y_train, y_val = train_test_split(x_train, y_train, test_size=0.2, shuffle=True, stratify=stratify)\n",
    "    \n",
    "    with tqdm(total=trials) as pbar:\n",
    "        for trial in range(trials):\n",
    "            \n",
    "            model = get_model(config, input_size, output_size)\n",
    "            history = model.fit(x_train, y_train, epochs=max_epochs, validation_data=(x_val, y_val),\n",
    "                                batch_size=batch_size, verbose=0, callbacks=callbacks)\n",
    "\n",
    "            models.append(model)\n",
    "            \n",
    "            trial_train_loss = history.history[\"loss\"]\n",
    "            trial_val_loss = history.history[\"val_loss\"]\n",
    "            trial_test_loss = history.history[\"test_loss\"]\n",
    "            trial_train_acc = history.history[train_metric]\n",
    "            trial_val_acc = history.history[val_metric]\n",
    "            trial_test_acc = history.history[test_metric]\n",
    "\n",
    "            trials_val_loss.append(trial_val_loss[-1])\n",
    "            trials_train_loss.append(trial_train_loss[-1])\n",
    "            trials_test_loss.append(trial_test_loss[-1])\n",
    "            trials_val_acc.append(trial_val_acc[-1])\n",
    "            trials_train_acc.append(trial_train_acc[-1])\n",
    "            trials_test_acc.append(trial_test_acc[-1])\n",
    "            \n",
    "\n",
    "            trials_history_val_loss.append(trial_val_loss)\n",
    "            trials_history_train_loss.append(trial_train_loss)\n",
    "            trials_history_test_loss.append(trial_test_loss)\n",
    "            trials_history_val_acc.append(trial_val_acc)\n",
    "            trials_history_train_acc.append(trial_train_acc)\n",
    "            trials_history_test_acc.append(trial_test_acc)\n",
    "            \n",
    "\n",
    "            print(f\"Trial {trial+1}/{trials} {val_loss}: {trial_val_loss[-1]}\")\n",
    "            print(f\"Trial {trial+1}/{trials} train_{train_loss}: {trial_train_loss[-1]}\")\n",
    "            # print(f\"Trial {trial+1}/{trials} {test_loss}: {trial_test_loss[-1]}\")\n",
    "            print(f\"Trial {trial+1}/{trials} {val_metric}: {trial_val_acc[-1]}\")\n",
    "            print(f\"Trial {trial+1}/{trials} train_{train_metric}: {trial_train_acc[-1]}\")\n",
    "            # print(f\"Trial {trial+1}/{trials} {test_metric}: {trial_test_acc[-1]}\")\n",
    "\n",
    "            pbar.update(1)\n",
    "        \n",
    "    # get the mean metrics among the trials\n",
    "    med_idx = median_index(trials_val_loss)\n",
    "    med_val_loss = trials_val_loss[med_idx]\n",
    "    med_train_loss = trials_train_loss[med_idx]\n",
    "    med_val_acc = trials_val_acc[med_idx]\n",
    "    med_train_acc = trials_train_acc[med_idx]\n",
    "    std_val_loss = np.std(trials_val_loss)\n",
    "    std_train_loss = np.std(trials_train_loss)\n",
    "    std_val_acc = np.std(trials_val_acc)\n",
    "    std_train_acc = np.std(trials_train_acc)\n",
    "    \n",
    "    print(f\"\\nMedian {val_loss}: {med_val_loss}, std {val_loss}: {std_val_loss}\")\n",
    "    print(f\"Median train_{train_loss}: {med_train_loss}, std train_{train_loss}: {std_train_loss}\")\n",
    "    print(f\"Median {val_metric}: {med_val_acc}, std {val_metric}: {std_val_acc}\")\n",
    "    print(f\"Median train_{train_metric}: {med_train_acc}, std train_{train_metric}: {std_train_acc}\")\n",
    "        \n",
    "    train_acc = trials_history_train_acc[med_idx]\n",
    "    test_acc = trials_history_test_acc[med_idx]\n",
    "    val_acc = trials_history_val_acc[med_idx]\n",
    "    \n",
    "    train_loss = trials_history_train_loss[med_idx]\n",
    "    test_loss = trials_history_test_loss[med_idx]\n",
    "    val_loss = trials_history_val_loss[med_idx]\n",
    "    \n",
    "    \n",
    "    print(f\"\\nMedian model train_loss: {train_loss[-1]}\")\n",
    "    print(f\"Median model val_loss: {val_loss[-1]}\")\n",
    "    print(f\"Median model test_loss: {test_loss[-1]}\")\n",
    "    \n",
    "    print(f\"\\nMedian model train_{train_metric}: {train_acc[-1]}\")\n",
    "    print(f\"Median model {val_metric}: {val_acc[-1]}\")\n",
    "    print(f\"Median model {test_metric}: {test_acc[-1]}\")\n",
    "    \n",
    "    \n",
    "    plot_curves(train_acc, f\"Training {train_metric}\", test_acc, f\"Test {train_metric}\")\n",
    "    plot_curves(train_acc, f\"Training {train_metric}\", val_acc, f\"Validation {val_metric}\")\n",
    "    \n",
    "    plot_curves(train_loss, \"Train loss\", test_loss, \"Test loss\")\n",
    "    plot_curves(train_loss, \"Train loss\", val_loss, \"Validation loss\")\n",
    "    \n",
    "    med_model = models[med_idx]\n",
    "    \n",
    "    if task == \"regression\":\n",
    "    \n",
    "        y_pred = med_model.predict(x_val)\n",
    "        y_pred = y_scaler.inverse_transform(y_pred)\n",
    "        y_val = y_scaler.inverse_transform(y_val)\n",
    "\n",
    "\n",
    "        mse_val = mse(y_val, y_pred)\n",
    "        mee_val = mee(y_val, y_pred)\n",
    "\n",
    "        print(f\"\\nValidation MSE: {mse_val}\")\n",
    "        print(f\"Validation MEE: {mee_val}\")\n",
    "    \n",
    "    \n",
    "    return med_model    \n",
    "    \n",
    "\n",
    "def fit_model(x_train, y_train, config, validation):\n",
    "    if validation[\"type\"] == \"k-fold\":\n",
    "        val_loss = fit_model_k_fold(x_train, y_train, config, validation[\"n_folds\"])\n",
    "    elif validation[\"type\"] == \"hold-out\":\n",
    "        val_loss = fit_model_hold_out(x_train, y_train, config, validation[\"val_split\"])\n",
    "    return val_loss\n",
    "\n",
    "\n",
    "\n",
    "def test_model(model, x_test, y_test):\n",
    "    input_size = x_test.shape[1]\n",
    "    result = model.evaluate(x_test, y_test)\n",
    "    print(result)\n",
    "    \n",
    "\n",
    "def assess_model(model, x_train, y_train, x_test, y_test, scale=True):\n",
    "    y_train_pred = model.predict(x_train)\n",
    "    y_test_pred = model.predict(x_test)\n",
    "    \n",
    "    if scale:\n",
    "        y_train_pred = y_scaler.inverse_transform(y_train_pred)\n",
    "        y_train  = y_scaler.inverse_transform(y_train)\n",
    "        y_test_pred = y_scaler.inverse_transform(y_test_pred)\n",
    "        y_test  = y_scaler.inverse_transform(y_test)\n",
    "\n",
    "    mse_train = mse(y_train, y_train_pred)\n",
    "    mse_test = mse(y_test, y_test_pred)\n",
    "\n",
    "    mee_train = mee(y_train, y_train_pred)\n",
    "    mee_test = mee(y_test, y_test_pred)\n",
    "\n",
    "    print(f\"Train MSE: {mse_train}\")\n",
    "    print(f\"Train MEE: {mee_train}\")\n",
    "    print(f\"Test MSE: {mse_test}\")\n",
    "    print(f\"Test MEE: {mee_test}\")\n",
    "\n",
    "\n",
    "    \n",
    "def model_selection(configurations, x_train, y_train, validation):\n",
    "        \n",
    "    best_loss = float(\"inf\")\n",
    "    best_conf = None\n",
    "    \n",
    "    idx = 1\n",
    "    n_confs = len(configurations)\n",
    "    for config in configurations:\n",
    "\n",
    "        print(f\"Testing configuration {idx}/{n_confs}:\\n{config}\")\n",
    "        val_loss = fit_model(x_train, y_train, config, validation)\n",
    "\n",
    "        if val_loss < best_loss:\n",
    "            best_loss = val_loss;\n",
    "            best_conf = config\n",
    "        idx += 1\n",
    "        \n",
    "        print(\"\\n\\n\")\n",
    "\n",
    "            \n",
    "    print(\"\\n\\n\")\n",
    "    print(f\"Best configuration (loss {best_loss}):\\n{best_conf}\")\n",
    "    \n",
    "    return best_conf\n",
    "    \n",
    "\n",
    "def grid_search(params, x_train, y_train, x_test, y_test, validation={\"type\": \"hold-out\", \"val_split\": 0.2}):\n",
    "    set_random_seeds()\n",
    "    configurations = get_configurations(params)    \n",
    "    best_conf = model_selection(configurations, x_train, y_train, validation)\n",
    "    model = fit_final_model(x_train, y_train, x_test, y_test, best_conf)\n",
    "        \n",
    "    return model"
   ]
  },
  {
   "cell_type": "markdown",
   "id": "7835a759",
   "metadata": {},
   "source": [
    "# Monks 1"
   ]
  },
  {
   "cell_type": "code",
   "execution_count": 5,
   "id": "f0e9f138",
   "metadata": {},
   "outputs": [
    {
     "name": "stdout",
     "output_type": "stream",
     "text": [
      "Loaded ./../data/monks-1 dataset\n",
      "(124, 17) (124,)\n",
      "(432, 17) (432,)\n"
     ]
    }
   ],
   "source": [
    "x_train, y_train, x_test, y_test = load_dataset(\"monks1\", True)\n",
    "print(x_train.shape, y_train.shape)\n",
    "print(x_test.shape, y_test.shape)"
   ]
  },
  {
   "cell_type": "code",
   "execution_count": 6,
   "id": "bfd7bc34",
   "metadata": {},
   "outputs": [],
   "source": [
    "params = {\n",
    "    \"task\": \"classification\",\n",
    "    \"trials_train\": 1,\n",
    "    \"trials_final\": 5,\n",
    "    \"initialization\": {\n",
    "        \"type\": \"default\",\n",
    "        \"min\": -0.5,\n",
    "        \"max\": 0.5,\n",
    "    },\n",
    "    \"early_stopping\": {\n",
    "        \"monitor\": \"val_loss\",\n",
    "        \"patience\": 20,\n",
    "        \"delta\": 0.0\n",
    "    },\n",
    "    \"max_epochs\": [500],\n",
    "    \"learning_rate\": [0.6, 0.7, 0.8, 0.9],# np.linspace(0.1, 0.4, 4).tolist(),\n",
    "    \"batch_size\": [None],\n",
    "    \"momentum\": [0.6, 0.7, 0.8, 0.9],#np.linspace(0.5, 0.9, 4).tolist(),\n",
    "    \"nesterov\": False,\n",
    "    \"learning_rate_decay\": None,\n",
    "    \"regularization\": [\n",
    "        {\n",
    "            \"type\": None\n",
    "        }\n",
    "    ],\n",
    "    \"layers\": [\n",
    "        {\n",
    "            \"activations\": [\"relu\"],\n",
    "            \"units\": [8],\n",
    "        },\n",
    "    ]\n",
    "}\n",
    "\n",
    "k_fold_val = {\n",
    "    \"type\": \"k-fold\",\n",
    "    \"n_folds\": 4\n",
    "}\n",
    "\n",
    "hold_out_val = {\n",
    "    \"type\": \"hold-out\",\n",
    "    \"val_split\": 0.15\n",
    "}"
   ]
  },
  {
   "cell_type": "code",
   "execution_count": 7,
   "id": "824ed4ae",
   "metadata": {},
   "outputs": [
    {
     "name": "stdout",
     "output_type": "stream",
     "text": [
      "Testing configuration 1/16:\n",
      "{'batch_size': None, 'learning_rate': 0.6, 'max_epochs': 500, 'momentum': 0.6, 'initialization': {'type': 'default', 'min': -0.5, 'max': 0.5}, 'early_stopping': {'monitor': 'val_loss', 'patience': 20, 'delta': 0.0}, 'task': 'classification', 'trials_train': 1, 'trials_final': 5, 'nesterov': False, 'learning_rate_decay': None, 'regularization': {'method': None}, 'activations_1': 'relu', 'units_1': 8}\n",
      "\n",
      "Executing fold 1/4\n"
     ]
    },
    {
     "name": "stderr",
     "output_type": "stream",
     "text": [
      "  0%|                                                     | 0/1 [00:00<?, ?it/s]2023-01-15 15:22:20.677297: I tensorflow/stream_executor/cuda/cuda_gpu_executor.cc:980] successful NUMA node read from SysFS had negative value (-1), but there must be at least one NUMA node, so returning NUMA node zero\n",
      "2023-01-15 15:22:21.820035: W tensorflow/stream_executor/platform/default/dso_loader.cc:64] Could not load dynamic library 'libcudnn.so.8'; dlerror: libcudnn.so.8: cannot open shared object file: No such file or directory\n",
      "2023-01-15 15:22:21.820103: W tensorflow/core/common_runtime/gpu/gpu_device.cc:1934] Cannot dlopen some GPU libraries. Please make sure the missing libraries mentioned above are installed properly if you would like to use GPU. Follow the guide at https://www.tensorflow.org/install/gpu for how to download and setup the required libraries for your platform.\n",
      "Skipping registering GPU devices...\n",
      "2023-01-15 15:22:21.840859: I tensorflow/core/platform/cpu_feature_guard.cc:193] This TensorFlow binary is optimized with oneAPI Deep Neural Network Library (oneDNN) to use the following CPU instructions in performance-critical operations:  AVX2 FMA\n",
      "To enable them in other operations, rebuild TensorFlow with the appropriate compiler flags.\n",
      "100%|█████████████████████████████████████████████| 1/1 [00:19<00:00, 19.58s/it]\n"
     ]
    },
    {
     "name": "stdout",
     "output_type": "stream",
     "text": [
      "Fold 1/4 median val_loss: 0.0017250098753720522, std val_loss 0.0\n",
      "Fold 1/4 median train_loss: 0.0002660175960045308, std train_loss 0.0\n",
      "Fold 1/4 median val_accuracy: 1.0, std val_accuracy 0.0\n",
      "Fold 1/4 median train_accuracy: 1.0, train_accuracy 0.0\n",
      "\n",
      "Executing fold 2/4\n"
     ]
    },
    {
     "name": "stderr",
     "output_type": "stream",
     "text": [
      "100%|█████████████████████████████████████████████| 1/1 [00:15<00:00, 15.52s/it]\n"
     ]
    },
    {
     "name": "stdout",
     "output_type": "stream",
     "text": [
      "Fold 2/4 median val_loss: 0.043050553649663925, std val_loss 0.0\n",
      "Fold 2/4 median train_loss: 0.0002951947972178459, std train_loss 0.0\n",
      "Fold 2/4 median val_accuracy: 0.9354838728904724, std val_accuracy 0.0\n",
      "Fold 2/4 median train_accuracy: 1.0, train_accuracy 0.0\n",
      "\n",
      "Executing fold 3/4\n"
     ]
    },
    {
     "name": "stderr",
     "output_type": "stream",
     "text": [
      "100%|█████████████████████████████████████████████| 1/1 [00:13<00:00, 13.36s/it]\n"
     ]
    },
    {
     "name": "stdout",
     "output_type": "stream",
     "text": [
      "Fold 3/4 median val_loss: 0.0002726333914324641, std val_loss 0.0\n",
      "Fold 3/4 median train_loss: 0.00018493563402444124, std train_loss 0.0\n",
      "Fold 3/4 median val_accuracy: 1.0, std val_accuracy 0.0\n",
      "Fold 3/4 median train_accuracy: 1.0, train_accuracy 0.0\n",
      "\n",
      "Executing fold 4/4\n"
     ]
    },
    {
     "name": "stderr",
     "output_type": "stream",
     "text": [
      "100%|█████████████████████████████████████████████| 1/1 [00:15<00:00, 15.26s/it]\n"
     ]
    },
    {
     "name": "stdout",
     "output_type": "stream",
     "text": [
      "Fold 4/4 median val_loss: 0.001736205886118114, std val_loss 0.0\n",
      "Fold 4/4 median train_loss: 0.00018526901840232313, std train_loss 0.0\n",
      "Fold 4/4 median val_accuracy: 1.0, std val_accuracy 0.0\n",
      "Fold 4/4 median train_accuracy: 1.0, train_accuracy 0.0\n",
      "\n",
      "Mean val_loss: 0.011696100700646639, std val_loss: 0.01811228507159692\n",
      "Mean train_loss: 0.00023285426141228527, std train_loss: 4.88536062355017e-05\n",
      "Mean val_accuracy: 0.9838709682226181, std val_accuracy: 0.0279363025153184\n",
      "Mean train_accuracy: 0.9838709682226181, std train_accuracy: 0.0\n",
      "\n",
      "\n",
      "\n",
      "Testing configuration 2/16:\n",
      "{'batch_size': None, 'learning_rate': 0.6, 'max_epochs': 500, 'momentum': 0.7, 'initialization': {'type': 'default', 'min': -0.5, 'max': 0.5}, 'early_stopping': {'monitor': 'val_loss', 'patience': 20, 'delta': 0.0}, 'task': 'classification', 'trials_train': 1, 'trials_final': 5, 'nesterov': False, 'learning_rate_decay': None, 'regularization': {'method': None}, 'activations_1': 'relu', 'units_1': 8}\n",
      "\n",
      "Executing fold 1/4\n"
     ]
    },
    {
     "name": "stderr",
     "output_type": "stream",
     "text": [
      "100%|█████████████████████████████████████████████| 1/1 [00:15<00:00, 15.24s/it]\n"
     ]
    },
    {
     "name": "stdout",
     "output_type": "stream",
     "text": [
      "Fold 1/4 median val_loss: 0.0014847326092422009, std val_loss 0.0\n",
      "Fold 1/4 median train_loss: 0.0001457393227610737, std train_loss 0.0\n",
      "Fold 1/4 median val_accuracy: 1.0, std val_accuracy 0.0\n",
      "Fold 1/4 median train_accuracy: 1.0, train_accuracy 0.0\n",
      "\n",
      "Executing fold 2/4\n"
     ]
    },
    {
     "name": "stderr",
     "output_type": "stream",
     "text": [
      "100%|█████████████████████████████████████████████| 1/1 [00:13<00:00, 13.90s/it]\n"
     ]
    },
    {
     "name": "stdout",
     "output_type": "stream",
     "text": [
      "Fold 2/4 median val_loss: 0.0013035297160968184, std val_loss 0.0\n",
      "Fold 2/4 median train_loss: 0.00014132286014501005, std train_loss 0.0\n",
      "Fold 2/4 median val_accuracy: 1.0, std val_accuracy 0.0\n",
      "Fold 2/4 median train_accuracy: 1.0, train_accuracy 0.0\n",
      "\n",
      "Executing fold 3/4\n"
     ]
    },
    {
     "name": "stderr",
     "output_type": "stream",
     "text": [
      "100%|█████████████████████████████████████████████| 1/1 [00:13<00:00, 13.59s/it]\n"
     ]
    },
    {
     "name": "stdout",
     "output_type": "stream",
     "text": [
      "Fold 3/4 median val_loss: 0.0003617746406234801, std val_loss 0.0\n",
      "Fold 3/4 median train_loss: 9.445841715205461e-05, std train_loss 0.0\n",
      "Fold 3/4 median val_accuracy: 1.0, std val_accuracy 0.0\n",
      "Fold 3/4 median train_accuracy: 1.0, train_accuracy 0.0\n",
      "\n",
      "Executing fold 4/4\n"
     ]
    },
    {
     "name": "stderr",
     "output_type": "stream",
     "text": [
      "100%|█████████████████████████████████████████████| 1/1 [00:01<00:00,  1.19s/it]\n"
     ]
    },
    {
     "name": "stdout",
     "output_type": "stream",
     "text": [
      "Fold 4/4 median val_loss: 0.2800542712211609, std val_loss 0.0\n",
      "Fold 4/4 median train_loss: 0.08572223782539368, std train_loss 0.0\n",
      "Fold 4/4 median val_accuracy: 0.6451612710952759, std val_accuracy 0.0\n",
      "Fold 4/4 median train_accuracy: 0.9139785170555115, train_accuracy 0.0\n",
      "\n",
      "Mean val_loss: 0.07080107704678085, std val_loss: 0.12081314010364419\n",
      "Mean train_loss: 0.021525939606362954, std train_loss: 0.037063755505007116\n",
      "Mean val_accuracy: 0.911290317773819, std val_accuracy: 0.15364967673903535\n",
      "Mean train_accuracy: 0.911290317773819, std train_accuracy: 0.03724839475056844\n",
      "\n",
      "\n",
      "\n",
      "Testing configuration 3/16:\n",
      "{'batch_size': None, 'learning_rate': 0.6, 'max_epochs': 500, 'momentum': 0.8, 'initialization': {'type': 'default', 'min': -0.5, 'max': 0.5}, 'early_stopping': {'monitor': 'val_loss', 'patience': 20, 'delta': 0.0}, 'task': 'classification', 'trials_train': 1, 'trials_final': 5, 'nesterov': False, 'learning_rate_decay': None, 'regularization': {'method': None}, 'activations_1': 'relu', 'units_1': 8}\n",
      "\n",
      "Executing fold 1/4\n"
     ]
    },
    {
     "name": "stderr",
     "output_type": "stream",
     "text": [
      "100%|█████████████████████████████████████████████| 1/1 [00:15<00:00, 15.37s/it]\n"
     ]
    },
    {
     "name": "stdout",
     "output_type": "stream",
     "text": [
      "Fold 1/4 median val_loss: 0.05254553630948067, std val_loss 0.0\n",
      "Fold 1/4 median train_loss: 7.239779370138422e-05, std train_loss 0.0\n",
      "Fold 1/4 median val_accuracy: 0.9354838728904724, std val_accuracy 0.0\n",
      "Fold 1/4 median train_accuracy: 1.0, train_accuracy 0.0\n",
      "\n",
      "Executing fold 2/4\n"
     ]
    },
    {
     "name": "stderr",
     "output_type": "stream",
     "text": [
      "100%|█████████████████████████████████████████████| 1/1 [00:13<00:00, 13.41s/it]\n"
     ]
    },
    {
     "name": "stdout",
     "output_type": "stream",
     "text": [
      "Fold 2/4 median val_loss: 9.541141480440274e-05, std val_loss 0.0\n",
      "Fold 2/4 median train_loss: 5.1181752496631816e-05, std train_loss 0.0\n",
      "Fold 2/4 median val_accuracy: 1.0, std val_accuracy 0.0\n",
      "Fold 2/4 median train_accuracy: 1.0, train_accuracy 0.0\n",
      "\n",
      "Executing fold 3/4\n"
     ]
    },
    {
     "name": "stderr",
     "output_type": "stream",
     "text": [
      "100%|█████████████████████████████████████████████| 1/1 [00:14<00:00, 14.31s/it]\n"
     ]
    },
    {
     "name": "stdout",
     "output_type": "stream",
     "text": [
      "Fold 3/4 median val_loss: 0.006925585679709911, std val_loss 0.0\n",
      "Fold 3/4 median train_loss: 7.091415318427607e-05, std train_loss 0.0\n",
      "Fold 3/4 median val_accuracy: 1.0, std val_accuracy 0.0\n",
      "Fold 3/4 median train_accuracy: 1.0, train_accuracy 0.0\n",
      "\n",
      "Executing fold 4/4\n"
     ]
    },
    {
     "name": "stderr",
     "output_type": "stream",
     "text": [
      "100%|█████████████████████████████████████████████| 1/1 [00:15<00:00, 15.27s/it]\n"
     ]
    },
    {
     "name": "stdout",
     "output_type": "stream",
     "text": [
      "Fold 4/4 median val_loss: 0.005090504419058561, std val_loss 0.0\n",
      "Fold 4/4 median train_loss: 5.36747720616404e-05, std train_loss 0.0\n",
      "Fold 4/4 median val_accuracy: 1.0, std val_accuracy 0.0\n",
      "Fold 4/4 median train_accuracy: 1.0, train_accuracy 0.0\n",
      "\n",
      "Mean val_loss: 0.016164259455763386, std val_loss: 0.021152933169087566\n",
      "Mean train_loss: 6.204211786098313e-05, std train_loss: 9.668415646606798e-06\n",
      "Mean val_accuracy: 0.9838709682226181, std val_accuracy: 0.0279363025153184\n",
      "Mean train_accuracy: 0.9838709682226181, std train_accuracy: 0.0\n",
      "\n",
      "\n",
      "\n",
      "Testing configuration 4/16:\n",
      "{'batch_size': None, 'learning_rate': 0.6, 'max_epochs': 500, 'momentum': 0.9, 'initialization': {'type': 'default', 'min': -0.5, 'max': 0.5}, 'early_stopping': {'monitor': 'val_loss', 'patience': 20, 'delta': 0.0}, 'task': 'classification', 'trials_train': 1, 'trials_final': 5, 'nesterov': False, 'learning_rate_decay': None, 'regularization': {'method': None}, 'activations_1': 'relu', 'units_1': 8}\n",
      "\n",
      "Executing fold 1/4\n"
     ]
    },
    {
     "name": "stderr",
     "output_type": "stream",
     "text": [
      "100%|█████████████████████████████████████████████| 1/1 [00:14<00:00, 14.83s/it]\n"
     ]
    },
    {
     "name": "stdout",
     "output_type": "stream",
     "text": [
      "Fold 1/4 median val_loss: 0.001481477404013276, std val_loss 0.0\n",
      "Fold 1/4 median train_loss: 2.0781484636245295e-05, std train_loss 0.0\n",
      "Fold 1/4 median val_accuracy: 1.0, std val_accuracy 0.0\n",
      "Fold 1/4 median train_accuracy: 1.0, train_accuracy 0.0\n",
      "\n",
      "Executing fold 2/4\n"
     ]
    },
    {
     "name": "stderr",
     "output_type": "stream",
     "text": [
      "100%|█████████████████████████████████████████████| 1/1 [00:13<00:00, 13.90s/it]\n"
     ]
    },
    {
     "name": "stdout",
     "output_type": "stream",
     "text": [
      "Fold 2/4 median val_loss: 0.00018391128105577081, std val_loss 0.0\n",
      "Fold 2/4 median train_loss: 5.719848923035897e-05, std train_loss 0.0\n",
      "Fold 2/4 median val_accuracy: 1.0, std val_accuracy 0.0\n",
      "Fold 2/4 median train_accuracy: 1.0, train_accuracy 0.0\n",
      "\n",
      "Executing fold 3/4\n"
     ]
    },
    {
     "name": "stderr",
     "output_type": "stream",
     "text": [
      "100%|█████████████████████████████████████████████| 1/1 [00:13<00:00, 13.21s/it]\n"
     ]
    },
    {
     "name": "stdout",
     "output_type": "stream",
     "text": [
      "Fold 3/4 median val_loss: 0.059511009603738785, std val_loss 0.0\n",
      "Fold 3/4 median train_loss: 2.5374034521519206e-05, std train_loss 0.0\n",
      "Fold 3/4 median val_accuracy: 0.9354838728904724, std val_accuracy 0.0\n",
      "Fold 3/4 median train_accuracy: 1.0, train_accuracy 0.0\n",
      "\n",
      "Executing fold 4/4\n"
     ]
    },
    {
     "name": "stderr",
     "output_type": "stream",
     "text": [
      "100%|█████████████████████████████████████████████| 1/1 [00:01<00:00,  1.91s/it]\n"
     ]
    },
    {
     "name": "stdout",
     "output_type": "stream",
     "text": [
      "Fold 4/4 median val_loss: 0.21796251833438873, std val_loss 0.0\n",
      "Fold 4/4 median train_loss: 0.02692391723394394, std train_loss 0.0\n",
      "Fold 4/4 median val_accuracy: 0.7419354915618896, std val_accuracy 0.0\n",
      "Fold 4/4 median train_accuracy: 0.9677419066429138, train_accuracy 0.0\n",
      "\n",
      "Mean val_loss: 0.06978472915579914, std val_loss: 0.08884229646962921\n",
      "Mean train_loss: 0.006756817810583016, std train_loss: 0.0116434887265106\n",
      "Mean val_accuracy: 0.9193548411130905, std val_accuracy: 0.10576513433669522\n",
      "Mean train_accuracy: 0.9193548411130905, std train_accuracy: 0.01396816416244334\n",
      "\n",
      "\n",
      "\n",
      "Testing configuration 5/16:\n",
      "{'batch_size': None, 'learning_rate': 0.7, 'max_epochs': 500, 'momentum': 0.6, 'initialization': {'type': 'default', 'min': -0.5, 'max': 0.5}, 'early_stopping': {'monitor': 'val_loss', 'patience': 20, 'delta': 0.0}, 'task': 'classification', 'trials_train': 1, 'trials_final': 5, 'nesterov': False, 'learning_rate_decay': None, 'regularization': {'method': None}, 'activations_1': 'relu', 'units_1': 8}\n",
      "\n",
      "Executing fold 1/4\n"
     ]
    },
    {
     "name": "stderr",
     "output_type": "stream",
     "text": [
      "100%|█████████████████████████████████████████████| 1/1 [00:13<00:00, 13.29s/it]\n"
     ]
    },
    {
     "name": "stdout",
     "output_type": "stream",
     "text": [
      "Fold 1/4 median val_loss: 0.0011583770392462611, std val_loss 0.0\n",
      "Fold 1/4 median train_loss: 0.00013204450078774244, std train_loss 0.0\n",
      "Fold 1/4 median val_accuracy: 1.0, std val_accuracy 0.0\n",
      "Fold 1/4 median train_accuracy: 1.0, train_accuracy 0.0\n",
      "\n",
      "Executing fold 2/4\n"
     ]
    },
    {
     "name": "stderr",
     "output_type": "stream",
     "text": [
      "100%|█████████████████████████████████████████████| 1/1 [00:13<00:00, 13.41s/it]\n"
     ]
    },
    {
     "name": "stdout",
     "output_type": "stream",
     "text": [
      "Fold 2/4 median val_loss: 0.00585560780018568, std val_loss 0.0\n",
      "Fold 2/4 median train_loss: 0.00012998914462514222, std train_loss 0.0\n",
      "Fold 2/4 median val_accuracy: 1.0, std val_accuracy 0.0\n",
      "Fold 2/4 median train_accuracy: 1.0, train_accuracy 0.0\n",
      "\n",
      "Executing fold 3/4\n"
     ]
    },
    {
     "name": "stderr",
     "output_type": "stream",
     "text": [
      "100%|█████████████████████████████████████████████| 1/1 [00:06<00:00,  6.59s/it]\n"
     ]
    },
    {
     "name": "stdout",
     "output_type": "stream",
     "text": [
      "Fold 3/4 median val_loss: 0.053661003708839417, std val_loss 0.0\n",
      "Fold 3/4 median train_loss: 0.0007938465569168329, std train_loss 0.0\n",
      "Fold 3/4 median val_accuracy: 0.9354838728904724, std val_accuracy 0.0\n",
      "Fold 3/4 median train_accuracy: 1.0, train_accuracy 0.0\n",
      "\n",
      "Executing fold 4/4\n"
     ]
    },
    {
     "name": "stderr",
     "output_type": "stream",
     "text": [
      "100%|█████████████████████████████████████████████| 1/1 [00:13<00:00, 13.73s/it]\n"
     ]
    },
    {
     "name": "stdout",
     "output_type": "stream",
     "text": [
      "Fold 4/4 median val_loss: 0.10829656571149826, std val_loss 0.0\n",
      "Fold 4/4 median train_loss: 0.05417201668024063, std train_loss 0.0\n",
      "Fold 4/4 median val_accuracy: 0.8709677457809448, std val_accuracy 0.0\n",
      "Fold 4/4 median train_accuracy: 0.9462365508079529, train_accuracy 0.0\n",
      "\n",
      "Mean val_loss: 0.042242888564942405, std val_loss: 0.04331695080098269\n",
      "Mean train_loss: 0.013806974220642587, std train_loss: 0.02330633909460123\n",
      "Mean val_accuracy: 0.9516129046678543, std val_accuracy: 0.053493946637294815\n",
      "Mean train_accuracy: 0.9516129046678543, std train_accuracy: 0.023280256397693377\n",
      "\n",
      "\n",
      "\n",
      "Testing configuration 6/16:\n",
      "{'batch_size': None, 'learning_rate': 0.7, 'max_epochs': 500, 'momentum': 0.7, 'initialization': {'type': 'default', 'min': -0.5, 'max': 0.5}, 'early_stopping': {'monitor': 'val_loss', 'patience': 20, 'delta': 0.0}, 'task': 'classification', 'trials_train': 1, 'trials_final': 5, 'nesterov': False, 'learning_rate_decay': None, 'regularization': {'method': None}, 'activations_1': 'relu', 'units_1': 8}\n",
      "\n",
      "Executing fold 1/4\n"
     ]
    },
    {
     "name": "stderr",
     "output_type": "stream",
     "text": [
      "100%|█████████████████████████████████████████████| 1/1 [00:13<00:00, 13.75s/it]\n"
     ]
    },
    {
     "name": "stdout",
     "output_type": "stream",
     "text": [
      "Fold 1/4 median val_loss: 0.006028773263096809, std val_loss 0.0\n",
      "Fold 1/4 median train_loss: 8.665989298606291e-05, std train_loss 0.0\n",
      "Fold 1/4 median val_accuracy: 1.0, std val_accuracy 0.0\n",
      "Fold 1/4 median train_accuracy: 1.0, train_accuracy 0.0\n",
      "\n",
      "Executing fold 2/4\n"
     ]
    },
    {
     "name": "stderr",
     "output_type": "stream",
     "text": [
      "100%|█████████████████████████████████████████████| 1/1 [00:17<00:00, 17.14s/it]\n"
     ]
    },
    {
     "name": "stdout",
     "output_type": "stream",
     "text": [
      "Fold 2/4 median val_loss: 0.002323826076462865, std val_loss 0.0\n",
      "Fold 2/4 median train_loss: 8.481826807837933e-05, std train_loss 0.0\n",
      "Fold 2/4 median val_accuracy: 1.0, std val_accuracy 0.0\n",
      "Fold 2/4 median train_accuracy: 1.0, train_accuracy 0.0\n",
      "\n",
      "Executing fold 3/4\n"
     ]
    },
    {
     "name": "stderr",
     "output_type": "stream",
     "text": [
      "100%|█████████████████████████████████████████████| 1/1 [00:15<00:00, 15.42s/it]\n"
     ]
    },
    {
     "name": "stdout",
     "output_type": "stream",
     "text": [
      "Fold 3/4 median val_loss: 0.040117885917425156, std val_loss 0.0\n",
      "Fold 3/4 median train_loss: 0.00011175538384122774, std train_loss 0.0\n",
      "Fold 3/4 median val_accuracy: 0.9354838728904724, std val_accuracy 0.0\n",
      "Fold 3/4 median train_accuracy: 1.0, train_accuracy 0.0\n",
      "\n",
      "Executing fold 4/4\n"
     ]
    },
    {
     "name": "stderr",
     "output_type": "stream",
     "text": [
      "100%|█████████████████████████████████████████████| 1/1 [00:14<00:00, 14.14s/it]\n"
     ]
    },
    {
     "name": "stdout",
     "output_type": "stream",
     "text": [
      "Fold 4/4 median val_loss: 0.0004035548772662878, std val_loss 0.0\n",
      "Fold 4/4 median train_loss: 9.140088513959199e-05, std train_loss 0.0\n",
      "Fold 4/4 median val_accuracy: 1.0, std val_accuracy 0.0\n",
      "Fold 4/4 median train_accuracy: 1.0, train_accuracy 0.0\n",
      "\n",
      "Mean val_loss: 0.01221851003356278, std val_loss: 0.016234114943175122\n",
      "Mean train_loss: 9.36586075113155e-05, std train_loss: 1.0720590353825675e-05\n",
      "Mean val_accuracy: 0.9838709682226181, std val_accuracy: 0.0279363025153184\n",
      "Mean train_accuracy: 0.9838709682226181, std train_accuracy: 0.0\n",
      "\n",
      "\n",
      "\n",
      "Testing configuration 7/16:\n",
      "{'batch_size': None, 'learning_rate': 0.7, 'max_epochs': 500, 'momentum': 0.8, 'initialization': {'type': 'default', 'min': -0.5, 'max': 0.5}, 'early_stopping': {'monitor': 'val_loss', 'patience': 20, 'delta': 0.0}, 'task': 'classification', 'trials_train': 1, 'trials_final': 5, 'nesterov': False, 'learning_rate_decay': None, 'regularization': {'method': None}, 'activations_1': 'relu', 'units_1': 8}\n",
      "\n",
      "Executing fold 1/4\n"
     ]
    },
    {
     "name": "stderr",
     "output_type": "stream",
     "text": [
      "100%|█████████████████████████████████████████████| 1/1 [00:01<00:00,  1.34s/it]\n"
     ]
    },
    {
     "name": "stdout",
     "output_type": "stream",
     "text": [
      "Fold 1/4 median val_loss: 0.1837870478630066, std val_loss 0.0\n",
      "Fold 1/4 median train_loss: 0.0317237488925457, std train_loss 0.0\n",
      "Fold 1/4 median val_accuracy: 0.774193525314331, std val_accuracy 0.0\n",
      "Fold 1/4 median train_accuracy: 0.9784946441650391, train_accuracy 0.0\n",
      "\n",
      "Executing fold 2/4\n"
     ]
    },
    {
     "name": "stderr",
     "output_type": "stream",
     "text": [
      "100%|█████████████████████████████████████████████| 1/1 [00:13<00:00, 13.43s/it]\n"
     ]
    },
    {
     "name": "stdout",
     "output_type": "stream",
     "text": [
      "Fold 2/4 median val_loss: 0.00012942896864842623, std val_loss 0.0\n",
      "Fold 2/4 median train_loss: 6.60749283269979e-05, std train_loss 0.0\n",
      "Fold 2/4 median val_accuracy: 1.0, std val_accuracy 0.0\n",
      "Fold 2/4 median train_accuracy: 1.0, train_accuracy 0.0\n",
      "\n",
      "Executing fold 3/4\n"
     ]
    },
    {
     "name": "stderr",
     "output_type": "stream",
     "text": [
      "100%|█████████████████████████████████████████████| 1/1 [00:12<00:00, 12.96s/it]\n"
     ]
    },
    {
     "name": "stdout",
     "output_type": "stream",
     "text": [
      "Fold 3/4 median val_loss: 0.0037259175442159176, std val_loss 0.0\n",
      "Fold 3/4 median train_loss: 0.00011400235234759748, std train_loss 0.0\n",
      "Fold 3/4 median val_accuracy: 1.0, std val_accuracy 0.0\n",
      "Fold 3/4 median train_accuracy: 1.0, train_accuracy 0.0\n",
      "\n",
      "Executing fold 4/4\n"
     ]
    },
    {
     "name": "stderr",
     "output_type": "stream",
     "text": [
      "100%|█████████████████████████████████████████████| 1/1 [00:15<00:00, 15.81s/it]\n"
     ]
    },
    {
     "name": "stdout",
     "output_type": "stream",
     "text": [
      "Fold 4/4 median val_loss: 0.0749363973736763, std val_loss 0.0\n",
      "Fold 4/4 median train_loss: 0.0001101312882383354, std train_loss 0.0\n",
      "Fold 4/4 median val_accuracy: 0.9032257795333862, std val_accuracy 0.0\n",
      "Fold 4/4 median train_accuracy: 1.0, train_accuracy 0.0\n",
      "\n",
      "Mean val_loss: 0.06564469793738681, std val_loss: 0.07444819735525131\n",
      "Mean train_loss: 0.008003489365364658, std train_loss: 0.01369491116295043\n",
      "Mean val_accuracy: 0.9193548262119293, std val_accuracy: 0.09265424644296927\n",
      "Mean train_accuracy: 0.9193548262119293, std train_accuracy: 0.00931209223525004\n",
      "\n",
      "\n",
      "\n",
      "Testing configuration 8/16:\n",
      "{'batch_size': None, 'learning_rate': 0.7, 'max_epochs': 500, 'momentum': 0.9, 'initialization': {'type': 'default', 'min': -0.5, 'max': 0.5}, 'early_stopping': {'monitor': 'val_loss', 'patience': 20, 'delta': 0.0}, 'task': 'classification', 'trials_train': 1, 'trials_final': 5, 'nesterov': False, 'learning_rate_decay': None, 'regularization': {'method': None}, 'activations_1': 'relu', 'units_1': 8}\n",
      "\n",
      "Executing fold 1/4\n"
     ]
    },
    {
     "name": "stderr",
     "output_type": "stream",
     "text": [
      "100%|█████████████████████████████████████████████| 1/1 [00:15<00:00, 15.80s/it]\n"
     ]
    },
    {
     "name": "stdout",
     "output_type": "stream",
     "text": [
      "Fold 1/4 median val_loss: 0.09738705307245255, std val_loss 0.0\n",
      "Fold 1/4 median train_loss: 0.01081135030835867, std train_loss 0.0\n",
      "Fold 1/4 median val_accuracy: 0.9032257795333862, std val_accuracy 0.0\n",
      "Fold 1/4 median train_accuracy: 0.9892473220825195, train_accuracy 0.0\n",
      "\n",
      "Executing fold 2/4\n"
     ]
    },
    {
     "name": "stderr",
     "output_type": "stream",
     "text": [
      "100%|█████████████████████████████████████████████| 1/1 [00:01<00:00,  1.56s/it]\n"
     ]
    },
    {
     "name": "stdout",
     "output_type": "stream",
     "text": [
      "Fold 2/4 median val_loss: 0.04146838188171387, std val_loss 0.0\n",
      "Fold 2/4 median train_loss: 0.0006531337276101112, std train_loss 0.0\n",
      "Fold 2/4 median val_accuracy: 0.9677419066429138, std val_accuracy 0.0\n",
      "Fold 2/4 median train_accuracy: 1.0, train_accuracy 0.0\n",
      "\n",
      "Executing fold 3/4\n"
     ]
    },
    {
     "name": "stderr",
     "output_type": "stream",
     "text": [
      "100%|█████████████████████████████████████████████| 1/1 [00:14<00:00, 14.46s/it]\n"
     ]
    },
    {
     "name": "stdout",
     "output_type": "stream",
     "text": [
      "Fold 3/4 median val_loss: 0.01982751116156578, std val_loss 0.0\n",
      "Fold 3/4 median train_loss: 4.786519275512546e-05, std train_loss 0.0\n",
      "Fold 3/4 median val_accuracy: 0.9677419066429138, std val_accuracy 0.0\n",
      "Fold 3/4 median train_accuracy: 1.0, train_accuracy 0.0\n",
      "\n",
      "Executing fold 4/4\n"
     ]
    },
    {
     "name": "stderr",
     "output_type": "stream",
     "text": [
      "100%|█████████████████████████████████████████████| 1/1 [00:15<00:00, 15.52s/it]\n"
     ]
    },
    {
     "name": "stdout",
     "output_type": "stream",
     "text": [
      "Fold 4/4 median val_loss: 0.0012937473366037011, std val_loss 0.0\n",
      "Fold 4/4 median train_loss: 1.911618164740503e-05, std train_loss 0.0\n",
      "Fold 4/4 median val_accuracy: 1.0, std val_accuracy 0.0\n",
      "Fold 4/4 median train_accuracy: 1.0, train_accuracy 0.0\n",
      "\n",
      "Mean val_loss: 0.039994173363083974, std val_loss: 0.03605736114537386\n",
      "Mean train_loss: 0.0028828663525928278, std train_loss: 0.004584508207911175\n",
      "Mean val_accuracy: 0.9596773982048035, std val_accuracy: 0.03515241833378536\n",
      "Mean train_accuracy: 0.9596773982048035, std train_accuracy: 0.00465604611762502\n",
      "\n",
      "\n",
      "\n",
      "Testing configuration 9/16:\n",
      "{'batch_size': None, 'learning_rate': 0.8, 'max_epochs': 500, 'momentum': 0.6, 'initialization': {'type': 'default', 'min': -0.5, 'max': 0.5}, 'early_stopping': {'monitor': 'val_loss', 'patience': 20, 'delta': 0.0}, 'task': 'classification', 'trials_train': 1, 'trials_final': 5, 'nesterov': False, 'learning_rate_decay': None, 'regularization': {'method': None}, 'activations_1': 'relu', 'units_1': 8}\n",
      "\n",
      "Executing fold 1/4\n"
     ]
    },
    {
     "name": "stderr",
     "output_type": "stream",
     "text": [
      "100%|█████████████████████████████████████████████| 1/1 [00:20<00:00, 20.84s/it]\n"
     ]
    },
    {
     "name": "stdout",
     "output_type": "stream",
     "text": [
      "Fold 1/4 median val_loss: 0.0003264212282374501, std val_loss 0.0\n",
      "Fold 1/4 median train_loss: 0.00010705140448408201, std train_loss 0.0\n",
      "Fold 1/4 median val_accuracy: 1.0, std val_accuracy 0.0\n",
      "Fold 1/4 median train_accuracy: 1.0, train_accuracy 0.0\n",
      "\n",
      "Executing fold 2/4\n"
     ]
    },
    {
     "name": "stderr",
     "output_type": "stream",
     "text": [
      "100%|█████████████████████████████████████████████| 1/1 [00:15<00:00, 15.62s/it]\n"
     ]
    },
    {
     "name": "stdout",
     "output_type": "stream",
     "text": [
      "Fold 2/4 median val_loss: 0.012450513429939747, std val_loss 0.0\n",
      "Fold 2/4 median train_loss: 0.0001278339623240754, std train_loss 0.0\n",
      "Fold 2/4 median val_accuracy: 0.9677419066429138, std val_accuracy 0.0\n",
      "Fold 2/4 median train_accuracy: 1.0, train_accuracy 0.0\n",
      "\n",
      "Executing fold 3/4\n"
     ]
    },
    {
     "name": "stderr",
     "output_type": "stream",
     "text": [
      "100%|█████████████████████████████████████████████| 1/1 [00:15<00:00, 15.72s/it]\n"
     ]
    },
    {
     "name": "stdout",
     "output_type": "stream",
     "text": [
      "Fold 3/4 median val_loss: 0.012139441445469856, std val_loss 0.0\n",
      "Fold 3/4 median train_loss: 0.00019063387298956513, std train_loss 0.0\n",
      "Fold 3/4 median val_accuracy: 1.0, std val_accuracy 0.0\n",
      "Fold 3/4 median train_accuracy: 1.0, train_accuracy 0.0\n",
      "\n",
      "Executing fold 4/4\n"
     ]
    },
    {
     "name": "stderr",
     "output_type": "stream",
     "text": [
      "100%|█████████████████████████████████████████████| 1/1 [00:14<00:00, 14.97s/it]\n"
     ]
    },
    {
     "name": "stdout",
     "output_type": "stream",
     "text": [
      "Fold 4/4 median val_loss: 0.16149941086769104, std val_loss 0.0\n",
      "Fold 4/4 median train_loss: 0.03233453258872032, std train_loss 0.0\n",
      "Fold 4/4 median val_accuracy: 0.8387096524238586, std val_accuracy 0.0\n",
      "Fold 4/4 median train_accuracy: 0.9677419066429138, train_accuracy 0.0\n",
      "\n",
      "Mean val_loss: 0.04660394674283452, std val_loss: 0.06651472802445862\n",
      "Mean train_loss: 0.008190012957129511, std train_loss: 0.013939878869433155\n",
      "Mean val_accuracy: 0.9516128897666931, std val_accuracy: 0.06650171249927743\n",
      "Mean train_accuracy: 0.9516128897666931, std train_accuracy: 0.01396816416244334\n",
      "\n",
      "\n",
      "\n",
      "Testing configuration 10/16:\n",
      "{'batch_size': None, 'learning_rate': 0.8, 'max_epochs': 500, 'momentum': 0.7, 'initialization': {'type': 'default', 'min': -0.5, 'max': 0.5}, 'early_stopping': {'monitor': 'val_loss', 'patience': 20, 'delta': 0.0}, 'task': 'classification', 'trials_train': 1, 'trials_final': 5, 'nesterov': False, 'learning_rate_decay': None, 'regularization': {'method': None}, 'activations_1': 'relu', 'units_1': 8}\n",
      "\n",
      "Executing fold 1/4\n"
     ]
    },
    {
     "name": "stderr",
     "output_type": "stream",
     "text": [
      "100%|█████████████████████████████████████████████| 1/1 [00:13<00:00, 13.65s/it]\n"
     ]
    },
    {
     "name": "stdout",
     "output_type": "stream",
     "text": [
      "Fold 1/4 median val_loss: 0.0014220093144103885, std val_loss 0.0\n",
      "Fold 1/4 median train_loss: 0.00016106107796076685, std train_loss 0.0\n",
      "Fold 1/4 median val_accuracy: 1.0, std val_accuracy 0.0\n",
      "Fold 1/4 median train_accuracy: 1.0, train_accuracy 0.0\n",
      "\n",
      "Executing fold 2/4\n"
     ]
    },
    {
     "name": "stderr",
     "output_type": "stream",
     "text": [
      "100%|█████████████████████████████████████████████| 1/1 [00:13<00:00, 13.24s/it]\n"
     ]
    },
    {
     "name": "stdout",
     "output_type": "stream",
     "text": [
      "Fold 2/4 median val_loss: 0.0011194561375305057, std val_loss 0.0\n",
      "Fold 2/4 median train_loss: 8.031161269173026e-05, std train_loss 0.0\n",
      "Fold 2/4 median val_accuracy: 1.0, std val_accuracy 0.0\n",
      "Fold 2/4 median train_accuracy: 1.0, train_accuracy 0.0\n",
      "\n",
      "Executing fold 3/4\n"
     ]
    },
    {
     "name": "stderr",
     "output_type": "stream",
     "text": [
      "100%|█████████████████████████████████████████████| 1/1 [00:13<00:00, 13.15s/it]\n"
     ]
    },
    {
     "name": "stdout",
     "output_type": "stream",
     "text": [
      "Fold 3/4 median val_loss: 0.0019581501837819815, std val_loss 0.0\n",
      "Fold 3/4 median train_loss: 0.00015159514441620559, std train_loss 0.0\n",
      "Fold 3/4 median val_accuracy: 1.0, std val_accuracy 0.0\n",
      "Fold 3/4 median train_accuracy: 1.0, train_accuracy 0.0\n",
      "\n",
      "Executing fold 4/4\n"
     ]
    },
    {
     "name": "stderr",
     "output_type": "stream",
     "text": [
      "100%|█████████████████████████████████████████████| 1/1 [00:13<00:00, 13.27s/it]\n"
     ]
    },
    {
     "name": "stdout",
     "output_type": "stream",
     "text": [
      "Fold 4/4 median val_loss: 0.0022762382868677378, std val_loss 0.0\n",
      "Fold 4/4 median train_loss: 8.076436643023044e-05, std train_loss 0.0\n",
      "Fold 4/4 median val_accuracy: 1.0, std val_accuracy 0.0\n",
      "Fold 4/4 median train_accuracy: 1.0, train_accuracy 0.0\n",
      "\n",
      "Mean val_loss: 0.0016939634806476533, std val_loss: 0.00045079272395995713\n",
      "Mean train_loss: 0.00011843305037473328, std train_loss: 3.804289348295231e-05\n",
      "Mean val_accuracy: 1.0, std val_accuracy: 0.0\n",
      "Mean train_accuracy: 1.0, std train_accuracy: 0.0\n",
      "\n",
      "\n",
      "\n",
      "Testing configuration 11/16:\n",
      "{'batch_size': None, 'learning_rate': 0.8, 'max_epochs': 500, 'momentum': 0.8, 'initialization': {'type': 'default', 'min': -0.5, 'max': 0.5}, 'early_stopping': {'monitor': 'val_loss', 'patience': 20, 'delta': 0.0}, 'task': 'classification', 'trials_train': 1, 'trials_final': 5, 'nesterov': False, 'learning_rate_decay': None, 'regularization': {'method': None}, 'activations_1': 'relu', 'units_1': 8}\n",
      "\n",
      "Executing fold 1/4\n"
     ]
    },
    {
     "name": "stderr",
     "output_type": "stream",
     "text": [
      "100%|█████████████████████████████████████████████| 1/1 [00:15<00:00, 15.47s/it]\n"
     ]
    },
    {
     "name": "stdout",
     "output_type": "stream",
     "text": [
      "Fold 1/4 median val_loss: 0.00673337047919631, std val_loss 0.0\n",
      "Fold 1/4 median train_loss: 8.858797082211822e-05, std train_loss 0.0\n",
      "Fold 1/4 median val_accuracy: 1.0, std val_accuracy 0.0\n",
      "Fold 1/4 median train_accuracy: 1.0, train_accuracy 0.0\n",
      "\n",
      "Executing fold 2/4\n"
     ]
    },
    {
     "name": "stderr",
     "output_type": "stream",
     "text": [
      "100%|█████████████████████████████████████████████| 1/1 [00:15<00:00, 15.84s/it]\n"
     ]
    },
    {
     "name": "stdout",
     "output_type": "stream",
     "text": [
      "Fold 2/4 median val_loss: 0.00012991155381314456, std val_loss 0.0\n",
      "Fold 2/4 median train_loss: 4.1031304135685787e-05, std train_loss 0.0\n",
      "Fold 2/4 median val_accuracy: 1.0, std val_accuracy 0.0\n",
      "Fold 2/4 median train_accuracy: 1.0, train_accuracy 0.0\n",
      "\n",
      "Executing fold 3/4\n"
     ]
    },
    {
     "name": "stderr",
     "output_type": "stream",
     "text": [
      "100%|█████████████████████████████████████████████| 1/1 [00:15<00:00, 15.49s/it]\n"
     ]
    },
    {
     "name": "stdout",
     "output_type": "stream",
     "text": [
      "Fold 3/4 median val_loss: 0.0006069529918022454, std val_loss 0.0\n",
      "Fold 3/4 median train_loss: 3.6707668186863884e-05, std train_loss 0.0\n",
      "Fold 3/4 median val_accuracy: 1.0, std val_accuracy 0.0\n",
      "Fold 3/4 median train_accuracy: 1.0, train_accuracy 0.0\n",
      "\n",
      "Executing fold 4/4\n"
     ]
    },
    {
     "name": "stderr",
     "output_type": "stream",
     "text": [
      "100%|█████████████████████████████████████████████| 1/1 [00:20<00:00, 20.91s/it]\n"
     ]
    },
    {
     "name": "stdout",
     "output_type": "stream",
     "text": [
      "Fold 4/4 median val_loss: 0.0401175320148468, std val_loss 0.0\n",
      "Fold 4/4 median train_loss: 0.0001267580664716661, std train_loss 0.0\n",
      "Fold 4/4 median val_accuracy: 0.9354838728904724, std val_accuracy 0.0\n",
      "Fold 4/4 median train_accuracy: 1.0, train_accuracy 0.0\n",
      "\n",
      "Mean val_loss: 0.011896941759914625, std val_loss: 0.01649993203746034\n",
      "Mean train_loss: 7.32712524040835e-05, std train_loss: 3.698564281365199e-05\n",
      "Mean val_accuracy: 0.9838709682226181, std val_accuracy: 0.0279363025153184\n",
      "Mean train_accuracy: 0.9838709682226181, std train_accuracy: 0.0\n",
      "\n",
      "\n",
      "\n",
      "Testing configuration 12/16:\n",
      "{'batch_size': None, 'learning_rate': 0.8, 'max_epochs': 500, 'momentum': 0.9, 'initialization': {'type': 'default', 'min': -0.5, 'max': 0.5}, 'early_stopping': {'monitor': 'val_loss', 'patience': 20, 'delta': 0.0}, 'task': 'classification', 'trials_train': 1, 'trials_final': 5, 'nesterov': False, 'learning_rate_decay': None, 'regularization': {'method': None}, 'activations_1': 'relu', 'units_1': 8}\n",
      "\n",
      "Executing fold 1/4\n"
     ]
    },
    {
     "name": "stderr",
     "output_type": "stream",
     "text": [
      "100%|█████████████████████████████████████████████| 1/1 [00:01<00:00,  1.45s/it]\n"
     ]
    },
    {
     "name": "stdout",
     "output_type": "stream",
     "text": [
      "Fold 1/4 median val_loss: 0.24419890344142914, std val_loss 0.0\n",
      "Fold 1/4 median train_loss: 0.055460959672927856, std train_loss 0.0\n",
      "Fold 1/4 median val_accuracy: 0.6774193644523621, std val_accuracy 0.0\n",
      "Fold 1/4 median train_accuracy: 0.9462365508079529, train_accuracy 0.0\n",
      "\n",
      "Executing fold 2/4\n"
     ]
    },
    {
     "name": "stderr",
     "output_type": "stream",
     "text": [
      "100%|█████████████████████████████████████████████| 1/1 [00:03<00:00,  3.27s/it]\n"
     ]
    },
    {
     "name": "stdout",
     "output_type": "stream",
     "text": [
      "Fold 2/4 median val_loss: 0.0583084411919117, std val_loss 0.0\n",
      "Fold 2/4 median train_loss: 0.0003754270146600902, std train_loss 0.0\n",
      "Fold 2/4 median val_accuracy: 0.9354838728904724, std val_accuracy 0.0\n",
      "Fold 2/4 median train_accuracy: 1.0, train_accuracy 0.0\n",
      "\n",
      "Executing fold 3/4\n"
     ]
    },
    {
     "name": "stderr",
     "output_type": "stream",
     "text": [
      "100%|█████████████████████████████████████████████| 1/1 [00:15<00:00, 15.21s/it]\n"
     ]
    },
    {
     "name": "stdout",
     "output_type": "stream",
     "text": [
      "Fold 3/4 median val_loss: 4.569083466776647e-05, std val_loss 0.0\n",
      "Fold 3/4 median train_loss: 9.838558980845846e-06, std train_loss 0.0\n",
      "Fold 3/4 median val_accuracy: 1.0, std val_accuracy 0.0\n",
      "Fold 3/4 median train_accuracy: 1.0, train_accuracy 0.0\n",
      "\n",
      "Executing fold 4/4\n"
     ]
    },
    {
     "name": "stderr",
     "output_type": "stream",
     "text": [
      "100%|█████████████████████████████████████████████| 1/1 [00:17<00:00, 17.58s/it]\n"
     ]
    },
    {
     "name": "stdout",
     "output_type": "stream",
     "text": [
      "Fold 4/4 median val_loss: 0.0003886861668433994, std val_loss 0.0\n",
      "Fold 4/4 median train_loss: 3.64227598765865e-05, std train_loss 0.0\n",
      "Fold 4/4 median val_accuracy: 1.0, std val_accuracy 0.0\n",
      "Fold 4/4 median train_accuracy: 1.0, train_accuracy 0.0\n",
      "\n",
      "Mean val_loss: 0.075735430408713, std val_loss: 0.10011207500102533\n",
      "Mean train_loss: 0.013970662001611345, std train_loss: 0.023954868135971225\n",
      "Mean val_accuracy: 0.9032258093357086, std val_accuracy: 0.13300340331417862\n",
      "Mean train_accuracy: 0.9032258093357086, std train_accuracy: 0.023280256397693377\n",
      "\n",
      "\n",
      "\n",
      "Testing configuration 13/16:\n",
      "{'batch_size': None, 'learning_rate': 0.9, 'max_epochs': 500, 'momentum': 0.6, 'initialization': {'type': 'default', 'min': -0.5, 'max': 0.5}, 'early_stopping': {'monitor': 'val_loss', 'patience': 20, 'delta': 0.0}, 'task': 'classification', 'trials_train': 1, 'trials_final': 5, 'nesterov': False, 'learning_rate_decay': None, 'regularization': {'method': None}, 'activations_1': 'relu', 'units_1': 8}\n",
      "\n",
      "Executing fold 1/4\n"
     ]
    },
    {
     "name": "stderr",
     "output_type": "stream",
     "text": [
      "100%|█████████████████████████████████████████████| 1/1 [00:15<00:00, 15.65s/it]\n"
     ]
    },
    {
     "name": "stdout",
     "output_type": "stream",
     "text": [
      "Fold 1/4 median val_loss: 0.004195082001388073, std val_loss 0.0\n",
      "Fold 1/4 median train_loss: 8.462071127723902e-05, std train_loss 0.0\n",
      "Fold 1/4 median val_accuracy: 1.0, std val_accuracy 0.0\n",
      "Fold 1/4 median train_accuracy: 1.0, train_accuracy 0.0\n",
      "\n",
      "Executing fold 2/4\n"
     ]
    },
    {
     "name": "stderr",
     "output_type": "stream",
     "text": [
      "100%|█████████████████████████████████████████████| 1/1 [00:14<00:00, 14.42s/it]\n"
     ]
    },
    {
     "name": "stdout",
     "output_type": "stream",
     "text": [
      "Fold 2/4 median val_loss: 0.004024357534945011, std val_loss 0.0\n",
      "Fold 2/4 median train_loss: 8.879557572072372e-05, std train_loss 0.0\n",
      "Fold 2/4 median val_accuracy: 1.0, std val_accuracy 0.0\n",
      "Fold 2/4 median train_accuracy: 1.0, train_accuracy 0.0\n",
      "\n",
      "Executing fold 3/4\n"
     ]
    },
    {
     "name": "stderr",
     "output_type": "stream",
     "text": [
      "100%|█████████████████████████████████████████████| 1/1 [00:14<00:00, 14.73s/it]\n"
     ]
    },
    {
     "name": "stdout",
     "output_type": "stream",
     "text": [
      "Fold 3/4 median val_loss: 0.0014488056767731905, std val_loss 0.0\n",
      "Fold 3/4 median train_loss: 7.199563697213307e-05, std train_loss 0.0\n",
      "Fold 3/4 median val_accuracy: 1.0, std val_accuracy 0.0\n",
      "Fold 3/4 median train_accuracy: 1.0, train_accuracy 0.0\n",
      "\n",
      "Executing fold 4/4\n"
     ]
    },
    {
     "name": "stderr",
     "output_type": "stream",
     "text": [
      "100%|█████████████████████████████████████████████| 1/1 [00:07<00:00,  7.34s/it]\n"
     ]
    },
    {
     "name": "stdout",
     "output_type": "stream",
     "text": [
      "Fold 4/4 median val_loss: 0.012386263348162174, std val_loss 0.0\n",
      "Fold 4/4 median train_loss: 0.0005188912618905306, std train_loss 0.0\n",
      "Fold 4/4 median val_accuracy: 1.0, std val_accuracy 0.0\n",
      "Fold 4/4 median train_accuracy: 1.0, train_accuracy 0.0\n",
      "\n",
      "Mean val_loss: 0.005513627140317112, std val_loss: 0.004114376842753616\n",
      "Mean train_loss: 0.0001910757964651566, std train_loss: 0.00018936538257746267\n",
      "Mean val_accuracy: 1.0, std val_accuracy: 0.0\n",
      "Mean train_accuracy: 1.0, std train_accuracy: 0.0\n",
      "\n",
      "\n",
      "\n",
      "Testing configuration 14/16:\n",
      "{'batch_size': None, 'learning_rate': 0.9, 'max_epochs': 500, 'momentum': 0.7, 'initialization': {'type': 'default', 'min': -0.5, 'max': 0.5}, 'early_stopping': {'monitor': 'val_loss', 'patience': 20, 'delta': 0.0}, 'task': 'classification', 'trials_train': 1, 'trials_final': 5, 'nesterov': False, 'learning_rate_decay': None, 'regularization': {'method': None}, 'activations_1': 'relu', 'units_1': 8}\n",
      "\n",
      "Executing fold 1/4\n"
     ]
    },
    {
     "name": "stderr",
     "output_type": "stream",
     "text": [
      "100%|█████████████████████████████████████████████| 1/1 [00:14<00:00, 14.20s/it]\n"
     ]
    },
    {
     "name": "stdout",
     "output_type": "stream",
     "text": [
      "Fold 1/4 median val_loss: 0.02056081034243107, std val_loss 0.0\n",
      "Fold 1/4 median train_loss: 7.87013050285168e-05, std train_loss 0.0\n",
      "Fold 1/4 median val_accuracy: 0.9677419066429138, std val_accuracy 0.0\n",
      "Fold 1/4 median train_accuracy: 1.0, train_accuracy 0.0\n",
      "\n",
      "Executing fold 2/4\n"
     ]
    },
    {
     "name": "stderr",
     "output_type": "stream",
     "text": [
      "100%|█████████████████████████████████████████████| 1/1 [00:14<00:00, 14.95s/it]\n"
     ]
    },
    {
     "name": "stdout",
     "output_type": "stream",
     "text": [
      "Fold 2/4 median val_loss: 0.0004155279020778835, std val_loss 0.0\n",
      "Fold 2/4 median train_loss: 8.858826186042279e-05, std train_loss 0.0\n",
      "Fold 2/4 median val_accuracy: 1.0, std val_accuracy 0.0\n",
      "Fold 2/4 median train_accuracy: 1.0, train_accuracy 0.0\n",
      "\n",
      "Executing fold 3/4\n"
     ]
    },
    {
     "name": "stderr",
     "output_type": "stream",
     "text": [
      "100%|█████████████████████████████████████████████| 1/1 [00:13<00:00, 13.28s/it]\n"
     ]
    },
    {
     "name": "stdout",
     "output_type": "stream",
     "text": [
      "Fold 3/4 median val_loss: 0.004120517522096634, std val_loss 0.0\n",
      "Fold 3/4 median train_loss: 6.527927325805649e-05, std train_loss 0.0\n",
      "Fold 3/4 median val_accuracy: 1.0, std val_accuracy 0.0\n",
      "Fold 3/4 median train_accuracy: 1.0, train_accuracy 0.0\n",
      "\n",
      "Executing fold 4/4\n"
     ]
    },
    {
     "name": "stderr",
     "output_type": "stream",
     "text": [
      "100%|█████████████████████████████████████████████| 1/1 [00:13<00:00, 13.12s/it]\n"
     ]
    },
    {
     "name": "stdout",
     "output_type": "stream",
     "text": [
      "Fold 4/4 median val_loss: 0.006809886544942856, std val_loss 0.0\n",
      "Fold 4/4 median train_loss: 5.984746530884877e-05, std train_loss 0.0\n",
      "Fold 4/4 median val_accuracy: 1.0, std val_accuracy 0.0\n",
      "Fold 4/4 median train_accuracy: 1.0, train_accuracy 0.0\n",
      "\n",
      "Mean val_loss: 0.00797668557788711, std val_loss: 0.007611878111639661\n",
      "Mean train_loss: 7.310407636396121e-05, std train_loss: 1.1270029386883374e-05\n",
      "Mean val_accuracy: 0.9919354766607285, std val_accuracy: 0.01396816416244334\n",
      "Mean train_accuracy: 0.9919354766607285, std train_accuracy: 0.0\n",
      "\n",
      "\n",
      "\n",
      "Testing configuration 15/16:\n",
      "{'batch_size': None, 'learning_rate': 0.9, 'max_epochs': 500, 'momentum': 0.8, 'initialization': {'type': 'default', 'min': -0.5, 'max': 0.5}, 'early_stopping': {'monitor': 'val_loss', 'patience': 20, 'delta': 0.0}, 'task': 'classification', 'trials_train': 1, 'trials_final': 5, 'nesterov': False, 'learning_rate_decay': None, 'regularization': {'method': None}, 'activations_1': 'relu', 'units_1': 8}\n",
      "\n",
      "Executing fold 1/4\n"
     ]
    },
    {
     "name": "stderr",
     "output_type": "stream",
     "text": [
      "100%|█████████████████████████████████████████████| 1/1 [00:13<00:00, 13.47s/it]\n"
     ]
    },
    {
     "name": "stdout",
     "output_type": "stream",
     "text": [
      "Fold 1/4 median val_loss: 0.0007153854821808636, std val_loss 0.0\n",
      "Fold 1/4 median train_loss: 3.07513473671861e-05, std train_loss 0.0\n",
      "Fold 1/4 median val_accuracy: 1.0, std val_accuracy 0.0\n",
      "Fold 1/4 median train_accuracy: 1.0, train_accuracy 0.0\n",
      "\n",
      "Executing fold 2/4\n"
     ]
    },
    {
     "name": "stderr",
     "output_type": "stream",
     "text": [
      "100%|█████████████████████████████████████████████| 1/1 [00:13<00:00, 13.12s/it]\n"
     ]
    },
    {
     "name": "stdout",
     "output_type": "stream",
     "text": [
      "Fold 2/4 median val_loss: 0.0004466382961254567, std val_loss 0.0\n",
      "Fold 2/4 median train_loss: 3.391622885828838e-05, std train_loss 0.0\n",
      "Fold 2/4 median val_accuracy: 1.0, std val_accuracy 0.0\n",
      "Fold 2/4 median train_accuracy: 1.0, train_accuracy 0.0\n",
      "\n",
      "Executing fold 3/4\n"
     ]
    },
    {
     "name": "stderr",
     "output_type": "stream",
     "text": [
      "100%|█████████████████████████████████████████████| 1/1 [00:13<00:00, 13.05s/it]\n"
     ]
    },
    {
     "name": "stdout",
     "output_type": "stream",
     "text": [
      "Fold 3/4 median val_loss: 0.0011012020986527205, std val_loss 0.0\n",
      "Fold 3/4 median train_loss: 3.669817670015618e-05, std train_loss 0.0\n",
      "Fold 3/4 median val_accuracy: 1.0, std val_accuracy 0.0\n",
      "Fold 3/4 median train_accuracy: 1.0, train_accuracy 0.0\n",
      "\n",
      "Executing fold 4/4\n"
     ]
    },
    {
     "name": "stderr",
     "output_type": "stream",
     "text": [
      "100%|█████████████████████████████████████████████| 1/1 [00:12<00:00, 12.93s/it]\n"
     ]
    },
    {
     "name": "stdout",
     "output_type": "stream",
     "text": [
      "Fold 4/4 median val_loss: 0.13644589483737946, std val_loss 0.0\n",
      "Fold 4/4 median train_loss: 0.04304360970854759, std train_loss 0.0\n",
      "Fold 4/4 median val_accuracy: 0.8709677457809448, std val_accuracy 0.0\n",
      "Fold 4/4 median train_accuracy: 0.9569892287254333, train_accuracy 0.0\n",
      "\n",
      "Mean val_loss: 0.034677280178584624, std val_loss: 0.058756597680291914\n",
      "Mean train_loss: 0.010786243865368306, std train_loss: 0.018623798971753244\n",
      "Mean val_accuracy: 0.9677419364452362, std val_accuracy: 0.0558726050306368\n",
      "Mean train_accuracy: 0.9677419364452362, std train_accuracy: 0.01862421028006836\n",
      "\n",
      "\n",
      "\n",
      "Testing configuration 16/16:\n",
      "{'batch_size': None, 'learning_rate': 0.9, 'max_epochs': 500, 'momentum': 0.9, 'initialization': {'type': 'default', 'min': -0.5, 'max': 0.5}, 'early_stopping': {'monitor': 'val_loss', 'patience': 20, 'delta': 0.0}, 'task': 'classification', 'trials_train': 1, 'trials_final': 5, 'nesterov': False, 'learning_rate_decay': None, 'regularization': {'method': None}, 'activations_1': 'relu', 'units_1': 8}\n",
      "\n",
      "Executing fold 1/4\n"
     ]
    },
    {
     "name": "stderr",
     "output_type": "stream",
     "text": [
      "100%|█████████████████████████████████████████████| 1/1 [00:13<00:00, 13.11s/it]\n"
     ]
    },
    {
     "name": "stdout",
     "output_type": "stream",
     "text": [
      "Fold 1/4 median val_loss: 0.08286318182945251, std val_loss 0.0\n",
      "Fold 1/4 median train_loss: 0.06452835351228714, std train_loss 0.0\n",
      "Fold 1/4 median val_accuracy: 0.9032257795333862, std val_accuracy 0.0\n",
      "Fold 1/4 median train_accuracy: 0.9354838728904724, train_accuracy 0.0\n",
      "\n",
      "Executing fold 2/4\n"
     ]
    },
    {
     "name": "stderr",
     "output_type": "stream",
     "text": [
      "100%|█████████████████████████████████████████████| 1/1 [00:02<00:00,  2.22s/it]\n"
     ]
    },
    {
     "name": "stdout",
     "output_type": "stream",
     "text": [
      "Fold 2/4 median val_loss: 0.006897402927279472, std val_loss 0.0\n",
      "Fold 2/4 median train_loss: 0.0011396321933716536, std train_loss 0.0\n",
      "Fold 2/4 median val_accuracy: 1.0, std val_accuracy 0.0\n",
      "Fold 2/4 median train_accuracy: 1.0, train_accuracy 0.0\n",
      "\n",
      "Executing fold 3/4\n"
     ]
    },
    {
     "name": "stderr",
     "output_type": "stream",
     "text": [
      "100%|█████████████████████████████████████████████| 1/1 [00:14<00:00, 14.83s/it]\n"
     ]
    },
    {
     "name": "stdout",
     "output_type": "stream",
     "text": [
      "Fold 3/4 median val_loss: 0.06923259794712067, std val_loss 0.0\n",
      "Fold 3/4 median train_loss: 1.9178101865691133e-05, std train_loss 0.0\n",
      "Fold 3/4 median val_accuracy: 0.9032257795333862, std val_accuracy 0.0\n",
      "Fold 3/4 median train_accuracy: 1.0, train_accuracy 0.0\n",
      "\n",
      "Executing fold 4/4\n"
     ]
    },
    {
     "name": "stderr",
     "output_type": "stream",
     "text": [
      "100%|█████████████████████████████████████████████| 1/1 [00:15<00:00, 15.43s/it]\n"
     ]
    },
    {
     "name": "stdout",
     "output_type": "stream",
     "text": [
      "Fold 4/4 median val_loss: 0.06473199278116226, std val_loss 0.0\n",
      "Fold 4/4 median train_loss: 0.06452551484107971, std train_loss 0.0\n",
      "Fold 4/4 median val_accuracy: 0.9354838728904724, std val_accuracy 0.0\n",
      "Fold 4/4 median train_accuracy: 0.9354838728904724, train_accuracy 0.0\n",
      "\n",
      "Mean val_loss: 0.05593129387125373, std val_loss: 0.029086191060020528\n",
      "Mean train_loss: 0.03255316966215105, std train_loss: 0.03197621843510304\n",
      "Mean val_accuracy: 0.9354838579893112, std val_accuracy: 0.03950791006646899\n",
      "Mean train_accuracy: 0.9354838579893112, std train_accuracy: 0.032258063554763794\n",
      "\n",
      "\n",
      "\n",
      "\n",
      "\n",
      "\n",
      "Best configuration (loss 0.0016939634806476533):\n",
      "{'batch_size': None, 'learning_rate': 0.8, 'max_epochs': 500, 'momentum': 0.7, 'initialization': {'type': 'default', 'min': -0.5, 'max': 0.5}, 'early_stopping': {'monitor': 'val_loss', 'patience': 20, 'delta': 0.0}, 'task': 'classification', 'trials_train': 1, 'trials_final': 5, 'nesterov': False, 'learning_rate_decay': None, 'regularization': {'method': None}, 'activations_1': 'relu', 'units_1': 8}\n"
     ]
    },
    {
     "name": "stderr",
     "output_type": "stream",
     "text": [
      " 20%|█████████                                    | 1/5 [00:23<01:33, 23.33s/it]"
     ]
    },
    {
     "name": "stdout",
     "output_type": "stream",
     "text": [
      "Trial 1/5 val_mse: 0.0037196108605712652\n",
      "Trial 1/5 train_mse: 0.00011136515240650624\n",
      "Trial 1/5 val_accuracy: 1.0\n",
      "Trial 1/5 train_accuracy: 1.0\n"
     ]
    },
    {
     "name": "stderr",
     "output_type": "stream",
     "text": [
      "\r",
      " 40%|██████████████████                           | 2/5 [00:49<01:14, 24.76s/it]"
     ]
    },
    {
     "name": "stdout",
     "output_type": "stream",
     "text": [
      "Trial 2/5 val_mse: 0.006991926580667496\n",
      "Trial 2/5 train_mse: 0.00020964867144357413\n",
      "Trial 2/5 val_accuracy: 1.0\n",
      "Trial 2/5 train_accuracy: 1.0\n"
     ]
    },
    {
     "name": "stderr",
     "output_type": "stream",
     "text": [
      "\r",
      " 60%|███████████████████████████                  | 3/5 [01:31<01:05, 32.62s/it]"
     ]
    },
    {
     "name": "stdout",
     "output_type": "stream",
     "text": [
      "Trial 3/5 val_mse: 0.017566213384270668\n",
      "Trial 3/5 train_mse: 4.794840788235888e-05\n",
      "Trial 3/5 val_accuracy: 0.9599999785423279\n",
      "Trial 3/5 train_accuracy: 1.0\n"
     ]
    },
    {
     "name": "stderr",
     "output_type": "stream",
     "text": [
      "\r",
      " 80%|████████████████████████████████████         | 4/5 [02:17<00:37, 38.00s/it]"
     ]
    },
    {
     "name": "stdout",
     "output_type": "stream",
     "text": [
      "Trial 4/5 val_mse: 0.0026758986059576273\n",
      "Trial 4/5 train_mse: 3.9021535485517234e-05\n",
      "Trial 4/5 val_accuracy: 1.0\n",
      "Trial 4/5 train_accuracy: 1.0\n"
     ]
    },
    {
     "name": "stderr",
     "output_type": "stream",
     "text": [
      "100%|█████████████████████████████████████████████| 5/5 [02:22<00:00, 28.56s/it]"
     ]
    },
    {
     "name": "stdout",
     "output_type": "stream",
     "text": [
      "Trial 5/5 val_mse: 0.07582193613052368\n",
      "Trial 5/5 train_mse: 0.001119457301683724\n",
      "Trial 5/5 val_accuracy: 0.8399999737739563\n",
      "Trial 5/5 train_accuracy: 1.0\n",
      "\n",
      "Median val_mse: 0.006991926580667496, std val_mse: 0.027738838088264012\n",
      "Median train_mse: 0.00020964867144357413, std train_mse: 0.0004115205703626935\n",
      "Median val_accuracy: 1.0, std val_accuracy: 0.06196774369662201\n",
      "Median train_accuracy: 1.0, std train_accuracy: 0.0\n",
      "\n",
      "Median model train_loss: 0.00020964867144357413\n",
      "Median model val_loss: 0.006991926580667496\n",
      "Median model test_loss: 0.004028249531984329\n",
      "\n",
      "Median model train_accuracy: 1.0\n",
      "Median model val_accuracy: 1.0\n",
      "Median model test_accuracy: 1.0\n"
     ]
    },
    {
     "name": "stderr",
     "output_type": "stream",
     "text": [
      "\n"
     ]
    },
    {
     "data": {
      "image/png": "[encoded data removed]",
      "text/plain": [
       "<Figure size 640x480 with 1 Axes>"
      ]
     },
     "metadata": {},
     "output_type": "display_data"
    },
    {
     "data": {
      "image/png": "[encoded data removed]",
      "text/plain": [
       "<Figure size 640x480 with 1 Axes>"
      ]
     },
     "metadata": {},
     "output_type": "display_data"
    },
    {
     "data": {
      "image/png": "[encoded data removed]",
      "text/plain": [
       "<Figure size 640x480 with 1 Axes>"
      ]
     },
     "metadata": {},
     "output_type": "display_data"
    },
    {
     "data": {
      "image/png": "[encoded data removed]",
      "text/plain": [
       "<Figure size 640x480 with 1 Axes>"
      ]
     },
     "metadata": {},
     "output_type": "display_data"
    },
    {
     "name": "stdout",
     "output_type": "stream",
     "text": [
      "14/14 [==============================] - 0s 1ms/step - loss: 0.0040 - accuracy: 1.0000\n",
      "[0.004028249531984329, 1.0]\n"
     ]
    }
   ],
   "source": [
    "model = grid_search(params, x_train, y_train, x_test, y_test, k_fold_val)\n",
    "test_model(model, x_test, y_test)"
   ]
  },
  {
   "cell_type": "markdown",
   "id": "580b0bcc",
   "metadata": {},
   "source": [
    "# Monks 2"
   ]
  },
  {
   "cell_type": "code",
   "execution_count": 8,
   "id": "46826a62",
   "metadata": {},
   "outputs": [
    {
     "name": "stdout",
     "output_type": "stream",
     "text": [
      "Loaded ./../data/monks-2 dataset\n",
      "(169, 17) (169,)\n",
      "(432, 17) (432,)\n"
     ]
    }
   ],
   "source": [
    "x_train, y_train, x_test, y_test = load_dataset(\"monks2\", True)\n",
    "print(x_train.shape, y_train.shape)\n",
    "print(x_test.shape, y_test.shape)"
   ]
  },
  {
   "cell_type": "code",
   "execution_count": 9,
   "id": "c040f69c",
   "metadata": {},
   "outputs": [],
   "source": [
    "params = {\n",
    "    \"task\": \"classification\",\n",
    "    \"trials_train\": 1,\n",
    "    \"trials_final\": 5,\n",
    "    \"initialization\": {\n",
    "        \"type\": \"default\",\n",
    "        \"min\": -0.5,\n",
    "        \"max\": 0.5,\n",
    "    },\n",
    "    \"early_stopping\": {\n",
    "        \"monitor\": \"val_loss\",\n",
    "        \"patience\": 20,\n",
    "        \"delta\": 0.0\n",
    "    },\n",
    "    \"max_epochs\": [500],\n",
    "    \"learning_rate\": [0.6, 0.7, 0.8, 0.9],# np.linspace(0.1, 0.4, 4).tolist(),\n",
    "    \"batch_size\": [None],\n",
    "    \"momentum\": [0.6, 0.7, 0.8, 0.9],#np.linspace(0.5, 0.9, 4).tolist(),\n",
    "    \"nesterov\": False,\n",
    "    \"learning_rate_decay\": None,\n",
    "    \"regularization\": [\n",
    "        {\n",
    "            \"type\": None\n",
    "        }\n",
    "    ],\n",
    "    \"layers\": [\n",
    "        {\n",
    "            \"activations\": [\"relu\"],\n",
    "            \"units\": [8],\n",
    "        },\n",
    "    ]\n",
    "}\n",
    "\n",
    "k_fold_val = {\n",
    "    \"type\": \"k-fold\",\n",
    "    \"n_folds\": 4\n",
    "}\n",
    "\n",
    "hold_out_val = {\n",
    "    \"type\": \"hold-out\",\n",
    "    \"val_split\": 0.15\n",
    "}"
   ]
  },
  {
   "cell_type": "code",
   "execution_count": 10,
   "id": "51fb016a",
   "metadata": {},
   "outputs": [
    {
     "name": "stdout",
     "output_type": "stream",
     "text": [
      "Testing configuration 1/16:\n",
      "{'batch_size': None, 'learning_rate': 0.6, 'max_epochs': 500, 'momentum': 0.6, 'initialization': {'type': 'default', 'min': -0.5, 'max': 0.5}, 'early_stopping': {'monitor': 'val_loss', 'patience': 20, 'delta': 0.0}, 'task': 'classification', 'trials_train': 1, 'trials_final': 5, 'nesterov': False, 'learning_rate_decay': None, 'regularization': {'method': None}, 'activations_1': 'relu', 'units_1': 8}\n",
      "\n",
      "Executing fold 1/4\n"
     ]
    },
    {
     "name": "stderr",
     "output_type": "stream",
     "text": [
      "100%|█████████████████████████████████████████████| 1/1 [00:17<00:00, 17.35s/it]\n"
     ]
    },
    {
     "name": "stdout",
     "output_type": "stream",
     "text": [
      "Fold 1/4 median val_loss: 0.00021064901375211775, std val_loss 0.0\n",
      "Fold 1/4 median train_loss: 0.00012303426046855748, std train_loss 0.0\n",
      "Fold 1/4 median val_accuracy: 1.0, std val_accuracy 0.0\n",
      "Fold 1/4 median train_accuracy: 1.0, train_accuracy 0.0\n",
      "\n",
      "Executing fold 2/4\n"
     ]
    },
    {
     "name": "stderr",
     "output_type": "stream",
     "text": [
      "100%|█████████████████████████████████████████████| 1/1 [00:16<00:00, 16.16s/it]\n"
     ]
    },
    {
     "name": "stdout",
     "output_type": "stream",
     "text": [
      "Fold 2/4 median val_loss: 0.002444750163704157, std val_loss 0.0\n",
      "Fold 2/4 median train_loss: 0.0002999414864461869, std train_loss 0.0\n",
      "Fold 2/4 median val_accuracy: 1.0, std val_accuracy 0.0\n",
      "Fold 2/4 median train_accuracy: 1.0, train_accuracy 0.0\n",
      "\n",
      "Executing fold 3/4\n"
     ]
    },
    {
     "name": "stderr",
     "output_type": "stream",
     "text": [
      "100%|█████████████████████████████████████████████| 1/1 [00:17<00:00, 17.77s/it]\n"
     ]
    },
    {
     "name": "stdout",
     "output_type": "stream",
     "text": [
      "Fold 3/4 median val_loss: 0.0010800143936648965, std val_loss 0.0\n",
      "Fold 3/4 median train_loss: 0.00010441991616971791, std train_loss 0.0\n",
      "Fold 3/4 median val_accuracy: 1.0, std val_accuracy 0.0\n",
      "Fold 3/4 median train_accuracy: 1.0, train_accuracy 0.0\n",
      "\n",
      "Executing fold 4/4\n"
     ]
    },
    {
     "name": "stderr",
     "output_type": "stream",
     "text": [
      "100%|█████████████████████████████████████████████| 1/1 [00:01<00:00,  1.16s/it]\n"
     ]
    },
    {
     "name": "stdout",
     "output_type": "stream",
     "text": [
      "Fold 4/4 median val_loss: 0.2634405195713043, std val_loss 0.0\n",
      "Fold 4/4 median train_loss: 0.15638864040374756, std train_loss 0.0\n",
      "Fold 4/4 median val_accuracy: 0.5952380895614624, std val_accuracy 0.0\n",
      "Fold 4/4 median train_accuracy: 0.8267716765403748, train_accuracy 0.0\n",
      "\n",
      "Mean val_loss: 0.06679398328560637, std val_loss: 0.11353672329562335\n",
      "Mean train_loss: 0.039229009016708005, std train_loss: 0.0676421877592754\n",
      "Mean val_accuracy: 0.8988095223903656, std val_accuracy: 0.17526704846204766\n",
      "Mean train_accuracy: 0.8988095223903656, std train_accuracy: 0.07501006438551165\n",
      "\n",
      "\n",
      "\n",
      "Testing configuration 2/16:\n",
      "{'batch_size': None, 'learning_rate': 0.6, 'max_epochs': 500, 'momentum': 0.7, 'initialization': {'type': 'default', 'min': -0.5, 'max': 0.5}, 'early_stopping': {'monitor': 'val_loss', 'patience': 20, 'delta': 0.0}, 'task': 'classification', 'trials_train': 1, 'trials_final': 5, 'nesterov': False, 'learning_rate_decay': None, 'regularization': {'method': None}, 'activations_1': 'relu', 'units_1': 8}\n",
      "\n",
      "Executing fold 1/4\n"
     ]
    },
    {
     "name": "stderr",
     "output_type": "stream",
     "text": [
      "100%|█████████████████████████████████████████████| 1/1 [00:19<00:00, 19.47s/it]\n"
     ]
    },
    {
     "name": "stdout",
     "output_type": "stream",
     "text": [
      "Fold 1/4 median val_loss: 0.0003240454534534365, std val_loss 0.0\n",
      "Fold 1/4 median train_loss: 0.00013383042823988944, std train_loss 0.0\n",
      "Fold 1/4 median val_accuracy: 1.0, std val_accuracy 0.0\n",
      "Fold 1/4 median train_accuracy: 1.0, train_accuracy 0.0\n",
      "\n",
      "Executing fold 2/4\n"
     ]
    },
    {
     "name": "stderr",
     "output_type": "stream",
     "text": [
      "100%|█████████████████████████████████████████████| 1/1 [00:18<00:00, 18.66s/it]\n"
     ]
    },
    {
     "name": "stdout",
     "output_type": "stream",
     "text": [
      "Fold 2/4 median val_loss: 7.811502291588113e-05, std val_loss 0.0\n",
      "Fold 2/4 median train_loss: 7.047226245049387e-05, std train_loss 0.0\n",
      "Fold 2/4 median val_accuracy: 1.0, std val_accuracy 0.0\n",
      "Fold 2/4 median train_accuracy: 1.0, train_accuracy 0.0\n",
      "\n",
      "Executing fold 3/4\n"
     ]
    },
    {
     "name": "stderr",
     "output_type": "stream",
     "text": [
      "100%|█████████████████████████████████████████████| 1/1 [00:17<00:00, 17.61s/it]\n"
     ]
    },
    {
     "name": "stdout",
     "output_type": "stream",
     "text": [
      "Fold 3/4 median val_loss: 0.0010913257719948888, std val_loss 0.0\n",
      "Fold 3/4 median train_loss: 0.00016076739120762795, std train_loss 0.0\n",
      "Fold 3/4 median val_accuracy: 1.0, std val_accuracy 0.0\n",
      "Fold 3/4 median train_accuracy: 1.0, train_accuracy 0.0\n",
      "\n",
      "Executing fold 4/4\n"
     ]
    },
    {
     "name": "stderr",
     "output_type": "stream",
     "text": [
      "100%|█████████████████████████████████████████████| 1/1 [00:15<00:00, 15.58s/it]\n"
     ]
    },
    {
     "name": "stdout",
     "output_type": "stream",
     "text": [
      "Fold 4/4 median val_loss: 0.0002833942708093673, std val_loss 0.0\n",
      "Fold 4/4 median train_loss: 7.109982107067481e-05, std train_loss 0.0\n",
      "Fold 4/4 median val_accuracy: 1.0, std val_accuracy 0.0\n",
      "Fold 4/4 median train_accuracy: 1.0, train_accuracy 0.0\n",
      "\n",
      "Mean val_loss: 0.0004442201297933934, std val_loss: 0.0003850602456766239\n",
      "Mean train_loss: 0.00010904247574217152, std train_loss: 3.9424661906678706e-05\n",
      "Mean val_accuracy: 1.0, std val_accuracy: 0.0\n",
      "Mean train_accuracy: 1.0, std train_accuracy: 0.0\n",
      "\n",
      "\n",
      "\n",
      "Testing configuration 3/16:\n",
      "{'batch_size': None, 'learning_rate': 0.6, 'max_epochs': 500, 'momentum': 0.8, 'initialization': {'type': 'default', 'min': -0.5, 'max': 0.5}, 'early_stopping': {'monitor': 'val_loss', 'patience': 20, 'delta': 0.0}, 'task': 'classification', 'trials_train': 1, 'trials_final': 5, 'nesterov': False, 'learning_rate_decay': None, 'regularization': {'method': None}, 'activations_1': 'relu', 'units_1': 8}\n",
      "\n",
      "Executing fold 1/4\n"
     ]
    },
    {
     "name": "stderr",
     "output_type": "stream",
     "text": [
      "100%|█████████████████████████████████████████████| 1/1 [00:17<00:00, 17.20s/it]\n"
     ]
    },
    {
     "name": "stdout",
     "output_type": "stream",
     "text": [
      "Fold 1/4 median val_loss: 0.025283344089984894, std val_loss 0.0\n",
      "Fold 1/4 median train_loss: 5.077395326225087e-05, std train_loss 0.0\n",
      "Fold 1/4 median val_accuracy: 0.9767441749572754, std val_accuracy 0.0\n",
      "Fold 1/4 median train_accuracy: 1.0, train_accuracy 0.0\n",
      "\n",
      "Executing fold 2/4\n"
     ]
    },
    {
     "name": "stderr",
     "output_type": "stream",
     "text": [
      "100%|█████████████████████████████████████████████| 1/1 [00:17<00:00, 17.22s/it]\n"
     ]
    },
    {
     "name": "stdout",
     "output_type": "stream",
     "text": [
      "Fold 2/4 median val_loss: 8.932588389143348e-05, std val_loss 0.0\n",
      "Fold 2/4 median train_loss: 4.6748522436246276e-05, std train_loss 0.0\n",
      "Fold 2/4 median val_accuracy: 1.0, std val_accuracy 0.0\n",
      "Fold 2/4 median train_accuracy: 1.0, train_accuracy 0.0\n",
      "\n",
      "Executing fold 3/4\n"
     ]
    },
    {
     "name": "stderr",
     "output_type": "stream",
     "text": [
      "100%|█████████████████████████████████████████████| 1/1 [00:17<00:00, 17.07s/it]\n"
     ]
    },
    {
     "name": "stdout",
     "output_type": "stream",
     "text": [
      "Fold 3/4 median val_loss: 0.0010975656332448125, std val_loss 0.0\n",
      "Fold 3/4 median train_loss: 4.924309178022668e-05, std train_loss 0.0\n",
      "Fold 3/4 median val_accuracy: 1.0, std val_accuracy 0.0\n",
      "Fold 3/4 median train_accuracy: 1.0, train_accuracy 0.0\n",
      "\n",
      "Executing fold 4/4\n"
     ]
    },
    {
     "name": "stderr",
     "output_type": "stream",
     "text": [
      "100%|█████████████████████████████████████████████| 1/1 [00:15<00:00, 15.75s/it]\n"
     ]
    },
    {
     "name": "stdout",
     "output_type": "stream",
     "text": [
      "Fold 4/4 median val_loss: 0.00015988880477380008, std val_loss 0.0\n",
      "Fold 4/4 median train_loss: 4.536267806543037e-05, std train_loss 0.0\n",
      "Fold 4/4 median val_accuracy: 1.0, std val_accuracy 0.0\n",
      "Fold 4/4 median train_accuracy: 1.0, train_accuracy 0.0\n",
      "\n",
      "Mean val_loss: 0.006657531102973735, std val_loss: 0.010760980446583718\n",
      "Mean train_loss: 4.803206138603855e-05, std train_loss: 2.1069910550629754e-06\n",
      "Mean val_accuracy: 0.9941860437393188, std val_accuracy: 0.01007006763648292\n",
      "Mean train_accuracy: 0.9941860437393188, std train_accuracy: 0.0\n",
      "\n",
      "\n",
      "\n",
      "Testing configuration 4/16:\n",
      "{'batch_size': None, 'learning_rate': 0.6, 'max_epochs': 500, 'momentum': 0.9, 'initialization': {'type': 'default', 'min': -0.5, 'max': 0.5}, 'early_stopping': {'monitor': 'val_loss', 'patience': 20, 'delta': 0.0}, 'task': 'classification', 'trials_train': 1, 'trials_final': 5, 'nesterov': False, 'learning_rate_decay': None, 'regularization': {'method': None}, 'activations_1': 'relu', 'units_1': 8}\n",
      "\n",
      "Executing fold 1/4\n"
     ]
    },
    {
     "name": "stderr",
     "output_type": "stream",
     "text": [
      "100%|█████████████████████████████████████████████| 1/1 [00:16<00:00, 16.49s/it]\n"
     ]
    },
    {
     "name": "stdout",
     "output_type": "stream",
     "text": [
      "Fold 1/4 median val_loss: 2.077919452858623e-05, std val_loss 0.0\n",
      "Fold 1/4 median train_loss: 1.7044278138200752e-05, std train_loss 0.0\n",
      "Fold 1/4 median val_accuracy: 1.0, std val_accuracy 0.0\n",
      "Fold 1/4 median train_accuracy: 1.0, train_accuracy 0.0\n",
      "\n",
      "Executing fold 2/4\n"
     ]
    },
    {
     "name": "stderr",
     "output_type": "stream",
     "text": [
      "100%|█████████████████████████████████████████████| 1/1 [00:15<00:00, 15.78s/it]\n"
     ]
    },
    {
     "name": "stdout",
     "output_type": "stream",
     "text": [
      "Fold 2/4 median val_loss: 5.5464639444835484e-05, std val_loss 0.0\n",
      "Fold 2/4 median train_loss: 1.664279625401832e-05, std train_loss 0.0\n",
      "Fold 2/4 median val_accuracy: 1.0, std val_accuracy 0.0\n",
      "Fold 2/4 median train_accuracy: 1.0, train_accuracy 0.0\n",
      "\n",
      "Executing fold 3/4\n"
     ]
    },
    {
     "name": "stderr",
     "output_type": "stream",
     "text": [
      "100%|█████████████████████████████████████████████| 1/1 [00:17<00:00, 17.73s/it]\n"
     ]
    },
    {
     "name": "stdout",
     "output_type": "stream",
     "text": [
      "Fold 3/4 median val_loss: 8.843882096698508e-05, std val_loss 0.0\n",
      "Fold 3/4 median train_loss: 3.884391480823979e-05, std train_loss 0.0\n",
      "Fold 3/4 median val_accuracy: 1.0, std val_accuracy 0.0\n",
      "Fold 3/4 median train_accuracy: 1.0, train_accuracy 0.0\n",
      "\n",
      "Executing fold 4/4\n"
     ]
    },
    {
     "name": "stderr",
     "output_type": "stream",
     "text": [
      "100%|█████████████████████████████████████████████| 1/1 [00:15<00:00, 15.47s/it]\n"
     ]
    },
    {
     "name": "stdout",
     "output_type": "stream",
     "text": [
      "Fold 4/4 median val_loss: 2.6323405108996667e-05, std val_loss 0.0\n",
      "Fold 4/4 median train_loss: 2.1511397790163755e-05, std train_loss 0.0\n",
      "Fold 4/4 median val_accuracy: 1.0, std val_accuracy 0.0\n",
      "Fold 4/4 median train_accuracy: 1.0, train_accuracy 0.0\n",
      "\n",
      "Mean val_loss: 4.7751515012350865e-05, std val_loss: 2.693333956579716e-05\n",
      "Mean train_loss: 2.3510596747655654e-05, std train_loss: 9.056591511132379e-06\n",
      "Mean val_accuracy: 1.0, std val_accuracy: 0.0\n",
      "Mean train_accuracy: 1.0, std train_accuracy: 0.0\n",
      "\n",
      "\n",
      "\n",
      "Testing configuration 5/16:\n",
      "{'batch_size': None, 'learning_rate': 0.7, 'max_epochs': 500, 'momentum': 0.6, 'initialization': {'type': 'default', 'min': -0.5, 'max': 0.5}, 'early_stopping': {'monitor': 'val_loss', 'patience': 20, 'delta': 0.0}, 'task': 'classification', 'trials_train': 1, 'trials_final': 5, 'nesterov': False, 'learning_rate_decay': None, 'regularization': {'method': None}, 'activations_1': 'relu', 'units_1': 8}\n",
      "\n",
      "Executing fold 1/4\n"
     ]
    },
    {
     "name": "stderr",
     "output_type": "stream",
     "text": [
      "100%|█████████████████████████████████████████████| 1/1 [00:15<00:00, 15.16s/it]\n"
     ]
    },
    {
     "name": "stdout",
     "output_type": "stream",
     "text": [
      "Fold 1/4 median val_loss: 0.00014763551007490605, std val_loss 0.0\n",
      "Fold 1/4 median train_loss: 8.619364962214604e-05, std train_loss 0.0\n",
      "Fold 1/4 median val_accuracy: 1.0, std val_accuracy 0.0\n",
      "Fold 1/4 median train_accuracy: 1.0, train_accuracy 0.0\n",
      "\n",
      "Executing fold 2/4\n"
     ]
    },
    {
     "name": "stderr",
     "output_type": "stream",
     "text": [
      "100%|█████████████████████████████████████████████| 1/1 [00:15<00:00, 15.30s/it]\n"
     ]
    },
    {
     "name": "stdout",
     "output_type": "stream",
     "text": [
      "Fold 2/4 median val_loss: 0.00046520872274413705, std val_loss 0.0\n",
      "Fold 2/4 median train_loss: 9.299279190599918e-05, std train_loss 0.0\n",
      "Fold 2/4 median val_accuracy: 1.0, std val_accuracy 0.0\n",
      "Fold 2/4 median train_accuracy: 1.0, train_accuracy 0.0\n",
      "\n",
      "Executing fold 3/4\n"
     ]
    },
    {
     "name": "stderr",
     "output_type": "stream",
     "text": [
      "100%|█████████████████████████████████████████████| 1/1 [00:20<00:00, 20.57s/it]\n"
     ]
    },
    {
     "name": "stdout",
     "output_type": "stream",
     "text": [
      "Fold 3/4 median val_loss: 0.00017455138731747866, std val_loss 0.0\n",
      "Fold 3/4 median train_loss: 8.521351992385462e-05, std train_loss 0.0\n",
      "Fold 3/4 median val_accuracy: 1.0, std val_accuracy 0.0\n",
      "Fold 3/4 median train_accuracy: 1.0, train_accuracy 0.0\n",
      "\n",
      "Executing fold 4/4\n"
     ]
    },
    {
     "name": "stderr",
     "output_type": "stream",
     "text": [
      "100%|█████████████████████████████████████████████| 1/1 [00:19<00:00, 19.64s/it]\n"
     ]
    },
    {
     "name": "stdout",
     "output_type": "stream",
     "text": [
      "Fold 4/4 median val_loss: 0.00012286279525142163, std val_loss 0.0\n",
      "Fold 4/4 median train_loss: 8.35289029055275e-05, std train_loss 0.0\n",
      "Fold 4/4 median val_accuracy: 1.0, std val_accuracy 0.0\n",
      "Fold 4/4 median train_accuracy: 1.0, train_accuracy 0.0\n",
      "\n",
      "Mean val_loss: 0.00022756460384698585, std val_loss: 0.00013841627173820267\n",
      "Mean train_loss: 8.698221608938184e-05, std train_loss: 3.598698264382792e-06\n",
      "Mean val_accuracy: 1.0, std val_accuracy: 0.0\n",
      "Mean train_accuracy: 1.0, std train_accuracy: 0.0\n",
      "\n",
      "\n",
      "\n",
      "Testing configuration 6/16:\n",
      "{'batch_size': None, 'learning_rate': 0.7, 'max_epochs': 500, 'momentum': 0.7, 'initialization': {'type': 'default', 'min': -0.5, 'max': 0.5}, 'early_stopping': {'monitor': 'val_loss', 'patience': 20, 'delta': 0.0}, 'task': 'classification', 'trials_train': 1, 'trials_final': 5, 'nesterov': False, 'learning_rate_decay': None, 'regularization': {'method': None}, 'activations_1': 'relu', 'units_1': 8}\n",
      "\n",
      "Executing fold 1/4\n"
     ]
    },
    {
     "name": "stderr",
     "output_type": "stream",
     "text": [
      "100%|█████████████████████████████████████████████| 1/1 [00:17<00:00, 17.06s/it]\n"
     ]
    },
    {
     "name": "stdout",
     "output_type": "stream",
     "text": [
      "Fold 1/4 median val_loss: 0.0029337957967072725, std val_loss 0.0\n",
      "Fold 1/4 median train_loss: 7.019950135145336e-05, std train_loss 0.0\n",
      "Fold 1/4 median val_accuracy: 1.0, std val_accuracy 0.0\n",
      "Fold 1/4 median train_accuracy: 1.0, train_accuracy 0.0\n",
      "\n",
      "Executing fold 2/4\n"
     ]
    },
    {
     "name": "stderr",
     "output_type": "stream",
     "text": [
      "100%|█████████████████████████████████████████████| 1/1 [00:16<00:00, 16.64s/it]\n"
     ]
    },
    {
     "name": "stdout",
     "output_type": "stream",
     "text": [
      "Fold 2/4 median val_loss: 0.00019781070295721292, std val_loss 0.0\n",
      "Fold 2/4 median train_loss: 6.174042209750041e-05, std train_loss 0.0\n",
      "Fold 2/4 median val_accuracy: 1.0, std val_accuracy 0.0\n",
      "Fold 2/4 median train_accuracy: 1.0, train_accuracy 0.0\n",
      "\n",
      "Executing fold 3/4\n"
     ]
    },
    {
     "name": "stderr",
     "output_type": "stream",
     "text": [
      "100%|█████████████████████████████████████████████| 1/1 [00:16<00:00, 16.80s/it]\n"
     ]
    },
    {
     "name": "stdout",
     "output_type": "stream",
     "text": [
      "Fold 3/4 median val_loss: 0.0001596924412297085, std val_loss 0.0\n",
      "Fold 3/4 median train_loss: 5.506650995812379e-05, std train_loss 0.0\n",
      "Fold 3/4 median val_accuracy: 1.0, std val_accuracy 0.0\n",
      "Fold 3/4 median train_accuracy: 1.0, train_accuracy 0.0\n",
      "\n",
      "Executing fold 4/4\n"
     ]
    },
    {
     "name": "stderr",
     "output_type": "stream",
     "text": [
      "100%|█████████████████████████████████████████████| 1/1 [00:01<00:00,  1.07s/it]\n"
     ]
    },
    {
     "name": "stdout",
     "output_type": "stream",
     "text": [
      "Fold 4/4 median val_loss: 0.31342050433158875, std val_loss 0.0\n",
      "Fold 4/4 median train_loss: 0.16631878912448883, std train_loss 0.0\n",
      "Fold 4/4 median val_accuracy: 0.5476190447807312, std val_accuracy 0.0\n",
      "Fold 4/4 median train_accuracy: 0.7716535329818726, train_accuracy 0.0\n",
      "\n",
      "Mean val_loss: 0.07917795081812073, std val_loss: 0.1352446789535241\n",
      "Mean train_loss: 0.04162644888947398, std train_loss: 0.07199115640030805\n",
      "Mean val_accuracy: 0.8869047611951828, std val_accuracy: 0.19588669970407865\n",
      "Mean train_accuracy: 0.8869047611951828, std train_accuracy: 0.0988769206510619\n",
      "\n",
      "\n",
      "\n",
      "Testing configuration 7/16:\n",
      "{'batch_size': None, 'learning_rate': 0.7, 'max_epochs': 500, 'momentum': 0.8, 'initialization': {'type': 'default', 'min': -0.5, 'max': 0.5}, 'early_stopping': {'monitor': 'val_loss', 'patience': 20, 'delta': 0.0}, 'task': 'classification', 'trials_train': 1, 'trials_final': 5, 'nesterov': False, 'learning_rate_decay': None, 'regularization': {'method': None}, 'activations_1': 'relu', 'units_1': 8}\n",
      "\n",
      "Executing fold 1/4\n"
     ]
    },
    {
     "name": "stderr",
     "output_type": "stream",
     "text": [
      "100%|█████████████████████████████████████████████| 1/1 [00:15<00:00, 15.66s/it]\n"
     ]
    },
    {
     "name": "stdout",
     "output_type": "stream",
     "text": [
      "Fold 1/4 median val_loss: 0.0004128116415813565, std val_loss 0.0\n",
      "Fold 1/4 median train_loss: 8.293226710520685e-05, std train_loss 0.0\n",
      "Fold 1/4 median val_accuracy: 1.0, std val_accuracy 0.0\n",
      "Fold 1/4 median train_accuracy: 1.0, train_accuracy 0.0\n",
      "\n",
      "Executing fold 2/4\n"
     ]
    },
    {
     "name": "stderr",
     "output_type": "stream",
     "text": [
      "100%|█████████████████████████████████████████████| 1/1 [00:15<00:00, 15.01s/it]\n"
     ]
    },
    {
     "name": "stdout",
     "output_type": "stream",
     "text": [
      "Fold 2/4 median val_loss: 7.670516788493842e-05, std val_loss 0.0\n",
      "Fold 2/4 median train_loss: 3.667292548925616e-05, std train_loss 0.0\n",
      "Fold 2/4 median val_accuracy: 1.0, std val_accuracy 0.0\n",
      "Fold 2/4 median train_accuracy: 1.0, train_accuracy 0.0\n",
      "\n",
      "Executing fold 3/4\n"
     ]
    },
    {
     "name": "stderr",
     "output_type": "stream",
     "text": [
      "100%|█████████████████████████████████████████████| 1/1 [00:15<00:00, 15.40s/it]\n"
     ]
    },
    {
     "name": "stdout",
     "output_type": "stream",
     "text": [
      "Fold 3/4 median val_loss: 9.948226215783507e-05, std val_loss 0.0\n",
      "Fold 3/4 median train_loss: 3.4649598092073575e-05, std train_loss 0.0\n",
      "Fold 3/4 median val_accuracy: 1.0, std val_accuracy 0.0\n",
      "Fold 3/4 median train_accuracy: 1.0, train_accuracy 0.0\n",
      "\n",
      "Executing fold 4/4\n"
     ]
    },
    {
     "name": "stderr",
     "output_type": "stream",
     "text": [
      "100%|█████████████████████████████████████████████| 1/1 [00:15<00:00, 15.68s/it]\n"
     ]
    },
    {
     "name": "stdout",
     "output_type": "stream",
     "text": [
      "Fold 4/4 median val_loss: 6.733844929840416e-05, std val_loss 0.0\n",
      "Fold 4/4 median train_loss: 3.7346992030506954e-05, std train_loss 0.0\n",
      "Fold 4/4 median val_accuracy: 1.0, std val_accuracy 0.0\n",
      "Fold 4/4 median train_accuracy: 1.0, train_accuracy 0.0\n",
      "\n",
      "Mean val_loss: 0.00016408438023063354, std val_loss: 0.0001440777447253916\n",
      "Mean train_loss: 4.7900445679260883e-05, std train_loss: 2.0249975726723697e-05\n",
      "Mean val_accuracy: 1.0, std val_accuracy: 0.0\n",
      "Mean train_accuracy: 1.0, std train_accuracy: 0.0\n",
      "\n",
      "\n",
      "\n",
      "Testing configuration 8/16:\n",
      "{'batch_size': None, 'learning_rate': 0.7, 'max_epochs': 500, 'momentum': 0.9, 'initialization': {'type': 'default', 'min': -0.5, 'max': 0.5}, 'early_stopping': {'monitor': 'val_loss', 'patience': 20, 'delta': 0.0}, 'task': 'classification', 'trials_train': 1, 'trials_final': 5, 'nesterov': False, 'learning_rate_decay': None, 'regularization': {'method': None}, 'activations_1': 'relu', 'units_1': 8}\n",
      "\n",
      "Executing fold 1/4\n"
     ]
    },
    {
     "name": "stderr",
     "output_type": "stream",
     "text": [
      "100%|█████████████████████████████████████████████| 1/1 [00:16<00:00, 16.63s/it]\n"
     ]
    },
    {
     "name": "stdout",
     "output_type": "stream",
     "text": [
      "Fold 1/4 median val_loss: 0.00018840508710127324, std val_loss 0.0\n",
      "Fold 1/4 median train_loss: 1.5145124962145928e-05, std train_loss 0.0\n",
      "Fold 1/4 median val_accuracy: 1.0, std val_accuracy 0.0\n",
      "Fold 1/4 median train_accuracy: 1.0, train_accuracy 0.0\n",
      "\n",
      "Executing fold 2/4\n"
     ]
    },
    {
     "name": "stderr",
     "output_type": "stream",
     "text": [
      "100%|█████████████████████████████████████████████| 1/1 [00:17<00:00, 17.53s/it]\n"
     ]
    },
    {
     "name": "stdout",
     "output_type": "stream",
     "text": [
      "Fold 2/4 median val_loss: 0.0018112297402694821, std val_loss 0.0\n",
      "Fold 2/4 median train_loss: 1.4333474609884433e-05, std train_loss 0.0\n",
      "Fold 2/4 median val_accuracy: 1.0, std val_accuracy 0.0\n",
      "Fold 2/4 median train_accuracy: 1.0, train_accuracy 0.0\n",
      "\n",
      "Executing fold 3/4\n"
     ]
    },
    {
     "name": "stderr",
     "output_type": "stream",
     "text": [
      "100%|█████████████████████████████████████████████| 1/1 [00:12<00:00, 12.36s/it]\n"
     ]
    },
    {
     "name": "stdout",
     "output_type": "stream",
     "text": [
      "Fold 3/4 median val_loss: 0.023123718798160553, std val_loss 0.0\n",
      "Fold 3/4 median train_loss: 0.01578349620103836, std train_loss 0.0\n",
      "Fold 3/4 median val_accuracy: 0.976190447807312, std val_accuracy 0.0\n",
      "Fold 3/4 median train_accuracy: 0.9842519760131836, train_accuracy 0.0\n",
      "\n",
      "Executing fold 4/4\n"
     ]
    },
    {
     "name": "stderr",
     "output_type": "stream",
     "text": [
      "100%|█████████████████████████████████████████████| 1/1 [00:14<00:00, 14.52s/it]\n"
     ]
    },
    {
     "name": "stdout",
     "output_type": "stream",
     "text": [
      "Fold 4/4 median val_loss: 2.6540968974586576e-05, std val_loss 0.0\n",
      "Fold 4/4 median train_loss: 1.7564670997671783e-05, std train_loss 0.0\n",
      "Fold 4/4 median val_accuracy: 1.0, std val_accuracy 0.0\n",
      "Fold 4/4 median train_accuracy: 1.0, train_accuracy 0.0\n",
      "\n",
      "Mean val_loss: 0.006287473648626474, std val_loss: 0.009745432591727662\n",
      "Mean train_loss: 0.003957634867902016, std train_loss: 0.006827664327546956\n",
      "Mean val_accuracy: 0.994047611951828, std val_accuracy: 0.010309838525799642\n",
      "Mean train_accuracy: 0.994047611951828, std train_accuracy: 0.006819094415994852\n",
      "\n",
      "\n",
      "\n",
      "Testing configuration 9/16:\n",
      "{'batch_size': None, 'learning_rate': 0.8, 'max_epochs': 500, 'momentum': 0.6, 'initialization': {'type': 'default', 'min': -0.5, 'max': 0.5}, 'early_stopping': {'monitor': 'val_loss', 'patience': 20, 'delta': 0.0}, 'task': 'classification', 'trials_train': 1, 'trials_final': 5, 'nesterov': False, 'learning_rate_decay': None, 'regularization': {'method': None}, 'activations_1': 'relu', 'units_1': 8}\n",
      "\n",
      "Executing fold 1/4\n"
     ]
    },
    {
     "name": "stderr",
     "output_type": "stream",
     "text": [
      "100%|█████████████████████████████████████████████| 1/1 [00:14<00:00, 14.52s/it]\n"
     ]
    },
    {
     "name": "stdout",
     "output_type": "stream",
     "text": [
      "Fold 1/4 median val_loss: 0.0001604324352229014, std val_loss 0.0\n",
      "Fold 1/4 median train_loss: 9.87175153568387e-05, std train_loss 0.0\n",
      "Fold 1/4 median val_accuracy: 1.0, std val_accuracy 0.0\n",
      "Fold 1/4 median train_accuracy: 1.0, train_accuracy 0.0\n",
      "\n",
      "Executing fold 2/4\n"
     ]
    },
    {
     "name": "stderr",
     "output_type": "stream",
     "text": [
      "100%|█████████████████████████████████████████████| 1/1 [00:15<00:00, 15.10s/it]\n"
     ]
    },
    {
     "name": "stdout",
     "output_type": "stream",
     "text": [
      "Fold 2/4 median val_loss: 0.0002469519677106291, std val_loss 0.0\n",
      "Fold 2/4 median train_loss: 6.903706525918096e-05, std train_loss 0.0\n",
      "Fold 2/4 median val_accuracy: 1.0, std val_accuracy 0.0\n",
      "Fold 2/4 median train_accuracy: 1.0, train_accuracy 0.0\n",
      "\n",
      "Executing fold 3/4\n"
     ]
    },
    {
     "name": "stderr",
     "output_type": "stream",
     "text": [
      "100%|█████████████████████████████████████████████| 1/1 [00:18<00:00, 18.88s/it]\n"
     ]
    },
    {
     "name": "stdout",
     "output_type": "stream",
     "text": [
      "Fold 3/4 median val_loss: 9.56223375396803e-05, std val_loss 0.0\n",
      "Fold 3/4 median train_loss: 7.425725198118016e-05, std train_loss 0.0\n",
      "Fold 3/4 median val_accuracy: 1.0, std val_accuracy 0.0\n",
      "Fold 3/4 median train_accuracy: 1.0, train_accuracy 0.0\n",
      "\n",
      "Executing fold 4/4\n"
     ]
    },
    {
     "name": "stderr",
     "output_type": "stream",
     "text": [
      "100%|█████████████████████████████████████████████| 1/1 [00:17<00:00, 17.84s/it]\n"
     ]
    },
    {
     "name": "stdout",
     "output_type": "stream",
     "text": [
      "Fold 4/4 median val_loss: 0.0002533608640078455, std val_loss 0.0\n",
      "Fold 4/4 median train_loss: 0.00013691648200619966, std train_loss 0.0\n",
      "Fold 4/4 median val_accuracy: 1.0, std val_accuracy 0.0\n",
      "Fold 4/4 median train_accuracy: 1.0, train_accuracy 0.0\n",
      "\n",
      "Mean val_loss: 0.00018909190112026408, std val_loss: 6.526141892028107e-05\n",
      "Mean train_loss: 9.473207865084987e-05, std train_loss: 2.6808859694769527e-05\n",
      "Mean val_accuracy: 1.0, std val_accuracy: 0.0\n",
      "Mean train_accuracy: 1.0, std train_accuracy: 0.0\n",
      "\n",
      "\n",
      "\n",
      "Testing configuration 10/16:\n",
      "{'batch_size': None, 'learning_rate': 0.8, 'max_epochs': 500, 'momentum': 0.7, 'initialization': {'type': 'default', 'min': -0.5, 'max': 0.5}, 'early_stopping': {'monitor': 'val_loss', 'patience': 20, 'delta': 0.0}, 'task': 'classification', 'trials_train': 1, 'trials_final': 5, 'nesterov': False, 'learning_rate_decay': None, 'regularization': {'method': None}, 'activations_1': 'relu', 'units_1': 8}\n",
      "\n",
      "Executing fold 1/4\n"
     ]
    },
    {
     "name": "stderr",
     "output_type": "stream",
     "text": [
      "100%|█████████████████████████████████████████████| 1/1 [00:20<00:00, 20.86s/it]\n"
     ]
    },
    {
     "name": "stdout",
     "output_type": "stream",
     "text": [
      "Fold 1/4 median val_loss: 0.0001458411425119266, std val_loss 0.0\n",
      "Fold 1/4 median train_loss: 6.657413905486465e-05, std train_loss 0.0\n",
      "Fold 1/4 median val_accuracy: 1.0, std val_accuracy 0.0\n",
      "Fold 1/4 median train_accuracy: 1.0, train_accuracy 0.0\n",
      "\n",
      "Executing fold 2/4\n"
     ]
    },
    {
     "name": "stderr",
     "output_type": "stream",
     "text": [
      "100%|█████████████████████████████████████████████| 1/1 [00:16<00:00, 16.93s/it]\n"
     ]
    },
    {
     "name": "stdout",
     "output_type": "stream",
     "text": [
      "Fold 2/4 median val_loss: 7.78404573793523e-05, std val_loss 0.0\n",
      "Fold 2/4 median train_loss: 4.9478425353299826e-05, std train_loss 0.0\n",
      "Fold 2/4 median val_accuracy: 1.0, std val_accuracy 0.0\n",
      "Fold 2/4 median train_accuracy: 1.0, train_accuracy 0.0\n",
      "\n",
      "Executing fold 3/4\n"
     ]
    },
    {
     "name": "stderr",
     "output_type": "stream",
     "text": [
      "100%|█████████████████████████████████████████████| 1/1 [00:16<00:00, 16.14s/it]\n"
     ]
    },
    {
     "name": "stdout",
     "output_type": "stream",
     "text": [
      "Fold 3/4 median val_loss: 0.00011457518121460453, std val_loss 0.0\n",
      "Fold 3/4 median train_loss: 5.109806079417467e-05, std train_loss 0.0\n",
      "Fold 3/4 median val_accuracy: 1.0, std val_accuracy 0.0\n",
      "Fold 3/4 median train_accuracy: 1.0, train_accuracy 0.0\n",
      "\n",
      "Executing fold 4/4\n"
     ]
    },
    {
     "name": "stderr",
     "output_type": "stream",
     "text": [
      "100%|█████████████████████████████████████████████| 1/1 [00:18<00:00, 18.31s/it]\n"
     ]
    },
    {
     "name": "stdout",
     "output_type": "stream",
     "text": [
      "Fold 4/4 median val_loss: 0.00033824151614680886, std val_loss 0.0\n",
      "Fold 4/4 median train_loss: 5.227448855293915e-05, std train_loss 0.0\n",
      "Fold 4/4 median val_accuracy: 1.0, std val_accuracy 0.0\n",
      "Fold 4/4 median train_accuracy: 1.0, train_accuracy 0.0\n",
      "\n",
      "Mean val_loss: 0.00016912457431317307, std val_loss: 0.00010056227486415354\n",
      "Mean train_loss: 5.485627843881957e-05, std train_loss: 6.837751825451279e-06\n",
      "Mean val_accuracy: 1.0, std val_accuracy: 0.0\n",
      "Mean train_accuracy: 1.0, std train_accuracy: 0.0\n",
      "\n",
      "\n",
      "\n",
      "Testing configuration 11/16:\n",
      "{'batch_size': None, 'learning_rate': 0.8, 'max_epochs': 500, 'momentum': 0.8, 'initialization': {'type': 'default', 'min': -0.5, 'max': 0.5}, 'early_stopping': {'monitor': 'val_loss', 'patience': 20, 'delta': 0.0}, 'task': 'classification', 'trials_train': 1, 'trials_final': 5, 'nesterov': False, 'learning_rate_decay': None, 'regularization': {'method': None}, 'activations_1': 'relu', 'units_1': 8}\n",
      "\n",
      "Executing fold 1/4\n"
     ]
    },
    {
     "name": "stderr",
     "output_type": "stream",
     "text": [
      "100%|█████████████████████████████████████████████| 1/1 [00:17<00:00, 17.49s/it]\n"
     ]
    },
    {
     "name": "stdout",
     "output_type": "stream",
     "text": [
      "Fold 1/4 median val_loss: 5.330062049324624e-05, std val_loss 0.0\n",
      "Fold 1/4 median train_loss: 2.9194063245086e-05, std train_loss 0.0\n",
      "Fold 1/4 median val_accuracy: 1.0, std val_accuracy 0.0\n",
      "Fold 1/4 median train_accuracy: 1.0, train_accuracy 0.0\n",
      "\n",
      "Executing fold 2/4\n"
     ]
    },
    {
     "name": "stderr",
     "output_type": "stream",
     "text": [
      "100%|█████████████████████████████████████████████| 1/1 [00:15<00:00, 15.69s/it]\n"
     ]
    },
    {
     "name": "stdout",
     "output_type": "stream",
     "text": [
      "Fold 2/4 median val_loss: 5.784223321825266e-05, std val_loss 0.0\n",
      "Fold 2/4 median train_loss: 3.141400884487666e-05, std train_loss 0.0\n",
      "Fold 2/4 median val_accuracy: 1.0, std val_accuracy 0.0\n",
      "Fold 2/4 median train_accuracy: 1.0, train_accuracy 0.0\n",
      "\n",
      "Executing fold 3/4\n"
     ]
    },
    {
     "name": "stderr",
     "output_type": "stream",
     "text": [
      "100%|█████████████████████████████████████████████| 1/1 [00:14<00:00, 14.90s/it]\n"
     ]
    },
    {
     "name": "stdout",
     "output_type": "stream",
     "text": [
      "Fold 3/4 median val_loss: 8.844897092785686e-05, std val_loss 0.0\n",
      "Fold 3/4 median train_loss: 4.8845609853742644e-05, std train_loss 0.0\n",
      "Fold 3/4 median val_accuracy: 1.0, std val_accuracy 0.0\n",
      "Fold 3/4 median train_accuracy: 1.0, train_accuracy 0.0\n",
      "\n",
      "Executing fold 4/4\n"
     ]
    },
    {
     "name": "stderr",
     "output_type": "stream",
     "text": [
      "100%|█████████████████████████████████████████████| 1/1 [00:15<00:00, 15.20s/it]\n"
     ]
    },
    {
     "name": "stdout",
     "output_type": "stream",
     "text": [
      "Fold 4/4 median val_loss: 0.00020263313490431756, std val_loss 0.0\n",
      "Fold 4/4 median train_loss: 3.26219160342589e-05, std train_loss 0.0\n",
      "Fold 4/4 median val_accuracy: 1.0, std val_accuracy 0.0\n",
      "Fold 4/4 median train_accuracy: 1.0, train_accuracy 0.0\n",
      "\n",
      "Mean val_loss: 0.00010055623988591833, std val_loss: 6.046457307384757e-05\n",
      "Mean train_loss: 3.551889949449105e-05, std train_loss: 7.791780974131045e-06\n",
      "Mean val_accuracy: 1.0, std val_accuracy: 0.0\n",
      "Mean train_accuracy: 1.0, std train_accuracy: 0.0\n",
      "\n",
      "\n",
      "\n",
      "Testing configuration 12/16:\n",
      "{'batch_size': None, 'learning_rate': 0.8, 'max_epochs': 500, 'momentum': 0.9, 'initialization': {'type': 'default', 'min': -0.5, 'max': 0.5}, 'early_stopping': {'monitor': 'val_loss', 'patience': 20, 'delta': 0.0}, 'task': 'classification', 'trials_train': 1, 'trials_final': 5, 'nesterov': False, 'learning_rate_decay': None, 'regularization': {'method': None}, 'activations_1': 'relu', 'units_1': 8}\n",
      "\n",
      "Executing fold 1/4\n"
     ]
    },
    {
     "name": "stderr",
     "output_type": "stream",
     "text": [
      "100%|█████████████████████████████████████████████| 1/1 [00:15<00:00, 15.02s/it]\n"
     ]
    },
    {
     "name": "stdout",
     "output_type": "stream",
     "text": [
      "Fold 1/4 median val_loss: 0.0008139676065184176, std val_loss 0.0\n",
      "Fold 1/4 median train_loss: 1.143985991802765e-05, std train_loss 0.0\n",
      "Fold 1/4 median val_accuracy: 1.0, std val_accuracy 0.0\n",
      "Fold 1/4 median train_accuracy: 1.0, train_accuracy 0.0\n",
      "\n",
      "Executing fold 2/4\n"
     ]
    },
    {
     "name": "stderr",
     "output_type": "stream",
     "text": [
      "100%|█████████████████████████████████████████████| 1/1 [00:14<00:00, 14.87s/it]\n"
     ]
    },
    {
     "name": "stdout",
     "output_type": "stream",
     "text": [
      "Fold 2/4 median val_loss: 0.00012639867782127112, std val_loss 0.0\n",
      "Fold 2/4 median train_loss: 1.1705413271556608e-05, std train_loss 0.0\n",
      "Fold 2/4 median val_accuracy: 1.0, std val_accuracy 0.0\n",
      "Fold 2/4 median train_accuracy: 1.0, train_accuracy 0.0\n",
      "\n",
      "Executing fold 3/4\n"
     ]
    },
    {
     "name": "stderr",
     "output_type": "stream",
     "text": [
      "100%|█████████████████████████████████████████████| 1/1 [00:17<00:00, 17.49s/it]\n"
     ]
    },
    {
     "name": "stdout",
     "output_type": "stream",
     "text": [
      "Fold 3/4 median val_loss: 0.00010086225665872917, std val_loss 0.0\n",
      "Fold 3/4 median train_loss: 3.9821672544348985e-05, std train_loss 0.0\n",
      "Fold 3/4 median val_accuracy: 1.0, std val_accuracy 0.0\n",
      "Fold 3/4 median train_accuracy: 1.0, train_accuracy 0.0\n",
      "\n",
      "Executing fold 4/4\n"
     ]
    },
    {
     "name": "stderr",
     "output_type": "stream",
     "text": [
      "100%|█████████████████████████████████████████████| 1/1 [00:16<00:00, 16.83s/it]\n"
     ]
    },
    {
     "name": "stdout",
     "output_type": "stream",
     "text": [
      "Fold 4/4 median val_loss: 2.8844313419540413e-05, std val_loss 0.0\n",
      "Fold 4/4 median train_loss: 1.3470609701471403e-05, std train_loss 0.0\n",
      "Fold 4/4 median val_accuracy: 1.0, std val_accuracy 0.0\n",
      "Fold 4/4 median train_accuracy: 1.0, train_accuracy 0.0\n",
      "\n",
      "Mean val_loss: 0.0002675182136044896, std val_loss: 0.00031751421267821767\n",
      "Mean train_loss: 1.9109388858851162e-05, std train_loss: 1.198368739709968e-05\n",
      "Mean val_accuracy: 1.0, std val_accuracy: 0.0\n",
      "Mean train_accuracy: 1.0, std train_accuracy: 0.0\n",
      "\n",
      "\n",
      "\n",
      "Testing configuration 13/16:\n",
      "{'batch_size': None, 'learning_rate': 0.9, 'max_epochs': 500, 'momentum': 0.6, 'initialization': {'type': 'default', 'min': -0.5, 'max': 0.5}, 'early_stopping': {'monitor': 'val_loss', 'patience': 20, 'delta': 0.0}, 'task': 'classification', 'trials_train': 1, 'trials_final': 5, 'nesterov': False, 'learning_rate_decay': None, 'regularization': {'method': None}, 'activations_1': 'relu', 'units_1': 8}\n",
      "\n",
      "Executing fold 1/4\n"
     ]
    },
    {
     "name": "stderr",
     "output_type": "stream",
     "text": [
      "100%|█████████████████████████████████████████████| 1/1 [00:17<00:00, 17.80s/it]\n"
     ]
    },
    {
     "name": "stdout",
     "output_type": "stream",
     "text": [
      "Fold 1/4 median val_loss: 0.00024692073930054903, std val_loss 0.0\n",
      "Fold 1/4 median train_loss: 6.74033144605346e-05, std train_loss 0.0\n",
      "Fold 1/4 median val_accuracy: 1.0, std val_accuracy 0.0\n",
      "Fold 1/4 median train_accuracy: 1.0, train_accuracy 0.0\n",
      "\n",
      "Executing fold 2/4\n"
     ]
    },
    {
     "name": "stderr",
     "output_type": "stream",
     "text": [
      "100%|█████████████████████████████████████████████| 1/1 [00:16<00:00, 16.87s/it]\n"
     ]
    },
    {
     "name": "stdout",
     "output_type": "stream",
     "text": [
      "Fold 2/4 median val_loss: 0.0007479138439521194, std val_loss 0.0\n",
      "Fold 2/4 median train_loss: 0.00016082904767245054, std train_loss 0.0\n",
      "Fold 2/4 median val_accuracy: 1.0, std val_accuracy 0.0\n",
      "Fold 2/4 median train_accuracy: 1.0, train_accuracy 0.0\n",
      "\n",
      "Executing fold 3/4\n"
     ]
    },
    {
     "name": "stderr",
     "output_type": "stream",
     "text": [
      "100%|█████████████████████████████████████████████| 1/1 [00:16<00:00, 16.63s/it]\n"
     ]
    },
    {
     "name": "stdout",
     "output_type": "stream",
     "text": [
      "Fold 3/4 median val_loss: 0.00017194893734995276, std val_loss 0.0\n",
      "Fold 3/4 median train_loss: 0.00011293307761661708, std train_loss 0.0\n",
      "Fold 3/4 median val_accuracy: 1.0, std val_accuracy 0.0\n",
      "Fold 3/4 median train_accuracy: 1.0, train_accuracy 0.0\n",
      "\n",
      "Executing fold 4/4\n"
     ]
    },
    {
     "name": "stderr",
     "output_type": "stream",
     "text": [
      "100%|█████████████████████████████████████████████| 1/1 [00:17<00:00, 17.06s/it]\n"
     ]
    },
    {
     "name": "stdout",
     "output_type": "stream",
     "text": [
      "Fold 4/4 median val_loss: 0.00011998241097899154, std val_loss 0.0\n",
      "Fold 4/4 median train_loss: 0.00011793507292168215, std train_loss 0.0\n",
      "Fold 4/4 median val_accuracy: 1.0, std val_accuracy 0.0\n",
      "Fold 4/4 median train_accuracy: 1.0, train_accuracy 0.0\n",
      "\n",
      "Mean val_loss: 0.00032169148289540317, std val_loss: 0.00025018270563844963\n",
      "Mean train_loss: 0.0001147751281678211, std train_loss: 3.3084855435445804e-05\n",
      "Mean val_accuracy: 1.0, std val_accuracy: 0.0\n",
      "Mean train_accuracy: 1.0, std train_accuracy: 0.0\n",
      "\n",
      "\n",
      "\n",
      "Testing configuration 14/16:\n",
      "{'batch_size': None, 'learning_rate': 0.9, 'max_epochs': 500, 'momentum': 0.7, 'initialization': {'type': 'default', 'min': -0.5, 'max': 0.5}, 'early_stopping': {'monitor': 'val_loss', 'patience': 20, 'delta': 0.0}, 'task': 'classification', 'trials_train': 1, 'trials_final': 5, 'nesterov': False, 'learning_rate_decay': None, 'regularization': {'method': None}, 'activations_1': 'relu', 'units_1': 8}\n",
      "\n",
      "Executing fold 1/4\n"
     ]
    },
    {
     "name": "stderr",
     "output_type": "stream",
     "text": [
      "100%|█████████████████████████████████████████████| 1/1 [00:16<00:00, 16.27s/it]\n"
     ]
    },
    {
     "name": "stdout",
     "output_type": "stream",
     "text": [
      "Fold 1/4 median val_loss: 7.229102629935369e-05, std val_loss 0.0\n",
      "Fold 1/4 median train_loss: 4.389235618873499e-05, std train_loss 0.0\n",
      "Fold 1/4 median val_accuracy: 1.0, std val_accuracy 0.0\n",
      "Fold 1/4 median train_accuracy: 1.0, train_accuracy 0.0\n",
      "\n",
      "Executing fold 2/4\n"
     ]
    },
    {
     "name": "stderr",
     "output_type": "stream",
     "text": [
      "100%|█████████████████████████████████████████████| 1/1 [00:18<00:00, 18.19s/it]\n"
     ]
    },
    {
     "name": "stdout",
     "output_type": "stream",
     "text": [
      "Fold 2/4 median val_loss: 0.0006432340014725924, std val_loss 0.0\n",
      "Fold 2/4 median train_loss: 4.778798029292375e-05, std train_loss 0.0\n",
      "Fold 2/4 median val_accuracy: 1.0, std val_accuracy 0.0\n",
      "Fold 2/4 median train_accuracy: 1.0, train_accuracy 0.0\n",
      "\n",
      "Executing fold 3/4\n"
     ]
    },
    {
     "name": "stderr",
     "output_type": "stream",
     "text": [
      "100%|█████████████████████████████████████████████| 1/1 [00:18<00:00, 18.30s/it]\n"
     ]
    },
    {
     "name": "stdout",
     "output_type": "stream",
     "text": [
      "Fold 3/4 median val_loss: 0.0002512551436666399, std val_loss 0.0\n",
      "Fold 3/4 median train_loss: 4.5388380385702476e-05, std train_loss 0.0\n",
      "Fold 3/4 median val_accuracy: 1.0, std val_accuracy 0.0\n",
      "Fold 3/4 median train_accuracy: 1.0, train_accuracy 0.0\n",
      "\n",
      "Executing fold 4/4\n"
     ]
    },
    {
     "name": "stderr",
     "output_type": "stream",
     "text": [
      "100%|█████████████████████████████████████████████| 1/1 [00:15<00:00, 15.50s/it]\n"
     ]
    },
    {
     "name": "stdout",
     "output_type": "stream",
     "text": [
      "Fold 4/4 median val_loss: 7.809757516952232e-05, std val_loss 0.0\n",
      "Fold 4/4 median train_loss: 4.7583638661308214e-05, std train_loss 0.0\n",
      "Fold 4/4 median val_accuracy: 1.0, std val_accuracy 0.0\n",
      "Fold 4/4 median train_accuracy: 1.0, train_accuracy 0.0\n",
      "\n",
      "Mean val_loss: 0.00026121943665202707, std val_loss: 0.00023198166698090085\n",
      "Mean train_loss: 4.616308888216736e-05, std train_loss: 1.6135856028798493e-06\n",
      "Mean val_accuracy: 1.0, std val_accuracy: 0.0\n",
      "Mean train_accuracy: 1.0, std train_accuracy: 0.0\n",
      "\n",
      "\n",
      "\n",
      "Testing configuration 15/16:\n",
      "{'batch_size': None, 'learning_rate': 0.9, 'max_epochs': 500, 'momentum': 0.8, 'initialization': {'type': 'default', 'min': -0.5, 'max': 0.5}, 'early_stopping': {'monitor': 'val_loss', 'patience': 20, 'delta': 0.0}, 'task': 'classification', 'trials_train': 1, 'trials_final': 5, 'nesterov': False, 'learning_rate_decay': None, 'regularization': {'method': None}, 'activations_1': 'relu', 'units_1': 8}\n",
      "\n",
      "Executing fold 1/4\n"
     ]
    },
    {
     "name": "stderr",
     "output_type": "stream",
     "text": [
      "100%|█████████████████████████████████████████████| 1/1 [00:17<00:00, 17.08s/it]\n"
     ]
    },
    {
     "name": "stdout",
     "output_type": "stream",
     "text": [
      "Fold 1/4 median val_loss: 0.011859721504151821, std val_loss 0.0\n",
      "Fold 1/4 median train_loss: 7.273612573044375e-05, std train_loss 0.0\n",
      "Fold 1/4 median val_accuracy: 0.9767441749572754, std val_accuracy 0.0\n",
      "Fold 1/4 median train_accuracy: 1.0, train_accuracy 0.0\n",
      "\n",
      "Executing fold 2/4\n"
     ]
    },
    {
     "name": "stderr",
     "output_type": "stream",
     "text": [
      "100%|█████████████████████████████████████████████| 1/1 [00:16<00:00, 16.72s/it]\n"
     ]
    },
    {
     "name": "stdout",
     "output_type": "stream",
     "text": [
      "Fold 2/4 median val_loss: 0.0005706804804503918, std val_loss 0.0\n",
      "Fold 2/4 median train_loss: 2.7446436433820054e-05, std train_loss 0.0\n",
      "Fold 2/4 median val_accuracy: 1.0, std val_accuracy 0.0\n",
      "Fold 2/4 median train_accuracy: 1.0, train_accuracy 0.0\n",
      "\n",
      "Executing fold 3/4\n"
     ]
    },
    {
     "name": "stderr",
     "output_type": "stream",
     "text": [
      "100%|█████████████████████████████████████████████| 1/1 [00:16<00:00, 16.70s/it]\n"
     ]
    },
    {
     "name": "stdout",
     "output_type": "stream",
     "text": [
      "Fold 3/4 median val_loss: 0.00018120471213478595, std val_loss 0.0\n",
      "Fold 3/4 median train_loss: 3.5915683838538826e-05, std train_loss 0.0\n",
      "Fold 3/4 median val_accuracy: 1.0, std val_accuracy 0.0\n",
      "Fold 3/4 median train_accuracy: 1.0, train_accuracy 0.0\n",
      "\n",
      "Executing fold 4/4\n"
     ]
    },
    {
     "name": "stderr",
     "output_type": "stream",
     "text": [
      "100%|█████████████████████████████████████████████| 1/1 [00:16<00:00, 16.74s/it]\n"
     ]
    },
    {
     "name": "stdout",
     "output_type": "stream",
     "text": [
      "Fold 4/4 median val_loss: 0.0011466601863503456, std val_loss 0.0\n",
      "Fold 4/4 median train_loss: 2.8292597562540323e-05, std train_loss 0.0\n",
      "Fold 4/4 median val_accuracy: 1.0, std val_accuracy 0.0\n",
      "Fold 4/4 median train_accuracy: 1.0, train_accuracy 0.0\n",
      "\n",
      "Mean val_loss: 0.003439566720771836, std val_loss: 0.0048734961319084015\n",
      "Mean train_loss: 4.109771089133574e-05, std train_loss: 1.8561862242142646e-05\n",
      "Mean val_accuracy: 0.9941860437393188, std val_accuracy: 0.01007006763648292\n",
      "Mean train_accuracy: 0.9941860437393188, std train_accuracy: 0.0\n",
      "\n",
      "\n",
      "\n",
      "Testing configuration 16/16:\n",
      "{'batch_size': None, 'learning_rate': 0.9, 'max_epochs': 500, 'momentum': 0.9, 'initialization': {'type': 'default', 'min': -0.5, 'max': 0.5}, 'early_stopping': {'monitor': 'val_loss', 'patience': 20, 'delta': 0.0}, 'task': 'classification', 'trials_train': 1, 'trials_final': 5, 'nesterov': False, 'learning_rate_decay': None, 'regularization': {'method': None}, 'activations_1': 'relu', 'units_1': 8}\n",
      "\n",
      "Executing fold 1/4\n"
     ]
    },
    {
     "name": "stderr",
     "output_type": "stream",
     "text": [
      "100%|█████████████████████████████████████████████| 1/1 [00:17<00:00, 17.46s/it]\n"
     ]
    },
    {
     "name": "stdout",
     "output_type": "stream",
     "text": [
      "Fold 1/4 median val_loss: 2.6345658625359647e-05, std val_loss 0.0\n",
      "Fold 1/4 median train_loss: 1.1782658475567587e-05, std train_loss 0.0\n",
      "Fold 1/4 median val_accuracy: 1.0, std val_accuracy 0.0\n",
      "Fold 1/4 median train_accuracy: 1.0, train_accuracy 0.0\n",
      "\n",
      "Executing fold 2/4\n"
     ]
    },
    {
     "name": "stderr",
     "output_type": "stream",
     "text": [
      "100%|█████████████████████████████████████████████| 1/1 [00:16<00:00, 16.66s/it]\n"
     ]
    },
    {
     "name": "stdout",
     "output_type": "stream",
     "text": [
      "Fold 2/4 median val_loss: 0.027211995795369148, std val_loss 0.0\n",
      "Fold 2/4 median train_loss: 2.237413718830794e-05, std train_loss 0.0\n",
      "Fold 2/4 median val_accuracy: 0.9523809552192688, std val_accuracy 0.0\n",
      "Fold 2/4 median train_accuracy: 1.0, train_accuracy 0.0\n",
      "\n",
      "Executing fold 3/4\n"
     ]
    },
    {
     "name": "stderr",
     "output_type": "stream",
     "text": [
      "100%|█████████████████████████████████████████████| 1/1 [00:16<00:00, 16.78s/it]\n"
     ]
    },
    {
     "name": "stdout",
     "output_type": "stream",
     "text": [
      "Fold 3/4 median val_loss: 0.015913469716906548, std val_loss 0.0\n",
      "Fold 3/4 median train_loss: 2.5972878574975766e-05, std train_loss 0.0\n",
      "Fold 3/4 median val_accuracy: 0.976190447807312, std val_accuracy 0.0\n",
      "Fold 3/4 median train_accuracy: 1.0, train_accuracy 0.0\n",
      "\n",
      "Executing fold 4/4\n"
     ]
    },
    {
     "name": "stderr",
     "output_type": "stream",
     "text": [
      "100%|█████████████████████████████████████████████| 1/1 [00:19<00:00, 19.25s/it]\n"
     ]
    },
    {
     "name": "stdout",
     "output_type": "stream",
     "text": [
      "Fold 4/4 median val_loss: 0.0001511310983914882, std val_loss 0.0\n",
      "Fold 4/4 median train_loss: 6.658600796072278e-06, std train_loss 0.0\n",
      "Fold 4/4 median val_accuracy: 1.0, std val_accuracy 0.0\n",
      "Fold 4/4 median train_accuracy: 1.0, train_accuracy 0.0\n",
      "\n",
      "Mean val_loss: 0.010825735567323136, std val_loss: 0.01145609625926627\n",
      "Mean train_loss: 1.6697068758730893e-05, std train_loss: 7.797307566875726e-06\n",
      "Mean val_accuracy: 0.9821428507566452, std val_accuracy: 0.01974181529804079\n",
      "Mean train_accuracy: 0.9821428507566452, std train_accuracy: 0.0\n",
      "\n",
      "\n",
      "\n",
      "\n",
      "\n",
      "\n",
      "Best configuration (loss 4.7751515012350865e-05):\n",
      "{'batch_size': None, 'learning_rate': 0.6, 'max_epochs': 500, 'momentum': 0.9, 'initialization': {'type': 'default', 'min': -0.5, 'max': 0.5}, 'early_stopping': {'monitor': 'val_loss', 'patience': 20, 'delta': 0.0}, 'task': 'classification', 'trials_train': 1, 'trials_final': 5, 'nesterov': False, 'learning_rate_decay': None, 'regularization': {'method': None}, 'activations_1': 'relu', 'units_1': 8}\n"
     ]
    },
    {
     "name": "stderr",
     "output_type": "stream",
     "text": [
      " 20%|█████████                                    | 1/5 [00:54<03:39, 54.80s/it]"
     ]
    },
    {
     "name": "stdout",
     "output_type": "stream",
     "text": [
      "Trial 1/5 val_mse: 0.0016794130206108093\n",
      "Trial 1/5 train_mse: 4.3961026676697657e-05\n",
      "Trial 1/5 val_accuracy: 1.0\n",
      "Trial 1/5 train_accuracy: 1.0\n"
     ]
    },
    {
     "name": "stderr",
     "output_type": "stream",
     "text": [
      "\r",
      " 40%|██████████████████                           | 2/5 [01:50<02:46, 55.58s/it]"
     ]
    },
    {
     "name": "stdout",
     "output_type": "stream",
     "text": [
      "Trial 2/5 val_mse: 2.787484845612198e-05\n",
      "Trial 2/5 train_mse: 2.716453127504792e-05\n",
      "Trial 2/5 val_accuracy: 1.0\n",
      "Trial 2/5 train_accuracy: 1.0\n"
     ]
    },
    {
     "name": "stderr",
     "output_type": "stream",
     "text": [
      "\r",
      " 60%|███████████████████████████                  | 3/5 [02:48<01:52, 56.33s/it]"
     ]
    },
    {
     "name": "stdout",
     "output_type": "stream",
     "text": [
      "Trial 3/5 val_mse: 1.6615013009868562e-05\n",
      "Trial 3/5 train_mse: 1.2618645087059122e-05\n",
      "Trial 3/5 val_accuracy: 1.0\n",
      "Trial 3/5 train_accuracy: 1.0\n"
     ]
    },
    {
     "name": "stderr",
     "output_type": "stream",
     "text": [
      "\r",
      " 80%|████████████████████████████████████         | 4/5 [03:46<00:57, 57.11s/it]"
     ]
    },
    {
     "name": "stdout",
     "output_type": "stream",
     "text": [
      "Trial 4/5 val_mse: 1.8735063349595293e-05\n",
      "Trial 4/5 train_mse: 1.3367746760195587e-05\n",
      "Trial 4/5 val_accuracy: 1.0\n",
      "Trial 4/5 train_accuracy: 1.0\n"
     ]
    },
    {
     "name": "stderr",
     "output_type": "stream",
     "text": [
      "100%|█████████████████████████████████████████████| 5/5 [04:43<00:00, 56.68s/it]"
     ]
    },
    {
     "name": "stdout",
     "output_type": "stream",
     "text": [
      "Trial 5/5 val_mse: 3.182932050549425e-05\n",
      "Trial 5/5 train_mse: 2.9957933293189853e-05\n",
      "Trial 5/5 val_accuracy: 1.0\n",
      "Trial 5/5 train_accuracy: 1.0\n",
      "\n",
      "Median val_mse: 2.787484845612198e-05, std val_mse: 0.0006622836933370303\n",
      "Median train_mse: 2.716453127504792e-05, std train_mse: 1.1632172733646107e-05\n",
      "Median val_accuracy: 1.0, std val_accuracy: 0.0\n",
      "Median train_accuracy: 1.0, std train_accuracy: 0.0\n",
      "\n",
      "Median model train_loss: 2.716453127504792e-05\n",
      "Median model val_loss: 2.787484845612198e-05\n",
      "Median model test_loss: 2.467283047735691e-05\n",
      "\n",
      "Median model train_accuracy: 1.0\n",
      "Median model val_accuracy: 1.0\n",
      "Median model test_accuracy: 1.0\n"
     ]
    },
    {
     "name": "stderr",
     "output_type": "stream",
     "text": [
      "\n"
     ]
    },
    {
     "data": {
      "image/png": "[encoded data removed]",
      "text/plain": [
       "<Figure size 640x480 with 1 Axes>"
      ]
     },
     "metadata": {},
     "output_type": "display_data"
    },
    {
     "data": {
      "image/png": "[encoded data removed]",
      "text/plain": [
       "<Figure size 640x480 with 1 Axes>"
      ]
     },
     "metadata": {},
     "output_type": "display_data"
    },
    {
     "data": {
      "image/png": "[encoded data removed]",
      "text/plain": [
       "<Figure size 640x480 with 1 Axes>"
      ]
     },
     "metadata": {},
     "output_type": "display_data"
    },
    {
     "data": {
      "image/png": "[encoded data removed]",
      "text/plain": [
       "<Figure size 640x480 with 1 Axes>"
      ]
     },
     "metadata": {},
     "output_type": "display_data"
    },
    {
     "name": "stdout",
     "output_type": "stream",
     "text": [
      "14/14 [==============================] - 0s 1ms/step - loss: 2.4673e-05 - accuracy: 1.0000\n",
      "[2.467283047735691e-05, 1.0]\n"
     ]
    }
   ],
   "source": [
    "model = grid_search(params, x_train, y_train, x_test, y_test, k_fold_val)\n",
    "test_model(model, x_test, y_test)"
   ]
  },
  {
   "cell_type": "markdown",
   "id": "d8bafda0",
   "metadata": {},
   "source": [
    "# Monks 3"
   ]
  },
  {
   "cell_type": "code",
   "execution_count": 36,
   "id": "30fbc805",
   "metadata": {},
   "outputs": [],
   "source": [
    "params = {\n",
    "    \"task\": \"classification\",\n",
    "    \"trials_train\": 1,\n",
    "    \"trials_final\": 5,\n",
    "    \"initialization\": {\n",
    "        \"type\": \"default\",\n",
    "    },\n",
    "    \"early_stopping\": {\n",
    "        \"monitor\": \"val_loss\",\n",
    "        \"patience\": 20,\n",
    "        \"delta\": 0.0\n",
    "    },\n",
    "    \"max_epochs\": [500],\n",
    "    \"learning_rate\": [0.01, 0.025, 0.05],# np.linspace(0.1, 0.4, 4).tolist(),\n",
    "    \"batch_size\": [None],\n",
    "    \"momentum\": [0.5, 0.6, 0.7],#np.linspace(0.5, 0.9, 4).tolist(),\n",
    "    \"nesterov\": False,\n",
    "    \"learning_rate_decay\": None,\n",
    "    \"regularization\": [\n",
    "        {\n",
    "            \"type\": \"l1\",\n",
    "            \"value\": [0.001]\n",
    "        }\n",
    "    ],\n",
    "    \"layers\": [\n",
    "        {\n",
    "            \"activations\": [\"relu\"],\n",
    "            \"units\": [16],\n",
    "        },\n",
    "    ]\n",
    "}\n",
    "\n",
    "k_fold_val = {\n",
    "    \"type\": \"k-fold\",\n",
    "    \"n_folds\": 4\n",
    "}\n",
    "\n",
    "hold_out_val = {\n",
    "    \"type\": \"hold-out\",\n",
    "    \"val_split\": 0.15\n",
    "}"
   ]
  },
  {
   "cell_type": "code",
   "execution_count": 37,
   "id": "55619cba",
   "metadata": {},
   "outputs": [
    {
     "name": "stdout",
     "output_type": "stream",
     "text": [
      "Loaded ./../data/monks-3 dataset\n",
      "(122, 17) (122,)\n",
      "(432, 17) (432,)\n"
     ]
    }
   ],
   "source": [
    "x_train, y_train, x_test, y_test = load_dataset(\"monks3\", True)\n",
    "print(x_train.shape, y_train.shape)\n",
    "print(x_test.shape, y_test.shape)"
   ]
  },
  {
   "cell_type": "code",
   "execution_count": 38,
   "id": "d653c6ce",
   "metadata": {
    "scrolled": true
   },
   "outputs": [
    {
     "name": "stdout",
     "output_type": "stream",
     "text": [
      "Testing configuration 1/9:\n",
      "{'batch_size': None, 'learning_rate': 0.01, 'max_epochs': 500, 'momentum': 0.5, 'initialization': {'type': 'default'}, 'early_stopping': {'monitor': 'val_loss', 'patience': 20, 'delta': 0.0}, 'task': 'classification', 'trials_train': 1, 'trials_final': 5, 'nesterov': False, 'learning_rate_decay': None, 'regularization': {'method': 'l1', 'value': 0.001}, 'activations_1': 'relu', 'units_1': 16}\n",
      "\n",
      "Executing fold 1/4\n"
     ]
    },
    {
     "name": "stderr",
     "output_type": "stream",
     "text": [
      "100%|█████████████████████████████████████████████| 1/1 [00:20<00:00, 20.49s/it]\n"
     ]
    },
    {
     "name": "stdout",
     "output_type": "stream",
     "text": [
      "Fold 1/4 median val_loss: 0.14786162972450256, std val_loss 0.0\n",
      "Fold 1/4 median train_loss: 0.1294802576303482, std train_loss 0.0\n",
      "Fold 1/4 median val_accuracy: 0.9354838728904724, std val_accuracy 0.0\n",
      "Fold 1/4 median train_accuracy: 0.9340659379959106, train_accuracy 0.0\n",
      "\n",
      "Executing fold 2/4\n"
     ]
    },
    {
     "name": "stderr",
     "output_type": "stream",
     "text": [
      "100%|█████████████████████████████████████████████| 1/1 [00:19<00:00, 19.88s/it]\n"
     ]
    },
    {
     "name": "stdout",
     "output_type": "stream",
     "text": [
      "Fold 2/4 median val_loss: 0.146811842918396, std val_loss 0.0\n",
      "Fold 2/4 median train_loss: 0.13561676442623138, std train_loss 0.0\n",
      "Fold 2/4 median val_accuracy: 0.9354838728904724, std val_accuracy 0.0\n",
      "Fold 2/4 median train_accuracy: 0.9340659379959106, train_accuracy 0.0\n",
      "\n",
      "Executing fold 3/4\n"
     ]
    },
    {
     "name": "stderr",
     "output_type": "stream",
     "text": [
      "100%|█████████████████████████████████████████████| 1/1 [00:17<00:00, 17.76s/it]\n"
     ]
    },
    {
     "name": "stdout",
     "output_type": "stream",
     "text": [
      "Fold 3/4 median val_loss: 0.10986068844795227, std val_loss 0.0\n",
      "Fold 3/4 median train_loss: 0.13098765909671783, std train_loss 0.0\n",
      "Fold 3/4 median val_accuracy: 0.9666666388511658, std val_accuracy 0.0\n",
      "Fold 3/4 median train_accuracy: 0.9239130616188049, train_accuracy 0.0\n",
      "\n",
      "Executing fold 4/4\n"
     ]
    },
    {
     "name": "stderr",
     "output_type": "stream",
     "text": [
      "100%|█████████████████████████████████████████████| 1/1 [00:17<00:00, 17.10s/it]\n"
     ]
    },
    {
     "name": "stdout",
     "output_type": "stream",
     "text": [
      "Fold 4/4 median val_loss: 0.1821340173482895, std val_loss 0.0\n",
      "Fold 4/4 median train_loss: 0.13396084308624268, std train_loss 0.0\n",
      "Fold 4/4 median val_accuracy: 0.8666666746139526, std val_accuracy 0.0\n",
      "Fold 4/4 median train_accuracy: 0.95652174949646, train_accuracy 0.0\n",
      "\n",
      "Mean val_loss: 0.14666704460978508, std val_loss: 0.025563949270857898\n",
      "Mean train_loss: 0.13251138105988503, std train_loss: 0.0024111088675108907\n",
      "Mean val_accuracy: 0.9260752648115158, std val_accuracy: 0.03658580342036916\n",
      "Mean train_accuracy: 0.9260752648115158, std train_accuracy: 0.01193213953691959\n",
      "\n",
      "\n",
      "\n",
      "Testing configuration 2/9:\n",
      "{'batch_size': None, 'learning_rate': 0.01, 'max_epochs': 500, 'momentum': 0.6, 'initialization': {'type': 'default'}, 'early_stopping': {'monitor': 'val_loss', 'patience': 20, 'delta': 0.0}, 'task': 'classification', 'trials_train': 1, 'trials_final': 5, 'nesterov': False, 'learning_rate_decay': None, 'regularization': {'method': 'l1', 'value': 0.001}, 'activations_1': 'relu', 'units_1': 16}\n",
      "\n",
      "Executing fold 1/4\n"
     ]
    },
    {
     "name": "stderr",
     "output_type": "stream",
     "text": [
      "100%|█████████████████████████████████████████████| 1/1 [00:16<00:00, 16.85s/it]\n"
     ]
    },
    {
     "name": "stdout",
     "output_type": "stream",
     "text": [
      "Fold 1/4 median val_loss: 0.13384909927845, std val_loss 0.0\n",
      "Fold 1/4 median train_loss: 0.12534132599830627, std train_loss 0.0\n",
      "Fold 1/4 median val_accuracy: 0.9354838728904724, std val_accuracy 0.0\n",
      "Fold 1/4 median train_accuracy: 0.9340659379959106, train_accuracy 0.0\n",
      "\n",
      "Executing fold 2/4\n"
     ]
    },
    {
     "name": "stderr",
     "output_type": "stream",
     "text": [
      "100%|█████████████████████████████████████████████| 1/1 [00:19<00:00, 19.54s/it]\n"
     ]
    },
    {
     "name": "stdout",
     "output_type": "stream",
     "text": [
      "Fold 2/4 median val_loss: 0.1717134714126587, std val_loss 0.0\n",
      "Fold 2/4 median train_loss: 0.10389245301485062, std train_loss 0.0\n",
      "Fold 2/4 median val_accuracy: 0.9032257795333862, std val_accuracy 0.0\n",
      "Fold 2/4 median train_accuracy: 0.9450549483299255, train_accuracy 0.0\n",
      "\n",
      "Executing fold 3/4\n"
     ]
    },
    {
     "name": "stderr",
     "output_type": "stream",
     "text": [
      "100%|█████████████████████████████████████████████| 1/1 [00:21<00:00, 21.36s/it]\n"
     ]
    },
    {
     "name": "stdout",
     "output_type": "stream",
     "text": [
      "Fold 3/4 median val_loss: 0.1451941430568695, std val_loss 0.0\n",
      "Fold 3/4 median train_loss: 0.12675841152668, std train_loss 0.0\n",
      "Fold 3/4 median val_accuracy: 0.9333333373069763, std val_accuracy 0.0\n",
      "Fold 3/4 median train_accuracy: 0.9347826242446899, train_accuracy 0.0\n",
      "\n",
      "Executing fold 4/4\n"
     ]
    },
    {
     "name": "stderr",
     "output_type": "stream",
     "text": [
      "100%|█████████████████████████████████████████████| 1/1 [00:24<00:00, 24.51s/it]\n"
     ]
    },
    {
     "name": "stdout",
     "output_type": "stream",
     "text": [
      "Fold 4/4 median val_loss: 0.15033407509326935, std val_loss 0.0\n",
      "Fold 4/4 median train_loss: 0.1291787475347519, std train_loss 0.0\n",
      "Fold 4/4 median val_accuracy: 0.8999999761581421, std val_accuracy 0.0\n",
      "Fold 4/4 median train_accuracy: 0.9239130616188049, train_accuracy 0.0\n",
      "\n",
      "Mean val_loss: 0.1502726972103119, std val_loss: 0.013740786430891074\n",
      "Mean train_loss: 0.1212927345186472, std train_loss: 0.010139325863030102\n",
      "Mean val_accuracy: 0.9180107414722443, std val_accuracy: 0.016455052654172565\n",
      "Mean train_accuracy: 0.9180107414722443, std train_accuracy: 0.007479138877258332\n",
      "\n",
      "\n",
      "\n",
      "Testing configuration 3/9:\n",
      "{'batch_size': None, 'learning_rate': 0.01, 'max_epochs': 500, 'momentum': 0.7, 'initialization': {'type': 'default'}, 'early_stopping': {'monitor': 'val_loss', 'patience': 20, 'delta': 0.0}, 'task': 'classification', 'trials_train': 1, 'trials_final': 5, 'nesterov': False, 'learning_rate_decay': None, 'regularization': {'method': 'l1', 'value': 0.001}, 'activations_1': 'relu', 'units_1': 16}\n",
      "\n",
      "Executing fold 1/4\n"
     ]
    },
    {
     "name": "stderr",
     "output_type": "stream",
     "text": [
      "100%|█████████████████████████████████████████████| 1/1 [00:25<00:00, 25.51s/it]\n"
     ]
    },
    {
     "name": "stdout",
     "output_type": "stream",
     "text": [
      "Fold 1/4 median val_loss: 0.14317475259304047, std val_loss 0.0\n",
      "Fold 1/4 median train_loss: 0.11043737083673477, std train_loss 0.0\n",
      "Fold 1/4 median val_accuracy: 0.9354838728904724, std val_accuracy 0.0\n",
      "Fold 1/4 median train_accuracy: 0.9450549483299255, train_accuracy 0.0\n",
      "\n",
      "Executing fold 2/4\n"
     ]
    },
    {
     "name": "stderr",
     "output_type": "stream",
     "text": [
      "100%|█████████████████████████████████████████████| 1/1 [00:22<00:00, 22.23s/it]\n"
     ]
    },
    {
     "name": "stdout",
     "output_type": "stream",
     "text": [
      "Fold 2/4 median val_loss: 0.23528766632080078, std val_loss 0.0\n",
      "Fold 2/4 median train_loss: 0.08191078156232834, std train_loss 0.0\n",
      "Fold 2/4 median val_accuracy: 0.8064516186714172, std val_accuracy 0.0\n",
      "Fold 2/4 median train_accuracy: 0.9780219793319702, train_accuracy 0.0\n",
      "\n",
      "Executing fold 3/4\n"
     ]
    },
    {
     "name": "stderr",
     "output_type": "stream",
     "text": [
      "100%|█████████████████████████████████████████████| 1/1 [00:22<00:00, 22.71s/it]\n"
     ]
    },
    {
     "name": "stdout",
     "output_type": "stream",
     "text": [
      "Fold 3/4 median val_loss: 0.13190726935863495, std val_loss 0.0\n",
      "Fold 3/4 median train_loss: 0.1232689693570137, std train_loss 0.0\n",
      "Fold 3/4 median val_accuracy: 0.9333333373069763, std val_accuracy 0.0\n",
      "Fold 3/4 median train_accuracy: 0.9239130616188049, train_accuracy 0.0\n",
      "\n",
      "Executing fold 4/4\n"
     ]
    },
    {
     "name": "stderr",
     "output_type": "stream",
     "text": [
      "100%|█████████████████████████████████████████████| 1/1 [00:41<00:00, 41.65s/it]\n"
     ]
    },
    {
     "name": "stdout",
     "output_type": "stream",
     "text": [
      "Fold 4/4 median val_loss: 0.1036817729473114, std val_loss 0.0\n",
      "Fold 4/4 median train_loss: 0.1233949214220047, std train_loss 0.0\n",
      "Fold 4/4 median val_accuracy: 0.9666666388511658, std val_accuracy 0.0\n",
      "Fold 4/4 median train_accuracy: 0.9239130616188049, train_accuracy 0.0\n",
      "\n",
      "Mean val_loss: 0.1535128653049469, std val_loss: 0.049355684063178244\n",
      "Mean train_loss: 0.10975301079452038, std train_loss: 0.01691479336791182\n",
      "Mean val_accuracy: 0.9104838669300079, std val_accuracy: 0.061494534580345234\n",
      "Mean train_accuracy: 0.9104838669300079, std train_accuracy: 0.022130767373559478\n",
      "\n",
      "\n",
      "\n",
      "Testing configuration 4/9:\n",
      "{'batch_size': None, 'learning_rate': 0.025, 'max_epochs': 500, 'momentum': 0.5, 'initialization': {'type': 'default'}, 'early_stopping': {'monitor': 'val_loss', 'patience': 20, 'delta': 0.0}, 'task': 'classification', 'trials_train': 1, 'trials_final': 5, 'nesterov': False, 'learning_rate_decay': None, 'regularization': {'method': 'l1', 'value': 0.001}, 'activations_1': 'relu', 'units_1': 16}\n",
      "\n",
      "Executing fold 1/4\n"
     ]
    },
    {
     "name": "stderr",
     "output_type": "stream",
     "text": [
      "100%|█████████████████████████████████████████████| 1/1 [00:26<00:00, 26.60s/it]\n"
     ]
    },
    {
     "name": "stdout",
     "output_type": "stream",
     "text": [
      "Fold 1/4 median val_loss: 0.15981309115886688, std val_loss 0.0\n",
      "Fold 1/4 median train_loss: 0.09365306794643402, std train_loss 0.0\n",
      "Fold 1/4 median val_accuracy: 0.8387096524238586, std val_accuracy 0.0\n",
      "Fold 1/4 median train_accuracy: 0.9560439586639404, train_accuracy 0.0\n",
      "\n",
      "Executing fold 2/4\n"
     ]
    },
    {
     "name": "stderr",
     "output_type": "stream",
     "text": [
      "100%|█████████████████████████████████████████████| 1/1 [00:26<00:00, 26.77s/it]\n"
     ]
    },
    {
     "name": "stdout",
     "output_type": "stream",
     "text": [
      "Fold 2/4 median val_loss: 0.16447067260742188, std val_loss 0.0\n",
      "Fold 2/4 median train_loss: 0.08473167568445206, std train_loss 0.0\n",
      "Fold 2/4 median val_accuracy: 0.8709677457809448, std val_accuracy 0.0\n",
      "Fold 2/4 median train_accuracy: 0.9560439586639404, train_accuracy 0.0\n",
      "\n",
      "Executing fold 3/4\n"
     ]
    },
    {
     "name": "stderr",
     "output_type": "stream",
     "text": [
      "100%|█████████████████████████████████████████████| 1/1 [00:18<00:00, 18.42s/it]\n"
     ]
    },
    {
     "name": "stdout",
     "output_type": "stream",
     "text": [
      "Fold 3/4 median val_loss: 0.1107994019985199, std val_loss 0.0\n",
      "Fold 3/4 median train_loss: 0.11314460635185242, std train_loss 0.0\n",
      "Fold 3/4 median val_accuracy: 0.9666666388511658, std val_accuracy 0.0\n",
      "Fold 3/4 median train_accuracy: 0.945652186870575, train_accuracy 0.0\n",
      "\n",
      "Executing fold 4/4\n"
     ]
    },
    {
     "name": "stderr",
     "output_type": "stream",
     "text": [
      "100%|█████████████████████████████████████████████| 1/1 [00:24<00:00, 24.75s/it]\n"
     ]
    },
    {
     "name": "stdout",
     "output_type": "stream",
     "text": [
      "Fold 4/4 median val_loss: 0.08879859000444412, std val_loss 0.0\n",
      "Fold 4/4 median train_loss: 0.10195726156234741, std train_loss 0.0\n",
      "Fold 4/4 median val_accuracy: 1.0, std val_accuracy 0.0\n",
      "Fold 4/4 median train_accuracy: 0.967391312122345, train_accuracy 0.0\n",
      "\n",
      "Mean val_loss: 0.1309704389423132, std val_loss: 0.03216947239514612\n",
      "Mean train_loss: 0.09837165288627148, std train_loss: 0.010481063466733533\n",
      "Mean val_accuracy: 0.9190860092639923, std val_accuracy: 0.06630745853268512\n",
      "Mean train_accuracy: 0.9190860092639923, std train_accuracy: 0.007689653233984485\n",
      "\n",
      "\n",
      "\n",
      "Testing configuration 5/9:\n",
      "{'batch_size': None, 'learning_rate': 0.025, 'max_epochs': 500, 'momentum': 0.6, 'initialization': {'type': 'default'}, 'early_stopping': {'monitor': 'val_loss', 'patience': 20, 'delta': 0.0}, 'task': 'classification', 'trials_train': 1, 'trials_final': 5, 'nesterov': False, 'learning_rate_decay': None, 'regularization': {'method': 'l1', 'value': 0.001}, 'activations_1': 'relu', 'units_1': 16}\n",
      "\n",
      "Executing fold 1/4\n"
     ]
    },
    {
     "name": "stderr",
     "output_type": "stream",
     "text": [
      "100%|█████████████████████████████████████████████| 1/1 [00:41<00:00, 41.72s/it]\n"
     ]
    },
    {
     "name": "stdout",
     "output_type": "stream",
     "text": [
      "Fold 1/4 median val_loss: 0.1419137716293335, std val_loss 0.0\n",
      "Fold 1/4 median train_loss: 0.0969240814447403, std train_loss 0.0\n",
      "Fold 1/4 median val_accuracy: 0.9032257795333862, std val_accuracy 0.0\n",
      "Fold 1/4 median train_accuracy: 0.9450549483299255, train_accuracy 0.0\n",
      "\n",
      "Executing fold 2/4\n"
     ]
    },
    {
     "name": "stderr",
     "output_type": "stream",
     "text": [
      "100%|█████████████████████████████████████████████| 1/1 [00:21<00:00, 21.82s/it]\n"
     ]
    },
    {
     "name": "stdout",
     "output_type": "stream",
     "text": [
      "Fold 2/4 median val_loss: 0.14629510045051575, std val_loss 0.0\n",
      "Fold 2/4 median train_loss: 0.08887756615877151, std train_loss 0.0\n",
      "Fold 2/4 median val_accuracy: 0.9032257795333862, std val_accuracy 0.0\n",
      "Fold 2/4 median train_accuracy: 0.9560439586639404, train_accuracy 0.0\n",
      "\n",
      "Executing fold 3/4\n"
     ]
    },
    {
     "name": "stderr",
     "output_type": "stream",
     "text": [
      "100%|█████████████████████████████████████████████| 1/1 [00:21<00:00, 21.66s/it]\n"
     ]
    },
    {
     "name": "stdout",
     "output_type": "stream",
     "text": [
      "Fold 3/4 median val_loss: 0.09125835448503494, std val_loss 0.0\n",
      "Fold 3/4 median train_loss: 0.11026797443628311, std train_loss 0.0\n",
      "Fold 3/4 median val_accuracy: 1.0, std val_accuracy 0.0\n",
      "Fold 3/4 median train_accuracy: 0.9239130616188049, train_accuracy 0.0\n",
      "\n",
      "Executing fold 4/4\n"
     ]
    },
    {
     "name": "stderr",
     "output_type": "stream",
     "text": [
      "100%|█████████████████████████████████████████████| 1/1 [00:23<00:00, 23.38s/it]\n"
     ]
    },
    {
     "name": "stdout",
     "output_type": "stream",
     "text": [
      "Fold 4/4 median val_loss: 0.1160733550786972, std val_loss 0.0\n",
      "Fold 4/4 median train_loss: 0.10294671356678009, std train_loss 0.0\n",
      "Fold 4/4 median val_accuracy: 0.9666666388511658, std val_accuracy 0.0\n",
      "Fold 4/4 median train_accuracy: 0.95652174949646, train_accuracy 0.0\n",
      "\n",
      "Mean val_loss: 0.12388514541089535, std val_loss: 0.02209507299442567\n",
      "Mean train_loss: 0.09975408390164375, std train_loss: 0.00785879014973332\n",
      "Mean val_accuracy: 0.9432795494794846, std val_accuracy: 0.041751570121131926\n",
      "Mean train_accuracy: 0.9432795494794846, std train_accuracy: 0.013217352715575371\n",
      "\n",
      "\n",
      "\n",
      "Testing configuration 6/9:\n",
      "{'batch_size': None, 'learning_rate': 0.025, 'max_epochs': 500, 'momentum': 0.7, 'initialization': {'type': 'default'}, 'early_stopping': {'monitor': 'val_loss', 'patience': 20, 'delta': 0.0}, 'task': 'classification', 'trials_train': 1, 'trials_final': 5, 'nesterov': False, 'learning_rate_decay': None, 'regularization': {'method': 'l1', 'value': 0.001}, 'activations_1': 'relu', 'units_1': 16}\n",
      "\n",
      "Executing fold 1/4\n"
     ]
    },
    {
     "name": "stderr",
     "output_type": "stream",
     "text": [
      "100%|█████████████████████████████████████████████| 1/1 [00:17<00:00, 17.17s/it]\n"
     ]
    },
    {
     "name": "stdout",
     "output_type": "stream",
     "text": [
      "Fold 1/4 median val_loss: 0.13050577044487, std val_loss 0.0\n",
      "Fold 1/4 median train_loss: 0.09026657044887543, std train_loss 0.0\n",
      "Fold 1/4 median val_accuracy: 0.9354838728904724, std val_accuracy 0.0\n",
      "Fold 1/4 median train_accuracy: 0.9560439586639404, train_accuracy 0.0\n",
      "\n",
      "Executing fold 2/4\n"
     ]
    },
    {
     "name": "stderr",
     "output_type": "stream",
     "text": [
      "100%|█████████████████████████████████████████████| 1/1 [00:15<00:00, 15.82s/it]\n"
     ]
    },
    {
     "name": "stdout",
     "output_type": "stream",
     "text": [
      "Fold 2/4 median val_loss: 0.09357510507106781, std val_loss 0.0\n",
      "Fold 2/4 median train_loss: 0.10112179815769196, std train_loss 0.0\n",
      "Fold 2/4 median val_accuracy: 0.9677419066429138, std val_accuracy 0.0\n",
      "Fold 2/4 median train_accuracy: 0.9340659379959106, train_accuracy 0.0\n",
      "\n",
      "Executing fold 3/4\n"
     ]
    },
    {
     "name": "stderr",
     "output_type": "stream",
     "text": [
      "100%|█████████████████████████████████████████████| 1/1 [00:16<00:00, 16.78s/it]\n"
     ]
    },
    {
     "name": "stdout",
     "output_type": "stream",
     "text": [
      "Fold 3/4 median val_loss: 0.13788937032222748, std val_loss 0.0\n",
      "Fold 3/4 median train_loss: 0.08753999322652817, std train_loss 0.0\n",
      "Fold 3/4 median val_accuracy: 0.8999999761581421, std val_accuracy 0.0\n",
      "Fold 3/4 median train_accuracy: 0.95652174949646, train_accuracy 0.0\n",
      "\n",
      "Executing fold 4/4\n"
     ]
    },
    {
     "name": "stderr",
     "output_type": "stream",
     "text": [
      "100%|█████████████████████████████████████████████| 1/1 [00:19<00:00, 19.69s/it]\n"
     ]
    },
    {
     "name": "stdout",
     "output_type": "stream",
     "text": [
      "Fold 4/4 median val_loss: 0.1292743682861328, std val_loss 0.0\n",
      "Fold 4/4 median train_loss: 0.08700248599052429, std train_loss 0.0\n",
      "Fold 4/4 median val_accuracy: 0.9333333373069763, std val_accuracy 0.0\n",
      "Fold 4/4 median train_accuracy: 0.967391312122345, train_accuracy 0.0\n",
      "\n",
      "Mean val_loss: 0.12281115353107452, std val_loss: 0.017197960820813454\n",
      "Mean train_loss: 0.09148271195590496, std train_loss: 0.005701062152144331\n",
      "Mean val_accuracy: 0.9341397732496262, std val_accuracy: 0.023963962823384\n",
      "Mean train_accuracy: 0.9341397732496262, std train_accuracy: 0.012106340099218175\n",
      "\n",
      "\n",
      "\n",
      "Testing configuration 7/9:\n",
      "{'batch_size': None, 'learning_rate': 0.05, 'max_epochs': 500, 'momentum': 0.5, 'initialization': {'type': 'default'}, 'early_stopping': {'monitor': 'val_loss', 'patience': 20, 'delta': 0.0}, 'task': 'classification', 'trials_train': 1, 'trials_final': 5, 'nesterov': False, 'learning_rate_decay': None, 'regularization': {'method': 'l1', 'value': 0.001}, 'activations_1': 'relu', 'units_1': 16}\n",
      "\n",
      "Executing fold 1/4\n"
     ]
    },
    {
     "name": "stderr",
     "output_type": "stream",
     "text": [
      "100%|█████████████████████████████████████████████| 1/1 [00:15<00:00, 15.01s/it]\n"
     ]
    },
    {
     "name": "stdout",
     "output_type": "stream",
     "text": [
      "Fold 1/4 median val_loss: 0.1438722014427185, std val_loss 0.0\n",
      "Fold 1/4 median train_loss: 0.09342946112155914, std train_loss 0.0\n",
      "Fold 1/4 median val_accuracy: 0.9032257795333862, std val_accuracy 0.0\n",
      "Fold 1/4 median train_accuracy: 0.9670329689979553, train_accuracy 0.0\n",
      "\n",
      "Executing fold 2/4\n"
     ]
    },
    {
     "name": "stderr",
     "output_type": "stream",
     "text": [
      "100%|█████████████████████████████████████████████| 1/1 [00:26<00:00, 26.78s/it]\n"
     ]
    },
    {
     "name": "stdout",
     "output_type": "stream",
     "text": [
      "Fold 2/4 median val_loss: 0.10060010850429535, std val_loss 0.0\n",
      "Fold 2/4 median train_loss: 0.08668755739927292, std train_loss 0.0\n",
      "Fold 2/4 median val_accuracy: 0.9354838728904724, std val_accuracy 0.0\n",
      "Fold 2/4 median train_accuracy: 0.9450549483299255, train_accuracy 0.0\n",
      "\n",
      "Executing fold 3/4\n"
     ]
    },
    {
     "name": "stderr",
     "output_type": "stream",
     "text": [
      "100%|█████████████████████████████████████████████| 1/1 [00:15<00:00, 15.72s/it]\n"
     ]
    },
    {
     "name": "stdout",
     "output_type": "stream",
     "text": [
      "Fold 3/4 median val_loss: 0.09074826538562775, std val_loss 0.0\n",
      "Fold 3/4 median train_loss: 0.0874154269695282, std train_loss 0.0\n",
      "Fold 3/4 median val_accuracy: 0.9666666388511658, std val_accuracy 0.0\n",
      "Fold 3/4 median train_accuracy: 0.945652186870575, train_accuracy 0.0\n",
      "\n",
      "Executing fold 4/4\n"
     ]
    },
    {
     "name": "stderr",
     "output_type": "stream",
     "text": [
      "100%|█████████████████████████████████████████████| 1/1 [00:16<00:00, 16.07s/it]\n"
     ]
    },
    {
     "name": "stdout",
     "output_type": "stream",
     "text": [
      "Fold 4/4 median val_loss: 0.1459258645772934, std val_loss 0.0\n",
      "Fold 4/4 median train_loss: 0.07563437521457672, std train_loss 0.0\n",
      "Fold 4/4 median val_accuracy: 0.8999999761581421, std val_accuracy 0.0\n",
      "Fold 4/4 median train_accuracy: 0.967391312122345, train_accuracy 0.0\n",
      "\n",
      "Mean val_loss: 0.12028660997748375, std val_loss: 0.024868271163673062\n",
      "Mean train_loss: 0.08579170517623425, std train_loss: 0.006421559224555056\n",
      "Mean val_accuracy: 0.9263440668582916, std val_accuracy: 0.027101255460222656\n",
      "Mean train_accuracy: 0.9263440668582916, std train_accuracy: 0.010932060232155287\n",
      "\n",
      "\n",
      "\n",
      "Testing configuration 8/9:\n",
      "{'batch_size': None, 'learning_rate': 0.05, 'max_epochs': 500, 'momentum': 0.6, 'initialization': {'type': 'default'}, 'early_stopping': {'monitor': 'val_loss', 'patience': 20, 'delta': 0.0}, 'task': 'classification', 'trials_train': 1, 'trials_final': 5, 'nesterov': False, 'learning_rate_decay': None, 'regularization': {'method': 'l1', 'value': 0.001}, 'activations_1': 'relu', 'units_1': 16}\n",
      "\n",
      "Executing fold 1/4\n"
     ]
    },
    {
     "name": "stderr",
     "output_type": "stream",
     "text": [
      "100%|█████████████████████████████████████████████| 1/1 [00:13<00:00, 13.73s/it]\n"
     ]
    },
    {
     "name": "stdout",
     "output_type": "stream",
     "text": [
      "Fold 1/4 median val_loss: 0.11174969375133514, std val_loss 0.0\n",
      "Fold 1/4 median train_loss: 0.09759391844272614, std train_loss 0.0\n",
      "Fold 1/4 median val_accuracy: 0.9354838728904724, std val_accuracy 0.0\n",
      "Fold 1/4 median train_accuracy: 0.9560439586639404, train_accuracy 0.0\n",
      "\n",
      "Executing fold 2/4\n"
     ]
    },
    {
     "name": "stderr",
     "output_type": "stream",
     "text": [
      "100%|█████████████████████████████████████████████| 1/1 [00:17<00:00, 17.87s/it]\n"
     ]
    },
    {
     "name": "stdout",
     "output_type": "stream",
     "text": [
      "Fold 2/4 median val_loss: 0.1491970717906952, std val_loss 0.0\n",
      "Fold 2/4 median train_loss: 0.07149158418178558, std train_loss 0.0\n",
      "Fold 2/4 median val_accuracy: 0.8709677457809448, std val_accuracy 0.0\n",
      "Fold 2/4 median train_accuracy: 0.9670329689979553, train_accuracy 0.0\n",
      "\n",
      "Executing fold 3/4\n"
     ]
    },
    {
     "name": "stderr",
     "output_type": "stream",
     "text": [
      "100%|█████████████████████████████████████████████| 1/1 [00:16<00:00, 16.87s/it]\n"
     ]
    },
    {
     "name": "stdout",
     "output_type": "stream",
     "text": [
      "Fold 3/4 median val_loss: 0.1097295954823494, std val_loss 0.0\n",
      "Fold 3/4 median train_loss: 0.07934132218360901, std train_loss 0.0\n",
      "Fold 3/4 median val_accuracy: 0.9333333373069763, std val_accuracy 0.0\n",
      "Fold 3/4 median train_accuracy: 0.967391312122345, train_accuracy 0.0\n",
      "\n",
      "Executing fold 4/4\n"
     ]
    },
    {
     "name": "stderr",
     "output_type": "stream",
     "text": [
      "100%|█████████████████████████████████████████████| 1/1 [00:16<00:00, 16.25s/it]\n"
     ]
    },
    {
     "name": "stdout",
     "output_type": "stream",
     "text": [
      "Fold 4/4 median val_loss: 0.09737250208854675, std val_loss 0.0\n",
      "Fold 4/4 median train_loss: 0.08714382350444794, std train_loss 0.0\n",
      "Fold 4/4 median val_accuracy: 0.9333333373069763, std val_accuracy 0.0\n",
      "Fold 4/4 median train_accuracy: 0.967391312122345, train_accuracy 0.0\n",
      "\n",
      "Mean val_loss: 0.11701221577823162, std val_loss: 0.019379847824566206\n",
      "Mean train_loss: 0.08389266207814217, std train_loss: 0.009653961679215225\n",
      "Mean val_accuracy: 0.9182795733213425, std val_accuracy: 0.027329601941608238\n",
      "Mean train_accuracy: 0.9182795733213425, std train_accuracy: 0.004864026294713386\n",
      "\n",
      "\n",
      "\n",
      "Testing configuration 9/9:\n",
      "{'batch_size': None, 'learning_rate': 0.05, 'max_epochs': 500, 'momentum': 0.7, 'initialization': {'type': 'default'}, 'early_stopping': {'monitor': 'val_loss', 'patience': 20, 'delta': 0.0}, 'task': 'classification', 'trials_train': 1, 'trials_final': 5, 'nesterov': False, 'learning_rate_decay': None, 'regularization': {'method': 'l1', 'value': 0.001}, 'activations_1': 'relu', 'units_1': 16}\n",
      "\n",
      "Executing fold 1/4\n"
     ]
    },
    {
     "name": "stderr",
     "output_type": "stream",
     "text": [
      "100%|█████████████████████████████████████████████| 1/1 [00:16<00:00, 16.55s/it]\n"
     ]
    },
    {
     "name": "stdout",
     "output_type": "stream",
     "text": [
      "Fold 1/4 median val_loss: 0.09372084587812424, std val_loss 0.0\n",
      "Fold 1/4 median train_loss: 0.07678545266389847, std train_loss 0.0\n",
      "Fold 1/4 median val_accuracy: 0.9354838728904724, std val_accuracy 0.0\n",
      "Fold 1/4 median train_accuracy: 0.9670329689979553, train_accuracy 0.0\n",
      "\n",
      "Executing fold 2/4\n"
     ]
    },
    {
     "name": "stderr",
     "output_type": "stream",
     "text": [
      "100%|█████████████████████████████████████████████| 1/1 [00:09<00:00,  9.68s/it]\n"
     ]
    },
    {
     "name": "stdout",
     "output_type": "stream",
     "text": [
      "Fold 2/4 median val_loss: 0.1504741758108139, std val_loss 0.0\n",
      "Fold 2/4 median train_loss: 0.08499934524297714, std train_loss 0.0\n",
      "Fold 2/4 median val_accuracy: 0.9032257795333862, std val_accuracy 0.0\n",
      "Fold 2/4 median train_accuracy: 0.9670329689979553, train_accuracy 0.0\n",
      "\n",
      "Executing fold 3/4\n"
     ]
    },
    {
     "name": "stderr",
     "output_type": "stream",
     "text": [
      "100%|█████████████████████████████████████████████| 1/1 [00:15<00:00, 15.80s/it]\n"
     ]
    },
    {
     "name": "stdout",
     "output_type": "stream",
     "text": [
      "Fold 3/4 median val_loss: 0.08956857770681381, std val_loss 0.0\n",
      "Fold 3/4 median train_loss: 0.07602670788764954, std train_loss 0.0\n",
      "Fold 3/4 median val_accuracy: 0.9666666388511658, std val_accuracy 0.0\n",
      "Fold 3/4 median train_accuracy: 0.95652174949646, train_accuracy 0.0\n",
      "\n",
      "Executing fold 4/4\n"
     ]
    },
    {
     "name": "stderr",
     "output_type": "stream",
     "text": [
      "100%|█████████████████████████████████████████████| 1/1 [00:19<00:00, 19.03s/it]\n"
     ]
    },
    {
     "name": "stdout",
     "output_type": "stream",
     "text": [
      "Fold 4/4 median val_loss: 0.11478173732757568, std val_loss 0.0\n",
      "Fold 4/4 median train_loss: 0.06324402987957001, std train_loss 0.0\n",
      "Fold 4/4 median val_accuracy: 0.8999999761581421, std val_accuracy 0.0\n",
      "Fold 4/4 median train_accuracy: 0.97826087474823, train_accuracy 0.0\n",
      "\n",
      "Mean val_loss: 0.11213633418083191, std val_loss: 0.024110278411665693\n",
      "Mean train_loss: 0.07526388391852379, std train_loss: 0.007780635741577523\n",
      "Mean val_accuracy: 0.9263440668582916, std val_accuracy: 0.027101255460222656\n",
      "Mean train_accuracy: 0.9263440668582916, std train_accuracy: 0.007688029545190201\n",
      "\n",
      "\n",
      "\n",
      "\n",
      "\n",
      "\n",
      "Best configuration (loss 0.11213633418083191):\n",
      "{'batch_size': None, 'learning_rate': 0.05, 'max_epochs': 500, 'momentum': 0.7, 'initialization': {'type': 'default'}, 'early_stopping': {'monitor': 'val_loss', 'patience': 20, 'delta': 0.0}, 'task': 'classification', 'trials_train': 1, 'trials_final': 5, 'nesterov': False, 'learning_rate_decay': None, 'regularization': {'method': 'l1', 'value': 0.001}, 'activations_1': 'relu', 'units_1': 16}\n"
     ]
    },
    {
     "name": "stderr",
     "output_type": "stream",
     "text": [
      " 20%|█████████                                    | 1/5 [00:12<00:49, 12.43s/it]"
     ]
    },
    {
     "name": "stdout",
     "output_type": "stream",
     "text": [
      "Trial 1/5 val_mse: 0.08871173113584518\n",
      "Trial 1/5 train_mse: 0.11721276491880417\n",
      "Trial 1/5 val_accuracy: 0.9599999785423279\n",
      "Trial 1/5 train_accuracy: 0.938144326210022\n"
     ]
    },
    {
     "name": "stderr",
     "output_type": "stream",
     "text": [
      "\r",
      " 40%|██████████████████                           | 2/5 [00:26<00:40, 13.46s/it]"
     ]
    },
    {
     "name": "stdout",
     "output_type": "stream",
     "text": [
      "Trial 2/5 val_mse: 0.08478307723999023\n",
      "Trial 2/5 train_mse: 0.11566953361034393\n",
      "Trial 2/5 val_accuracy: 0.9599999785423279\n",
      "Trial 2/5 train_accuracy: 0.9278350472450256\n"
     ]
    },
    {
     "name": "stderr",
     "output_type": "stream",
     "text": [
      "\r",
      " 60%|███████████████████████████                  | 3/5 [00:38<00:25, 12.87s/it]"
     ]
    },
    {
     "name": "stdout",
     "output_type": "stream",
     "text": [
      "Trial 3/5 val_mse: 0.08712248504161835\n",
      "Trial 3/5 train_mse: 0.11421838402748108\n",
      "Trial 3/5 val_accuracy: 1.0\n",
      "Trial 3/5 train_accuracy: 0.9175257682800293\n"
     ]
    },
    {
     "name": "stderr",
     "output_type": "stream",
     "text": [
      "\r",
      " 80%|████████████████████████████████████         | 4/5 [00:52<00:13, 13.27s/it]"
     ]
    },
    {
     "name": "stdout",
     "output_type": "stream",
     "text": [
      "Trial 4/5 val_mse: 0.08130565285682678\n",
      "Trial 4/5 train_mse: 0.118837870657444\n",
      "Trial 4/5 val_accuracy: 1.0\n",
      "Trial 4/5 train_accuracy: 0.9175257682800293\n"
     ]
    },
    {
     "name": "stderr",
     "output_type": "stream",
     "text": [
      "100%|█████████████████████████████████████████████| 5/5 [01:07<00:00, 13.42s/it]"
     ]
    },
    {
     "name": "stdout",
     "output_type": "stream",
     "text": [
      "Trial 5/5 val_mse: 0.08425398916006088\n",
      "Trial 5/5 train_mse: 0.11857026815414429\n",
      "Trial 5/5 val_accuracy: 1.0\n",
      "Trial 5/5 train_accuracy: 0.9175257682800293\n",
      "\n",
      "Median val_mse: 0.08478307723999023, std val_mse: 0.0025399466075003846\n",
      "Median train_mse: 0.11566953361034393, std train_mse: 0.001752030620908206\n",
      "Median val_accuracy: 0.9599999785423279, std val_accuracy: 0.019595928454334978\n",
      "Median train_accuracy: 0.9278350472450256, std train_accuracy: 0.00824742317199707\n",
      "\n",
      "Median model train_loss: 0.11566953361034393\n",
      "Median model val_loss: 0.08478307723999023\n",
      "Median model test_loss: 0.10074664652347565\n",
      "\n",
      "Median model train_accuracy: 0.9278350472450256\n",
      "Median model val_accuracy: 0.9599999785423279\n",
      "Median model test_accuracy: 0.9606481194496155\n"
     ]
    },
    {
     "name": "stderr",
     "output_type": "stream",
     "text": [
      "\n"
     ]
    },
    {
     "data": {
      "image/png": "[encoded data removed]",
      "text/plain": [
       "<Figure size 640x480 with 1 Axes>"
      ]
     },
     "metadata": {},
     "output_type": "display_data"
    },
    {
     "data": {
      "image/png": "[encoded data removed]",
      "text/plain": [
       "<Figure size 640x480 with 1 Axes>"
      ]
     },
     "metadata": {},
     "output_type": "display_data"
    },
    {
     "data": {
      "image/png": "[encoded data removed]",
      "text/plain": [
       "<Figure size 640x480 with 1 Axes>"
      ]
     },
     "metadata": {},
     "output_type": "display_data"
    },
    {
     "data": {
      "image/png": "[encoded data removed]",
      "text/plain": [
       "<Figure size 640x480 with 1 Axes>"
      ]
     },
     "metadata": {},
     "output_type": "display_data"
    }
   ],
   "source": [
    "model = grid_search(params, x_train, y_train, x_test, y_test, k_fold_val)\n",
    "# test_model(model, x_test, y_test)"
   ]
  },
  {
   "cell_type": "code",
   "execution_count": null,
   "id": "4d5539aa",
   "metadata": {},
   "outputs": [],
   "source": []
  }
 ],
 "metadata": {
  "kernelspec": {
   "display_name": "mlvenv",
   "language": "python",
   "name": "mlvenv"
  },
  "language_info": {
   "codemirror_mode": {
    "name": "ipython",
    "version": 3
   },
   "file_extension": ".py",
   "mimetype": "text/x-python",
   "name": "python",
   "nbconvert_exporter": "python",
   "pygments_lexer": "ipython3",
   "version": "3.10.6"
  }
 },
 "nbformat": 4,
 "nbformat_minor": 5
}
