{
 "cells": [
  {
   "cell_type": "code",
   "execution_count": 35,
   "id": "d37f696d",
   "metadata": {
    "scrolled": true
   },
   "outputs": [],
   "source": [
    "import warnings\n",
    "warnings.filterwarnings('ignore')\n",
    "from tqdm import tqdm\n",
    "import pandas as pd\n",
    "import numpy as np\n",
    "import itertools\n",
    "from sklearn.model_selection import train_test_split\n",
    "import matplotlib.pyplot as plt\n",
    "from sklearn.model_selection import KFold, StratifiedKFold\n",
    "from sklearn.preprocessing import OneHotEncoder\n",
    "from sklearn.preprocessing import StandardScaler, MinMaxScaler\n",
    "from math import ceil\n",
    "import matplotlib.pyplot as plt\n",
    "from sklearn.preprocessing import StandardScaler\n",
    "from sklearn.model_selection import train_test_split\n",
    "from sklearn.preprocessing import MinMaxScaler\n",
    "from pytorch_lightning.callbacks import ModelSummary\n",
    "from sklearn.preprocessing import OneHotEncoder\n",
    "from sklearn.preprocessing import StandardScaler\n",
    "from pytorch_lightning.loggers import CSVLogger\n",
    "import pandas as pd\n",
    "import datetime\n",
    "import torch\n",
    "import torch.nn as nn\n",
    "from torchmetrics import Metric\n",
    "import torch.utils.data as data\n",
    "from torch.utils.data import Dataset, DataLoader \n",
    "import pytorch_lightning as pl\n",
    "from datetime import datetime\n",
    "from pytorch_lightning.callbacks.early_stopping import EarlyStopping\n",
    "from torchmetrics import Accuracy\n",
    "import logging\n",
    "import os\n",
    "logging.getLogger(\"lightning\").addHandler(logging.NullHandler())\n",
    "logging.getLogger(\"lightning\").propagate = False\n",
    "logging.getLogger(\"pytorch_lightning\").setLevel(logging.WARNING)\n",
    "import random\n",
    "\n",
    "\n",
    "seed = 42"
   ]
  },
  {
   "cell_type": "code",
   "execution_count": 36,
   "id": "6d8327a6",
   "metadata": {
    "scrolled": true
   },
   "outputs": [],
   "source": [
    "def plot_curves(curve_1, label_1, curve_2=None, label_2=None):\n",
    "    if curve_1 is not None: \n",
    "        plt.plot(curve_1, label = label_1, color=\"black\")\n",
    "    if curve_2 is not None: \n",
    "        plt.plot(curve_2, label = label_2, linestyle='dashed', color=\"grey\")   \n",
    "    plt.legend()\n",
    "    plt.show()\n",
    "    \n",
    "def set_random_seeds():\n",
    "    np.random.seed(seed)\n",
    "    random.seed(seed)\n",
    "    torch.manual_seed(seed)"
   ]
  },
  {
   "cell_type": "code",
   "execution_count": 37,
   "id": "d60634f7",
   "metadata": {
    "scrolled": true
   },
   "outputs": [],
   "source": [
    "x_scaler = None\n",
    "y_scaler = None\n",
    "\n",
    "def load_monks(path, encode):\n",
    "    \n",
    "    train = pd.read_csv(f\"{path}.train\", header=None, sep=\" \")\n",
    "    test = pd.read_csv(f\"{path}.test\", header=None, sep=\" \")\n",
    "    \n",
    "    train.drop(0, axis=1, inplace=True)\n",
    "    test.drop(0, axis=1, inplace=True)\n",
    "    train.drop(8, axis=1, inplace=True)\n",
    "    test.drop(8, axis=1, inplace=True)\n",
    "    \n",
    "    y_train = train.iloc[:, 0].to_numpy().astype(np.float64)\n",
    "    x_train = train.iloc[:, 1:].to_numpy().astype(np.float64)\n",
    "    y_test = test.iloc[:, 0].to_numpy().astype(np.float64)\n",
    "    x_test = test.iloc[:, 1:].to_numpy().astype(np.float64)\n",
    "    \n",
    "        \n",
    "    if encode:\n",
    "        \n",
    "        encoder = OneHotEncoder()\n",
    "        \n",
    "        encoder.fit(x_train)\n",
    "        x_train = encoder.transform(x_train).toarray()\n",
    "        x_test = encoder.transform(x_test).toarray()\n",
    "        \n",
    "        \n",
    "    \n",
    "    print(f\"Loaded {path} dataset\")\n",
    "    \n",
    "    return x_train, y_train, x_test, y_test\n",
    "    \n",
    "\n",
    "def load_cup(scale):\n",
    "    \n",
    "    global x_scaler\n",
    "    global y_scaler\n",
    "    \n",
    "    #x_scaler = StandardScaler()\n",
    "    #y_scaler = StandardScaler()\n",
    "    # scaler = MinMaxScaler()\n",
    "    x_scaler = MinMaxScaler()\n",
    "    y_scaler = MinMaxScaler()\n",
    "    \n",
    "    \n",
    "    train = pd.read_csv(\"../data/ML-CUP22-INTERNAL-TR.csv\", header=None, sep=\",\")\n",
    "    test = pd.read_csv(\"../data/ML-CUP22-INTERNAL-TS.csv\", header=None, sep=\",\")\n",
    "    train.drop(0, axis=1, inplace=True)\n",
    "    test.drop(0, axis=1, inplace=True)\n",
    "\n",
    "    x_train = train.iloc[:, :9].to_numpy().astype(np.float64)\n",
    "    y_train = train.iloc[:, 9:].to_numpy().astype(np.float64)\n",
    "\n",
    "    x_test = test.iloc[:, :9].to_numpy().astype(np.float64)\n",
    "    y_test = test.iloc[:, 9:].to_numpy().astype(np.float64) \n",
    "    # x_test_blind = test.to_numpy().astype(np.float64)\n",
    "    \n",
    "    # x_train, x_test, y_train, y_test = train_test_split(x_train, y_train, test_size=0.1, shuffle=True, random_state=7)\n",
    "    \n",
    "    if scale:\n",
    "        x_scaler.fit(x_train)\n",
    "        x_train = x_scaler.transform(x_train)\n",
    "        x_test = x_scaler.transform(x_test)\n",
    "        \n",
    "        y_scaler.fit(y_train)\n",
    "        y_train = y_scaler.transform(y_train)\n",
    "        y_test = y_scaler.transform(y_test)\n",
    "        \n",
    "        \n",
    "    return x_train, y_train, x_test, y_test #, x_test_blind\n",
    "    \n",
    "    \n",
    "    \n",
    "def load_dataset(dataset, encode=True):\n",
    "    assert dataset in [\"monks1\", \"monks2\", \"monks3\", \"cup\"]\n",
    "    \n",
    "    if dataset == \"monks1\":\n",
    "        return load_monks(\"./../data/monks-1\", encode)\n",
    "    elif dataset == \"monks2\":\n",
    "        return load_monks(\"./../data/monks-2\", encode)\n",
    "    elif dataset == \"monks3\":\n",
    "        return load_monks(\"./../data/monks-3\", encode)\n",
    "    else:\n",
    "        return load_cup(encode)"
   ]
  },
  {
   "cell_type": "code",
   "execution_count": 92,
   "id": "ad558fec",
   "metadata": {
    "scrolled": true
   },
   "outputs": [],
   "source": [
    "class History:\n",
    "    def __init__(self):\n",
    "        self.history = {}\n",
    "\n",
    "\n",
    "class LinearLearningRateScheduler(torch.optim.lr_scheduler._LRScheduler):\n",
    "    def __init__(self, optimizer, lr_init, lr_final, epochs, last_epoch=-1):\n",
    "        self.lr_init = lr_init\n",
    "        self.lr_final = lr_final\n",
    "        self.epochs = epochs\n",
    "        super().__init__(optimizer, last_epoch=last_epoch)\n",
    "    \n",
    "    def step(self):\n",
    "        self.last_epoch += 1\n",
    "        epoch = self.last_epoch\n",
    "        if epoch < self.epochs:\n",
    "            alpha = epoch / self.epochs\n",
    "            lr = self.lr_init * (1 - alpha) + alpha*self.lr_final\n",
    "        else:\n",
    "            lr = self.lr_final\n",
    "        for param_group in self.optimizer.param_groups:\n",
    "            param_group['lr'] = lr\n",
    "            \n",
    "    \n",
    "\n",
    "def get_activation_function(name):\n",
    "    if name == \"relu\":\n",
    "        return nn.ReLU()\n",
    "    elif name == \"tanh\":\n",
    "        return nn.Tanh()\n",
    "    elif name == \"sigmoid\":\n",
    "        return nn.Sigmoid()\n",
    "    elif name == \"linear\":\n",
    "        return None\n",
    "\n",
    "def mee(y_true, y_pred):\n",
    "    return (y_true - y_pred).square().sum(axis=1).sqrt().mean()\n",
    "\n",
    "def mse(y_true, y_pred):\n",
    "    return (y_true - y_pred).square().sum(axis=1).mean()\n",
    "\n",
    "\n",
    "class TestCallback(pl.Callback):\n",
    "    \n",
    "    def __init__(self, x_test, y_test, task):\n",
    "        self.x_test = x_test\n",
    "        self.y_test = y_test\n",
    "        self.task = task\n",
    "    \n",
    "    def on_train_epoch_end(self, trainer, model):\n",
    "        \n",
    "        y_pred = model(torch.from_numpy(self.x_test).to(torch.float32))\n",
    "        y_test = torch.from_numpy(self.y_test)\n",
    "        \n",
    "        if self.task == \"classification\":\n",
    "            loss = model.compute_loss(y_pred, y_test)\n",
    "            acc = model.compute_metric(y_pred, y_test)\n",
    "            model.log_dict({'test_loss': loss, 'test_accuracy': acc}, prog_bar=True, logger=True)\n",
    "        elif self.task == \"regression\":\n",
    "            loss = model.compute_loss(y_pred, y_test)\n",
    "            test_mee = model.compute_metric(y_pred, y_test)\n",
    "            model.log_dict({'test_loss': loss, 'test_mee': test_mee}, prog_bar=True, logger=True)\n",
    "        \n",
    "        \n",
    "    \n",
    "    \n",
    "class MEE(Metric):\n",
    "    \n",
    "    def __init__(self):\n",
    "        super().__init__()\n",
    "        self.add_state(\"result\", default=torch.tensor(0.0))\n",
    "        \n",
    "    def update(self, y_pred, y_true):\n",
    "        self.result += mee(y_true, y_pred)\n",
    "\n",
    "    def compute(self):\n",
    "        return self.result\n",
    "    \n",
    "\n",
    "class MultiLayerPerceptron(pl.LightningModule):\n",
    "    def __init__(self, input_dim, output_dim, config):\n",
    "        super(MultiLayerPerceptron, self).__init__()\n",
    "        \n",
    "        task = config[\"task\"]\n",
    "        self.lr = config[\"learning_rate\"]\n",
    "        self.momentum = config[\"momentum\"]\n",
    "        self.nesterov = config[\"nesterov\"]\n",
    "        init = config[\"initialization\"]\n",
    "        reg_method = config[\"regularization\"][\"method\"]\n",
    "        self.reg_method = reg_method\n",
    "        self.lr_decay = config[\"learning_rate_decay\"]        \n",
    "        \n",
    "        \n",
    "        if reg_method != None:\n",
    "            value = config[\"regularization\"][\"value\"]\n",
    "            self.reg_value = value\n",
    "        \n",
    "        self.task = task\n",
    "        self.model = nn.Sequential()\n",
    "                \n",
    "        units = config[\"units_1\"]\n",
    "        activation = get_activation_function(config[\"activations_1\"])\n",
    "        \n",
    "        self.model.add_module(\"linear_input\", nn.Linear(input_dim, units))\n",
    "        self.model.add_module(\"activations_1\", activation)\n",
    "        \n",
    "        n_layers = 0\n",
    "        for key in config.keys():\n",
    "            if key.startswith(\"units_\"):\n",
    "                n_layers += 1\n",
    "                \n",
    "        for n_layer in range(2, n_layers+1):\n",
    "            out_units = config[f\"units_{n_layer}\"]\n",
    "            self.model.add_module(f\"linear_{n_layer}\", nn.Linear(units, out_units))\n",
    "            activation = get_activation_function(config[f\"activations_{n_layer}\"])\n",
    "            if activation != None:\n",
    "                self.model.add_module(f\"activations_{n_layer}\", activation)\n",
    "            units = out_units\n",
    "        \n",
    "        if task == \"classification\":\n",
    "            self.model.add_module(\"layer_output\", nn.Linear(units, output_dim))\n",
    "            self.model.add_module(\"activations_output\", nn.Sigmoid())\n",
    "            self.metric = Accuracy()\n",
    "            self.metric_name = \"accuracy\"\n",
    "        \n",
    "        if task == \"regression\":\n",
    "            self.model.add_module(\"layer_output\", nn.Linear(units, output_dim))\n",
    "            self.metric = MEE()\n",
    "            self.metric_name = \"mee\"\n",
    "            \n",
    "            \n",
    "        self.loss = nn.MSELoss()\n",
    "        self.dicts = []\n",
    "                    \n",
    "        if init[\"type\"] == \"uniform\":\n",
    "            self.min = init[\"min\"]\n",
    "            self.max = init[\"max\"]\n",
    "            for name, param in self.model.named_parameters():\n",
    "                if 'weight' in name:\n",
    "                    nn.init.uniform_(param, self.min, self.max)\n",
    "                if 'bias' in name:\n",
    "                    nn.init.uniform_(param, self.min, self.max)\n",
    "\n",
    "            \n",
    "        elif init[\"type\"] == \"normal\":\n",
    "            self.mean = init[\"mean\"]\n",
    "            self.std = init[\"std\"]\n",
    "            for name, param in self.model.named_parameters():\n",
    "                if 'weight' in name:\n",
    "                    nn.init.normal_(param, self.mean, self.std)\n",
    "                if 'bias' in name:\n",
    "                    nn.init.normal_(param, self.mean, self.std)\n",
    "            \n",
    "            \n",
    "\n",
    "    def init_weights_uniform(self, m):\n",
    "        if isinstance(m, nn.Linear):\n",
    "            torch.nn.init.uniform_(m.weight, self.min, self.max)\n",
    "            torch.nn.init.uniform_(m.bias, self.min, self.max)\n",
    "            # m.bias.data.fill_(0.01)\n",
    "        \n",
    "            \n",
    "\n",
    "    def init_weights_normal(self, m):\n",
    "        if isinstance(m, nn.Linear):\n",
    "            torch.nn.init.normal_(m.weight, self.mean, self.std)\n",
    "            torch.nn.init.normal_(m.bias, self.mean, self.std)\n",
    "            # m.bias.data.fill_(0.01)\n",
    "            \n",
    "            \n",
    "    def compute_metric(self, y_pred, y_true):\n",
    "        if self.task == \"classification\":\n",
    "            y_pred = y_pred.reshape(y_true.shape)  \n",
    "            return self.metric(y_pred, y_true.to(torch.int32))\n",
    "        elif self.task == \"regression\":\n",
    "            y_true = y_true.to(torch.float32)\n",
    "            return self.metric(y_pred, y_true)\n",
    "\n",
    "\n",
    "    def compute_loss(self, y_pred, y_true):\n",
    "        if self.task == \"classification\":\n",
    "            y_pred = y_pred.reshape(y_true.shape)  \n",
    "            return self.loss(y_pred, y_true)\n",
    "        elif self.task == \"regression\":\n",
    "            y_true = y_true.to(torch.float32)\n",
    "            return self.loss(y_pred, y_true)\n",
    "        \n",
    "        \n",
    "    def get_regularization_term(self):\n",
    "        \n",
    "        if self.reg_method != None:\n",
    "            \n",
    "            value = self.reg_value\n",
    "            p = 1 if self.reg_method == \"l1\" else 2\n",
    "            reg = 0\n",
    "            \n",
    "            for param in self.model.parameters():\n",
    "                reg += torch.linalg.norm(param, p)\n",
    "                \n",
    "            reg *= value\n",
    "            \n",
    "            return reg\n",
    "        \n",
    "        return 0\n",
    "            \n",
    "        \n",
    "        \n",
    "    def forward(self, x):\n",
    "        return self.model(x)\n",
    "\n",
    "    \n",
    "    def configure_optimizers(self):\n",
    "        optimizer = torch.optim.SGD(self.parameters(), lr=self.lr, momentum=self.momentum, nesterov=self.nesterov)\n",
    "        if self.lr_decay != None:\n",
    "            decay_epochs = self.lr_decay[\"epochs\"]\n",
    "            lr_final = self.lr_decay[\"lr_final\"]\n",
    "            lr_init = self.lr\n",
    "            scheduler = LinearLearningRateScheduler(optimizer, lr_init, lr_final, decay_epochs)\n",
    "            return [optimizer], [scheduler]\n",
    "            \n",
    "        return optimizer\n",
    "    \n",
    "    \n",
    "    \n",
    "\n",
    "    def training_step(self, train_batch, batch_idx):\n",
    "        X, y = train_batch \n",
    "        y_copy = y # Integer y for the accuracy\n",
    "        X = X.type(torch.float32)\n",
    "        y = y.type(torch.float32)  \n",
    "        # forward pass\n",
    "        y_pred = self.forward(X)\n",
    "        # accuracy\n",
    "        acc = self.compute_metric(y_pred, y_copy)\n",
    "        # compute loss\n",
    "        reg = self.get_regularization_term()\n",
    "        loss = self.compute_loss(y_pred, y) + reg\n",
    "        self.log_dict({'loss': loss, f'{self.metric_name}': acc}, on_step=False, on_epoch=True, prog_bar=True, logger=True)\n",
    "        return loss\n",
    "    \n",
    "    \n",
    "    \n",
    "    def validation_step(self, validation_batch, batch_idx):\n",
    "        X, y = validation_batch\n",
    "        X = X.type(torch.float32)\n",
    "        # forward pass\n",
    "        y_pred = self.forward(X)\n",
    "        # compute metrics \n",
    "        acc = self.compute_metric(y_pred, y)\n",
    "        # compute loss\n",
    "        loss = self.compute_loss(y_pred, y)\n",
    "        self.log_dict({'val_loss': loss, f'val_{self.metric_name}': acc}, prog_bar=True, logger=True)\n",
    "        return loss\n",
    "    \n",
    "    \n",
    "    \n",
    "    \n",
    "    def test_step(self, test_batch, batch_idx):\n",
    "        X, y = test_batch\n",
    "        X = X.type(torch.float32)\n",
    "        # forward pass\n",
    "        y_pred = self.forward(X)\n",
    "        # compute metrics \n",
    "        acc = self.compute_metric(y_pred, y)\n",
    "        # compute loss\n",
    "        loss = self.compute_loss(y_pred, y)\n",
    "        # self.log_dict({'test_loss': loss, f'test_{self.metric_name}': acc}, on_epoch=True,on_step=False, prog_bar=True, logger=True)\n",
    "        return loss\n",
    "\n",
    "    \n",
    "class CustomDataset(Dataset):\n",
    "    def __init__(self, X, y):\n",
    "        self.X = X\n",
    "        self.y = y\n",
    "    \n",
    "    def __len__(self):\n",
    "        return len(self.X)\n",
    "    \n",
    "    def __getitem__(self, idx):\n",
    "        return self.X[idx], self.y[idx]"
   ]
  },
  {
   "cell_type": "code",
   "execution_count": 93,
   "id": "68a4b4e1",
   "metadata": {
    "scrolled": true
   },
   "outputs": [],
   "source": [
    "def median_index(array):\n",
    "    n = len(array)\n",
    "    med_idx = np.argsort(array)[ceil((n-1)/2)]\n",
    "    # med_val = array[med_idx]\n",
    "    return med_idx #, med_val\n",
    "\n",
    "\n",
    "def merge_dicts(dicts):\n",
    "    merged = {}\n",
    "    for d in dicts:\n",
    "        merged = {**merged, **d}\n",
    "    return merged\n",
    "\n",
    "def get_attributes_num(dataset):\n",
    "    return 1 if len(dataset.shape) == 1 else dataset.shape[1]\n",
    "\n",
    "\n",
    "def get_params_configurations(params):\n",
    "    \n",
    "    keys = list(params.keys())\n",
    "    keys.remove(\"layers\")\n",
    "    keys.remove(\"task\")\n",
    "    keys.remove(\"initialization\")\n",
    "    keys.remove(\"early_stopping\")\n",
    "    keys.remove(\"regularization\")\n",
    "    keys.remove(\"nesterov\")\n",
    "    keys.remove(\"trials_train\")\n",
    "    keys.remove(\"trials_test\")\n",
    "    keys.remove(\"learning_rate_decay\")\n",
    "    sorted_keys = sorted(keys)\n",
    "    arguments = []\n",
    "    for key in sorted_keys:\n",
    "        arguments.append(params[key])\n",
    "    \n",
    "    arguments = tuple(arguments)\n",
    "    all_params = list(itertools.product(*arguments))\n",
    "        \n",
    "    configurations = []\n",
    "    \n",
    "    for conf in all_params:\n",
    "        \n",
    "        dict_conf = {}\n",
    "        \n",
    "        for i in range(len(sorted_keys)):\n",
    "            dict_conf[sorted_keys[i]] = conf[i]\n",
    "        dict_conf[\"initialization\"] = params[\"initialization\"]\n",
    "        dict_conf[\"early_stopping\"] = params[\"early_stopping\"]\n",
    "        dict_conf[\"task\"] = params[\"task\"]\n",
    "        dict_conf[\"trials_train\"] = params[\"trials_train\"]\n",
    "        dict_conf[\"trials_test\"] = params[\"trials_test\"]\n",
    "        dict_conf[\"nesterov\"] = params[\"nesterov\"]\n",
    "        dict_conf[\"learning_rate_decay\"] = params[\"learning_rate_decay\"]\n",
    "        \n",
    "        # add regularization parameters\n",
    "        for reg in params[\"regularization\"]:\n",
    "            method = reg[\"type\"]\n",
    "            \n",
    "            if method == None:\n",
    "                reg_dict_conf = dict_conf.copy()\n",
    "                reg_dict_conf[\"regularization\"] = {\n",
    "                    \"method\": None\n",
    "                }\n",
    "                configurations.append(reg_dict_conf)\n",
    "                continue\n",
    "            \n",
    "            for val in reg[\"value\"]:\n",
    "                reg_dict_conf = dict_conf.copy()\n",
    "                reg_dict_conf[\"regularization\"] = {\n",
    "                    \"method\": method,\n",
    "                    \"value\": val\n",
    "                }\n",
    "        \n",
    "                configurations.append(reg_dict_conf)\n",
    "            \n",
    "        \n",
    "    return configurations\n",
    "\n",
    "\n",
    "def get_callbacks(config):\n",
    "    early_stopping = config[\"early_stopping\"]\n",
    "    callbacks = []\n",
    "    \n",
    "    if early_stopping != None:        \n",
    "        early_stop = EarlyStopping(\n",
    "            monitor=early_stopping[\"monitor\"],\n",
    "            min_delta=early_stopping[\"delta\"],\n",
    "            patience=early_stopping[\"patience\"], \n",
    "            verbose=False,\n",
    "            mode=\"min\"\n",
    "        )\n",
    "        \n",
    "        callbacks.append(early_stop)\n",
    "        \n",
    "    return callbacks if callbacks != [] else None\n",
    "        \n",
    "\n",
    "\n",
    "def get_layers_configurations(params, configurations):\n",
    "    layers = params[\"layers\"]\n",
    "    layers_params_confs = []\n",
    "    \n",
    "    for n_layer in range(len(layers)):\n",
    "        layers_params_confs.append([]) \n",
    "    \n",
    "    for i in range(len(layers)):\n",
    "        layer = layers[i]\n",
    "        activations = layer[\"activations\"]\n",
    "        units = layer[\"units\"]\n",
    "        layer_confs = list(itertools.product(activations, units))\n",
    "        for conf in layer_confs:\n",
    "            conf_dict = {\n",
    "                f\"activations_{i+1}\": conf[0],\n",
    "                f\"units_{i+1}\": conf[1]\n",
    "            }\n",
    "            layers_params_confs[i].append(conf_dict)\n",
    "        \n",
    "    layers_confs = []\n",
    "    for i in range(len(layers_params_confs)):\n",
    "        confs = layers_params_confs[:i+1]\n",
    "        confs = tuple(confs)\n",
    "        confs = list(itertools.product(*confs))\n",
    "        for conf in confs:\n",
    "            layers_confs.append(merge_dicts(conf))\n",
    "                \n",
    "    return layers_confs\n",
    "\n",
    "\n",
    "\n",
    "def get_configurations(params):\n",
    "    \n",
    "    configurations = get_params_configurations(params)\n",
    "    layers_confs = get_layers_configurations(params, configurations)\n",
    "    configurations = list(itertools.product(configurations, layers_confs))\n",
    "    configurations_merged = []\n",
    "    \n",
    "    for conf in configurations:\n",
    "        configurations_merged.append(merge_dicts(conf))\n",
    "        \n",
    "    \n",
    "    return configurations_merged\n",
    "\n",
    "\n",
    "def get_model(config, input_size, output_size):\n",
    "    model = MultiLayerPerceptron(input_size, output_size, config)\n",
    "    return model\n",
    "    \n",
    "    \n",
    "    \n",
    "def fit(model, x_train, y_train, x_val, y_val, max_epochs, batch_size, metric, config, x_test=None, y_test=None):  \n",
    "    \n",
    "    if batch_size is None:\n",
    "        batch_size_train = x_train.shape[0]\n",
    "        batch_size_val = x_val.shape[0]\n",
    "    else:\n",
    "        batch_size_train = batch_size\n",
    "        batch_size_val = batch_size\n",
    "        \n",
    "    \n",
    "    \n",
    "    train_loader = DataLoader(dataset = CustomDataset(x_train, y_train), batch_size=batch_size_train)\n",
    "    validation_loader = DataLoader(dataset = CustomDataset(x_val, y_val), batch_size=batch_size_val)\n",
    "    \n",
    "    callbacks = get_callbacks(config)\n",
    "\n",
    "    if x_test is not None:\n",
    "        callbacks.append(TestCallback(x_test, y_test, config[\"task\"]))\n",
    "        \n",
    "    trainer = pl.Trainer(accelerator='cpu', devices=1, max_epochs=max_epochs,\n",
    "                         log_every_n_steps=1, logger=CSVLogger(save_dir=\"logs/\"),\n",
    "                         callbacks=callbacks, enable_progress_bar=False,\n",
    "                         enable_model_summary=False\n",
    "                        )  \n",
    "    \n",
    "    \n",
    "    trainer.fit(model=model, train_dataloaders=train_loader,\n",
    "                val_dataloaders=validation_loader) \n",
    "    \n",
    "    metrics = pd.read_csv(f\"{trainer.logger.log_dir}/metrics.csv\")\n",
    "    \n",
    "\n",
    "    history = History()\n",
    "                \n",
    "    history.history[\"loss\"] = metrics[\"loss\"].dropna().to_list()\n",
    "    history.history[\"val_loss\"] = metrics[\"val_loss\"].dropna().to_list()\n",
    "    history.history[f\"{metric}\"] = metrics[f\"{metric}\"].dropna().to_list()\n",
    "    history.history[f\"val_{metric}\"] = metrics[f\"val_{metric}\"].dropna().to_list()\n",
    "    \n",
    "    if x_test is not None:\n",
    "        history.history[\"test_loss\"] = metrics[\"test_loss\"].dropna().to_list()\n",
    "        history.history[f\"test_{metric}\"] = metrics[f\"test_{metric}\"].dropna().to_list() \n",
    "    \n",
    "    return history\n",
    "    \n",
    "    \n",
    "    \n",
    "def fit_model_k_fold(x_train, y_train, config, n_folds):\n",
    "    \n",
    "    task = config[\"task\"]\n",
    "    \n",
    "    if task == \"classification\":\n",
    "        train_metric = \"accuracy\"\n",
    "        val_metric = \"val_accuracy\"\n",
    "    elif task == \"regression\":\n",
    "        train_metric = \"mee\"\n",
    "        val_metric = \"val_mee\"\n",
    "    \n",
    "    trials = config[\"trials_train\"]\n",
    "    max_epochs = config[\"max_epochs\"]\n",
    "    batch_size = config[\"batch_size\"]\n",
    "    \n",
    "    kf = StratifiedKFold(n_splits = n_folds, shuffle=True)\n",
    "\n",
    "    train_losses = []\n",
    "    val_losses = []\n",
    "    train_accs = []\n",
    "    val_accs = []\n",
    "\n",
    "    fold = 1\n",
    "    for train_index, val_index in kf.split(x_train, y_train):\n",
    "        \n",
    "        print(f\"\\nExecuting fold {fold}/{n_folds}\")\n",
    "        \n",
    "        input_size = get_attributes_num(x_train)\n",
    "        output_size = get_attributes_num(y_train)\n",
    "        \n",
    "                \n",
    "        x_train_fold = x_train[train_index]\n",
    "        y_train_fold = y_train[train_index]\n",
    "\n",
    "        x_val_fold = x_train[val_index]\n",
    "        y_val_fold = y_train[val_index]\n",
    "        \n",
    "        # print(y_val_fold.shape)\n",
    "        # print(y_val_fold)\n",
    "\n",
    "        \n",
    "        trials_val_loss = []\n",
    "        trials_train_loss = []\n",
    "        trials_val_acc = []\n",
    "        trials_train_acc = []\n",
    "        \n",
    "        with tqdm(total=trials) as pbar:\n",
    "            for trial in range(trials):\n",
    "                \n",
    "                \n",
    "                \n",
    "                model = get_model(config, input_size, output_size)\n",
    "                history = fit(model, x_train_fold, y_train_fold, x_val_fold, y_val_fold, \n",
    "                              max_epochs, batch_size, train_metric, config)\n",
    "                \n",
    "                trial_train_loss = history.history[\"loss\"]\n",
    "                trial_val_loss = history.history[\"val_loss\"]         \n",
    "                trial_train_acc = history.history[train_metric]\n",
    "                trial_val_acc = history.history[val_metric]\n",
    "\n",
    "                trials_val_loss.append(trial_val_loss[-1])\n",
    "                trials_train_loss.append(trial_train_loss[-1])\n",
    "                trials_val_acc.append(trial_val_acc[-1])\n",
    "                trials_train_acc.append(trial_train_acc[-1])\n",
    "\n",
    "                pbar.update(1)\n",
    "            \n",
    "        # get the mean metrics among the trials\n",
    "        # med_idx = median_index(trials_val_loss)\n",
    "        # med_val_loss = trials_val_loss[med_idx]\n",
    "        # med_train_loss = trials_train_loss[med_idx]\n",
    "        # med_val_acc = trials_val_acc[med_idx]\n",
    "        # med_train_acc = trials_train_acc[med_idx]\n",
    "        med_val_loss = np.mean(trials_val_loss)\n",
    "        med_train_loss = np.mean(trials_train_loss)\n",
    "        med_val_acc = np.mean(trials_val_acc)\n",
    "        med_train_acc = np.mean(trials_train_acc)\n",
    "        std_val_loss = np.std(trials_val_loss)\n",
    "        std_train_loss = np.std(trials_train_loss)\n",
    "        std_val_acc = np.std(trials_val_acc)\n",
    "        std_train_acc = np.std(trials_train_acc)\n",
    "\n",
    "        print(f\"Fold {fold}/{n_folds} mean val_loss: {med_val_loss}, std val_loss {std_val_loss}\")\n",
    "        print(f\"Fold {fold}/{n_folds} mean train_loss: {med_train_loss}, std train_loss {std_train_loss}\")\n",
    "        print(f\"Fold {fold}/{n_folds} mean {val_metric}: {med_val_acc}, std {val_metric} {std_val_acc}\")\n",
    "        print(f\"Fold {fold}/{n_folds} mean train_{train_metric}: {med_train_acc}, train_{train_metric} {std_train_acc}\")\n",
    "            \n",
    "        train_losses.append(med_train_loss)\n",
    "        val_losses.append(med_val_loss)\n",
    "        val_accs.append(med_val_acc)\n",
    "        train_accs.append(med_train_acc)\n",
    "        \n",
    "        fold += 1\n",
    "        \n",
    "    mean_train_loss = np.mean(train_losses)\n",
    "    mean_val_loss = np.mean(val_losses)\n",
    "    mean_train_acc = np.mean(train_accs)\n",
    "    mean_val_acc = np.mean(val_accs)\n",
    "    std_train_loss = np.std(train_losses)\n",
    "    std_val_loss = np.std(val_losses)\n",
    "    std_train_acc = np.std(train_accs)\n",
    "    std_val_acc = np.std(val_accs)\n",
    "    \n",
    "    print(f\"\\nMean val_loss: {mean_val_loss}, std val_loss: {std_val_loss}\")\n",
    "    print(f\"Mean train_loss: {mean_train_loss}, std train_loss: {std_train_loss}\")\n",
    "    print(f\"Mean {val_metric}: {mean_val_acc}, std {val_metric}: {std_val_acc}\")\n",
    "    print(f\"Mean train_{train_metric}: {mean_val_acc}, std train_{train_metric}: {std_train_acc}\")\n",
    "    \n",
    "    return mean_val_loss\n",
    "\n",
    "\n",
    "\n",
    "\n",
    "def fit_model_hold_out(x_train, y_train, config, val_split):\n",
    "    \n",
    "    task = config[\"task\"]\n",
    "    \n",
    "    if task == \"classification\":\n",
    "        train_metric = \"accuracy\"\n",
    "        val_metric = \"val_accuracy\"\n",
    "    elif task == \"regression\":\n",
    "        train_metric = \"mee\"\n",
    "        val_metric = \"val_mee\"\n",
    "        \n",
    "    trials = config[\"trials_train\"]\n",
    "    input_size = get_attributes_num(x_train)\n",
    "    output_size = get_attributes_num(y_train)\n",
    "    \n",
    "    \n",
    "    max_epochs = config[\"max_epochs\"]\n",
    "    batch_size = config[\"batch_size\"]\n",
    "    \n",
    "    if task == \"classification\":\n",
    "        stratify = y_train\n",
    "    else:\n",
    "        stratify = None\n",
    "        \n",
    "        \n",
    "    x_train, x_val, y_train, y_val = train_test_split(x_train, y_train, test_size=val_split, shuffle=True, stratify=stratify)\n",
    "\n",
    "    \n",
    "    trials_val_loss = []\n",
    "    trials_train_loss = []\n",
    "    trials_val_acc = []\n",
    "    trials_train_acc = []\n",
    "        \n",
    "    with tqdm(total=trials) as pbar:\n",
    "        for trial in range(trials):            \n",
    "            model = get_model(config, input_size, output_size)\n",
    "            history = fit(model, x_train, y_train, x_val, y_val, max_epochs, batch_size, train_metric, config)  \n",
    "\n",
    "            trial_train_loss = history.history[\"loss\"]\n",
    "            trial_val_loss = history.history[\"val_loss\"]         \n",
    "            trial_train_acc = history.history[train_metric]\n",
    "            trial_val_acc = history.history[val_metric]\n",
    "                                    \n",
    "            trials_val_loss.append(trial_val_loss[-1])\n",
    "            trials_train_loss.append(trial_train_loss[-1])\n",
    "            trials_val_acc.append(trial_val_acc[-1])\n",
    "            trials_train_acc.append(trial_train_acc[-1])\n",
    "            \n",
    "            pbar.update(1)\n",
    "    \n",
    "    # get the median metrics among the trials\n",
    "    med_val_loss = np.mean(trials_val_loss)\n",
    "    med_train_loss = np.mean(trials_train_loss)\n",
    "    med_val_acc = np.mean(trials_val_acc)\n",
    "    med_train_acc = np.mean(trials_train_acc)\n",
    "    std_val_loss = np.std(trials_val_loss)\n",
    "    std_train_loss = np.std(trials_train_loss)\n",
    "    std_val_acc = np.std(trials_val_acc)\n",
    "    std_train_acc = np.std(trials_train_acc)\n",
    "\n",
    "    print(f\"\\nMean val_loss: {med_val_loss}, std val_loss {std_val_loss}\")\n",
    "    print(f\"Mean train_loss: {med_train_loss}, std train_loss {std_train_loss}\")\n",
    "    print(f\"Mean {val_metric}: {med_val_acc}, std {val_metric} {std_val_acc}\")\n",
    "    print(f\"Mean train_{train_metric}: {med_train_acc}, train_{train_metric} {std_train_acc}\")\n",
    "    \n",
    "    \n",
    "    return med_val_loss\n",
    "    \n",
    "    \n",
    "\n",
    "def fit_final_model(x_train, y_train, x_test, y_test, config):\n",
    "    global y_scaler\n",
    "    \n",
    "    task = config[\"task\"]\n",
    "    trails = config[\"trials_test\"]\n",
    "    \n",
    "    if task == \"classification\":\n",
    "        train_metric = \"accuracy\"\n",
    "        val_metric = \"val_accuracy\"\n",
    "        test_metric = \"test_accuracy\"\n",
    "    elif task == \"regression\":\n",
    "        train_metric = \"mee\"\n",
    "        val_metric = \"val_mee\"\n",
    "        test_metric = \"test_mee\"\n",
    "    val_loss = \"val_mse\"\n",
    "    train_loss = \"mse\"\n",
    "    test_loss = \"test_mse\"\n",
    "\n",
    "    max_epochs = config[\"max_epochs\"]\n",
    "    batch_size = config[\"batch_size\"]\n",
    "    trials = config[\"trials_test\"]\n",
    "    \n",
    "    '''if config[\"early_stopping\"][\"monitor\"] == \"val_loss\":\n",
    "        config[\"early_stopping\"][\"monitor\"] = \"loss\"'''\n",
    "        \n",
    "    \n",
    "    input_size = get_attributes_num(x_train)\n",
    "    output_size = get_attributes_num(y_train)\n",
    "    \n",
    "    \n",
    "    trials_val_loss = []\n",
    "    trials_train_loss = []\n",
    "    trials_val_acc = []\n",
    "    trials_train_acc = []\n",
    "    trials_test_acc = []\n",
    "    trials_test_loss = []\n",
    "    \n",
    "    trials_history_val_loss = []\n",
    "    trials_history_train_loss = []\n",
    "    trials_history_val_acc = []\n",
    "    trials_history_train_acc = []\n",
    "    trials_history_test_acc = []\n",
    "    trials_history_test_loss = [] \n",
    "    \n",
    "    models = []\n",
    "    \n",
    "    if task == \"classification\":\n",
    "        stratify = y_train\n",
    "    else:\n",
    "        stratify = None\n",
    "    \n",
    "    x_train, x_val, y_train, y_val = train_test_split(x_train, y_train, test_size=0.1, shuffle=True, stratify=stratify)\n",
    "    \n",
    "    with tqdm(total=trials) as pbar:\n",
    "        for trial in range(trials):\n",
    "            \n",
    "            model = get_model(config, input_size, output_size)\n",
    "            torch.save(model, f\"./../models/pytorch_model_{trial}.pt\")\n",
    "            history = fit(model, x_train, y_train, x_val, y_val, max_epochs, batch_size, train_metric, config, x_test, y_test)\n",
    "\n",
    "            models.append(model)\n",
    "\n",
    "            trial_train_loss = history.history[\"loss\"]\n",
    "            trial_val_loss = history.history[\"val_loss\"]\n",
    "            trial_test_loss = history.history[\"test_loss\"]\n",
    "            trial_train_acc = history.history[train_metric]\n",
    "            trial_val_acc = history.history[val_metric]\n",
    "            trial_test_acc = history.history[test_metric]\n",
    "            \n",
    "            trials_val_loss.append(trial_val_loss[-1])\n",
    "            trials_train_loss.append(trial_train_loss[-1])\n",
    "            trials_test_loss.append(trial_test_loss[-1])\n",
    "            trials_val_acc.append(trial_val_acc[-1])\n",
    "            trials_train_acc.append(trial_train_acc[-1])\n",
    "            trials_test_acc.append(trial_test_acc[-1])\n",
    "            \n",
    "\n",
    "            trials_history_val_loss.append(trial_val_loss)\n",
    "            trials_history_train_loss.append(trial_train_loss)\n",
    "            trials_history_test_loss.append(trial_test_loss)\n",
    "            trials_history_val_acc.append(trial_val_acc)\n",
    "            trials_history_train_acc.append(trial_train_acc)\n",
    "            trials_history_test_acc.append(trial_test_acc)\n",
    "            \n",
    "\n",
    "            print(f\"Trial {trial+1}/{trials} {val_loss}: {trial_val_loss[-1]}\")\n",
    "            print(f\"Trial {trial+1}/{trials} train_{train_loss}: {trial_train_loss[-1]}\")\n",
    "            # print(f\"Trial {trial+1}/{trials} {test_loss}: {trial_test_loss[-1]}\")\n",
    "            print(f\"Trial {trial+1}/{trials} {val_metric}: {trial_val_acc[-1]}\")\n",
    "            print(f\"Trial {trial+1}/{trials} train_{train_metric}: {trial_train_acc[-1]}\")\n",
    "            # print(f\"Trial {trial+1}/{trials} {test_metric}: {trial_test_acc[-1]}\")\n",
    "\n",
    "            pbar.update(1)\n",
    "        \n",
    "    # get the mean metrics among the trials\n",
    "    med_idx = median_index(trials_val_loss)\n",
    "    med_val_loss = trials_val_loss[med_idx]\n",
    "    med_train_loss = trials_train_loss[med_idx]\n",
    "    med_val_acc = trials_val_acc[med_idx]\n",
    "    med_train_acc = trials_train_acc[med_idx]\n",
    "    std_val_loss = np.std(trials_val_loss)\n",
    "    std_train_loss = np.std(trials_train_loss)\n",
    "    std_val_acc = np.std(trials_val_acc)\n",
    "    std_train_acc = np.std(trials_train_acc)\n",
    "    \n",
    "    print(f\"\\nMedian {val_loss}: {med_val_loss}, std {val_loss}: {std_val_loss}\")\n",
    "    print(f\"Median train_{train_loss}: {med_train_loss}, std train_{train_loss}: {std_train_loss}\")\n",
    "    print(f\"Median {val_metric}: {med_val_acc}, std {val_metric}: {std_val_acc}\")\n",
    "    print(f\"Median train_{train_metric}: {med_train_acc}, std train_{train_metric}: {std_train_acc}\")\n",
    "        \n",
    "    \n",
    "        \n",
    "    train_acc = trials_history_train_acc[med_idx]\n",
    "    test_acc = trials_history_test_acc[med_idx]\n",
    "    val_acc = trials_history_val_acc[med_idx]\n",
    "    \n",
    "    train_loss = trials_history_train_loss[med_idx]\n",
    "    test_loss = trials_history_test_loss[med_idx]\n",
    "    val_loss = trials_history_val_loss[med_idx]\n",
    "    \n",
    "    \n",
    "    print(f\"\\nMedian model train_loss: {train_loss[-1]}\")\n",
    "    print(f\"Median model val_loss: {val_loss[-1]}\")\n",
    "    print(f\"Median model test_loss: {test_loss[-1]}\")\n",
    "    \n",
    "    print(f\"\\nMedian model train_{train_metric}: {train_acc[-1]}\")\n",
    "    print(f\"Median model {val_metric}: {val_acc[-1]}\")\n",
    "    print(f\"Median model {test_metric}: {test_acc[-1]}\")\n",
    "    \n",
    "    \n",
    "    plot_curves(train_acc, f\"Training {train_metric}\", test_acc, f\"Test {train_metric}\")\n",
    "    plot_curves(train_acc, f\"Training {train_metric}\", val_acc, f\"Validation {val_metric}\")\n",
    "    \n",
    "    plot_curves(train_loss, \"Train loss\", test_loss, \"Test loss\")\n",
    "    plot_curves(train_loss, \"Train loss\", val_loss, \"Validation loss\")\n",
    "    \n",
    "    med_model = models[med_idx]\n",
    "    \n",
    "    \n",
    "    if task == \"regression\":\n",
    "        \n",
    "        y_pred = model(torch.from_numpy(x_val).to(torch.float32))\n",
    "        # y_val = y_val.detach().numpy()\n",
    "        \n",
    "        y_pred = y_scaler.inverse_transform(y_pred.detach().numpy())\n",
    "        y_val  = y_scaler.inverse_transform(y_val)\n",
    "        \n",
    "        y_pred  = torch.from_numpy(y_pred).to(torch.float32)\n",
    "        y_val  = torch.from_numpy(y_val).to(torch.float32)\n",
    "        \n",
    "        mse_val = mse(y_val, y_pred)\n",
    "        mee_val = mee(y_val, y_pred)\n",
    "\n",
    "        print(f\"\\nValidation MSE: {mse_val}\")\n",
    "        print(f\"Validation MEE: {mee_val}\")\n",
    "    \n",
    "    \n",
    "    for trial in range(trials):\n",
    "        if trial != med_idx:\n",
    "            os.system(f\"rm ./../models/pytorch_model_{trial}.pt\")\n",
    "            \n",
    "    os.system(f\"mv ./../models/pytorch_model_{med_idx}.pt ./../models/pytorch_model.pt\")\n",
    "    \n",
    "    return med_model\n",
    "\n",
    "    \n",
    "def fit_model(x_train, y_train, config, validation):\n",
    "    if validation[\"type\"] == \"k-fold\":\n",
    "        val_loss = fit_model_k_fold(x_train, y_train, config, validation[\"n_folds\"])\n",
    "    elif validation[\"type\"] == \"hold-out\":\n",
    "        val_loss = fit_model_hold_out(x_train, y_train, config, validation[\"val_split\"])\n",
    "    return val_loss\n",
    "\n",
    "\n",
    "\n",
    "def test_model(model, x_test, y_test):\n",
    "    \n",
    "    y_pred = model(torch.from_numpy(x_test).to(torch.float32))\n",
    "    y_test = torch.from_numpy(y_test).to(torch.float32)\n",
    "    \n",
    "    acc = model.compute_metric(y_pred, y_test)\n",
    "    loss = model.compute_loss(y_pred, y_test)\n",
    "    \n",
    "    print(f\"Test MSE: {loss}\")\n",
    "    print(f\"Test accuracy: {acc}\")\n",
    "    \n",
    "    #test_loader = DataLoader(dataset = CustomDataset(x_test, y_test), batch_size=batch_size)\n",
    "    #trainer.test(model=model, dataloaders=test_loader)\n",
    "    #input_size = x_test.shape[1]\n",
    "    #result = model.evaluate(x_test, y_test)\n",
    "    #print(result)\n",
    "    \n",
    "\n",
    "def assess_model(model, x_train, y_train, x_test, y_test, scale=True):\n",
    "    y_train_pred = model(torch.from_numpy(x_train).to(torch.float32))\n",
    "    y_test_pred = model(torch.from_numpy(x_test).to(torch.float32))\n",
    "    \n",
    "    if scale:\n",
    "        \n",
    "        y_train_pred = y_train_pred.detach().numpy()\n",
    "        y_test_pred = y_test_pred.detach().numpy()\n",
    "        \n",
    "        y_train_pred = y_scaler.inverse_transform(y_train_pred)\n",
    "        y_train  = y_scaler.inverse_transform(y_train)\n",
    "        y_test_pred = y_scaler.inverse_transform(y_test_pred)\n",
    "        y_test  = y_scaler.inverse_transform(y_test)\n",
    "        \n",
    "        y_train_pred  = torch.from_numpy(y_train_pred).to(torch.float32)\n",
    "        y_test_pred  = torch.from_numpy(y_test_pred).to(torch.float32)\n",
    "        \n",
    "    y_train = torch.from_numpy(y_train).to(torch.float32)\n",
    "    y_test = torch.from_numpy(y_test).to(torch.float32)\n",
    "    \n",
    "\n",
    "    mse_train = mse(y_train, y_train_pred)\n",
    "    mse_test = mse(y_test, y_test_pred)\n",
    "\n",
    "    mee_train = mee(y_train, y_train_pred)\n",
    "    mee_test = mee(y_test, y_test_pred)\n",
    "\n",
    "    print(f\"Train MSE: {mse_train}\")\n",
    "    print(f\"Train MEE: {mee_train}\")\n",
    "    print(f\"Test MSE: {mse_test}\")\n",
    "    print(f\"Test MEE: {mee_test}\")\n",
    "\n",
    "\n",
    "    \n",
    "def model_selection(configurations, x_train, y_train, validation):\n",
    "        \n",
    "    best_loss = float(\"inf\")\n",
    "    best_conf = None\n",
    "    \n",
    "    idx = 1\n",
    "    n_confs = len(configurations)\n",
    "    for config in configurations:\n",
    "        \n",
    "        print(f\"Testing configuration {idx}/{n_confs}:\\n{config}\")\n",
    "        val_loss = fit_model(x_train, y_train, config, validation)\n",
    "\n",
    "        if val_loss < best_loss:\n",
    "            best_loss = val_loss;\n",
    "            best_conf = config\n",
    "        idx += 1\n",
    "        \n",
    "        print(\"\\n\\n\")\n",
    "\n",
    "            \n",
    "    print(\"\\n\\n\")\n",
    "    print(f\"Best configuration (loss {best_loss}):\\n{best_conf}\")\n",
    "    \n",
    "    return best_conf\n",
    "    \n",
    "\n",
    "def grid_search(params, x_train, y_train, x_test, y_test, validation={\"type\": \"hold-out\", \"val_split\": 0.2}):\n",
    "    set_random_seeds()\n",
    "    configurations = get_configurations(params)    \n",
    "    best_conf = model_selection(configurations, x_train, y_train, validation)\n",
    "    model = fit_final_model(x_train, y_train, x_test, y_test, best_conf)\n",
    "    \n",
    "    return model"
   ]
  },
  {
   "cell_type": "markdown",
   "id": "1efeb266",
   "metadata": {},
   "source": [
    "# Monk 1"
   ]
  },
  {
   "cell_type": "code",
   "execution_count": 94,
   "id": "f0e9f138",
   "metadata": {
    "scrolled": true
   },
   "outputs": [
    {
     "name": "stdout",
     "output_type": "stream",
     "text": [
      "Loaded ./../data/monks-1 dataset\n",
      "(124, 17) (124,)\n",
      "(432, 17) (432,)\n"
     ]
    }
   ],
   "source": [
    "x_train, y_train, x_test, y_test = load_dataset(\"monks1\", True)\n",
    "print(x_train.shape, y_train.shape)\n",
    "print(x_test.shape, y_test.shape)"
   ]
  },
  {
   "cell_type": "code",
   "execution_count": 97,
   "id": "46daf564",
   "metadata": {
    "scrolled": true
   },
   "outputs": [],
   "source": [
    "params = {\n",
    "    \"task\": \"classification\",\n",
    "    \"trials_train\": 1,\n",
    "    \"trials_test\": 10,\n",
    "    \"initialization\": {\n",
    "        \"type\": \"default\",\n",
    "        \"min\": -0.5,\n",
    "        \"max\": 0.5,\n",
    "    },\n",
    "    \"early_stopping\": {\n",
    "        \"monitor\": \"val_loss\",\n",
    "        \"patience\": 20,\n",
    "        \"delta\": 0.0\n",
    "    },\n",
    "    \"max_epochs\": [500],\n",
    "    \"learning_rate\": [0.1, 0.2, 0.3],# np.linspace(0.1, 0.4, 4).tolist(),\n",
    "    \"batch_size\": [None],\n",
    "    \"momentum\": [0.7, 0.8, 0.9],#np.linspace(0.5, 0.9, 4).tolist(),\n",
    "    \"nesterov\": False,\n",
    "    \"learning_rate_decay\": None,\n",
    "    \"regularization\": [\n",
    "        {\n",
    "            \"type\": None\n",
    "        }\n",
    "    ],\n",
    "    \"layers\": [\n",
    "        {\n",
    "            \"activations\": [\"relu\"],\n",
    "            \"units\": [8],\n",
    "        },\n",
    "    ]\n",
    "}\n",
    "\n",
    "k_fold_val = {\n",
    "    \"type\": \"k-fold\",\n",
    "    \"n_folds\": 4\n",
    "}\n",
    "\n",
    "hold_out_val = {\n",
    "    \"type\": \"hold-out\",\n",
    "    \"val_split\": 0.15\n",
    "}"
   ]
  },
  {
   "cell_type": "code",
   "execution_count": 98,
   "id": "46d6d818",
   "metadata": {},
   "outputs": [
    {
     "name": "stdout",
     "output_type": "stream",
     "text": [
      "Testing configuration 1/9:\n",
      "{'batch_size': None, 'learning_rate': 0.1, 'max_epochs': 500, 'momentum': 0.7, 'initialization': {'type': 'default', 'min': -0.5, 'max': 0.5}, 'early_stopping': {'monitor': 'val_loss', 'patience': 20, 'delta': 0.0}, 'task': 'classification', 'trials_train': 1, 'trials_test': 10, 'nesterov': False, 'learning_rate_decay': None, 'regularization': {'method': None}, 'activations_1': 'relu', 'units_1': 8}\n",
      "\n",
      "Executing fold 1/4\n"
     ]
    },
    {
     "name": "stderr",
     "output_type": "stream",
     "text": [
      "100%|█████████████████████████████████████████████| 1/1 [00:08<00:00,  8.70s/it]\n"
     ]
    },
    {
     "name": "stdout",
     "output_type": "stream",
     "text": [
      "Fold 1/4 mean val_loss: 0.1603363965784988, std val_loss 0.0\n",
      "Fold 1/4 mean train_loss: 0.0871329456567764, std train_loss 0.0\n",
      "Fold 1/4 mean val_accuracy: 0.8064516186714172, std val_accuracy 0.0\n",
      "Fold 1/4 mean train_accuracy: 0.9032257795333862, train_accuracy 0.0\n",
      "\n",
      "Executing fold 2/4\n"
     ]
    },
    {
     "name": "stderr",
     "output_type": "stream",
     "text": [
      "100%|█████████████████████████████████████████████| 1/1 [00:08<00:00,  8.66s/it]\n"
     ]
    },
    {
     "name": "stdout",
     "output_type": "stream",
     "text": [
      "Fold 2/4 mean val_loss: 0.0657788148940332, std val_loss 0.0\n",
      "Fold 2/4 mean train_loss: 0.0227350424975156, std train_loss 0.0\n",
      "Fold 2/4 mean val_accuracy: 0.9032257795333862, std val_accuracy 0.0\n",
      "Fold 2/4 mean train_accuracy: 0.9892473220825196, train_accuracy 0.0\n",
      "\n",
      "Executing fold 3/4\n"
     ]
    },
    {
     "name": "stderr",
     "output_type": "stream",
     "text": [
      "100%|█████████████████████████████████████████████| 1/1 [00:07<00:00,  7.99s/it]\n"
     ]
    },
    {
     "name": "stdout",
     "output_type": "stream",
     "text": [
      "Fold 3/4 mean val_loss: 0.0628596740885872, std val_loss 0.0\n",
      "Fold 3/4 mean train_loss: 0.0236961115151643, std train_loss 0.0\n",
      "Fold 3/4 mean val_accuracy: 0.9677419066429138, std val_accuracy 0.0\n",
      "Fold 3/4 mean train_accuracy: 1.0, train_accuracy 0.0\n",
      "\n",
      "Executing fold 4/4\n"
     ]
    },
    {
     "name": "stderr",
     "output_type": "stream",
     "text": [
      "100%|█████████████████████████████████████████████| 1/1 [00:08<00:00,  8.07s/it]\n"
     ]
    },
    {
     "name": "stdout",
     "output_type": "stream",
     "text": [
      "Fold 4/4 mean val_loss: 0.1250792317180593, std val_loss 0.0\n",
      "Fold 4/4 mean train_loss: 0.0430852100253105, std train_loss 0.0\n",
      "Fold 4/4 mean val_accuracy: 0.8709677457809448, std val_accuracy 0.0\n",
      "Fold 4/4 mean train_accuracy: 0.9892473220825196, train_accuracy 0.0\n",
      "\n",
      "Mean val_loss: 0.10351352931979461, std val_loss: 0.04114171356842278\n",
      "Mean train_loss: 0.044162327423691694, std train_loss: 0.026103777246527946\n",
      "Mean val_accuracy: 0.8870967626571655, std val_accuracy: 0.058154038698423546\n",
      "Mean train_accuracy: 0.8870967626571655, std train_accuracy: 0.03904796847851022\n",
      "\n",
      "\n",
      "\n",
      "Testing configuration 2/9:\n",
      "{'batch_size': None, 'learning_rate': 0.1, 'max_epochs': 500, 'momentum': 0.8, 'initialization': {'type': 'default', 'min': -0.5, 'max': 0.5}, 'early_stopping': {'monitor': 'val_loss', 'patience': 20, 'delta': 0.0}, 'task': 'classification', 'trials_train': 1, 'trials_test': 10, 'nesterov': False, 'learning_rate_decay': None, 'regularization': {'method': None}, 'activations_1': 'relu', 'units_1': 8}\n",
      "\n",
      "Executing fold 1/4\n"
     ]
    },
    {
     "name": "stderr",
     "output_type": "stream",
     "text": [
      "100%|█████████████████████████████████████████████| 1/1 [00:07<00:00,  7.88s/it]\n"
     ]
    },
    {
     "name": "stdout",
     "output_type": "stream",
     "text": [
      "Fold 1/4 mean val_loss: 0.0412993188856187, std val_loss 0.0\n",
      "Fold 1/4 mean train_loss: 0.0250745825469493, std train_loss 0.0\n",
      "Fold 1/4 mean val_accuracy: 0.9677419066429138, std val_accuracy 0.0\n",
      "Fold 1/4 mean train_accuracy: 1.0, train_accuracy 0.0\n",
      "\n",
      "Executing fold 2/4\n"
     ]
    },
    {
     "name": "stderr",
     "output_type": "stream",
     "text": [
      "100%|█████████████████████████████████████████████| 1/1 [00:07<00:00,  7.85s/it]\n"
     ]
    },
    {
     "name": "stdout",
     "output_type": "stream",
     "text": [
      "Fold 2/4 mean val_loss: 0.0401985661752983, std val_loss 0.0\n",
      "Fold 2/4 mean train_loss: 0.0144847081974148, std train_loss 0.0\n",
      "Fold 2/4 mean val_accuracy: 0.9677419066429138, std val_accuracy 0.0\n",
      "Fold 2/4 mean train_accuracy: 1.0, train_accuracy 0.0\n",
      "\n",
      "Executing fold 3/4\n"
     ]
    },
    {
     "name": "stderr",
     "output_type": "stream",
     "text": [
      "100%|█████████████████████████████████████████████| 1/1 [00:01<00:00,  1.49s/it]\n"
     ]
    },
    {
     "name": "stdout",
     "output_type": "stream",
     "text": [
      "Fold 3/4 mean val_loss: 0.1982645439904622, std val_loss 0.0\n",
      "Fold 3/4 mean train_loss: 0.1030299663543701, std train_loss 0.0\n",
      "Fold 3/4 mean val_accuracy: 0.7096773982048035, std val_accuracy 0.0\n",
      "Fold 3/4 mean train_accuracy: 0.8924731016159058, train_accuracy 0.0\n",
      "\n",
      "Executing fold 4/4\n"
     ]
    },
    {
     "name": "stderr",
     "output_type": "stream",
     "text": [
      "100%|█████████████████████████████████████████████| 1/1 [00:01<00:00,  1.65s/it]\n"
     ]
    },
    {
     "name": "stdout",
     "output_type": "stream",
     "text": [
      "Fold 4/4 mean val_loss: 0.1796809831810195, std val_loss 0.0\n",
      "Fold 4/4 mean train_loss: 0.1351765245199203, std train_loss 0.0\n",
      "Fold 4/4 mean val_accuracy: 0.6451612710952759, std val_accuracy 0.0\n",
      "Fold 4/4 mean train_accuracy: 0.8279569745063782, train_accuracy 0.0\n",
      "\n",
      "Mean val_loss: 0.11486085305809968, std val_loss: 0.07440359756535993\n",
      "Mean train_loss: 0.06944144540466363, std train_loss: 0.05108314509253459\n",
      "Mean val_accuracy: 0.8225806206464767, std val_accuracy: 0.1469424727037455\n",
      "Mean train_accuracy: 0.8225806206464767, std train_accuracy: 0.07352040688280763\n",
      "\n",
      "\n",
      "\n",
      "Testing configuration 3/9:\n",
      "{'batch_size': None, 'learning_rate': 0.1, 'max_epochs': 500, 'momentum': 0.9, 'initialization': {'type': 'default', 'min': -0.5, 'max': 0.5}, 'early_stopping': {'monitor': 'val_loss', 'patience': 20, 'delta': 0.0}, 'task': 'classification', 'trials_train': 1, 'trials_test': 10, 'nesterov': False, 'learning_rate_decay': None, 'regularization': {'method': None}, 'activations_1': 'relu', 'units_1': 8}\n",
      "\n",
      "Executing fold 1/4\n"
     ]
    },
    {
     "name": "stderr",
     "output_type": "stream",
     "text": [
      "100%|█████████████████████████████████████████████| 1/1 [00:08<00:00,  8.00s/it]\n"
     ]
    },
    {
     "name": "stdout",
     "output_type": "stream",
     "text": [
      "Fold 1/4 mean val_loss: 0.0030710226676031, std val_loss 0.0\n",
      "Fold 1/4 mean train_loss: 0.0016531262081116, std train_loss 0.0\n",
      "Fold 1/4 mean val_accuracy: 1.0, std val_accuracy 0.0\n",
      "Fold 1/4 mean train_accuracy: 1.0, train_accuracy 0.0\n",
      "\n",
      "Executing fold 2/4\n"
     ]
    },
    {
     "name": "stderr",
     "output_type": "stream",
     "text": [
      "100%|█████████████████████████████████████████████| 1/1 [00:07<00:00,  7.96s/it]\n"
     ]
    },
    {
     "name": "stdout",
     "output_type": "stream",
     "text": [
      "Fold 2/4 mean val_loss: 0.0204404851367815, std val_loss 0.0\n",
      "Fold 2/4 mean train_loss: 0.0022882421035319, std train_loss 0.0\n",
      "Fold 2/4 mean val_accuracy: 0.9677419066429138, std val_accuracy 0.0\n",
      "Fold 2/4 mean train_accuracy: 1.0, train_accuracy 0.0\n",
      "\n",
      "Executing fold 3/4\n"
     ]
    },
    {
     "name": "stderr",
     "output_type": "stream",
     "text": [
      "100%|█████████████████████████████████████████████| 1/1 [00:08<00:00,  8.15s/it]\n"
     ]
    },
    {
     "name": "stdout",
     "output_type": "stream",
     "text": [
      "Fold 3/4 mean val_loss: 0.0148395017024218, std val_loss 0.0\n",
      "Fold 3/4 mean train_loss: 0.0041621415875852, std train_loss 0.0\n",
      "Fold 3/4 mean val_accuracy: 1.0, std val_accuracy 0.0\n",
      "Fold 3/4 mean train_accuracy: 1.0, train_accuracy 0.0\n",
      "\n",
      "Executing fold 4/4\n"
     ]
    },
    {
     "name": "stderr",
     "output_type": "stream",
     "text": [
      "100%|█████████████████████████████████████████████| 1/1 [00:09<00:00,  9.96s/it]\n"
     ]
    },
    {
     "name": "stdout",
     "output_type": "stream",
     "text": [
      "Fold 4/4 mean val_loss: 0.0249924916445073, std val_loss 0.0\n",
      "Fold 4/4 mean train_loss: 0.0023629358038306, std train_loss 0.0\n",
      "Fold 4/4 mean val_accuracy: 0.9677419066429138, std val_accuracy 0.0\n",
      "Fold 4/4 mean train_accuracy: 1.0, train_accuracy 0.0\n",
      "\n",
      "Mean val_loss: 0.015835875287828427, std val_loss: 0.00820030910548871\n",
      "Mean train_loss: 0.002616611425764825, std train_loss: 0.0009339626569997626\n",
      "Mean val_accuracy: 0.9838709533214569, std val_accuracy: 0.01612904667854309\n",
      "Mean train_accuracy: 0.9838709533214569, std train_accuracy: 0.0\n",
      "\n",
      "\n",
      "\n",
      "Testing configuration 4/9:\n",
      "{'batch_size': None, 'learning_rate': 0.2, 'max_epochs': 500, 'momentum': 0.7, 'initialization': {'type': 'default', 'min': -0.5, 'max': 0.5}, 'early_stopping': {'monitor': 'val_loss', 'patience': 20, 'delta': 0.0}, 'task': 'classification', 'trials_train': 1, 'trials_test': 10, 'nesterov': False, 'learning_rate_decay': None, 'regularization': {'method': None}, 'activations_1': 'relu', 'units_1': 8}\n",
      "\n",
      "Executing fold 1/4\n"
     ]
    },
    {
     "name": "stderr",
     "output_type": "stream",
     "text": [
      "100%|█████████████████████████████████████████████| 1/1 [00:09<00:00,  9.52s/it]\n"
     ]
    },
    {
     "name": "stdout",
     "output_type": "stream",
     "text": [
      "Fold 1/4 mean val_loss: 0.0273756334117128, std val_loss 0.0\n",
      "Fold 1/4 mean train_loss: 0.0045661670155823, std train_loss 0.0\n",
      "Fold 1/4 mean val_accuracy: 0.9677419066429138, std val_accuracy 0.0\n",
      "Fold 1/4 mean train_accuracy: 1.0, train_accuracy 0.0\n",
      "\n",
      "Executing fold 2/4\n"
     ]
    },
    {
     "name": "stderr",
     "output_type": "stream",
     "text": [
      "100%|█████████████████████████████████████████████| 1/1 [00:12<00:00, 12.80s/it]\n"
     ]
    },
    {
     "name": "stdout",
     "output_type": "stream",
     "text": [
      "Fold 2/4 mean val_loss: 0.1029551347728991, std val_loss 0.0\n",
      "Fold 2/4 mean train_loss: 0.0063617723062634, std train_loss 0.0\n",
      "Fold 2/4 mean val_accuracy: 0.9032257795333862, std val_accuracy 0.0\n",
      "Fold 2/4 mean train_accuracy: 1.0, train_accuracy 0.0\n",
      "\n",
      "Executing fold 3/4\n"
     ]
    },
    {
     "name": "stderr",
     "output_type": "stream",
     "text": [
      "100%|█████████████████████████████████████████████| 1/1 [00:12<00:00, 12.69s/it]\n"
     ]
    },
    {
     "name": "stdout",
     "output_type": "stream",
     "text": [
      "Fold 3/4 mean val_loss: 0.0153703406006655, std val_loss 0.0\n",
      "Fold 3/4 mean train_loss: 0.003942095208913, std train_loss 0.0\n",
      "Fold 3/4 mean val_accuracy: 1.0, std val_accuracy 0.0\n",
      "Fold 3/4 mean train_accuracy: 1.0, train_accuracy 0.0\n",
      "\n",
      "Executing fold 4/4\n"
     ]
    },
    {
     "name": "stderr",
     "output_type": "stream",
     "text": [
      "100%|█████████████████████████████████████████████| 1/1 [00:01<00:00,  1.09s/it]\n"
     ]
    },
    {
     "name": "stdout",
     "output_type": "stream",
     "text": [
      "Fold 4/4 mean val_loss: 0.2345163672626177, std val_loss 0.0\n",
      "Fold 4/4 mean train_loss: 0.1210229396820068, std train_loss 0.0\n",
      "Fold 4/4 mean val_accuracy: 0.6774193644523621, std val_accuracy 0.0\n",
      "Fold 4/4 mean train_accuracy: 0.8602150678634644, train_accuracy 0.0\n",
      "\n",
      "Mean val_loss: 0.09505436901197378, std val_loss: 0.08723821796090267\n",
      "Mean train_loss: 0.033973243553191375, std train_loss: 0.050266014766201336\n",
      "Mean val_accuracy: 0.8870967626571655, std val_accuracy: 0.12597175948829129\n",
      "Mean train_accuracy: 0.8870967626571655, std train_accuracy: 0.060528651148261815\n",
      "\n",
      "\n",
      "\n",
      "Testing configuration 5/9:\n",
      "{'batch_size': None, 'learning_rate': 0.2, 'max_epochs': 500, 'momentum': 0.8, 'initialization': {'type': 'default', 'min': -0.5, 'max': 0.5}, 'early_stopping': {'monitor': 'val_loss', 'patience': 20, 'delta': 0.0}, 'task': 'classification', 'trials_train': 1, 'trials_test': 10, 'nesterov': False, 'learning_rate_decay': None, 'regularization': {'method': None}, 'activations_1': 'relu', 'units_1': 8}\n",
      "\n",
      "Executing fold 1/4\n"
     ]
    },
    {
     "name": "stderr",
     "output_type": "stream",
     "text": [
      "100%|█████████████████████████████████████████████| 1/1 [00:09<00:00,  9.78s/it]\n"
     ]
    },
    {
     "name": "stdout",
     "output_type": "stream",
     "text": [
      "Fold 1/4 mean val_loss: 0.0285824729045909, std val_loss 0.0\n",
      "Fold 1/4 mean train_loss: 0.0019428484374657, std train_loss 0.0\n",
      "Fold 1/4 mean val_accuracy: 0.9677419066429138, std val_accuracy 0.0\n",
      "Fold 1/4 mean train_accuracy: 1.0, train_accuracy 0.0\n",
      "\n",
      "Executing fold 2/4\n"
     ]
    },
    {
     "name": "stderr",
     "output_type": "stream",
     "text": [
      "100%|█████████████████████████████████████████████| 1/1 [00:12<00:00, 12.79s/it]\n"
     ]
    },
    {
     "name": "stdout",
     "output_type": "stream",
     "text": [
      "Fold 2/4 mean val_loss: 0.0524020320300052, std val_loss 0.0\n",
      "Fold 2/4 mean train_loss: 0.0034532556310296, std train_loss 0.0\n",
      "Fold 2/4 mean val_accuracy: 0.9354838728904724, std val_accuracy 0.0\n",
      "Fold 2/4 mean train_accuracy: 1.0, train_accuracy 0.0\n",
      "\n",
      "Executing fold 3/4\n"
     ]
    },
    {
     "name": "stderr",
     "output_type": "stream",
     "text": [
      "100%|█████████████████████████████████████████████| 1/1 [00:09<00:00,  9.73s/it]\n"
     ]
    },
    {
     "name": "stdout",
     "output_type": "stream",
     "text": [
      "Fold 3/4 mean val_loss: 0.002146144204956, std val_loss 0.0\n",
      "Fold 3/4 mean train_loss: 0.0015005549648776, std train_loss 0.0\n",
      "Fold 3/4 mean val_accuracy: 1.0, std val_accuracy 0.0\n",
      "Fold 3/4 mean train_accuracy: 1.0, train_accuracy 0.0\n",
      "\n",
      "Executing fold 4/4\n"
     ]
    },
    {
     "name": "stderr",
     "output_type": "stream",
     "text": [
      "100%|█████████████████████████████████████████████| 1/1 [00:09<00:00,  9.98s/it]\n"
     ]
    },
    {
     "name": "stdout",
     "output_type": "stream",
     "text": [
      "Fold 4/4 mean val_loss: 0.0688087318946937, std val_loss 0.0\n",
      "Fold 4/4 mean train_loss: 0.0023784830700606, std train_loss 0.0\n",
      "Fold 4/4 mean val_accuracy: 0.9354838728904724, std val_accuracy 0.0\n",
      "Fold 4/4 mean train_accuracy: 1.0, train_accuracy 0.0\n",
      "\n",
      "Mean val_loss: 0.03798484525856145, std val_loss: 0.025153450860926796\n",
      "Mean train_loss: 0.002318785525858375, std train_loss: 0.0007248131072323166\n",
      "Mean val_accuracy: 0.9596774131059647, std val_accuracy: 0.026746971072215853\n",
      "Mean train_accuracy: 0.9596774131059647, std train_accuracy: 0.0\n",
      "\n",
      "\n",
      "\n",
      "Testing configuration 6/9:\n",
      "{'batch_size': None, 'learning_rate': 0.2, 'max_epochs': 500, 'momentum': 0.9, 'initialization': {'type': 'default', 'min': -0.5, 'max': 0.5}, 'early_stopping': {'monitor': 'val_loss', 'patience': 20, 'delta': 0.0}, 'task': 'classification', 'trials_train': 1, 'trials_test': 10, 'nesterov': False, 'learning_rate_decay': None, 'regularization': {'method': None}, 'activations_1': 'relu', 'units_1': 8}\n",
      "\n",
      "Executing fold 1/4\n"
     ]
    },
    {
     "name": "stderr",
     "output_type": "stream",
     "text": [
      "100%|█████████████████████████████████████████████| 1/1 [00:08<00:00,  8.92s/it]\n"
     ]
    },
    {
     "name": "stdout",
     "output_type": "stream",
     "text": [
      "Fold 1/4 mean val_loss: 0.0028913779058996, std val_loss 0.0\n",
      "Fold 1/4 mean train_loss: 0.0009958524024114, std train_loss 0.0\n",
      "Fold 1/4 mean val_accuracy: 1.0, std val_accuracy 0.0\n",
      "Fold 1/4 mean train_accuracy: 1.0, train_accuracy 0.0\n",
      "\n",
      "Executing fold 2/4\n"
     ]
    },
    {
     "name": "stderr",
     "output_type": "stream",
     "text": [
      "100%|█████████████████████████████████████████████| 1/1 [00:01<00:00,  1.00s/it]\n"
     ]
    },
    {
     "name": "stdout",
     "output_type": "stream",
     "text": [
      "Fold 2/4 mean val_loss: 0.138454913079025, std val_loss 0.0\n",
      "Fold 2/4 mean train_loss: 0.1136643067002296, std train_loss 0.0\n",
      "Fold 2/4 mean val_accuracy: 0.8064516186714172, std val_accuracy 0.0\n",
      "Fold 2/4 mean train_accuracy: 0.8817204236984253, train_accuracy 0.0\n",
      "\n",
      "Executing fold 3/4\n"
     ]
    },
    {
     "name": "stderr",
     "output_type": "stream",
     "text": [
      "100%|█████████████████████████████████████████████| 1/1 [00:08<00:00,  8.04s/it]\n"
     ]
    },
    {
     "name": "stdout",
     "output_type": "stream",
     "text": [
      "Fold 3/4 mean val_loss: 0.04079426625315, std val_loss 0.0\n",
      "Fold 3/4 mean train_loss: 0.0011230105301365, std train_loss 0.0\n",
      "Fold 3/4 mean val_accuracy: 0.9354838728904724, std val_accuracy 0.0\n",
      "Fold 3/4 mean train_accuracy: 1.0, train_accuracy 0.0\n",
      "\n",
      "Executing fold 4/4\n"
     ]
    },
    {
     "name": "stderr",
     "output_type": "stream",
     "text": [
      "100%|█████████████████████████████████████████████| 1/1 [00:09<00:00,  9.73s/it]\n"
     ]
    },
    {
     "name": "stdout",
     "output_type": "stream",
     "text": [
      "Fold 4/4 mean val_loss: 0.0044097509679069, std val_loss 0.0\n",
      "Fold 4/4 mean train_loss: 0.0004555449704639, std train_loss 0.0\n",
      "Fold 4/4 mean val_accuracy: 1.0, std val_accuracy 0.0\n",
      "Fold 4/4 mean train_accuracy: 1.0, train_accuracy 0.0\n",
      "\n",
      "Mean val_loss: 0.04663757705149538, std val_loss: 0.05513956544920868\n",
      "Mean train_loss: 0.029059678650810352, std train_loss: 0.04884714761469883\n",
      "Mean val_accuracy: 0.9354838728904724, std val_accuracy: 0.07901579579944178\n",
      "Mean train_accuracy: 0.9354838728904724, std train_accuracy: 0.05121655891301178\n",
      "\n",
      "\n",
      "\n",
      "Testing configuration 7/9:\n",
      "{'batch_size': None, 'learning_rate': 0.3, 'max_epochs': 500, 'momentum': 0.7, 'initialization': {'type': 'default', 'min': -0.5, 'max': 0.5}, 'early_stopping': {'monitor': 'val_loss', 'patience': 20, 'delta': 0.0}, 'task': 'classification', 'trials_train': 1, 'trials_test': 10, 'nesterov': False, 'learning_rate_decay': None, 'regularization': {'method': None}, 'activations_1': 'relu', 'units_1': 8}\n",
      "\n",
      "Executing fold 1/4\n"
     ]
    },
    {
     "name": "stderr",
     "output_type": "stream",
     "text": [
      "100%|█████████████████████████████████████████████| 1/1 [00:01<00:00,  1.01s/it]\n"
     ]
    },
    {
     "name": "stdout",
     "output_type": "stream",
     "text": [
      "Fold 1/4 mean val_loss: 0.2237357985763842, std val_loss 0.0\n",
      "Fold 1/4 mean train_loss: 0.1025391966104507, std train_loss 0.0\n",
      "Fold 1/4 mean val_accuracy: 0.7096773982048035, std val_accuracy 0.0\n",
      "Fold 1/4 mean train_accuracy: 0.9139785170555116, train_accuracy 0.0\n",
      "\n",
      "Executing fold 2/4\n"
     ]
    },
    {
     "name": "stderr",
     "output_type": "stream",
     "text": [
      "100%|█████████████████████████████████████████████| 1/1 [00:11<00:00, 11.59s/it]\n"
     ]
    },
    {
     "name": "stdout",
     "output_type": "stream",
     "text": [
      "Fold 2/4 mean val_loss: 0.0052929229472697, std val_loss 0.0\n",
      "Fold 2/4 mean train_loss: 0.0024754663463681, std train_loss 0.0\n",
      "Fold 2/4 mean val_accuracy: 1.0, std val_accuracy 0.0\n",
      "Fold 2/4 mean train_accuracy: 1.0, train_accuracy 0.0\n",
      "\n",
      "Executing fold 3/4\n"
     ]
    },
    {
     "name": "stderr",
     "output_type": "stream",
     "text": [
      "100%|█████████████████████████████████████████████| 1/1 [00:12<00:00, 12.90s/it]\n"
     ]
    },
    {
     "name": "stdout",
     "output_type": "stream",
     "text": [
      "Fold 3/4 mean val_loss: 0.0132785948561124, std val_loss 0.0\n",
      "Fold 3/4 mean train_loss: 0.0026172921061515, std train_loss 0.0\n",
      "Fold 3/4 mean val_accuracy: 1.0, std val_accuracy 0.0\n",
      "Fold 3/4 mean train_accuracy: 1.0, train_accuracy 0.0\n",
      "\n",
      "Executing fold 4/4\n"
     ]
    },
    {
     "name": "stderr",
     "output_type": "stream",
     "text": [
      "100%|█████████████████████████████████████████████| 1/1 [00:01<00:00,  1.51s/it]\n"
     ]
    },
    {
     "name": "stdout",
     "output_type": "stream",
     "text": [
      "Fold 4/4 mean val_loss: 0.1635685259914515, std val_loss 0.0\n",
      "Fold 4/4 mean train_loss: 0.0977672860026359, std train_loss 0.0\n",
      "Fold 4/4 mean val_accuracy: 0.774193525314331, std val_accuracy 0.0\n",
      "Fold 4/4 mean train_accuracy: 0.9032257795333862, train_accuracy 0.0\n",
      "\n",
      "Mean val_loss: 0.10146896059280446, std val_loss: 0.09464790874495142\n",
      "Mean train_loss: 0.05134981026640155, std train_loss: 0.04883260987254583\n",
      "Mean val_accuracy: 0.8709677308797836, std val_accuracy: 0.13103288826269355\n",
      "Mean train_accuracy: 0.8709677308797836, std train_accuracy: 0.045856782427738454\n",
      "\n",
      "\n",
      "\n",
      "Testing configuration 8/9:\n",
      "{'batch_size': None, 'learning_rate': 0.3, 'max_epochs': 500, 'momentum': 0.8, 'initialization': {'type': 'default', 'min': -0.5, 'max': 0.5}, 'early_stopping': {'monitor': 'val_loss', 'patience': 20, 'delta': 0.0}, 'task': 'classification', 'trials_train': 1, 'trials_test': 10, 'nesterov': False, 'learning_rate_decay': None, 'regularization': {'method': None}, 'activations_1': 'relu', 'units_1': 8}\n",
      "\n",
      "Executing fold 1/4\n"
     ]
    },
    {
     "name": "stderr",
     "output_type": "stream",
     "text": [
      "100%|█████████████████████████████████████████████| 1/1 [00:10<00:00, 10.77s/it]\n"
     ]
    },
    {
     "name": "stdout",
     "output_type": "stream",
     "text": [
      "Fold 1/4 mean val_loss: 0.0266585184214018, std val_loss 0.0\n",
      "Fold 1/4 mean train_loss: 0.0012514976551756, std train_loss 0.0\n",
      "Fold 1/4 mean val_accuracy: 1.0, std val_accuracy 0.0\n",
      "Fold 1/4 mean train_accuracy: 1.0, train_accuracy 0.0\n",
      "\n",
      "Executing fold 2/4\n"
     ]
    },
    {
     "name": "stderr",
     "output_type": "stream",
     "text": [
      "100%|█████████████████████████████████████████████| 1/1 [00:01<00:00,  1.31s/it]\n"
     ]
    },
    {
     "name": "stdout",
     "output_type": "stream",
     "text": [
      "Fold 2/4 mean val_loss: 0.1383490389081351, std val_loss 0.0\n",
      "Fold 2/4 mean train_loss: 0.0720588639378547, std train_loss 0.0\n",
      "Fold 2/4 mean val_accuracy: 0.8709677457809448, std val_accuracy 0.0\n",
      "Fold 2/4 mean train_accuracy: 0.9354838728904724, train_accuracy 0.0\n",
      "\n",
      "Executing fold 3/4\n"
     ]
    },
    {
     "name": "stderr",
     "output_type": "stream",
     "text": [
      "100%|█████████████████████████████████████████████| 1/1 [00:08<00:00,  8.67s/it]\n"
     ]
    },
    {
     "name": "stdout",
     "output_type": "stream",
     "text": [
      "Fold 3/4 mean val_loss: 0.008405863539694, std val_loss 0.0\n",
      "Fold 3/4 mean train_loss: 0.0007958816713653, std train_loss 0.0\n",
      "Fold 3/4 mean val_accuracy: 1.0, std val_accuracy 0.0\n",
      "Fold 3/4 mean train_accuracy: 1.0, train_accuracy 0.0\n",
      "\n",
      "Executing fold 4/4\n"
     ]
    },
    {
     "name": "stderr",
     "output_type": "stream",
     "text": [
      "100%|█████████████████████████████████████████████| 1/1 [00:10<00:00, 10.22s/it]\n"
     ]
    },
    {
     "name": "stdout",
     "output_type": "stream",
     "text": [
      "Fold 4/4 mean val_loss: 0.002100298327849, std val_loss 0.0\n",
      "Fold 4/4 mean train_loss: 0.0008317941101267, std train_loss 0.0\n",
      "Fold 4/4 mean val_accuracy: 1.0, std val_accuracy 0.0\n",
      "Fold 4/4 mean train_accuracy: 1.0, train_accuracy 0.0\n",
      "\n",
      "Mean val_loss: 0.04387842979926997, std val_loss: 0.05528321752472663\n",
      "Mean train_loss: 0.018734509343630572, std train_loss: 0.030787351567182982\n",
      "Mean val_accuracy: 0.9677419364452362, std val_accuracy: 0.0558726050306368\n",
      "Mean train_accuracy: 0.9677419364452362, std train_accuracy: 0.0279363025153184\n",
      "\n",
      "\n",
      "\n",
      "Testing configuration 9/9:\n",
      "{'batch_size': None, 'learning_rate': 0.3, 'max_epochs': 500, 'momentum': 0.9, 'initialization': {'type': 'default', 'min': -0.5, 'max': 0.5}, 'early_stopping': {'monitor': 'val_loss', 'patience': 20, 'delta': 0.0}, 'task': 'classification', 'trials_train': 1, 'trials_test': 10, 'nesterov': False, 'learning_rate_decay': None, 'regularization': {'method': None}, 'activations_1': 'relu', 'units_1': 8}\n",
      "\n",
      "Executing fold 1/4\n"
     ]
    },
    {
     "name": "stderr",
     "output_type": "stream",
     "text": [
      "100%|█████████████████████████████████████████████| 1/1 [00:11<00:00, 11.38s/it]\n"
     ]
    },
    {
     "name": "stdout",
     "output_type": "stream",
     "text": [
      "Fold 1/4 mean val_loss: 0.0060113080017278, std val_loss 0.0\n",
      "Fold 1/4 mean train_loss: 0.0003822882135864, std train_loss 0.0\n",
      "Fold 1/4 mean val_accuracy: 1.0, std val_accuracy 0.0\n",
      "Fold 1/4 mean train_accuracy: 1.0, train_accuracy 0.0\n",
      "\n",
      "Executing fold 2/4\n"
     ]
    },
    {
     "name": "stderr",
     "output_type": "stream",
     "text": [
      "100%|█████████████████████████████████████████████| 1/1 [00:00<00:00,  2.61it/s]\n"
     ]
    },
    {
     "name": "stdout",
     "output_type": "stream",
     "text": [
      "Fold 2/4 mean val_loss: 0.2732885672088929, std val_loss 0.0\n",
      "Fold 2/4 mean train_loss: 0.1237165257334709, std train_loss 0.0\n",
      "Fold 2/4 mean val_accuracy: 0.6451612710952759, std val_accuracy 0.0\n",
      "Fold 2/4 mean train_accuracy: 0.8602150678634644, train_accuracy 0.0\n",
      "\n",
      "Executing fold 3/4\n"
     ]
    },
    {
     "name": "stderr",
     "output_type": "stream",
     "text": [
      "100%|█████████████████████████████████████████████| 1/1 [00:00<00:00,  1.11it/s]\n"
     ]
    },
    {
     "name": "stdout",
     "output_type": "stream",
     "text": [
      "Fold 3/4 mean val_loss: 0.1801761845180743, std val_loss 0.0\n",
      "Fold 3/4 mean train_loss: 0.0773262754082679, std train_loss 0.0\n",
      "Fold 3/4 mean val_accuracy: 0.7419354915618896, std val_accuracy 0.0\n",
      "Fold 3/4 mean train_accuracy: 0.9139785170555116, train_accuracy 0.0\n",
      "\n",
      "Executing fold 4/4\n"
     ]
    },
    {
     "name": "stderr",
     "output_type": "stream",
     "text": [
      "100%|█████████████████████████████████████████████| 1/1 [00:12<00:00, 12.04s/it]\n"
     ]
    },
    {
     "name": "stdout",
     "output_type": "stream",
     "text": [
      "Fold 4/4 mean val_loss: 0.0062260353282313, std val_loss 0.0\n",
      "Fold 4/4 mean train_loss: 0.0003773306962102, std train_loss 0.0\n",
      "Fold 4/4 mean val_accuracy: 1.0, std val_accuracy 0.0\n",
      "Fold 4/4 mean train_accuracy: 1.0, train_accuracy 0.0\n",
      "\n",
      "Mean val_loss: 0.11642552376423157, std val_loss: 0.1151144945687533\n",
      "Mean train_loss: 0.050450605012883856, std train_loss: 0.05268862767747972\n",
      "Mean val_accuracy: 0.8467741906642914, std val_accuracy: 0.15699937854955995\n",
      "Mean train_accuracy: 0.8467741906642914, std train_accuracy: 0.05956590574197805\n",
      "\n",
      "\n",
      "\n",
      "\n",
      "\n",
      "\n",
      "Best configuration (loss 0.015835875287828427):\n",
      "{'batch_size': None, 'learning_rate': 0.1, 'max_epochs': 500, 'momentum': 0.9, 'initialization': {'type': 'default', 'min': -0.5, 'max': 0.5}, 'early_stopping': {'monitor': 'val_loss', 'patience': 20, 'delta': 0.0}, 'task': 'classification', 'trials_train': 1, 'trials_test': 10, 'nesterov': False, 'learning_rate_decay': None, 'regularization': {'method': None}, 'activations_1': 'relu', 'units_1': 8}\n"
     ]
    },
    {
     "name": "stderr",
     "output_type": "stream",
     "text": [
      " 10%|████▍                                       | 1/10 [00:15<02:18, 15.39s/it]"
     ]
    },
    {
     "name": "stdout",
     "output_type": "stream",
     "text": [
      "Trial 1/10 val_mse: 0.0019678140888821\n",
      "Trial 1/10 train_mse: 0.0015016673132777\n",
      "Trial 1/10 val_accuracy: 1.0\n",
      "Trial 1/10 train_accuracy: 1.0\n"
     ]
    },
    {
     "name": "stderr",
     "output_type": "stream",
     "text": [
      "\r",
      " 20%|████████▊                                   | 2/10 [00:18<01:04,  8.07s/it]"
     ]
    },
    {
     "name": "stdout",
     "output_type": "stream",
     "text": [
      "Trial 2/10 val_mse: 0.0689767881829167\n",
      "Trial 2/10 train_mse: 0.0956077426671981\n",
      "Trial 2/10 val_accuracy: 0.9230769276618958\n",
      "Trial 2/10 train_accuracy: 0.8828828930854797\n"
     ]
    },
    {
     "name": "stderr",
     "output_type": "stream",
     "text": [
      "\r",
      " 30%|█████████████▏                              | 3/10 [00:21<00:39,  5.65s/it]"
     ]
    },
    {
     "name": "stdout",
     "output_type": "stream",
     "text": [
      "Trial 3/10 val_mse: 0.0773949704360932\n",
      "Trial 3/10 train_mse: 0.1042229011654853\n",
      "Trial 3/10 val_accuracy: 1.0\n",
      "Trial 3/10 train_accuracy: 0.8828828930854797\n"
     ]
    },
    {
     "name": "stderr",
     "output_type": "stream",
     "text": [
      "\r",
      " 40%|█████████████████▌                          | 4/10 [00:32<00:48,  8.09s/it]"
     ]
    },
    {
     "name": "stdout",
     "output_type": "stream",
     "text": [
      "Trial 4/10 val_mse: 0.0010916917811471\n",
      "Trial 4/10 train_mse: 0.0015620595077052\n",
      "Trial 4/10 val_accuracy: 1.0\n",
      "Trial 4/10 train_accuracy: 1.0\n"
     ]
    },
    {
     "name": "stderr",
     "output_type": "stream",
     "text": [
      "\r",
      " 50%|██████████████████████                      | 5/10 [00:43<00:44,  8.86s/it]"
     ]
    },
    {
     "name": "stdout",
     "output_type": "stream",
     "text": [
      "Trial 5/10 val_mse: 0.0060188593630256\n",
      "Trial 5/10 train_mse: 0.0029727816581726\n",
      "Trial 5/10 val_accuracy: 1.0\n",
      "Trial 5/10 train_accuracy: 1.0\n"
     ]
    },
    {
     "name": "stderr",
     "output_type": "stream",
     "text": [
      "\r",
      " 60%|██████████████████████████▍                 | 6/10 [00:54<00:39,  9.80s/it]"
     ]
    },
    {
     "name": "stdout",
     "output_type": "stream",
     "text": [
      "Trial 6/10 val_mse: 0.0016389829270923\n",
      "Trial 6/10 train_mse: 0.0011676383437588\n",
      "Trial 6/10 val_accuracy: 1.0\n",
      "Trial 6/10 train_accuracy: 1.0\n"
     ]
    },
    {
     "name": "stderr",
     "output_type": "stream",
     "text": [
      "\r",
      " 70%|██████████████████████████████▊             | 7/10 [01:05<00:30, 10.10s/it]"
     ]
    },
    {
     "name": "stdout",
     "output_type": "stream",
     "text": [
      "Trial 7/10 val_mse: 0.0028323259597242\n",
      "Trial 7/10 train_mse: 0.0018261093646287\n",
      "Trial 7/10 val_accuracy: 1.0\n",
      "Trial 7/10 train_accuracy: 1.0\n"
     ]
    },
    {
     "name": "stderr",
     "output_type": "stream",
     "text": [
      "\r",
      " 80%|███████████████████████████████████▏        | 8/10 [01:17<00:21, 10.63s/it]"
     ]
    },
    {
     "name": "stdout",
     "output_type": "stream",
     "text": [
      "Trial 8/10 val_mse: 0.0006490098201391\n",
      "Trial 8/10 train_mse: 0.0018549733795225\n",
      "Trial 8/10 val_accuracy: 1.0\n",
      "Trial 8/10 train_accuracy: 1.0\n"
     ]
    },
    {
     "name": "stderr",
     "output_type": "stream",
     "text": [
      "\r",
      " 90%|███████████████████████████████████████▌    | 9/10 [01:27<00:10, 10.59s/it]"
     ]
    },
    {
     "name": "stdout",
     "output_type": "stream",
     "text": [
      "Trial 9/10 val_mse: 0.001464771954791\n",
      "Trial 9/10 train_mse: 0.0024900373537093\n",
      "Trial 9/10 val_accuracy: 1.0\n",
      "Trial 9/10 train_accuracy: 1.0\n"
     ]
    },
    {
     "name": "stderr",
     "output_type": "stream",
     "text": [
      "100%|███████████████████████████████████████████| 10/10 [01:31<00:00,  9.11s/it]"
     ]
    },
    {
     "name": "stdout",
     "output_type": "stream",
     "text": [
      "Trial 10/10 val_mse: 0.0692203247710359\n",
      "Trial 10/10 train_mse: 0.0866957306861877\n",
      "Trial 10/10 val_accuracy: 1.0\n",
      "Trial 10/10 train_accuracy: 0.8918918967247009\n",
      "\n",
      "Median val_mse: 0.0028323259597242, std val_mse: 0.03200919482042425\n",
      "Median train_mse: 0.0018261093646287, std train_mse: 0.04307339733878422\n",
      "Median val_accuracy: 1.0, std val_accuracy: 0.023076921701431274\n",
      "Median train_accuracy: 1.0, std train_accuracy: 0.052345362019762795\n",
      "\n",
      "Median model train_loss: 0.0018261093646287\n",
      "Median model val_loss: 0.0028323259597242\n",
      "Median model test_loss: 0.002290882594721\n",
      "\n",
      "Median model accuracy: 1.0\n",
      "Median model val_accuracy: 1.0\n",
      "Median model test_accuracy: 1.0\n"
     ]
    },
    {
     "name": "stderr",
     "output_type": "stream",
     "text": [
      "\n"
     ]
    },
    {
     "data": {
      "image/png": "[encoded data removed]",
      "text/plain": [
       "<Figure size 640x480 with 1 Axes>"
      ]
     },
     "metadata": {},
     "output_type": "display_data"
    },
    {
     "data": {
      "image/png": "[encoded data removed]",
      "text/plain": [
       "<Figure size 640x480 with 1 Axes>"
      ]
     },
     "metadata": {},
     "output_type": "display_data"
    },
    {
     "data": {
      "image/png": "[encoded data removed]",
      "text/plain": [
       "<Figure size 640x480 with 1 Axes>"
      ]
     },
     "metadata": {},
     "output_type": "display_data"
    },
    {
     "data": {
      "image/png": "[encoded data removed]",
      "text/plain": [
       "<Figure size 640x480 with 1 Axes>"
      ]
     },
     "metadata": {},
     "output_type": "display_data"
    }
   ],
   "source": [
    "model = grid_search(params, x_train, y_train, x_test, y_test, k_fold_val)\n",
    "# test_model(model, x_test, y_test)"
   ]
  },
  {
   "cell_type": "markdown",
   "id": "8d0cdf2f",
   "metadata": {},
   "source": [
    "# Monk 2"
   ]
  },
  {
   "cell_type": "code",
   "execution_count": 99,
   "id": "46826a62",
   "metadata": {
    "scrolled": true
   },
   "outputs": [
    {
     "name": "stdout",
     "output_type": "stream",
     "text": [
      "Loaded ./../data/monks-2 dataset\n",
      "(169, 17) (169,)\n",
      "(432, 17) (432,)\n"
     ]
    }
   ],
   "source": [
    "x_train, y_train, x_test, y_test = load_dataset(\"monks2\", True)\n",
    "print(x_train.shape, y_train.shape)\n",
    "print(x_test.shape, y_test.shape)"
   ]
  },
  {
   "cell_type": "code",
   "execution_count": 100,
   "id": "235bb2bb",
   "metadata": {
    "scrolled": true
   },
   "outputs": [],
   "source": [
    "params = {\n",
    "    \"task\": \"classification\",\n",
    "    \"trials_train\": 1,\n",
    "    \"trials_test\": 10,\n",
    "    \"initialization\": {\n",
    "        \"type\": \"default\",\n",
    "        \"min\": -0.5,\n",
    "        \"max\": 0.5,\n",
    "    },\n",
    "    \"early_stopping\": {\n",
    "        \"monitor\": \"val_loss\",\n",
    "        \"patience\": 20,\n",
    "        \"delta\": 0.0\n",
    "    },\n",
    "    \"max_epochs\": [500],\n",
    "    \"learning_rate\": [0.1, 0.5, 0.8],# np.linspace(0.1, 0.4, 4).tolist(),\n",
    "    \"batch_size\": [None],\n",
    "    \"momentum\": [0.1, 0.5, 0.8],#np.linspace(0.5, 0.9, 4).tolist(),\n",
    "    \"nesterov\": False,\n",
    "    \"learning_rate_decay\": None,\n",
    "    \"regularization\": [\n",
    "        {\n",
    "            \"type\": None\n",
    "        }\n",
    "    ],\n",
    "    \"layers\": [\n",
    "        {\n",
    "            \"activations\": [\"relu\"],\n",
    "            \"units\": [8],\n",
    "        },\n",
    "    ]\n",
    "}\n",
    "\n",
    "params = {\n",
    "    \"task\": \"classification\",\n",
    "    \"trials_train\": 1,\n",
    "    \"trials_test\": 10,\n",
    "    \"initialization\": {\n",
    "        \"type\": \"default\",\n",
    "        \"min\": -0.5,\n",
    "        \"max\": 0.5,\n",
    "    },\n",
    "    \"early_stopping\": {\n",
    "        \"monitor\": \"val_loss\",\n",
    "        \"patience\": 20,\n",
    "        \"delta\": 0.0\n",
    "    },\n",
    "    \"max_epochs\": [500],\n",
    "    \"learning_rate\": [0.5, 0.6, 0.7],# np.linspace(0.1, 0.4, 4).tolist(),\n",
    "    \"batch_size\": [None],\n",
    "    \"momentum\": [0.5, 0.6, 0.7],#np.linspace(0.5, 0.9, 4).tolist(),\n",
    "    \"nesterov\": False,\n",
    "    \"learning_rate_decay\": None,\n",
    "    \"regularization\": [\n",
    "        {\n",
    "            \"type\": None\n",
    "        }\n",
    "    ],\n",
    "    \"layers\": [\n",
    "        {\n",
    "            \"activations\": [\"relu\"],\n",
    "            \"units\": [8],\n",
    "        },\n",
    "    ]\n",
    "}\n",
    "\n",
    "k_fold_val = {\n",
    "    \"type\": \"k-fold\",\n",
    "    \"n_folds\": 4\n",
    "}\n",
    "\n",
    "hold_out_val = {\n",
    "    \"type\": \"hold-out\",\n",
    "    \"val_split\": 0.15\n",
    "}"
   ]
  },
  {
   "cell_type": "code",
   "execution_count": 101,
   "id": "c5fcad74",
   "metadata": {
    "scrolled": false
   },
   "outputs": [
    {
     "name": "stdout",
     "output_type": "stream",
     "text": [
      "Testing configuration 1/9:\n",
      "{'batch_size': None, 'learning_rate': 0.5, 'max_epochs': 500, 'momentum': 0.5, 'initialization': {'type': 'default', 'min': -0.5, 'max': 0.5}, 'early_stopping': {'monitor': 'val_loss', 'patience': 20, 'delta': 0.0}, 'task': 'classification', 'trials_train': 1, 'trials_test': 10, 'nesterov': False, 'learning_rate_decay': None, 'regularization': {'method': None}, 'activations_1': 'relu', 'units_1': 8}\n",
      "\n",
      "Executing fold 1/4\n"
     ]
    },
    {
     "name": "stderr",
     "output_type": "stream",
     "text": [
      "100%|█████████████████████████████████████████████| 1/1 [00:00<00:00,  1.69it/s]\n"
     ]
    },
    {
     "name": "stdout",
     "output_type": "stream",
     "text": [
      "Fold 1/4 mean val_loss: 0.2452756509470402, std val_loss 0.0\n",
      "Fold 1/4 mean train_loss: 0.2235573679208755, std train_loss 0.0\n",
      "Fold 1/4 mean val_accuracy: 0.5581395626068115, std val_accuracy 0.0\n",
      "Fold 1/4 mean train_accuracy: 0.6349206566810608, train_accuracy 0.0\n",
      "\n",
      "Executing fold 2/4\n"
     ]
    },
    {
     "name": "stderr",
     "output_type": "stream",
     "text": [
      "100%|█████████████████████████████████████████████| 1/1 [00:11<00:00, 11.03s/it]\n"
     ]
    },
    {
     "name": "stdout",
     "output_type": "stream",
     "text": [
      "Fold 2/4 mean val_loss: 0.0026785491208826, std val_loss 0.0\n",
      "Fold 2/4 mean train_loss: 0.0016814041882753, std train_loss 0.0\n",
      "Fold 2/4 mean val_accuracy: 1.0, std val_accuracy 0.0\n",
      "Fold 2/4 mean train_accuracy: 1.0, train_accuracy 0.0\n",
      "\n",
      "Executing fold 3/4\n"
     ]
    },
    {
     "name": "stderr",
     "output_type": "stream",
     "text": [
      "100%|█████████████████████████████████████████████| 1/1 [00:11<00:00, 11.11s/it]\n"
     ]
    },
    {
     "name": "stdout",
     "output_type": "stream",
     "text": [
      "Fold 3/4 mean val_loss: 0.0031656063978604, std val_loss 0.0\n",
      "Fold 3/4 mean train_loss: 0.0013073293957859, std train_loss 0.0\n",
      "Fold 3/4 mean val_accuracy: 1.0, std val_accuracy 0.0\n",
      "Fold 3/4 mean train_accuracy: 1.0, train_accuracy 0.0\n",
      "\n",
      "Executing fold 4/4\n"
     ]
    },
    {
     "name": "stderr",
     "output_type": "stream",
     "text": [
      "100%|█████████████████████████████████████████████| 1/1 [00:11<00:00, 11.59s/it]\n"
     ]
    },
    {
     "name": "stdout",
     "output_type": "stream",
     "text": [
      "Fold 4/4 mean val_loss: 0.0014071682939391, std val_loss 0.0\n",
      "Fold 4/4 mean train_loss: 0.0012380168773233, std train_loss 0.0\n",
      "Fold 4/4 mean val_accuracy: 1.0, std val_accuracy 0.0\n",
      "Fold 4/4 mean train_accuracy: 1.0, train_accuracy 0.0\n",
      "\n",
      "Mean val_loss: 0.06313174368993059, std val_loss: 0.10516279346094388\n",
      "Mean train_loss: 0.056946029595565, std train_loss: 0.09619324888069823\n",
      "Mean val_accuracy: 0.8895348906517029, std val_accuracy: 0.19133118185490236\n",
      "Mean train_accuracy: 0.8895348906517029, std train_accuracy: 0.158083992855571\n",
      "\n",
      "\n",
      "\n",
      "Testing configuration 2/9:\n",
      "{'batch_size': None, 'learning_rate': 0.5, 'max_epochs': 500, 'momentum': 0.6, 'initialization': {'type': 'default', 'min': -0.5, 'max': 0.5}, 'early_stopping': {'monitor': 'val_loss', 'patience': 20, 'delta': 0.0}, 'task': 'classification', 'trials_train': 1, 'trials_test': 10, 'nesterov': False, 'learning_rate_decay': None, 'regularization': {'method': None}, 'activations_1': 'relu', 'units_1': 8}\n",
      "\n",
      "Executing fold 1/4\n"
     ]
    },
    {
     "name": "stderr",
     "output_type": "stream",
     "text": [
      "100%|█████████████████████████████████████████████| 1/1 [00:10<00:00, 10.34s/it]\n"
     ]
    },
    {
     "name": "stdout",
     "output_type": "stream",
     "text": [
      "Fold 1/4 mean val_loss: 0.0009409584523643, std val_loss 0.0\n",
      "Fold 1/4 mean train_loss: 0.0008345187525264, std train_loss 0.0\n",
      "Fold 1/4 mean val_accuracy: 1.0, std val_accuracy 0.0\n",
      "Fold 1/4 mean train_accuracy: 1.0, train_accuracy 0.0\n",
      "\n",
      "Executing fold 2/4\n"
     ]
    },
    {
     "name": "stderr",
     "output_type": "stream",
     "text": [
      "100%|█████████████████████████████████████████████| 1/1 [00:10<00:00, 10.26s/it]\n"
     ]
    },
    {
     "name": "stdout",
     "output_type": "stream",
     "text": [
      "Fold 2/4 mean val_loss: 0.0013091688767886, std val_loss 0.0\n",
      "Fold 2/4 mean train_loss: 0.0009530319366604, std train_loss 0.0\n",
      "Fold 2/4 mean val_accuracy: 1.0, std val_accuracy 0.0\n",
      "Fold 2/4 mean train_accuracy: 1.0, train_accuracy 0.0\n",
      "\n",
      "Executing fold 3/4\n"
     ]
    },
    {
     "name": "stderr",
     "output_type": "stream",
     "text": [
      "100%|█████████████████████████████████████████████| 1/1 [00:10<00:00, 10.17s/it]\n"
     ]
    },
    {
     "name": "stdout",
     "output_type": "stream",
     "text": [
      "Fold 3/4 mean val_loss: 0.0015367818871605, std val_loss 0.0\n",
      "Fold 3/4 mean train_loss: 0.0010270723141729, std train_loss 0.0\n",
      "Fold 3/4 mean val_accuracy: 1.0, std val_accuracy 0.0\n",
      "Fold 3/4 mean train_accuracy: 1.0, train_accuracy 0.0\n",
      "\n",
      "Executing fold 4/4\n"
     ]
    },
    {
     "name": "stderr",
     "output_type": "stream",
     "text": [
      "100%|█████████████████████████████████████████████| 1/1 [00:09<00:00,  9.61s/it]\n"
     ]
    },
    {
     "name": "stdout",
     "output_type": "stream",
     "text": [
      "Fold 4/4 mean val_loss: 0.0016130172807578, std val_loss 0.0\n",
      "Fold 4/4 mean train_loss: 0.0010242622811347, std train_loss 0.0\n",
      "Fold 4/4 mean val_accuracy: 1.0, std val_accuracy 0.0\n",
      "Fold 4/4 mean train_accuracy: 1.0, train_accuracy 0.0\n",
      "\n",
      "Mean val_loss: 0.0013499816242678, std val_loss: 0.0002612698462857455\n",
      "Mean train_loss: 0.0009597213211236, std train_loss: 7.813789546646732e-05\n",
      "Mean val_accuracy: 1.0, std val_accuracy: 0.0\n",
      "Mean train_accuracy: 1.0, std train_accuracy: 0.0\n",
      "\n",
      "\n",
      "\n",
      "Testing configuration 3/9:\n",
      "{'batch_size': None, 'learning_rate': 0.5, 'max_epochs': 500, 'momentum': 0.7, 'initialization': {'type': 'default', 'min': -0.5, 'max': 0.5}, 'early_stopping': {'monitor': 'val_loss', 'patience': 20, 'delta': 0.0}, 'task': 'classification', 'trials_train': 1, 'trials_test': 10, 'nesterov': False, 'learning_rate_decay': None, 'regularization': {'method': None}, 'activations_1': 'relu', 'units_1': 8}\n",
      "\n",
      "Executing fold 1/4\n"
     ]
    },
    {
     "name": "stderr",
     "output_type": "stream",
     "text": [
      "100%|█████████████████████████████████████████████| 1/1 [00:00<00:00,  2.00it/s]\n"
     ]
    },
    {
     "name": "stdout",
     "output_type": "stream",
     "text": [
      "Fold 1/4 mean val_loss: 0.2359302872343453, std val_loss 0.0\n",
      "Fold 1/4 mean train_loss: 0.2336685210466385, std train_loss 0.0\n",
      "Fold 1/4 mean val_accuracy: 0.6279069781303406, std val_accuracy 0.0\n",
      "Fold 1/4 mean train_accuracy: 0.6190476417541504, train_accuracy 0.0\n",
      "\n",
      "Executing fold 2/4\n"
     ]
    },
    {
     "name": "stderr",
     "output_type": "stream",
     "text": [
      "100%|█████████████████████████████████████████████| 1/1 [00:09<00:00,  9.67s/it]\n"
     ]
    },
    {
     "name": "stdout",
     "output_type": "stream",
     "text": [
      "Fold 2/4 mean val_loss: 0.001009130227168, std val_loss 0.0\n",
      "Fold 2/4 mean train_loss: 0.0007186521543189, std train_loss 0.0\n",
      "Fold 2/4 mean val_accuracy: 1.0, std val_accuracy 0.0\n",
      "Fold 2/4 mean train_accuracy: 1.0, train_accuracy 0.0\n",
      "\n",
      "Executing fold 3/4\n"
     ]
    },
    {
     "name": "stderr",
     "output_type": "stream",
     "text": [
      "100%|█████████████████████████████████████████████| 1/1 [00:09<00:00,  9.60s/it]\n"
     ]
    },
    {
     "name": "stdout",
     "output_type": "stream",
     "text": [
      "Fold 3/4 mean val_loss: 0.000988267745375, std val_loss 0.0\n",
      "Fold 3/4 mean train_loss: 0.0006240953807719, std train_loss 0.0\n",
      "Fold 3/4 mean val_accuracy: 1.0, std val_accuracy 0.0\n",
      "Fold 3/4 mean train_accuracy: 1.0, train_accuracy 0.0\n",
      "\n",
      "Executing fold 4/4\n"
     ]
    },
    {
     "name": "stderr",
     "output_type": "stream",
     "text": [
      "100%|█████████████████████████████████████████████| 1/1 [00:00<00:00,  2.72it/s]\n"
     ]
    },
    {
     "name": "stdout",
     "output_type": "stream",
     "text": [
      "Fold 4/4 mean val_loss: 0.2508561022662058, std val_loss 0.0\n",
      "Fold 4/4 mean train_loss: 0.2139953523874282, std train_loss 0.0\n",
      "Fold 4/4 mean val_accuracy: 0.6190476417541504, std val_accuracy 0.0\n",
      "Fold 4/4 mean train_accuracy: 0.6771653294563293, train_accuracy 0.0\n",
      "\n",
      "Mean val_loss: 0.12219594686827354, std val_loss: 0.12131207871795992\n",
      "Mean train_loss: 0.11225165524228937, std train_loss: 0.11179686725146969\n",
      "Mean val_accuracy: 0.8117386549711227, std val_accuracy: 0.18828740003571742\n",
      "Mean train_accuracy: 0.8117386549711227, std train_accuracy: 0.1771425120383439\n",
      "\n",
      "\n",
      "\n",
      "Testing configuration 4/9:\n",
      "{'batch_size': None, 'learning_rate': 0.6, 'max_epochs': 500, 'momentum': 0.5, 'initialization': {'type': 'default', 'min': -0.5, 'max': 0.5}, 'early_stopping': {'monitor': 'val_loss', 'patience': 20, 'delta': 0.0}, 'task': 'classification', 'trials_train': 1, 'trials_test': 10, 'nesterov': False, 'learning_rate_decay': None, 'regularization': {'method': None}, 'activations_1': 'relu', 'units_1': 8}\n",
      "\n",
      "Executing fold 1/4\n"
     ]
    },
    {
     "name": "stderr",
     "output_type": "stream",
     "text": [
      "100%|█████████████████████████████████████████████| 1/1 [00:08<00:00,  8.03s/it]\n"
     ]
    },
    {
     "name": "stdout",
     "output_type": "stream",
     "text": [
      "Fold 1/4 mean val_loss: 0.0012149565371124, std val_loss 0.0\n",
      "Fold 1/4 mean train_loss: 0.0008832671446725, std train_loss 0.0\n",
      "Fold 1/4 mean val_accuracy: 1.0, std val_accuracy 0.0\n",
      "Fold 1/4 mean train_accuracy: 1.0, train_accuracy 0.0\n",
      "\n",
      "Executing fold 2/4\n"
     ]
    },
    {
     "name": "stderr",
     "output_type": "stream",
     "text": [
      "100%|█████████████████████████████████████████████| 1/1 [00:07<00:00,  7.91s/it]\n"
     ]
    },
    {
     "name": "stdout",
     "output_type": "stream",
     "text": [
      "Fold 2/4 mean val_loss: 0.0011779606579817, std val_loss 0.0\n",
      "Fold 2/4 mean train_loss: 0.0011856070486828, std train_loss 0.0\n",
      "Fold 2/4 mean val_accuracy: 1.0, std val_accuracy 0.0\n",
      "Fold 2/4 mean train_accuracy: 1.0, train_accuracy 0.0\n",
      "\n",
      "Executing fold 3/4\n"
     ]
    },
    {
     "name": "stderr",
     "output_type": "stream",
     "text": [
      "100%|█████████████████████████████████████████████| 1/1 [00:00<00:00,  2.73it/s]\n"
     ]
    },
    {
     "name": "stdout",
     "output_type": "stream",
     "text": [
      "Fold 3/4 mean val_loss: 0.2490257267694276, std val_loss 0.0\n",
      "Fold 3/4 mean train_loss: 0.2084905207157135, std train_loss 0.0\n",
      "Fold 3/4 mean val_accuracy: 0.5714285969734192, std val_accuracy 0.0\n",
      "Fold 3/4 mean train_accuracy: 0.6062992215156555, train_accuracy 0.0\n",
      "\n",
      "Executing fold 4/4\n"
     ]
    },
    {
     "name": "stderr",
     "output_type": "stream",
     "text": [
      "100%|█████████████████████████████████████████████| 1/1 [00:07<00:00,  7.98s/it]\n"
     ]
    },
    {
     "name": "stdout",
     "output_type": "stream",
     "text": [
      "Fold 4/4 mean val_loss: 0.0018014237965287, std val_loss 0.0\n",
      "Fold 4/4 mean train_loss: 0.0012629008851945, std train_loss 0.0\n",
      "Fold 4/4 mean val_accuracy: 1.0, std val_accuracy 0.0\n",
      "Fold 4/4 mean train_accuracy: 1.0, train_accuracy 0.0\n",
      "\n",
      "Mean val_loss: 0.0633050169402626, std val_loss: 0.10722618704426568\n",
      "Mean train_loss: 0.05295557394856583, std train_loss: 0.0897982554437861\n",
      "Mean val_accuracy: 0.8928571492433548, std val_accuracy: 0.185576861178279\n",
      "Mean train_accuracy: 0.8928571492433548, std train_accuracy: 0.17047743782857613\n",
      "\n",
      "\n",
      "\n",
      "Testing configuration 5/9:\n",
      "{'batch_size': None, 'learning_rate': 0.6, 'max_epochs': 500, 'momentum': 0.6, 'initialization': {'type': 'default', 'min': -0.5, 'max': 0.5}, 'early_stopping': {'monitor': 'val_loss', 'patience': 20, 'delta': 0.0}, 'task': 'classification', 'trials_train': 1, 'trials_test': 10, 'nesterov': False, 'learning_rate_decay': None, 'regularization': {'method': None}, 'activations_1': 'relu', 'units_1': 8}\n",
      "\n",
      "Executing fold 1/4\n"
     ]
    },
    {
     "name": "stderr",
     "output_type": "stream",
     "text": [
      "100%|█████████████████████████████████████████████| 1/1 [00:00<00:00,  3.25it/s]\n"
     ]
    },
    {
     "name": "stdout",
     "output_type": "stream",
     "text": [
      "Fold 1/4 mean val_loss: 0.245489130011659, std val_loss 0.0\n",
      "Fold 1/4 mean train_loss: 0.1943358331918716, std train_loss 0.0\n",
      "Fold 1/4 mean val_accuracy: 0.4883720874786377, std val_accuracy 0.0\n",
      "Fold 1/4 mean train_accuracy: 0.6666666865348816, train_accuracy 0.0\n",
      "\n",
      "Executing fold 2/4\n"
     ]
    },
    {
     "name": "stderr",
     "output_type": "stream",
     "text": [
      "100%|█████████████████████████████████████████████| 1/1 [00:08<00:00,  8.14s/it]\n"
     ]
    },
    {
     "name": "stdout",
     "output_type": "stream",
     "text": [
      "Fold 2/4 mean val_loss: 0.048979743309701, std val_loss 0.0\n",
      "Fold 2/4 mean train_loss: 0.0026742119807749, std train_loss 0.0\n",
      "Fold 2/4 mean val_accuracy: 0.9523809552192688, std val_accuracy 0.0\n",
      "Fold 2/4 mean train_accuracy: 1.0, train_accuracy 0.0\n",
      "\n",
      "Executing fold 3/4\n"
     ]
    },
    {
     "name": "stderr",
     "output_type": "stream",
     "text": [
      "100%|█████████████████████████████████████████████| 1/1 [00:00<00:00,  2.45it/s]\n"
     ]
    },
    {
     "name": "stdout",
     "output_type": "stream",
     "text": [
      "Fold 3/4 mean val_loss: 0.2454551283784072, std val_loss 0.0\n",
      "Fold 3/4 mean train_loss: 0.2206602841615677, std train_loss 0.0\n",
      "Fold 3/4 mean val_accuracy: 0.6190476417541504, std val_accuracy 0.0\n",
      "Fold 3/4 mean train_accuracy: 0.6299212574958801, train_accuracy 0.0\n",
      "\n",
      "Executing fold 4/4\n"
     ]
    },
    {
     "name": "stderr",
     "output_type": "stream",
     "text": [
      "100%|█████████████████████████████████████████████| 1/1 [00:00<00:00,  2.93it/s]\n"
     ]
    },
    {
     "name": "stdout",
     "output_type": "stream",
     "text": [
      "Fold 4/4 mean val_loss: 0.239242036495893, std val_loss 0.0\n",
      "Fold 4/4 mean train_loss: 0.2318078726530075, std train_loss 0.0\n",
      "Fold 4/4 mean val_accuracy: 0.6190476417541504, std val_accuracy 0.0\n",
      "Fold 4/4 mean train_accuracy: 0.6220472455024719, train_accuracy 0.0\n",
      "\n",
      "Mean val_loss: 0.19479150954891505, std val_loss: 0.0842228762171355\n",
      "Mean train_loss: 0.1623695504968054, std train_loss: 0.09319862470569942\n",
      "Mean val_accuracy: 0.6697120815515518, std val_accuracy: 0.17169715818186196\n",
      "Mean train_accuracy: 0.6697120815515518, std train_accuracy: 0.1569874157555136\n",
      "\n",
      "\n",
      "\n",
      "Testing configuration 6/9:\n",
      "{'batch_size': None, 'learning_rate': 0.6, 'max_epochs': 500, 'momentum': 0.7, 'initialization': {'type': 'default', 'min': -0.5, 'max': 0.5}, 'early_stopping': {'monitor': 'val_loss', 'patience': 20, 'delta': 0.0}, 'task': 'classification', 'trials_train': 1, 'trials_test': 10, 'nesterov': False, 'learning_rate_decay': None, 'regularization': {'method': None}, 'activations_1': 'relu', 'units_1': 8}\n",
      "\n",
      "Executing fold 1/4\n"
     ]
    },
    {
     "name": "stderr",
     "output_type": "stream",
     "text": [
      "100%|█████████████████████████████████████████████| 1/1 [00:08<00:00,  8.64s/it]\n"
     ]
    },
    {
     "name": "stdout",
     "output_type": "stream",
     "text": [
      "Fold 1/4 mean val_loss: 0.000725206576983, std val_loss 0.0\n",
      "Fold 1/4 mean train_loss: 0.0004575584316626, std train_loss 0.0\n",
      "Fold 1/4 mean val_accuracy: 1.0, std val_accuracy 0.0\n",
      "Fold 1/4 mean train_accuracy: 1.0, train_accuracy 0.0\n",
      "\n",
      "Executing fold 2/4\n"
     ]
    },
    {
     "name": "stderr",
     "output_type": "stream",
     "text": [
      "100%|█████████████████████████████████████████████| 1/1 [00:01<00:00,  1.08s/it]\n"
     ]
    },
    {
     "name": "stdout",
     "output_type": "stream",
     "text": [
      "Fold 2/4 mean val_loss: 0.2441794592731145, std val_loss 0.0\n",
      "Fold 2/4 mean train_loss: 0.217819333076477, std train_loss 0.0\n",
      "Fold 2/4 mean val_accuracy: 0.6190476417541504, std val_accuracy 0.0\n",
      "Fold 2/4 mean train_accuracy: 0.6220472455024719, train_accuracy 0.0\n",
      "\n",
      "Executing fold 3/4\n"
     ]
    },
    {
     "name": "stderr",
     "output_type": "stream",
     "text": [
      "100%|█████████████████████████████████████████████| 1/1 [00:07<00:00,  7.81s/it]\n"
     ]
    },
    {
     "name": "stdout",
     "output_type": "stream",
     "text": [
      "Fold 3/4 mean val_loss: 0.0026024385925381, std val_loss 0.0\n",
      "Fold 3/4 mean train_loss: 0.0005398016073741, std train_loss 0.0\n",
      "Fold 3/4 mean val_accuracy: 1.0, std val_accuracy 0.0\n",
      "Fold 3/4 mean train_accuracy: 1.0, train_accuracy 0.0\n",
      "\n",
      "Executing fold 4/4\n"
     ]
    },
    {
     "name": "stderr",
     "output_type": "stream",
     "text": [
      "100%|█████████████████████████████████████████████| 1/1 [00:08<00:00,  8.02s/it]\n"
     ]
    },
    {
     "name": "stdout",
     "output_type": "stream",
     "text": [
      "Fold 4/4 mean val_loss: 0.0006256346727348, std val_loss 0.0\n",
      "Fold 4/4 mean train_loss: 0.000469939172035, std train_loss 0.0\n",
      "Fold 4/4 mean val_accuracy: 1.0, std val_accuracy 0.0\n",
      "Fold 4/4 mean train_accuracy: 1.0, train_accuracy 0.0\n",
      "\n",
      "Mean val_loss: 0.06203318477884259, std val_loss: 0.10516514905808556\n",
      "Mean train_loss: 0.05482165807188717, std train_loss: 0.09410675676485283\n",
      "Mean val_accuracy: 0.9047619104385376, std val_accuracy: 0.16495720993624802\n",
      "Mean train_accuracy: 0.9047619104385376, std train_accuracy: 0.1636583434125813\n",
      "\n",
      "\n",
      "\n",
      "Testing configuration 7/9:\n",
      "{'batch_size': None, 'learning_rate': 0.7, 'max_epochs': 500, 'momentum': 0.5, 'initialization': {'type': 'default', 'min': -0.5, 'max': 0.5}, 'early_stopping': {'monitor': 'val_loss', 'patience': 20, 'delta': 0.0}, 'task': 'classification', 'trials_train': 1, 'trials_test': 10, 'nesterov': False, 'learning_rate_decay': None, 'regularization': {'method': None}, 'activations_1': 'relu', 'units_1': 8}\n",
      "\n",
      "Executing fold 1/4\n"
     ]
    },
    {
     "name": "stderr",
     "output_type": "stream",
     "text": [
      "100%|█████████████████████████████████████████████| 1/1 [00:07<00:00,  7.84s/it]\n"
     ]
    },
    {
     "name": "stdout",
     "output_type": "stream",
     "text": [
      "Fold 1/4 mean val_loss: 0.0020010266705491, std val_loss 0.0\n",
      "Fold 1/4 mean train_loss: 0.0007927062688395, std train_loss 0.0\n",
      "Fold 1/4 mean val_accuracy: 1.0, std val_accuracy 0.0\n",
      "Fold 1/4 mean train_accuracy: 1.0, train_accuracy 0.0\n",
      "\n",
      "Executing fold 2/4\n"
     ]
    },
    {
     "name": "stderr",
     "output_type": "stream",
     "text": [
      "100%|█████████████████████████████████████████████| 1/1 [00:00<00:00,  2.82it/s]\n"
     ]
    },
    {
     "name": "stdout",
     "output_type": "stream",
     "text": [
      "Fold 2/4 mean val_loss: 0.2385270500409256, std val_loss 0.0\n",
      "Fold 2/4 mean train_loss: 0.2173072397708892, std train_loss 0.0\n",
      "Fold 2/4 mean val_accuracy: 0.6190476417541504, std val_accuracy 0.0\n",
      "Fold 2/4 mean train_accuracy: 0.6220472455024719, train_accuracy 0.0\n",
      "\n",
      "Executing fold 3/4\n"
     ]
    },
    {
     "name": "stderr",
     "output_type": "stream",
     "text": [
      "100%|█████████████████████████████████████████████| 1/1 [00:00<00:00,  2.14it/s]\n"
     ]
    },
    {
     "name": "stdout",
     "output_type": "stream",
     "text": [
      "Fold 3/4 mean val_loss: 0.2374952433505833, std val_loss 0.0\n",
      "Fold 3/4 mean train_loss: 0.2246798276901245, std train_loss 0.0\n",
      "Fold 3/4 mean val_accuracy: 0.6190476417541504, std val_accuracy 0.0\n",
      "Fold 3/4 mean train_accuracy: 0.6220472455024719, train_accuracy 0.0\n",
      "\n",
      "Executing fold 4/4\n"
     ]
    },
    {
     "name": "stderr",
     "output_type": "stream",
     "text": [
      "100%|█████████████████████████████████████████████| 1/1 [00:08<00:00,  8.15s/it]\n"
     ]
    },
    {
     "name": "stdout",
     "output_type": "stream",
     "text": [
      "Fold 4/4 mean val_loss: 0.0010780496544516, std val_loss 0.0\n",
      "Fold 4/4 mean train_loss: 0.0007739075808785, std train_loss 0.0\n",
      "Fold 4/4 mean val_accuracy: 1.0, std val_accuracy 0.0\n",
      "Fold 4/4 mean train_accuracy: 1.0, train_accuracy 0.0\n",
      "\n",
      "Mean val_loss: 0.1197753424291274, std val_loss: 0.11823681733930617\n",
      "Mean train_loss: 0.11088842032768292, std train_loss: 0.11013596335076435\n",
      "Mean val_accuracy: 0.8095238208770752, std val_accuracy: 0.1904761791229248\n",
      "Mean train_accuracy: 0.8095238208770752, std train_accuracy: 0.18897637724876404\n",
      "\n",
      "\n",
      "\n",
      "Testing configuration 8/9:\n",
      "{'batch_size': None, 'learning_rate': 0.7, 'max_epochs': 500, 'momentum': 0.6, 'initialization': {'type': 'default', 'min': -0.5, 'max': 0.5}, 'early_stopping': {'monitor': 'val_loss', 'patience': 20, 'delta': 0.0}, 'task': 'classification', 'trials_train': 1, 'trials_test': 10, 'nesterov': False, 'learning_rate_decay': None, 'regularization': {'method': None}, 'activations_1': 'relu', 'units_1': 8}\n",
      "\n",
      "Executing fold 1/4\n"
     ]
    },
    {
     "name": "stderr",
     "output_type": "stream",
     "text": [
      "100%|█████████████████████████████████████████████| 1/1 [00:09<00:00,  9.19s/it]\n"
     ]
    },
    {
     "name": "stdout",
     "output_type": "stream",
     "text": [
      "Fold 1/4 mean val_loss: 0.0008407685724898, std val_loss 0.0\n",
      "Fold 1/4 mean train_loss: 0.0005840797675773, std train_loss 0.0\n",
      "Fold 1/4 mean val_accuracy: 1.0, std val_accuracy 0.0\n",
      "Fold 1/4 mean train_accuracy: 1.0, train_accuracy 0.0\n",
      "\n",
      "Executing fold 2/4\n"
     ]
    },
    {
     "name": "stderr",
     "output_type": "stream",
     "text": [
      "100%|█████████████████████████████████████████████| 1/1 [00:00<00:00,  2.37it/s]\n"
     ]
    },
    {
     "name": "stdout",
     "output_type": "stream",
     "text": [
      "Fold 2/4 mean val_loss: 0.2365037413604141, std val_loss 0.0\n",
      "Fold 2/4 mean train_loss: 0.2179145812988281, std train_loss 0.0\n",
      "Fold 2/4 mean val_accuracy: 0.5952380895614624, std val_accuracy 0.0\n",
      "Fold 2/4 mean train_accuracy: 0.6614173054695129, train_accuracy 0.0\n",
      "\n",
      "Executing fold 3/4\n"
     ]
    },
    {
     "name": "stderr",
     "output_type": "stream",
     "text": [
      "100%|█████████████████████████████████████████████| 1/1 [00:07<00:00,  7.86s/it]\n"
     ]
    },
    {
     "name": "stdout",
     "output_type": "stream",
     "text": [
      "Fold 3/4 mean val_loss: 0.0018628710752276, std val_loss 0.0\n",
      "Fold 3/4 mean train_loss: 0.0006117055891081, std train_loss 0.0\n",
      "Fold 3/4 mean val_accuracy: 1.0, std val_accuracy 0.0\n",
      "Fold 3/4 mean train_accuracy: 1.0, train_accuracy 0.0\n",
      "\n",
      "Executing fold 4/4\n"
     ]
    },
    {
     "name": "stderr",
     "output_type": "stream",
     "text": [
      "100%|█████████████████████████████████████████████| 1/1 [00:00<00:00,  2.85it/s]\n"
     ]
    },
    {
     "name": "stdout",
     "output_type": "stream",
     "text": [
      "Fold 4/4 mean val_loss: 0.239503840583586, std val_loss 0.0\n",
      "Fold 4/4 mean train_loss: 0.2181412279605865, std train_loss 0.0\n",
      "Fold 4/4 mean val_accuracy: 0.5952380895614624, std val_accuracy 0.0\n",
      "Fold 4/4 mean train_accuracy: 0.6692913174629211, train_accuracy 0.0\n",
      "\n",
      "Mean val_loss: 0.11967780539792938, std val_loss: 0.11833129139489924\n",
      "Mean train_loss: 0.10931289865402499, std train_loss: 0.10871503594618158\n",
      "Mean val_accuracy: 0.7976190447807312, std val_accuracy: 0.2023809552192688\n",
      "Mean train_accuracy: 0.7976190447807312, std train_accuracy: 0.16734600151085613\n",
      "\n",
      "\n",
      "\n",
      "Testing configuration 9/9:\n",
      "{'batch_size': None, 'learning_rate': 0.7, 'max_epochs': 500, 'momentum': 0.7, 'initialization': {'type': 'default', 'min': -0.5, 'max': 0.5}, 'early_stopping': {'monitor': 'val_loss', 'patience': 20, 'delta': 0.0}, 'task': 'classification', 'trials_train': 1, 'trials_test': 10, 'nesterov': False, 'learning_rate_decay': None, 'regularization': {'method': None}, 'activations_1': 'relu', 'units_1': 8}\n",
      "\n",
      "Executing fold 1/4\n"
     ]
    },
    {
     "name": "stderr",
     "output_type": "stream",
     "text": [
      "100%|█████████████████████████████████████████████| 1/1 [00:08<00:00,  8.20s/it]\n"
     ]
    },
    {
     "name": "stdout",
     "output_type": "stream",
     "text": [
      "Fold 1/4 mean val_loss: 0.0004143415897796, std val_loss 0.0\n",
      "Fold 1/4 mean train_loss: 0.0003384893643669, std train_loss 0.0\n",
      "Fold 1/4 mean val_accuracy: 1.0, std val_accuracy 0.0\n",
      "Fold 1/4 mean train_accuracy: 1.0, train_accuracy 0.0\n",
      "\n",
      "Executing fold 2/4\n"
     ]
    },
    {
     "name": "stderr",
     "output_type": "stream",
     "text": [
      "100%|█████████████████████████████████████████████| 1/1 [00:09<00:00,  9.85s/it]\n"
     ]
    },
    {
     "name": "stdout",
     "output_type": "stream",
     "text": [
      "Fold 2/4 mean val_loss: 0.0004216702478459, std val_loss 0.0\n",
      "Fold 2/4 mean train_loss: 0.0003465162299107, std train_loss 0.0\n",
      "Fold 2/4 mean val_accuracy: 1.0, std val_accuracy 0.0\n",
      "Fold 2/4 mean train_accuracy: 1.0, train_accuracy 0.0\n",
      "\n",
      "Executing fold 3/4\n"
     ]
    },
    {
     "name": "stderr",
     "output_type": "stream",
     "text": [
      "100%|█████████████████████████████████████████████| 1/1 [00:08<00:00,  8.22s/it]\n"
     ]
    },
    {
     "name": "stdout",
     "output_type": "stream",
     "text": [
      "Fold 3/4 mean val_loss: 0.0019825324669439, std val_loss 0.0\n",
      "Fold 3/4 mean train_loss: 0.0009791533229872, std train_loss 0.0\n",
      "Fold 3/4 mean val_accuracy: 1.0, std val_accuracy 0.0\n",
      "Fold 3/4 mean train_accuracy: 1.0, train_accuracy 0.0\n",
      "\n",
      "Executing fold 4/4\n"
     ]
    },
    {
     "name": "stderr",
     "output_type": "stream",
     "text": [
      "100%|█████████████████████████████████████████████| 1/1 [00:07<00:00,  7.86s/it]\n"
     ]
    },
    {
     "name": "stdout",
     "output_type": "stream",
     "text": [
      "Fold 4/4 mean val_loss: 0.0005056945384578, std val_loss 0.0\n",
      "Fold 4/4 mean train_loss: 0.0003767925081774, std train_loss 0.0\n",
      "Fold 4/4 mean val_accuracy: 1.0, std val_accuracy 0.0\n",
      "Fold 4/4 mean train_accuracy: 1.0, train_accuracy 0.0\n",
      "\n",
      "Mean val_loss: 0.0008310597107568001, std val_loss: 0.0006657713061328789\n",
      "Mean train_loss: 0.00051023785636055, std train_loss: 0.00027110500330263556\n",
      "Mean val_accuracy: 1.0, std val_accuracy: 0.0\n",
      "Mean train_accuracy: 1.0, std train_accuracy: 0.0\n",
      "\n",
      "\n",
      "\n",
      "\n",
      "\n",
      "\n",
      "Best configuration (loss 0.0008310597107568001):\n",
      "{'batch_size': None, 'learning_rate': 0.7, 'max_epochs': 500, 'momentum': 0.7, 'initialization': {'type': 'default', 'min': -0.5, 'max': 0.5}, 'early_stopping': {'monitor': 'val_loss', 'patience': 20, 'delta': 0.0}, 'task': 'classification', 'trials_train': 1, 'trials_test': 10, 'nesterov': False, 'learning_rate_decay': None, 'regularization': {'method': None}, 'activations_1': 'relu', 'units_1': 8}\n"
     ]
    },
    {
     "name": "stderr",
     "output_type": "stream",
     "text": [
      " 10%|████▍                                       | 1/10 [00:10<01:31, 10.13s/it]"
     ]
    },
    {
     "name": "stdout",
     "output_type": "stream",
     "text": [
      "Trial 1/10 val_mse: 0.0003682882809139\n",
      "Trial 1/10 train_mse: 0.0003349363687448\n",
      "Trial 1/10 val_accuracy: 1.0\n",
      "Trial 1/10 train_accuracy: 1.0\n"
     ]
    },
    {
     "name": "stderr",
     "output_type": "stream",
     "text": [
      "\r",
      " 20%|████████▊                                   | 2/10 [00:19<01:18,  9.79s/it]"
     ]
    },
    {
     "name": "stdout",
     "output_type": "stream",
     "text": [
      "Trial 2/10 val_mse: 0.0003668373443289\n",
      "Trial 2/10 train_mse: 0.0003504838387016\n",
      "Trial 2/10 val_accuracy: 1.0\n",
      "Trial 2/10 train_accuracy: 1.0\n"
     ]
    },
    {
     "name": "stderr",
     "output_type": "stream",
     "text": [
      "\r",
      " 30%|█████████████▏                              | 3/10 [00:29<01:08,  9.82s/it]"
     ]
    },
    {
     "name": "stdout",
     "output_type": "stream",
     "text": [
      "Trial 3/10 val_mse: 0.0015471096045612\n",
      "Trial 3/10 train_mse: 0.0010006151860579\n",
      "Trial 3/10 val_accuracy: 1.0\n",
      "Trial 3/10 train_accuracy: 1.0\n"
     ]
    },
    {
     "name": "stderr",
     "output_type": "stream",
     "text": [
      "\r",
      " 40%|█████████████████▌                          | 4/10 [00:39<00:59,  9.88s/it]"
     ]
    },
    {
     "name": "stdout",
     "output_type": "stream",
     "text": [
      "Trial 4/10 val_mse: 0.0003996218951009\n",
      "Trial 4/10 train_mse: 0.0003471625386737\n",
      "Trial 4/10 val_accuracy: 1.0\n",
      "Trial 4/10 train_accuracy: 1.0\n"
     ]
    },
    {
     "name": "stderr",
     "output_type": "stream",
     "text": [
      "\r",
      " 50%|██████████████████████                      | 5/10 [00:50<00:50, 10.14s/it]"
     ]
    },
    {
     "name": "stdout",
     "output_type": "stream",
     "text": [
      "Trial 5/10 val_mse: 0.0004223579241626\n",
      "Trial 5/10 train_mse: 0.0003566810628399\n",
      "Trial 5/10 val_accuracy: 1.0\n",
      "Trial 5/10 train_accuracy: 1.0\n"
     ]
    },
    {
     "name": "stderr",
     "output_type": "stream",
     "text": [
      "\r",
      " 60%|██████████████████████████▍                 | 6/10 [01:00<00:41, 10.37s/it]"
     ]
    },
    {
     "name": "stdout",
     "output_type": "stream",
     "text": [
      "Trial 6/10 val_mse: 0.0014168412639539\n",
      "Trial 6/10 train_mse: 0.0005826361011713\n",
      "Trial 6/10 val_accuracy: 1.0\n",
      "Trial 6/10 train_accuracy: 1.0\n"
     ]
    },
    {
     "name": "stderr",
     "output_type": "stream",
     "text": [
      "\r",
      " 70%|██████████████████████████████▊             | 7/10 [01:01<00:21,  7.15s/it]"
     ]
    },
    {
     "name": "stdout",
     "output_type": "stream",
     "text": [
      "Trial 7/10 val_mse: 0.232653385610534\n",
      "Trial 7/10 train_mse: 0.2187579870223999\n",
      "Trial 7/10 val_accuracy: 0.529411792755127\n",
      "Trial 7/10 train_accuracy: 0.6052631735801697\n"
     ]
    },
    {
     "name": "stderr",
     "output_type": "stream",
     "text": [
      "\r",
      " 80%|███████████████████████████████████▏        | 8/10 [01:12<00:16,  8.36s/it]"
     ]
    },
    {
     "name": "stdout",
     "output_type": "stream",
     "text": [
      "Trial 8/10 val_mse: 0.0014830442614177\n",
      "Trial 8/10 train_mse: 0.00096029631095\n",
      "Trial 8/10 val_accuracy: 1.0\n",
      "Trial 8/10 train_accuracy: 1.0\n"
     ]
    },
    {
     "name": "stderr",
     "output_type": "stream",
     "text": [
      "\r",
      " 90%|███████████████████████████████████████▌    | 9/10 [01:22<00:08,  8.80s/it]"
     ]
    },
    {
     "name": "stdout",
     "output_type": "stream",
     "text": [
      "Trial 9/10 val_mse: 0.0003733611912853\n",
      "Trial 9/10 train_mse: 0.0003503503685351\n",
      "Trial 9/10 val_accuracy: 1.0\n",
      "Trial 9/10 train_accuracy: 1.0\n"
     ]
    },
    {
     "name": "stderr",
     "output_type": "stream",
     "text": [
      "100%|███████████████████████████████████████████| 10/10 [01:32<00:00,  9.27s/it]"
     ]
    },
    {
     "name": "stdout",
     "output_type": "stream",
     "text": [
      "Trial 10/10 val_mse: 0.0006041087990275\n",
      "Trial 10/10 train_mse: 0.0003957667504437\n",
      "Trial 10/10 val_accuracy: 1.0\n",
      "Trial 10/10 train_accuracy: 1.0\n",
      "\n",
      "Median val_mse: 0.0006041087990275, std val_mse: 0.06956494782381298\n",
      "Median train_mse: 0.0003957667504437, std train_mse: 0.06547188432364946\n",
      "Median val_accuracy: 1.0, std val_accuracy: 0.14117646217346191\n",
      "Median train_accuracy: 1.0, std train_accuracy: 0.1184210479259491\n",
      "\n",
      "Median model train_loss: 0.0003957667504437\n",
      "Median model val_loss: 0.0006041087990275\n",
      "Median model test_loss: 0.0007296626360649\n",
      "\n",
      "Median model accuracy: 1.0\n",
      "Median model val_accuracy: 1.0\n",
      "Median model test_accuracy: 1.0\n"
     ]
    },
    {
     "name": "stderr",
     "output_type": "stream",
     "text": [
      "\n"
     ]
    },
    {
     "data": {
      "image/png": "[encoded data removed]",
      "text/plain": [
       "<Figure size 640x480 with 1 Axes>"
      ]
     },
     "metadata": {},
     "output_type": "display_data"
    },
    {
     "data": {
      "image/png": "[encoded data removed]",
      "text/plain": [
       "<Figure size 640x480 with 1 Axes>"
      ]
     },
     "metadata": {},
     "output_type": "display_data"
    },
    {
     "data": {
      "image/png": "[encoded data removed]",
      "text/plain": [
       "<Figure size 640x480 with 1 Axes>"
      ]
     },
     "metadata": {},
     "output_type": "display_data"
    },
    {
     "data": {
      "image/png": "[encoded data removed]",
      "text/plain": [
       "<Figure size 640x480 with 1 Axes>"
      ]
     },
     "metadata": {},
     "output_type": "display_data"
    }
   ],
   "source": [
    "model = grid_search(params, x_train, y_train, x_test, y_test, k_fold_val)\n",
    "# test_model(model, x_test, y_test)"
   ]
  },
  {
   "cell_type": "markdown",
   "id": "8f02c069",
   "metadata": {},
   "source": [
    "# Monk 3"
   ]
  },
  {
   "cell_type": "code",
   "execution_count": 105,
   "id": "55619cba",
   "metadata": {
    "scrolled": true
   },
   "outputs": [
    {
     "name": "stdout",
     "output_type": "stream",
     "text": [
      "Loaded ./../data/monks-3 dataset\n",
      "(122, 17) (122,)\n",
      "(432, 17) (432,)\n"
     ]
    }
   ],
   "source": [
    "x_train, y_train, x_test, y_test = load_dataset(\"monks3\", True)\n",
    "print(x_train.shape, y_train.shape)\n",
    "print(x_test.shape, y_test.shape)"
   ]
  },
  {
   "cell_type": "code",
   "execution_count": 106,
   "id": "7c169d62",
   "metadata": {
    "scrolled": true
   },
   "outputs": [],
   "source": [
    "params = {\n",
    "    \"task\": \"classification\",\n",
    "    \"trials_train\": 1,\n",
    "    \"trials_test\": 10,\n",
    "    \"initialization\": {\n",
    "        \"type\": \"default\",\n",
    "    },\n",
    "    \"early_stopping\": {\n",
    "        \"monitor\": \"val_loss\",\n",
    "        \"patience\": 20,\n",
    "        \"delta\": 0.0\n",
    "    },\n",
    "    \"max_epochs\": [500],\n",
    "    \"learning_rate\": [0.1, 0.2, 0.3],\n",
    "    \"batch_size\": [None],\n",
    "    \"momentum\": [0.7, 0.8, 0.9],\n",
    "    \"nesterov\": False,\n",
    "    \"learning_rate_decay\": None,\n",
    "    \"regularization\": [\n",
    "        {\n",
    "            \"type\": \"l1\",\n",
    "            \"value\": [0.01, 0.001]\n",
    "        }\n",
    "    ],\n",
    "    \"layers\": [\n",
    "        {\n",
    "            \"activations\": [\"relu\"],\n",
    "            \"units\": [16],\n",
    "        },\n",
    "    ]\n",
    "}\n",
    "\n",
    "k_fold_val = {\n",
    "    \"type\": \"k-fold\",\n",
    "    \"n_folds\": 4\n",
    "}\n",
    "\n",
    "hold_out_val = {\n",
    "    \"type\": \"hold-out\",\n",
    "    \"val_split\": 0.2\n",
    "}\n"
   ]
  },
  {
   "cell_type": "code",
   "execution_count": 107,
   "id": "420cace0",
   "metadata": {
    "scrolled": true
   },
   "outputs": [
    {
     "name": "stdout",
     "output_type": "stream",
     "text": [
      "Testing configuration 1/18:\n",
      "{'batch_size': None, 'learning_rate': 0.1, 'max_epochs': 500, 'momentum': 0.7, 'initialization': {'type': 'default'}, 'early_stopping': {'monitor': 'val_loss', 'patience': 20, 'delta': 0.0}, 'task': 'classification', 'trials_train': 1, 'trials_test': 10, 'nesterov': False, 'learning_rate_decay': None, 'regularization': {'method': 'l1', 'value': 0.01}, 'activations_1': 'relu', 'units_1': 16}\n",
      "\n",
      "Executing fold 1/4\n"
     ]
    },
    {
     "name": "stderr",
     "output_type": "stream",
     "text": [
      "100%|█████████████████████████████████████████████| 1/1 [00:11<00:00, 11.36s/it]\n"
     ]
    },
    {
     "name": "stdout",
     "output_type": "stream",
     "text": [
      "Fold 1/4 mean val_loss: 0.0282241836991171, std val_loss 0.0\n",
      "Fold 1/4 mean train_loss: 0.0864863991737365, std train_loss 0.0\n",
      "Fold 1/4 mean val_accuracy: 1.0, std val_accuracy 0.0\n",
      "Fold 1/4 mean train_accuracy: 0.9560439586639404, train_accuracy 0.0\n",
      "\n",
      "Executing fold 2/4\n"
     ]
    },
    {
     "name": "stderr",
     "output_type": "stream",
     "text": [
      "100%|█████████████████████████████████████████████| 1/1 [00:04<00:00,  4.78s/it]\n"
     ]
    },
    {
     "name": "stdout",
     "output_type": "stream",
     "text": [
      "Fold 2/4 mean val_loss: 0.0912185267856358, std val_loss 0.0\n",
      "Fold 2/4 mean train_loss: 0.0869295001029968, std train_loss 0.0\n",
      "Fold 2/4 mean val_accuracy: 0.9032257795333862, std val_accuracy 0.0\n",
      "Fold 2/4 mean train_accuracy: 0.9450549483299256, train_accuracy 0.0\n",
      "\n",
      "Executing fold 3/4\n"
     ]
    },
    {
     "name": "stderr",
     "output_type": "stream",
     "text": [
      "100%|█████████████████████████████████████████████| 1/1 [00:05<00:00,  5.00s/it]\n"
     ]
    },
    {
     "name": "stdout",
     "output_type": "stream",
     "text": [
      "Fold 3/4 mean val_loss: 0.1144687153168862, std val_loss 0.0\n",
      "Fold 3/4 mean train_loss: 0.0806844756007194, std train_loss 0.0\n",
      "Fold 3/4 mean val_accuracy: 0.8999999761581421, std val_accuracy 0.0\n",
      "Fold 3/4 mean train_accuracy: 0.945652186870575, train_accuracy 0.0\n",
      "\n",
      "Executing fold 4/4\n"
     ]
    },
    {
     "name": "stderr",
     "output_type": "stream",
     "text": [
      "100%|█████████████████████████████████████████████| 1/1 [00:09<00:00,  9.25s/it]\n"
     ]
    },
    {
     "name": "stdout",
     "output_type": "stream",
     "text": [
      "Fold 4/4 mean val_loss: 0.0663258882585956, std val_loss 0.0\n",
      "Fold 4/4 mean train_loss: 0.0831958055496215, std train_loss 0.0\n",
      "Fold 4/4 mean val_accuracy: 0.9333333373069764, std val_accuracy 0.0\n",
      "Fold 4/4 mean train_accuracy: 0.945652186870575, train_accuracy 0.0\n",
      "\n",
      "Mean val_loss: 0.07505932851505867, std val_loss: 0.031953181474961574\n",
      "Mean train_loss: 0.08432404510676855, std train_loss: 0.0025487036673561055\n",
      "Mean val_accuracy: 0.9341397732496262, std val_accuracy: 0.040185260231444565\n",
      "Mean train_accuracy: 0.9341397732496262, std train_accuracy: 0.004592450175837038\n",
      "\n",
      "\n",
      "\n",
      "Testing configuration 2/18:\n",
      "{'batch_size': None, 'learning_rate': 0.1, 'max_epochs': 500, 'momentum': 0.7, 'initialization': {'type': 'default'}, 'early_stopping': {'monitor': 'val_loss', 'patience': 20, 'delta': 0.0}, 'task': 'classification', 'trials_train': 1, 'trials_test': 10, 'nesterov': False, 'learning_rate_decay': None, 'regularization': {'method': 'l1', 'value': 0.001}, 'activations_1': 'relu', 'units_1': 16}\n",
      "\n",
      "Executing fold 1/4\n"
     ]
    },
    {
     "name": "stderr",
     "output_type": "stream",
     "text": [
      "100%|█████████████████████████████████████████████| 1/1 [00:04<00:00,  4.51s/it]\n"
     ]
    },
    {
     "name": "stdout",
     "output_type": "stream",
     "text": [
      "Fold 1/4 mean val_loss: 0.0988627033617416, std val_loss 0.0\n",
      "Fold 1/4 mean train_loss: 0.0484461486339569, std train_loss 0.0\n",
      "Fold 1/4 mean val_accuracy: 0.9032257795333862, std val_accuracy 0.0\n",
      "Fold 1/4 mean train_accuracy: 0.9560439586639404, train_accuracy 0.0\n",
      "\n",
      "Executing fold 2/4\n"
     ]
    },
    {
     "name": "stderr",
     "output_type": "stream",
     "text": [
      "100%|█████████████████████████████████████████████| 1/1 [00:10<00:00, 10.20s/it]\n"
     ]
    },
    {
     "name": "stdout",
     "output_type": "stream",
     "text": [
      "Fold 2/4 mean val_loss: 0.0591985104190893, std val_loss 0.0\n",
      "Fold 2/4 mean train_loss: 0.0448599345982074, std train_loss 0.0\n",
      "Fold 2/4 mean val_accuracy: 0.9354838728904724, std val_accuracy 0.0\n",
      "Fold 2/4 mean train_accuracy: 0.9560439586639404, train_accuracy 0.0\n",
      "\n",
      "Executing fold 3/4\n"
     ]
    },
    {
     "name": "stderr",
     "output_type": "stream",
     "text": [
      "100%|█████████████████████████████████████████████| 1/1 [00:05<00:00,  5.30s/it]\n"
     ]
    },
    {
     "name": "stdout",
     "output_type": "stream",
     "text": [
      "Fold 3/4 mean val_loss: 0.0951858192388546, std val_loss 0.0\n",
      "Fold 3/4 mean train_loss: 0.0536450631916523, std train_loss 0.0\n",
      "Fold 3/4 mean val_accuracy: 0.8999999761581421, std val_accuracy 0.0\n",
      "Fold 3/4 mean train_accuracy: 0.945652186870575, train_accuracy 0.0\n",
      "\n",
      "Executing fold 4/4\n"
     ]
    },
    {
     "name": "stderr",
     "output_type": "stream",
     "text": [
      "100%|█████████████████████████████████████████████| 1/1 [00:03<00:00,  3.66s/it]\n"
     ]
    },
    {
     "name": "stdout",
     "output_type": "stream",
     "text": [
      "Fold 4/4 mean val_loss: 0.0406681746510526, std val_loss 0.0\n",
      "Fold 4/4 mean train_loss: 0.0740691274404525, std train_loss 0.0\n",
      "Fold 4/4 mean val_accuracy: 0.9666666388511658, std val_accuracy 0.0\n",
      "Fold 4/4 mean train_accuracy: 0.93478262424469, train_accuracy 0.0\n",
      "\n",
      "Mean val_loss: 0.07347880191768452, std val_loss: 0.024474481814830532\n",
      "Mean train_loss: 0.05525506846606727, std train_loss: 0.011302445857934058\n",
      "Mean val_accuracy: 0.9263440668582916, std val_accuracy: 0.027101255460222656\n",
      "Mean train_accuracy: 0.9263440668582916, std train_accuracy: 0.00879706597488336\n",
      "\n",
      "\n",
      "\n",
      "Testing configuration 3/18:\n",
      "{'batch_size': None, 'learning_rate': 0.1, 'max_epochs': 500, 'momentum': 0.8, 'initialization': {'type': 'default'}, 'early_stopping': {'monitor': 'val_loss', 'patience': 20, 'delta': 0.0}, 'task': 'classification', 'trials_train': 1, 'trials_test': 10, 'nesterov': False, 'learning_rate_decay': None, 'regularization': {'method': 'l1', 'value': 0.01}, 'activations_1': 'relu', 'units_1': 16}\n",
      "\n",
      "Executing fold 1/4\n"
     ]
    },
    {
     "name": "stderr",
     "output_type": "stream",
     "text": [
      "100%|█████████████████████████████████████████████| 1/1 [00:02<00:00,  2.83s/it]\n"
     ]
    },
    {
     "name": "stdout",
     "output_type": "stream",
     "text": [
      "Fold 1/4 mean val_loss: 0.1060192008557397, std val_loss 0.0\n",
      "Fold 1/4 mean train_loss: 0.0762021094560623, std train_loss 0.0\n",
      "Fold 1/4 mean val_accuracy: 0.9032257795333862, std val_accuracy 0.0\n",
      "Fold 1/4 mean train_accuracy: 0.9560439586639404, train_accuracy 0.0\n",
      "\n",
      "Executing fold 2/4\n"
     ]
    },
    {
     "name": "stderr",
     "output_type": "stream",
     "text": [
      "100%|█████████████████████████████████████████████| 1/1 [00:05<00:00,  5.65s/it]\n"
     ]
    },
    {
     "name": "stdout",
     "output_type": "stream",
     "text": [
      "Fold 2/4 mean val_loss: 0.087343487714179, std val_loss 0.0\n",
      "Fold 2/4 mean train_loss: 0.0740399584174156, std train_loss 0.0\n",
      "Fold 2/4 mean val_accuracy: 0.9032257795333862, std val_accuracy 0.0\n",
      "Fold 2/4 mean train_accuracy: 0.9560439586639404, train_accuracy 0.0\n",
      "\n",
      "Executing fold 3/4\n"
     ]
    },
    {
     "name": "stderr",
     "output_type": "stream",
     "text": [
      "100%|█████████████████████████████████████████████| 1/1 [00:06<00:00,  6.86s/it]\n"
     ]
    },
    {
     "name": "stdout",
     "output_type": "stream",
     "text": [
      "Fold 3/4 mean val_loss: 0.0176404600741088, std val_loss 0.0\n",
      "Fold 3/4 mean train_loss: 0.0866006761789321, std train_loss 0.0\n",
      "Fold 3/4 mean val_accuracy: 1.0, std val_accuracy 0.0\n",
      "Fold 3/4 mean train_accuracy: 0.945652186870575, train_accuracy 0.0\n",
      "\n",
      "Executing fold 4/4\n"
     ]
    },
    {
     "name": "stderr",
     "output_type": "stream",
     "text": [
      "100%|█████████████████████████████████████████████| 1/1 [00:09<00:00,  9.82s/it]\n"
     ]
    },
    {
     "name": "stdout",
     "output_type": "stream",
     "text": [
      "Fold 4/4 mean val_loss: 0.067517579877911, std val_loss 0.0\n",
      "Fold 4/4 mean train_loss: 0.0756000578403472, std train_loss 0.0\n",
      "Fold 4/4 mean val_accuracy: 0.8999999761581421, std val_accuracy 0.0\n",
      "Fold 4/4 mean train_accuracy: 0.967391312122345, train_accuracy 0.0\n",
      "\n",
      "Mean val_loss: 0.06963018213048462, std val_loss: 0.032959506088020694\n",
      "Mean train_loss: 0.0781107004731893, std train_loss: 0.004964792907797108\n",
      "Mean val_accuracy: 0.9266128838062286, std val_accuracy: 0.04239053246086114\n",
      "Mean train_accuracy: 0.9266128838062286, std train_accuracy: 0.007689653233984485\n",
      "\n",
      "\n",
      "\n",
      "Testing configuration 4/18:\n",
      "{'batch_size': None, 'learning_rate': 0.1, 'max_epochs': 500, 'momentum': 0.8, 'initialization': {'type': 'default'}, 'early_stopping': {'monitor': 'val_loss', 'patience': 20, 'delta': 0.0}, 'task': 'classification', 'trials_train': 1, 'trials_test': 10, 'nesterov': False, 'learning_rate_decay': None, 'regularization': {'method': 'l1', 'value': 0.001}, 'activations_1': 'relu', 'units_1': 16}\n",
      "\n",
      "Executing fold 1/4\n"
     ]
    },
    {
     "name": "stderr",
     "output_type": "stream",
     "text": [
      "100%|█████████████████████████████████████████████| 1/1 [00:07<00:00,  7.61s/it]\n"
     ]
    },
    {
     "name": "stdout",
     "output_type": "stream",
     "text": [
      "Fold 1/4 mean val_loss: 0.0331067290913519, std val_loss 0.0\n",
      "Fold 1/4 mean train_loss: 0.0588783472776412, std train_loss 0.0\n",
      "Fold 1/4 mean val_accuracy: 0.9677419066429138, std val_accuracy 0.0\n",
      "Fold 1/4 mean train_accuracy: 0.9340659379959106, train_accuracy 0.0\n",
      "\n",
      "Executing fold 2/4\n"
     ]
    },
    {
     "name": "stderr",
     "output_type": "stream",
     "text": [
      "100%|█████████████████████████████████████████████| 1/1 [00:11<00:00, 11.98s/it]\n"
     ]
    },
    {
     "name": "stdout",
     "output_type": "stream",
     "text": [
      "Fold 2/4 mean val_loss: 0.0736239894193838, std val_loss 0.0\n",
      "Fold 2/4 mean train_loss: 0.0401844643056392, std train_loss 0.0\n",
      "Fold 2/4 mean val_accuracy: 0.9032257795333862, std val_accuracy 0.0\n",
      "Fold 2/4 mean train_accuracy: 0.9670329689979552, train_accuracy 0.0\n",
      "\n",
      "Executing fold 3/4\n"
     ]
    },
    {
     "name": "stderr",
     "output_type": "stream",
     "text": [
      "100%|█████████████████████████████████████████████| 1/1 [00:01<00:00,  1.89s/it]\n"
     ]
    },
    {
     "name": "stdout",
     "output_type": "stream",
     "text": [
      "Fold 3/4 mean val_loss: 0.1104828031134113, std val_loss 0.0\n",
      "Fold 3/4 mean train_loss: 0.047262717038393, std train_loss 0.0\n",
      "Fold 3/4 mean val_accuracy: 0.8999999761581421, std val_accuracy 0.0\n",
      "Fold 3/4 mean train_accuracy: 0.967391312122345, train_accuracy 0.0\n",
      "\n",
      "Executing fold 4/4\n"
     ]
    },
    {
     "name": "stderr",
     "output_type": "stream",
     "text": [
      "100%|█████████████████████████████████████████████| 1/1 [00:03<00:00,  3.10s/it]\n"
     ]
    },
    {
     "name": "stdout",
     "output_type": "stream",
     "text": [
      "Fold 4/4 mean val_loss: 0.0528231676458566, std val_loss 0.0\n",
      "Fold 4/4 mean train_loss: 0.0585237778723239, std train_loss 0.0\n",
      "Fold 4/4 mean val_accuracy: 0.9666666388511658, std val_accuracy 0.0\n",
      "Fold 4/4 mean train_accuracy: 0.945652186870575, train_accuracy 0.0\n",
      "\n",
      "Mean val_loss: 0.0675091723175009, std val_loss: 0.028650177857723072\n",
      "Mean train_loss: 0.051212326623499324, std train_loss: 0.007896808773329125\n",
      "Mean val_accuracy: 0.934408575296402, std val_accuracy: 0.03281772420969704\n",
      "Mean train_accuracy: 0.934408575296402, std train_accuracy: 0.01427739182595094\n",
      "\n",
      "\n",
      "\n",
      "Testing configuration 5/18:\n",
      "{'batch_size': None, 'learning_rate': 0.1, 'max_epochs': 500, 'momentum': 0.9, 'initialization': {'type': 'default'}, 'early_stopping': {'monitor': 'val_loss', 'patience': 20, 'delta': 0.0}, 'task': 'classification', 'trials_train': 1, 'trials_test': 10, 'nesterov': False, 'learning_rate_decay': None, 'regularization': {'method': 'l1', 'value': 0.01}, 'activations_1': 'relu', 'units_1': 16}\n",
      "\n",
      "Executing fold 1/4\n"
     ]
    },
    {
     "name": "stderr",
     "output_type": "stream",
     "text": [
      "100%|█████████████████████████████████████████████| 1/1 [00:05<00:00,  5.54s/it]\n"
     ]
    },
    {
     "name": "stdout",
     "output_type": "stream",
     "text": [
      "Fold 1/4 mean val_loss: 0.0261131469707853, std val_loss 0.0\n",
      "Fold 1/4 mean train_loss: 0.0683844536542892, std train_loss 0.0\n",
      "Fold 1/4 mean val_accuracy: 0.9677419066429138, std val_accuracy 0.0\n",
      "Fold 1/4 mean train_accuracy: 0.9670329689979552, train_accuracy 0.0\n",
      "\n",
      "Executing fold 2/4\n"
     ]
    },
    {
     "name": "stderr",
     "output_type": "stream",
     "text": [
      "100%|█████████████████████████████████████████████| 1/1 [00:02<00:00,  2.22s/it]\n"
     ]
    },
    {
     "name": "stdout",
     "output_type": "stream",
     "text": [
      "Fold 2/4 mean val_loss: 0.078535854734073, std val_loss 0.0\n",
      "Fold 2/4 mean train_loss: 0.0803614407777786, std train_loss 0.0\n",
      "Fold 2/4 mean val_accuracy: 0.9354838728904724, std val_accuracy 0.0\n",
      "Fold 2/4 mean train_accuracy: 0.9560439586639404, train_accuracy 0.0\n",
      "\n",
      "Executing fold 3/4\n"
     ]
    },
    {
     "name": "stderr",
     "output_type": "stream",
     "text": [
      "100%|█████████████████████████████████████████████| 1/1 [00:02<00:00,  2.69s/it]\n"
     ]
    },
    {
     "name": "stdout",
     "output_type": "stream",
     "text": [
      "Fold 3/4 mean val_loss: 0.0903132135937438, std val_loss 0.0\n",
      "Fold 3/4 mean train_loss: 0.0776396989822387, std train_loss 0.0\n",
      "Fold 3/4 mean val_accuracy: 0.9333333373069764, std val_accuracy 0.0\n",
      "Fold 3/4 mean train_accuracy: 0.95652174949646, train_accuracy 0.0\n",
      "\n",
      "Executing fold 4/4\n"
     ]
    },
    {
     "name": "stderr",
     "output_type": "stream",
     "text": [
      "100%|█████████████████████████████████████████████| 1/1 [00:01<00:00,  1.55s/it]\n"
     ]
    },
    {
     "name": "stdout",
     "output_type": "stream",
     "text": [
      "Fold 4/4 mean val_loss: 0.1079772436079557, std val_loss 0.0\n",
      "Fold 4/4 mean train_loss: 0.0828887447714805, std train_loss 0.0\n",
      "Fold 4/4 mean val_accuracy: 0.8666666746139526, std val_accuracy 0.0\n",
      "Fold 4/4 mean train_accuracy: 0.95652174949646, train_accuracy 0.0\n",
      "\n",
      "Mean val_loss: 0.07573486472663944, std val_loss: 0.030505162143810778\n",
      "Mean train_loss: 0.07731858454644676, std train_loss: 0.005481958323815061\n",
      "Mean val_accuracy: 0.9258064478635788, std val_accuracy: 0.0367641200863518\n",
      "Mean train_accuracy: 0.9258064478635788, std train_accuracy: 0.004624570163117806\n",
      "\n",
      "\n",
      "\n",
      "Testing configuration 6/18:\n",
      "{'batch_size': None, 'learning_rate': 0.1, 'max_epochs': 500, 'momentum': 0.9, 'initialization': {'type': 'default'}, 'early_stopping': {'monitor': 'val_loss', 'patience': 20, 'delta': 0.0}, 'task': 'classification', 'trials_train': 1, 'trials_test': 10, 'nesterov': False, 'learning_rate_decay': None, 'regularization': {'method': 'l1', 'value': 0.001}, 'activations_1': 'relu', 'units_1': 16}\n",
      "\n",
      "Executing fold 1/4\n"
     ]
    },
    {
     "name": "stderr",
     "output_type": "stream",
     "text": [
      "100%|█████████████████████████████████████████████| 1/1 [00:01<00:00,  1.55s/it]\n"
     ]
    },
    {
     "name": "stdout",
     "output_type": "stream",
     "text": [
      "Fold 1/4 mean val_loss: 0.0891963755173281, std val_loss 0.0\n",
      "Fold 1/4 mean train_loss: 0.0552705340087413, std train_loss 0.0\n",
      "Fold 1/4 mean val_accuracy: 0.8709677457809448, std val_accuracy 0.0\n",
      "Fold 1/4 mean train_accuracy: 0.9450549483299256, train_accuracy 0.0\n",
      "\n",
      "Executing fold 2/4\n"
     ]
    },
    {
     "name": "stderr",
     "output_type": "stream",
     "text": [
      "100%|█████████████████████████████████████████████| 1/1 [00:02<00:00,  2.33s/it]\n"
     ]
    },
    {
     "name": "stdout",
     "output_type": "stream",
     "text": [
      "Fold 2/4 mean val_loss: 0.0785179293987231, std val_loss 0.0\n",
      "Fold 2/4 mean train_loss: 0.0476616397500038, std train_loss 0.0\n",
      "Fold 2/4 mean val_accuracy: 0.9032257795333862, std val_accuracy 0.0\n",
      "Fold 2/4 mean train_accuracy: 0.9560439586639404, train_accuracy 0.0\n",
      "\n",
      "Executing fold 3/4\n"
     ]
    },
    {
     "name": "stderr",
     "output_type": "stream",
     "text": [
      "100%|█████████████████████████████████████████████| 1/1 [00:01<00:00,  1.14s/it]\n"
     ]
    },
    {
     "name": "stdout",
     "output_type": "stream",
     "text": [
      "Fold 3/4 mean val_loss: 0.0588747435341035, std val_loss 0.0\n",
      "Fold 3/4 mean train_loss: 0.0623634494841098, std train_loss 0.0\n",
      "Fold 3/4 mean val_accuracy: 0.9333333373069764, std val_accuracy 0.0\n",
      "Fold 3/4 mean train_accuracy: 0.93478262424469, train_accuracy 0.0\n",
      "\n",
      "Executing fold 4/4\n"
     ]
    },
    {
     "name": "stderr",
     "output_type": "stream",
     "text": [
      "100%|█████████████████████████████████████████████| 1/1 [00:01<00:00,  1.81s/it]\n"
     ]
    },
    {
     "name": "stdout",
     "output_type": "stream",
     "text": [
      "Fold 4/4 mean val_loss: 0.0895652315287753, std val_loss 0.0\n",
      "Fold 4/4 mean train_loss: 0.0443225279450416, std train_loss 0.0\n",
      "Fold 4/4 mean val_accuracy: 0.8999999761581421, std val_accuracy 0.0\n",
      "Fold 4/4 mean train_accuracy: 0.945652186870575, train_accuracy 0.0\n",
      "\n",
      "Mean val_loss: 0.0790385699947325, std val_loss: 0.012458356435057409\n",
      "Mean train_loss: 0.05240453779697413, std train_loss: 0.006985839631152448\n",
      "Mean val_accuracy: 0.9018817096948624, std val_accuracy: 0.02208067870988197\n",
      "Mean train_accuracy: 0.9018817096948624, std train_accuracy: 0.007520041298416572\n",
      "\n",
      "\n",
      "\n",
      "Testing configuration 7/18:\n",
      "{'batch_size': None, 'learning_rate': 0.2, 'max_epochs': 500, 'momentum': 0.7, 'initialization': {'type': 'default'}, 'early_stopping': {'monitor': 'val_loss', 'patience': 20, 'delta': 0.0}, 'task': 'classification', 'trials_train': 1, 'trials_test': 10, 'nesterov': False, 'learning_rate_decay': None, 'regularization': {'method': 'l1', 'value': 0.01}, 'activations_1': 'relu', 'units_1': 16}\n",
      "\n",
      "Executing fold 1/4\n"
     ]
    },
    {
     "name": "stderr",
     "output_type": "stream",
     "text": [
      "100%|█████████████████████████████████████████████| 1/1 [00:07<00:00,  7.89s/it]\n"
     ]
    },
    {
     "name": "stdout",
     "output_type": "stream",
     "text": [
      "Fold 1/4 mean val_loss: 0.0959370960714013, std val_loss 0.0\n",
      "Fold 1/4 mean train_loss: 0.063010960817337, std train_loss 0.0\n",
      "Fold 1/4 mean val_accuracy: 0.9032257795333862, std val_accuracy 0.0\n",
      "Fold 1/4 mean train_accuracy: 0.9780219793319702, train_accuracy 0.0\n",
      "\n",
      "Executing fold 2/4\n"
     ]
    },
    {
     "name": "stderr",
     "output_type": "stream",
     "text": [
      "100%|█████████████████████████████████████████████| 1/1 [00:04<00:00,  4.33s/it]\n"
     ]
    },
    {
     "name": "stdout",
     "output_type": "stream",
     "text": [
      "Fold 2/4 mean val_loss: 0.0582465762385685, std val_loss 0.0\n",
      "Fold 2/4 mean train_loss: 0.0815080925822258, std train_loss 0.0\n",
      "Fold 2/4 mean val_accuracy: 0.9354838728904724, std val_accuracy 0.0\n",
      "Fold 2/4 mean train_accuracy: 0.9670329689979552, train_accuracy 0.0\n",
      "\n",
      "Executing fold 3/4\n"
     ]
    },
    {
     "name": "stderr",
     "output_type": "stream",
     "text": [
      "100%|█████████████████████████████████████████████| 1/1 [00:05<00:00,  5.01s/it]\n"
     ]
    },
    {
     "name": "stdout",
     "output_type": "stream",
     "text": [
      "Fold 3/4 mean val_loss: 0.0577786841484035, std val_loss 0.0\n",
      "Fold 3/4 mean train_loss: 0.0633652061223983, std train_loss 0.0\n",
      "Fold 3/4 mean val_accuracy: 0.9666666388511658, std val_accuracy 0.0\n",
      "Fold 3/4 mean train_accuracy: 0.989130437374115, train_accuracy 0.0\n",
      "\n",
      "Executing fold 4/4\n"
     ]
    },
    {
     "name": "stderr",
     "output_type": "stream",
     "text": [
      "100%|█████████████████████████████████████████████| 1/1 [00:03<00:00,  3.17s/it]\n"
     ]
    },
    {
     "name": "stdout",
     "output_type": "stream",
     "text": [
      "Fold 4/4 mean val_loss: 0.0448362182453412, std val_loss 0.0\n",
      "Fold 4/4 mean train_loss: 0.0916680693626403, std train_loss 0.0\n",
      "Fold 4/4 mean val_accuracy: 0.9666666388511658, std val_accuracy 0.0\n",
      "Fold 4/4 mean train_accuracy: 0.93478262424469, train_accuracy 0.0\n",
      "\n",
      "Mean val_loss: 0.06419964367592862, std val_loss: 0.019097616750059988\n",
      "Mean train_loss: 0.07488808222115034, std train_loss: 0.012239640436685907\n",
      "Mean val_accuracy: 0.9430107325315475, std val_accuracy: 0.02626166364078758\n",
      "Mean train_accuracy: 0.9430107325315475, std train_accuracy: 0.02030373372967675\n",
      "\n",
      "\n",
      "\n",
      "Testing configuration 8/18:\n",
      "{'batch_size': None, 'learning_rate': 0.2, 'max_epochs': 500, 'momentum': 0.7, 'initialization': {'type': 'default'}, 'early_stopping': {'monitor': 'val_loss', 'patience': 20, 'delta': 0.0}, 'task': 'classification', 'trials_train': 1, 'trials_test': 10, 'nesterov': False, 'learning_rate_decay': None, 'regularization': {'method': 'l1', 'value': 0.001}, 'activations_1': 'relu', 'units_1': 16}\n",
      "\n",
      "Executing fold 1/4\n"
     ]
    },
    {
     "name": "stderr",
     "output_type": "stream",
     "text": [
      "100%|█████████████████████████████████████████████| 1/1 [00:02<00:00,  2.32s/it]\n"
     ]
    },
    {
     "name": "stdout",
     "output_type": "stream",
     "text": [
      "Fold 1/4 mean val_loss: 0.0909106566497862, std val_loss 0.0\n",
      "Fold 1/4 mean train_loss: 0.0450439751148223, std train_loss 0.0\n",
      "Fold 1/4 mean val_accuracy: 0.9032257795333862, std val_accuracy 0.0\n",
      "Fold 1/4 mean train_accuracy: 0.9560439586639404, train_accuracy 0.0\n",
      "\n",
      "Executing fold 2/4\n"
     ]
    },
    {
     "name": "stderr",
     "output_type": "stream",
     "text": [
      "100%|█████████████████████████████████████████████| 1/1 [00:08<00:00,  8.02s/it]\n"
     ]
    },
    {
     "name": "stdout",
     "output_type": "stream",
     "text": [
      "Fold 2/4 mean val_loss: 0.0571326742245495, std val_loss 0.0\n",
      "Fold 2/4 mean train_loss: 0.0256719775497913, std train_loss 0.0\n",
      "Fold 2/4 mean val_accuracy: 0.9354838728904724, std val_accuracy 0.0\n",
      "Fold 2/4 mean train_accuracy: 0.9890109896659852, train_accuracy 0.0\n",
      "\n",
      "Executing fold 3/4\n"
     ]
    },
    {
     "name": "stderr",
     "output_type": "stream",
     "text": [
      "100%|█████████████████████████████████████████████| 1/1 [00:01<00:00,  1.79s/it]\n"
     ]
    },
    {
     "name": "stdout",
     "output_type": "stream",
     "text": [
      "Fold 3/4 mean val_loss: 0.0595516786458718, std val_loss 0.0\n",
      "Fold 3/4 mean train_loss: 0.0557430498301982, std train_loss 0.0\n",
      "Fold 3/4 mean val_accuracy: 0.9666666388511658, std val_accuracy 0.0\n",
      "Fold 3/4 mean train_accuracy: 0.945652186870575, train_accuracy 0.0\n",
      "\n",
      "Executing fold 4/4\n"
     ]
    },
    {
     "name": "stderr",
     "output_type": "stream",
     "text": [
      "100%|█████████████████████████████████████████████| 1/1 [00:03<00:00,  3.60s/it]\n"
     ]
    },
    {
     "name": "stdout",
     "output_type": "stream",
     "text": [
      "Fold 4/4 mean val_loss: 0.0592239984733758, std val_loss 0.0\n",
      "Fold 4/4 mean train_loss: 0.0481943786144256, std train_loss 0.0\n",
      "Fold 4/4 mean val_accuracy: 0.9333333373069764, std val_accuracy 0.0\n",
      "Fold 4/4 mean train_accuracy: 0.95652174949646, train_accuracy 0.0\n",
      "\n",
      "Mean val_loss: 0.06670475199839582, std val_loss: 0.014006057837498871\n",
      "Mean train_loss: 0.04366334527730935, std train_loss: 0.011091043420730884\n",
      "Mean val_accuracy: 0.9346774071455002, std val_accuracy: 0.022444223840993545\n",
      "Mean train_accuracy: 0.9346774071455002, std train_accuracy: 0.016295563499955316\n",
      "\n",
      "\n",
      "\n",
      "Testing configuration 9/18:\n",
      "{'batch_size': None, 'learning_rate': 0.2, 'max_epochs': 500, 'momentum': 0.8, 'initialization': {'type': 'default'}, 'early_stopping': {'monitor': 'val_loss', 'patience': 20, 'delta': 0.0}, 'task': 'classification', 'trials_train': 1, 'trials_test': 10, 'nesterov': False, 'learning_rate_decay': None, 'regularization': {'method': 'l1', 'value': 0.01}, 'activations_1': 'relu', 'units_1': 16}\n",
      "\n",
      "Executing fold 1/4\n"
     ]
    },
    {
     "name": "stderr",
     "output_type": "stream",
     "text": [
      "100%|█████████████████████████████████████████████| 1/1 [00:01<00:00,  1.23s/it]\n"
     ]
    },
    {
     "name": "stdout",
     "output_type": "stream",
     "text": [
      "Fold 1/4 mean val_loss: 0.1235485678392057, std val_loss 0.0\n",
      "Fold 1/4 mean train_loss: 0.0725640803575515, std train_loss 0.0\n",
      "Fold 1/4 mean val_accuracy: 0.8709677457809448, std val_accuracy 0.0\n",
      "Fold 1/4 mean train_accuracy: 0.9560439586639404, train_accuracy 0.0\n",
      "\n",
      "Executing fold 2/4\n"
     ]
    },
    {
     "name": "stderr",
     "output_type": "stream",
     "text": [
      "100%|█████████████████████████████████████████████| 1/1 [00:06<00:00,  6.08s/it]\n"
     ]
    },
    {
     "name": "stdout",
     "output_type": "stream",
     "text": [
      "Fold 2/4 mean val_loss: 0.0493022997316317, std val_loss 0.0\n",
      "Fold 2/4 mean train_loss: 0.0637199953198432, std train_loss 0.0\n",
      "Fold 2/4 mean val_accuracy: 0.9677419066429138, std val_accuracy 0.0\n",
      "Fold 2/4 mean train_accuracy: 0.9780219793319702, train_accuracy 0.0\n",
      "\n",
      "Executing fold 3/4\n"
     ]
    },
    {
     "name": "stderr",
     "output_type": "stream",
     "text": [
      "100%|█████████████████████████████████████████████| 1/1 [00:01<00:00,  1.25s/it]\n"
     ]
    },
    {
     "name": "stdout",
     "output_type": "stream",
     "text": [
      "Fold 3/4 mean val_loss: 0.0799173121528298, std val_loss 0.0\n",
      "Fold 3/4 mean train_loss: 0.0879958793520927, std train_loss 0.0\n",
      "Fold 3/4 mean val_accuracy: 0.9333333373069764, std val_accuracy 0.0\n",
      "Fold 3/4 mean train_accuracy: 0.95652174949646, train_accuracy 0.0\n",
      "\n",
      "Executing fold 4/4\n"
     ]
    },
    {
     "name": "stderr",
     "output_type": "stream",
     "text": [
      "100%|█████████████████████████████████████████████| 1/1 [00:02<00:00,  2.08s/it]\n"
     ]
    },
    {
     "name": "stdout",
     "output_type": "stream",
     "text": [
      "Fold 4/4 mean val_loss: 0.0285510846802918, std val_loss 0.0\n",
      "Fold 4/4 mean train_loss: 0.0862148329615593, std train_loss 0.0\n",
      "Fold 4/4 mean val_accuracy: 1.0, std val_accuracy 0.0\n",
      "Fold 4/4 mean train_accuracy: 0.945652186870575, train_accuracy 0.0\n",
      "\n",
      "Mean val_loss: 0.07032981610098973, std val_loss: 0.035748337237221074\n",
      "Mean train_loss: 0.07762369699776167, std train_loss: 0.010003779596162611\n",
      "Mean val_accuracy: 0.9430107474327087, std val_accuracy: 0.04781017542792724\n",
      "Mean train_accuracy: 0.9430107474327087, std train_accuracy: 0.01177778983994072\n",
      "\n",
      "\n",
      "\n",
      "Testing configuration 10/18:\n",
      "{'batch_size': None, 'learning_rate': 0.2, 'max_epochs': 500, 'momentum': 0.8, 'initialization': {'type': 'default'}, 'early_stopping': {'monitor': 'val_loss', 'patience': 20, 'delta': 0.0}, 'task': 'classification', 'trials_train': 1, 'trials_test': 10, 'nesterov': False, 'learning_rate_decay': None, 'regularization': {'method': 'l1', 'value': 0.001}, 'activations_1': 'relu', 'units_1': 16}\n",
      "\n",
      "Executing fold 1/4\n"
     ]
    },
    {
     "name": "stderr",
     "output_type": "stream",
     "text": [
      "100%|█████████████████████████████████████████████| 1/1 [00:01<00:00,  1.30s/it]\n"
     ]
    },
    {
     "name": "stdout",
     "output_type": "stream",
     "text": [
      "Fold 1/4 mean val_loss: 0.062055327385688, std val_loss 0.0\n",
      "Fold 1/4 mean train_loss: 0.0561836063861846, std train_loss 0.0\n",
      "Fold 1/4 mean val_accuracy: 0.9032257795333862, std val_accuracy 0.0\n",
      "Fold 1/4 mean train_accuracy: 0.9340659379959106, train_accuracy 0.0\n",
      "\n",
      "Executing fold 2/4\n"
     ]
    },
    {
     "name": "stderr",
     "output_type": "stream",
     "text": [
      "100%|█████████████████████████████████████████████| 1/1 [00:01<00:00,  1.21s/it]\n"
     ]
    },
    {
     "name": "stdout",
     "output_type": "stream",
     "text": [
      "Fold 2/4 mean val_loss: 0.0954679315916018, std val_loss 0.0\n",
      "Fold 2/4 mean train_loss: 0.0437012240290641, std train_loss 0.0\n",
      "Fold 2/4 mean val_accuracy: 0.9032257795333862, std val_accuracy 0.0\n",
      "Fold 2/4 mean train_accuracy: 0.9450549483299256, train_accuracy 0.0\n",
      "\n",
      "Executing fold 3/4\n"
     ]
    },
    {
     "name": "stderr",
     "output_type": "stream",
     "text": [
      "100%|█████████████████████████████████████████████| 1/1 [00:01<00:00,  1.04s/it]\n"
     ]
    },
    {
     "name": "stdout",
     "output_type": "stream",
     "text": [
      "Fold 3/4 mean val_loss: 0.0977066711394098, std val_loss 0.0\n",
      "Fold 3/4 mean train_loss: 0.048224076628685, std train_loss 0.0\n",
      "Fold 3/4 mean val_accuracy: 0.8999999761581421, std val_accuracy 0.0\n",
      "Fold 3/4 mean train_accuracy: 0.945652186870575, train_accuracy 0.0\n",
      "\n",
      "Executing fold 4/4\n"
     ]
    },
    {
     "name": "stderr",
     "output_type": "stream",
     "text": [
      "100%|█████████████████████████████████████████████| 1/1 [00:00<00:00,  1.09it/s]\n"
     ]
    },
    {
     "name": "stdout",
     "output_type": "stream",
     "text": [
      "Fold 4/4 mean val_loss: 0.0645737640940268, std val_loss 0.0\n",
      "Fold 4/4 mean train_loss: 0.058768231421709, std train_loss 0.0\n",
      "Fold 4/4 mean val_accuracy: 0.9333333373069764, std val_accuracy 0.0\n",
      "Fold 4/4 mean train_accuracy: 0.945652186870575, train_accuracy 0.0\n",
      "\n",
      "Mean val_loss: 0.0799509235526816, std val_loss: 0.016678980079972896\n",
      "Mean train_loss: 0.05171928461641068, std train_loss: 0.006044079631917185\n",
      "Mean val_accuracy: 0.9099462181329727, std val_accuracy: 0.013566628750564367\n",
      "Mean train_accuracy: 0.9099462181329727, std train_accuracy: 0.004936813634833721\n",
      "\n",
      "\n",
      "\n",
      "Testing configuration 11/18:\n",
      "{'batch_size': None, 'learning_rate': 0.2, 'max_epochs': 500, 'momentum': 0.9, 'initialization': {'type': 'default'}, 'early_stopping': {'monitor': 'val_loss', 'patience': 20, 'delta': 0.0}, 'task': 'classification', 'trials_train': 1, 'trials_test': 10, 'nesterov': False, 'learning_rate_decay': None, 'regularization': {'method': 'l1', 'value': 0.01}, 'activations_1': 'relu', 'units_1': 16}\n",
      "\n",
      "Executing fold 1/4\n"
     ]
    },
    {
     "name": "stderr",
     "output_type": "stream",
     "text": [
      "100%|█████████████████████████████████████████████| 1/1 [00:00<00:00,  1.07it/s]\n"
     ]
    },
    {
     "name": "stdout",
     "output_type": "stream",
     "text": [
      "Fold 1/4 mean val_loss: 0.0361339270832691, std val_loss 0.0\n",
      "Fold 1/4 mean train_loss: 0.0945860892534256, std train_loss 0.0\n",
      "Fold 1/4 mean val_accuracy: 0.9677419066429138, std val_accuracy 0.0\n",
      "Fold 1/4 mean train_accuracy: 0.9340659379959106, train_accuracy 0.0\n",
      "\n",
      "Executing fold 2/4\n"
     ]
    },
    {
     "name": "stderr",
     "output_type": "stream",
     "text": [
      "100%|█████████████████████████████████████████████| 1/1 [00:01<00:00,  1.02s/it]\n"
     ]
    },
    {
     "name": "stdout",
     "output_type": "stream",
     "text": [
      "Fold 2/4 mean val_loss: 0.090672562355996, std val_loss 0.0\n",
      "Fold 2/4 mean train_loss: 0.0820485800504684, std train_loss 0.0\n",
      "Fold 2/4 mean val_accuracy: 0.9032257795333862, std val_accuracy 0.0\n",
      "Fold 2/4 mean train_accuracy: 0.9670329689979552, train_accuracy 0.0\n",
      "\n",
      "Executing fold 3/4\n"
     ]
    },
    {
     "name": "stderr",
     "output_type": "stream",
     "text": [
      "100%|█████████████████████████████████████████████| 1/1 [00:01<00:00,  1.13s/it]\n"
     ]
    },
    {
     "name": "stdout",
     "output_type": "stream",
     "text": [
      "Fold 3/4 mean val_loss: 0.1466144940308273, std val_loss 0.0\n",
      "Fold 3/4 mean train_loss: 0.0653729289770126, std train_loss 0.0\n",
      "Fold 3/4 mean val_accuracy: 0.8333333134651184, std val_accuracy 0.0\n",
      "Fold 3/4 mean train_accuracy: 0.967391312122345, train_accuracy 0.0\n",
      "\n",
      "Executing fold 4/4\n"
     ]
    },
    {
     "name": "stderr",
     "output_type": "stream",
     "text": [
      "100%|█████████████████████████████████████████████| 1/1 [00:00<00:00,  1.25it/s]\n"
     ]
    },
    {
     "name": "stdout",
     "output_type": "stream",
     "text": [
      "Fold 4/4 mean val_loss: 0.0615534941021987, std val_loss 0.0\n",
      "Fold 4/4 mean train_loss: 0.0918119475245475, std train_loss 0.0\n",
      "Fold 4/4 mean val_accuracy: 0.9333333373069764, std val_accuracy 0.0\n",
      "Fold 4/4 mean train_accuracy: 0.95652174949646, train_accuracy 0.0\n",
      "\n",
      "Mean val_loss: 0.08374361939307276, std val_loss: 0.04110912791144613\n",
      "Mean train_loss: 0.08345488645136352, std train_loss: 0.011431087321412113\n",
      "Mean val_accuracy: 0.9094085842370987, std val_accuracy: 0.04949960658780472\n",
      "Mean train_accuracy: 0.9094085842370987, std train_accuracy: 0.01353336317399115\n",
      "\n",
      "\n",
      "\n",
      "Testing configuration 12/18:\n",
      "{'batch_size': None, 'learning_rate': 0.2, 'max_epochs': 500, 'momentum': 0.9, 'initialization': {'type': 'default'}, 'early_stopping': {'monitor': 'val_loss', 'patience': 20, 'delta': 0.0}, 'task': 'classification', 'trials_train': 1, 'trials_test': 10, 'nesterov': False, 'learning_rate_decay': None, 'regularization': {'method': 'l1', 'value': 0.001}, 'activations_1': 'relu', 'units_1': 16}\n",
      "\n",
      "Executing fold 1/4\n"
     ]
    },
    {
     "name": "stderr",
     "output_type": "stream",
     "text": [
      "100%|█████████████████████████████████████████████| 1/1 [00:00<00:00,  1.28it/s]\n"
     ]
    },
    {
     "name": "stdout",
     "output_type": "stream",
     "text": [
      "Fold 1/4 mean val_loss: 0.1239663785103311, std val_loss 0.0\n",
      "Fold 1/4 mean train_loss: 0.0349561907351017, std train_loss 0.0\n",
      "Fold 1/4 mean val_accuracy: 0.8387096524238586, std val_accuracy 0.0\n",
      "Fold 1/4 mean train_accuracy: 0.9780219793319702, train_accuracy 0.0\n",
      "\n",
      "Executing fold 2/4\n"
     ]
    },
    {
     "name": "stderr",
     "output_type": "stream",
     "text": [
      "100%|█████████████████████████████████████████████| 1/1 [00:01<00:00,  1.38s/it]\n"
     ]
    },
    {
     "name": "stdout",
     "output_type": "stream",
     "text": [
      "Fold 2/4 mean val_loss: 0.0826608570658367, std val_loss 0.0\n",
      "Fold 2/4 mean train_loss: 0.036212682723999, std train_loss 0.0\n",
      "Fold 2/4 mean val_accuracy: 0.9032257795333862, std val_accuracy 0.0\n",
      "Fold 2/4 mean train_accuracy: 0.9670329689979552, train_accuracy 0.0\n",
      "\n",
      "Executing fold 3/4\n"
     ]
    },
    {
     "name": "stderr",
     "output_type": "stream",
     "text": [
      "100%|█████████████████████████████████████████████| 1/1 [00:01<00:00,  1.34s/it]\n"
     ]
    },
    {
     "name": "stdout",
     "output_type": "stream",
     "text": [
      "Fold 3/4 mean val_loss: 0.0739775772160267, std val_loss 0.0\n",
      "Fold 3/4 mean train_loss: 0.0505653470754623, std train_loss 0.0\n",
      "Fold 3/4 mean val_accuracy: 0.8999999761581421, std val_accuracy 0.0\n",
      "Fold 3/4 mean train_accuracy: 0.95652174949646, train_accuracy 0.0\n",
      "\n",
      "Executing fold 4/4\n"
     ]
    },
    {
     "name": "stderr",
     "output_type": "stream",
     "text": [
      "100%|█████████████████████████████████████████████| 1/1 [00:00<00:00,  1.02it/s]\n"
     ]
    },
    {
     "name": "stdout",
     "output_type": "stream",
     "text": [
      "Fold 4/4 mean val_loss: 0.0336339432766197, std val_loss 0.0\n",
      "Fold 4/4 mean train_loss: 0.0569282732903957, std train_loss 0.0\n",
      "Fold 4/4 mean val_accuracy: 0.9666666388511658, std val_accuracy 0.0\n",
      "Fold 4/4 mean train_accuracy: 0.945652186870575, train_accuracy 0.0\n",
      "\n",
      "Mean val_loss: 0.07855968901720356, std val_loss: 0.03208545390435712\n",
      "Mean train_loss: 0.04466562345623967, std train_loss: 0.009366224032760193\n",
      "Mean val_accuracy: 0.9021505117416382, std val_accuracy: 0.04525719360585362\n",
      "Mean train_accuracy: 0.9021505117416382, std train_accuracy: 0.012032748715899792\n",
      "\n",
      "\n",
      "\n",
      "Testing configuration 13/18:\n",
      "{'batch_size': None, 'learning_rate': 0.3, 'max_epochs': 500, 'momentum': 0.7, 'initialization': {'type': 'default'}, 'early_stopping': {'monitor': 'val_loss', 'patience': 20, 'delta': 0.0}, 'task': 'classification', 'trials_train': 1, 'trials_test': 10, 'nesterov': False, 'learning_rate_decay': None, 'regularization': {'method': 'l1', 'value': 0.01}, 'activations_1': 'relu', 'units_1': 16}\n",
      "\n",
      "Executing fold 1/4\n"
     ]
    },
    {
     "name": "stderr",
     "output_type": "stream",
     "text": [
      "100%|█████████████████████████████████████████████| 1/1 [00:02<00:00,  2.40s/it]\n"
     ]
    },
    {
     "name": "stdout",
     "output_type": "stream",
     "text": [
      "Fold 1/4 mean val_loss: 0.0234289257684445, std val_loss 0.0\n",
      "Fold 1/4 mean train_loss: 0.0785312205553054, std train_loss 0.0\n",
      "Fold 1/4 mean val_accuracy: 1.0, std val_accuracy 0.0\n",
      "Fold 1/4 mean train_accuracy: 0.9670329689979552, train_accuracy 0.0\n",
      "\n",
      "Executing fold 2/4\n"
     ]
    },
    {
     "name": "stderr",
     "output_type": "stream",
     "text": [
      "100%|█████████████████████████████████████████████| 1/1 [00:01<00:00,  1.42s/it]\n"
     ]
    },
    {
     "name": "stdout",
     "output_type": "stream",
     "text": [
      "Fold 2/4 mean val_loss: 0.0474716421371757, std val_loss 0.0\n",
      "Fold 2/4 mean train_loss: 0.0977072641253471, std train_loss 0.0\n",
      "Fold 2/4 mean val_accuracy: 0.9677419066429138, std val_accuracy 0.0\n",
      "Fold 2/4 mean train_accuracy: 0.9340659379959106, train_accuracy 0.0\n",
      "\n",
      "Executing fold 3/4\n"
     ]
    },
    {
     "name": "stderr",
     "output_type": "stream",
     "text": [
      "100%|█████████████████████████████████████████████| 1/1 [00:03<00:00,  3.36s/it]\n"
     ]
    },
    {
     "name": "stdout",
     "output_type": "stream",
     "text": [
      "Fold 3/4 mean val_loss: 0.0875020643152065, std val_loss 0.0\n",
      "Fold 3/4 mean train_loss: 0.0601111352443695, std train_loss 0.0\n",
      "Fold 3/4 mean val_accuracy: 0.8999999761581421, std val_accuracy 0.0\n",
      "Fold 3/4 mean train_accuracy: 0.97826087474823, train_accuracy 0.0\n",
      "\n",
      "Executing fold 4/4\n"
     ]
    },
    {
     "name": "stderr",
     "output_type": "stream",
     "text": [
      "100%|█████████████████████████████████████████████| 1/1 [00:01<00:00,  1.21s/it]\n"
     ]
    },
    {
     "name": "stdout",
     "output_type": "stream",
     "text": [
      "Fold 4/4 mean val_loss: 0.1452686989672527, std val_loss 0.0\n",
      "Fold 4/4 mean train_loss: 0.0704215466976165, std train_loss 0.0\n",
      "Fold 4/4 mean val_accuracy: 0.8333333134651184, std val_accuracy 0.0\n",
      "Fold 4/4 mean train_accuracy: 0.967391312122345, train_accuracy 0.0\n",
      "\n",
      "Mean val_loss: 0.07591783279701986, std val_loss: 0.04611943240798592\n",
      "Mean train_loss: 0.07669279165565962, std train_loss: 0.013777406474588801\n",
      "Mean val_accuracy: 0.9252687990665436, std val_accuracy: 0.06418598792590281\n",
      "Mean train_accuracy: 0.9252687990665436, std train_accuracy: 0.01657358553034764\n",
      "\n",
      "\n",
      "\n",
      "Testing configuration 14/18:\n",
      "{'batch_size': None, 'learning_rate': 0.3, 'max_epochs': 500, 'momentum': 0.7, 'initialization': {'type': 'default'}, 'early_stopping': {'monitor': 'val_loss', 'patience': 20, 'delta': 0.0}, 'task': 'classification', 'trials_train': 1, 'trials_test': 10, 'nesterov': False, 'learning_rate_decay': None, 'regularization': {'method': 'l1', 'value': 0.001}, 'activations_1': 'relu', 'units_1': 16}\n",
      "\n",
      "Executing fold 1/4\n"
     ]
    },
    {
     "name": "stderr",
     "output_type": "stream",
     "text": [
      "100%|█████████████████████████████████████████████| 1/1 [00:03<00:00,  3.49s/it]\n"
     ]
    },
    {
     "name": "stdout",
     "output_type": "stream",
     "text": [
      "Fold 1/4 mean val_loss: 0.0476557416812934, std val_loss 0.0\n",
      "Fold 1/4 mean train_loss: 0.0481646992266178, std train_loss 0.0\n",
      "Fold 1/4 mean val_accuracy: 0.9354838728904724, std val_accuracy 0.0\n",
      "Fold 1/4 mean train_accuracy: 0.9560439586639404, train_accuracy 0.0\n",
      "\n",
      "Executing fold 2/4\n"
     ]
    },
    {
     "name": "stderr",
     "output_type": "stream",
     "text": [
      "100%|█████████████████████████████████████████████| 1/1 [00:00<00:00,  1.17it/s]\n"
     ]
    },
    {
     "name": "stdout",
     "output_type": "stream",
     "text": [
      "Fold 2/4 mean val_loss: 0.1254389416986956, std val_loss 0.0\n",
      "Fold 2/4 mean train_loss: 0.0477922894060611, std train_loss 0.0\n",
      "Fold 2/4 mean val_accuracy: 0.8709677457809448, std val_accuracy 0.0\n",
      "Fold 2/4 mean train_accuracy: 0.9560439586639404, train_accuracy 0.0\n",
      "\n",
      "Executing fold 3/4\n"
     ]
    },
    {
     "name": "stderr",
     "output_type": "stream",
     "text": [
      "100%|█████████████████████████████████████████████| 1/1 [00:01<00:00,  1.74s/it]\n"
     ]
    },
    {
     "name": "stdout",
     "output_type": "stream",
     "text": [
      "Fold 3/4 mean val_loss: 0.0557496155322225, std val_loss 0.0\n",
      "Fold 3/4 mean train_loss: 0.0508803017437458, std train_loss 0.0\n",
      "Fold 3/4 mean val_accuracy: 0.9333333373069764, std val_accuracy 0.0\n",
      "Fold 3/4 mean train_accuracy: 0.97826087474823, train_accuracy 0.0\n",
      "\n",
      "Executing fold 4/4\n"
     ]
    },
    {
     "name": "stderr",
     "output_type": "stream",
     "text": [
      "100%|█████████████████████████████████████████████| 1/1 [00:02<00:00,  2.14s/it]\n"
     ]
    },
    {
     "name": "stdout",
     "output_type": "stream",
     "text": [
      "Fold 4/4 mean val_loss: 0.0547377809637101, std val_loss 0.0\n",
      "Fold 4/4 mean train_loss: 0.0438998900353908, std train_loss 0.0\n",
      "Fold 4/4 mean val_accuracy: 0.9333333373069764, std val_accuracy 0.0\n",
      "Fold 4/4 mean train_accuracy: 0.97826087474823, train_accuracy 0.0\n",
      "\n",
      "Mean val_loss: 0.0708955199689804, std val_loss: 0.03164468004189746\n",
      "Mean train_loss: 0.047684295102953876, std train_loss: 0.0024889069415568793\n",
      "Mean val_accuracy: 0.9182795733213425, std val_accuracy: 0.02732960194160827\n",
      "Mean train_accuracy: 0.9182795733213425, std train_accuracy: 0.011108458042144775\n",
      "\n",
      "\n",
      "\n",
      "Testing configuration 15/18:\n",
      "{'batch_size': None, 'learning_rate': 0.3, 'max_epochs': 500, 'momentum': 0.8, 'initialization': {'type': 'default'}, 'early_stopping': {'monitor': 'val_loss', 'patience': 20, 'delta': 0.0}, 'task': 'classification', 'trials_train': 1, 'trials_test': 10, 'nesterov': False, 'learning_rate_decay': None, 'regularization': {'method': 'l1', 'value': 0.01}, 'activations_1': 'relu', 'units_1': 16}\n",
      "\n",
      "Executing fold 1/4\n"
     ]
    },
    {
     "name": "stderr",
     "output_type": "stream",
     "text": [
      "100%|█████████████████████████████████████████████| 1/1 [00:01<00:00,  1.52s/it]\n"
     ]
    },
    {
     "name": "stdout",
     "output_type": "stream",
     "text": [
      "Fold 1/4 mean val_loss: 0.0388873422155799, std val_loss 0.0\n",
      "Fold 1/4 mean train_loss: 0.0828320384025573, std train_loss 0.0\n",
      "Fold 1/4 mean val_accuracy: 0.9677419066429138, std val_accuracy 0.0\n",
      "Fold 1/4 mean train_accuracy: 0.9560439586639404, train_accuracy 0.0\n",
      "\n",
      "Executing fold 2/4\n"
     ]
    },
    {
     "name": "stderr",
     "output_type": "stream",
     "text": [
      "100%|█████████████████████████████████████████████| 1/1 [00:01<00:00,  1.21s/it]\n"
     ]
    },
    {
     "name": "stdout",
     "output_type": "stream",
     "text": [
      "Fold 2/4 mean val_loss: 0.102280879940944, std val_loss 0.0\n",
      "Fold 2/4 mean train_loss: 0.0751764625310897, std train_loss 0.0\n",
      "Fold 2/4 mean val_accuracy: 0.9032257795333862, std val_accuracy 0.0\n",
      "Fold 2/4 mean train_accuracy: 0.9560439586639404, train_accuracy 0.0\n",
      "\n",
      "Executing fold 3/4\n"
     ]
    },
    {
     "name": "stderr",
     "output_type": "stream",
     "text": [
      "100%|█████████████████████████████████████████████| 1/1 [00:01<00:00,  1.20s/it]\n"
     ]
    },
    {
     "name": "stdout",
     "output_type": "stream",
     "text": [
      "Fold 3/4 mean val_loss: 0.0595731308257816, std val_loss 0.0\n",
      "Fold 3/4 mean train_loss: 0.0849249735474586, std train_loss 0.0\n",
      "Fold 3/4 mean val_accuracy: 0.9333333373069764, std val_accuracy 0.0\n",
      "Fold 3/4 mean train_accuracy: 0.93478262424469, train_accuracy 0.0\n",
      "\n",
      "Executing fold 4/4\n"
     ]
    },
    {
     "name": "stderr",
     "output_type": "stream",
     "text": [
      "100%|█████████████████████████████████████████████| 1/1 [00:01<00:00,  1.41s/it]\n"
     ]
    },
    {
     "name": "stdout",
     "output_type": "stream",
     "text": [
      "Fold 4/4 mean val_loss: 0.0958090138119765, std val_loss 0.0\n",
      "Fold 4/4 mean train_loss: 0.0816023349761962, std train_loss 0.0\n",
      "Fold 4/4 mean val_accuracy: 0.8999999761581421, std val_accuracy 0.0\n",
      "Fold 4/4 mean train_accuracy: 0.95652174949646, train_accuracy 0.0\n",
      "\n",
      "Mean val_loss: 0.0741375916985705, std val_loss: 0.02605954152819471\n",
      "Mean train_loss: 0.08113395236432544, std train_loss: 0.0036389011112014425\n",
      "Mean val_accuracy: 0.9260752499103546, std val_accuracy: 0.027344141574049737\n",
      "Mean train_accuracy: 0.9260752499103546, std train_accuracy: 0.009277441785878466\n",
      "\n",
      "\n",
      "\n",
      "Testing configuration 16/18:\n",
      "{'batch_size': None, 'learning_rate': 0.3, 'max_epochs': 500, 'momentum': 0.8, 'initialization': {'type': 'default'}, 'early_stopping': {'monitor': 'val_loss', 'patience': 20, 'delta': 0.0}, 'task': 'classification', 'trials_train': 1, 'trials_test': 10, 'nesterov': False, 'learning_rate_decay': None, 'regularization': {'method': 'l1', 'value': 0.001}, 'activations_1': 'relu', 'units_1': 16}\n",
      "\n",
      "Executing fold 1/4\n"
     ]
    },
    {
     "name": "stderr",
     "output_type": "stream",
     "text": [
      "100%|█████████████████████████████████████████████| 1/1 [00:00<00:00,  1.14it/s]\n"
     ]
    },
    {
     "name": "stdout",
     "output_type": "stream",
     "text": [
      "Fold 1/4 mean val_loss: 0.1463566768405345, std val_loss 0.0\n",
      "Fold 1/4 mean train_loss: 0.0322904288768768, std train_loss 0.0\n",
      "Fold 1/4 mean val_accuracy: 0.8387096524238586, std val_accuracy 0.0\n",
      "Fold 1/4 mean train_accuracy: 0.9670329689979552, train_accuracy 0.0\n",
      "\n",
      "Executing fold 2/4\n"
     ]
    },
    {
     "name": "stderr",
     "output_type": "stream",
     "text": [
      "100%|█████████████████████████████████████████████| 1/1 [00:01<00:00,  1.12s/it]\n"
     ]
    },
    {
     "name": "stdout",
     "output_type": "stream",
     "text": [
      "Fold 2/4 mean val_loss: 0.0833028707025555, std val_loss 0.0\n",
      "Fold 2/4 mean train_loss: 0.0451802350580692, std train_loss 0.0\n",
      "Fold 2/4 mean val_accuracy: 0.8709677457809448, std val_accuracy 0.0\n",
      "Fold 2/4 mean train_accuracy: 0.9780219793319702, train_accuracy 0.0\n",
      "\n",
      "Executing fold 3/4\n"
     ]
    },
    {
     "name": "stderr",
     "output_type": "stream",
     "text": [
      "100%|█████████████████████████████████████████████| 1/1 [00:00<00:00,  1.35it/s]\n"
     ]
    },
    {
     "name": "stdout",
     "output_type": "stream",
     "text": [
      "Fold 3/4 mean val_loss: 0.0742766896308234, std val_loss 0.0\n",
      "Fold 3/4 mean train_loss: 0.0609261952340602, std train_loss 0.0\n",
      "Fold 3/4 mean val_accuracy: 0.8666666746139526, std val_accuracy 0.0\n",
      "Fold 3/4 mean train_accuracy: 0.95652174949646, train_accuracy 0.0\n",
      "\n",
      "Executing fold 4/4\n"
     ]
    },
    {
     "name": "stderr",
     "output_type": "stream",
     "text": [
      "100%|█████████████████████████████████████████████| 1/1 [00:00<00:00,  1.13it/s]\n"
     ]
    },
    {
     "name": "stdout",
     "output_type": "stream",
     "text": [
      "Fold 4/4 mean val_loss: 0.0499481377271396, std val_loss 0.0\n",
      "Fold 4/4 mean train_loss: 0.0638775452971458, std train_loss 0.0\n",
      "Fold 4/4 mean val_accuracy: 0.9666666388511658, std val_accuracy 0.0\n",
      "Fold 4/4 mean train_accuracy: 0.945652186870575, train_accuracy 0.0\n",
      "\n",
      "Mean val_loss: 0.08847109372526324, std val_loss: 0.03557720656627303\n",
      "Mean train_loss: 0.050568601116538006, std train_loss: 0.01272334292067777\n",
      "Mean val_accuracy: 0.8857526779174805, std val_accuracy: 0.04832955892090198\n",
      "Mean train_accuracy: 0.8857526779174805, std train_accuracy: 0.012032748715899792\n",
      "\n",
      "\n",
      "\n",
      "Testing configuration 17/18:\n",
      "{'batch_size': None, 'learning_rate': 0.3, 'max_epochs': 500, 'momentum': 0.9, 'initialization': {'type': 'default'}, 'early_stopping': {'monitor': 'val_loss', 'patience': 20, 'delta': 0.0}, 'task': 'classification', 'trials_train': 1, 'trials_test': 10, 'nesterov': False, 'learning_rate_decay': None, 'regularization': {'method': 'l1', 'value': 0.01}, 'activations_1': 'relu', 'units_1': 16}\n",
      "\n",
      "Executing fold 1/4\n"
     ]
    },
    {
     "name": "stderr",
     "output_type": "stream",
     "text": [
      "100%|█████████████████████████████████████████████| 1/1 [00:01<00:00,  1.17s/it]\n"
     ]
    },
    {
     "name": "stdout",
     "output_type": "stream",
     "text": [
      "Fold 1/4 mean val_loss: 0.0249598501328246, std val_loss 0.0\n",
      "Fold 1/4 mean train_loss: 0.0892904698848724, std train_loss 0.0\n",
      "Fold 1/4 mean val_accuracy: 0.9677419066429138, std val_accuracy 0.0\n",
      "Fold 1/4 mean train_accuracy: 0.9450549483299256, train_accuracy 0.0\n",
      "\n",
      "Executing fold 2/4\n"
     ]
    },
    {
     "name": "stderr",
     "output_type": "stream",
     "text": [
      "100%|█████████████████████████████████████████████| 1/1 [00:00<00:00,  1.27it/s]\n"
     ]
    },
    {
     "name": "stdout",
     "output_type": "stream",
     "text": [
      "Fold 2/4 mean val_loss: 0.1141231436687226, std val_loss 0.0\n",
      "Fold 2/4 mean train_loss: 0.0868075340986251, std train_loss 0.0\n",
      "Fold 2/4 mean val_accuracy: 0.8387096524238586, std val_accuracy 0.0\n",
      "Fold 2/4 mean train_accuracy: 0.9560439586639404, train_accuracy 0.0\n",
      "\n",
      "Executing fold 3/4\n"
     ]
    },
    {
     "name": "stderr",
     "output_type": "stream",
     "text": [
      "100%|█████████████████████████████████████████████| 1/1 [00:01<00:00,  1.04s/it]\n"
     ]
    },
    {
     "name": "stdout",
     "output_type": "stream",
     "text": [
      "Fold 3/4 mean val_loss: 0.0743703689442518, std val_loss 0.0\n",
      "Fold 3/4 mean train_loss: 0.0848522558808326, std train_loss 0.0\n",
      "Fold 3/4 mean val_accuracy: 0.9333333373069764, std val_accuracy 0.0\n",
      "Fold 3/4 mean train_accuracy: 0.945652186870575, train_accuracy 0.0\n",
      "\n",
      "Executing fold 4/4\n"
     ]
    },
    {
     "name": "stderr",
     "output_type": "stream",
     "text": [
      "100%|█████████████████████████████████████████████| 1/1 [00:00<00:00,  1.50it/s]\n"
     ]
    },
    {
     "name": "stdout",
     "output_type": "stream",
     "text": [
      "Fold 4/4 mean val_loss: 0.1314328205875415, std val_loss 0.0\n",
      "Fold 4/4 mean train_loss: 0.0781693086028099, std train_loss 0.0\n",
      "Fold 4/4 mean val_accuracy: 0.8333333134651184, std val_accuracy 0.0\n",
      "Fold 4/4 mean train_accuracy: 0.97826087474823, train_accuracy 0.0\n",
      "\n",
      "Mean val_loss: 0.08622154583333513, std val_loss: 0.04097561555494417\n",
      "Mean train_loss: 0.08477989211678501, std train_loss: 0.004128004806140345\n",
      "Mean val_accuracy: 0.8932795524597168, std val_accuracy: 0.05856699887866781\n",
      "Mean train_accuracy: 0.8932795524597168, std train_accuracy: 0.01343655321710482\n",
      "\n",
      "\n",
      "\n",
      "Testing configuration 18/18:\n",
      "{'batch_size': None, 'learning_rate': 0.3, 'max_epochs': 500, 'momentum': 0.9, 'initialization': {'type': 'default'}, 'early_stopping': {'monitor': 'val_loss', 'patience': 20, 'delta': 0.0}, 'task': 'classification', 'trials_train': 1, 'trials_test': 10, 'nesterov': False, 'learning_rate_decay': None, 'regularization': {'method': 'l1', 'value': 0.001}, 'activations_1': 'relu', 'units_1': 16}\n",
      "\n",
      "Executing fold 1/4\n"
     ]
    },
    {
     "name": "stderr",
     "output_type": "stream",
     "text": [
      "100%|█████████████████████████████████████████████| 1/1 [00:00<00:00,  1.26it/s]\n"
     ]
    },
    {
     "name": "stdout",
     "output_type": "stream",
     "text": [
      "Fold 1/4 mean val_loss: 0.0751067770292261, std val_loss 0.0\n",
      "Fold 1/4 mean train_loss: 0.0479973740875721, std train_loss 0.0\n",
      "Fold 1/4 mean val_accuracy: 0.9032257795333862, std val_accuracy 0.0\n",
      "Fold 1/4 mean train_accuracy: 0.9670329689979552, train_accuracy 0.0\n",
      "\n",
      "Executing fold 2/4\n"
     ]
    },
    {
     "name": "stderr",
     "output_type": "stream",
     "text": [
      "100%|█████████████████████████████████████████████| 1/1 [00:00<00:00,  1.40it/s]\n"
     ]
    },
    {
     "name": "stdout",
     "output_type": "stream",
     "text": [
      "Fold 2/4 mean val_loss: 0.0382739469324778, std val_loss 0.0\n",
      "Fold 2/4 mean train_loss: 0.0531575232744216, std train_loss 0.0\n",
      "Fold 2/4 mean val_accuracy: 0.9677419066429138, std val_accuracy 0.0\n",
      "Fold 2/4 mean train_accuracy: 0.9560439586639404, train_accuracy 0.0\n",
      "\n",
      "Executing fold 3/4\n"
     ]
    },
    {
     "name": "stderr",
     "output_type": "stream",
     "text": [
      "100%|█████████████████████████████████████████████| 1/1 [00:00<00:00,  1.30it/s]\n"
     ]
    },
    {
     "name": "stdout",
     "output_type": "stream",
     "text": [
      "Fold 3/4 mean val_loss: 0.0733599191151519, std val_loss 0.0\n",
      "Fold 3/4 mean train_loss: 0.043711207807064, std train_loss 0.0\n",
      "Fold 3/4 mean val_accuracy: 0.8999999761581421, std val_accuracy 0.0\n",
      "Fold 3/4 mean train_accuracy: 0.97826087474823, train_accuracy 0.0\n",
      "\n",
      "Executing fold 4/4\n"
     ]
    },
    {
     "name": "stderr",
     "output_type": "stream",
     "text": [
      "100%|█████████████████████████████████████████████| 1/1 [00:00<00:00,  1.54it/s]\n"
     ]
    },
    {
     "name": "stdout",
     "output_type": "stream",
     "text": [
      "Fold 4/4 mean val_loss: 0.1022888403968117, std val_loss 0.0\n",
      "Fold 4/4 mean train_loss: 0.044383343309164, std train_loss 0.0\n",
      "Fold 4/4 mean val_accuracy: 0.8999999761581421, std val_accuracy 0.0\n",
      "Fold 4/4 mean train_accuracy: 0.967391312122345, train_accuracy 0.0\n",
      "\n",
      "Mean val_loss: 0.07225737086841687, std val_loss: 0.022727169822430046\n",
      "Mean train_loss: 0.047312362119555425, std train_loss: 0.003747753123428922\n",
      "Mean val_accuracy: 0.9177419096231461, std val_accuracy: 0.028897535106444938\n",
      "Mean train_accuracy: 0.9177419096231461, std train_accuracy: 0.007855944436926806\n",
      "\n",
      "\n",
      "\n",
      "\n",
      "\n",
      "\n",
      "Best configuration (loss 0.06419964367592862):\n",
      "{'batch_size': None, 'learning_rate': 0.2, 'max_epochs': 500, 'momentum': 0.7, 'initialization': {'type': 'default'}, 'early_stopping': {'monitor': 'val_loss', 'patience': 20, 'delta': 0.0}, 'task': 'classification', 'trials_train': 1, 'trials_test': 10, 'nesterov': False, 'learning_rate_decay': None, 'regularization': {'method': 'l1', 'value': 0.01}, 'activations_1': 'relu', 'units_1': 16}\n"
     ]
    },
    {
     "name": "stderr",
     "output_type": "stream",
     "text": [
      " 10%|████▍                                       | 1/10 [00:03<00:28,  3.18s/it]"
     ]
    },
    {
     "name": "stdout",
     "output_type": "stream",
     "text": [
      "Trial 1/10 val_mse: 0.0621207394978066\n",
      "Trial 1/10 train_mse: 0.0906575918197631\n",
      "Trial 1/10 val_accuracy: 0.9230769276618958\n",
      "Trial 1/10 train_accuracy: 0.9357798099517822\n"
     ]
    },
    {
     "name": "stderr",
     "output_type": "stream",
     "text": [
      "\r",
      " 20%|████████▊                                   | 2/10 [00:07<00:31,  3.95s/it]"
     ]
    },
    {
     "name": "stdout",
     "output_type": "stream",
     "text": [
      "Trial 2/10 val_mse: 0.0596857722302861\n",
      "Trial 2/10 train_mse: 0.0761381387710571\n",
      "Trial 2/10 val_accuracy: 0.9230769276618958\n",
      "Trial 2/10 train_accuracy: 0.9541284441947936\n"
     ]
    },
    {
     "name": "stderr",
     "output_type": "stream",
     "text": [
      "\r",
      " 30%|█████████████▏                              | 3/10 [00:11<00:28,  4.04s/it]"
     ]
    },
    {
     "name": "stdout",
     "output_type": "stream",
     "text": [
      "Trial 3/10 val_mse: 0.0618667306452338\n",
      "Trial 3/10 train_mse: 0.0792842358350753\n",
      "Trial 3/10 val_accuracy: 0.9230769276618958\n",
      "Trial 3/10 train_accuracy: 0.9449541568756104\n"
     ]
    },
    {
     "name": "stderr",
     "output_type": "stream",
     "text": [
      "\r",
      " 40%|█████████████████▌                          | 4/10 [00:15<00:23,  3.92s/it]"
     ]
    },
    {
     "name": "stdout",
     "output_type": "stream",
     "text": [
      "Trial 4/10 val_mse: 0.0629177071142515\n",
      "Trial 4/10 train_mse: 0.0903113037347793\n",
      "Trial 4/10 val_accuracy: 0.9230769276618958\n",
      "Trial 4/10 train_accuracy: 0.9357798099517822\n"
     ]
    },
    {
     "name": "stderr",
     "output_type": "stream",
     "text": [
      "\r",
      " 50%|██████████████████████                      | 5/10 [00:19<00:20,  4.04s/it]"
     ]
    },
    {
     "name": "stdout",
     "output_type": "stream",
     "text": [
      "Trial 5/10 val_mse: 0.0622056823069741\n",
      "Trial 5/10 train_mse: 0.0808605402708053\n",
      "Trial 5/10 val_accuracy: 0.9230769276618958\n",
      "Trial 5/10 train_accuracy: 0.9449541568756104\n"
     ]
    },
    {
     "name": "stderr",
     "output_type": "stream",
     "text": [
      "\r",
      " 60%|██████████████████████████▍                 | 6/10 [00:26<00:19,  5.00s/it]"
     ]
    },
    {
     "name": "stdout",
     "output_type": "stream",
     "text": [
      "Trial 6/10 val_mse: 0.0629648132641491\n",
      "Trial 6/10 train_mse: 0.0738327428698539\n",
      "Trial 6/10 val_accuracy: 0.9230769276618958\n",
      "Trial 6/10 train_accuracy: 0.9541284441947936\n"
     ]
    },
    {
     "name": "stderr",
     "output_type": "stream",
     "text": [
      "\r",
      " 70%|██████████████████████████████▊             | 7/10 [00:30<00:13,  4.49s/it]"
     ]
    },
    {
     "name": "stdout",
     "output_type": "stream",
     "text": [
      "Trial 7/10 val_mse: 0.0631855643563511\n",
      "Trial 7/10 train_mse: 0.0909774005413055\n",
      "Trial 7/10 val_accuracy: 0.9230769276618958\n",
      "Trial 7/10 train_accuracy: 0.9357798099517822\n"
     ]
    },
    {
     "name": "stderr",
     "output_type": "stream",
     "text": [
      "\r",
      " 80%|███████████████████████████████████▏        | 8/10 [00:33<00:08,  4.26s/it]"
     ]
    },
    {
     "name": "stdout",
     "output_type": "stream",
     "text": [
      "Trial 8/10 val_mse: 0.0636519167366855\n",
      "Trial 8/10 train_mse: 0.0854483693838119\n",
      "Trial 8/10 val_accuracy: 0.9230769276618958\n",
      "Trial 8/10 train_accuracy: 0.9357798099517822\n"
     ]
    },
    {
     "name": "stderr",
     "output_type": "stream",
     "text": [
      "\r",
      " 90%|███████████████████████████████████████▌    | 9/10 [00:38<00:04,  4.38s/it]"
     ]
    },
    {
     "name": "stdout",
     "output_type": "stream",
     "text": [
      "Trial 9/10 val_mse: 0.0601784638039983\n",
      "Trial 9/10 train_mse: 0.0891202837228775\n",
      "Trial 9/10 val_accuracy: 0.9230769276618958\n",
      "Trial 9/10 train_accuracy: 0.9449541568756104\n"
     ]
    },
    {
     "name": "stderr",
     "output_type": "stream",
     "text": [
      "100%|███████████████████████████████████████████| 10/10 [00:46<00:00,  4.64s/it]"
     ]
    },
    {
     "name": "stdout",
     "output_type": "stream",
     "text": [
      "Trial 10/10 val_mse: 0.0602496213201784\n",
      "Trial 10/10 train_mse: 0.0788021236658096\n",
      "Trial 10/10 val_accuracy: 0.9230769276618958\n",
      "Trial 10/10 train_accuracy: 0.9449541568756104\n",
      "\n",
      "Median val_mse: 0.0622056823069741, std val_mse: 0.001327587503307554\n",
      "Median train_mse: 0.0808605402708053, std train_mse: 0.006191638097191944\n",
      "Median val_accuracy: 0.9230769276618958, std val_accuracy: 0.0\n",
      "Median train_accuracy: 0.9449541568756104, std train_accuracy: 0.006865433471274744\n",
      "\n",
      "Median model train_loss: 0.0808605402708053\n",
      "Median model val_loss: 0.0622056823069741\n",
      "Median model test_loss: 0.0347693667189854\n",
      "\n",
      "Median model accuracy: 0.9449541568756104\n",
      "Median model val_accuracy: 0.9230769276618958\n",
      "Median model test_accuracy: 0.9699074029922484\n"
     ]
    },
    {
     "name": "stderr",
     "output_type": "stream",
     "text": [
      "\n"
     ]
    },
    {
     "data": {
      "image/png": "[encoded data removed]",
      "text/plain": [
       "<Figure size 640x480 with 1 Axes>"
      ]
     },
     "metadata": {},
     "output_type": "display_data"
    },
    {
     "data": {
      "image/png": "[encoded data removed]",
      "text/plain": [
       "<Figure size 640x480 with 1 Axes>"
      ]
     },
     "metadata": {},
     "output_type": "display_data"
    },
    {
     "data": {
      "image/png": "[encoded data removed]",
      "text/plain": [
       "<Figure size 640x480 with 1 Axes>"
      ]
     },
     "metadata": {},
     "output_type": "display_data"
    },
    {
     "data": {
      "image/png": "[encoded data removed]",
      "text/plain": [
       "<Figure size 640x480 with 1 Axes>"
      ]
     },
     "metadata": {},
     "output_type": "display_data"
    }
   ],
   "source": [
    "model = grid_search(params, x_train, y_train, x_test, y_test, k_fold_val)\n",
    "# test_model(model, x_test, y_test)"
   ]
  },
  {
   "cell_type": "code",
   "execution_count": null,
   "id": "b3cdfdba",
   "metadata": {},
   "outputs": [],
   "source": []
  }
 ],
 "metadata": {
  "kernelspec": {
   "display_name": "mlvenv",
   "language": "python",
   "name": "mlvenv"
  },
  "language_info": {
   "codemirror_mode": {
    "name": "ipython",
    "version": 3
   },
   "file_extension": ".py",
   "mimetype": "text/x-python",
   "name": "python",
   "nbconvert_exporter": "python",
   "pygments_lexer": "ipython3",
   "version": "3.10.6"
  }
 },
 "nbformat": 4,
 "nbformat_minor": 5
}
