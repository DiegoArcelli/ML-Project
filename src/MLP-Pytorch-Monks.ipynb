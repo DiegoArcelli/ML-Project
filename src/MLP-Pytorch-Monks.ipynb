{
 "cells": [
  {
   "cell_type": "code",
   "execution_count": 1,
   "id": "d37f696d",
   "metadata": {
    "scrolled": true
   },
   "outputs": [],
   "source": [
    "import warnings\n",
    "warnings.filterwarnings('ignore')\n",
    "from tqdm import tqdm\n",
    "import pandas as pd\n",
    "import numpy as np\n",
    "import itertools\n",
    "from sklearn.model_selection import train_test_split\n",
    "import matplotlib.pyplot as plt\n",
    "from sklearn.model_selection import KFold, StratifiedKFold\n",
    "from sklearn.preprocessing import OneHotEncoder\n",
    "from sklearn.preprocessing import StandardScaler, MinMaxScaler\n",
    "from math import ceil\n",
    "import matplotlib.pyplot as plt\n",
    "from sklearn.preprocessing import StandardScaler\n",
    "from sklearn.model_selection import train_test_split\n",
    "from sklearn.preprocessing import MinMaxScaler\n",
    "from pytorch_lightning.callbacks import ModelSummary\n",
    "from sklearn.preprocessing import OneHotEncoder\n",
    "from sklearn.preprocessing import StandardScaler\n",
    "from pytorch_lightning.loggers import CSVLogger\n",
    "import pandas as pd\n",
    "import datetime\n",
    "import torch\n",
    "import torch.nn as nn\n",
    "from torchmetrics import Metric\n",
    "import torch.utils.data as data\n",
    "from torch.utils.data import Dataset, DataLoader \n",
    "import pytorch_lightning as pl\n",
    "from datetime import datetime\n",
    "from pytorch_lightning.callbacks.early_stopping import EarlyStopping\n",
    "from torchmetrics import Accuracy\n",
    "import logging\n",
    "import os\n",
    "logging.getLogger(\"lightning\").addHandler(logging.NullHandler())\n",
    "logging.getLogger(\"lightning\").propagate = False\n",
    "logging.getLogger(\"pytorch_lightning\").setLevel(logging.WARNING)\n",
    "import random\n",
    "\n",
    "\n",
    "seed = 42"
   ]
  },
  {
   "cell_type": "code",
   "execution_count": 2,
   "id": "6d8327a6",
   "metadata": {
    "scrolled": true
   },
   "outputs": [],
   "source": [
    "def plot_curves(curve_1, label_1, curve_2=None, label_2=None):\n",
    "    if curve_1 is not None: \n",
    "        plt.plot(curve_1, label = label_1, color=\"black\")\n",
    "    if curve_2 is not None: \n",
    "        plt.plot(curve_2, label = label_2, linestyle='dashed', color=\"grey\")   \n",
    "    plt.legend()\n",
    "    plt.show()\n",
    "    \n",
    "def set_random_seeds():\n",
    "    np.random.seed(seed)\n",
    "    random.seed(seed)\n",
    "    torch.manual_seed(seed)"
   ]
  },
  {
   "cell_type": "code",
   "execution_count": 3,
   "id": "d60634f7",
   "metadata": {
    "scrolled": true
   },
   "outputs": [],
   "source": [
    "x_scaler = None\n",
    "y_scaler = None\n",
    "\n",
    "def load_monks(path, encode):\n",
    "    \n",
    "    train = pd.read_csv(f\"{path}.train\", header=None, sep=\" \")\n",
    "    test = pd.read_csv(f\"{path}.test\", header=None, sep=\" \")\n",
    "    \n",
    "    train.drop(0, axis=1, inplace=True)\n",
    "    test.drop(0, axis=1, inplace=True)\n",
    "    train.drop(8, axis=1, inplace=True)\n",
    "    test.drop(8, axis=1, inplace=True)\n",
    "    \n",
    "    y_train = train.iloc[:, 0].to_numpy().astype(np.float64)\n",
    "    x_train = train.iloc[:, 1:].to_numpy().astype(np.float64)\n",
    "    y_test = test.iloc[:, 0].to_numpy().astype(np.float64)\n",
    "    x_test = test.iloc[:, 1:].to_numpy().astype(np.float64)\n",
    "    \n",
    "        \n",
    "    if encode:\n",
    "        \n",
    "        encoder = OneHotEncoder()\n",
    "        \n",
    "        encoder.fit(x_train)\n",
    "        x_train = encoder.transform(x_train).toarray()\n",
    "        x_test = encoder.transform(x_test).toarray()\n",
    "        \n",
    "        \n",
    "    \n",
    "    print(f\"Loaded {path} dataset\")\n",
    "    \n",
    "    return x_train, y_train, x_test, y_test\n",
    "    \n",
    "\n",
    "def load_cup(scale):\n",
    "    \n",
    "    global x_scaler\n",
    "    global y_scaler\n",
    "    \n",
    "    #x_scaler = StandardScaler()\n",
    "    #y_scaler = StandardScaler()\n",
    "    # scaler = MinMaxScaler()\n",
    "    x_scaler = MinMaxScaler()\n",
    "    y_scaler = MinMaxScaler()\n",
    "    \n",
    "    \n",
    "    train = pd.read_csv(\"../data/ML-CUP22-INTERNAL-TR.csv\", header=None, sep=\",\")\n",
    "    test = pd.read_csv(\"../data/ML-CUP22-INTERNAL-TS.csv\", header=None, sep=\",\")\n",
    "    train.drop(0, axis=1, inplace=True)\n",
    "    test.drop(0, axis=1, inplace=True)\n",
    "\n",
    "    x_train = train.iloc[:, :9].to_numpy().astype(np.float64)\n",
    "    y_train = train.iloc[:, 9:].to_numpy().astype(np.float64)\n",
    "\n",
    "    x_test = test.iloc[:, :9].to_numpy().astype(np.float64)\n",
    "    y_test = test.iloc[:, 9:].to_numpy().astype(np.float64) \n",
    "    # x_test_blind = test.to_numpy().astype(np.float64)\n",
    "    \n",
    "    # x_train, x_test, y_train, y_test = train_test_split(x_train, y_train, test_size=0.1, shuffle=True, random_state=7)\n",
    "    \n",
    "    if scale:\n",
    "        x_scaler.fit(x_train)\n",
    "        x_train = x_scaler.transform(x_train)\n",
    "        x_test = x_scaler.transform(x_test)\n",
    "        \n",
    "        y_scaler.fit(y_train)\n",
    "        y_train = y_scaler.transform(y_train)\n",
    "        y_test = y_scaler.transform(y_test)\n",
    "        \n",
    "        \n",
    "    return x_train, y_train, x_test, y_test #, x_test_blind\n",
    "    \n",
    "    \n",
    "    \n",
    "def load_dataset(dataset, encode=True):\n",
    "    assert dataset in [\"monks1\", \"monks2\", \"monks3\", \"cup\"]\n",
    "    \n",
    "    if dataset == \"monks1\":\n",
    "        return load_monks(\"./../data/monks-1\", encode)\n",
    "    elif dataset == \"monks2\":\n",
    "        return load_monks(\"./../data/monks-2\", encode)\n",
    "    elif dataset == \"monks3\":\n",
    "        return load_monks(\"./../data/monks-3\", encode)\n",
    "    else:\n",
    "        return load_cup(encode)"
   ]
  },
  {
   "cell_type": "code",
   "execution_count": 4,
   "id": "ad558fec",
   "metadata": {
    "scrolled": true
   },
   "outputs": [],
   "source": [
    "class History:\n",
    "    def __init__(self):\n",
    "        self.history = {}\n",
    "\n",
    "\n",
    "class LinearLearningRateScheduler(torch.optim.lr_scheduler._LRScheduler):\n",
    "    def __init__(self, optimizer, lr_init, lr_final, epochs, last_epoch=-1):\n",
    "        self.lr_init = lr_init\n",
    "        self.lr_final = lr_final\n",
    "        self.epochs = epochs\n",
    "        super().__init__(optimizer, last_epoch=last_epoch)\n",
    "    \n",
    "    def step(self):\n",
    "        self.last_epoch += 1\n",
    "        epoch = self.last_epoch\n",
    "        if epoch < self.epochs:\n",
    "            alpha = epoch / self.epochs\n",
    "            lr = self.lr_init * (1 - alpha) + alpha*self.lr_final\n",
    "        else:\n",
    "            lr = self.lr_final\n",
    "        for param_group in self.optimizer.param_groups:\n",
    "            param_group['lr'] = lr\n",
    "            \n",
    "    \n",
    "\n",
    "def get_activation_function(name):\n",
    "    if name == \"relu\":\n",
    "        return nn.ReLU()\n",
    "    elif name == \"tanh\":\n",
    "        return nn.Tanh()\n",
    "    elif name == \"sigmoid\":\n",
    "        return nn.Sigmoid()\n",
    "    elif name == \"linear\":\n",
    "        return None\n",
    "\n",
    "def mee(y_true, y_pred):\n",
    "    return (y_true - y_pred).square().sum(axis=1).sqrt().mean()\n",
    "\n",
    "def mse(y_true, y_pred):\n",
    "    return (y_true - y_pred).square().sum(axis=1).mean()\n",
    "        \n",
    "    \n",
    "class MEE(Metric):\n",
    "    \n",
    "    def __init__(self):\n",
    "        super().__init__()\n",
    "        self.add_state(\"result\", default=torch.tensor(0.0))\n",
    "        \n",
    "    def update(self, y_pred, y_true):\n",
    "        self.result += mee(y_true, y_pred)\n",
    "\n",
    "    def compute(self):\n",
    "        return self.result\n",
    "    \n",
    "\n",
    "class MultiLayerPerceptron(pl.LightningModule):\n",
    "    def __init__(self, input_dim, output_dim, config):\n",
    "        super(MultiLayerPerceptron, self).__init__()\n",
    "        \n",
    "        task = config[\"task\"]\n",
    "        self.lr = config[\"learning_rate\"]\n",
    "        self.momentum = config[\"momentum\"]\n",
    "        self.nesterov = config[\"nesterov\"]\n",
    "        init = config[\"initialization\"]\n",
    "        reg_method = config[\"regularization\"][\"method\"]\n",
    "        self.reg_method = reg_method\n",
    "        self.lr_decay = config[\"learning_rate_decay\"]        \n",
    "        \n",
    "        \n",
    "        if reg_method != None:\n",
    "            value = config[\"regularization\"][\"value\"]\n",
    "            self.reg_value = value\n",
    "        \n",
    "        self.task = task\n",
    "        self.model = nn.Sequential()\n",
    "                \n",
    "        units = config[\"units_1\"]\n",
    "        activation = get_activation_function(config[\"activations_1\"])\n",
    "        \n",
    "        self.model.add_module(\"linear_input\", nn.Linear(input_dim, units))\n",
    "        self.model.add_module(\"activations_1\", activation)\n",
    "        \n",
    "        n_layers = 0\n",
    "        for key in config.keys():\n",
    "            if key.startswith(\"units_\"):\n",
    "                n_layers += 1\n",
    "                \n",
    "        for n_layer in range(2, n_layers+1):\n",
    "            out_units = config[f\"units_{n_layer}\"]\n",
    "            self.model.add_module(f\"linear_{n_layer}\", nn.Linear(units, out_units))\n",
    "            activation = get_activation_function(config[f\"activations_{n_layer}\"])\n",
    "            if activation != None:\n",
    "                self.model.add_module(f\"activations_{n_layer}\", activation)\n",
    "            units = out_units\n",
    "        \n",
    "        if task == \"classification\":\n",
    "            self.model.add_module(\"layer_output\", nn.Linear(units, output_dim))\n",
    "            self.model.add_module(\"activations_output\", nn.Sigmoid())\n",
    "            self.metric = Accuracy()\n",
    "            self.metric_name = \"accuracy\"\n",
    "        \n",
    "        if task == \"regression\":\n",
    "            self.model.add_module(\"layer_output\", nn.Linear(units, output_dim))\n",
    "            self.metric = MEE()\n",
    "            self.metric_name = \"mee\"\n",
    "            \n",
    "            \n",
    "        self.loss = nn.MSELoss()\n",
    "        self.dicts = []\n",
    "                    \n",
    "        if init[\"type\"] == \"uniform\":\n",
    "            self.min = init[\"min\"]\n",
    "            self.max = init[\"max\"]\n",
    "            for name, param in self.model.named_parameters():\n",
    "                if 'weight' in name:\n",
    "                    nn.init.uniform_(param, self.min, self.max)\n",
    "                if 'bias' in name:\n",
    "                    nn.init.uniform_(param, self.min, self.max)\n",
    "\n",
    "            \n",
    "        elif init[\"type\"] == \"normal\":\n",
    "            self.mean = init[\"mean\"]\n",
    "            self.std = init[\"std\"]\n",
    "            for name, param in self.model.named_parameters():\n",
    "                if 'weight' in name:\n",
    "                    nn.init.normal_(param, self.mean, self.std)\n",
    "                if 'bias' in name:\n",
    "                    nn.init.normal_(param, self.mean, self.std)\n",
    "            \n",
    "            \n",
    "\n",
    "    def init_weights_uniform(self, m):\n",
    "        if isinstance(m, nn.Linear):\n",
    "            torch.nn.init.uniform_(m.weight, self.min, self.max)\n",
    "            torch.nn.init.uniform_(m.bias, self.min, self.max)\n",
    "            # m.bias.data.fill_(0.01)\n",
    "        \n",
    "            \n",
    "\n",
    "    def init_weights_normal(self, m):\n",
    "        if isinstance(m, nn.Linear):\n",
    "            torch.nn.init.normal_(m.weight, self.mean, self.std)\n",
    "            torch.nn.init.normal_(m.bias, self.mean, self.std)\n",
    "            # m.bias.data.fill_(0.01)\n",
    "            \n",
    "            \n",
    "    def compute_metric(self, y_pred, y_true):\n",
    "        if self.task == \"classification\":\n",
    "            y_pred = y_pred.reshape(y_true.shape)  \n",
    "            return self.metric(y_pred, y_true.to(torch.int32))\n",
    "        elif self.task == \"regression\":\n",
    "            y_true = y_true.to(torch.float32)\n",
    "            return self.metric(y_pred, y_true)\n",
    "\n",
    "\n",
    "    def compute_loss(self, y_pred, y_true):\n",
    "        if self.task == \"classification\":\n",
    "            y_pred = y_pred.reshape(y_true.shape)  \n",
    "            return self.loss(y_pred, y_true)\n",
    "        elif self.task == \"regression\":\n",
    "            y_true = y_true.to(torch.float32)\n",
    "            return self.loss(y_pred, y_true)\n",
    "        \n",
    "        \n",
    "    def get_regularization_term(self):\n",
    "        \n",
    "        if self.reg_method != None:\n",
    "            \n",
    "            value = self.reg_value\n",
    "            p = 1 if self.reg_method == \"l1\" else 2\n",
    "            reg = 0\n",
    "            \n",
    "            for param in self.model.parameters():\n",
    "                reg += torch.linalg.norm(param, p)\n",
    "                \n",
    "            reg *= value\n",
    "            \n",
    "            return reg\n",
    "        \n",
    "        return 0\n",
    "            \n",
    "        \n",
    "        \n",
    "    def forward(self, x):\n",
    "        return self.model(x)\n",
    "\n",
    "    \n",
    "    def configure_optimizers(self):\n",
    "        optimizer = torch.optim.SGD(self.parameters(), lr=self.lr, momentum=self.momentum, nesterov=self.nesterov)\n",
    "        if self.lr_decay != None:\n",
    "            decay_epochs = self.lr_decay[\"epochs\"]\n",
    "            lr_final = self.lr_decay[\"lr_final\"]\n",
    "            lr_init = self.lr\n",
    "            scheduler = LinearLearningRateScheduler(optimizer, lr_init, lr_final, decay_epochs)\n",
    "            return [optimizer], [scheduler]\n",
    "            \n",
    "        return optimizer\n",
    "    \n",
    "    \n",
    "    \n",
    "\n",
    "    def training_step(self, train_batch, batch_idx):\n",
    "        X, y = train_batch \n",
    "        y_copy = y # Integer y for the accuracy\n",
    "        X = X.type(torch.float32)\n",
    "        y = y.type(torch.float32)  \n",
    "        # forward pass\n",
    "        y_pred = self.forward(X)\n",
    "        # accuracy\n",
    "        acc = self.compute_metric(y_pred, y_copy)\n",
    "        # compute loss\n",
    "        reg = self.get_regularization_term()\n",
    "        loss = self.compute_loss(y_pred, y) + reg\n",
    "        self.log_dict({'loss': loss, f'{self.metric_name}': acc}, on_step=False, on_epoch=True, prog_bar=True, logger=True)\n",
    "        return loss\n",
    "    \n",
    "    \n",
    "    \n",
    "    def validation_step(self, validation_batch, batch_idx):\n",
    "        X, y = validation_batch\n",
    "        X = X.type(torch.float32)\n",
    "        # forward pass\n",
    "        y_pred = self.forward(X)\n",
    "        # compute metrics \n",
    "        acc = self.compute_metric(y_pred, y)\n",
    "        # compute loss\n",
    "        loss = self.compute_loss(y_pred, y)\n",
    "        self.log_dict({'val_loss': loss, f'val_{self.metric_name}': acc}, prog_bar=True, logger=True)\n",
    "        return loss\n",
    "    \n",
    "    \n",
    "    \n",
    "    \n",
    "    def test_step(self, test_batch, batch_idx):\n",
    "        X, y = test_batch\n",
    "        X = X.type(torch.float32)\n",
    "        # forward pass\n",
    "        y_pred = self.forward(X)\n",
    "        # compute metrics \n",
    "        acc = self.compute_metric(y_pred, y)\n",
    "        # compute loss\n",
    "        loss = self.compute_loss(y_pred, y)\n",
    "        # self.log_dict({'test_loss': loss, f'test_{self.metric_name}': acc}, on_epoch=True,on_step=False, prog_bar=True, logger=True)\n",
    "        return loss\n",
    "\n",
    "    \n",
    "class CustomDataset(Dataset):\n",
    "    def __init__(self, X, y):\n",
    "        self.X = X\n",
    "        self.y = y\n",
    "    \n",
    "    def __len__(self):\n",
    "        return len(self.X)\n",
    "    \n",
    "    def __getitem__(self, idx):\n",
    "        return self.X[idx], self.y[idx]"
   ]
  },
  {
   "cell_type": "code",
   "execution_count": 5,
   "id": "68a4b4e1",
   "metadata": {
    "scrolled": true
   },
   "outputs": [],
   "source": [
    "def median_index(array):\n",
    "    n = len(array)\n",
    "    med_idx = np.argsort(array)[ceil((n-1)/2)]\n",
    "    # med_val = array[med_idx]\n",
    "    return med_idx #, med_val\n",
    "\n",
    "\n",
    "def merge_dicts(dicts):\n",
    "    merged = {}\n",
    "    for d in dicts:\n",
    "        merged = {**merged, **d}\n",
    "    return merged\n",
    "\n",
    "def get_attributes_num(dataset):\n",
    "    return 1 if len(dataset.shape) == 1 else dataset.shape[1]\n",
    "\n",
    "\n",
    "def get_params_configurations(params):\n",
    "    \n",
    "    keys = list(params.keys())\n",
    "    keys.remove(\"layers\")\n",
    "    keys.remove(\"task\")\n",
    "    keys.remove(\"initialization\")\n",
    "    keys.remove(\"early_stopping\")\n",
    "    keys.remove(\"regularization\")\n",
    "    keys.remove(\"nesterov\")\n",
    "    keys.remove(\"trials_train\")\n",
    "    keys.remove(\"trials_final\")\n",
    "    keys.remove(\"learning_rate_decay\")\n",
    "    sorted_keys = sorted(keys)\n",
    "    arguments = []\n",
    "    for key in sorted_keys:\n",
    "        arguments.append(params[key])\n",
    "    \n",
    "    arguments = tuple(arguments)\n",
    "    all_params = list(itertools.product(*arguments))\n",
    "        \n",
    "    configurations = []\n",
    "    \n",
    "    for conf in all_params:\n",
    "        \n",
    "        dict_conf = {}\n",
    "        \n",
    "        for i in range(len(sorted_keys)):\n",
    "            dict_conf[sorted_keys[i]] = conf[i]\n",
    "        dict_conf[\"initialization\"] = params[\"initialization\"]\n",
    "        dict_conf[\"early_stopping\"] = params[\"early_stopping\"]\n",
    "        dict_conf[\"task\"] = params[\"task\"]\n",
    "        dict_conf[\"trials_train\"] = params[\"trials_train\"]\n",
    "        dict_conf[\"trials_final\"] = params[\"trials_final\"]\n",
    "        dict_conf[\"nesterov\"] = params[\"nesterov\"]\n",
    "        dict_conf[\"learning_rate_decay\"] = params[\"learning_rate_decay\"]\n",
    "        \n",
    "        # add regularization parameters\n",
    "        for reg in params[\"regularization\"]:\n",
    "            method = reg[\"type\"]\n",
    "            \n",
    "            if method == None:\n",
    "                reg_dict_conf = dict_conf.copy()\n",
    "                reg_dict_conf[\"regularization\"] = {\n",
    "                    \"method\": None\n",
    "                }\n",
    "                configurations.append(reg_dict_conf)\n",
    "                continue\n",
    "            \n",
    "            for val in reg[\"value\"]:\n",
    "                reg_dict_conf = dict_conf.copy()\n",
    "                reg_dict_conf[\"regularization\"] = {\n",
    "                    \"method\": method,\n",
    "                    \"value\": val\n",
    "                }\n",
    "        \n",
    "                configurations.append(reg_dict_conf)\n",
    "            \n",
    "        \n",
    "    return configurations\n",
    "\n",
    "\n",
    "def get_callbacks(config):\n",
    "    early_stopping = config[\"early_stopping\"]\n",
    "    callbacks = []\n",
    "    \n",
    "    if early_stopping != None:        \n",
    "        early_stop = EarlyStopping(\n",
    "            monitor=early_stopping[\"monitor\"],\n",
    "            min_delta=early_stopping[\"delta\"],\n",
    "            patience=early_stopping[\"patience\"], \n",
    "            verbose=False,\n",
    "            mode=\"min\"\n",
    "        )\n",
    "        \n",
    "        callbacks.append(early_stop)\n",
    "        \n",
    "    return callbacks if callbacks != [] else None\n",
    "        \n",
    "\n",
    "\n",
    "def get_layers_configurations(params, configurations):\n",
    "    layers = params[\"layers\"]\n",
    "    layers_params_confs = []\n",
    "    \n",
    "    for n_layer in range(len(layers)):\n",
    "        layers_params_confs.append([]) \n",
    "    \n",
    "    for i in range(len(layers)):\n",
    "        layer = layers[i]\n",
    "        activations = layer[\"activations\"]\n",
    "        units = layer[\"units\"]\n",
    "        layer_confs = list(itertools.product(activations, units))\n",
    "        for conf in layer_confs:\n",
    "            conf_dict = {\n",
    "                f\"activations_{i+1}\": conf[0],\n",
    "                f\"units_{i+1}\": conf[1]\n",
    "            }\n",
    "            layers_params_confs[i].append(conf_dict)\n",
    "        \n",
    "    layers_confs = []\n",
    "    for i in range(len(layers_params_confs)):\n",
    "        confs = layers_params_confs[:i+1]\n",
    "        confs = tuple(confs)\n",
    "        confs = list(itertools.product(*confs))\n",
    "        for conf in confs:\n",
    "            layers_confs.append(merge_dicts(conf))\n",
    "                \n",
    "    return layers_confs\n",
    "\n",
    "\n",
    "\n",
    "def get_configurations(params):\n",
    "    \n",
    "    configurations = get_params_configurations(params)\n",
    "    layers_confs = get_layers_configurations(params, configurations)\n",
    "    configurations = list(itertools.product(configurations, layers_confs))\n",
    "    configurations_merged = []\n",
    "    \n",
    "    for conf in configurations:\n",
    "        configurations_merged.append(merge_dicts(conf))\n",
    "        \n",
    "    \n",
    "    return configurations_merged\n",
    "\n",
    "\n",
    "def get_model(config, input_size, output_size):\n",
    "    model = MultiLayerPerceptron(input_size, output_size, config)\n",
    "    return model\n",
    "    \n",
    "    \n",
    "    \n",
    "def fit(model, x_train, y_train, x_val, y_val, max_epochs, batch_size, metric, config):  \n",
    "    \n",
    "    if batch_size is None:\n",
    "        batch_size_train = x_train.shape[0]\n",
    "        batch_size_val = x_val.shape[0]\n",
    "    else:\n",
    "        batch_size_train = batch_size\n",
    "        batch_size_val = batch_size\n",
    "        \n",
    "    \n",
    "    \n",
    "    train_loader = DataLoader(dataset = CustomDataset(x_train, y_train), batch_size=batch_size_train)\n",
    "    validation_loader = DataLoader(dataset = CustomDataset(x_val, y_val), batch_size=batch_size_val)\n",
    "    \n",
    "    callbacks = get_callbacks(config)\n",
    "        \n",
    "    trainer = pl.Trainer(accelerator='cpu', devices=1, max_epochs=max_epochs,\n",
    "                         log_every_n_steps=1, logger=CSVLogger(save_dir=\"logs/\"),\n",
    "                         callbacks=callbacks, enable_progress_bar=False,\n",
    "                         enable_model_summary=False\n",
    "                        )  \n",
    "    \n",
    "    \n",
    "    trainer.fit(model=model, train_dataloaders=train_loader,\n",
    "                val_dataloaders=validation_loader) \n",
    "    \n",
    "    metrics = pd.read_csv(f\"{trainer.logger.log_dir}/metrics.csv\")\n",
    "    \n",
    "\n",
    "    history = History()\n",
    "                \n",
    "    history.history[\"loss\"] = metrics[\"loss\"].dropna().to_list()\n",
    "    history.history[\"val_loss\"] = metrics[\"val_loss\"].dropna().to_list()\n",
    "    history.history[f\"{metric}\"] = metrics[f\"{metric}\"].dropna().to_list()\n",
    "    history.history[f\"val_{metric}\"] = metrics[f\"val_{metric}\"].dropna().to_list()\n",
    "    \n",
    "    \n",
    "    return history\n",
    "    \n",
    "    \n",
    "def fit_model_k_fold(x_train, y_train, config, n_folds):\n",
    "    \n",
    "    task = config[\"task\"]\n",
    "    \n",
    "    if task == \"classification\":\n",
    "        train_metric = \"accuracy\"\n",
    "        val_metric = \"val_accuracy\"\n",
    "    elif task == \"regression\":\n",
    "        train_metric = \"mee\"\n",
    "        val_metric = \"val_mee\"\n",
    "    \n",
    "    trials = config[\"trials_train\"]\n",
    "    max_epochs = config[\"max_epochs\"]\n",
    "    batch_size = config[\"batch_size\"]\n",
    "    \n",
    "    kf = KFold(n_splits = n_folds, shuffle=True)\n",
    "\n",
    "    train_losses = []\n",
    "    val_losses = []\n",
    "    train_accs = []\n",
    "    val_accs = []\n",
    "\n",
    "    fold = 1\n",
    "    for train_index, val_index in kf.split(x_train, y_train):\n",
    "        \n",
    "        print(f\"\\nExecuting fold {fold}/{n_folds}\")\n",
    "        \n",
    "        input_size = get_attributes_num(x_train)\n",
    "        output_size = get_attributes_num(y_train)\n",
    "        \n",
    "                \n",
    "        x_train_fold = x_train[train_index]\n",
    "        y_train_fold = y_train[train_index]\n",
    "\n",
    "        x_val_fold = x_train[val_index]\n",
    "        y_val_fold = y_train[val_index]\n",
    "        \n",
    "        # print(y_val_fold.shape)\n",
    "        # print(y_val_fold)\n",
    "\n",
    "        \n",
    "        trials_val_loss = []\n",
    "        trials_train_loss = []\n",
    "        trials_val_acc = []\n",
    "        trials_train_acc = []\n",
    "        \n",
    "        with tqdm(total=trials) as pbar:\n",
    "            for trial in range(trials):\n",
    "                \n",
    "                \n",
    "                \n",
    "                model = get_model(config, input_size, output_size)\n",
    "                history = fit(model, x_train_fold, y_train_fold, x_val_fold, y_val_fold, \n",
    "                              max_epochs, batch_size, train_metric, config)\n",
    "                \n",
    "                trial_train_loss = history.history[\"loss\"]\n",
    "                trial_val_loss = history.history[\"val_loss\"]         \n",
    "                trial_train_acc = history.history[train_metric]\n",
    "                trial_val_acc = history.history[val_metric]\n",
    "\n",
    "                trials_val_loss.append(trial_val_loss[-1])\n",
    "                trials_train_loss.append(trial_train_loss[-1])\n",
    "                trials_val_acc.append(trial_val_acc[-1])\n",
    "                trials_train_acc.append(trial_train_acc[-1])\n",
    "\n",
    "                pbar.update(1)\n",
    "            \n",
    "        # get the median metrics among the trials\n",
    "        med_idx = median_index(trials_val_loss)\n",
    "        med_val_loss = trials_val_loss[med_idx]\n",
    "        med_train_loss = trials_train_loss[med_idx]\n",
    "        med_val_acc = trials_val_acc[med_idx]\n",
    "        med_train_acc = trials_train_acc[med_idx]\n",
    "        std_val_loss = np.std(trials_val_loss)\n",
    "        std_train_loss = np.std(trials_train_loss)\n",
    "        std_val_acc = np.std(trials_val_acc)\n",
    "        std_train_acc = np.std(trials_train_acc)\n",
    "\n",
    "        print(f\"Fold {fold}/{n_folds} median val_loss: {med_val_loss}, std val_loss {std_val_loss}\")\n",
    "        print(f\"Fold {fold}/{n_folds} median train_loss: {med_train_loss}, std train_loss {std_train_loss}\")\n",
    "        print(f\"Fold {fold}/{n_folds} median {val_metric}: {med_val_acc}, std {val_metric} {std_val_acc}\")\n",
    "        print(f\"Fold {fold}/{n_folds} median train_{train_metric}: {med_train_acc}, train_{train_metric} {std_train_acc}\")\n",
    "            \n",
    "        train_losses.append(med_train_loss)\n",
    "        val_losses.append(med_val_loss)\n",
    "        val_accs.append(med_val_acc)\n",
    "        train_accs.append(med_train_acc)\n",
    "        \n",
    "        fold += 1\n",
    "        \n",
    "    mean_train_loss = np.mean(train_losses)\n",
    "    mean_val_loss = np.mean(val_losses)\n",
    "    mean_train_acc = np.mean(train_accs)\n",
    "    mean_val_acc = np.mean(val_accs)\n",
    "    std_train_loss = np.std(train_losses)\n",
    "    std_val_loss = np.std(val_losses)\n",
    "    std_train_acc = np.std(train_accs)\n",
    "    std_val_acc = np.std(val_accs)\n",
    "    \n",
    "    print(f\"\\nMean val_loss: {mean_val_loss}, std val_loss: {std_val_loss}\")\n",
    "    print(f\"Mean train_loss: {mean_train_loss}, std train_loss: {std_train_loss}\")\n",
    "    print(f\"Mean {val_metric}: {mean_val_acc}, std {val_metric}: {std_val_acc}\")\n",
    "    print(f\"Mean train_{train_metric}: {mean_val_acc}, std train_{train_metric}: {std_train_acc}\")\n",
    "    \n",
    "    return mean_val_loss\n",
    "\n",
    "\n",
    "\n",
    "\n",
    "def fit_model_hold_out(x_train, y_train, config, val_split):\n",
    "    \n",
    "    task = config[\"task\"]\n",
    "    \n",
    "    if task == \"classification\":\n",
    "        train_metric = \"accuracy\"\n",
    "        val_metric = \"val_accuracy\"\n",
    "    elif task == \"regression\":\n",
    "        train_metric = \"mee\"\n",
    "        val_metric = \"val_mee\"\n",
    "        \n",
    "    trials = config[\"trials_train\"]\n",
    "    input_size = get_attributes_num(x_train)\n",
    "    output_size = get_attributes_num(y_train)\n",
    "    \n",
    "    \n",
    "    max_epochs = config[\"max_epochs\"]\n",
    "    batch_size = config[\"batch_size\"]\n",
    "    \n",
    "    if task == \"classification\":\n",
    "        stratify = y_train\n",
    "    else:\n",
    "        stratify = None\n",
    "        \n",
    "        \n",
    "    x_train, x_val, y_train, y_val = train_test_split(x_train, y_train, test_size=val_split, shuffle=True, stratify=stratify)\n",
    "\n",
    "    \n",
    "    trials_val_loss = []\n",
    "    trials_train_loss = []\n",
    "    trials_val_acc = []\n",
    "    trials_train_acc = []\n",
    "        \n",
    "    with tqdm(total=trials) as pbar:\n",
    "        for trial in range(trials):            \n",
    "            model = get_model(config, input_size, output_size)\n",
    "            history = fit(model, x_train, y_train, x_val, y_val, max_epochs, batch_size, train_metric, config)  \n",
    "\n",
    "            trial_train_loss = history.history[\"loss\"]\n",
    "            trial_val_loss = history.history[\"val_loss\"]         \n",
    "            trial_train_acc = history.history[train_metric]\n",
    "            trial_val_acc = history.history[val_metric]\n",
    "                                    \n",
    "            trials_val_loss.append(trial_val_loss[-1])\n",
    "            trials_train_loss.append(trial_train_loss[-1])\n",
    "            trials_val_acc.append(trial_val_acc[-1])\n",
    "            trials_train_acc.append(trial_train_acc[-1])\n",
    "            \n",
    "            pbar.update(1)\n",
    "    \n",
    "    # get the median metrics among the trials\n",
    "    med_idx = median_index(trials_val_loss)\n",
    "    med_val_loss = trials_val_loss[med_idx]\n",
    "    med_train_loss = trials_train_loss[med_idx]\n",
    "    med_val_acc = trials_val_acc[med_idx]\n",
    "    med_train_acc = trials_train_acc[med_idx]\n",
    "    std_val_loss = np.std(trials_val_loss)\n",
    "    std_train_loss = np.std(trials_train_loss)\n",
    "    std_val_acc = np.std(trials_val_acc)\n",
    "    std_train_acc = np.std(trials_train_acc)\n",
    "\n",
    "    print(f\"\\nMedian val_loss: {med_val_loss}, std val_loss {std_val_loss}\")\n",
    "    print(f\"Median train_loss: {med_train_loss}, std train_loss {std_train_loss}\")\n",
    "    print(f\"Median {val_metric}: {med_val_acc}, std {val_metric} {std_val_acc}\")\n",
    "    print(f\"Median train_{train_metric}: {med_train_acc}, train_{train_metric} {std_train_acc}\")\n",
    "    \n",
    "    \n",
    "    return med_val_loss\n",
    "    \n",
    "    \n",
    "\n",
    "def fit_final_model(x_train, y_train, config):\n",
    "    global y_scaler\n",
    "    \n",
    "    task = config[\"task\"]\n",
    "    trails = config[\"trials_final\"]\n",
    "    \n",
    "    if task == \"classification\":\n",
    "        train_metric = \"accuracy\"\n",
    "        val_metric = \"val_accuracy\"\n",
    "    elif task == \"regression\":\n",
    "        train_metric = \"mee\"\n",
    "        val_metric = \"val_mee\"\n",
    "    val_loss = \"val_mse\"\n",
    "    train_loss = \"mse\"\n",
    "\n",
    "    max_epochs = config[\"max_epochs\"]\n",
    "    batch_size = config[\"batch_size\"]\n",
    "    trials = config[\"trials_final\"]\n",
    "    \n",
    "    '''if config[\"early_stopping\"][\"monitor\"] == \"val_loss\":\n",
    "        config[\"early_stopping\"][\"monitor\"] = \"loss\"'''\n",
    "        \n",
    "    \n",
    "    input_size = get_attributes_num(x_train)\n",
    "    output_size = get_attributes_num(y_train)\n",
    "    \n",
    "    \n",
    "    trials_val_loss = []\n",
    "    trials_train_loss = []\n",
    "    trials_val_acc = []\n",
    "    trials_train_acc = []\n",
    "    \n",
    "    trials_history_val_loss = []\n",
    "    trials_history_train_loss = []\n",
    "    trials_history_val_acc = []\n",
    "    trials_history_train_acc = [] \n",
    "    \n",
    "    models = []\n",
    "    \n",
    "    if task == \"classification\":\n",
    "        stratify = y_train\n",
    "    else:\n",
    "        stratify = None\n",
    "    \n",
    "    x_train, x_val, y_train, y_val = train_test_split(x_train, y_train, test_size=0.1, shuffle=True, stratify=stratify)\n",
    "    \n",
    "    with tqdm(total=trials) as pbar:\n",
    "        for trial in range(trials):\n",
    "            \n",
    "            model = get_model(config, input_size, output_size)\n",
    "            history = fit(model, x_train, y_train, x_val, y_val, max_epochs, batch_size, train_metric, config)\n",
    "\n",
    "            models.append(model)\n",
    "\n",
    "            trial_train_loss = history.history[\"loss\"]\n",
    "            trial_val_loss = history.history[\"val_loss\"]\n",
    "            trial_train_acc = history.history[train_metric]\n",
    "            trial_val_acc = history.history[val_metric]\n",
    "            \n",
    "            trials_val_loss.append(trial_val_loss[-1])\n",
    "            trials_train_loss.append(trial_train_loss[-1])\n",
    "            trials_val_acc.append(trial_val_acc[-1])\n",
    "            trials_train_acc.append(trial_train_acc[-1])\n",
    "            \n",
    "\n",
    "            trials_history_val_loss.append(trial_val_loss)\n",
    "            trials_history_train_loss.append(trial_train_loss)\n",
    "            trials_history_val_acc.append(trial_val_acc)\n",
    "            trials_history_train_acc.append(trial_train_acc)\n",
    "            \n",
    "\n",
    "            print(f\"Trial {trial+1}/{trials} {val_loss}: {trial_val_loss[-1]}\")\n",
    "            print(f\"Trial {trial+1}/{trials} train_{train_loss}: {trial_train_loss[-1]}\")\n",
    "            print(f\"Trial {trial+1}/{trials} {val_metric}: {trial_val_acc[-1]}\")\n",
    "            print(f\"Trial {trial+1}/{trials} train_{train_metric}: {trial_train_acc[-1]}\")\n",
    "\n",
    "            pbar.update(1)\n",
    "        \n",
    "    # get the mean metrics among the trials\n",
    "    med_idx = median_index(trials_val_loss)\n",
    "    med_val_loss = trials_val_loss[med_idx]\n",
    "    med_train_loss = trials_train_loss[med_idx]\n",
    "    med_val_acc = trials_val_acc[med_idx]\n",
    "    med_train_acc = trials_train_acc[med_idx]\n",
    "    std_val_loss = np.std(trials_val_loss)\n",
    "    std_train_loss = np.std(trials_train_loss)\n",
    "    std_val_acc = np.std(trials_val_acc)\n",
    "    std_train_acc = np.std(trials_train_acc)\n",
    "    \n",
    "    print(f\"\\nMedian {val_loss}: {med_val_loss}, std {val_loss}: {std_val_loss}\")\n",
    "    print(f\"Median train_{train_loss}: {med_train_loss}, std train_{train_loss}: {std_train_loss}\")\n",
    "    print(f\"Median {val_metric}: {med_val_acc}, std {val_metric}: {std_val_acc}\")\n",
    "    print(f\"Median train_{train_metric}: {med_train_acc}, std train_{train_metric}: {std_train_acc}\")\n",
    "        \n",
    "    \n",
    "        \n",
    "    train_acc = trials_history_train_acc[med_idx]\n",
    "    val_acc = trials_history_val_acc[med_idx]\n",
    "    \n",
    "    train_loss = trials_history_train_loss[med_idx]\n",
    "    val_loss = trials_history_val_loss[med_idx]\n",
    "    \n",
    "    \n",
    "    print(f\"\\nMedian model train_loss: {train_loss[-1]}\")\n",
    "    print(f\"Median model val_loss: {val_loss[-1]}\")\n",
    "    \n",
    "    print(f\"\\nMedian model train_{train_metric}: {train_acc[-1]}\")\n",
    "    print(f\"Median model {val_metric}: {val_acc[-1]}\")\n",
    "    \n",
    "    \n",
    "    plot_curves(train_acc, f\"Training {train_metric}\", val_acc, f\"Validation {val_metric}\")\n",
    "    \n",
    "    plot_curves(train_loss, \"Train loss\", val_loss, \"Validation loss\")\n",
    "    \n",
    "    med_model = models[med_idx]\n",
    "\n",
    "    \n",
    "    return med_model\n",
    "\n",
    "    \n",
    "def fit_model(x_train, y_train, config, validation):\n",
    "    if validation[\"type\"] == \"k-fold\":\n",
    "        val_loss = fit_model_k_fold(x_train, y_train, config, validation[\"n_folds\"])\n",
    "    elif validation[\"type\"] == \"hold-out\":\n",
    "        val_loss = fit_model_hold_out(x_train, y_train, config, validation[\"val_split\"])\n",
    "    return val_loss\n",
    "\n",
    "\n",
    "\n",
    "def test_model(model, x_test, y_test):\n",
    "    \n",
    "    y_pred = model(torch.from_numpy(x_test).to(torch.float32))\n",
    "    y_test = torch.from_numpy(y_test).to(torch.float32)\n",
    "    \n",
    "    acc = model.compute_metric(y_pred, y_test)\n",
    "    loss = model.compute_loss(y_pred, y_test)\n",
    "    \n",
    "    print(f\"Test MSE: {loss}\")\n",
    "    print(f\"Test accuracy: {acc}\")\n",
    "\n",
    "\n",
    "    \n",
    "def model_selection(configurations, x_train, y_train, validation):\n",
    "        \n",
    "    best_loss = float(\"inf\")\n",
    "    best_conf = None\n",
    "    \n",
    "    idx = 1\n",
    "    n_confs = len(configurations)\n",
    "    for config in configurations:\n",
    "        \n",
    "        print(f\"Testing configuration {idx}/{n_confs}:\\n{config}\")\n",
    "        val_loss = fit_model(x_train, y_train, config, validation)\n",
    "\n",
    "        if val_loss < best_loss:\n",
    "            best_loss = val_loss;\n",
    "            best_conf = config\n",
    "        idx += 1\n",
    "        \n",
    "        print(\"\\n\\n\")\n",
    "\n",
    "            \n",
    "    print(\"\\n\\n\")\n",
    "    print(f\"Best configuration (loss {best_loss}):\\n{best_conf}\")\n",
    "    \n",
    "    return best_conf\n",
    "    \n",
    "\n",
    "def grid_search(params, x_train, y_train, validation={\"type\": \"hold-out\", \"val_split\": 0.2}):\n",
    "    set_random_seeds()\n",
    "    configurations = get_configurations(params)    \n",
    "    best_conf = model_selection(configurations, x_train, y_train, validation)\n",
    "    model = fit_final_model(x_train, y_train, best_conf)\n",
    "    \n",
    "    return model"
   ]
  },
  {
   "cell_type": "markdown",
   "id": "1efeb266",
   "metadata": {},
   "source": [
    "# Monk 1"
   ]
  },
  {
   "cell_type": "code",
   "execution_count": 6,
   "id": "f0e9f138",
   "metadata": {
    "scrolled": true
   },
   "outputs": [
    {
     "name": "stdout",
     "output_type": "stream",
     "text": [
      "Loaded ./../data/monks-1 dataset\n",
      "(124, 17) (124,)\n",
      "(432, 17) (432,)\n"
     ]
    }
   ],
   "source": [
    "x_train, y_train, x_test, y_test = load_dataset(\"monks1\", True)\n",
    "print(x_train.shape, y_train.shape)\n",
    "print(x_test.shape, y_test.shape)"
   ]
  },
  {
   "cell_type": "code",
   "execution_count": 7,
   "id": "46daf564",
   "metadata": {
    "scrolled": true
   },
   "outputs": [],
   "source": [
    "params = {\n",
    "    \"task\": \"classification\",\n",
    "    \"trials_train\": 1,\n",
    "    \"trials_final\": 5,\n",
    "    \"initialization\": {\n",
    "        \"type\": \"default\",\n",
    "        \"min\": -0.5,\n",
    "        \"max\": 0.5,\n",
    "    },\n",
    "    \"early_stopping\": {\n",
    "        \"monitor\": \"val_loss\",\n",
    "        \"patience\": 20,\n",
    "        \"delta\": 0.0\n",
    "    },\n",
    "    \"max_epochs\": [500],\n",
    "    \"learning_rate\": [0.1, 0.2, 0.3],# np.linspace(0.1, 0.4, 4).tolist(),\n",
    "    \"batch_size\": [None],\n",
    "    \"momentum\": [0.7, 0.8, 0.9],#np.linspace(0.5, 0.9, 4).tolist(),\n",
    "    \"nesterov\": False,\n",
    "    \"learning_rate_decay\": None,\n",
    "    \"regularization\": [\n",
    "        {\n",
    "            \"type\": None\n",
    "        }\n",
    "    ],\n",
    "    \"layers\": [\n",
    "        {\n",
    "            \"activations\": [\"relu\"],\n",
    "            \"units\": [8],\n",
    "        },\n",
    "    ]\n",
    "}\n",
    "\n",
    "\n",
    "k_fold_val = {\n",
    "    \"type\": \"k-fold\",\n",
    "    \"n_folds\": 4\n",
    "}\n",
    "\n",
    "hold_out_val = {\n",
    "    \"type\": \"hold-out\",\n",
    "    \"val_split\": 0.15\n",
    "}"
   ]
  },
  {
   "cell_type": "code",
   "execution_count": 8,
   "id": "26333fbf",
   "metadata": {},
   "outputs": [
    {
     "name": "stdout",
     "output_type": "stream",
     "text": [
      "Testing configuration 1/9:\n",
      "{'batch_size': None, 'learning_rate': 0.1, 'max_epochs': 500, 'momentum': 0.7, 'initialization': {'type': 'default', 'min': -0.5, 'max': 0.5}, 'early_stopping': {'monitor': 'val_loss', 'patience': 20, 'delta': 0.0}, 'task': 'classification', 'trials_train': 1, 'trials_final': 5, 'nesterov': False, 'learning_rate_decay': None, 'regularization': {'method': None}, 'activations_1': 'relu', 'units_1': 8}\n",
      "\n",
      "Executing fold 1/4\n"
     ]
    },
    {
     "name": "stderr",
     "output_type": "stream",
     "text": [
      "100%|█████████████████████████████████████████████| 1/1 [00:16<00:00, 16.03s/it]\n"
     ]
    },
    {
     "name": "stdout",
     "output_type": "stream",
     "text": [
      "Fold 1/4 median val_loss: 0.131610331050605, std val_loss 0.0\n",
      "Fold 1/4 median train_loss: 0.0897656381130218, std train_loss 0.0\n",
      "Fold 1/4 median val_accuracy: 0.8064516186714172, std val_accuracy 0.0\n",
      "Fold 1/4 median train_accuracy: 0.8602150678634644, train_accuracy 0.0\n",
      "\n",
      "Executing fold 2/4\n"
     ]
    },
    {
     "name": "stderr",
     "output_type": "stream",
     "text": [
      "100%|█████████████████████████████████████████████| 1/1 [00:13<00:00, 13.76s/it]\n"
     ]
    },
    {
     "name": "stdout",
     "output_type": "stream",
     "text": [
      "Fold 2/4 median val_loss: 0.0474449397016912, std val_loss 0.0\n",
      "Fold 2/4 median train_loss: 0.0265802461653947, std train_loss 0.0\n",
      "Fold 2/4 median val_accuracy: 1.0, std val_accuracy 0.0\n",
      "Fold 2/4 median train_accuracy: 1.0, train_accuracy 0.0\n",
      "\n",
      "Executing fold 3/4\n"
     ]
    },
    {
     "name": "stderr",
     "output_type": "stream",
     "text": [
      "100%|█████████████████████████████████████████████| 1/1 [00:10<00:00, 10.93s/it]\n"
     ]
    },
    {
     "name": "stdout",
     "output_type": "stream",
     "text": [
      "Fold 3/4 median val_loss: 0.0526088369357846, std val_loss 0.0\n",
      "Fold 3/4 median train_loss: 0.0300012249499559, std train_loss 0.0\n",
      "Fold 3/4 median val_accuracy: 0.9354838728904724, std val_accuracy 0.0\n",
      "Fold 3/4 median train_accuracy: 0.9892473220825196, train_accuracy 0.0\n",
      "\n",
      "Executing fold 4/4\n"
     ]
    },
    {
     "name": "stderr",
     "output_type": "stream",
     "text": [
      "100%|█████████████████████████████████████████████| 1/1 [00:11<00:00, 11.96s/it]\n"
     ]
    },
    {
     "name": "stdout",
     "output_type": "stream",
     "text": [
      "Fold 4/4 median val_loss: 0.0561142290186092, std val_loss 0.0\n",
      "Fold 4/4 median train_loss: 0.0276991426944732, std train_loss 0.0\n",
      "Fold 4/4 median val_accuracy: 0.9677419066429138, std val_accuracy 0.0\n",
      "Fold 4/4 median train_accuracy: 1.0, train_accuracy 0.0\n",
      "\n",
      "Mean val_loss: 0.0719445841766725, std val_loss: 0.03458578174343683\n",
      "Mean train_loss: 0.043511562980711405, std train_loss: 0.026733269648791358\n",
      "Mean val_accuracy: 0.9274193495512009, std val_accuracy: 0.07347123226283643\n",
      "Mean train_accuracy: 0.9274193495512009, std train_accuracy: 0.05913978002288138\n",
      "\n",
      "\n",
      "\n",
      "Testing configuration 2/9:\n",
      "{'batch_size': None, 'learning_rate': 0.1, 'max_epochs': 500, 'momentum': 0.8, 'initialization': {'type': 'default', 'min': -0.5, 'max': 0.5}, 'early_stopping': {'monitor': 'val_loss', 'patience': 20, 'delta': 0.0}, 'task': 'classification', 'trials_train': 1, 'trials_final': 5, 'nesterov': False, 'learning_rate_decay': None, 'regularization': {'method': None}, 'activations_1': 'relu', 'units_1': 8}\n",
      "\n",
      "Executing fold 1/4\n"
     ]
    },
    {
     "name": "stderr",
     "output_type": "stream",
     "text": [
      "100%|█████████████████████████████████████████████| 1/1 [00:00<00:00,  2.23it/s]\n"
     ]
    },
    {
     "name": "stdout",
     "output_type": "stream",
     "text": [
      "Fold 1/4 median val_loss: 0.244623750760536, std val_loss 0.0\n",
      "Fold 1/4 median train_loss: 0.2405662685632705, std train_loss 0.0\n",
      "Fold 1/4 median val_accuracy: 0.5161290168762207, std val_accuracy 0.0\n",
      "Fold 1/4 median train_accuracy: 0.6666666865348816, train_accuracy 0.0\n",
      "\n",
      "Executing fold 2/4\n"
     ]
    },
    {
     "name": "stderr",
     "output_type": "stream",
     "text": [
      "100%|█████████████████████████████████████████████| 1/1 [00:12<00:00, 12.51s/it]\n"
     ]
    },
    {
     "name": "stdout",
     "output_type": "stream",
     "text": [
      "Fold 2/4 median val_loss: 0.0221354141539304, std val_loss 0.0\n",
      "Fold 2/4 median train_loss: 0.020753052085638, std train_loss 0.0\n",
      "Fold 2/4 median val_accuracy: 1.0, std val_accuracy 0.0\n",
      "Fold 2/4 median train_accuracy: 1.0, train_accuracy 0.0\n",
      "\n",
      "Executing fold 3/4\n"
     ]
    },
    {
     "name": "stderr",
     "output_type": "stream",
     "text": [
      "100%|█████████████████████████████████████████████| 1/1 [00:10<00:00, 10.50s/it]\n"
     ]
    },
    {
     "name": "stdout",
     "output_type": "stream",
     "text": [
      "Fold 3/4 median val_loss: 0.1004976295880961, std val_loss 0.0\n",
      "Fold 3/4 median train_loss: 0.0480424091219902, std train_loss 0.0\n",
      "Fold 3/4 median val_accuracy: 0.9354838728904724, std val_accuracy 0.0\n",
      "Fold 3/4 median train_accuracy: 0.9677419066429138, train_accuracy 0.0\n",
      "\n",
      "Executing fold 4/4\n"
     ]
    },
    {
     "name": "stderr",
     "output_type": "stream",
     "text": [
      "100%|█████████████████████████████████████████████| 1/1 [00:01<00:00,  1.85s/it]\n"
     ]
    },
    {
     "name": "stdout",
     "output_type": "stream",
     "text": [
      "Fold 4/4 median val_loss: 0.2192872314336825, std val_loss 0.0\n",
      "Fold 4/4 median train_loss: 0.1210627481341362, std train_loss 0.0\n",
      "Fold 4/4 median val_accuracy: 0.774193525314331, std val_accuracy 0.0\n",
      "Fold 4/4 median train_accuracy: 0.8924731016159058, train_accuracy 0.0\n",
      "\n",
      "Mean val_loss: 0.14663600648406125, std val_loss: 0.09015118666470764\n",
      "Mean train_loss: 0.10760611947625873, std train_loss: 0.08507463342031411\n",
      "Mean val_accuracy: 0.806451603770256, std val_accuracy: 0.18670705412753638\n",
      "Mean train_accuracy: 0.806451603770256, std train_accuracy: 0.1301474967569993\n",
      "\n",
      "\n",
      "\n",
      "Testing configuration 3/9:\n",
      "{'batch_size': None, 'learning_rate': 0.1, 'max_epochs': 500, 'momentum': 0.9, 'initialization': {'type': 'default', 'min': -0.5, 'max': 0.5}, 'early_stopping': {'monitor': 'val_loss', 'patience': 20, 'delta': 0.0}, 'task': 'classification', 'trials_train': 1, 'trials_final': 5, 'nesterov': False, 'learning_rate_decay': None, 'regularization': {'method': None}, 'activations_1': 'relu', 'units_1': 8}\n",
      "\n",
      "Executing fold 1/4\n"
     ]
    },
    {
     "name": "stderr",
     "output_type": "stream",
     "text": [
      "100%|█████████████████████████████████████████████| 1/1 [00:01<00:00,  1.82s/it]\n"
     ]
    },
    {
     "name": "stdout",
     "output_type": "stream",
     "text": [
      "Fold 1/4 median val_loss: 0.1418210835919737, std val_loss 0.0\n",
      "Fold 1/4 median train_loss: 0.0890739187598228, std train_loss 0.0\n",
      "Fold 1/4 median val_accuracy: 0.8709677457809448, std val_accuracy 0.0\n",
      "Fold 1/4 median train_accuracy: 0.9032257795333862, train_accuracy 0.0\n",
      "\n",
      "Executing fold 2/4\n"
     ]
    },
    {
     "name": "stderr",
     "output_type": "stream",
     "text": [
      "100%|█████████████████████████████████████████████| 1/1 [00:01<00:00,  1.21s/it]\n"
     ]
    },
    {
     "name": "stdout",
     "output_type": "stream",
     "text": [
      "Fold 2/4 median val_loss: 0.1943630969064564, std val_loss 0.0\n",
      "Fold 2/4 median train_loss: 0.1211878433823585, std train_loss 0.0\n",
      "Fold 2/4 median val_accuracy: 0.6774193644523621, std val_accuracy 0.0\n",
      "Fold 2/4 median train_accuracy: 0.8279569745063782, train_accuracy 0.0\n",
      "\n",
      "Executing fold 3/4\n"
     ]
    },
    {
     "name": "stderr",
     "output_type": "stream",
     "text": [
      "100%|█████████████████████████████████████████████| 1/1 [00:10<00:00, 10.77s/it]\n"
     ]
    },
    {
     "name": "stdout",
     "output_type": "stream",
     "text": [
      "Fold 3/4 median val_loss: 0.0541333990094384, std val_loss 0.0\n",
      "Fold 3/4 median train_loss: 0.0764588490128517, std train_loss 0.0\n",
      "Fold 3/4 median val_accuracy: 0.9354838728904724, std val_accuracy 0.0\n",
      "Fold 3/4 median train_accuracy: 0.924731194972992, train_accuracy 0.0\n",
      "\n",
      "Executing fold 4/4\n"
     ]
    },
    {
     "name": "stderr",
     "output_type": "stream",
     "text": [
      "100%|█████████████████████████████████████████████| 1/1 [00:00<00:00,  2.71it/s]\n"
     ]
    },
    {
     "name": "stdout",
     "output_type": "stream",
     "text": [
      "Fold 4/4 median val_loss: 0.2550999499873236, std val_loss 0.0\n",
      "Fold 4/4 median train_loss: 0.214861124753952, std train_loss 0.0\n",
      "Fold 4/4 median val_accuracy: 0.5483871102333069, std val_accuracy 0.0\n",
      "Fold 4/4 median train_accuracy: 0.6881720423698425, train_accuracy 0.0\n",
      "\n",
      "Mean val_loss: 0.16135438237379804, std val_loss: 0.07374906053164497\n",
      "Mean train_loss: 0.12539543397724626, std train_loss: 0.05416607670035335\n",
      "Mean val_accuracy: 0.7580645233392715, std val_accuracy: 0.15386115693344227\n",
      "Mean train_accuracy: 0.7580645233392715, std train_accuracy: 0.09261523074361445\n",
      "\n",
      "\n",
      "\n",
      "Testing configuration 4/9:\n",
      "{'batch_size': None, 'learning_rate': 0.2, 'max_epochs': 500, 'momentum': 0.7, 'initialization': {'type': 'default', 'min': -0.5, 'max': 0.5}, 'early_stopping': {'monitor': 'val_loss', 'patience': 20, 'delta': 0.0}, 'task': 'classification', 'trials_train': 1, 'trials_final': 5, 'nesterov': False, 'learning_rate_decay': None, 'regularization': {'method': None}, 'activations_1': 'relu', 'units_1': 8}\n",
      "\n",
      "Executing fold 1/4\n"
     ]
    },
    {
     "name": "stderr",
     "output_type": "stream",
     "text": [
      "100%|█████████████████████████████████████████████| 1/1 [00:10<00:00, 10.13s/it]\n"
     ]
    },
    {
     "name": "stdout",
     "output_type": "stream",
     "text": [
      "Fold 1/4 median val_loss: 0.0069572912394896, std val_loss 0.0\n",
      "Fold 1/4 median train_loss: 0.0039347866550087, std train_loss 0.0\n",
      "Fold 1/4 median val_accuracy: 1.0, std val_accuracy 0.0\n",
      "Fold 1/4 median train_accuracy: 1.0, train_accuracy 0.0\n",
      "\n",
      "Executing fold 2/4\n"
     ]
    },
    {
     "name": "stderr",
     "output_type": "stream",
     "text": [
      "100%|█████████████████████████████████████████████| 1/1 [00:11<00:00, 11.49s/it]\n"
     ]
    },
    {
     "name": "stdout",
     "output_type": "stream",
     "text": [
      "Fold 2/4 median val_loss: 0.0100068078198516, std val_loss 0.0\n",
      "Fold 2/4 median train_loss: 0.0044109318405389, std train_loss 0.0\n",
      "Fold 2/4 median val_accuracy: 1.0, std val_accuracy 0.0\n",
      "Fold 2/4 median train_accuracy: 1.0, train_accuracy 0.0\n",
      "\n",
      "Executing fold 3/4\n"
     ]
    },
    {
     "name": "stderr",
     "output_type": "stream",
     "text": [
      "100%|█████████████████████████████████████████████| 1/1 [00:09<00:00,  9.56s/it]\n"
     ]
    },
    {
     "name": "stdout",
     "output_type": "stream",
     "text": [
      "Fold 3/4 median val_loss: 0.0255930684418282, std val_loss 0.0\n",
      "Fold 3/4 median train_loss: 0.0031682783737778, std train_loss 0.0\n",
      "Fold 3/4 median val_accuracy: 0.9677419066429138, std val_accuracy 0.0\n",
      "Fold 3/4 median train_accuracy: 1.0, train_accuracy 0.0\n",
      "\n",
      "Executing fold 4/4\n"
     ]
    },
    {
     "name": "stderr",
     "output_type": "stream",
     "text": [
      "100%|█████████████████████████████████████████████| 1/1 [00:00<00:00,  3.10it/s]\n"
     ]
    },
    {
     "name": "stdout",
     "output_type": "stream",
     "text": [
      "Fold 4/4 median val_loss: 0.266432300442106, std val_loss 0.0\n",
      "Fold 4/4 median train_loss: 0.2392862439155578, std train_loss 0.0\n",
      "Fold 4/4 median val_accuracy: 0.3548386991024017, std val_accuracy 0.0\n",
      "Fold 4/4 median train_accuracy: 0.5483871102333069, train_accuracy 0.0\n",
      "\n",
      "Mean val_loss: 0.07724736698581884, std val_loss: 0.10945443475518493\n",
      "Mean train_loss: 0.0627000601962208, std train_loss: 0.10195304456752755\n",
      "Mean val_accuracy: 0.8306451514363289, std val_accuracy: 0.2750224671889644\n",
      "Mean train_accuracy: 0.8306451514363289, std train_accuracy: 0.1955541176072288\n",
      "\n",
      "\n",
      "\n",
      "Testing configuration 5/9:\n",
      "{'batch_size': None, 'learning_rate': 0.2, 'max_epochs': 500, 'momentum': 0.8, 'initialization': {'type': 'default', 'min': -0.5, 'max': 0.5}, 'early_stopping': {'monitor': 'val_loss', 'patience': 20, 'delta': 0.0}, 'task': 'classification', 'trials_train': 1, 'trials_final': 5, 'nesterov': False, 'learning_rate_decay': None, 'regularization': {'method': None}, 'activations_1': 'relu', 'units_1': 8}\n",
      "\n",
      "Executing fold 1/4\n"
     ]
    },
    {
     "name": "stderr",
     "output_type": "stream",
     "text": [
      "100%|█████████████████████████████████████████████| 1/1 [00:01<00:00,  1.87s/it]\n"
     ]
    },
    {
     "name": "stdout",
     "output_type": "stream",
     "text": [
      "Fold 1/4 median val_loss: 0.1402289034008159, std val_loss 0.0\n",
      "Fold 1/4 median train_loss: 0.0948144868016243, std train_loss 0.0\n",
      "Fold 1/4 median val_accuracy: 0.8064516186714172, std val_accuracy 0.0\n",
      "Fold 1/4 median train_accuracy: 0.8709677457809448, train_accuracy 0.0\n",
      "\n",
      "Executing fold 2/4\n"
     ]
    },
    {
     "name": "stderr",
     "output_type": "stream",
     "text": [
      "100%|█████████████████████████████████████████████| 1/1 [00:09<00:00,  9.66s/it]\n"
     ]
    },
    {
     "name": "stdout",
     "output_type": "stream",
     "text": [
      "Fold 2/4 median val_loss: 0.0059995288128602, std val_loss 0.0\n",
      "Fold 2/4 median train_loss: 0.0035016913898289, std train_loss 0.0\n",
      "Fold 2/4 median val_accuracy: 1.0, std val_accuracy 0.0\n",
      "Fold 2/4 median train_accuracy: 1.0, train_accuracy 0.0\n",
      "\n",
      "Executing fold 3/4\n"
     ]
    },
    {
     "name": "stderr",
     "output_type": "stream",
     "text": [
      "100%|█████████████████████████████████████████████| 1/1 [00:10<00:00, 10.23s/it]\n"
     ]
    },
    {
     "name": "stdout",
     "output_type": "stream",
     "text": [
      "Fold 3/4 median val_loss: 0.0142110186991773, std val_loss 0.0\n",
      "Fold 3/4 median train_loss: 0.0031886321958154, std train_loss 0.0\n",
      "Fold 3/4 median val_accuracy: 1.0, std val_accuracy 0.0\n",
      "Fold 3/4 median train_accuracy: 1.0, train_accuracy 0.0\n",
      "\n",
      "Executing fold 4/4\n"
     ]
    },
    {
     "name": "stderr",
     "output_type": "stream",
     "text": [
      "100%|█████████████████████████████████████████████| 1/1 [00:10<00:00, 10.84s/it]\n"
     ]
    },
    {
     "name": "stdout",
     "output_type": "stream",
     "text": [
      "Fold 4/4 median val_loss: 0.0272851501414386, std val_loss 0.0\n",
      "Fold 4/4 median train_loss: 0.0019831177778542, std train_loss 0.0\n",
      "Fold 4/4 median val_accuracy: 0.9354838728904724, std val_accuracy 0.0\n",
      "Fold 4/4 median train_accuracy: 1.0, train_accuracy 0.0\n",
      "\n",
      "Mean val_loss: 0.046931150263572995, std val_loss: 0.054397703778359605\n",
      "Mean train_loss: 0.025871982041280703, std train_loss: 0.03980801132457076\n",
      "Mean val_accuracy: 0.9354838728904724, std val_accuracy: 0.07901579579944178\n",
      "Mean train_accuracy: 0.9354838728904724, std train_accuracy: 0.0558726050306368\n",
      "\n",
      "\n",
      "\n",
      "Testing configuration 6/9:\n",
      "{'batch_size': None, 'learning_rate': 0.2, 'max_epochs': 500, 'momentum': 0.9, 'initialization': {'type': 'default', 'min': -0.5, 'max': 0.5}, 'early_stopping': {'monitor': 'val_loss', 'patience': 20, 'delta': 0.0}, 'task': 'classification', 'trials_train': 1, 'trials_final': 5, 'nesterov': False, 'learning_rate_decay': None, 'regularization': {'method': None}, 'activations_1': 'relu', 'units_1': 8}\n",
      "\n",
      "Executing fold 1/4\n"
     ]
    },
    {
     "name": "stderr",
     "output_type": "stream",
     "text": [
      "100%|█████████████████████████████████████████████| 1/1 [00:00<00:00,  1.09it/s]\n"
     ]
    },
    {
     "name": "stdout",
     "output_type": "stream",
     "text": [
      "Fold 1/4 median val_loss: 0.1991984289170691, std val_loss 0.0\n",
      "Fold 1/4 median train_loss: 0.1018129363656044, std train_loss 0.0\n",
      "Fold 1/4 median val_accuracy: 0.6774193644523621, std val_accuracy 0.0\n",
      "Fold 1/4 median train_accuracy: 0.8924731016159058, train_accuracy 0.0\n",
      "\n",
      "Executing fold 2/4\n"
     ]
    },
    {
     "name": "stderr",
     "output_type": "stream",
     "text": [
      "100%|█████████████████████████████████████████████| 1/1 [00:10<00:00, 10.40s/it]\n"
     ]
    },
    {
     "name": "stdout",
     "output_type": "stream",
     "text": [
      "Fold 2/4 median val_loss: 0.0021736568074006, std val_loss 0.0\n",
      "Fold 2/4 median train_loss: 0.0004880991473328, std train_loss 0.0\n",
      "Fold 2/4 median val_accuracy: 1.0, std val_accuracy 0.0\n",
      "Fold 2/4 median train_accuracy: 1.0, train_accuracy 0.0\n",
      "\n",
      "Executing fold 3/4\n"
     ]
    },
    {
     "name": "stderr",
     "output_type": "stream",
     "text": [
      "100%|█████████████████████████████████████████████| 1/1 [00:00<00:00,  1.32it/s]\n"
     ]
    },
    {
     "name": "stdout",
     "output_type": "stream",
     "text": [
      "Fold 3/4 median val_loss: 0.2546345463024873, std val_loss 0.0\n",
      "Fold 3/4 median train_loss: 0.1263852417469024, std train_loss 0.0\n",
      "Fold 3/4 median val_accuracy: 0.5806451439857483, std val_accuracy 0.0\n",
      "Fold 3/4 median train_accuracy: 0.8279569745063782, train_accuracy 0.0\n",
      "\n",
      "Executing fold 4/4\n"
     ]
    },
    {
     "name": "stderr",
     "output_type": "stream",
     "text": [
      "100%|█████████████████████████████████████████████| 1/1 [00:10<00:00, 10.86s/it]\n"
     ]
    },
    {
     "name": "stdout",
     "output_type": "stream",
     "text": [
      "Fold 4/4 median val_loss: 0.0088931022376953, std val_loss 0.0\n",
      "Fold 4/4 median train_loss: 0.0010721561266109, std train_loss 0.0\n",
      "Fold 4/4 median val_accuracy: 1.0, std val_accuracy 0.0\n",
      "Fold 4/4 median train_accuracy: 1.0, train_accuracy 0.0\n",
      "\n",
      "Mean val_loss: 0.11622493356616306, std val_loss: 0.11243846936790869\n",
      "Mean train_loss: 0.05743960834661263, std train_loss: 0.05732202167208085\n",
      "Mean val_accuracy: 0.8145161271095276, std val_accuracy: 0.18861315786766844\n",
      "Mean train_accuracy: 0.8145161271095276, std train_accuracy: 0.07352040688280763\n",
      "\n",
      "\n",
      "\n",
      "Testing configuration 7/9:\n",
      "{'batch_size': None, 'learning_rate': 0.3, 'max_epochs': 500, 'momentum': 0.7, 'initialization': {'type': 'default', 'min': -0.5, 'max': 0.5}, 'early_stopping': {'monitor': 'val_loss', 'patience': 20, 'delta': 0.0}, 'task': 'classification', 'trials_train': 1, 'trials_final': 5, 'nesterov': False, 'learning_rate_decay': None, 'regularization': {'method': None}, 'activations_1': 'relu', 'units_1': 8}\n",
      "\n",
      "Executing fold 1/4\n"
     ]
    },
    {
     "name": "stderr",
     "output_type": "stream",
     "text": [
      "100%|█████████████████████████████████████████████| 1/1 [00:01<00:00,  1.70s/it]\n"
     ]
    },
    {
     "name": "stdout",
     "output_type": "stream",
     "text": [
      "Fold 1/4 median val_loss: 0.1848399096874481, std val_loss 0.0\n",
      "Fold 1/4 median train_loss: 0.0972040444612503, std train_loss 0.0\n",
      "Fold 1/4 median val_accuracy: 0.774193525314331, std val_accuracy 0.0\n",
      "Fold 1/4 median train_accuracy: 0.8817204236984253, train_accuracy 0.0\n",
      "\n",
      "Executing fold 2/4\n"
     ]
    },
    {
     "name": "stderr",
     "output_type": "stream",
     "text": [
      "100%|█████████████████████████████████████████████| 1/1 [00:10<00:00, 10.48s/it]\n"
     ]
    },
    {
     "name": "stdout",
     "output_type": "stream",
     "text": [
      "Fold 2/4 median val_loss: 0.0031826551625395, std val_loss 0.0\n",
      "Fold 2/4 median train_loss: 0.0024328667204827, std train_loss 0.0\n",
      "Fold 2/4 median val_accuracy: 1.0, std val_accuracy 0.0\n",
      "Fold 2/4 median train_accuracy: 1.0, train_accuracy 0.0\n",
      "\n",
      "Executing fold 3/4\n"
     ]
    },
    {
     "name": "stderr",
     "output_type": "stream",
     "text": [
      "100%|█████████████████████████████████████████████| 1/1 [00:11<00:00, 11.19s/it]\n"
     ]
    },
    {
     "name": "stdout",
     "output_type": "stream",
     "text": [
      "Fold 3/4 median val_loss: 0.0184278460554063, std val_loss 0.0\n",
      "Fold 3/4 median train_loss: 0.0016413003904744, std train_loss 0.0\n",
      "Fold 3/4 median val_accuracy: 1.0, std val_accuracy 0.0\n",
      "Fold 3/4 median train_accuracy: 1.0, train_accuracy 0.0\n",
      "\n",
      "Executing fold 4/4\n"
     ]
    },
    {
     "name": "stderr",
     "output_type": "stream",
     "text": [
      "100%|█████████████████████████████████████████████| 1/1 [00:11<00:00, 11.66s/it]\n"
     ]
    },
    {
     "name": "stdout",
     "output_type": "stream",
     "text": [
      "Fold 4/4 median val_loss: 0.1318762198664159, std val_loss 0.0\n",
      "Fold 4/4 median train_loss: 0.0441833771765232, std train_loss 0.0\n",
      "Fold 4/4 median val_accuracy: 0.8709677457809448, std val_accuracy 0.0\n",
      "Fold 4/4 median train_accuracy: 0.9569892287254332, train_accuracy 0.0\n",
      "\n",
      "Mean val_loss: 0.08458165769295245, std val_loss: 0.07630631872802786\n",
      "Mean train_loss: 0.03636539718718265, std train_loss: 0.03911406823469285\n",
      "Mean val_accuracy: 0.911290317773819, std val_accuracy: 0.09507925083337118\n",
      "Mean train_accuracy: 0.911290317773819, std train_accuracy: 0.048312370466592196\n",
      "\n",
      "\n",
      "\n",
      "Testing configuration 8/9:\n",
      "{'batch_size': None, 'learning_rate': 0.3, 'max_epochs': 500, 'momentum': 0.8, 'initialization': {'type': 'default', 'min': -0.5, 'max': 0.5}, 'early_stopping': {'monitor': 'val_loss', 'patience': 20, 'delta': 0.0}, 'task': 'classification', 'trials_train': 1, 'trials_final': 5, 'nesterov': False, 'learning_rate_decay': None, 'regularization': {'method': None}, 'activations_1': 'relu', 'units_1': 8}\n",
      "\n",
      "Executing fold 1/4\n"
     ]
    },
    {
     "name": "stderr",
     "output_type": "stream",
     "text": [
      "100%|█████████████████████████████████████████████| 1/1 [00:01<00:00,  1.19s/it]\n"
     ]
    },
    {
     "name": "stdout",
     "output_type": "stream",
     "text": [
      "Fold 1/4 median val_loss: 0.15633815767099, std val_loss 0.0\n",
      "Fold 1/4 median train_loss: 0.0841648951172828, std train_loss 0.0\n",
      "Fold 1/4 median val_accuracy: 0.8064516186714172, std val_accuracy 0.0\n",
      "Fold 1/4 median train_accuracy: 0.9139785170555116, train_accuracy 0.0\n",
      "\n",
      "Executing fold 2/4\n"
     ]
    },
    {
     "name": "stderr",
     "output_type": "stream",
     "text": [
      "100%|█████████████████████████████████████████████| 1/1 [00:10<00:00, 10.51s/it]\n"
     ]
    },
    {
     "name": "stdout",
     "output_type": "stream",
     "text": [
      "Fold 2/4 median val_loss: 0.0185271479853959, std val_loss 0.0\n",
      "Fold 2/4 median train_loss: 0.0007162084220908, std train_loss 0.0\n",
      "Fold 2/4 median val_accuracy: 1.0, std val_accuracy 0.0\n",
      "Fold 2/4 median train_accuracy: 1.0, train_accuracy 0.0\n",
      "\n",
      "Executing fold 3/4\n"
     ]
    },
    {
     "name": "stderr",
     "output_type": "stream",
     "text": [
      "100%|█████████████████████████████████████████████| 1/1 [00:01<00:00,  1.32s/it]\n"
     ]
    },
    {
     "name": "stdout",
     "output_type": "stream",
     "text": [
      "Fold 3/4 median val_loss: 0.180769282292295, std val_loss 0.0\n",
      "Fold 3/4 median train_loss: 0.0895042717456817, std train_loss 0.0\n",
      "Fold 3/4 median val_accuracy: 0.8064516186714172, std val_accuracy 0.0\n",
      "Fold 3/4 median train_accuracy: 0.9139785170555116, train_accuracy 0.0\n",
      "\n",
      "Executing fold 4/4\n"
     ]
    },
    {
     "name": "stderr",
     "output_type": "stream",
     "text": [
      "100%|█████████████████████████████████████████████| 1/1 [00:10<00:00, 10.31s/it]\n"
     ]
    },
    {
     "name": "stdout",
     "output_type": "stream",
     "text": [
      "Fold 4/4 median val_loss: 0.0108904779830135, std val_loss 0.0\n",
      "Fold 4/4 median train_loss: 0.0013551064766943, std train_loss 0.0\n",
      "Fold 4/4 median val_accuracy: 1.0, std val_accuracy 0.0\n",
      "Fold 4/4 median train_accuracy: 1.0, train_accuracy 0.0\n",
      "\n",
      "Mean val_loss: 0.09163126648292359, std val_loss: 0.07745297718381101\n",
      "Mean train_loss: 0.043935120440437396, std train_loss: 0.04294157154329631\n",
      "Mean val_accuracy: 0.9032258093357086, std val_accuracy: 0.09677419066429138\n",
      "Mean train_accuracy: 0.9032258093357086, std train_accuracy: 0.04301074147224421\n",
      "\n",
      "\n",
      "\n",
      "Testing configuration 9/9:\n",
      "{'batch_size': None, 'learning_rate': 0.3, 'max_epochs': 500, 'momentum': 0.9, 'initialization': {'type': 'default', 'min': -0.5, 'max': 0.5}, 'early_stopping': {'monitor': 'val_loss', 'patience': 20, 'delta': 0.0}, 'task': 'classification', 'trials_train': 1, 'trials_final': 5, 'nesterov': False, 'learning_rate_decay': None, 'regularization': {'method': None}, 'activations_1': 'relu', 'units_1': 8}\n",
      "\n",
      "Executing fold 1/4\n"
     ]
    },
    {
     "name": "stderr",
     "output_type": "stream",
     "text": [
      "100%|█████████████████████████████████████████████| 1/1 [00:10<00:00, 10.67s/it]\n"
     ]
    },
    {
     "name": "stdout",
     "output_type": "stream",
     "text": [
      "Fold 1/4 median val_loss: 0.0006392758246016, std val_loss 0.0\n",
      "Fold 1/4 median train_loss: 0.0002433170884614, std train_loss 0.0\n",
      "Fold 1/4 median val_accuracy: 1.0, std val_accuracy 0.0\n",
      "Fold 1/4 median train_accuracy: 1.0, train_accuracy 0.0\n",
      "\n",
      "Executing fold 2/4\n"
     ]
    },
    {
     "name": "stderr",
     "output_type": "stream",
     "text": [
      "100%|█████████████████████████████████████████████| 1/1 [00:10<00:00, 10.19s/it]\n"
     ]
    },
    {
     "name": "stdout",
     "output_type": "stream",
     "text": [
      "Fold 2/4 median val_loss: 0.1031439838212554, std val_loss 0.0\n",
      "Fold 2/4 median train_loss: 0.0219657011330127, std train_loss 0.0\n",
      "Fold 2/4 median val_accuracy: 0.9032257795333862, std val_accuracy 0.0\n",
      "Fold 2/4 median train_accuracy: 0.9784946441650392, train_accuracy 0.0\n",
      "\n",
      "Executing fold 3/4\n"
     ]
    },
    {
     "name": "stderr",
     "output_type": "stream",
     "text": [
      "100%|█████████████████████████████████████████████| 1/1 [00:10<00:00, 10.34s/it]\n"
     ]
    },
    {
     "name": "stdout",
     "output_type": "stream",
     "text": [
      "Fold 3/4 median val_loss: 0.0211687560482459, std val_loss 0.0\n",
      "Fold 3/4 median train_loss: 0.0003084132622461, std train_loss 0.0\n",
      "Fold 3/4 median val_accuracy: 1.0, std val_accuracy 0.0\n",
      "Fold 3/4 median train_accuracy: 1.0, train_accuracy 0.0\n",
      "\n",
      "Executing fold 4/4\n"
     ]
    },
    {
     "name": "stderr",
     "output_type": "stream",
     "text": [
      "100%|█████████████████████████████████████████████| 1/1 [00:10<00:00, 10.27s/it]\n"
     ]
    },
    {
     "name": "stdout",
     "output_type": "stream",
     "text": [
      "Fold 4/4 median val_loss: 0.161456788704165, std val_loss 0.0\n",
      "Fold 4/4 median train_loss: 0.0324110947549343, std train_loss 0.0\n",
      "Fold 4/4 median val_accuracy: 0.8387096524238586, std val_accuracy 0.0\n",
      "Fold 4/4 median train_accuracy: 0.9677419066429138, train_accuracy 0.0\n",
      "\n",
      "Mean val_loss: 0.07160220109956697, std val_loss: 0.06451356468638887\n",
      "Mean train_loss: 0.013732131559663624, std train_loss: 0.013953849493387054\n",
      "Mean val_accuracy: 0.9354838579893112, std val_accuracy: 0.06842970051151\n",
      "Mean train_accuracy: 0.9354838579893112, std train_accuracy: 0.013968158426993126\n",
      "\n",
      "\n",
      "\n",
      "\n",
      "\n",
      "\n",
      "Best configuration (loss 0.046931150263572995):\n",
      "{'batch_size': None, 'learning_rate': 0.2, 'max_epochs': 500, 'momentum': 0.8, 'initialization': {'type': 'default', 'min': -0.5, 'max': 0.5}, 'early_stopping': {'monitor': 'val_loss', 'patience': 20, 'delta': 0.0}, 'task': 'classification', 'trials_train': 1, 'trials_final': 5, 'nesterov': False, 'learning_rate_decay': None, 'regularization': {'method': None}, 'activations_1': 'relu', 'units_1': 8}\n"
     ]
    },
    {
     "name": "stderr",
     "output_type": "stream",
     "text": [
      " 20%|█████████                                    | 1/5 [00:09<00:39,  9.94s/it]"
     ]
    },
    {
     "name": "stdout",
     "output_type": "stream",
     "text": [
      "Trial 1/5 val_mse: 0.0033654916880319\n",
      "Trial 1/5 train_mse: 0.0030132906977087\n",
      "Trial 1/5 val_accuracy: 1.0\n",
      "Trial 1/5 train_accuracy: 1.0\n"
     ]
    },
    {
     "name": "stderr",
     "output_type": "stream",
     "text": [
      "\r",
      " 40%|██████████████████                           | 2/5 [00:19<00:28,  9.47s/it]"
     ]
    },
    {
     "name": "stdout",
     "output_type": "stream",
     "text": [
      "Trial 2/5 val_mse: 0.0012763077630952\n",
      "Trial 2/5 train_mse: 0.001393724232912\n",
      "Trial 2/5 val_accuracy: 1.0\n",
      "Trial 2/5 train_accuracy: 1.0\n"
     ]
    },
    {
     "name": "stderr",
     "output_type": "stream",
     "text": [
      "\r",
      " 60%|███████████████████████████                  | 3/5 [00:28<00:19,  9.58s/it]"
     ]
    },
    {
     "name": "stdout",
     "output_type": "stream",
     "text": [
      "Trial 3/5 val_mse: 0.006566600813856\n",
      "Trial 3/5 train_mse: 0.0050359293818473\n",
      "Trial 3/5 val_accuracy: 1.0\n",
      "Trial 3/5 train_accuracy: 1.0\n"
     ]
    },
    {
     "name": "stderr",
     "output_type": "stream",
     "text": [
      "\r",
      " 80%|████████████████████████████████████         | 4/5 [00:30<00:06,  6.66s/it]"
     ]
    },
    {
     "name": "stdout",
     "output_type": "stream",
     "text": [
      "Trial 4/5 val_mse: 0.1030051438518\n",
      "Trial 4/5 train_mse: 0.1243393942713737\n",
      "Trial 4/5 val_accuracy: 0.9230769276618958\n",
      "Trial 4/5 train_accuracy: 0.8558558821678162\n"
     ]
    },
    {
     "name": "stderr",
     "output_type": "stream",
     "text": [
      "100%|█████████████████████████████████████████████| 5/5 [00:41<00:00,  8.24s/it]"
     ]
    },
    {
     "name": "stdout",
     "output_type": "stream",
     "text": [
      "Trial 5/5 val_mse: 0.0011114776331281\n",
      "Trial 5/5 train_mse: 0.0012487801723182\n",
      "Trial 5/5 val_accuracy: 1.0\n",
      "Trial 5/5 train_accuracy: 1.0\n",
      "\n",
      "Median val_mse: 0.0033654916880319, std val_mse: 0.0400184923658859\n",
      "Median train_mse: 0.0030132906977087, std train_mse: 0.048685822959026\n",
      "Median val_accuracy: 1.0, std val_accuracy: 0.0307692289352417\n",
      "Median train_accuracy: 1.0, std train_accuracy: 0.05765764713287354\n",
      "\n",
      "Median model train_loss: 0.0030132906977087\n",
      "Median model val_loss: 0.0033654916880319\n",
      "\n",
      "Median model train_accuracy: 1.0\n",
      "Median model val_accuracy: 1.0\n"
     ]
    },
    {
     "name": "stderr",
     "output_type": "stream",
     "text": [
      "\n"
     ]
    },
    {
     "data": {
      "image/png": "[encoded data removed]",
      "text/plain": [
       "<Figure size 640x480 with 1 Axes>"
      ]
     },
     "metadata": {},
     "output_type": "display_data"
    },
    {
     "data": {
      "image/png": "[encoded data removed]",
      "text/plain": [
       "<Figure size 640x480 with 1 Axes>"
      ]
     },
     "metadata": {},
     "output_type": "display_data"
    }
   ],
   "source": [
    "model = grid_search(params, x_train, y_train, k_fold_val)"
   ]
  },
  {
   "cell_type": "code",
   "execution_count": 9,
   "id": "a97417df",
   "metadata": {},
   "outputs": [
    {
     "name": "stdout",
     "output_type": "stream",
     "text": [
      "Test MSE: 0.007025882136076689\n",
      "Test accuracy: 1.0\n"
     ]
    }
   ],
   "source": [
    "test_model(model, x_test, y_test)"
   ]
  },
  {
   "cell_type": "markdown",
   "id": "8d0cdf2f",
   "metadata": {},
   "source": [
    "# Monk 2"
   ]
  },
  {
   "cell_type": "code",
   "execution_count": 17,
   "id": "46826a62",
   "metadata": {
    "scrolled": true
   },
   "outputs": [
    {
     "name": "stdout",
     "output_type": "stream",
     "text": [
      "Loaded ./../data/monks-2 dataset\n",
      "(169, 17) (169,)\n",
      "(432, 17) (432,)\n"
     ]
    }
   ],
   "source": [
    "x_train, y_train, x_test, y_test = load_dataset(\"monks2\", True)\n",
    "print(x_train.shape, y_train.shape)\n",
    "print(x_test.shape, y_test.shape)"
   ]
  },
  {
   "cell_type": "code",
   "execution_count": 18,
   "id": "235bb2bb",
   "metadata": {
    "scrolled": true
   },
   "outputs": [],
   "source": [
    "params = {\n",
    "    \"task\": \"classification\",\n",
    "    \"trials_train\": 1,\n",
    "    \"trials_final\": 5,\n",
    "    \"initialization\": {\n",
    "        \"type\": \"default\",\n",
    "    },\n",
    "    \"early_stopping\": {\n",
    "        \"monitor\": \"val_loss\",\n",
    "        \"patience\": 20,\n",
    "        \"delta\": 0.0\n",
    "    },\n",
    "    \"max_epochs\": [500],\n",
    "    \"learning_rate\": [0.5, 0.6, 0.7],# np.linspace(0.1, 0.4, 4).tolist(),\n",
    "    \"batch_size\": [None],\n",
    "    \"momentum\": [0.5, 0.6, 0.7],#np.linspace(0.5, 0.9, 4).tolist(),\n",
    "    \"nesterov\": False,\n",
    "    \"learning_rate_decay\": None,\n",
    "    \"regularization\": [\n",
    "        {\n",
    "            \"type\": None\n",
    "        }\n",
    "    ],\n",
    "    \"layers\": [\n",
    "        {\n",
    "            \"activations\": [\"relu\"],\n",
    "            \"units\": [8],\n",
    "        },\n",
    "    ]\n",
    "}\n",
    "\n",
    "k_fold_val = {\n",
    "    \"type\": \"k-fold\",\n",
    "    \"n_folds\": 4\n",
    "}\n",
    "\n",
    "hold_out_val = {\n",
    "    \"type\": \"hold-out\",\n",
    "    \"val_split\": 0.15\n",
    "}"
   ]
  },
  {
   "cell_type": "code",
   "execution_count": 19,
   "id": "c5fcad74",
   "metadata": {
    "scrolled": false
   },
   "outputs": [
    {
     "name": "stdout",
     "output_type": "stream",
     "text": [
      "Testing configuration 1/9:\n",
      "{'batch_size': None, 'learning_rate': 0.5, 'max_epochs': 500, 'momentum': 0.5, 'initialization': {'type': 'default', 'min': -0.5, 'max': 0.5}, 'early_stopping': {'monitor': 'val_loss', 'patience': 20, 'delta': 0.0}, 'task': 'classification', 'trials_train': 1, 'trials_final': 5, 'nesterov': False, 'learning_rate_decay': None, 'regularization': {'method': None}, 'activations_1': 'relu', 'units_1': 8}\n",
      "\n",
      "Executing fold 1/4\n"
     ]
    },
    {
     "name": "stderr",
     "output_type": "stream",
     "text": [
      "100%|█████████████████████████████████████████████| 1/1 [00:00<00:00,  2.45it/s]\n"
     ]
    },
    {
     "name": "stdout",
     "output_type": "stream",
     "text": [
      "Fold 1/4 median val_loss: 0.2668946642736994, std val_loss 0.0\n",
      "Fold 1/4 median train_loss: 0.2220786213874817, std train_loss 0.0\n",
      "Fold 1/4 median val_accuracy: 0.5116279125213623, std val_accuracy 0.0\n",
      "Fold 1/4 median train_accuracy: 0.658730149269104, train_accuracy 0.0\n",
      "\n",
      "Executing fold 2/4\n"
     ]
    },
    {
     "name": "stderr",
     "output_type": "stream",
     "text": [
      "100%|█████████████████████████████████████████████| 1/1 [00:09<00:00,  9.39s/it]\n"
     ]
    },
    {
     "name": "stdout",
     "output_type": "stream",
     "text": [
      "Fold 2/4 median val_loss: 0.0024245898038995, std val_loss 0.0\n",
      "Fold 2/4 median train_loss: 0.0022037217859178, std train_loss 0.0\n",
      "Fold 2/4 median val_accuracy: 1.0, std val_accuracy 0.0\n",
      "Fold 2/4 median train_accuracy: 1.0, train_accuracy 0.0\n",
      "\n",
      "Executing fold 3/4\n"
     ]
    },
    {
     "name": "stderr",
     "output_type": "stream",
     "text": [
      "100%|█████████████████████████████████████████████| 1/1 [00:00<00:00,  1.79it/s]\n"
     ]
    },
    {
     "name": "stdout",
     "output_type": "stream",
     "text": [
      "Fold 3/4 median val_loss: 0.2165478541251209, std val_loss 0.0\n",
      "Fold 3/4 median train_loss: 0.2270978093147277, std train_loss 0.0\n",
      "Fold 3/4 median val_accuracy: 0.738095223903656, std val_accuracy 0.0\n",
      "Fold 3/4 median train_accuracy: 0.6299212574958801, train_accuracy 0.0\n",
      "\n",
      "Executing fold 4/4\n"
     ]
    },
    {
     "name": "stderr",
     "output_type": "stream",
     "text": [
      "100%|█████████████████████████████████████████████| 1/1 [00:00<00:00,  1.99it/s]\n"
     ]
    },
    {
     "name": "stdout",
     "output_type": "stream",
     "text": [
      "Fold 4/4 median val_loss: 0.2576845974493441, std val_loss 0.0\n",
      "Fold 4/4 median train_loss: 0.2228477299213409, std train_loss 0.0\n",
      "Fold 4/4 median val_accuracy: 0.5952380895614624, std val_accuracy 0.0\n",
      "Fold 4/4 median train_accuracy: 0.6299212574958801, train_accuracy 0.0\n",
      "\n",
      "Mean val_loss: 0.18588792641301596, std val_loss: 0.1076053908939855\n",
      "Mean train_loss: 0.16855697060236702, std train_loss: 0.09606311315891314\n",
      "Mean val_accuracy: 0.7112403064966202, std val_accuracy: 0.18534088144788075\n",
      "Mean train_accuracy: 0.7112403064966202, std train_accuracy: 0.15653305697502684\n",
      "\n",
      "\n",
      "\n",
      "Testing configuration 2/9:\n",
      "{'batch_size': None, 'learning_rate': 0.5, 'max_epochs': 500, 'momentum': 0.6, 'initialization': {'type': 'default', 'min': -0.5, 'max': 0.5}, 'early_stopping': {'monitor': 'val_loss', 'patience': 20, 'delta': 0.0}, 'task': 'classification', 'trials_train': 1, 'trials_final': 5, 'nesterov': False, 'learning_rate_decay': None, 'regularization': {'method': None}, 'activations_1': 'relu', 'units_1': 8}\n",
      "\n",
      "Executing fold 1/4\n"
     ]
    },
    {
     "name": "stderr",
     "output_type": "stream",
     "text": [
      "100%|█████████████████████████████████████████████| 1/1 [00:00<00:00,  1.19it/s]\n"
     ]
    },
    {
     "name": "stdout",
     "output_type": "stream",
     "text": [
      "Fold 1/4 median val_loss: 0.2636911282848633, std val_loss 0.0\n",
      "Fold 1/4 median train_loss: 0.2193281054496765, std train_loss 0.0\n",
      "Fold 1/4 median val_accuracy: 0.5581395626068115, std val_accuracy 0.0\n",
      "Fold 1/4 median train_accuracy: 0.6428571343421936, train_accuracy 0.0\n",
      "\n",
      "Executing fold 2/4\n"
     ]
    },
    {
     "name": "stderr",
     "output_type": "stream",
     "text": [
      "100%|█████████████████████████████████████████████| 1/1 [00:09<00:00,  9.54s/it]\n"
     ]
    },
    {
     "name": "stdout",
     "output_type": "stream",
     "text": [
      "Fold 2/4 median val_loss: 0.0009211773326156, std val_loss 0.0\n",
      "Fold 2/4 median train_loss: 0.0008567781187593, std train_loss 0.0\n",
      "Fold 2/4 median val_accuracy: 1.0, std val_accuracy 0.0\n",
      "Fold 2/4 median train_accuracy: 1.0, train_accuracy 0.0\n",
      "\n",
      "Executing fold 3/4\n"
     ]
    },
    {
     "name": "stderr",
     "output_type": "stream",
     "text": [
      "100%|█████████████████████████████████████████████| 1/1 [00:00<00:00,  2.65it/s]\n"
     ]
    },
    {
     "name": "stdout",
     "output_type": "stream",
     "text": [
      "Fold 3/4 median val_loss: 0.2564900518687649, std val_loss 0.0\n",
      "Fold 3/4 median train_loss: 0.2234428077936172, std train_loss 0.0\n",
      "Fold 3/4 median val_accuracy: 0.5714285969734192, std val_accuracy 0.0\n",
      "Fold 3/4 median train_accuracy: 0.6377952694892883, train_accuracy 0.0\n",
      "\n",
      "Executing fold 4/4\n"
     ]
    },
    {
     "name": "stderr",
     "output_type": "stream",
     "text": [
      "100%|█████████████████████████████████████████████| 1/1 [00:00<00:00,  2.12it/s]\n"
     ]
    },
    {
     "name": "stdout",
     "output_type": "stream",
     "text": [
      "Fold 4/4 median val_loss: 0.2182189805364593, std val_loss 0.0\n",
      "Fold 4/4 median train_loss: 0.219144120812416, std train_loss 0.0\n",
      "Fold 4/4 median val_accuracy: 0.6904761791229248, std val_accuracy 0.0\n",
      "Fold 4/4 median train_accuracy: 0.6220472455024719, train_accuracy 0.0\n",
      "\n",
      "Mean val_loss: 0.18483033450567576, std val_loss: 0.10757732063952381\n",
      "Mean train_loss: 0.16569295304361725, std train_loss: 0.095183726546314\n",
      "Mean val_accuracy: 0.7050110846757889, std val_accuracy: 0.17793625871305513\n",
      "Mean train_accuracy: 0.7050110846757889, std train_accuracy: 0.1585674643755135\n",
      "\n",
      "\n",
      "\n",
      "Testing configuration 3/9:\n",
      "{'batch_size': None, 'learning_rate': 0.5, 'max_epochs': 500, 'momentum': 0.7, 'initialization': {'type': 'default', 'min': -0.5, 'max': 0.5}, 'early_stopping': {'monitor': 'val_loss', 'patience': 20, 'delta': 0.0}, 'task': 'classification', 'trials_train': 1, 'trials_final': 5, 'nesterov': False, 'learning_rate_decay': None, 'regularization': {'method': None}, 'activations_1': 'relu', 'units_1': 8}\n",
      "\n",
      "Executing fold 1/4\n"
     ]
    },
    {
     "name": "stderr",
     "output_type": "stream",
     "text": [
      "100%|█████████████████████████████████████████████| 1/1 [00:00<00:00,  2.75it/s]\n"
     ]
    },
    {
     "name": "stdout",
     "output_type": "stream",
     "text": [
      "Fold 1/4 median val_loss: 0.2746527062793344, std val_loss 0.0\n",
      "Fold 1/4 median train_loss: 0.2160403430461883, std train_loss 0.0\n",
      "Fold 1/4 median val_accuracy: 0.5348837375640869, std val_accuracy 0.0\n",
      "Fold 1/4 median train_accuracy: 0.6507936716079712, train_accuracy 0.0\n",
      "\n",
      "Executing fold 2/4\n"
     ]
    },
    {
     "name": "stderr",
     "output_type": "stream",
     "text": [
      "100%|█████████████████████████████████████████████| 1/1 [00:09<00:00,  9.19s/it]\n"
     ]
    },
    {
     "name": "stdout",
     "output_type": "stream",
     "text": [
      "Fold 2/4 median val_loss: 0.0029423861390079, std val_loss 0.0\n",
      "Fold 2/4 median train_loss: 0.0006328229792416, std train_loss 0.0\n",
      "Fold 2/4 median val_accuracy: 1.0, std val_accuracy 0.0\n",
      "Fold 2/4 median train_accuracy: 1.0, train_accuracy 0.0\n",
      "\n",
      "Executing fold 3/4\n"
     ]
    },
    {
     "name": "stderr",
     "output_type": "stream",
     "text": [
      "100%|█████████████████████████████████████████████| 1/1 [00:12<00:00, 12.71s/it]\n"
     ]
    },
    {
     "name": "stdout",
     "output_type": "stream",
     "text": [
      "Fold 3/4 median val_loss: 0.0021912874623195, std val_loss 0.0\n",
      "Fold 3/4 median train_loss: 0.0006567104719579, std train_loss 0.0\n",
      "Fold 3/4 median val_accuracy: 1.0, std val_accuracy 0.0\n",
      "Fold 3/4 median train_accuracy: 1.0, train_accuracy 0.0\n",
      "\n",
      "Executing fold 4/4\n"
     ]
    },
    {
     "name": "stderr",
     "output_type": "stream",
     "text": [
      "100%|█████████████████████████████████████████████| 1/1 [00:00<00:00,  2.64it/s]\n"
     ]
    },
    {
     "name": "stdout",
     "output_type": "stream",
     "text": [
      "Fold 4/4 median val_loss: 0.2481086333936725, std val_loss 0.0\n",
      "Fold 4/4 median train_loss: 0.2238834351301193, std train_loss 0.0\n",
      "Fold 4/4 median val_accuracy: 0.5714285969734192, std val_accuracy 0.0\n",
      "Fold 4/4 median train_accuracy: 0.6377952694892883, train_accuracy 0.0\n",
      "\n",
      "Mean val_loss: 0.13197375331858358, std val_loss: 0.1297470386444275\n",
      "Mean train_loss: 0.11030332790687677, std train_loss: 0.10969361591885848\n",
      "Mean val_accuracy: 0.7765780836343765, std val_accuracy: 0.22379520449764698\n",
      "Mean train_accuracy: 0.7765780836343765, std train_accuracy: 0.17791212923174962\n",
      "\n",
      "\n",
      "\n",
      "Testing configuration 4/9:\n",
      "{'batch_size': None, 'learning_rate': 0.6, 'max_epochs': 500, 'momentum': 0.5, 'initialization': {'type': 'default', 'min': -0.5, 'max': 0.5}, 'early_stopping': {'monitor': 'val_loss', 'patience': 20, 'delta': 0.0}, 'task': 'classification', 'trials_train': 1, 'trials_final': 5, 'nesterov': False, 'learning_rate_decay': None, 'regularization': {'method': None}, 'activations_1': 'relu', 'units_1': 8}\n",
      "\n",
      "Executing fold 1/4\n"
     ]
    },
    {
     "name": "stderr",
     "output_type": "stream",
     "text": [
      "100%|█████████████████████████████████████████████| 1/1 [00:11<00:00, 11.36s/it]\n"
     ]
    },
    {
     "name": "stdout",
     "output_type": "stream",
     "text": [
      "Fold 1/4 median val_loss: 0.0013540299993133, std val_loss 0.0\n",
      "Fold 1/4 median train_loss: 0.001072438666597, std train_loss 0.0\n",
      "Fold 1/4 median val_accuracy: 1.0, std val_accuracy 0.0\n",
      "Fold 1/4 median train_accuracy: 1.0, train_accuracy 0.0\n",
      "\n",
      "Executing fold 2/4\n"
     ]
    },
    {
     "name": "stderr",
     "output_type": "stream",
     "text": [
      "100%|█████████████████████████████████████████████| 1/1 [00:00<00:00,  2.48it/s]\n"
     ]
    },
    {
     "name": "stdout",
     "output_type": "stream",
     "text": [
      "Fold 2/4 median val_loss: 0.3076478598956265, std val_loss 0.0\n",
      "Fold 2/4 median train_loss: 0.2102627158164978, std train_loss 0.0\n",
      "Fold 2/4 median val_accuracy: 0.4523809552192688, std val_accuracy 0.0\n",
      "Fold 2/4 median train_accuracy: 0.6771653294563293, train_accuracy 0.0\n",
      "\n",
      "Executing fold 3/4\n"
     ]
    },
    {
     "name": "stderr",
     "output_type": "stream",
     "text": [
      "100%|█████████████████████████████████████████████| 1/1 [00:11<00:00, 11.40s/it]\n"
     ]
    },
    {
     "name": "stdout",
     "output_type": "stream",
     "text": [
      "Fold 3/4 median val_loss: 0.0014153646344028, std val_loss 0.0\n",
      "Fold 3/4 median train_loss: 0.0009683423559181, std train_loss 0.0\n",
      "Fold 3/4 median val_accuracy: 1.0, std val_accuracy 0.0\n",
      "Fold 3/4 median train_accuracy: 1.0, train_accuracy 0.0\n",
      "\n",
      "Executing fold 4/4\n"
     ]
    },
    {
     "name": "stderr",
     "output_type": "stream",
     "text": [
      "100%|█████████████████████████████████████████████| 1/1 [00:00<00:00,  2.69it/s]\n"
     ]
    },
    {
     "name": "stdout",
     "output_type": "stream",
     "text": [
      "Fold 4/4 median val_loss: 0.2201100709558881, std val_loss 0.0\n",
      "Fold 4/4 median train_loss: 0.2274620682001114, std train_loss 0.0\n",
      "Fold 4/4 median val_accuracy: 0.738095223903656, std val_accuracy 0.0\n",
      "Fold 4/4 median train_accuracy: 0.5984252095222473, train_accuracy 0.0\n",
      "\n",
      "Mean val_loss: 0.13263183137130766, std val_loss: 0.13484683433179337\n",
      "Mean train_loss: 0.10994139125978108, std train_loss: 0.1090906181752907\n",
      "Mean val_accuracy: 0.7976190447807312, std val_accuracy: 0.22619047604109122\n",
      "Mean train_accuracy: 0.7976190447807312, std train_accuracy: 0.18322954868685487\n",
      "\n",
      "\n",
      "\n",
      "Testing configuration 5/9:\n",
      "{'batch_size': None, 'learning_rate': 0.6, 'max_epochs': 500, 'momentum': 0.6, 'initialization': {'type': 'default', 'min': -0.5, 'max': 0.5}, 'early_stopping': {'monitor': 'val_loss', 'patience': 20, 'delta': 0.0}, 'task': 'classification', 'trials_train': 1, 'trials_final': 5, 'nesterov': False, 'learning_rate_decay': None, 'regularization': {'method': None}, 'activations_1': 'relu', 'units_1': 8}\n",
      "\n",
      "Executing fold 1/4\n"
     ]
    },
    {
     "name": "stderr",
     "output_type": "stream",
     "text": [
      "100%|█████████████████████████████████████████████| 1/1 [00:00<00:00,  1.36it/s]\n"
     ]
    },
    {
     "name": "stdout",
     "output_type": "stream",
     "text": [
      "Fold 1/4 median val_loss: 0.2310671213607673, std val_loss 0.0\n",
      "Fold 1/4 median train_loss: 0.2193395048379898, std train_loss 0.0\n",
      "Fold 1/4 median val_accuracy: 0.6279069781303406, std val_accuracy 0.0\n",
      "Fold 1/4 median train_accuracy: 0.6666666865348816, train_accuracy 0.0\n",
      "\n",
      "Executing fold 2/4\n"
     ]
    },
    {
     "name": "stderr",
     "output_type": "stream",
     "text": [
      "100%|█████████████████████████████████████████████| 1/1 [00:00<00:00,  2.57it/s]\n"
     ]
    },
    {
     "name": "stdout",
     "output_type": "stream",
     "text": [
      "Fold 2/4 median val_loss: 0.2857813751710882, std val_loss 0.0\n",
      "Fold 2/4 median train_loss: 0.2163438200950622, std train_loss 0.0\n",
      "Fold 2/4 median val_accuracy: 0.4761904776096344, std val_accuracy 0.0\n",
      "Fold 2/4 median train_accuracy: 0.6692913174629211, train_accuracy 0.0\n",
      "\n",
      "Executing fold 3/4\n"
     ]
    },
    {
     "name": "stderr",
     "output_type": "stream",
     "text": [
      "100%|█████████████████████████████████████████████| 1/1 [00:00<00:00,  2.45it/s]\n"
     ]
    },
    {
     "name": "stdout",
     "output_type": "stream",
     "text": [
      "Fold 3/4 median val_loss: 0.2199634294208442, std val_loss 0.0\n",
      "Fold 3/4 median train_loss: 0.2347088903188705, std train_loss 0.0\n",
      "Fold 3/4 median val_accuracy: 0.7142857313156128, std val_accuracy 0.0\n",
      "Fold 3/4 median train_accuracy: 0.5905511975288391, train_accuracy 0.0\n",
      "\n",
      "Executing fold 4/4\n"
     ]
    },
    {
     "name": "stderr",
     "output_type": "stream",
     "text": [
      "100%|█████████████████████████████████████████████| 1/1 [00:00<00:00,  1.86it/s]\n"
     ]
    },
    {
     "name": "stdout",
     "output_type": "stream",
     "text": [
      "Fold 4/4 median val_loss: 0.2343416346350358, std val_loss 0.0\n",
      "Fold 4/4 median train_loss: 0.2227417528629303, std train_loss 0.0\n",
      "Fold 4/4 median val_accuracy: 0.6904761791229248, std val_accuracy 0.0\n",
      "Fold 4/4 median train_accuracy: 0.6220472455024719, train_accuracy 0.0\n",
      "\n",
      "Mean val_loss: 0.24278839014693387, std val_loss: 0.025387553121904233\n",
      "Mean train_loss: 0.2232834920287132, std train_loss: 0.006974010483928273\n",
      "Mean val_accuracy: 0.6272148415446281, std val_accuracy: 0.09272563592762371\n",
      "Mean train_accuracy: 0.6272148415446281, std train_accuracy: 0.03280182991539609\n",
      "\n",
      "\n",
      "\n",
      "Testing configuration 6/9:\n",
      "{'batch_size': None, 'learning_rate': 0.6, 'max_epochs': 500, 'momentum': 0.7, 'initialization': {'type': 'default', 'min': -0.5, 'max': 0.5}, 'early_stopping': {'monitor': 'val_loss', 'patience': 20, 'delta': 0.0}, 'task': 'classification', 'trials_train': 1, 'trials_final': 5, 'nesterov': False, 'learning_rate_decay': None, 'regularization': {'method': None}, 'activations_1': 'relu', 'units_1': 8}\n",
      "\n",
      "Executing fold 1/4\n"
     ]
    },
    {
     "name": "stderr",
     "output_type": "stream",
     "text": [
      "100%|█████████████████████████████████████████████| 1/1 [00:00<00:00,  1.91it/s]\n"
     ]
    },
    {
     "name": "stdout",
     "output_type": "stream",
     "text": [
      "Fold 1/4 median val_loss: 0.2760114457283157, std val_loss 0.0\n",
      "Fold 1/4 median train_loss: 0.2077344059944152, std train_loss 0.0\n",
      "Fold 1/4 median val_accuracy: 0.5116279125213623, std val_accuracy 0.0\n",
      "Fold 1/4 median train_accuracy: 0.658730149269104, train_accuracy 0.0\n",
      "\n",
      "Executing fold 2/4\n"
     ]
    },
    {
     "name": "stderr",
     "output_type": "stream",
     "text": [
      "100%|█████████████████████████████████████████████| 1/1 [00:00<00:00,  2.34it/s]\n"
     ]
    },
    {
     "name": "stdout",
     "output_type": "stream",
     "text": [
      "Fold 2/4 median val_loss: 0.2664893142010367, std val_loss 0.0\n",
      "Fold 2/4 median train_loss: 0.221593365073204, std train_loss 0.0\n",
      "Fold 2/4 median val_accuracy: 0.5714285969734192, std val_accuracy 0.0\n",
      "Fold 2/4 median train_accuracy: 0.6377952694892883, train_accuracy 0.0\n",
      "\n",
      "Executing fold 3/4\n"
     ]
    },
    {
     "name": "stderr",
     "output_type": "stream",
     "text": [
      "100%|█████████████████████████████████████████████| 1/1 [00:10<00:00, 10.83s/it]\n"
     ]
    },
    {
     "name": "stdout",
     "output_type": "stream",
     "text": [
      "Fold 3/4 median val_loss: 0.0004747365391457, std val_loss 0.0\n",
      "Fold 3/4 median train_loss: 0.0004199739196337, std train_loss 0.0\n",
      "Fold 3/4 median val_accuracy: 1.0, std val_accuracy 0.0\n",
      "Fold 3/4 median train_accuracy: 1.0, train_accuracy 0.0\n",
      "\n",
      "Executing fold 4/4\n"
     ]
    },
    {
     "name": "stderr",
     "output_type": "stream",
     "text": [
      "100%|█████████████████████████████████████████████| 1/1 [00:08<00:00,  8.85s/it]\n"
     ]
    },
    {
     "name": "stdout",
     "output_type": "stream",
     "text": [
      "Fold 4/4 median val_loss: 0.0005896019924999, std val_loss 0.0\n",
      "Fold 4/4 median train_loss: 0.0004204355645924, std train_loss 0.0\n",
      "Fold 4/4 median val_accuracy: 1.0, std val_accuracy 0.0\n",
      "Fold 4/4 median train_accuracy: 1.0, train_accuracy 0.0\n",
      "\n",
      "Mean val_loss: 0.1358912746152495, std val_loss: 0.13540097091180364\n",
      "Mean train_loss: 0.10754204513796134, std train_loss: 0.10723384509176044\n",
      "Mean val_accuracy: 0.7707641273736954, std val_accuracy: 0.23020881940394936\n",
      "Mean train_accuracy: 0.7707641273736954, std train_accuracy: 0.17602432801246642\n",
      "\n",
      "\n",
      "\n",
      "Testing configuration 7/9:\n",
      "{'batch_size': None, 'learning_rate': 0.7, 'max_epochs': 500, 'momentum': 0.5, 'initialization': {'type': 'default', 'min': -0.5, 'max': 0.5}, 'early_stopping': {'monitor': 'val_loss', 'patience': 20, 'delta': 0.0}, 'task': 'classification', 'trials_train': 1, 'trials_final': 5, 'nesterov': False, 'learning_rate_decay': None, 'regularization': {'method': None}, 'activations_1': 'relu', 'units_1': 8}\n",
      "\n",
      "Executing fold 1/4\n"
     ]
    },
    {
     "name": "stderr",
     "output_type": "stream",
     "text": [
      "100%|█████████████████████████████████████████████| 1/1 [00:09<00:00,  9.71s/it]\n"
     ]
    },
    {
     "name": "stdout",
     "output_type": "stream",
     "text": [
      "Fold 1/4 median val_loss: 0.0008032612757515, std val_loss 0.0\n",
      "Fold 1/4 median train_loss: 0.0008452493930235, std train_loss 0.0\n",
      "Fold 1/4 median val_accuracy: 1.0, std val_accuracy 0.0\n",
      "Fold 1/4 median train_accuracy: 1.0, train_accuracy 0.0\n",
      "\n",
      "Executing fold 2/4\n"
     ]
    },
    {
     "name": "stderr",
     "output_type": "stream",
     "text": [
      "100%|█████████████████████████████████████████████| 1/1 [00:09<00:00,  9.68s/it]\n"
     ]
    },
    {
     "name": "stdout",
     "output_type": "stream",
     "text": [
      "Fold 2/4 median val_loss: 0.0043793499369456, std val_loss 0.0\n",
      "Fold 2/4 median train_loss: 0.0009780009277164, std train_loss 0.0\n",
      "Fold 2/4 median val_accuracy: 1.0, std val_accuracy 0.0\n",
      "Fold 2/4 median train_accuracy: 1.0, train_accuracy 0.0\n",
      "\n",
      "Executing fold 3/4\n"
     ]
    },
    {
     "name": "stderr",
     "output_type": "stream",
     "text": [
      "100%|█████████████████████████████████████████████| 1/1 [00:11<00:00, 11.35s/it]\n"
     ]
    },
    {
     "name": "stdout",
     "output_type": "stream",
     "text": [
      "Fold 3/4 median val_loss: 0.0030294236873159, std val_loss 0.0\n",
      "Fold 3/4 median train_loss: 0.0011822473024949, std train_loss 0.0\n",
      "Fold 3/4 median val_accuracy: 1.0, std val_accuracy 0.0\n",
      "Fold 3/4 median train_accuracy: 1.0, train_accuracy 0.0\n",
      "\n",
      "Executing fold 4/4\n"
     ]
    },
    {
     "name": "stderr",
     "output_type": "stream",
     "text": [
      "100%|█████████████████████████████████████████████| 1/1 [00:10<00:00, 10.35s/it]\n"
     ]
    },
    {
     "name": "stdout",
     "output_type": "stream",
     "text": [
      "Fold 4/4 median val_loss: 0.0102236688438895, std val_loss 0.0\n",
      "Fold 4/4 median train_loss: 0.0034464809577912, std train_loss 0.0\n",
      "Fold 4/4 median val_accuracy: 1.0, std val_accuracy 0.0\n",
      "Fold 4/4 median train_accuracy: 1.0, train_accuracy 0.0\n",
      "\n",
      "Mean val_loss: 0.004608925935975625, std val_loss: 0.0034841051189975496\n",
      "Mean train_loss: 0.0016129946452565001, std train_loss: 0.0010653479625443957\n",
      "Mean val_accuracy: 1.0, std val_accuracy: 0.0\n",
      "Mean train_accuracy: 1.0, std train_accuracy: 0.0\n",
      "\n",
      "\n",
      "\n",
      "Testing configuration 8/9:\n",
      "{'batch_size': None, 'learning_rate': 0.7, 'max_epochs': 500, 'momentum': 0.6, 'initialization': {'type': 'default', 'min': -0.5, 'max': 0.5}, 'early_stopping': {'monitor': 'val_loss', 'patience': 20, 'delta': 0.0}, 'task': 'classification', 'trials_train': 1, 'trials_final': 5, 'nesterov': False, 'learning_rate_decay': None, 'regularization': {'method': None}, 'activations_1': 'relu', 'units_1': 8}\n",
      "\n",
      "Executing fold 1/4\n"
     ]
    },
    {
     "name": "stderr",
     "output_type": "stream",
     "text": [
      "100%|█████████████████████████████████████████████| 1/1 [00:09<00:00,  9.49s/it]\n"
     ]
    },
    {
     "name": "stdout",
     "output_type": "stream",
     "text": [
      "Fold 1/4 median val_loss: 0.0008466796564869, std val_loss 0.0\n",
      "Fold 1/4 median train_loss: 0.0005026204162277, std train_loss 0.0\n",
      "Fold 1/4 median val_accuracy: 1.0, std val_accuracy 0.0\n",
      "Fold 1/4 median train_accuracy: 1.0, train_accuracy 0.0\n",
      "\n",
      "Executing fold 2/4\n"
     ]
    },
    {
     "name": "stderr",
     "output_type": "stream",
     "text": [
      "100%|█████████████████████████████████████████████| 1/1 [00:00<00:00,  2.20it/s]\n"
     ]
    },
    {
     "name": "stdout",
     "output_type": "stream",
     "text": [
      "Fold 2/4 median val_loss: 0.2287008490513026, std val_loss 0.0\n",
      "Fold 2/4 median train_loss: 0.2228084653615951, std train_loss 0.0\n",
      "Fold 2/4 median val_accuracy: 0.7142857313156128, std val_accuracy 0.0\n",
      "Fold 2/4 median train_accuracy: 0.5984252095222473, train_accuracy 0.0\n",
      "\n",
      "Executing fold 3/4\n"
     ]
    },
    {
     "name": "stderr",
     "output_type": "stream",
     "text": [
      "100%|█████████████████████████████████████████████| 1/1 [00:00<00:00,  2.42it/s]\n"
     ]
    },
    {
     "name": "stdout",
     "output_type": "stream",
     "text": [
      "Fold 3/4 median val_loss: 0.251105347375016, std val_loss 0.0\n",
      "Fold 3/4 median train_loss: 0.2216036319732666, std train_loss 0.0\n",
      "Fold 3/4 median val_accuracy: 0.5952380895614624, std val_accuracy 0.0\n",
      "Fold 3/4 median train_accuracy: 0.6299212574958801, train_accuracy 0.0\n",
      "\n",
      "Executing fold 4/4\n"
     ]
    },
    {
     "name": "stderr",
     "output_type": "stream",
     "text": [
      "100%|█████████████████████████████████████████████| 1/1 [00:09<00:00,  9.71s/it]\n"
     ]
    },
    {
     "name": "stdout",
     "output_type": "stream",
     "text": [
      "Fold 4/4 median val_loss: 0.0007533937911869, std val_loss 0.0\n",
      "Fold 4/4 median train_loss: 0.0006334018544293, std train_loss 0.0\n",
      "Fold 4/4 median val_accuracy: 1.0, std val_accuracy 0.0\n",
      "Fold 4/4 median train_accuracy: 1.0, train_accuracy 0.0\n",
      "\n",
      "Mean val_loss: 0.1203515674684981, std val_loss: 0.11981366693460065\n",
      "Mean train_loss: 0.11138702990137966, std train_loss: 0.11081984709960657\n",
      "Mean val_accuracy: 0.8273809552192688, std val_accuracy: 0.17767632719896917\n",
      "Mean train_accuracy: 0.8273809552192688, std train_accuracy: 0.1932345040746024\n",
      "\n",
      "\n",
      "\n",
      "Testing configuration 9/9:\n",
      "{'batch_size': None, 'learning_rate': 0.7, 'max_epochs': 500, 'momentum': 0.7, 'initialization': {'type': 'default', 'min': -0.5, 'max': 0.5}, 'early_stopping': {'monitor': 'val_loss', 'patience': 20, 'delta': 0.0}, 'task': 'classification', 'trials_train': 1, 'trials_final': 5, 'nesterov': False, 'learning_rate_decay': None, 'regularization': {'method': None}, 'activations_1': 'relu', 'units_1': 8}\n",
      "\n",
      "Executing fold 1/4\n"
     ]
    },
    {
     "name": "stderr",
     "output_type": "stream",
     "text": [
      "100%|█████████████████████████████████████████████| 1/1 [00:00<00:00,  2.36it/s]\n"
     ]
    },
    {
     "name": "stdout",
     "output_type": "stream",
     "text": [
      "Fold 1/4 median val_loss: 0.2366203310462777, std val_loss 0.0\n",
      "Fold 1/4 median train_loss: 0.1966755837202072, std train_loss 0.0\n",
      "Fold 1/4 median val_accuracy: 0.604651153087616, std val_accuracy 0.0\n",
      "Fold 1/4 median train_accuracy: 0.7222222089767456, train_accuracy 0.0\n",
      "\n",
      "Executing fold 2/4\n"
     ]
    },
    {
     "name": "stderr",
     "output_type": "stream",
     "text": [
      "100%|█████████████████████████████████████████████| 1/1 [00:00<00:00,  2.37it/s]\n"
     ]
    },
    {
     "name": "stdout",
     "output_type": "stream",
     "text": [
      "Fold 2/4 median val_loss: 0.2427636392682622, std val_loss 0.0\n",
      "Fold 2/4 median train_loss: 0.2221846729516983, std train_loss 0.0\n",
      "Fold 2/4 median val_accuracy: 0.5952380895614624, std val_accuracy 0.0\n",
      "Fold 2/4 median train_accuracy: 0.6614173054695129, train_accuracy 0.0\n",
      "\n",
      "Executing fold 3/4\n"
     ]
    },
    {
     "name": "stderr",
     "output_type": "stream",
     "text": [
      "100%|█████████████████████████████████████████████| 1/1 [00:10<00:00, 10.23s/it]\n"
     ]
    },
    {
     "name": "stdout",
     "output_type": "stream",
     "text": [
      "Fold 3/4 median val_loss: 0.0007527441966765, std val_loss 0.0\n",
      "Fold 3/4 median train_loss: 0.0003925011551473, std train_loss 0.0\n",
      "Fold 3/4 median val_accuracy: 1.0, std val_accuracy 0.0\n",
      "Fold 3/4 median train_accuracy: 1.0, train_accuracy 0.0\n",
      "\n",
      "Executing fold 4/4\n"
     ]
    },
    {
     "name": "stderr",
     "output_type": "stream",
     "text": [
      "100%|█████████████████████████████████████████████| 1/1 [00:09<00:00,  9.41s/it]\n"
     ]
    },
    {
     "name": "stdout",
     "output_type": "stream",
     "text": [
      "Fold 4/4 median val_loss: 0.0012600371765447, std val_loss 0.0\n",
      "Fold 4/4 median train_loss: 0.0003870083892252, std train_loss 0.0\n",
      "Fold 4/4 median val_accuracy: 1.0, std val_accuracy 0.0\n",
      "Fold 4/4 median train_accuracy: 1.0, train_accuracy 0.0\n",
      "\n",
      "Mean val_loss: 0.12034918792194027, std val_loss: 0.1193626949666969\n",
      "Mean train_loss: 0.10490994155406949, std train_loss: 0.10490857282828984\n",
      "Mean val_accuracy: 0.7999723106622696, std val_accuracy: 0.2000553728906325\n",
      "Mean train_accuracy: 0.7999723106622696, std train_accuracy: 0.15558251844541607\n",
      "\n",
      "\n",
      "\n",
      "\n",
      "\n",
      "\n",
      "Best configuration (loss 0.004608925935975625):\n",
      "{'batch_size': None, 'learning_rate': 0.7, 'max_epochs': 500, 'momentum': 0.5, 'initialization': {'type': 'default', 'min': -0.5, 'max': 0.5}, 'early_stopping': {'monitor': 'val_loss', 'patience': 20, 'delta': 0.0}, 'task': 'classification', 'trials_train': 1, 'trials_final': 5, 'nesterov': False, 'learning_rate_decay': None, 'regularization': {'method': None}, 'activations_1': 'relu', 'units_1': 8}\n"
     ]
    },
    {
     "name": "stderr",
     "output_type": "stream",
     "text": [
      " 20%|█████████                                    | 1/5 [00:09<00:38,  9.70s/it]"
     ]
    },
    {
     "name": "stdout",
     "output_type": "stream",
     "text": [
      "Trial 1/5 val_mse: 0.0015928584885168\n",
      "Trial 1/5 train_mse: 0.0012631569989025\n",
      "Trial 1/5 val_accuracy: 1.0\n",
      "Trial 1/5 train_accuracy: 1.0\n"
     ]
    },
    {
     "name": "stderr",
     "output_type": "stream",
     "text": [
      "\r",
      " 40%|██████████████████                           | 2/5 [00:18<00:28,  9.46s/it]"
     ]
    },
    {
     "name": "stdout",
     "output_type": "stream",
     "text": [
      "Trial 2/5 val_mse: 0.0013096652554108\n",
      "Trial 2/5 train_mse: 0.0008853789768181\n",
      "Trial 2/5 val_accuracy: 1.0\n",
      "Trial 2/5 train_accuracy: 1.0\n"
     ]
    },
    {
     "name": "stderr",
     "output_type": "stream",
     "text": [
      "\r",
      " 60%|███████████████████████████                  | 3/5 [00:28<00:18,  9.44s/it]"
     ]
    },
    {
     "name": "stdout",
     "output_type": "stream",
     "text": [
      "Trial 3/5 val_mse: 0.0016045935152508\n",
      "Trial 3/5 train_mse: 0.0008601369918324\n",
      "Trial 3/5 val_accuracy: 1.0\n",
      "Trial 3/5 train_accuracy: 1.0\n"
     ]
    },
    {
     "name": "stderr",
     "output_type": "stream",
     "text": [
      "\r",
      " 80%|████████████████████████████████████         | 4/5 [00:28<00:05,  5.89s/it]"
     ]
    },
    {
     "name": "stdout",
     "output_type": "stream",
     "text": [
      "Trial 4/5 val_mse: 0.2443974535491881\n",
      "Trial 4/5 train_mse: 0.2184171974658966\n",
      "Trial 4/5 val_accuracy: 0.7058823704719543\n",
      "Trial 4/5 train_accuracy: 0.625\n"
     ]
    },
    {
     "name": "stderr",
     "output_type": "stream",
     "text": [
      "100%|█████████████████████████████████████████████| 5/5 [00:37<00:00,  7.57s/it]"
     ]
    },
    {
     "name": "stdout",
     "output_type": "stream",
     "text": [
      "Trial 5/5 val_mse: 0.0013216550825877\n",
      "Trial 5/5 train_mse: 0.0007723518647253\n",
      "Trial 5/5 val_accuracy: 1.0\n",
      "Trial 5/5 train_accuracy: 1.0\n",
      "\n",
      "Median val_mse: 0.0015928584885168, std val_mse: 0.09717618678498717\n",
      "Median train_mse: 0.0012631569989025, std train_mse: 0.08698893949801523\n",
      "Median val_accuracy: 1.0, std val_accuracy: 0.11764705181121826\n",
      "Median train_accuracy: 1.0, std train_accuracy: 0.15\n",
      "\n",
      "Median model train_loss: 0.0012631569989025\n",
      "Median model val_loss: 0.0015928584885168\n",
      "\n",
      "Median model train_accuracy: 1.0\n",
      "Median model val_accuracy: 1.0\n"
     ]
    },
    {
     "name": "stderr",
     "output_type": "stream",
     "text": [
      "\n"
     ]
    },
    {
     "data": {
      "image/png": "[encoded data removed]",
      "text/plain": [
       "<Figure size 640x480 with 1 Axes>"
      ]
     },
     "metadata": {},
     "output_type": "display_data"
    },
    {
     "data": {
      "image/png": "[encoded data removed]",
      "text/plain": [
       "<Figure size 640x480 with 1 Axes>"
      ]
     },
     "metadata": {},
     "output_type": "display_data"
    }
   ],
   "source": [
    "model = grid_search(params, x_train, y_train, k_fold_val)"
   ]
  },
  {
   "cell_type": "code",
   "execution_count": 13,
   "id": "8644d708",
   "metadata": {},
   "outputs": [
    {
     "name": "stdout",
     "output_type": "stream",
     "text": [
      "Test MSE: 0.0015007249312475324\n",
      "Test accuracy: 1.0\n"
     ]
    }
   ],
   "source": [
    "test_model(model, x_test, y_test)"
   ]
  },
  {
   "cell_type": "markdown",
   "id": "8f02c069",
   "metadata": {},
   "source": [
    "# Monk 3"
   ]
  },
  {
   "cell_type": "code",
   "execution_count": 20,
   "id": "55619cba",
   "metadata": {
    "scrolled": true
   },
   "outputs": [
    {
     "name": "stdout",
     "output_type": "stream",
     "text": [
      "Loaded ./../data/monks-3 dataset\n",
      "(122, 17) (122,)\n",
      "(432, 17) (432,)\n"
     ]
    }
   ],
   "source": [
    "x_train, y_train, x_test, y_test = load_dataset(\"monks3\", True)\n",
    "print(x_train.shape, y_train.shape)\n",
    "print(x_test.shape, y_test.shape)"
   ]
  },
  {
   "cell_type": "code",
   "execution_count": 21,
   "id": "7c169d62",
   "metadata": {
    "scrolled": true
   },
   "outputs": [],
   "source": [
    "params = {\n",
    "    \"task\": \"classification\",\n",
    "    \"trials_train\": 1,\n",
    "    \"trials_final\": 5,\n",
    "    \"initialization\": {\n",
    "        \"type\": \"default\",\n",
    "    },\n",
    "    \"early_stopping\": {\n",
    "        \"monitor\": \"val_loss\",\n",
    "        \"patience\": 20,\n",
    "        \"delta\": 0.0\n",
    "    },\n",
    "    \"max_epochs\": [500],\n",
    "    \"learning_rate\": [0.01, 0.025, 0.05],\n",
    "    \"batch_size\": [None],\n",
    "    \"momentum\": [0.6, 0.7, 0.8],\n",
    "    \"nesterov\": False,\n",
    "    \"learning_rate_decay\": None,\n",
    "    \"regularization\": [\n",
    "        {\n",
    "            \"type\": \"l1\",\n",
    "            \"value\": [0.001]\n",
    "        }\n",
    "    ],\n",
    "    \"layers\": [\n",
    "        {\n",
    "            \"activations\": [\"relu\"],\n",
    "            \"units\": [16],\n",
    "        },\n",
    "    ]\n",
    "}\n",
    "\n",
    "k_fold_val = {\n",
    "    \"type\": \"k-fold\",\n",
    "    \"n_folds\": 4\n",
    "}\n",
    "\n",
    "hold_out_val = {\n",
    "    \"type\": \"hold-out\",\n",
    "    \"val_split\": 0.2\n",
    "}"
   ]
  },
  {
   "cell_type": "code",
   "execution_count": 22,
   "id": "420cace0",
   "metadata": {
    "scrolled": true
   },
   "outputs": [
    {
     "name": "stdout",
     "output_type": "stream",
     "text": [
      "Testing configuration 1/9:\n",
      "{'batch_size': None, 'learning_rate': 0.01, 'max_epochs': 500, 'momentum': 0.6, 'initialization': {'type': 'default'}, 'early_stopping': {'monitor': 'val_loss', 'patience': 20, 'delta': 0.0}, 'task': 'classification', 'trials_train': 1, 'trials_final': 5, 'nesterov': False, 'learning_rate_decay': None, 'regularization': {'method': 'l1', 'value': 0.001}, 'activations_1': 'relu', 'units_1': 16}\n",
      "\n",
      "Executing fold 1/4\n"
     ]
    },
    {
     "name": "stderr",
     "output_type": "stream",
     "text": [
      "100%|█████████████████████████████████████████████| 1/1 [00:10<00:00, 10.01s/it]\n"
     ]
    },
    {
     "name": "stdout",
     "output_type": "stream",
     "text": [
      "Fold 1/4 median val_loss: 0.231794999793206, std val_loss 0.0\n",
      "Fold 1/4 median train_loss: 0.2122948616743087, std train_loss 0.0\n",
      "Fold 1/4 median val_accuracy: 0.5806451439857483, std val_accuracy 0.0\n",
      "Fold 1/4 median train_accuracy: 0.8351648449897766, train_accuracy 0.0\n",
      "\n",
      "Executing fold 2/4\n"
     ]
    },
    {
     "name": "stderr",
     "output_type": "stream",
     "text": [
      "100%|█████████████████████████████████████████████| 1/1 [00:08<00:00,  8.86s/it]\n"
     ]
    },
    {
     "name": "stdout",
     "output_type": "stream",
     "text": [
      "Fold 2/4 median val_loss: 0.224554816809592, std val_loss 0.0\n",
      "Fold 2/4 median train_loss: 0.2187408655881881, std train_loss 0.0\n",
      "Fold 2/4 median val_accuracy: 0.8064516186714172, std val_accuracy 0.0\n",
      "Fold 2/4 median train_accuracy: 0.8461538553237915, train_accuracy 0.0\n",
      "\n",
      "Executing fold 3/4\n"
     ]
    },
    {
     "name": "stderr",
     "output_type": "stream",
     "text": [
      "100%|█████████████████████████████████████████████| 1/1 [00:09<00:00,  9.76s/it]\n"
     ]
    },
    {
     "name": "stdout",
     "output_type": "stream",
     "text": [
      "Fold 3/4 median val_loss: 0.2104594715738886, std val_loss 0.0\n",
      "Fold 3/4 median train_loss: 0.2158235311508178, std train_loss 0.0\n",
      "Fold 3/4 median val_accuracy: 0.9333333373069764, std val_accuracy 0.0\n",
      "Fold 3/4 median train_accuracy: 0.9021739363670348, train_accuracy 0.0\n",
      "\n",
      "Executing fold 4/4\n"
     ]
    },
    {
     "name": "stderr",
     "output_type": "stream",
     "text": [
      "100%|█████████████████████████████████████████████| 1/1 [00:08<00:00,  8.84s/it]\n"
     ]
    },
    {
     "name": "stdout",
     "output_type": "stream",
     "text": [
      "Fold 4/4 median val_loss: 0.2074660154612257, std val_loss 0.0\n",
      "Fold 4/4 median train_loss: 0.1968419253826141, std train_loss 0.0\n",
      "Fold 4/4 median val_accuracy: 0.8333333134651184, std val_accuracy 0.0\n",
      "Fold 4/4 median train_accuracy: 0.8913043737411499, train_accuracy 0.0\n",
      "\n",
      "Mean val_loss: 0.21856882590947807, std val_loss: 0.009997472058585848\n",
      "Mean train_loss: 0.21092529594898218, std train_loss: 0.008445307479059161\n",
      "Mean val_accuracy: 0.7884408533573151, std val_accuracy: 0.12895019327250531\n",
      "Mean train_accuracy: 0.7884408533573151, std train_accuracy: 0.02856745257815143\n",
      "\n",
      "\n",
      "\n",
      "Testing configuration 2/9:\n",
      "{'batch_size': None, 'learning_rate': 0.01, 'max_epochs': 500, 'momentum': 0.7, 'initialization': {'type': 'default'}, 'early_stopping': {'monitor': 'val_loss', 'patience': 20, 'delta': 0.0}, 'task': 'classification', 'trials_train': 1, 'trials_final': 5, 'nesterov': False, 'learning_rate_decay': None, 'regularization': {'method': 'l1', 'value': 0.001}, 'activations_1': 'relu', 'units_1': 16}\n",
      "\n",
      "Executing fold 1/4\n"
     ]
    },
    {
     "name": "stderr",
     "output_type": "stream",
     "text": [
      "100%|█████████████████████████████████████████████| 1/1 [00:10<00:00, 10.33s/it]\n"
     ]
    },
    {
     "name": "stdout",
     "output_type": "stream",
     "text": [
      "Fold 1/4 median val_loss: 0.1835922773599279, std val_loss 0.0\n",
      "Fold 1/4 median train_loss: 0.1723135560750961, std train_loss 0.0\n",
      "Fold 1/4 median val_accuracy: 0.9032257795333862, std val_accuracy 0.0\n",
      "Fold 1/4 median train_accuracy: 0.8571428656578064, train_accuracy 0.0\n",
      "\n",
      "Executing fold 2/4\n"
     ]
    },
    {
     "name": "stderr",
     "output_type": "stream",
     "text": [
      "100%|█████████████████████████████████████████████| 1/1 [00:10<00:00, 10.32s/it]\n"
     ]
    },
    {
     "name": "stdout",
     "output_type": "stream",
     "text": [
      "Fold 2/4 median val_loss: 0.2050234277650874, std val_loss 0.0\n",
      "Fold 2/4 median train_loss: 0.1647557467222213, std train_loss 0.0\n",
      "Fold 2/4 median val_accuracy: 0.7419354915618896, std val_accuracy 0.0\n",
      "Fold 2/4 median train_accuracy: 0.9230769276618958, train_accuracy 0.0\n",
      "\n",
      "Executing fold 3/4\n"
     ]
    },
    {
     "name": "stderr",
     "output_type": "stream",
     "text": [
      "100%|█████████████████████████████████████████████| 1/1 [00:09<00:00,  9.91s/it]\n"
     ]
    },
    {
     "name": "stdout",
     "output_type": "stream",
     "text": [
      "Fold 3/4 median val_loss: 0.1543788578083854, std val_loss 0.0\n",
      "Fold 3/4 median train_loss: 0.1249678954482078, std train_loss 0.0\n",
      "Fold 3/4 median val_accuracy: 0.9333333373069764, std val_accuracy 0.0\n",
      "Fold 3/4 median train_accuracy: 0.9239130616188048, train_accuracy 0.0\n",
      "\n",
      "Executing fold 4/4\n"
     ]
    },
    {
     "name": "stderr",
     "output_type": "stream",
     "text": [
      "100%|█████████████████████████████████████████████| 1/1 [00:10<00:00, 10.10s/it]\n"
     ]
    },
    {
     "name": "stdout",
     "output_type": "stream",
     "text": [
      "Fold 4/4 median val_loss: 0.1705054412687016, std val_loss 0.0\n",
      "Fold 4/4 median train_loss: 0.170230433344841, std train_loss 0.0\n",
      "Fold 4/4 median val_accuracy: 0.8666666746139526, std val_accuracy 0.0\n",
      "Fold 4/4 median train_accuracy: 0.8913043737411499, train_accuracy 0.0\n",
      "\n",
      "Mean val_loss: 0.1783750010505256, std val_loss: 0.01854119386735273\n",
      "Mean train_loss: 0.15806690789759154, std train_loss: 0.019308052242172264\n",
      "Mean val_accuracy: 0.8612903207540512, std val_accuracy: 0.07284102444604157\n",
      "Mean train_accuracy: 0.8612903207540512, std train_accuracy: 0.027438669181581686\n",
      "\n",
      "\n",
      "\n",
      "Testing configuration 3/9:\n",
      "{'batch_size': None, 'learning_rate': 0.01, 'max_epochs': 500, 'momentum': 0.8, 'initialization': {'type': 'default'}, 'early_stopping': {'monitor': 'val_loss', 'patience': 20, 'delta': 0.0}, 'task': 'classification', 'trials_train': 1, 'trials_final': 5, 'nesterov': False, 'learning_rate_decay': None, 'regularization': {'method': 'l1', 'value': 0.001}, 'activations_1': 'relu', 'units_1': 16}\n",
      "\n",
      "Executing fold 1/4\n"
     ]
    },
    {
     "name": "stderr",
     "output_type": "stream",
     "text": [
      "100%|█████████████████████████████████████████████| 1/1 [00:09<00:00,  9.61s/it]\n"
     ]
    },
    {
     "name": "stdout",
     "output_type": "stream",
     "text": [
      "Fold 1/4 median val_loss: 0.1437492183456523, std val_loss 0.0\n",
      "Fold 1/4 median train_loss: 0.1118910759687423, std train_loss 0.0\n",
      "Fold 1/4 median val_accuracy: 0.8064516186714172, std val_accuracy 0.0\n",
      "Fold 1/4 median train_accuracy: 0.9230769276618958, train_accuracy 0.0\n",
      "\n",
      "Executing fold 2/4\n"
     ]
    },
    {
     "name": "stderr",
     "output_type": "stream",
     "text": [
      "100%|█████████████████████████████████████████████| 1/1 [00:08<00:00,  8.90s/it]\n"
     ]
    },
    {
     "name": "stdout",
     "output_type": "stream",
     "text": [
      "Fold 2/4 median val_loss: 0.197496499126661, std val_loss 0.0\n",
      "Fold 2/4 median train_loss: 0.0918289870023727, std train_loss 0.0\n",
      "Fold 2/4 median val_accuracy: 0.8064516186714172, std val_accuracy 0.0\n",
      "Fold 2/4 median train_accuracy: 0.9780219793319702, train_accuracy 0.0\n",
      "\n",
      "Executing fold 3/4\n"
     ]
    },
    {
     "name": "stderr",
     "output_type": "stream",
     "text": [
      "100%|█████████████████████████████████████████████| 1/1 [00:08<00:00,  8.45s/it]\n"
     ]
    },
    {
     "name": "stdout",
     "output_type": "stream",
     "text": [
      "Fold 3/4 median val_loss: 0.1216422150446557, std val_loss 0.0\n",
      "Fold 3/4 median train_loss: 0.1269483268260955, std train_loss 0.0\n",
      "Fold 3/4 median val_accuracy: 0.9666666388511658, std val_accuracy 0.0\n",
      "Fold 3/4 median train_accuracy: 0.91304349899292, train_accuracy 0.0\n",
      "\n",
      "Executing fold 4/4\n"
     ]
    },
    {
     "name": "stderr",
     "output_type": "stream",
     "text": [
      "100%|█████████████████████████████████████████████| 1/1 [00:09<00:00,  9.66s/it]\n"
     ]
    },
    {
     "name": "stdout",
     "output_type": "stream",
     "text": [
      "Fold 4/4 median val_loss: 0.0893891856632101, std val_loss 0.0\n",
      "Fold 4/4 median train_loss: 0.1062959060072898, std train_loss 0.0\n",
      "Fold 4/4 median val_accuracy: 0.9666666388511658, std val_accuracy 0.0\n",
      "Fold 4/4 median train_accuracy: 0.9239130616188048, train_accuracy 0.0\n",
      "\n",
      "Mean val_loss: 0.13806927954504478, std val_loss: 0.03938101103458512\n",
      "Mean train_loss: 0.10924107395112506, std train_loss: 0.012574021842670619\n",
      "Mean val_accuracy: 0.8865591287612915, std val_accuracy: 0.08010751008987427\n",
      "Mean train_accuracy: 0.8865591287612915, std train_accuracy: 0.025480939921852543\n",
      "\n",
      "\n",
      "\n",
      "Testing configuration 4/9:\n",
      "{'batch_size': None, 'learning_rate': 0.025, 'max_epochs': 500, 'momentum': 0.6, 'initialization': {'type': 'default'}, 'early_stopping': {'monitor': 'val_loss', 'patience': 20, 'delta': 0.0}, 'task': 'classification', 'trials_train': 1, 'trials_final': 5, 'nesterov': False, 'learning_rate_decay': None, 'regularization': {'method': 'l1', 'value': 0.001}, 'activations_1': 'relu', 'units_1': 16}\n",
      "\n",
      "Executing fold 1/4\n"
     ]
    },
    {
     "name": "stderr",
     "output_type": "stream",
     "text": [
      "100%|█████████████████████████████████████████████| 1/1 [00:09<00:00,  9.80s/it]\n"
     ]
    },
    {
     "name": "stdout",
     "output_type": "stream",
     "text": [
      "Fold 1/4 median val_loss: 0.1219260105534574, std val_loss 0.0\n",
      "Fold 1/4 median train_loss: 0.0752342343330383, std train_loss 0.0\n",
      "Fold 1/4 median val_accuracy: 0.9032257795333862, std val_accuracy 0.0\n",
      "Fold 1/4 median train_accuracy: 0.9450549483299256, train_accuracy 0.0\n",
      "\n",
      "Executing fold 2/4\n"
     ]
    },
    {
     "name": "stderr",
     "output_type": "stream",
     "text": [
      "100%|█████████████████████████████████████████████| 1/1 [00:09<00:00,  9.64s/it]\n"
     ]
    },
    {
     "name": "stdout",
     "output_type": "stream",
     "text": [
      "Fold 2/4 median val_loss: 0.1651975517107329, std val_loss 0.0\n",
      "Fold 2/4 median train_loss: 0.1049690321087837, std train_loss 0.0\n",
      "Fold 2/4 median val_accuracy: 0.8387096524238586, std val_accuracy 0.0\n",
      "Fold 2/4 median train_accuracy: 0.9230769276618958, train_accuracy 0.0\n",
      "\n",
      "Executing fold 3/4\n"
     ]
    },
    {
     "name": "stderr",
     "output_type": "stream",
     "text": [
      "100%|█████████████████████████████████████████████| 1/1 [00:10<00:00, 10.40s/it]\n"
     ]
    },
    {
     "name": "stdout",
     "output_type": "stream",
     "text": [
      "Fold 3/4 median val_loss: 0.0944735283983898, std val_loss 0.0\n",
      "Fold 3/4 median train_loss: 0.1129854843020439, std train_loss 0.0\n",
      "Fold 3/4 median val_accuracy: 0.9666666388511658, std val_accuracy 0.0\n",
      "Fold 3/4 median train_accuracy: 0.91304349899292, train_accuracy 0.0\n",
      "\n",
      "Executing fold 4/4\n"
     ]
    },
    {
     "name": "stderr",
     "output_type": "stream",
     "text": [
      "100%|█████████████████████████████████████████████| 1/1 [00:09<00:00,  9.96s/it]\n"
     ]
    },
    {
     "name": "stdout",
     "output_type": "stream",
     "text": [
      "Fold 4/4 median val_loss: 0.0645739010743631, std val_loss 0.0\n",
      "Fold 4/4 median train_loss: 0.0962813347578048, std train_loss 0.0\n",
      "Fold 4/4 median val_accuracy: 0.9666666388511658, std val_accuracy 0.0\n",
      "Fold 4/4 median train_accuracy: 0.9239130616188048, train_accuracy 0.0\n",
      "\n",
      "Mean val_loss: 0.1115427479342358, std val_loss: 0.037027290414717126\n",
      "Mean train_loss: 0.09736752137541768, std train_loss: 0.014078049652522805\n",
      "Mean val_accuracy: 0.9188171774148941, std val_accuracy: 0.053008134204976874\n",
      "Mean train_accuracy: 0.9188171774148941, std train_accuracy: 0.01165724521856806\n",
      "\n",
      "\n",
      "\n",
      "Testing configuration 5/9:\n",
      "{'batch_size': None, 'learning_rate': 0.025, 'max_epochs': 500, 'momentum': 0.7, 'initialization': {'type': 'default'}, 'early_stopping': {'monitor': 'val_loss', 'patience': 20, 'delta': 0.0}, 'task': 'classification', 'trials_train': 1, 'trials_final': 5, 'nesterov': False, 'learning_rate_decay': None, 'regularization': {'method': 'l1', 'value': 0.001}, 'activations_1': 'relu', 'units_1': 16}\n",
      "\n",
      "Executing fold 1/4\n"
     ]
    },
    {
     "name": "stderr",
     "output_type": "stream",
     "text": [
      "100%|█████████████████████████████████████████████| 1/1 [00:10<00:00, 10.26s/it]\n"
     ]
    },
    {
     "name": "stdout",
     "output_type": "stream",
     "text": [
      "Fold 1/4 median val_loss: 0.0945282993674693, std val_loss 0.0\n",
      "Fold 1/4 median train_loss: 0.0663746669888496, std train_loss 0.0\n",
      "Fold 1/4 median val_accuracy: 0.9032257795333862, std val_accuracy 0.0\n",
      "Fold 1/4 median train_accuracy: 0.9450549483299256, train_accuracy 0.0\n",
      "\n",
      "Executing fold 2/4\n"
     ]
    },
    {
     "name": "stderr",
     "output_type": "stream",
     "text": [
      "100%|█████████████████████████████████████████████| 1/1 [00:12<00:00, 12.25s/it]\n"
     ]
    },
    {
     "name": "stdout",
     "output_type": "stream",
     "text": [
      "Fold 2/4 median val_loss: 0.096711574417991, std val_loss 0.0\n",
      "Fold 2/4 median train_loss: 0.0652837976813316, std train_loss 0.0\n",
      "Fold 2/4 median val_accuracy: 0.9032257795333862, std val_accuracy 0.0\n",
      "Fold 2/4 median train_accuracy: 0.9450549483299256, train_accuracy 0.0\n",
      "\n",
      "Executing fold 3/4\n"
     ]
    },
    {
     "name": "stderr",
     "output_type": "stream",
     "text": [
      "100%|█████████████████████████████████████████████| 1/1 [00:00<00:00,  2.70it/s]\n"
     ]
    },
    {
     "name": "stdout",
     "output_type": "stream",
     "text": [
      "Fold 3/4 median val_loss: 0.2404142857687733, std val_loss 0.0\n",
      "Fold 3/4 median train_loss: 0.2503399848937988, std train_loss 0.0\n",
      "Fold 3/4 median val_accuracy: 0.6333333253860474, std val_accuracy 0.0\n",
      "Fold 3/4 median train_accuracy: 0.554347813129425, train_accuracy 0.0\n",
      "\n",
      "Executing fold 4/4\n"
     ]
    },
    {
     "name": "stderr",
     "output_type": "stream",
     "text": [
      "100%|█████████████████████████████████████████████| 1/1 [00:11<00:00, 11.17s/it]\n"
     ]
    },
    {
     "name": "stdout",
     "output_type": "stream",
     "text": [
      "Fold 4/4 median val_loss: 0.0621847880096048, std val_loss 0.0\n",
      "Fold 4/4 median train_loss: 0.0795216336846351, std train_loss 0.0\n",
      "Fold 4/4 median val_accuracy: 0.9666666388511658, std val_accuracy 0.0\n",
      "Fold 4/4 median train_accuracy: 0.9239130616188048, train_accuracy 0.0\n",
      "\n",
      "Mean val_loss: 0.1234597368909596, std val_loss: 0.06889390055817987\n",
      "Mean train_loss: 0.11538002081215377, std train_loss: 0.07812037523531595\n",
      "Mean val_accuracy: 0.8516128808259964, std val_accuracy: 0.12865760197587878\n",
      "Mean train_accuracy: 0.8516128808259964, std train_accuracy: 0.1663536448788381\n",
      "\n",
      "\n",
      "\n",
      "Testing configuration 6/9:\n",
      "{'batch_size': None, 'learning_rate': 0.025, 'max_epochs': 500, 'momentum': 0.8, 'initialization': {'type': 'default'}, 'early_stopping': {'monitor': 'val_loss', 'patience': 20, 'delta': 0.0}, 'task': 'classification', 'trials_train': 1, 'trials_final': 5, 'nesterov': False, 'learning_rate_decay': None, 'regularization': {'method': 'l1', 'value': 0.001}, 'activations_1': 'relu', 'units_1': 16}\n",
      "\n",
      "Executing fold 1/4\n"
     ]
    },
    {
     "name": "stderr",
     "output_type": "stream",
     "text": [
      "100%|█████████████████████████████████████████████| 1/1 [00:10<00:00, 10.61s/it]\n"
     ]
    },
    {
     "name": "stdout",
     "output_type": "stream",
     "text": [
      "Fold 1/4 median val_loss: 0.070862580551886, std val_loss 0.0\n",
      "Fold 1/4 median train_loss: 0.0607794001698493, std train_loss 0.0\n",
      "Fold 1/4 median val_accuracy: 0.9354838728904724, std val_accuracy 0.0\n",
      "Fold 1/4 median train_accuracy: 0.9340659379959106, train_accuracy 0.0\n",
      "\n",
      "Executing fold 2/4\n"
     ]
    },
    {
     "name": "stderr",
     "output_type": "stream",
     "text": [
      "100%|█████████████████████████████████████████████| 1/1 [00:11<00:00, 11.49s/it]\n"
     ]
    },
    {
     "name": "stdout",
     "output_type": "stream",
     "text": [
      "Fold 2/4 median val_loss: 0.0469932614008222, std val_loss 0.0\n",
      "Fold 2/4 median train_loss: 0.067523717880249, std train_loss 0.0\n",
      "Fold 2/4 median val_accuracy: 0.9677419066429138, std val_accuracy 0.0\n",
      "Fold 2/4 median train_accuracy: 0.9340659379959106, train_accuracy 0.0\n",
      "\n",
      "Executing fold 3/4\n"
     ]
    },
    {
     "name": "stderr",
     "output_type": "stream",
     "text": [
      "100%|█████████████████████████████████████████████| 1/1 [00:08<00:00,  8.41s/it]\n"
     ]
    },
    {
     "name": "stdout",
     "output_type": "stream",
     "text": [
      "Fold 3/4 median val_loss: 0.0889988676972545, std val_loss 0.0\n",
      "Fold 3/4 median train_loss: 0.057664655148983, std train_loss 0.0\n",
      "Fold 3/4 median val_accuracy: 0.8999999761581421, std val_accuracy 0.0\n",
      "Fold 3/4 median train_accuracy: 0.945652186870575, train_accuracy 0.0\n",
      "\n",
      "Executing fold 4/4\n"
     ]
    },
    {
     "name": "stderr",
     "output_type": "stream",
     "text": [
      "100%|█████████████████████████████████████████████| 1/1 [00:09<00:00,  9.31s/it]\n"
     ]
    },
    {
     "name": "stdout",
     "output_type": "stream",
     "text": [
      "Fold 4/4 median val_loss: 0.0797110565649016, std val_loss 0.0\n",
      "Fold 4/4 median train_loss: 0.0570328794419765, std train_loss 0.0\n",
      "Fold 4/4 median val_accuracy: 0.9333333373069764, std val_accuracy 0.0\n",
      "Fold 4/4 median train_accuracy: 0.945652186870575, train_accuracy 0.0\n",
      "\n",
      "Mean val_loss: 0.07164144155371607, std val_loss: 0.015608798304696818\n",
      "Mean train_loss: 0.06075016316026445, std train_loss: 0.004159941594460344\n",
      "Mean val_accuracy: 0.9341397732496262, std val_accuracy: 0.023963962823384\n",
      "Mean train_accuracy: 0.9341397732496262, std train_accuracy: 0.005793124437332153\n",
      "\n",
      "\n",
      "\n",
      "Testing configuration 7/9:\n",
      "{'batch_size': None, 'learning_rate': 0.05, 'max_epochs': 500, 'momentum': 0.6, 'initialization': {'type': 'default'}, 'early_stopping': {'monitor': 'val_loss', 'patience': 20, 'delta': 0.0}, 'task': 'classification', 'trials_train': 1, 'trials_final': 5, 'nesterov': False, 'learning_rate_decay': None, 'regularization': {'method': 'l1', 'value': 0.001}, 'activations_1': 'relu', 'units_1': 16}\n",
      "\n",
      "Executing fold 1/4\n"
     ]
    },
    {
     "name": "stderr",
     "output_type": "stream",
     "text": [
      "100%|█████████████████████████████████████████████| 1/1 [00:09<00:00,  9.93s/it]\n"
     ]
    },
    {
     "name": "stdout",
     "output_type": "stream",
     "text": [
      "Fold 1/4 median val_loss: 0.0869403868795034, std val_loss 0.0\n",
      "Fold 1/4 median train_loss: 0.0520063824951648, std train_loss 0.0\n",
      "Fold 1/4 median val_accuracy: 0.9032257795333862, std val_accuracy 0.0\n",
      "Fold 1/4 median train_accuracy: 0.9560439586639404, train_accuracy 0.0\n",
      "\n",
      "Executing fold 2/4\n"
     ]
    },
    {
     "name": "stderr",
     "output_type": "stream",
     "text": [
      "100%|█████████████████████████████████████████████| 1/1 [00:00<00:00,  2.60it/s]\n"
     ]
    },
    {
     "name": "stdout",
     "output_type": "stream",
     "text": [
      "Fold 2/4 median val_loss: 0.242672940450505, std val_loss 0.0\n",
      "Fold 2/4 median train_loss: 0.2455697059631347, std train_loss 0.0\n",
      "Fold 2/4 median val_accuracy: 0.5806451439857483, std val_accuracy 0.0\n",
      "Fold 2/4 median train_accuracy: 0.6153846383094788, train_accuracy 0.0\n",
      "\n",
      "Executing fold 3/4\n"
     ]
    },
    {
     "name": "stderr",
     "output_type": "stream",
     "text": [
      "100%|█████████████████████████████████████████████| 1/1 [00:09<00:00,  9.51s/it]\n"
     ]
    },
    {
     "name": "stdout",
     "output_type": "stream",
     "text": [
      "Fold 3/4 median val_loss: 0.041918934078164, std val_loss 0.0\n",
      "Fold 3/4 median train_loss: 0.0707008689641952, std train_loss 0.0\n",
      "Fold 3/4 median val_accuracy: 0.9666666388511658, std val_accuracy 0.0\n",
      "Fold 3/4 median train_accuracy: 0.9239130616188048, train_accuracy 0.0\n",
      "\n",
      "Executing fold 4/4\n"
     ]
    },
    {
     "name": "stderr",
     "output_type": "stream",
     "text": [
      "100%|█████████████████████████████████████████████| 1/1 [00:08<00:00,  8.25s/it]\n"
     ]
    },
    {
     "name": "stdout",
     "output_type": "stream",
     "text": [
      "Fold 4/4 median val_loss: 0.1047302730937269, std val_loss 0.0\n",
      "Fold 4/4 median train_loss: 0.050082791596651, std train_loss 0.0\n",
      "Fold 4/4 median val_accuracy: 0.8999999761581421, std val_accuracy 0.0\n",
      "Fold 4/4 median train_accuracy: 0.95652174949646, train_accuracy 0.0\n",
      "\n",
      "Mean val_loss: 0.11906563362547481, std val_loss: 0.07494650357362401\n",
      "Mean train_loss: 0.10458993725478644, std train_loss: 0.08179215013315619\n",
      "Mean val_accuracy: 0.8376343846321106, std val_accuracy: 0.15073527335060935\n",
      "Mean train_accuracy: 0.8376343846321106, std train_accuracy: 0.14355073983552127\n",
      "\n",
      "\n",
      "\n",
      "Testing configuration 8/9:\n",
      "{'batch_size': None, 'learning_rate': 0.05, 'max_epochs': 500, 'momentum': 0.7, 'initialization': {'type': 'default'}, 'early_stopping': {'monitor': 'val_loss', 'patience': 20, 'delta': 0.0}, 'task': 'classification', 'trials_train': 1, 'trials_final': 5, 'nesterov': False, 'learning_rate_decay': None, 'regularization': {'method': 'l1', 'value': 0.001}, 'activations_1': 'relu', 'units_1': 16}\n",
      "\n",
      "Executing fold 1/4\n"
     ]
    },
    {
     "name": "stderr",
     "output_type": "stream",
     "text": [
      "100%|█████████████████████████████████████████████| 1/1 [00:10<00:00, 10.23s/it]\n"
     ]
    },
    {
     "name": "stdout",
     "output_type": "stream",
     "text": [
      "Fold 1/4 median val_loss: 0.0581863824086158, std val_loss 0.0\n",
      "Fold 1/4 median train_loss: 0.0583495944738388, std train_loss 0.0\n",
      "Fold 1/4 median val_accuracy: 0.9354838728904724, std val_accuracy 0.0\n",
      "Fold 1/4 median train_accuracy: 0.9450549483299256, train_accuracy 0.0\n",
      "\n",
      "Executing fold 2/4\n"
     ]
    },
    {
     "name": "stderr",
     "output_type": "stream",
     "text": [
      "100%|█████████████████████████████████████████████| 1/1 [00:08<00:00,  8.96s/it]\n"
     ]
    },
    {
     "name": "stdout",
     "output_type": "stream",
     "text": [
      "Fold 2/4 median val_loss: 0.1035598856496789, std val_loss 0.0\n",
      "Fold 2/4 median train_loss: 0.0457682497799396, std train_loss 0.0\n",
      "Fold 2/4 median val_accuracy: 0.8709677457809448, std val_accuracy 0.0\n",
      "Fold 2/4 median train_accuracy: 0.9560439586639404, train_accuracy 0.0\n",
      "\n",
      "Executing fold 3/4\n"
     ]
    },
    {
     "name": "stderr",
     "output_type": "stream",
     "text": [
      "100%|█████████████████████████████████████████████| 1/1 [00:06<00:00,  6.19s/it]\n"
     ]
    },
    {
     "name": "stdout",
     "output_type": "stream",
     "text": [
      "Fold 3/4 median val_loss: 0.0727085634955907, std val_loss 0.0\n",
      "Fold 3/4 median train_loss: 0.0641674771904945, std train_loss 0.0\n",
      "Fold 3/4 median val_accuracy: 0.9333333373069764, std val_accuracy 0.0\n",
      "Fold 3/4 median train_accuracy: 0.945652186870575, train_accuracy 0.0\n",
      "\n",
      "Executing fold 4/4\n"
     ]
    },
    {
     "name": "stderr",
     "output_type": "stream",
     "text": [
      "100%|█████████████████████████████████████████████| 1/1 [00:09<00:00,  9.96s/it]\n"
     ]
    },
    {
     "name": "stdout",
     "output_type": "stream",
     "text": [
      "Fold 4/4 median val_loss: 0.0605768254617849, std val_loss 0.0\n",
      "Fold 4/4 median train_loss: 0.0619040764868259, std train_loss 0.0\n",
      "Fold 4/4 median val_accuracy: 0.9333333373069764, std val_accuracy 0.0\n",
      "Fold 4/4 median train_accuracy: 0.93478262424469, train_accuracy 0.0\n",
      "\n",
      "Mean val_loss: 0.07375791425391758, std val_loss: 0.018065660393707657\n",
      "Mean train_loss: 0.05754734948277469, std train_loss: 0.007109816240406035\n",
      "Mean val_accuracy: 0.9182795733213425, std val_accuracy: 0.02732960194160827\n",
      "Mean train_accuracy: 0.9182795733213425, std train_accuracy: 0.007520041298416572\n",
      "\n",
      "\n",
      "\n",
      "Testing configuration 9/9:\n",
      "{'batch_size': None, 'learning_rate': 0.05, 'max_epochs': 500, 'momentum': 0.8, 'initialization': {'type': 'default'}, 'early_stopping': {'monitor': 'val_loss', 'patience': 20, 'delta': 0.0}, 'task': 'classification', 'trials_train': 1, 'trials_final': 5, 'nesterov': False, 'learning_rate_decay': None, 'regularization': {'method': 'l1', 'value': 0.001}, 'activations_1': 'relu', 'units_1': 16}\n",
      "\n",
      "Executing fold 1/4\n"
     ]
    },
    {
     "name": "stderr",
     "output_type": "stream",
     "text": [
      "100%|█████████████████████████████████████████████| 1/1 [00:09<00:00,  9.10s/it]\n"
     ]
    },
    {
     "name": "stdout",
     "output_type": "stream",
     "text": [
      "Fold 1/4 median val_loss: 0.0596099210875942, std val_loss 0.0\n",
      "Fold 1/4 median train_loss: 0.0511022992432117, std train_loss 0.0\n",
      "Fold 1/4 median val_accuracy: 0.9354838728904724, std val_accuracy 0.0\n",
      "Fold 1/4 median train_accuracy: 0.9560439586639404, train_accuracy 0.0\n",
      "\n",
      "Executing fold 2/4\n"
     ]
    },
    {
     "name": "stderr",
     "output_type": "stream",
     "text": [
      "100%|█████████████████████████████████████████████| 1/1 [00:03<00:00,  3.92s/it]\n"
     ]
    },
    {
     "name": "stdout",
     "output_type": "stream",
     "text": [
      "Fold 2/4 median val_loss: 0.0905713444231491, std val_loss 0.0\n",
      "Fold 2/4 median train_loss: 0.0597331039607524, std train_loss 0.0\n",
      "Fold 2/4 median val_accuracy: 0.9354838728904724, std val_accuracy 0.0\n",
      "Fold 2/4 median train_accuracy: 0.9340659379959106, train_accuracy 0.0\n",
      "\n",
      "Executing fold 3/4\n"
     ]
    },
    {
     "name": "stderr",
     "output_type": "stream",
     "text": [
      "100%|█████████████████████████████████████████████| 1/1 [00:08<00:00,  8.39s/it]\n"
     ]
    },
    {
     "name": "stdout",
     "output_type": "stream",
     "text": [
      "Fold 3/4 median val_loss: 0.0560668010112455, std val_loss 0.0\n",
      "Fold 3/4 median train_loss: 0.0512301810085773, std train_loss 0.0\n",
      "Fold 3/4 median val_accuracy: 0.9666666388511658, std val_accuracy 0.0\n",
      "Fold 3/4 median train_accuracy: 0.95652174949646, train_accuracy 0.0\n",
      "\n",
      "Executing fold 4/4\n"
     ]
    },
    {
     "name": "stderr",
     "output_type": "stream",
     "text": [
      "100%|█████████████████████████████████████████████| 1/1 [00:07<00:00,  7.39s/it]\n"
     ]
    },
    {
     "name": "stdout",
     "output_type": "stream",
     "text": [
      "Fold 4/4 median val_loss: 0.0812742542662966, std val_loss 0.0\n",
      "Fold 4/4 median train_loss: 0.0463671311736106, std train_loss 0.0\n",
      "Fold 4/4 median val_accuracy: 0.8999999761581421, std val_accuracy 0.0\n",
      "Fold 4/4 median train_accuracy: 0.95652174949646, train_accuracy 0.0\n",
      "\n",
      "Mean val_loss: 0.07188058019707134, std val_loss: 0.01447610502684265\n",
      "Mean train_loss: 0.052108178846538, std train_loss: 0.004818759834232614\n",
      "Mean val_accuracy: 0.9344085901975632, std val_accuracy: 0.02359473929073692\n",
      "Mean train_accuracy: 0.9344085901975632, std train_accuracy: 0.009656658651353059\n",
      "\n",
      "\n",
      "\n",
      "\n",
      "\n",
      "\n",
      "Best configuration (loss 0.07164144155371607):\n",
      "{'batch_size': None, 'learning_rate': 0.025, 'max_epochs': 500, 'momentum': 0.8, 'initialization': {'type': 'default'}, 'early_stopping': {'monitor': 'val_loss', 'patience': 20, 'delta': 0.0}, 'task': 'classification', 'trials_train': 1, 'trials_final': 5, 'nesterov': False, 'learning_rate_decay': None, 'regularization': {'method': 'l1', 'value': 0.001}, 'activations_1': 'relu', 'units_1': 16}\n"
     ]
    },
    {
     "name": "stderr",
     "output_type": "stream",
     "text": [
      " 20%|█████████                                    | 1/5 [00:07<00:31,  7.92s/it]"
     ]
    },
    {
     "name": "stdout",
     "output_type": "stream",
     "text": [
      "Trial 1/5 val_mse: 0.014117240685957\n",
      "Trial 1/5 train_mse: 0.0664972364902496\n",
      "Trial 1/5 val_accuracy: 1.0\n",
      "Trial 1/5 train_accuracy: 0.9266055226325988\n"
     ]
    },
    {
     "name": "stderr",
     "output_type": "stream",
     "text": [
      "\r",
      " 40%|██████████████████                           | 2/5 [00:16<00:24,  8.32s/it]"
     ]
    },
    {
     "name": "stdout",
     "output_type": "stream",
     "text": [
      "Trial 2/5 val_mse: 0.0208751400408454\n",
      "Trial 2/5 train_mse: 0.0680831968784332\n",
      "Trial 2/5 val_accuracy: 1.0\n",
      "Trial 2/5 train_accuracy: 0.9266055226325988\n"
     ]
    },
    {
     "name": "stderr",
     "output_type": "stream",
     "text": [
      "\r",
      " 60%|███████████████████████████                  | 3/5 [00:24<00:16,  8.32s/it]"
     ]
    },
    {
     "name": "stdout",
     "output_type": "stream",
     "text": [
      "Trial 3/5 val_mse: 0.021909033112959\n",
      "Trial 3/5 train_mse: 0.068741351366043\n",
      "Trial 3/5 val_accuracy: 1.0\n",
      "Trial 3/5 train_accuracy: 0.9266055226325988\n"
     ]
    },
    {
     "name": "stderr",
     "output_type": "stream",
     "text": [
      "\r",
      " 80%|████████████████████████████████████         | 4/5 [00:33<00:08,  8.51s/it]"
     ]
    },
    {
     "name": "stdout",
     "output_type": "stream",
     "text": [
      "Trial 4/5 val_mse: 0.0171109844995258\n",
      "Trial 4/5 train_mse: 0.0680029243230819\n",
      "Trial 4/5 val_accuracy: 1.0\n",
      "Trial 4/5 train_accuracy: 0.9266055226325988\n"
     ]
    },
    {
     "name": "stderr",
     "output_type": "stream",
     "text": [
      "100%|█████████████████████████████████████████████| 5/5 [00:43<00:00,  8.74s/it]"
     ]
    },
    {
     "name": "stdout",
     "output_type": "stream",
     "text": [
      "Trial 5/5 val_mse: 0.0151317711926182\n",
      "Trial 5/5 train_mse: 0.0674761906266212\n",
      "Trial 5/5 val_accuracy: 1.0\n",
      "Trial 5/5 train_accuracy: 0.9266055226325988\n",
      "\n",
      "Median val_mse: 0.0171109844995258, std val_mse: 0.00308199240482596\n",
      "Median train_mse: 0.0680029243230819, std train_mse: 0.000748550363395356\n",
      "Median val_accuracy: 1.0, std val_accuracy: 0.0\n",
      "Median train_accuracy: 0.9266055226325988, std train_accuracy: 1.1102230246251565e-16\n",
      "\n",
      "Median model train_loss: 0.0680029243230819\n",
      "Median model val_loss: 0.0171109844995258\n",
      "\n",
      "Median model train_accuracy: 0.9266055226325988\n",
      "Median model val_accuracy: 1.0\n"
     ]
    },
    {
     "name": "stderr",
     "output_type": "stream",
     "text": [
      "\n"
     ]
    },
    {
     "data": {
      "image/png": "[encoded data removed]",
      "text/plain": [
       "<Figure size 640x480 with 1 Axes>"
      ]
     },
     "metadata": {},
     "output_type": "display_data"
    },
    {
     "data": {
      "image/png": "[encoded data removed]",
      "text/plain": [
       "<Figure size 640x480 with 1 Axes>"
      ]
     },
     "metadata": {},
     "output_type": "display_data"
    }
   ],
   "source": [
    "model = grid_search(params, x_train, y_train, k_fold_val)"
   ]
  },
  {
   "cell_type": "code",
   "execution_count": 23,
   "id": "aeb60170",
   "metadata": {},
   "outputs": [
    {
     "name": "stdout",
     "output_type": "stream",
     "text": [
      "Test MSE: 0.04259207472205162\n",
      "Test accuracy: 0.9722222089767456\n"
     ]
    }
   ],
   "source": [
    "test_model(model, x_test, y_test)"
   ]
  },
  {
   "cell_type": "code",
   "execution_count": null,
   "id": "b3cdfdba",
   "metadata": {},
   "outputs": [],
   "source": []
  },
  {
   "cell_type": "code",
   "execution_count": null,
   "id": "d403d794",
   "metadata": {},
   "outputs": [],
   "source": []
  }
 ],
 "metadata": {
  "kernelspec": {
   "display_name": "mlvenv",
   "language": "python",
   "name": "mlvenv"
  },
  "language_info": {
   "codemirror_mode": {
    "name": "ipython",
    "version": 3
   },
   "file_extension": ".py",
   "mimetype": "text/x-python",
   "name": "python",
   "nbconvert_exporter": "python",
   "pygments_lexer": "ipython3",
   "version": "3.10.6"
  }
 },
 "nbformat": 4,
 "nbformat_minor": 5
}
