{
 "cells": [
  {
   "cell_type": "code",
   "execution_count": 1,
   "id": "d37f696d",
   "metadata": {
    "scrolled": true
   },
   "outputs": [],
   "source": [
    "import warnings\n",
    "warnings.filterwarnings('ignore')\n",
    "from tqdm import tqdm\n",
    "import pandas as pd\n",
    "import numpy as np\n",
    "import itertools\n",
    "from sklearn.model_selection import train_test_split\n",
    "import matplotlib.pyplot as plt\n",
    "from sklearn.model_selection import KFold, StratifiedKFold\n",
    "from sklearn.preprocessing import OneHotEncoder\n",
    "from sklearn.preprocessing import StandardScaler, MinMaxScaler\n",
    "from math import ceil\n",
    "import matplotlib.pyplot as plt\n",
    "from sklearn.preprocessing import StandardScaler\n",
    "from sklearn.model_selection import train_test_split\n",
    "from sklearn.preprocessing import MinMaxScaler\n",
    "from pytorch_lightning.callbacks import ModelSummary\n",
    "from sklearn.preprocessing import OneHotEncoder\n",
    "from sklearn.preprocessing import StandardScaler\n",
    "from pytorch_lightning.loggers import CSVLogger\n",
    "import pandas as pd\n",
    "import datetime\n",
    "import torch\n",
    "import torch.nn as nn\n",
    "from torchmetrics import Metric\n",
    "import torch.utils.data as data\n",
    "from torch.utils.data import Dataset, DataLoader \n",
    "import pytorch_lightning as pl\n",
    "from datetime import datetime\n",
    "from pytorch_lightning.callbacks.early_stopping import EarlyStopping\n",
    "from torchmetrics import Accuracy\n",
    "import logging\n",
    "import os\n",
    "logging.getLogger(\"lightning\").addHandler(logging.NullHandler())\n",
    "logging.getLogger(\"lightning\").propagate = False\n",
    "logging.getLogger(\"pytorch_lightning\").setLevel(logging.WARNING)\n",
    "import random\n",
    "\n",
    "\n",
    "seed = 42"
   ]
  },
  {
   "cell_type": "code",
   "execution_count": 2,
   "id": "6d8327a6",
   "metadata": {
    "scrolled": true
   },
   "outputs": [],
   "source": [
    "def plot_curves(curve_1, label_1, curve_2=None, label_2=None):\n",
    "    if curve_1 is not None: \n",
    "        plt.plot(curve_1, label = label_1, color=\"black\")\n",
    "    if curve_2 is not None: \n",
    "        plt.plot(curve_2, label = label_2, linestyle='dashed', color=\"grey\")   \n",
    "    plt.legend()\n",
    "    plt.show()\n",
    "    \n",
    "def set_random_seeds():\n",
    "    np.random.seed(seed)\n",
    "    random.seed(seed)\n",
    "    torch.manual_seed(seed)"
   ]
  },
  {
   "cell_type": "code",
   "execution_count": 3,
   "id": "d60634f7",
   "metadata": {
    "scrolled": true
   },
   "outputs": [],
   "source": [
    "x_scaler = None\n",
    "y_scaler = None\n",
    "\n",
    "def load_monks(path, encode):\n",
    "    \n",
    "    train = pd.read_csv(f\"{path}.train\", header=None, sep=\" \")\n",
    "    test = pd.read_csv(f\"{path}.test\", header=None, sep=\" \")\n",
    "    \n",
    "    train.drop(0, axis=1, inplace=True)\n",
    "    test.drop(0, axis=1, inplace=True)\n",
    "    train.drop(8, axis=1, inplace=True)\n",
    "    test.drop(8, axis=1, inplace=True)\n",
    "    \n",
    "    y_train = train.iloc[:, 0].to_numpy().astype(np.float64)\n",
    "    x_train = train.iloc[:, 1:].to_numpy().astype(np.float64)\n",
    "    y_test = test.iloc[:, 0].to_numpy().astype(np.float64)\n",
    "    x_test = test.iloc[:, 1:].to_numpy().astype(np.float64)\n",
    "    \n",
    "        \n",
    "    if encode:\n",
    "        \n",
    "        encoder = OneHotEncoder()\n",
    "        \n",
    "        encoder.fit(x_train)\n",
    "        x_train = encoder.transform(x_train).toarray()\n",
    "        x_test = encoder.transform(x_test).toarray()\n",
    "        \n",
    "        \n",
    "    \n",
    "    print(f\"Loaded {path} dataset\")\n",
    "    \n",
    "    return x_train, y_train, x_test, y_test\n",
    "    \n",
    "\n",
    "def load_cup(scale):\n",
    "    \n",
    "    global x_scaler\n",
    "    global y_scaler\n",
    "    \n",
    "    #x_scaler = StandardScaler()\n",
    "    #y_scaler = StandardScaler()\n",
    "    # scaler = MinMaxScaler()\n",
    "    x_scaler = MinMaxScaler()\n",
    "    y_scaler = MinMaxScaler()\n",
    "    \n",
    "    \n",
    "    train = pd.read_csv(\"../data/ML-CUP22-INTERNAL-TR.csv\", header=None, sep=\",\")\n",
    "    test = pd.read_csv(\"../data/ML-CUP22-INTERNAL-TS.csv\", header=None, sep=\",\")\n",
    "    train.drop(0, axis=1, inplace=True)\n",
    "    test.drop(0, axis=1, inplace=True)\n",
    "\n",
    "    x_train = train.iloc[:, :9].to_numpy().astype(np.float64)\n",
    "    y_train = train.iloc[:, 9:].to_numpy().astype(np.float64)\n",
    "\n",
    "    x_test = test.iloc[:, :9].to_numpy().astype(np.float64)\n",
    "    y_test = test.iloc[:, 9:].to_numpy().astype(np.float64) \n",
    "    # x_test_blind = test.to_numpy().astype(np.float64)\n",
    "    \n",
    "    # x_train, x_test, y_train, y_test = train_test_split(x_train, y_train, test_size=0.1, shuffle=True, random_state=7)\n",
    "    \n",
    "    if scale:\n",
    "        x_scaler.fit(x_train)\n",
    "        x_train = x_scaler.transform(x_train)\n",
    "        x_test = x_scaler.transform(x_test)\n",
    "        \n",
    "        y_scaler.fit(y_train)\n",
    "        y_train = y_scaler.transform(y_train)\n",
    "        y_test = y_scaler.transform(y_test)\n",
    "        \n",
    "        \n",
    "    return x_train, y_train, x_test, y_test #, x_test_blind\n",
    "    \n",
    "    \n",
    "    \n",
    "def load_dataset(dataset, encode=True):\n",
    "    assert dataset in [\"monks1\", \"monks2\", \"monks3\", \"cup\"]\n",
    "    \n",
    "    if dataset == \"monks1\":\n",
    "        return load_monks(\"./../data/monks-1\", encode)\n",
    "    elif dataset == \"monks2\":\n",
    "        return load_monks(\"./../data/monks-2\", encode)\n",
    "    elif dataset == \"monks3\":\n",
    "        return load_monks(\"./../data/monks-3\", encode)\n",
    "    else:\n",
    "        return load_cup(encode)"
   ]
  },
  {
   "cell_type": "code",
   "execution_count": 4,
   "id": "ad558fec",
   "metadata": {
    "scrolled": true
   },
   "outputs": [],
   "source": [
    "class History:\n",
    "    def __init__(self):\n",
    "        self.history = {}\n",
    "\n",
    "\n",
    "class LinearLearningRateScheduler(torch.optim.lr_scheduler._LRScheduler):\n",
    "    def __init__(self, optimizer, lr_init, lr_final, epochs, last_epoch=-1):\n",
    "        self.lr_init = lr_init\n",
    "        self.lr_final = lr_final\n",
    "        self.epochs = epochs\n",
    "        super().__init__(optimizer, last_epoch=last_epoch)\n",
    "    \n",
    "    def step(self):\n",
    "        self.last_epoch += 1\n",
    "        epoch = self.last_epoch\n",
    "        if epoch < self.epochs:\n",
    "            alpha = epoch / self.epochs\n",
    "            lr = self.lr_init * (1 - alpha) + alpha*self.lr_final\n",
    "        else:\n",
    "            lr = self.lr_final\n",
    "        for param_group in self.optimizer.param_groups:\n",
    "            param_group['lr'] = lr\n",
    "            \n",
    "    \n",
    "\n",
    "def get_activation_function(name):\n",
    "    if name == \"relu\":\n",
    "        return nn.ReLU()\n",
    "    elif name == \"tanh\":\n",
    "        return nn.Tanh()\n",
    "    elif name == \"sigmoid\":\n",
    "        return nn.Sigmoid()\n",
    "    elif name == \"linear\":\n",
    "        return None\n",
    "\n",
    "def mee(y_true, y_pred):\n",
    "    return (y_true - y_pred).square().sum(axis=1).sqrt().mean()\n",
    "\n",
    "def mse(y_true, y_pred):\n",
    "    return (y_true - y_pred).square().sum(axis=1).mean()\n",
    "\n",
    "\n",
    "class TestCallback(pl.Callback):\n",
    "    \n",
    "    def __init__(self, x_test, y_test, task):\n",
    "        self.x_test = x_test\n",
    "        self.y_test = y_test\n",
    "        self.task = task\n",
    "    \n",
    "    def on_train_epoch_end(self, trainer, model):\n",
    "        \n",
    "        y_pred = model(torch.from_numpy(self.x_test).to(torch.float32))\n",
    "        y_test = torch.from_numpy(self.y_test)\n",
    "        \n",
    "        if self.task == \"classification\":\n",
    "            loss = model.compute_loss(y_pred, y_test)\n",
    "            acc = model.compute_metric(y_pred, y_test)\n",
    "            model.log_dict({'test_loss': loss, 'test_accuracy': acc}, prog_bar=True, logger=True)\n",
    "        elif self.task == \"regression\":\n",
    "            loss = model.compute_loss(y_pred, y_test)\n",
    "            test_mee = model.compute_metric(y_pred, y_test)\n",
    "            model.log_dict({'test_loss': loss, 'test_mee': test_mee}, prog_bar=True, logger=True)\n",
    "        \n",
    "        \n",
    "    \n",
    "    \n",
    "class MEE(Metric):\n",
    "    \n",
    "    def __init__(self):\n",
    "        super().__init__()\n",
    "        self.add_state(\"result\", default=torch.tensor(0.0))\n",
    "        \n",
    "    def update(self, y_pred, y_true):\n",
    "        self.result += mee(y_true, y_pred)\n",
    "\n",
    "    def compute(self):\n",
    "        return self.result\n",
    "    \n",
    "\n",
    "class MultiLayerPerceptron(pl.LightningModule):\n",
    "    def __init__(self, input_dim, output_dim, config):\n",
    "        super(MultiLayerPerceptron, self).__init__()\n",
    "        \n",
    "        task = config[\"task\"]\n",
    "        self.lr = config[\"learning_rate\"]\n",
    "        self.momentum = config[\"momentum\"]\n",
    "        self.nesterov = config[\"nesterov\"]\n",
    "        init = config[\"initialization\"]\n",
    "        reg_method = config[\"regularization\"][\"method\"]\n",
    "        self.reg_method = reg_method\n",
    "        self.lr_decay = config[\"learning_rate_decay\"]        \n",
    "        \n",
    "        \n",
    "        if reg_method != None:\n",
    "            value = config[\"regularization\"][\"value\"]\n",
    "            self.reg_value = value\n",
    "        \n",
    "        self.task = task\n",
    "        self.model = nn.Sequential()\n",
    "                \n",
    "        units = config[\"units_1\"]\n",
    "        activation = get_activation_function(config[\"activations_1\"])\n",
    "        \n",
    "        self.model.add_module(\"linear_input\", nn.Linear(input_dim, units))\n",
    "        self.model.add_module(\"activations_1\", activation)\n",
    "        \n",
    "        n_layers = 0\n",
    "        for key in config.keys():\n",
    "            if key.startswith(\"units_\"):\n",
    "                n_layers += 1\n",
    "                \n",
    "        for n_layer in range(2, n_layers+1):\n",
    "            out_units = config[f\"units_{n_layer}\"]\n",
    "            self.model.add_module(f\"linear_{n_layer}\", nn.Linear(units, out_units))\n",
    "            activation = get_activation_function(config[f\"activations_{n_layer}\"])\n",
    "            if activation != None:\n",
    "                self.model.add_module(f\"activations_{n_layer}\", activation)\n",
    "            units = out_units\n",
    "        \n",
    "        if task == \"classification\":\n",
    "            self.model.add_module(\"layer_output\", nn.Linear(units, output_dim))\n",
    "            self.model.add_module(\"activations_output\", nn.Sigmoid())\n",
    "            self.metric = Accuracy()\n",
    "            self.metric_name = \"accuracy\"\n",
    "        \n",
    "        if task == \"regression\":\n",
    "            self.model.add_module(\"layer_output\", nn.Linear(units, output_dim))\n",
    "            self.metric = MEE()\n",
    "            self.metric_name = \"mee\"\n",
    "            \n",
    "            \n",
    "        self.loss = nn.MSELoss()\n",
    "        self.dicts = []\n",
    "                    \n",
    "        if init[\"type\"] == \"uniform\":\n",
    "            self.min = init[\"min\"]\n",
    "            self.max = init[\"max\"]\n",
    "            for name, param in self.model.named_parameters():\n",
    "                if 'weight' in name:\n",
    "                    nn.init.uniform_(param, self.min, self.max)\n",
    "                if 'bias' in name:\n",
    "                    nn.init.uniform_(param, self.min, self.max)\n",
    "\n",
    "            \n",
    "        elif init[\"type\"] == \"normal\":\n",
    "            self.mean = init[\"mean\"]\n",
    "            self.std = init[\"std\"]\n",
    "            for name, param in self.model.named_parameters():\n",
    "                if 'weight' in name:\n",
    "                    nn.init.normal_(param, self.mean, self.std)\n",
    "                if 'bias' in name:\n",
    "                    nn.init.normal_(param, self.mean, self.std)\n",
    "            \n",
    "            \n",
    "\n",
    "    def init_weights_uniform(self, m):\n",
    "        if isinstance(m, nn.Linear):\n",
    "            torch.nn.init.uniform_(m.weight, self.min, self.max)\n",
    "            torch.nn.init.uniform_(m.bias, self.min, self.max)\n",
    "            # m.bias.data.fill_(0.01)\n",
    "        \n",
    "            \n",
    "\n",
    "    def init_weights_normal(self, m):\n",
    "        if isinstance(m, nn.Linear):\n",
    "            torch.nn.init.normal_(m.weight, self.mean, self.std)\n",
    "            torch.nn.init.normal_(m.bias, self.mean, self.std)\n",
    "            # m.bias.data.fill_(0.01)\n",
    "            \n",
    "            \n",
    "    def compute_metric(self, y_pred, y_true):\n",
    "        if self.task == \"classification\":\n",
    "            y_pred = y_pred.reshape(y_true.shape)  \n",
    "            return self.metric(y_pred, y_true.to(torch.int32))\n",
    "        elif self.task == \"regression\":\n",
    "            y_true = y_true.to(torch.float32)\n",
    "            return self.metric(y_pred, y_true)\n",
    "\n",
    "\n",
    "    def compute_loss(self, y_pred, y_true):\n",
    "        if self.task == \"classification\":\n",
    "            y_pred = y_pred.reshape(y_true.shape)  \n",
    "            return self.loss(y_pred, y_true)\n",
    "        elif self.task == \"regression\":\n",
    "            y_true = y_true.to(torch.float32)\n",
    "            return self.loss(y_pred, y_true)\n",
    "        \n",
    "        \n",
    "    def get_regularization_term(self):\n",
    "        \n",
    "        if self.reg_method != None:\n",
    "            \n",
    "            value = self.reg_value\n",
    "            p = 1 if self.reg_method == \"l1\" else 2\n",
    "            reg = 0\n",
    "            \n",
    "            for param in self.model.parameters():\n",
    "                reg += torch.linalg.norm(param, p)\n",
    "                \n",
    "            reg *= value\n",
    "            \n",
    "            return reg\n",
    "        \n",
    "        return 0\n",
    "            \n",
    "        \n",
    "        \n",
    "    def forward(self, x):\n",
    "        return self.model(x)\n",
    "\n",
    "    \n",
    "    def configure_optimizers(self):\n",
    "        optimizer = torch.optim.SGD(self.parameters(), lr=self.lr, momentum=self.momentum, nesterov=self.nesterov)\n",
    "        if self.lr_decay != None:\n",
    "            decay_epochs = self.lr_decay[\"epochs\"]\n",
    "            lr_final = self.lr_decay[\"lr_final\"]\n",
    "            lr_init = self.lr\n",
    "            scheduler = LinearLearningRateScheduler(optimizer, lr_init, lr_final, decay_epochs)\n",
    "            return [optimizer], [scheduler]\n",
    "            \n",
    "        return optimizer\n",
    "    \n",
    "    \n",
    "    \n",
    "\n",
    "    def training_step(self, train_batch, batch_idx):\n",
    "        X, y = train_batch \n",
    "        y_copy = y # Integer y for the accuracy\n",
    "        X = X.type(torch.float32)\n",
    "        y = y.type(torch.float32)  \n",
    "        # forward pass\n",
    "        y_pred = self.forward(X)\n",
    "        # accuracy\n",
    "        acc = self.compute_metric(y_pred, y_copy)\n",
    "        # compute loss\n",
    "        reg = self.get_regularization_term()\n",
    "        loss = self.compute_loss(y_pred, y) + reg\n",
    "        self.log_dict({'loss': loss, f'{self.metric_name}': acc}, on_step=False, on_epoch=True, prog_bar=True, logger=True)\n",
    "        return loss\n",
    "    \n",
    "    \n",
    "    \n",
    "    def validation_step(self, validation_batch, batch_idx):\n",
    "        X, y = validation_batch\n",
    "        X = X.type(torch.float32)\n",
    "        # forward pass\n",
    "        y_pred = self.forward(X)\n",
    "        # compute metrics \n",
    "        acc = self.compute_metric(y_pred, y)\n",
    "        # compute loss\n",
    "        loss = self.compute_loss(y_pred, y)\n",
    "        self.log_dict({'val_loss': loss, f'val_{self.metric_name}': acc}, prog_bar=True, logger=True)\n",
    "        return loss\n",
    "    \n",
    "    \n",
    "    \n",
    "    \n",
    "    def test_step(self, test_batch, batch_idx):\n",
    "        X, y = test_batch\n",
    "        X = X.type(torch.float32)\n",
    "        # forward pass\n",
    "        y_pred = self.forward(X)\n",
    "        # compute metrics \n",
    "        acc = self.compute_metric(y_pred, y)\n",
    "        # compute loss\n",
    "        loss = self.compute_loss(y_pred, y)\n",
    "        # self.log_dict({'test_loss': loss, f'test_{self.metric_name}': acc}, on_epoch=True,on_step=False, prog_bar=True, logger=True)\n",
    "        return loss\n",
    "\n",
    "    \n",
    "class CustomDataset(Dataset):\n",
    "    def __init__(self, X, y):\n",
    "        self.X = X\n",
    "        self.y = y\n",
    "    \n",
    "    def __len__(self):\n",
    "        return len(self.X)\n",
    "    \n",
    "    def __getitem__(self, idx):\n",
    "        return self.X[idx], self.y[idx]"
   ]
  },
  {
   "cell_type": "code",
   "execution_count": 5,
   "id": "68a4b4e1",
   "metadata": {
    "scrolled": true
   },
   "outputs": [],
   "source": [
    "def median_index(array):\n",
    "    n = len(array)\n",
    "    med_idx = np.argsort(array)[ceil((n-1)/2)]\n",
    "    # med_val = array[med_idx]\n",
    "    return med_idx #, med_val\n",
    "\n",
    "\n",
    "def merge_dicts(dicts):\n",
    "    merged = {}\n",
    "    for d in dicts:\n",
    "        merged = {**merged, **d}\n",
    "    return merged\n",
    "\n",
    "def get_attributes_num(dataset):\n",
    "    return 1 if len(dataset.shape) == 1 else dataset.shape[1]\n",
    "\n",
    "\n",
    "def get_params_configurations(params):\n",
    "    \n",
    "    keys = list(params.keys())\n",
    "    keys.remove(\"layers\")\n",
    "    keys.remove(\"task\")\n",
    "    keys.remove(\"initialization\")\n",
    "    keys.remove(\"early_stopping\")\n",
    "    keys.remove(\"regularization\")\n",
    "    keys.remove(\"nesterov\")\n",
    "    keys.remove(\"trials_train\")\n",
    "    keys.remove(\"trials_test\")\n",
    "    keys.remove(\"learning_rate_decay\")\n",
    "    sorted_keys = sorted(keys)\n",
    "    arguments = []\n",
    "    for key in sorted_keys:\n",
    "        arguments.append(params[key])\n",
    "    \n",
    "    arguments = tuple(arguments)\n",
    "    all_params = list(itertools.product(*arguments))\n",
    "        \n",
    "    configurations = []\n",
    "    \n",
    "    for conf in all_params:\n",
    "        \n",
    "        dict_conf = {}\n",
    "        \n",
    "        for i in range(len(sorted_keys)):\n",
    "            dict_conf[sorted_keys[i]] = conf[i]\n",
    "        dict_conf[\"initialization\"] = params[\"initialization\"]\n",
    "        dict_conf[\"early_stopping\"] = params[\"early_stopping\"]\n",
    "        dict_conf[\"task\"] = params[\"task\"]\n",
    "        dict_conf[\"trials_train\"] = params[\"trials_train\"]\n",
    "        dict_conf[\"trials_test\"] = params[\"trials_test\"]\n",
    "        dict_conf[\"nesterov\"] = params[\"nesterov\"]\n",
    "        dict_conf[\"learning_rate_decay\"] = params[\"learning_rate_decay\"]\n",
    "        \n",
    "        # add regularization parameters\n",
    "        for reg in params[\"regularization\"]:\n",
    "            method = reg[\"type\"]\n",
    "            \n",
    "            if method == None:\n",
    "                reg_dict_conf = dict_conf.copy()\n",
    "                reg_dict_conf[\"regularization\"] = {\n",
    "                    \"method\": None\n",
    "                }\n",
    "                configurations.append(reg_dict_conf)\n",
    "                continue\n",
    "            \n",
    "            for val in reg[\"value\"]:\n",
    "                reg_dict_conf = dict_conf.copy()\n",
    "                reg_dict_conf[\"regularization\"] = {\n",
    "                    \"method\": method,\n",
    "                    \"value\": val\n",
    "                }\n",
    "        \n",
    "                configurations.append(reg_dict_conf)\n",
    "            \n",
    "        \n",
    "    return configurations\n",
    "\n",
    "\n",
    "def get_callbacks(config):\n",
    "    early_stopping = config[\"early_stopping\"]\n",
    "    callbacks = []\n",
    "    \n",
    "    if early_stopping != None:        \n",
    "        early_stop = EarlyStopping(\n",
    "            monitor=early_stopping[\"monitor\"],\n",
    "            min_delta=early_stopping[\"delta\"],\n",
    "            patience=early_stopping[\"patience\"], \n",
    "            verbose=False,\n",
    "            mode=\"min\"\n",
    "        )\n",
    "        \n",
    "        callbacks.append(early_stop)\n",
    "        \n",
    "    return callbacks if callbacks != [] else None\n",
    "        \n",
    "\n",
    "\n",
    "def get_layers_configurations(params, configurations):\n",
    "    layers = params[\"layers\"]\n",
    "    layers_params_confs = []\n",
    "    \n",
    "    for n_layer in range(len(layers)):\n",
    "        layers_params_confs.append([]) \n",
    "    \n",
    "    for i in range(len(layers)):\n",
    "        layer = layers[i]\n",
    "        activations = layer[\"activations\"]\n",
    "        units = layer[\"units\"]\n",
    "        layer_confs = list(itertools.product(activations, units))\n",
    "        for conf in layer_confs:\n",
    "            conf_dict = {\n",
    "                f\"activations_{i+1}\": conf[0],\n",
    "                f\"units_{i+1}\": conf[1]\n",
    "            }\n",
    "            layers_params_confs[i].append(conf_dict)\n",
    "        \n",
    "    layers_confs = []\n",
    "    for i in range(len(layers_params_confs)):\n",
    "        confs = layers_params_confs[:i+1]\n",
    "        confs = tuple(confs)\n",
    "        confs = list(itertools.product(*confs))\n",
    "        for conf in confs:\n",
    "            layers_confs.append(merge_dicts(conf))\n",
    "                \n",
    "    return layers_confs\n",
    "\n",
    "\n",
    "\n",
    "def get_configurations(params):\n",
    "    \n",
    "    configurations = get_params_configurations(params)\n",
    "    layers_confs = get_layers_configurations(params, configurations)\n",
    "    configurations = list(itertools.product(configurations, layers_confs))\n",
    "    configurations_merged = []\n",
    "    \n",
    "    for conf in configurations:\n",
    "        configurations_merged.append(merge_dicts(conf))\n",
    "        \n",
    "    \n",
    "    return configurations_merged\n",
    "\n",
    "\n",
    "def get_model(config, input_size, output_size):\n",
    "    model = MultiLayerPerceptron(input_size, output_size, config)\n",
    "    return model\n",
    "    \n",
    "    \n",
    "    \n",
    "def fit(model, x_train, y_train, x_val, y_val, max_epochs, batch_size, metric, config, x_test=None, y_test=None):  \n",
    "    \n",
    "    if batch_size is None:\n",
    "        batch_size_train = x_train.shape[0]\n",
    "        batch_size_val = x_val.shape[0]\n",
    "    else:\n",
    "        batch_size_train = batch_size\n",
    "        batch_size_val = batch_size\n",
    "        \n",
    "    \n",
    "    \n",
    "    train_loader = DataLoader(dataset = CustomDataset(x_train, y_train), batch_size=batch_size_train)\n",
    "    validation_loader = DataLoader(dataset = CustomDataset(x_val, y_val), batch_size=batch_size_val)\n",
    "    \n",
    "    callbacks = get_callbacks(config)\n",
    "\n",
    "    if x_test is not None:\n",
    "        callbacks.append(TestCallback(x_test, y_test, config[\"task\"]))\n",
    "        \n",
    "    trainer = pl.Trainer(accelerator='cpu', devices=1, max_epochs=max_epochs,\n",
    "                         log_every_n_steps=1, logger=CSVLogger(save_dir=\"logs/\"),\n",
    "                         callbacks=callbacks, enable_progress_bar=False,\n",
    "                         enable_model_summary=False\n",
    "                        )  \n",
    "    \n",
    "    \n",
    "    trainer.fit(model=model, train_dataloaders=train_loader,\n",
    "                val_dataloaders=validation_loader) \n",
    "    \n",
    "    metrics = pd.read_csv(f\"{trainer.logger.log_dir}/metrics.csv\")\n",
    "    \n",
    "\n",
    "    history = History()\n",
    "                \n",
    "    history.history[\"loss\"] = metrics[\"loss\"].dropna().to_list()\n",
    "    history.history[\"val_loss\"] = metrics[\"val_loss\"].dropna().to_list()\n",
    "    history.history[f\"{metric}\"] = metrics[f\"{metric}\"].dropna().to_list()\n",
    "    history.history[f\"val_{metric}\"] = metrics[f\"val_{metric}\"].dropna().to_list()\n",
    "    \n",
    "    if x_test is not None:\n",
    "        history.history[\"test_loss\"] = metrics[\"test_loss\"].dropna().to_list()\n",
    "        history.history[f\"test_{metric}\"] = metrics[f\"test_{metric}\"].dropna().to_list() \n",
    "    \n",
    "    return history\n",
    "    \n",
    "    \n",
    "    \n",
    "def fit_model_k_fold(x_train, y_train, config, n_folds):\n",
    "    \n",
    "    task = config[\"task\"]\n",
    "    \n",
    "    if task == \"classification\":\n",
    "        train_metric = \"accuracy\"\n",
    "        val_metric = \"val_accuracy\"\n",
    "    elif task == \"regression\":\n",
    "        train_metric = \"mee\"\n",
    "        val_metric = \"val_mee\"\n",
    "    \n",
    "    trials = config[\"trials_train\"]\n",
    "    max_epochs = config[\"max_epochs\"]\n",
    "    batch_size = config[\"batch_size\"]\n",
    "    \n",
    "    kf = KFold(n_splits = n_folds, shuffle=True)\n",
    "\n",
    "    train_losses = []\n",
    "    val_losses = []\n",
    "    train_accs = []\n",
    "    val_accs = []\n",
    "\n",
    "    fold = 1\n",
    "    for train_index, val_index in kf.split(x_train, y_train):\n",
    "        \n",
    "        print(f\"\\nExecuting fold {fold}/{n_folds}\")\n",
    "        \n",
    "        input_size = get_attributes_num(x_train)\n",
    "        output_size = get_attributes_num(y_train)\n",
    "        \n",
    "                \n",
    "        x_train_fold = x_train[train_index]\n",
    "        y_train_fold = y_train[train_index]\n",
    "\n",
    "        x_val_fold = x_train[val_index]\n",
    "        y_val_fold = y_train[val_index]\n",
    "        \n",
    "        # print(y_val_fold.shape)\n",
    "        # print(y_val_fold)\n",
    "\n",
    "        \n",
    "        trials_val_loss = []\n",
    "        trials_train_loss = []\n",
    "        trials_val_acc = []\n",
    "        trials_train_acc = []\n",
    "        \n",
    "        with tqdm(total=trials) as pbar:\n",
    "            for trial in range(trials):\n",
    "                \n",
    "                \n",
    "                \n",
    "                model = get_model(config, input_size, output_size)\n",
    "                history = fit(model, x_train_fold, y_train_fold, x_val_fold, y_val_fold, \n",
    "                              max_epochs, batch_size, train_metric, config)\n",
    "                \n",
    "                trial_train_loss = history.history[\"loss\"]\n",
    "                trial_val_loss = history.history[\"val_loss\"]         \n",
    "                trial_train_acc = history.history[train_metric]\n",
    "                trial_val_acc = history.history[val_metric]\n",
    "\n",
    "                trials_val_loss.append(trial_val_loss[-1])\n",
    "                trials_train_loss.append(trial_train_loss[-1])\n",
    "                trials_val_acc.append(trial_val_acc[-1])\n",
    "                trials_train_acc.append(trial_train_acc[-1])\n",
    "\n",
    "                pbar.update(1)\n",
    "            \n",
    "        # get the median metrics among the trials\n",
    "        med_idx = median_index(trials_val_loss)\n",
    "        med_val_loss = trials_val_loss[med_idx]\n",
    "        med_train_loss = trials_train_loss[med_idx]\n",
    "        med_val_acc = trials_val_acc[med_idx]\n",
    "        med_train_acc = trials_train_acc[med_idx]\n",
    "        std_val_loss = np.std(trials_val_loss)\n",
    "        std_train_loss = np.std(trials_train_loss)\n",
    "        std_val_acc = np.std(trials_val_acc)\n",
    "        std_train_acc = np.std(trials_train_acc)\n",
    "\n",
    "        print(f\"Fold {fold}/{n_folds} median val_loss: {med_val_loss}, std val_loss {std_val_loss}\")\n",
    "        print(f\"Fold {fold}/{n_folds} median train_loss: {med_train_loss}, std train_loss {std_train_loss}\")\n",
    "        print(f\"Fold {fold}/{n_folds} median {val_metric}: {med_val_acc}, std {val_metric} {std_val_acc}\")\n",
    "        print(f\"Fold {fold}/{n_folds} median train_{train_metric}: {med_train_acc}, train_{train_metric} {std_train_acc}\")\n",
    "            \n",
    "        train_losses.append(med_train_loss)\n",
    "        val_losses.append(med_val_loss)\n",
    "        val_accs.append(med_val_acc)\n",
    "        train_accs.append(med_train_acc)\n",
    "        \n",
    "        fold += 1\n",
    "        \n",
    "    mean_train_loss = np.mean(train_losses)\n",
    "    mean_val_loss = np.mean(val_losses)\n",
    "    mean_train_acc = np.mean(train_accs)\n",
    "    mean_val_acc = np.mean(val_accs)\n",
    "    std_train_loss = np.std(train_losses)\n",
    "    std_val_loss = np.std(val_losses)\n",
    "    std_train_acc = np.std(train_accs)\n",
    "    std_val_acc = np.std(val_accs)\n",
    "    \n",
    "    print(f\"\\nMean val_loss: {mean_val_loss}, std val_loss: {std_val_loss}\")\n",
    "    print(f\"Mean train_loss: {mean_train_loss}, std train_loss: {std_train_loss}\")\n",
    "    print(f\"Mean {val_metric}: {mean_val_acc}, std {val_metric}: {std_val_acc}\")\n",
    "    print(f\"Mean train_{train_metric}: {mean_val_acc}, std train_{train_metric}: {std_train_acc}\")\n",
    "    \n",
    "    return mean_val_loss\n",
    "\n",
    "\n",
    "\n",
    "\n",
    "def fit_model_hold_out(x_train, y_train, config, val_split):\n",
    "    \n",
    "    task = config[\"task\"]\n",
    "    \n",
    "    if task == \"classification\":\n",
    "        train_metric = \"accuracy\"\n",
    "        val_metric = \"val_accuracy\"\n",
    "    elif task == \"regression\":\n",
    "        train_metric = \"mee\"\n",
    "        val_metric = \"val_mee\"\n",
    "        \n",
    "    trials = config[\"trials_train\"]\n",
    "    input_size = get_attributes_num(x_train)\n",
    "    output_size = get_attributes_num(y_train)\n",
    "    \n",
    "    \n",
    "    max_epochs = config[\"max_epochs\"]\n",
    "    batch_size = config[\"batch_size\"]\n",
    "    \n",
    "    if task == \"classification\":\n",
    "        stratify = y_train\n",
    "    else:\n",
    "        stratify = None\n",
    "        \n",
    "        \n",
    "    x_train, x_val, y_train, y_val = train_test_split(x_train, y_train, test_size=val_split, shuffle=True, stratify=stratify)\n",
    "\n",
    "    \n",
    "    trials_val_loss = []\n",
    "    trials_train_loss = []\n",
    "    trials_val_acc = []\n",
    "    trials_train_acc = []\n",
    "        \n",
    "    with tqdm(total=trials) as pbar:\n",
    "        for trial in range(trials):            \n",
    "            model = get_model(config, input_size, output_size)\n",
    "            history = fit(model, x_train, y_train, x_val, y_val, max_epochs, batch_size, train_metric, config)  \n",
    "\n",
    "            trial_train_loss = history.history[\"loss\"]\n",
    "            trial_val_loss = history.history[\"val_loss\"]         \n",
    "            trial_train_acc = history.history[train_metric]\n",
    "            trial_val_acc = history.history[val_metric]\n",
    "                                    \n",
    "            trials_val_loss.append(trial_val_loss[-1])\n",
    "            trials_train_loss.append(trial_train_loss[-1])\n",
    "            trials_val_acc.append(trial_val_acc[-1])\n",
    "            trials_train_acc.append(trial_train_acc[-1])\n",
    "            \n",
    "            pbar.update(1)\n",
    "    \n",
    "    # get the median metrics among the trials\n",
    "    med_idx = median_index(trials_val_loss)\n",
    "    med_val_loss = trials_val_loss[med_idx]\n",
    "    med_train_loss = trials_train_loss[med_idx]\n",
    "    med_val_acc = trials_val_acc[med_idx]\n",
    "    med_train_acc = trials_train_acc[med_idx]\n",
    "    std_val_loss = np.std(trials_val_loss)\n",
    "    std_train_loss = np.std(trials_train_loss)\n",
    "    std_val_acc = np.std(trials_val_acc)\n",
    "    std_train_acc = np.std(trials_train_acc)\n",
    "\n",
    "    print(f\"\\nMedian val_loss: {med_val_loss}, std val_loss {std_val_loss}\")\n",
    "    print(f\"Median train_loss: {med_train_loss}, std train_loss {std_train_loss}\")\n",
    "    print(f\"Median {val_metric}: {med_val_acc}, std {val_metric} {std_val_acc}\")\n",
    "    print(f\"Median train_{train_metric}: {med_train_acc}, train_{train_metric} {std_train_acc}\")\n",
    "    \n",
    "    \n",
    "    return med_val_loss\n",
    "    \n",
    "    \n",
    "\n",
    "def fit_final_model(x_train, y_train, x_test, y_test, config):\n",
    "    global y_scaler\n",
    "    \n",
    "    task = config[\"task\"]\n",
    "    trails = config[\"trials_test\"]\n",
    "    \n",
    "    if task == \"classification\":\n",
    "        train_metric = \"accuracy\"\n",
    "        val_metric = \"val_accuracy\"\n",
    "        test_metric = \"test_accuracy\"\n",
    "    elif task == \"regression\":\n",
    "        train_metric = \"mee\"\n",
    "        val_metric = \"val_mee\"\n",
    "        test_metric = \"test_mee\"\n",
    "    val_loss = \"val_mse\"\n",
    "    train_loss = \"mse\"\n",
    "    test_loss = \"test_mse\"\n",
    "\n",
    "    max_epochs = config[\"max_epochs\"]\n",
    "    batch_size = config[\"batch_size\"]\n",
    "    trials = config[\"trials_test\"]\n",
    "    \n",
    "    '''if config[\"early_stopping\"][\"monitor\"] == \"val_loss\":\n",
    "        config[\"early_stopping\"][\"monitor\"] = \"loss\"'''\n",
    "        \n",
    "    \n",
    "    input_size = get_attributes_num(x_train)\n",
    "    output_size = get_attributes_num(y_train)\n",
    "    \n",
    "    \n",
    "    trials_val_loss = []\n",
    "    trials_train_loss = []\n",
    "    trials_val_acc = []\n",
    "    trials_train_acc = []\n",
    "    trials_test_acc = []\n",
    "    trials_test_loss = []\n",
    "    \n",
    "    trials_history_val_loss = []\n",
    "    trials_history_train_loss = []\n",
    "    trials_history_val_acc = []\n",
    "    trials_history_train_acc = []\n",
    "    trials_history_test_acc = []\n",
    "    trials_history_test_loss = [] \n",
    "    \n",
    "    models = []\n",
    "    \n",
    "    if task == \"classification\":\n",
    "        stratify = y_train\n",
    "    else:\n",
    "        stratify = None\n",
    "    \n",
    "    x_train, x_val, y_train, y_val = train_test_split(x_train, y_train, test_size=0.1, shuffle=True, stratify=stratify)\n",
    "    \n",
    "    with tqdm(total=trials) as pbar:\n",
    "        for trial in range(trials):\n",
    "            \n",
    "            model = get_model(config, input_size, output_size)\n",
    "            torch.save(model, f\"./../models/pytorch_model_{trial}.pt\")\n",
    "            history = fit(model, x_train, y_train, x_val, y_val, max_epochs, batch_size, train_metric, config, x_test, y_test)\n",
    "\n",
    "            models.append(model)\n",
    "\n",
    "            trial_train_loss = history.history[\"loss\"]\n",
    "            trial_val_loss = history.history[\"val_loss\"]\n",
    "            trial_test_loss = history.history[\"test_loss\"]\n",
    "            trial_train_acc = history.history[train_metric]\n",
    "            trial_val_acc = history.history[val_metric]\n",
    "            trial_test_acc = history.history[test_metric]\n",
    "            \n",
    "            trials_val_loss.append(trial_val_loss[-1])\n",
    "            trials_train_loss.append(trial_train_loss[-1])\n",
    "            trials_test_loss.append(trial_test_loss[-1])\n",
    "            trials_val_acc.append(trial_val_acc[-1])\n",
    "            trials_train_acc.append(trial_train_acc[-1])\n",
    "            trials_test_acc.append(trial_test_acc[-1])\n",
    "            \n",
    "\n",
    "            trials_history_val_loss.append(trial_val_loss)\n",
    "            trials_history_train_loss.append(trial_train_loss)\n",
    "            trials_history_test_loss.append(trial_test_loss)\n",
    "            trials_history_val_acc.append(trial_val_acc)\n",
    "            trials_history_train_acc.append(trial_train_acc)\n",
    "            trials_history_test_acc.append(trial_test_acc)\n",
    "            \n",
    "\n",
    "            print(f\"Trial {trial+1}/{trials} {val_loss}: {trial_val_loss[-1]}\")\n",
    "            print(f\"Trial {trial+1}/{trials} train_{train_loss}: {trial_train_loss[-1]}\")\n",
    "            # print(f\"Trial {trial+1}/{trials} {test_loss}: {trial_test_loss[-1]}\")\n",
    "            print(f\"Trial {trial+1}/{trials} {val_metric}: {trial_val_acc[-1]}\")\n",
    "            print(f\"Trial {trial+1}/{trials} train_{train_metric}: {trial_train_acc[-1]}\")\n",
    "            # print(f\"Trial {trial+1}/{trials} {test_metric}: {trial_test_acc[-1]}\")\n",
    "\n",
    "            pbar.update(1)\n",
    "        \n",
    "    # get the mean metrics among the trials\n",
    "    med_idx = median_index(trials_val_loss)\n",
    "    med_val_loss = trials_val_loss[med_idx]\n",
    "    med_train_loss = trials_train_loss[med_idx]\n",
    "    med_val_acc = trials_val_acc[med_idx]\n",
    "    med_train_acc = trials_train_acc[med_idx]\n",
    "    std_val_loss = np.std(trials_val_loss)\n",
    "    std_train_loss = np.std(trials_train_loss)\n",
    "    std_val_acc = np.std(trials_val_acc)\n",
    "    std_train_acc = np.std(trials_train_acc)\n",
    "    \n",
    "    print(f\"\\nMedian {val_loss}: {med_val_loss}, std {val_loss}: {std_val_loss}\")\n",
    "    print(f\"Median train_{train_loss}: {med_train_loss}, std train_{train_loss}: {std_train_loss}\")\n",
    "    print(f\"Median {val_metric}: {med_val_acc}, std {val_metric}: {std_val_acc}\")\n",
    "    print(f\"Median train_{train_metric}: {med_train_acc}, std train_{train_metric}: {std_train_acc}\")\n",
    "        \n",
    "    \n",
    "        \n",
    "    train_acc = trials_history_train_acc[med_idx]\n",
    "    test_acc = trials_history_test_acc[med_idx]\n",
    "    val_acc = trials_history_val_acc[med_idx]\n",
    "    \n",
    "    train_loss = trials_history_train_loss[med_idx]\n",
    "    test_loss = trials_history_test_loss[med_idx]\n",
    "    val_loss = trials_history_val_loss[med_idx]\n",
    "    \n",
    "    \n",
    "    print(f\"\\nMedian model train_loss: {train_loss[-1]}\")\n",
    "    print(f\"Median model val_loss: {val_loss[-1]}\")\n",
    "    print(f\"Median model test_loss: {test_loss[-1]}\")\n",
    "    \n",
    "    print(f\"\\nMedian model train_{train_metric}: {train_acc[-1]}\")\n",
    "    print(f\"Median model {val_metric}: {val_acc[-1]}\")\n",
    "    print(f\"Median model {test_metric}: {test_acc[-1]}\")\n",
    "    \n",
    "    \n",
    "    plot_curves(train_acc, f\"Training {train_metric}\", test_acc, f\"Test {train_metric}\")\n",
    "    plot_curves(train_acc, f\"Training {train_metric}\", val_acc, f\"Validation {val_metric}\")\n",
    "    \n",
    "    plot_curves(train_loss, \"Train loss\", test_loss, \"Test loss\")\n",
    "    plot_curves(train_loss, \"Train loss\", val_loss, \"Validation loss\")\n",
    "    \n",
    "    med_model = models[med_idx]\n",
    "    \n",
    "    \n",
    "    if task == \"regression\":\n",
    "        \n",
    "        y_pred = model(torch.from_numpy(x_val).to(torch.float32))\n",
    "        # y_val = y_val.detach().numpy()\n",
    "        \n",
    "        y_pred = y_scaler.inverse_transform(y_pred.detach().numpy())\n",
    "        y_val  = y_scaler.inverse_transform(y_val)\n",
    "        \n",
    "        y_pred  = torch.from_numpy(y_pred).to(torch.float32)\n",
    "        y_val  = torch.from_numpy(y_val).to(torch.float32)\n",
    "        \n",
    "        mse_val = mse(y_val, y_pred)\n",
    "        mee_val = mee(y_val, y_pred)\n",
    "\n",
    "        print(f\"\\nValidation MSE: {mse_val}\")\n",
    "        print(f\"Validation MEE: {mee_val}\")\n",
    "    \n",
    "    \n",
    "    for trial in range(trials):\n",
    "        if trial != med_idx:\n",
    "            os.system(f\"rm ./../models/pytorch_model_{trial}.pt\")\n",
    "            \n",
    "    os.system(f\"mv ./../models/pytorch_model_{med_idx}.pt ./../models/pytorch_model.pt\")\n",
    "    \n",
    "    return med_model\n",
    "\n",
    "    \n",
    "def fit_model(x_train, y_train, config, validation):\n",
    "    if validation[\"type\"] == \"k-fold\":\n",
    "        val_loss = fit_model_k_fold(x_train, y_train, config, validation[\"n_folds\"])\n",
    "    elif validation[\"type\"] == \"hold-out\":\n",
    "        val_loss = fit_model_hold_out(x_train, y_train, config, validation[\"val_split\"])\n",
    "    return val_loss\n",
    "\n",
    "\n",
    "\n",
    "def test_model(model, x_test, y_test):\n",
    "    \n",
    "    y_pred = model(torch.from_numpy(x_test).to(torch.float32))\n",
    "    y_test = torch.from_numpy(y_test).to(torch.float32)\n",
    "    \n",
    "    acc = model.compute_metric(y_pred, y_test)\n",
    "    loss = model.compute_loss(y_pred, y_test)\n",
    "    \n",
    "    print(f\"Test MSE: {loss}\")\n",
    "    print(f\"Test accuracy: {acc}\")\n",
    "    \n",
    "    #test_loader = DataLoader(dataset = CustomDataset(x_test, y_test), batch_size=batch_size)\n",
    "    #trainer.test(model=model, dataloaders=test_loader)\n",
    "    #input_size = x_test.shape[1]\n",
    "    #result = model.evaluate(x_test, y_test)\n",
    "    #print(result)\n",
    "    \n",
    "\n",
    "def assess_model(model, x_train, y_train, x_test, y_test, scale=True):\n",
    "    y_train_pred = model(torch.from_numpy(x_train).to(torch.float32))\n",
    "    y_test_pred = model(torch.from_numpy(x_test).to(torch.float32))\n",
    "    \n",
    "    if scale:\n",
    "        \n",
    "        y_train_pred = y_train_pred.detach().numpy()\n",
    "        y_test_pred = y_test_pred.detach().numpy()\n",
    "        \n",
    "        y_train_pred = y_scaler.inverse_transform(y_train_pred)\n",
    "        y_train  = y_scaler.inverse_transform(y_train)\n",
    "        y_test_pred = y_scaler.inverse_transform(y_test_pred)\n",
    "        y_test  = y_scaler.inverse_transform(y_test)\n",
    "        \n",
    "        y_train_pred  = torch.from_numpy(y_train_pred).to(torch.float32)\n",
    "        y_test_pred  = torch.from_numpy(y_test_pred).to(torch.float32)\n",
    "        \n",
    "    y_train = torch.from_numpy(y_train).to(torch.float32)\n",
    "    y_test = torch.from_numpy(y_test).to(torch.float32)\n",
    "    \n",
    "\n",
    "    mse_train = mse(y_train, y_train_pred)\n",
    "    mse_test = mse(y_test, y_test_pred)\n",
    "\n",
    "    mee_train = mee(y_train, y_train_pred)\n",
    "    mee_test = mee(y_test, y_test_pred)\n",
    "\n",
    "    print(f\"Train MSE: {mse_train}\")\n",
    "    print(f\"Train MEE: {mee_train}\")\n",
    "    print(f\"Test MSE: {mse_test}\")\n",
    "    print(f\"Test MEE: {mee_test}\")\n",
    "\n",
    "\n",
    "    \n",
    "def model_selection(configurations, x_train, y_train, validation):\n",
    "        \n",
    "    best_loss = float(\"inf\")\n",
    "    best_conf = None\n",
    "    \n",
    "    idx = 1\n",
    "    n_confs = len(configurations)\n",
    "    for config in configurations:\n",
    "        \n",
    "        print(f\"Testing configuration {idx}/{n_confs}:\\n{config}\")\n",
    "        val_loss = fit_model(x_train, y_train, config, validation)\n",
    "\n",
    "        if val_loss < best_loss:\n",
    "            best_loss = val_loss;\n",
    "            best_conf = config\n",
    "        idx += 1\n",
    "        \n",
    "        print(\"\\n\\n\")\n",
    "\n",
    "            \n",
    "    print(\"\\n\\n\")\n",
    "    print(f\"Best configuration (loss {best_loss}):\\n{best_conf}\")\n",
    "    \n",
    "    return best_conf\n",
    "    \n",
    "\n",
    "def grid_search(params, x_train, y_train, x_test, y_test, validation={\"type\": \"hold-out\", \"val_split\": 0.2}):\n",
    "    set_random_seeds()\n",
    "    configurations = get_configurations(params)    \n",
    "    best_conf = model_selection(configurations, x_train, y_train, validation)\n",
    "    model = fit_final_model(x_train, y_train, x_test, y_test, best_conf)\n",
    "    \n",
    "    return model"
   ]
  },
  {
   "cell_type": "markdown",
   "id": "1efeb266",
   "metadata": {},
   "source": [
    "# Monk 1"
   ]
  },
  {
   "cell_type": "code",
   "execution_count": 6,
   "id": "f0e9f138",
   "metadata": {
    "scrolled": true
   },
   "outputs": [
    {
     "name": "stdout",
     "output_type": "stream",
     "text": [
      "Loaded ./../data/monks-1 dataset\n",
      "(124, 17) (124,)\n",
      "(432, 17) (432,)\n"
     ]
    }
   ],
   "source": [
    "x_train, y_train, x_test, y_test = load_dataset(\"monks1\", True)\n",
    "print(x_train.shape, y_train.shape)\n",
    "print(x_test.shape, y_test.shape)"
   ]
  },
  {
   "cell_type": "code",
   "execution_count": 7,
   "id": "46daf564",
   "metadata": {
    "scrolled": true
   },
   "outputs": [],
   "source": [
    "params = {\n",
    "    \"task\": \"classification\",\n",
    "    \"trials_train\": 1,\n",
    "    \"trials_test\": 10,\n",
    "    \"initialization\": {\n",
    "        \"type\": \"default\",\n",
    "        \"min\": -0.5,\n",
    "        \"max\": 0.5,\n",
    "    },\n",
    "    \"early_stopping\": {\n",
    "        \"monitor\": \"val_loss\",\n",
    "        \"patience\": 20,\n",
    "        \"delta\": 0.0\n",
    "    },\n",
    "    \"max_epochs\": [500],\n",
    "    \"learning_rate\": [0.1, 0.2, 0.3],# np.linspace(0.1, 0.4, 4).tolist(),\n",
    "    \"batch_size\": [None],\n",
    "    \"momentum\": [0.7, 0.8, 0.9],#np.linspace(0.5, 0.9, 4).tolist(),\n",
    "    \"nesterov\": False,\n",
    "    \"learning_rate_decay\": None,\n",
    "    \"regularization\": [\n",
    "        {\n",
    "            \"type\": None\n",
    "        }\n",
    "    ],\n",
    "    \"layers\": [\n",
    "        {\n",
    "            \"activations\": [\"relu\"],\n",
    "            \"units\": [8],\n",
    "        },\n",
    "    ]\n",
    "}\n",
    "\n",
    "k_fold_val = {\n",
    "    \"type\": \"k-fold\",\n",
    "    \"n_folds\": 4\n",
    "}\n",
    "\n",
    "hold_out_val = {\n",
    "    \"type\": \"hold-out\",\n",
    "    \"val_split\": 0.15\n",
    "}"
   ]
  },
  {
   "cell_type": "code",
   "execution_count": 8,
   "id": "26333fbf",
   "metadata": {},
   "outputs": [
    {
     "name": "stdout",
     "output_type": "stream",
     "text": [
      "Testing configuration 1/9:\n",
      "{'batch_size': None, 'learning_rate': 0.1, 'max_epochs': 500, 'momentum': 0.7, 'initialization': {'type': 'default', 'min': -0.5, 'max': 0.5}, 'early_stopping': {'monitor': 'val_loss', 'patience': 20, 'delta': 0.0}, 'task': 'classification', 'trials_train': 1, 'trials_test': 10, 'nesterov': False, 'learning_rate_decay': None, 'regularization': {'method': None}, 'activations_1': 'relu', 'units_1': 8}\n",
      "\n",
      "Executing fold 1/4\n"
     ]
    },
    {
     "name": "stderr",
     "output_type": "stream",
     "text": [
      "100%|█████████████████████████████████████████████| 1/1 [00:12<00:00, 12.82s/it]\n"
     ]
    },
    {
     "name": "stdout",
     "output_type": "stream",
     "text": [
      "Fold 1/4 median val_loss: 0.131610331050605, std val_loss 0.0\n",
      "Fold 1/4 median train_loss: 0.0897656381130218, std train_loss 0.0\n",
      "Fold 1/4 median val_accuracy: 0.8064516186714172, std val_accuracy 0.0\n",
      "Fold 1/4 median train_accuracy: 0.8602150678634644, train_accuracy 0.0\n",
      "\n",
      "Executing fold 2/4\n"
     ]
    },
    {
     "name": "stderr",
     "output_type": "stream",
     "text": [
      "100%|█████████████████████████████████████████████| 1/1 [00:10<00:00, 10.72s/it]\n"
     ]
    },
    {
     "name": "stdout",
     "output_type": "stream",
     "text": [
      "Fold 2/4 median val_loss: 0.0474449397016912, std val_loss 0.0\n",
      "Fold 2/4 median train_loss: 0.0265802461653947, std train_loss 0.0\n",
      "Fold 2/4 median val_accuracy: 1.0, std val_accuracy 0.0\n",
      "Fold 2/4 median train_accuracy: 1.0, train_accuracy 0.0\n",
      "\n",
      "Executing fold 3/4\n"
     ]
    },
    {
     "name": "stderr",
     "output_type": "stream",
     "text": [
      "100%|█████████████████████████████████████████████| 1/1 [00:10<00:00, 10.87s/it]\n"
     ]
    },
    {
     "name": "stdout",
     "output_type": "stream",
     "text": [
      "Fold 3/4 median val_loss: 0.0526088369357846, std val_loss 0.0\n",
      "Fold 3/4 median train_loss: 0.0300012249499559, std train_loss 0.0\n",
      "Fold 3/4 median val_accuracy: 0.9354838728904724, std val_accuracy 0.0\n",
      "Fold 3/4 median train_accuracy: 0.9892473220825196, train_accuracy 0.0\n",
      "\n",
      "Executing fold 4/4\n"
     ]
    },
    {
     "name": "stderr",
     "output_type": "stream",
     "text": [
      "100%|█████████████████████████████████████████████| 1/1 [00:10<00:00, 10.50s/it]\n"
     ]
    },
    {
     "name": "stdout",
     "output_type": "stream",
     "text": [
      "Fold 4/4 median val_loss: 0.0561142290186092, std val_loss 0.0\n",
      "Fold 4/4 median train_loss: 0.0276991426944732, std train_loss 0.0\n",
      "Fold 4/4 median val_accuracy: 0.9677419066429138, std val_accuracy 0.0\n",
      "Fold 4/4 median train_accuracy: 1.0, train_accuracy 0.0\n",
      "\n",
      "Mean val_loss: 0.0719445841766725, std val_loss: 0.03458578174343683\n",
      "Mean train_loss: 0.043511562980711405, std train_loss: 0.026733269648791358\n",
      "Mean val_accuracy: 0.9274193495512009, std val_accuracy: 0.07347123226283643\n",
      "Mean train_accuracy: 0.9274193495512009, std train_accuracy: 0.05913978002288138\n",
      "\n",
      "\n",
      "\n",
      "Testing configuration 2/9:\n",
      "{'batch_size': None, 'learning_rate': 0.1, 'max_epochs': 500, 'momentum': 0.8, 'initialization': {'type': 'default', 'min': -0.5, 'max': 0.5}, 'early_stopping': {'monitor': 'val_loss', 'patience': 20, 'delta': 0.0}, 'task': 'classification', 'trials_train': 1, 'trials_test': 10, 'nesterov': False, 'learning_rate_decay': None, 'regularization': {'method': None}, 'activations_1': 'relu', 'units_1': 8}\n",
      "\n",
      "Executing fold 1/4\n"
     ]
    },
    {
     "name": "stderr",
     "output_type": "stream",
     "text": [
      "100%|█████████████████████████████████████████████| 1/1 [00:00<00:00,  2.09it/s]\n"
     ]
    },
    {
     "name": "stdout",
     "output_type": "stream",
     "text": [
      "Fold 1/4 median val_loss: 0.244623750760536, std val_loss 0.0\n",
      "Fold 1/4 median train_loss: 0.2405662685632705, std train_loss 0.0\n",
      "Fold 1/4 median val_accuracy: 0.5161290168762207, std val_accuracy 0.0\n",
      "Fold 1/4 median train_accuracy: 0.6666666865348816, train_accuracy 0.0\n",
      "\n",
      "Executing fold 2/4\n"
     ]
    },
    {
     "name": "stderr",
     "output_type": "stream",
     "text": [
      "100%|█████████████████████████████████████████████| 1/1 [00:09<00:00,  9.61s/it]\n"
     ]
    },
    {
     "name": "stdout",
     "output_type": "stream",
     "text": [
      "Fold 2/4 median val_loss: 0.0221354141539304, std val_loss 0.0\n",
      "Fold 2/4 median train_loss: 0.020753052085638, std train_loss 0.0\n",
      "Fold 2/4 median val_accuracy: 1.0, std val_accuracy 0.0\n",
      "Fold 2/4 median train_accuracy: 1.0, train_accuracy 0.0\n",
      "\n",
      "Executing fold 3/4\n"
     ]
    },
    {
     "name": "stderr",
     "output_type": "stream",
     "text": [
      "100%|█████████████████████████████████████████████| 1/1 [00:10<00:00, 10.74s/it]\n"
     ]
    },
    {
     "name": "stdout",
     "output_type": "stream",
     "text": [
      "Fold 3/4 median val_loss: 0.1004976295880961, std val_loss 0.0\n",
      "Fold 3/4 median train_loss: 0.0480424091219902, std train_loss 0.0\n",
      "Fold 3/4 median val_accuracy: 0.9354838728904724, std val_accuracy 0.0\n",
      "Fold 3/4 median train_accuracy: 0.9677419066429138, train_accuracy 0.0\n",
      "\n",
      "Executing fold 4/4\n"
     ]
    },
    {
     "name": "stderr",
     "output_type": "stream",
     "text": [
      "100%|█████████████████████████████████████████████| 1/1 [00:01<00:00,  1.20s/it]\n"
     ]
    },
    {
     "name": "stdout",
     "output_type": "stream",
     "text": [
      "Fold 4/4 median val_loss: 0.2192872314336825, std val_loss 0.0\n",
      "Fold 4/4 median train_loss: 0.1210627481341362, std train_loss 0.0\n",
      "Fold 4/4 median val_accuracy: 0.774193525314331, std val_accuracy 0.0\n",
      "Fold 4/4 median train_accuracy: 0.8924731016159058, train_accuracy 0.0\n",
      "\n",
      "Mean val_loss: 0.14663600648406125, std val_loss: 0.09015118666470764\n",
      "Mean train_loss: 0.10760611947625873, std train_loss: 0.08507463342031411\n",
      "Mean val_accuracy: 0.806451603770256, std val_accuracy: 0.18670705412753638\n",
      "Mean train_accuracy: 0.806451603770256, std train_accuracy: 0.1301474967569993\n",
      "\n",
      "\n",
      "\n",
      "Testing configuration 3/9:\n",
      "{'batch_size': None, 'learning_rate': 0.1, 'max_epochs': 500, 'momentum': 0.9, 'initialization': {'type': 'default', 'min': -0.5, 'max': 0.5}, 'early_stopping': {'monitor': 'val_loss', 'patience': 20, 'delta': 0.0}, 'task': 'classification', 'trials_train': 1, 'trials_test': 10, 'nesterov': False, 'learning_rate_decay': None, 'regularization': {'method': None}, 'activations_1': 'relu', 'units_1': 8}\n",
      "\n",
      "Executing fold 1/4\n"
     ]
    },
    {
     "name": "stderr",
     "output_type": "stream",
     "text": [
      "100%|█████████████████████████████████████████████| 1/1 [00:01<00:00,  1.54s/it]\n"
     ]
    },
    {
     "name": "stdout",
     "output_type": "stream",
     "text": [
      "Fold 1/4 median val_loss: 0.1418210835919737, std val_loss 0.0\n",
      "Fold 1/4 median train_loss: 0.0890739187598228, std train_loss 0.0\n",
      "Fold 1/4 median val_accuracy: 0.8709677457809448, std val_accuracy 0.0\n",
      "Fold 1/4 median train_accuracy: 0.9032257795333862, train_accuracy 0.0\n",
      "\n",
      "Executing fold 2/4\n"
     ]
    },
    {
     "name": "stderr",
     "output_type": "stream",
     "text": [
      "100%|█████████████████████████████████████████████| 1/1 [00:01<00:00,  1.35s/it]\n"
     ]
    },
    {
     "name": "stdout",
     "output_type": "stream",
     "text": [
      "Fold 2/4 median val_loss: 0.1943630969064564, std val_loss 0.0\n",
      "Fold 2/4 median train_loss: 0.1211878433823585, std train_loss 0.0\n",
      "Fold 2/4 median val_accuracy: 0.6774193644523621, std val_accuracy 0.0\n",
      "Fold 2/4 median train_accuracy: 0.8279569745063782, train_accuracy 0.0\n",
      "\n",
      "Executing fold 3/4\n"
     ]
    },
    {
     "name": "stderr",
     "output_type": "stream",
     "text": [
      "100%|█████████████████████████████████████████████| 1/1 [00:11<00:00, 11.18s/it]\n"
     ]
    },
    {
     "name": "stdout",
     "output_type": "stream",
     "text": [
      "Fold 3/4 median val_loss: 0.0541333990094384, std val_loss 0.0\n",
      "Fold 3/4 median train_loss: 0.0764588490128517, std train_loss 0.0\n",
      "Fold 3/4 median val_accuracy: 0.9354838728904724, std val_accuracy 0.0\n",
      "Fold 3/4 median train_accuracy: 0.924731194972992, train_accuracy 0.0\n",
      "\n",
      "Executing fold 4/4\n"
     ]
    },
    {
     "name": "stderr",
     "output_type": "stream",
     "text": [
      "100%|█████████████████████████████████████████████| 1/1 [00:00<00:00,  2.04it/s]\n"
     ]
    },
    {
     "name": "stdout",
     "output_type": "stream",
     "text": [
      "Fold 4/4 median val_loss: 0.2550999499873236, std val_loss 0.0\n",
      "Fold 4/4 median train_loss: 0.214861124753952, std train_loss 0.0\n",
      "Fold 4/4 median val_accuracy: 0.5483871102333069, std val_accuracy 0.0\n",
      "Fold 4/4 median train_accuracy: 0.6881720423698425, train_accuracy 0.0\n",
      "\n",
      "Mean val_loss: 0.16135438237379804, std val_loss: 0.07374906053164497\n",
      "Mean train_loss: 0.12539543397724626, std train_loss: 0.05416607670035335\n",
      "Mean val_accuracy: 0.7580645233392715, std val_accuracy: 0.15386115693344227\n",
      "Mean train_accuracy: 0.7580645233392715, std train_accuracy: 0.09261523074361445\n",
      "\n",
      "\n",
      "\n",
      "Testing configuration 4/9:\n",
      "{'batch_size': None, 'learning_rate': 0.2, 'max_epochs': 500, 'momentum': 0.7, 'initialization': {'type': 'default', 'min': -0.5, 'max': 0.5}, 'early_stopping': {'monitor': 'val_loss', 'patience': 20, 'delta': 0.0}, 'task': 'classification', 'trials_train': 1, 'trials_test': 10, 'nesterov': False, 'learning_rate_decay': None, 'regularization': {'method': None}, 'activations_1': 'relu', 'units_1': 8}\n",
      "\n",
      "Executing fold 1/4\n"
     ]
    },
    {
     "name": "stderr",
     "output_type": "stream",
     "text": [
      "100%|█████████████████████████████████████████████| 1/1 [00:11<00:00, 11.09s/it]\n"
     ]
    },
    {
     "name": "stdout",
     "output_type": "stream",
     "text": [
      "Fold 1/4 median val_loss: 0.0069572912394896, std val_loss 0.0\n",
      "Fold 1/4 median train_loss: 0.0039347866550087, std train_loss 0.0\n",
      "Fold 1/4 median val_accuracy: 1.0, std val_accuracy 0.0\n",
      "Fold 1/4 median train_accuracy: 1.0, train_accuracy 0.0\n",
      "\n",
      "Executing fold 2/4\n"
     ]
    },
    {
     "name": "stderr",
     "output_type": "stream",
     "text": [
      "100%|█████████████████████████████████████████████| 1/1 [00:09<00:00,  9.88s/it]\n"
     ]
    },
    {
     "name": "stdout",
     "output_type": "stream",
     "text": [
      "Fold 2/4 median val_loss: 0.0100068078198516, std val_loss 0.0\n",
      "Fold 2/4 median train_loss: 0.0044109318405389, std train_loss 0.0\n",
      "Fold 2/4 median val_accuracy: 1.0, std val_accuracy 0.0\n",
      "Fold 2/4 median train_accuracy: 1.0, train_accuracy 0.0\n",
      "\n",
      "Executing fold 3/4\n"
     ]
    },
    {
     "name": "stderr",
     "output_type": "stream",
     "text": [
      "100%|█████████████████████████████████████████████| 1/1 [00:11<00:00, 11.12s/it]\n"
     ]
    },
    {
     "name": "stdout",
     "output_type": "stream",
     "text": [
      "Fold 3/4 median val_loss: 0.0255930684418282, std val_loss 0.0\n",
      "Fold 3/4 median train_loss: 0.0031682783737778, std train_loss 0.0\n",
      "Fold 3/4 median val_accuracy: 0.9677419066429138, std val_accuracy 0.0\n",
      "Fold 3/4 median train_accuracy: 1.0, train_accuracy 0.0\n",
      "\n",
      "Executing fold 4/4\n"
     ]
    },
    {
     "name": "stderr",
     "output_type": "stream",
     "text": [
      "100%|█████████████████████████████████████████████| 1/1 [00:00<00:00,  3.02it/s]\n"
     ]
    },
    {
     "name": "stdout",
     "output_type": "stream",
     "text": [
      "Fold 4/4 median val_loss: 0.266432300442106, std val_loss 0.0\n",
      "Fold 4/4 median train_loss: 0.2392862439155578, std train_loss 0.0\n",
      "Fold 4/4 median val_accuracy: 0.3548386991024017, std val_accuracy 0.0\n",
      "Fold 4/4 median train_accuracy: 0.5483871102333069, train_accuracy 0.0\n",
      "\n",
      "Mean val_loss: 0.07724736698581884, std val_loss: 0.10945443475518493\n",
      "Mean train_loss: 0.0627000601962208, std train_loss: 0.10195304456752755\n",
      "Mean val_accuracy: 0.8306451514363289, std val_accuracy: 0.2750224671889644\n",
      "Mean train_accuracy: 0.8306451514363289, std train_accuracy: 0.1955541176072288\n",
      "\n",
      "\n",
      "\n",
      "Testing configuration 5/9:\n",
      "{'batch_size': None, 'learning_rate': 0.2, 'max_epochs': 500, 'momentum': 0.8, 'initialization': {'type': 'default', 'min': -0.5, 'max': 0.5}, 'early_stopping': {'monitor': 'val_loss', 'patience': 20, 'delta': 0.0}, 'task': 'classification', 'trials_train': 1, 'trials_test': 10, 'nesterov': False, 'learning_rate_decay': None, 'regularization': {'method': None}, 'activations_1': 'relu', 'units_1': 8}\n",
      "\n",
      "Executing fold 1/4\n"
     ]
    },
    {
     "name": "stderr",
     "output_type": "stream",
     "text": [
      "100%|█████████████████████████████████████████████| 1/1 [00:02<00:00,  2.81s/it]\n"
     ]
    },
    {
     "name": "stdout",
     "output_type": "stream",
     "text": [
      "Fold 1/4 median val_loss: 0.1402289034008159, std val_loss 0.0\n",
      "Fold 1/4 median train_loss: 0.0948144868016243, std train_loss 0.0\n",
      "Fold 1/4 median val_accuracy: 0.8064516186714172, std val_accuracy 0.0\n",
      "Fold 1/4 median train_accuracy: 0.8709677457809448, train_accuracy 0.0\n",
      "\n",
      "Executing fold 2/4\n"
     ]
    },
    {
     "name": "stderr",
     "output_type": "stream",
     "text": [
      "100%|█████████████████████████████████████████████| 1/1 [00:17<00:00, 17.18s/it]\n"
     ]
    },
    {
     "name": "stdout",
     "output_type": "stream",
     "text": [
      "Fold 2/4 median val_loss: 0.0059995288128602, std val_loss 0.0\n",
      "Fold 2/4 median train_loss: 0.0035016913898289, std train_loss 0.0\n",
      "Fold 2/4 median val_accuracy: 1.0, std val_accuracy 0.0\n",
      "Fold 2/4 median train_accuracy: 1.0, train_accuracy 0.0\n",
      "\n",
      "Executing fold 3/4\n"
     ]
    },
    {
     "name": "stderr",
     "output_type": "stream",
     "text": [
      "100%|█████████████████████████████████████████████| 1/1 [00:14<00:00, 14.39s/it]\n"
     ]
    },
    {
     "name": "stdout",
     "output_type": "stream",
     "text": [
      "Fold 3/4 median val_loss: 0.0142110186991773, std val_loss 0.0\n",
      "Fold 3/4 median train_loss: 0.0031886321958154, std train_loss 0.0\n",
      "Fold 3/4 median val_accuracy: 1.0, std val_accuracy 0.0\n",
      "Fold 3/4 median train_accuracy: 1.0, train_accuracy 0.0\n",
      "\n",
      "Executing fold 4/4\n"
     ]
    },
    {
     "name": "stderr",
     "output_type": "stream",
     "text": [
      "100%|█████████████████████████████████████████████| 1/1 [00:10<00:00, 10.98s/it]\n"
     ]
    },
    {
     "name": "stdout",
     "output_type": "stream",
     "text": [
      "Fold 4/4 median val_loss: 0.0272851501414386, std val_loss 0.0\n",
      "Fold 4/4 median train_loss: 0.0019831177778542, std train_loss 0.0\n",
      "Fold 4/4 median val_accuracy: 0.9354838728904724, std val_accuracy 0.0\n",
      "Fold 4/4 median train_accuracy: 1.0, train_accuracy 0.0\n",
      "\n",
      "Mean val_loss: 0.046931150263572995, std val_loss: 0.054397703778359605\n",
      "Mean train_loss: 0.025871982041280703, std train_loss: 0.03980801132457076\n",
      "Mean val_accuracy: 0.9354838728904724, std val_accuracy: 0.07901579579944178\n",
      "Mean train_accuracy: 0.9354838728904724, std train_accuracy: 0.0558726050306368\n",
      "\n",
      "\n",
      "\n",
      "Testing configuration 6/9:\n",
      "{'batch_size': None, 'learning_rate': 0.2, 'max_epochs': 500, 'momentum': 0.9, 'initialization': {'type': 'default', 'min': -0.5, 'max': 0.5}, 'early_stopping': {'monitor': 'val_loss', 'patience': 20, 'delta': 0.0}, 'task': 'classification', 'trials_train': 1, 'trials_test': 10, 'nesterov': False, 'learning_rate_decay': None, 'regularization': {'method': None}, 'activations_1': 'relu', 'units_1': 8}\n",
      "\n",
      "Executing fold 1/4\n"
     ]
    },
    {
     "name": "stderr",
     "output_type": "stream",
     "text": [
      "100%|█████████████████████████████████████████████| 1/1 [00:01<00:00,  1.15s/it]\n"
     ]
    },
    {
     "name": "stdout",
     "output_type": "stream",
     "text": [
      "Fold 1/4 median val_loss: 0.1991984289170691, std val_loss 0.0\n",
      "Fold 1/4 median train_loss: 0.1018129363656044, std train_loss 0.0\n",
      "Fold 1/4 median val_accuracy: 0.6774193644523621, std val_accuracy 0.0\n",
      "Fold 1/4 median train_accuracy: 0.8924731016159058, train_accuracy 0.0\n",
      "\n",
      "Executing fold 2/4\n"
     ]
    },
    {
     "name": "stderr",
     "output_type": "stream",
     "text": [
      "100%|█████████████████████████████████████████████| 1/1 [00:10<00:00, 10.09s/it]\n"
     ]
    },
    {
     "name": "stdout",
     "output_type": "stream",
     "text": [
      "Fold 2/4 median val_loss: 0.0021736568074006, std val_loss 0.0\n",
      "Fold 2/4 median train_loss: 0.0004880991473328, std train_loss 0.0\n",
      "Fold 2/4 median val_accuracy: 1.0, std val_accuracy 0.0\n",
      "Fold 2/4 median train_accuracy: 1.0, train_accuracy 0.0\n",
      "\n",
      "Executing fold 3/4\n"
     ]
    },
    {
     "name": "stderr",
     "output_type": "stream",
     "text": [
      "100%|█████████████████████████████████████████████| 1/1 [00:00<00:00,  1.83it/s]\n"
     ]
    },
    {
     "name": "stdout",
     "output_type": "stream",
     "text": [
      "Fold 3/4 median val_loss: 0.2546345463024873, std val_loss 0.0\n",
      "Fold 3/4 median train_loss: 0.1263852417469024, std train_loss 0.0\n",
      "Fold 3/4 median val_accuracy: 0.5806451439857483, std val_accuracy 0.0\n",
      "Fold 3/4 median train_accuracy: 0.8279569745063782, train_accuracy 0.0\n",
      "\n",
      "Executing fold 4/4\n"
     ]
    },
    {
     "name": "stderr",
     "output_type": "stream",
     "text": [
      "100%|█████████████████████████████████████████████| 1/1 [00:10<00:00, 10.60s/it]\n"
     ]
    },
    {
     "name": "stdout",
     "output_type": "stream",
     "text": [
      "Fold 4/4 median val_loss: 0.0088931022376953, std val_loss 0.0\n",
      "Fold 4/4 median train_loss: 0.0010721561266109, std train_loss 0.0\n",
      "Fold 4/4 median val_accuracy: 1.0, std val_accuracy 0.0\n",
      "Fold 4/4 median train_accuracy: 1.0, train_accuracy 0.0\n",
      "\n",
      "Mean val_loss: 0.11622493356616306, std val_loss: 0.11243846936790869\n",
      "Mean train_loss: 0.05743960834661263, std train_loss: 0.05732202167208085\n",
      "Mean val_accuracy: 0.8145161271095276, std val_accuracy: 0.18861315786766844\n",
      "Mean train_accuracy: 0.8145161271095276, std train_accuracy: 0.07352040688280763\n",
      "\n",
      "\n",
      "\n",
      "Testing configuration 7/9:\n",
      "{'batch_size': None, 'learning_rate': 0.3, 'max_epochs': 500, 'momentum': 0.7, 'initialization': {'type': 'default', 'min': -0.5, 'max': 0.5}, 'early_stopping': {'monitor': 'val_loss', 'patience': 20, 'delta': 0.0}, 'task': 'classification', 'trials_train': 1, 'trials_test': 10, 'nesterov': False, 'learning_rate_decay': None, 'regularization': {'method': None}, 'activations_1': 'relu', 'units_1': 8}\n",
      "\n",
      "Executing fold 1/4\n"
     ]
    },
    {
     "name": "stderr",
     "output_type": "stream",
     "text": [
      "100%|█████████████████████████████████████████████| 1/1 [00:01<00:00,  1.30s/it]\n"
     ]
    },
    {
     "name": "stdout",
     "output_type": "stream",
     "text": [
      "Fold 1/4 median val_loss: 0.1848399096874481, std val_loss 0.0\n",
      "Fold 1/4 median train_loss: 0.0972040444612503, std train_loss 0.0\n",
      "Fold 1/4 median val_accuracy: 0.774193525314331, std val_accuracy 0.0\n",
      "Fold 1/4 median train_accuracy: 0.8817204236984253, train_accuracy 0.0\n",
      "\n",
      "Executing fold 2/4\n"
     ]
    },
    {
     "name": "stderr",
     "output_type": "stream",
     "text": [
      "100%|█████████████████████████████████████████████| 1/1 [00:10<00:00, 10.90s/it]\n"
     ]
    },
    {
     "name": "stdout",
     "output_type": "stream",
     "text": [
      "Fold 2/4 median val_loss: 0.0031826551625395, std val_loss 0.0\n",
      "Fold 2/4 median train_loss: 0.0024328667204827, std train_loss 0.0\n",
      "Fold 2/4 median val_accuracy: 1.0, std val_accuracy 0.0\n",
      "Fold 2/4 median train_accuracy: 1.0, train_accuracy 0.0\n",
      "\n",
      "Executing fold 3/4\n"
     ]
    },
    {
     "name": "stderr",
     "output_type": "stream",
     "text": [
      "100%|█████████████████████████████████████████████| 1/1 [00:10<00:00, 10.61s/it]\n"
     ]
    },
    {
     "name": "stdout",
     "output_type": "stream",
     "text": [
      "Fold 3/4 median val_loss: 0.0184278460554063, std val_loss 0.0\n",
      "Fold 3/4 median train_loss: 0.0016413003904744, std train_loss 0.0\n",
      "Fold 3/4 median val_accuracy: 1.0, std val_accuracy 0.0\n",
      "Fold 3/4 median train_accuracy: 1.0, train_accuracy 0.0\n",
      "\n",
      "Executing fold 4/4\n"
     ]
    },
    {
     "name": "stderr",
     "output_type": "stream",
     "text": [
      "100%|█████████████████████████████████████████████| 1/1 [00:09<00:00,  9.19s/it]\n"
     ]
    },
    {
     "name": "stdout",
     "output_type": "stream",
     "text": [
      "Fold 4/4 median val_loss: 0.1318762198664159, std val_loss 0.0\n",
      "Fold 4/4 median train_loss: 0.0441833771765232, std train_loss 0.0\n",
      "Fold 4/4 median val_accuracy: 0.8709677457809448, std val_accuracy 0.0\n",
      "Fold 4/4 median train_accuracy: 0.9569892287254332, train_accuracy 0.0\n",
      "\n",
      "Mean val_loss: 0.08458165769295245, std val_loss: 0.07630631872802786\n",
      "Mean train_loss: 0.03636539718718265, std train_loss: 0.03911406823469285\n",
      "Mean val_accuracy: 0.911290317773819, std val_accuracy: 0.09507925083337118\n",
      "Mean train_accuracy: 0.911290317773819, std train_accuracy: 0.048312370466592196\n",
      "\n",
      "\n",
      "\n",
      "Testing configuration 8/9:\n",
      "{'batch_size': None, 'learning_rate': 0.3, 'max_epochs': 500, 'momentum': 0.8, 'initialization': {'type': 'default', 'min': -0.5, 'max': 0.5}, 'early_stopping': {'monitor': 'val_loss', 'patience': 20, 'delta': 0.0}, 'task': 'classification', 'trials_train': 1, 'trials_test': 10, 'nesterov': False, 'learning_rate_decay': None, 'regularization': {'method': None}, 'activations_1': 'relu', 'units_1': 8}\n",
      "\n",
      "Executing fold 1/4\n"
     ]
    },
    {
     "name": "stderr",
     "output_type": "stream",
     "text": [
      "100%|█████████████████████████████████████████████| 1/1 [00:01<00:00,  1.08s/it]\n"
     ]
    },
    {
     "name": "stdout",
     "output_type": "stream",
     "text": [
      "Fold 1/4 median val_loss: 0.15633815767099, std val_loss 0.0\n",
      "Fold 1/4 median train_loss: 0.0841648951172828, std train_loss 0.0\n",
      "Fold 1/4 median val_accuracy: 0.8064516186714172, std val_accuracy 0.0\n",
      "Fold 1/4 median train_accuracy: 0.9139785170555116, train_accuracy 0.0\n",
      "\n",
      "Executing fold 2/4\n"
     ]
    },
    {
     "name": "stderr",
     "output_type": "stream",
     "text": [
      "100%|█████████████████████████████████████████████| 1/1 [00:11<00:00, 11.16s/it]\n"
     ]
    },
    {
     "name": "stdout",
     "output_type": "stream",
     "text": [
      "Fold 2/4 median val_loss: 0.0185271479853959, std val_loss 0.0\n",
      "Fold 2/4 median train_loss: 0.0007162084220908, std train_loss 0.0\n",
      "Fold 2/4 median val_accuracy: 1.0, std val_accuracy 0.0\n",
      "Fold 2/4 median train_accuracy: 1.0, train_accuracy 0.0\n",
      "\n",
      "Executing fold 3/4\n"
     ]
    },
    {
     "name": "stderr",
     "output_type": "stream",
     "text": [
      "100%|█████████████████████████████████████████████| 1/1 [00:01<00:00,  1.11s/it]\n"
     ]
    },
    {
     "name": "stdout",
     "output_type": "stream",
     "text": [
      "Fold 3/4 median val_loss: 0.180769282292295, std val_loss 0.0\n",
      "Fold 3/4 median train_loss: 0.0895042717456817, std train_loss 0.0\n",
      "Fold 3/4 median val_accuracy: 0.8064516186714172, std val_accuracy 0.0\n",
      "Fold 3/4 median train_accuracy: 0.9139785170555116, train_accuracy 0.0\n",
      "\n",
      "Executing fold 4/4\n"
     ]
    },
    {
     "name": "stderr",
     "output_type": "stream",
     "text": [
      "100%|█████████████████████████████████████████████| 1/1 [00:11<00:00, 11.38s/it]\n"
     ]
    },
    {
     "name": "stdout",
     "output_type": "stream",
     "text": [
      "Fold 4/4 median val_loss: 0.0108904779830135, std val_loss 0.0\n",
      "Fold 4/4 median train_loss: 0.0013551064766943, std train_loss 0.0\n",
      "Fold 4/4 median val_accuracy: 1.0, std val_accuracy 0.0\n",
      "Fold 4/4 median train_accuracy: 1.0, train_accuracy 0.0\n",
      "\n",
      "Mean val_loss: 0.09163126648292359, std val_loss: 0.07745297718381101\n",
      "Mean train_loss: 0.043935120440437396, std train_loss: 0.04294157154329631\n",
      "Mean val_accuracy: 0.9032258093357086, std val_accuracy: 0.09677419066429138\n",
      "Mean train_accuracy: 0.9032258093357086, std train_accuracy: 0.04301074147224421\n",
      "\n",
      "\n",
      "\n",
      "Testing configuration 9/9:\n",
      "{'batch_size': None, 'learning_rate': 0.3, 'max_epochs': 500, 'momentum': 0.9, 'initialization': {'type': 'default', 'min': -0.5, 'max': 0.5}, 'early_stopping': {'monitor': 'val_loss', 'patience': 20, 'delta': 0.0}, 'task': 'classification', 'trials_train': 1, 'trials_test': 10, 'nesterov': False, 'learning_rate_decay': None, 'regularization': {'method': None}, 'activations_1': 'relu', 'units_1': 8}\n",
      "\n",
      "Executing fold 1/4\n"
     ]
    },
    {
     "name": "stderr",
     "output_type": "stream",
     "text": [
      "100%|█████████████████████████████████████████████| 1/1 [00:11<00:00, 11.05s/it]\n"
     ]
    },
    {
     "name": "stdout",
     "output_type": "stream",
     "text": [
      "Fold 1/4 median val_loss: 0.0006392758246016, std val_loss 0.0\n",
      "Fold 1/4 median train_loss: 0.0002433170884614, std train_loss 0.0\n",
      "Fold 1/4 median val_accuracy: 1.0, std val_accuracy 0.0\n",
      "Fold 1/4 median train_accuracy: 1.0, train_accuracy 0.0\n",
      "\n",
      "Executing fold 2/4\n"
     ]
    },
    {
     "name": "stderr",
     "output_type": "stream",
     "text": [
      "100%|█████████████████████████████████████████████| 1/1 [00:08<00:00,  8.64s/it]\n"
     ]
    },
    {
     "name": "stdout",
     "output_type": "stream",
     "text": [
      "Fold 2/4 median val_loss: 0.1031439838212554, std val_loss 0.0\n",
      "Fold 2/4 median train_loss: 0.0219657011330127, std train_loss 0.0\n",
      "Fold 2/4 median val_accuracy: 0.9032257795333862, std val_accuracy 0.0\n",
      "Fold 2/4 median train_accuracy: 0.9784946441650392, train_accuracy 0.0\n",
      "\n",
      "Executing fold 3/4\n"
     ]
    },
    {
     "name": "stderr",
     "output_type": "stream",
     "text": [
      "100%|█████████████████████████████████████████████| 1/1 [00:09<00:00,  9.02s/it]\n"
     ]
    },
    {
     "name": "stdout",
     "output_type": "stream",
     "text": [
      "Fold 3/4 median val_loss: 0.0211687560482459, std val_loss 0.0\n",
      "Fold 3/4 median train_loss: 0.0003084132622461, std train_loss 0.0\n",
      "Fold 3/4 median val_accuracy: 1.0, std val_accuracy 0.0\n",
      "Fold 3/4 median train_accuracy: 1.0, train_accuracy 0.0\n",
      "\n",
      "Executing fold 4/4\n"
     ]
    },
    {
     "name": "stderr",
     "output_type": "stream",
     "text": [
      "100%|█████████████████████████████████████████████| 1/1 [00:08<00:00,  8.38s/it]\n"
     ]
    },
    {
     "name": "stdout",
     "output_type": "stream",
     "text": [
      "Fold 4/4 median val_loss: 0.161456788704165, std val_loss 0.0\n",
      "Fold 4/4 median train_loss: 0.0324110947549343, std train_loss 0.0\n",
      "Fold 4/4 median val_accuracy: 0.8387096524238586, std val_accuracy 0.0\n",
      "Fold 4/4 median train_accuracy: 0.9677419066429138, train_accuracy 0.0\n",
      "\n",
      "Mean val_loss: 0.07160220109956697, std val_loss: 0.06451356468638887\n",
      "Mean train_loss: 0.013732131559663624, std train_loss: 0.013953849493387054\n",
      "Mean val_accuracy: 0.9354838579893112, std val_accuracy: 0.06842970051151\n",
      "Mean train_accuracy: 0.9354838579893112, std train_accuracy: 0.013968158426993126\n",
      "\n",
      "\n",
      "\n",
      "\n",
      "\n",
      "\n",
      "Best configuration (loss 0.046931150263572995):\n",
      "{'batch_size': None, 'learning_rate': 0.2, 'max_epochs': 500, 'momentum': 0.8, 'initialization': {'type': 'default', 'min': -0.5, 'max': 0.5}, 'early_stopping': {'monitor': 'val_loss', 'patience': 20, 'delta': 0.0}, 'task': 'classification', 'trials_train': 1, 'trials_test': 10, 'nesterov': False, 'learning_rate_decay': None, 'regularization': {'method': None}, 'activations_1': 'relu', 'units_1': 8}\n"
     ]
    },
    {
     "name": "stderr",
     "output_type": "stream",
     "text": [
      " 10%|████▍                                       | 1/10 [00:10<01:30, 10.01s/it]"
     ]
    },
    {
     "name": "stdout",
     "output_type": "stream",
     "text": [
      "Trial 1/10 val_mse: 0.0033654916880319\n",
      "Trial 1/10 train_mse: 0.0030132906977087\n",
      "Trial 1/10 val_accuracy: 1.0\n",
      "Trial 1/10 train_accuracy: 1.0\n"
     ]
    },
    {
     "name": "stderr",
     "output_type": "stream",
     "text": [
      "\r",
      " 20%|████████▊                                   | 2/10 [00:20<01:21, 10.16s/it]"
     ]
    },
    {
     "name": "stdout",
     "output_type": "stream",
     "text": [
      "Trial 2/10 val_mse: 0.0012763077630952\n",
      "Trial 2/10 train_mse: 0.001393724232912\n",
      "Trial 2/10 val_accuracy: 1.0\n",
      "Trial 2/10 train_accuracy: 1.0\n"
     ]
    },
    {
     "name": "stderr",
     "output_type": "stream",
     "text": [
      "\r",
      " 30%|█████████████▏                              | 3/10 [00:29<01:09,  9.90s/it]"
     ]
    },
    {
     "name": "stdout",
     "output_type": "stream",
     "text": [
      "Trial 3/10 val_mse: 0.006566600813856\n",
      "Trial 3/10 train_mse: 0.0050359293818473\n",
      "Trial 3/10 val_accuracy: 1.0\n",
      "Trial 3/10 train_accuracy: 1.0\n"
     ]
    },
    {
     "name": "stderr",
     "output_type": "stream",
     "text": [
      "\r",
      " 40%|█████████████████▌                          | 4/10 [00:31<00:40,  6.74s/it]"
     ]
    },
    {
     "name": "stdout",
     "output_type": "stream",
     "text": [
      "Trial 4/10 val_mse: 0.1030051438518\n",
      "Trial 4/10 train_mse: 0.1243393942713737\n",
      "Trial 4/10 val_accuracy: 0.9230769276618958\n",
      "Trial 4/10 train_accuracy: 0.8558558821678162\n"
     ]
    },
    {
     "name": "stderr",
     "output_type": "stream",
     "text": [
      "\r",
      " 50%|██████████████████████                      | 5/10 [00:41<00:38,  7.80s/it]"
     ]
    },
    {
     "name": "stdout",
     "output_type": "stream",
     "text": [
      "Trial 5/10 val_mse: 0.0011114776331281\n",
      "Trial 5/10 train_mse: 0.0012487801723182\n",
      "Trial 5/10 val_accuracy: 1.0\n",
      "Trial 5/10 train_accuracy: 1.0\n"
     ]
    },
    {
     "name": "stderr",
     "output_type": "stream",
     "text": [
      "\r",
      " 60%|██████████████████████████▍                 | 6/10 [00:52<00:36,  9.07s/it]"
     ]
    },
    {
     "name": "stdout",
     "output_type": "stream",
     "text": [
      "Trial 6/10 val_mse: 0.0015101805950102\n",
      "Trial 6/10 train_mse: 0.0011840934166684\n",
      "Trial 6/10 val_accuracy: 1.0\n",
      "Trial 6/10 train_accuracy: 1.0\n"
     ]
    },
    {
     "name": "stderr",
     "output_type": "stream",
     "text": [
      "\r",
      " 70%|██████████████████████████████▊             | 7/10 [01:05<00:30, 10.27s/it]"
     ]
    },
    {
     "name": "stdout",
     "output_type": "stream",
     "text": [
      "Trial 7/10 val_mse: 0.0041315719183367\n",
      "Trial 7/10 train_mse: 0.0032323796767741\n",
      "Trial 7/10 val_accuracy: 1.0\n",
      "Trial 7/10 train_accuracy: 1.0\n"
     ]
    },
    {
     "name": "stderr",
     "output_type": "stream",
     "text": [
      "\r",
      " 80%|███████████████████████████████████▏        | 8/10 [01:18<00:21, 10.97s/it]"
     ]
    },
    {
     "name": "stdout",
     "output_type": "stream",
     "text": [
      "Trial 8/10 val_mse: 0.0014216184874266\n",
      "Trial 8/10 train_mse: 0.0015080386074259\n",
      "Trial 8/10 val_accuracy: 1.0\n",
      "Trial 8/10 train_accuracy: 1.0\n"
     ]
    },
    {
     "name": "stderr",
     "output_type": "stream",
     "text": [
      "\r",
      " 90%|███████████████████████████████████████▌    | 9/10 [01:30<00:11, 11.26s/it]"
     ]
    },
    {
     "name": "stdout",
     "output_type": "stream",
     "text": [
      "Trial 9/10 val_mse: 0.0041095698296134\n",
      "Trial 9/10 train_mse: 0.0023254635743796\n",
      "Trial 9/10 val_accuracy: 1.0\n",
      "Trial 9/10 train_accuracy: 1.0\n"
     ]
    },
    {
     "name": "stderr",
     "output_type": "stream",
     "text": [
      "100%|███████████████████████████████████████████| 10/10 [01:41<00:00, 10.17s/it]"
     ]
    },
    {
     "name": "stdout",
     "output_type": "stream",
     "text": [
      "Trial 10/10 val_mse: 0.0010809539493781\n",
      "Trial 10/10 train_mse: 0.0014670199016109\n",
      "Trial 10/10 val_accuracy: 1.0\n",
      "Trial 10/10 train_accuracy: 1.0\n",
      "\n",
      "Median val_mse: 0.0033654916880319, std val_mse: 0.030131646730509273\n",
      "Median train_mse: 0.0030132906977087, std train_mse: 0.0366397464620632\n",
      "Median val_accuracy: 1.0, std val_accuracy: 0.023076921701431274\n",
      "Median train_accuracy: 1.0, std train_accuracy: 0.04324323534965515\n",
      "\n",
      "Median model train_loss: 0.0030132906977087\n",
      "Median model val_loss: 0.0033654916880319\n",
      "Median model test_loss: 0.0070258816390204\n",
      "\n",
      "Median model train_accuracy: 1.0\n",
      "Median model val_accuracy: 1.0\n",
      "Median model test_accuracy: 1.0\n"
     ]
    },
    {
     "name": "stderr",
     "output_type": "stream",
     "text": [
      "\n"
     ]
    },
    {
     "data": {
      "image/png": "[encoded data removed]",
      "text/plain": [
       "<Figure size 640x480 with 1 Axes>"
      ]
     },
     "metadata": {},
     "output_type": "display_data"
    },
    {
     "data": {
      "image/png": "[encoded data removed]",
      "text/plain": [
       "<Figure size 640x480 with 1 Axes>"
      ]
     },
     "metadata": {},
     "output_type": "display_data"
    },
    {
     "data": {
      "image/png": "[encoded data removed]",
      "text/plain": [
       "<Figure size 640x480 with 1 Axes>"
      ]
     },
     "metadata": {},
     "output_type": "display_data"
    },
    {
     "data": {
      "image/png": "[encoded data removed]",
      "text/plain": [
       "<Figure size 640x480 with 1 Axes>"
      ]
     },
     "metadata": {},
     "output_type": "display_data"
    }
   ],
   "source": [
    "model = grid_search(params, x_train, y_train, x_test, y_test, k_fold_val)\n",
    "# test_model(model, x_test, y_test)"
   ]
  },
  {
   "cell_type": "markdown",
   "id": "8d0cdf2f",
   "metadata": {},
   "source": [
    "# Monk 2"
   ]
  },
  {
   "cell_type": "code",
   "execution_count": 9,
   "id": "46826a62",
   "metadata": {
    "scrolled": true
   },
   "outputs": [
    {
     "name": "stdout",
     "output_type": "stream",
     "text": [
      "Loaded ./../data/monks-2 dataset\n",
      "(169, 17) (169,)\n",
      "(432, 17) (432,)\n"
     ]
    }
   ],
   "source": [
    "x_train, y_train, x_test, y_test = load_dataset(\"monks2\", True)\n",
    "print(x_train.shape, y_train.shape)\n",
    "print(x_test.shape, y_test.shape)"
   ]
  },
  {
   "cell_type": "code",
   "execution_count": 10,
   "id": "235bb2bb",
   "metadata": {
    "scrolled": true
   },
   "outputs": [],
   "source": [
    "params = {\n",
    "    \"task\": \"classification\",\n",
    "    \"trials_train\": 1,\n",
    "    \"trials_test\": 10,\n",
    "    \"initialization\": {\n",
    "        \"type\": \"default\",\n",
    "        \"min\": -0.5,\n",
    "        \"max\": 0.5,\n",
    "    },\n",
    "    \"early_stopping\": {\n",
    "        \"monitor\": \"val_loss\",\n",
    "        \"patience\": 20,\n",
    "        \"delta\": 0.0\n",
    "    },\n",
    "    \"max_epochs\": [500],\n",
    "    \"learning_rate\": [0.1, 0.5, 0.8],# np.linspace(0.1, 0.4, 4).tolist(),\n",
    "    \"batch_size\": [None],\n",
    "    \"momentum\": [0.1, 0.5, 0.8],#np.linspace(0.5, 0.9, 4).tolist(),\n",
    "    \"nesterov\": False,\n",
    "    \"learning_rate_decay\": None,\n",
    "    \"regularization\": [\n",
    "        {\n",
    "            \"type\": None\n",
    "        }\n",
    "    ],\n",
    "    \"layers\": [\n",
    "        {\n",
    "            \"activations\": [\"relu\"],\n",
    "            \"units\": [8],\n",
    "        },\n",
    "    ]\n",
    "}\n",
    "\n",
    "params = {\n",
    "    \"task\": \"classification\",\n",
    "    \"trials_train\": 1,\n",
    "    \"trials_test\": 10,\n",
    "    \"initialization\": {\n",
    "        \"type\": \"default\",\n",
    "        \"min\": -0.5,\n",
    "        \"max\": 0.5,\n",
    "    },\n",
    "    \"early_stopping\": {\n",
    "        \"monitor\": \"val_loss\",\n",
    "        \"patience\": 20,\n",
    "        \"delta\": 0.0\n",
    "    },\n",
    "    \"max_epochs\": [500],\n",
    "    \"learning_rate\": [0.5, 0.6, 0.7],# np.linspace(0.1, 0.4, 4).tolist(),\n",
    "    \"batch_size\": [None],\n",
    "    \"momentum\": [0.5, 0.6, 0.7],#np.linspace(0.5, 0.9, 4).tolist(),\n",
    "    \"nesterov\": False,\n",
    "    \"learning_rate_decay\": None,\n",
    "    \"regularization\": [\n",
    "        {\n",
    "            \"type\": None\n",
    "        }\n",
    "    ],\n",
    "    \"layers\": [\n",
    "        {\n",
    "            \"activations\": [\"relu\"],\n",
    "            \"units\": [8],\n",
    "        },\n",
    "    ]\n",
    "}\n",
    "\n",
    "k_fold_val = {\n",
    "    \"type\": \"k-fold\",\n",
    "    \"n_folds\": 4\n",
    "}\n",
    "\n",
    "hold_out_val = {\n",
    "    \"type\": \"hold-out\",\n",
    "    \"val_split\": 0.15\n",
    "}"
   ]
  },
  {
   "cell_type": "code",
   "execution_count": 11,
   "id": "c5fcad74",
   "metadata": {
    "scrolled": false
   },
   "outputs": [
    {
     "name": "stdout",
     "output_type": "stream",
     "text": [
      "Testing configuration 1/9:\n",
      "{'batch_size': None, 'learning_rate': 0.5, 'max_epochs': 500, 'momentum': 0.5, 'initialization': {'type': 'default', 'min': -0.5, 'max': 0.5}, 'early_stopping': {'monitor': 'val_loss', 'patience': 20, 'delta': 0.0}, 'task': 'classification', 'trials_train': 1, 'trials_test': 10, 'nesterov': False, 'learning_rate_decay': None, 'regularization': {'method': None}, 'activations_1': 'relu', 'units_1': 8}\n",
      "\n",
      "Executing fold 1/4\n"
     ]
    },
    {
     "name": "stderr",
     "output_type": "stream",
     "text": [
      "100%|█████████████████████████████████████████████| 1/1 [00:00<00:00,  2.15it/s]\n"
     ]
    },
    {
     "name": "stdout",
     "output_type": "stream",
     "text": [
      "Fold 1/4 median val_loss: 0.2668946642736994, std val_loss 0.0\n",
      "Fold 1/4 median train_loss: 0.2220786213874817, std train_loss 0.0\n",
      "Fold 1/4 median val_accuracy: 0.5116279125213623, std val_accuracy 0.0\n",
      "Fold 1/4 median train_accuracy: 0.658730149269104, train_accuracy 0.0\n",
      "\n",
      "Executing fold 2/4\n"
     ]
    },
    {
     "name": "stderr",
     "output_type": "stream",
     "text": [
      "100%|█████████████████████████████████████████████| 1/1 [00:10<00:00, 10.26s/it]\n"
     ]
    },
    {
     "name": "stdout",
     "output_type": "stream",
     "text": [
      "Fold 2/4 median val_loss: 0.0024245898038995, std val_loss 0.0\n",
      "Fold 2/4 median train_loss: 0.0022037217859178, std train_loss 0.0\n",
      "Fold 2/4 median val_accuracy: 1.0, std val_accuracy 0.0\n",
      "Fold 2/4 median train_accuracy: 1.0, train_accuracy 0.0\n",
      "\n",
      "Executing fold 3/4\n"
     ]
    },
    {
     "name": "stderr",
     "output_type": "stream",
     "text": [
      "100%|█████████████████████████████████████████████| 1/1 [00:00<00:00,  2.10it/s]\n"
     ]
    },
    {
     "name": "stdout",
     "output_type": "stream",
     "text": [
      "Fold 3/4 median val_loss: 0.2165478541251209, std val_loss 0.0\n",
      "Fold 3/4 median train_loss: 0.2270978093147277, std train_loss 0.0\n",
      "Fold 3/4 median val_accuracy: 0.738095223903656, std val_accuracy 0.0\n",
      "Fold 3/4 median train_accuracy: 0.6299212574958801, train_accuracy 0.0\n",
      "\n",
      "Executing fold 4/4\n"
     ]
    },
    {
     "name": "stderr",
     "output_type": "stream",
     "text": [
      "100%|█████████████████████████████████████████████| 1/1 [00:00<00:00,  2.76it/s]\n"
     ]
    },
    {
     "name": "stdout",
     "output_type": "stream",
     "text": [
      "Fold 4/4 median val_loss: 0.2576845974493441, std val_loss 0.0\n",
      "Fold 4/4 median train_loss: 0.2228477299213409, std train_loss 0.0\n",
      "Fold 4/4 median val_accuracy: 0.5952380895614624, std val_accuracy 0.0\n",
      "Fold 4/4 median train_accuracy: 0.6299212574958801, train_accuracy 0.0\n",
      "\n",
      "Mean val_loss: 0.18588792641301596, std val_loss: 0.1076053908939855\n",
      "Mean train_loss: 0.16855697060236702, std train_loss: 0.09606311315891314\n",
      "Mean val_accuracy: 0.7112403064966202, std val_accuracy: 0.18534088144788075\n",
      "Mean train_accuracy: 0.7112403064966202, std train_accuracy: 0.15653305697502684\n",
      "\n",
      "\n",
      "\n",
      "Testing configuration 2/9:\n",
      "{'batch_size': None, 'learning_rate': 0.5, 'max_epochs': 500, 'momentum': 0.6, 'initialization': {'type': 'default', 'min': -0.5, 'max': 0.5}, 'early_stopping': {'monitor': 'val_loss', 'patience': 20, 'delta': 0.0}, 'task': 'classification', 'trials_train': 1, 'trials_test': 10, 'nesterov': False, 'learning_rate_decay': None, 'regularization': {'method': None}, 'activations_1': 'relu', 'units_1': 8}\n",
      "\n",
      "Executing fold 1/4\n"
     ]
    },
    {
     "name": "stderr",
     "output_type": "stream",
     "text": [
      "100%|█████████████████████████████████████████████| 1/1 [00:00<00:00,  2.71it/s]\n"
     ]
    },
    {
     "name": "stdout",
     "output_type": "stream",
     "text": [
      "Fold 1/4 median val_loss: 0.2636911282848633, std val_loss 0.0\n",
      "Fold 1/4 median train_loss: 0.2193281054496765, std train_loss 0.0\n",
      "Fold 1/4 median val_accuracy: 0.5581395626068115, std val_accuracy 0.0\n",
      "Fold 1/4 median train_accuracy: 0.6428571343421936, train_accuracy 0.0\n",
      "\n",
      "Executing fold 2/4\n"
     ]
    },
    {
     "name": "stderr",
     "output_type": "stream",
     "text": [
      "100%|█████████████████████████████████████████████| 1/1 [00:10<00:00, 10.89s/it]\n"
     ]
    },
    {
     "name": "stdout",
     "output_type": "stream",
     "text": [
      "Fold 2/4 median val_loss: 0.0009211773326156, std val_loss 0.0\n",
      "Fold 2/4 median train_loss: 0.0008567781187593, std train_loss 0.0\n",
      "Fold 2/4 median val_accuracy: 1.0, std val_accuracy 0.0\n",
      "Fold 2/4 median train_accuracy: 1.0, train_accuracy 0.0\n",
      "\n",
      "Executing fold 3/4\n"
     ]
    },
    {
     "name": "stderr",
     "output_type": "stream",
     "text": [
      "100%|█████████████████████████████████████████████| 1/1 [00:00<00:00,  2.13it/s]\n"
     ]
    },
    {
     "name": "stdout",
     "output_type": "stream",
     "text": [
      "Fold 3/4 median val_loss: 0.2564900518687649, std val_loss 0.0\n",
      "Fold 3/4 median train_loss: 0.2234428077936172, std train_loss 0.0\n",
      "Fold 3/4 median val_accuracy: 0.5714285969734192, std val_accuracy 0.0\n",
      "Fold 3/4 median train_accuracy: 0.6377952694892883, train_accuracy 0.0\n",
      "\n",
      "Executing fold 4/4\n"
     ]
    },
    {
     "name": "stderr",
     "output_type": "stream",
     "text": [
      "100%|█████████████████████████████████████████████| 1/1 [00:00<00:00,  2.26it/s]\n"
     ]
    },
    {
     "name": "stdout",
     "output_type": "stream",
     "text": [
      "Fold 4/4 median val_loss: 0.2182189805364593, std val_loss 0.0\n",
      "Fold 4/4 median train_loss: 0.219144120812416, std train_loss 0.0\n",
      "Fold 4/4 median val_accuracy: 0.6904761791229248, std val_accuracy 0.0\n",
      "Fold 4/4 median train_accuracy: 0.6220472455024719, train_accuracy 0.0\n",
      "\n",
      "Mean val_loss: 0.18483033450567576, std val_loss: 0.10757732063952381\n",
      "Mean train_loss: 0.16569295304361725, std train_loss: 0.095183726546314\n",
      "Mean val_accuracy: 0.7050110846757889, std val_accuracy: 0.17793625871305513\n",
      "Mean train_accuracy: 0.7050110846757889, std train_accuracy: 0.1585674643755135\n",
      "\n",
      "\n",
      "\n",
      "Testing configuration 3/9:\n",
      "{'batch_size': None, 'learning_rate': 0.5, 'max_epochs': 500, 'momentum': 0.7, 'initialization': {'type': 'default', 'min': -0.5, 'max': 0.5}, 'early_stopping': {'monitor': 'val_loss', 'patience': 20, 'delta': 0.0}, 'task': 'classification', 'trials_train': 1, 'trials_test': 10, 'nesterov': False, 'learning_rate_decay': None, 'regularization': {'method': None}, 'activations_1': 'relu', 'units_1': 8}\n",
      "\n",
      "Executing fold 1/4\n"
     ]
    },
    {
     "name": "stderr",
     "output_type": "stream",
     "text": [
      "100%|█████████████████████████████████████████████| 1/1 [00:00<00:00,  2.32it/s]\n"
     ]
    },
    {
     "name": "stdout",
     "output_type": "stream",
     "text": [
      "Fold 1/4 median val_loss: 0.2746527062793344, std val_loss 0.0\n",
      "Fold 1/4 median train_loss: 0.2160403430461883, std train_loss 0.0\n",
      "Fold 1/4 median val_accuracy: 0.5348837375640869, std val_accuracy 0.0\n",
      "Fold 1/4 median train_accuracy: 0.6507936716079712, train_accuracy 0.0\n",
      "\n",
      "Executing fold 2/4\n"
     ]
    },
    {
     "name": "stderr",
     "output_type": "stream",
     "text": [
      "100%|█████████████████████████████████████████████| 1/1 [00:09<00:00,  9.85s/it]\n"
     ]
    },
    {
     "name": "stdout",
     "output_type": "stream",
     "text": [
      "Fold 2/4 median val_loss: 0.0029423861390079, std val_loss 0.0\n",
      "Fold 2/4 median train_loss: 0.0006328229792416, std train_loss 0.0\n",
      "Fold 2/4 median val_accuracy: 1.0, std val_accuracy 0.0\n",
      "Fold 2/4 median train_accuracy: 1.0, train_accuracy 0.0\n",
      "\n",
      "Executing fold 3/4\n"
     ]
    },
    {
     "name": "stderr",
     "output_type": "stream",
     "text": [
      "100%|█████████████████████████████████████████████| 1/1 [00:09<00:00,  9.92s/it]\n"
     ]
    },
    {
     "name": "stdout",
     "output_type": "stream",
     "text": [
      "Fold 3/4 median val_loss: 0.0021912874623195, std val_loss 0.0\n",
      "Fold 3/4 median train_loss: 0.0006567104719579, std train_loss 0.0\n",
      "Fold 3/4 median val_accuracy: 1.0, std val_accuracy 0.0\n",
      "Fold 3/4 median train_accuracy: 1.0, train_accuracy 0.0\n",
      "\n",
      "Executing fold 4/4\n"
     ]
    },
    {
     "name": "stderr",
     "output_type": "stream",
     "text": [
      "100%|█████████████████████████████████████████████| 1/1 [00:00<00:00,  2.23it/s]\n"
     ]
    },
    {
     "name": "stdout",
     "output_type": "stream",
     "text": [
      "Fold 4/4 median val_loss: 0.2481086333936725, std val_loss 0.0\n",
      "Fold 4/4 median train_loss: 0.2238834351301193, std train_loss 0.0\n",
      "Fold 4/4 median val_accuracy: 0.5714285969734192, std val_accuracy 0.0\n",
      "Fold 4/4 median train_accuracy: 0.6377952694892883, train_accuracy 0.0\n",
      "\n",
      "Mean val_loss: 0.13197375331858358, std val_loss: 0.1297470386444275\n",
      "Mean train_loss: 0.11030332790687677, std train_loss: 0.10969361591885848\n",
      "Mean val_accuracy: 0.7765780836343765, std val_accuracy: 0.22379520449764698\n",
      "Mean train_accuracy: 0.7765780836343765, std train_accuracy: 0.17791212923174962\n",
      "\n",
      "\n",
      "\n",
      "Testing configuration 4/9:\n",
      "{'batch_size': None, 'learning_rate': 0.6, 'max_epochs': 500, 'momentum': 0.5, 'initialization': {'type': 'default', 'min': -0.5, 'max': 0.5}, 'early_stopping': {'monitor': 'val_loss', 'patience': 20, 'delta': 0.0}, 'task': 'classification', 'trials_train': 1, 'trials_test': 10, 'nesterov': False, 'learning_rate_decay': None, 'regularization': {'method': None}, 'activations_1': 'relu', 'units_1': 8}\n",
      "\n",
      "Executing fold 1/4\n"
     ]
    },
    {
     "name": "stderr",
     "output_type": "stream",
     "text": [
      "100%|█████████████████████████████████████████████| 1/1 [00:09<00:00,  9.36s/it]\n"
     ]
    },
    {
     "name": "stdout",
     "output_type": "stream",
     "text": [
      "Fold 1/4 median val_loss: 0.0013540299993133, std val_loss 0.0\n",
      "Fold 1/4 median train_loss: 0.001072438666597, std train_loss 0.0\n",
      "Fold 1/4 median val_accuracy: 1.0, std val_accuracy 0.0\n",
      "Fold 1/4 median train_accuracy: 1.0, train_accuracy 0.0\n",
      "\n",
      "Executing fold 2/4\n"
     ]
    },
    {
     "name": "stderr",
     "output_type": "stream",
     "text": [
      "100%|█████████████████████████████████████████████| 1/1 [00:00<00:00,  2.47it/s]\n"
     ]
    },
    {
     "name": "stdout",
     "output_type": "stream",
     "text": [
      "Fold 2/4 median val_loss: 0.3076478598956265, std val_loss 0.0\n",
      "Fold 2/4 median train_loss: 0.2102627158164978, std train_loss 0.0\n",
      "Fold 2/4 median val_accuracy: 0.4523809552192688, std val_accuracy 0.0\n",
      "Fold 2/4 median train_accuracy: 0.6771653294563293, train_accuracy 0.0\n",
      "\n",
      "Executing fold 3/4\n"
     ]
    },
    {
     "name": "stderr",
     "output_type": "stream",
     "text": [
      "100%|█████████████████████████████████████████████| 1/1 [00:10<00:00, 10.72s/it]\n"
     ]
    },
    {
     "name": "stdout",
     "output_type": "stream",
     "text": [
      "Fold 3/4 median val_loss: 0.0014153646344028, std val_loss 0.0\n",
      "Fold 3/4 median train_loss: 0.0009683423559181, std train_loss 0.0\n",
      "Fold 3/4 median val_accuracy: 1.0, std val_accuracy 0.0\n",
      "Fold 3/4 median train_accuracy: 1.0, train_accuracy 0.0\n",
      "\n",
      "Executing fold 4/4\n"
     ]
    },
    {
     "name": "stderr",
     "output_type": "stream",
     "text": [
      "100%|█████████████████████████████████████████████| 1/1 [00:00<00:00,  2.59it/s]\n"
     ]
    },
    {
     "name": "stdout",
     "output_type": "stream",
     "text": [
      "Fold 4/4 median val_loss: 0.2201100709558881, std val_loss 0.0\n",
      "Fold 4/4 median train_loss: 0.2274620682001114, std train_loss 0.0\n",
      "Fold 4/4 median val_accuracy: 0.738095223903656, std val_accuracy 0.0\n",
      "Fold 4/4 median train_accuracy: 0.5984252095222473, train_accuracy 0.0\n",
      "\n",
      "Mean val_loss: 0.13263183137130766, std val_loss: 0.13484683433179337\n",
      "Mean train_loss: 0.10994139125978108, std train_loss: 0.1090906181752907\n",
      "Mean val_accuracy: 0.7976190447807312, std val_accuracy: 0.22619047604109122\n",
      "Mean train_accuracy: 0.7976190447807312, std train_accuracy: 0.18322954868685487\n",
      "\n",
      "\n",
      "\n",
      "Testing configuration 5/9:\n",
      "{'batch_size': None, 'learning_rate': 0.6, 'max_epochs': 500, 'momentum': 0.6, 'initialization': {'type': 'default', 'min': -0.5, 'max': 0.5}, 'early_stopping': {'monitor': 'val_loss', 'patience': 20, 'delta': 0.0}, 'task': 'classification', 'trials_train': 1, 'trials_test': 10, 'nesterov': False, 'learning_rate_decay': None, 'regularization': {'method': None}, 'activations_1': 'relu', 'units_1': 8}\n",
      "\n",
      "Executing fold 1/4\n"
     ]
    },
    {
     "name": "stderr",
     "output_type": "stream",
     "text": [
      "100%|█████████████████████████████████████████████| 1/1 [00:00<00:00,  1.55it/s]\n"
     ]
    },
    {
     "name": "stdout",
     "output_type": "stream",
     "text": [
      "Fold 1/4 median val_loss: 0.2310671213607673, std val_loss 0.0\n",
      "Fold 1/4 median train_loss: 0.2193395048379898, std train_loss 0.0\n",
      "Fold 1/4 median val_accuracy: 0.6279069781303406, std val_accuracy 0.0\n",
      "Fold 1/4 median train_accuracy: 0.6666666865348816, train_accuracy 0.0\n",
      "\n",
      "Executing fold 2/4\n"
     ]
    },
    {
     "name": "stderr",
     "output_type": "stream",
     "text": [
      "100%|█████████████████████████████████████████████| 1/1 [00:00<00:00,  2.50it/s]\n"
     ]
    },
    {
     "name": "stdout",
     "output_type": "stream",
     "text": [
      "Fold 2/4 median val_loss: 0.2857813751710882, std val_loss 0.0\n",
      "Fold 2/4 median train_loss: 0.2163438200950622, std train_loss 0.0\n",
      "Fold 2/4 median val_accuracy: 0.4761904776096344, std val_accuracy 0.0\n",
      "Fold 2/4 median train_accuracy: 0.6692913174629211, train_accuracy 0.0\n",
      "\n",
      "Executing fold 3/4\n"
     ]
    },
    {
     "name": "stderr",
     "output_type": "stream",
     "text": [
      "100%|█████████████████████████████████████████████| 1/1 [00:00<00:00,  2.56it/s]\n"
     ]
    },
    {
     "name": "stdout",
     "output_type": "stream",
     "text": [
      "Fold 3/4 median val_loss: 0.2199634294208442, std val_loss 0.0\n",
      "Fold 3/4 median train_loss: 0.2347088903188705, std train_loss 0.0\n",
      "Fold 3/4 median val_accuracy: 0.7142857313156128, std val_accuracy 0.0\n",
      "Fold 3/4 median train_accuracy: 0.5905511975288391, train_accuracy 0.0\n",
      "\n",
      "Executing fold 4/4\n"
     ]
    },
    {
     "name": "stderr",
     "output_type": "stream",
     "text": [
      "100%|█████████████████████████████████████████████| 1/1 [00:00<00:00,  1.88it/s]\n"
     ]
    },
    {
     "name": "stdout",
     "output_type": "stream",
     "text": [
      "Fold 4/4 median val_loss: 0.2343416346350358, std val_loss 0.0\n",
      "Fold 4/4 median train_loss: 0.2227417528629303, std train_loss 0.0\n",
      "Fold 4/4 median val_accuracy: 0.6904761791229248, std val_accuracy 0.0\n",
      "Fold 4/4 median train_accuracy: 0.6220472455024719, train_accuracy 0.0\n",
      "\n",
      "Mean val_loss: 0.24278839014693387, std val_loss: 0.025387553121904233\n",
      "Mean train_loss: 0.2232834920287132, std train_loss: 0.006974010483928273\n",
      "Mean val_accuracy: 0.6272148415446281, std val_accuracy: 0.09272563592762371\n",
      "Mean train_accuracy: 0.6272148415446281, std train_accuracy: 0.03280182991539609\n",
      "\n",
      "\n",
      "\n",
      "Testing configuration 6/9:\n",
      "{'batch_size': None, 'learning_rate': 0.6, 'max_epochs': 500, 'momentum': 0.7, 'initialization': {'type': 'default', 'min': -0.5, 'max': 0.5}, 'early_stopping': {'monitor': 'val_loss', 'patience': 20, 'delta': 0.0}, 'task': 'classification', 'trials_train': 1, 'trials_test': 10, 'nesterov': False, 'learning_rate_decay': None, 'regularization': {'method': None}, 'activations_1': 'relu', 'units_1': 8}\n",
      "\n",
      "Executing fold 1/4\n"
     ]
    },
    {
     "name": "stderr",
     "output_type": "stream",
     "text": [
      "100%|█████████████████████████████████████████████| 1/1 [00:00<00:00,  2.62it/s]\n"
     ]
    },
    {
     "name": "stdout",
     "output_type": "stream",
     "text": [
      "Fold 1/4 median val_loss: 0.2760114457283157, std val_loss 0.0\n",
      "Fold 1/4 median train_loss: 0.2077344059944152, std train_loss 0.0\n",
      "Fold 1/4 median val_accuracy: 0.5116279125213623, std val_accuracy 0.0\n",
      "Fold 1/4 median train_accuracy: 0.658730149269104, train_accuracy 0.0\n",
      "\n",
      "Executing fold 2/4\n"
     ]
    },
    {
     "name": "stderr",
     "output_type": "stream",
     "text": [
      "100%|█████████████████████████████████████████████| 1/1 [00:00<00:00,  2.30it/s]\n"
     ]
    },
    {
     "name": "stdout",
     "output_type": "stream",
     "text": [
      "Fold 2/4 median val_loss: 0.2664893142010367, std val_loss 0.0\n",
      "Fold 2/4 median train_loss: 0.221593365073204, std train_loss 0.0\n",
      "Fold 2/4 median val_accuracy: 0.5714285969734192, std val_accuracy 0.0\n",
      "Fold 2/4 median train_accuracy: 0.6377952694892883, train_accuracy 0.0\n",
      "\n",
      "Executing fold 3/4\n"
     ]
    },
    {
     "name": "stderr",
     "output_type": "stream",
     "text": [
      "100%|█████████████████████████████████████████████| 1/1 [00:09<00:00,  9.93s/it]\n"
     ]
    },
    {
     "name": "stdout",
     "output_type": "stream",
     "text": [
      "Fold 3/4 median val_loss: 0.0004747365391457, std val_loss 0.0\n",
      "Fold 3/4 median train_loss: 0.0004199739196337, std train_loss 0.0\n",
      "Fold 3/4 median val_accuracy: 1.0, std val_accuracy 0.0\n",
      "Fold 3/4 median train_accuracy: 1.0, train_accuracy 0.0\n",
      "\n",
      "Executing fold 4/4\n"
     ]
    },
    {
     "name": "stderr",
     "output_type": "stream",
     "text": [
      "100%|█████████████████████████████████████████████| 1/1 [00:09<00:00,  9.59s/it]\n"
     ]
    },
    {
     "name": "stdout",
     "output_type": "stream",
     "text": [
      "Fold 4/4 median val_loss: 0.0005896019924999, std val_loss 0.0\n",
      "Fold 4/4 median train_loss: 0.0004204355645924, std train_loss 0.0\n",
      "Fold 4/4 median val_accuracy: 1.0, std val_accuracy 0.0\n",
      "Fold 4/4 median train_accuracy: 1.0, train_accuracy 0.0\n",
      "\n",
      "Mean val_loss: 0.1358912746152495, std val_loss: 0.13540097091180364\n",
      "Mean train_loss: 0.10754204513796134, std train_loss: 0.10723384509176044\n",
      "Mean val_accuracy: 0.7707641273736954, std val_accuracy: 0.23020881940394936\n",
      "Mean train_accuracy: 0.7707641273736954, std train_accuracy: 0.17602432801246642\n",
      "\n",
      "\n",
      "\n",
      "Testing configuration 7/9:\n",
      "{'batch_size': None, 'learning_rate': 0.7, 'max_epochs': 500, 'momentum': 0.5, 'initialization': {'type': 'default', 'min': -0.5, 'max': 0.5}, 'early_stopping': {'monitor': 'val_loss', 'patience': 20, 'delta': 0.0}, 'task': 'classification', 'trials_train': 1, 'trials_test': 10, 'nesterov': False, 'learning_rate_decay': None, 'regularization': {'method': None}, 'activations_1': 'relu', 'units_1': 8}\n",
      "\n",
      "Executing fold 1/4\n"
     ]
    },
    {
     "name": "stderr",
     "output_type": "stream",
     "text": [
      "100%|█████████████████████████████████████████████| 1/1 [00:09<00:00,  9.41s/it]\n"
     ]
    },
    {
     "name": "stdout",
     "output_type": "stream",
     "text": [
      "Fold 1/4 median val_loss: 0.0008032612757515, std val_loss 0.0\n",
      "Fold 1/4 median train_loss: 0.0008452493930235, std train_loss 0.0\n",
      "Fold 1/4 median val_accuracy: 1.0, std val_accuracy 0.0\n",
      "Fold 1/4 median train_accuracy: 1.0, train_accuracy 0.0\n",
      "\n",
      "Executing fold 2/4\n"
     ]
    },
    {
     "name": "stderr",
     "output_type": "stream",
     "text": [
      "100%|█████████████████████████████████████████████| 1/1 [00:09<00:00,  9.32s/it]\n"
     ]
    },
    {
     "name": "stdout",
     "output_type": "stream",
     "text": [
      "Fold 2/4 median val_loss: 0.0043793499369456, std val_loss 0.0\n",
      "Fold 2/4 median train_loss: 0.0009780009277164, std train_loss 0.0\n",
      "Fold 2/4 median val_accuracy: 1.0, std val_accuracy 0.0\n",
      "Fold 2/4 median train_accuracy: 1.0, train_accuracy 0.0\n",
      "\n",
      "Executing fold 3/4\n"
     ]
    },
    {
     "name": "stderr",
     "output_type": "stream",
     "text": [
      "100%|█████████████████████████████████████████████| 1/1 [00:10<00:00, 10.56s/it]\n"
     ]
    },
    {
     "name": "stdout",
     "output_type": "stream",
     "text": [
      "Fold 3/4 median val_loss: 0.0030294236873159, std val_loss 0.0\n",
      "Fold 3/4 median train_loss: 0.0011822473024949, std train_loss 0.0\n",
      "Fold 3/4 median val_accuracy: 1.0, std val_accuracy 0.0\n",
      "Fold 3/4 median train_accuracy: 1.0, train_accuracy 0.0\n",
      "\n",
      "Executing fold 4/4\n"
     ]
    },
    {
     "name": "stderr",
     "output_type": "stream",
     "text": [
      "100%|█████████████████████████████████████████████| 1/1 [00:09<00:00,  9.93s/it]\n"
     ]
    },
    {
     "name": "stdout",
     "output_type": "stream",
     "text": [
      "Fold 4/4 median val_loss: 0.0102236688438895, std val_loss 0.0\n",
      "Fold 4/4 median train_loss: 0.0034464809577912, std train_loss 0.0\n",
      "Fold 4/4 median val_accuracy: 1.0, std val_accuracy 0.0\n",
      "Fold 4/4 median train_accuracy: 1.0, train_accuracy 0.0\n",
      "\n",
      "Mean val_loss: 0.004608925935975625, std val_loss: 0.0034841051189975496\n",
      "Mean train_loss: 0.0016129946452565001, std train_loss: 0.0010653479625443957\n",
      "Mean val_accuracy: 1.0, std val_accuracy: 0.0\n",
      "Mean train_accuracy: 1.0, std train_accuracy: 0.0\n",
      "\n",
      "\n",
      "\n",
      "Testing configuration 8/9:\n",
      "{'batch_size': None, 'learning_rate': 0.7, 'max_epochs': 500, 'momentum': 0.6, 'initialization': {'type': 'default', 'min': -0.5, 'max': 0.5}, 'early_stopping': {'monitor': 'val_loss', 'patience': 20, 'delta': 0.0}, 'task': 'classification', 'trials_train': 1, 'trials_test': 10, 'nesterov': False, 'learning_rate_decay': None, 'regularization': {'method': None}, 'activations_1': 'relu', 'units_1': 8}\n",
      "\n",
      "Executing fold 1/4\n"
     ]
    },
    {
     "name": "stderr",
     "output_type": "stream",
     "text": [
      "100%|█████████████████████████████████████████████| 1/1 [00:09<00:00,  9.64s/it]\n"
     ]
    },
    {
     "name": "stdout",
     "output_type": "stream",
     "text": [
      "Fold 1/4 median val_loss: 0.0008466796564869, std val_loss 0.0\n",
      "Fold 1/4 median train_loss: 0.0005026204162277, std train_loss 0.0\n",
      "Fold 1/4 median val_accuracy: 1.0, std val_accuracy 0.0\n",
      "Fold 1/4 median train_accuracy: 1.0, train_accuracy 0.0\n",
      "\n",
      "Executing fold 2/4\n"
     ]
    },
    {
     "name": "stderr",
     "output_type": "stream",
     "text": [
      "100%|█████████████████████████████████████████████| 1/1 [00:00<00:00,  2.02it/s]\n"
     ]
    },
    {
     "name": "stdout",
     "output_type": "stream",
     "text": [
      "Fold 2/4 median val_loss: 0.2287008490513026, std val_loss 0.0\n",
      "Fold 2/4 median train_loss: 0.2228084653615951, std train_loss 0.0\n",
      "Fold 2/4 median val_accuracy: 0.7142857313156128, std val_accuracy 0.0\n",
      "Fold 2/4 median train_accuracy: 0.5984252095222473, train_accuracy 0.0\n",
      "\n",
      "Executing fold 3/4\n"
     ]
    },
    {
     "name": "stderr",
     "output_type": "stream",
     "text": [
      "100%|█████████████████████████████████████████████| 1/1 [00:00<00:00,  2.87it/s]\n"
     ]
    },
    {
     "name": "stdout",
     "output_type": "stream",
     "text": [
      "Fold 3/4 median val_loss: 0.251105347375016, std val_loss 0.0\n",
      "Fold 3/4 median train_loss: 0.2216036319732666, std train_loss 0.0\n",
      "Fold 3/4 median val_accuracy: 0.5952380895614624, std val_accuracy 0.0\n",
      "Fold 3/4 median train_accuracy: 0.6299212574958801, train_accuracy 0.0\n",
      "\n",
      "Executing fold 4/4\n"
     ]
    },
    {
     "name": "stderr",
     "output_type": "stream",
     "text": [
      "100%|█████████████████████████████████████████████| 1/1 [00:09<00:00,  9.51s/it]\n"
     ]
    },
    {
     "name": "stdout",
     "output_type": "stream",
     "text": [
      "Fold 4/4 median val_loss: 0.0007533937911869, std val_loss 0.0\n",
      "Fold 4/4 median train_loss: 0.0006334018544293, std train_loss 0.0\n",
      "Fold 4/4 median val_accuracy: 1.0, std val_accuracy 0.0\n",
      "Fold 4/4 median train_accuracy: 1.0, train_accuracy 0.0\n",
      "\n",
      "Mean val_loss: 0.1203515674684981, std val_loss: 0.11981366693460065\n",
      "Mean train_loss: 0.11138702990137966, std train_loss: 0.11081984709960657\n",
      "Mean val_accuracy: 0.8273809552192688, std val_accuracy: 0.17767632719896917\n",
      "Mean train_accuracy: 0.8273809552192688, std train_accuracy: 0.1932345040746024\n",
      "\n",
      "\n",
      "\n",
      "Testing configuration 9/9:\n",
      "{'batch_size': None, 'learning_rate': 0.7, 'max_epochs': 500, 'momentum': 0.7, 'initialization': {'type': 'default', 'min': -0.5, 'max': 0.5}, 'early_stopping': {'monitor': 'val_loss', 'patience': 20, 'delta': 0.0}, 'task': 'classification', 'trials_train': 1, 'trials_test': 10, 'nesterov': False, 'learning_rate_decay': None, 'regularization': {'method': None}, 'activations_1': 'relu', 'units_1': 8}\n",
      "\n",
      "Executing fold 1/4\n"
     ]
    },
    {
     "name": "stderr",
     "output_type": "stream",
     "text": [
      "100%|█████████████████████████████████████████████| 1/1 [00:00<00:00,  2.00it/s]\n"
     ]
    },
    {
     "name": "stdout",
     "output_type": "stream",
     "text": [
      "Fold 1/4 median val_loss: 0.2366203310462777, std val_loss 0.0\n",
      "Fold 1/4 median train_loss: 0.1966755837202072, std train_loss 0.0\n",
      "Fold 1/4 median val_accuracy: 0.604651153087616, std val_accuracy 0.0\n",
      "Fold 1/4 median train_accuracy: 0.7222222089767456, train_accuracy 0.0\n",
      "\n",
      "Executing fold 2/4\n"
     ]
    },
    {
     "name": "stderr",
     "output_type": "stream",
     "text": [
      "100%|█████████████████████████████████████████████| 1/1 [00:00<00:00,  1.61it/s]\n"
     ]
    },
    {
     "name": "stdout",
     "output_type": "stream",
     "text": [
      "Fold 2/4 median val_loss: 0.2427636392682622, std val_loss 0.0\n",
      "Fold 2/4 median train_loss: 0.2221846729516983, std train_loss 0.0\n",
      "Fold 2/4 median val_accuracy: 0.5952380895614624, std val_accuracy 0.0\n",
      "Fold 2/4 median train_accuracy: 0.6614173054695129, train_accuracy 0.0\n",
      "\n",
      "Executing fold 3/4\n"
     ]
    },
    {
     "name": "stderr",
     "output_type": "stream",
     "text": [
      "100%|█████████████████████████████████████████████| 1/1 [00:10<00:00, 10.37s/it]\n"
     ]
    },
    {
     "name": "stdout",
     "output_type": "stream",
     "text": [
      "Fold 3/4 median val_loss: 0.0007527441966765, std val_loss 0.0\n",
      "Fold 3/4 median train_loss: 0.0003925011551473, std train_loss 0.0\n",
      "Fold 3/4 median val_accuracy: 1.0, std val_accuracy 0.0\n",
      "Fold 3/4 median train_accuracy: 1.0, train_accuracy 0.0\n",
      "\n",
      "Executing fold 4/4\n"
     ]
    },
    {
     "name": "stderr",
     "output_type": "stream",
     "text": [
      "100%|█████████████████████████████████████████████| 1/1 [00:12<00:00, 12.29s/it]\n"
     ]
    },
    {
     "name": "stdout",
     "output_type": "stream",
     "text": [
      "Fold 4/4 median val_loss: 0.0012600371765447, std val_loss 0.0\n",
      "Fold 4/4 median train_loss: 0.0003870083892252, std train_loss 0.0\n",
      "Fold 4/4 median val_accuracy: 1.0, std val_accuracy 0.0\n",
      "Fold 4/4 median train_accuracy: 1.0, train_accuracy 0.0\n",
      "\n",
      "Mean val_loss: 0.12034918792194027, std val_loss: 0.1193626949666969\n",
      "Mean train_loss: 0.10490994155406949, std train_loss: 0.10490857282828984\n",
      "Mean val_accuracy: 0.7999723106622696, std val_accuracy: 0.2000553728906325\n",
      "Mean train_accuracy: 0.7999723106622696, std train_accuracy: 0.15558251844541607\n",
      "\n",
      "\n",
      "\n",
      "\n",
      "\n",
      "\n",
      "Best configuration (loss 0.004608925935975625):\n",
      "{'batch_size': None, 'learning_rate': 0.7, 'max_epochs': 500, 'momentum': 0.5, 'initialization': {'type': 'default', 'min': -0.5, 'max': 0.5}, 'early_stopping': {'monitor': 'val_loss', 'patience': 20, 'delta': 0.0}, 'task': 'classification', 'trials_train': 1, 'trials_test': 10, 'nesterov': False, 'learning_rate_decay': None, 'regularization': {'method': None}, 'activations_1': 'relu', 'units_1': 8}\n"
     ]
    },
    {
     "name": "stderr",
     "output_type": "stream",
     "text": [
      " 10%|████▍                                       | 1/10 [00:14<02:13, 14.83s/it]"
     ]
    },
    {
     "name": "stdout",
     "output_type": "stream",
     "text": [
      "Trial 1/10 val_mse: 0.0015928584885168\n",
      "Trial 1/10 train_mse: 0.0012631569989025\n",
      "Trial 1/10 val_accuracy: 1.0\n",
      "Trial 1/10 train_accuracy: 1.0\n"
     ]
    },
    {
     "name": "stderr",
     "output_type": "stream",
     "text": [
      "\r",
      " 20%|████████▊                                   | 2/10 [00:32<02:10, 16.28s/it]"
     ]
    },
    {
     "name": "stdout",
     "output_type": "stream",
     "text": [
      "Trial 2/10 val_mse: 0.0013096652554108\n",
      "Trial 2/10 train_mse: 0.0008853789768181\n",
      "Trial 2/10 val_accuracy: 1.0\n",
      "Trial 2/10 train_accuracy: 1.0\n"
     ]
    },
    {
     "name": "stderr",
     "output_type": "stream",
     "text": [
      "\r",
      " 30%|█████████████▏                              | 3/10 [00:44<01:42, 14.67s/it]"
     ]
    },
    {
     "name": "stdout",
     "output_type": "stream",
     "text": [
      "Trial 3/10 val_mse: 0.0016045935152508\n",
      "Trial 3/10 train_mse: 0.0008601369918324\n",
      "Trial 3/10 val_accuracy: 1.0\n",
      "Trial 3/10 train_accuracy: 1.0\n"
     ]
    },
    {
     "name": "stderr",
     "output_type": "stream",
     "text": [
      "\r",
      " 40%|█████████████████▌                          | 4/10 [00:45<00:54,  9.16s/it]"
     ]
    },
    {
     "name": "stdout",
     "output_type": "stream",
     "text": [
      "Trial 4/10 val_mse: 0.2443974535491881\n",
      "Trial 4/10 train_mse: 0.2184171974658966\n",
      "Trial 4/10 val_accuracy: 0.7058823704719543\n",
      "Trial 4/10 train_accuracy: 0.625\n"
     ]
    },
    {
     "name": "stderr",
     "output_type": "stream",
     "text": [
      "\r",
      " 50%|██████████████████████                      | 5/10 [00:58<00:51, 10.33s/it]"
     ]
    },
    {
     "name": "stdout",
     "output_type": "stream",
     "text": [
      "Trial 5/10 val_mse: 0.0013216550825877\n",
      "Trial 5/10 train_mse: 0.0007723518647253\n",
      "Trial 5/10 val_accuracy: 1.0\n",
      "Trial 5/10 train_accuracy: 1.0\n"
     ]
    },
    {
     "name": "stderr",
     "output_type": "stream",
     "text": [
      "\r",
      " 60%|██████████████████████████▍                 | 6/10 [00:58<00:27,  7.00s/it]"
     ]
    },
    {
     "name": "stdout",
     "output_type": "stream",
     "text": [
      "Trial 6/10 val_mse: 0.235213600617665\n",
      "Trial 6/10 train_mse: 0.2165963798761367\n",
      "Trial 6/10 val_accuracy: 0.6470588445663452\n",
      "Trial 6/10 train_accuracy: 0.6184210777282715\n"
     ]
    },
    {
     "name": "stderr",
     "output_type": "stream",
     "text": [
      "\r",
      " 70%|██████████████████████████████▊             | 7/10 [00:58<00:14,  4.84s/it]"
     ]
    },
    {
     "name": "stdout",
     "output_type": "stream",
     "text": [
      "Trial 7/10 val_mse: 0.2442499616631719\n",
      "Trial 7/10 train_mse: 0.2216958701610565\n",
      "Trial 7/10 val_accuracy: 0.6470588445663452\n",
      "Trial 7/10 train_accuracy: 0.6184210777282715\n"
     ]
    },
    {
     "name": "stderr",
     "output_type": "stream",
     "text": [
      "\r",
      " 80%|███████████████████████████████████▏        | 8/10 [01:10<00:13,  6.90s/it]"
     ]
    },
    {
     "name": "stdout",
     "output_type": "stream",
     "text": [
      "Trial 8/10 val_mse: 0.0013837475563902\n",
      "Trial 8/10 train_mse: 0.0007718169945292\n",
      "Trial 8/10 val_accuracy: 1.0\n",
      "Trial 8/10 train_accuracy: 1.0\n"
     ]
    },
    {
     "name": "stderr",
     "output_type": "stream",
     "text": [
      "\r",
      " 90%|███████████████████████████████████████▌    | 9/10 [01:24<00:09,  9.16s/it]"
     ]
    },
    {
     "name": "stdout",
     "output_type": "stream",
     "text": [
      "Trial 9/10 val_mse: 0.0013384887384275\n",
      "Trial 9/10 train_mse: 0.0007691304781474\n",
      "Trial 9/10 val_accuracy: 1.0\n",
      "Trial 9/10 train_accuracy: 1.0\n"
     ]
    },
    {
     "name": "stderr",
     "output_type": "stream",
     "text": [
      "100%|███████████████████████████████████████████| 10/10 [01:25<00:00,  8.51s/it]"
     ]
    },
    {
     "name": "stdout",
     "output_type": "stream",
     "text": [
      "Trial 10/10 val_mse: 0.2377801921433709\n",
      "Trial 10/10 train_mse: 0.2319736182689666\n",
      "Trial 10/10 val_accuracy: 0.6470588445663452\n",
      "Trial 10/10 train_accuracy: 0.6184210777282715\n",
      "\n",
      "Median val_mse: 0.0016045935152508, std val_mse: 0.11710593634446959\n",
      "Median train_mse: 0.0008601369918324, std train_mse: 0.10847178647953125\n",
      "Median val_accuracy: 1.0, std val_accuracy: 0.16648201005436783\n",
      "Median train_accuracy: 1.0, std train_accuracy: 0.18613770110463224\n",
      "\n",
      "Median model train_loss: 0.0008601369918324\n",
      "Median model val_loss: 0.0016045935152508\n",
      "Median model test_loss: 0.0011717820728326\n",
      "\n",
      "Median model train_accuracy: 1.0\n",
      "Median model val_accuracy: 1.0\n",
      "Median model test_accuracy: 1.0\n"
     ]
    },
    {
     "name": "stderr",
     "output_type": "stream",
     "text": [
      "\n"
     ]
    },
    {
     "data": {
      "image/png": "[encoded data removed]",
      "text/plain": [
       "<Figure size 640x480 with 1 Axes>"
      ]
     },
     "metadata": {},
     "output_type": "display_data"
    },
    {
     "data": {
      "image/png": "[encoded data removed]",
      "text/plain": [
       "<Figure size 640x480 with 1 Axes>"
      ]
     },
     "metadata": {},
     "output_type": "display_data"
    },
    {
     "data": {
      "image/png": "[encoded data removed]",
      "text/plain": [
       "<Figure size 640x480 with 1 Axes>"
      ]
     },
     "metadata": {},
     "output_type": "display_data"
    },
    {
     "data": {
      "image/png": "[encoded data removed]",
      "text/plain": [
       "<Figure size 640x480 with 1 Axes>"
      ]
     },
     "metadata": {},
     "output_type": "display_data"
    }
   ],
   "source": [
    "model = grid_search(params, x_train, y_train, x_test, y_test, k_fold_val)\n",
    "# test_model(model, x_test, y_test)"
   ]
  },
  {
   "cell_type": "markdown",
   "id": "8f02c069",
   "metadata": {},
   "source": [
    "# Monk 3"
   ]
  },
  {
   "cell_type": "code",
   "execution_count": 12,
   "id": "55619cba",
   "metadata": {
    "scrolled": true
   },
   "outputs": [
    {
     "name": "stdout",
     "output_type": "stream",
     "text": [
      "Loaded ./../data/monks-3 dataset\n",
      "(122, 17) (122,)\n",
      "(432, 17) (432,)\n"
     ]
    }
   ],
   "source": [
    "x_train, y_train, x_test, y_test = load_dataset(\"monks3\", True)\n",
    "print(x_train.shape, y_train.shape)\n",
    "print(x_test.shape, y_test.shape)"
   ]
  },
  {
   "cell_type": "code",
   "execution_count": 13,
   "id": "7c169d62",
   "metadata": {
    "scrolled": true
   },
   "outputs": [],
   "source": [
    "params = {\n",
    "    \"task\": \"classification\",\n",
    "    \"trials_train\": 1,\n",
    "    \"trials_test\": 10,\n",
    "    \"initialization\": {\n",
    "        \"type\": \"default\",\n",
    "    },\n",
    "    \"early_stopping\": {\n",
    "        \"monitor\": \"val_loss\",\n",
    "        \"patience\": 20,\n",
    "        \"delta\": 0.0\n",
    "    },\n",
    "    \"max_epochs\": [500],\n",
    "    \"learning_rate\": [0.1, 0.2, 0.3],\n",
    "    \"batch_size\": [None],\n",
    "    \"momentum\": [0.7, 0.8, 0.9],\n",
    "    \"nesterov\": False,\n",
    "    \"learning_rate_decay\": None,\n",
    "    \"regularization\": [\n",
    "        {\n",
    "            \"type\": \"l1\",\n",
    "            \"value\": [0.01, 0.001]\n",
    "        }\n",
    "    ],\n",
    "    \"layers\": [\n",
    "        {\n",
    "            \"activations\": [\"relu\"],\n",
    "            \"units\": [16],\n",
    "        },\n",
    "    ]\n",
    "}\n",
    "\n",
    "k_fold_val = {\n",
    "    \"type\": \"k-fold\",\n",
    "    \"n_folds\": 4\n",
    "}\n",
    "\n",
    "hold_out_val = {\n",
    "    \"type\": \"hold-out\",\n",
    "    \"val_split\": 0.2\n",
    "}\n"
   ]
  },
  {
   "cell_type": "code",
   "execution_count": 14,
   "id": "420cace0",
   "metadata": {
    "scrolled": true
   },
   "outputs": [
    {
     "name": "stdout",
     "output_type": "stream",
     "text": [
      "Testing configuration 1/18:\n",
      "{'batch_size': None, 'learning_rate': 0.1, 'max_epochs': 500, 'momentum': 0.7, 'initialization': {'type': 'default'}, 'early_stopping': {'monitor': 'val_loss', 'patience': 20, 'delta': 0.0}, 'task': 'classification', 'trials_train': 1, 'trials_test': 10, 'nesterov': False, 'learning_rate_decay': None, 'regularization': {'method': 'l1', 'value': 0.01}, 'activations_1': 'relu', 'units_1': 16}\n",
      "\n",
      "Executing fold 1/4\n"
     ]
    },
    {
     "name": "stderr",
     "output_type": "stream",
     "text": [
      "100%|█████████████████████████████████████████████| 1/1 [00:08<00:00,  8.96s/it]\n"
     ]
    },
    {
     "name": "stdout",
     "output_type": "stream",
     "text": [
      "Fold 1/4 median val_loss: 0.0711764104314955, std val_loss 0.0\n",
      "Fold 1/4 median train_loss: 0.08075413107872, std train_loss 0.0\n",
      "Fold 1/4 median val_accuracy: 0.9032257795333862, std val_accuracy 0.0\n",
      "Fold 1/4 median train_accuracy: 0.9450549483299256, train_accuracy 0.0\n",
      "\n",
      "Executing fold 2/4\n"
     ]
    },
    {
     "name": "stderr",
     "output_type": "stream",
     "text": [
      "100%|█████████████████████████████████████████████| 1/1 [00:07<00:00,  7.54s/it]\n"
     ]
    },
    {
     "name": "stdout",
     "output_type": "stream",
     "text": [
      "Fold 2/4 median val_loss: 0.0530819205979965, std val_loss 0.0\n",
      "Fold 2/4 median train_loss: 0.0919382721185684, std train_loss 0.0\n",
      "Fold 2/4 median val_accuracy: 0.9677419066429138, std val_accuracy 0.0\n",
      "Fold 2/4 median train_accuracy: 0.9340659379959106, train_accuracy 0.0\n",
      "\n",
      "Executing fold 3/4\n"
     ]
    },
    {
     "name": "stderr",
     "output_type": "stream",
     "text": [
      "100%|█████████████████████████████████████████████| 1/1 [00:06<00:00,  6.66s/it]\n"
     ]
    },
    {
     "name": "stdout",
     "output_type": "stream",
     "text": [
      "Fold 3/4 median val_loss: 0.0397194975684629, std val_loss 0.0\n",
      "Fold 3/4 median train_loss: 0.0851429253816604, std train_loss 0.0\n",
      "Fold 3/4 median val_accuracy: 0.9666666388511658, std val_accuracy 0.0\n",
      "Fold 3/4 median train_accuracy: 0.945652186870575, train_accuracy 0.0\n",
      "\n",
      "Executing fold 4/4\n"
     ]
    },
    {
     "name": "stderr",
     "output_type": "stream",
     "text": [
      "100%|█████████████████████████████████████████████| 1/1 [00:02<00:00,  2.30s/it]\n"
     ]
    },
    {
     "name": "stdout",
     "output_type": "stream",
     "text": [
      "Fold 4/4 median val_loss: 0.1218481652916047, std val_loss 0.0\n",
      "Fold 4/4 median train_loss: 0.0804589986801147, std train_loss 0.0\n",
      "Fold 4/4 median val_accuracy: 0.8666666746139526, std val_accuracy 0.0\n",
      "Fold 4/4 median train_accuracy: 0.95652174949646, train_accuracy 0.0\n",
      "\n",
      "Mean val_loss: 0.0714564984723899, std val_loss: 0.03116191935908079\n",
      "Mean train_loss: 0.08457358181476587, std train_loss: 0.004638987326591992\n",
      "Mean val_accuracy: 0.9260752499103546, std val_accuracy: 0.04311394279890598\n",
      "Mean train_accuracy: 0.9260752499103546, std train_accuracy: 0.007942191903845945\n",
      "\n",
      "\n",
      "\n",
      "Testing configuration 2/18:\n",
      "{'batch_size': None, 'learning_rate': 0.1, 'max_epochs': 500, 'momentum': 0.7, 'initialization': {'type': 'default'}, 'early_stopping': {'monitor': 'val_loss', 'patience': 20, 'delta': 0.0}, 'task': 'classification', 'trials_train': 1, 'trials_test': 10, 'nesterov': False, 'learning_rate_decay': None, 'regularization': {'method': 'l1', 'value': 0.001}, 'activations_1': 'relu', 'units_1': 16}\n",
      "\n",
      "Executing fold 1/4\n"
     ]
    },
    {
     "name": "stderr",
     "output_type": "stream",
     "text": [
      "100%|█████████████████████████████████████████████| 1/1 [00:03<00:00,  3.15s/it]\n"
     ]
    },
    {
     "name": "stdout",
     "output_type": "stream",
     "text": [
      "Fold 1/4 median val_loss: 0.068161832897952, std val_loss 0.0\n",
      "Fold 1/4 median train_loss: 0.0584992580115795, std train_loss 0.0\n",
      "Fold 1/4 median val_accuracy: 0.9354838728904724, std val_accuracy 0.0\n",
      "Fold 1/4 median train_accuracy: 0.9340659379959106, train_accuracy 0.0\n",
      "\n",
      "Executing fold 2/4\n"
     ]
    },
    {
     "name": "stderr",
     "output_type": "stream",
     "text": [
      "100%|█████████████████████████████████████████████| 1/1 [00:03<00:00,  3.22s/it]\n"
     ]
    },
    {
     "name": "stdout",
     "output_type": "stream",
     "text": [
      "Fold 2/4 median val_loss: 0.1129674229809556, std val_loss 0.0\n",
      "Fold 2/4 median train_loss: 0.0441489480435848, std train_loss 0.0\n",
      "Fold 2/4 median val_accuracy: 0.9032257795333862, std val_accuracy 0.0\n",
      "Fold 2/4 median train_accuracy: 0.9560439586639404, train_accuracy 0.0\n",
      "\n",
      "Executing fold 3/4\n"
     ]
    },
    {
     "name": "stderr",
     "output_type": "stream",
     "text": [
      "100%|█████████████████████████████████████████████| 1/1 [00:09<00:00,  9.43s/it]\n"
     ]
    },
    {
     "name": "stdout",
     "output_type": "stream",
     "text": [
      "Fold 3/4 median val_loss: 0.0687930410534511, std val_loss 0.0\n",
      "Fold 3/4 median train_loss: 0.0397491976618766, std train_loss 0.0\n",
      "Fold 3/4 median val_accuracy: 0.9333333373069764, std val_accuracy 0.0\n",
      "Fold 3/4 median train_accuracy: 0.967391312122345, train_accuracy 0.0\n",
      "\n",
      "Executing fold 4/4\n"
     ]
    },
    {
     "name": "stderr",
     "output_type": "stream",
     "text": [
      "100%|█████████████████████████████████████████████| 1/1 [00:03<00:00,  3.11s/it]\n"
     ]
    },
    {
     "name": "stdout",
     "output_type": "stream",
     "text": [
      "Fold 4/4 median val_loss: 0.0801295680538386, std val_loss 0.0\n",
      "Fold 4/4 median train_loss: 0.0627058297395706, std train_loss 0.0\n",
      "Fold 4/4 median val_accuracy: 0.8999999761581421, std val_accuracy 0.0\n",
      "Fold 4/4 median train_accuracy: 0.945652186870575, train_accuracy 0.0\n",
      "\n",
      "Mean val_loss: 0.08251296624654933, std val_loss: 0.018216379289160856\n",
      "Mean train_loss: 0.05127580836415288, std train_loss: 0.009571814166631783\n",
      "Mean val_accuracy: 0.9180107414722443, std val_accuracy: 0.016455052654172592\n",
      "Mean train_accuracy: 0.9180107414722443, std train_accuracy: 0.012341991417424094\n",
      "\n",
      "\n",
      "\n",
      "Testing configuration 3/18:\n",
      "{'batch_size': None, 'learning_rate': 0.1, 'max_epochs': 500, 'momentum': 0.8, 'initialization': {'type': 'default'}, 'early_stopping': {'monitor': 'val_loss', 'patience': 20, 'delta': 0.0}, 'task': 'classification', 'trials_train': 1, 'trials_test': 10, 'nesterov': False, 'learning_rate_decay': None, 'regularization': {'method': 'l1', 'value': 0.01}, 'activations_1': 'relu', 'units_1': 16}\n",
      "\n",
      "Executing fold 1/4\n"
     ]
    },
    {
     "name": "stderr",
     "output_type": "stream",
     "text": [
      "100%|█████████████████████████████████████████████| 1/1 [00:05<00:00,  5.69s/it]\n"
     ]
    },
    {
     "name": "stdout",
     "output_type": "stream",
     "text": [
      "Fold 1/4 median val_loss: 0.1055808036043067, std val_loss 0.0\n",
      "Fold 1/4 median train_loss: 0.0810979530215263, std train_loss 0.0\n",
      "Fold 1/4 median val_accuracy: 0.8387096524238586, std val_accuracy 0.0\n",
      "Fold 1/4 median train_accuracy: 0.9670329689979552, train_accuracy 0.0\n",
      "\n",
      "Executing fold 2/4\n"
     ]
    },
    {
     "name": "stderr",
     "output_type": "stream",
     "text": [
      "100%|█████████████████████████████████████████████| 1/1 [00:03<00:00,  3.49s/it]\n"
     ]
    },
    {
     "name": "stdout",
     "output_type": "stream",
     "text": [
      "Fold 2/4 median val_loss: 0.1787970016564237, std val_loss 0.0\n",
      "Fold 2/4 median train_loss: 0.0602012425661087, std train_loss 0.0\n",
      "Fold 2/4 median val_accuracy: 0.8064516186714172, std val_accuracy 0.0\n",
      "Fold 2/4 median train_accuracy: 0.9780219793319702, train_accuracy 0.0\n",
      "\n",
      "Executing fold 3/4\n"
     ]
    },
    {
     "name": "stderr",
     "output_type": "stream",
     "text": [
      "100%|█████████████████████████████████████████████| 1/1 [00:02<00:00,  2.65s/it]\n"
     ]
    },
    {
     "name": "stdout",
     "output_type": "stream",
     "text": [
      "Fold 3/4 median val_loss: 0.0529109359583904, std val_loss 0.0\n",
      "Fold 3/4 median train_loss: 0.0979621484875679, std train_loss 0.0\n",
      "Fold 3/4 median val_accuracy: 0.9666666388511658, std val_accuracy 0.0\n",
      "Fold 3/4 median train_accuracy: 0.95652174949646, train_accuracy 0.0\n",
      "\n",
      "Executing fold 4/4\n"
     ]
    },
    {
     "name": "stderr",
     "output_type": "stream",
     "text": [
      "100%|█████████████████████████████████████████████| 1/1 [00:04<00:00,  4.01s/it]\n"
     ]
    },
    {
     "name": "stdout",
     "output_type": "stream",
     "text": [
      "Fold 4/4 median val_loss: 0.0557919566391542, std val_loss 0.0\n",
      "Fold 4/4 median train_loss: 0.0988511219620704, std train_loss 0.0\n",
      "Fold 4/4 median val_accuracy: 0.9666666388511658, std val_accuracy 0.0\n",
      "Fold 4/4 median train_accuracy: 0.9239130616188048, train_accuracy 0.0\n",
      "\n",
      "Mean val_loss: 0.09827017446456876, std val_loss: 0.050989887976660125\n",
      "Mean train_loss: 0.08452811650931832, std train_loss: 0.01572565195623055\n",
      "Mean val_accuracy: 0.8946236371994019, std val_accuracy: 0.07294015820995156\n",
      "Mean train_accuracy: 0.8946236371994019, std train_accuracy: 0.020223643156106315\n",
      "\n",
      "\n",
      "\n",
      "Testing configuration 4/18:\n",
      "{'batch_size': None, 'learning_rate': 0.1, 'max_epochs': 500, 'momentum': 0.8, 'initialization': {'type': 'default'}, 'early_stopping': {'monitor': 'val_loss', 'patience': 20, 'delta': 0.0}, 'task': 'classification', 'trials_train': 1, 'trials_test': 10, 'nesterov': False, 'learning_rate_decay': None, 'regularization': {'method': 'l1', 'value': 0.001}, 'activations_1': 'relu', 'units_1': 16}\n",
      "\n",
      "Executing fold 1/4\n"
     ]
    },
    {
     "name": "stderr",
     "output_type": "stream",
     "text": [
      "100%|█████████████████████████████████████████████| 1/1 [00:02<00:00,  2.17s/it]\n"
     ]
    },
    {
     "name": "stdout",
     "output_type": "stream",
     "text": [
      "Fold 1/4 median val_loss: 0.10345896903477, std val_loss 0.0\n",
      "Fold 1/4 median train_loss: 0.0449372269213199, std train_loss 0.0\n",
      "Fold 1/4 median val_accuracy: 0.9032257795333862, std val_accuracy 0.0\n",
      "Fold 1/4 median train_accuracy: 0.9560439586639404, train_accuracy 0.0\n",
      "\n",
      "Executing fold 2/4\n"
     ]
    },
    {
     "name": "stderr",
     "output_type": "stream",
     "text": [
      "100%|█████████████████████████████████████████████| 1/1 [00:02<00:00,  2.43s/it]\n"
     ]
    },
    {
     "name": "stdout",
     "output_type": "stream",
     "text": [
      "Fold 2/4 median val_loss: 0.1157777901316521, std val_loss 0.0\n",
      "Fold 2/4 median train_loss: 0.0407076925039291, std train_loss 0.0\n",
      "Fold 2/4 median val_accuracy: 0.8709677457809448, std val_accuracy 0.0\n",
      "Fold 2/4 median train_accuracy: 0.9560439586639404, train_accuracy 0.0\n",
      "\n",
      "Executing fold 3/4\n"
     ]
    },
    {
     "name": "stderr",
     "output_type": "stream",
     "text": [
      "100%|█████████████████████████████████████████████| 1/1 [00:03<00:00,  3.30s/it]\n"
     ]
    },
    {
     "name": "stdout",
     "output_type": "stream",
     "text": [
      "Fold 3/4 median val_loss: 0.0263460756869413, std val_loss 0.0\n",
      "Fold 3/4 median train_loss: 0.065841719508171, std train_loss 0.0\n",
      "Fold 3/4 median val_accuracy: 0.9666666388511658, std val_accuracy 0.0\n",
      "Fold 3/4 median train_accuracy: 0.93478262424469, train_accuracy 0.0\n",
      "\n",
      "Executing fold 4/4\n"
     ]
    },
    {
     "name": "stderr",
     "output_type": "stream",
     "text": [
      "100%|█████████████████████████████████████████████| 1/1 [00:05<00:00,  5.61s/it]\n"
     ]
    },
    {
     "name": "stdout",
     "output_type": "stream",
     "text": [
      "Fold 4/4 median val_loss: 0.0304468004315386, std val_loss 0.0\n",
      "Fold 4/4 median train_loss: 0.0571997798979282, std train_loss 0.0\n",
      "Fold 4/4 median val_accuracy: 0.9666666388511658, std val_accuracy 0.0\n",
      "Fold 4/4 median train_accuracy: 0.9239130616188048, train_accuracy 0.0\n",
      "\n",
      "Mean val_loss: 0.0690074088212255, std val_loss: 0.04086957435931818\n",
      "Mean train_loss: 0.05217160470783705, std train_loss: 0.009948769890965416\n",
      "Mean val_accuracy: 0.9268817007541656, std val_accuracy: 0.04138736391797426\n",
      "Mean train_accuracy: 0.9268817007541656, std train_accuracy: 0.013890250996883234\n",
      "\n",
      "\n",
      "\n",
      "Testing configuration 5/18:\n",
      "{'batch_size': None, 'learning_rate': 0.1, 'max_epochs': 500, 'momentum': 0.9, 'initialization': {'type': 'default'}, 'early_stopping': {'monitor': 'val_loss', 'patience': 20, 'delta': 0.0}, 'task': 'classification', 'trials_train': 1, 'trials_test': 10, 'nesterov': False, 'learning_rate_decay': None, 'regularization': {'method': 'l1', 'value': 0.01}, 'activations_1': 'relu', 'units_1': 16}\n",
      "\n",
      "Executing fold 1/4\n"
     ]
    },
    {
     "name": "stderr",
     "output_type": "stream",
     "text": [
      "100%|█████████████████████████████████████████████| 1/1 [00:07<00:00,  7.42s/it]\n"
     ]
    },
    {
     "name": "stdout",
     "output_type": "stream",
     "text": [
      "Fold 1/4 median val_loss: 0.0699147370500629, std val_loss 0.0\n",
      "Fold 1/4 median train_loss: 0.0627878680825233, std train_loss 0.0\n",
      "Fold 1/4 median val_accuracy: 0.8709677457809448, std val_accuracy 0.0\n",
      "Fold 1/4 median train_accuracy: 0.9780219793319702, train_accuracy 0.0\n",
      "\n",
      "Executing fold 2/4\n"
     ]
    },
    {
     "name": "stderr",
     "output_type": "stream",
     "text": [
      "100%|█████████████████████████████████████████████| 1/1 [00:05<00:00,  5.90s/it]\n"
     ]
    },
    {
     "name": "stdout",
     "output_type": "stream",
     "text": [
      "Fold 2/4 median val_loss: 0.0849646836371398, std val_loss 0.0\n",
      "Fold 2/4 median train_loss: 0.0595147162675857, std train_loss 0.0\n",
      "Fold 2/4 median val_accuracy: 0.9032257795333862, std val_accuracy 0.0\n",
      "Fold 2/4 median train_accuracy: 0.9890109896659852, train_accuracy 0.0\n",
      "\n",
      "Executing fold 3/4\n"
     ]
    },
    {
     "name": "stderr",
     "output_type": "stream",
     "text": [
      "100%|█████████████████████████████████████████████| 1/1 [00:04<00:00,  4.13s/it]\n"
     ]
    },
    {
     "name": "stdout",
     "output_type": "stream",
     "text": [
      "Fold 3/4 median val_loss: 0.0385387192861417, std val_loss 0.0\n",
      "Fold 3/4 median train_loss: 0.0751556903123855, std train_loss 0.0\n",
      "Fold 3/4 median val_accuracy: 1.0, std val_accuracy 0.0\n",
      "Fold 3/4 median train_accuracy: 0.945652186870575, train_accuracy 0.0\n",
      "\n",
      "Executing fold 4/4\n"
     ]
    },
    {
     "name": "stderr",
     "output_type": "stream",
     "text": [
      "100%|█████████████████████████████████████████████| 1/1 [00:01<00:00,  1.58s/it]\n"
     ]
    },
    {
     "name": "stdout",
     "output_type": "stream",
     "text": [
      "Fold 4/4 median val_loss: 0.0569760700054207, std val_loss 0.0\n",
      "Fold 4/4 median train_loss: 0.0909287929534912, std train_loss 0.0\n",
      "Fold 4/4 median val_accuracy: 0.9666666388511658, std val_accuracy 0.0\n",
      "Fold 4/4 median train_accuracy: 0.945652186870575, train_accuracy 0.0\n",
      "\n",
      "Mean val_loss: 0.06259855249469128, std val_loss: 0.017060614453287163\n",
      "Mean train_loss: 0.07209676690399643, std train_loss: 0.012338616342938008\n",
      "Mean val_accuracy: 0.9352150410413742, std val_accuracy: 0.05083631013401481\n",
      "Mean train_accuracy: 0.9352150410413742, std train_accuracy: 0.019326692739271324\n",
      "\n",
      "\n",
      "\n",
      "Testing configuration 6/18:\n",
      "{'batch_size': None, 'learning_rate': 0.1, 'max_epochs': 500, 'momentum': 0.9, 'initialization': {'type': 'default'}, 'early_stopping': {'monitor': 'val_loss', 'patience': 20, 'delta': 0.0}, 'task': 'classification', 'trials_train': 1, 'trials_test': 10, 'nesterov': False, 'learning_rate_decay': None, 'regularization': {'method': 'l1', 'value': 0.001}, 'activations_1': 'relu', 'units_1': 16}\n",
      "\n",
      "Executing fold 1/4\n"
     ]
    },
    {
     "name": "stderr",
     "output_type": "stream",
     "text": [
      "100%|█████████████████████████████████████████████| 1/1 [00:01<00:00,  1.70s/it]\n"
     ]
    },
    {
     "name": "stdout",
     "output_type": "stream",
     "text": [
      "Fold 1/4 median val_loss: 0.0753656753195741, std val_loss 0.0\n",
      "Fold 1/4 median train_loss: 0.0541988871991634, std train_loss 0.0\n",
      "Fold 1/4 median val_accuracy: 0.8709677457809448, std val_accuracy 0.0\n",
      "Fold 1/4 median train_accuracy: 0.9560439586639404, train_accuracy 0.0\n",
      "\n",
      "Executing fold 2/4\n"
     ]
    },
    {
     "name": "stderr",
     "output_type": "stream",
     "text": [
      "100%|█████████████████████████████████████████████| 1/1 [00:01<00:00,  1.78s/it]\n"
     ]
    },
    {
     "name": "stdout",
     "output_type": "stream",
     "text": [
      "Fold 2/4 median val_loss: 0.0441587218433047, std val_loss 0.0\n",
      "Fold 2/4 median train_loss: 0.0560101009905338, std train_loss 0.0\n",
      "Fold 2/4 median val_accuracy: 0.9354838728904724, std val_accuracy 0.0\n",
      "Fold 2/4 median train_accuracy: 0.9340659379959106, train_accuracy 0.0\n",
      "\n",
      "Executing fold 3/4\n"
     ]
    },
    {
     "name": "stderr",
     "output_type": "stream",
     "text": [
      "100%|█████████████████████████████████████████████| 1/1 [00:01<00:00,  1.24s/it]\n"
     ]
    },
    {
     "name": "stdout",
     "output_type": "stream",
     "text": [
      "Fold 3/4 median val_loss: 0.0858511502071366, std val_loss 0.0\n",
      "Fold 3/4 median train_loss: 0.04945819824934, std train_loss 0.0\n",
      "Fold 3/4 median val_accuracy: 0.8999999761581421, std val_accuracy 0.0\n",
      "Fold 3/4 median train_accuracy: 0.95652174949646, train_accuracy 0.0\n",
      "\n",
      "Executing fold 4/4\n"
     ]
    },
    {
     "name": "stderr",
     "output_type": "stream",
     "text": [
      "100%|█████████████████████████████████████████████| 1/1 [00:01<00:00,  1.49s/it]\n"
     ]
    },
    {
     "name": "stdout",
     "output_type": "stream",
     "text": [
      "Fold 4/4 median val_loss: 0.0759242780320701, std val_loss 0.0\n",
      "Fold 4/4 median train_loss: 0.0490018166601657, std train_loss 0.0\n",
      "Fold 4/4 median val_accuracy: 0.9333333373069764, std val_accuracy 0.0\n",
      "Fold 4/4 median train_accuracy: 0.945652186870575, train_accuracy 0.0\n",
      "\n",
      "Mean val_loss: 0.07032495635052137, std val_loss: 0.01567239432073385\n",
      "Mean train_loss: 0.05216725077480073, std train_loss: 0.0030105640277677736\n",
      "Mean val_accuracy: 0.9099462330341339, std val_accuracy: 0.02653949034029806\n",
      "Mean train_accuracy: 0.9099462330341339, std train_accuracy: 0.00917844833829931\n",
      "\n",
      "\n",
      "\n",
      "Testing configuration 7/18:\n",
      "{'batch_size': None, 'learning_rate': 0.2, 'max_epochs': 500, 'momentum': 0.7, 'initialization': {'type': 'default'}, 'early_stopping': {'monitor': 'val_loss', 'patience': 20, 'delta': 0.0}, 'task': 'classification', 'trials_train': 1, 'trials_test': 10, 'nesterov': False, 'learning_rate_decay': None, 'regularization': {'method': 'l1', 'value': 0.01}, 'activations_1': 'relu', 'units_1': 16}\n",
      "\n",
      "Executing fold 1/4\n"
     ]
    },
    {
     "name": "stderr",
     "output_type": "stream",
     "text": [
      "100%|█████████████████████████████████████████████| 1/1 [00:02<00:00,  2.63s/it]\n"
     ]
    },
    {
     "name": "stdout",
     "output_type": "stream",
     "text": [
      "Fold 1/4 median val_loss: 0.0930039060030084, std val_loss 0.0\n",
      "Fold 1/4 median train_loss: 0.0825426429510116, std train_loss 0.0\n",
      "Fold 1/4 median val_accuracy: 0.9032257795333862, std val_accuracy 0.0\n",
      "Fold 1/4 median train_accuracy: 0.9560439586639404, train_accuracy 0.0\n",
      "\n",
      "Executing fold 2/4\n"
     ]
    },
    {
     "name": "stderr",
     "output_type": "stream",
     "text": [
      "100%|█████████████████████████████████████████████| 1/1 [00:03<00:00,  3.79s/it]\n"
     ]
    },
    {
     "name": "stdout",
     "output_type": "stream",
     "text": [
      "Fold 2/4 median val_loss: 0.0600543244866845, std val_loss 0.0\n",
      "Fold 2/4 median train_loss: 0.0802681967616081, std train_loss 0.0\n",
      "Fold 2/4 median val_accuracy: 0.9354838728904724, std val_accuracy 0.0\n",
      "Fold 2/4 median train_accuracy: 0.9450549483299256, train_accuracy 0.0\n",
      "\n",
      "Executing fold 3/4\n"
     ]
    },
    {
     "name": "stderr",
     "output_type": "stream",
     "text": [
      "100%|█████████████████████████████████████████████| 1/1 [00:02<00:00,  2.10s/it]\n"
     ]
    },
    {
     "name": "stdout",
     "output_type": "stream",
     "text": [
      "Fold 3/4 median val_loss: 0.0578944336342465, std val_loss 0.0\n",
      "Fold 3/4 median train_loss: 0.0881424024701118, std train_loss 0.0\n",
      "Fold 3/4 median val_accuracy: 0.9666666388511658, std val_accuracy 0.0\n",
      "Fold 3/4 median train_accuracy: 0.93478262424469, train_accuracy 0.0\n",
      "\n",
      "Executing fold 4/4\n"
     ]
    },
    {
     "name": "stderr",
     "output_type": "stream",
     "text": [
      "100%|█████████████████████████████████████████████| 1/1 [00:02<00:00,  2.07s/it]\n"
     ]
    },
    {
     "name": "stdout",
     "output_type": "stream",
     "text": [
      "Fold 4/4 median val_loss: 0.1102231499712955, std val_loss 0.0\n",
      "Fold 4/4 median train_loss: 0.0772848278284072, std train_loss 0.0\n",
      "Fold 4/4 median val_accuracy: 0.8999999761581421, std val_accuracy 0.0\n",
      "Fold 4/4 median train_accuracy: 0.95652174949646, train_accuracy 0.0\n",
      "\n",
      "Mean val_loss: 0.08029395352380872, std val_loss: 0.022184909098636536\n",
      "Mean train_loss: 0.08205951750278467, std train_loss: 0.003976222805906225\n",
      "Mean val_accuracy: 0.9263440668582916, std val_accuracy: 0.027101255460222656\n",
      "Mean train_accuracy: 0.9263440668582916, std train_accuracy: 0.00895345153873985\n",
      "\n",
      "\n",
      "\n",
      "Testing configuration 8/18:\n",
      "{'batch_size': None, 'learning_rate': 0.2, 'max_epochs': 500, 'momentum': 0.7, 'initialization': {'type': 'default'}, 'early_stopping': {'monitor': 'val_loss', 'patience': 20, 'delta': 0.0}, 'task': 'classification', 'trials_train': 1, 'trials_test': 10, 'nesterov': False, 'learning_rate_decay': None, 'regularization': {'method': 'l1', 'value': 0.001}, 'activations_1': 'relu', 'units_1': 16}\n",
      "\n",
      "Executing fold 1/4\n"
     ]
    },
    {
     "name": "stderr",
     "output_type": "stream",
     "text": [
      "100%|█████████████████████████████████████████████| 1/1 [00:02<00:00,  2.88s/it]\n"
     ]
    },
    {
     "name": "stdout",
     "output_type": "stream",
     "text": [
      "Fold 1/4 median val_loss: 0.0534595903534718, std val_loss 0.0\n",
      "Fold 1/4 median train_loss: 0.0522809773683548, std train_loss 0.0\n",
      "Fold 1/4 median val_accuracy: 0.9354838728904724, std val_accuracy 0.0\n",
      "Fold 1/4 median train_accuracy: 0.9560439586639404, train_accuracy 0.0\n",
      "\n",
      "Executing fold 2/4\n"
     ]
    },
    {
     "name": "stderr",
     "output_type": "stream",
     "text": [
      "100%|█████████████████████████████████████████████| 1/1 [00:02<00:00,  2.13s/it]\n"
     ]
    },
    {
     "name": "stdout",
     "output_type": "stream",
     "text": [
      "Fold 2/4 median val_loss: 0.1058038812045861, std val_loss 0.0\n",
      "Fold 2/4 median train_loss: 0.0431117080152034, std train_loss 0.0\n",
      "Fold 2/4 median val_accuracy: 0.8709677457809448, std val_accuracy 0.0\n",
      "Fold 2/4 median train_accuracy: 0.9560439586639404, train_accuracy 0.0\n",
      "\n",
      "Executing fold 3/4\n"
     ]
    },
    {
     "name": "stderr",
     "output_type": "stream",
     "text": [
      "100%|█████████████████████████████████████████████| 1/1 [00:01<00:00,  1.72s/it]\n"
     ]
    },
    {
     "name": "stdout",
     "output_type": "stream",
     "text": [
      "Fold 3/4 median val_loss: 0.0718049812494784, std val_loss 0.0\n",
      "Fold 3/4 median train_loss: 0.0566559508442878, std train_loss 0.0\n",
      "Fold 3/4 median val_accuracy: 0.9333333373069764, std val_accuracy 0.0\n",
      "Fold 3/4 median train_accuracy: 0.95652174949646, train_accuracy 0.0\n",
      "\n",
      "Executing fold 4/4\n"
     ]
    },
    {
     "name": "stderr",
     "output_type": "stream",
     "text": [
      "100%|█████████████████████████████████████████████| 1/1 [00:02<00:00,  2.62s/it]\n"
     ]
    },
    {
     "name": "stdout",
     "output_type": "stream",
     "text": [
      "Fold 4/4 median val_loss: 0.0576736331635177, std val_loss 0.0\n",
      "Fold 4/4 median train_loss: 0.0629147663712501, std train_loss 0.0\n",
      "Fold 4/4 median val_accuracy: 0.9333333373069764, std val_accuracy 0.0\n",
      "Fold 4/4 median train_accuracy: 0.93478262424469, train_accuracy 0.0\n",
      "\n",
      "Mean val_loss: 0.0721855214927635, std val_loss: 0.020564498051886964\n",
      "Mean train_loss: 0.05374085064977402, std train_loss: 0.00720708751772602\n",
      "Mean val_accuracy: 0.9182795733213425, std val_accuracy: 0.02732960194160827\n",
      "Mean train_accuracy: 0.9182795733213425, std train_accuracy: 0.009277441785878466\n",
      "\n",
      "\n",
      "\n",
      "Testing configuration 9/18:\n",
      "{'batch_size': None, 'learning_rate': 0.2, 'max_epochs': 500, 'momentum': 0.8, 'initialization': {'type': 'default'}, 'early_stopping': {'monitor': 'val_loss', 'patience': 20, 'delta': 0.0}, 'task': 'classification', 'trials_train': 1, 'trials_test': 10, 'nesterov': False, 'learning_rate_decay': None, 'regularization': {'method': 'l1', 'value': 0.01}, 'activations_1': 'relu', 'units_1': 16}\n",
      "\n",
      "Executing fold 1/4\n"
     ]
    },
    {
     "name": "stderr",
     "output_type": "stream",
     "text": [
      "100%|█████████████████████████████████████████████| 1/1 [00:02<00:00,  2.58s/it]\n"
     ]
    },
    {
     "name": "stdout",
     "output_type": "stream",
     "text": [
      "Fold 1/4 median val_loss: 0.0664030290032498, std val_loss 0.0\n",
      "Fold 1/4 median train_loss: 0.0869985520839691, std train_loss 0.0\n",
      "Fold 1/4 median val_accuracy: 0.9354838728904724, std val_accuracy 0.0\n",
      "Fold 1/4 median train_accuracy: 0.9450549483299256, train_accuracy 0.0\n",
      "\n",
      "Executing fold 2/4\n"
     ]
    },
    {
     "name": "stderr",
     "output_type": "stream",
     "text": [
      "100%|█████████████████████████████████████████████| 1/1 [00:01<00:00,  1.38s/it]\n"
     ]
    },
    {
     "name": "stdout",
     "output_type": "stream",
     "text": [
      "Fold 2/4 median val_loss: 0.0980989626525816, std val_loss 0.0\n",
      "Fold 2/4 median train_loss: 0.0895859748125076, std train_loss 0.0\n",
      "Fold 2/4 median val_accuracy: 0.9032257795333862, std val_accuracy 0.0\n",
      "Fold 2/4 median train_accuracy: 0.9340659379959106, train_accuracy 0.0\n",
      "\n",
      "Executing fold 3/4\n"
     ]
    },
    {
     "name": "stderr",
     "output_type": "stream",
     "text": [
      "100%|█████████████████████████████████████████████| 1/1 [00:02<00:00,  2.65s/it]\n"
     ]
    },
    {
     "name": "stdout",
     "output_type": "stream",
     "text": [
      "Fold 3/4 median val_loss: 0.0625197254154893, std val_loss 0.0\n",
      "Fold 3/4 median train_loss: 0.0862696021795272, std train_loss 0.0\n",
      "Fold 3/4 median val_accuracy: 0.9666666388511658, std val_accuracy 0.0\n",
      "Fold 3/4 median train_accuracy: 0.945652186870575, train_accuracy 0.0\n",
      "\n",
      "Executing fold 4/4\n"
     ]
    },
    {
     "name": "stderr",
     "output_type": "stream",
     "text": [
      "100%|█████████████████████████████████████████████| 1/1 [00:05<00:00,  5.55s/it]\n"
     ]
    },
    {
     "name": "stdout",
     "output_type": "stream",
     "text": [
      "Fold 4/4 median val_loss: 0.07877532083273, std val_loss 0.0\n",
      "Fold 4/4 median train_loss: 0.0657997131347656, std train_loss 0.0\n",
      "Fold 4/4 median val_accuracy: 0.8999999761581421, std val_accuracy 0.0\n",
      "Fold 4/4 median train_accuracy: 0.97826087474823, train_accuracy 0.0\n",
      "\n",
      "Mean val_loss: 0.07644925947601267, std val_loss: 0.013866135681255092\n",
      "Mean train_loss: 0.08216346055269239, std train_loss: 0.00952764998137415\n",
      "Mean val_accuracy: 0.9263440668582916, std val_accuracy: 0.027101255460222656\n",
      "Mean train_accuracy: 0.9263440668582916, std train_accuracy: 0.016535017224671364\n",
      "\n",
      "\n",
      "\n",
      "Testing configuration 10/18:\n",
      "{'batch_size': None, 'learning_rate': 0.2, 'max_epochs': 500, 'momentum': 0.8, 'initialization': {'type': 'default'}, 'early_stopping': {'monitor': 'val_loss', 'patience': 20, 'delta': 0.0}, 'task': 'classification', 'trials_train': 1, 'trials_test': 10, 'nesterov': False, 'learning_rate_decay': None, 'regularization': {'method': 'l1', 'value': 0.001}, 'activations_1': 'relu', 'units_1': 16}\n",
      "\n",
      "Executing fold 1/4\n"
     ]
    },
    {
     "name": "stderr",
     "output_type": "stream",
     "text": [
      "100%|█████████████████████████████████████████████| 1/1 [00:01<00:00,  1.25s/it]\n"
     ]
    },
    {
     "name": "stdout",
     "output_type": "stream",
     "text": [
      "Fold 1/4 median val_loss: 0.0889152214918768, std val_loss 0.0\n",
      "Fold 1/4 median train_loss: 0.0571768842637538, std train_loss 0.0\n",
      "Fold 1/4 median val_accuracy: 0.9032257795333862, std val_accuracy 0.0\n",
      "Fold 1/4 median train_accuracy: 0.9450549483299256, train_accuracy 0.0\n",
      "\n",
      "Executing fold 2/4\n"
     ]
    },
    {
     "name": "stderr",
     "output_type": "stream",
     "text": [
      "100%|█████████████████████████████████████████████| 1/1 [00:02<00:00,  2.04s/it]\n"
     ]
    },
    {
     "name": "stdout",
     "output_type": "stream",
     "text": [
      "Fold 2/4 median val_loss: 0.0723555736859492, std val_loss 0.0\n",
      "Fold 2/4 median train_loss: 0.0488112121820449, std train_loss 0.0\n",
      "Fold 2/4 median val_accuracy: 0.9354838728904724, std val_accuracy 0.0\n",
      "Fold 2/4 median train_accuracy: 0.9670329689979552, train_accuracy 0.0\n",
      "\n",
      "Executing fold 3/4\n"
     ]
    },
    {
     "name": "stderr",
     "output_type": "stream",
     "text": [
      "100%|█████████████████████████████████████████████| 1/1 [00:01<00:00,  1.63s/it]\n"
     ]
    },
    {
     "name": "stdout",
     "output_type": "stream",
     "text": [
      "Fold 3/4 median val_loss: 0.0609010932144621, std val_loss 0.0\n",
      "Fold 3/4 median train_loss: 0.0545136630535125, std train_loss 0.0\n",
      "Fold 3/4 median val_accuracy: 0.9333333373069764, std val_accuracy 0.0\n",
      "Fold 3/4 median train_accuracy: 0.945652186870575, train_accuracy 0.0\n",
      "\n",
      "Executing fold 4/4\n"
     ]
    },
    {
     "name": "stderr",
     "output_type": "stream",
     "text": [
      "100%|█████████████████████████████████████████████| 1/1 [00:02<00:00,  2.73s/it]\n"
     ]
    },
    {
     "name": "stdout",
     "output_type": "stream",
     "text": [
      "Fold 4/4 median val_loss: 0.0706441913314715, std val_loss 0.0\n",
      "Fold 4/4 median train_loss: 0.0459617748856544, std train_loss 0.0\n",
      "Fold 4/4 median val_accuracy: 0.9333333373069764, std val_accuracy 0.0\n",
      "Fold 4/4 median train_accuracy: 0.967391312122345, train_accuracy 0.0\n",
      "\n",
      "Mean val_loss: 0.0732040199309399, std val_loss: 0.010068222829386336\n",
      "Mean train_loss: 0.0516158835962414, std train_loss: 0.004448510460249659\n",
      "Mean val_accuracy: 0.9263440817594528, std val_accuracy: 0.013376201496983355\n",
      "Mean train_accuracy: 0.9263440817594528, std train_accuracy: 0.010932060232155231\n",
      "\n",
      "\n",
      "\n",
      "Testing configuration 11/18:\n",
      "{'batch_size': None, 'learning_rate': 0.2, 'max_epochs': 500, 'momentum': 0.9, 'initialization': {'type': 'default'}, 'early_stopping': {'monitor': 'val_loss', 'patience': 20, 'delta': 0.0}, 'task': 'classification', 'trials_train': 1, 'trials_test': 10, 'nesterov': False, 'learning_rate_decay': None, 'regularization': {'method': 'l1', 'value': 0.01}, 'activations_1': 'relu', 'units_1': 16}\n",
      "\n",
      "Executing fold 1/4\n"
     ]
    },
    {
     "name": "stderr",
     "output_type": "stream",
     "text": [
      "100%|█████████████████████████████████████████████| 1/1 [00:00<00:00,  1.06it/s]\n"
     ]
    },
    {
     "name": "stdout",
     "output_type": "stream",
     "text": [
      "Fold 1/4 median val_loss: 0.0624384537443196, std val_loss 0.0\n",
      "Fold 1/4 median train_loss: 0.0895101353526115, std train_loss 0.0\n",
      "Fold 1/4 median val_accuracy: 0.9354838728904724, std val_accuracy 0.0\n",
      "Fold 1/4 median train_accuracy: 0.9450549483299256, train_accuracy 0.0\n",
      "\n",
      "Executing fold 2/4\n"
     ]
    },
    {
     "name": "stderr",
     "output_type": "stream",
     "text": [
      "100%|█████████████████████████████████████████████| 1/1 [00:01<00:00,  1.54s/it]\n"
     ]
    },
    {
     "name": "stdout",
     "output_type": "stream",
     "text": [
      "Fold 2/4 median val_loss: 0.0692896155163427, std val_loss 0.0\n",
      "Fold 2/4 median train_loss: 0.0796701163053512, std train_loss 0.0\n",
      "Fold 2/4 median val_accuracy: 0.9354838728904724, std val_accuracy 0.0\n",
      "Fold 2/4 median train_accuracy: 0.9450549483299256, train_accuracy 0.0\n",
      "\n",
      "Executing fold 3/4\n"
     ]
    },
    {
     "name": "stderr",
     "output_type": "stream",
     "text": [
      "100%|█████████████████████████████████████████████| 1/1 [00:01<00:00,  1.38s/it]\n"
     ]
    },
    {
     "name": "stdout",
     "output_type": "stream",
     "text": [
      "Fold 3/4 median val_loss: 0.0765290405707837, std val_loss 0.0\n",
      "Fold 3/4 median train_loss: 0.0799765586853027, std train_loss 0.0\n",
      "Fold 3/4 median val_accuracy: 0.9333333373069764, std val_accuracy 0.0\n",
      "Fold 3/4 median train_accuracy: 0.95652174949646, train_accuracy 0.0\n",
      "\n",
      "Executing fold 4/4\n"
     ]
    },
    {
     "name": "stderr",
     "output_type": "stream",
     "text": [
      "100%|█████████████████████████████████████████████| 1/1 [00:01<00:00,  1.06s/it]\n"
     ]
    },
    {
     "name": "stdout",
     "output_type": "stream",
     "text": [
      "Fold 4/4 median val_loss: 0.0527849483970299, std val_loss 0.0\n",
      "Fold 4/4 median train_loss: 0.0881828665733337, std train_loss 0.0\n",
      "Fold 4/4 median val_accuracy: 0.9666666388511658, std val_accuracy 0.0\n",
      "Fold 4/4 median train_accuracy: 0.95652174949646, train_accuracy 0.0\n",
      "\n",
      "Mean val_loss: 0.06526051455711898, std val_loss: 0.008758097842941608\n",
      "Mean train_loss: 0.08433491922914978, std train_loss: 0.004537214278502641\n",
      "Mean val_accuracy: 0.9427419304847717, std val_accuracy: 0.01384081009268057\n",
      "Mean train_accuracy: 0.9427419304847717, std train_accuracy: 0.005733400583267156\n",
      "\n",
      "\n",
      "\n",
      "Testing configuration 12/18:\n",
      "{'batch_size': None, 'learning_rate': 0.2, 'max_epochs': 500, 'momentum': 0.9, 'initialization': {'type': 'default'}, 'early_stopping': {'monitor': 'val_loss', 'patience': 20, 'delta': 0.0}, 'task': 'classification', 'trials_train': 1, 'trials_test': 10, 'nesterov': False, 'learning_rate_decay': None, 'regularization': {'method': 'l1', 'value': 0.001}, 'activations_1': 'relu', 'units_1': 16}\n",
      "\n",
      "Executing fold 1/4\n"
     ]
    },
    {
     "name": "stderr",
     "output_type": "stream",
     "text": [
      "100%|█████████████████████████████████████████████| 1/1 [00:01<00:00,  1.04s/it]\n"
     ]
    },
    {
     "name": "stdout",
     "output_type": "stream",
     "text": [
      "Fold 1/4 median val_loss: 0.0513549022261241, std val_loss 0.0\n",
      "Fold 1/4 median train_loss: 0.0562136992812156, std train_loss 0.0\n",
      "Fold 1/4 median val_accuracy: 0.9677419066429138, std val_accuracy 0.0\n",
      "Fold 1/4 median train_accuracy: 0.9450549483299256, train_accuracy 0.0\n",
      "\n",
      "Executing fold 2/4\n"
     ]
    },
    {
     "name": "stderr",
     "output_type": "stream",
     "text": [
      "100%|█████████████████████████████████████████████| 1/1 [00:00<00:00,  1.15it/s]\n"
     ]
    },
    {
     "name": "stdout",
     "output_type": "stream",
     "text": [
      "Fold 2/4 median val_loss: 0.1024706724117809, std val_loss 0.0\n",
      "Fold 2/4 median train_loss: 0.0417302772402763, std train_loss 0.0\n",
      "Fold 2/4 median val_accuracy: 0.8709677457809448, std val_accuracy 0.0\n",
      "Fold 2/4 median train_accuracy: 0.9670329689979552, train_accuracy 0.0\n",
      "\n",
      "Executing fold 3/4\n"
     ]
    },
    {
     "name": "stderr",
     "output_type": "stream",
     "text": [
      "100%|█████████████████████████████████████████████| 1/1 [00:00<00:00,  1.04it/s]\n"
     ]
    },
    {
     "name": "stdout",
     "output_type": "stream",
     "text": [
      "Fold 3/4 median val_loss: 0.0769462672216607, std val_loss 0.0\n",
      "Fold 3/4 median train_loss: 0.0534732975065708, std train_loss 0.0\n",
      "Fold 3/4 median val_accuracy: 0.8999999761581421, std val_accuracy 0.0\n",
      "Fold 3/4 median train_accuracy: 0.95652174949646, train_accuracy 0.0\n",
      "\n",
      "Executing fold 4/4\n"
     ]
    },
    {
     "name": "stderr",
     "output_type": "stream",
     "text": [
      "100%|█████████████████████████████████████████████| 1/1 [00:00<00:00,  1.08it/s]\n"
     ]
    },
    {
     "name": "stdout",
     "output_type": "stream",
     "text": [
      "Fold 4/4 median val_loss: 0.0825014684139831, std val_loss 0.0\n",
      "Fold 4/4 median train_loss: 0.0413627140223979, std train_loss 0.0\n",
      "Fold 4/4 median val_accuracy: 0.8999999761581421, std val_accuracy 0.0\n",
      "Fold 4/4 median train_accuracy: 0.967391312122345, train_accuracy 0.0\n",
      "\n",
      "Mean val_loss: 0.0783183275683872, std val_loss: 0.018232822632214374\n",
      "Mean train_loss: 0.04819499701261515, std train_loss: 0.006719983905676994\n",
      "Mean val_accuracy: 0.9096774011850357, std val_accuracy: 0.035557099593026824\n",
      "Mean train_accuracy: 0.9096774011850357, std train_accuracy: 0.009158996962774895\n",
      "\n",
      "\n",
      "\n",
      "Testing configuration 13/18:\n",
      "{'batch_size': None, 'learning_rate': 0.3, 'max_epochs': 500, 'momentum': 0.7, 'initialization': {'type': 'default'}, 'early_stopping': {'monitor': 'val_loss', 'patience': 20, 'delta': 0.0}, 'task': 'classification', 'trials_train': 1, 'trials_test': 10, 'nesterov': False, 'learning_rate_decay': None, 'regularization': {'method': 'l1', 'value': 0.01}, 'activations_1': 'relu', 'units_1': 16}\n",
      "\n",
      "Executing fold 1/4\n"
     ]
    },
    {
     "name": "stderr",
     "output_type": "stream",
     "text": [
      "100%|█████████████████████████████████████████████| 1/1 [00:06<00:00,  6.43s/it]\n"
     ]
    },
    {
     "name": "stdout",
     "output_type": "stream",
     "text": [
      "Fold 1/4 median val_loss: 0.0929728819834167, std val_loss 0.0\n",
      "Fold 1/4 median train_loss: 0.0624369792640209, std train_loss 0.0\n",
      "Fold 1/4 median val_accuracy: 0.8709677457809448, std val_accuracy 0.0\n",
      "Fold 1/4 median train_accuracy: 0.9670329689979552, train_accuracy 0.0\n",
      "\n",
      "Executing fold 2/4\n"
     ]
    },
    {
     "name": "stderr",
     "output_type": "stream",
     "text": [
      "100%|█████████████████████████████████████████████| 1/1 [00:02<00:00,  2.24s/it]\n"
     ]
    },
    {
     "name": "stdout",
     "output_type": "stream",
     "text": [
      "Fold 2/4 median val_loss: 0.1304190757745774, std val_loss 0.0\n",
      "Fold 2/4 median train_loss: 0.0716307312250137, std train_loss 0.0\n",
      "Fold 2/4 median val_accuracy: 0.8387096524238586, std val_accuracy 0.0\n",
      "Fold 2/4 median train_accuracy: 0.9670329689979552, train_accuracy 0.0\n",
      "\n",
      "Executing fold 3/4\n"
     ]
    },
    {
     "name": "stderr",
     "output_type": "stream",
     "text": [
      "100%|█████████████████████████████████████████████| 1/1 [00:06<00:00,  6.85s/it]\n"
     ]
    },
    {
     "name": "stdout",
     "output_type": "stream",
     "text": [
      "Fold 3/4 median val_loss: 0.0449041679833987, std val_loss 0.0\n",
      "Fold 3/4 median train_loss: 0.0656000897288322, std train_loss 0.0\n",
      "Fold 3/4 median val_accuracy: 0.9666666388511658, std val_accuracy 0.0\n",
      "Fold 3/4 median train_accuracy: 0.989130437374115, train_accuracy 0.0\n",
      "\n",
      "Executing fold 4/4\n"
     ]
    },
    {
     "name": "stderr",
     "output_type": "stream",
     "text": [
      "100%|█████████████████████████████████████████████| 1/1 [00:02<00:00,  2.03s/it]\n"
     ]
    },
    {
     "name": "stdout",
     "output_type": "stream",
     "text": [
      "Fold 4/4 median val_loss: 0.0454145714630321, std val_loss 0.0\n",
      "Fold 4/4 median train_loss: 0.096366748213768, std train_loss 0.0\n",
      "Fold 4/4 median val_accuracy: 1.0, std val_accuracy 0.0\n",
      "Fold 4/4 median train_accuracy: 0.93478262424469, train_accuracy 0.0\n",
      "\n",
      "Mean val_loss: 0.07842767430110623, std val_loss: 0.03580628202050528\n",
      "Mean train_loss: 0.0740086371079087, std train_loss: 0.01332428706246642\n",
      "Mean val_accuracy: 0.9190860092639923, std val_accuracy: 0.06630745853268512\n",
      "Mean train_accuracy: 0.9190860092639923, std train_accuracy: 0.01938177378787635\n",
      "\n",
      "\n",
      "\n",
      "Testing configuration 14/18:\n",
      "{'batch_size': None, 'learning_rate': 0.3, 'max_epochs': 500, 'momentum': 0.7, 'initialization': {'type': 'default'}, 'early_stopping': {'monitor': 'val_loss', 'patience': 20, 'delta': 0.0}, 'task': 'classification', 'trials_train': 1, 'trials_test': 10, 'nesterov': False, 'learning_rate_decay': None, 'regularization': {'method': 'l1', 'value': 0.001}, 'activations_1': 'relu', 'units_1': 16}\n",
      "\n",
      "Executing fold 1/4\n"
     ]
    },
    {
     "name": "stderr",
     "output_type": "stream",
     "text": [
      "100%|█████████████████████████████████████████████| 1/1 [00:01<00:00,  1.77s/it]\n"
     ]
    },
    {
     "name": "stdout",
     "output_type": "stream",
     "text": [
      "Fold 1/4 median val_loss: 0.1249088147449941, std val_loss 0.0\n",
      "Fold 1/4 median train_loss: 0.037628199905157, std train_loss 0.0\n",
      "Fold 1/4 median val_accuracy: 0.8709677457809448, std val_accuracy 0.0\n",
      "Fold 1/4 median train_accuracy: 0.9560439586639404, train_accuracy 0.0\n",
      "\n",
      "Executing fold 2/4\n"
     ]
    },
    {
     "name": "stderr",
     "output_type": "stream",
     "text": [
      "100%|█████████████████████████████████████████████| 1/1 [00:02<00:00,  2.30s/it]\n"
     ]
    },
    {
     "name": "stdout",
     "output_type": "stream",
     "text": [
      "Fold 2/4 median val_loss: 0.0496257078699104, std val_loss 0.0\n",
      "Fold 2/4 median train_loss: 0.0557726956903934, std train_loss 0.0\n",
      "Fold 2/4 median val_accuracy: 0.9677419066429138, std val_accuracy 0.0\n",
      "Fold 2/4 median train_accuracy: 0.9560439586639404, train_accuracy 0.0\n",
      "\n",
      "Executing fold 3/4\n"
     ]
    },
    {
     "name": "stderr",
     "output_type": "stream",
     "text": [
      "100%|█████████████████████████████████████████████| 1/1 [00:01<00:00,  1.44s/it]\n"
     ]
    },
    {
     "name": "stdout",
     "output_type": "stream",
     "text": [
      "Fold 3/4 median val_loss: 0.1054648836051066, std val_loss 0.0\n",
      "Fold 3/4 median train_loss: 0.0427518114447593, std train_loss 0.0\n",
      "Fold 3/4 median val_accuracy: 0.8666666746139526, std val_accuracy 0.0\n",
      "Fold 3/4 median train_accuracy: 0.97826087474823, train_accuracy 0.0\n",
      "\n",
      "Executing fold 4/4\n"
     ]
    },
    {
     "name": "stderr",
     "output_type": "stream",
     "text": [
      "100%|█████████████████████████████████████████████| 1/1 [00:01<00:00,  1.38s/it]\n"
     ]
    },
    {
     "name": "stdout",
     "output_type": "stream",
     "text": [
      "Fold 4/4 median val_loss: 0.0630062990868087, std val_loss 0.0\n",
      "Fold 4/4 median train_loss: 0.057783368974924, std train_loss 0.0\n",
      "Fold 4/4 median val_accuracy: 0.9333333373069764, std val_accuracy 0.0\n",
      "Fold 4/4 median train_accuracy: 0.93478262424469, train_accuracy 0.0\n",
      "\n",
      "Mean val_loss: 0.08575142632670495, std val_loss: 0.030595464585403787\n",
      "Mean train_loss: 0.04848401900380842, std train_loss: 0.008519238955586343\n",
      "Mean val_accuracy: 0.9096774160861969, std val_accuracy: 0.04265984683970497\n",
      "Mean train_accuracy: 0.9096774160861969, std train_accuracy: 0.015373739114996754\n",
      "\n",
      "\n",
      "\n",
      "Testing configuration 15/18:\n",
      "{'batch_size': None, 'learning_rate': 0.3, 'max_epochs': 500, 'momentum': 0.8, 'initialization': {'type': 'default'}, 'early_stopping': {'monitor': 'val_loss', 'patience': 20, 'delta': 0.0}, 'task': 'classification', 'trials_train': 1, 'trials_test': 10, 'nesterov': False, 'learning_rate_decay': None, 'regularization': {'method': 'l1', 'value': 0.01}, 'activations_1': 'relu', 'units_1': 16}\n",
      "\n",
      "Executing fold 1/4\n"
     ]
    },
    {
     "name": "stderr",
     "output_type": "stream",
     "text": [
      "100%|█████████████████████████████████████████████| 1/1 [00:01<00:00,  1.87s/it]\n"
     ]
    },
    {
     "name": "stdout",
     "output_type": "stream",
     "text": [
      "Fold 1/4 median val_loss: 0.0340025396659774, std val_loss 0.0\n",
      "Fold 1/4 median train_loss: 0.0852357894182205, std train_loss 0.0\n",
      "Fold 1/4 median val_accuracy: 0.9677419066429138, std val_accuracy 0.0\n",
      "Fold 1/4 median train_accuracy: 0.9450549483299256, train_accuracy 0.0\n",
      "\n",
      "Executing fold 2/4\n"
     ]
    },
    {
     "name": "stderr",
     "output_type": "stream",
     "text": [
      "100%|█████████████████████████████████████████████| 1/1 [00:00<00:00,  1.07it/s]\n"
     ]
    },
    {
     "name": "stdout",
     "output_type": "stream",
     "text": [
      "Fold 2/4 median val_loss: 0.0669916642867487, std val_loss 0.0\n",
      "Fold 2/4 median train_loss: 0.0888257846236229, std train_loss 0.0\n",
      "Fold 2/4 median val_accuracy: 0.9677419066429138, std val_accuracy 0.0\n",
      "Fold 2/4 median train_accuracy: 0.9560439586639404, train_accuracy 0.0\n",
      "\n",
      "Executing fold 3/4\n"
     ]
    },
    {
     "name": "stderr",
     "output_type": "stream",
     "text": [
      "100%|█████████████████████████████████████████████| 1/1 [00:01<00:00,  1.32s/it]\n"
     ]
    },
    {
     "name": "stdout",
     "output_type": "stream",
     "text": [
      "Fold 3/4 median val_loss: 0.1125358421438577, std val_loss 0.0\n",
      "Fold 3/4 median train_loss: 0.0725304782390594, std train_loss 0.0\n",
      "Fold 3/4 median val_accuracy: 0.8666666746139526, std val_accuracy 0.0\n",
      "Fold 3/4 median train_accuracy: 0.95652174949646, train_accuracy 0.0\n",
      "\n",
      "Executing fold 4/4\n"
     ]
    },
    {
     "name": "stderr",
     "output_type": "stream",
     "text": [
      "100%|█████████████████████████████████████████████| 1/1 [00:01<00:00,  1.85s/it]\n"
     ]
    },
    {
     "name": "stdout",
     "output_type": "stream",
     "text": [
      "Fold 4/4 median val_loss: 0.0875844394409603, std val_loss 0.0\n",
      "Fold 4/4 median train_loss: 0.0783743858337402, std train_loss 0.0\n",
      "Fold 4/4 median val_accuracy: 0.8999999761581421, std val_accuracy 0.0\n",
      "Fold 4/4 median train_accuracy: 0.945652186870575, train_accuracy 0.0\n",
      "\n",
      "Mean val_loss: 0.07527862138438603, std val_loss: 0.028774651330313043\n",
      "Mean train_loss: 0.08124160952866075, std train_loss: 0.006276503105284681\n",
      "Mean val_accuracy: 0.9255376160144806, std val_accuracy: 0.043818840370652666\n",
      "Mean train_accuracy: 0.9255376160144806, std train_accuracy: 0.0054713296358804295\n",
      "\n",
      "\n",
      "\n",
      "Testing configuration 16/18:\n",
      "{'batch_size': None, 'learning_rate': 0.3, 'max_epochs': 500, 'momentum': 0.8, 'initialization': {'type': 'default'}, 'early_stopping': {'monitor': 'val_loss', 'patience': 20, 'delta': 0.0}, 'task': 'classification', 'trials_train': 1, 'trials_test': 10, 'nesterov': False, 'learning_rate_decay': None, 'regularization': {'method': 'l1', 'value': 0.001}, 'activations_1': 'relu', 'units_1': 16}\n",
      "\n",
      "Executing fold 1/4\n"
     ]
    },
    {
     "name": "stderr",
     "output_type": "stream",
     "text": [
      "100%|█████████████████████████████████████████████| 1/1 [00:01<00:00,  1.47s/it]\n"
     ]
    },
    {
     "name": "stdout",
     "output_type": "stream",
     "text": [
      "Fold 1/4 median val_loss: 0.0466029352220484, std val_loss 0.0\n",
      "Fold 1/4 median train_loss: 0.0548245422542095, std train_loss 0.0\n",
      "Fold 1/4 median val_accuracy: 0.9677419066429138, std val_accuracy 0.0\n",
      "Fold 1/4 median train_accuracy: 0.9340659379959106, train_accuracy 0.0\n",
      "\n",
      "Executing fold 2/4\n"
     ]
    },
    {
     "name": "stderr",
     "output_type": "stream",
     "text": [
      "100%|█████████████████████████████████████████████| 1/1 [00:00<00:00,  1.00it/s]\n"
     ]
    },
    {
     "name": "stdout",
     "output_type": "stream",
     "text": [
      "Fold 2/4 median val_loss: 0.122825123491687, std val_loss 0.0\n",
      "Fold 2/4 median train_loss: 0.0361670590937137, std train_loss 0.0\n",
      "Fold 2/4 median val_accuracy: 0.8387096524238586, std val_accuracy 0.0\n",
      "Fold 2/4 median train_accuracy: 0.9780219793319702, train_accuracy 0.0\n",
      "\n",
      "Executing fold 3/4\n"
     ]
    },
    {
     "name": "stderr",
     "output_type": "stream",
     "text": [
      "100%|█████████████████████████████████████████████| 1/1 [00:01<00:00,  1.16s/it]\n"
     ]
    },
    {
     "name": "stdout",
     "output_type": "stream",
     "text": [
      "Fold 3/4 median val_loss: 0.1013703670724004, std val_loss 0.0\n",
      "Fold 3/4 median train_loss: 0.0468064658343791, std train_loss 0.0\n",
      "Fold 3/4 median val_accuracy: 0.8999999761581421, std val_accuracy 0.0\n",
      "Fold 3/4 median train_accuracy: 0.95652174949646, train_accuracy 0.0\n",
      "\n",
      "Executing fold 4/4\n"
     ]
    },
    {
     "name": "stderr",
     "output_type": "stream",
     "text": [
      "100%|█████████████████████████████████████████████| 1/1 [00:01<00:00,  1.85s/it]\n"
     ]
    },
    {
     "name": "stdout",
     "output_type": "stream",
     "text": [
      "Fold 4/4 median val_loss: 0.0094912499239932, std val_loss 0.0\n",
      "Fold 4/4 median train_loss: 0.0566804260015487, std train_loss 0.0\n",
      "Fold 4/4 median val_accuracy: 1.0, std val_accuracy 0.0\n",
      "Fold 4/4 median train_accuracy: 0.93478262424469, train_accuracy 0.0\n",
      "\n",
      "Mean val_loss: 0.07007241892753224, std val_loss: 0.04467466871771178\n",
      "Mean train_loss: 0.048619623295962755, std train_loss: 0.008090603418911699\n",
      "Mean val_accuracy: 0.9266128838062286, std val_accuracy: 0.062274574032438655\n",
      "Mean train_accuracy: 0.9266128838062286, std train_accuracy: 0.01809938182183403\n",
      "\n",
      "\n",
      "\n",
      "Testing configuration 17/18:\n",
      "{'batch_size': None, 'learning_rate': 0.3, 'max_epochs': 500, 'momentum': 0.9, 'initialization': {'type': 'default'}, 'early_stopping': {'monitor': 'val_loss', 'patience': 20, 'delta': 0.0}, 'task': 'classification', 'trials_train': 1, 'trials_test': 10, 'nesterov': False, 'learning_rate_decay': None, 'regularization': {'method': 'l1', 'value': 0.01}, 'activations_1': 'relu', 'units_1': 16}\n",
      "\n",
      "Executing fold 1/4\n"
     ]
    },
    {
     "name": "stderr",
     "output_type": "stream",
     "text": [
      "100%|█████████████████████████████████████████████| 1/1 [00:00<00:00,  1.16it/s]\n"
     ]
    },
    {
     "name": "stdout",
     "output_type": "stream",
     "text": [
      "Fold 1/4 median val_loss: 0.1154501024608253, std val_loss 0.0\n",
      "Fold 1/4 median train_loss: 0.07463239133358, std train_loss 0.0\n",
      "Fold 1/4 median val_accuracy: 0.8709677457809448, std val_accuracy 0.0\n",
      "Fold 1/4 median train_accuracy: 0.9780219793319702, train_accuracy 0.0\n",
      "\n",
      "Executing fold 2/4\n"
     ]
    },
    {
     "name": "stderr",
     "output_type": "stream",
     "text": [
      "100%|█████████████████████████████████████████████| 1/1 [00:01<00:00,  1.31s/it]\n"
     ]
    },
    {
     "name": "stdout",
     "output_type": "stream",
     "text": [
      "Fold 2/4 median val_loss: 0.0505956545419808, std val_loss 0.0\n",
      "Fold 2/4 median train_loss: 0.0797937214374542, std train_loss 0.0\n",
      "Fold 2/4 median val_accuracy: 0.9354838728904724, std val_accuracy 0.0\n",
      "Fold 2/4 median train_accuracy: 0.9560439586639404, train_accuracy 0.0\n",
      "\n",
      "Executing fold 3/4\n"
     ]
    },
    {
     "name": "stderr",
     "output_type": "stream",
     "text": [
      "100%|█████████████████████████████████████████████| 1/1 [00:01<00:00,  1.22s/it]\n"
     ]
    },
    {
     "name": "stdout",
     "output_type": "stream",
     "text": [
      "Fold 3/4 median val_loss: 0.0779115555278891, std val_loss 0.0\n",
      "Fold 3/4 median train_loss: 0.0825666487216949, std train_loss 0.0\n",
      "Fold 3/4 median val_accuracy: 0.9333333373069764, std val_accuracy 0.0\n",
      "Fold 3/4 median train_accuracy: 0.945652186870575, train_accuracy 0.0\n",
      "\n",
      "Executing fold 4/4\n"
     ]
    },
    {
     "name": "stderr",
     "output_type": "stream",
     "text": [
      "100%|█████████████████████████████████████████████| 1/1 [00:00<00:00,  1.00it/s]\n"
     ]
    },
    {
     "name": "stdout",
     "output_type": "stream",
     "text": [
      "Fold 4/4 median val_loss: 0.0598018545609994, std val_loss 0.0\n",
      "Fold 4/4 median train_loss: 0.0895140096545219, std train_loss 0.0\n",
      "Fold 4/4 median val_accuracy: 0.8999999761581421, std val_accuracy 0.0\n",
      "Fold 4/4 median train_accuracy: 0.95652174949646, train_accuracy 0.0\n",
      "\n",
      "Mean val_loss: 0.07593979177292365, std val_loss: 0.02483802937229916\n",
      "Mean train_loss: 0.08162669278681274, std train_loss: 0.0053705986937545545\n",
      "Mean val_accuracy: 0.9099462330341339, std val_accuracy: 0.02653949034029806\n",
      "Mean train_accuracy: 0.9099462330341339, std train_accuracy: 0.01177778983994072\n",
      "\n",
      "\n",
      "\n",
      "Testing configuration 18/18:\n",
      "{'batch_size': None, 'learning_rate': 0.3, 'max_epochs': 500, 'momentum': 0.9, 'initialization': {'type': 'default'}, 'early_stopping': {'monitor': 'val_loss', 'patience': 20, 'delta': 0.0}, 'task': 'classification', 'trials_train': 1, 'trials_test': 10, 'nesterov': False, 'learning_rate_decay': None, 'regularization': {'method': 'l1', 'value': 0.001}, 'activations_1': 'relu', 'units_1': 16}\n",
      "\n",
      "Executing fold 1/4\n"
     ]
    },
    {
     "name": "stderr",
     "output_type": "stream",
     "text": [
      "100%|█████████████████████████████████████████████| 1/1 [00:00<00:00,  1.03it/s]\n"
     ]
    },
    {
     "name": "stdout",
     "output_type": "stream",
     "text": [
      "Fold 1/4 median val_loss: 0.061715383310849, std val_loss 0.0\n",
      "Fold 1/4 median train_loss: 0.0498484633862972, std train_loss 0.0\n",
      "Fold 1/4 median val_accuracy: 0.9354838728904724, std val_accuracy 0.0\n",
      "Fold 1/4 median train_accuracy: 0.9670329689979552, train_accuracy 0.0\n",
      "\n",
      "Executing fold 2/4\n"
     ]
    },
    {
     "name": "stderr",
     "output_type": "stream",
     "text": [
      "100%|█████████████████████████████████████████████| 1/1 [00:00<00:00,  1.12it/s]\n"
     ]
    },
    {
     "name": "stdout",
     "output_type": "stream",
     "text": [
      "Fold 2/4 median val_loss: 0.0604467292720392, std val_loss 0.0\n",
      "Fold 2/4 median train_loss: 0.0504115596413612, std train_loss 0.0\n",
      "Fold 2/4 median val_accuracy: 0.9032257795333862, std val_accuracy 0.0\n",
      "Fold 2/4 median train_accuracy: 0.9670329689979552, train_accuracy 0.0\n",
      "\n",
      "Executing fold 3/4\n"
     ]
    },
    {
     "name": "stderr",
     "output_type": "stream",
     "text": [
      "100%|█████████████████████████████████████████████| 1/1 [00:00<00:00,  1.32it/s]\n"
     ]
    },
    {
     "name": "stdout",
     "output_type": "stream",
     "text": [
      "Fold 3/4 median val_loss: 0.1608962444332818, std val_loss 0.0\n",
      "Fold 3/4 median train_loss: 0.0393838509917259, std train_loss 0.0\n",
      "Fold 3/4 median val_accuracy: 0.8333333134651184, std val_accuracy 0.0\n",
      "Fold 3/4 median train_accuracy: 0.967391312122345, train_accuracy 0.0\n",
      "\n",
      "Executing fold 4/4\n"
     ]
    },
    {
     "name": "stderr",
     "output_type": "stream",
     "text": [
      "100%|█████████████████████████████████████████████| 1/1 [00:01<00:00,  1.11s/it]\n"
     ]
    },
    {
     "name": "stdout",
     "output_type": "stream",
     "text": [
      "Fold 4/4 median val_loss: 0.0493588530552655, std val_loss 0.0\n",
      "Fold 4/4 median train_loss: 0.0562718175351619, std train_loss 0.0\n",
      "Fold 4/4 median val_accuracy: 0.9333333373069764, std val_accuracy 0.0\n",
      "Fold 4/4 median train_accuracy: 0.95652174949646, train_accuracy 0.0\n",
      "\n",
      "Mean val_loss: 0.08310430251785887, std val_loss: 0.045169660936957054\n",
      "Mean train_loss: 0.04897892288863655, std train_loss: 0.006084000858286676\n",
      "Mean val_accuracy: 0.9013440757989883, std val_accuracy: 0.04128511596039286\n",
      "Mean train_accuracy: 0.9013440757989883, std train_accuracy: 0.004605537984894241\n",
      "\n",
      "\n",
      "\n",
      "\n",
      "\n",
      "\n",
      "Best configuration (loss 0.06259855249469128):\n",
      "{'batch_size': None, 'learning_rate': 0.1, 'max_epochs': 500, 'momentum': 0.9, 'initialization': {'type': 'default'}, 'early_stopping': {'monitor': 'val_loss', 'patience': 20, 'delta': 0.0}, 'task': 'classification', 'trials_train': 1, 'trials_test': 10, 'nesterov': False, 'learning_rate_decay': None, 'regularization': {'method': 'l1', 'value': 0.01}, 'activations_1': 'relu', 'units_1': 16}\n"
     ]
    },
    {
     "name": "stderr",
     "output_type": "stream",
     "text": [
      " 10%|████▍                                       | 1/10 [00:09<01:24,  9.35s/it]"
     ]
    },
    {
     "name": "stdout",
     "output_type": "stream",
     "text": [
      "Trial 1/10 val_mse: 0.0119624677994012\n",
      "Trial 1/10 train_mse: 0.0654341056942939\n",
      "Trial 1/10 val_accuracy: 1.0\n",
      "Trial 1/10 train_accuracy: 0.9908257126808168\n"
     ]
    },
    {
     "name": "stderr",
     "output_type": "stream",
     "text": [
      "\r",
      " 20%|████████▊                                   | 2/10 [00:13<00:49,  6.25s/it]"
     ]
    },
    {
     "name": "stdout",
     "output_type": "stream",
     "text": [
      "Trial 2/10 val_mse: 0.0186068170566261\n",
      "Trial 2/10 train_mse: 0.0901326611638069\n",
      "Trial 2/10 val_accuracy: 1.0\n",
      "Trial 2/10 train_accuracy: 0.9357798099517822\n"
     ]
    },
    {
     "name": "stderr",
     "output_type": "stream",
     "text": [
      "\r",
      " 30%|█████████████▏                              | 3/10 [00:18<00:41,  5.87s/it]"
     ]
    },
    {
     "name": "stdout",
     "output_type": "stream",
     "text": [
      "Trial 3/10 val_mse: 0.0206335847321537\n",
      "Trial 3/10 train_mse: 0.0794829502701759\n",
      "Trial 3/10 val_accuracy: 1.0\n",
      "Trial 3/10 train_accuracy: 0.9541284441947936\n"
     ]
    },
    {
     "name": "stderr",
     "output_type": "stream",
     "text": [
      "\r",
      " 40%|█████████████████▌                          | 4/10 [00:21<00:28,  4.78s/it]"
     ]
    },
    {
     "name": "stdout",
     "output_type": "stream",
     "text": [
      "Trial 4/10 val_mse: 0.0217782227693561\n",
      "Trial 4/10 train_mse: 0.0958342850208282\n",
      "Trial 4/10 val_accuracy: 1.0\n",
      "Trial 4/10 train_accuracy: 0.9357798099517822\n"
     ]
    },
    {
     "name": "stderr",
     "output_type": "stream",
     "text": [
      "\r",
      " 50%|██████████████████████                      | 5/10 [00:32<00:34,  6.90s/it]"
     ]
    },
    {
     "name": "stdout",
     "output_type": "stream",
     "text": [
      "Trial 5/10 val_mse: 0.0085406725586519\n",
      "Trial 5/10 train_mse: 0.0671792775392532\n",
      "Trial 5/10 val_accuracy: 1.0\n",
      "Trial 5/10 train_accuracy: 0.9724770784378052\n"
     ]
    },
    {
     "name": "stderr",
     "output_type": "stream",
     "text": [
      "\r",
      " 60%|██████████████████████████▍                 | 6/10 [00:41<00:30,  7.59s/it]"
     ]
    },
    {
     "name": "stdout",
     "output_type": "stream",
     "text": [
      "Trial 6/10 val_mse: 0.0091695848850298\n",
      "Trial 6/10 train_mse: 0.0684894919395446\n",
      "Trial 6/10 val_accuracy: 1.0\n",
      "Trial 6/10 train_accuracy: 0.963302731513977\n"
     ]
    },
    {
     "name": "stderr",
     "output_type": "stream",
     "text": [
      "\r",
      " 70%|██████████████████████████████▊             | 7/10 [00:43<00:17,  5.85s/it]"
     ]
    },
    {
     "name": "stdout",
     "output_type": "stream",
     "text": [
      "Trial 7/10 val_mse: 0.0234316795301674\n",
      "Trial 7/10 train_mse: 0.0894179791212081\n",
      "Trial 7/10 val_accuracy: 1.0\n",
      "Trial 7/10 train_accuracy: 0.9357798099517822\n"
     ]
    },
    {
     "name": "stderr",
     "output_type": "stream",
     "text": [
      "\r",
      " 80%|███████████████████████████████████▏        | 8/10 [00:50<00:11,  5.97s/it]"
     ]
    },
    {
     "name": "stdout",
     "output_type": "stream",
     "text": [
      "Trial 8/10 val_mse: 0.0155217417047531\n",
      "Trial 8/10 train_mse: 0.0818786472082138\n",
      "Trial 8/10 val_accuracy: 1.0\n",
      "Trial 8/10 train_accuracy: 0.9449541568756104\n"
     ]
    },
    {
     "name": "stderr",
     "output_type": "stream",
     "text": [
      "\r",
      " 90%|███████████████████████████████████████▌    | 9/10 [00:52<00:04,  4.80s/it]"
     ]
    },
    {
     "name": "stdout",
     "output_type": "stream",
     "text": [
      "Trial 9/10 val_mse: 0.0241471567987853\n",
      "Trial 9/10 train_mse: 0.0934879705309867\n",
      "Trial 9/10 val_accuracy: 1.0\n",
      "Trial 9/10 train_accuracy: 0.9357798099517822\n"
     ]
    },
    {
     "name": "stderr",
     "output_type": "stream",
     "text": [
      "100%|███████████████████████████████████████████| 10/10 [00:55<00:00,  5.53s/it]"
     ]
    },
    {
     "name": "stdout",
     "output_type": "stream",
     "text": [
      "Trial 10/10 val_mse: 0.0197491663165775\n",
      "Trial 10/10 train_mse: 0.0889637917280197\n",
      "Trial 10/10 val_accuracy: 1.0\n",
      "Trial 10/10 train_accuracy: 0.9357798099517822\n",
      "\n",
      "Median val_mse: 0.0197491663165775, std val_mse: 0.005457161756146269\n",
      "Median train_mse: 0.0889637917280197, std train_mse: 0.01084425925819911\n",
      "Median val_accuracy: 1.0, std val_accuracy: 0.0\n",
      "Median train_accuracy: 0.9357798099517822, std train_accuracy: 0.018440146230533184\n",
      "\n",
      "Median model train_loss: 0.0889637917280197\n",
      "Median model val_loss: 0.0197491663165775\n",
      "Median model test_loss: 0.042919405771747\n",
      "\n",
      "Median model train_accuracy: 0.9357798099517822\n",
      "Median model val_accuracy: 1.0\n",
      "Median model test_accuracy: 0.9675925970077516\n"
     ]
    },
    {
     "name": "stderr",
     "output_type": "stream",
     "text": [
      "\n"
     ]
    },
    {
     "data": {
      "image/png": "[encoded data removed]",
      "text/plain": [
       "<Figure size 640x480 with 1 Axes>"
      ]
     },
     "metadata": {},
     "output_type": "display_data"
    },
    {
     "data": {
      "image/png": "[encoded data removed]",
      "text/plain": [
       "<Figure size 640x480 with 1 Axes>"
      ]
     },
     "metadata": {},
     "output_type": "display_data"
    },
    {
     "data": {
      "image/png": "[encoded data removed]",
      "text/plain": [
       "<Figure size 640x480 with 1 Axes>"
      ]
     },
     "metadata": {},
     "output_type": "display_data"
    },
    {
     "data": {
      "image/png": "[encoded data removed]",
      "text/plain": [
       "<Figure size 640x480 with 1 Axes>"
      ]
     },
     "metadata": {},
     "output_type": "display_data"
    }
   ],
   "source": [
    "model = grid_search(params, x_train, y_train, x_test, y_test, k_fold_val)\n",
    "# test_model(model, x_test, y_test)"
   ]
  },
  {
   "cell_type": "code",
   "execution_count": null,
   "id": "b3cdfdba",
   "metadata": {},
   "outputs": [],
   "source": []
  }
 ],
 "metadata": {
  "kernelspec": {
   "display_name": "mlvenv",
   "language": "python",
   "name": "mlvenv"
  },
  "language_info": {
   "codemirror_mode": {
    "name": "ipython",
    "version": 3
   },
   "file_extension": ".py",
   "mimetype": "text/x-python",
   "name": "python",
   "nbconvert_exporter": "python",
   "pygments_lexer": "ipython3",
   "version": "3.10.6"
  }
 },
 "nbformat": 4,
 "nbformat_minor": 5
}
