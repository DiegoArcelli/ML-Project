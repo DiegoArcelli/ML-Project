{
 "cells": [
  {
   "cell_type": "code",
   "execution_count": 11,
   "id": "d37f696d",
   "metadata": {},
   "outputs": [],
   "source": [
    "import warnings\n",
    "warnings.filterwarnings('ignore')\n",
    "from tqdm import tqdm\n",
    "import pandas as pd\n",
    "import numpy as np\n",
    "from sklearn.model_selection import KFold\n",
    "import itertools\n",
    "from sklearn.model_selection import train_test_split\n",
    "import matplotlib.pyplot as plt\n",
    "from sklearn.model_selection import KFold, StratifiedKFold\n",
    "from sklearn.preprocessing import OneHotEncoder\n",
    "from sklearn.preprocessing import StandardScaler, MinMaxScaler\n",
    "from math import ceil\n",
    "import matplotlib.pyplot as plt\n",
    "from sklearn.preprocessing import StandardScaler\n",
    "from sklearn.model_selection import train_test_split\n",
    "from sklearn.preprocessing import MinMaxScaler\n",
    "from pytorch_lightning.callbacks import ModelSummary\n",
    "from sklearn.preprocessing import OneHotEncoder\n",
    "from sklearn.preprocessing import StandardScaler\n",
    "from pytorch_lightning.loggers import CSVLogger\n",
    "import pandas as pd\n",
    "import datetime\n",
    "import torch\n",
    "import torch.nn as nn\n",
    "from torchmetrics import Metric\n",
    "import torch.utils.data as data\n",
    "from torch.utils.data import Dataset, DataLoader \n",
    "import pytorch_lightning as pl\n",
    "from datetime import datetime\n",
    "from pytorch_lightning.callbacks.early_stopping import EarlyStopping\n",
    "from torchmetrics import Accuracy\n",
    "import logging\n",
    "import os\n",
    "logging.getLogger(\"lightning\").addHandler(logging.NullHandler())\n",
    "logging.getLogger(\"lightning\").propagate = False\n",
    "logging.getLogger(\"pytorch_lightning\").setLevel(logging.WARNING)\n",
    "import random\n",
    "\n",
    "\n",
    "seed = 42"
   ]
  },
  {
   "cell_type": "code",
   "execution_count": 12,
   "id": "6d8327a6",
   "metadata": {},
   "outputs": [],
   "source": [
    "def plot_curves(curve_1, label_1, curve_2=None, label_2=None):\n",
    "    if curve_1 is not None: \n",
    "        plt.plot(curve_1, label = label_1, color=\"black\")\n",
    "    if curve_2 is not None: \n",
    "        plt.plot(curve_2, label = label_2, linestyle='dashed', color=\"grey\")   \n",
    "    plt.legend()\n",
    "    plt.show()\n",
    "    \n",
    "def set_random_seeds():\n",
    "    np.random.seed(seed)\n",
    "    random.seed(seed)\n",
    "    torch.manual_seed(0)"
   ]
  },
  {
   "cell_type": "code",
   "execution_count": 13,
   "id": "d60634f7",
   "metadata": {},
   "outputs": [],
   "source": [
    "x_scaler = None\n",
    "y_scaler = None\n",
    "\n",
    "def load_monks(path, encode):\n",
    "    \n",
    "    train = pd.read_csv(f\"{path}.train\", header=None, sep=\" \")\n",
    "    test = pd.read_csv(f\"{path}.test\", header=None, sep=\" \")\n",
    "    \n",
    "    train.drop(0, axis=1, inplace=True)\n",
    "    test.drop(0, axis=1, inplace=True)\n",
    "    train.drop(8, axis=1, inplace=True)\n",
    "    test.drop(8, axis=1, inplace=True)\n",
    "    \n",
    "    y_train = train.iloc[:, 0].to_numpy().astype(np.float64)\n",
    "    x_train = train.iloc[:, 1:].to_numpy().astype(np.float64)\n",
    "    y_test = test.iloc[:, 0].to_numpy().astype(np.float64)\n",
    "    x_test = test.iloc[:, 1:].to_numpy().astype(np.float64)\n",
    "    \n",
    "        \n",
    "    if encode:\n",
    "        \n",
    "        encoder = OneHotEncoder()\n",
    "        \n",
    "        encoder.fit(x_train)\n",
    "        x_train = encoder.transform(x_train).toarray()\n",
    "        x_test = encoder.transform(x_test).toarray()\n",
    "        \n",
    "        \n",
    "    \n",
    "    print(f\"Loaded {path} dataset\")\n",
    "    \n",
    "    return x_train, y_train, x_test, y_test\n",
    "    \n",
    "\n",
    "def load_cup(scale):\n",
    "    \n",
    "    global x_scaler\n",
    "    global y_scaler\n",
    "    \n",
    "    #x_scaler = StandardScaler()\n",
    "    #y_scaler = StandardScaler()\n",
    "    # scaler = MinMaxScaler()\n",
    "    x_scaler = MinMaxScaler()\n",
    "    y_scaler = MinMaxScaler()\n",
    "    \n",
    "    \n",
    "    train = pd.read_csv(\"../data/ML-CUP22-INTERNAL-TR.csv\", header=None, sep=\",\")\n",
    "    test = pd.read_csv(\"../data/ML-CUP22-INTERNAL-TS.csv\", header=None, sep=\",\")\n",
    "    train.drop(0, axis=1, inplace=True)\n",
    "    test.drop(0, axis=1, inplace=True)\n",
    "\n",
    "    x_train = train.iloc[:, :9].to_numpy().astype(np.float64)\n",
    "    y_train = train.iloc[:, 9:].to_numpy().astype(np.float64)\n",
    "\n",
    "    x_test = test.iloc[:, :9].to_numpy().astype(np.float64)\n",
    "    y_test = test.iloc[:, 9:].to_numpy().astype(np.float64) \n",
    "    # x_test_blind = test.to_numpy().astype(np.float64)\n",
    "    \n",
    "    # x_train, x_test, y_train, y_test = train_test_split(x_train, y_train, test_size=0.1, shuffle=True, random_state=7)\n",
    "    \n",
    "    if scale:\n",
    "        x_scaler.fit(x_train)\n",
    "        x_train = x_scaler.transform(x_train)\n",
    "        x_test = x_scaler.transform(x_test)\n",
    "        \n",
    "        y_scaler.fit(y_train)\n",
    "        y_train = y_scaler.transform(y_train)\n",
    "        y_test = y_scaler.transform(y_test)\n",
    "        \n",
    "        \n",
    "    return x_train, y_train, x_test, y_test #, x_test_blind\n",
    "    \n",
    "    \n",
    "    \n",
    "def load_dataset(dataset, encode=True):\n",
    "    assert dataset in [\"monks1\", \"monks2\", \"monks3\", \"cup\"]\n",
    "    \n",
    "    if dataset == \"monks1\":\n",
    "        return load_monks(\"./../data/monks-1\", encode)\n",
    "    elif dataset == \"monks2\":\n",
    "        return load_monks(\"./../data/monks-2\", encode)\n",
    "    elif dataset == \"monks3\":\n",
    "        return load_monks(\"./../data/monks-3\", encode)\n",
    "    else:\n",
    "        return load_cup(encode)"
   ]
  },
  {
   "cell_type": "code",
   "execution_count": 74,
   "id": "ad558fec",
   "metadata": {},
   "outputs": [],
   "source": [
    "class History:\n",
    "    def __init__(self):\n",
    "        self.history = {}\n",
    "\n",
    "\n",
    "class LinearLearningRateScheduler(torch.optim.lr_scheduler._LRScheduler):\n",
    "    def __init__(self, optimizer, lr_init, lr_final, epochs, last_epoch=-1):\n",
    "        self.lr_init = lr_init\n",
    "        self.lr_final = lr_final\n",
    "        self.epochs = epochs\n",
    "        super().__init__(optimizer, last_epoch=last_epoch)\n",
    "    \n",
    "    def step(self):\n",
    "        self.last_epoch += 1\n",
    "        epoch = self.last_epoch\n",
    "        if epoch < self.epochs:\n",
    "            alpha = epoch / self.epochs\n",
    "            lr = self.lr_init * (1 - alpha) + alpha*self.lr_final\n",
    "        else:\n",
    "            lr = self.lr_final\n",
    "        for param_group in self.optimizer.param_groups:\n",
    "            param_group['lr'] = lr\n",
    "            \n",
    "    \n",
    "\n",
    "def get_activation_function(name):\n",
    "    if name == \"relu\":\n",
    "        return nn.ReLU()\n",
    "    elif name == \"tanh\":\n",
    "        return nn.Tanh()\n",
    "    elif name == \"sigmoid\":\n",
    "        return nn.Sigmoid()\n",
    "    elif name == \"linear\":\n",
    "        return None\n",
    "\n",
    "def mee(y_true, y_pred):\n",
    "    return (y_true - y_pred).square().sum(axis=1).sqrt().mean()\n",
    "\n",
    "def mse(y_true, y_pred):\n",
    "    return (y_true - y_pred).square().sum(axis=1).mean()\n",
    "\n",
    "\n",
    "class TestCallback(pl.Callback):\n",
    "    \n",
    "    def __init__(self, x_test, y_test, task):\n",
    "        self.x_test = x_test\n",
    "        self.y_test = y_test\n",
    "        self.task = task\n",
    "    \n",
    "    def on_train_epoch_end(self, trainer, model):\n",
    "        \n",
    "        y_pred = model(torch.from_numpy(self.x_test).to(torch.float32))\n",
    "        y_test = torch.from_numpy(self.y_test)\n",
    "        \n",
    "        if self.task == \"classification\":\n",
    "            loss = model.compute_loss(y_pred, y_test)\n",
    "            acc = model.compute_metric(y_pred, y_test)\n",
    "            model.log_dict({'test_loss': loss, 'test_accuracy': acc}, prog_bar=True, logger=True)\n",
    "        elif self.task == \"regression\":\n",
    "            loss = model.compute_loss(y_pred, y_test)\n",
    "            test_mee = model.compute_metric(y_pred, y_test)\n",
    "            model.log_dict({'test_loss': loss, 'test_mee': test_mee}, prog_bar=True, logger=True)\n",
    "        \n",
    "        \n",
    "    \n",
    "    \n",
    "class MEE(Metric):\n",
    "    \n",
    "    def __init__(self):\n",
    "        super().__init__()\n",
    "        self.add_state(\"result\", default=torch.tensor(0.0))\n",
    "        \n",
    "    def update(self, y_pred, y_true):\n",
    "        self.result += mee(y_true, y_pred)\n",
    "\n",
    "    def compute(self):\n",
    "        return self.result\n",
    "    \n",
    "\n",
    "class MultiLayerPerceptron(pl.LightningModule):\n",
    "    def __init__(self, input_dim, output_dim, config):\n",
    "        super(MultiLayerPerceptron, self).__init__()\n",
    "        \n",
    "        task = config[\"task\"]\n",
    "        self.lr = config[\"learning_rate\"]\n",
    "        self.momentum = config[\"momentum\"]\n",
    "        self.nesterov = config[\"nesterov\"]\n",
    "        init = config[\"initialization\"]\n",
    "        reg_method = config[\"regularization\"][\"method\"]\n",
    "        self.reg_method = reg_method\n",
    "        self.lr_decay = config[\"learning_rate_decay\"]        \n",
    "        \n",
    "        \n",
    "        if reg_method != None:\n",
    "            value = config[\"regularization\"][\"value\"]\n",
    "            self.reg_value = value\n",
    "        \n",
    "        self.task = task\n",
    "        self.model = nn.Sequential()\n",
    "                \n",
    "        units = config[\"units_1\"]\n",
    "        activation = get_activation_function(config[\"activations_1\"])\n",
    "        \n",
    "        self.model.add_module(\"linear_input\", nn.Linear(input_dim, units))\n",
    "        self.model.add_module(\"activations_1\", activation)\n",
    "        \n",
    "        n_layers = 0\n",
    "        for key in config.keys():\n",
    "            if key.startswith(\"units_\"):\n",
    "                n_layers += 1\n",
    "                \n",
    "        for n_layer in range(2, n_layers+1):\n",
    "            out_units = config[f\"units_{n_layer}\"]\n",
    "            self.model.add_module(f\"linear_{n_layer}\", nn.Linear(units, out_units))\n",
    "            activation = get_activation_function(config[f\"activations_{n_layer}\"])\n",
    "            if activation != None:\n",
    "                print(activation)\n",
    "                self.model.add_module(f\"activations_{n_layer}\", activation)\n",
    "            units = out_units\n",
    "        \n",
    "        if task == \"classification\":\n",
    "            self.model.add_module(\"layer_output\", nn.Linear(units, output_dim))\n",
    "            self.model.add_module(\"activations_output\", nn.Sigmoid())\n",
    "            self.metric = Accuracy()\n",
    "            self.metric_name = \"accuracy\"\n",
    "        \n",
    "        if task == \"regression\":\n",
    "            self.model.add_module(\"layer_output\", nn.Linear(units, output_dim))\n",
    "            self.metric = MEE()\n",
    "            self.metric_name = \"mee\"\n",
    "            \n",
    "            \n",
    "        self.loss = nn.MSELoss()\n",
    "        self.dicts = []\n",
    "                    \n",
    "        if init[\"type\"] == \"uniform\":\n",
    "            self.min = init[\"min\"]\n",
    "            self.max = init[\"max\"]\n",
    "            for name, param in self.model.named_parameters():\n",
    "                if 'weight' in name:\n",
    "                    nn.init.uniform_(param, self.min, self.max)\n",
    "                if 'bias' in name:\n",
    "                    nn.init.uniform_(param, self.min, self.max)\n",
    "\n",
    "            \n",
    "        elif init[\"type\"] == \"normal\":\n",
    "            self.mean = init[\"mean\"]\n",
    "            self.std = init[\"std\"]\n",
    "            for name, param in self.model.named_parameters():\n",
    "                if 'weight' in name:\n",
    "                    nn.init.normal_(param, self.mean, self.std)\n",
    "                if 'bias' in name:\n",
    "                    nn.init.normal_(param, self.mean, self.std)\n",
    "            \n",
    "            \n",
    "\n",
    "    def init_weights_uniform(self, m):\n",
    "        if isinstance(m, nn.Linear):\n",
    "            torch.nn.init.uniform_(m.weight, self.min, self.max)\n",
    "            torch.nn.init.uniform_(m.bias, self.min, self.max)\n",
    "            # m.bias.data.fill_(0.01)\n",
    "        \n",
    "            \n",
    "\n",
    "    def init_weights_normal(self, m):\n",
    "        if isinstance(m, nn.Linear):\n",
    "            torch.nn.init.normal_(m.weight, self.mean, self.std)\n",
    "            torch.nn.init.normal_(m.bias, self.mean, self.std)\n",
    "            # m.bias.data.fill_(0.01)\n",
    "            \n",
    "            \n",
    "    def compute_metric(self, y_pred, y_true):\n",
    "        if self.task == \"classification\":\n",
    "            y_pred = y_pred.reshape(y_true.shape)  \n",
    "            return self.metric(y_pred, y_true.to(torch.int32))\n",
    "        elif self.task == \"regression\":\n",
    "            y_true = y_true.to(torch.float32)\n",
    "            return self.metric(y_pred, y_true)\n",
    "\n",
    "\n",
    "    def compute_loss(self, y_pred, y_true):\n",
    "        if self.task == \"classification\":\n",
    "            y_pred = y_pred.reshape(y_true.shape)  \n",
    "            return self.loss(y_pred, y_true)\n",
    "        elif self.task == \"regression\":\n",
    "            y_true = y_true.to(torch.float32)\n",
    "            return self.loss(y_pred, y_true)\n",
    "        \n",
    "        \n",
    "    def get_regularization_term(self):\n",
    "        \n",
    "        if self.reg_method != None:\n",
    "            \n",
    "            value = self.reg_value\n",
    "            p = 1 if self.reg_method == \"l1\" else 2\n",
    "            reg = 0\n",
    "            \n",
    "            for param in self.model.parameters():\n",
    "                reg += torch.linalg.norm(param, p)\n",
    "                \n",
    "            reg *= value\n",
    "            \n",
    "            return reg\n",
    "        \n",
    "        return 0\n",
    "            \n",
    "        \n",
    "        \n",
    "    def forward(self, x):\n",
    "        return self.model(x)\n",
    "\n",
    "    \n",
    "    def configure_optimizers(self):\n",
    "        optimizer = torch.optim.SGD(self.parameters(), lr=self.lr, momentum=self.momentum, nesterov=self.nesterov)\n",
    "        if self.lr_decay != None:\n",
    "            decay_epochs = self.lr_decay[\"epochs\"]\n",
    "            lr_final = self.lr_decay[\"lr_final\"]\n",
    "            lr_init = self.lr\n",
    "            scheduler = LinearLearningRateScheduler(optimizer, lr_init, lr_final, decay_epochs)\n",
    "            return [optimizer], [scheduler]\n",
    "            \n",
    "        return optimizer\n",
    "    \n",
    "    \n",
    "    \n",
    "\n",
    "    def training_step(self, train_batch, batch_idx):\n",
    "        X, y = train_batch \n",
    "        y_copy = y # Integer y for the accuracy\n",
    "        X = X.type(torch.float32)\n",
    "        y = y.type(torch.float32)  \n",
    "        # forward pass\n",
    "        y_pred = self.forward(X)\n",
    "        # accuracy\n",
    "        acc = self.compute_metric(y_pred, y_copy)\n",
    "        # compute loss\n",
    "        reg = self.get_regularization_term()\n",
    "        loss = self.compute_loss(y_pred, y) + reg\n",
    "        self.log_dict({'loss': loss, f'{self.metric_name}': acc}, on_step=False, on_epoch=True, prog_bar=True, logger=True)\n",
    "        return loss\n",
    "    \n",
    "    \n",
    "    \n",
    "    def validation_step(self, validation_batch, batch_idx):\n",
    "        X, y = validation_batch\n",
    "        X = X.type(torch.float32)\n",
    "        # forward pass\n",
    "        y_pred = self.forward(X)\n",
    "        # compute metrics \n",
    "        acc = self.compute_metric(y_pred, y)\n",
    "        # compute loss\n",
    "        loss = self.compute_loss(y_pred, y)\n",
    "        self.log_dict({'val_loss': loss, f'val_{self.metric_name}': acc}, prog_bar=True, logger=True)\n",
    "        return loss\n",
    "    \n",
    "    \n",
    "    \n",
    "    \n",
    "    def test_step(self, test_batch, batch_idx):\n",
    "        X, y = test_batch\n",
    "        X = X.type(torch.float32)\n",
    "        # forward pass\n",
    "        y_pred = self.forward(X)\n",
    "        # compute metrics \n",
    "        acc = self.compute_metric(y_pred, y)\n",
    "        # compute loss\n",
    "        loss = self.compute_loss(y_pred, y)\n",
    "        self.log_dict({'test_loss': loss, f'test_{self.metric_name}': acc}, on_epoch=True,on_step=False, prog_bar=True, logger=True)\n",
    "        return loss\n",
    "\n",
    "    \n",
    "class CustomDataset(Dataset):\n",
    "    def __init__(self, X, y):\n",
    "        self.X = X\n",
    "        self.y = y\n",
    "    \n",
    "    def __len__(self):\n",
    "        return len(self.X)\n",
    "    \n",
    "    def __getitem__(self, idx):\n",
    "        return self.X[idx], self.y[idx]"
   ]
  },
  {
   "cell_type": "code",
   "execution_count": 100,
   "id": "68a4b4e1",
   "metadata": {},
   "outputs": [],
   "source": [
    "def median_index(array):\n",
    "    n = len(array)\n",
    "    med_idx = np.argsort(array)[ceil((n-1)/2)]\n",
    "    # med_val = array[med_idx]\n",
    "    return med_idx #, med_val\n",
    "\n",
    "\n",
    "def merge_dicts(dicts):\n",
    "    merged = {}\n",
    "    for d in dicts:\n",
    "        merged = {**merged, **d}\n",
    "    return merged\n",
    "\n",
    "def get_attributes_num(dataset):\n",
    "    return 1 if len(dataset.shape) == 1 else dataset.shape[1]\n",
    "\n",
    "\n",
    "def get_params_configurations(params):\n",
    "    \n",
    "    keys = list(params.keys())\n",
    "    keys.remove(\"layers\")\n",
    "    keys.remove(\"task\")\n",
    "    keys.remove(\"initialization\")\n",
    "    keys.remove(\"early_stopping\")\n",
    "    keys.remove(\"regularization\")\n",
    "    keys.remove(\"nesterov\")\n",
    "    keys.remove(\"trials_train\")\n",
    "    keys.remove(\"trials_test\")\n",
    "    keys.remove(\"learning_rate_decay\")\n",
    "    sorted_keys = sorted(keys)\n",
    "    arguments = []\n",
    "    for key in sorted_keys:\n",
    "        arguments.append(params[key])\n",
    "    \n",
    "    arguments = tuple(arguments)\n",
    "    all_params = list(itertools.product(*arguments))\n",
    "        \n",
    "    configurations = []\n",
    "    \n",
    "    for conf in all_params:\n",
    "        \n",
    "        dict_conf = {}\n",
    "        \n",
    "        for i in range(len(sorted_keys)):\n",
    "            dict_conf[sorted_keys[i]] = conf[i]\n",
    "        dict_conf[\"initialization\"] = params[\"initialization\"]\n",
    "        dict_conf[\"early_stopping\"] = params[\"early_stopping\"]\n",
    "        dict_conf[\"task\"] = params[\"task\"]\n",
    "        dict_conf[\"trials_train\"] = params[\"trials_train\"]\n",
    "        dict_conf[\"trials_test\"] = params[\"trials_test\"]\n",
    "        dict_conf[\"nesterov\"] = params[\"nesterov\"]\n",
    "        dict_conf[\"learning_rate_decay\"] = params[\"learning_rate_decay\"]\n",
    "        \n",
    "        # add regularization parameters\n",
    "        for reg in params[\"regularization\"]:\n",
    "            method = reg[\"type\"]\n",
    "            \n",
    "            if method == None:\n",
    "                reg_dict_conf = dict_conf.copy()\n",
    "                reg_dict_conf[\"regularization\"] = {\n",
    "                    \"method\": None\n",
    "                }\n",
    "                configurations.append(reg_dict_conf)\n",
    "                continue\n",
    "            \n",
    "            for val in reg[\"value\"]:\n",
    "                reg_dict_conf = dict_conf.copy()\n",
    "                reg_dict_conf[\"regularization\"] = {\n",
    "                    \"method\": method,\n",
    "                    \"value\": val\n",
    "                }\n",
    "        \n",
    "                configurations.append(reg_dict_conf)\n",
    "            \n",
    "        \n",
    "    return configurations\n",
    "\n",
    "\n",
    "def get_callbacks(config):\n",
    "    early_stopping = config[\"early_stopping\"]\n",
    "    callbacks = []\n",
    "    \n",
    "    if early_stopping != None:        \n",
    "        early_stop = EarlyStopping(\n",
    "            monitor=early_stopping[\"monitor\"],\n",
    "            min_delta=early_stopping[\"delta\"],\n",
    "            patience=early_stopping[\"patience\"], \n",
    "            verbose=False,\n",
    "            mode=\"min\"\n",
    "        )\n",
    "        \n",
    "        callbacks.append(early_stop)\n",
    "        \n",
    "    return callbacks if callbacks != [] else None\n",
    "        \n",
    "\n",
    "\n",
    "def get_layers_configurations(params, configurations):\n",
    "    layers = params[\"layers\"]\n",
    "    layers_params_confs = []\n",
    "    \n",
    "    for n_layer in range(len(layers)):\n",
    "        layers_params_confs.append([]) \n",
    "    \n",
    "    for i in range(len(layers)):\n",
    "        layer = layers[i]\n",
    "        activations = layer[\"activations\"]\n",
    "        units = layer[\"units\"]\n",
    "        layer_confs = list(itertools.product(activations, units))\n",
    "        for conf in layer_confs:\n",
    "            conf_dict = {\n",
    "                f\"activations_{i+1}\": conf[0],\n",
    "                f\"units_{i+1}\": conf[1]\n",
    "            }\n",
    "            layers_params_confs[i].append(conf_dict)\n",
    "        \n",
    "    layers_confs = []\n",
    "    for i in range(len(layers_params_confs)):\n",
    "        confs = layers_params_confs[:i+1]\n",
    "        confs = tuple(confs)\n",
    "        confs = list(itertools.product(*confs))\n",
    "        for conf in confs:\n",
    "            layers_confs.append(merge_dicts(conf))\n",
    "                \n",
    "    return layers_confs\n",
    "\n",
    "\n",
    "\n",
    "def get_configurations(params):\n",
    "    \n",
    "    configurations = get_params_configurations(params)\n",
    "    layers_confs = get_layers_configurations(params, configurations)\n",
    "    configurations = list(itertools.product(configurations, layers_confs))\n",
    "    configurations_merged = []\n",
    "    \n",
    "    for conf in configurations:\n",
    "        configurations_merged.append(merge_dicts(conf))\n",
    "        \n",
    "    \n",
    "    return configurations_merged\n",
    "\n",
    "\n",
    "def get_model(config, input_size, output_size):\n",
    "    model = MultiLayerPerceptron(input_size, output_size, config)\n",
    "    return model\n",
    "    \n",
    "    \n",
    "    \n",
    "def fit(model, x_train, y_train, x_val, y_val, max_epochs, batch_size, metric, config, x_test=None, y_test=None):  \n",
    "    \n",
    "    if batch_size is None:\n",
    "        batch_size_train = x_train.shape[0]\n",
    "        batch_size_val = x_val.shape[0]\n",
    "    else:\n",
    "        batch_size_train = batch_size\n",
    "        batch_size_val = batch_size\n",
    "        \n",
    "    \n",
    "    \n",
    "    train_loader = DataLoader(dataset = CustomDataset(x_train, y_train), batch_size=batch_size_train)\n",
    "    validation_loader = DataLoader(dataset = CustomDataset(x_val, y_val), batch_size=batch_size_val)\n",
    "    \n",
    "    callbacks = get_callbacks(config)\n",
    "\n",
    "    if x_test is not None:\n",
    "        callbacks.append(TestCallback(x_test, y_test, config[\"task\"]))\n",
    "        \n",
    "    trainer = pl.Trainer(accelerator='cpu', devices=1, max_epochs=max_epochs,\n",
    "                         log_every_n_steps=1, logger=CSVLogger(save_dir=\"logs/\"),\n",
    "                         callbacks=callbacks, enable_progress_bar=False,\n",
    "                         enable_model_summary=False\n",
    "                        )  \n",
    "    \n",
    "    \n",
    "    trainer.fit(model=model, train_dataloaders=train_loader,\n",
    "                val_dataloaders=validation_loader) \n",
    "    \n",
    "    metrics = pd.read_csv(f\"{trainer.logger.log_dir}/metrics.csv\")\n",
    "    \n",
    "\n",
    "    history = History()\n",
    "            \n",
    "    history.history[\"loss\"] = metrics[\"loss\"].dropna().to_list()\n",
    "    history.history[\"val_loss\"] = metrics[\"val_loss\"].dropna().to_list()\n",
    "    history.history[\"test_loss\"] = metrics[\"val_loss\"].dropna().to_list()\n",
    "    history.history[f\"{metric}\"] = metrics[f\"{metric}\"].dropna().to_list()\n",
    "    history.history[f\"val_{metric}\"] = metrics[f\"val_{metric}\"].dropna().to_list()\n",
    "    history.history[f\"test_{metric}\"] = metrics[f\"val_{metric}\"].dropna().to_list() \n",
    "    \n",
    "    return history\n",
    "    \n",
    "    \n",
    "    \n",
    "def fit_model_k_fold(x_train, y_train, config, n_folds):\n",
    "    \n",
    "    task = config[\"task\"]\n",
    "    \n",
    "    if task == \"classification\":\n",
    "        train_metric = \"accuracy\"\n",
    "        val_metric = \"val_accuracy\"\n",
    "    elif task == \"regression\":\n",
    "        train_metric = \"mee\"\n",
    "        val_metric = \"val_mee\"\n",
    "    \n",
    "    trials = config[\"trials_train\"]\n",
    "    max_epochs = config[\"max_epochs\"]\n",
    "    batch_size = config[\"batch_size\"]\n",
    "    \n",
    "    kf = KFold(n_splits = n_folds, shuffle=True)\n",
    "\n",
    "    train_losses = []\n",
    "    val_losses = []\n",
    "    train_accs = []\n",
    "    val_accs = []\n",
    "\n",
    "    fold = 1\n",
    "    for train_index, val_index in kf.split(x_train, y_train):\n",
    "        \n",
    "        print(f\"\\nExecuting fold {fold}/{n_folds}\")\n",
    "        \n",
    "        input_size = get_attributes_num(x_train)\n",
    "        output_size = get_attributes_num(y_train)\n",
    "        \n",
    "                \n",
    "        x_train_fold = x_train[train_index]\n",
    "        y_train_fold = y_train[train_index]\n",
    "\n",
    "        x_val_fold = x_train[val_index]\n",
    "        y_val_fold = y_train[val_index]\n",
    "\n",
    "        \n",
    "        trials_val_loss = []\n",
    "        trials_train_loss = []\n",
    "        trials_val_acc = []\n",
    "        trials_train_acc = []\n",
    "        \n",
    "        with tqdm(total=trials) as pbar:\n",
    "            for trial in range(trials):\n",
    "                \n",
    "                \n",
    "                \n",
    "                model = get_model(config, input_size, output_size)\n",
    "                history = fit(model, x_train_fold, y_train_fold, x_val_fold, y_val_fold, \n",
    "                              max_epochs, batch_size, train_metric, config)\n",
    "                \n",
    "                trial_train_loss = history.history[\"loss\"]\n",
    "                trial_val_loss = history.history[\"val_loss\"]         \n",
    "                trial_train_acc = history.history[train_metric]\n",
    "                trial_val_acc = history.history[val_metric]\n",
    "\n",
    "                trials_val_loss.append(trial_val_loss[-1])\n",
    "                trials_train_loss.append(trial_train_loss[-1])\n",
    "                trials_val_acc.append(trial_val_acc[-1])\n",
    "                trials_train_acc.append(trial_train_acc[-1])\n",
    "\n",
    "                pbar.update(1)\n",
    "            \n",
    "        # get the mean metrics among the trials\n",
    "        # med_idx = median_index(trials_val_loss)\n",
    "        # med_val_loss = trials_val_loss[med_idx]\n",
    "        # med_train_loss = trials_train_loss[med_idx]\n",
    "        # med_val_acc = trials_val_acc[med_idx]\n",
    "        # med_train_acc = trials_train_acc[med_idx]\n",
    "        med_val_loss = np.mean(trials_val_loss)\n",
    "        med_train_loss = np.mean(trials_train_loss)\n",
    "        med_val_acc = np.mean(trials_val_acc)\n",
    "        med_train_acc = np.mean(trials_train_acc)\n",
    "        std_val_loss = np.std(trials_val_loss)\n",
    "        std_train_loss = np.std(trials_train_loss)\n",
    "        std_val_acc = np.std(trials_val_acc)\n",
    "        std_train_acc = np.std(trials_train_acc)\n",
    "\n",
    "        print(f\"Fold {fold}/{n_folds} mean val_loss: {med_val_loss}, std val_loss {std_val_loss}\")\n",
    "        print(f\"Fold {fold}/{n_folds} mean train_loss: {med_train_loss}, std train_loss {std_train_loss}\")\n",
    "        print(f\"Fold {fold}/{n_folds} mean {val_metric}: {med_val_acc}, std {val_metric} {std_val_acc}\")\n",
    "        print(f\"Fold {fold}/{n_folds} mean train_{train_metric}: {med_train_acc}, train_{train_metric} {std_train_acc}\")\n",
    "            \n",
    "        train_losses.append(med_train_loss)\n",
    "        val_losses.append(med_val_loss)\n",
    "        val_accs.append(med_val_acc)\n",
    "        train_accs.append(med_train_acc)\n",
    "        \n",
    "        fold += 1\n",
    "        \n",
    "    mean_train_loss = np.mean(train_losses)\n",
    "    mean_val_loss = np.mean(val_losses)\n",
    "    mean_train_acc = np.mean(train_accs)\n",
    "    mean_val_acc = np.mean(val_accs)\n",
    "    std_train_loss = np.std(train_losses)\n",
    "    std_val_loss = np.std(val_losses)\n",
    "    std_train_acc = np.std(train_accs)\n",
    "    std_val_acc = np.std(val_accs)\n",
    "    \n",
    "    print(f\"\\nMean val_loss: {mean_val_loss}, std val_loss: {std_val_loss}\")\n",
    "    print(f\"Mean train_loss: {mean_train_loss}, std train_loss: {std_train_loss}\")\n",
    "    print(f\"Mean {val_metric}: {mean_val_acc}, std {val_metric}: {std_val_acc}\")\n",
    "    print(f\"Mean train_{train_metric}: {mean_val_acc}, std train_{train_metric}: {std_train_acc}\")\n",
    "    \n",
    "    return mean_val_loss\n",
    "\n",
    "\n",
    "\n",
    "\n",
    "def fit_model_hold_out(x_train, y_train, config, val_split):\n",
    "    \n",
    "    task = config[\"task\"]\n",
    "    \n",
    "    if task == \"classification\":\n",
    "        train_metric = \"accuracy\"\n",
    "        val_metric = \"val_accuracy\"\n",
    "    elif task == \"regression\":\n",
    "        train_metric = \"mee\"\n",
    "        val_metric = \"val_mee\"\n",
    "        \n",
    "    trials = config[\"trials_train\"]\n",
    "    input_size = get_attributes_num(x_train)\n",
    "    output_size = get_attributes_num(y_train)\n",
    "    \n",
    "    \n",
    "    max_epochs = config[\"max_epochs\"]\n",
    "    batch_size = config[\"batch_size\"]\n",
    "    \n",
    "    if task == \"classification\":\n",
    "        stratify = y_train\n",
    "    else:\n",
    "        stratify = None\n",
    "        \n",
    "        \n",
    "    x_train, x_val, y_train, y_val = train_test_split(x_train, y_train, test_size=val_split, shuffle=True, stratify=stratify)\n",
    "\n",
    "    \n",
    "    trials_val_loss = []\n",
    "    trials_train_loss = []\n",
    "    trials_val_acc = []\n",
    "    trials_train_acc = []\n",
    "        \n",
    "    with tqdm(total=trials) as pbar:\n",
    "        for trial in range(trials):            \n",
    "            model = get_model(config, input_size, output_size)\n",
    "            history = fit(model, x_train, y_train, x_val, y_val, max_epochs, batch_size, train_metric, config)  \n",
    "\n",
    "            trial_train_loss = history.history[\"loss\"]\n",
    "            trial_val_loss = history.history[\"val_loss\"]         \n",
    "            trial_train_acc = history.history[train_metric]\n",
    "            trial_val_acc = history.history[val_metric]\n",
    "                                    \n",
    "            trials_val_loss.append(trial_val_loss[-1])\n",
    "            trials_train_loss.append(trial_train_loss[-1])\n",
    "            trials_val_acc.append(trial_val_acc[-1])\n",
    "            trials_train_acc.append(trial_train_acc[-1])\n",
    "            \n",
    "            pbar.update(1)\n",
    "    \n",
    "    # get the median metrics among the trials\n",
    "    med_val_loss = np.mean(trials_val_loss)\n",
    "    med_train_loss = np.mean(trials_train_loss)\n",
    "    med_val_acc = np.mean(trials_val_acc)\n",
    "    med_train_acc = np.mean(trials_train_acc)\n",
    "    std_val_loss = np.std(trials_val_loss)\n",
    "    std_train_loss = np.std(trials_train_loss)\n",
    "    std_val_acc = np.std(trials_val_acc)\n",
    "    std_train_acc = np.std(trials_train_acc)\n",
    "\n",
    "    print(f\"\\nMean val_loss: {med_val_loss}, std val_loss {std_val_loss}\")\n",
    "    print(f\"Mean train_loss: {med_train_loss}, std train_loss {std_train_loss}\")\n",
    "    print(f\"Mean {val_metric}: {med_val_acc}, std {val_metric} {std_val_acc}\")\n",
    "    print(f\"Mean train_{train_metric}: {med_train_acc}, train_{train_metric} {std_train_acc}\")\n",
    "    \n",
    "    \n",
    "    return med_val_loss\n",
    "    \n",
    "    \n",
    "\n",
    "def fit_final_model(x_train, y_train, x_test, y_test, config):\n",
    "    global y_scaler\n",
    "    \n",
    "    task = config[\"task\"]\n",
    "    trails = config[\"trials_test\"]\n",
    "    \n",
    "    if task == \"classification\":\n",
    "        train_metric = \"accuracy\"\n",
    "        val_metric = \"val_accuracy\"\n",
    "        test_metric = \"test_accuracy\"\n",
    "    elif task == \"regression\":\n",
    "        train_metric = \"mee\"\n",
    "        val_metric = \"val_mee\"\n",
    "        test_metric = \"test_mee\"\n",
    "    val_loss = \"val_mse\"\n",
    "    train_loss = \"mse\"\n",
    "    test_loss = \"test_mse\"\n",
    "\n",
    "    max_epochs = config[\"max_epochs\"]\n",
    "    batch_size = config[\"batch_size\"]\n",
    "    trials = config[\"trials_test\"]\n",
    "    \n",
    "    '''if config[\"early_stopping\"][\"monitor\"] == \"val_loss\":\n",
    "        config[\"early_stopping\"][\"monitor\"] = \"loss\"'''\n",
    "        \n",
    "    \n",
    "    input_size = get_attributes_num(x_train)\n",
    "    output_size = get_attributes_num(y_train)\n",
    "    \n",
    "    \n",
    "    trials_val_loss = []\n",
    "    trials_train_loss = []\n",
    "    trials_val_acc = []\n",
    "    trials_train_acc = []\n",
    "    trials_test_acc = []\n",
    "    trials_test_loss = []\n",
    "    \n",
    "    trials_history_val_loss = []\n",
    "    trials_history_train_loss = []\n",
    "    trials_history_val_acc = []\n",
    "    trials_history_train_acc = []\n",
    "    trials_history_test_acc = []\n",
    "    trials_history_test_loss = [] \n",
    "    \n",
    "    models = []\n",
    "    \n",
    "    if task == \"classification\":\n",
    "        stratify = y_train\n",
    "    else:\n",
    "        stratify = None\n",
    "    \n",
    "    x_train, x_val, y_train, y_val = train_test_split(x_train, y_train, test_size=0.2, shuffle=True, stratify=stratify)\n",
    "    \n",
    "    with tqdm(total=trials) as pbar:\n",
    "        for trial in range(trials):\n",
    "            \n",
    "            model = get_model(config, input_size, output_size)\n",
    "            torch.save(model, f\"./../models/pytorch_model_{trial}.pt\")\n",
    "            history = fit(model, x_train, y_train, x_val, y_val, max_epochs, batch_size, train_metric, config, x_test, y_test)\n",
    "\n",
    "            models.append(model)\n",
    "\n",
    "            trial_train_loss = history.history[\"loss\"]\n",
    "            trial_val_loss = history.history[\"val_loss\"]\n",
    "            trial_test_loss = history.history[\"test_loss\"]\n",
    "            trial_train_acc = history.history[train_metric]\n",
    "            trial_val_acc = history.history[val_metric]\n",
    "            trial_test_acc = history.history[test_metric]\n",
    "\n",
    "            trials_val_loss.append(trial_val_loss[-1])\n",
    "            trials_train_loss.append(trial_train_loss[-1])\n",
    "            trials_test_loss.append(trial_test_loss[-1])\n",
    "            trials_val_acc.append(trial_val_acc[-1])\n",
    "            trials_train_acc.append(trial_train_acc[-1])\n",
    "            trials_test_acc.append(trial_test_acc[-1])\n",
    "            \n",
    "\n",
    "            trials_history_val_loss.append(trial_val_loss)\n",
    "            trials_history_train_loss.append(trial_train_loss)\n",
    "            trials_history_test_loss.append(trial_test_loss)\n",
    "            trials_history_val_acc.append(trial_val_acc)\n",
    "            trials_history_train_acc.append(trial_train_acc)\n",
    "            trials_history_test_acc.append(trial_test_acc)\n",
    "            \n",
    "\n",
    "            print(f\"Trial {trial+1}/{trials} {val_loss}: {trial_val_loss[-1]}\")\n",
    "            print(f\"Trial {trial+1}/{trials} train_{train_loss}: {trial_train_loss[-1]}\")\n",
    "            print(f\"Trial {trial+1}/{trials} {test_loss}: {trial_test_loss[-1]}\")\n",
    "            print(f\"Trial {trial+1}/{trials} {val_metric}: {trial_val_acc[-1]}\")\n",
    "            print(f\"Trial {trial+1}/{trials} train_{train_metric}: {trial_train_acc[-1]}\")\n",
    "            print(f\"Trial {trial+1}/{trials} {test_metric}: {trial_test_acc[-1]}\")\n",
    "\n",
    "            pbar.update(1)\n",
    "        \n",
    "    # get the mean metrics among the trials\n",
    "    med_idx = median_index(trials_val_loss)\n",
    "    med_val_loss = trials_val_loss[med_idx]\n",
    "    med_train_loss = trials_train_loss[med_idx]\n",
    "    med_val_acc = trials_val_acc[med_idx]\n",
    "    med_train_acc = trials_train_acc[med_idx]\n",
    "    std_val_loss = np.std(trials_val_loss)\n",
    "    std_train_loss = np.std(trials_train_loss)\n",
    "    std_val_acc = np.std(trials_val_acc)\n",
    "    std_train_acc = np.std(trials_train_acc)\n",
    "    \n",
    "    print(f\"\\nMedian {val_loss}: {med_val_loss}, std {val_loss}: {std_val_loss}\")\n",
    "    print(f\"Median train_{train_loss}: {med_train_loss}, std train_{train_loss}: {std_train_loss}\")\n",
    "    print(f\"Median {val_metric}: {med_val_acc}, std {val_metric}: {std_val_acc}\")\n",
    "    print(f\"Median train_{train_metric}: {med_train_acc}, std train_{train_metric}: {std_train_acc}\")\n",
    "        \n",
    "    \n",
    "        \n",
    "    train_acc = trials_history_train_acc[med_idx]\n",
    "    test_acc = trials_history_test_acc[med_idx]\n",
    "    \n",
    "    \n",
    "    plot_curves(train_acc, f\"Training {train_metric}\", test_acc, f\"Test {train_metric}\")\n",
    "    \n",
    "    train_loss = trials_history_train_loss[med_idx]\n",
    "    test_loss = trials_history_test_loss[med_idx]\n",
    "    plot_curves(train_loss, \"Train loss\", test_loss, \"Test loss\")\n",
    "    \n",
    "    med_model = models[med_idx]\n",
    "    \n",
    "    \n",
    "    if task == \"regression\":\n",
    "        \n",
    "        y_pred = model(torch.from_numpy(x_val).to(torch.float32))\n",
    "        # y_val = y_val.detach().numpy()\n",
    "        \n",
    "        y_pred = y_scaler.inverse_transform(y_pred.detach().numpy())\n",
    "        y_val  = y_scaler.inverse_transform(y_val)\n",
    "        \n",
    "        y_pred  = torch.from_numpy(y_pred).to(torch.float32)\n",
    "        y_val  = torch.from_numpy(y_val).to(torch.float32)\n",
    "        \n",
    "        mse_val = mse(y_val, y_pred)\n",
    "        mee_val = mee(y_val, y_pred)\n",
    "\n",
    "        print(f\"\\nValidation MSE: {mse_val}\")\n",
    "        print(f\"Validation MEE: {mee_val}\")\n",
    "    \n",
    "    \n",
    "    for trial in range(trials):\n",
    "        if trial != med_idx:\n",
    "            os.system(f\"rm ./../models/pytorch_model_{trial}.pt\")\n",
    "            \n",
    "    os.system(f\"mv ./../models/pytorch_model_{med_idx}.pt ./../models/pytorch_model.pt\")\n",
    "    \n",
    "    return med_model\n",
    "\n",
    "    \n",
    "def fit_model(x_train, y_train, config, validation):\n",
    "    if validation[\"type\"] == \"k-fold\":\n",
    "        val_loss = fit_model_k_fold(x_train, y_train, config, validation[\"n_folds\"])\n",
    "    elif validation[\"type\"] == \"hold-out\":\n",
    "        val_loss = fit_model_hold_out(x_train, y_train, config, validation[\"val_split\"])\n",
    "    return val_loss\n",
    "\n",
    "\n",
    "\n",
    "def test_model(model, x_test, y_test):\n",
    "    \n",
    "    y_pred = model(torch.from_numpy(x_test).to(torch.float32))\n",
    "    y_test = torch.from_numpy(y_test).to(torch.float32)\n",
    "    \n",
    "    acc = model.compute_metric(y_pred, y_test)\n",
    "    loss = model.compute_loss(y_pred, y_test)\n",
    "    \n",
    "    print(f\"Test MSE: {loss}\")\n",
    "    print(f\"Test accuracy: {acc}\")\n",
    "    \n",
    "    #test_loader = DataLoader(dataset = CustomDataset(x_test, y_test), batch_size=batch_size)\n",
    "    #trainer.test(model=model, dataloaders=test_loader)\n",
    "    #input_size = x_test.shape[1]\n",
    "    #result = model.evaluate(x_test, y_test)\n",
    "    #print(result)\n",
    "    \n",
    "\n",
    "def assess_model(model, x_train, y_train, x_test, y_test, scale=True):\n",
    "    y_train_pred = model(torch.from_numpy(x_train).to(torch.float32))\n",
    "    y_test_pred = model(torch.from_numpy(x_test).to(torch.float32))\n",
    "    \n",
    "    if scale:\n",
    "        \n",
    "        y_train_pred = y_train_pred.detach().numpy()\n",
    "        y_test_pred = y_test_pred.detach().numpy()\n",
    "        \n",
    "        y_train_pred = y_scaler.inverse_transform(y_train_pred)\n",
    "        y_train  = y_scaler.inverse_transform(y_train)\n",
    "        y_test_pred = y_scaler.inverse_transform(y_test_pred)\n",
    "        y_test  = y_scaler.inverse_transform(y_test)\n",
    "        \n",
    "        y_train_pred  = torch.from_numpy(y_train_pred).to(torch.float32)\n",
    "        y_test_pred  = torch.from_numpy(y_test_pred).to(torch.float32)\n",
    "        \n",
    "    y_train = torch.from_numpy(y_train).to(torch.float32)\n",
    "    y_test = torch.from_numpy(y_test).to(torch.float32)\n",
    "    \n",
    "\n",
    "    mse_train = mse(y_train, y_train_pred)\n",
    "    mse_test = mse(y_test, y_test_pred)\n",
    "\n",
    "    mee_train = mee(y_train, y_train_pred)\n",
    "    mee_test = mee(y_test, y_test_pred)\n",
    "\n",
    "    print(f\"Train MSE: {mse_train}\")\n",
    "    print(f\"Train MEE: {mee_train}\")\n",
    "    print(f\"Test MSE: {mse_test}\")\n",
    "    print(f\"Test MEE: {mee_test}\")\n",
    "\n",
    "\n",
    "    \n",
    "def model_selection(configurations, x_train, y_train, validation):\n",
    "        \n",
    "    best_loss = float(\"inf\")\n",
    "    best_conf = None\n",
    "    \n",
    "    idx = 1\n",
    "    n_confs = len(configurations)\n",
    "    for config in configurations:\n",
    "        \n",
    "        print(f\"Testing configuration {idx}/{n_confs}:\\n{config}\")\n",
    "        val_loss = fit_model(x_train, y_train, config, validation)\n",
    "\n",
    "        if val_loss < best_loss:\n",
    "            best_loss = val_loss;\n",
    "            best_conf = config\n",
    "        idx += 1\n",
    "        \n",
    "        print(\"\\n\\n\")\n",
    "\n",
    "            \n",
    "    print(\"\\n\\n\")\n",
    "    print(f\"Best configuration (loss {best_loss}):\\n{best_conf}\")\n",
    "    \n",
    "    return best_conf\n",
    "    \n",
    "\n",
    "def grid_search(params, x_train, y_train, x_test, y_test, validation={\"type\": \"hold-out\", \"val_split\": 0.2}):\n",
    "    set_random_seeds()\n",
    "    configurations = get_configurations(params)    \n",
    "    best_conf = model_selection(configurations, x_train, y_train, validation)\n",
    "    model = fit_final_model(x_train, y_train, x_test, y_test, best_conf)\n",
    "    \n",
    "    return model"
   ]
  },
  {
   "cell_type": "markdown",
   "id": "1efeb266",
   "metadata": {},
   "source": [
    "# Monk 1"
   ]
  },
  {
   "cell_type": "code",
   "execution_count": 101,
   "id": "f0e9f138",
   "metadata": {},
   "outputs": [
    {
     "name": "stdout",
     "output_type": "stream",
     "text": [
      "Loaded ./../data/monks-1 dataset\n",
      "(124, 17) (124,)\n",
      "(432, 17) (432,)\n"
     ]
    }
   ],
   "source": [
    "x_train, y_train, x_test, y_test = load_dataset(\"monks1\", True)\n",
    "print(x_train.shape, y_train.shape)\n",
    "print(x_test.shape, y_test.shape)"
   ]
  },
  {
   "cell_type": "code",
   "execution_count": 102,
   "id": "46daf564",
   "metadata": {},
   "outputs": [],
   "source": [
    "params = {\n",
    "    \"task\": \"classification\",\n",
    "    \"trials_train\": 1,\n",
    "    \"trials_test\": 5,\n",
    "    \"initialization\": {\n",
    "        \"type\": \"default\",\n",
    "        \"min\": -0.5,\n",
    "        \"max\": 0.5\n",
    "    },\n",
    "    \"early_stopping\": {\n",
    "        \"monitor\": \"val_loss\",\n",
    "        \"patience\": 2,\n",
    "        \"delta\": 0.0\n",
    "    },\n",
    "    \"max_epochs\": [500],\n",
    "    \"learning_rate\": [0.6],#np.linspace(0.1, 0.3, 5).tolist(),\n",
    "    \"batch_size\": [None],\n",
    "    \"momentum\": [0.8],#np.linspace(0.7, 0.9, 5).tolist(),\n",
    "    \"nesterov\": False,\n",
    "    \"learning_rate_decay\": None,\n",
    "    \"regularization\": [\n",
    "        {\n",
    "            \"type\": None\n",
    "        }\n",
    "    ],\n",
    "    \"layers\": [\n",
    "        {\n",
    "            \"activations\": [\"relu\"],\n",
    "            \"units\": [8],\n",
    "        },\n",
    "    ]\n",
    "}\n",
    "\n",
    "k_fold_val = {\n",
    "    \"type\": \"k-fold\",\n",
    "    \"n_folds\": 5\n",
    "}\n",
    "\n",
    "hold_out_val = {\n",
    "    \"type\": \"hold-out\",\n",
    "    \"val_split\": 0.15\n",
    "}"
   ]
  },
  {
   "cell_type": "code",
   "execution_count": 103,
   "id": "77ad369e",
   "metadata": {
    "scrolled": false
   },
   "outputs": [
    {
     "name": "stdout",
     "output_type": "stream",
     "text": [
      "Testing configuration 1/1:\n",
      "{'batch_size': None, 'learning_rate': 0.6, 'max_epochs': 500, 'momentum': 0.8, 'initialization': {'type': 'default', 'min': -0.5, 'max': 0.5}, 'early_stopping': {'monitor': 'val_loss', 'patience': 2, 'delta': 0.0}, 'task': 'classification', 'trials_train': 1, 'trials_test': 5, 'nesterov': False, 'learning_rate_decay': None, 'regularization': {'method': None}, 'activations_1': 'relu', 'units_1': 8}\n"
     ]
    },
    {
     "name": "stderr",
     "output_type": "stream",
     "text": [
      "100%|█████████████████████████████████████████████| 1/1 [00:07<00:00,  7.99s/it]\n"
     ]
    },
    {
     "name": "stdout",
     "output_type": "stream",
     "text": [
      "\n",
      "Mean val_loss: 0.0008498181030854, std val_loss 0.0\n",
      "Mean train_loss: 0.000390460161725, std train_loss 0.0\n",
      "Mean val_accuracy: 1.0, std val_accuracy 0.0\n",
      "Mean train_accuracy: 1.0, train_accuracy 0.0\n",
      "\n",
      "\n",
      "\n",
      "\n",
      "\n",
      "\n",
      "Best configuration (loss 0.0008498181030854):\n",
      "{'batch_size': None, 'learning_rate': 0.6, 'max_epochs': 500, 'momentum': 0.8, 'initialization': {'type': 'default', 'min': -0.5, 'max': 0.5}, 'early_stopping': {'monitor': 'val_loss', 'patience': 2, 'delta': 0.0}, 'task': 'classification', 'trials_train': 1, 'trials_test': 5, 'nesterov': False, 'learning_rate_decay': None, 'regularization': {'method': None}, 'activations_1': 'relu', 'units_1': 8}\n"
     ]
    },
    {
     "name": "stderr",
     "output_type": "stream",
     "text": [
      " 20%|█████████                                    | 1/5 [00:00<00:01,  2.19it/s]"
     ]
    },
    {
     "name": "stdout",
     "output_type": "stream",
     "text": [
      "Trial 1/5 val_mse: 0.1860416174190302\n",
      "Trial 1/5 train_mse: 0.096375860273838\n",
      "Trial 1/5 test_mse: 0.1860416174190302\n",
      "Trial 1/5 val_accuracy: 0.7599999904632568\n",
      "Trial 1/5 train_accuracy: 0.8888888955116272\n",
      "Trial 1/5 test_accuracy: 0.7599999904632568\n"
     ]
    },
    {
     "name": "stderr",
     "output_type": "stream",
     "text": [
      "\r",
      " 40%|██████████████████                           | 2/5 [00:01<00:01,  1.79it/s]"
     ]
    },
    {
     "name": "stdout",
     "output_type": "stream",
     "text": [
      "Trial 2/5 val_mse: 0.1770000631690028\n",
      "Trial 2/5 train_mse: 0.1016846746206283\n",
      "Trial 2/5 test_mse: 0.1770000631690028\n",
      "Trial 2/5 val_accuracy: 0.800000011920929\n",
      "Trial 2/5 train_accuracy: 0.8787878751754761\n",
      "Trial 2/5 test_accuracy: 0.800000011920929\n"
     ]
    },
    {
     "name": "stderr",
     "output_type": "stream",
     "text": [
      "\r",
      " 60%|███████████████████████████                  | 3/5 [00:01<00:01,  1.54it/s]"
     ]
    },
    {
     "name": "stdout",
     "output_type": "stream",
     "text": [
      "Trial 3/5 val_mse: 0.1581056861121772\n",
      "Trial 3/5 train_mse: 0.0943066552281379\n",
      "Trial 3/5 test_mse: 0.1581056861121772\n",
      "Trial 3/5 val_accuracy: 0.8399999737739563\n",
      "Trial 3/5 train_accuracy: 0.8888888955116272\n",
      "Trial 3/5 test_accuracy: 0.8399999737739563\n"
     ]
    },
    {
     "name": "stderr",
     "output_type": "stream",
     "text": [
      "\r",
      " 80%|████████████████████████████████████         | 4/5 [00:02<00:00,  1.47it/s]"
     ]
    },
    {
     "name": "stdout",
     "output_type": "stream",
     "text": [
      "Trial 4/5 val_mse: 0.1803291134106894\n",
      "Trial 4/5 train_mse: 0.1032080426812172\n",
      "Trial 4/5 test_mse: 0.1803291134106894\n",
      "Trial 4/5 val_accuracy: 0.800000011920929\n",
      "Trial 4/5 train_accuracy: 0.8989899158477783\n",
      "Trial 4/5 test_accuracy: 0.800000011920929\n"
     ]
    },
    {
     "name": "stderr",
     "output_type": "stream",
     "text": [
      "100%|█████████████████████████████████████████████| 5/5 [00:03<00:00,  1.61it/s]"
     ]
    },
    {
     "name": "stdout",
     "output_type": "stream",
     "text": [
      "Trial 5/5 val_mse: 0.1775066007771457\n",
      "Trial 5/5 train_mse: 0.1157179921865463\n",
      "Trial 5/5 test_mse: 0.1775066007771457\n",
      "Trial 5/5 val_accuracy: 0.800000011920929\n",
      "Trial 5/5 train_accuracy: 0.8585858345031738\n",
      "Trial 5/5 test_accuracy: 0.800000011920929\n",
      "\n",
      "Median val_mse: 0.1775066007771457, std val_mse: 0.009411109607016055\n",
      "Median train_mse: 0.1157179921865463, std train_mse: 0.007486335847497797\n",
      "Median val_accuracy: 0.800000011920929, std val_accuracy: 0.025298216003731024\n",
      "Median train_accuracy: 0.8585858345031738, std train_accuracy: 0.013701690617207166\n"
     ]
    },
    {
     "name": "stderr",
     "output_type": "stream",
     "text": [
      "\n"
     ]
    },
    {
     "data": {
      "image/png": "[encoded data removed]",
      "text/plain": [
       "<Figure size 640x480 with 1 Axes>"
      ]
     },
     "metadata": {},
     "output_type": "display_data"
    },
    {
     "data": {
      "image/png": "[encoded data removed]",
      "text/plain": [
       "<Figure size 640x480 with 1 Axes>"
      ]
     },
     "metadata": {},
     "output_type": "display_data"
    },
    {
     "name": "stdout",
     "output_type": "stream",
     "text": [
      "Test MSE: 0.18077519536018372\n",
      "Test accuracy: 0.75\n"
     ]
    }
   ],
   "source": [
    "model = grid_search(params, x_train, y_train, x_test, y_test, hold_out_val)\n",
    "test_model(model, x_test, y_test)"
   ]
  },
  {
   "cell_type": "markdown",
   "id": "8d0cdf2f",
   "metadata": {},
   "source": [
    "# Monk 2"
   ]
  },
  {
   "cell_type": "code",
   "execution_count": 57,
   "id": "46826a62",
   "metadata": {},
   "outputs": [
    {
     "name": "stdout",
     "output_type": "stream",
     "text": [
      "Loaded ./../data/monks-2 dataset\n",
      "(169, 17) (169,)\n",
      "(432, 17) (432,)\n"
     ]
    }
   ],
   "source": [
    "x_train, y_train, x_test, y_test = load_dataset(\"monks2\", True)\n",
    "print(x_train.shape, y_train.shape)\n",
    "print(x_test.shape, y_test.shape)"
   ]
  },
  {
   "cell_type": "code",
   "execution_count": 58,
   "id": "235bb2bb",
   "metadata": {},
   "outputs": [],
   "source": [
    "params = {\n",
    "    \"task\": \"classification\",\n",
    "    \"trials_train\": 1,\n",
    "    \"trials_test\": 10,\n",
    "    \"initialization\": {\n",
    "        \"type\": \"default\",\n",
    "        \"min\": -0.5,\n",
    "        \"max\": 0.5\n",
    "    },\n",
    "    \"early_stopping\": {\n",
    "        \"monitor\": \"val_loss\",\n",
    "        \"patience\": 20,\n",
    "        \"delta\": 0.0\n",
    "    },\n",
    "    \"max_epochs\": [500],\n",
    "    \"learning_rate\": [0.1, 0.2, 0.3],\n",
    "    \"batch_size\": [None],\n",
    "    \"momentum\": [0.7, 0.8, 0.9],\n",
    "    \"nesterov\": False,\n",
    "    \"learning_rate_decay\": None,\n",
    "    \"regularization\": [\n",
    "        {\n",
    "            \"type\": None\n",
    "        }\n",
    "    ],\n",
    "    \"layers\": [\n",
    "        {\n",
    "            \"activations\": [\"relu\"],\n",
    "            \"units\": [8],\n",
    "        },\n",
    "    ]\n",
    "}\n",
    "\n",
    "\n",
    "params = {\n",
    "    \"task\": \"classification\",\n",
    "    \"trials_train\": 1,\n",
    "    \"trials_test\": 10,\n",
    "    \"initialization\": {\n",
    "        \"type\": \"default\",\n",
    "        \"min\": -0.5,\n",
    "        \"max\": 0.5\n",
    "    },\n",
    "    \"early_stopping\": {\n",
    "        \"monitor\": \"val_loss\",\n",
    "        \"patience\": 20,\n",
    "        \"delta\": 0.0\n",
    "    },\n",
    "    \"max_epochs\": [500],\n",
    "    \"learning_rate\": np.linspace(0.1, 0.3, 5).tolist(),\n",
    "    \"batch_size\": [None],\n",
    "    \"momentum\": np.linspace(0.7, 0.9, 5).tolist(),\n",
    "    \"nesterov\": False,\n",
    "    \"learning_rate_decay\": None,\n",
    "    \"regularization\": [\n",
    "        {\n",
    "            \"type\": None\n",
    "        }\n",
    "    ],\n",
    "    \"layers\": [\n",
    "        {\n",
    "            \"activations\": [\"relu\"],\n",
    "            \"units\": [8],\n",
    "        },\n",
    "    ]\n",
    "}\n",
    "\n",
    "\n",
    "k_fold_val = {\n",
    "    \"type\": \"k-fold\",\n",
    "    \"n_folds\": 5\n",
    "}\n",
    "\n",
    "hold_out_val = {\n",
    "    \"type\": \"hold-out\",\n",
    "    \"val_split\": 0.15\n",
    "}"
   ]
  },
  {
   "cell_type": "code",
   "execution_count": 59,
   "id": "c5fcad74",
   "metadata": {},
   "outputs": [
    {
     "name": "stdout",
     "output_type": "stream",
     "text": [
      "Testing configuration 1/25:\n",
      "{'batch_size': None, 'learning_rate': 0.1, 'max_epochs': 500, 'momentum': 0.7, 'initialization': {'type': 'default', 'min': -0.5, 'max': 0.5}, 'early_stopping': {'monitor': 'val_loss', 'patience': 20, 'delta': 0.0}, 'task': 'classification', 'trials_train': 1, 'trials_test': 10, 'nesterov': False, 'learning_rate_decay': None, 'regularization': {'method': None}, 'activations_1': 'relu', 'units_1': 8}\n",
      "\n",
      "Executing fold 1/5\n"
     ]
    },
    {
     "name": "stderr",
     "output_type": "stream",
     "text": [
      "100%|█████████████████████████████████████████████| 1/1 [00:00<00:00,  1.89it/s]\n"
     ]
    },
    {
     "name": "stdout",
     "output_type": "stream",
     "text": [
      "Fold 1/5 median val_loss: 0.2883889720557326, std val_loss 0.0\n",
      "Fold 1/5 median train_loss: 0.2182755023241043, std train_loss 0.0\n",
      "Fold 1/5 median val_accuracy: 0.4411764740943908, std val_accuracy 0.0\n",
      "Fold 1/5 median train_accuracy: 0.6666666865348816, train_accuracy 0.0\n",
      "\n",
      "Executing fold 2/5\n"
     ]
    },
    {
     "name": "stderr",
     "output_type": "stream",
     "text": [
      "100%|█████████████████████████████████████████████| 1/1 [00:04<00:00,  4.84s/it]\n"
     ]
    },
    {
     "name": "stdout",
     "output_type": "stream",
     "text": [
      "Fold 2/5 median val_loss: 0.2134631660942645, std val_loss 0.0\n",
      "Fold 2/5 median train_loss: 0.2242952585220337, std train_loss 0.0\n",
      "Fold 2/5 median val_accuracy: 0.7058823704719543, std val_accuracy 0.0\n",
      "Fold 2/5 median train_accuracy: 0.6518518328666687, train_accuracy 0.0\n",
      "\n",
      "Executing fold 3/5\n"
     ]
    },
    {
     "name": "stderr",
     "output_type": "stream",
     "text": [
      "100%|█████████████████████████████████████████████| 1/1 [00:11<00:00, 11.23s/it]\n"
     ]
    },
    {
     "name": "stdout",
     "output_type": "stream",
     "text": [
      "Fold 3/5 median val_loss: 0.0201308207304792, std val_loss 0.0\n",
      "Fold 3/5 median train_loss: 0.0178703479468822, std train_loss 0.0\n",
      "Fold 3/5 median val_accuracy: 1.0, std val_accuracy 0.0\n",
      "Fold 3/5 median train_accuracy: 1.0, train_accuracy 0.0\n",
      "\n",
      "Executing fold 4/5\n"
     ]
    },
    {
     "name": "stderr",
     "output_type": "stream",
     "text": [
      "100%|█████████████████████████████████████████████| 1/1 [00:00<00:00,  1.17it/s]\n"
     ]
    },
    {
     "name": "stdout",
     "output_type": "stream",
     "text": [
      "Fold 4/5 median val_loss: 0.2279225385755967, std val_loss 0.0\n",
      "Fold 4/5 median train_loss: 0.2314312607049942, std train_loss 0.0\n",
      "Fold 4/5 median val_accuracy: 0.6764705777168274, std val_accuracy 0.0\n",
      "Fold 4/5 median train_accuracy: 0.614814817905426, train_accuracy 0.0\n",
      "\n",
      "Executing fold 5/5\n"
     ]
    },
    {
     "name": "stderr",
     "output_type": "stream",
     "text": [
      "100%|█████████████████████████████████████████████| 1/1 [00:00<00:00,  1.00it/s]\n"
     ]
    },
    {
     "name": "stdout",
     "output_type": "stream",
     "text": [
      "Fold 5/5 median val_loss: 0.2499549187823476, std val_loss 0.0\n",
      "Fold 5/5 median train_loss: 0.2301624119281768, std train_loss 0.0\n",
      "Fold 5/5 median val_accuracy: 0.5757575631141663, std val_accuracy 0.0\n",
      "Fold 5/5 median train_accuracy: 0.6323529481887817, train_accuracy 0.0\n",
      "\n",
      "Mean val_loss: 0.19997208324768412, std val_loss: 0.09340443998844293\n",
      "Mean train_loss: 0.18440695628523823, std train_loss: 0.08339957303274223\n",
      "Mean val_accuracy: 0.6798573970794678, std val_accuracy: 0.1849245329418571\n",
      "Mean train_accuracy: 0.6798573970794678, std train_accuracy: 0.14449848236687635\n",
      "\n",
      "\n",
      "\n",
      "Testing configuration 2/25:\n",
      "{'batch_size': None, 'learning_rate': 0.1, 'max_epochs': 500, 'momentum': 0.75, 'initialization': {'type': 'default', 'min': -0.5, 'max': 0.5}, 'early_stopping': {'monitor': 'val_loss', 'patience': 20, 'delta': 0.0}, 'task': 'classification', 'trials_train': 1, 'trials_test': 10, 'nesterov': False, 'learning_rate_decay': None, 'regularization': {'method': None}, 'activations_1': 'relu', 'units_1': 8}\n",
      "\n",
      "Executing fold 1/5\n"
     ]
    },
    {
     "name": "stderr",
     "output_type": "stream",
     "text": [
      "100%|█████████████████████████████████████████████| 1/1 [00:00<00:00,  2.60it/s]\n"
     ]
    },
    {
     "name": "stdout",
     "output_type": "stream",
     "text": [
      "Fold 1/5 median val_loss: 0.2551484880402926, std val_loss 0.0\n",
      "Fold 1/5 median train_loss: 0.2277586460113525, std train_loss 0.0\n",
      "Fold 1/5 median val_accuracy: 0.5588235259056091, std val_accuracy 0.0\n",
      "Fold 1/5 median train_accuracy: 0.6370370388031006, train_accuracy 0.0\n",
      "\n",
      "Executing fold 2/5\n"
     ]
    },
    {
     "name": "stderr",
     "output_type": "stream",
     "text": [
      "100%|█████████████████████████████████████████████| 1/1 [00:00<00:00,  1.78it/s]\n"
     ]
    },
    {
     "name": "stdout",
     "output_type": "stream",
     "text": [
      "Fold 2/5 median val_loss: 0.2452280888440945, std val_loss 0.0\n",
      "Fold 2/5 median train_loss: 0.2325742244720459, std train_loss 0.0\n",
      "Fold 2/5 median val_accuracy: 0.5882353186607361, std val_accuracy 0.0\n",
      "Fold 2/5 median train_accuracy: 0.6296296119689941, train_accuracy 0.0\n",
      "\n",
      "Executing fold 3/5\n"
     ]
    },
    {
     "name": "stderr",
     "output_type": "stream",
     "text": [
      "100%|█████████████████████████████████████████████| 1/1 [00:00<00:00,  1.51it/s]\n"
     ]
    },
    {
     "name": "stdout",
     "output_type": "stream",
     "text": [
      "Fold 3/5 median val_loss: 0.2430994338610241, std val_loss 0.0\n",
      "Fold 3/5 median train_loss: 0.2304323464632034, std train_loss 0.0\n",
      "Fold 3/5 median val_accuracy: 0.5882353186607361, std val_accuracy 0.0\n",
      "Fold 3/5 median train_accuracy: 0.6296296119689941, train_accuracy 0.0\n",
      "\n",
      "Executing fold 4/5\n"
     ]
    },
    {
     "name": "stderr",
     "output_type": "stream",
     "text": [
      "100%|█████████████████████████████████████████████| 1/1 [00:10<00:00, 10.31s/it]\n"
     ]
    },
    {
     "name": "stdout",
     "output_type": "stream",
     "text": [
      "Fold 4/5 median val_loss: 0.0540929572096956, std val_loss 0.0\n",
      "Fold 4/5 median train_loss: 0.0340236015617847, std train_loss 0.0\n",
      "Fold 4/5 median val_accuracy: 1.0, std val_accuracy 0.0\n",
      "Fold 4/5 median train_accuracy: 1.0, train_accuracy 0.0\n",
      "\n",
      "Executing fold 5/5\n"
     ]
    },
    {
     "name": "stderr",
     "output_type": "stream",
     "text": [
      "100%|█████████████████████████████████████████████| 1/1 [00:01<00:00,  1.18s/it]\n"
     ]
    },
    {
     "name": "stdout",
     "output_type": "stream",
     "text": [
      "Fold 5/5 median val_loss: 0.2159988779073214, std val_loss 0.0\n",
      "Fold 5/5 median train_loss: 0.2314355969429016, std train_loss 0.0\n",
      "Fold 5/5 median val_accuracy: 0.7272727489471436, std val_accuracy 0.0\n",
      "Fold 5/5 median train_accuracy: 0.595588207244873, train_accuracy 0.0\n",
      "\n",
      "Mean val_loss: 0.20271356917248565, std val_loss: 0.07543541462018509\n",
      "Mean train_loss: 0.19124488309025764, std train_loss: 0.0786267784825968\n",
      "Mean val_accuracy: 0.692513382434845, std val_accuracy: 0.16454606677144132\n",
      "Mean train_accuracy: 0.692513382434845, std train_accuracy: 0.15149717331145737\n",
      "\n",
      "\n",
      "\n",
      "Testing configuration 3/25:\n",
      "{'batch_size': None, 'learning_rate': 0.1, 'max_epochs': 500, 'momentum': 0.8, 'initialization': {'type': 'default', 'min': -0.5, 'max': 0.5}, 'early_stopping': {'monitor': 'val_loss', 'patience': 20, 'delta': 0.0}, 'task': 'classification', 'trials_train': 1, 'trials_test': 10, 'nesterov': False, 'learning_rate_decay': None, 'regularization': {'method': None}, 'activations_1': 'relu', 'units_1': 8}\n",
      "\n",
      "Executing fold 1/5\n"
     ]
    },
    {
     "name": "stderr",
     "output_type": "stream",
     "text": [
      "100%|█████████████████████████████████████████████| 1/1 [00:00<00:00,  2.19it/s]\n"
     ]
    },
    {
     "name": "stdout",
     "output_type": "stream",
     "text": [
      "Fold 1/5 median val_loss: 0.2364219781574235, std val_loss 0.0\n",
      "Fold 1/5 median train_loss: 0.2304879128932953, std train_loss 0.0\n",
      "Fold 1/5 median val_accuracy: 0.6176470518112183, std val_accuracy 0.0\n",
      "Fold 1/5 median train_accuracy: 0.6222222447395325, train_accuracy 0.0\n",
      "\n",
      "Executing fold 2/5\n"
     ]
    },
    {
     "name": "stderr",
     "output_type": "stream",
     "text": [
      "100%|█████████████████████████████████████████████| 1/1 [00:00<00:00,  2.21it/s]\n"
     ]
    },
    {
     "name": "stdout",
     "output_type": "stream",
     "text": [
      "Fold 2/5 median val_loss: 0.2515289245784076, std val_loss 0.0\n",
      "Fold 2/5 median train_loss: 0.2273278385400772, std train_loss 0.0\n",
      "Fold 2/5 median val_accuracy: 0.5588235259056091, std val_accuracy 0.0\n",
      "Fold 2/5 median train_accuracy: 0.6370370388031006, train_accuracy 0.0\n",
      "\n",
      "Executing fold 3/5\n"
     ]
    },
    {
     "name": "stderr",
     "output_type": "stream",
     "text": [
      "100%|█████████████████████████████████████████████| 1/1 [00:00<00:00,  1.32it/s]\n"
     ]
    },
    {
     "name": "stdout",
     "output_type": "stream",
     "text": [
      "Fold 3/5 median val_loss: 0.2176310575492836, std val_loss 0.0\n",
      "Fold 3/5 median train_loss: 0.2362012863159179, std train_loss 0.0\n",
      "Fold 3/5 median val_accuracy: 0.7058823704719543, std val_accuracy 0.0\n",
      "Fold 3/5 median train_accuracy: 0.6000000238418579, train_accuracy 0.0\n",
      "\n",
      "Executing fold 4/5\n"
     ]
    },
    {
     "name": "stderr",
     "output_type": "stream",
     "text": [
      "100%|█████████████████████████████████████████████| 1/1 [00:10<00:00, 10.87s/it]\n"
     ]
    },
    {
     "name": "stdout",
     "output_type": "stream",
     "text": [
      "Fold 4/5 median val_loss: 0.0074294763231764, std val_loss 0.0\n",
      "Fold 4/5 median train_loss: 0.0044893478043377, std train_loss 0.0\n",
      "Fold 4/5 median val_accuracy: 1.0, std val_accuracy 0.0\n",
      "Fold 4/5 median train_accuracy: 1.0, train_accuracy 0.0\n",
      "\n",
      "Executing fold 5/5\n"
     ]
    },
    {
     "name": "stderr",
     "output_type": "stream",
     "text": [
      "100%|█████████████████████████████████████████████| 1/1 [00:01<00:00,  1.06s/it]\n"
     ]
    },
    {
     "name": "stdout",
     "output_type": "stream",
     "text": [
      "Fold 5/5 median val_loss: 0.2619892496789821, std val_loss 0.0\n",
      "Fold 5/5 median train_loss: 0.2223658859729766, std train_loss 0.0\n",
      "Fold 5/5 median val_accuracy: 0.5454545617103577, std val_accuracy 0.0\n",
      "Fold 5/5 median train_accuracy: 0.6397058963775635, train_accuracy 0.0\n",
      "\n",
      "Mean val_loss: 0.19500013725745463, std val_loss: 0.09496707353511637\n",
      "Mean train_loss: 0.18417445430532095, std train_loss: 0.08995472774395608\n",
      "Mean val_accuracy: 0.6855615019798279, std val_accuracy: 0.1670864139098226\n",
      "Mean train_accuracy: 0.6855615019798279, std train_accuracy: 0.15076397029705124\n",
      "\n",
      "\n",
      "\n",
      "Testing configuration 4/25:\n",
      "{'batch_size': None, 'learning_rate': 0.1, 'max_epochs': 500, 'momentum': 0.85, 'initialization': {'type': 'default', 'min': -0.5, 'max': 0.5}, 'early_stopping': {'monitor': 'val_loss', 'patience': 20, 'delta': 0.0}, 'task': 'classification', 'trials_train': 1, 'trials_test': 10, 'nesterov': False, 'learning_rate_decay': None, 'regularization': {'method': None}, 'activations_1': 'relu', 'units_1': 8}\n",
      "\n",
      "Executing fold 1/5\n"
     ]
    },
    {
     "name": "stderr",
     "output_type": "stream",
     "text": [
      "100%|█████████████████████████████████████████████| 1/1 [00:00<00:00,  1.94it/s]\n"
     ]
    },
    {
     "name": "stdout",
     "output_type": "stream",
     "text": [
      "Fold 1/5 median val_loss: 0.2480686450485732, std val_loss 0.0\n",
      "Fold 1/5 median train_loss: 0.2275198996067047, std train_loss 0.0\n",
      "Fold 1/5 median val_accuracy: 0.5588235259056091, std val_accuracy 0.0\n",
      "Fold 1/5 median train_accuracy: 0.6370370388031006, train_accuracy 0.0\n",
      "\n",
      "Executing fold 2/5\n"
     ]
    },
    {
     "name": "stderr",
     "output_type": "stream",
     "text": [
      "100%|█████████████████████████████████████████████| 1/1 [00:00<00:00,  1.19it/s]\n"
     ]
    },
    {
     "name": "stdout",
     "output_type": "stream",
     "text": [
      "Fold 2/5 median val_loss: 0.2471947113774393, std val_loss 0.0\n",
      "Fold 2/5 median train_loss: 0.2319509983062744, std train_loss 0.0\n",
      "Fold 2/5 median val_accuracy: 0.5882353186607361, std val_accuracy 0.0\n",
      "Fold 2/5 median train_accuracy: 0.6296296119689941, train_accuracy 0.0\n",
      "\n",
      "Executing fold 3/5\n"
     ]
    },
    {
     "name": "stderr",
     "output_type": "stream",
     "text": [
      "100%|█████████████████████████████████████████████| 1/1 [00:00<00:00,  1.29it/s]\n"
     ]
    },
    {
     "name": "stdout",
     "output_type": "stream",
     "text": [
      "Fold 3/5 median val_loss: 0.2569238794444628, std val_loss 0.0\n",
      "Fold 3/5 median train_loss: 0.2291750013828277, std train_loss 0.0\n",
      "Fold 3/5 median val_accuracy: 0.5588235259056091, std val_accuracy 0.0\n",
      "Fold 3/5 median train_accuracy: 0.6370370388031006, train_accuracy 0.0\n",
      "\n",
      "Executing fold 4/5\n"
     ]
    },
    {
     "name": "stderr",
     "output_type": "stream",
     "text": [
      "100%|█████████████████████████████████████████████| 1/1 [00:00<00:00,  1.48it/s]\n"
     ]
    },
    {
     "name": "stdout",
     "output_type": "stream",
     "text": [
      "Fold 4/5 median val_loss: 0.2229534195929653, std val_loss 0.0\n",
      "Fold 4/5 median train_loss: 0.2277110666036605, std train_loss 0.0\n",
      "Fold 4/5 median val_accuracy: 0.7058823704719543, std val_accuracy 0.0\n",
      "Fold 4/5 median train_accuracy: 0.6074073910713196, train_accuracy 0.0\n",
      "\n",
      "Executing fold 5/5\n"
     ]
    },
    {
     "name": "stderr",
     "output_type": "stream",
     "text": [
      "100%|█████████████████████████████████████████████| 1/1 [00:00<00:00,  1.93it/s]\n"
     ]
    },
    {
     "name": "stdout",
     "output_type": "stream",
     "text": [
      "Fold 5/5 median val_loss: 0.2437313909366163, std val_loss 0.0\n",
      "Fold 5/5 median train_loss: 0.2234436422586441, std train_loss 0.0\n",
      "Fold 5/5 median val_accuracy: 0.5151515007019043, std val_accuracy 0.0\n",
      "Fold 5/5 median train_accuracy: 0.6470588445663452, train_accuracy 0.0\n",
      "\n",
      "Mean val_loss: 0.24377440928001137, std val_loss: 0.011283288128957906\n",
      "Mean train_loss: 0.22796012163162233, std train_loss: 0.0027588925026859642\n",
      "Mean val_accuracy: 0.5853832483291626, std val_accuracy: 0.0646088365900068\n",
      "Mean train_accuracy: 0.5853832483291626, std train_accuracy: 0.013321093334050847\n",
      "\n",
      "\n",
      "\n",
      "Testing configuration 5/25:\n",
      "{'batch_size': None, 'learning_rate': 0.1, 'max_epochs': 500, 'momentum': 0.9, 'initialization': {'type': 'default', 'min': -0.5, 'max': 0.5}, 'early_stopping': {'monitor': 'val_loss', 'patience': 20, 'delta': 0.0}, 'task': 'classification', 'trials_train': 1, 'trials_test': 10, 'nesterov': False, 'learning_rate_decay': None, 'regularization': {'method': None}, 'activations_1': 'relu', 'units_1': 8}\n",
      "\n",
      "Executing fold 1/5\n"
     ]
    },
    {
     "name": "stderr",
     "output_type": "stream",
     "text": [
      "100%|█████████████████████████████████████████████| 1/1 [00:00<00:00,  1.20it/s]\n"
     ]
    },
    {
     "name": "stdout",
     "output_type": "stream",
     "text": [
      "Fold 1/5 median val_loss: 0.2336122175066379, std val_loss 0.0\n",
      "Fold 1/5 median train_loss: 0.225592628121376, std train_loss 0.0\n",
      "Fold 1/5 median val_accuracy: 0.6176470518112183, std val_accuracy 0.0\n",
      "Fold 1/5 median train_accuracy: 0.6074073910713196, train_accuracy 0.0\n",
      "\n",
      "Executing fold 2/5\n"
     ]
    },
    {
     "name": "stderr",
     "output_type": "stream",
     "text": [
      "100%|█████████████████████████████████████████████| 1/1 [00:00<00:00,  2.49it/s]\n"
     ]
    },
    {
     "name": "stdout",
     "output_type": "stream",
     "text": [
      "Fold 2/5 median val_loss: 0.2559212802833921, std val_loss 0.0\n",
      "Fold 2/5 median train_loss: 0.2262637615203857, std train_loss 0.0\n",
      "Fold 2/5 median val_accuracy: 0.5588235259056091, std val_accuracy 0.0\n",
      "Fold 2/5 median train_accuracy: 0.6370370388031006, train_accuracy 0.0\n",
      "\n",
      "Executing fold 3/5\n"
     ]
    },
    {
     "name": "stderr",
     "output_type": "stream",
     "text": [
      "100%|█████████████████████████████████████████████| 1/1 [00:00<00:00,  2.13it/s]\n"
     ]
    },
    {
     "name": "stdout",
     "output_type": "stream",
     "text": [
      "Fold 3/5 median val_loss: 0.3098919048748064, std val_loss 0.0\n",
      "Fold 3/5 median train_loss: 0.2251668870449066, std train_loss 0.0\n",
      "Fold 3/5 median val_accuracy: 0.4705882370471954, std val_accuracy 0.0\n",
      "Fold 3/5 median train_accuracy: 0.6592592597007751, train_accuracy 0.0\n",
      "\n",
      "Executing fold 4/5\n"
     ]
    },
    {
     "name": "stderr",
     "output_type": "stream",
     "text": [
      "100%|█████████████████████████████████████████████| 1/1 [00:08<00:00,  8.75s/it]\n"
     ]
    },
    {
     "name": "stdout",
     "output_type": "stream",
     "text": [
      "Fold 4/5 median val_loss: 0.0014304680698783, std val_loss 0.0\n",
      "Fold 4/5 median train_loss: 0.0011969078332185, std train_loss 0.0\n",
      "Fold 4/5 median val_accuracy: 1.0, std val_accuracy 0.0\n",
      "Fold 4/5 median train_accuracy: 1.0, train_accuracy 0.0\n",
      "\n",
      "Executing fold 5/5\n"
     ]
    },
    {
     "name": "stderr",
     "output_type": "stream",
     "text": [
      "100%|█████████████████████████████████████████████| 1/1 [00:00<00:00,  1.52it/s]\n"
     ]
    },
    {
     "name": "stdout",
     "output_type": "stream",
     "text": [
      "Fold 5/5 median val_loss: 0.2142506783147036, std val_loss 0.0\n",
      "Fold 5/5 median train_loss: 0.2245578318834304, std train_loss 0.0\n",
      "Fold 5/5 median val_accuracy: 0.6969696879386902, std val_accuracy 0.0\n",
      "Fold 5/5 median train_accuracy: 0.625, train_accuracy 0.0\n",
      "\n",
      "Mean val_loss: 0.2030213098098837, std val_loss: 0.10575490607040511\n",
      "Mean train_loss: 0.18055560328066342, std train_loss: 0.08968107239533184\n",
      "Mean val_accuracy: 0.6688057005405426, std val_accuracy: 0.18137603099173805\n",
      "Mean train_accuracy: 0.6688057005405426, std train_accuracy: 0.14809304728580938\n",
      "\n",
      "\n",
      "\n",
      "Testing configuration 6/25:\n",
      "{'batch_size': None, 'learning_rate': 0.15, 'max_epochs': 500, 'momentum': 0.7, 'initialization': {'type': 'default', 'min': -0.5, 'max': 0.5}, 'early_stopping': {'monitor': 'val_loss', 'patience': 20, 'delta': 0.0}, 'task': 'classification', 'trials_train': 1, 'trials_test': 10, 'nesterov': False, 'learning_rate_decay': None, 'regularization': {'method': None}, 'activations_1': 'relu', 'units_1': 8}\n",
      "\n",
      "Executing fold 1/5\n"
     ]
    },
    {
     "name": "stderr",
     "output_type": "stream",
     "text": [
      "100%|█████████████████████████████████████████████| 1/1 [00:00<00:00,  3.10it/s]\n"
     ]
    },
    {
     "name": "stdout",
     "output_type": "stream",
     "text": [
      "Fold 1/5 median val_loss: 0.2924585862384738, std val_loss 0.0\n",
      "Fold 1/5 median train_loss: 0.2203655987977981, std train_loss 0.0\n",
      "Fold 1/5 median val_accuracy: 0.4411764740943908, std val_accuracy 0.0\n",
      "Fold 1/5 median train_accuracy: 0.6666666865348816, train_accuracy 0.0\n",
      "\n",
      "Executing fold 2/5\n"
     ]
    },
    {
     "name": "stderr",
     "output_type": "stream",
     "text": [
      "100%|█████████████████████████████████████████████| 1/1 [00:00<00:00,  1.90it/s]\n"
     ]
    },
    {
     "name": "stdout",
     "output_type": "stream",
     "text": [
      "Fold 2/5 median val_loss: 0.245896866787914, std val_loss 0.0\n",
      "Fold 2/5 median train_loss: 0.2304721921682357, std train_loss 0.0\n",
      "Fold 2/5 median val_accuracy: 0.5882353186607361, std val_accuracy 0.0\n",
      "Fold 2/5 median train_accuracy: 0.6296296119689941, train_accuracy 0.0\n",
      "\n",
      "Executing fold 3/5\n"
     ]
    },
    {
     "name": "stderr",
     "output_type": "stream",
     "text": [
      "100%|█████████████████████████████████████████████| 1/1 [00:08<00:00,  8.27s/it]\n"
     ]
    },
    {
     "name": "stdout",
     "output_type": "stream",
     "text": [
      "Fold 3/5 median val_loss: 0.0084567684688809, std val_loss 0.0\n",
      "Fold 3/5 median train_loss: 0.0064727095887064, std train_loss 0.0\n",
      "Fold 3/5 median val_accuracy: 1.0, std val_accuracy 0.0\n",
      "Fold 3/5 median train_accuracy: 1.0, train_accuracy 0.0\n",
      "\n",
      "Executing fold 4/5\n"
     ]
    },
    {
     "name": "stderr",
     "output_type": "stream",
     "text": [
      "100%|█████████████████████████████████████████████| 1/1 [00:09<00:00,  9.31s/it]\n"
     ]
    },
    {
     "name": "stdout",
     "output_type": "stream",
     "text": [
      "Fold 4/5 median val_loss: 0.012416642573099, std val_loss 0.0\n",
      "Fold 4/5 median train_loss: 0.0111068468540906, std train_loss 0.0\n",
      "Fold 4/5 median val_accuracy: 1.0, std val_accuracy 0.0\n",
      "Fold 4/5 median train_accuracy: 1.0, train_accuracy 0.0\n",
      "\n",
      "Executing fold 5/5\n"
     ]
    },
    {
     "name": "stderr",
     "output_type": "stream",
     "text": [
      "100%|█████████████████████████████████████████████| 1/1 [00:00<00:00,  1.70it/s]\n"
     ]
    },
    {
     "name": "stdout",
     "output_type": "stream",
     "text": [
      "Fold 5/5 median val_loss: 0.2519099228338836, std val_loss 0.0\n",
      "Fold 5/5 median train_loss: 0.2269436866044998, std train_loss 0.0\n",
      "Fold 5/5 median val_accuracy: 0.6666666865348816, std val_accuracy 0.0\n",
      "Fold 5/5 median train_accuracy: 0.6102941036224365, train_accuracy 0.0\n",
      "\n",
      "Mean val_loss: 0.16222775738045028, std val_loss: 0.12497389055732107\n",
      "Mean train_loss: 0.13907220680266613, std train_loss: 0.1064347028723508\n",
      "Mean val_accuracy: 0.7392156958580017, std val_accuracy: 0.22490118600643533\n",
      "Mean train_accuracy: 0.7392156958580017, std train_accuracy: 0.17946982928774022\n",
      "\n",
      "\n",
      "\n",
      "Testing configuration 7/25:\n",
      "{'batch_size': None, 'learning_rate': 0.15, 'max_epochs': 500, 'momentum': 0.75, 'initialization': {'type': 'default', 'min': -0.5, 'max': 0.5}, 'early_stopping': {'monitor': 'val_loss', 'patience': 20, 'delta': 0.0}, 'task': 'classification', 'trials_train': 1, 'trials_test': 10, 'nesterov': False, 'learning_rate_decay': None, 'regularization': {'method': None}, 'activations_1': 'relu', 'units_1': 8}\n",
      "\n",
      "Executing fold 1/5\n"
     ]
    },
    {
     "name": "stderr",
     "output_type": "stream",
     "text": [
      "100%|█████████████████████████████████████████████| 1/1 [00:00<00:00,  1.60it/s]\n"
     ]
    },
    {
     "name": "stdout",
     "output_type": "stream",
     "text": [
      "Fold 1/5 median val_loss: 0.228104536585712, std val_loss 0.0\n",
      "Fold 1/5 median train_loss: 0.2272918969392776, std train_loss 0.0\n",
      "Fold 1/5 median val_accuracy: 0.6176470518112183, std val_accuracy 0.0\n",
      "Fold 1/5 median train_accuracy: 0.6222222447395325, train_accuracy 0.0\n",
      "\n",
      "Executing fold 2/5\n"
     ]
    },
    {
     "name": "stderr",
     "output_type": "stream",
     "text": [
      "100%|█████████████████████████████████████████████| 1/1 [00:00<00:00,  2.43it/s]\n"
     ]
    },
    {
     "name": "stdout",
     "output_type": "stream",
     "text": [
      "Fold 2/5 median val_loss: 0.2541476210342754, std val_loss 0.0\n",
      "Fold 2/5 median train_loss: 0.2296519726514816, std train_loss 0.0\n",
      "Fold 2/5 median val_accuracy: 0.5588235259056091, std val_accuracy 0.0\n",
      "Fold 2/5 median train_accuracy: 0.6370370388031006, train_accuracy 0.0\n",
      "\n",
      "Executing fold 3/5\n"
     ]
    },
    {
     "name": "stderr",
     "output_type": "stream",
     "text": [
      "100%|█████████████████████████████████████████████| 1/1 [00:00<00:00,  2.76it/s]\n"
     ]
    },
    {
     "name": "stdout",
     "output_type": "stream",
     "text": [
      "Fold 3/5 median val_loss: 0.2105940247799115, std val_loss 0.0\n",
      "Fold 3/5 median train_loss: 0.2421470433473587, std train_loss 0.0\n",
      "Fold 3/5 median val_accuracy: 0.7941176295280457, std val_accuracy 0.0\n",
      "Fold 3/5 median train_accuracy: 0.5777778029441833, train_accuracy 0.0\n",
      "\n",
      "Executing fold 4/5\n"
     ]
    },
    {
     "name": "stderr",
     "output_type": "stream",
     "text": [
      "100%|█████████████████████████████████████████████| 1/1 [00:00<00:00,  2.58it/s]\n"
     ]
    },
    {
     "name": "stdout",
     "output_type": "stream",
     "text": [
      "Fold 4/5 median val_loss: 0.2533657641797982, std val_loss 0.0\n",
      "Fold 4/5 median train_loss: 0.2294297218322754, std train_loss 0.0\n",
      "Fold 4/5 median val_accuracy: 0.5588235259056091, std val_accuracy 0.0\n",
      "Fold 4/5 median train_accuracy: 0.6370370388031006, train_accuracy 0.0\n",
      "\n",
      "Executing fold 5/5\n"
     ]
    },
    {
     "name": "stderr",
     "output_type": "stream",
     "text": [
      "100%|█████████████████████████████████████████████| 1/1 [00:10<00:00, 10.45s/it]\n"
     ]
    },
    {
     "name": "stdout",
     "output_type": "stream",
     "text": [
      "Fold 5/5 median val_loss: 0.0098287077736126, std val_loss 0.0\n",
      "Fold 5/5 median train_loss: 0.006562705617398, std train_loss 0.0\n",
      "Fold 5/5 median val_accuracy: 1.0, std val_accuracy 0.0\n",
      "Fold 5/5 median train_accuracy: 1.0, train_accuracy 0.0\n",
      "\n",
      "Mean val_loss: 0.19120813087066196, std val_loss: 0.09215270322786775\n",
      "Mean train_loss: 0.18701666807755826, std train_loss: 0.09037889270149037\n",
      "Mean val_accuracy: 0.7058823466300964, std val_accuracy: 0.1704867853702615\n",
      "Mean train_accuracy: 0.7058823466300964, std train_accuracy: 0.15413103739090062\n",
      "\n",
      "\n",
      "\n",
      "Testing configuration 8/25:\n",
      "{'batch_size': None, 'learning_rate': 0.15, 'max_epochs': 500, 'momentum': 0.8, 'initialization': {'type': 'default', 'min': -0.5, 'max': 0.5}, 'early_stopping': {'monitor': 'val_loss', 'patience': 20, 'delta': 0.0}, 'task': 'classification', 'trials_train': 1, 'trials_test': 10, 'nesterov': False, 'learning_rate_decay': None, 'regularization': {'method': None}, 'activations_1': 'relu', 'units_1': 8}\n",
      "\n",
      "Executing fold 1/5\n"
     ]
    },
    {
     "name": "stderr",
     "output_type": "stream",
     "text": [
      "100%|█████████████████████████████████████████████| 1/1 [00:00<00:00,  1.93it/s]\n"
     ]
    },
    {
     "name": "stdout",
     "output_type": "stream",
     "text": [
      "Fold 1/5 median val_loss: 0.247933202403485, std val_loss 0.0\n",
      "Fold 1/5 median train_loss: 0.2246590554714203, std train_loss 0.0\n",
      "Fold 1/5 median val_accuracy: 0.5882353186607361, std val_accuracy 0.0\n",
      "Fold 1/5 median train_accuracy: 0.6296296119689941, train_accuracy 0.0\n",
      "\n",
      "Executing fold 2/5\n"
     ]
    },
    {
     "name": "stderr",
     "output_type": "stream",
     "text": [
      "100%|█████████████████████████████████████████████| 1/1 [00:00<00:00,  1.63it/s]\n"
     ]
    },
    {
     "name": "stdout",
     "output_type": "stream",
     "text": [
      "Fold 2/5 median val_loss: 0.2390463159986363, std val_loss 0.0\n",
      "Fold 2/5 median train_loss: 0.2349809855222702, std train_loss 0.0\n",
      "Fold 2/5 median val_accuracy: 0.6176470518112183, std val_accuracy 0.0\n",
      "Fold 2/5 median train_accuracy: 0.6222222447395325, train_accuracy 0.0\n",
      "\n",
      "Executing fold 3/5\n"
     ]
    },
    {
     "name": "stderr",
     "output_type": "stream",
     "text": [
      "100%|█████████████████████████████████████████████| 1/1 [00:00<00:00,  2.88it/s]\n"
     ]
    },
    {
     "name": "stdout",
     "output_type": "stream",
     "text": [
      "Fold 3/5 median val_loss: 0.206629583711671, std val_loss 0.0\n",
      "Fold 3/5 median train_loss: 0.2402743846178054, std train_loss 0.0\n",
      "Fold 3/5 median val_accuracy: 0.8235294222831726, std val_accuracy 0.0\n",
      "Fold 3/5 median train_accuracy: 0.5703703761100769, train_accuracy 0.0\n",
      "\n",
      "Executing fold 4/5\n"
     ]
    },
    {
     "name": "stderr",
     "output_type": "stream",
     "text": [
      "100%|█████████████████████████████████████████████| 1/1 [00:00<00:00,  2.75it/s]\n"
     ]
    },
    {
     "name": "stdout",
     "output_type": "stream",
     "text": [
      "Fold 4/5 median val_loss: 0.2843809742567519, std val_loss 0.0\n",
      "Fold 4/5 median train_loss: 0.2221521884202957, std train_loss 0.0\n",
      "Fold 4/5 median val_accuracy: 0.4705882370471954, std val_accuracy 0.0\n",
      "Fold 4/5 median train_accuracy: 0.6592592597007751, train_accuracy 0.0\n",
      "\n",
      "Executing fold 5/5\n"
     ]
    },
    {
     "name": "stderr",
     "output_type": "stream",
     "text": [
      "100%|█████████████████████████████████████████████| 1/1 [00:08<00:00,  8.45s/it]\n"
     ]
    },
    {
     "name": "stdout",
     "output_type": "stream",
     "text": [
      "Fold 5/5 median val_loss: 0.0024470810984809, std val_loss 0.0\n",
      "Fold 5/5 median train_loss: 0.0027210847474634, std train_loss 0.0\n",
      "Fold 5/5 median val_accuracy: 1.0, std val_accuracy 0.0\n",
      "Fold 5/5 median train_accuracy: 1.0, train_accuracy 0.0\n",
      "\n",
      "Mean val_loss: 0.196087431493805, std val_loss: 0.09993690178043277\n",
      "Mean train_loss: 0.184957539755851, std train_loss: 0.09135871740040635\n",
      "Mean val_accuracy: 0.7000000059604645, std val_accuracy: 0.18823529276996884\n",
      "Mean train_accuracy: 0.7000000059604645, std train_accuracy: 0.1545292406058487\n",
      "\n",
      "\n",
      "\n",
      "Testing configuration 9/25:\n",
      "{'batch_size': None, 'learning_rate': 0.15, 'max_epochs': 500, 'momentum': 0.85, 'initialization': {'type': 'default', 'min': -0.5, 'max': 0.5}, 'early_stopping': {'monitor': 'val_loss', 'patience': 20, 'delta': 0.0}, 'task': 'classification', 'trials_train': 1, 'trials_test': 10, 'nesterov': False, 'learning_rate_decay': None, 'regularization': {'method': None}, 'activations_1': 'relu', 'units_1': 8}\n",
      "\n",
      "Executing fold 1/5\n"
     ]
    },
    {
     "name": "stderr",
     "output_type": "stream",
     "text": [
      "100%|█████████████████████████████████████████████| 1/1 [00:00<00:00,  1.80it/s]\n"
     ]
    },
    {
     "name": "stdout",
     "output_type": "stream",
     "text": [
      "Fold 1/5 median val_loss: 0.2306618207726363, std val_loss 0.0\n",
      "Fold 1/5 median train_loss: 0.2325589656829834, std train_loss 0.0\n",
      "Fold 1/5 median val_accuracy: 0.6470588445663452, std val_accuracy 0.0\n",
      "Fold 1/5 median train_accuracy: 0.614814817905426, train_accuracy 0.0\n",
      "\n",
      "Executing fold 2/5\n"
     ]
    },
    {
     "name": "stderr",
     "output_type": "stream",
     "text": [
      "100%|█████████████████████████████████████████████| 1/1 [00:00<00:00,  1.90it/s]\n"
     ]
    },
    {
     "name": "stdout",
     "output_type": "stream",
     "text": [
      "Fold 2/5 median val_loss: 0.2398408615341163, std val_loss 0.0\n",
      "Fold 2/5 median train_loss: 0.2214771062135696, std train_loss 0.0\n",
      "Fold 2/5 median val_accuracy: 0.5882353186607361, std val_accuracy 0.0\n",
      "Fold 2/5 median train_accuracy: 0.6370370388031006, train_accuracy 0.0\n",
      "\n",
      "Executing fold 3/5\n"
     ]
    },
    {
     "name": "stderr",
     "output_type": "stream",
     "text": [
      "100%|█████████████████████████████████████████████| 1/1 [00:11<00:00, 11.35s/it]\n"
     ]
    },
    {
     "name": "stdout",
     "output_type": "stream",
     "text": [
      "Fold 3/5 median val_loss: 0.0027096954716856, std val_loss 0.0\n",
      "Fold 3/5 median train_loss: 0.0013090858701616, std train_loss 0.0\n",
      "Fold 3/5 median val_accuracy: 1.0, std val_accuracy 0.0\n",
      "Fold 3/5 median train_accuracy: 1.0, train_accuracy 0.0\n",
      "\n",
      "Executing fold 4/5\n"
     ]
    },
    {
     "name": "stderr",
     "output_type": "stream",
     "text": [
      "100%|█████████████████████████████████████████████| 1/1 [00:00<00:00,  2.72it/s]\n"
     ]
    },
    {
     "name": "stdout",
     "output_type": "stream",
     "text": [
      "Fold 4/5 median val_loss: 0.296314327646749, std val_loss 0.0\n",
      "Fold 4/5 median train_loss: 0.2206261456012725, std train_loss 0.0\n",
      "Fold 4/5 median val_accuracy: 0.4705882370471954, std val_accuracy 0.0\n",
      "Fold 4/5 median train_accuracy: 0.6592592597007751, train_accuracy 0.0\n",
      "\n",
      "Executing fold 5/5\n"
     ]
    },
    {
     "name": "stderr",
     "output_type": "stream",
     "text": [
      "100%|█████████████████████████████████████████████| 1/1 [00:10<00:00, 10.18s/it]\n"
     ]
    },
    {
     "name": "stdout",
     "output_type": "stream",
     "text": [
      "Fold 5/5 median val_loss: 0.0015099698567997, std val_loss 0.0\n",
      "Fold 5/5 median train_loss: 0.0012836839305236, std train_loss 0.0\n",
      "Fold 5/5 median val_accuracy: 1.0, std val_accuracy 0.0\n",
      "Fold 5/5 median train_accuracy: 1.0, train_accuracy 0.0\n",
      "\n",
      "Mean val_loss: 0.1542073350563974, std val_loss: 0.12620681972449632\n",
      "Mean train_loss: 0.13545099745970215, std train_loss: 0.10961767668150744\n",
      "Mean val_accuracy: 0.7411764800548554, std val_accuracy: 0.21883617359389737\n",
      "Mean train_accuracy: 0.7411764800548554, std train_accuracy: 0.17836938506606811\n",
      "\n",
      "\n",
      "\n",
      "Testing configuration 10/25:\n",
      "{'batch_size': None, 'learning_rate': 0.15, 'max_epochs': 500, 'momentum': 0.9, 'initialization': {'type': 'default', 'min': -0.5, 'max': 0.5}, 'early_stopping': {'monitor': 'val_loss', 'patience': 20, 'delta': 0.0}, 'task': 'classification', 'trials_train': 1, 'trials_test': 10, 'nesterov': False, 'learning_rate_decay': None, 'regularization': {'method': None}, 'activations_1': 'relu', 'units_1': 8}\n",
      "\n",
      "Executing fold 1/5\n"
     ]
    },
    {
     "name": "stderr",
     "output_type": "stream",
     "text": [
      "100%|█████████████████████████████████████████████| 1/1 [00:09<00:00, 10.00s/it]\n"
     ]
    },
    {
     "name": "stdout",
     "output_type": "stream",
     "text": [
      "Fold 1/5 median val_loss: 0.0021653334694397, std val_loss 0.0\n",
      "Fold 1/5 median train_loss: 0.0006656235200352, std train_loss 0.0\n",
      "Fold 1/5 median val_accuracy: 1.0, std val_accuracy 0.0\n",
      "Fold 1/5 median train_accuracy: 1.0, train_accuracy 0.0\n",
      "\n",
      "Executing fold 2/5\n"
     ]
    },
    {
     "name": "stderr",
     "output_type": "stream",
     "text": [
      "100%|█████████████████████████████████████████████| 1/1 [00:00<00:00,  1.78it/s]\n"
     ]
    },
    {
     "name": "stdout",
     "output_type": "stream",
     "text": [
      "Fold 2/5 median val_loss: 0.2312470803856012, std val_loss 0.0\n",
      "Fold 2/5 median train_loss: 0.2329253852367401, std train_loss 0.0\n",
      "Fold 2/5 median val_accuracy: 0.7058823704719543, std val_accuracy 0.0\n",
      "Fold 2/5 median train_accuracy: 0.6000000238418579, train_accuracy 0.0\n",
      "\n",
      "Executing fold 3/5\n"
     ]
    },
    {
     "name": "stderr",
     "output_type": "stream",
     "text": [
      "100%|█████████████████████████████████████████████| 1/1 [00:08<00:00,  8.90s/it]\n"
     ]
    },
    {
     "name": "stdout",
     "output_type": "stream",
     "text": [
      "Fold 3/5 median val_loss: 0.000573806934234, std val_loss 0.0\n",
      "Fold 3/5 median train_loss: 0.0006285300478339, std train_loss 0.0\n",
      "Fold 3/5 median val_accuracy: 1.0, std val_accuracy 0.0\n",
      "Fold 3/5 median train_accuracy: 1.0, train_accuracy 0.0\n",
      "\n",
      "Executing fold 4/5\n"
     ]
    },
    {
     "name": "stderr",
     "output_type": "stream",
     "text": [
      "100%|█████████████████████████████████████████████| 1/1 [00:00<00:00,  2.76it/s]\n"
     ]
    },
    {
     "name": "stdout",
     "output_type": "stream",
     "text": [
      "Fold 4/5 median val_loss: 0.2665991016008958, std val_loss 0.0\n",
      "Fold 4/5 median train_loss: 0.2237247228622436, std train_loss 0.0\n",
      "Fold 4/5 median val_accuracy: 0.5588235259056091, std val_accuracy 0.0\n",
      "Fold 4/5 median train_accuracy: 0.6370370388031006, train_accuracy 0.0\n",
      "\n",
      "Executing fold 5/5\n"
     ]
    },
    {
     "name": "stderr",
     "output_type": "stream",
     "text": [
      "100%|█████████████████████████████████████████████| 1/1 [00:00<00:00,  2.63it/s]\n"
     ]
    },
    {
     "name": "stdout",
     "output_type": "stream",
     "text": [
      "Fold 5/5 median val_loss: 0.2505908782035734, std val_loss 0.0\n",
      "Fold 5/5 median train_loss: 0.2238524854183197, std train_loss 0.0\n",
      "Fold 5/5 median val_accuracy: 0.5454545617103577, std val_accuracy 0.0\n",
      "Fold 5/5 median train_accuracy: 0.6397058963775635, train_accuracy 0.0\n",
      "\n",
      "Mean val_loss: 0.15023524011874884, std val_loss: 0.12206388692471552\n",
      "Mean train_loss: 0.13635934941703448, std train_loss: 0.11085882840165455\n",
      "Mean val_accuracy: 0.7620320916175842, std val_accuracy: 0.20229176437214114\n",
      "Mean train_accuracy: 0.7620320916175842, std train_accuracy: 0.18396339701763242\n",
      "\n",
      "\n",
      "\n",
      "Testing configuration 11/25:\n",
      "{'batch_size': None, 'learning_rate': 0.2, 'max_epochs': 500, 'momentum': 0.7, 'initialization': {'type': 'default', 'min': -0.5, 'max': 0.5}, 'early_stopping': {'monitor': 'val_loss', 'patience': 20, 'delta': 0.0}, 'task': 'classification', 'trials_train': 1, 'trials_test': 10, 'nesterov': False, 'learning_rate_decay': None, 'regularization': {'method': None}, 'activations_1': 'relu', 'units_1': 8}\n",
      "\n",
      "Executing fold 1/5\n"
     ]
    },
    {
     "name": "stderr",
     "output_type": "stream",
     "text": [
      "100%|█████████████████████████████████████████████| 1/1 [00:00<00:00,  2.03it/s]\n"
     ]
    },
    {
     "name": "stdout",
     "output_type": "stream",
     "text": [
      "Fold 1/5 median val_loss: 0.2156474165044928, std val_loss 0.0\n",
      "Fold 1/5 median train_loss: 0.2346277087926864, std train_loss 0.0\n",
      "Fold 1/5 median val_accuracy: 0.7058823704719543, std val_accuracy 0.0\n",
      "Fold 1/5 median train_accuracy: 0.6000000238418579, train_accuracy 0.0\n",
      "\n",
      "Executing fold 2/5\n"
     ]
    },
    {
     "name": "stderr",
     "output_type": "stream",
     "text": [
      "100%|█████████████████████████████████████████████| 1/1 [00:00<00:00,  1.82it/s]\n"
     ]
    },
    {
     "name": "stdout",
     "output_type": "stream",
     "text": [
      "Fold 2/5 median val_loss: 0.2348277264952793, std val_loss 0.0\n",
      "Fold 2/5 median train_loss: 0.2247858047485351, std train_loss 0.0\n",
      "Fold 2/5 median val_accuracy: 0.6764705777168274, std val_accuracy 0.0\n",
      "Fold 2/5 median train_accuracy: 0.6074073910713196, train_accuracy 0.0\n",
      "\n",
      "Executing fold 3/5\n"
     ]
    },
    {
     "name": "stderr",
     "output_type": "stream",
     "text": [
      "100%|█████████████████████████████████████████████| 1/1 [00:00<00:00,  2.29it/s]\n"
     ]
    },
    {
     "name": "stdout",
     "output_type": "stream",
     "text": [
      "Fold 3/5 median val_loss: 0.2470215855547567, std val_loss 0.0\n",
      "Fold 3/5 median train_loss: 0.2301437109708786, std train_loss 0.0\n",
      "Fold 3/5 median val_accuracy: 0.5882353186607361, std val_accuracy 0.0\n",
      "Fold 3/5 median train_accuracy: 0.6296296119689941, train_accuracy 0.0\n",
      "\n",
      "Executing fold 4/5\n"
     ]
    },
    {
     "name": "stderr",
     "output_type": "stream",
     "text": [
      "100%|█████████████████████████████████████████████| 1/1 [00:00<00:00,  3.47it/s]\n"
     ]
    },
    {
     "name": "stdout",
     "output_type": "stream",
     "text": [
      "Fold 4/5 median val_loss: 0.2902954665816579, std val_loss 0.0\n",
      "Fold 4/5 median train_loss: 0.2148245573043823, std train_loss 0.0\n",
      "Fold 4/5 median val_accuracy: 0.4411764740943908, std val_accuracy 0.0\n",
      "Fold 4/5 median train_accuracy: 0.6666666865348816, train_accuracy 0.0\n",
      "\n",
      "Executing fold 5/5\n"
     ]
    },
    {
     "name": "stderr",
     "output_type": "stream",
     "text": [
      "100%|█████████████████████████████████████████████| 1/1 [00:00<00:00,  1.66it/s]\n"
     ]
    },
    {
     "name": "stdout",
     "output_type": "stream",
     "text": [
      "Fold 5/5 median val_loss: 0.2275536937704852, std val_loss 0.0\n",
      "Fold 5/5 median train_loss: 0.2300819456577301, std train_loss 0.0\n",
      "Fold 5/5 median val_accuracy: 0.6666666865348816, std val_accuracy 0.0\n",
      "Fold 5/5 median train_accuracy: 0.6102941036224365, train_accuracy 0.0\n",
      "\n",
      "Mean val_loss: 0.24306917778133438, std val_loss: 0.025715943054744835\n",
      "Mean train_loss: 0.22689274549484253, std train_loss: 0.006791903958878493\n",
      "Mean val_accuracy: 0.6156862854957581, std val_accuracy: 0.0955366893622316\n",
      "Mean train_accuracy: 0.6156862854957581, std train_accuracy: 0.024017071232325653\n",
      "\n",
      "\n",
      "\n",
      "Testing configuration 12/25:\n",
      "{'batch_size': None, 'learning_rate': 0.2, 'max_epochs': 500, 'momentum': 0.75, 'initialization': {'type': 'default', 'min': -0.5, 'max': 0.5}, 'early_stopping': {'monitor': 'val_loss', 'patience': 20, 'delta': 0.0}, 'task': 'classification', 'trials_train': 1, 'trials_test': 10, 'nesterov': False, 'learning_rate_decay': None, 'regularization': {'method': None}, 'activations_1': 'relu', 'units_1': 8}\n",
      "\n",
      "Executing fold 1/5\n"
     ]
    },
    {
     "name": "stderr",
     "output_type": "stream",
     "text": [
      "100%|█████████████████████████████████████████████| 1/1 [00:09<00:00,  9.50s/it]\n"
     ]
    },
    {
     "name": "stdout",
     "output_type": "stream",
     "text": [
      "Fold 1/5 median val_loss: 0.0045701818775941, std val_loss 0.0\n",
      "Fold 1/5 median train_loss: 0.0030905159655958, std train_loss 0.0\n",
      "Fold 1/5 median val_accuracy: 1.0, std val_accuracy 0.0\n",
      "Fold 1/5 median train_accuracy: 1.0, train_accuracy 0.0\n",
      "\n",
      "Executing fold 2/5\n"
     ]
    },
    {
     "name": "stderr",
     "output_type": "stream",
     "text": [
      "100%|█████████████████████████████████████████████| 1/1 [00:00<00:00,  3.46it/s]\n"
     ]
    },
    {
     "name": "stdout",
     "output_type": "stream",
     "text": [
      "Fold 2/5 median val_loss: 0.268062821222043, std val_loss 0.0\n",
      "Fold 2/5 median train_loss: 0.2241676300764084, std train_loss 0.0\n",
      "Fold 2/5 median val_accuracy: 0.529411792755127, std val_accuracy 0.0\n",
      "Fold 2/5 median train_accuracy: 0.644444465637207, train_accuracy 0.0\n",
      "\n",
      "Executing fold 3/5\n"
     ]
    },
    {
     "name": "stderr",
     "output_type": "stream",
     "text": [
      "100%|█████████████████████████████████████████████| 1/1 [00:00<00:00,  2.42it/s]\n"
     ]
    },
    {
     "name": "stdout",
     "output_type": "stream",
     "text": [
      "Fold 3/5 median val_loss: 0.2547063552296007, std val_loss 0.0\n",
      "Fold 3/5 median train_loss: 0.2249976396560669, std train_loss 0.0\n",
      "Fold 3/5 median val_accuracy: 0.5588235259056091, std val_accuracy 0.0\n",
      "Fold 3/5 median train_accuracy: 0.6370370388031006, train_accuracy 0.0\n",
      "\n",
      "Executing fold 4/5\n"
     ]
    },
    {
     "name": "stderr",
     "output_type": "stream",
     "text": [
      "100%|█████████████████████████████████████████████| 1/1 [00:09<00:00,  9.21s/it]\n"
     ]
    },
    {
     "name": "stdout",
     "output_type": "stream",
     "text": [
      "Fold 4/5 median val_loss: 0.0118673066535231, std val_loss 0.0\n",
      "Fold 4/5 median train_loss: 0.0071501317434012, std train_loss 0.0\n",
      "Fold 4/5 median val_accuracy: 1.0, std val_accuracy 0.0\n",
      "Fold 4/5 median train_accuracy: 1.0, train_accuracy 0.0\n",
      "\n",
      "Executing fold 5/5\n"
     ]
    },
    {
     "name": "stderr",
     "output_type": "stream",
     "text": [
      "100%|█████████████████████████████████████████████| 1/1 [00:08<00:00,  8.89s/it]\n"
     ]
    },
    {
     "name": "stdout",
     "output_type": "stream",
     "text": [
      "Fold 5/5 median val_loss: 0.0033350109170583, std val_loss 0.0\n",
      "Fold 5/5 median train_loss: 0.0028314611408859, std train_loss 0.0\n",
      "Fold 5/5 median val_accuracy: 1.0, std val_accuracy 0.0\n",
      "Fold 5/5 median train_accuracy: 1.0, train_accuracy 0.0\n",
      "\n",
      "Mean val_loss: 0.10850833517996386, std val_loss: 0.12492842056605981\n",
      "Mean train_loss: 0.09244747571647163, std train_loss: 0.10789909938290558\n",
      "Mean val_accuracy: 0.8176470637321472, std val_accuracy: 0.22352940534290536\n",
      "Mean train_accuracy: 0.8176470637321472, std train_accuracy: 0.17601595582478335\n",
      "\n",
      "\n",
      "\n",
      "Testing configuration 13/25:\n",
      "{'batch_size': None, 'learning_rate': 0.2, 'max_epochs': 500, 'momentum': 0.8, 'initialization': {'type': 'default', 'min': -0.5, 'max': 0.5}, 'early_stopping': {'monitor': 'val_loss', 'patience': 20, 'delta': 0.0}, 'task': 'classification', 'trials_train': 1, 'trials_test': 10, 'nesterov': False, 'learning_rate_decay': None, 'regularization': {'method': None}, 'activations_1': 'relu', 'units_1': 8}\n",
      "\n",
      "Executing fold 1/5\n"
     ]
    },
    {
     "name": "stderr",
     "output_type": "stream",
     "text": [
      "100%|█████████████████████████████████████████████| 1/1 [00:00<00:00,  1.98it/s]\n"
     ]
    },
    {
     "name": "stdout",
     "output_type": "stream",
     "text": [
      "Fold 1/5 median val_loss: 0.2490695531394826, std val_loss 0.0\n",
      "Fold 1/5 median train_loss: 0.2234359979629516, std train_loss 0.0\n",
      "Fold 1/5 median val_accuracy: 0.6176470518112183, std val_accuracy 0.0\n",
      "Fold 1/5 median train_accuracy: 0.614814817905426, train_accuracy 0.0\n",
      "\n",
      "Executing fold 2/5\n"
     ]
    },
    {
     "name": "stderr",
     "output_type": "stream",
     "text": [
      "100%|█████████████████████████████████████████████| 1/1 [00:00<00:00,  2.48it/s]\n"
     ]
    },
    {
     "name": "stdout",
     "output_type": "stream",
     "text": [
      "Fold 2/5 median val_loss: 0.24701335643492, std val_loss 0.0\n",
      "Fold 2/5 median train_loss: 0.2237008064985275, std train_loss 0.0\n",
      "Fold 2/5 median val_accuracy: 0.5882353186607361, std val_accuracy 0.0\n",
      "Fold 2/5 median train_accuracy: 0.6370370388031006, train_accuracy 0.0\n",
      "\n",
      "Executing fold 3/5\n"
     ]
    },
    {
     "name": "stderr",
     "output_type": "stream",
     "text": [
      "100%|█████████████████████████████████████████████| 1/1 [00:00<00:00,  2.34it/s]\n"
     ]
    },
    {
     "name": "stdout",
     "output_type": "stream",
     "text": [
      "Fold 3/5 median val_loss: 0.2764148227123186, std val_loss 0.0\n",
      "Fold 3/5 median train_loss: 0.2221127301454544, std train_loss 0.0\n",
      "Fold 3/5 median val_accuracy: 0.529411792755127, std val_accuracy 0.0\n",
      "Fold 3/5 median train_accuracy: 0.644444465637207, train_accuracy 0.0\n",
      "\n",
      "Executing fold 4/5\n"
     ]
    },
    {
     "name": "stderr",
     "output_type": "stream",
     "text": [
      "100%|█████████████████████████████████████████████| 1/1 [00:08<00:00,  8.33s/it]\n"
     ]
    },
    {
     "name": "stdout",
     "output_type": "stream",
     "text": [
      "Fold 4/5 median val_loss: 0.0091414860506723, std val_loss 0.0\n",
      "Fold 4/5 median train_loss: 0.005115183070302, std train_loss 0.0\n",
      "Fold 4/5 median val_accuracy: 1.0, std val_accuracy 0.0\n",
      "Fold 4/5 median train_accuracy: 1.0, train_accuracy 0.0\n",
      "\n",
      "Executing fold 5/5\n"
     ]
    },
    {
     "name": "stderr",
     "output_type": "stream",
     "text": [
      "100%|█████████████████████████████████████████████| 1/1 [00:07<00:00,  7.90s/it]\n"
     ]
    },
    {
     "name": "stdout",
     "output_type": "stream",
     "text": [
      "Fold 5/5 median val_loss: 0.0016531899590451, std val_loss 0.0\n",
      "Fold 5/5 median train_loss: 0.0012740856036543, std train_loss 0.0\n",
      "Fold 5/5 median val_accuracy: 1.0, std val_accuracy 0.0\n",
      "Fold 5/5 median train_accuracy: 1.0, train_accuracy 0.0\n",
      "\n",
      "Mean val_loss: 0.15665848165928772, std val_loss: 0.1239623291155158\n",
      "Mean train_loss: 0.13512776065617796, std train_loss: 0.10773113830147787\n",
      "Mean val_accuracy: 0.7470588326454163, std val_accuracy: 0.20847111064678706\n",
      "Mean train_accuracy: 0.7470588326454163, std train_accuracy: 0.18049770752480637\n",
      "\n",
      "\n",
      "\n",
      "Testing configuration 14/25:\n",
      "{'batch_size': None, 'learning_rate': 0.2, 'max_epochs': 500, 'momentum': 0.85, 'initialization': {'type': 'default', 'min': -0.5, 'max': 0.5}, 'early_stopping': {'monitor': 'val_loss', 'patience': 20, 'delta': 0.0}, 'task': 'classification', 'trials_train': 1, 'trials_test': 10, 'nesterov': False, 'learning_rate_decay': None, 'regularization': {'method': None}, 'activations_1': 'relu', 'units_1': 8}\n",
      "\n",
      "Executing fold 1/5\n"
     ]
    },
    {
     "name": "stderr",
     "output_type": "stream",
     "text": [
      "100%|█████████████████████████████████████████████| 1/1 [00:09<00:00,  9.25s/it]\n"
     ]
    },
    {
     "name": "stdout",
     "output_type": "stream",
     "text": [
      "Fold 1/5 median val_loss: 0.0008338393684911, std val_loss 0.0\n",
      "Fold 1/5 median train_loss: 0.0010352969402447, std train_loss 0.0\n",
      "Fold 1/5 median val_accuracy: 1.0, std val_accuracy 0.0\n",
      "Fold 1/5 median train_accuracy: 1.0, train_accuracy 0.0\n",
      "\n",
      "Executing fold 2/5\n"
     ]
    },
    {
     "name": "stderr",
     "output_type": "stream",
     "text": [
      "100%|█████████████████████████████████████████████| 1/1 [00:00<00:00,  1.97it/s]\n"
     ]
    },
    {
     "name": "stdout",
     "output_type": "stream",
     "text": [
      "Fold 2/5 median val_loss: 0.2202448274085199, std val_loss 0.0\n",
      "Fold 2/5 median train_loss: 0.2238286286592483, std train_loss 0.0\n",
      "Fold 2/5 median val_accuracy: 0.6764705777168274, std val_accuracy 0.0\n",
      "Fold 2/5 median train_accuracy: 0.6000000238418579, train_accuracy 0.0\n",
      "\n",
      "Executing fold 3/5\n"
     ]
    },
    {
     "name": "stderr",
     "output_type": "stream",
     "text": [
      "100%|█████████████████████████████████████████████| 1/1 [00:00<00:00,  2.93it/s]\n"
     ]
    },
    {
     "name": "stdout",
     "output_type": "stream",
     "text": [
      "Fold 3/5 median val_loss: 0.2669938119670399, std val_loss 0.0\n",
      "Fold 3/5 median train_loss: 0.2274705171585083, std train_loss 0.0\n",
      "Fold 3/5 median val_accuracy: 0.529411792755127, std val_accuracy 0.0\n",
      "Fold 3/5 median train_accuracy: 0.644444465637207, train_accuracy 0.0\n",
      "\n",
      "Executing fold 4/5\n"
     ]
    },
    {
     "name": "stderr",
     "output_type": "stream",
     "text": [
      "100%|█████████████████████████████████████████████| 1/1 [00:00<00:00,  2.79it/s]\n"
     ]
    },
    {
     "name": "stdout",
     "output_type": "stream",
     "text": [
      "Fold 4/5 median val_loss: 0.2488133175571874, std val_loss 0.0\n",
      "Fold 4/5 median train_loss: 0.2211171686649322, std train_loss 0.0\n",
      "Fold 4/5 median val_accuracy: 0.5882353186607361, std val_accuracy 0.0\n",
      "Fold 4/5 median train_accuracy: 0.6296296119689941, train_accuracy 0.0\n",
      "\n",
      "Executing fold 5/5\n"
     ]
    },
    {
     "name": "stderr",
     "output_type": "stream",
     "text": [
      "100%|█████████████████████████████████████████████| 1/1 [00:00<00:00,  2.76it/s]\n"
     ]
    },
    {
     "name": "stdout",
     "output_type": "stream",
     "text": [
      "Fold 5/5 median val_loss: 0.2533834775519436, std val_loss 0.0\n",
      "Fold 5/5 median train_loss: 0.2256132364273071, std train_loss 0.0\n",
      "Fold 5/5 median val_accuracy: 0.5454545617103577, std val_accuracy 0.0\n",
      "Fold 5/5 median train_accuracy: 0.6397058963775635, train_accuracy 0.0\n",
      "\n",
      "Mean val_loss: 0.1980538547706364, std val_loss: 0.09977853642901431\n",
      "Mean train_loss: 0.1798129695700481, std train_loss: 0.08941339678728033\n",
      "Mean val_accuracy: 0.6679144501686096, std val_accuracy: 0.1737136690736174\n",
      "Mean train_accuracy: 0.6679144501686096, std train_accuracy: 0.14942275958181006\n",
      "\n",
      "\n",
      "\n",
      "Testing configuration 15/25:\n",
      "{'batch_size': None, 'learning_rate': 0.2, 'max_epochs': 500, 'momentum': 0.9, 'initialization': {'type': 'default', 'min': -0.5, 'max': 0.5}, 'early_stopping': {'monitor': 'val_loss', 'patience': 20, 'delta': 0.0}, 'task': 'classification', 'trials_train': 1, 'trials_test': 10, 'nesterov': False, 'learning_rate_decay': None, 'regularization': {'method': None}, 'activations_1': 'relu', 'units_1': 8}\n",
      "\n",
      "Executing fold 1/5\n"
     ]
    },
    {
     "name": "stderr",
     "output_type": "stream",
     "text": [
      "100%|█████████████████████████████████████████████| 1/1 [00:00<00:00,  2.50it/s]\n"
     ]
    },
    {
     "name": "stdout",
     "output_type": "stream",
     "text": [
      "Fold 1/5 median val_loss: 0.2578760792066024, std val_loss 0.0\n",
      "Fold 1/5 median train_loss: 0.2250917702913284, std train_loss 0.0\n",
      "Fold 1/5 median val_accuracy: 0.5882353186607361, std val_accuracy 0.0\n",
      "Fold 1/5 median train_accuracy: 0.6296296119689941, train_accuracy 0.0\n",
      "\n",
      "Executing fold 2/5\n"
     ]
    },
    {
     "name": "stderr",
     "output_type": "stream",
     "text": [
      "100%|█████████████████████████████████████████████| 1/1 [00:00<00:00,  1.49it/s]\n"
     ]
    },
    {
     "name": "stdout",
     "output_type": "stream",
     "text": [
      "Fold 2/5 median val_loss: 0.2348596268661135, std val_loss 0.0\n",
      "Fold 2/5 median train_loss: 0.2234457582235336, std train_loss 0.0\n",
      "Fold 2/5 median val_accuracy: 0.6470588445663452, std val_accuracy 0.0\n",
      "Fold 2/5 median train_accuracy: 0.6370370388031006, train_accuracy 0.0\n",
      "\n",
      "Executing fold 3/5\n"
     ]
    },
    {
     "name": "stderr",
     "output_type": "stream",
     "text": [
      "100%|█████████████████████████████████████████████| 1/1 [00:09<00:00,  9.93s/it]\n"
     ]
    },
    {
     "name": "stdout",
     "output_type": "stream",
     "text": [
      "Fold 3/5 median val_loss: 0.0034878037756694, std val_loss 0.0\n",
      "Fold 3/5 median train_loss: 0.0013454201398417, std train_loss 0.0\n",
      "Fold 3/5 median val_accuracy: 1.0, std val_accuracy 0.0\n",
      "Fold 3/5 median train_accuracy: 1.0, train_accuracy 0.0\n",
      "\n",
      "Executing fold 4/5\n"
     ]
    },
    {
     "name": "stderr",
     "output_type": "stream",
     "text": [
      "100%|█████████████████████████████████████████████| 1/1 [00:00<00:00,  2.95it/s]\n"
     ]
    },
    {
     "name": "stdout",
     "output_type": "stream",
     "text": [
      "Fold 4/5 median val_loss: 0.2719547032619209, std val_loss 0.0\n",
      "Fold 4/5 median train_loss: 0.2250843495130539, std train_loss 0.0\n",
      "Fold 4/5 median val_accuracy: 0.529411792755127, std val_accuracy 0.0\n",
      "Fold 4/5 median train_accuracy: 0.644444465637207, train_accuracy 0.0\n",
      "\n",
      "Executing fold 5/5\n"
     ]
    },
    {
     "name": "stderr",
     "output_type": "stream",
     "text": [
      "100%|█████████████████████████████████████████████| 1/1 [00:08<00:00,  8.22s/it]\n"
     ]
    },
    {
     "name": "stdout",
     "output_type": "stream",
     "text": [
      "Fold 5/5 median val_loss: 0.0004655089249855, std val_loss 0.0\n",
      "Fold 5/5 median train_loss: 0.0003864620521198, std train_loss 0.0\n",
      "Fold 5/5 median val_accuracy: 1.0, std val_accuracy 0.0\n",
      "Fold 5/5 median train_accuracy: 1.0, train_accuracy 0.0\n",
      "\n",
      "Mean val_loss: 0.15372874440705833, std val_loss: 0.12447347056607914\n",
      "Mean train_loss: 0.13507075204397548, std train_loss: 0.10957982983773379\n",
      "Mean val_accuracy: 0.7529411911964417, std val_accuracy: 0.20512464394023766\n",
      "Mean train_accuracy: 0.7529411911964417, std train_accuracy: 0.17787651524897352\n",
      "\n",
      "\n",
      "\n",
      "Testing configuration 16/25:\n",
      "{'batch_size': None, 'learning_rate': 0.25, 'max_epochs': 500, 'momentum': 0.7, 'initialization': {'type': 'default', 'min': -0.5, 'max': 0.5}, 'early_stopping': {'monitor': 'val_loss', 'patience': 20, 'delta': 0.0}, 'task': 'classification', 'trials_train': 1, 'trials_test': 10, 'nesterov': False, 'learning_rate_decay': None, 'regularization': {'method': None}, 'activations_1': 'relu', 'units_1': 8}\n",
      "\n",
      "Executing fold 1/5\n"
     ]
    },
    {
     "name": "stderr",
     "output_type": "stream",
     "text": [
      "100%|█████████████████████████████████████████████| 1/1 [00:00<00:00,  1.17it/s]\n"
     ]
    },
    {
     "name": "stdout",
     "output_type": "stream",
     "text": [
      "Fold 1/5 median val_loss: 0.2322378031837815, std val_loss 0.0\n",
      "Fold 1/5 median train_loss: 0.2296935468912124, std train_loss 0.0\n",
      "Fold 1/5 median val_accuracy: 0.6470588445663452, std val_accuracy 0.0\n",
      "Fold 1/5 median train_accuracy: 0.614814817905426, train_accuracy 0.0\n",
      "\n",
      "Executing fold 2/5\n"
     ]
    },
    {
     "name": "stderr",
     "output_type": "stream",
     "text": [
      "100%|█████████████████████████████████████████████| 1/1 [00:08<00:00,  8.63s/it]\n"
     ]
    },
    {
     "name": "stdout",
     "output_type": "stream",
     "text": [
      "Fold 2/5 median val_loss: 0.0361001796722284, std val_loss 0.0\n",
      "Fold 2/5 median train_loss: 0.0092949168756604, std train_loss 0.0\n",
      "Fold 2/5 median val_accuracy: 0.970588207244873, std val_accuracy 0.0\n",
      "Fold 2/5 median train_accuracy: 1.0, train_accuracy 0.0\n",
      "\n",
      "Executing fold 3/5\n"
     ]
    },
    {
     "name": "stderr",
     "output_type": "stream",
     "text": [
      "100%|█████████████████████████████████████████████| 1/1 [00:00<00:00,  3.47it/s]\n"
     ]
    },
    {
     "name": "stdout",
     "output_type": "stream",
     "text": [
      "Fold 3/5 median val_loss: 0.2977607413937468, std val_loss 0.0\n",
      "Fold 3/5 median train_loss: 0.2221879810094833, std train_loss 0.0\n",
      "Fold 3/5 median val_accuracy: 0.4411764740943908, std val_accuracy 0.0\n",
      "Fold 3/5 median train_accuracy: 0.6666666865348816, train_accuracy 0.0\n",
      "\n",
      "Executing fold 4/5\n"
     ]
    },
    {
     "name": "stderr",
     "output_type": "stream",
     "text": [
      "100%|█████████████████████████████████████████████| 1/1 [00:00<00:00,  1.86it/s]\n"
     ]
    },
    {
     "name": "stdout",
     "output_type": "stream",
     "text": [
      "Fold 4/5 median val_loss: 0.2261690368384059, std val_loss 0.0\n",
      "Fold 4/5 median train_loss: 0.2354305386543274, std train_loss 0.0\n",
      "Fold 4/5 median val_accuracy: 0.6764705777168274, std val_accuracy 0.0\n",
      "Fold 4/5 median train_accuracy: 0.6074073910713196, train_accuracy 0.0\n",
      "\n",
      "Executing fold 5/5\n"
     ]
    },
    {
     "name": "stderr",
     "output_type": "stream",
     "text": [
      "100%|█████████████████████████████████████████████| 1/1 [00:08<00:00,  8.04s/it]\n"
     ]
    },
    {
     "name": "stdout",
     "output_type": "stream",
     "text": [
      "Fold 5/5 median val_loss: 0.0016906242506929, std val_loss 0.0\n",
      "Fold 5/5 median train_loss: 0.0015693716704845, std train_loss 0.0\n",
      "Fold 5/5 median val_accuracy: 1.0, std val_accuracy 0.0\n",
      "Fold 5/5 median train_accuracy: 1.0, train_accuracy 0.0\n",
      "\n",
      "Mean val_loss: 0.1587916770677711, std val_loss: 0.1174567045512026\n",
      "Mean train_loss: 0.1396352710202336, std train_loss: 0.10968407064136339\n",
      "Mean val_accuracy: 0.7470588207244873, std val_accuracy: 0.21094612206624658\n",
      "Mean train_accuracy: 0.7470588207244873, std train_accuracy: 0.18258921197749797\n",
      "\n",
      "\n",
      "\n",
      "Testing configuration 17/25:\n",
      "{'batch_size': None, 'learning_rate': 0.25, 'max_epochs': 500, 'momentum': 0.75, 'initialization': {'type': 'default', 'min': -0.5, 'max': 0.5}, 'early_stopping': {'monitor': 'val_loss', 'patience': 20, 'delta': 0.0}, 'task': 'classification', 'trials_train': 1, 'trials_test': 10, 'nesterov': False, 'learning_rate_decay': None, 'regularization': {'method': None}, 'activations_1': 'relu', 'units_1': 8}\n",
      "\n",
      "Executing fold 1/5\n"
     ]
    },
    {
     "name": "stderr",
     "output_type": "stream",
     "text": [
      "100%|█████████████████████████████████████████████| 1/1 [00:00<00:00,  2.87it/s]\n"
     ]
    },
    {
     "name": "stdout",
     "output_type": "stream",
     "text": [
      "Fold 1/5 median val_loss: 0.2537213410747975, std val_loss 0.0\n",
      "Fold 1/5 median train_loss: 0.2211283594369888, std train_loss 0.0\n",
      "Fold 1/5 median val_accuracy: 0.5588235259056091, std val_accuracy 0.0\n",
      "Fold 1/5 median train_accuracy: 0.6370370388031006, train_accuracy 0.0\n",
      "\n",
      "Executing fold 2/5\n"
     ]
    },
    {
     "name": "stderr",
     "output_type": "stream",
     "text": [
      "100%|█████████████████████████████████████████████| 1/1 [00:00<00:00,  2.04it/s]\n"
     ]
    },
    {
     "name": "stdout",
     "output_type": "stream",
     "text": [
      "Fold 2/5 median val_loss: 0.2314823826052863, std val_loss 0.0\n",
      "Fold 2/5 median train_loss: 0.2255387902259826, std train_loss 0.0\n",
      "Fold 2/5 median val_accuracy: 0.6470588445663452, std val_accuracy 0.0\n",
      "Fold 2/5 median train_accuracy: 0.6296296119689941, train_accuracy 0.0\n",
      "\n",
      "Executing fold 3/5\n"
     ]
    },
    {
     "name": "stderr",
     "output_type": "stream",
     "text": [
      "100%|█████████████████████████████████████████████| 1/1 [00:00<00:00,  2.94it/s]\n"
     ]
    },
    {
     "name": "stdout",
     "output_type": "stream",
     "text": [
      "Fold 3/5 median val_loss: 0.2502784945441354, std val_loss 0.0\n",
      "Fold 3/5 median train_loss: 0.2191646695137024, std train_loss 0.0\n",
      "Fold 3/5 median val_accuracy: 0.6176470518112183, std val_accuracy 0.0\n",
      "Fold 3/5 median train_accuracy: 0.6296296119689941, train_accuracy 0.0\n",
      "\n",
      "Executing fold 4/5\n"
     ]
    },
    {
     "name": "stderr",
     "output_type": "stream",
     "text": [
      "100%|█████████████████████████████████████████████| 1/1 [00:00<00:00,  2.37it/s]\n"
     ]
    },
    {
     "name": "stdout",
     "output_type": "stream",
     "text": [
      "Fold 4/5 median val_loss: 0.231514028854979, std val_loss 0.0\n",
      "Fold 4/5 median train_loss: 0.2198904156684875, std train_loss 0.0\n",
      "Fold 4/5 median val_accuracy: 0.6176470518112183, std val_accuracy 0.0\n",
      "Fold 4/5 median train_accuracy: 0.614814817905426, train_accuracy 0.0\n",
      "\n",
      "Executing fold 5/5\n"
     ]
    },
    {
     "name": "stderr",
     "output_type": "stream",
     "text": [
      "100%|█████████████████████████████████████████████| 1/1 [00:08<00:00,  8.89s/it]\n"
     ]
    },
    {
     "name": "stdout",
     "output_type": "stream",
     "text": [
      "Fold 5/5 median val_loss: 0.0015152859425622, std val_loss 0.0\n",
      "Fold 5/5 median train_loss: 0.0016181188402697, std train_loss 0.0\n",
      "Fold 5/5 median val_accuracy: 1.0, std val_accuracy 0.0\n",
      "Fold 5/5 median train_accuracy: 1.0, train_accuracy 0.0\n",
      "\n",
      "Mean val_loss: 0.1937023066043521, std val_loss: 0.0965360667663774\n",
      "Mean train_loss: 0.1774680707370862, std train_loss: 0.08795280798549707\n",
      "Mean val_accuracy: 0.6882352948188781, std val_accuracy: 0.15849639584996839\n",
      "Mean train_accuracy: 0.6882352948188781, std train_accuracy: 0.14906383970085432\n",
      "\n",
      "\n",
      "\n",
      "Testing configuration 18/25:\n",
      "{'batch_size': None, 'learning_rate': 0.25, 'max_epochs': 500, 'momentum': 0.8, 'initialization': {'type': 'default', 'min': -0.5, 'max': 0.5}, 'early_stopping': {'monitor': 'val_loss', 'patience': 20, 'delta': 0.0}, 'task': 'classification', 'trials_train': 1, 'trials_test': 10, 'nesterov': False, 'learning_rate_decay': None, 'regularization': {'method': None}, 'activations_1': 'relu', 'units_1': 8}\n",
      "\n",
      "Executing fold 1/5\n"
     ]
    },
    {
     "name": "stderr",
     "output_type": "stream",
     "text": [
      "100%|█████████████████████████████████████████████| 1/1 [00:00<00:00,  2.44it/s]\n"
     ]
    },
    {
     "name": "stdout",
     "output_type": "stream",
     "text": [
      "Fold 1/5 median val_loss: 0.2291767340432321, std val_loss 0.0\n",
      "Fold 1/5 median train_loss: 0.225863978266716, std train_loss 0.0\n",
      "Fold 1/5 median val_accuracy: 0.6470588445663452, std val_accuracy 0.0\n",
      "Fold 1/5 median train_accuracy: 0.614814817905426, train_accuracy 0.0\n",
      "\n",
      "Executing fold 2/5\n"
     ]
    },
    {
     "name": "stderr",
     "output_type": "stream",
     "text": [
      "100%|█████████████████████████████████████████████| 1/1 [00:00<00:00,  3.37it/s]\n"
     ]
    },
    {
     "name": "stdout",
     "output_type": "stream",
     "text": [
      "Fold 2/5 median val_loss: 0.263978607012816, std val_loss 0.0\n",
      "Fold 2/5 median train_loss: 0.2278338074684143, std train_loss 0.0\n",
      "Fold 2/5 median val_accuracy: 0.529411792755127, std val_accuracy 0.0\n",
      "Fold 2/5 median train_accuracy: 0.644444465637207, train_accuracy 0.0\n",
      "\n",
      "Executing fold 3/5\n"
     ]
    },
    {
     "name": "stderr",
     "output_type": "stream",
     "text": [
      "100%|█████████████████████████████████████████████| 1/1 [00:09<00:00,  9.05s/it]\n"
     ]
    },
    {
     "name": "stdout",
     "output_type": "stream",
     "text": [
      "Fold 3/5 median val_loss: 0.0009907973365383, std val_loss 0.0\n",
      "Fold 3/5 median train_loss: 0.0009980614995583, std train_loss 0.0\n",
      "Fold 3/5 median val_accuracy: 1.0, std val_accuracy 0.0\n",
      "Fold 3/5 median train_accuracy: 1.0, train_accuracy 0.0\n",
      "\n",
      "Executing fold 4/5\n"
     ]
    },
    {
     "name": "stderr",
     "output_type": "stream",
     "text": [
      "100%|█████████████████████████████████████████████| 1/1 [00:08<00:00,  8.94s/it]\n"
     ]
    },
    {
     "name": "stdout",
     "output_type": "stream",
     "text": [
      "Fold 4/5 median val_loss: 0.001064635661673, std val_loss 0.0\n",
      "Fold 4/5 median train_loss: 0.0008897646912373, std train_loss 0.0\n",
      "Fold 4/5 median val_accuracy: 1.0, std val_accuracy 0.0\n",
      "Fold 4/5 median train_accuracy: 1.0, train_accuracy 0.0\n",
      "\n",
      "Executing fold 5/5\n"
     ]
    },
    {
     "name": "stderr",
     "output_type": "stream",
     "text": [
      "100%|█████████████████████████████████████████████| 1/1 [00:00<00:00,  2.73it/s]\n"
     ]
    },
    {
     "name": "stdout",
     "output_type": "stream",
     "text": [
      "Fold 5/5 median val_loss: 0.2558045495251428, std val_loss 0.0\n",
      "Fold 5/5 median train_loss: 0.223171129822731, std train_loss 0.0\n",
      "Fold 5/5 median val_accuracy: 0.5757575631141663, std val_accuracy 0.0\n",
      "Fold 5/5 median train_accuracy: 0.6323529481887817, train_accuracy 0.0\n",
      "\n",
      "Mean val_loss: 0.15020306471588044, std val_loss: 0.12234374509810436\n",
      "Mean train_loss: 0.13575134834973138, std train_loss: 0.11007976980761576\n",
      "Mean val_accuracy: 0.7504456400871277, std val_accuracy: 0.20717889491644675\n",
      "Mean train_accuracy: 0.7504456400871277, std train_accuracy: 0.18124404997529656\n",
      "\n",
      "\n",
      "\n",
      "Testing configuration 19/25:\n",
      "{'batch_size': None, 'learning_rate': 0.25, 'max_epochs': 500, 'momentum': 0.85, 'initialization': {'type': 'default', 'min': -0.5, 'max': 0.5}, 'early_stopping': {'monitor': 'val_loss', 'patience': 20, 'delta': 0.0}, 'task': 'classification', 'trials_train': 1, 'trials_test': 10, 'nesterov': False, 'learning_rate_decay': None, 'regularization': {'method': None}, 'activations_1': 'relu', 'units_1': 8}\n",
      "\n",
      "Executing fold 1/5\n"
     ]
    },
    {
     "name": "stderr",
     "output_type": "stream",
     "text": [
      "100%|█████████████████████████████████████████████| 1/1 [00:08<00:00,  8.12s/it]\n"
     ]
    },
    {
     "name": "stdout",
     "output_type": "stream",
     "text": [
      "Fold 1/5 median val_loss: 0.0007235414091162, std val_loss 0.0\n",
      "Fold 1/5 median train_loss: 0.0007371780229732, std train_loss 0.0\n",
      "Fold 1/5 median val_accuracy: 1.0, std val_accuracy 0.0\n",
      "Fold 1/5 median train_accuracy: 1.0, train_accuracy 0.0\n",
      "\n",
      "Executing fold 2/5\n"
     ]
    },
    {
     "name": "stderr",
     "output_type": "stream",
     "text": [
      "100%|█████████████████████████████████████████████| 1/1 [00:00<00:00,  2.15it/s]\n"
     ]
    },
    {
     "name": "stdout",
     "output_type": "stream",
     "text": [
      "Fold 2/5 median val_loss: 0.2154656076821214, std val_loss 0.0\n",
      "Fold 2/5 median train_loss: 0.224199429154396, std train_loss 0.0\n",
      "Fold 2/5 median val_accuracy: 0.7352941036224365, std val_accuracy 0.0\n",
      "Fold 2/5 median train_accuracy: 0.6296296119689941, train_accuracy 0.0\n",
      "\n",
      "Executing fold 3/5\n"
     ]
    },
    {
     "name": "stderr",
     "output_type": "stream",
     "text": [
      "100%|█████████████████████████████████████████████| 1/1 [00:00<00:00,  3.40it/s]\n"
     ]
    },
    {
     "name": "stdout",
     "output_type": "stream",
     "text": [
      "Fold 3/5 median val_loss: 0.2313950798212998, std val_loss 0.0\n",
      "Fold 3/5 median train_loss: 0.2156613618135452, std train_loss 0.0\n",
      "Fold 3/5 median val_accuracy: 0.6764705777168274, std val_accuracy 0.0\n",
      "Fold 3/5 median train_accuracy: 0.644444465637207, train_accuracy 0.0\n",
      "\n",
      "Executing fold 4/5\n"
     ]
    },
    {
     "name": "stderr",
     "output_type": "stream",
     "text": [
      "100%|█████████████████████████████████████████████| 1/1 [00:00<00:00,  2.83it/s]\n"
     ]
    },
    {
     "name": "stdout",
     "output_type": "stream",
     "text": [
      "Fold 4/5 median val_loss: 0.2551324129689946, std val_loss 0.0\n",
      "Fold 4/5 median train_loss: 0.2146759182214737, std train_loss 0.0\n",
      "Fold 4/5 median val_accuracy: 0.5588235259056091, std val_accuracy 0.0\n",
      "Fold 4/5 median train_accuracy: 0.6592592597007751, train_accuracy 0.0\n",
      "\n",
      "Executing fold 5/5\n"
     ]
    },
    {
     "name": "stderr",
     "output_type": "stream",
     "text": [
      "100%|█████████████████████████████████████████████| 1/1 [00:00<00:00,  2.75it/s]\n"
     ]
    },
    {
     "name": "stdout",
     "output_type": "stream",
     "text": [
      "Fold 5/5 median val_loss: 0.2666954588677215, std val_loss 0.0\n",
      "Fold 5/5 median train_loss: 0.2237244397401809, std train_loss 0.0\n",
      "Fold 5/5 median val_accuracy: 0.5151515007019043, std val_accuracy 0.0\n",
      "Fold 5/5 median train_accuracy: 0.6470588445663452, train_accuracy 0.0\n",
      "\n",
      "Mean val_loss: 0.19388242014985071, std val_loss: 0.09822085958057203\n",
      "Mean train_loss: 0.17579966539051378, std train_loss: 0.0876202185435246\n",
      "Mean val_accuracy: 0.6971479415893554, std val_accuracy: 0.17079719014555528\n",
      "Mean train_accuracy: 0.6971479415893554, std train_accuracy: 0.14227325974158211\n",
      "\n",
      "\n",
      "\n",
      "Testing configuration 20/25:\n",
      "{'batch_size': None, 'learning_rate': 0.25, 'max_epochs': 500, 'momentum': 0.9, 'initialization': {'type': 'default', 'min': -0.5, 'max': 0.5}, 'early_stopping': {'monitor': 'val_loss', 'patience': 20, 'delta': 0.0}, 'task': 'classification', 'trials_train': 1, 'trials_test': 10, 'nesterov': False, 'learning_rate_decay': None, 'regularization': {'method': None}, 'activations_1': 'relu', 'units_1': 8}\n",
      "\n",
      "Executing fold 1/5\n"
     ]
    },
    {
     "name": "stderr",
     "output_type": "stream",
     "text": [
      "100%|█████████████████████████████████████████████| 1/1 [00:08<00:00,  8.84s/it]\n"
     ]
    },
    {
     "name": "stdout",
     "output_type": "stream",
     "text": [
      "Fold 1/5 median val_loss: 0.0004123869097758, std val_loss 0.0\n",
      "Fold 1/5 median train_loss: 0.0003146164526697, std train_loss 0.0\n",
      "Fold 1/5 median val_accuracy: 1.0, std val_accuracy 0.0\n",
      "Fold 1/5 median train_accuracy: 1.0, train_accuracy 0.0\n",
      "\n",
      "Executing fold 2/5\n"
     ]
    },
    {
     "name": "stderr",
     "output_type": "stream",
     "text": [
      "100%|█████████████████████████████████████████████| 1/1 [00:00<00:00,  2.36it/s]\n"
     ]
    },
    {
     "name": "stdout",
     "output_type": "stream",
     "text": [
      "Fold 2/5 median val_loss: 0.2416795924930914, std val_loss 0.0\n",
      "Fold 2/5 median train_loss: 0.1957365274429321, std train_loss 0.0\n",
      "Fold 2/5 median val_accuracy: 0.6176470518112183, std val_accuracy 0.0\n",
      "Fold 2/5 median train_accuracy: 0.7185184955596924, train_accuracy 0.0\n",
      "\n",
      "Executing fold 3/5\n"
     ]
    },
    {
     "name": "stderr",
     "output_type": "stream",
     "text": [
      "100%|█████████████████████████████████████████████| 1/1 [00:08<00:00,  8.34s/it]\n"
     ]
    },
    {
     "name": "stdout",
     "output_type": "stream",
     "text": [
      "Fold 3/5 median val_loss: 0.0005429296190602, std val_loss 0.0\n",
      "Fold 3/5 median train_loss: 0.0005006607971154, std train_loss 0.0\n",
      "Fold 3/5 median val_accuracy: 1.0, std val_accuracy 0.0\n",
      "Fold 3/5 median train_accuracy: 1.0, train_accuracy 0.0\n",
      "\n",
      "Executing fold 4/5\n"
     ]
    },
    {
     "name": "stderr",
     "output_type": "stream",
     "text": [
      "100%|█████████████████████████████████████████████| 1/1 [00:00<00:00,  2.87it/s]\n"
     ]
    },
    {
     "name": "stdout",
     "output_type": "stream",
     "text": [
      "Fold 4/5 median val_loss: 0.2442005837743709, std val_loss 0.0\n",
      "Fold 4/5 median train_loss: 0.2184182852506637, std train_loss 0.0\n",
      "Fold 4/5 median val_accuracy: 0.5882353186607361, std val_accuracy 0.0\n",
      "Fold 4/5 median train_accuracy: 0.6296296119689941, train_accuracy 0.0\n",
      "\n",
      "Executing fold 5/5\n"
     ]
    },
    {
     "name": "stderr",
     "output_type": "stream",
     "text": [
      "100%|█████████████████████████████████████████████| 1/1 [00:00<00:00,  3.16it/s]\n"
     ]
    },
    {
     "name": "stdout",
     "output_type": "stream",
     "text": [
      "Fold 5/5 median val_loss: 0.2624265524185452, std val_loss 0.0\n",
      "Fold 5/5 median train_loss: 0.2195856720209121, std train_loss 0.0\n",
      "Fold 5/5 median val_accuracy: 0.5454545617103577, std val_accuracy 0.0\n",
      "Fold 5/5 median train_accuracy: 0.6323529481887817, train_accuracy 0.0\n",
      "\n",
      "Mean val_loss: 0.1498524090429687, std val_loss: 0.12217396474968166\n",
      "Mean train_loss: 0.1269111523928586, std train_loss: 0.10363913305355535\n",
      "Mean val_accuracy: 0.7502673864364624, std val_accuracy: 0.2051943439135815\n",
      "Mean train_accuracy: 0.7502673864364624, std train_accuracy: 0.16952568943912777\n",
      "\n",
      "\n",
      "\n",
      "Testing configuration 21/25:\n",
      "{'batch_size': None, 'learning_rate': 0.3, 'max_epochs': 500, 'momentum': 0.7, 'initialization': {'type': 'default', 'min': -0.5, 'max': 0.5}, 'early_stopping': {'monitor': 'val_loss', 'patience': 20, 'delta': 0.0}, 'task': 'classification', 'trials_train': 1, 'trials_test': 10, 'nesterov': False, 'learning_rate_decay': None, 'regularization': {'method': None}, 'activations_1': 'relu', 'units_1': 8}\n",
      "\n",
      "Executing fold 1/5\n"
     ]
    },
    {
     "name": "stderr",
     "output_type": "stream",
     "text": [
      "100%|█████████████████████████████████████████████| 1/1 [00:01<00:00,  1.21s/it]\n"
     ]
    },
    {
     "name": "stdout",
     "output_type": "stream",
     "text": [
      "Fold 1/5 median val_loss: 0.2481661684885929, std val_loss 0.0\n",
      "Fold 1/5 median train_loss: 0.1882844716310501, std train_loss 0.0\n",
      "Fold 1/5 median val_accuracy: 0.6176470518112183, std val_accuracy 0.0\n",
      "Fold 1/5 median train_accuracy: 0.7259259223937988, train_accuracy 0.0\n",
      "\n",
      "Executing fold 2/5\n"
     ]
    },
    {
     "name": "stderr",
     "output_type": "stream",
     "text": [
      "100%|█████████████████████████████████████████████| 1/1 [00:00<00:00,  1.38it/s]\n"
     ]
    },
    {
     "name": "stdout",
     "output_type": "stream",
     "text": [
      "Fold 2/5 median val_loss: 0.2228205056444333, std val_loss 0.0\n",
      "Fold 2/5 median train_loss: 0.2204308211803436, std train_loss 0.0\n",
      "Fold 2/5 median val_accuracy: 0.6764705777168274, std val_accuracy 0.0\n",
      "Fold 2/5 median train_accuracy: 0.6592592597007751, train_accuracy 0.0\n",
      "\n",
      "Executing fold 3/5\n"
     ]
    },
    {
     "name": "stderr",
     "output_type": "stream",
     "text": [
      "100%|█████████████████████████████████████████████| 1/1 [00:00<00:00,  1.81it/s]\n"
     ]
    },
    {
     "name": "stdout",
     "output_type": "stream",
     "text": [
      "Fold 3/5 median val_loss: 0.2405911615761224, std val_loss 0.0\n",
      "Fold 3/5 median train_loss: 0.2260978519916534, std train_loss 0.0\n",
      "Fold 3/5 median val_accuracy: 0.6176470518112183, std val_accuracy 0.0\n",
      "Fold 3/5 median train_accuracy: 0.6222222447395325, train_accuracy 0.0\n",
      "\n",
      "Executing fold 4/5\n"
     ]
    },
    {
     "name": "stderr",
     "output_type": "stream",
     "text": [
      "100%|█████████████████████████████████████████████| 1/1 [00:09<00:00,  9.44s/it]\n"
     ]
    },
    {
     "name": "stdout",
     "output_type": "stream",
     "text": [
      "Fold 4/5 median val_loss: 0.0023194878470113, std val_loss 0.0\n",
      "Fold 4/5 median train_loss: 0.0026892803143709, std train_loss 0.0\n",
      "Fold 4/5 median val_accuracy: 1.0, std val_accuracy 0.0\n",
      "Fold 4/5 median train_accuracy: 1.0, train_accuracy 0.0\n",
      "\n",
      "Executing fold 5/5\n"
     ]
    },
    {
     "name": "stderr",
     "output_type": "stream",
     "text": [
      "100%|█████████████████████████████████████████████| 1/1 [00:00<00:00,  2.36it/s]\n"
     ]
    },
    {
     "name": "stdout",
     "output_type": "stream",
     "text": [
      "Fold 5/5 median val_loss: 0.2420643347162339, std val_loss 0.0\n",
      "Fold 5/5 median train_loss: 0.2197049707174301, std train_loss 0.0\n",
      "Fold 5/5 median val_accuracy: 0.6060606241226196, std val_accuracy 0.0\n",
      "Fold 5/5 median train_accuracy: 0.6691176295280457, train_accuracy 0.0\n",
      "\n",
      "Mean val_loss: 0.19119233165447874, std val_loss: 0.09481299034900417\n",
      "Mean train_loss: 0.17144147916696964, std train_loss: 0.08541385174622161\n",
      "Mean val_accuracy: 0.7035650610923767, std val_accuracy: 0.15025225981729395\n",
      "Mean train_accuracy: 0.7035650610923767, std train_accuracy: 0.13645720375758122\n",
      "\n",
      "\n",
      "\n",
      "Testing configuration 22/25:\n",
      "{'batch_size': None, 'learning_rate': 0.3, 'max_epochs': 500, 'momentum': 0.75, 'initialization': {'type': 'default', 'min': -0.5, 'max': 0.5}, 'early_stopping': {'monitor': 'val_loss', 'patience': 20, 'delta': 0.0}, 'task': 'classification', 'trials_train': 1, 'trials_test': 10, 'nesterov': False, 'learning_rate_decay': None, 'regularization': {'method': None}, 'activations_1': 'relu', 'units_1': 8}\n",
      "\n",
      "Executing fold 1/5\n"
     ]
    },
    {
     "name": "stderr",
     "output_type": "stream",
     "text": [
      "100%|█████████████████████████████████████████████| 1/1 [00:10<00:00, 10.35s/it]\n"
     ]
    },
    {
     "name": "stdout",
     "output_type": "stream",
     "text": [
      "Fold 1/5 median val_loss: 0.0047323835526713, std val_loss 0.0\n",
      "Fold 1/5 median train_loss: 0.0028973701409995, std train_loss 0.0\n",
      "Fold 1/5 median val_accuracy: 1.0, std val_accuracy 0.0\n",
      "Fold 1/5 median train_accuracy: 1.0, train_accuracy 0.0\n",
      "\n",
      "Executing fold 2/5\n"
     ]
    },
    {
     "name": "stderr",
     "output_type": "stream",
     "text": [
      "100%|█████████████████████████████████████████████| 1/1 [00:00<00:00,  2.09it/s]\n"
     ]
    },
    {
     "name": "stdout",
     "output_type": "stream",
     "text": [
      "Fold 2/5 median val_loss: 0.2308132934456897, std val_loss 0.0\n",
      "Fold 2/5 median train_loss: 0.2222452908754348, std train_loss 0.0\n",
      "Fold 2/5 median val_accuracy: 0.6764705777168274, std val_accuracy 0.0\n",
      "Fold 2/5 median train_accuracy: 0.6000000238418579, train_accuracy 0.0\n",
      "\n",
      "Executing fold 3/5\n"
     ]
    },
    {
     "name": "stderr",
     "output_type": "stream",
     "text": [
      "100%|█████████████████████████████████████████████| 1/1 [00:00<00:00,  2.80it/s]\n"
     ]
    },
    {
     "name": "stdout",
     "output_type": "stream",
     "text": [
      "Fold 3/5 median val_loss: 0.2533249814771472, std val_loss 0.0\n",
      "Fold 3/5 median train_loss: 0.2269249707460403, std train_loss 0.0\n",
      "Fold 3/5 median val_accuracy: 0.5588235259056091, std val_accuracy 0.0\n",
      "Fold 3/5 median train_accuracy: 0.6370370388031006, train_accuracy 0.0\n",
      "\n",
      "Executing fold 4/5\n"
     ]
    },
    {
     "name": "stderr",
     "output_type": "stream",
     "text": [
      "100%|█████████████████████████████████████████████| 1/1 [00:08<00:00,  8.80s/it]\n"
     ]
    },
    {
     "name": "stdout",
     "output_type": "stream",
     "text": [
      "Fold 4/5 median val_loss: 0.0012636302922985, std val_loss 0.0\n",
      "Fold 4/5 median train_loss: 0.0009777130326256, std train_loss 0.0\n",
      "Fold 4/5 median val_accuracy: 1.0, std val_accuracy 0.0\n",
      "Fold 4/5 median train_accuracy: 1.0, train_accuracy 0.0\n",
      "\n",
      "Executing fold 5/5\n"
     ]
    },
    {
     "name": "stderr",
     "output_type": "stream",
     "text": [
      "100%|█████████████████████████████████████████████| 1/1 [00:00<00:00,  2.94it/s]\n"
     ]
    },
    {
     "name": "stdout",
     "output_type": "stream",
     "text": [
      "Fold 5/5 median val_loss: 0.2555120573235853, std val_loss 0.0\n",
      "Fold 5/5 median train_loss: 0.2213211804628372, std train_loss 0.0\n",
      "Fold 5/5 median val_accuracy: 0.5151515007019043, std val_accuracy 0.0\n",
      "Fold 5/5 median train_accuracy: 0.6470588445663452, train_accuracy 0.0\n",
      "\n",
      "Mean val_loss: 0.1491292692182784, std val_loss: 0.1196336337633281\n",
      "Mean train_loss: 0.13487330505158748, std train_loss: 0.10855992371467187\n",
      "Mean val_accuracy: 0.7500891208648681, std val_accuracy: 0.21076470202497632\n",
      "Mean train_accuracy: 0.7500891208648681, std train_accuracy: 0.1828995147427498\n",
      "\n",
      "\n",
      "\n",
      "Testing configuration 23/25:\n",
      "{'batch_size': None, 'learning_rate': 0.3, 'max_epochs': 500, 'momentum': 0.8, 'initialization': {'type': 'default', 'min': -0.5, 'max': 0.5}, 'early_stopping': {'monitor': 'val_loss', 'patience': 20, 'delta': 0.0}, 'task': 'classification', 'trials_train': 1, 'trials_test': 10, 'nesterov': False, 'learning_rate_decay': None, 'regularization': {'method': None}, 'activations_1': 'relu', 'units_1': 8}\n",
      "\n",
      "Executing fold 1/5\n"
     ]
    },
    {
     "name": "stderr",
     "output_type": "stream",
     "text": [
      "100%|█████████████████████████████████████████████| 1/1 [00:09<00:00,  9.41s/it]\n"
     ]
    },
    {
     "name": "stdout",
     "output_type": "stream",
     "text": [
      "Fold 1/5 median val_loss: 0.0008899779447152, std val_loss 0.0\n",
      "Fold 1/5 median train_loss: 0.0007108068093657, std train_loss 0.0\n",
      "Fold 1/5 median val_accuracy: 1.0, std val_accuracy 0.0\n",
      "Fold 1/5 median train_accuracy: 1.0, train_accuracy 0.0\n",
      "\n",
      "Executing fold 2/5\n"
     ]
    },
    {
     "name": "stderr",
     "output_type": "stream",
     "text": [
      "100%|█████████████████████████████████████████████| 1/1 [00:00<00:00,  2.80it/s]\n"
     ]
    },
    {
     "name": "stdout",
     "output_type": "stream",
     "text": [
      "Fold 2/5 median val_loss: 0.2577480604413721, std val_loss 0.0\n",
      "Fold 2/5 median train_loss: 0.2226864844560623, std train_loss 0.0\n",
      "Fold 2/5 median val_accuracy: 0.5588235259056091, std val_accuracy 0.0\n",
      "Fold 2/5 median train_accuracy: 0.6370370388031006, train_accuracy 0.0\n",
      "\n",
      "Executing fold 3/5\n"
     ]
    },
    {
     "name": "stderr",
     "output_type": "stream",
     "text": [
      "100%|█████████████████████████████████████████████| 1/1 [00:08<00:00,  8.45s/it]\n"
     ]
    },
    {
     "name": "stdout",
     "output_type": "stream",
     "text": [
      "Fold 3/5 median val_loss: 0.0013678909668419, std val_loss 0.0\n",
      "Fold 3/5 median train_loss: 0.0007192660705186, std train_loss 0.0\n",
      "Fold 3/5 median val_accuracy: 1.0, std val_accuracy 0.0\n",
      "Fold 3/5 median train_accuracy: 1.0, train_accuracy 0.0\n",
      "\n",
      "Executing fold 4/5\n"
     ]
    },
    {
     "name": "stderr",
     "output_type": "stream",
     "text": [
      "100%|█████████████████████████████████████████████| 1/1 [00:10<00:00, 10.07s/it]\n"
     ]
    },
    {
     "name": "stdout",
     "output_type": "stream",
     "text": [
      "Fold 4/5 median val_loss: 0.0074886074621608, std val_loss 0.0\n",
      "Fold 4/5 median train_loss: 0.0020998627878725, std train_loss 0.0\n",
      "Fold 4/5 median val_accuracy: 1.0, std val_accuracy 0.0\n",
      "Fold 4/5 median train_accuracy: 1.0, train_accuracy 0.0\n",
      "\n",
      "Executing fold 5/5\n"
     ]
    },
    {
     "name": "stderr",
     "output_type": "stream",
     "text": [
      "100%|█████████████████████████████████████████████| 1/1 [00:09<00:00,  9.33s/it]\n"
     ]
    },
    {
     "name": "stdout",
     "output_type": "stream",
     "text": [
      "Fold 5/5 median val_loss: 0.0043343336758432, std val_loss 0.0\n",
      "Fold 5/5 median train_loss: 0.0021826247684657, std train_loss 0.0\n",
      "Fold 5/5 median val_accuracy: 1.0, std val_accuracy 0.0\n",
      "Fold 5/5 median train_accuracy: 1.0, train_accuracy 0.0\n",
      "\n",
      "Mean val_loss: 0.05436577409818664, std val_loss: 0.10171863602249986\n",
      "Mean train_loss: 0.04567980897845696, std train_loss: 0.08850563991347302\n",
      "Mean val_accuracy: 0.9117647051811218, std val_accuracy: 0.17647058963775633\n",
      "Mean train_accuracy: 0.9117647051811218, std train_accuracy: 0.14518518447875978\n",
      "\n",
      "\n",
      "\n",
      "Testing configuration 24/25:\n",
      "{'batch_size': None, 'learning_rate': 0.3, 'max_epochs': 500, 'momentum': 0.85, 'initialization': {'type': 'default', 'min': -0.5, 'max': 0.5}, 'early_stopping': {'monitor': 'val_loss', 'patience': 20, 'delta': 0.0}, 'task': 'classification', 'trials_train': 1, 'trials_test': 10, 'nesterov': False, 'learning_rate_decay': None, 'regularization': {'method': None}, 'activations_1': 'relu', 'units_1': 8}\n",
      "\n",
      "Executing fold 1/5\n"
     ]
    },
    {
     "name": "stderr",
     "output_type": "stream",
     "text": [
      "100%|█████████████████████████████████████████████| 1/1 [00:00<00:00,  2.54it/s]\n"
     ]
    },
    {
     "name": "stdout",
     "output_type": "stream",
     "text": [
      "Fold 1/5 median val_loss: 0.2345493182365604, std val_loss 0.0\n",
      "Fold 1/5 median train_loss: 0.2086017727851867, std train_loss 0.0\n",
      "Fold 1/5 median val_accuracy: 0.6470588445663452, std val_accuracy 0.0\n",
      "Fold 1/5 median train_accuracy: 0.6814814805984497, train_accuracy 0.0\n",
      "\n",
      "Executing fold 2/5\n"
     ]
    },
    {
     "name": "stderr",
     "output_type": "stream",
     "text": [
      "100%|█████████████████████████████████████████████| 1/1 [00:00<00:00,  2.44it/s]\n"
     ]
    },
    {
     "name": "stdout",
     "output_type": "stream",
     "text": [
      "Fold 2/5 median val_loss: 0.2442507249550959, std val_loss 0.0\n",
      "Fold 2/5 median train_loss: 0.2263768762350082, std train_loss 0.0\n",
      "Fold 2/5 median val_accuracy: 0.5882353186607361, std val_accuracy 0.0\n",
      "Fold 2/5 median train_accuracy: 0.6296296119689941, train_accuracy 0.0\n",
      "\n",
      "Executing fold 3/5\n"
     ]
    },
    {
     "name": "stderr",
     "output_type": "stream",
     "text": [
      "100%|█████████████████████████████████████████████| 1/1 [00:00<00:00,  3.22it/s]\n"
     ]
    },
    {
     "name": "stdout",
     "output_type": "stream",
     "text": [
      "Fold 3/5 median val_loss: 0.2580648477916984, std val_loss 0.0\n",
      "Fold 3/5 median train_loss: 0.2220123410224914, std train_loss 0.0\n",
      "Fold 3/5 median val_accuracy: 0.5588235259056091, std val_accuracy 0.0\n",
      "Fold 3/5 median train_accuracy: 0.6370370388031006, train_accuracy 0.0\n",
      "\n",
      "Executing fold 4/5\n"
     ]
    },
    {
     "name": "stderr",
     "output_type": "stream",
     "text": [
      "100%|█████████████████████████████████████████████| 1/1 [00:08<00:00,  8.88s/it]\n"
     ]
    },
    {
     "name": "stdout",
     "output_type": "stream",
     "text": [
      "Fold 4/5 median val_loss: 0.0005591253492542, std val_loss 0.0\n",
      "Fold 4/5 median train_loss: 0.0004441438941285, std train_loss 0.0\n",
      "Fold 4/5 median val_accuracy: 1.0, std val_accuracy 0.0\n",
      "Fold 4/5 median train_accuracy: 1.0, train_accuracy 0.0\n",
      "\n",
      "Executing fold 5/5\n"
     ]
    },
    {
     "name": "stderr",
     "output_type": "stream",
     "text": [
      "100%|█████████████████████████████████████████████| 1/1 [00:12<00:00, 12.49s/it]\n"
     ]
    },
    {
     "name": "stdout",
     "output_type": "stream",
     "text": [
      "Fold 5/5 median val_loss: 0.0008628505003726, std val_loss 0.0\n",
      "Fold 5/5 median train_loss: 0.0006863638409413, std train_loss 0.0\n",
      "Fold 5/5 median val_accuracy: 1.0, std val_accuracy 0.0\n",
      "Fold 5/5 median train_accuracy: 1.0, train_accuracy 0.0\n",
      "\n",
      "Mean val_loss: 0.1476573733665963, std val_loss: 0.12021382830324281\n",
      "Mean train_loss: 0.13162429955555122, std train_loss: 0.10716954461133381\n",
      "Mean val_accuracy: 0.7588235378265381, std val_accuracy: 0.19895922384201797\n",
      "Mean train_accuracy: 0.7588235378265381, std train_accuracy: 0.1726800000144545\n",
      "\n",
      "\n",
      "\n",
      "Testing configuration 25/25:\n",
      "{'batch_size': None, 'learning_rate': 0.3, 'max_epochs': 500, 'momentum': 0.9, 'initialization': {'type': 'default', 'min': -0.5, 'max': 0.5}, 'early_stopping': {'monitor': 'val_loss', 'patience': 20, 'delta': 0.0}, 'task': 'classification', 'trials_train': 1, 'trials_test': 10, 'nesterov': False, 'learning_rate_decay': None, 'regularization': {'method': None}, 'activations_1': 'relu', 'units_1': 8}\n",
      "\n",
      "Executing fold 1/5\n"
     ]
    },
    {
     "name": "stderr",
     "output_type": "stream",
     "text": [
      "100%|█████████████████████████████████████████████| 1/1 [00:00<00:00,  2.30it/s]\n"
     ]
    },
    {
     "name": "stdout",
     "output_type": "stream",
     "text": [
      "Fold 1/5 median val_loss: 0.2515082651817035, std val_loss 0.0\n",
      "Fold 1/5 median train_loss: 0.2137692868709564, std train_loss 0.0\n",
      "Fold 1/5 median val_accuracy: 0.5882353186607361, std val_accuracy 0.0\n",
      "Fold 1/5 median train_accuracy: 0.6518518328666687, train_accuracy 0.0\n",
      "\n",
      "Executing fold 2/5\n"
     ]
    },
    {
     "name": "stderr",
     "output_type": "stream",
     "text": [
      "100%|█████████████████████████████████████████████| 1/1 [00:00<00:00,  3.04it/s]\n"
     ]
    },
    {
     "name": "stdout",
     "output_type": "stream",
     "text": [
      "Fold 2/5 median val_loss: 0.2545006625362864, std val_loss 0.0\n",
      "Fold 2/5 median train_loss: 0.2164998650550842, std train_loss 0.0\n",
      "Fold 2/5 median val_accuracy: 0.529411792755127, std val_accuracy 0.0\n",
      "Fold 2/5 median train_accuracy: 0.644444465637207, train_accuracy 0.0\n",
      "\n",
      "Executing fold 3/5\n"
     ]
    },
    {
     "name": "stderr",
     "output_type": "stream",
     "text": [
      "100%|█████████████████████████████████████████████| 1/1 [00:00<00:00,  1.86it/s]\n"
     ]
    },
    {
     "name": "stdout",
     "output_type": "stream",
     "text": [
      "Fold 3/5 median val_loss: 0.2164429146314824, std val_loss 0.0\n",
      "Fold 3/5 median train_loss: 0.2235704064369201, std train_loss 0.0\n",
      "Fold 3/5 median val_accuracy: 0.7352941036224365, std val_accuracy 0.0\n",
      "Fold 3/5 median train_accuracy: 0.6888889074325562, train_accuracy 0.0\n",
      "\n",
      "Executing fold 4/5\n"
     ]
    },
    {
     "name": "stderr",
     "output_type": "stream",
     "text": [
      "100%|█████████████████████████████████████████████| 1/1 [00:10<00:00, 10.43s/it]\n"
     ]
    },
    {
     "name": "stdout",
     "output_type": "stream",
     "text": [
      "Fold 4/5 median val_loss: 0.0004342444642443, std val_loss 0.0\n",
      "Fold 4/5 median train_loss: 0.0002661374455783, std train_loss 0.0\n",
      "Fold 4/5 median val_accuracy: 1.0, std val_accuracy 0.0\n",
      "Fold 4/5 median train_accuracy: 1.0, train_accuracy 0.0\n",
      "\n",
      "Executing fold 5/5\n"
     ]
    },
    {
     "name": "stderr",
     "output_type": "stream",
     "text": [
      "100%|█████████████████████████████████████████████| 1/1 [00:09<00:00,  9.13s/it]\n"
     ]
    },
    {
     "name": "stdout",
     "output_type": "stream",
     "text": [
      "Fold 5/5 median val_loss: 0.000339864061355, std val_loss 0.0\n",
      "Fold 5/5 median train_loss: 0.0002577253326307, std train_loss 0.0\n",
      "Fold 5/5 median val_accuracy: 1.0, std val_accuracy 0.0\n",
      "Fold 5/5 median train_accuracy: 1.0, train_accuracy 0.0\n",
      "\n",
      "Mean val_loss: 0.14464519017501434, std val_loss: 0.11854423550075695\n",
      "Mean train_loss: 0.13087268422823395, std train_loss: 0.1066912049594796\n",
      "Mean val_accuracy: 0.7705882430076599, std val_accuracy: 0.19895921890772292\n",
      "Mean train_accuracy: 0.7705882430076599, std train_accuracy: 0.16640143206280494\n",
      "\n",
      "\n",
      "\n",
      "\n",
      "\n",
      "\n",
      "Best configuration (loss 0.05436577409818664):\n",
      "{'batch_size': None, 'learning_rate': 0.3, 'max_epochs': 500, 'momentum': 0.8, 'initialization': {'type': 'default', 'min': -0.5, 'max': 0.5}, 'early_stopping': {'monitor': 'val_loss', 'patience': 20, 'delta': 0.0}, 'task': 'classification', 'trials_train': 1, 'trials_test': 10, 'nesterov': False, 'learning_rate_decay': None, 'regularization': {'method': None}, 'activations_1': 'relu', 'units_1': 8}\n"
     ]
    },
    {
     "name": "stderr",
     "output_type": "stream",
     "text": [
      " 10%|████▍                                       | 1/10 [00:00<00:04,  2.23it/s]"
     ]
    },
    {
     "name": "stdout",
     "output_type": "stream",
     "text": [
      "Trial 1/10 val_mse: 0.2350797955992349\n",
      "Trial 1/10 train_mse: 0.2095061689615249\n",
      "Trial 1/10 val_accuracy: 0.5882353186607361\n",
      "Trial 1/10 train_accuracy: 0.6814814805984497\n"
     ]
    },
    {
     "name": "stderr",
     "output_type": "stream",
     "text": [
      "\r",
      " 20%|████████▊                                   | 2/10 [00:09<00:41,  5.21s/it]"
     ]
    },
    {
     "name": "stdout",
     "output_type": "stream",
     "text": [
      "Trial 2/10 val_mse: 0.0008403239215046\n",
      "Trial 2/10 train_mse: 0.0006119076278991\n",
      "Trial 2/10 val_accuracy: 1.0\n",
      "Trial 2/10 train_accuracy: 1.0\n"
     ]
    },
    {
     "name": "stderr",
     "output_type": "stream",
     "text": [
      "\r",
      " 30%|█████████████▏                              | 3/10 [00:09<00:21,  3.01s/it]"
     ]
    },
    {
     "name": "stdout",
     "output_type": "stream",
     "text": [
      "Trial 3/10 val_mse: 0.233765650491442\n",
      "Trial 3/10 train_mse: 0.2161069214344024\n",
      "Trial 3/10 val_accuracy: 0.6176470518112183\n",
      "Trial 3/10 train_accuracy: 0.6296296119689941\n"
     ]
    },
    {
     "name": "stderr",
     "output_type": "stream",
     "text": [
      "\r",
      " 40%|█████████████████▌                          | 4/10 [00:17<00:30,  5.04s/it]"
     ]
    },
    {
     "name": "stdout",
     "output_type": "stream",
     "text": [
      "Trial 4/10 val_mse: 0.0009348951912622\n",
      "Trial 4/10 train_mse: 0.0006553317653015\n",
      "Trial 4/10 val_accuracy: 1.0\n",
      "Trial 4/10 train_accuracy: 1.0\n"
     ]
    },
    {
     "name": "stderr",
     "output_type": "stream",
     "text": [
      "\r",
      " 50%|██████████████████████                      | 5/10 [00:25<00:31,  6.22s/it]"
     ]
    },
    {
     "name": "stdout",
     "output_type": "stream",
     "text": [
      "Trial 5/10 val_mse: 0.0014162820290412\n",
      "Trial 5/10 train_mse: 0.0007512138690799\n",
      "Trial 5/10 val_accuracy: 1.0\n",
      "Trial 5/10 train_accuracy: 1.0\n"
     ]
    },
    {
     "name": "stderr",
     "output_type": "stream",
     "text": [
      "\r",
      " 60%|██████████████████████████▍                 | 6/10 [00:33<00:27,  6.83s/it]"
     ]
    },
    {
     "name": "stdout",
     "output_type": "stream",
     "text": [
      "Trial 6/10 val_mse: 0.0009973429825755\n",
      "Trial 6/10 train_mse: 0.0006454969989135\n",
      "Trial 6/10 val_accuracy: 1.0\n",
      "Trial 6/10 train_accuracy: 1.0\n"
     ]
    },
    {
     "name": "stderr",
     "output_type": "stream",
     "text": [
      "\r",
      " 70%|██████████████████████████████▊             | 7/10 [00:42<00:22,  7.39s/it]"
     ]
    },
    {
     "name": "stdout",
     "output_type": "stream",
     "text": [
      "Trial 7/10 val_mse: 0.0009166031783412\n",
      "Trial 7/10 train_mse: 0.000649168563541\n",
      "Trial 7/10 val_accuracy: 1.0\n",
      "Trial 7/10 train_accuracy: 1.0\n"
     ]
    },
    {
     "name": "stderr",
     "output_type": "stream",
     "text": [
      "\r",
      " 80%|███████████████████████████████████▏        | 8/10 [00:51<00:15,  7.78s/it]"
     ]
    },
    {
     "name": "stdout",
     "output_type": "stream",
     "text": [
      "Trial 8/10 val_mse: 0.001074197244847\n",
      "Trial 8/10 train_mse: 0.000676401425153\n",
      "Trial 8/10 val_accuracy: 1.0\n",
      "Trial 8/10 train_accuracy: 1.0\n"
     ]
    },
    {
     "name": "stderr",
     "output_type": "stream",
     "text": [
      "\r",
      " 90%|███████████████████████████████████████▌    | 9/10 [00:51<00:05,  5.50s/it]"
     ]
    },
    {
     "name": "stdout",
     "output_type": "stream",
     "text": [
      "Trial 9/10 val_mse: 0.2385548145871437\n",
      "Trial 9/10 train_mse: 0.2273688465356826\n",
      "Trial 9/10 val_accuracy: 0.6176470518112183\n",
      "Trial 9/10 train_accuracy: 0.6222222447395325\n"
     ]
    },
    {
     "name": "stderr",
     "output_type": "stream",
     "text": [
      "100%|███████████████████████████████████████████| 10/10 [01:00<00:00,  6.03s/it]"
     ]
    },
    {
     "name": "stdout",
     "output_type": "stream",
     "text": [
      "Trial 10/10 val_mse: 0.0009867594057944\n",
      "Trial 10/10 train_mse: 0.0006803916767239\n",
      "Trial 10/10 val_accuracy: 1.0\n",
      "Trial 10/10 train_accuracy: 1.0\n",
      "\n",
      "Median val_mse: 0.001074197244847, std val_mse: 0.10759381295758244\n",
      "Median train_mse: 0.000676401425153, std train_mse: 0.09952093248154331\n",
      "Median val_accuracy: 1.0, std val_accuracy: 0.17986923159684523\n",
      "Median train_accuracy: 1.0, std train_accuracy: 0.16357460896226042\n"
     ]
    },
    {
     "name": "stderr",
     "output_type": "stream",
     "text": [
      "\n"
     ]
    },
    {
     "data": {
      "image/png": "[encoded data removed]",
      "text/plain": [
       "<Figure size 640x480 with 1 Axes>"
      ]
     },
     "metadata": {},
     "output_type": "display_data"
    },
    {
     "data": {
      "image/png": "[encoded data removed]",
      "text/plain": [
       "<Figure size 640x480 with 1 Axes>"
      ]
     },
     "metadata": {},
     "output_type": "display_data"
    },
    {
     "name": "stdout",
     "output_type": "stream",
     "text": [
      "Test MSE: 0.0009809647453948855\n",
      "Test accuracy: 1.0\n"
     ]
    }
   ],
   "source": [
    "model = grid_search(params, x_train, y_train, k_fold_val)\n",
    "test_model(model, x_test, y_test)"
   ]
  },
  {
   "cell_type": "markdown",
   "id": "8f02c069",
   "metadata": {},
   "source": [
    "# Monk 3"
   ]
  },
  {
   "cell_type": "code",
   "execution_count": 63,
   "id": "55619cba",
   "metadata": {},
   "outputs": [
    {
     "name": "stdout",
     "output_type": "stream",
     "text": [
      "Loaded ./../data/monks-3 dataset\n",
      "(122, 17) (122,)\n",
      "(432, 17) (432,)\n"
     ]
    }
   ],
   "source": [
    "x_train, y_train, x_test, y_test = load_dataset(\"monks3\", True)\n",
    "print(x_train.shape, y_train.shape)\n",
    "print(x_test.shape, y_test.shape)"
   ]
  },
  {
   "cell_type": "code",
   "execution_count": 71,
   "id": "7c169d62",
   "metadata": {},
   "outputs": [],
   "source": [
    "params = {\n",
    "    \"task\": \"classification\",\n",
    "    \"trials_train\": 1,\n",
    "    \"trials_test\": 10,\n",
    "    \"initialization\": {\n",
    "        \"type\": \"default\",\n",
    "        \"min\": -0.5,\n",
    "        \"max\": 0.5\n",
    "    },\n",
    "    \"early_stopping\": {\n",
    "        \"monitor\": \"val_loss\",\n",
    "        \"patience\": 20,\n",
    "        \"delta\": 0.0\n",
    "    },\n",
    "    \"max_epochs\": [500],\n",
    "    \"learning_rate\": np.linspace(0.3, 0.7, 3).tolist(),\n",
    "    \"batch_size\": [None],\n",
    "    \"momentum\": np.linspace(0.6, 0.9, 3).tolist(),\n",
    "    \"nesterov\": False,\n",
    "    \"learning_rate_decay\": None,\n",
    "    \"regularization\": [\n",
    "        {\n",
    "            \"type\": \"l2\",\n",
    "            \"value\": [0.0001]\n",
    "        }\n",
    "    ],\n",
    "    \"layers\": [\n",
    "        {\n",
    "            \"activations\": [\"relu\"],\n",
    "            \"units\": [16],\n",
    "        },\n",
    "    ]\n",
    "}\n",
    "\n",
    "k_fold_val = {\n",
    "    \"type\": \"k-fold\",\n",
    "    \"n_folds\": 5\n",
    "}\n",
    "\n",
    "hold_out_val = {\n",
    "    \"type\": \"hold-out\",\n",
    "    \"val_split\": 0.2\n",
    "}\n"
   ]
  },
  {
   "cell_type": "code",
   "execution_count": 23,
   "id": "420cace0",
   "metadata": {},
   "outputs": [
    {
     "name": "stdout",
     "output_type": "stream",
     "text": [
      "Testing configuration 1/1:\n",
      "{'batch_size': 16, 'learning_rate': 0.05, 'max_epochs': 500, 'momentum': 0.9, 'initialization': {'type': 'uniform', 'min': -0.1, 'max': 0.1}, 'early_stopping': {'monitor': 'val_loss', 'patience': 10, 'delta': 0.01}, 'task': 'regression', 'trials_train': 1, 'trials_test': 5, 'nesterov': False, 'learning_rate_decay': {'epochs': 100, 'lr_final': 0.001}, 'regularization': {'method': 'l1', 'value': 0.001}, 'activations_1': 'relu', 'units_1': 100}\n",
      "\n",
      "Executing fold 1/5\n"
     ]
    },
    {
     "name": "stderr",
     "output_type": "stream",
     "text": [
      "100%|█████████████████████████████████████████████| 1/1 [00:03<00:00,  3.41s/it]\n"
     ]
    },
    {
     "name": "stdout",
     "output_type": "stream",
     "text": [
      "Fold 1/5 median val_loss: 0.0067614717409014, std val_loss 0.0\n",
      "Fold 1/5 median train_loss: 0.0114761563017964, std train_loss 0.0\n",
      "Fold 1/5 median val_mee: 0.096649669110775, std val_mee 0.0\n",
      "Fold 1/5 median train_mee: 0.0959205776453018, train_mee 0.0\n",
      "\n",
      "Executing fold 2/5\n"
     ]
    },
    {
     "name": "stderr",
     "output_type": "stream",
     "text": [
      "100%|█████████████████████████████████████████████| 1/1 [00:02<00:00,  2.93s/it]\n"
     ]
    },
    {
     "name": "stdout",
     "output_type": "stream",
     "text": [
      "Fold 2/5 median val_loss: 0.0056829405948519, std val_loss 0.0\n",
      "Fold 2/5 median train_loss: 0.0117598762735724, std train_loss 0.0\n",
      "Fold 2/5 median val_mee: 0.0888475701212883, std val_mee 0.0\n",
      "Fold 2/5 median train_mee: 0.0965029895305633, train_mee 0.0\n",
      "\n",
      "Executing fold 3/5\n"
     ]
    },
    {
     "name": "stderr",
     "output_type": "stream",
     "text": [
      "100%|█████████████████████████████████████████████| 1/1 [00:02<00:00,  2.67s/it]\n"
     ]
    },
    {
     "name": "stdout",
     "output_type": "stream",
     "text": [
      "Fold 3/5 median val_loss: 0.007325030863285, std val_loss 0.0\n",
      "Fold 3/5 median train_loss: 0.0114032421261072, std train_loss 0.0\n",
      "Fold 3/5 median val_mee: 0.100348025560379, std val_mee 0.0\n",
      "Fold 3/5 median train_mee: 0.094821386039257, train_mee 0.0\n",
      "\n",
      "Executing fold 4/5\n"
     ]
    },
    {
     "name": "stderr",
     "output_type": "stream",
     "text": [
      "100%|█████████████████████████████████████████████| 1/1 [00:02<00:00,  2.63s/it]\n"
     ]
    },
    {
     "name": "stdout",
     "output_type": "stream",
     "text": [
      "Fold 4/5 median val_loss: 0.0069949114695191, std val_loss 0.0\n",
      "Fold 4/5 median train_loss: 0.0116865914314985, std train_loss 0.0\n",
      "Fold 4/5 median val_mee: 0.0976495295763015, std val_mee 0.0\n",
      "Fold 4/5 median train_mee: 0.0962502136826515, train_mee 0.0\n",
      "\n",
      "Executing fold 5/5\n"
     ]
    },
    {
     "name": "stderr",
     "output_type": "stream",
     "text": [
      "100%|█████████████████████████████████████████████| 1/1 [00:02<00:00,  2.58s/it]\n"
     ]
    },
    {
     "name": "stdout",
     "output_type": "stream",
     "text": [
      "Fold 5/5 median val_loss: 0.0059514590539038, std val_loss 0.0\n",
      "Fold 5/5 median train_loss: 0.011737453751266, std train_loss 0.0\n",
      "Fold 5/5 median val_mee: 0.0905270501971244, std val_mee 0.0\n",
      "Fold 5/5 median train_mee: 0.0968455746769905, train_mee 0.0\n",
      "\n",
      "Mean val_loss: 0.0065431627444922395, std val_loss: 0.0006250038220441415\n",
      "Mean train_loss: 0.011612663976848101, std train_loss: 0.00014505245504503852\n",
      "Mean val_mee: 0.09480436891317365, std val_mee: 0.004382033963493522\n",
      "Mean train_mee: 0.09480436891317365, std train_mee: 0.0006932271927643166\n",
      "\n",
      "\n",
      "\n",
      "\n",
      "\n",
      "\n",
      "Best configuration (loss 0.0065431627444922395):\n",
      "{'batch_size': 16, 'learning_rate': 0.05, 'max_epochs': 500, 'momentum': 0.9, 'initialization': {'type': 'uniform', 'min': -0.1, 'max': 0.1}, 'early_stopping': {'monitor': 'val_loss', 'patience': 10, 'delta': 0.01}, 'task': 'regression', 'trials_train': 1, 'trials_test': 5, 'nesterov': False, 'learning_rate_decay': {'epochs': 100, 'lr_final': 0.001}, 'regularization': {'method': 'l1', 'value': 0.001}, 'activations_1': 'relu', 'units_1': 100}\n"
     ]
    },
    {
     "name": "stderr",
     "output_type": "stream",
     "text": [
      " 20%|█████████                                    | 1/5 [00:02<00:10,  2.58s/it]"
     ]
    },
    {
     "name": "stdout",
     "output_type": "stream",
     "text": [
      "Trial 1/5 val_mse: 0.0070279776118695\n",
      "Trial 1/5 train_mse: 0.0116356639191508\n",
      "Trial 1/5 val_mee: 0.0971260368824005\n",
      "Trial 1/5 train_mee: 0.0976147577166557\n"
     ]
    },
    {
     "name": "stderr",
     "output_type": "stream",
     "text": [
      "\r",
      " 40%|██████████████████                           | 2/5 [00:05<00:07,  2.58s/it]"
     ]
    },
    {
     "name": "stdout",
     "output_type": "stream",
     "text": [
      "Trial 2/5 val_mse: 0.0069869994185864\n",
      "Trial 2/5 train_mse: 0.0117866285145282\n",
      "Trial 2/5 val_mee: 0.0963224917650222\n",
      "Trial 2/5 train_mee: 0.0980324149131774\n"
     ]
    },
    {
     "name": "stderr",
     "output_type": "stream",
     "text": [
      "\r",
      " 60%|███████████████████████████                  | 3/5 [00:08<00:05,  2.72s/it]"
     ]
    },
    {
     "name": "stdout",
     "output_type": "stream",
     "text": [
      "Trial 3/5 val_mse: 0.006962536368519\n",
      "Trial 3/5 train_mse: 0.0117912730202078\n",
      "Trial 3/5 val_mee: 0.0962832644581794\n",
      "Trial 3/5 train_mee: 0.0980078279972076\n"
     ]
    },
    {
     "name": "stderr",
     "output_type": "stream",
     "text": [
      "\r",
      " 80%|████████████████████████████████████         | 4/5 [00:10<00:02,  2.72s/it]"
     ]
    },
    {
     "name": "stdout",
     "output_type": "stream",
     "text": [
      "Trial 4/5 val_mse: 0.0070291222073137\n",
      "Trial 4/5 train_mse: 0.011940311640501\n",
      "Trial 4/5 val_mee: 0.0959836021065712\n",
      "Trial 4/5 train_mee: 0.0976365357637405\n"
     ]
    },
    {
     "name": "stderr",
     "output_type": "stream",
     "text": [
      "100%|█████████████████████████████████████████████| 5/5 [00:13<00:00,  2.72s/it]"
     ]
    },
    {
     "name": "stdout",
     "output_type": "stream",
     "text": [
      "Trial 5/5 val_mse: 0.0070163151249289\n",
      "Trial 5/5 train_mse: 0.0118353245779871\n",
      "Trial 5/5 val_mee: 0.095317505300045\n",
      "Trial 5/5 train_mee: 0.0969056859612464\n",
      "\n",
      "Median val_mse: 0.0070163151249289, std val_mse: 2.5939254477877095e-05\n",
      "Median train_mse: 0.0118353245779871, std train_mse: 9.815616716543044e-05\n",
      "Median val_mee: 0.095317505300045, std val_mee: 0.0005839332093738875\n",
      "Median train_mee: 0.0969056859612464, std train_mee: 0.00040722270021698254\n"
     ]
    },
    {
     "name": "stderr",
     "output_type": "stream",
     "text": [
      "\n"
     ]
    },
    {
     "data": {
      "image/png": "[encoded data removed]",
      "text/plain": [
       "<Figure size 640x480 with 1 Axes>"
      ]
     },
     "metadata": {},
     "output_type": "display_data"
    },
    {
     "data": {
      "image/png": "[encoded data removed]",
      "text/plain": [
       "<Figure size 640x480 with 1 Axes>"
      ]
     },
     "metadata": {},
     "output_type": "display_data"
    },
    {
     "name": "stdout",
     "output_type": "stream",
     "text": [
      "\n",
      "Validation MSE: 5.459822177886963\n",
      "Validation MEE: 1.9134626388549805\n",
      "Test MSE: 0.008921989239752293\n",
      "Test accuracy: 0.1093350201845169\n"
     ]
    }
   ],
   "source": [
    "model = grid_search(params, x_train, y_train, k_fold_val)\n",
    "test_model(model, x_test, y_test)"
   ]
  }
 ],
 "metadata": {
  "kernelspec": {
   "display_name": "mlvenv",
   "language": "python",
   "name": "mlvenv"
  },
  "language_info": {
   "codemirror_mode": {
    "name": "ipython",
    "version": 3
   },
   "file_extension": ".py",
   "mimetype": "text/x-python",
   "name": "python",
   "nbconvert_exporter": "python",
   "pygments_lexer": "ipython3",
   "version": "3.10.6"
  }
 },
 "nbformat": 4,
 "nbformat_minor": 5
}
