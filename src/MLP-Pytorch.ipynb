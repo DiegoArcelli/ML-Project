{
 "cells": [
  {
   "cell_type": "code",
   "execution_count": 1,
   "id": "d37f696d",
   "metadata": {},
   "outputs": [
    {
     "name": "stderr",
     "output_type": "stream",
     "text": [
      "2022-12-11 11:52:34.270572: I tensorflow/core/platform/cpu_feature_guard.cc:193] This TensorFlow binary is optimized with oneAPI Deep Neural Network Library (oneDNN) to use the following CPU instructions in performance-critical operations:  AVX2 FMA\n",
      "To enable them in other operations, rebuild TensorFlow with the appropriate compiler flags.\n",
      "2022-12-11 11:52:49.992335: E tensorflow/stream_executor/cuda/cuda_blas.cc:2981] Unable to register cuBLAS factory: Attempting to register factory for plugin cuBLAS when one has already been registered\n",
      "2022-12-11 11:53:17.913776: W tensorflow/stream_executor/platform/default/dso_loader.cc:64] Could not load dynamic library 'libnvinfer.so.7'; dlerror: libnvinfer.so.7: cannot open shared object file: No such file or directory\n",
      "2022-12-11 11:53:17.914392: W tensorflow/stream_executor/platform/default/dso_loader.cc:64] Could not load dynamic library 'libnvinfer_plugin.so.7'; dlerror: libnvinfer_plugin.so.7: cannot open shared object file: No such file or directory\n",
      "2022-12-11 11:53:17.914439: W tensorflow/compiler/tf2tensorrt/utils/py_utils.cc:38] TF-TRT Warning: Cannot dlopen some TensorRT libraries. If you would like to use Nvidia GPU with TensorRT, please make sure the missing libraries mentioned above are installed properly.\n"
     ]
    }
   ],
   "source": [
    "import warnings\n",
    "warnings.filterwarnings('ignore')\n",
    "from tqdm import tqdm\n",
    "import pandas as pd\n",
    "import numpy as np\n",
    "from sklearn.model_selection import GridSearchCV\n",
    "from scikeras.wrappers import KerasClassifier\n",
    "from sklearn.model_selection import KFold\n",
    "import keras_tuner\n",
    "import keras\n",
    "from keras import layers\n",
    "import itertools\n",
    "from sklearn.model_selection import train_test_split\n",
    "from keras.callbacks import LearningRateScheduler\n",
    "import matplotlib.pyplot as plt\n",
    "from sklearn.model_selection import KFold, StratifiedKFold\n",
    "from sklearn.preprocessing import OneHotEncoder\n",
    "from sklearn.preprocessing import StandardScaler, MinMaxScaler\n",
    "from math import ceil\n",
    "import numpy as np\n",
    "from pytorch_lightning.callbacks import LearningRateMonitor\n",
    "import matplotlib.pyplot as plt\n",
    "from sklearn.preprocessing import StandardScaler\n",
    "from sklearn.model_selection import train_test_split\n",
    "from sklearn.preprocessing import MinMaxScaler\n",
    "from pytorch_lightning.callbacks import ModelSummary\n",
    "from sklearn.preprocessing import OneHotEncoder\n",
    "from sklearn.preprocessing import StandardScaler\n",
    "from pytorch_lightning.loggers import CSVLogger\n",
    "import pandas as pd\n",
    "import datetime\n",
    "import torch\n",
    "import torch.nn as nn\n",
    "from torchmetrics import Metric\n",
    "import torch.utils.data as data\n",
    "from torch.utils.data import Dataset, DataLoader \n",
    "import pytorch_lightning as pl\n",
    "from datetime import datetime\n",
    "from pytorch_lightning.callbacks.early_stopping import EarlyStopping\n",
    "from torchmetrics import Accuracy\n",
    "import logging\n",
    "import os\n",
    "logging.getLogger(\"lightning\").addHandler(logging.NullHandler())\n",
    "logging.getLogger(\"lightning\").propagate = False\n",
    "logging.getLogger(\"pytorch_lightning\").setLevel(logging.WARNING)"
   ]
  },
  {
   "cell_type": "code",
   "execution_count": 2,
   "id": "6d8327a6",
   "metadata": {},
   "outputs": [],
   "source": [
    "def plot_curves(curve_1, label_1, curve_2=None, label_2=None):\n",
    "    if curve_1 is not None: \n",
    "        plt.plot(curve_1, label = label_1)\n",
    "    if curve_2 is not None: \n",
    "        plt.plot(curve_2, label = label_2)   \n",
    "    plt.legend()\n",
    "    plt.show()"
   ]
  },
  {
   "cell_type": "code",
   "execution_count": 3,
   "id": "d60634f7",
   "metadata": {},
   "outputs": [],
   "source": [
    "x_scaler = None\n",
    "y_scaler = None\n",
    "\n",
    "def load_monks(path, encode):\n",
    "    \n",
    "    train = pd.read_csv(f\"{path}.train\", header=None, sep=\" \")\n",
    "    test = pd.read_csv(f\"{path}.test\", header=None, sep=\" \")\n",
    "    \n",
    "    train.drop(0, axis=1, inplace=True)\n",
    "    test.drop(0, axis=1, inplace=True)\n",
    "    train.drop(8, axis=1, inplace=True)\n",
    "    test.drop(8, axis=1, inplace=True)\n",
    "    \n",
    "    y_train = train.iloc[:, 0].to_numpy().astype(np.float64)\n",
    "    x_train = train.iloc[:, 1:].to_numpy().astype(np.float64)\n",
    "    y_test = test.iloc[:, 0].to_numpy().astype(np.float64)\n",
    "    x_test = test.iloc[:, 1:].to_numpy().astype(np.float64)\n",
    "    \n",
    "        \n",
    "    if encode:\n",
    "        \n",
    "        encoder = OneHotEncoder()\n",
    "        \n",
    "        encoder.fit(x_train)\n",
    "        x_train = encoder.transform(x_train).toarray()\n",
    "        x_test = encoder.transform(x_test).toarray()\n",
    "        \n",
    "        \n",
    "    \n",
    "    print(f\"Loaded {path} dataset\")\n",
    "    \n",
    "    return x_train, y_train, x_test, y_test\n",
    "    \n",
    "\n",
    "def load_cup(scale):\n",
    "    global x_scaler\n",
    "    global y_scaler\n",
    "    \n",
    "    x_scaler = StandardScaler()\n",
    "    y_scaler = StandardScaler()\n",
    "    # scaler = MinMaxScaler()\n",
    "    \n",
    "    train = pd.read_csv(\"../data/ML-CUP22-INTERNAL-TR.csv\", header=None, sep=\",\")\n",
    "    test = pd.read_csv(\"../data/ML-CUP22-INTERNAL-TS.csv\", header=None, sep=\",\")\n",
    "    train.drop(0, axis=1, inplace=True)\n",
    "    test.drop(0, axis=1, inplace=True)\n",
    "\n",
    "    x_train = train.iloc[:, :9].to_numpy().astype(np.float64)\n",
    "    y_train = train.iloc[:, 9:].to_numpy().astype(np.float64)\n",
    "\n",
    "    x_test = test.iloc[:, :9].to_numpy().astype(np.float64)\n",
    "    y_test = test.iloc[:, 9:].to_numpy().astype(np.float64) \n",
    "    # x_test_blind = test.to_numpy().astype(np.float64)\n",
    "    \n",
    "    # x_train, x_test, y_train, y_test = train_test_split(x_train, y_train, test_size=0.1, shuffle=True, random_state=7)\n",
    "    \n",
    "    if scale:\n",
    "        x_scaler.fit(x_train)\n",
    "        x_train = x_scaler.transform(x_train)\n",
    "        x_test = x_scaler.transform(x_test)\n",
    "        \n",
    "        y_scaler.fit(y_train)\n",
    "        y_train = y_scaler.transform(y_train)\n",
    "        y_test = y_scaler.transform(y_test)\n",
    "        \n",
    "        \n",
    "    return x_train, y_train, x_test, y_test #, x_test_blind\n",
    "    \n",
    "    \n",
    "    \n",
    "def load_dataset(dataset, encode=True):\n",
    "    assert dataset in [\"monks1\", \"monks2\", \"monks3\", \"cup\"]\n",
    "    \n",
    "    if dataset == \"monks1\":\n",
    "        return load_monks(\"./../data/monks-1\", encode)\n",
    "    elif dataset == \"monks2\":\n",
    "        return load_monks(\"./../data/monks-2\", encode)\n",
    "    elif dataset == \"monks3\":\n",
    "        return load_monks(\"./../data/monks-3\", encode)\n",
    "    else:\n",
    "        return load_cup(encode)"
   ]
  },
  {
   "cell_type": "code",
   "execution_count": 64,
   "id": "ad558fec",
   "metadata": {},
   "outputs": [],
   "source": [
    "class History:\n",
    "    def __init__(self):\n",
    "        self.history = {}\n",
    "\n",
    "def get_activation_function(name):\n",
    "    if name == \"relu\":\n",
    "        return nn.ReLU()\n",
    "    elif name == \"tanh\":\n",
    "        return nn.Tanh()\n",
    "    elif name == \"sigmoid\":\n",
    "        return nn.Sigmoid()\n",
    "    elif name == \"linear\":\n",
    "        return None\n",
    "\n",
    "def mee(y_true, y_pred):\n",
    "    return (y_true - y_pred).square().sum(axis=1).sqrt().mean()\n",
    "\n",
    "def mse(y_true, y_pred):\n",
    "    return (y_true - y_pred).square().sum(axis=1).mean()\n",
    "    \n",
    "class MEE(Metric):\n",
    "    \n",
    "    def __init__(self):\n",
    "        super().__init__()\n",
    "        self.add_state(\"result\", default=torch.tensor(0.0))\n",
    "        \n",
    "    def update(self, y_pred, y_true):\n",
    "        self.result += mee(y_true, y_pred)\n",
    "\n",
    "    def compute(self):\n",
    "        return self.result\n",
    "    \n",
    "\n",
    "class MultiLayerPerceptron(pl.LightningModule):\n",
    "    def __init__(self, input_dim, output_dim, config):\n",
    "        super(MultiLayerPerceptron, self).__init__()\n",
    "        \n",
    "        task = config[\"task\"]\n",
    "        self.lr = config[\"learning_rate\"]\n",
    "        self.momentum = config[\"momentum\"]\n",
    "        self.nesterov = config[\"nesterov\"]\n",
    "        init = config[\"initialization\"]\n",
    "        reg_method = config[\"regularization\"][\"method\"]\n",
    "        self.reg_method = reg_method\n",
    "        \n",
    "        if reg_method != None:\n",
    "            value = config[\"regularization\"][\"value\"]\n",
    "            self.reg_value = value\n",
    "        \n",
    "        self.task = task\n",
    "        self.model = nn.Sequential()\n",
    "        \n",
    "        units = config[\"units_1\"]\n",
    "        \n",
    "        self.model.add_module(\"linear_input\", nn.Linear(input_dim, units))\n",
    "        \n",
    "        n_layers = 0\n",
    "        for key in config.keys():\n",
    "            if key.startswith(\"units_\"):\n",
    "                n_layers += 1\n",
    "                \n",
    "        for n_layer in range(1, n_layers+1):\n",
    "            out_units = config[f\"units_{n_layer}\"]\n",
    "            self.model.add_module(f\"linear_{n_layer}\", nn.Linear(units, out_units))\n",
    "            activation = get_activation_function(config[f\"activations_{n_layer}\"])\n",
    "            if activation != None:\n",
    "                self.model.add_module(f\"activations_{n_layer}\", activation)\n",
    "            units = out_units\n",
    "        \n",
    "        if task == \"classification\":\n",
    "            self.model.add_module(\"layer_output\", nn.Linear(units, output_dim))\n",
    "            self.model.add_module(\"activations_output\", nn.Sigmoid())\n",
    "            self.metric = Accuracy()\n",
    "            self.metric_name = \"accuracy\"\n",
    "        \n",
    "        if task == \"regression\":\n",
    "            self.model.add_module(\"layer_output\", nn.Linear(units, output_dim))\n",
    "            self.metric = MEE()\n",
    "            self.metric_name = \"mee\"\n",
    "                    \n",
    "        if init[\"type\"] == \"uniform\":\n",
    "            self.min = init[\"min\"]\n",
    "            self.max = init[\"max\"]\n",
    "            self.apply(self.init_weights_uniform)\n",
    "        elif init[\"type\"] == \"normal\":\n",
    "            self.mean = init[\"mean\"]\n",
    "            self.std = init[\"std\"]\n",
    "            self.apply(self.init_weights_normal)\n",
    "            \n",
    "            \n",
    "        self.loss = nn.MSELoss()\n",
    "        self.dicts = []\n",
    "            \n",
    "            \n",
    "\n",
    "    def init_weights_uniform(self, m):\n",
    "        if isinstance(m, nn.Linear):\n",
    "            torch.nn.init.uniform_(m.weight, self.min, self.max)\n",
    "            torch.nn.init.uniform_(m.bias, self.min, self.max)\n",
    "            # m.bias.data.fill_(0.01)\n",
    "            \n",
    "            \n",
    "\n",
    "    def init_weights_normal(self, m):\n",
    "        if isinstance(m, nn.Linear):\n",
    "            torch.nn.init.normal_(m.weight, sefl.mean, sefl.std)\n",
    "            torch.nn.init.normal_(m.bias, sefl.mean, sefl.std)\n",
    "            # m.bias.data.fill_(0.01)\n",
    "\n",
    "            \n",
    "            \n",
    "    def compute_metric(self, y_pred, y_true):\n",
    "        if self.task == \"classification\":\n",
    "            y_pred = y_pred.reshape(y_true.shape)  \n",
    "            return self.metric(y_pred, y_true.to(torch.int32))\n",
    "        elif self.task == \"regression\":\n",
    "            y_true = y_true.to(torch.float32)\n",
    "            return self.metric(y_pred, y_true)\n",
    "        \n",
    "\n",
    "\n",
    "    def compute_loss(self, y_pred, y_true):\n",
    "        if self.task == \"classification\":\n",
    "            y_pred = y_pred.reshape(y_true.shape)  \n",
    "            return self.loss(y_pred, y_true)\n",
    "        elif self.task == \"regression\":\n",
    "            y_true = y_true.to(torch.float32)\n",
    "            return self.loss(y_pred, y_true)\n",
    "        \n",
    "        \n",
    "    def get_regularization_term(self):\n",
    "        if self.reg_method != None:\n",
    "            \n",
    "            value = self.reg_value\n",
    "            p = 1 if self.reg_method == \"l1\" else 2\n",
    "            reg = 0\n",
    "            \n",
    "            for param in self.model.parameters():\n",
    "                reg += torch.linalg.norm(param, p)\n",
    "                \n",
    "            reg *= value\n",
    "            \n",
    "            return reg\n",
    "        \n",
    "        return 0\n",
    "            \n",
    "        \n",
    "        \n",
    "    def forward(self, x):\n",
    "        return self.model(x)\n",
    "\n",
    "    \n",
    "    \n",
    "    def configure_optimizers(self):\n",
    "        optimizer = torch.optim.SGD(self.parameters(), lr=self.lr, momentum=self.momentum, nesterov=self.nesterov)\n",
    "        return optimizer\n",
    "    \n",
    "    \n",
    "    \n",
    "    def training_step(self, train_batch, batch_idx):\n",
    "        X, y = train_batch \n",
    "        y_copy = y # Integer y for the accuracy\n",
    "        X = X.type(torch.float32)\n",
    "        y = y.type(torch.float32)  \n",
    "        # forward pass\n",
    "        y_pred = self.forward(X)\n",
    "        # accuracy\n",
    "        acc = self.compute_metric(y_pred, y_copy)\n",
    "        # compute loss\n",
    "        reg = self.get_regularization_term()\n",
    "        loss = self.compute_loss(y_pred, y) + reg\n",
    "        self.log_dict({'loss': loss, f'{self.metric_name}': acc}, on_step=False, on_epoch=True, prog_bar=True, logger=True)\n",
    "        return loss\n",
    "    \n",
    "    \n",
    "    \n",
    "    def validation_step(self, validation_batch, batch_idx):\n",
    "        X, y = validation_batch\n",
    "        X = X.type(torch.float32)\n",
    "        # forward pass\n",
    "        y_pred = self.forward(X)\n",
    "        # compute metrics \n",
    "        acc = self.compute_metric(y_pred, y)\n",
    "        # compute loss\n",
    "        loss = self.compute_loss(y_pred, y)\n",
    "        self.log_dict({'val_loss': loss, f'val_{self.metric_name}': acc}, prog_bar=True, logger=True)\n",
    "        return loss\n",
    "    \n",
    "    \n",
    "    \n",
    "    \n",
    "    def test_step(self, test_batch, batch_idx):\n",
    "        X, y = test_batch\n",
    "        X = X.type(torch.float32)\n",
    "        # forward pass\n",
    "        y_pred = self.forward(X)\n",
    "        # compute metrics \n",
    "        acc = self.compute_metric(y_pred, y)\n",
    "        # compute loss\n",
    "        loss = self.compute_loss(y_pred, y)\n",
    "        self.log_dict({'test_loss': loss, f'test_{self.metric_name}': acc}, on_epoch=True,on_step=False, prog_bar=True, logger=True)\n",
    "        return loss\n",
    "\n",
    "    \n",
    "class CustomDataset(Dataset):\n",
    "    def __init__(self, X, y):\n",
    "        self.X = X\n",
    "        self.y = y\n",
    "    \n",
    "    def __len__(self):\n",
    "        return len(self.X)\n",
    "    \n",
    "    def __getitem__(self, idx):\n",
    "        return self.X[idx], self.y[idx]"
   ]
  },
  {
   "cell_type": "code",
   "execution_count": 75,
   "id": "68a4b4e1",
   "metadata": {},
   "outputs": [],
   "source": [
    "def median_index(array):\n",
    "    n = len(array)\n",
    "    med_idx = np.argsort(array)[ceil((n-1)/2)]\n",
    "    # med_val = array[med_idx]\n",
    "    return med_idx #, med_val\n",
    "\n",
    "\n",
    "def merge_dicts(dicts):\n",
    "    merged = {}\n",
    "    for d in dicts:\n",
    "        merged = {**merged, **d}\n",
    "    return merged\n",
    "\n",
    "def get_attributes_num(dataset):\n",
    "    return 1 if len(dataset.shape) == 1 else dataset.shape[1]\n",
    "\n",
    "\n",
    "def get_params_configurations(params):\n",
    "    \n",
    "    keys = list(params.keys())\n",
    "    keys.remove(\"layers\")\n",
    "    keys.remove(\"task\")\n",
    "    keys.remove(\"initialization\")\n",
    "    keys.remove(\"early_stopping\")\n",
    "    keys.remove(\"regularization\")\n",
    "    keys.remove(\"nesterov\")\n",
    "    keys.remove(\"trials_train\")\n",
    "    keys.remove(\"trials_test\")\n",
    "    keys.remove(\"learning_rate_decay\")\n",
    "    sorted_keys = sorted(keys)\n",
    "    arguments = []\n",
    "    for key in sorted_keys:\n",
    "        arguments.append(params[key])\n",
    "    \n",
    "    arguments = tuple(arguments)\n",
    "    all_params = list(itertools.product(*arguments))\n",
    "        \n",
    "    configurations = []\n",
    "    \n",
    "    for conf in all_params:\n",
    "        \n",
    "        dict_conf = {}\n",
    "        \n",
    "        for i in range(len(sorted_keys)):\n",
    "            dict_conf[sorted_keys[i]] = conf[i]\n",
    "        dict_conf[\"initialization\"] = params[\"initialization\"]\n",
    "        dict_conf[\"early_stopping\"] = params[\"early_stopping\"]\n",
    "        dict_conf[\"task\"] = params[\"task\"]\n",
    "        dict_conf[\"trials_train\"] = params[\"trials_train\"]\n",
    "        dict_conf[\"trials_test\"] = params[\"trials_test\"]\n",
    "        dict_conf[\"nesterov\"] = params[\"nesterov\"]\n",
    "        dict_conf[\"learning_rate_decay\"] = params[\"learning_rate_decay\"]\n",
    "        \n",
    "        # add regularization parameters\n",
    "        for reg in params[\"regularization\"]:\n",
    "            method = reg[\"type\"]\n",
    "            \n",
    "            if method == None:\n",
    "                reg_dict_conf = dict_conf.copy()\n",
    "                reg_dict_conf[\"regularization\"] = {\n",
    "                    \"method\": None\n",
    "                }\n",
    "                configurations.append(reg_dict_conf)\n",
    "                continue\n",
    "            \n",
    "            for val in reg[\"value\"]:\n",
    "                reg_dict_conf = dict_conf.copy()\n",
    "                reg_dict_conf[\"regularization\"] = {\n",
    "                    \"method\": method,\n",
    "                    \"value\": val\n",
    "                }\n",
    "        \n",
    "                configurations.append(reg_dict_conf)\n",
    "            \n",
    "        \n",
    "    return configurations\n",
    "\n",
    "\n",
    "def get_callbacks(config):\n",
    "    \n",
    "    lr_decay = config[\"learning_rate_decay\"]\n",
    "    early_stopping = config[\"early_stopping\"]\n",
    "    \n",
    "    callbacks = []\n",
    "    \n",
    "    if early_stopping != None:        \n",
    "        early_stop = EarlyStopping(\n",
    "            monitor=early_stopping[\"monitor\"],\n",
    "            min_delta=early_stopping[\"delta\"],\n",
    "            patience=early_stopping[\"patience\"], \n",
    "            verbose=False,\n",
    "            mode=\"min\"\n",
    "        )\n",
    "        \n",
    "        callbacks.append(early_stop)\n",
    "\n",
    "    if lr_decay != None:\n",
    "        decay_epochs = lr_decay[\"epochs\"]\n",
    "        lr_final = lr_decay[\"lr_final\"]\n",
    "        linear_scheduler = get_linear_scheduler(decay_epochs, lr_final)\n",
    "        scheduler = LearningRateScheduler(linear_scheduler)\n",
    "        callbacks.append(scheduler)\n",
    "        \n",
    "    return callbacks if callbacks != [] else None\n",
    "        \n",
    "\n",
    "\n",
    "def get_layers_configurations(params, configurations):\n",
    "    layers = params[\"layers\"]\n",
    "    layers_params_confs = []\n",
    "    \n",
    "    for n_layer in range(len(layers)):\n",
    "        layers_params_confs.append([]) \n",
    "    \n",
    "    for i in range(len(layers)):\n",
    "        layer = layers[i]\n",
    "        activations = layer[\"activations\"]\n",
    "        units = layer[\"units\"]\n",
    "        layer_confs = list(itertools.product(activations, units))\n",
    "        for conf in layer_confs:\n",
    "            conf_dict = {\n",
    "                f\"activations_{i+1}\": conf[0],\n",
    "                f\"units_{i+1}\": conf[1]\n",
    "            }\n",
    "            layers_params_confs[i].append(conf_dict)\n",
    "        \n",
    "    layers_confs = []\n",
    "    for i in range(len(layers_params_confs)):\n",
    "        confs = layers_params_confs[:i+1]\n",
    "        confs = tuple(confs)\n",
    "        confs = list(itertools.product(*confs))\n",
    "        for conf in confs:\n",
    "            layers_confs.append(merge_dicts(conf))\n",
    "                \n",
    "    return layers_confs\n",
    "\n",
    "\n",
    "\n",
    "def get_configurations(params):\n",
    "    \n",
    "    configurations = get_params_configurations(params)\n",
    "    layers_confs = get_layers_configurations(params, configurations)\n",
    "    configurations = list(itertools.product(configurations, layers_confs))\n",
    "    configurations_merged = []\n",
    "    \n",
    "    for conf in configurations:\n",
    "        configurations_merged.append(merge_dicts(conf))\n",
    "        \n",
    "    \n",
    "    return configurations_merged\n",
    "\n",
    "            \n",
    "\n",
    "def get_linear_scheduler(epochs, lr_final):\n",
    "    \n",
    "    def linear_scheduler(epoch, lr):\n",
    "        if (epoch < epochs):\n",
    "            alpha = epoch/epochs\n",
    "            return (1-alpha)*lr + alpha*lr_final\n",
    "        else:\n",
    "            return lr_final\n",
    "        \n",
    "    return linear_scheduler\n",
    "    \n",
    "\n",
    "def get_model(config, input_size, output_size):\n",
    "    model = MultiLayerPerceptron(input_size, output_size, config)\n",
    "    return model\n",
    "    \n",
    "    \n",
    "    \n",
    "def fit(model, x_train, y_train, x_val, y_val, max_epochs, batch_size, metric, config):  \n",
    "    \n",
    "    train_loader = DataLoader(dataset = CustomDataset(x_train, y_train), batch_size=batch_size)\n",
    "    validation_loader = DataLoader(dataset = CustomDataset(x_val, y_val), batch_size=batch_size)\n",
    "    \n",
    "    callbacks = get_callbacks(config)\n",
    "        \n",
    "    trainer = pl.Trainer(accelerator='cpu', devices=1, max_epochs=max_epochs,\n",
    "                         log_every_n_steps=5, logger=CSVLogger(save_dir=\"logs/\"),\n",
    "                         callbacks=callbacks, enable_progress_bar=False,\n",
    "                         enable_model_summary=False\n",
    "                        )  \n",
    "    \n",
    "    \n",
    "    trainer.fit(model=model, train_dataloaders=train_loader,\n",
    "                val_dataloaders=validation_loader) \n",
    "    \n",
    "    metrics = pd.read_csv(f\"{trainer.logger.log_dir}/metrics.csv\")\n",
    "    \n",
    "\n",
    "    history = History()\n",
    "            \n",
    "    history.history[\"loss\"] = metrics[\"loss\"].dropna().to_list()\n",
    "    history.history[\"val_loss\"] = metrics[\"val_loss\"].dropna().to_list()\n",
    "    history.history[f\"{metric}\"] = metrics[f\"{metric}\"].dropna().to_list()\n",
    "    history.history[f\"val_{metric}\"] = metrics[f\"val_{metric}\"].dropna().to_list()\n",
    "    \n",
    "    \n",
    "    return history\n",
    "    \n",
    "    \n",
    "    \n",
    "def fit_model_k_fold(x_train, y_train, config, n_folds):\n",
    "    \n",
    "    task = config[\"task\"]\n",
    "    \n",
    "    if task == \"classification\":\n",
    "        train_metric = \"accuracy\"\n",
    "        val_metric = \"val_accuracy\"\n",
    "    elif task == \"regression\":\n",
    "        train_metric = \"mee\"\n",
    "        val_metric = \"val_mee\"\n",
    "    \n",
    "    trials = config[\"trials_train\"]\n",
    "    max_epochs = config[\"max_epochs\"]\n",
    "    batch_size = config[\"batch_size\"]\n",
    "    \n",
    "    kf = KFold(n_splits = n_folds, shuffle=True)\n",
    "\n",
    "    train_losses = []\n",
    "    val_losses = []\n",
    "    train_accs = []\n",
    "    val_accs = []\n",
    "\n",
    "    fold = 1\n",
    "    for train_index, val_index in kf.split(x_train, y_train):\n",
    "        \n",
    "        print(f\"\\nExecuting fold {fold}/{n_folds}\")\n",
    "        \n",
    "        input_size = get_attributes_num(x_train)\n",
    "        output_size = get_attributes_num(y_train)\n",
    "        \n",
    "                \n",
    "        x_train_fold = x_train[train_index]\n",
    "        y_train_fold = y_train[train_index]\n",
    "\n",
    "        x_val_fold = x_train[val_index]\n",
    "        y_val_fold = y_train[val_index]\n",
    "\n",
    "        \n",
    "        trials_val_loss = []\n",
    "        trials_train_loss = []\n",
    "        trials_val_acc = []\n",
    "        trials_train_acc = []\n",
    "        \n",
    "        with tqdm(total=trials) as pbar:\n",
    "            for trial in range(trials):\n",
    "                \n",
    "                model = get_model(config, input_size, output_size)\n",
    "                history = fit(model, x_train_fold, y_train_fold, x_val_fold, y_val_fold, \n",
    "                              max_epochs, batch_size, train_metric, config)\n",
    "                \n",
    "                trial_train_loss = history.history[\"loss\"]\n",
    "                trial_val_loss = history.history[\"val_loss\"]         \n",
    "                trial_train_acc = history.history[train_metric]\n",
    "                trial_val_acc = history.history[val_metric]\n",
    "\n",
    "                trials_val_loss.append(trial_val_loss[-1])\n",
    "                trials_train_loss.append(trial_train_loss[-1])\n",
    "                trials_val_acc.append(trial_val_acc[-1])\n",
    "                trials_train_acc.append(trial_train_acc[-1])\n",
    "\n",
    "                pbar.update(1)\n",
    "            \n",
    "        # get the median metrics among the trials\n",
    "        med_idx = median_index(trials_val_loss)\n",
    "        med_val_loss = trials_val_loss[med_idx]\n",
    "        med_train_loss = trials_train_loss[med_idx]\n",
    "        med_val_acc = trials_val_acc[med_idx]\n",
    "        med_train_acc = trials_train_acc[med_idx]\n",
    "        std_val_loss = np.std(trials_val_loss)\n",
    "        std_train_loss = np.std(trials_train_loss)\n",
    "        std_val_acc = np.std(trials_val_acc)\n",
    "        std_train_acc = np.std(trials_train_acc)\n",
    "\n",
    "        print(f\"Fold {fold}/{n_folds} median val_loss: {med_val_loss}, std val_loss {std_val_loss}\")\n",
    "        print(f\"Fold {fold}/{n_folds} median train_loss: {med_train_loss}, std train_loss {std_train_loss}\")\n",
    "        print(f\"Fold {fold}/{n_folds} median {val_metric}: {med_val_acc}, std {val_metric} {std_val_acc}\")\n",
    "        print(f\"Fold {fold}/{n_folds} median train_{train_metric}: {med_train_acc}, train_{train_metric} {std_train_acc}\")\n",
    "            \n",
    "        train_losses.append(med_train_loss)\n",
    "        val_losses.append(med_val_loss)\n",
    "        val_accs.append(med_val_acc)\n",
    "        train_accs.append(med_train_acc)\n",
    "        \n",
    "        fold += 1\n",
    "        \n",
    "    mean_train_loss = np.mean(train_losses)\n",
    "    mean_val_loss = np.mean(val_losses)\n",
    "    mean_train_acc = np.mean(train_accs)\n",
    "    mean_val_acc = np.mean(val_accs)\n",
    "    std_train_loss = np.std(train_losses)\n",
    "    std_val_loss = np.std(val_losses)\n",
    "    std_train_acc = np.std(train_accs)\n",
    "    std_val_acc = np.std(val_accs)\n",
    "    \n",
    "    print(f\"\\nMean val_loss: {mean_val_loss}, std val_loss: {std_val_loss}\")\n",
    "    print(f\"Mean train_loss: {mean_train_loss}, std train_loss: {std_train_loss}\")\n",
    "    print(f\"Mean {val_metric}: {mean_val_acc}, std {val_metric}: {std_val_acc}\")\n",
    "    print(f\"Mean train_{train_metric}: {mean_val_acc}, std train_{train_metric}: {std_train_acc}\")\n",
    "    \n",
    "    return mean_val_loss\n",
    "\n",
    "\n",
    "\n",
    "\n",
    "def fit_model_hold_out(x_train, y_train, config, val_split):\n",
    "    \n",
    "    task = config[\"task\"]\n",
    "    \n",
    "    if task == \"classification\":\n",
    "        train_metric = \"accuracy\"\n",
    "        val_metric = \"val_accuracy\"\n",
    "    elif task == \"regression\":\n",
    "        train_metric = \"mee\"\n",
    "        val_metric = \"val_mee\"\n",
    "        \n",
    "    trials = config[\"trials_train\"]\n",
    "    input_size = get_attributes_num(x_train)\n",
    "    output_size = get_attributes_num(y_train)\n",
    "    \n",
    "    \n",
    "    max_epochs = config[\"max_epochs\"]\n",
    "    batch_size = config[\"batch_size\"]\n",
    "    \n",
    "    if task == \"classification\":\n",
    "        stratify = y_train\n",
    "    else:\n",
    "        stratify = None\n",
    "        \n",
    "        \n",
    "    x_train, x_val, y_train, y_val = train_test_split(x_train, y_train, test_size=val_split, shuffle=True, stratify=stratify)\n",
    "\n",
    "    \n",
    "    trials_val_loss = []\n",
    "    trials_train_loss = []\n",
    "    trials_val_acc = []\n",
    "    trials_train_acc = []\n",
    "        \n",
    "    with tqdm(total=trials) as pbar:\n",
    "        for trial in range(trials):            \n",
    "            model = get_model(config, input_size, output_size)\n",
    "            history = fit(model, x_train, y_train, x_val, y_val, max_epochs, batch_size, train_metric, config)  \n",
    "\n",
    "            trial_train_loss = history.history[\"loss\"]\n",
    "            trial_val_loss = history.history[\"val_loss\"]         \n",
    "            trial_train_acc = history.history[train_metric]\n",
    "            trial_val_acc = history.history[val_metric]\n",
    "                        \n",
    "            trials_val_loss.append(trial_val_loss[-1])\n",
    "            trials_train_loss.append(trial_train_loss[-1])\n",
    "            trials_val_acc.append(trial_val_acc[-1])\n",
    "            trials_train_acc.append(trial_train_acc[-1])\n",
    "            \n",
    "            pbar.update(1)\n",
    "    \n",
    "    # get the median metrics among the trials\n",
    "    med_idx = median_index(trials_val_loss)\n",
    "    med_val_loss = trials_val_loss[med_idx]\n",
    "    med_train_loss = trials_train_loss[med_idx]\n",
    "    med_val_acc = trials_val_acc[med_idx]\n",
    "    med_train_acc = trials_train_acc[med_idx]\n",
    "    std_val_loss = np.std(trials_val_loss)\n",
    "    std_train_loss = np.std(trials_train_loss)\n",
    "    std_val_acc = np.std(trials_val_acc)\n",
    "    std_train_acc = np.std(trials_train_acc)\n",
    "\n",
    "    print(f\"Median val_loss: {med_val_loss}, std val_loss {std_val_loss}\")\n",
    "    print(f\"Median train_loss: {med_train_loss}, std train_loss {std_train_loss}\")\n",
    "    print(f\"Median {val_metric}: {med_val_acc}, std {val_metric} {std_val_acc}\")\n",
    "    print(f\"Median train_{train_metric}: {med_train_acc}, train_{train_metric} {std_train_acc}\")\n",
    "    \n",
    "    return med_val_loss\n",
    "    \n",
    "    \n",
    "\n",
    "def fit_final_model(x_train, y_train, config):\n",
    "    \n",
    "    task = config[\"task\"]\n",
    "    trails = config[\"trials_test\"]\n",
    "    \n",
    "    if task == \"classification\":\n",
    "        train_metric = \"accuracy\"\n",
    "        val_metric = \"val_accuracy\"\n",
    "    elif task == \"regression\":\n",
    "        train_metric = \"mee\"\n",
    "        val_metric = \"val_mee\"\n",
    "    val_loss = \"val_mse\"\n",
    "    train_loss = \"mse\"\n",
    "\n",
    "    max_epochs = config[\"max_epochs\"]\n",
    "    batch_size = config[\"batch_size\"]\n",
    "    trials = config[\"trials_test\"]\n",
    "    \n",
    "    '''if config[\"early_stopping\"][\"monitor\"] == \"val_loss\":\n",
    "        config[\"early_stopping\"][\"monitor\"] = \"loss\"'''\n",
    "        \n",
    "    \n",
    "    input_size = get_attributes_num(x_train)\n",
    "    output_size = get_attributes_num(y_train)\n",
    "    \n",
    "    \n",
    "    trials_val_loss = []\n",
    "    trials_train_loss = []\n",
    "    trials_val_acc = []\n",
    "    trials_train_acc = []\n",
    "    \n",
    "    trials_history_val_loss = []\n",
    "    trials_history_train_loss = []\n",
    "    trials_history_val_acc = []\n",
    "    trials_history_train_acc = []   \n",
    "    \n",
    "    models = []\n",
    "    \n",
    "    if task == \"classification\":\n",
    "        stratify = y_train\n",
    "    else:\n",
    "        stratify = None\n",
    "    \n",
    "    x_train, x_val, y_train, y_val = train_test_split(x_train, y_train, test_size=0.2, shuffle=True, stratify=stratify)\n",
    "    \n",
    "    with tqdm(total=trials) as pbar:\n",
    "        for trial in range(trials):\n",
    "            \n",
    "            model = get_model(config, input_size, output_size)\n",
    "            history = fit(model, x_train, y_train, x_val, y_val, max_epochs, batch_size, train_metric, config)\n",
    "\n",
    "            models.append(model)\n",
    "\n",
    "            trial_train_loss = history.history[\"loss\"]\n",
    "            trial_val_loss = history.history[\"val_loss\"]         \n",
    "            trial_train_acc = history.history[train_metric]\n",
    "            trial_val_acc = history.history[val_metric]\n",
    "\n",
    "            trials_val_loss.append(trial_val_loss[-1])\n",
    "            trials_train_loss.append(trial_train_loss[-1])\n",
    "            trials_val_acc.append(trial_val_acc[-1])\n",
    "            trials_train_acc.append(trial_train_acc[-1])\n",
    "\n",
    "            trials_history_val_loss.append(trial_val_loss)\n",
    "            trials_history_train_loss.append(trial_train_loss)\n",
    "            trials_history_val_acc.append(trial_val_acc)\n",
    "            trials_history_train_acc.append(trial_train_acc)\n",
    "\n",
    "            print(f\"Trial {trial+1}/{trials} {val_loss}: {trial_val_loss[-1]}\")\n",
    "            print(f\"Trial {trial+1}/{trials} train_{train_loss}: {trial_train_loss[-1]}\")\n",
    "            print(f\"Trial {trial+1}/{trials} {val_metric}: {trial_val_acc[-1]}\")\n",
    "            print(f\"Trial {trial+1}/{trials} train_{train_metric}: {trial_train_acc[-1]}\")\n",
    "\n",
    "            pbar.update(1)\n",
    "        \n",
    "    med_idx = median_index(trials_val_loss)\n",
    "    med_val_loss = trials_val_loss[med_idx]\n",
    "    med_train_loss = trials_train_loss[med_idx]\n",
    "    med_val_acc = trials_val_acc[med_idx]\n",
    "    med_train_acc = trials_train_acc[med_idx]\n",
    "    std_val_loss = np.std(trials_val_loss)\n",
    "    std_train_loss = np.std(trials_train_loss)\n",
    "    std_val_acc = np.std(trials_val_acc)\n",
    "    std_train_acc = np.std(trials_train_acc)\n",
    "    \n",
    "    print(f\"\\nMedian {val_loss}: {med_val_loss}, std {val_loss}: {std_val_loss}\")\n",
    "    print(f\"Median train_{train_loss}: {med_train_loss}, std train_{train_loss}: {std_train_loss}\")\n",
    "    print(f\"Median {val_metric}: {med_val_acc}, std {val_metric}: {std_val_acc}\")\n",
    "    print(f\"Median train_{train_metric}: {med_train_acc}, std train_{train_metric}: {std_train_acc}\")\n",
    "        \n",
    "    \n",
    "        \n",
    "    train_acc = trials_history_train_acc[med_idx]\n",
    "    val_acc = trials_history_val_acc[med_idx]\n",
    "    plot_curves(train_acc, f\"Training {train_metric}\", val_acc, f\"Validation {train_metric}\")\n",
    "    \n",
    "    train_loss = trials_history_train_loss[med_idx]\n",
    "    val_loss = trials_history_val_loss[med_idx]\n",
    "    plot_curves(train_loss, \"Train loss\", val_loss, \"Validation loss\")\n",
    "    \n",
    "    med_model = models[med_idx]\n",
    "    \n",
    "    return med_model\n",
    "\n",
    "    \n",
    "def fit_model(x_train, y_train, config, validation):\n",
    "    if validation[\"type\"] == \"k-fold\":\n",
    "        val_loss = fit_model_k_fold(x_train, y_train, config, validation[\"n_folds\"])\n",
    "    elif validation[\"type\"] == \"hold-out\":\n",
    "        val_loss = fit_model_hold_out(x_train, y_train, config, validation[\"val_split\"])\n",
    "    return val_loss\n",
    "\n",
    "\n",
    "\n",
    "def test_model(model, x_test, y_test):\n",
    "    \n",
    "    y_pred = model(torch.from_numpy(x_test).to(torch.float32))\n",
    "    y_test = torch.from_numpy(y_test).to(torch.float32)\n",
    "    \n",
    "    acc = model.compute_metric(y_pred, y_test)\n",
    "    loss = model.compute_loss(y_pred, y_test)\n",
    "    \n",
    "    print(f\"Test MSE: {loss}\")\n",
    "    print(f\"Test accuracy: {acc}\")\n",
    "    \n",
    "    #test_loader = DataLoader(dataset = CustomDataset(x_test, y_test), batch_size=batch_size)\n",
    "    #trainer.test(model=model, dataloaders=test_loader)\n",
    "    #input_size = x_test.shape[1]\n",
    "    #result = model.evaluate(x_test, y_test)\n",
    "    #print(result)\n",
    "    \n",
    "\n",
    "def assess_model(model, x_train, y_train, x_test, y_test, scale=True):\n",
    "    y_train_pred = model(torch.from_numpy(x_train).to(torch.float32))\n",
    "    y_test_pred = model(torch.from_numpy(x_test).to(torch.float32))\n",
    "    \n",
    "    if scale:\n",
    "        \n",
    "        y_train_pred = y_train_pred.detach().numpy()\n",
    "        y_test_pred = y_test_pred.detach().numpy()\n",
    "        \n",
    "        y_train_pred = y_scaler.inverse_transform(y_train_pred)\n",
    "        y_train  = y_scaler.inverse_transform(y_train)\n",
    "        y_test_pred = y_scaler.inverse_transform(y_test_pred)\n",
    "        y_test  = y_scaler.inverse_transform(y_test)\n",
    "        \n",
    "        y_train_pred  = torch.from_numpy(y_train_pred).to(torch.float32)\n",
    "        y_test_pred  = torch.from_numpy(y_test_pred).to(torch.float32)\n",
    "        \n",
    "    y_train = torch.from_numpy(y_train).to(torch.float32)\n",
    "    y_test = torch.from_numpy(y_test).to(torch.float32)\n",
    "    \n",
    "\n",
    "    mse_train = mse(y_train, y_train_pred)\n",
    "    mse_test = mse(y_test, y_test_pred)\n",
    "\n",
    "    mee_train = mee(y_train, y_train_pred)\n",
    "    mee_test = mee(y_test, y_test_pred)\n",
    "\n",
    "    print(f\"Train MSE: {mse_train}\")\n",
    "    print(f\"Train MEE: {mee_train}\")\n",
    "    print(f\"Test MSE: {mse_test}\")\n",
    "    print(f\"Test MEE: {mee_test}\")\n",
    "\n",
    "\n",
    "    \n",
    "def model_selection(configurations, x_train, y_train, validation):\n",
    "        \n",
    "    best_loss = float(\"inf\")\n",
    "    best_conf = None\n",
    "    \n",
    "    idx = 1\n",
    "    n_confs = len(configurations)\n",
    "    for config in configurations:\n",
    "        \n",
    "        print(f\"Testing configuration {idx}/{n_confs}:\\n{config}\")\n",
    "        val_loss = fit_model(x_train, y_train, config, validation)\n",
    "\n",
    "        if val_loss < best_loss:\n",
    "            best_loss = val_loss;\n",
    "            best_conf = config\n",
    "        idx += 1\n",
    "        \n",
    "        print(\"\\n\\n\")\n",
    "\n",
    "            \n",
    "    print(\"\\n\\n\")\n",
    "    print(f\"Best configuration (loss {best_loss}):\\n{best_conf}\")\n",
    "    \n",
    "    return best_conf\n",
    "    \n",
    "\n",
    "def grid_search(params, x_train, y_train, validation={\"type\": \"hold-out\", \"val_split\": 0.2}):\n",
    "    configurations = get_configurations(params)    \n",
    "    best_conf = model_selection(configurations, x_train, y_train, validation)\n",
    "    model = fit_final_model(x_train, y_train, best_conf)\n",
    "        \n",
    "    return model"
   ]
  },
  {
   "cell_type": "markdown",
   "id": "1efeb266",
   "metadata": {},
   "source": [
    "# Monk 1"
   ]
  },
  {
   "cell_type": "code",
   "execution_count": 31,
   "id": "f0e9f138",
   "metadata": {},
   "outputs": [
    {
     "name": "stdout",
     "output_type": "stream",
     "text": [
      "Loaded ./../data/monks-1 dataset\n",
      "(124, 17) (124,)\n",
      "(432, 17) (432,)\n"
     ]
    }
   ],
   "source": [
    "x_train, y_train, x_test, y_test = load_dataset(\"monks1\", True)\n",
    "print(x_train.shape, y_train.shape)\n",
    "print(x_test.shape, y_test.shape)"
   ]
  },
  {
   "cell_type": "code",
   "execution_count": 32,
   "id": "46daf564",
   "metadata": {},
   "outputs": [],
   "source": [
    "params = {\n",
    "    \"task\": \"classification\",\n",
    "    \"trials_train\": 5,\n",
    "    \"trials_test\": 10,\n",
    "    \"initialization\": {\n",
    "        \"type\": \"uniform\",\n",
    "        \"min\": -0.5,\n",
    "        \"max\": 0.5\n",
    "    },\n",
    "    \"early_stopping\": {\n",
    "        \"monitor\": \"val_loss\",\n",
    "        \"patience\": 20,\n",
    "        \"delta\": 0.00\n",
    "    },\n",
    "    \"max_epochs\": [500],\n",
    "    \"learning_rate\": [0.1],\n",
    "    \"batch_size\": [32],\n",
    "    \"momentum\": [0.9],\n",
    "    \"nesterov\": False,\n",
    "    \"learning_rate_decay\": None,\n",
    "    \"regularization\": [\n",
    "        {\n",
    "            \"type\": None\n",
    "        }\n",
    "    ],\n",
    "    \"layers\": [\n",
    "        {\n",
    "            \"activations\": [\"relu\"],\n",
    "            \"units\": [8],\n",
    "        },\n",
    "    ]\n",
    "}\n",
    "\n",
    "\n",
    "k_fold_val = {\n",
    "    \"type\": \"k-fold\",\n",
    "    \"n_folds\": 5\n",
    "}\n",
    "\n",
    "hold_out_val = {\n",
    "    \"type\": \"hold-out\",\n",
    "    \"val_split\": 0.15\n",
    "}\n"
   ]
  },
  {
   "cell_type": "code",
   "execution_count": 15,
   "id": "77ad369e",
   "metadata": {
    "scrolled": false
   },
   "outputs": [
    {
     "name": "stdout",
     "output_type": "stream",
     "text": [
      "Testing configuration 1/1:\n",
      "{'batch_size': 32, 'learning_rate': 0.1, 'max_epochs': 500, 'momentum': 0.9, 'initialization': {'type': 'uniform', 'min': -0.5, 'max': 0.5}, 'early_stopping': {'monitor': 'val_loss', 'patience': 20, 'delta': 0.0}, 'task': 'classification', 'trials_train': 5, 'trials_test': 10, 'nesterov': False, 'learning_rate_decay': None, 'regularization': {'method': None}, 'activations_1': 'relu', 'units_1': 8}\n"
     ]
    },
    {
     "name": "stderr",
     "output_type": "stream",
     "text": [
      "100%|█████████████████████████████████████████████| 5/5 [00:56<00:00, 11.38s/it]\n"
     ]
    },
    {
     "name": "stdout",
     "output_type": "stream",
     "text": [
      "Median val_loss: 0.0003959190006905, std val_loss 0.07434769778245914\n",
      "Median train_loss: 4.093664756510407e-05, std train_loss 0.031120574655818637\n",
      "Median val_accuracy: 1.0, std val_accuracy 0.12275687780029733\n",
      "Median train_accuracy: 1.0, train_accuracy 0.031872761015819144\n",
      "\n",
      "\n",
      "\n",
      "\n",
      "\n",
      "\n",
      "Best configuration (loss 0.0003959190006905):\n",
      "{'batch_size': 32, 'learning_rate': 0.1, 'max_epochs': 500, 'momentum': 0.9, 'initialization': {'type': 'uniform', 'min': -0.5, 'max': 0.5}, 'early_stopping': {'monitor': 'val_loss', 'patience': 20, 'delta': 0.0}, 'task': 'classification', 'trials_train': 5, 'trials_test': 10, 'nesterov': False, 'learning_rate_decay': None, 'regularization': {'method': None}, 'activations_1': 'relu', 'units_1': 8}\n"
     ]
    },
    {
     "name": "stderr",
     "output_type": "stream",
     "text": [
      " 10%|████▍                                       | 1/10 [00:00<00:08,  1.05it/s]"
     ]
    },
    {
     "name": "stdout",
     "output_type": "stream",
     "text": [
      "Trial 1/10 val_mse: 0.1880908653479487\n",
      "Trial 1/10 train_mse: 0.068849042057991\n",
      "Trial 1/10 val_accuracy: 0.800000011920929\n",
      "Trial 1/10 train_accuracy: 0.9292929172515868\n"
     ]
    },
    {
     "name": "stderr",
     "output_type": "stream",
     "text": [
      "\r",
      " 20%|████████▊                                   | 2/10 [00:15<01:10,  8.86s/it]"
     ]
    },
    {
     "name": "stdout",
     "output_type": "stream",
     "text": [
      "Trial 2/10 val_mse: 0.0358290707064865\n",
      "Trial 2/10 train_mse: 5.031006730860099e-05\n",
      "Trial 2/10 val_accuracy: 0.9200000166893004\n",
      "Trial 2/10 train_accuracy: 1.0\n"
     ]
    },
    {
     "name": "stderr",
     "output_type": "stream",
     "text": [
      "\r",
      " 30%|█████████████▏                              | 3/10 [00:16<00:37,  5.38s/it]"
     ]
    },
    {
     "name": "stdout",
     "output_type": "stream",
     "text": [
      "Trial 3/10 val_mse: 0.1976093355373601\n",
      "Trial 3/10 train_mse: 0.0648401528596878\n",
      "Trial 3/10 val_accuracy: 0.800000011920929\n",
      "Trial 3/10 train_accuracy: 0.9292929172515868\n"
     ]
    },
    {
     "name": "stderr",
     "output_type": "stream",
     "text": [
      "\r",
      " 40%|█████████████████▌                          | 4/10 [00:33<00:59,  9.87s/it]"
     ]
    },
    {
     "name": "stdout",
     "output_type": "stream",
     "text": [
      "Trial 4/10 val_mse: 0.0038947818254406\n",
      "Trial 4/10 train_mse: 6.250447768252343e-05\n",
      "Trial 4/10 val_accuracy: 1.0\n",
      "Trial 4/10 train_accuracy: 1.0\n"
     ]
    },
    {
     "name": "stderr",
     "output_type": "stream",
     "text": [
      "\r",
      " 50%|██████████████████████                      | 5/10 [00:51<01:04, 12.81s/it]"
     ]
    },
    {
     "name": "stdout",
     "output_type": "stream",
     "text": [
      "Trial 5/10 val_mse: 0.1200813972692264\n",
      "Trial 5/10 train_mse: 0.0202369932085275\n",
      "Trial 5/10 val_accuracy: 0.8799999952316284\n",
      "Trial 5/10 train_accuracy: 0.9797979593276978\n"
     ]
    },
    {
     "name": "stderr",
     "output_type": "stream",
     "text": [
      "\r",
      " 60%|██████████████████████████▍                 | 6/10 [01:06<00:54, 13.56s/it]"
     ]
    },
    {
     "name": "stdout",
     "output_type": "stream",
     "text": [
      "Trial 6/10 val_mse: 0.0053267121700404\n",
      "Trial 6/10 train_mse: 6.273275357671082e-05\n",
      "Trial 6/10 val_accuracy: 1.0\n",
      "Trial 6/10 train_accuracy: 1.0\n"
     ]
    },
    {
     "name": "stderr",
     "output_type": "stream",
     "text": [
      "\r",
      " 70%|██████████████████████████████▊             | 7/10 [01:08<00:29,  9.78s/it]"
     ]
    },
    {
     "name": "stdout",
     "output_type": "stream",
     "text": [
      "Trial 7/10 val_mse: 0.1655739057544377\n",
      "Trial 7/10 train_mse: 0.0669656917452812\n",
      "Trial 7/10 val_accuracy: 0.800000011920929\n",
      "Trial 7/10 train_accuracy: 0.939393937587738\n"
     ]
    },
    {
     "name": "stderr",
     "output_type": "stream",
     "text": [
      "\r",
      " 80%|███████████████████████████████████▏        | 8/10 [01:10<00:14,  7.36s/it]"
     ]
    },
    {
     "name": "stdout",
     "output_type": "stream",
     "text": [
      "Trial 8/10 val_mse: 0.1239491893685892\n",
      "Trial 8/10 train_mse: 0.0012043830938637\n",
      "Trial 8/10 val_accuracy: 0.8399999737739563\n",
      "Trial 8/10 train_accuracy: 1.0\n"
     ]
    },
    {
     "name": "stderr",
     "output_type": "stream",
     "text": [
      "\r",
      " 90%|███████████████████████████████████████▌    | 9/10 [01:24<00:09,  9.40s/it]"
     ]
    },
    {
     "name": "stdout",
     "output_type": "stream",
     "text": [
      "Trial 9/10 val_mse: 0.0008563815817562\n",
      "Trial 9/10 train_mse: 5.55277474632021e-05\n",
      "Trial 9/10 val_accuracy: 1.0\n",
      "Trial 9/10 train_accuracy: 1.0\n"
     ]
    },
    {
     "name": "stderr",
     "output_type": "stream",
     "text": [
      "100%|███████████████████████████████████████████| 10/10 [01:38<00:00,  9.89s/it]"
     ]
    },
    {
     "name": "stdout",
     "output_type": "stream",
     "text": [
      "Trial 10/10 val_mse: 0.1201346999520289\n",
      "Trial 10/10 train_mse: 0.0202403478324413\n",
      "Trial 10/10 val_accuracy: 0.8799999952316284\n",
      "Trial 10/10 train_accuracy: 0.9797979593276978\n",
      "\n",
      "Median val_mse: 0.1201346999520289, std val_mse: 0.07413970020779016\n",
      "Median train_mse: 0.0202403478324413, std train_mse: 0.028923352562091807\n",
      "Median val_accuracy: 0.8799999952316284, std val_accuracy: 0.08009993589925016\n",
      "Median train_accuracy: 0.9797979593276978, std train_accuracy: 0.02934513285987745\n"
     ]
    },
    {
     "name": "stderr",
     "output_type": "stream",
     "text": [
      "\n"
     ]
    },
    {
     "data": {
      "image/png": "[encoded data removed]",
      "text/plain": [
       "<Figure size 640x480 with 1 Axes>"
      ]
     },
     "metadata": {},
     "output_type": "display_data"
    },
    {
     "data": {
      "image/png": "[encoded data removed]",
      "text/plain": [
       "<Figure size 640x480 with 1 Axes>"
      ]
     },
     "metadata": {},
     "output_type": "display_data"
    },
    {
     "name": "stdout",
     "output_type": "stream",
     "text": [
      "Test MSE: 0.08367505669593811\n",
      "Test accuracy: 0.9166666865348816\n"
     ]
    }
   ],
   "source": [
    "model = grid_search(params, x_train, y_train, hold_out_val)\n",
    "test_model(model, x_test, y_test)"
   ]
  },
  {
   "cell_type": "markdown",
   "id": "8d0cdf2f",
   "metadata": {},
   "source": [
    "# Monk 2"
   ]
  },
  {
   "cell_type": "code",
   "execution_count": 68,
   "id": "46826a62",
   "metadata": {},
   "outputs": [
    {
     "name": "stdout",
     "output_type": "stream",
     "text": [
      "Loaded ./../data/monks-2 dataset\n",
      "(169, 17) (169,)\n",
      "(432, 17) (432,)\n"
     ]
    }
   ],
   "source": [
    "x_train, y_train, x_test, y_test = load_dataset(\"monks2\", True)\n",
    "print(x_train.shape, y_train.shape)\n",
    "print(x_test.shape, y_test.shape)"
   ]
  },
  {
   "cell_type": "code",
   "execution_count": 70,
   "id": "235bb2bb",
   "metadata": {},
   "outputs": [],
   "source": [
    "params = {\n",
    "    \"task\": \"classification\",\n",
    "    \"trials_train\": 5,\n",
    "    \"trials_test\": 10,\n",
    "    \"initialization\": {\n",
    "        \"type\": \"uniform\",\n",
    "        \"min\": -0.5,\n",
    "        \"max\": 0.5\n",
    "    },\n",
    "    \"early_stopping\": {\n",
    "        \"monitor\": \"val_loss\",\n",
    "        \"patience\": 20,\n",
    "        \"delta\": 0.001\n",
    "    },\n",
    "    \"max_epochs\": [500],\n",
    "    \"learning_rate\": [0.1],\n",
    "    \"batch_size\": [32],\n",
    "    \"momentum\": [0.9],\n",
    "    \"nesterov\": False,\n",
    "    \"learning_rate_decay\": None,\n",
    "    \"regularization\": [\n",
    "        {\n",
    "            \"type\": None\n",
    "        }\n",
    "    ],\n",
    "    \"layers\": [\n",
    "        {\n",
    "            \"activations\": [\"relu\"],\n",
    "            \"units\": [8],\n",
    "        },\n",
    "    ]\n",
    "}\n",
    "\n",
    "\n",
    "\"\"\"params = {\n",
    "    \"initialization\": {\n",
    "        \"type\": \"uniform\",\n",
    "        \"min\": -0.5,\n",
    "        \"max\": 0.5\n",
    "    },\n",
    "    \"early_stopping\": {\n",
    "        \"monitor\": \"val_loss\",\n",
    "        \"patience\": 20,\n",
    "        \"delta\": 0.001\n",
    "    },\n",
    "    \"max_epochs\": 500,\n",
    "    \"learning_rate\": [0.001, 0.01, 0.1],\n",
    "    \"batch_size\": [None],\n",
    "    \"momentum\": [0.1, 0.9],\n",
    "    \"learning_rate_decay\": {\n",
    "        \"epochs\": 50,\n",
    "        \"lr_final\": 0.01\n",
    "    },\n",
    "    \"regularization\": [\n",
    "        {\n",
    "            \"type\": \"l1\",\n",
    "            \"value\": [0.0001, 0.001]\n",
    "        },\n",
    "        {\n",
    "            \"type\": \"l2\",\n",
    "            \"value\": [0.0001, 0.001]\n",
    "        },\n",
    "        {\n",
    "            \"type\": None\n",
    "        }\n",
    "    ],\n",
    "    \"layers\": [\n",
    "        {\n",
    "            \"activations\": [\"relu\"],\n",
    "            \"units\": [1,4,8],\n",
    "        },\n",
    "    ]\n",
    "}\"\"\"\n",
    "\n",
    "k_fold_val = {\n",
    "    \"type\": \"k-fold\",\n",
    "    \"n_folds\": 5\n",
    "}\n",
    "\n",
    "hold_out_val = {\n",
    "    \"type\": \"hold-out\",\n",
    "    \"val_split\": 0.15\n",
    "}\n"
   ]
  },
  {
   "cell_type": "code",
   "execution_count": 71,
   "id": "c5fcad74",
   "metadata": {},
   "outputs": [
    {
     "name": "stdout",
     "output_type": "stream",
     "text": [
      "Testing configuration 1/1:\n",
      "{'batch_size': 32, 'learning_rate': 0.1, 'max_epochs': 500, 'momentum': 0.9, 'initialization': {'type': 'uniform', 'min': -0.5, 'max': 0.5}, 'early_stopping': {'monitor': 'val_loss', 'patience': 20, 'delta': 0.001}, 'task': 'classification', 'trials_train': 5, 'trials_test': 10, 'nesterov': False, 'learning_rate_decay': None, 'regularization': {'method': None}, 'activations_1': 'relu', 'units_1': 8}\n",
      "\n",
      "Executing fold 1/5\n"
     ]
    },
    {
     "name": "stderr",
     "output_type": "stream",
     "text": [
      "100%|█████████████████████████████████████████████| 5/5 [00:05<00:00,  1.06s/it]\n"
     ]
    },
    {
     "name": "stdout",
     "output_type": "stream",
     "text": [
      "Fold 1/5 median val_loss: 0.2256033870260097, std val_loss 0.12159193222842173\n",
      "Fold 1/5 median train_loss: 0.1341433227062225, std train_loss 0.06403663385795019\n",
      "Fold 1/5 median val_accuracy: 0.529411792755127, std val_accuracy 0.2189942367242775\n",
      "Fold 1/5 median train_accuracy: 0.8444444537162781, train_accuracy 0.08744506297369344\n",
      "\n",
      "Executing fold 2/5\n"
     ]
    },
    {
     "name": "stderr",
     "output_type": "stream",
     "text": [
      "100%|█████████████████████████████████████████████| 5/5 [00:04<00:00,  1.14it/s]\n"
     ]
    },
    {
     "name": "stdout",
     "output_type": "stream",
     "text": [
      "Fold 2/5 median val_loss: 0.3243439174101592, std val_loss 0.13453818606950435\n",
      "Fold 2/5 median train_loss: 0.1571930646896362, std train_loss 0.06492842906528626\n",
      "Fold 2/5 median val_accuracy: 0.5588235259056091, std val_accuracy 0.19385007974544197\n",
      "Fold 2/5 median train_accuracy: 0.8370370268821716, train_accuracy 0.07867210225804727\n",
      "\n",
      "Executing fold 3/5\n"
     ]
    },
    {
     "name": "stderr",
     "output_type": "stream",
     "text": [
      "100%|█████████████████████████████████████████████| 5/5 [00:09<00:00,  1.96s/it]\n"
     ]
    },
    {
     "name": "stdout",
     "output_type": "stream",
     "text": [
      "Fold 3/5 median val_loss: 0.0014796349793606, std val_loss 0.08186608337936921\n",
      "Fold 3/5 median train_loss: 0.0014864812837913, std train_loss 0.08443192725993856\n",
      "Fold 3/5 median val_accuracy: 1.0, std val_accuracy 0.11764705181121826\n",
      "Fold 3/5 median train_accuracy: 1.0, train_accuracy 0.12444443702697754\n",
      "\n",
      "Executing fold 4/5\n"
     ]
    },
    {
     "name": "stderr",
     "output_type": "stream",
     "text": [
      "100%|█████████████████████████████████████████████| 5/5 [00:07<00:00,  1.51s/it]\n"
     ]
    },
    {
     "name": "stdout",
     "output_type": "stream",
     "text": [
      "Fold 4/5 median val_loss: 0.0007156482373301, std val_loss 0.13181416690970713\n",
      "Fold 4/5 median train_loss: 0.0007585189887322, std train_loss 0.09464552097461768\n",
      "Fold 4/5 median val_accuracy: 1.0, std val_accuracy 0.22352940534290536\n",
      "Fold 4/5 median train_accuracy: 1.0, train_accuracy 0.1370350456684979\n",
      "\n",
      "Executing fold 5/5\n"
     ]
    },
    {
     "name": "stderr",
     "output_type": "stream",
     "text": [
      "100%|█████████████████████████████████████████████| 5/5 [00:11<00:00,  2.29s/it]\n"
     ]
    },
    {
     "name": "stdout",
     "output_type": "stream",
     "text": [
      "Fold 5/5 median val_loss: 0.0008892334949802, std val_loss 0.10022355222721502\n",
      "Fold 5/5 median train_loss: 0.0005085755256004, std train_loss 0.08216409496266151\n",
      "Fold 5/5 median val_accuracy: 1.0, std val_accuracy 0.15757575035095214\n",
      "Fold 5/5 median train_accuracy: 1.0, train_accuracy 0.12647058963775634\n",
      "\n",
      "Mean val_loss: 0.11060636422956796, std val_loss: 0.1377900708806239\n",
      "Mean train_loss: 0.05881799263879652, std train_loss: 0.07128724002179754\n",
      "Mean val_accuracy: 0.8176470637321472, std val_accuracy: 0.22352940534290536\n",
      "Mean train_accuracy: 0.8176470637321472, std train_accuracy: 0.07805594038467291\n",
      "\n",
      "\n",
      "\n",
      "\n",
      "\n",
      "\n",
      "Best configuration (loss 0.11060636422956796):\n",
      "{'batch_size': 32, 'learning_rate': 0.1, 'max_epochs': 500, 'momentum': 0.9, 'initialization': {'type': 'uniform', 'min': -0.5, 'max': 0.5}, 'early_stopping': {'monitor': 'val_loss', 'patience': 20, 'delta': 0.001}, 'task': 'classification', 'trials_train': 5, 'trials_test': 10, 'nesterov': False, 'learning_rate_decay': None, 'regularization': {'method': None}, 'activations_1': 'relu', 'units_1': 8}\n"
     ]
    },
    {
     "name": "stderr",
     "output_type": "stream",
     "text": [
      " 10%|████▍                                       | 1/10 [00:03<00:33,  3.75s/it]"
     ]
    },
    {
     "name": "stdout",
     "output_type": "stream",
     "text": [
      "Trial 1/10 val_mse: 0.0899460925146412\n",
      "Trial 1/10 train_mse: 0.0161810610443353\n",
      "Trial 1/10 val_accuracy: 0.911764681339264\n",
      "Trial 1/10 train_accuracy: 0.985185205936432\n"
     ]
    },
    {
     "name": "stderr",
     "output_type": "stream",
     "text": [
      "\r",
      " 20%|████████▊                                   | 2/10 [00:05<00:20,  2.55s/it]"
     ]
    },
    {
     "name": "stdout",
     "output_type": "stream",
     "text": [
      "Trial 2/10 val_mse: 0.0006877333386454\n",
      "Trial 2/10 train_mse: 0.0004679653793573\n",
      "Trial 2/10 val_accuracy: 1.0\n",
      "Trial 2/10 train_accuracy: 1.0\n"
     ]
    },
    {
     "name": "stderr",
     "output_type": "stream",
     "text": [
      "\r",
      " 30%|█████████████▏                              | 3/10 [00:08<00:19,  2.78s/it]"
     ]
    },
    {
     "name": "stdout",
     "output_type": "stream",
     "text": [
      "Trial 3/10 val_mse: 0.0007048932412396\n",
      "Trial 3/10 train_mse: 0.0005546222673729\n",
      "Trial 3/10 val_accuracy: 1.0\n",
      "Trial 3/10 train_accuracy: 1.0\n"
     ]
    },
    {
     "name": "stderr",
     "output_type": "stream",
     "text": [
      "\r",
      " 40%|█████████████████▌                          | 4/10 [00:09<00:11,  1.92s/it]"
     ]
    },
    {
     "name": "stdout",
     "output_type": "stream",
     "text": [
      "Trial 4/10 val_mse: 0.2483258171634412\n",
      "Trial 4/10 train_mse: 0.225991204380989\n",
      "Trial 4/10 val_accuracy: 0.5882353186607361\n",
      "Trial 4/10 train_accuracy: 0.6740740537643433\n"
     ]
    },
    {
     "name": "stderr",
     "output_type": "stream",
     "text": [
      "\r",
      " 50%|██████████████████████                      | 5/10 [00:10<00:09,  1.90s/it]"
     ]
    },
    {
     "name": "stdout",
     "output_type": "stream",
     "text": [
      "Trial 5/10 val_mse: 0.0008432529099449\n",
      "Trial 5/10 train_mse: 0.0004766671627294\n",
      "Trial 5/10 val_accuracy: 1.0\n",
      "Trial 5/10 train_accuracy: 1.0\n"
     ]
    },
    {
     "name": "stderr",
     "output_type": "stream",
     "text": [
      "\r",
      " 60%|██████████████████████████▍                 | 6/10 [00:13<00:08,  2.00s/it]"
     ]
    },
    {
     "name": "stdout",
     "output_type": "stream",
     "text": [
      "Trial 6/10 val_mse: 0.0005260885060354\n",
      "Trial 6/10 train_mse: 0.000418661365984\n",
      "Trial 6/10 val_accuracy: 1.0\n",
      "Trial 6/10 train_accuracy: 1.0\n"
     ]
    },
    {
     "name": "stderr",
     "output_type": "stream",
     "text": [
      "\r",
      " 70%|██████████████████████████████▊             | 7/10 [00:15<00:06,  2.20s/it]"
     ]
    },
    {
     "name": "stdout",
     "output_type": "stream",
     "text": [
      "Trial 7/10 val_mse: 0.0005562441384831\n",
      "Trial 7/10 train_mse: 0.0003836216055788\n",
      "Trial 7/10 val_accuracy: 1.0\n",
      "Trial 7/10 train_accuracy: 1.0\n"
     ]
    },
    {
     "name": "stderr",
     "output_type": "stream",
     "text": [
      "\r",
      " 80%|███████████████████████████████████▏        | 8/10 [00:18<00:04,  2.23s/it]"
     ]
    },
    {
     "name": "stdout",
     "output_type": "stream",
     "text": [
      "Trial 8/10 val_mse: 0.000795574627196\n",
      "Trial 8/10 train_mse: 0.0004398142918944\n",
      "Trial 8/10 val_accuracy: 1.0\n",
      "Trial 8/10 train_accuracy: 1.0\n"
     ]
    },
    {
     "name": "stderr",
     "output_type": "stream",
     "text": [
      "\r",
      " 90%|███████████████████████████████████████▌    | 9/10 [00:21<00:02,  2.56s/it]"
     ]
    },
    {
     "name": "stdout",
     "output_type": "stream",
     "text": [
      "Trial 9/10 val_mse: 0.0018260349681623\n",
      "Trial 9/10 train_mse: 0.0011001852108165\n",
      "Trial 9/10 val_accuracy: 1.0\n",
      "Trial 9/10 train_accuracy: 1.0\n"
     ]
    },
    {
     "name": "stderr",
     "output_type": "stream",
     "text": [
      "100%|███████████████████████████████████████████| 10/10 [00:23<00:00,  2.34s/it]"
     ]
    },
    {
     "name": "stdout",
     "output_type": "stream",
     "text": [
      "Trial 10/10 val_mse: 0.0005254088030118\n",
      "Trial 10/10 train_mse: 0.0003523163031786\n",
      "Trial 10/10 val_accuracy: 1.0\n",
      "Trial 10/10 train_accuracy: 1.0\n",
      "\n",
      "Median val_mse: 0.000795574627196, std val_mse: 0.07607769183231593\n",
      "Median train_mse: 0.0004398142918944, std train_mse: 0.06728062793789728\n",
      "Median val_accuracy: 1.0, std val_accuracy: 0.12342431861573601\n",
      "Median train_accuracy: 1.0, std train_accuracy: 0.09738417496841453\n"
     ]
    },
    {
     "name": "stderr",
     "output_type": "stream",
     "text": [
      "\n"
     ]
    },
    {
     "data": {
      "image/png": "[encoded data removed]",
      "text/plain": [
       "<Figure size 640x480 with 1 Axes>"
      ]
     },
     "metadata": {},
     "output_type": "display_data"
    },
    {
     "data": {
      "image/png": "[encoded data removed]",
      "text/plain": [
       "<Figure size 640x480 with 1 Axes>"
      ]
     },
     "metadata": {},
     "output_type": "display_data"
    },
    {
     "name": "stdout",
     "output_type": "stream",
     "text": [
      "Test MSE: 0.0007630878244526684\n",
      "Test accuracy: 1.0\n"
     ]
    }
   ],
   "source": [
    "model = grid_search(params, x_train, y_train, hold_out)\n",
    "test_model(model, x_test, y_test)"
   ]
  },
  {
   "cell_type": "markdown",
   "id": "8f02c069",
   "metadata": {},
   "source": [
    "# Monk 3"
   ]
  },
  {
   "cell_type": "code",
   "execution_count": 47,
   "id": "55619cba",
   "metadata": {},
   "outputs": [
    {
     "name": "stdout",
     "output_type": "stream",
     "text": [
      "Loaded ./../data/monks-3 dataset\n",
      "(122, 17) (122,)\n",
      "(432, 17) (432,)\n"
     ]
    }
   ],
   "source": [
    "x_train, y_train, x_test, y_test = load_dataset(\"monks3\", True)\n",
    "print(x_train.shape, y_train.shape)\n",
    "print(x_test.shape, y_test.shape)"
   ]
  },
  {
   "cell_type": "code",
   "execution_count": 48,
   "id": "7c169d62",
   "metadata": {},
   "outputs": [],
   "source": [
    "params = {\n",
    "    \"task\": \"classification\",\n",
    "    \"trials_train\": 5,\n",
    "    \"trials_test\": 10,\n",
    "    \"initialization\": {\n",
    "        \"type\": \"uniform\",\n",
    "        \"min\": -0.5,\n",
    "        \"max\": 0.5\n",
    "    },\n",
    "    \"early_stopping\": {\n",
    "        \"monitor\": \"val_loss\",\n",
    "        \"patience\": 20,\n",
    "        \"delta\": 0.00001\n",
    "    },\n",
    "    \"max_epochs\": [500],\n",
    "    \"learning_rate\": [0.1],\n",
    "    \"batch_size\": [32],\n",
    "    \"momentum\": [0.9],\n",
    "    \"nesterov\": False,\n",
    "    \"learning_rate_decay\": None,\n",
    "    \"regularization\": [\n",
    "        {\n",
    "            \"type\": None\n",
    "        }\n",
    "    ],\n",
    "    \"layers\": [\n",
    "        {\n",
    "            \"activations\": [\"relu\"],\n",
    "            \"units\": [8],\n",
    "        },\n",
    "    ]\n",
    "}\n",
    "\n",
    "\n",
    "k_fold_val = {\n",
    "    \"type\": \"k-fold\",\n",
    "    \"n_folds\": 5\n",
    "}\n",
    "\n",
    "hold_out_val = {\n",
    "    \"type\": \"hold-out\",\n",
    "    \"val_split\": 0.2\n",
    "}\n"
   ]
  },
  {
   "cell_type": "code",
   "execution_count": 49,
   "id": "420cace0",
   "metadata": {},
   "outputs": [
    {
     "name": "stdout",
     "output_type": "stream",
     "text": [
      "Testing configuration 1/1:\n",
      "{'batch_size': 32, 'learning_rate': 0.1, 'max_epochs': 500, 'momentum': 0.9, 'initialization': {'type': 'uniform', 'min': -0.5, 'max': 0.5}, 'early_stopping': {'monitor': 'val_loss', 'patience': 20, 'delta': 1e-05}, 'task': 'classification', 'trials_train': 5, 'trials_test': 10, 'nesterov': False, 'learning_rate_decay': None, 'regularization': {'method': None}, 'activations_1': 'relu', 'units_1': 8}\n"
     ]
    },
    {
     "name": "stderr",
     "output_type": "stream",
     "text": [
      "100%|█████████████████████████████████████████████| 5/5 [00:04<00:00,  1.24it/s]\n"
     ]
    },
    {
     "name": "stdout",
     "output_type": "stream",
     "text": [
      "Median val_loss: 0.1281602367657238, std val_loss 0.011477284218479513\n",
      "Median train_loss: 0.0298494342714548, std train_loss 0.0027882831119229626\n",
      "Median val_accuracy: 0.8799999952316284, std val_accuracy 0.019595928454334978\n",
      "Median train_accuracy: 0.969072163105011, train_accuracy 0.005050494616049728\n",
      "\n",
      "\n",
      "\n",
      "\n",
      "\n",
      "\n",
      "Best configuration (loss 0.1281602367657238):\n",
      "{'batch_size': 32, 'learning_rate': 0.1, 'max_epochs': 500, 'momentum': 0.9, 'initialization': {'type': 'uniform', 'min': -0.5, 'max': 0.5}, 'early_stopping': {'monitor': 'val_loss', 'patience': 20, 'delta': 1e-05}, 'task': 'classification', 'trials_train': 5, 'trials_test': 10, 'nesterov': False, 'learning_rate_decay': None, 'regularization': {'method': None}, 'activations_1': 'relu', 'units_1': 8}\n"
     ]
    },
    {
     "name": "stderr",
     "output_type": "stream",
     "text": [
      " 10%|████▍                                       | 1/10 [00:01<00:09,  1.09s/it]"
     ]
    },
    {
     "name": "stdout",
     "output_type": "stream",
     "text": [
      "Trial 1/10 val_mse: 0.0521668267761602\n",
      "Trial 1/10 train_mse: 0.0353657007217407\n",
      "Trial 1/10 val_accuracy: 0.9200000166893004\n",
      "Trial 1/10 train_accuracy: 0.969072163105011\n"
     ]
    },
    {
     "name": "stderr",
     "output_type": "stream",
     "text": [
      "\r",
      " 20%|████████▊                                   | 2/10 [00:01<00:06,  1.15it/s]"
     ]
    },
    {
     "name": "stdout",
     "output_type": "stream",
     "text": [
      "Trial 2/10 val_mse: 0.0451271656577098\n",
      "Trial 2/10 train_mse: 0.0376061424612998\n",
      "Trial 2/10 val_accuracy: 0.959999978542328\n",
      "Trial 2/10 train_accuracy: 0.969072163105011\n"
     ]
    },
    {
     "name": "stderr",
     "output_type": "stream",
     "text": [
      "\r",
      " 30%|█████████████▏                              | 3/10 [00:03<00:09,  1.29s/it]"
     ]
    },
    {
     "name": "stdout",
     "output_type": "stream",
     "text": [
      "Trial 3/10 val_mse: 0.0279095155872591\n",
      "Trial 3/10 train_mse: 0.0471542403101921\n",
      "Trial 3/10 val_accuracy: 0.959999978542328\n",
      "Trial 3/10 train_accuracy: 0.9484536051750184\n"
     ]
    },
    {
     "name": "stderr",
     "output_type": "stream",
     "text": [
      "\r",
      " 40%|█████████████████▌                          | 4/10 [00:04<00:06,  1.10s/it]"
     ]
    },
    {
     "name": "stdout",
     "output_type": "stream",
     "text": [
      "Trial 4/10 val_mse: 0.0491748436235008\n",
      "Trial 4/10 train_mse: 0.0383316278457641\n",
      "Trial 4/10 val_accuracy: 0.959999978542328\n",
      "Trial 4/10 train_accuracy: 0.969072163105011\n"
     ]
    },
    {
     "name": "stderr",
     "output_type": "stream",
     "text": [
      "\r",
      " 50%|██████████████████████                      | 5/10 [00:05<00:04,  1.06it/s]"
     ]
    },
    {
     "name": "stdout",
     "output_type": "stream",
     "text": [
      "Trial 5/10 val_mse: 0.0505536493350204\n",
      "Trial 5/10 train_mse: 0.040786400437355\n",
      "Trial 5/10 val_accuracy: 0.959999978542328\n",
      "Trial 5/10 train_accuracy: 0.969072163105011\n"
     ]
    },
    {
     "name": "stderr",
     "output_type": "stream",
     "text": [
      "\r",
      " 60%|██████████████████████████▍                 | 6/10 [00:05<00:03,  1.14it/s]"
     ]
    },
    {
     "name": "stdout",
     "output_type": "stream",
     "text": [
      "Trial 6/10 val_mse: 0.0419874368741137\n",
      "Trial 6/10 train_mse: 0.0345740839838981\n",
      "Trial 6/10 val_accuracy: 0.9200000166893004\n",
      "Trial 6/10 train_accuracy: 0.969072163105011\n"
     ]
    },
    {
     "name": "stderr",
     "output_type": "stream",
     "text": [
      "\r",
      " 70%|██████████████████████████████▊             | 7/10 [00:06<00:02,  1.14it/s]"
     ]
    },
    {
     "name": "stdout",
     "output_type": "stream",
     "text": [
      "Trial 7/10 val_mse: 0.062353756753257\n",
      "Trial 7/10 train_mse: 0.0386992916464805\n",
      "Trial 7/10 val_accuracy: 0.9200000166893004\n",
      "Trial 7/10 train_accuracy: 0.969072163105011\n"
     ]
    },
    {
     "name": "stderr",
     "output_type": "stream",
     "text": [
      "\r",
      " 80%|███████████████████████████████████▏        | 8/10 [00:07<00:01,  1.01it/s]"
     ]
    },
    {
     "name": "stdout",
     "output_type": "stream",
     "text": [
      "Trial 8/10 val_mse: 0.047324082559292\n",
      "Trial 8/10 train_mse: 0.038536436855793\n",
      "Trial 8/10 val_accuracy: 0.959999978542328\n",
      "Trial 8/10 train_accuracy: 0.969072163105011\n"
     ]
    },
    {
     "name": "stderr",
     "output_type": "stream",
     "text": [
      "\r",
      " 90%|███████████████████████████████████████▌    | 9/10 [00:08<00:00,  1.07it/s]"
     ]
    },
    {
     "name": "stdout",
     "output_type": "stream",
     "text": [
      "Trial 9/10 val_mse: 0.0446966210246023\n",
      "Trial 9/10 train_mse: 0.0385687611997127\n",
      "Trial 9/10 val_accuracy: 0.959999978542328\n",
      "Trial 9/10 train_accuracy: 0.9587628841400146\n"
     ]
    },
    {
     "name": "stderr",
     "output_type": "stream",
     "text": [
      "100%|███████████████████████████████████████████| 10/10 [00:09<00:00,  1.04it/s]"
     ]
    },
    {
     "name": "stdout",
     "output_type": "stream",
     "text": [
      "Trial 10/10 val_mse: 0.0587643083857839\n",
      "Trial 10/10 train_mse: 0.0407725125551223\n",
      "Trial 10/10 val_accuracy: 0.9200000166893004\n",
      "Trial 10/10 train_accuracy: 0.969072163105011\n",
      "\n",
      "Median val_mse: 0.0491748436235008, std val_mse: 0.008980896338813712\n",
      "Median train_mse: 0.0383316278457641, std train_mse: 0.0032937327058434342\n",
      "Median val_accuracy: 0.959999978542328, std val_accuracy: 0.019595899254141885\n",
      "Median train_accuracy: 0.969072163105011, std train_accuracy: 0.006601159401122439\n"
     ]
    },
    {
     "name": "stderr",
     "output_type": "stream",
     "text": [
      "\n"
     ]
    },
    {
     "data": {
      "image/png": "[encoded data removed]",
      "text/plain": [
       "<Figure size 640x480 with 1 Axes>"
      ]
     },
     "metadata": {},
     "output_type": "display_data"
    },
    {
     "data": {
      "image/png": "[encoded data removed]",
      "text/plain": [
       "<Figure size 640x480 with 1 Axes>"
      ]
     },
     "metadata": {},
     "output_type": "display_data"
    },
    {
     "name": "stdout",
     "output_type": "stream",
     "text": [
      "Test MSE: 0.04439050331711769\n",
      "Test accuracy: 0.9490740895271301\n"
     ]
    }
   ],
   "source": [
    "model = grid_search(params, x_train, y_train, hold_out_val)\n",
    "test_model(model, x_test, y_test)"
   ]
  },
  {
   "cell_type": "markdown",
   "id": "c8f9151f",
   "metadata": {},
   "source": [
    "# ML Cup"
   ]
  },
  {
   "cell_type": "code",
   "execution_count": 61,
   "id": "cebb8e47",
   "metadata": {},
   "outputs": [
    {
     "name": "stdout",
     "output_type": "stream",
     "text": [
      "(1343, 9) (1343, 2)\n",
      "(149, 9) (149, 2)\n"
     ]
    }
   ],
   "source": [
    "x_train, y_train, x_test, y_test = load_dataset(\"cup\", True)\n",
    "print(x_train.shape, y_train.shape)\n",
    "print(x_test.shape, y_test.shape)\n",
    "#print(x_test_blind.shape)"
   ]
  },
  {
   "cell_type": "code",
   "execution_count": 76,
   "id": "c9ee0307",
   "metadata": {},
   "outputs": [],
   "source": [
    "params = {\n",
    "    \"task\": \"regression\",\n",
    "    \"trials_train\": 5,\n",
    "    \"trials_test\": 5,\n",
    "    \"initialization\": {\n",
    "        \"type\": \"uniform\",\n",
    "        \"min\": -0.5,\n",
    "        \"max\": 0.5\n",
    "    },\n",
    "    \"early_stopping\": {\n",
    "        \"monitor\": \"val_loss\",\n",
    "        \"patience\": 20,\n",
    "        \"delta\": 0.00\n",
    "    },\n",
    "    \"max_epochs\": [500],\n",
    "    \"learning_rate\": [0.1],\n",
    "    \"batch_size\": [32],\n",
    "    \"nesterov\": False,\n",
    "    \"momentum\": [0.9],\n",
    "    \"learning_rate_decay\": None,\n",
    "    \"regularization\": [\n",
    "        {\n",
    "            \"type\": \"l1\",\n",
    "            \"value\": [0.001]\n",
    "        }\n",
    "    ],\n",
    "    \"layers\": [\n",
    "        {\n",
    "            \"activations\": [\"relu\"],\n",
    "            \"units\": [10],\n",
    "        }\n",
    "    ]\n",
    "}\n",
    "\n",
    "\n",
    "k_fold_val = {\n",
    "    \"type\": \"k-fold\",\n",
    "    \"n_folds\": 5\n",
    "}\n",
    "\n",
    "hold_out_val = {\n",
    "    \"type\": \"hold-out\",\n",
    "    \"val_split\": 0.15\n",
    "}"
   ]
  },
  {
   "cell_type": "code",
   "execution_count": 77,
   "id": "e8aff27b",
   "metadata": {},
   "outputs": [
    {
     "name": "stdout",
     "output_type": "stream",
     "text": [
      "Train MSE: 4.9288530349731445\n",
      "Train MEE: 1.8185940980911255\n",
      "Test MSE: 5.8448591232299805\n",
      "Test MEE: 1.9191449880599976\n"
     ]
    }
   ],
   "source": [
    "model = grid_search(params, x_train, y_train, hold_out_val)\n",
    "assess_model(model, x_train, y_train, x_test, y_test, True)"
   ]
  }
 ],
 "metadata": {
  "kernelspec": {
   "display_name": "mlvenv",
   "language": "python",
   "name": "mlvenv"
  },
  "language_info": {
   "codemirror_mode": {
    "name": "ipython",
    "version": 3
   },
   "file_extension": ".py",
   "mimetype": "text/x-python",
   "name": "python",
   "nbconvert_exporter": "python",
   "pygments_lexer": "ipython3",
   "version": "3.10.6"
  }
 },
 "nbformat": 4,
 "nbformat_minor": 5
}
