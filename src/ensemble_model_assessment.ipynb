{
 "cells": [
  {
   "cell_type": "code",
   "execution_count": 67,
   "id": "a0b2b7b5",
   "metadata": {},
   "outputs": [],
   "source": [
    "import warnings\n",
    "warnings.filterwarnings('ignore')\n",
    "from tqdm import tqdm\n",
    "import pandas as pd\n",
    "import numpy as np\n",
    "import tensorflow as tf\n",
    "from sklearn.model_selection import GridSearchCV\n",
    "from tensorflow.keras.models import Sequential\n",
    "from keras.regularizers import l1, l2\n",
    "from tensorflow.keras import initializers\n",
    "from tensorflow.keras.layers import Dense\n",
    "from tensorflow.keras.callbacks import EarlyStopping\n",
    "from scikeras.wrappers import KerasClassifier\n",
    "from sklearn.model_selection import KFold\n",
    "import keras_tuner\n",
    "import keras\n",
    "from keras import layers\n",
    "import itertools\n",
    "from sklearn.model_selection import train_test_split\n",
    "from keras.optimizers import SGD\n",
    "from keras.callbacks import EarlyStopping\n",
    "from keras.callbacks import LearningRateScheduler\n",
    "import matplotlib.pyplot as plt\n",
    "from sklearn.model_selection import KFold, StratifiedKFold\n",
    "from sklearn.preprocessing import OneHotEncoder\n",
    "import keras.backend as K\n",
    "from sklearn.preprocessing import StandardScaler, MinMaxScaler\n",
    "from math import ceil\n",
    "import pickle"
   ]
  },
  {
   "cell_type": "code",
   "execution_count": 68,
   "id": "9f536dc7",
   "metadata": {},
   "outputs": [],
   "source": [
    "def mee(y_true, y_pred):\n",
    "    return (y_true - y_pred).square().sum(axis=1).sqrt().mean()\n",
    "\n",
    "def mse(y_true, y_pred):\n",
    "    return (y_true - y_pred).square().sum(axis=1).mean()"
   ]
  },
  {
   "cell_type": "code",
   "execution_count": 69,
   "id": "97649ca5",
   "metadata": {},
   "outputs": [],
   "source": [
    "x_scaler = None\n",
    "y_scaler = None\n",
    "\n",
    "def load_dataset(scale=True):\n",
    "    global x_scaler\n",
    "    global y_scaler\n",
    "    \n",
    "    x_scaler = StandardScaler()\n",
    "    y_scaler = StandardScaler()\n",
    "    \n",
    "    train = pd.read_csv(\"../data/ML-CUP22-INTERNAL-TR.csv\", header=None, sep=\",\")\n",
    "    test = pd.read_csv(\"../data/ML-CUP22-INTERNAL-TS.csv\", header=None, sep=\",\")\n",
    "    train.drop(0, axis=1, inplace=True)\n",
    "    test.drop(0, axis=1, inplace=True)\n",
    "\n",
    "    x_train = train.iloc[:, :9].to_numpy().astype(np.float64)\n",
    "    y_train = train.iloc[:, 9:].to_numpy().astype(np.float64)\n",
    "    x_test = test.iloc[:, :9].to_numpy().astype(np.float64)\n",
    "    y_test = test.iloc[:, 9:].to_numpy().astype(np.float64)\n",
    "    \n",
    "    blind_test = pd.read_csv(\"../data/ML-CUP22-TS.csv\", header=None, sep=\",\")\n",
    "    blind_test.drop(0, axis=1, inplace=True)\n",
    "\n",
    "    x_blind_test = blind_test.iloc[:, :9].to_numpy().astype(np.float64)    \n",
    "    \n",
    "    if scale:\n",
    "        x_scaler.fit(x_train)\n",
    "        x_train = x_scaler.transform(x_train)\n",
    "        x_test = x_scaler.transform(x_test)\n",
    "        x_blind_test = x_scaler.transform(x_blind_test)\n",
    "        \n",
    "        y_scaler.fit(y_train)\n",
    "        y_train = y_scaler.transform(y_train)\n",
    "        y_test = y_scaler.transform(y_test)     \n",
    "        \n",
    "    return x_train, y_train, x_test, y_test, x_blind_test\n",
    "\n",
    "def get_mee(y_true, y_pred):\n",
    "    return np.mean(np.sqrt(np.sum(np.square(y_true - y_pred), axis=1)))\n",
    "\n",
    "\n",
    "def get_mlp_pred(model, x):\n",
    "    global y_scaler\n",
    "    \n",
    "    y = model.predict(x)\n",
    "    y = y_scaler.inverse_transform(y)\n",
    "    return y"
   ]
  },
  {
   "cell_type": "markdown",
   "id": "f6764bf1",
   "metadata": {},
   "source": [
    "# Loading the data"
   ]
  },
  {
   "cell_type": "code",
   "execution_count": 70,
   "id": "084d9f95",
   "metadata": {},
   "outputs": [
    {
     "name": "stdout",
     "output_type": "stream",
     "text": [
      "(1194, 9) (1194, 2)\n",
      "(298, 9) (298, 2)\n",
      "(529, 9)\n"
     ]
    }
   ],
   "source": [
    "x_train, y_train, x_test, y_test, x_blind_test = load_dataset(False)\n",
    "print(x_train.shape, y_train.shape)\n",
    "print(x_test.shape, y_test.shape)\n",
    "print(x_blind_test.shape)"
   ]
  },
  {
   "cell_type": "code",
   "execution_count": 71,
   "id": "00a045fb",
   "metadata": {},
   "outputs": [
    {
     "name": "stdout",
     "output_type": "stream",
     "text": [
      "(1194, 9) (1194, 2)\n",
      "(298, 9) (298, 2)\n",
      "(529, 9)\n"
     ]
    }
   ],
   "source": [
    "x_train_scaled, y_train_scaled, x_test_scaled, y_test_scaled, x_blind_test_scaled = load_dataset(True)\n",
    "print(x_train_scaled.shape, y_train_scaled.shape)\n",
    "print(x_test_scaled.shape, y_test_scaled.shape)\n",
    "print(x_blind_test_scaled.shape)"
   ]
  },
  {
   "cell_type": "markdown",
   "id": "e002e31d",
   "metadata": {},
   "source": [
    "# Loading the models"
   ]
  },
  {
   "cell_type": "code",
   "execution_count": 72,
   "id": "3c26df37",
   "metadata": {},
   "outputs": [],
   "source": [
    "mlp = keras.models.load_model(\"./../models/keras_model.hdf5\", custom_objects={\"mee\": mee})\n",
    "svm = load('./../models/svm.z')\n",
    "knn = load('./../models/knr_mlcup.z')"
   ]
  },
  {
   "cell_type": "markdown",
   "id": "d6f88dce",
   "metadata": {},
   "source": [
    "# Getting the average prediction on training and internal test set"
   ]
  },
  {
   "cell_type": "code",
   "execution_count": 73,
   "id": "ba76de1e",
   "metadata": {},
   "outputs": [
    {
     "name": "stdout",
     "output_type": "stream",
     "text": [
      "10/10 [==============================] - 0s 2ms/step\n",
      "38/38 [==============================] - 0s 2ms/step\n"
     ]
    }
   ],
   "source": [
    "mlp_pred_test = get_mlp_pred(mlp, x_test_scaled)\n",
    "svm_pred_test = svm.predict(x_test_scaled)\n",
    "knn_pred_test = knn.predict(x_test_scaled)\n",
    "\n",
    "mlp_pred_train = get_keras_pred(keras_model, x_train_scaled)\n",
    "svm_pred_train = svm.predict(x_train_scaled)\n",
    "knn_pred_train = knn.predict(x_train_scaled)\n",
    "\n",
    "avg_pred_train = np.mean([mlp_pred_train, svm_pred_train, knn_pred_train], axis=0)\n",
    "avg_pred_test = np.mean([mlp_pred_test, svm_pred_test, knn_pred_test], axis=0)"
   ]
  },
  {
   "cell_type": "code",
   "execution_count": 74,
   "id": "74c9b20e",
   "metadata": {},
   "outputs": [
    {
     "name": "stdout",
     "output_type": "stream",
     "text": [
      "Train MEE: 1.3173527940228287\n",
      "Test MEE: 1.426876231849489\n"
     ]
    }
   ],
   "source": [
    "train_mee = get_mee(y_train, avg_pred_train)\n",
    "test_mee = get_mee(y_test, avg_pred_test)\n",
    "\n",
    "print(f\"Train MEE: {train_mee}\")\n",
    "print(f\"Test MEE: {test_mee}\")"
   ]
  },
  {
   "cell_type": "markdown",
   "id": "8ee92868",
   "metadata": {},
   "source": [
    "# Blind test set prediction"
   ]
  },
  {
   "cell_type": "code",
   "execution_count": 75,
   "id": "5ab5f623",
   "metadata": {},
   "outputs": [
    {
     "name": "stdout",
     "output_type": "stream",
     "text": [
      "17/17 [==============================] - 0s 2ms/step\n",
      "(529, 2)\n"
     ]
    }
   ],
   "source": [
    "y_mlp_blind = get_mlp_pred(mlp, x_blind_test_scaled)\n",
    "y_svm_blind = svm.predict(x_blind_test_scaled)\n",
    "y_knn_blind = knn.predict(x_blind_test_scaled)\n",
    "\n",
    "avg_blind_pred = np.mean([y_mlp_blind, y_svm_blind, y_knn_blind], axis=0)\n",
    "print(avg_blind_pred.shape)"
   ]
  },
  {
   "cell_type": "code",
   "execution_count": 76,
   "id": "84b915ae",
   "metadata": {},
   "outputs": [],
   "source": [
    "csv_file = \"\"\n",
    "\n",
    "for i in range(avg_blind_pred.shape[0]):\n",
    "    csv_file += f\"{i+1},{avg_blind_pred[i, 0]},{avg_blind_pred[i, 1]}\\n\"\n",
    "    \n",
    "csv_file = csv_file[:-1]\n",
    "\n",
    "with open(\"blind_result.csv\", \"w\") as f:\n",
    "    f.write(csv_file)"
   ]
  },
  {
   "cell_type": "code",
   "execution_count": null,
   "id": "fdd3d683",
   "metadata": {},
   "outputs": [],
   "source": []
  }
 ],
 "metadata": {
  "kernelspec": {
   "display_name": "mlvenv",
   "language": "python",
   "name": "mlvenv"
  },
  "language_info": {
   "codemirror_mode": {
    "name": "ipython",
    "version": 3
   },
   "file_extension": ".py",
   "mimetype": "text/x-python",
   "name": "python",
   "nbconvert_exporter": "python",
   "pygments_lexer": "ipython3",
   "version": "3.10.6"
  }
 },
 "nbformat": 4,
 "nbformat_minor": 5
}
