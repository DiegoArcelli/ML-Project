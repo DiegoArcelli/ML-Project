{
 "cells": [
  {
   "cell_type": "code",
   "execution_count": 21,
   "id": "d37f696d",
   "metadata": {},
   "outputs": [],
   "source": [
    "import warnings\n",
    "warnings.filterwarnings('ignore')\n",
    "from tqdm import tqdm\n",
    "import pandas as pd\n",
    "import numpy as np\n",
    "import tensorflow as tf\n",
    "from sklearn.model_selection import GridSearchCV\n",
    "from tensorflow.keras.models import Sequential\n",
    "from keras.regularizers import l1, l2\n",
    "from tensorflow.keras import initializers\n",
    "from tensorflow.keras.layers import Dense\n",
    "from tensorflow.keras.callbacks import EarlyStopping\n",
    "from scikeras.wrappers import KerasClassifier\n",
    "from sklearn.model_selection import KFold\n",
    "import keras_tuner\n",
    "import keras\n",
    "from keras import layers\n",
    "import itertools\n",
    "from sklearn.model_selection import train_test_split\n",
    "from keras.optimizers import SGD\n",
    "from keras.callbacks import EarlyStopping\n",
    "from keras.callbacks import LearningRateScheduler\n",
    "import matplotlib.pyplot as plt\n",
    "from sklearn.model_selection import KFold, StratifiedKFold\n",
    "from sklearn.preprocessing import OneHotEncoder\n",
    "import keras.backend as K\n",
    "from sklearn.preprocessing import StandardScaler, MinMaxScaler\n",
    "from math import ceil\n",
    "import os\n",
    "\n",
    "seed = 7\n",
    "tf.random.set_seed(seed)"
   ]
  },
  {
   "cell_type": "code",
   "execution_count": 2,
   "id": "6d8327a6",
   "metadata": {},
   "outputs": [],
   "source": [
    "def plot_curves(curve_1, label_1, curve_2=None, label_2=None):\n",
    "    if curve_1 is not None: \n",
    "        plt.plot(curve_1, label = label_1)\n",
    "    if curve_2 is not None: \n",
    "        plt.plot(curve_2, label = label_2)   \n",
    "    plt.legend()\n",
    "    plt.show()"
   ]
  },
  {
   "cell_type": "code",
   "execution_count": 3,
   "id": "d60634f7",
   "metadata": {},
   "outputs": [],
   "source": [
    "x_scaler = None\n",
    "y_scaler = None\n",
    "\n",
    "def load_monks(path, encode):\n",
    "    \n",
    "    train = pd.read_csv(f\"{path}.train\", header=None, sep=\" \")\n",
    "    test = pd.read_csv(f\"{path}.test\", header=None, sep=\" \")\n",
    "    \n",
    "    train.drop(0, axis=1, inplace=True)\n",
    "    test.drop(0, axis=1, inplace=True)\n",
    "    train.drop(8, axis=1, inplace=True)\n",
    "    test.drop(8, axis=1, inplace=True)\n",
    "    \n",
    "    y_train = train.iloc[:, 0].to_numpy().astype(np.float64)\n",
    "    x_train = train.iloc[:, 1:].to_numpy().astype(np.float64)\n",
    "    y_test = test.iloc[:, 0].to_numpy().astype(np.float64)\n",
    "    x_test = test.iloc[:, 1:].to_numpy().astype(np.float64)\n",
    "    \n",
    "        \n",
    "    if encode:\n",
    "        \n",
    "        encoder = OneHotEncoder()\n",
    "        \n",
    "        encoder.fit(x_train)\n",
    "        x_train = encoder.transform(x_train).toarray()\n",
    "        x_test = encoder.transform(x_test).toarray()\n",
    "        \n",
    "        \n",
    "    \n",
    "    print(f\"Loaded {path} dataset\")\n",
    "    \n",
    "    return x_train, y_train, x_test, y_test\n",
    "    \n",
    "\n",
    "def load_cup(scale):\n",
    "    global x_scaler\n",
    "    global y_scaler\n",
    "    \n",
    "    x_scaler = StandardScaler()\n",
    "    y_scaler = StandardScaler()\n",
    "    # scaler = MinMaxScaler()\n",
    "    \n",
    "    train = pd.read_csv(\"../data/ML-CUP22-INTERNAL-TR.csv\", header=None, sep=\",\")\n",
    "    test = pd.read_csv(\"../data/ML-CUP22-INTERNAL-TS.csv\", header=None, sep=\",\")\n",
    "    train.drop(0, axis=1, inplace=True)\n",
    "    test.drop(0, axis=1, inplace=True)\n",
    "\n",
    "    x_train = train.iloc[:, :9].to_numpy().astype(np.float64)\n",
    "    y_train = train.iloc[:, 9:].to_numpy().astype(np.float64)\n",
    "\n",
    "    x_test = test.iloc[:, :9].to_numpy().astype(np.float64)\n",
    "    y_test = test.iloc[:, 9:].to_numpy().astype(np.float64) \n",
    "    # x_test_blind = test.to_numpy().astype(np.float64)\n",
    "    \n",
    "    # x_train, x_test, y_train, y_test = train_test_split(x_train, y_train, test_size=0.1, shuffle=True, random_state=7)\n",
    "    \n",
    "    if scale:\n",
    "        x_scaler.fit(x_train)\n",
    "        x_train = x_scaler.transform(x_train)\n",
    "        x_test = x_scaler.transform(x_test)\n",
    "        \n",
    "        y_scaler.fit(y_train)\n",
    "        y_train = y_scaler.transform(y_train)\n",
    "        y_test = y_scaler.transform(y_test)\n",
    "        \n",
    "        \n",
    "    return x_train, y_train, x_test, y_test #, x_test_blind\n",
    "    \n",
    "    \n",
    "    \n",
    "def load_dataset(dataset, encode=True):\n",
    "    assert dataset in [\"monks1\", \"monks2\", \"monks3\", \"cup\"]\n",
    "    \n",
    "    if dataset == \"monks1\":\n",
    "        return load_monks(\"./../data/monks-1\", encode)\n",
    "    elif dataset == \"monks2\":\n",
    "        return load_monks(\"./../data/monks-2\", encode)\n",
    "    elif dataset == \"monks3\":\n",
    "        return load_monks(\"./../data/monks-3\", encode)\n",
    "    else:\n",
    "        return load_cup(encode)"
   ]
  },
  {
   "cell_type": "code",
   "execution_count": 4,
   "id": "68a4b4e1",
   "metadata": {},
   "outputs": [],
   "source": [
    "class RandomizedNetwork(keras.Model):\n",
    "    \n",
    "    def __init__(self, input_size, output_size, layers, init=None, reg=None):\n",
    "        super().__init__()\n",
    "        \n",
    "        if init is None:\n",
    "            init = initializers.RandomNormal(mean=0, stddev=1, seed=None)\n",
    "        \n",
    "        self.reg = reg\n",
    "        \n",
    "        self.model = Sequential()\n",
    "                    \n",
    "            \n",
    "        units = layers[0][\"units\"]\n",
    "        activation = layers[0][\"activation\"]\n",
    "        self.model.add(Dense(units, input_dim=input_size, activation=activation,\n",
    "                    kernel_initializer = init, bias_initializer = init))\n",
    "        self.model.layers[0].trainable = False\n",
    "        \n",
    "        \n",
    "        \n",
    "        for layer in layers[1:]:\n",
    "            activation = layer[\"activation\"]\n",
    "            units = layer[\"units\"]\n",
    "            self.model.add(Dense(units, activation=activation, \n",
    "                        kernel_initializer = init, bias_initializer = init))\n",
    "            self.model.layers[-1].trainable = False\n",
    "        \n",
    "        self.model.add(Dense(output_size, activation=\"linear\",\n",
    "                    kernel_initializer = init, bias_initializer = init))\n",
    "        \n",
    "        \n",
    "        self.compile(loss=\"mse\", metrics = mee)\n",
    "        \n",
    "        \n",
    "        \n",
    "                \n",
    "    def lms_solve(self, x, y):\n",
    "        \n",
    "        n = x.shape[0]\n",
    "        \n",
    "        # x_b = np.append(x, np.ones((n,1)), axis=-1)\n",
    "        for layer in self.model.layers[:-1]:\n",
    "            x = layer(x)\n",
    "        \n",
    "        H = x.numpy()\n",
    "        H = np.append(H, np.ones((n,1)), axis=-1)\n",
    "        # H = self.model.layers[0](x).numpy()\n",
    "        \n",
    "        # if regularization is used apply direct solution\n",
    "        if self.reg is not None:\n",
    "            H_t = H.transpose()\n",
    "            H = np.matmul(H_t, H)\n",
    "            I = np.identity(H.shape[0])\n",
    "            H = H + self.reg*I\n",
    "            H_star = np.linalg.inv(H)\n",
    "            W = np.matmul(H_star, H_t)\n",
    "            W = np.matmul(W, y)\n",
    "        # if regularization is not used apply numpy LMS solver\n",
    "        else:\n",
    "            W, _, _, _ = np.linalg.lstsq(H.T.dot(H), H.T.dot(y))\n",
    "            \n",
    "        b = W[-1:][0]\n",
    "        W = W[:-1]\n",
    "        \n",
    "        # print(W.shape)\n",
    "        # print(b.shape)\n",
    "        # print(self.model.layers[-1].get_weights()[0].shape)\n",
    "        # print(self.model.layers[-1].get_weights()[1].shape)\n",
    "        self.model.layers[-1].set_weights([W, b])\n",
    "\n",
    "        \n",
    "    def call(self, x):\n",
    "        return self.model(x)\n",
    "    \n",
    "    def summary(self):\n",
    "        self.model.summary()\n",
    "        "
   ]
  },
  {
   "cell_type": "code",
   "execution_count": 5,
   "id": "0d8d98ee",
   "metadata": {},
   "outputs": [],
   "source": [
    "def median_index(array):\n",
    "    n = len(array)\n",
    "    med_idx = np.argsort(array)[ceil((n-1)/2)]\n",
    "    # med_val = array[med_idx]\n",
    "    return med_idx #, med_val\n",
    "\n",
    "def mee(y_true_t, y_pred_t):\n",
    "    return tf.reduce_mean(tf.sqrt(tf.reduce_sum(tf.square(y_true_t - y_pred_t), axis=1)))\n",
    "    \n",
    "    \n",
    "def mse(y_true_t, y_pred_t):\n",
    "    return tf.reduce_mean(tf.reduce_sum(tf.square(y_true_t - y_pred_t), axis=1))\n",
    "\n",
    "def merge_dicts(dicts):\n",
    "    merged = {}\n",
    "    for d in dicts:\n",
    "        merged = {**merged, **d}\n",
    "    return merged\n",
    "\n",
    "\n",
    "def get_attributes_num(dataset):\n",
    "    return 1 if len(dataset.shape) == 1 else dataset.shape[1]\n",
    "\n",
    "\n",
    "def get_params_configurations(params):\n",
    "    \n",
    "    keys = list(params.keys())\n",
    "    keys.remove(\"layers\")\n",
    "    keys.remove(\"initialization\")\n",
    "    keys.remove(\"trials_train\")\n",
    "    keys.remove(\"trials_test\")\n",
    "    sorted_keys = sorted(keys)\n",
    "    arguments = []\n",
    "    for key in sorted_keys:\n",
    "        arguments.append(params[key])\n",
    "    \n",
    "    arguments = tuple(arguments)\n",
    "    all_params = list(itertools.product(*arguments))\n",
    "        \n",
    "    configurations = []\n",
    "    \n",
    "    for conf in all_params:\n",
    "        \n",
    "        dict_conf = {}\n",
    "        \n",
    "        for i in range(len(sorted_keys)):\n",
    "            dict_conf[sorted_keys[i]] = conf[i]\n",
    "        dict_conf[\"initialization\"] = params[\"initialization\"]\n",
    "        dict_conf[\"trials_train\"] = params[\"trials_train\"]\n",
    "        dict_conf[\"trials_test\"] = params[\"trials_test\"]\n",
    "        \n",
    "        configurations.append(dict_conf)\n",
    "        \n",
    "        \n",
    "    return configurations\n",
    "\n",
    "\n",
    "def get_layers_configurations(params, configurations):\n",
    "    layers = params[\"layers\"]\n",
    "    layers_params_confs = []\n",
    "    \n",
    "    for n_layer in range(len(layers)):\n",
    "        layers_params_confs.append([]) \n",
    "    \n",
    "    for i in range(len(layers)):\n",
    "        layer = layers[i]\n",
    "        activations = layer[\"activations\"]\n",
    "        units = layer[\"units\"]\n",
    "        layer_confs = list(itertools.product(activations, units))\n",
    "        for conf in layer_confs:\n",
    "            conf_dict = {\n",
    "                f\"activations_{i+1}\": conf[0],\n",
    "                f\"units_{i+1}\": conf[1]\n",
    "            }\n",
    "            layers_params_confs[i].append(conf_dict)\n",
    "        \n",
    "    layers_confs = []\n",
    "    for i in range(len(layers_params_confs)):\n",
    "        confs = layers_params_confs[:i+1]\n",
    "        confs = tuple(confs)\n",
    "        confs = list(itertools.product(*confs))\n",
    "        for conf in confs:\n",
    "            layers_confs.append(merge_dicts(conf))\n",
    "                \n",
    "    return layers_confs\n",
    "\n",
    "\n",
    "\n",
    "def get_configurations(params):\n",
    "    \n",
    "    configurations = get_params_configurations(params)\n",
    "    layers_confs = get_layers_configurations(params, configurations)\n",
    "    configurations = list(itertools.product(configurations, layers_confs))\n",
    "    configurations_merged = []\n",
    "    \n",
    "    for conf in configurations:\n",
    "        configurations_merged.append(merge_dicts(conf))\n",
    "        \n",
    "    \n",
    "    return configurations_merged\n",
    "\n",
    "    \n",
    "\n",
    "def get_model(config, input_size, output_size):\n",
    "    \n",
    "    init_method = config[\"initialization\"][\"type\"]\n",
    "    reg = config[\"regularization\"]\n",
    "        \n",
    "    init = None\n",
    "    if init_method == \"uniform\":\n",
    "        min_val = config[\"initialization\"][\"min\"]\n",
    "        max_val = config[\"initialization\"][\"max\"]\n",
    "        init = initializers.RandomUniform(minval=min_val, maxval=max_val, seed=None)\n",
    "    if init_method == \"normal\":\n",
    "        mean = config[\"initialization\"][\"mean\"]\n",
    "        std = config[\"initialization\"][\"std\"]\n",
    "        init = initializers.RandomNormal(mean=mean, stddev=std, seed=None)\n",
    "        \n",
    "        \n",
    "    n_layers = 0\n",
    "    for key in config.keys():\n",
    "        if key.startswith(\"units_\"):\n",
    "            n_layers += 1\n",
    "    \n",
    "    layers = []\n",
    "    for l in range(1, n_layers+1):\n",
    "        activation = config[f\"activations_{l}\"]\n",
    "        n_units = config[f\"units_{l}\"]\n",
    "        layers.append({ \n",
    "            \"activation\": activation,\n",
    "            \"units\": n_units\n",
    "        })\n",
    "        \n",
    "    model = RandomizedNetwork(input_size, output_size, layers, init, reg)\n",
    "        \n",
    "    return model\n",
    "    \n",
    "    \n",
    "\n",
    "def get_metrics(model, x_train, y_train, x_test=None, y_test=None):\n",
    "    train_loss, train_metric  = model.evaluate(x_train, y_train, verbose=0)\n",
    "    test_loss, test_metric  = model.evaluate(x_test, y_test, verbose=0) if x_test is not None else [None, None]\n",
    "    return train_loss, train_metric, test_loss, test_metric\n",
    "    \n",
    "\n",
    "def fit_model_k_fold(x_train, y_train, config, n_folds):\n",
    "    \n",
    "\n",
    "    train_metric = \"mee\"\n",
    "    val_metric = \"val_mee\"\n",
    "\n",
    "    trials = config[\"trials_train\"]\n",
    "\n",
    "    \n",
    "    kf = KFold(n_splits = n_folds, shuffle=True)\n",
    "\n",
    "    train_losses = []\n",
    "    val_losses = []\n",
    "    train_accs = []\n",
    "    val_accs = []\n",
    "\n",
    "    fold = 1\n",
    "    for train_index, val_index in kf.split(x_train, y_train):\n",
    "        \n",
    "        print(f\"\\nExecuting fold {fold}/{n_folds}\")\n",
    "        \n",
    "        input_size = get_attributes_num(x_train)\n",
    "        output_size = get_attributes_num(y_train)\n",
    "        \n",
    "                \n",
    "        x_train_fold = x_train[train_index]\n",
    "        y_train_fold = y_train[train_index]\n",
    "\n",
    "        x_val_fold = x_train[val_index]\n",
    "        y_val_fold = y_train[val_index]\n",
    "\n",
    "        \n",
    "        trials_val_loss = []\n",
    "        trials_train_loss = []\n",
    "        trials_val_acc = []\n",
    "        trials_train_acc = []\n",
    "        \n",
    "        with tqdm(total=trials) as pbar:\n",
    "            for trial in range(trials):\n",
    "                model = get_model(config, input_size, output_size)\n",
    "                \n",
    "                model.lms_solve(x_train_fold, y_train_fold)\n",
    "                \n",
    "                trial_train_loss, trial_train_acc, trial_val_loss, trial_val_acc = get_metrics(model, x_train_fold, y_train_fold, x_val_fold, y_val_fold)\n",
    "\n",
    "                trials_val_loss.append(trial_val_loss)\n",
    "                trials_train_loss.append(trial_train_loss)\n",
    "                trials_val_acc.append(trial_val_acc)\n",
    "                trials_train_acc.append(trial_train_acc)\n",
    "\n",
    "                pbar.update(1)\n",
    "            \n",
    "        # get the median metrics among the trials\n",
    "        med_idx = median_index(trials_val_loss)\n",
    "        med_val_loss = trials_val_loss[med_idx]\n",
    "        med_train_loss = trials_train_loss[med_idx]\n",
    "        med_val_acc = trials_val_acc[med_idx]\n",
    "        med_train_acc = trials_train_acc[med_idx]\n",
    "        std_val_loss = np.std(trials_val_loss)\n",
    "        std_train_loss = np.std(trials_train_loss)\n",
    "        std_val_acc = np.std(trials_val_acc)\n",
    "        std_train_acc = np.std(trials_train_acc)\n",
    "\n",
    "        print(f\"Fold {fold}/{n_folds} median val_loss: {med_val_loss}, std val_loss {std_val_loss}\")\n",
    "        print(f\"Fold {fold}/{n_folds} median train_loss: {med_train_loss}, std train_loss {std_train_loss}\")\n",
    "        print(f\"Fold {fold}/{n_folds} median {val_metric}: {med_val_acc}, std {val_metric} {std_val_acc}\")\n",
    "        print(f\"Fold {fold}/{n_folds} median train_{train_metric}: {med_train_acc}, train_{train_metric} {std_train_acc}\")\n",
    "            \n",
    "        train_losses.append(med_train_loss)\n",
    "        val_losses.append(med_val_loss)\n",
    "        val_accs.append(med_val_acc)\n",
    "        train_accs.append(med_train_acc)\n",
    "        \n",
    "        fold += 1\n",
    "        \n",
    "    mean_train_loss = np.mean(train_losses)\n",
    "    mean_val_loss = np.mean(val_losses)\n",
    "    mean_train_acc = np.mean(train_accs)\n",
    "    mean_val_acc = np.mean(val_accs)\n",
    "    std_train_loss = np.std(train_losses)\n",
    "    std_val_loss = np.std(val_losses)\n",
    "    std_train_acc = np.std(train_accs)\n",
    "    std_val_acc = np.std(val_accs)\n",
    "    \n",
    "    print(f\"\\nMean val_loss: {mean_val_loss}, std val_loss: {std_val_loss}\")\n",
    "    print(f\"Mean train_loss: {mean_train_loss}, std train_loss: {std_train_loss}\")\n",
    "    print(f\"Mean {val_metric}: {mean_val_acc}, std {val_metric}: {std_val_acc}\")\n",
    "    print(f\"Mean train_{train_metric}: {mean_val_acc}, std train_{train_metric}: {std_train_acc}\")\n",
    "    \n",
    "    return mean_val_loss\n",
    "\n",
    "\n",
    "\n",
    "\n",
    "def fit_model_hold_out(x_train, y_train, config, val_split):\n",
    "    \n",
    "    train_metric = \"mee\"\n",
    "    val_metric = \"val_mee\"\n",
    "        \n",
    "    trials = config[\"trials_train\"]\n",
    "    input_size = get_attributes_num(x_train)\n",
    "    output_size = get_attributes_num(y_train)\n",
    "        \n",
    "    x_train, x_val, y_train, y_val = train_test_split(x_train, y_train, test_size=val_split, shuffle=True)\n",
    "\n",
    "    \n",
    "    trials_val_loss = []\n",
    "    trials_train_loss = []\n",
    "    trials_val_acc = []\n",
    "    trials_train_acc = []\n",
    "        \n",
    "    with tqdm(total=trials) as pbar:\n",
    "        for trial in range(trials):            \n",
    "            model = get_model(config, input_size, output_size)\n",
    "                \n",
    "            model.lms_solve(x_train, y_train)\n",
    "\n",
    "            trial_train_loss, trial_train_acc, trial_val_loss, trial_val_acc = get_metrics(model, x_train, y_train, x_val, y_val)\n",
    "\n",
    "            trials_val_loss.append(trial_val_loss)\n",
    "            trials_train_loss.append(trial_train_loss)\n",
    "            trials_val_acc.append(trial_val_acc)\n",
    "            trials_train_acc.append(trial_train_acc)\n",
    "            \n",
    "            pbar.update(1)\n",
    "    \n",
    "    # get the median metrics among the trials\n",
    "    med_idx = median_index(trials_val_loss)\n",
    "    med_val_loss = trials_val_loss[med_idx]\n",
    "    med_train_loss = trials_train_loss[med_idx]\n",
    "    med_val_acc = trials_val_acc[med_idx]\n",
    "    med_train_acc = trials_train_acc[med_idx]\n",
    "    std_val_loss = np.std(trials_val_loss)\n",
    "    std_train_loss = np.std(trials_train_loss)\n",
    "    std_val_acc = np.std(trials_val_acc)\n",
    "    std_train_acc = np.std(trials_train_acc)\n",
    "\n",
    "    print(f\"Median val_loss: {med_val_loss}, std val_loss {std_val_loss}\")\n",
    "    print(f\"Median train_loss: {med_train_loss}, std train_loss {std_train_loss}\")\n",
    "    print(f\"Median {val_metric}: {med_val_acc}, std {val_metric} {std_val_acc}\")\n",
    "    print(f\"Median train_{train_metric}: {med_train_acc}, train_{train_metric} {std_train_acc}\")\n",
    "    \n",
    "    return med_val_loss\n",
    "    \n",
    "    \n",
    "def fit_final_model(x_train, y_train, config):\n",
    "\n",
    "    train_metric = \"mee\"\n",
    "    val_metric = \"val_mee\"\n",
    "    train_loss = \"mse\"\n",
    "    val_loss = \"mse\"\n",
    "\n",
    "    trials = config[\"trials_test\"]\n",
    "\n",
    "            \n",
    "    input_size = get_attributes_num(x_train)\n",
    "    output_size = get_attributes_num(y_train)\n",
    "    \n",
    "    \n",
    "    trials_val_loss = []\n",
    "    trials_train_loss = []\n",
    "    trials_val_acc = []\n",
    "    trials_train_acc = []\n",
    "    \n",
    "    models = []\n",
    "    \n",
    "    x_train, x_val, y_train, y_val = train_test_split(x_train, y_train, test_size=0.2, shuffle=True, stratify=None)\n",
    "\n",
    "    \n",
    "    with tqdm(total=trials) as pbar:\n",
    "        for trial in range(trials):\n",
    "            model = get_model(config, input_size, output_size)\n",
    "                \n",
    "            model.lms_solve(x_train, y_train)\n",
    "            \n",
    "            models.append(model)\n",
    "\n",
    "            trial_train_loss, trial_train_acc, trial_val_loss, trial_val_acc = get_metrics(model, x_train, y_train, x_val, y_val)\n",
    "\n",
    "            trials_val_loss.append(trial_val_loss)\n",
    "            trials_train_loss.append(trial_train_loss)\n",
    "            trials_val_acc.append(trial_val_acc)\n",
    "            trials_train_acc.append(trial_train_acc)\n",
    "\n",
    "            print(f\"Trial {trial+1}/{trials} {val_loss}: {trial_val_loss}\")\n",
    "            print(f\"Trial {trial+1}/{trials} train_{train_loss}: {trial_train_loss}\")\n",
    "            print(f\"Trial {trial+1}/{trials} {val_metric}: {trial_val_acc}\")\n",
    "            print(f\"Trial {trial+1}/{trials} train_{train_metric}: {trial_train_acc}\")\n",
    "\n",
    "            pbar.update(1)\n",
    "        \n",
    "    med_idx = median_index(trials_val_loss)\n",
    "    med_val_loss = trials_val_loss[med_idx]\n",
    "    med_train_loss = trials_train_loss[med_idx]\n",
    "    med_val_acc = trials_val_acc[med_idx]\n",
    "    med_train_acc = trials_train_acc[med_idx]\n",
    "    std_val_loss = np.std(trials_val_loss)\n",
    "    std_train_loss = np.std(trials_train_loss)\n",
    "    std_val_acc = np.std(trials_val_acc)\n",
    "    std_train_acc = np.std(trials_train_acc)\n",
    "    \n",
    "    print(f\"\\nMedian {val_loss}: {med_val_loss}, std {val_loss}: {std_val_loss}\")\n",
    "    print(f\"Median train_{train_loss}: {med_train_loss}, std train_{train_loss}: {std_train_loss}\")\n",
    "    print(f\"Median {val_metric}: {med_val_acc}, std {val_metric}: {std_val_acc}\")\n",
    "    print(f\"Median train_{train_metric}: {med_train_acc}, std train_{train_metric} {std_train_acc}\")\n",
    "        \n",
    "    med_model = models[med_idx]\n",
    "    \n",
    "    return med_model\n",
    "\n",
    "    \n",
    "def fit_model(x_train, y_train, config, validation):\n",
    "    if validation[\"type\"] == \"k-fold\":\n",
    "        val_loss = fit_model_k_fold(x_train, y_train, config, validation[\"n_folds\"])\n",
    "    elif validation[\"type\"] == \"hold-out\":\n",
    "        val_loss = fit_model_hold_out(x_train, y_train, config, validation[\"val_split\"])\n",
    "    return val_loss\n",
    "\n",
    "\n",
    "def assess_model(model, x_train, y_train, x_test, y_test, scale=True):\n",
    "    global y_scaler\n",
    "    y_train_pred = model.predict(x_train)\n",
    "    y_test_pred = model.predict(x_test)\n",
    "    \n",
    "    if scale: \n",
    "        y_train_pred = y_scaler.inverse_transform(y_train_pred)\n",
    "        y_train = y_scaler.inverse_transform(y_train)\n",
    "        y_test_pred = y_scaler.inverse_transform(y_test_pred)\n",
    "        y_test = y_scaler.inverse_transform(y_test)\n",
    "    \n",
    "    \n",
    "    mse_train = mse(y_train, y_train_pred)\n",
    "    mse_test = mse(y_test, y_test_pred)\n",
    "    \n",
    "    mee_train = mee(y_train, y_train_pred)\n",
    "    mee_test = mee(y_test, y_test_pred)\n",
    "    \n",
    "    print(f\"Train MSE: {mse_train}\")\n",
    "    print(f\"Train MEE: {mee_train}\")\n",
    "    print(f\"Test MSE: {mse_test}\")\n",
    "    print(f\"Test MSE: {mee_test}\")\n",
    "    \n",
    "    \n",
    "def model_selection(configurations, x_train, y_train, validation):\n",
    "        \n",
    "    best_loss = float(\"inf\")\n",
    "    best_conf = None\n",
    "    \n",
    "    idx = 1\n",
    "    n_confs = len(configurations)\n",
    "    for config in configurations:\n",
    "\n",
    "        print(f\"Testing configuration {idx}/{n_confs}:\\n{config}\")\n",
    "        val_loss = fit_model(x_train, y_train, config, validation)\n",
    "\n",
    "        if val_loss < best_loss:\n",
    "            best_loss = val_loss;\n",
    "            best_conf = config\n",
    "        idx += 1\n",
    "        \n",
    "        print(\"\\n\\n\")\n",
    "\n",
    "            \n",
    "    print(\"\\n\\n\")\n",
    "    print(f\"Best configuration (loss {best_loss}):\\n{best_conf}\")\n",
    "    \n",
    "    return best_conf\n",
    "    \n",
    "\n",
    "def grid_search(params, x_train, y_train, validation={\"type\": \"hold-out\", \"val_split\": 0.2}):\n",
    "    configurations = get_configurations(params)    \n",
    "    best_conf = model_selection(configurations, x_train, y_train, validation)\n",
    "    model = fit_final_model(x_train, y_train, best_conf)\n",
    "    \n",
    "    return model"
   ]
  },
  {
   "cell_type": "code",
   "execution_count": 6,
   "id": "ede16f2b",
   "metadata": {},
   "outputs": [],
   "source": [
    "normal = {\n",
    "    \"type\": \"normal\",\n",
    "    \"mean\": 0,\n",
    "    \"std\": 0.5\n",
    "}\n",
    "\n",
    "unif = {\n",
    "    \"type\": \"uniform\",\n",
    "    \"min\": -1,\n",
    "    \"max\": 1\n",
    "}\n",
    "\n",
    "params = {\n",
    "    \"trials_train\": 10,\n",
    "    \"trials_test\": 10,\n",
    "    \"initialization\": normal,\n",
    "    \"regularization\": [0.0001, 0.001, 0.01, 0.1, 1, 10, 100, 1000, 10000],\n",
    "    \"layers\": [\n",
    "        {\n",
    "            \"activations\": [\"tanh\"],\n",
    "            \"units\": [10, 100, 500, 1000],\n",
    "        }\n",
    "    ]\n",
    "}\n",
    "\n",
    "\n",
    "k_fold_val = {\n",
    "    \"type\": \"k-fold\",\n",
    "    \"n_folds\": 5\n",
    "}\n",
    "\n",
    "hold_out_val = {\n",
    "    \"type\": \"hold-out\",\n",
    "    \"val_split\": 0.2\n",
    "}\n"
   ]
  },
  {
   "cell_type": "markdown",
   "id": "58a98502",
   "metadata": {},
   "source": [
    "# ML Cup"
   ]
  },
  {
   "cell_type": "code",
   "execution_count": 7,
   "id": "cebb8e47",
   "metadata": {},
   "outputs": [
    {
     "name": "stdout",
     "output_type": "stream",
     "text": [
      "(1343, 9) (1343, 2)\n",
      "(149, 9) (149, 2)\n"
     ]
    }
   ],
   "source": [
    "x_train, y_train, x_test, y_test = load_dataset(\"cup\", True)\n",
    "print(x_train.shape, y_train.shape)\n",
    "print(x_test.shape, y_test.shape)"
   ]
  },
  {
   "cell_type": "code",
   "execution_count": 8,
   "id": "6bb5d69e",
   "metadata": {},
   "outputs": [
    {
     "name": "stdout",
     "output_type": "stream",
     "text": [
      "Testing configuration 1/36:\n",
      "{'regularization': 0.0001, 'initialization': {'type': 'normal', 'mean': 0, 'std': 0.5}, 'trials_train': 10, 'trials_test': 10, 'activations_1': 'tanh', 'units_1': 10}\n"
     ]
    },
    {
     "name": "stderr",
     "output_type": "stream",
     "text": [
      "  0%|                                                    | 0/10 [00:00<?, ?it/s]2022-12-22 09:32:24.356900: I tensorflow/stream_executor/cuda/cuda_gpu_executor.cc:980] successful NUMA node read from SysFS had negative value (-1), but there must be at least one NUMA node, so returning NUMA node zero\n",
      "2022-12-22 09:32:24.424306: W tensorflow/stream_executor/platform/default/dso_loader.cc:64] Could not load dynamic library 'libcudnn.so.8'; dlerror: libcudnn.so.8: cannot open shared object file: No such file or directory\n",
      "2022-12-22 09:32:24.424328: W tensorflow/core/common_runtime/gpu/gpu_device.cc:1934] Cannot dlopen some GPU libraries. Please make sure the missing libraries mentioned above are installed properly if you would like to use GPU. Follow the guide at https://www.tensorflow.org/install/gpu for how to download and setup the required libraries for your platform.\n",
      "Skipping registering GPU devices...\n",
      "2022-12-22 09:32:24.424713: I tensorflow/core/platform/cpu_feature_guard.cc:193] This TensorFlow binary is optimized with oneAPI Deep Neural Network Library (oneDNN) to use the following CPU instructions in performance-critical operations:  AVX2 FMA\n",
      "To enable them in other operations, rebuild TensorFlow with the appropriate compiler flags.\n",
      "100%|███████████████████████████████████████████| 10/10 [00:04<00:00,  2.12it/s]\n"
     ]
    },
    {
     "name": "stdout",
     "output_type": "stream",
     "text": [
      "Median val_loss: 0.1796623319387436, std val_loss 0.02059504541672131\n",
      "Median train_loss: 0.1721034049987793, std train_loss 0.02342282460118602\n",
      "Median val_mee: 0.5261144042015076, std val_mee 0.03220428108156163\n",
      "Median train_mee: 0.5042650103569031, train_mee 0.034429669703798245\n",
      "\n",
      "\n",
      "\n",
      "Testing configuration 2/36:\n",
      "{'regularization': 0.0001, 'initialization': {'type': 'normal', 'mean': 0, 'std': 0.5}, 'trials_train': 10, 'trials_test': 10, 'activations_1': 'tanh', 'units_1': 100}\n"
     ]
    },
    {
     "name": "stderr",
     "output_type": "stream",
     "text": [
      "100%|███████████████████████████████████████████| 10/10 [00:04<00:00,  2.44it/s]\n"
     ]
    },
    {
     "name": "stdout",
     "output_type": "stream",
     "text": [
      "Median val_loss: 0.08819663524627686, std val_loss 0.00295557303531681\n",
      "Median train_loss: 0.07978007942438126, std train_loss 0.001046273119211592\n",
      "Median val_mee: 0.3215924799442291, std val_mee 0.009362235383240249\n",
      "Median train_mee: 0.3158986568450928, train_mee 0.0038742647701142992\n",
      "\n",
      "\n",
      "\n",
      "Testing configuration 3/36:\n",
      "{'regularization': 0.0001, 'initialization': {'type': 'normal', 'mean': 0, 'std': 0.5}, 'trials_train': 10, 'trials_test': 10, 'activations_1': 'tanh', 'units_1': 500}\n"
     ]
    },
    {
     "name": "stderr",
     "output_type": "stream",
     "text": [
      "100%|███████████████████████████████████████████| 10/10 [00:05<00:00,  1.99it/s]\n"
     ]
    },
    {
     "name": "stdout",
     "output_type": "stream",
     "text": [
      "Median val_loss: 0.13531795144081116, std val_loss 0.012134687716985969\n",
      "Median train_loss: 0.04485486447811127, std train_loss 0.0009502366892338877\n",
      "Median val_mee: 0.4222503900527954, std val_mee 0.017387432288198914\n",
      "Median train_mee: 0.23167915642261505, train_mee 0.002548220677771568\n",
      "\n",
      "\n",
      "\n",
      "Testing configuration 4/36:\n",
      "{'regularization': 0.0001, 'initialization': {'type': 'normal', 'mean': 0, 'std': 0.5}, 'trials_train': 10, 'trials_test': 10, 'activations_1': 'tanh', 'units_1': 1000}\n"
     ]
    },
    {
     "name": "stderr",
     "output_type": "stream",
     "text": [
      "100%|███████████████████████████████████████████| 10/10 [00:07<00:00,  1.36it/s]\n"
     ]
    },
    {
     "name": "stdout",
     "output_type": "stream",
     "text": [
      "Median val_loss: 3.6342971324920654, std val_loss 0.22474343113463963\n",
      "Median train_loss: 0.006769323255866766, std train_loss 0.0005400660893245707\n",
      "Median val_mee: 1.9078691005706787, std val_mee 0.06407657391390666\n",
      "Median train_mee: 0.08164878189563751, train_mee 0.0031601643892604555\n",
      "\n",
      "\n",
      "\n",
      "Testing configuration 5/36:\n",
      "{'regularization': 0.001, 'initialization': {'type': 'normal', 'mean': 0, 'std': 0.5}, 'trials_train': 10, 'trials_test': 10, 'activations_1': 'tanh', 'units_1': 10}\n"
     ]
    },
    {
     "name": "stderr",
     "output_type": "stream",
     "text": [
      "100%|███████████████████████████████████████████| 10/10 [00:04<00:00,  2.39it/s]\n"
     ]
    },
    {
     "name": "stdout",
     "output_type": "stream",
     "text": [
      "Median val_loss: 0.16338622570037842, std val_loss 0.014879182004760853\n",
      "Median train_loss: 0.1623155176639557, std train_loss 0.009841249965726979\n",
      "Median val_mee: 0.48286929726600647, std val_mee 0.022488423221553512\n",
      "Median train_mee: 0.47906938195228577, train_mee 0.015157158918580754\n",
      "\n",
      "\n",
      "\n",
      "Testing configuration 6/36:\n",
      "{'regularization': 0.001, 'initialization': {'type': 'normal', 'mean': 0, 'std': 0.5}, 'trials_train': 10, 'trials_test': 10, 'activations_1': 'tanh', 'units_1': 100}\n"
     ]
    },
    {
     "name": "stderr",
     "output_type": "stream",
     "text": [
      "100%|███████████████████████████████████████████| 10/10 [00:04<00:00,  2.09it/s]\n"
     ]
    },
    {
     "name": "stdout",
     "output_type": "stream",
     "text": [
      "Median val_loss: 0.08969739824533463, std val_loss 0.001067918127954692\n",
      "Median train_loss: 0.07738659530878067, std train_loss 0.002032060999519141\n",
      "Median val_mee: 0.344013512134552, std val_mee 0.003075507019375737\n",
      "Median train_mee: 0.30721789598464966, train_mee 0.004286805897605372\n",
      "\n",
      "\n",
      "\n",
      "Testing configuration 7/36:\n",
      "{'regularization': 0.001, 'initialization': {'type': 'normal', 'mean': 0, 'std': 0.5}, 'trials_train': 10, 'trials_test': 10, 'activations_1': 'tanh', 'units_1': 500}\n"
     ]
    },
    {
     "name": "stderr",
     "output_type": "stream",
     "text": [
      "100%|███████████████████████████████████████████| 10/10 [00:05<00:00,  1.98it/s]\n"
     ]
    },
    {
     "name": "stdout",
     "output_type": "stream",
     "text": [
      "Median val_loss: 0.15976035594940186, std val_loss 0.010807983759513905\n",
      "Median train_loss: 0.04595530405640602, std train_loss 0.0006566887337084198\n",
      "Median val_mee: 0.4415029287338257, std val_mee 0.01179990865428176\n",
      "Median train_mee: 0.23474285006523132, train_mee 0.0026396491932700163\n",
      "\n",
      "\n",
      "\n",
      "Testing configuration 8/36:\n",
      "{'regularization': 0.001, 'initialization': {'type': 'normal', 'mean': 0, 'std': 0.5}, 'trials_train': 10, 'trials_test': 10, 'activations_1': 'tanh', 'units_1': 1000}\n"
     ]
    },
    {
     "name": "stderr",
     "output_type": "stream",
     "text": [
      "100%|███████████████████████████████████████████| 10/10 [00:08<00:00,  1.22it/s]\n"
     ]
    },
    {
     "name": "stdout",
     "output_type": "stream",
     "text": [
      "Median val_loss: 1.5117970705032349, std val_loss 0.21637407676886466\n",
      "Median train_loss: 0.008464792743325233, std train_loss 0.0005368056926742769\n",
      "Median val_mee: 1.3297123908996582, std val_mee 0.05992498542295908\n",
      "Median train_mee: 0.09091275930404663, train_mee 0.003454967290316564\n",
      "\n",
      "\n",
      "\n",
      "Testing configuration 9/36:\n",
      "{'regularization': 0.01, 'initialization': {'type': 'normal', 'mean': 0, 'std': 0.5}, 'trials_train': 10, 'trials_test': 10, 'activations_1': 'tanh', 'units_1': 10}\n"
     ]
    },
    {
     "name": "stderr",
     "output_type": "stream",
     "text": [
      "100%|███████████████████████████████████████████| 10/10 [00:04<00:00,  2.29it/s]\n"
     ]
    },
    {
     "name": "stdout",
     "output_type": "stream",
     "text": [
      "Median val_loss: 0.20478582382202148, std val_loss 0.0220628569952819\n",
      "Median train_loss: 0.15622343122959137, std train_loss 0.01936283780561655\n",
      "Median val_mee: 0.5446349382400513, std val_mee 0.03524879749984921\n",
      "Median train_mee: 0.4835846424102783, train_mee 0.02656801565752632\n",
      "\n",
      "\n",
      "\n",
      "Testing configuration 10/36:\n",
      "{'regularization': 0.01, 'initialization': {'type': 'normal', 'mean': 0, 'std': 0.5}, 'trials_train': 10, 'trials_test': 10, 'activations_1': 'tanh', 'units_1': 100}\n"
     ]
    },
    {
     "name": "stderr",
     "output_type": "stream",
     "text": [
      "100%|███████████████████████████████████████████| 10/10 [00:04<00:00,  2.33it/s]\n"
     ]
    },
    {
     "name": "stdout",
     "output_type": "stream",
     "text": [
      "Median val_loss: 0.08405611664056778, std val_loss 0.002641187149015687\n",
      "Median train_loss: 0.07960960268974304, std train_loss 0.0017854515662480163\n",
      "Median val_mee: 0.3315337896347046, std val_mee 0.005418105648696154\n",
      "Median train_mee: 0.31258848309516907, train_mee 0.0046477801800372896\n",
      "\n",
      "\n",
      "\n",
      "Testing configuration 11/36:\n",
      "{'regularization': 0.01, 'initialization': {'type': 'normal', 'mean': 0, 'std': 0.5}, 'trials_train': 10, 'trials_test': 10, 'activations_1': 'tanh', 'units_1': 500}\n"
     ]
    },
    {
     "name": "stderr",
     "output_type": "stream",
     "text": [
      "100%|███████████████████████████████████████████| 10/10 [00:04<00:00,  2.31it/s]\n"
     ]
    },
    {
     "name": "stdout",
     "output_type": "stream",
     "text": [
      "Median val_loss: 0.15164422988891602, std val_loss 0.010561377253552643\n",
      "Median train_loss: 0.040668778121471405, std train_loss 0.0010344201510233823\n",
      "Median val_mee: 0.45075660943984985, std val_mee 0.009885407425337368\n",
      "Median train_mee: 0.22479155659675598, train_mee 0.0029086050618053784\n",
      "\n",
      "\n",
      "\n",
      "Testing configuration 12/36:\n",
      "{'regularization': 0.01, 'initialization': {'type': 'normal', 'mean': 0, 'std': 0.5}, 'trials_train': 10, 'trials_test': 10, 'activations_1': 'tanh', 'units_1': 1000}\n"
     ]
    },
    {
     "name": "stderr",
     "output_type": "stream",
     "text": [
      "100%|███████████████████████████████████████████| 10/10 [00:05<00:00,  1.78it/s]\n"
     ]
    },
    {
     "name": "stdout",
     "output_type": "stream",
     "text": [
      "Median val_loss: 0.4166070222854614, std val_loss 0.04810549855736261\n",
      "Median train_loss: 0.017488516867160797, std train_loss 0.0009922856473427984\n",
      "Median val_mee: 0.708871603012085, std val_mee 0.023610549841316688\n",
      "Median train_mee: 0.13263657689094543, train_mee 0.0035099459879299184\n",
      "\n",
      "\n",
      "\n",
      "Testing configuration 13/36:\n",
      "{'regularization': 0.1, 'initialization': {'type': 'normal', 'mean': 0, 'std': 0.5}, 'trials_train': 10, 'trials_test': 10, 'activations_1': 'tanh', 'units_1': 10}\n"
     ]
    },
    {
     "name": "stderr",
     "output_type": "stream",
     "text": [
      "100%|███████████████████████████████████████████| 10/10 [00:03<00:00,  2.58it/s]\n"
     ]
    },
    {
     "name": "stdout",
     "output_type": "stream",
     "text": [
      "Median val_loss: 0.16480877995491028, std val_loss 0.019676914200695103\n",
      "Median train_loss: 0.17962637543678284, std train_loss 0.0193137535616758\n",
      "Median val_mee: 0.49230247735977173, std val_mee 0.03391976815467597\n",
      "Median train_mee: 0.5088567733764648, train_mee 0.033980014008007875\n",
      "\n",
      "\n",
      "\n",
      "Testing configuration 14/36:\n",
      "{'regularization': 0.1, 'initialization': {'type': 'normal', 'mean': 0, 'std': 0.5}, 'trials_train': 10, 'trials_test': 10, 'activations_1': 'tanh', 'units_1': 100}\n"
     ]
    },
    {
     "name": "stderr",
     "output_type": "stream",
     "text": [
      "100%|███████████████████████████████████████████| 10/10 [00:03<00:00,  2.52it/s]\n"
     ]
    },
    {
     "name": "stdout",
     "output_type": "stream",
     "text": [
      "Median val_loss: 0.08584889769554138, std val_loss 0.0030069448855331382\n",
      "Median train_loss: 0.07847214490175247, std train_loss 0.0010656116504189897\n",
      "Median val_mee: 0.3349234461784363, std val_mee 0.008284029048654828\n",
      "Median train_mee: 0.3055632412433624, train_mee 0.0036938150190788054\n",
      "\n",
      "\n",
      "\n",
      "Testing configuration 15/36:\n",
      "{'regularization': 0.1, 'initialization': {'type': 'normal', 'mean': 0, 'std': 0.5}, 'trials_train': 10, 'trials_test': 10, 'activations_1': 'tanh', 'units_1': 500}\n"
     ]
    },
    {
     "name": "stderr",
     "output_type": "stream",
     "text": [
      "100%|███████████████████████████████████████████| 10/10 [00:04<00:00,  2.02it/s]\n"
     ]
    },
    {
     "name": "stdout",
     "output_type": "stream",
     "text": [
      "Median val_loss: 0.11424478143453598, std val_loss 0.005860226918951165\n",
      "Median train_loss: 0.04533180966973305, std train_loss 0.0008452174382459043\n",
      "Median val_mee: 0.3985777795314789, std val_mee 0.010775065615666223\n",
      "Median train_mee: 0.2303631752729416, train_mee 0.002539284744997847\n",
      "\n",
      "\n",
      "\n",
      "Testing configuration 16/36:\n",
      "{'regularization': 0.1, 'initialization': {'type': 'normal', 'mean': 0, 'std': 0.5}, 'trials_train': 10, 'trials_test': 10, 'activations_1': 'tanh', 'units_1': 1000}\n"
     ]
    },
    {
     "name": "stderr",
     "output_type": "stream",
     "text": [
      "100%|███████████████████████████████████████████| 10/10 [00:06<00:00,  1.58it/s]\n"
     ]
    },
    {
     "name": "stdout",
     "output_type": "stream",
     "text": [
      "Median val_loss: 0.19499604403972626, std val_loss 0.013493600810277707\n",
      "Median train_loss: 0.023565564304590225, std train_loss 0.00047620819919447417\n",
      "Median val_mee: 0.5011818408966064, std val_mee 0.019006704923719493\n",
      "Median train_mee: 0.15939724445343018, train_mee 0.0016154408804468288\n",
      "\n",
      "\n",
      "\n",
      "Testing configuration 17/36:\n",
      "{'regularization': 1, 'initialization': {'type': 'normal', 'mean': 0, 'std': 0.5}, 'trials_train': 10, 'trials_test': 10, 'activations_1': 'tanh', 'units_1': 10}\n"
     ]
    },
    {
     "name": "stderr",
     "output_type": "stream",
     "text": [
      "100%|███████████████████████████████████████████| 10/10 [00:04<00:00,  2.43it/s]\n"
     ]
    },
    {
     "name": "stdout",
     "output_type": "stream",
     "text": [
      "Median val_loss: 0.15942619740962982, std val_loss 0.02725972465471363\n",
      "Median train_loss: 0.16652877628803253, std train_loss 0.025047904668220915\n",
      "Median val_mee: 0.47403764724731445, std val_mee 0.04276113017742834\n",
      "Median train_mee: 0.486749529838562, train_mee 0.03726945864398653\n",
      "\n",
      "\n",
      "\n",
      "Testing configuration 18/36:\n",
      "{'regularization': 1, 'initialization': {'type': 'normal', 'mean': 0, 'std': 0.5}, 'trials_train': 10, 'trials_test': 10, 'activations_1': 'tanh', 'units_1': 100}\n"
     ]
    },
    {
     "name": "stderr",
     "output_type": "stream",
     "text": [
      "100%|███████████████████████████████████████████| 10/10 [00:04<00:00,  2.37it/s]\n"
     ]
    },
    {
     "name": "stdout",
     "output_type": "stream",
     "text": [
      "Median val_loss: 0.08722750097513199, std val_loss 0.0026456857846527478\n",
      "Median train_loss: 0.08243220299482346, std train_loss 0.0015471394938893466\n",
      "Median val_mee: 0.32514089345932007, std val_mee 0.005976086333260046\n",
      "Median train_mee: 0.3173104524612427, train_mee 0.004298544909938798\n",
      "\n",
      "\n",
      "\n",
      "Testing configuration 19/36:\n",
      "{'regularization': 1, 'initialization': {'type': 'normal', 'mean': 0, 'std': 0.5}, 'trials_train': 10, 'trials_test': 10, 'activations_1': 'tanh', 'units_1': 500}\n"
     ]
    },
    {
     "name": "stderr",
     "output_type": "stream",
     "text": [
      "100%|███████████████████████████████████████████| 10/10 [00:04<00:00,  2.41it/s]\n"
     ]
    },
    {
     "name": "stdout",
     "output_type": "stream",
     "text": [
      "Median val_loss: 0.09238431602716446, std val_loss 0.002478740132704911\n",
      "Median train_loss: 0.05305163562297821, std train_loss 0.00024304376355377153\n",
      "Median val_mee: 0.34246352314949036, std val_mee 0.004781948313491467\n",
      "Median train_mee: 0.24713560938835144, train_mee 0.001260900642877523\n",
      "\n",
      "\n",
      "\n",
      "Testing configuration 20/36:\n",
      "{'regularization': 1, 'initialization': {'type': 'normal', 'mean': 0, 'std': 0.5}, 'trials_train': 10, 'trials_test': 10, 'activations_1': 'tanh', 'units_1': 1000}\n"
     ]
    },
    {
     "name": "stderr",
     "output_type": "stream",
     "text": [
      "100%|███████████████████████████████████████████| 10/10 [00:05<00:00,  1.77it/s]\n"
     ]
    },
    {
     "name": "stdout",
     "output_type": "stream",
     "text": [
      "Median val_loss: 0.11246217042207718, std val_loss 0.0037940672466147164\n",
      "Median train_loss: 0.037718817591667175, std train_loss 0.000553366061436706\n",
      "Median val_mee: 0.3716484308242798, std val_mee 0.007332149465313898\n",
      "Median train_mee: 0.20508912205696106, train_mee 0.001215648542132656\n",
      "\n",
      "\n",
      "\n",
      "Testing configuration 21/36:\n",
      "{'regularization': 10, 'initialization': {'type': 'normal', 'mean': 0, 'std': 0.5}, 'trials_train': 10, 'trials_test': 10, 'activations_1': 'tanh', 'units_1': 10}\n"
     ]
    },
    {
     "name": "stderr",
     "output_type": "stream",
     "text": [
      "100%|███████████████████████████████████████████| 10/10 [00:03<00:00,  2.59it/s]\n"
     ]
    },
    {
     "name": "stdout",
     "output_type": "stream",
     "text": [
      "Median val_loss: 0.21261686086654663, std val_loss 0.027609521656510146\n",
      "Median train_loss: 0.19143147766590118, std train_loss 0.02342337078559131\n",
      "Median val_mee: 0.5334846377372742, std val_mee 0.03739871665309434\n",
      "Median train_mee: 0.515708863735199, train_mee 0.033765189408792244\n",
      "\n",
      "\n",
      "\n",
      "Testing configuration 22/36:\n",
      "{'regularization': 10, 'initialization': {'type': 'normal', 'mean': 0, 'std': 0.5}, 'trials_train': 10, 'trials_test': 10, 'activations_1': 'tanh', 'units_1': 100}\n"
     ]
    },
    {
     "name": "stderr",
     "output_type": "stream",
     "text": [
      "100%|███████████████████████████████████████████| 10/10 [00:03<00:00,  2.60it/s]\n"
     ]
    },
    {
     "name": "stdout",
     "output_type": "stream",
     "text": [
      "Median val_loss: 0.09711416810750961, std val_loss 0.002191713094648117\n",
      "Median train_loss: 0.08386266976594925, std train_loss 0.0012434026203430452\n",
      "Median val_mee: 0.3528854548931122, std val_mee 0.004652164255850891\n",
      "Median train_mee: 0.32317161560058594, train_mee 0.003521312235363388\n",
      "\n",
      "\n",
      "\n",
      "Testing configuration 23/36:\n",
      "{'regularization': 10, 'initialization': {'type': 'normal', 'mean': 0, 'std': 0.5}, 'trials_train': 10, 'trials_test': 10, 'activations_1': 'tanh', 'units_1': 500}\n"
     ]
    },
    {
     "name": "stderr",
     "output_type": "stream",
     "text": [
      "100%|███████████████████████████████████████████| 10/10 [00:04<00:00,  2.47it/s]\n"
     ]
    },
    {
     "name": "stdout",
     "output_type": "stream",
     "text": [
      "Median val_loss: 0.07166552543640137, std val_loss 0.0021226030220485074\n",
      "Median train_loss: 0.06762160360813141, std train_loss 0.0006706597741768542\n",
      "Median val_mee: 0.31252339482307434, std val_mee 0.005235632845182289\n",
      "Median train_mee: 0.28020158410072327, train_mee 0.001120740363828742\n",
      "\n",
      "\n",
      "\n",
      "Testing configuration 24/36:\n",
      "{'regularization': 10, 'initialization': {'type': 'normal', 'mean': 0, 'std': 0.5}, 'trials_train': 10, 'trials_test': 10, 'activations_1': 'tanh', 'units_1': 1000}\n"
     ]
    },
    {
     "name": "stderr",
     "output_type": "stream",
     "text": [
      "100%|███████████████████████████████████████████| 10/10 [00:05<00:00,  1.87it/s]\n"
     ]
    },
    {
     "name": "stdout",
     "output_type": "stream",
     "text": [
      "Median val_loss: 0.07502757012844086, std val_loss 0.0014605776739325515\n",
      "Median train_loss: 0.057689446955919266, std train_loss 0.0004271721064422172\n",
      "Median val_mee: 0.3152911067008972, std val_mee 0.003717852496486406\n",
      "Median train_mee: 0.2542039155960083, train_mee 0.0008115675728227697\n",
      "\n",
      "\n",
      "\n",
      "Testing configuration 25/36:\n",
      "{'regularization': 100, 'initialization': {'type': 'normal', 'mean': 0, 'std': 0.5}, 'trials_train': 10, 'trials_test': 10, 'activations_1': 'tanh', 'units_1': 10}\n"
     ]
    },
    {
     "name": "stderr",
     "output_type": "stream",
     "text": [
      "100%|███████████████████████████████████████████| 10/10 [00:03<00:00,  2.62it/s]\n"
     ]
    },
    {
     "name": "stdout",
     "output_type": "stream",
     "text": [
      "Median val_loss: 0.18113483488559723, std val_loss 0.02055263669966916\n",
      "Median train_loss: 0.17142146825790405, std train_loss 0.021418675238673236\n",
      "Median val_mee: 0.5220454931259155, std val_mee 0.03554608523270229\n",
      "Median train_mee: 0.4960484206676483, train_mee 0.03428128669970142\n",
      "\n",
      "\n",
      "\n",
      "Testing configuration 26/36:\n",
      "{'regularization': 100, 'initialization': {'type': 'normal', 'mean': 0, 'std': 0.5}, 'trials_train': 10, 'trials_test': 10, 'activations_1': 'tanh', 'units_1': 100}\n"
     ]
    },
    {
     "name": "stderr",
     "output_type": "stream",
     "text": [
      "100%|███████████████████████████████████████████| 10/10 [00:03<00:00,  2.63it/s]\n"
     ]
    },
    {
     "name": "stdout",
     "output_type": "stream",
     "text": [
      "Median val_loss: 0.09814941138029099, std val_loss 0.0031195185883673335\n",
      "Median train_loss: 0.10417397320270538, std train_loss 0.0027746418331366664\n",
      "Median val_mee: 0.3754759728908539, std val_mee 0.007940142791083186\n",
      "Median train_mee: 0.3707529306411743, train_mee 0.006886101377562012\n",
      "\n",
      "\n",
      "\n",
      "Testing configuration 27/36:\n",
      "{'regularization': 100, 'initialization': {'type': 'normal', 'mean': 0, 'std': 0.5}, 'trials_train': 10, 'trials_test': 10, 'activations_1': 'tanh', 'units_1': 500}\n"
     ]
    },
    {
     "name": "stderr",
     "output_type": "stream",
     "text": [
      "100%|███████████████████████████████████████████| 10/10 [00:05<00:00,  1.85it/s]\n"
     ]
    },
    {
     "name": "stdout",
     "output_type": "stream",
     "text": [
      "Median val_loss: 0.09892954677343369, std val_loss 0.0011129792397492268\n",
      "Median train_loss: 0.07714418321847916, std train_loss 0.0006048913629892685\n",
      "Median val_mee: 0.3368896245956421, std val_mee 0.0035798791615722055\n",
      "Median train_mee: 0.3041574954986572, train_mee 0.0020761866711653965\n",
      "\n",
      "\n",
      "\n",
      "Testing configuration 28/36:\n",
      "{'regularization': 100, 'initialization': {'type': 'normal', 'mean': 0, 'std': 0.5}, 'trials_train': 10, 'trials_test': 10, 'activations_1': 'tanh', 'units_1': 1000}\n"
     ]
    },
    {
     "name": "stderr",
     "output_type": "stream",
     "text": [
      "100%|███████████████████████████████████████████| 10/10 [00:07<00:00,  1.33it/s]\n"
     ]
    },
    {
     "name": "stdout",
     "output_type": "stream",
     "text": [
      "Median val_loss: 0.08986466377973557, std val_loss 0.0006709405152778179\n",
      "Median train_loss: 0.0723990797996521, std train_loss 0.00033603507630690165\n",
      "Median val_mee: 0.3157258927822113, std val_mee 0.002200126044993462\n",
      "Median train_mee: 0.2932729423046112, train_mee 0.000858270350997462\n",
      "\n",
      "\n",
      "\n",
      "Testing configuration 29/36:\n",
      "{'regularization': 1000, 'initialization': {'type': 'normal', 'mean': 0, 'std': 0.5}, 'trials_train': 10, 'trials_test': 10, 'activations_1': 'tanh', 'units_1': 10}\n"
     ]
    },
    {
     "name": "stderr",
     "output_type": "stream",
     "text": [
      "100%|███████████████████████████████████████████| 10/10 [00:04<00:00,  2.12it/s]\n"
     ]
    },
    {
     "name": "stdout",
     "output_type": "stream",
     "text": [
      "Median val_loss: 0.33565622568130493, std val_loss 0.051960082283466984\n",
      "Median train_loss: 0.2871907651424408, std train_loss 0.04883370753106429\n",
      "Median val_mee: 0.6990125179290771, std val_mee 0.054605063965926334\n",
      "Median train_mee: 0.6600255370140076, train_mee 0.0553519134061937\n",
      "\n",
      "\n",
      "\n",
      "Testing configuration 30/36:\n",
      "{'regularization': 1000, 'initialization': {'type': 'normal', 'mean': 0, 'std': 0.5}, 'trials_train': 10, 'trials_test': 10, 'activations_1': 'tanh', 'units_1': 100}\n"
     ]
    },
    {
     "name": "stderr",
     "output_type": "stream",
     "text": [
      "100%|███████████████████████████████████████████| 10/10 [00:04<00:00,  2.32it/s]\n"
     ]
    },
    {
     "name": "stdout",
     "output_type": "stream",
     "text": [
      "Median val_loss: 0.13643784821033478, std val_loss 0.0021029913664464095\n",
      "Median train_loss: 0.1385137438774109, std train_loss 0.0020464163037459474\n",
      "Median val_mee: 0.4319096505641937, std val_mee 0.0031999578483207793\n",
      "Median train_mee: 0.44275498390197754, train_mee 0.0034298768428433425\n",
      "\n",
      "\n",
      "\n",
      "Testing configuration 31/36:\n",
      "{'regularization': 1000, 'initialization': {'type': 'normal', 'mean': 0, 'std': 0.5}, 'trials_train': 10, 'trials_test': 10, 'activations_1': 'tanh', 'units_1': 500}\n"
     ]
    },
    {
     "name": "stderr",
     "output_type": "stream",
     "text": [
      "100%|███████████████████████████████████████████| 10/10 [00:04<00:00,  2.17it/s]\n"
     ]
    },
    {
     "name": "stdout",
     "output_type": "stream",
     "text": [
      "Median val_loss: 0.11446548998355865, std val_loss 0.001311973166348741\n",
      "Median train_loss: 0.10300994664430618, std train_loss 0.0007772553569196953\n",
      "Median val_mee: 0.37568214535713196, std val_mee 0.0021163790865371666\n",
      "Median train_mee: 0.3747086524963379, train_mee 0.0017424096244646693\n",
      "\n",
      "\n",
      "\n",
      "Testing configuration 32/36:\n",
      "{'regularization': 1000, 'initialization': {'type': 'normal', 'mean': 0, 'std': 0.5}, 'trials_train': 10, 'trials_test': 10, 'activations_1': 'tanh', 'units_1': 1000}\n"
     ]
    },
    {
     "name": "stderr",
     "output_type": "stream",
     "text": [
      "100%|███████████████████████████████████████████| 10/10 [00:06<00:00,  1.61it/s]\n"
     ]
    },
    {
     "name": "stdout",
     "output_type": "stream",
     "text": [
      "Median val_loss: 0.09699002653360367, std val_loss 0.0010733899925415072\n",
      "Median train_loss: 0.09647435694932938, std train_loss 0.0006658623526245622\n",
      "Median val_mee: 0.3588632345199585, std val_mee 0.00257476716406413\n",
      "Median train_mee: 0.3520665764808655, train_mee 0.0019690320127906283\n",
      "\n",
      "\n",
      "\n",
      "Testing configuration 33/36:\n",
      "{'regularization': 10000, 'initialization': {'type': 'normal', 'mean': 0, 'std': 0.5}, 'trials_train': 10, 'trials_test': 10, 'activations_1': 'tanh', 'units_1': 10}\n"
     ]
    },
    {
     "name": "stderr",
     "output_type": "stream",
     "text": [
      "100%|███████████████████████████████████████████| 10/10 [00:03<00:00,  2.74it/s]\n"
     ]
    },
    {
     "name": "stdout",
     "output_type": "stream",
     "text": [
      "Median val_loss: 0.7929770946502686, std val_loss 0.04196371514103046\n",
      "Median train_loss: 0.7070502638816833, std train_loss 0.038623039886945695\n",
      "Median val_mee: 1.1480603218078613, std val_mee 0.033819478818728925\n",
      "Median train_mee: 1.1001530885696411, train_mee 0.03389602929387411\n",
      "\n",
      "\n",
      "\n",
      "Testing configuration 34/36:\n",
      "{'regularization': 10000, 'initialization': {'type': 'normal', 'mean': 0, 'std': 0.5}, 'trials_train': 10, 'trials_test': 10, 'activations_1': 'tanh', 'units_1': 100}\n"
     ]
    },
    {
     "name": "stderr",
     "output_type": "stream",
     "text": [
      "100%|███████████████████████████████████████████| 10/10 [00:03<00:00,  2.75it/s]\n"
     ]
    },
    {
     "name": "stdout",
     "output_type": "stream",
     "text": [
      "Median val_loss: 0.27968665957450867, std val_loss 0.007341629650049807\n",
      "Median train_loss: 0.26848945021629333, std train_loss 0.006506368966413798\n",
      "Median val_mee: 0.6289415955543518, std val_mee 0.009912636784141528\n",
      "Median train_mee: 0.6242295503616333, train_mee 0.008948168417757186\n",
      "\n",
      "\n",
      "\n",
      "Testing configuration 35/36:\n",
      "{'regularization': 10000, 'initialization': {'type': 'normal', 'mean': 0, 'std': 0.5}, 'trials_train': 10, 'trials_test': 10, 'activations_1': 'tanh', 'units_1': 500}\n"
     ]
    },
    {
     "name": "stderr",
     "output_type": "stream",
     "text": [
      "100%|███████████████████████████████████████████| 10/10 [00:04<00:00,  2.36it/s]\n"
     ]
    },
    {
     "name": "stdout",
     "output_type": "stream",
     "text": [
      "Median val_loss: 0.15152791142463684, std val_loss 0.0024109371952748355\n",
      "Median train_loss: 0.1550881713628769, std train_loss 0.002173749465878844\n",
      "Median val_mee: 0.4628776013851166, std val_mee 0.0041837721882818655\n",
      "Median train_mee: 0.4628550112247467, train_mee 0.0034315056870174994\n",
      "\n",
      "\n",
      "\n",
      "Testing configuration 36/36:\n",
      "{'regularization': 10000, 'initialization': {'type': 'normal', 'mean': 0, 'std': 0.5}, 'trials_train': 10, 'trials_test': 10, 'activations_1': 'tanh', 'units_1': 1000}\n"
     ]
    },
    {
     "name": "stderr",
     "output_type": "stream",
     "text": [
      "100%|███████████████████████████████████████████| 10/10 [00:05<00:00,  1.79it/s]\n"
     ]
    },
    {
     "name": "stdout",
     "output_type": "stream",
     "text": [
      "Median val_loss: 0.12326377630233765, std val_loss 0.0010303581511407112\n",
      "Median train_loss: 0.1371416300535202, std train_loss 0.0010334510857949\n",
      "Median val_mee: 0.405405193567276, std val_mee 0.0019428229416676237\n",
      "Median train_mee: 0.4371586740016937, train_mee 0.0016344458912433623\n",
      "\n",
      "\n",
      "\n",
      "\n",
      "\n",
      "\n",
      "Best configuration (loss 0.07166552543640137):\n",
      "{'regularization': 10, 'initialization': {'type': 'normal', 'mean': 0, 'std': 0.5}, 'trials_train': 10, 'trials_test': 10, 'activations_1': 'tanh', 'units_1': 500}\n"
     ]
    },
    {
     "name": "stderr",
     "output_type": "stream",
     "text": [
      " 10%|████▍                                       | 1/10 [00:00<00:03,  2.44it/s]"
     ]
    },
    {
     "name": "stdout",
     "output_type": "stream",
     "text": [
      "Trial 1/10 mse: 0.0886029377579689\n",
      "Trial 1/10 train_mse: 0.06458639353513718\n",
      "Trial 1/10 val_mee: 0.3295869529247284\n",
      "Trial 1/10 train_mee: 0.27196383476257324\n"
     ]
    },
    {
     "name": "stderr",
     "output_type": "stream",
     "text": [
      "\r",
      " 20%|████████▊                                   | 2/10 [00:00<00:03,  2.46it/s]"
     ]
    },
    {
     "name": "stdout",
     "output_type": "stream",
     "text": [
      "Trial 2/10 mse: 0.09362128376960754\n",
      "Trial 2/10 train_mse: 0.06362055987119675\n",
      "Trial 2/10 val_mee: 0.3393355906009674\n",
      "Trial 2/10 train_mee: 0.2715069651603699\n"
     ]
    },
    {
     "name": "stderr",
     "output_type": "stream",
     "text": [
      "\r",
      " 30%|█████████████▏                              | 3/10 [00:01<00:02,  2.45it/s]"
     ]
    },
    {
     "name": "stdout",
     "output_type": "stream",
     "text": [
      "Trial 3/10 mse: 0.09162415564060211\n",
      "Trial 3/10 train_mse: 0.0636414885520935\n",
      "Trial 3/10 val_mee: 0.34031158685684204\n",
      "Trial 3/10 train_mee: 0.27078089118003845\n"
     ]
    },
    {
     "name": "stderr",
     "output_type": "stream",
     "text": [
      "\r",
      " 40%|█████████████████▌                          | 4/10 [00:01<00:02,  2.46it/s]"
     ]
    },
    {
     "name": "stdout",
     "output_type": "stream",
     "text": [
      "Trial 4/10 mse: 0.08935746550559998\n",
      "Trial 4/10 train_mse: 0.06430693715810776\n",
      "Trial 4/10 val_mee: 0.33202221989631653\n",
      "Trial 4/10 train_mee: 0.2717985510826111\n"
     ]
    },
    {
     "name": "stderr",
     "output_type": "stream",
     "text": [
      "\r",
      " 50%|██████████████████████                      | 5/10 [00:02<00:02,  2.46it/s]"
     ]
    },
    {
     "name": "stdout",
     "output_type": "stream",
     "text": [
      "Trial 5/10 mse: 0.09010379016399384\n",
      "Trial 5/10 train_mse: 0.06384939700365067\n",
      "Trial 5/10 val_mee: 0.3322959840297699\n",
      "Trial 5/10 train_mee: 0.2697928249835968\n"
     ]
    },
    {
     "name": "stderr",
     "output_type": "stream",
     "text": [
      "\r",
      " 60%|██████████████████████████▍                 | 6/10 [00:02<00:01,  2.27it/s]"
     ]
    },
    {
     "name": "stdout",
     "output_type": "stream",
     "text": [
      "Trial 6/10 mse: 0.09197775274515152\n",
      "Trial 6/10 train_mse: 0.0641772672533989\n",
      "Trial 6/10 val_mee: 0.3387875556945801\n",
      "Trial 6/10 train_mee: 0.27227023243904114\n"
     ]
    },
    {
     "name": "stderr",
     "output_type": "stream",
     "text": [
      "\r",
      " 70%|██████████████████████████████▊             | 7/10 [00:02<00:01,  2.24it/s]"
     ]
    },
    {
     "name": "stdout",
     "output_type": "stream",
     "text": [
      "Trial 7/10 mse: 0.08865910768508911\n",
      "Trial 7/10 train_mse: 0.06346557289361954\n",
      "Trial 7/10 val_mee: 0.3308507204055786\n",
      "Trial 7/10 train_mee: 0.2706901729106903\n"
     ]
    },
    {
     "name": "stderr",
     "output_type": "stream",
     "text": [
      "\r",
      " 80%|███████████████████████████████████▏        | 8/10 [00:03<00:00,  2.21it/s]"
     ]
    },
    {
     "name": "stdout",
     "output_type": "stream",
     "text": [
      "Trial 8/10 mse: 0.08762864023447037\n",
      "Trial 8/10 train_mse: 0.06263038516044617\n",
      "Trial 8/10 val_mee: 0.331047385931015\n",
      "Trial 8/10 train_mee: 0.26716315746307373\n"
     ]
    },
    {
     "name": "stderr",
     "output_type": "stream",
     "text": [
      "\r",
      " 90%|███████████████████████████████████████▌    | 9/10 [00:03<00:00,  2.17it/s]"
     ]
    },
    {
     "name": "stdout",
     "output_type": "stream",
     "text": [
      "Trial 9/10 mse: 0.08723466843366623\n",
      "Trial 9/10 train_mse: 0.06531023979187012\n",
      "Trial 9/10 val_mee: 0.32966023683547974\n",
      "Trial 9/10 train_mee: 0.2745923697948456\n"
     ]
    },
    {
     "name": "stderr",
     "output_type": "stream",
     "text": [
      "100%|███████████████████████████████████████████| 10/10 [00:04<00:00,  2.28it/s]"
     ]
    },
    {
     "name": "stdout",
     "output_type": "stream",
     "text": [
      "Trial 10/10 mse: 0.08948419988155365\n",
      "Trial 10/10 train_mse: 0.062479421496391296\n",
      "Trial 10/10 val_mee: 0.33430415391921997\n",
      "Trial 10/10 train_mee: 0.2680025100708008\n",
      "\n",
      "Median mse: 0.08948419988155365, std mse: 0.0019256659700096711\n",
      "Median train_mse: 0.062479421496391296, std train_mse: 0.0008112724393809058\n",
      "Median val_mee: 0.33430415391921997, std val_mee: 0.00393388381646301\n",
      "Median train_mee: 0.2680025100708008, std train_mee 0.0020357539218795913\n",
      "42/42 [==============================] - 0s 1ms/step\n"
     ]
    },
    {
     "name": "stderr",
     "output_type": "stream",
     "text": [
      "\n"
     ]
    },
    {
     "name": "stdout",
     "output_type": "stream",
     "text": [
      "5/5 [==============================] - 0s 2ms/step\n",
      "Train MSE: 2.999058901802619\n",
      "Train MEE: 1.3753349981878389\n",
      "Test MSE: 4.384201646532566\n",
      "Test MSE: 1.6639696464765894\n"
     ]
    }
   ],
   "source": [
    "model = grid_search(params, x_train, y_train, hold_out_val)\n",
    "assess_model(model, x_train, y_train, x_test, y_test, True)"
   ]
  },
  {
   "cell_type": "code",
   "execution_count": 23,
   "id": "08ee1a64",
   "metadata": {},
   "outputs": [
    {
     "name": "stderr",
     "output_type": "stream",
     "text": [
      "mkdir: cannot create directory ‘./../models/randomized_model’: File exists\n"
     ]
    },
    {
     "name": "stdout",
     "output_type": "stream",
     "text": [
      "INFO:tensorflow:Assets written to: ./../models/randomized_model/assets\n"
     ]
    }
   ],
   "source": [
    "os.system(\"mkdir ./../models/randomized_model\")\n",
    "model.save('./../models/randomized_model/' ,save_format='tf')"
   ]
  },
  {
   "cell_type": "code",
   "execution_count": null,
   "id": "9a1ce100",
   "metadata": {},
   "outputs": [],
   "source": [
    "'''input_size = 9\n",
    "output_size = 2\n",
    "\n",
    "conf = {'regularization': 10, 'initialization': {'type': 'normal', 'mean': 0, 'std': 1}, 'trials_train': 5, 'trials_test': 10, 'activations_1': 'tanh', 'units_1': 1000}\n",
    "\n",
    "ELM = get_model(conf, input_size, output_size)# RandomizedNetwork(input_size, output_size, layers, init, 0.1)\n",
    "print(ELM(x_train).shape)\n",
    "print(y_train.shape)\n",
    "optimizer = SGD(learning_rate=0.1, momentum=0.9, nesterov=False)\n",
    "#LM.compile(optimizer = optimizer, loss = 'mean_squared_error', metrics = mee)\n",
    "ELM.summary()\n",
    "\n",
    "ELM.lms_solve(x_train, y_train)\n",
    "print(\"Traing set accuracy\")\n",
    "print(ELM.evaluate(x_train, y_train))\n",
    "\n",
    "print(\"\\nTest set accuracy\")\n",
    "print(ELM.evaluate(x_test, y_test))'''"
   ]
  },
  {
   "cell_type": "code",
   "execution_count": 13,
   "id": "8763cc51",
   "metadata": {},
   "outputs": [
    {
     "name": "stdout",
     "output_type": "stream",
     "text": [
      "42/42 [==============================] - 0s 1ms/step\n"
     ]
    },
    {
     "data": {
      "image/png": "[encoded data removed]",
      "text/plain": [
       "<Figure size 640x480 with 1 Axes>"
      ]
     },
     "metadata": {},
     "output_type": "display_data"
    }
   ],
   "source": [
    "plt.scatter(y_train[:, 0], y_train[:, 1], label=\"True\")\n",
    "# pred = scaler.inverse_transform(pred)\n",
    "pred = model.predict(x_train)\n",
    "plt.scatter(pred[:, 0], pred[:, 1], label = \"Predicted\")\n",
    "plt.legend()\n",
    "plt.show()"
   ]
  },
  {
   "cell_type": "code",
   "execution_count": 14,
   "id": "3d84ed06",
   "metadata": {},
   "outputs": [
    {
     "name": "stdout",
     "output_type": "stream",
     "text": [
      "5/5 [==============================] - 0s 2ms/step\n"
     ]
    },
    {
     "data": {
      "image/png": "[encoded data removed]",
      "text/plain": [
       "<Figure size 640x480 with 1 Axes>"
      ]
     },
     "metadata": {},
     "output_type": "display_data"
    }
   ],
   "source": [
    "plt.scatter(y_test[:, 0], y_test[:, 1], label=\"True\")\n",
    "# pred = scaler.inverse_transform(pred)\n",
    "pred = model.predict(x_test)\n",
    "plt.scatter(pred[:, 0], pred[:, 1], label = \"Predicted\")\n",
    "plt.legend()\n",
    "plt.show()"
   ]
  },
  {
   "cell_type": "code",
   "execution_count": null,
   "id": "28332846",
   "metadata": {},
   "outputs": [],
   "source": [
    "mse_loss, mee_loss  = ELM.evaluate(x_train, y_train, verbose=0)\n",
    "print(mse_loss)\n",
    "print(mee_loss)"
   ]
  },
  {
   "cell_type": "code",
   "execution_count": null,
   "id": "d993f620",
   "metadata": {},
   "outputs": [],
   "source": []
  }
 ],
 "metadata": {
  "kernelspec": {
   "display_name": "mlvenv",
   "language": "python",
   "name": "mlvenv"
  },
  "language_info": {
   "codemirror_mode": {
    "name": "ipython",
    "version": 3
   },
   "file_extension": ".py",
   "mimetype": "text/x-python",
   "name": "python",
   "nbconvert_exporter": "python",
   "pygments_lexer": "ipython3",
   "version": "3.10.6"
  }
 },
 "nbformat": 4,
 "nbformat_minor": 5
}
