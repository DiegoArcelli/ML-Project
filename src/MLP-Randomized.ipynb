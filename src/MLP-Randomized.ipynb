{
 "cells": [
  {
   "cell_type": "code",
   "execution_count": 17,
   "id": "d37f696d",
   "metadata": {},
   "outputs": [],
   "source": [
    "import warnings\n",
    "warnings.filterwarnings('ignore')\n",
    "from tqdm import tqdm\n",
    "import pandas as pd\n",
    "import numpy as np\n",
    "import tensorflow as tf\n",
    "from sklearn.model_selection import GridSearchCV\n",
    "from tensorflow.keras.models import Sequential\n",
    "from keras.regularizers import l1, l2\n",
    "from tensorflow.keras import initializers\n",
    "from tensorflow.keras.layers import Dense\n",
    "from tensorflow.keras.callbacks import EarlyStopping\n",
    "from scikeras.wrappers import KerasClassifier\n",
    "from sklearn.model_selection import KFold\n",
    "import keras_tuner\n",
    "import keras\n",
    "from keras import layers\n",
    "import itertools\n",
    "from sklearn.model_selection import train_test_split\n",
    "from keras.optimizers import SGD\n",
    "from keras.callbacks import EarlyStopping\n",
    "from keras.callbacks import LearningRateScheduler\n",
    "import matplotlib.pyplot as plt\n",
    "from sklearn.model_selection import KFold, StratifiedKFold\n",
    "from sklearn.preprocessing import OneHotEncoder\n",
    "import keras.backend as K\n",
    "from sklearn.preprocessing import StandardScaler, MinMaxScaler\n",
    "from math import ceil\n",
    "\n",
    "seed = 7\n",
    "tf.random.set_seed(seed)"
   ]
  },
  {
   "cell_type": "code",
   "execution_count": 18,
   "id": "6d8327a6",
   "metadata": {},
   "outputs": [],
   "source": [
    "def plot_curves(curve_1, label_1, curve_2=None, label_2=None):\n",
    "    if curve_1 is not None: \n",
    "        plt.plot(curve_1, label = label_1)\n",
    "    if curve_2 is not None: \n",
    "        plt.plot(curve_2, label = label_2)   \n",
    "    plt.legend()\n",
    "    plt.show()"
   ]
  },
  {
   "cell_type": "code",
   "execution_count": 47,
   "id": "d60634f7",
   "metadata": {},
   "outputs": [],
   "source": [
    "scaler = None\n",
    "\n",
    "def load_monks(path, encode):\n",
    "    \n",
    "    train = pd.read_csv(f\"{path}.train\", header=None, sep=\" \")\n",
    "    test = pd.read_csv(f\"{path}.test\", header=None, sep=\" \")\n",
    "    \n",
    "    train.drop(0, axis=1, inplace=True)\n",
    "    test.drop(0, axis=1, inplace=True)\n",
    "    train.drop(8, axis=1, inplace=True)\n",
    "    test.drop(8, axis=1, inplace=True)\n",
    "    \n",
    "    y_train = train.iloc[:, 0].to_numpy().astype(np.float64)\n",
    "    x_train = train.iloc[:, 1:].to_numpy().astype(np.float64)\n",
    "    y_test = test.iloc[:, 0].to_numpy().astype(np.float64)\n",
    "    x_test = test.iloc[:, 1:].to_numpy().astype(np.float64)\n",
    "    \n",
    "        \n",
    "    if encode:\n",
    "        \n",
    "        encoder = OneHotEncoder()\n",
    "        \n",
    "        encoder.fit(x_train)\n",
    "        x_train = encoder.transform(x_train).toarray()\n",
    "        x_test = encoder.transform(x_test).toarray()\n",
    "        \n",
    "        \n",
    "    \n",
    "    print(f\"Loaded {path} dataset\")\n",
    "    \n",
    "    return x_train, y_train, x_test, y_test\n",
    "    \n",
    "\n",
    "def load_cup(scale):\n",
    "    global scaler\n",
    "    \n",
    "    # scaler = StandardScaler()\n",
    "    scaler = MinMaxScaler()\n",
    "    \n",
    "    train = pd.read_csv(\"../data/ML-CUP22-TR.csv\", header=None, sep=\",\")\n",
    "    test = pd.read_csv(\"../data/ML-CUP22-TS.csv\", header=None, sep=\",\")\n",
    "    train.drop(0, axis=1, inplace=True)\n",
    "    test.drop(0, axis=1, inplace=True)\n",
    "\n",
    "    y_train = train.iloc[:, 9:].to_numpy().astype(np.float64)\n",
    "    x_train = train.iloc[:, :9].to_numpy().astype(np.float64)\n",
    "    x_test_blind = test.to_numpy().astype(np.float64)\n",
    "    \n",
    "    x_train, x_test, y_train, y_test = train_test_split(x_train, y_train, test_size=0.1, shuffle=True, random_state=7)\n",
    "    \n",
    "    if scale:\n",
    "        # scaler = MinMaxScaler()\n",
    "        scaler.fit(x_train)\n",
    "        x_train = scaler.transform(x_train)\n",
    "        x_test = scaler.transform(x_test)\n",
    "        y_train = scaler.fit_transform(y_train)\n",
    "        \n",
    "        \n",
    "    return x_train, y_train, x_test, y_test, x_test_blind\n",
    "    \n",
    "    \n",
    "    \n",
    "def load_dataset(dataset, encode=True):\n",
    "    assert dataset in [\"monks1\", \"monks2\", \"monks3\", \"cup\"]\n",
    "    \n",
    "    if dataset == \"monks1\":\n",
    "        return load_monks(\"./../data/monks-1\", encode)\n",
    "    elif dataset == \"monks2\":\n",
    "        return load_monks(\"./../data/monks-2\", encode)\n",
    "    elif dataset == \"monks3\":\n",
    "        return load_monks(\"./../data/monks-3\", encode)\n",
    "    else:\n",
    "        return load_cup(encode)"
   ]
  },
  {
   "cell_type": "code",
   "execution_count": 48,
   "id": "68a4b4e1",
   "metadata": {},
   "outputs": [],
   "source": [
    "class RandomizedNetwork(keras.Model):\n",
    "    \n",
    "    def __init__(self, input_size, output_size, layers, init=None, reg=None):\n",
    "        super().__init__()\n",
    "        \n",
    "        if init is None:\n",
    "            init = initializers.RandomNormal(mean=0, stddev=1, seed=None)\n",
    "        \n",
    "        self.reg = reg\n",
    "        \n",
    "        self.model = Sequential()\n",
    "                    \n",
    "            \n",
    "        units = layers[0][\"units\"]\n",
    "        activation = layers[0][\"activation\"]\n",
    "        self.model.add(Dense(units, input_dim=input_size, activation=activation,\n",
    "                    kernel_initializer = init, bias_initializer = init))\n",
    "        self.model.layers[0].trainable = False\n",
    "        \n",
    "        \n",
    "        \n",
    "        for layer in layers[1:]:\n",
    "            activation = layer[\"activation\"]\n",
    "            units = layer[\"units\"]\n",
    "            self.model.add(Dense(units, activation=activation, \n",
    "                        kernel_initializer = init, bias_initializer = init))\n",
    "            self.model.layers[-1].trainable = False\n",
    "        \n",
    "        self.model.add(Dense(output_size, activation=\"linear\",\n",
    "                    kernel_initializer = init, bias_initializer = init))\n",
    "        \n",
    "        \n",
    "        self.compile(loss=\"mse\", metrics = mee)\n",
    "        \n",
    "        \n",
    "        \n",
    "                \n",
    "    def lms_solve(self, x, y):\n",
    "        \n",
    "        n = x.shape[0]\n",
    "        \n",
    "        # x_b = np.append(x, np.ones((n,1)), axis=-1)\n",
    "        for layer in self.model.layers[:-1]:\n",
    "            x = layer(x)\n",
    "        \n",
    "        H = x.numpy()\n",
    "        H = np.append(H, np.ones((n,1)), axis=-1)\n",
    "        # H = self.model.layers[0](x).numpy()\n",
    "        \n",
    "        # if regularization is used apply direct solution\n",
    "        if self.reg is not None:\n",
    "            H_t = H.transpose()\n",
    "            H = np.matmul(H_t, H)\n",
    "            I = np.identity(H.shape[0])\n",
    "            H = H + self.reg*I\n",
    "            H_star = np.linalg.inv(H)\n",
    "            W = np.matmul(H_star, H_t)\n",
    "            W = np.matmul(W, y)\n",
    "        # if regularization is not used apply numpy LMS solver\n",
    "        else:\n",
    "            W, _, _, _ = np.linalg.lstsq(H.T.dot(H), H.T.dot(y))\n",
    "            \n",
    "        b = W[-1:][0]\n",
    "        W = W[:-1]\n",
    "        \n",
    "        print(W.shape)\n",
    "        print(b.shape)\n",
    "        print(self.model.layers[-1].get_weights()[0].shape)\n",
    "        print(self.model.layers[-1].get_weights()[1].shape)\n",
    "        self.model.layers[-1].set_weights([W, b])\n",
    "\n",
    "        \n",
    "    def call(self, x):\n",
    "        return self.model(x)\n",
    "    \n",
    "    def summary(self):\n",
    "        self.model.summary()\n",
    "        "
   ]
  },
  {
   "cell_type": "code",
   "execution_count": 49,
   "id": "0d8d98ee",
   "metadata": {},
   "outputs": [],
   "source": [
    "def median_index(array):\n",
    "    n = len(array)\n",
    "    med_idx = np.argsort(array)[ceil((n-1)/2)]\n",
    "    # med_val = array[med_idx]\n",
    "    return med_idx #, med_val\n",
    "\n",
    "def mee(y_true_t, y_pred_t):\n",
    "    '''y_true = y_true_t.numpy()\n",
    "    y_pred = y_pred_t.numpy()\n",
    "    y_true = scaler.inverse_transform(y_true)\n",
    "    y_pred = scaler.inverse_transform(y_pred)\n",
    "    return np.sqrt(np.square(y_true - y_pred).sum(axis=1)).mean()'''\n",
    "    # return tf.reduce_mean(tf.sqrt(tf.reduce_sum(tf.square(y_true_t - y_pred_t), axis=1)))\n",
    "    return K.sqrt(K.sum(K.square(y_pred_t - y_true_t), axis=-1))\n",
    "\n",
    "def merge_dicts(dicts):\n",
    "    merged = {}\n",
    "    for d in dicts:\n",
    "        merged = {**merged, **d}\n",
    "    return merged\n",
    "\n",
    "\n",
    "def get_attributes_num(dataset):\n",
    "    return 1 if len(dataset.shape) == 1 else dataset.shape[1]\n",
    "\n",
    "\n",
    "def get_params_configurations(params):\n",
    "    \n",
    "    keys = list(params.keys())\n",
    "    keys.remove(\"layers\")\n",
    "    keys.remove(\"initialization\")\n",
    "    keys.remove(\"trials_train\")\n",
    "    keys.remove(\"trials_test\")\n",
    "    sorted_keys = sorted(keys)\n",
    "    arguments = []\n",
    "    for key in sorted_keys:\n",
    "        arguments.append(params[key])\n",
    "    \n",
    "    arguments = tuple(arguments)\n",
    "    all_params = list(itertools.product(*arguments))\n",
    "        \n",
    "    configurations = []\n",
    "    \n",
    "    for conf in all_params:\n",
    "        \n",
    "        dict_conf = {}\n",
    "        \n",
    "        for i in range(len(sorted_keys)):\n",
    "            dict_conf[sorted_keys[i]] = conf[i]\n",
    "        dict_conf[\"initialization\"] = params[\"initialization\"]\n",
    "        dict_conf[\"trials_train\"] = params[\"trials_train\"]\n",
    "        dict_conf[\"trials_test\"] = params[\"trials_test\"]\n",
    "        \n",
    "        configurations.append(dict_conf)\n",
    "        \n",
    "        \n",
    "    return configurations\n",
    "\n",
    "\n",
    "def get_layers_configurations(params, configurations):\n",
    "    layers = params[\"layers\"]\n",
    "    layers_params_confs = []\n",
    "    \n",
    "    for n_layer in range(len(layers)):\n",
    "        layers_params_confs.append([]) \n",
    "    \n",
    "    for i in range(len(layers)):\n",
    "        layer = layers[i]\n",
    "        activations = layer[\"activations\"]\n",
    "        units = layer[\"units\"]\n",
    "        layer_confs = list(itertools.product(activations, units))\n",
    "        for conf in layer_confs:\n",
    "            conf_dict = {\n",
    "                f\"activations_{i+1}\": conf[0],\n",
    "                f\"units_{i+1}\": conf[1]\n",
    "            }\n",
    "            layers_params_confs[i].append(conf_dict)\n",
    "        \n",
    "    layers_confs = []\n",
    "    for i in range(len(layers_params_confs)):\n",
    "        confs = layers_params_confs[:i+1]\n",
    "        confs = tuple(confs)\n",
    "        confs = list(itertools.product(*confs))\n",
    "        for conf in confs:\n",
    "            layers_confs.append(merge_dicts(conf))\n",
    "                \n",
    "    return layers_confs\n",
    "\n",
    "\n",
    "\n",
    "def get_configurations(params):\n",
    "    \n",
    "    configurations = get_params_configurations(params)\n",
    "    layers_confs = get_layers_configurations(params, configurations)\n",
    "    configurations = list(itertools.product(configurations, layers_confs))\n",
    "    configurations_merged = []\n",
    "    \n",
    "    for conf in configurations:\n",
    "        configurations_merged.append(merge_dicts(conf))\n",
    "        \n",
    "    \n",
    "    return configurations_merged\n",
    "\n",
    "    \n",
    "\n",
    "def get_model(config, input_size, output_size):\n",
    "    \n",
    "    init_method = config[\"initialization\"][\"type\"]\n",
    "    reg = config[\"regularization\"]\n",
    "        \n",
    "    init = None\n",
    "    if init_method == \"uniform\":\n",
    "        min_val = config[\"initialization\"][\"min\"]\n",
    "        max_val = config[\"initialization\"][\"max\"]\n",
    "        init = initializers.RandomUniform(minval=min_val, maxval=max_val, seed=None)\n",
    "    if init_method == \"normal\":\n",
    "        mean = config[\"initialization\"][\"mean\"]\n",
    "        std = config[\"initialization\"][\"std\"]\n",
    "        init = initializers.RandomNormal(mean=mean, stddev=std, seed=None)\n",
    "        \n",
    "        \n",
    "    n_layers = 0\n",
    "    for key in config.keys():\n",
    "        if key.startswith(\"units_\"):\n",
    "            n_layers += 1\n",
    "    \n",
    "    layers = []\n",
    "    for l in range(1, n_layers+1):\n",
    "        activation = config[f\"activations_{l}\"]\n",
    "        n_units = config[f\"units_{l}\"]\n",
    "        layers.append({ \n",
    "            \"activation\": activation,\n",
    "            \"units\": n_units\n",
    "        })\n",
    "        \n",
    "    model = RandomizedNetwork(input_size, output_size, layers, init, reg)\n",
    "        \n",
    "    return model\n",
    "    \n",
    "    \n",
    "\n",
    "def get_metrics(model, x_train, y_train, x_test=None, y_test=None):\n",
    "    train_loss, train_metric  = model.evaluate(x_train, y_train, verbose=0)\n",
    "    test_loss, test_metric  = model.evaluate(x_test, y_test, verbose=0) if x_test is not None else [None, None]\n",
    "    return train_loss, train_metric, test_loss, test_metric\n",
    "    \n",
    "\n",
    "def fit_model_k_fold(x_train, y_train, config, n_folds):\n",
    "    \n",
    "\n",
    "    train_metric = \"mee\"\n",
    "    val_metric = \"val_mee\"\n",
    "\n",
    "    trials = config[\"trials_train\"]\n",
    "\n",
    "    \n",
    "    kf = KFold(n_splits = n_folds, shuffle=True)\n",
    "\n",
    "    train_losses = []\n",
    "    val_losses = []\n",
    "    train_accs = []\n",
    "    val_accs = []\n",
    "\n",
    "    fold = 1\n",
    "    for train_index, val_index in kf.split(x_train, y_train):\n",
    "        \n",
    "        print(f\"\\nExecuting fold {fold}/{n_folds}\")\n",
    "        \n",
    "        input_size = get_attributes_num(x_train)\n",
    "        output_size = get_attributes_num(y_train)\n",
    "        \n",
    "                \n",
    "        x_train_fold = x_train[train_index]\n",
    "        y_train_fold = y_train[train_index]\n",
    "\n",
    "        x_val_fold = x_train[val_index]\n",
    "        y_val_fold = y_train[val_index]\n",
    "\n",
    "        \n",
    "        trials_val_loss = []\n",
    "        trials_train_loss = []\n",
    "        trials_val_acc = []\n",
    "        trials_train_acc = []\n",
    "        \n",
    "        with tqdm(total=trials) as pbar:\n",
    "            for trial in range(trials):\n",
    "                model = get_model(config, input_size, output_size)\n",
    "                \n",
    "                model.lms_solve(x_train_fold, y_train_fold)\n",
    "                \n",
    "                trial_train_loss, trial_train_acc, trial_val_loss, trial_val_acc = get_metrics(model, x_train_fold, y_train_fold, x_val_fold, y_val_fold)\n",
    "\n",
    "                trials_val_loss.append(trial_val_loss)\n",
    "                trials_train_loss.append(trial_train_loss)\n",
    "                trials_val_acc.append(trial_val_acc)\n",
    "                trials_train_acc.append(trial_train_acc)\n",
    "\n",
    "                pbar.update(1)\n",
    "            \n",
    "        # get the median metrics among the trials\n",
    "        med_idx = median_index(trials_val_loss)\n",
    "        med_val_loss = trials_val_loss[med_idx]\n",
    "        med_train_loss = trials_train_loss[med_idx]\n",
    "        med_val_acc = trials_val_acc[med_idx]\n",
    "        med_train_acc = trials_train_acc[med_idx]\n",
    "        std_val_loss = np.std(trials_val_loss)\n",
    "        std_train_loss = np.std(trials_train_loss)\n",
    "        std_val_acc = np.std(trials_val_acc)\n",
    "        std_train_acc = np.std(trials_train_acc)\n",
    "\n",
    "        print(f\"Fold {fold}/{n_folds} median val_loss: {med_val_loss}, std val_loss {std_val_loss}\")\n",
    "        print(f\"Fold {fold}/{n_folds} median train_loss: {med_train_loss}, std train_loss {std_train_loss}\")\n",
    "        print(f\"Fold {fold}/{n_folds} median {val_metric}: {med_val_acc}, std {val_metric} {std_val_acc}\")\n",
    "        print(f\"Fold {fold}/{n_folds} median train_{train_metric}: {med_train_acc}, train_{train_metric} {std_train_acc}\")\n",
    "            \n",
    "        train_losses.append(med_train_loss)\n",
    "        val_losses.append(med_val_loss)\n",
    "        val_accs.append(med_val_acc)\n",
    "        train_accs.append(med_train_acc)\n",
    "        \n",
    "        fold += 1\n",
    "        \n",
    "    mean_train_loss = np.mean(train_losses)\n",
    "    mean_val_loss = np.mean(val_losses)\n",
    "    mean_train_acc = np.mean(train_accs)\n",
    "    mean_val_acc = np.mean(val_accs)\n",
    "    std_train_loss = np.std(train_losses)\n",
    "    std_val_loss = np.std(val_losses)\n",
    "    std_train_acc = np.std(train_accs)\n",
    "    std_val_acc = np.std(val_accs)\n",
    "    \n",
    "    print(f\"\\nMean val_loss: {mean_val_loss}, std val_loss: {std_val_loss}\")\n",
    "    print(f\"Mean train_loss: {mean_train_loss}, std train_loss: {std_train_loss}\")\n",
    "    print(f\"Mean {val_metric}: {mean_val_acc}, std {val_metric}: {std_val_acc}\")\n",
    "    print(f\"Mean train_{train_metric}: {mean_val_acc}, std train_{train_metric}: {std_train_acc}\")\n",
    "    \n",
    "    return mean_val_loss\n",
    "\n",
    "\n",
    "\n",
    "\n",
    "def fit_model_hold_out(x_train, y_train, config, val_split):\n",
    "    \n",
    "    train_metric = \"mee\"\n",
    "    val_metric = \"val_mee\"\n",
    "        \n",
    "    trials = config[\"trials_train\"]\n",
    "    input_size = get_attributes_num(x_train)\n",
    "    output_size = get_attributes_num(y_train)\n",
    "        \n",
    "    x_train, x_val, y_train, y_val = train_test_split(x_train, y_train, test_size=val_split, shuffle=True)\n",
    "\n",
    "    \n",
    "    trials_val_loss = []\n",
    "    trials_train_loss = []\n",
    "    trials_val_acc = []\n",
    "    trials_train_acc = []\n",
    "        \n",
    "    with tqdm(total=trials) as pbar:\n",
    "        for trial in range(trials):            \n",
    "            model = get_model(config, input_size, output_size)\n",
    "                \n",
    "            model.lms_solve(x_train, y_train)\n",
    "\n",
    "            trial_train_loss, trial_train_acc, trial_val_loss, trial_val_acc = get_metrics(model, x_train, y_train, x_val, y_val)\n",
    "\n",
    "            trials_val_loss.append(trial_val_loss)\n",
    "            trials_train_loss.append(trial_train_loss)\n",
    "            trials_val_acc.append(trial_val_acc)\n",
    "            trials_train_acc.append(trial_train_acc)\n",
    "            \n",
    "            pbar.update(1)\n",
    "    \n",
    "    # get the median metrics among the trials\n",
    "    med_idx = median_index(trials_val_loss)\n",
    "    med_val_loss = trials_val_loss[med_idx]\n",
    "    med_train_loss = trials_train_loss[med_idx]\n",
    "    med_val_acc = trials_val_acc[med_idx]\n",
    "    med_train_acc = trials_train_acc[med_idx]\n",
    "    std_val_loss = np.std(trials_val_loss)\n",
    "    std_train_loss = np.std(trials_train_loss)\n",
    "    std_val_acc = np.std(trials_val_acc)\n",
    "    std_train_acc = np.std(trials_train_acc)\n",
    "\n",
    "    print(f\"Median val_loss: {med_val_loss}, std val_loss {std_val_loss}\")\n",
    "    print(f\"Median train_loss: {med_train_loss}, std train_loss {std_train_loss}\")\n",
    "    print(f\"Median {val_metric}: {med_val_acc}, std {val_metric} {std_val_acc}\")\n",
    "    print(f\"Median train_{train_metric}: {med_train_acc}, train_{train_metric} {std_train_acc}\")\n",
    "    \n",
    "    return med_val_loss\n",
    "    \n",
    "    \n",
    "def fit_model_test(x_train, y_train, x_test, y_test, config):\n",
    "\n",
    "    train_metric = \"mee\"\n",
    "    test_metric = \"val_mee\"\n",
    "\n",
    "    trials = config[\"trials_test\"]\n",
    "\n",
    "            \n",
    "    input_size = get_attributes_num(x_train)\n",
    "    output_size = get_attributes_num(y_train)\n",
    "    \n",
    "    \n",
    "    trials_test_loss = []\n",
    "    trials_train_loss = []\n",
    "    trials_test_acc = []\n",
    "    trials_train_acc = []\n",
    "    \n",
    "    models = []\n",
    "    \n",
    "    with tqdm(total=trials) as pbar:\n",
    "        for trial in range(trials):\n",
    "            model = get_model(config, input_size, output_size)\n",
    "                \n",
    "            model.lms_solve(x_train, y_train)\n",
    "            \n",
    "            models.append(model)\n",
    "\n",
    "            trial_train_loss, trial_train_acc, trial_test_loss, trial_test_acc = get_metrics(model, x_train, y_train, x_test, y_test)\n",
    "\n",
    "            trials_test_loss.append(trial_test_loss)\n",
    "            trials_train_loss.append(trial_train_loss)\n",
    "            trials_test_acc.append(trial_test_acc)\n",
    "            trials_train_acc.append(trial_train_acc)\n",
    "\n",
    "            print(f\"Trial {trial+1}/{trials} test_loss: {trial_test_loss}\")\n",
    "            print(f\"Trial {trial+1}/{trials} train_loss: {trial_train_loss}\")\n",
    "            print(f\"Trial {trial+1}/{trials} {test_metric}: {trial_test_acc}\")\n",
    "            print(f\"Trial {trial+1}/{trials} train_{train_metric}: {trial_train_acc}\")\n",
    "\n",
    "            pbar.update(1)\n",
    "        \n",
    "    med_idx = median_index(trials_test_loss)\n",
    "    med_test_loss = trials_test_loss[med_idx]\n",
    "    med_train_loss = trials_train_loss[med_idx]\n",
    "    med_test_acc = trials_test_acc[med_idx]\n",
    "    med_train_acc = trials_train_acc[med_idx]\n",
    "    std_test_loss = np.std(trials_test_loss)\n",
    "    std_train_loss = np.std(trials_train_loss)\n",
    "    std_test_acc = np.std(trials_test_acc)\n",
    "    std_train_acc = np.std(trials_train_acc)\n",
    "    \n",
    "    print(f\"\\nMedian test_loss: {med_test_loss}, std test_loss {std_test_loss}\")\n",
    "    print(f\"Median train_loss: {med_train_loss}, std train_loss {std_train_loss}\")\n",
    "    print(f\"Median test_{train_metric}: {med_test_acc}, std test_{train_metric} {std_test_acc}\")\n",
    "    print(f\"Median train_{train_metric}: {med_train_acc}, std train_{train_metric} {std_train_acc}\")\n",
    "        \n",
    "    med_model = models[med_idx]\n",
    "    \n",
    "    return med_model\n",
    "\n",
    "\n",
    "def fit_model_no_test(x_train, y_train, config):\n",
    "    trails = config[\"trials_test\"]\n",
    "    train_metric = \"mee\"    \n",
    "    input_size = get_attributes_num(x_train)\n",
    "    output_size = get_attributes_num(y_train)\n",
    "    \n",
    "    \n",
    "    trials_train_loss = []\n",
    "    trials_train_acc = []\n",
    "    \n",
    "    models = []\n",
    "    \n",
    "    with tqdm(total=trials) as pbar:\n",
    "        for trial in range(trials):\n",
    "            model = get_model(config, input_size, output_size)\n",
    "                \n",
    "            model.lms_solve(x_train, y_train)\n",
    "            \n",
    "            models.append(model)\n",
    "\n",
    "            trial_train_loss, trial_train_acc = get_metrics(model, x_train, y_train)\n",
    "\n",
    "            trials_train_loss.append(trial_train_loss)\n",
    "            trials_train_acc.append(trial_train_acc)\n",
    "\n",
    "\n",
    "            print(f\"Trial {trial+1}/{trials} train_loss: {trial_train_loss}\")\n",
    "            print(f\"Trial {trial+1}/{trials} train_{train_metric}: {trial_train_acc}\")\n",
    "\n",
    "            pbar.update(1)\n",
    "        \n",
    "    med_idx = median_index(trials_train_loss)\n",
    "    med_train_loss = trials_train_loss[med_idx]\n",
    "    med_train_acc = trials_train_acc[med_idx]\n",
    "    std_train_loss = np.std(trials_train_loss)\n",
    "    std_train_acc = np.std(trials_train_acc)\n",
    "    \n",
    "    print(f\"\\nMedian train_loss: {med_train_loss}, std train_loss {std_train_loss}\")\n",
    "    print(f\"Median train_{train_metric}: {med_train_acc}, std train_{train_metric} {std_train_acc}\")\n",
    "    \n",
    "    med_model = models[med_idx]\n",
    "    \n",
    "    return med_model\n",
    "\n",
    "    \n",
    "def fit_model(x_train, y_train, config, validation):\n",
    "    if validation[\"type\"] == \"k-fold\":\n",
    "        val_loss = fit_model_k_fold(x_train, y_train, config, validation[\"n_folds\"])\n",
    "    elif validation[\"type\"] == \"hold-out\":\n",
    "        val_loss = fit_model_hold_out(x_train, y_train, config, validation[\"val_split\"])\n",
    "    return val_loss\n",
    "\n",
    "\n",
    "\n",
    "def test_model(model, x_test, y_test):\n",
    "    input_size = x_test.shape[1]\n",
    "    result = model.evaluate(x_test, y_test)\n",
    "    print(result)\n",
    "\n",
    "    \n",
    "    \n",
    "def model_selection(configurations, x_train, y_train, validation):\n",
    "        \n",
    "    best_loss = float(\"inf\")\n",
    "    best_conf = None\n",
    "    \n",
    "    idx = 1\n",
    "    n_confs = len(configurations)\n",
    "    for config in configurations:\n",
    "\n",
    "        print(f\"Testing configuration {idx}/{n_confs}:\\n{config}\")\n",
    "        val_loss = fit_model(x_train, y_train, config, validation)\n",
    "\n",
    "        if val_loss < best_loss:\n",
    "            best_loss = val_loss;\n",
    "            best_conf = config\n",
    "        idx += 1\n",
    "        \n",
    "        print(\"\\n\\n\")\n",
    "\n",
    "            \n",
    "    print(\"\\n\\n\")\n",
    "    print(f\"Best configuration (loss {best_loss}):\\n{best_conf}\")\n",
    "    \n",
    "    return best_conf\n",
    "    \n",
    "\n",
    "def grid_search(params, x_train, y_train, validation={\"type\": \"hold-out\", \"val_split\": 0.2}, x_test=None, y_test=None):\n",
    "    configurations = get_configurations(params)    \n",
    "    best_conf = model_selection(configurations, x_train, y_train, validation)\n",
    "    if x_test is None:\n",
    "        model = fit_model_no_test(x_train, y_train, best_conf)\n",
    "    else:\n",
    "        model = fit_model_test(x_train, y_train, x_test, y_test, best_conf)\n",
    "        \n",
    "    return model"
   ]
  },
  {
   "cell_type": "code",
   "execution_count": 50,
   "id": "ede16f2b",
   "metadata": {},
   "outputs": [],
   "source": [
    "params = {\n",
    "    \"trials_train\": 5,\n",
    "    \"trials_test\": 10,\n",
    "    \"initialization\": {\n",
    "        \"type\": \"normal\",\n",
    "        \"mean\": 0,\n",
    "        \"std\": 1\n",
    "    },\n",
    "    \"regularization\": [None, 0.001, 0.01, 0.1, 1, 10, 100, 1000],\n",
    "    \"layers\": [\n",
    "        {\n",
    "            \"activations\": [\"relu\", \"tanh\", \"linear\"],\n",
    "            \"units\": [1000],\n",
    "        }\n",
    "    ]\n",
    "}\n",
    "\n",
    "\n",
    "k_fold_val = {\n",
    "    \"type\": \"k-fold\",\n",
    "    \"n_folds\": 5\n",
    "}\n",
    "\n",
    "hold_out_val = {\n",
    "    \"type\": \"hold-out\",\n",
    "    \"val_split\": 0.2\n",
    "}\n"
   ]
  },
  {
   "cell_type": "markdown",
   "id": "58a98502",
   "metadata": {},
   "source": [
    "# ML Cup"
   ]
  },
  {
   "cell_type": "code",
   "execution_count": 51,
   "id": "cebb8e47",
   "metadata": {},
   "outputs": [
    {
     "name": "stdout",
     "output_type": "stream",
     "text": [
      "(1342, 9) (1342, 2)\n",
      "(150, 9) (150, 2)\n",
      "(529, 9)\n"
     ]
    }
   ],
   "source": [
    "x_train, y_train, x_test, y_test, x_test_blind = load_dataset(\"cup\", False)\n",
    "print(x_train.shape, y_train.shape)\n",
    "print(x_test.shape, y_test.shape)\n",
    "print(x_test_blind.shape)"
   ]
  },
  {
   "cell_type": "code",
   "execution_count": 52,
   "id": "6bb5d69e",
   "metadata": {},
   "outputs": [
    {
     "name": "stdout",
     "output_type": "stream",
     "text": [
      "Testing configuration 1/24:\n",
      "{'regularization': None, 'initialization': {'type': 'normal', 'mean': 0, 'std': 1}, 'trials_train': 5, 'trials_test': 10, 'activations_1': 'relu', 'units_1': 1000}\n"
     ]
    },
    {
     "name": "stderr",
     "output_type": "stream",
     "text": [
      "\r",
      "  0%|                                                     | 0/5 [00:00<?, ?it/s]"
     ]
    },
    {
     "name": "stdout",
     "output_type": "stream",
     "text": [
      "(1000, 2)\n",
      "(2,)\n",
      "(1000, 2)\n",
      "(2,)\n"
     ]
    },
    {
     "name": "stderr",
     "output_type": "stream",
     "text": [
      "\r",
      " 20%|█████████                                    | 1/5 [00:00<00:03,  1.15it/s]"
     ]
    },
    {
     "name": "stdout",
     "output_type": "stream",
     "text": [
      "(1000, 2)\n",
      "(2,)\n",
      "(1000, 2)\n",
      "(2,)\n"
     ]
    },
    {
     "name": "stderr",
     "output_type": "stream",
     "text": [
      "\r",
      " 40%|██████████████████                           | 2/5 [00:01<00:02,  1.17it/s]"
     ]
    },
    {
     "name": "stdout",
     "output_type": "stream",
     "text": [
      "(1000, 2)\n",
      "(2,)\n",
      "(1000, 2)\n",
      "(2,)\n"
     ]
    },
    {
     "name": "stderr",
     "output_type": "stream",
     "text": [
      "\r",
      " 60%|███████████████████████████                  | 3/5 [00:02<00:01,  1.10it/s]"
     ]
    },
    {
     "name": "stdout",
     "output_type": "stream",
     "text": [
      "(1000, 2)\n",
      "(2,)\n",
      "(1000, 2)\n",
      "(2,)\n"
     ]
    },
    {
     "name": "stderr",
     "output_type": "stream",
     "text": [
      "\r",
      " 80%|████████████████████████████████████         | 4/5 [00:03<00:00,  1.01it/s]"
     ]
    },
    {
     "name": "stdout",
     "output_type": "stream",
     "text": [
      "(1000, 2)\n",
      "(2,)\n",
      "(1000, 2)\n",
      "(2,)\n"
     ]
    },
    {
     "name": "stderr",
     "output_type": "stream",
     "text": [
      "100%|█████████████████████████████████████████████| 5/5 [00:04<00:00,  1.06it/s]\n"
     ]
    },
    {
     "name": "stdout",
     "output_type": "stream",
     "text": [
      "Median val_loss: 63.703704833984375, std val_loss 22.105718098183214\n",
      "Median train_loss: 0.14108948409557343, std train_loss 0.01616698722807249\n",
      "Median val_mee: 8.45862865447998, std val_mee 0.9471720664586036\n",
      "Median train_mee: 0.40964385867118835, train_mee 0.023303416580622845\n",
      "\n",
      "\n",
      "\n",
      "Testing configuration 2/24:\n",
      "{'regularization': None, 'initialization': {'type': 'normal', 'mean': 0, 'std': 1}, 'trials_train': 5, 'trials_test': 10, 'activations_1': 'tanh', 'units_1': 1000}\n"
     ]
    },
    {
     "name": "stderr",
     "output_type": "stream",
     "text": [
      "\r",
      "  0%|                                                     | 0/5 [00:00<?, ?it/s]"
     ]
    },
    {
     "name": "stdout",
     "output_type": "stream",
     "text": [
      "(1000, 2)\n",
      "(2,)\n",
      "(1000, 2)\n",
      "(2,)\n"
     ]
    },
    {
     "name": "stderr",
     "output_type": "stream",
     "text": [
      "\r",
      " 20%|█████████                                    | 1/5 [00:01<00:05,  1.27s/it]"
     ]
    },
    {
     "name": "stdout",
     "output_type": "stream",
     "text": [
      "(1000, 2)\n",
      "(2,)\n",
      "(1000, 2)\n",
      "(2,)\n"
     ]
    },
    {
     "name": "stderr",
     "output_type": "stream",
     "text": [
      "\r",
      " 40%|██████████████████                           | 2/5 [00:02<00:02,  1.00it/s]"
     ]
    },
    {
     "name": "stdout",
     "output_type": "stream",
     "text": [
      "(1000, 2)\n",
      "(2,)\n",
      "(1000, 2)\n",
      "(2,)\n"
     ]
    },
    {
     "name": "stderr",
     "output_type": "stream",
     "text": [
      "\r",
      " 60%|███████████████████████████                  | 3/5 [00:03<00:01,  1.01it/s]"
     ]
    },
    {
     "name": "stdout",
     "output_type": "stream",
     "text": [
      "(1000, 2)\n",
      "(2,)\n",
      "(1000, 2)\n",
      "(2,)\n"
     ]
    },
    {
     "name": "stderr",
     "output_type": "stream",
     "text": [
      "\r",
      " 80%|████████████████████████████████████         | 4/5 [00:04<00:00,  1.01it/s]"
     ]
    },
    {
     "name": "stdout",
     "output_type": "stream",
     "text": [
      "(1000, 2)\n",
      "(2,)\n",
      "(1000, 2)\n",
      "(2,)\n"
     ]
    },
    {
     "name": "stderr",
     "output_type": "stream",
     "text": [
      "100%|█████████████████████████████████████████████| 5/5 [00:04<00:00,  1.02it/s]\n"
     ]
    },
    {
     "name": "stdout",
     "output_type": "stream",
     "text": [
      "Median val_loss: 97.5304183959961, std val_loss 15.098470805802785\n",
      "Median train_loss: 0.12770171463489532, std train_loss 0.010697267422095804\n",
      "Median val_mee: 10.53205680847168, std val_mee 0.6860986647697268\n",
      "Median train_mee: 0.3936162292957306, train_mee 0.011495910298452743\n",
      "\n",
      "\n",
      "\n",
      "Testing configuration 3/24:\n",
      "{'regularization': None, 'initialization': {'type': 'normal', 'mean': 0, 'std': 1}, 'trials_train': 5, 'trials_test': 10, 'activations_1': 'linear', 'units_1': 1000}\n"
     ]
    },
    {
     "name": "stderr",
     "output_type": "stream",
     "text": [
      "\r",
      "  0%|                                                     | 0/5 [00:00<?, ?it/s]"
     ]
    },
    {
     "name": "stdout",
     "output_type": "stream",
     "text": [
      "(1000, 2)\n",
      "(2,)\n",
      "(1000, 2)\n",
      "(2,)\n"
     ]
    },
    {
     "name": "stderr",
     "output_type": "stream",
     "text": [
      "\r",
      " 20%|█████████                                    | 1/5 [00:00<00:03,  1.29it/s]"
     ]
    },
    {
     "name": "stdout",
     "output_type": "stream",
     "text": [
      "(1000, 2)\n",
      "(2,)\n",
      "(1000, 2)\n",
      "(2,)\n"
     ]
    },
    {
     "name": "stderr",
     "output_type": "stream",
     "text": [
      "\r",
      " 40%|██████████████████                           | 2/5 [00:01<00:02,  1.29it/s]"
     ]
    },
    {
     "name": "stdout",
     "output_type": "stream",
     "text": [
      "(1000, 2)\n",
      "(2,)\n",
      "(1000, 2)\n",
      "(2,)\n"
     ]
    },
    {
     "name": "stderr",
     "output_type": "stream",
     "text": [
      "\r",
      " 60%|███████████████████████████                  | 3/5 [00:02<00:01,  1.25it/s]"
     ]
    },
    {
     "name": "stdout",
     "output_type": "stream",
     "text": [
      "(1000, 2)\n",
      "(2,)\n",
      "(1000, 2)\n",
      "(2,)\n"
     ]
    },
    {
     "name": "stderr",
     "output_type": "stream",
     "text": [
      "\r",
      " 80%|████████████████████████████████████         | 4/5 [00:03<00:00,  1.22it/s]"
     ]
    },
    {
     "name": "stdout",
     "output_type": "stream",
     "text": [
      "(1000, 2)\n",
      "(2,)\n",
      "(1000, 2)\n",
      "(2,)\n"
     ]
    },
    {
     "name": "stderr",
     "output_type": "stream",
     "text": [
      "100%|█████████████████████████████████████████████| 5/5 [00:04<00:00,  1.21it/s]\n"
     ]
    },
    {
     "name": "stdout",
     "output_type": "stream",
     "text": [
      "Median val_loss: 2.9302775859832764, std val_loss 0.004697043445232755\n",
      "Median train_loss: 3.0100433826446533, std train_loss 0.0018937604000800637\n",
      "Median val_mee: 2.1117916107177734, std val_mee 0.0014743414496770687\n",
      "Median train_mee: 2.1325576305389404, train_mee 0.0003299158179191792\n",
      "\n",
      "\n",
      "\n",
      "Testing configuration 4/24:\n",
      "{'regularization': 0.001, 'initialization': {'type': 'normal', 'mean': 0, 'std': 1}, 'trials_train': 5, 'trials_test': 10, 'activations_1': 'relu', 'units_1': 1000}\n"
     ]
    },
    {
     "name": "stderr",
     "output_type": "stream",
     "text": [
      "\r",
      "  0%|                                                     | 0/5 [00:00<?, ?it/s]"
     ]
    },
    {
     "name": "stdout",
     "output_type": "stream",
     "text": [
      "(1000, 2)\n",
      "(2,)\n",
      "(1000, 2)\n",
      "(2,)\n"
     ]
    },
    {
     "name": "stderr",
     "output_type": "stream",
     "text": [
      "\r",
      " 20%|█████████                                    | 1/5 [00:00<00:02,  1.49it/s]"
     ]
    },
    {
     "name": "stdout",
     "output_type": "stream",
     "text": [
      "(1000, 2)\n",
      "(2,)\n",
      "(1000, 2)\n",
      "(2,)\n"
     ]
    },
    {
     "name": "stderr",
     "output_type": "stream",
     "text": [
      "\r",
      " 40%|██████████████████                           | 2/5 [00:01<00:01,  1.65it/s]"
     ]
    },
    {
     "name": "stdout",
     "output_type": "stream",
     "text": [
      "(1000, 2)\n",
      "(2,)\n",
      "(1000, 2)\n",
      "(2,)\n"
     ]
    },
    {
     "name": "stderr",
     "output_type": "stream",
     "text": [
      "\r",
      " 60%|███████████████████████████                  | 3/5 [00:01<00:01,  1.64it/s]"
     ]
    },
    {
     "name": "stdout",
     "output_type": "stream",
     "text": [
      "(1000, 2)\n",
      "(2,)\n",
      "(1000, 2)\n",
      "(2,)\n"
     ]
    },
    {
     "name": "stderr",
     "output_type": "stream",
     "text": [
      "\r",
      " 80%|████████████████████████████████████         | 4/5 [00:02<00:00,  1.54it/s]"
     ]
    },
    {
     "name": "stdout",
     "output_type": "stream",
     "text": [
      "(1000, 2)\n",
      "(2,)\n",
      "(1000, 2)\n",
      "(2,)\n"
     ]
    },
    {
     "name": "stderr",
     "output_type": "stream",
     "text": [
      "100%|█████████████████████████████████████████████| 5/5 [00:03<00:00,  1.59it/s]\n"
     ]
    },
    {
     "name": "stdout",
     "output_type": "stream",
     "text": [
      "Median val_loss: 61.090389251708984, std val_loss 3.7903752328052285\n",
      "Median train_loss: 0.12326112389564514, std train_loss 0.02227754587987941\n",
      "Median val_mee: 8.766386032104492, std val_mee 0.2847795081262257\n",
      "Median train_mee: 0.3988858163356781, train_mee 0.024978168246602248\n",
      "\n",
      "\n",
      "\n",
      "Testing configuration 5/24:\n",
      "{'regularization': 0.001, 'initialization': {'type': 'normal', 'mean': 0, 'std': 1}, 'trials_train': 5, 'trials_test': 10, 'activations_1': 'tanh', 'units_1': 1000}\n"
     ]
    },
    {
     "name": "stderr",
     "output_type": "stream",
     "text": [
      "\r",
      "  0%|                                                     | 0/5 [00:00<?, ?it/s]"
     ]
    },
    {
     "name": "stdout",
     "output_type": "stream",
     "text": [
      "(1000, 2)\n",
      "(2,)\n",
      "(1000, 2)\n",
      "(2,)\n"
     ]
    },
    {
     "name": "stderr",
     "output_type": "stream",
     "text": [
      "\r",
      " 20%|█████████                                    | 1/5 [00:00<00:02,  1.99it/s]"
     ]
    },
    {
     "name": "stdout",
     "output_type": "stream",
     "text": [
      "(1000, 2)\n",
      "(2,)\n",
      "(1000, 2)\n",
      "(2,)\n"
     ]
    },
    {
     "name": "stderr",
     "output_type": "stream",
     "text": [
      "\r",
      " 40%|██████████████████                           | 2/5 [00:00<00:01,  2.02it/s]"
     ]
    },
    {
     "name": "stdout",
     "output_type": "stream",
     "text": [
      "(1000, 2)\n",
      "(2,)\n",
      "(1000, 2)\n",
      "(2,)\n"
     ]
    },
    {
     "name": "stderr",
     "output_type": "stream",
     "text": [
      "\r",
      " 60%|███████████████████████████                  | 3/5 [00:01<00:00,  2.00it/s]"
     ]
    },
    {
     "name": "stdout",
     "output_type": "stream",
     "text": [
      "(1000, 2)\n",
      "(2,)\n",
      "(1000, 2)\n",
      "(2,)\n"
     ]
    },
    {
     "name": "stderr",
     "output_type": "stream",
     "text": [
      "\r",
      " 80%|████████████████████████████████████         | 4/5 [00:02<00:00,  1.94it/s]"
     ]
    },
    {
     "name": "stdout",
     "output_type": "stream",
     "text": [
      "(1000, 2)\n",
      "(2,)\n",
      "(1000, 2)\n",
      "(2,)\n"
     ]
    },
    {
     "name": "stderr",
     "output_type": "stream",
     "text": [
      "100%|█████████████████████████████████████████████| 5/5 [00:02<00:00,  1.97it/s]\n"
     ]
    },
    {
     "name": "stdout",
     "output_type": "stream",
     "text": [
      "Median val_loss: 55.37387466430664, std val_loss 9.306735811324844\n",
      "Median train_loss: 0.13466092944145203, std train_loss 0.014224787010131093\n",
      "Median val_mee: 8.397223472595215, std val_mee 0.4846207178146331\n",
      "Median train_mee: 0.3988182544708252, train_mee 0.023212570198159664\n",
      "\n",
      "\n",
      "\n",
      "Testing configuration 6/24:\n",
      "{'regularization': 0.001, 'initialization': {'type': 'normal', 'mean': 0, 'std': 1}, 'trials_train': 5, 'trials_test': 10, 'activations_1': 'linear', 'units_1': 1000}\n"
     ]
    },
    {
     "name": "stderr",
     "output_type": "stream",
     "text": [
      "\r",
      "  0%|                                                     | 0/5 [00:00<?, ?it/s]"
     ]
    },
    {
     "name": "stdout",
     "output_type": "stream",
     "text": [
      "(1000, 2)\n",
      "(2,)\n",
      "(1000, 2)\n",
      "(2,)\n"
     ]
    },
    {
     "name": "stderr",
     "output_type": "stream",
     "text": [
      "\r",
      " 20%|█████████                                    | 1/5 [00:00<00:02,  1.81it/s]"
     ]
    },
    {
     "name": "stdout",
     "output_type": "stream",
     "text": [
      "(1000, 2)\n",
      "(2,)\n",
      "(1000, 2)\n",
      "(2,)\n"
     ]
    },
    {
     "name": "stderr",
     "output_type": "stream",
     "text": [
      "\r",
      " 40%|██████████████████                           | 2/5 [00:01<00:01,  1.95it/s]"
     ]
    },
    {
     "name": "stdout",
     "output_type": "stream",
     "text": [
      "(1000, 2)\n",
      "(2,)\n",
      "(1000, 2)\n",
      "(2,)\n"
     ]
    },
    {
     "name": "stderr",
     "output_type": "stream",
     "text": [
      "\r",
      " 60%|███████████████████████████                  | 3/5 [00:01<00:00,  2.02it/s]"
     ]
    },
    {
     "name": "stdout",
     "output_type": "stream",
     "text": [
      "(1000, 2)\n",
      "(2,)\n",
      "(1000, 2)\n",
      "(2,)\n"
     ]
    },
    {
     "name": "stderr",
     "output_type": "stream",
     "text": [
      "\r",
      " 80%|████████████████████████████████████         | 4/5 [00:02<00:00,  2.02it/s]"
     ]
    },
    {
     "name": "stdout",
     "output_type": "stream",
     "text": [
      "(1000, 2)\n",
      "(2,)\n",
      "(1000, 2)\n",
      "(2,)\n"
     ]
    },
    {
     "name": "stderr",
     "output_type": "stream",
     "text": [
      "100%|█████████████████████████████████████████████| 5/5 [00:02<00:00,  1.95it/s]\n"
     ]
    },
    {
     "name": "stdout",
     "output_type": "stream",
     "text": [
      "Median val_loss: 3.1810503005981445, std val_loss 3.568322550558034e-07\n",
      "Median train_loss: 2.9470529556274414, std train_loss 3.504023183989303e-07\n",
      "Median val_mee: 2.2231199741363525, std val_mee 9.536743164062499e-08\n",
      "Median train_mee: 2.1075708866119385, train_mee 9.536743164062499e-08\n",
      "\n",
      "\n",
      "\n",
      "Testing configuration 7/24:\n",
      "{'regularization': 0.01, 'initialization': {'type': 'normal', 'mean': 0, 'std': 1}, 'trials_train': 5, 'trials_test': 10, 'activations_1': 'relu', 'units_1': 1000}\n"
     ]
    },
    {
     "name": "stderr",
     "output_type": "stream",
     "text": [
      "\r",
      "  0%|                                                     | 0/5 [00:00<?, ?it/s]"
     ]
    },
    {
     "name": "stdout",
     "output_type": "stream",
     "text": [
      "(1000, 2)\n",
      "(2,)\n",
      "(1000, 2)\n",
      "(2,)\n"
     ]
    },
    {
     "name": "stderr",
     "output_type": "stream",
     "text": [
      "\r",
      " 20%|█████████                                    | 1/5 [00:00<00:02,  1.49it/s]"
     ]
    },
    {
     "name": "stdout",
     "output_type": "stream",
     "text": [
      "(1000, 2)\n",
      "(2,)\n",
      "(1000, 2)\n",
      "(2,)\n"
     ]
    },
    {
     "name": "stderr",
     "output_type": "stream",
     "text": [
      "\r",
      " 40%|██████████████████                           | 2/5 [00:01<00:01,  1.55it/s]"
     ]
    },
    {
     "name": "stdout",
     "output_type": "stream",
     "text": [
      "(1000, 2)\n",
      "(2,)\n",
      "(1000, 2)\n",
      "(2,)\n"
     ]
    },
    {
     "name": "stderr",
     "output_type": "stream",
     "text": [
      "\r",
      " 60%|███████████████████████████                  | 3/5 [00:01<00:01,  1.61it/s]"
     ]
    },
    {
     "name": "stdout",
     "output_type": "stream",
     "text": [
      "(1000, 2)\n",
      "(2,)\n",
      "(1000, 2)\n",
      "(2,)\n"
     ]
    },
    {
     "name": "stderr",
     "output_type": "stream",
     "text": [
      "\r",
      " 80%|████████████████████████████████████         | 4/5 [00:02<00:00,  1.73it/s]"
     ]
    },
    {
     "name": "stdout",
     "output_type": "stream",
     "text": [
      "(1000, 2)\n",
      "(2,)\n",
      "(1000, 2)\n",
      "(2,)\n"
     ]
    },
    {
     "name": "stderr",
     "output_type": "stream",
     "text": [
      "100%|█████████████████████████████████████████████| 5/5 [00:02<00:00,  1.70it/s]\n"
     ]
    },
    {
     "name": "stdout",
     "output_type": "stream",
     "text": [
      "Median val_loss: 29.944942474365234, std val_loss 1.8235867259088205\n",
      "Median train_loss: 0.18185938894748688, std train_loss 0.019902415478039608\n",
      "Median val_mee: 6.178212642669678, std val_mee 0.19639373620505893\n",
      "Median train_mee: 0.47326937317848206, train_mee 0.026665347919544488\n",
      "\n",
      "\n",
      "\n",
      "Testing configuration 8/24:\n",
      "{'regularization': 0.01, 'initialization': {'type': 'normal', 'mean': 0, 'std': 1}, 'trials_train': 5, 'trials_test': 10, 'activations_1': 'tanh', 'units_1': 1000}\n"
     ]
    },
    {
     "name": "stderr",
     "output_type": "stream",
     "text": [
      "\r",
      "  0%|                                                     | 0/5 [00:00<?, ?it/s]"
     ]
    },
    {
     "name": "stdout",
     "output_type": "stream",
     "text": [
      "(1000, 2)\n",
      "(2,)\n",
      "(1000, 2)\n",
      "(2,)\n"
     ]
    },
    {
     "name": "stderr",
     "output_type": "stream",
     "text": [
      "\r",
      " 20%|█████████                                    | 1/5 [00:00<00:02,  1.59it/s]"
     ]
    },
    {
     "name": "stdout",
     "output_type": "stream",
     "text": [
      "(1000, 2)\n",
      "(2,)\n",
      "(1000, 2)\n",
      "(2,)\n"
     ]
    },
    {
     "name": "stderr",
     "output_type": "stream",
     "text": [
      "\r",
      " 40%|██████████████████                           | 2/5 [00:01<00:01,  1.63it/s]"
     ]
    },
    {
     "name": "stdout",
     "output_type": "stream",
     "text": [
      "(1000, 2)\n",
      "(2,)\n",
      "(1000, 2)\n",
      "(2,)\n"
     ]
    },
    {
     "name": "stderr",
     "output_type": "stream",
     "text": [
      "\r",
      " 60%|███████████████████████████                  | 3/5 [00:01<00:01,  1.74it/s]"
     ]
    },
    {
     "name": "stdout",
     "output_type": "stream",
     "text": [
      "(1000, 2)\n",
      "(2,)\n",
      "(1000, 2)\n",
      "(2,)\n"
     ]
    },
    {
     "name": "stderr",
     "output_type": "stream",
     "text": [
      "\r",
      " 80%|████████████████████████████████████         | 4/5 [00:02<00:00,  1.78it/s]"
     ]
    },
    {
     "name": "stdout",
     "output_type": "stream",
     "text": [
      "(1000, 2)\n",
      "(2,)\n",
      "(1000, 2)\n",
      "(2,)\n"
     ]
    },
    {
     "name": "stderr",
     "output_type": "stream",
     "text": [
      "100%|█████████████████████████████████████████████| 5/5 [00:02<00:00,  1.75it/s]\n"
     ]
    },
    {
     "name": "stdout",
     "output_type": "stream",
     "text": [
      "Median val_loss: 24.705339431762695, std val_loss 3.784991633601535\n",
      "Median train_loss: 0.163288876414299, std train_loss 0.01595042787609699\n",
      "Median val_mee: 5.691676139831543, std val_mee 0.3047910776913266\n",
      "Median train_mee: 0.43706002831459045, train_mee 0.02020801044748187\n",
      "\n",
      "\n",
      "\n",
      "Testing configuration 9/24:\n",
      "{'regularization': 0.01, 'initialization': {'type': 'normal', 'mean': 0, 'std': 1}, 'trials_train': 5, 'trials_test': 10, 'activations_1': 'linear', 'units_1': 1000}\n"
     ]
    },
    {
     "name": "stderr",
     "output_type": "stream",
     "text": [
      "\r",
      "  0%|                                                     | 0/5 [00:00<?, ?it/s]"
     ]
    },
    {
     "name": "stdout",
     "output_type": "stream",
     "text": [
      "(1000, 2)\n",
      "(2,)\n",
      "(1000, 2)\n",
      "(2,)\n"
     ]
    },
    {
     "name": "stderr",
     "output_type": "stream",
     "text": [
      "\r",
      " 20%|█████████                                    | 1/5 [00:00<00:02,  1.76it/s]"
     ]
    },
    {
     "name": "stdout",
     "output_type": "stream",
     "text": [
      "(1000, 2)\n",
      "(2,)\n",
      "(1000, 2)\n",
      "(2,)\n"
     ]
    },
    {
     "name": "stderr",
     "output_type": "stream",
     "text": [
      "\r",
      " 40%|██████████████████                           | 2/5 [00:01<00:01,  1.68it/s]"
     ]
    },
    {
     "name": "stdout",
     "output_type": "stream",
     "text": [
      "(1000, 2)\n",
      "(2,)\n",
      "(1000, 2)\n",
      "(2,)\n"
     ]
    },
    {
     "name": "stderr",
     "output_type": "stream",
     "text": [
      "\r",
      " 60%|███████████████████████████                  | 3/5 [00:01<00:01,  1.76it/s]"
     ]
    },
    {
     "name": "stdout",
     "output_type": "stream",
     "text": [
      "(1000, 2)\n",
      "(2,)\n",
      "(1000, 2)\n",
      "(2,)\n"
     ]
    },
    {
     "name": "stderr",
     "output_type": "stream",
     "text": [
      "\r",
      " 80%|████████████████████████████████████         | 4/5 [00:02<00:00,  1.74it/s]"
     ]
    },
    {
     "name": "stdout",
     "output_type": "stream",
     "text": [
      "(1000, 2)\n",
      "(2,)\n",
      "(1000, 2)\n",
      "(2,)\n"
     ]
    },
    {
     "name": "stderr",
     "output_type": "stream",
     "text": [
      "100%|█████████████████████████████████████████████| 5/5 [00:02<00:00,  1.76it/s]\n"
     ]
    },
    {
     "name": "stdout",
     "output_type": "stream",
     "text": [
      "Median val_loss: 2.8864636421203613, std val_loss 1.1680077279964343e-07\n",
      "Median train_loss: 3.022179365158081, std train_loss 0.0\n",
      "Median val_mee: 2.128833532333374, std val_mee 0.0\n",
      "Median train_mee: 2.133528470993042, train_mee 1.9073486328124998e-07\n",
      "\n",
      "\n",
      "\n",
      "Testing configuration 10/24:\n",
      "{'regularization': 0.1, 'initialization': {'type': 'normal', 'mean': 0, 'std': 1}, 'trials_train': 5, 'trials_test': 10, 'activations_1': 'relu', 'units_1': 1000}\n"
     ]
    },
    {
     "name": "stderr",
     "output_type": "stream",
     "text": [
      "\r",
      "  0%|                                                     | 0/5 [00:00<?, ?it/s]"
     ]
    },
    {
     "name": "stdout",
     "output_type": "stream",
     "text": [
      "(1000, 2)\n",
      "(2,)\n",
      "(1000, 2)\n",
      "(2,)\n"
     ]
    },
    {
     "name": "stderr",
     "output_type": "stream",
     "text": [
      "\r",
      " 20%|█████████                                    | 1/5 [00:00<00:02,  1.57it/s]"
     ]
    },
    {
     "name": "stdout",
     "output_type": "stream",
     "text": [
      "(1000, 2)\n",
      "(2,)\n",
      "(1000, 2)\n",
      "(2,)\n"
     ]
    },
    {
     "name": "stderr",
     "output_type": "stream",
     "text": [
      "\r",
      " 40%|██████████████████                           | 2/5 [00:01<00:01,  1.71it/s]"
     ]
    },
    {
     "name": "stdout",
     "output_type": "stream",
     "text": [
      "(1000, 2)\n",
      "(2,)\n",
      "(1000, 2)\n",
      "(2,)\n"
     ]
    },
    {
     "name": "stderr",
     "output_type": "stream",
     "text": [
      "\r",
      " 60%|███████████████████████████                  | 3/5 [00:01<00:01,  1.76it/s]"
     ]
    },
    {
     "name": "stdout",
     "output_type": "stream",
     "text": [
      "(1000, 2)\n",
      "(2,)\n",
      "(1000, 2)\n",
      "(2,)\n"
     ]
    },
    {
     "name": "stderr",
     "output_type": "stream",
     "text": [
      "\r",
      " 80%|████████████████████████████████████         | 4/5 [00:02<00:00,  1.84it/s]"
     ]
    },
    {
     "name": "stdout",
     "output_type": "stream",
     "text": [
      "(1000, 2)\n",
      "(2,)\n",
      "(1000, 2)\n",
      "(2,)\n"
     ]
    },
    {
     "name": "stderr",
     "output_type": "stream",
     "text": [
      "100%|█████████████████████████████████████████████| 5/5 [00:02<00:00,  1.77it/s]\n"
     ]
    },
    {
     "name": "stdout",
     "output_type": "stream",
     "text": [
      "Median val_loss: 9.154770851135254, std val_loss 0.5022189818073809\n",
      "Median train_loss: 0.26949626207351685, std train_loss 0.01640698254488233\n",
      "Median val_mee: 3.6643033027648926, std val_mee 0.07933678278025558\n",
      "Median train_mee: 0.5874937772750854, train_mee 0.013435995630332589\n",
      "\n",
      "\n",
      "\n",
      "Testing configuration 11/24:\n",
      "{'regularization': 0.1, 'initialization': {'type': 'normal', 'mean': 0, 'std': 1}, 'trials_train': 5, 'trials_test': 10, 'activations_1': 'tanh', 'units_1': 1000}\n"
     ]
    },
    {
     "name": "stderr",
     "output_type": "stream",
     "text": [
      "\r",
      "  0%|                                                     | 0/5 [00:00<?, ?it/s]"
     ]
    },
    {
     "name": "stdout",
     "output_type": "stream",
     "text": [
      "(1000, 2)\n",
      "(2,)\n",
      "(1000, 2)\n",
      "(2,)\n"
     ]
    },
    {
     "name": "stderr",
     "output_type": "stream",
     "text": [
      "\r",
      " 20%|█████████                                    | 1/5 [00:00<00:02,  1.79it/s]"
     ]
    },
    {
     "name": "stdout",
     "output_type": "stream",
     "text": [
      "(1000, 2)\n",
      "(2,)\n",
      "(1000, 2)\n",
      "(2,)\n"
     ]
    },
    {
     "name": "stderr",
     "output_type": "stream",
     "text": [
      "\r",
      " 40%|██████████████████                           | 2/5 [00:01<00:01,  1.73it/s]"
     ]
    },
    {
     "name": "stdout",
     "output_type": "stream",
     "text": [
      "(1000, 2)\n",
      "(2,)\n",
      "(1000, 2)\n",
      "(2,)\n"
     ]
    },
    {
     "name": "stderr",
     "output_type": "stream",
     "text": [
      "\r",
      " 60%|███████████████████████████                  | 3/5 [00:01<00:01,  1.79it/s]"
     ]
    },
    {
     "name": "stdout",
     "output_type": "stream",
     "text": [
      "(1000, 2)\n",
      "(2,)\n",
      "(1000, 2)\n",
      "(2,)\n"
     ]
    },
    {
     "name": "stderr",
     "output_type": "stream",
     "text": [
      "\r",
      " 80%|████████████████████████████████████         | 4/5 [00:02<00:00,  1.85it/s]"
     ]
    },
    {
     "name": "stdout",
     "output_type": "stream",
     "text": [
      "(1000, 2)\n",
      "(2,)\n",
      "(1000, 2)\n",
      "(2,)\n"
     ]
    },
    {
     "name": "stderr",
     "output_type": "stream",
     "text": [
      "100%|█████████████████████████████████████████████| 5/5 [00:03<00:00,  1.64it/s]\n"
     ]
    },
    {
     "name": "stdout",
     "output_type": "stream",
     "text": [
      "Median val_loss: 9.519638061523438, std val_loss 0.4084628998668183\n",
      "Median train_loss: 0.2816562354564667, std train_loss 0.02020690359509862\n",
      "Median val_mee: 3.4690046310424805, std val_mee 0.07210121768447224\n",
      "Median train_mee: 0.5738695859909058, train_mee 0.01983306013805442\n",
      "\n",
      "\n",
      "\n",
      "Testing configuration 12/24:\n",
      "{'regularization': 0.1, 'initialization': {'type': 'normal', 'mean': 0, 'std': 1}, 'trials_train': 5, 'trials_test': 10, 'activations_1': 'linear', 'units_1': 1000}\n"
     ]
    },
    {
     "name": "stderr",
     "output_type": "stream",
     "text": [
      "\r",
      "  0%|                                                     | 0/5 [00:00<?, ?it/s]"
     ]
    },
    {
     "name": "stdout",
     "output_type": "stream",
     "text": [
      "(1000, 2)\n",
      "(2,)\n",
      "(1000, 2)\n",
      "(2,)\n"
     ]
    },
    {
     "name": "stderr",
     "output_type": "stream",
     "text": [
      "\r",
      " 20%|█████████                                    | 1/5 [00:00<00:02,  1.80it/s]"
     ]
    },
    {
     "name": "stdout",
     "output_type": "stream",
     "text": [
      "(1000, 2)\n",
      "(2,)\n",
      "(1000, 2)\n",
      "(2,)\n"
     ]
    },
    {
     "name": "stderr",
     "output_type": "stream",
     "text": [
      "\r",
      " 40%|██████████████████                           | 2/5 [00:01<00:02,  1.39it/s]"
     ]
    },
    {
     "name": "stdout",
     "output_type": "stream",
     "text": [
      "(1000, 2)\n",
      "(2,)\n",
      "(1000, 2)\n",
      "(2,)\n"
     ]
    },
    {
     "name": "stderr",
     "output_type": "stream",
     "text": [
      "\r",
      " 60%|███████████████████████████                  | 3/5 [00:01<00:01,  1.59it/s]"
     ]
    },
    {
     "name": "stdout",
     "output_type": "stream",
     "text": [
      "(1000, 2)\n",
      "(2,)\n",
      "(1000, 2)\n",
      "(2,)\n"
     ]
    },
    {
     "name": "stderr",
     "output_type": "stream",
     "text": [
      "\r",
      " 80%|████████████████████████████████████         | 4/5 [00:02<00:00,  1.71it/s]"
     ]
    },
    {
     "name": "stdout",
     "output_type": "stream",
     "text": [
      "(1000, 2)\n",
      "(2,)\n",
      "(1000, 2)\n",
      "(2,)\n"
     ]
    },
    {
     "name": "stderr",
     "output_type": "stream",
     "text": [
      "100%|█████████████████████████████████████████████| 5/5 [00:02<00:00,  1.71it/s]\n"
     ]
    },
    {
     "name": "stdout",
     "output_type": "stream",
     "text": [
      "Median val_loss: 2.870830535888672, std val_loss 9.5367431640625e-08\n",
      "Median train_loss: 3.0241425037384033, std train_loss 1.1680077279964343e-07\n",
      "Median val_mee: 2.070396661758423, std val_mee 1.1680077279964343e-07\n",
      "Median train_mee: 2.1463515758514404, train_mee 0.0\n",
      "\n",
      "\n",
      "\n",
      "Testing configuration 13/24:\n",
      "{'regularization': 1, 'initialization': {'type': 'normal', 'mean': 0, 'std': 1}, 'trials_train': 5, 'trials_test': 10, 'activations_1': 'relu', 'units_1': 1000}\n"
     ]
    },
    {
     "name": "stderr",
     "output_type": "stream",
     "text": [
      "\r",
      "  0%|                                                     | 0/5 [00:00<?, ?it/s]"
     ]
    },
    {
     "name": "stdout",
     "output_type": "stream",
     "text": [
      "(1000, 2)\n",
      "(2,)\n",
      "(1000, 2)\n",
      "(2,)\n"
     ]
    },
    {
     "name": "stderr",
     "output_type": "stream",
     "text": [
      "\r",
      " 20%|█████████                                    | 1/5 [00:00<00:02,  1.80it/s]"
     ]
    },
    {
     "name": "stdout",
     "output_type": "stream",
     "text": [
      "(1000, 2)\n",
      "(2,)\n",
      "(1000, 2)\n",
      "(2,)\n"
     ]
    },
    {
     "name": "stderr",
     "output_type": "stream",
     "text": [
      "\r",
      " 40%|██████████████████                           | 2/5 [00:01<00:01,  1.65it/s]"
     ]
    },
    {
     "name": "stdout",
     "output_type": "stream",
     "text": [
      "(1000, 2)\n",
      "(2,)\n",
      "(1000, 2)\n",
      "(2,)\n"
     ]
    },
    {
     "name": "stderr",
     "output_type": "stream",
     "text": [
      "\r",
      " 60%|███████████████████████████                  | 3/5 [00:01<00:01,  1.76it/s]"
     ]
    },
    {
     "name": "stdout",
     "output_type": "stream",
     "text": [
      "(1000, 2)\n",
      "(2,)\n",
      "(1000, 2)\n",
      "(2,)\n"
     ]
    },
    {
     "name": "stderr",
     "output_type": "stream",
     "text": [
      "\r",
      " 80%|████████████████████████████████████         | 4/5 [00:02<00:00,  1.82it/s]"
     ]
    },
    {
     "name": "stdout",
     "output_type": "stream",
     "text": [
      "(1000, 2)\n",
      "(2,)\n",
      "(1000, 2)\n",
      "(2,)\n"
     ]
    },
    {
     "name": "stderr",
     "output_type": "stream",
     "text": [
      "100%|█████████████████████████████████████████████| 5/5 [00:02<00:00,  1.79it/s]\n"
     ]
    },
    {
     "name": "stdout",
     "output_type": "stream",
     "text": [
      "Median val_loss: 4.015085220336914, std val_loss 0.1744973007090918\n",
      "Median train_loss: 0.5991076827049255, std train_loss 0.012306768831265935\n",
      "Median val_mee: 2.387535810470581, std val_mee 0.054386104410237425\n",
      "Median train_mee: 0.8689489960670471, train_mee 0.013321899271726272\n",
      "\n",
      "\n",
      "\n",
      "Testing configuration 14/24:\n",
      "{'regularization': 1, 'initialization': {'type': 'normal', 'mean': 0, 'std': 1}, 'trials_train': 5, 'trials_test': 10, 'activations_1': 'tanh', 'units_1': 1000}\n"
     ]
    },
    {
     "name": "stderr",
     "output_type": "stream",
     "text": [
      "\r",
      "  0%|                                                     | 0/5 [00:00<?, ?it/s]"
     ]
    },
    {
     "name": "stdout",
     "output_type": "stream",
     "text": [
      "(1000, 2)\n",
      "(2,)\n",
      "(1000, 2)\n",
      "(2,)\n"
     ]
    },
    {
     "name": "stderr",
     "output_type": "stream",
     "text": [
      "\r",
      " 20%|█████████                                    | 1/5 [00:00<00:02,  1.90it/s]"
     ]
    },
    {
     "name": "stdout",
     "output_type": "stream",
     "text": [
      "(1000, 2)\n",
      "(2,)\n",
      "(1000, 2)\n",
      "(2,)\n"
     ]
    },
    {
     "name": "stderr",
     "output_type": "stream",
     "text": [
      "\r",
      " 40%|██████████████████                           | 2/5 [00:01<00:01,  1.86it/s]"
     ]
    },
    {
     "name": "stdout",
     "output_type": "stream",
     "text": [
      "(1000, 2)\n",
      "(2,)\n",
      "(1000, 2)\n",
      "(2,)\n"
     ]
    },
    {
     "name": "stderr",
     "output_type": "stream",
     "text": [
      "\r",
      " 60%|███████████████████████████                  | 3/5 [00:01<00:01,  1.86it/s]"
     ]
    },
    {
     "name": "stdout",
     "output_type": "stream",
     "text": [
      "(1000, 2)\n",
      "(2,)\n",
      "(1000, 2)\n",
      "(2,)\n"
     ]
    },
    {
     "name": "stderr",
     "output_type": "stream",
     "text": [
      "\r",
      " 80%|████████████████████████████████████         | 4/5 [00:02<00:00,  1.91it/s]"
     ]
    },
    {
     "name": "stdout",
     "output_type": "stream",
     "text": [
      "(1000, 2)\n",
      "(2,)\n",
      "(1000, 2)\n",
      "(2,)\n"
     ]
    },
    {
     "name": "stderr",
     "output_type": "stream",
     "text": [
      "100%|█████████████████████████████████████████████| 5/5 [00:02<00:00,  1.90it/s]\n"
     ]
    },
    {
     "name": "stdout",
     "output_type": "stream",
     "text": [
      "Median val_loss: 3.709083080291748, std val_loss 0.18872509395865614\n",
      "Median train_loss: 0.5161562561988831, std train_loss 0.013317527781810726\n",
      "Median val_mee: 2.308523178100586, std val_mee 0.0425059000538589\n",
      "Median train_mee: 0.7961961627006531, train_mee 0.012185523801638296\n",
      "\n",
      "\n",
      "\n",
      "Testing configuration 15/24:\n",
      "{'regularization': 1, 'initialization': {'type': 'normal', 'mean': 0, 'std': 1}, 'trials_train': 5, 'trials_test': 10, 'activations_1': 'linear', 'units_1': 1000}\n"
     ]
    },
    {
     "name": "stderr",
     "output_type": "stream",
     "text": [
      "\r",
      "  0%|                                                     | 0/5 [00:00<?, ?it/s]"
     ]
    },
    {
     "name": "stdout",
     "output_type": "stream",
     "text": [
      "(1000, 2)\n",
      "(2,)\n",
      "(1000, 2)\n",
      "(2,)\n"
     ]
    },
    {
     "name": "stderr",
     "output_type": "stream",
     "text": [
      "\r",
      " 20%|█████████                                    | 1/5 [00:00<00:02,  1.89it/s]"
     ]
    },
    {
     "name": "stdout",
     "output_type": "stream",
     "text": [
      "(1000, 2)\n",
      "(2,)\n",
      "(1000, 2)\n",
      "(2,)\n"
     ]
    },
    {
     "name": "stderr",
     "output_type": "stream",
     "text": [
      "\r",
      " 40%|██████████████████                           | 2/5 [00:01<00:01,  1.87it/s]"
     ]
    },
    {
     "name": "stdout",
     "output_type": "stream",
     "text": [
      "(1000, 2)\n",
      "(2,)\n",
      "(1000, 2)\n",
      "(2,)\n"
     ]
    },
    {
     "name": "stderr",
     "output_type": "stream",
     "text": [
      "\r",
      " 60%|███████████████████████████                  | 3/5 [00:01<00:01,  1.84it/s]"
     ]
    },
    {
     "name": "stdout",
     "output_type": "stream",
     "text": [
      "(1000, 2)\n",
      "(2,)\n",
      "(1000, 2)\n",
      "(2,)\n"
     ]
    },
    {
     "name": "stderr",
     "output_type": "stream",
     "text": [
      "\r",
      " 80%|████████████████████████████████████         | 4/5 [00:02<00:00,  1.79it/s]"
     ]
    },
    {
     "name": "stdout",
     "output_type": "stream",
     "text": [
      "(1000, 2)\n",
      "(2,)\n",
      "(1000, 2)\n",
      "(2,)\n"
     ]
    },
    {
     "name": "stderr",
     "output_type": "stream",
     "text": [
      "100%|█████████████████████████████████████████████| 5/5 [00:02<00:00,  1.83it/s]\n"
     ]
    },
    {
     "name": "stdout",
     "output_type": "stream",
     "text": [
      "Median val_loss: 2.868818998336792, std val_loss 2.132480599880018e-07\n",
      "Median train_loss: 3.0283308029174805, std train_loss 1.5078914929239175e-07\n",
      "Median val_mee: 2.0701489448547363, std val_mee 9.536743164062499e-08\n",
      "Median train_mee: 2.1510891914367676, train_mee 0.0\n",
      "\n",
      "\n",
      "\n",
      "Testing configuration 16/24:\n",
      "{'regularization': 10, 'initialization': {'type': 'normal', 'mean': 0, 'std': 1}, 'trials_train': 5, 'trials_test': 10, 'activations_1': 'relu', 'units_1': 1000}\n"
     ]
    },
    {
     "name": "stderr",
     "output_type": "stream",
     "text": [
      "\r",
      "  0%|                                                     | 0/5 [00:00<?, ?it/s]"
     ]
    },
    {
     "name": "stdout",
     "output_type": "stream",
     "text": [
      "(1000, 2)\n",
      "(2,)\n",
      "(1000, 2)\n",
      "(2,)\n"
     ]
    },
    {
     "name": "stderr",
     "output_type": "stream",
     "text": [
      "\r",
      " 20%|█████████                                    | 1/5 [00:00<00:02,  1.98it/s]"
     ]
    },
    {
     "name": "stdout",
     "output_type": "stream",
     "text": [
      "(1000, 2)\n",
      "(2,)\n",
      "(1000, 2)\n",
      "(2,)\n"
     ]
    },
    {
     "name": "stderr",
     "output_type": "stream",
     "text": [
      "\r",
      " 40%|██████████████████                           | 2/5 [00:01<00:01,  1.94it/s]"
     ]
    },
    {
     "name": "stdout",
     "output_type": "stream",
     "text": [
      "(1000, 2)\n",
      "(2,)\n",
      "(1000, 2)\n",
      "(2,)\n"
     ]
    },
    {
     "name": "stderr",
     "output_type": "stream",
     "text": [
      "\r",
      " 60%|███████████████████████████                  | 3/5 [00:01<00:01,  1.78it/s]"
     ]
    },
    {
     "name": "stdout",
     "output_type": "stream",
     "text": [
      "(1000, 2)\n",
      "(2,)\n",
      "(1000, 2)\n",
      "(2,)\n"
     ]
    },
    {
     "name": "stderr",
     "output_type": "stream",
     "text": [
      "\r",
      " 80%|████████████████████████████████████         | 4/5 [00:02<00:00,  1.83it/s]"
     ]
    },
    {
     "name": "stdout",
     "output_type": "stream",
     "text": [
      "(1000, 2)\n",
      "(2,)\n",
      "(1000, 2)\n",
      "(2,)\n"
     ]
    },
    {
     "name": "stderr",
     "output_type": "stream",
     "text": [
      "100%|█████████████████████████████████████████████| 5/5 [00:02<00:00,  1.86it/s]\n"
     ]
    },
    {
     "name": "stdout",
     "output_type": "stream",
     "text": [
      "Median val_loss: 4.504817008972168, std val_loss 0.14225013467233613\n",
      "Median train_loss: 1.8701733350753784, std train_loss 0.01712696492812772\n",
      "Median val_mee: 2.5599780082702637, std val_mee 0.04802521639512446\n",
      "Median train_mee: 1.572056531906128, train_mee 0.008767037271958012\n",
      "\n",
      "\n",
      "\n",
      "Testing configuration 17/24:\n",
      "{'regularization': 10, 'initialization': {'type': 'normal', 'mean': 0, 'std': 1}, 'trials_train': 5, 'trials_test': 10, 'activations_1': 'tanh', 'units_1': 1000}\n"
     ]
    },
    {
     "name": "stderr",
     "output_type": "stream",
     "text": [
      "\r",
      "  0%|                                                     | 0/5 [00:00<?, ?it/s]"
     ]
    },
    {
     "name": "stdout",
     "output_type": "stream",
     "text": [
      "(1000, 2)\n",
      "(2,)\n",
      "(1000, 2)\n",
      "(2,)\n"
     ]
    },
    {
     "name": "stderr",
     "output_type": "stream",
     "text": [
      "\r",
      " 20%|█████████                                    | 1/5 [00:00<00:02,  1.92it/s]"
     ]
    },
    {
     "name": "stdout",
     "output_type": "stream",
     "text": [
      "(1000, 2)\n",
      "(2,)\n",
      "(1000, 2)\n",
      "(2,)\n"
     ]
    },
    {
     "name": "stderr",
     "output_type": "stream",
     "text": [
      "\r",
      " 40%|██████████████████                           | 2/5 [00:01<00:01,  1.97it/s]"
     ]
    },
    {
     "name": "stdout",
     "output_type": "stream",
     "text": [
      "(1000, 2)\n",
      "(2,)\n",
      "(1000, 2)\n",
      "(2,)\n"
     ]
    },
    {
     "name": "stderr",
     "output_type": "stream",
     "text": [
      "\r",
      " 60%|███████████████████████████                  | 3/5 [00:01<00:01,  1.85it/s]"
     ]
    },
    {
     "name": "stdout",
     "output_type": "stream",
     "text": [
      "(1000, 2)\n",
      "(2,)\n",
      "(1000, 2)\n",
      "(2,)\n"
     ]
    },
    {
     "name": "stderr",
     "output_type": "stream",
     "text": [
      "\r",
      " 80%|████████████████████████████████████         | 4/5 [00:02<00:00,  1.85it/s]"
     ]
    },
    {
     "name": "stdout",
     "output_type": "stream",
     "text": [
      "(1000, 2)\n",
      "(2,)\n",
      "(1000, 2)\n",
      "(2,)\n"
     ]
    },
    {
     "name": "stderr",
     "output_type": "stream",
     "text": [
      "100%|█████████████████████████████████████████████| 5/5 [00:02<00:00,  1.88it/s]\n"
     ]
    },
    {
     "name": "stdout",
     "output_type": "stream",
     "text": [
      "Median val_loss: 3.6327428817749023, std val_loss 0.22532344268059862\n",
      "Median train_loss: 1.3453543186187744, std train_loss 0.009314607085517509\n",
      "Median val_mee: 2.146918773651123, std val_mee 0.053638645653486826\n",
      "Median train_mee: 1.2878814935684204, train_mee 0.004036502133296521\n",
      "\n",
      "\n",
      "\n",
      "Testing configuration 18/24:\n",
      "{'regularization': 10, 'initialization': {'type': 'normal', 'mean': 0, 'std': 1}, 'trials_train': 5, 'trials_test': 10, 'activations_1': 'linear', 'units_1': 1000}\n"
     ]
    },
    {
     "name": "stderr",
     "output_type": "stream",
     "text": [
      "\r",
      "  0%|                                                     | 0/5 [00:00<?, ?it/s]"
     ]
    },
    {
     "name": "stdout",
     "output_type": "stream",
     "text": [
      "(1000, 2)\n",
      "(2,)\n",
      "(1000, 2)\n",
      "(2,)\n"
     ]
    },
    {
     "name": "stderr",
     "output_type": "stream",
     "text": [
      "\r",
      " 20%|█████████                                    | 1/5 [00:00<00:01,  2.02it/s]"
     ]
    },
    {
     "name": "stdout",
     "output_type": "stream",
     "text": [
      "(1000, 2)\n",
      "(2,)\n",
      "(1000, 2)\n",
      "(2,)\n"
     ]
    },
    {
     "name": "stderr",
     "output_type": "stream",
     "text": [
      "\r",
      " 40%|██████████████████                           | 2/5 [00:00<00:01,  2.05it/s]"
     ]
    },
    {
     "name": "stdout",
     "output_type": "stream",
     "text": [
      "(1000, 2)\n",
      "(2,)\n",
      "(1000, 2)\n",
      "(2,)\n"
     ]
    },
    {
     "name": "stderr",
     "output_type": "stream",
     "text": [
      "\r",
      " 60%|███████████████████████████                  | 3/5 [00:01<00:00,  2.07it/s]"
     ]
    },
    {
     "name": "stdout",
     "output_type": "stream",
     "text": [
      "(1000, 2)\n",
      "(2,)\n",
      "(1000, 2)\n",
      "(2,)\n"
     ]
    },
    {
     "name": "stderr",
     "output_type": "stream",
     "text": [
      "\r",
      " 80%|████████████████████████████████████         | 4/5 [00:01<00:00,  2.05it/s]"
     ]
    },
    {
     "name": "stdout",
     "output_type": "stream",
     "text": [
      "(1000, 2)\n",
      "(2,)\n",
      "(1000, 2)\n",
      "(2,)\n"
     ]
    },
    {
     "name": "stderr",
     "output_type": "stream",
     "text": [
      "100%|█████████████████████████████████████████████| 5/5 [00:02<00:00,  2.03it/s]\n"
     ]
    },
    {
     "name": "stdout",
     "output_type": "stream",
     "text": [
      "Median val_loss: 3.104201555252075, std val_loss 1.8857688840184395e-06\n",
      "Median train_loss: 3.217853546142578, std train_loss 1.4588411846903187e-06\n",
      "Median val_mee: 2.205733060836792, std val_mee 8.58306884765625e-07\n",
      "Median train_mee: 2.2037010192871094, train_mee 3.8738433859996607e-07\n",
      "\n",
      "\n",
      "\n",
      "Testing configuration 19/24:\n",
      "{'regularization': 100, 'initialization': {'type': 'normal', 'mean': 0, 'std': 1}, 'trials_train': 5, 'trials_test': 10, 'activations_1': 'relu', 'units_1': 1000}\n"
     ]
    },
    {
     "name": "stderr",
     "output_type": "stream",
     "text": [
      "\r",
      "  0%|                                                     | 0/5 [00:00<?, ?it/s]"
     ]
    },
    {
     "name": "stdout",
     "output_type": "stream",
     "text": [
      "(1000, 2)\n",
      "(2,)\n",
      "(1000, 2)\n",
      "(2,)\n"
     ]
    },
    {
     "name": "stderr",
     "output_type": "stream",
     "text": [
      "\r",
      " 20%|█████████                                    | 1/5 [00:00<00:02,  1.91it/s]"
     ]
    },
    {
     "name": "stdout",
     "output_type": "stream",
     "text": [
      "(1000, 2)\n",
      "(2,)\n",
      "(1000, 2)\n",
      "(2,)\n"
     ]
    },
    {
     "name": "stderr",
     "output_type": "stream",
     "text": [
      "\r",
      " 40%|██████████████████                           | 2/5 [00:01<00:01,  1.86it/s]"
     ]
    },
    {
     "name": "stdout",
     "output_type": "stream",
     "text": [
      "(1000, 2)\n",
      "(2,)\n",
      "(1000, 2)\n",
      "(2,)\n"
     ]
    },
    {
     "name": "stderr",
     "output_type": "stream",
     "text": [
      "\r",
      " 60%|███████████████████████████                  | 3/5 [00:01<00:01,  1.78it/s]"
     ]
    },
    {
     "name": "stdout",
     "output_type": "stream",
     "text": [
      "(1000, 2)\n",
      "(2,)\n",
      "(1000, 2)\n",
      "(2,)\n"
     ]
    },
    {
     "name": "stderr",
     "output_type": "stream",
     "text": [
      "\r",
      " 80%|████████████████████████████████████         | 4/5 [00:02<00:00,  1.77it/s]"
     ]
    },
    {
     "name": "stdout",
     "output_type": "stream",
     "text": [
      "(1000, 2)\n",
      "(2,)\n",
      "(1000, 2)\n",
      "(2,)\n"
     ]
    },
    {
     "name": "stderr",
     "output_type": "stream",
     "text": [
      "100%|█████████████████████████████████████████████| 5/5 [00:02<00:00,  1.82it/s]\n"
     ]
    },
    {
     "name": "stdout",
     "output_type": "stream",
     "text": [
      "Median val_loss: 9.168739318847656, std val_loss 0.1638412913931898\n",
      "Median train_loss: 5.174248695373535, std train_loss 0.02752568561782432\n",
      "Median val_mee: 3.5145184993743896, std val_mee 0.0286859912207082\n",
      "Median train_mee: 2.6157619953155518, train_mee 0.012609171466307405\n",
      "\n",
      "\n",
      "\n",
      "Testing configuration 20/24:\n",
      "{'regularization': 100, 'initialization': {'type': 'normal', 'mean': 0, 'std': 1}, 'trials_train': 5, 'trials_test': 10, 'activations_1': 'tanh', 'units_1': 1000}\n"
     ]
    },
    {
     "name": "stderr",
     "output_type": "stream",
     "text": [
      "\r",
      "  0%|                                                     | 0/5 [00:00<?, ?it/s]"
     ]
    },
    {
     "name": "stdout",
     "output_type": "stream",
     "text": [
      "(1000, 2)\n",
      "(2,)\n",
      "(1000, 2)\n",
      "(2,)\n"
     ]
    },
    {
     "name": "stderr",
     "output_type": "stream",
     "text": [
      "\r",
      " 20%|█████████                                    | 1/5 [00:00<00:02,  1.67it/s]"
     ]
    },
    {
     "name": "stdout",
     "output_type": "stream",
     "text": [
      "(1000, 2)\n",
      "(2,)\n",
      "(1000, 2)\n",
      "(2,)\n"
     ]
    },
    {
     "name": "stderr",
     "output_type": "stream",
     "text": [
      "\r",
      " 40%|██████████████████                           | 2/5 [00:01<00:01,  1.70it/s]"
     ]
    },
    {
     "name": "stdout",
     "output_type": "stream",
     "text": [
      "(1000, 2)\n",
      "(2,)\n",
      "(1000, 2)\n",
      "(2,)\n"
     ]
    },
    {
     "name": "stderr",
     "output_type": "stream",
     "text": [
      "\r",
      " 60%|███████████████████████████                  | 3/5 [00:01<00:01,  1.62it/s]"
     ]
    },
    {
     "name": "stdout",
     "output_type": "stream",
     "text": [
      "(1000, 2)\n",
      "(2,)\n",
      "(1000, 2)\n",
      "(2,)\n"
     ]
    },
    {
     "name": "stderr",
     "output_type": "stream",
     "text": [
      "\r",
      " 80%|████████████████████████████████████         | 4/5 [00:02<00:00,  1.61it/s]"
     ]
    },
    {
     "name": "stdout",
     "output_type": "stream",
     "text": [
      "(1000, 2)\n",
      "(2,)\n",
      "(1000, 2)\n",
      "(2,)\n"
     ]
    },
    {
     "name": "stderr",
     "output_type": "stream",
     "text": [
      "100%|█████████████████████████████████████████████| 5/5 [00:03<00:00,  1.64it/s]\n"
     ]
    },
    {
     "name": "stdout",
     "output_type": "stream",
     "text": [
      "Median val_loss: 11.744529724121094, std val_loss 0.19512068909229982\n",
      "Median train_loss: 7.7960286140441895, std train_loss 0.17452729359118324\n",
      "Median val_mee: 3.311701774597168, std val_mee 0.04685890099563247\n",
      "Median train_mee: 2.69071102142334, train_mee 0.057072505474889436\n",
      "\n",
      "\n",
      "\n",
      "Testing configuration 21/24:\n",
      "{'regularization': 100, 'initialization': {'type': 'normal', 'mean': 0, 'std': 1}, 'trials_train': 5, 'trials_test': 10, 'activations_1': 'linear', 'units_1': 1000}\n"
     ]
    },
    {
     "name": "stderr",
     "output_type": "stream",
     "text": [
      "\r",
      "  0%|                                                     | 0/5 [00:00<?, ?it/s]"
     ]
    },
    {
     "name": "stdout",
     "output_type": "stream",
     "text": [
      "(1000, 2)\n",
      "(2,)\n",
      "(1000, 2)\n",
      "(2,)\n"
     ]
    },
    {
     "name": "stderr",
     "output_type": "stream",
     "text": [
      "\r",
      " 20%|█████████                                    | 1/5 [00:00<00:02,  1.62it/s]"
     ]
    },
    {
     "name": "stdout",
     "output_type": "stream",
     "text": [
      "(1000, 2)\n",
      "(2,)\n",
      "(1000, 2)\n",
      "(2,)\n"
     ]
    },
    {
     "name": "stderr",
     "output_type": "stream",
     "text": [
      "\r",
      " 40%|██████████████████                           | 2/5 [00:01<00:01,  1.73it/s]"
     ]
    },
    {
     "name": "stdout",
     "output_type": "stream",
     "text": [
      "(1000, 2)\n",
      "(2,)\n",
      "(1000, 2)\n",
      "(2,)\n"
     ]
    },
    {
     "name": "stderr",
     "output_type": "stream",
     "text": [
      "\r",
      " 60%|███████████████████████████                  | 3/5 [00:01<00:01,  1.65it/s]"
     ]
    },
    {
     "name": "stdout",
     "output_type": "stream",
     "text": [
      "(1000, 2)\n",
      "(2,)\n",
      "(1000, 2)\n",
      "(2,)\n"
     ]
    },
    {
     "name": "stderr",
     "output_type": "stream",
     "text": [
      "\r",
      " 80%|████████████████████████████████████         | 4/5 [00:02<00:00,  1.73it/s]"
     ]
    },
    {
     "name": "stdout",
     "output_type": "stream",
     "text": [
      "(1000, 2)\n",
      "(2,)\n",
      "(1000, 2)\n",
      "(2,)\n"
     ]
    },
    {
     "name": "stderr",
     "output_type": "stream",
     "text": [
      "100%|█████████████████████████████████████████████| 5/5 [00:03<00:00,  1.46it/s]\n"
     ]
    },
    {
     "name": "stdout",
     "output_type": "stream",
     "text": [
      "Median val_loss: 11.148333549499512, std val_loss 0.0001674289273036329\n",
      "Median train_loss: 12.140854835510254, std train_loss 0.00014851180368922364\n",
      "Median val_mee: 3.9308650493621826, std val_mee 2.6858506383113053e-05\n",
      "Median train_mee: 4.127199172973633, train_mee 2.3636120991208326e-05\n",
      "\n",
      "\n",
      "\n",
      "Testing configuration 22/24:\n",
      "{'regularization': 1000, 'initialization': {'type': 'normal', 'mean': 0, 'std': 1}, 'trials_train': 5, 'trials_test': 10, 'activations_1': 'relu', 'units_1': 1000}\n"
     ]
    },
    {
     "name": "stderr",
     "output_type": "stream",
     "text": [
      "\r",
      "  0%|                                                     | 0/5 [00:00<?, ?it/s]"
     ]
    },
    {
     "name": "stdout",
     "output_type": "stream",
     "text": [
      "(1000, 2)\n",
      "(2,)\n",
      "(1000, 2)\n",
      "(2,)\n"
     ]
    },
    {
     "name": "stderr",
     "output_type": "stream",
     "text": [
      "\r",
      " 20%|█████████                                    | 1/5 [00:00<00:02,  1.78it/s]"
     ]
    },
    {
     "name": "stdout",
     "output_type": "stream",
     "text": [
      "(1000, 2)\n",
      "(2,)\n",
      "(1000, 2)\n",
      "(2,)\n"
     ]
    },
    {
     "name": "stderr",
     "output_type": "stream",
     "text": [
      "\r",
      " 40%|██████████████████                           | 2/5 [00:01<00:01,  1.68it/s]"
     ]
    },
    {
     "name": "stdout",
     "output_type": "stream",
     "text": [
      "(1000, 2)\n",
      "(2,)\n",
      "(1000, 2)\n",
      "(2,)\n"
     ]
    },
    {
     "name": "stderr",
     "output_type": "stream",
     "text": [
      "\r",
      " 60%|███████████████████████████                  | 3/5 [00:01<00:01,  1.76it/s]"
     ]
    },
    {
     "name": "stdout",
     "output_type": "stream",
     "text": [
      "(1000, 2)\n",
      "(2,)\n",
      "(1000, 2)\n",
      "(2,)\n"
     ]
    },
    {
     "name": "stderr",
     "output_type": "stream",
     "text": [
      "\r",
      " 80%|████████████████████████████████████         | 4/5 [00:02<00:00,  1.77it/s]"
     ]
    },
    {
     "name": "stdout",
     "output_type": "stream",
     "text": [
      "(1000, 2)\n",
      "(2,)\n",
      "(1000, 2)\n",
      "(2,)\n"
     ]
    },
    {
     "name": "stderr",
     "output_type": "stream",
     "text": [
      "100%|█████████████████████████████████████████████| 5/5 [00:02<00:00,  1.77it/s]\n"
     ]
    },
    {
     "name": "stdout",
     "output_type": "stream",
     "text": [
      "Median val_loss: 9.976186752319336, std val_loss 0.06046737338723979\n",
      "Median train_loss: 7.803955078125, std train_loss 0.038874971131449915\n",
      "Median val_mee: 3.585251808166504, std val_mee 0.012309092364605118\n",
      "Median train_mee: 3.2628912925720215, train_mee 0.004687493587451636\n",
      "\n",
      "\n",
      "\n",
      "Testing configuration 23/24:\n",
      "{'regularization': 1000, 'initialization': {'type': 'normal', 'mean': 0, 'std': 1}, 'trials_train': 5, 'trials_test': 10, 'activations_1': 'tanh', 'units_1': 1000}\n"
     ]
    },
    {
     "name": "stderr",
     "output_type": "stream",
     "text": [
      "\r",
      "  0%|                                                     | 0/5 [00:00<?, ?it/s]"
     ]
    },
    {
     "name": "stdout",
     "output_type": "stream",
     "text": [
      "(1000, 2)\n",
      "(2,)\n",
      "(1000, 2)\n",
      "(2,)\n"
     ]
    },
    {
     "name": "stderr",
     "output_type": "stream",
     "text": [
      "\r",
      " 20%|█████████                                    | 1/5 [00:00<00:02,  1.82it/s]"
     ]
    },
    {
     "name": "stdout",
     "output_type": "stream",
     "text": [
      "(1000, 2)\n",
      "(2,)\n",
      "(1000, 2)\n",
      "(2,)\n"
     ]
    },
    {
     "name": "stderr",
     "output_type": "stream",
     "text": [
      "\r",
      " 40%|██████████████████                           | 2/5 [00:01<00:01,  1.87it/s]"
     ]
    },
    {
     "name": "stdout",
     "output_type": "stream",
     "text": [
      "(1000, 2)\n",
      "(2,)\n",
      "(1000, 2)\n",
      "(2,)\n"
     ]
    },
    {
     "name": "stderr",
     "output_type": "stream",
     "text": [
      "\r",
      " 60%|███████████████████████████                  | 3/5 [00:01<00:01,  1.86it/s]"
     ]
    },
    {
     "name": "stdout",
     "output_type": "stream",
     "text": [
      "(1000, 2)\n",
      "(2,)\n",
      "(1000, 2)\n",
      "(2,)\n"
     ]
    },
    {
     "name": "stderr",
     "output_type": "stream",
     "text": [
      "\r",
      " 80%|████████████████████████████████████         | 4/5 [00:02<00:00,  1.87it/s]"
     ]
    },
    {
     "name": "stdout",
     "output_type": "stream",
     "text": [
      "(1000, 2)\n",
      "(2,)\n",
      "(1000, 2)\n",
      "(2,)\n"
     ]
    },
    {
     "name": "stderr",
     "output_type": "stream",
     "text": [
      "100%|█████████████████████████████████████████████| 5/5 [00:02<00:00,  1.87it/s]\n"
     ]
    },
    {
     "name": "stdout",
     "output_type": "stream",
     "text": [
      "Median val_loss: 35.370113372802734, std val_loss 0.9715749879612512\n",
      "Median train_loss: 26.69832420349121, std train_loss 0.465868957484211\n",
      "Median val_mee: 5.892200469970703, std val_mee 0.107314975312163\n",
      "Median train_mee: 5.254727840423584, train_mee 0.10272322879535391\n",
      "\n",
      "\n",
      "\n",
      "Testing configuration 24/24:\n",
      "{'regularization': 1000, 'initialization': {'type': 'normal', 'mean': 0, 'std': 1}, 'trials_train': 5, 'trials_test': 10, 'activations_1': 'linear', 'units_1': 1000}\n"
     ]
    },
    {
     "name": "stderr",
     "output_type": "stream",
     "text": [
      "\r",
      "  0%|                                                     | 0/5 [00:00<?, ?it/s]"
     ]
    },
    {
     "name": "stdout",
     "output_type": "stream",
     "text": [
      "(1000, 2)\n",
      "(2,)\n",
      "(1000, 2)\n",
      "(2,)\n"
     ]
    },
    {
     "name": "stderr",
     "output_type": "stream",
     "text": [
      "\r",
      " 20%|█████████                                    | 1/5 [00:00<00:02,  1.81it/s]"
     ]
    },
    {
     "name": "stdout",
     "output_type": "stream",
     "text": [
      "(1000, 2)\n",
      "(2,)\n",
      "(1000, 2)\n",
      "(2,)\n"
     ]
    },
    {
     "name": "stderr",
     "output_type": "stream",
     "text": [
      "\r",
      " 40%|██████████████████                           | 2/5 [00:01<00:01,  1.72it/s]"
     ]
    },
    {
     "name": "stdout",
     "output_type": "stream",
     "text": [
      "(1000, 2)\n",
      "(2,)\n",
      "(1000, 2)\n",
      "(2,)\n"
     ]
    },
    {
     "name": "stderr",
     "output_type": "stream",
     "text": [
      "\r",
      " 60%|███████████████████████████                  | 3/5 [00:01<00:01,  1.78it/s]"
     ]
    },
    {
     "name": "stdout",
     "output_type": "stream",
     "text": [
      "(1000, 2)\n",
      "(2,)\n",
      "(1000, 2)\n",
      "(2,)\n"
     ]
    },
    {
     "name": "stderr",
     "output_type": "stream",
     "text": [
      "\r",
      " 80%|████████████████████████████████████         | 4/5 [00:02<00:00,  1.69it/s]"
     ]
    },
    {
     "name": "stdout",
     "output_type": "stream",
     "text": [
      "(1000, 2)\n",
      "(2,)\n",
      "(1000, 2)\n",
      "(2,)\n"
     ]
    },
    {
     "name": "stderr",
     "output_type": "stream",
     "text": [
      "100%|█████████████████████████████████████████████| 5/5 [00:02<00:00,  1.72it/s]\n"
     ]
    },
    {
     "name": "stdout",
     "output_type": "stream",
     "text": [
      "Median val_loss: 45.56586837768555, std val_loss 0.001382980916979652\n",
      "Median train_loss: 51.337135314941406, std train_loss 0.0018932209940624191\n",
      "Median val_mee: 7.60689640045166, std val_mee 0.0002646177295388932\n",
      "Median train_mee: 8.143728256225586, train_mee 0.00016533159360416483\n",
      "\n",
      "\n",
      "\n",
      "\n",
      "\n",
      "\n",
      "Best configuration (loss 2.868818998336792):\n",
      "{'regularization': 1, 'initialization': {'type': 'normal', 'mean': 0, 'std': 1}, 'trials_train': 5, 'trials_test': 10, 'activations_1': 'linear', 'units_1': 1000}\n"
     ]
    },
    {
     "name": "stderr",
     "output_type": "stream",
     "text": [
      "\r",
      "  0%|                                                    | 0/10 [00:00<?, ?it/s]"
     ]
    },
    {
     "name": "stdout",
     "output_type": "stream",
     "text": [
      "(1000, 2)\n",
      "(2,)\n",
      "(1000, 2)\n",
      "(2,)\n"
     ]
    },
    {
     "name": "stderr",
     "output_type": "stream",
     "text": [
      "\r",
      " 10%|████▍                                       | 1/10 [00:00<00:05,  1.64it/s]"
     ]
    },
    {
     "name": "stdout",
     "output_type": "stream",
     "text": [
      "Trial 1/10 test_loss: 3.2435905933380127\n",
      "Trial 1/10 train_loss: 2.990126132965088\n",
      "Trial 1/10 val_mee: 2.224626064300537\n",
      "Trial 1/10 train_mee: 2.130424737930298\n",
      "(1000, 2)\n",
      "(2,)\n",
      "(1000, 2)\n",
      "(2,)\n"
     ]
    },
    {
     "name": "stderr",
     "output_type": "stream",
     "text": [
      "\r",
      " 20%|████████▊                                   | 2/10 [00:01<00:04,  1.81it/s]"
     ]
    },
    {
     "name": "stdout",
     "output_type": "stream",
     "text": [
      "Trial 2/10 test_loss: 3.243590831756592\n",
      "Trial 2/10 train_loss: 2.9901256561279297\n",
      "Trial 2/10 val_mee: 2.224626302719116\n",
      "Trial 2/10 train_mee: 2.130424737930298\n",
      "(1000, 2)\n",
      "(2,)\n",
      "(1000, 2)\n",
      "(2,)\n"
     ]
    },
    {
     "name": "stderr",
     "output_type": "stream",
     "text": [
      "\r",
      " 30%|█████████████▏                              | 3/10 [00:01<00:03,  1.77it/s]"
     ]
    },
    {
     "name": "stdout",
     "output_type": "stream",
     "text": [
      "Trial 3/10 test_loss: 3.243590831756592\n",
      "Trial 3/10 train_loss: 2.990126132965088\n",
      "Trial 3/10 val_mee: 2.224626302719116\n",
      "Trial 3/10 train_mee: 2.130424976348877\n",
      "(1000, 2)\n",
      "(2,)\n",
      "(1000, 2)\n",
      "(2,)\n"
     ]
    },
    {
     "name": "stderr",
     "output_type": "stream",
     "text": [
      "\r",
      " 40%|█████████████████▌                          | 4/10 [00:02<00:03,  1.83it/s]"
     ]
    },
    {
     "name": "stdout",
     "output_type": "stream",
     "text": [
      "Trial 4/10 test_loss: 3.2435905933380127\n",
      "Trial 4/10 train_loss: 2.990125894546509\n",
      "Trial 4/10 val_mee: 2.224626064300537\n",
      "Trial 4/10 train_mee: 2.130424737930298\n",
      "(1000, 2)\n",
      "(2,)\n",
      "(1000, 2)\n",
      "(2,)\n"
     ]
    },
    {
     "name": "stderr",
     "output_type": "stream",
     "text": [
      "\r",
      " 50%|██████████████████████                      | 5/10 [00:02<00:03,  1.65it/s]"
     ]
    },
    {
     "name": "stdout",
     "output_type": "stream",
     "text": [
      "Trial 5/10 test_loss: 3.243591070175171\n",
      "Trial 5/10 train_loss: 2.990125894546509\n",
      "Trial 5/10 val_mee: 2.224626302719116\n",
      "Trial 5/10 train_mee: 2.130424976348877\n",
      "(1000, 2)\n",
      "(2,)\n",
      "(1000, 2)\n",
      "(2,)\n"
     ]
    },
    {
     "name": "stderr",
     "output_type": "stream",
     "text": [
      "\r",
      " 60%|██████████████████████████▍                 | 6/10 [00:03<00:02,  1.61it/s]"
     ]
    },
    {
     "name": "stdout",
     "output_type": "stream",
     "text": [
      "Trial 6/10 test_loss: 3.2435905933380127\n",
      "Trial 6/10 train_loss: 2.990125894546509\n",
      "Trial 6/10 val_mee: 2.224626302719116\n",
      "Trial 6/10 train_mee: 2.130424976348877\n",
      "(1000, 2)\n",
      "(2,)\n",
      "(1000, 2)\n",
      "(2,)\n"
     ]
    },
    {
     "name": "stderr",
     "output_type": "stream",
     "text": [
      "\r",
      " 70%|██████████████████████████████▊             | 7/10 [00:04<00:01,  1.60it/s]"
     ]
    },
    {
     "name": "stdout",
     "output_type": "stream",
     "text": [
      "Trial 7/10 test_loss: 3.2435905933380127\n",
      "Trial 7/10 train_loss: 2.990126371383667\n",
      "Trial 7/10 val_mee: 2.224626064300537\n",
      "Trial 7/10 train_mee: 2.130424737930298\n",
      "(1000, 2)\n",
      "(2,)\n",
      "(1000, 2)\n",
      "(2,)\n"
     ]
    },
    {
     "name": "stderr",
     "output_type": "stream",
     "text": [
      "\r",
      " 80%|███████████████████████████████████▏        | 8/10 [00:04<00:01,  1.62it/s]"
     ]
    },
    {
     "name": "stdout",
     "output_type": "stream",
     "text": [
      "Trial 8/10 test_loss: 3.243590831756592\n",
      "Trial 8/10 train_loss: 2.990125894546509\n",
      "Trial 8/10 val_mee: 2.224626064300537\n",
      "Trial 8/10 train_mee: 2.1304244995117188\n",
      "(1000, 2)\n",
      "(2,)\n",
      "(1000, 2)\n",
      "(2,)\n"
     ]
    },
    {
     "name": "stderr",
     "output_type": "stream",
     "text": [
      "\r",
      " 90%|███████████████████████████████████████▌    | 9/10 [00:05<00:00,  1.60it/s]"
     ]
    },
    {
     "name": "stdout",
     "output_type": "stream",
     "text": [
      "Trial 9/10 test_loss: 3.243591070175171\n",
      "Trial 9/10 train_loss: 2.990126371383667\n",
      "Trial 9/10 val_mee: 2.224626064300537\n",
      "Trial 9/10 train_mee: 2.130424737930298\n",
      "(1000, 2)\n",
      "(2,)\n",
      "(1000, 2)\n",
      "(2,)\n"
     ]
    },
    {
     "name": "stderr",
     "output_type": "stream",
     "text": [
      "100%|███████████████████████████████████████████| 10/10 [00:06<00:00,  1.62it/s]"
     ]
    },
    {
     "name": "stdout",
     "output_type": "stream",
     "text": [
      "Trial 10/10 test_loss: 3.243590831756592\n",
      "Trial 10/10 train_loss: 2.990126132965088\n",
      "Trial 10/10 val_mee: 2.224626064300537\n",
      "Trial 10/10 train_mee: 2.130424737930298\n",
      "\n",
      "Median test_loss: 3.243590831756592, std test_loss 1.7841612752790173e-07\n",
      "Median train_loss: 2.990126132965088, std train_loss 2.1851423716334536e-07\n",
      "Median test_mee: 2.224626302719116, std test_mee 1.1680077279964342e-07\n",
      "Median train_mee: 2.130424976348877, std train_mee 1.430511474609375e-07\n",
      "5/5 [==============================] - 0s 2ms/step - loss: 3.2436 - mee: 2.2246\n",
      "[3.243590831756592, 2.224626302719116]\n"
     ]
    },
    {
     "name": "stderr",
     "output_type": "stream",
     "text": [
      "\n"
     ]
    }
   ],
   "source": [
    "model = grid_search(params, x_train, y_train, hold_out_val, x_test, y_test)\n",
    "test_model(model, x_test, y_test)"
   ]
  },
  {
   "cell_type": "code",
   "execution_count": 54,
   "id": "9a1ce100",
   "metadata": {},
   "outputs": [
    {
     "name": "stdout",
     "output_type": "stream",
     "text": [
      "(1342, 2)\n",
      "(1342, 2)\n",
      "Model: \"sequential_792\"\n",
      "_________________________________________________________________\n",
      " Layer (type)                Output Shape              Param #   \n",
      "=================================================================\n",
      " dense_1587 (Dense)          (None, 1000)              10000     \n",
      "                                                                 \n",
      " dense_1588 (Dense)          (None, 2)                 2002      \n",
      "                                                                 \n",
      "=================================================================\n",
      "Total params: 12,002\n",
      "Trainable params: 2,002\n",
      "Non-trainable params: 10,000\n",
      "_________________________________________________________________\n",
      "(1000, 2)\n",
      "(2,)\n",
      "(1000, 2)\n",
      "(2,)\n",
      "Traing set accuracy\n",
      "42/42 [==============================] - 1s 2ms/step - loss: 1.2642 - mee: 1.2546\n",
      "[1.2641878128051758, 1.254580020904541]\n",
      "\n",
      "Test set accuracy\n",
      "5/5 [==============================] - 0s 3ms/step - loss: 2.9161 - mee: 1.9751\n",
      "[2.9161360263824463, 1.975124478340149]\n"
     ]
    }
   ],
   "source": [
    "input_size = 9\n",
    "output_size = 2\n",
    "\n",
    "conf = {'regularization': 10, 'initialization': {'type': 'normal', 'mean': 0, 'std': 1}, 'trials_train': 5, 'trials_test': 10, 'activations_1': 'tanh', 'units_1': 1000}\n",
    "\n",
    "ELM = get_model(conf, input_size, output_size)# RandomizedNetwork(input_size, output_size, layers, init, 0.1)\n",
    "print(ELM(x_train).shape)\n",
    "print(y_train.shape)\n",
    "optimizer = SGD(learning_rate=0.1, momentum=0.9, nesterov=False)\n",
    "#LM.compile(optimizer = optimizer, loss = 'mean_squared_error', metrics = mee)\n",
    "ELM.summary()\n",
    "\n",
    "ELM.lms_solve(x_train, y_train)\n",
    "print(\"Traing set accuracy\")\n",
    "print(ELM.evaluate(x_train, y_train))\n",
    "\n",
    "print(\"\\nTest set accuracy\")\n",
    "print(ELM.evaluate(x_test, y_test))"
   ]
  },
  {
   "cell_type": "code",
   "execution_count": 55,
   "id": "8763cc51",
   "metadata": {},
   "outputs": [
    {
     "name": "stdout",
     "output_type": "stream",
     "text": [
      "42/42 [==============================] - 0s 2ms/step\n"
     ]
    },
    {
     "data": {
      "image/png": "[encoded data removed]",
      "text/plain": [
       "<Figure size 640x480 with 1 Axes>"
      ]
     },
     "metadata": {},
     "output_type": "display_data"
    }
   ],
   "source": [
    "plt.scatter(y_train[:, 0], y_train[:, 1], label=\"True\")\n",
    "# pred = scaler.inverse_transform(pred)\n",
    "pred = ELM.predict(x_train)\n",
    "plt.scatter(pred[:, 0], pred[:, 1], label = \"Predicted\")\n",
    "plt.legend()\n",
    "plt.show()"
   ]
  },
  {
   "cell_type": "code",
   "execution_count": 56,
   "id": "3d84ed06",
   "metadata": {},
   "outputs": [
    {
     "name": "stdout",
     "output_type": "stream",
     "text": [
      "5/5 [==============================] - 0s 2ms/step\n"
     ]
    },
    {
     "data": {
      "image/png": "[encoded data removed]",
      "text/plain": [
       "<Figure size 640x480 with 1 Axes>"
      ]
     },
     "metadata": {},
     "output_type": "display_data"
    }
   ],
   "source": [
    "plt.scatter(y_test[:, 0], y_test[:, 1], label=\"True\")\n",
    "# pred = scaler.inverse_transform(pred)\n",
    "pred = ELM.predict(x_test)\n",
    "plt.scatter(pred[:, 0], pred[:, 1], label = \"Predicted\")\n",
    "plt.legend()\n",
    "plt.show()"
   ]
  },
  {
   "cell_type": "code",
   "execution_count": 13,
   "id": "28332846",
   "metadata": {},
   "outputs": [
    {
     "name": "stdout",
     "output_type": "stream",
     "text": [
      "4.897737503051758\n",
      "2.652310609817505\n"
     ]
    }
   ],
   "source": [
    "mse_loss, mee_loss  = ELM.evaluate(x_train, y_train, verbose=0)\n",
    "print(mse_loss)\n",
    "print(mee_loss)"
   ]
  },
  {
   "cell_type": "code",
   "execution_count": null,
   "id": "d993f620",
   "metadata": {},
   "outputs": [],
   "source": []
  }
 ],
 "metadata": {
  "kernelspec": {
   "display_name": "mlvenv",
   "language": "python",
   "name": "mlvenv"
  },
  "language_info": {
   "codemirror_mode": {
    "name": "ipython",
    "version": 3
   },
   "file_extension": ".py",
   "mimetype": "text/x-python",
   "name": "python",
   "nbconvert_exporter": "python",
   "pygments_lexer": "ipython3",
   "version": "3.10.6"
  }
 },
 "nbformat": 4,
 "nbformat_minor": 5
}
