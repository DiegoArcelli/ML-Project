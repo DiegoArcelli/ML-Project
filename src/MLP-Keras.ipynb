{
 "cells": [
  {
   "cell_type": "code",
   "execution_count": 95,
   "id": "d37f696d",
   "metadata": {},
   "outputs": [],
   "source": [
    "import warnings\n",
    "warnings.filterwarnings('ignore')\n",
    "from tqdm import tqdm\n",
    "import pandas as pd\n",
    "import numpy as np\n",
    "import tensorflow as tf\n",
    "from sklearn.model_selection import GridSearchCV\n",
    "from tensorflow.keras.models import Sequential\n",
    "from keras.regularizers import l1, l2\n",
    "from tensorflow.keras import initializers\n",
    "from tensorflow.keras.layers import Dense\n",
    "from tensorflow.keras.callbacks import EarlyStopping\n",
    "from scikeras.wrappers import KerasClassifier\n",
    "from sklearn.model_selection import KFold\n",
    "import keras_tuner\n",
    "import keras\n",
    "from keras import layers\n",
    "import itertools\n",
    "from sklearn.model_selection import train_test_split\n",
    "from keras.optimizers import SGD\n",
    "from keras.callbacks import EarlyStopping\n",
    "from keras.callbacks import LearningRateScheduler\n",
    "import matplotlib.pyplot as plt\n",
    "from sklearn.model_selection import KFold, StratifiedKFold\n",
    "from sklearn.preprocessing import OneHotEncoder\n",
    "import keras.backend as K\n",
    "from sklearn.preprocessing import StandardScaler, MinMaxScaler\n",
    "from math import ceil\n",
    "\n",
    "seed = 7\n",
    "tf.random.set_seed(seed)\n",
    "tf.config.run_functions_eagerly(False)"
   ]
  },
  {
   "cell_type": "code",
   "execution_count": 96,
   "id": "6d8327a6",
   "metadata": {},
   "outputs": [],
   "source": [
    "def plot_curves(curve_1, label_1, curve_2=None, label_2=None):\n",
    "    if curve_1 is not None: \n",
    "        plt.plot(curve_1, label = label_1)\n",
    "    if curve_2 is not None: \n",
    "        plt.plot(curve_2, label = label_2)   \n",
    "    plt.legend()\n",
    "    plt.show()"
   ]
  },
  {
   "cell_type": "code",
   "execution_count": 97,
   "id": "d60634f7",
   "metadata": {},
   "outputs": [],
   "source": [
    "scaler = None\n",
    "\n",
    "def load_monks(path, encode):\n",
    "    \n",
    "    train = pd.read_csv(f\"{path}.train\", header=None, sep=\" \")\n",
    "    test = pd.read_csv(f\"{path}.test\", header=None, sep=\" \")\n",
    "    \n",
    "    train.drop(0, axis=1, inplace=True)\n",
    "    test.drop(0, axis=1, inplace=True)\n",
    "    train.drop(8, axis=1, inplace=True)\n",
    "    test.drop(8, axis=1, inplace=True)\n",
    "    \n",
    "    y_train = train.iloc[:, 0].to_numpy().astype(np.float64)\n",
    "    x_train = train.iloc[:, 1:].to_numpy().astype(np.float64)\n",
    "    y_test = test.iloc[:, 0].to_numpy().astype(np.float64)\n",
    "    x_test = test.iloc[:, 1:].to_numpy().astype(np.float64)\n",
    "    \n",
    "        \n",
    "    if encode:\n",
    "        \n",
    "        encoder = OneHotEncoder()\n",
    "        \n",
    "        encoder.fit(x_train)\n",
    "        x_train = encoder.transform(x_train).toarray()\n",
    "        \n",
    "        encoder.fit(x_test)\n",
    "        x_test = encoder.transform(x_test).toarray()\n",
    "        \n",
    "        \n",
    "    \n",
    "    print(f\"Loaded {path} dataset\")\n",
    "    \n",
    "    return x_train, y_train, x_test, y_test\n",
    "    \n",
    "\n",
    "def load_cup(scale):\n",
    "    global scaler\n",
    "    \n",
    "    scaler = StandardScaler()\n",
    "    \n",
    "    train = pd.read_csv(\"../data/ML-CUP22-TR.csv\", header=None, sep=\",\")\n",
    "    test = pd.read_csv(\"../data/ML-CUP22-TS.csv\", header=None, sep=\",\")\n",
    "    train.drop(0, axis=1, inplace=True)\n",
    "    test.drop(0, axis=1, inplace=True)\n",
    "\n",
    "    y_train = train.iloc[:, 9:].to_numpy().astype(np.float64)\n",
    "    x_train = train.iloc[:, :9].to_numpy().astype(np.float64)\n",
    "    x_test = test.to_numpy().astype(np.float64)\n",
    "    \n",
    "    if scale:\n",
    "        # scaler = MinMaxScaler()\n",
    "        x_train = scaler.fit_transform(x_train)\n",
    "        x_test = scaler.fit_transform(x_test)\n",
    "        y_train = scaler.fit_transform(y_train)\n",
    "        \n",
    "    return x_train, y_train, x_test, None\n",
    "    \n",
    "    \n",
    "    \n",
    "def load_dataset(dataset, encode=True):\n",
    "    assert dataset in [\"monks1\", \"monks2\", \"monks3\", \"cup\"]\n",
    "    \n",
    "    if dataset == \"monks1\":\n",
    "        return load_monks(\"./../data/monks-1\", encode)\n",
    "    elif dataset == \"monks2\":\n",
    "        return load_monks(\"./../data/monks-2\", encode)\n",
    "    elif dataset == \"monks3\":\n",
    "        return load_monks(\"./../data/monks-3\", encode)\n",
    "    else:\n",
    "        return load_cup(encode)"
   ]
  },
  {
   "cell_type": "code",
   "execution_count": 98,
   "id": "68a4b4e1",
   "metadata": {},
   "outputs": [],
   "source": [
    "def median_index(array):\n",
    "    n = len(array)\n",
    "    med_idx = np.argsort(array)[ceil((n-1)/2)]\n",
    "    # med_val = array[med_idx]\n",
    "    return med_idx #, med_val\n",
    "\n",
    "def mee(y_true_t, y_pred_t):\n",
    "    '''y_true = y_true_t.numpy()\n",
    "    y_pred = y_pred_t.numpy()\n",
    "    y_true = scaler.inverse_transform(y_true)\n",
    "    y_pred = scaler.inverse_transform(y_pred)\n",
    "    return np.sqrt(np.square(y_true - y_pred).sum(axis=1)).mean()'''\n",
    "    return tf.reduce_mean(tf.sqrt(tf.reduce_sum(tf.square(y_true_t - y_pred_t), axis=1)))\n",
    "\n",
    "def merge_dicts(dicts):\n",
    "    merged = {}\n",
    "    for d in dicts:\n",
    "        merged = {**merged, **d}\n",
    "    return merged\n",
    "\n",
    "\n",
    "def get_attributes_num(dataset):\n",
    "    return 1 if len(dataset.shape) == 1 else dataset.shape[1]\n",
    "\n",
    "\n",
    "def get_params_configurations(params):\n",
    "    \n",
    "    keys = list(params.keys())\n",
    "    keys.remove(\"layers\")\n",
    "    keys.remove(\"task\")\n",
    "    keys.remove(\"initialization\")\n",
    "    keys.remove(\"early_stopping\")\n",
    "    keys.remove(\"regularization\")\n",
    "    keys.remove(\"nesterov\")\n",
    "    keys.remove(\"trials_train\")\n",
    "    keys.remove(\"trials_test\")\n",
    "    keys.remove(\"learning_rate_decay\")\n",
    "    sorted_keys = sorted(keys)\n",
    "    arguments = []\n",
    "    for key in sorted_keys:\n",
    "        arguments.append(params[key])\n",
    "    \n",
    "    arguments = tuple(arguments)\n",
    "    all_params = list(itertools.product(*arguments))\n",
    "        \n",
    "    configurations = []\n",
    "    \n",
    "    for conf in all_params:\n",
    "        \n",
    "        dict_conf = {}\n",
    "        \n",
    "        for i in range(len(sorted_keys)):\n",
    "            dict_conf[sorted_keys[i]] = conf[i]\n",
    "        dict_conf[\"initialization\"] = params[\"initialization\"]\n",
    "        dict_conf[\"early_stopping\"] = params[\"early_stopping\"]\n",
    "        dict_conf[\"task\"] = params[\"task\"]\n",
    "        dict_conf[\"trials_train\"] = params[\"trials_train\"]\n",
    "        dict_conf[\"trials_test\"] = params[\"trials_test\"]\n",
    "        dict_conf[\"nesterov\"] = params[\"nesterov\"]\n",
    "        dict_conf[\"learning_rate_decay\"] = params[\"learning_rate_decay\"]\n",
    "        \n",
    "        # add regularization parameters\n",
    "        for reg in params[\"regularization\"]:\n",
    "            method = reg[\"type\"]\n",
    "            \n",
    "            if method == None:\n",
    "                reg_dict_conf = dict_conf.copy()\n",
    "                reg_dict_conf[\"regularization\"] = {\n",
    "                    \"method\": None\n",
    "                }\n",
    "                configurations.append(reg_dict_conf)\n",
    "                continue\n",
    "            \n",
    "            for val in reg[\"value\"]:\n",
    "                reg_dict_conf = dict_conf.copy()\n",
    "                reg_dict_conf[\"regularization\"] = {\n",
    "                    \"method\": method,\n",
    "                    \"value\": val\n",
    "                }\n",
    "        \n",
    "                configurations.append(reg_dict_conf)\n",
    "            \n",
    "        \n",
    "    return configurations\n",
    "\n",
    "\n",
    "def get_callbacks(config):\n",
    "    \n",
    "    lr_decay = config[\"learning_rate_decay\"]\n",
    "    early_stopping = config[\"early_stopping\"]\n",
    "    \n",
    "    callbacks = []\n",
    "    \n",
    "    if early_stopping != None:\n",
    "        early_stop = EarlyStopping(\n",
    "            monitor=early_stopping[\"monitor\"], \n",
    "            patience=early_stopping[\"patience\"], \n",
    "            min_delta=early_stopping[\"delta\"], \n",
    "        )\n",
    "        callbacks.append(early_stop)\n",
    "\n",
    "    if lr_decay != None:\n",
    "        decay_epochs = lr_decay[\"epochs\"]\n",
    "        lr_final = lr_decay[\"lr_final\"]\n",
    "        linear_scheduler = get_linear_scheduler(decay_epochs, lr_final)\n",
    "        scheduler = LearningRateScheduler(linear_scheduler)\n",
    "        callbacks.append(scheduler)\n",
    "        \n",
    "    return callbacks if callbacks != [] else None\n",
    "        \n",
    "\n",
    "\n",
    "def get_layers_configurations(params, configurations):\n",
    "    layers = params[\"layers\"]\n",
    "    layers_params_confs = []\n",
    "    \n",
    "    for n_layer in range(len(layers)):\n",
    "        layers_params_confs.append([]) \n",
    "    \n",
    "    for i in range(len(layers)):\n",
    "        layer = layers[i]\n",
    "        activations = layer[\"activations\"]\n",
    "        units = layer[\"units\"]\n",
    "        layer_confs = list(itertools.product(activations, units))\n",
    "        for conf in layer_confs:\n",
    "            conf_dict = {\n",
    "                f\"activations_{i+1}\": conf[0],\n",
    "                f\"units_{i+1}\": conf[1]\n",
    "            }\n",
    "            layers_params_confs[i].append(conf_dict)\n",
    "        \n",
    "    layers_confs = []\n",
    "    for i in range(len(layers_params_confs)):\n",
    "        confs = layers_params_confs[:i+1]\n",
    "        confs = tuple(confs)\n",
    "        confs = list(itertools.product(*confs))\n",
    "        for conf in confs:\n",
    "            layers_confs.append(merge_dicts(conf))\n",
    "                \n",
    "    return layers_confs\n",
    "\n",
    "\n",
    "\n",
    "def get_configurations(params):\n",
    "    \n",
    "    configurations = get_params_configurations(params)\n",
    "    layers_confs = get_layers_configurations(params, configurations)\n",
    "    configurations = list(itertools.product(configurations, layers_confs))\n",
    "    configurations_merged = []\n",
    "    \n",
    "    for conf in configurations:\n",
    "        configurations_merged.append(merge_dicts(conf))\n",
    "        \n",
    "    \n",
    "    return configurations_merged\n",
    "\n",
    "            \n",
    "\n",
    "def get_linear_scheduler(epochs, lr_final):\n",
    "    \n",
    "    def linear_scheduler(epoch, lr):\n",
    "        if (epoch < epochs):\n",
    "            alpha = epoch/epochs\n",
    "            return (1-alpha)*lr + alpha*lr_final\n",
    "        else:\n",
    "            return lr_final\n",
    "        \n",
    "    return linear_scheduler\n",
    "    \n",
    "\n",
    "def get_model(config, input_size, output_size):\n",
    "    \n",
    "    lr = config[\"learning_rate\"]\n",
    "    momentum = config[\"momentum\"]\n",
    "    init_method = config[\"initialization\"][\"type\"]\n",
    "    task = config[\"task\"]\n",
    "    nesterov = config[\"nesterov\"]\n",
    "    \n",
    "    reg_method = config[\"regularization\"][\"method\"]\n",
    "    \n",
    "    if reg_method == \"l1\":\n",
    "        reg_value = config[\"regularization\"][\"value\"]\n",
    "        reg = l1(reg_value)\n",
    "    elif reg_method == \"l2\":\n",
    "        reg_value = config[\"regularization\"][\"value\"]\n",
    "        reg = l2(reg_value)\n",
    "    else:\n",
    "        reg = None\n",
    "    \n",
    "    \n",
    "    init = None\n",
    "    if init_method == \"uniform\":\n",
    "        min_val = config[\"initialization\"][\"min\"]\n",
    "        max_val = config[\"initialization\"][\"max\"]\n",
    "        init = initializers.RandomUniform(minval=min_val, maxval=max_val, seed=None)\n",
    "    if init_method == \"normal\":\n",
    "        mean = config[\"initialization\"][\"mean\"]\n",
    "        std = config[\"initialization\"][\"std\"]\n",
    "        init = initializers.RandomNormal(mean=mean, stddev=std, seed=None)\n",
    "        \n",
    "    \n",
    "    optimizer = SGD(learning_rate=lr, momentum=momentum, nesterov=nesterov)\n",
    "    \n",
    "    n_layers = 0\n",
    "    for key in config.keys():\n",
    "        if key.startswith(\"units_\"):\n",
    "            n_layers += 1\n",
    "\n",
    "    model = Sequential()\n",
    "    \n",
    "    activation = config[\"activations_1\"]\n",
    "    n_units = config[\"units_1\"]\n",
    "    model.add(Dense(n_units, input_dim=input_size, activation=activation,\n",
    "                    kernel_regularizer=reg, bias_regularizer=reg,\n",
    "                    kernel_initializer = init, bias_initializer = init))\n",
    "    \n",
    "    for l in range(2,n_layers+1):\n",
    "        activation = config[f\"activations_{l}\"]\n",
    "        n_units = config[f\"units_{l}\"]\n",
    "        \n",
    "        model.add(Dense(n_units, activation=activation,\n",
    "                        kernel_regularizer=reg, bias_regularizer=reg,\n",
    "                        kernel_initializer = init, bias_initializer = init))\n",
    "        \n",
    "        \n",
    "    if task == \"classification\":\n",
    "        model.add(Dense(output_size, activation=\"sigmoid\",\n",
    "                        kernel_regularizer=reg, bias_regularizer=reg,\n",
    "                        kernel_initializer = init, bias_initializer = init))\n",
    "        \n",
    "        model.compile(optimizer = optimizer, loss = 'mean_squared_error', metrics = ['accuracy'])\n",
    "        \n",
    "    elif task == \"regression\":\n",
    "        model.add(Dense(output_size, activation=\"linear\",\n",
    "                        kernel_regularizer=reg, bias_regularizer=reg,\n",
    "                        kernel_initializer = init, bias_initializer = init))\n",
    "        \n",
    "        model.compile(optimizer = optimizer, loss = 'mean_squared_error', metrics = [mee])\n",
    "        \n",
    "    return model\n",
    "    \n",
    "    \n",
    "def fit_model_k_fold(x_train, y_train, config, n_folds):\n",
    "    \n",
    "    task = config[\"task\"]\n",
    "    \n",
    "    if task == \"classification\":\n",
    "        train_metric = \"accuracy\"\n",
    "        val_metric = \"val_accuracy\"\n",
    "    elif task == \"regression\":\n",
    "        train_metric = \"mee\"\n",
    "        val_metric = \"val_mee\"\n",
    "    \n",
    "    trials = config[\"trials_train\"]\n",
    "    max_epochs = config[\"max_epochs\"]\n",
    "    batch_size = config[\"batch_size\"]\n",
    "    \n",
    "    callbacks = get_callbacks(config)\n",
    "\n",
    "    \n",
    "    kf = KFold(n_splits = n_folds, shuffle=True)\n",
    "\n",
    "    train_losses = []\n",
    "    val_losses = []\n",
    "    train_accs = []\n",
    "    val_accs = []\n",
    "\n",
    "    fold = 1\n",
    "    for train_index, val_index in kf.split(x_train, y_train):\n",
    "        \n",
    "        print(f\"\\nExecuting fold {fold}/{n_folds}\")\n",
    "        \n",
    "        input_size = get_attributes_num(x_train)\n",
    "        output_size = get_attributes_num(y_train)\n",
    "        \n",
    "                \n",
    "        x_train_fold = x_train[train_index]\n",
    "        y_train_fold = y_train[train_index]\n",
    "\n",
    "        x_val_fold = x_train[val_index]\n",
    "        y_val_fold = y_train[val_index]\n",
    "\n",
    "        \n",
    "        trials_val_loss = []\n",
    "        trials_train_loss = []\n",
    "        trials_val_acc = []\n",
    "        trials_train_acc = []\n",
    "        \n",
    "        with tqdm(total=trials) as pbar:\n",
    "            for trial in range(trials):\n",
    "                model = get_model(config, input_size, output_size)\n",
    "                history = model.fit(x_train_fold, y_train_fold, epochs=max_epochs,\n",
    "                                    validation_data=(x_val_fold, y_val_fold),\n",
    "                                    callbacks=callbacks, verbose = 0)\n",
    "\n",
    "                trial_train_loss = history.history[\"loss\"]\n",
    "                trial_val_loss = history.history[\"val_loss\"]         \n",
    "                trial_train_acc = history.history[train_metric]\n",
    "                trial_val_acc = history.history[val_metric]\n",
    "\n",
    "                trials_val_loss.append(trial_val_loss[-1])\n",
    "                trials_train_loss.append(trial_train_loss[-1])\n",
    "                trials_val_acc.append(trial_val_acc[-1])\n",
    "                trials_train_acc.append(trial_train_acc[-1])\n",
    "\n",
    "                pbar.update(1)\n",
    "            \n",
    "        # get the median metrics among the trials\n",
    "        med_idx = median_index(trials_val_loss)\n",
    "        med_val_loss = trials_val_loss[med_idx]\n",
    "        med_train_loss = trials_train_loss[med_idx]\n",
    "        med_val_acc = trials_val_acc[med_idx]\n",
    "        med_train_acc = trials_train_acc[med_idx]\n",
    "        std_val_loss = np.std(trials_val_loss)\n",
    "        std_train_loss = np.std(trials_train_loss)\n",
    "        std_val_acc = np.std(trials_val_acc)\n",
    "        std_train_acc = np.std(trials_train_acc)\n",
    "\n",
    "        print(f\"Fold {fold}/{n_folds} median val_loss: {med_val_loss}, std val_loss {std_val_loss}\")\n",
    "        print(f\"Fold {fold}/{n_folds} median train_loss: {med_train_loss}, std train_loss {std_train_loss}\")\n",
    "        print(f\"Fold {fold}/{n_folds} median {val_metric}: {med_val_acc}, std {val_metric} {std_val_acc}\")\n",
    "        print(f\"Fold {fold}/{n_folds} median train_{train_metric}: {med_train_acc}, train_{train_metric} {std_train_acc}\")\n",
    "            \n",
    "        train_losses.append(med_train_loss)\n",
    "        val_losses.append(med_val_loss)\n",
    "        val_accs.append(med_val_acc)\n",
    "        train_accs.append(med_train_acc)\n",
    "        \n",
    "        fold += 1\n",
    "        \n",
    "    mean_train_loss = np.mean(train_losses)\n",
    "    mean_val_loss = np.mean(val_losses)\n",
    "    mean_train_acc = np.mean(train_accs)\n",
    "    mean_val_acc = np.mean(val_accs)\n",
    "    std_train_loss = np.std(train_losses)\n",
    "    std_val_loss = np.std(val_losses)\n",
    "    std_train_acc = np.std(train_accs)\n",
    "    std_val_acc = np.std(val_accs)\n",
    "    \n",
    "    print(f\"\\nMean val_loss: {mean_val_loss}, std val_loss: {std_val_loss}\")\n",
    "    print(f\"Mean train_loss: {mean_train_loss}, std train_loss: {std_train_loss}\")\n",
    "    print(f\"Mean {val_metric}: {mean_val_acc}, std {val_metric}: {std_val_acc}\")\n",
    "    print(f\"Mean train_{train_metric}: {mean_val_acc}, std train_{train_metric}: {std_train_acc}\")\n",
    "    \n",
    "    return mean_val_loss\n",
    "\n",
    "\n",
    "\n",
    "\n",
    "def fit_model_hold_out(x_train, y_train, config, val_split):\n",
    "    \n",
    "    task = config[\"task\"]\n",
    "    \n",
    "    if task == \"classification\":\n",
    "        train_metric = \"accuracy\"\n",
    "        val_metric = \"val_accuracy\"\n",
    "    elif task == \"regression\":\n",
    "        train_metric = \"mee\"\n",
    "        val_metric = \"val_mee\"\n",
    "        \n",
    "    trials = config[\"trials_train\"]\n",
    "    input_size = get_attributes_num(x_train)\n",
    "    output_size = get_attributes_num(y_train)\n",
    "    \n",
    "    \n",
    "    max_epochs = config[\"max_epochs\"]\n",
    "    batch_size = config[\"batch_size\"]\n",
    "\n",
    "    \n",
    "    callbacks = get_callbacks(config)\n",
    "    \n",
    "    x_train, x_val, y_train, y_val = train_test_split(x_train, y_train, test_size=val_split, shuffle=True)\n",
    "\n",
    "    \n",
    "    trials_val_loss = []\n",
    "    trials_train_loss = []\n",
    "    trials_val_acc = []\n",
    "    trials_train_acc = []\n",
    "        \n",
    "    with tqdm(total=trials) as pbar:\n",
    "        for trial in range(trials):            \n",
    "            model = get_model(config, input_size, output_size)\n",
    "            history = model.fit(x_train, y_train, epochs=max_epochs, batch_size=batch_size,\n",
    "                                verbose=0, validation_data=(x_val, y_val), callbacks=callbacks)\n",
    "            \n",
    "\n",
    "            trial_train_loss = history.history[\"loss\"]\n",
    "            trial_val_loss = history.history[\"val_loss\"]         \n",
    "            trial_train_acc = history.history[train_metric]\n",
    "            trial_val_acc = history.history[val_metric]\n",
    "            \n",
    "            trials_val_loss.append(trial_val_loss[-1])\n",
    "            trials_train_loss.append(trial_train_loss[-1])\n",
    "            trials_val_acc.append(trial_val_acc[-1])\n",
    "            trials_train_acc.append(trial_train_acc[-1])\n",
    "            \n",
    "            pbar.update(1)\n",
    "    \n",
    "    # get the median metrics among the trials\n",
    "    med_idx = median_index(trials_val_loss)\n",
    "    med_val_loss = trials_val_loss[med_idx]\n",
    "    med_train_loss = trials_train_loss[med_idx]\n",
    "    med_val_acc = trials_val_acc[med_idx]\n",
    "    med_train_acc = trials_train_acc[med_idx]\n",
    "    std_val_loss = np.std(trials_val_loss)\n",
    "    std_train_loss = np.std(trials_train_loss)\n",
    "    std_val_acc = np.std(trials_val_acc)\n",
    "    std_train_acc = np.std(trials_train_acc)\n",
    "\n",
    "    print(f\"Median val_loss: {med_val_loss}, std val_loss {std_val_loss}\")\n",
    "    print(f\"Median train_loss: {med_train_loss}, std train_loss {std_train_loss}\")\n",
    "    print(f\"Median {val_metric}: {med_val_acc}, std {val_metric} {std_val_acc}\")\n",
    "    print(f\"Median train_{train_metric}: {med_train_acc}, train_{train_metric} {std_train_acc}\")\n",
    "    \n",
    "    return med_val_loss\n",
    "    \n",
    "    \n",
    "def fit_model_test(x_train, y_train, x_test, y_test, config):\n",
    "    \n",
    "    task = config[\"task\"]\n",
    "    trails = config[\"trials_test\"]\n",
    "    \n",
    "    if task == \"classification\":\n",
    "        train_metric = \"accuracy\"\n",
    "        test_metric = \"val_accuracy\"\n",
    "    elif task == \"regression\":\n",
    "        train_metric = \"mee\"\n",
    "        test_metric = \"val_mee\"\n",
    "\n",
    "    max_epochs = config[\"max_epochs\"]\n",
    "    batch_size = config[\"batch_size\"]\n",
    "    trials = config[\"trials_test\"]\n",
    "    \n",
    "    if config[\"early_stopping\"][\"monitor\"] == \"val_loss\":\n",
    "        config[\"early_stopping\"][\"monitor\"] = \"loss\"\n",
    "        \n",
    "    callbacks = get_callbacks(config)\n",
    "    \n",
    "    input_size = get_attributes_num(x_train)\n",
    "    output_size = get_attributes_num(y_train)\n",
    "    \n",
    "    \n",
    "    trials_test_loss = []\n",
    "    trials_train_loss = []\n",
    "    trials_test_acc = []\n",
    "    trials_train_acc = []\n",
    "    \n",
    "    trials_history_test_loss = []\n",
    "    trials_history_train_loss = []\n",
    "    trials_history_test_acc = []\n",
    "    trials_history_train_acc = []   \n",
    "    \n",
    "    models = []\n",
    "    \n",
    "    with tqdm(total=trials) as pbar:\n",
    "        for trial in range(trials):\n",
    "            model = get_model(config, input_size, output_size)\n",
    "            history = model.fit(x_train, y_train, epochs=max_epochs, validation_data=(x_test, y_test),\n",
    "                                batch_size=batch_size, verbose=0, callbacks=callbacks)\n",
    "\n",
    "            models.append(model)\n",
    "\n",
    "            trial_train_loss = history.history[\"loss\"]\n",
    "            trial_test_loss = history.history[\"val_loss\"]         \n",
    "            trial_train_acc = history.history[train_metric]\n",
    "            trial_test_acc = history.history[test_metric]\n",
    "\n",
    "            trials_test_loss.append(trial_test_loss[-1])\n",
    "            trials_train_loss.append(trial_train_loss[-1])\n",
    "            trials_test_acc.append(trial_test_acc[-1])\n",
    "            trials_train_acc.append(trial_train_acc[-1])\n",
    "\n",
    "            trials_history_test_loss.append(trial_test_loss)\n",
    "            trials_history_train_loss.append(trial_train_loss)\n",
    "            trials_history_test_acc.append(trial_test_acc)\n",
    "            trials_history_train_acc.append(trial_train_acc)\n",
    "\n",
    "            print(f\"Trial {trial+1}/{trials} test_loss: {trial_test_loss[-1]}\")\n",
    "            print(f\"Trial {trial+1}/{trials} train_loss: {trial_train_loss[-1]}\")\n",
    "            print(f\"Trial {trial+1}/{trials} {test_metric}: {trial_test_acc[-1]}\")\n",
    "            print(f\"Trial {trial+1}/{trials} {train_metric}: {trial_train_acc[-1]}\")\n",
    "\n",
    "            pbar.update(1)\n",
    "        \n",
    "    med_idx = median_index(trials_test_loss)\n",
    "    med_test_loss = trials_test_loss[med_idx]\n",
    "    med_train_loss = trials_train_loss[med_idx]\n",
    "    med_test_acc = trials_test_acc[med_idx]\n",
    "    med_train_acc = trials_train_acc[med_idx]\n",
    "    std_test_loss = np.std(trials_test_loss)\n",
    "    std_train_loss = np.std(trials_train_loss)\n",
    "    std_test_acc = np.std(trials_test_acc)\n",
    "    std_train_acc = np.std(trials_train_acc)\n",
    "    \n",
    "    print(f\"\\nMedian test_loss: {med_test_loss}, std test_loss {std_test_loss}\")\n",
    "    print(f\"Median train_loss: {med_train_loss}, std train_loss {std_train_loss}\")\n",
    "    print(f\"Median test_{train_metric}: {med_test_acc}, std test_{train_metric} {std_test_acc}\")\n",
    "    print(f\"Median train_{train_metric}: {med_train_acc}, std train_{train_metric} {std_train_acc}\")\n",
    "        \n",
    "    \n",
    "        \n",
    "    train_acc = trials_history_train_acc[med_idx]\n",
    "    test_acc = trials_history_test_acc[med_idx]\n",
    "    plot_curves(train_acc, f\"Training {train_metric}\", test_acc, f\"Test {train_metric}\")\n",
    "    \n",
    "    train_loss = trials_history_train_loss[med_idx]\n",
    "    test_loss = trials_history_test_loss[med_idx]\n",
    "    plot_curves(train_loss, \"Train loss\", test_loss, \"Test loss\")\n",
    "    \n",
    "    med_model = models[med_idx]\n",
    "    \n",
    "    return med_model\n",
    "\n",
    "\n",
    "def fit_model_no_test(x_train, y_train, config):\n",
    "    task = config[\"task\"]\n",
    "    trails = config[\"trials_test\"]\n",
    "    \n",
    "    if task == \"classification\":\n",
    "        train_metric = \"accuracy\"\n",
    "    elif task == \"regression\":\n",
    "        train_metric = \"mee\"\n",
    "\n",
    "    max_epochs = config[\"max_epochs\"]\n",
    "    batch_size = config[\"batch_size\"]\n",
    "    early_stopping = config[\"early_stopping\"]\n",
    "    trials = config[\"trials_test\"]\n",
    "    \n",
    "    if config[\"early_stopping\"][\"monitor\"] == \"val_loss\":\n",
    "        config[\"early_stopping\"][\"monitor\"] = \"loss\"\n",
    "        \n",
    "    callbacks = get_callbacks(config)\n",
    "    \n",
    "    input_size = get_attributes_num(x_train)\n",
    "    output_size = get_attributes_num(y_train)\n",
    "    \n",
    "    \n",
    "    trials_train_loss = []\n",
    "    trials_train_acc = []\n",
    "    \n",
    "    trials_history_train_loss = []\n",
    "    trials_history_train_acc = []   \n",
    "    \n",
    "    models = []\n",
    "    \n",
    "    with tqdm(total=trials) as pbar:\n",
    "        for trial in range(trials):\n",
    "            model = get_model(config, input_size, output_size)\n",
    "            history = model.fit(x_train, y_train, epochs=max_epochs,\n",
    "                                batch_size=batch_size, verbose=0, callbacks=callbacks)\n",
    "\n",
    "            models.append(model)\n",
    "\n",
    "            trial_train_loss = history.history[\"loss\"]\n",
    "            trial_train_acc = history.history[train_metric]\n",
    "\n",
    "            trials_train_loss.append(trial_train_loss[-1])\n",
    "            trials_train_acc.append(trial_train_acc[-1])\n",
    "\n",
    "            trials_history_train_loss.append(trial_train_loss)\n",
    "            trials_history_train_acc.append(trial_train_acc)\n",
    "\n",
    "            print(f\"Trial {trial+1}/{trials} train_loss: {trial_train_loss[-1]}\")\n",
    "            print(f\"Trial {trial+1}/{trials} train_{train_metric}: {trial_train_acc[-1]}\")\n",
    "\n",
    "            pbar.update(1)\n",
    "        \n",
    "    med_idx = median_index(trials_train_loss)\n",
    "    med_train_loss = trials_train_loss[med_idx]\n",
    "    med_train_acc = trials_train_acc[med_idx]\n",
    "    std_train_loss = np.std(trials_train_loss)\n",
    "    std_train_acc = np.std(trials_train_acc)\n",
    "    \n",
    "    print(f\"\\nMedian train_loss: {med_train_loss}, std train_loss {std_train_loss}\")\n",
    "    print(f\"Median train_{train_metric}: {med_train_acc}, std train_{train_metric} {std_train_acc}\")\n",
    "    \n",
    "        \n",
    "    \n",
    "        \n",
    "    train_acc = trials_history_train_acc[med_idx]\n",
    "    plot_curves(train_acc, f\"Training {train_metric}\")\n",
    "    \n",
    "    train_loss = trials_history_train_loss[med_idx]\n",
    "    plot_curves(train_loss, f\"Train loss\")\n",
    "    \n",
    "    med_model = models[med_idx]\n",
    "    \n",
    "    return med_model\n",
    "\n",
    "    \n",
    "def fit_model(x_train, y_train, config, validation):\n",
    "    if validation[\"type\"] == \"k-fold\":\n",
    "        val_loss = fit_model_k_fold(x_train, y_train, config, validation[\"n_folds\"])\n",
    "    elif validation[\"type\"] == \"hold-out\":\n",
    "        val_loss = fit_model_hold_out(x_train, y_train, config, validation[\"val_split\"])\n",
    "    return val_loss\n",
    "\n",
    "\n",
    "\n",
    "def test_model(model, x_test, y_test):\n",
    "    input_size = x_test.shape[1]\n",
    "    result = model.evaluate(x_test, y_test)\n",
    "    print(result)\n",
    "\n",
    "    \n",
    "    \n",
    "def model_selection(configurations, x_train, y_train, validation):\n",
    "        \n",
    "    best_loss = float(\"inf\")\n",
    "    best_conf = None\n",
    "    \n",
    "    idx = 1\n",
    "    n_confs = len(configurations)\n",
    "    for config in configurations:\n",
    "\n",
    "        print(f\"Testing configuration {idx}/{n_confs}:\\n{config}\")\n",
    "        val_loss = fit_model(x_train, y_train, config, validation)\n",
    "\n",
    "        if val_loss < best_loss:\n",
    "            best_loss = val_loss;\n",
    "            best_conf = config\n",
    "        idx += 1\n",
    "        \n",
    "        print(\"\\n\\n\")\n",
    "\n",
    "            \n",
    "    print(\"\\n\\n\")\n",
    "    print(f\"Best configuration (loss {best_loss}):\\n{best_conf}\")\n",
    "    \n",
    "    return best_conf\n",
    "    \n",
    "\n",
    "def grid_search(params, x_train, y_train, validation={\"type\": \"hold-out\", \"val_split\": 0.2}, x_test=None, y_test=None ):\n",
    "    configurations = get_configurations(params)    \n",
    "    best_conf = model_selection(configurations, x_train, y_train, validation)\n",
    "    if x_test is None:\n",
    "        model = fit_model_no_test(x_train, y_train, best_conf)\n",
    "    else:\n",
    "        model = fit_model_test(x_train, y_train, x_test, y_test, best_conf)\n",
    "        \n",
    "    return model"
   ]
  },
  {
   "cell_type": "code",
   "execution_count": 99,
   "id": "bfd7bc34",
   "metadata": {},
   "outputs": [],
   "source": [
    "params = {\n",
    "    \"task\": \"classification\",\n",
    "    \"trials_train\": 5,\n",
    "    \"trials_test\": 10,\n",
    "    \"initialization\": {\n",
    "        # \"type\": \"uniform\",\n",
    "        # \"min\": -0.5,\n",
    "        # \"max\": 0.5\n",
    "        \"type\": \"normal\",\n",
    "        \"mean\": 0,\n",
    "        \"std\": 1\n",
    "    },\n",
    "    \"early_stopping\": {\n",
    "        \"monitor\": \"val_loss\",\n",
    "        \"patience\": 20,\n",
    "        \"delta\": 0.001\n",
    "    },\n",
    "    \"max_epochs\": [500],\n",
    "    \"learning_rate\": [0.1],\n",
    "    \"batch_size\": [None],\n",
    "    \"momentum\": [0.9],\n",
    "    \"nesterov\": False,\n",
    "    \"learning_rate_decay\": None,\n",
    "    \"regularization\": [\n",
    "        {\n",
    "            \"type\": None\n",
    "        }\n",
    "    ],\n",
    "    \"layers\": [\n",
    "        {\n",
    "            \"activations\": [\"relu\"],\n",
    "            \"units\": [5],\n",
    "        },\n",
    "    ]\n",
    "}\n",
    "\n",
    "\n",
    "\"\"\"params = {\n",
    "    \"initialization\": {\n",
    "        \"type\": \"uniform\",\n",
    "        \"min\": -0.5,\n",
    "        \"max\": 0.5\n",
    "    },\n",
    "    \"early_stopping\": {\n",
    "        \"monitor\": \"val_loss\",\n",
    "        \"patience\": 20,\n",
    "        \"delta\": 0.001\n",
    "    },\n",
    "    \"max_epochs\": 500,\n",
    "    \"learning_rate\": [0.001, 0.01, 0.1],\n",
    "    \"batch_size\": [None],\n",
    "    \"momentum\": [0.1, 0.9],\n",
    "    \"learning_rate_decay\": {\n",
    "        \"epochs\": 50,\n",
    "        \"lr_final\": 0.01\n",
    "    },\n",
    "    \"regularization\": [\n",
    "        {\n",
    "            \"type\": \"l1\",\n",
    "            \"value\": [0.0001, 0.001]\n",
    "        },\n",
    "        {\n",
    "            \"type\": \"l2\",\n",
    "            \"value\": [0.0001, 0.001]\n",
    "        },\n",
    "        {\n",
    "            \"type\": None\n",
    "        }\n",
    "    ],\n",
    "    \"layers\": [\n",
    "        {\n",
    "            \"activations\": [\"relu\"],\n",
    "            \"units\": [1,4,8],\n",
    "        },\n",
    "    ]\n",
    "}\"\"\"\n",
    "\n",
    "k_fold_val = {\n",
    "    \"type\": \"k-fold\",\n",
    "    \"n_folds\": 5\n",
    "}\n",
    "\n",
    "hold_out_val = {\n",
    "    \"type\": \"hold-out\",\n",
    "    \"val_split\": 0.15\n",
    "}"
   ]
  },
  {
   "cell_type": "markdown",
   "id": "7835a759",
   "metadata": {},
   "source": [
    "# Monks 1"
   ]
  },
  {
   "cell_type": "code",
   "execution_count": 84,
   "id": "f0e9f138",
   "metadata": {},
   "outputs": [
    {
     "name": "stdout",
     "output_type": "stream",
     "text": [
      "Loaded ./../data/monks-1 dataset\n",
      "(124, 17) (124,)\n",
      "(432, 17) (432,)\n"
     ]
    }
   ],
   "source": [
    "x_train, y_train, x_test, y_test = load_dataset(\"monks1\", True)\n",
    "print(x_train.shape, y_train.shape)\n",
    "print(x_test.shape, y_test.shape)"
   ]
  },
  {
   "cell_type": "code",
   "execution_count": 85,
   "id": "824ed4ae",
   "metadata": {},
   "outputs": [
    {
     "name": "stdout",
     "output_type": "stream",
     "text": [
      "Testing configuration 1/1:\n",
      "{'batch_size': None, 'learning_rate': 0.1, 'max_epochs': 500, 'momentum': 0.9, 'initialization': {'type': 'normal', 'mean': 0, 'std': 1}, 'early_stopping': {'monitor': 'val_loss', 'patience': 100, 'delta': 0.001}, 'task': 'classification', 'trials_train': 5, 'trials_test': 10, 'nesterov': False, 'learning_rate_decay': None, 'regularization': {'method': None}, 'activations_1': 'relu', 'units_1': 5}\n",
      "\n",
      "Executing fold 1/5\n"
     ]
    },
    {
     "name": "stderr",
     "output_type": "stream",
     "text": [
      "  0%|                                                     | 0/5 [00:15<?, ?it/s]\n"
     ]
    },
    {
     "ename": "AssertionError",
     "evalue": "",
     "output_type": "error",
     "traceback": [
      "\u001b[0;31m---------------------------------------------------------------------------\u001b[0m",
      "\u001b[0;31mAssertionError\u001b[0m                            Traceback (most recent call last)",
      "Cell \u001b[0;32mIn [85], line 1\u001b[0m\n\u001b[0;32m----> 1\u001b[0m model \u001b[38;5;241m=\u001b[39m \u001b[43mgrid_search\u001b[49m\u001b[43m(\u001b[49m\u001b[43mparams\u001b[49m\u001b[43m,\u001b[49m\u001b[43m \u001b[49m\u001b[43mx_train\u001b[49m\u001b[43m,\u001b[49m\u001b[43m \u001b[49m\u001b[43my_train\u001b[49m\u001b[43m,\u001b[49m\u001b[43m \u001b[49m\u001b[43mk_fold_val\u001b[49m\u001b[43m,\u001b[49m\u001b[43m \u001b[49m\u001b[43mx_test\u001b[49m\u001b[43m,\u001b[49m\u001b[43m \u001b[49m\u001b[43my_test\u001b[49m\u001b[43m)\u001b[49m\n\u001b[1;32m      2\u001b[0m test_model(model, x_test, y_test)\n",
      "Cell \u001b[0;32mIn [82], line 636\u001b[0m, in \u001b[0;36mgrid_search\u001b[0;34m(params, x_train, y_train, validation, x_test, y_test)\u001b[0m\n\u001b[1;32m    634\u001b[0m \u001b[38;5;28;01mdef\u001b[39;00m \u001b[38;5;21mgrid_search\u001b[39m(params, x_train, y_train, validation\u001b[38;5;241m=\u001b[39m{\u001b[38;5;124m\"\u001b[39m\u001b[38;5;124mtype\u001b[39m\u001b[38;5;124m\"\u001b[39m: \u001b[38;5;124m\"\u001b[39m\u001b[38;5;124mhold-out\u001b[39m\u001b[38;5;124m\"\u001b[39m, \u001b[38;5;124m\"\u001b[39m\u001b[38;5;124mval_split\u001b[39m\u001b[38;5;124m\"\u001b[39m: \u001b[38;5;241m0.2\u001b[39m}, x_test\u001b[38;5;241m=\u001b[39m\u001b[38;5;28;01mNone\u001b[39;00m, y_test\u001b[38;5;241m=\u001b[39m\u001b[38;5;28;01mNone\u001b[39;00m ):\n\u001b[1;32m    635\u001b[0m     configurations \u001b[38;5;241m=\u001b[39m get_configurations(params)    \n\u001b[0;32m--> 636\u001b[0m     best_conf \u001b[38;5;241m=\u001b[39m \u001b[43mmodel_selection\u001b[49m\u001b[43m(\u001b[49m\u001b[43mconfigurations\u001b[49m\u001b[43m,\u001b[49m\u001b[43m \u001b[49m\u001b[43mx_train\u001b[49m\u001b[43m,\u001b[49m\u001b[43m \u001b[49m\u001b[43my_train\u001b[49m\u001b[43m,\u001b[49m\u001b[43m \u001b[49m\u001b[43mvalidation\u001b[49m\u001b[43m)\u001b[49m\n\u001b[1;32m    637\u001b[0m     \u001b[38;5;28;01mif\u001b[39;00m x_test \u001b[38;5;129;01mis\u001b[39;00m \u001b[38;5;28;01mNone\u001b[39;00m:\n\u001b[1;32m    638\u001b[0m         model \u001b[38;5;241m=\u001b[39m fit_model_no_test(x_train, y_train, best_conf)\n",
      "Cell \u001b[0;32mIn [82], line 618\u001b[0m, in \u001b[0;36mmodel_selection\u001b[0;34m(configurations, x_train, y_train, validation)\u001b[0m\n\u001b[1;32m    615\u001b[0m \u001b[38;5;28;01mfor\u001b[39;00m config \u001b[38;5;129;01min\u001b[39;00m configurations:\n\u001b[1;32m    617\u001b[0m     \u001b[38;5;28mprint\u001b[39m(\u001b[38;5;124mf\u001b[39m\u001b[38;5;124m\"\u001b[39m\u001b[38;5;124mTesting configuration \u001b[39m\u001b[38;5;132;01m{\u001b[39;00midx\u001b[38;5;132;01m}\u001b[39;00m\u001b[38;5;124m/\u001b[39m\u001b[38;5;132;01m{\u001b[39;00mn_confs\u001b[38;5;132;01m}\u001b[39;00m\u001b[38;5;124m:\u001b[39m\u001b[38;5;130;01m\\n\u001b[39;00m\u001b[38;5;132;01m{\u001b[39;00mconfig\u001b[38;5;132;01m}\u001b[39;00m\u001b[38;5;124m\"\u001b[39m)\n\u001b[0;32m--> 618\u001b[0m     val_loss \u001b[38;5;241m=\u001b[39m \u001b[43mfit_model\u001b[49m\u001b[43m(\u001b[49m\u001b[43mx_train\u001b[49m\u001b[43m,\u001b[49m\u001b[43m \u001b[49m\u001b[43my_train\u001b[49m\u001b[43m,\u001b[49m\u001b[43m \u001b[49m\u001b[43mconfig\u001b[49m\u001b[43m,\u001b[49m\u001b[43m \u001b[49m\u001b[43mvalidation\u001b[49m\u001b[43m)\u001b[49m\n\u001b[1;32m    620\u001b[0m     \u001b[38;5;28;01mif\u001b[39;00m val_loss \u001b[38;5;241m<\u001b[39m best_loss:\n\u001b[1;32m    621\u001b[0m         best_loss \u001b[38;5;241m=\u001b[39m val_loss;\n",
      "Cell \u001b[0;32mIn [82], line 594\u001b[0m, in \u001b[0;36mfit_model\u001b[0;34m(x_train, y_train, config, validation)\u001b[0m\n\u001b[1;32m    592\u001b[0m \u001b[38;5;28;01mdef\u001b[39;00m \u001b[38;5;21mfit_model\u001b[39m(x_train, y_train, config, validation):\n\u001b[1;32m    593\u001b[0m     \u001b[38;5;28;01mif\u001b[39;00m validation[\u001b[38;5;124m\"\u001b[39m\u001b[38;5;124mtype\u001b[39m\u001b[38;5;124m\"\u001b[39m] \u001b[38;5;241m==\u001b[39m \u001b[38;5;124m\"\u001b[39m\u001b[38;5;124mk-fold\u001b[39m\u001b[38;5;124m\"\u001b[39m:\n\u001b[0;32m--> 594\u001b[0m         val_loss \u001b[38;5;241m=\u001b[39m \u001b[43mfit_model_k_fold\u001b[49m\u001b[43m(\u001b[49m\u001b[43mx_train\u001b[49m\u001b[43m,\u001b[49m\u001b[43m \u001b[49m\u001b[43my_train\u001b[49m\u001b[43m,\u001b[49m\u001b[43m \u001b[49m\u001b[43mconfig\u001b[49m\u001b[43m,\u001b[49m\u001b[43m \u001b[49m\u001b[43mvalidation\u001b[49m\u001b[43m[\u001b[49m\u001b[38;5;124;43m\"\u001b[39;49m\u001b[38;5;124;43mn_folds\u001b[39;49m\u001b[38;5;124;43m\"\u001b[39;49m\u001b[43m]\u001b[49m\u001b[43m)\u001b[49m\n\u001b[1;32m    595\u001b[0m     \u001b[38;5;28;01melif\u001b[39;00m validation[\u001b[38;5;124m\"\u001b[39m\u001b[38;5;124mtype\u001b[39m\u001b[38;5;124m\"\u001b[39m] \u001b[38;5;241m==\u001b[39m \u001b[38;5;124m\"\u001b[39m\u001b[38;5;124mhold-out\u001b[39m\u001b[38;5;124m\"\u001b[39m:\n\u001b[1;32m    596\u001b[0m         val_loss \u001b[38;5;241m=\u001b[39m fit_model_hold_out(x_train, y_train, config, validation[\u001b[38;5;124m\"\u001b[39m\u001b[38;5;124mval_split\u001b[39m\u001b[38;5;124m\"\u001b[39m])\n",
      "Cell \u001b[0;32mIn [82], line 292\u001b[0m, in \u001b[0;36mfit_model_k_fold\u001b[0;34m(x_train, y_train, config, n_folds)\u001b[0m\n\u001b[1;32m    290\u001b[0m \u001b[38;5;28;01mfor\u001b[39;00m trial \u001b[38;5;129;01min\u001b[39;00m \u001b[38;5;28mrange\u001b[39m(trials):\n\u001b[1;32m    291\u001b[0m     model \u001b[38;5;241m=\u001b[39m get_model(config, input_size, output_size)\n\u001b[0;32m--> 292\u001b[0m     history \u001b[38;5;241m=\u001b[39m \u001b[43mmodel\u001b[49m\u001b[38;5;241;43m.\u001b[39;49m\u001b[43mfit\u001b[49m\u001b[43m(\u001b[49m\u001b[43mx_train_fold\u001b[49m\u001b[43m,\u001b[49m\u001b[43m \u001b[49m\u001b[43my_train_fold\u001b[49m\u001b[43m,\u001b[49m\u001b[43m \u001b[49m\u001b[43mepochs\u001b[49m\u001b[38;5;241;43m=\u001b[39;49m\u001b[43mmax_epochs\u001b[49m\u001b[43m,\u001b[49m\n\u001b[1;32m    293\u001b[0m \u001b[43m                        \u001b[49m\u001b[43mvalidation_data\u001b[49m\u001b[38;5;241;43m=\u001b[39;49m\u001b[43m(\u001b[49m\u001b[43mx_val_fold\u001b[49m\u001b[43m,\u001b[49m\u001b[43m \u001b[49m\u001b[43my_val_fold\u001b[49m\u001b[43m)\u001b[49m\u001b[43m,\u001b[49m\n\u001b[1;32m    294\u001b[0m \u001b[43m                        \u001b[49m\u001b[43mcallbacks\u001b[49m\u001b[38;5;241;43m=\u001b[39;49m\u001b[43mcallbacks\u001b[49m\u001b[43m,\u001b[49m\u001b[43m \u001b[49m\u001b[43mverbose\u001b[49m\u001b[43m \u001b[49m\u001b[38;5;241;43m=\u001b[39;49m\u001b[43m \u001b[49m\u001b[38;5;241;43m0\u001b[39;49m\u001b[43m)\u001b[49m\n\u001b[1;32m    295\u001b[0m     \u001b[38;5;28mprint\u001b[39m(history\u001b[38;5;241m.\u001b[39mhistory\u001b[38;5;241m.\u001b[39mkeys())\n\u001b[1;32m    297\u001b[0m     trial_train_loss \u001b[38;5;241m=\u001b[39m history\u001b[38;5;241m.\u001b[39mhistory[\u001b[38;5;124m\"\u001b[39m\u001b[38;5;124mloss\u001b[39m\u001b[38;5;124m\"\u001b[39m]\n",
      "File \u001b[0;32m~/Desktop/Universita/Magistrale/FirstYear/ML/ML-Project/env/lib/python3.10/site-packages/keras/utils/traceback_utils.py:70\u001b[0m, in \u001b[0;36mfilter_traceback.<locals>.error_handler\u001b[0;34m(*args, **kwargs)\u001b[0m\n\u001b[1;32m     67\u001b[0m     filtered_tb \u001b[38;5;241m=\u001b[39m _process_traceback_frames(e\u001b[38;5;241m.\u001b[39m__traceback__)\n\u001b[1;32m     68\u001b[0m     \u001b[38;5;66;03m# To get the full stack trace, call:\u001b[39;00m\n\u001b[1;32m     69\u001b[0m     \u001b[38;5;66;03m# `tf.debugging.disable_traceback_filtering()`\u001b[39;00m\n\u001b[0;32m---> 70\u001b[0m     \u001b[38;5;28;01mraise\u001b[39;00m e\u001b[38;5;241m.\u001b[39mwith_traceback(filtered_tb) \u001b[38;5;28;01mfrom\u001b[39;00m \u001b[38;5;28mNone\u001b[39m\n\u001b[1;32m     71\u001b[0m \u001b[38;5;28;01mfinally\u001b[39;00m:\n\u001b[1;32m     72\u001b[0m     \u001b[38;5;28;01mdel\u001b[39;00m filtered_tb\n",
      "File \u001b[0;32m~/Desktop/Universita/Magistrale/FirstYear/ML/ML-Project/env/lib/python3.10/site-packages/tensorflow/python/autograph/core/ag_ctx.py:77\u001b[0m, in \u001b[0;36mControlStatusCtx.__exit__\u001b[0;34m(self, unused_type, unused_value, unused_traceback)\u001b[0m\n\u001b[1;32m     76\u001b[0m \u001b[38;5;28;01mdef\u001b[39;00m \u001b[38;5;21m__exit__\u001b[39m(\u001b[38;5;28mself\u001b[39m, unused_type, unused_value, unused_traceback):\n\u001b[0;32m---> 77\u001b[0m   \u001b[38;5;28;01massert\u001b[39;00m _control_ctx()[\u001b[38;5;241m-\u001b[39m\u001b[38;5;241m1\u001b[39m] \u001b[38;5;129;01mis\u001b[39;00m \u001b[38;5;28mself\u001b[39m\n\u001b[1;32m     78\u001b[0m   _control_ctx()\u001b[38;5;241m.\u001b[39mpop()\n",
      "\u001b[0;31mAssertionError\u001b[0m: "
     ]
    }
   ],
   "source": [
    "model = grid_search(params, x_train, y_train, k_fold_val, x_test, y_test)\n",
    "test_model(model, x_test, y_test)"
   ]
  },
  {
   "cell_type": "markdown",
   "id": "580b0bcc",
   "metadata": {},
   "source": [
    "# Monks 2"
   ]
  },
  {
   "cell_type": "code",
   "execution_count": 58,
   "id": "46826a62",
   "metadata": {},
   "outputs": [
    {
     "name": "stdout",
     "output_type": "stream",
     "text": [
      "Loaded ./../data/monks-2 dataset\n",
      "(169, 17) (169,)\n",
      "(432, 17) (432,)\n"
     ]
    }
   ],
   "source": [
    "x_train, y_train, x_test, y_test = load_dataset(\"monks2\", True)\n",
    "print(x_train.shape, y_train.shape)\n",
    "print(x_test.shape, y_test.shape)"
   ]
  },
  {
   "cell_type": "code",
   "execution_count": 59,
   "id": "51fb016a",
   "metadata": {},
   "outputs": [
    {
     "name": "stdout",
     "output_type": "stream",
     "text": [
      "Testing configuration 1/1:\n",
      "{'batch_size': None, 'learning_rate': 0.1, 'max_epochs': 500, 'momentum': 0.9, 'initialization': {'type': 'uniform', 'min': -0.5, 'max': 0.5}, 'early_stopping': {'monitor': 'val_loss', 'patience': 20, 'delta': 0.001}, 'task': 'classification', 'trials_train': 5, 'trials_test': 10, 'nesterov': False, 'regularization': {'method': None}, 'activations_1': 'relu', 'units_1': 5}\n",
      "\n",
      "Executing fold 1/5\n"
     ]
    },
    {
     "name": "stderr",
     "output_type": "stream",
     "text": [
      "100%|█████████████████████████████████████████████| 5/5 [00:24<00:00,  4.87s/it]\n"
     ]
    },
    {
     "name": "stdout",
     "output_type": "stream",
     "text": [
      "Fold 1/5 median val_loss: 0.0028550431597977877, std val_loss 0.09154268194467038\n",
      "Fold 1/5 median train_loss: 0.0018068562494590878, std train_loss 0.08500125016184774\n",
      "Fold 1/5 median val_accuracy: 1.0, std val_accuracy 0.18564391417496787\n",
      "Fold 1/5 median train_accuracy: 1.0, train_accuracy 0.13435003309350127\n",
      "\n",
      "Executing fold 2/5\n"
     ]
    },
    {
     "name": "stderr",
     "output_type": "stream",
     "text": [
      "100%|█████████████████████████████████████████████| 5/5 [00:18<00:00,  3.76s/it]\n"
     ]
    },
    {
     "name": "stdout",
     "output_type": "stream",
     "text": [
      "Fold 2/5 median val_loss: 0.0020439517684280872, std val_loss 0.09552749505161438\n",
      "Fold 2/5 median train_loss: 0.0016265339218080044, std train_loss 0.08276939958763005\n",
      "Fold 2/5 median val_accuracy: 1.0, std val_accuracy 0.1529411792755127\n",
      "Fold 2/5 median train_accuracy: 1.0, train_accuracy 0.15111110210418702\n",
      "\n",
      "Executing fold 3/5\n"
     ]
    },
    {
     "name": "stderr",
     "output_type": "stream",
     "text": [
      "100%|█████████████████████████████████████████████| 5/5 [00:24<00:00,  4.99s/it]\n"
     ]
    },
    {
     "name": "stdout",
     "output_type": "stream",
     "text": [
      "Fold 3/5 median val_loss: 0.001805025851354003, std val_loss 0.0038166868713823106\n",
      "Fold 3/5 median train_loss: 0.0019109476124867797, std train_loss 0.0003202965027607919\n",
      "Fold 3/5 median val_accuracy: 1.0, std val_accuracy 0.0\n",
      "Fold 3/5 median train_accuracy: 1.0, train_accuracy 0.0\n",
      "\n",
      "Executing fold 4/5\n"
     ]
    },
    {
     "name": "stderr",
     "output_type": "stream",
     "text": [
      "100%|█████████████████████████████████████████████| 5/5 [00:16<00:00,  3.36s/it]\n"
     ]
    },
    {
     "name": "stdout",
     "output_type": "stream",
     "text": [
      "Fold 4/5 median val_loss: 0.0020092064514756203, std val_loss 0.08128904275088941\n",
      "Fold 4/5 median train_loss: 0.0019526280229911208, std train_loss 0.06698707176814825\n",
      "Fold 4/5 median val_accuracy: 1.0, std val_accuracy 0.1529411792755127\n",
      "Fold 4/5 median train_accuracy: 1.0, train_accuracy 0.08592593669891357\n",
      "\n",
      "Executing fold 5/5\n"
     ]
    },
    {
     "name": "stderr",
     "output_type": "stream",
     "text": [
      "100%|█████████████████████████████████████████████| 5/5 [00:13<00:00,  2.78s/it]\n"
     ]
    },
    {
     "name": "stdout",
     "output_type": "stream",
     "text": [
      "Fold 5/5 median val_loss: 0.2763579487800598, std val_loss 0.14408347606149566\n",
      "Fold 5/5 median train_loss: 0.1857752799987793, std train_loss 0.09656347589992512\n",
      "Fold 5/5 median val_accuracy: 0.5151515007019043, std val_accuracy 0.25898012583513186\n",
      "Fold 5/5 median train_accuracy: 0.7352941036224365, train_accuracy 0.14411764716615547\n",
      "\n",
      "Mean val_loss: 0.05701423520222306, std val_loss: 0.10967244395436329\n",
      "Mean train_loss: 0.03861444916110486, std train_loss: 0.07358050157157932\n",
      "Mean val_accuracy: 0.9030303001403809, std val_accuracy: 0.1939393997192383\n",
      "Mean train_accuracy: 0.9030303001403809, std train_accuracy: 0.10588235855102539\n",
      "\n",
      "\n",
      "\n",
      "\n",
      "\n",
      "\n",
      "Best configuration (loss 0.05701423520222306):\n",
      "{'batch_size': None, 'learning_rate': 0.1, 'max_epochs': 500, 'momentum': 0.9, 'initialization': {'type': 'uniform', 'min': -0.5, 'max': 0.5}, 'early_stopping': {'monitor': 'val_loss', 'patience': 20, 'delta': 0.001}, 'task': 'classification', 'trials_train': 5, 'trials_test': 10, 'nesterov': False, 'regularization': {'method': None}, 'activations_1': 'relu', 'units_1': 5}\n"
     ]
    },
    {
     "name": "stderr",
     "output_type": "stream",
     "text": [
      " 10%|████▍                                       | 1/10 [00:10<01:30, 10.04s/it]"
     ]
    },
    {
     "name": "stdout",
     "output_type": "stream",
     "text": [
      "Trial 1/10 test_loss: 0.18656887114048004\n",
      "Trial 1/10 train_loss: 0.10928436368703842\n",
      "Trial 1/10 val_accuracy: 0.8009259104728699\n",
      "Trial 1/10 accuracy: 0.8934911489486694\n"
     ]
    },
    {
     "name": "stderr",
     "output_type": "stream",
     "text": [
      "\r",
      " 20%|████████▊                                   | 2/10 [00:15<01:00,  7.62s/it]"
     ]
    },
    {
     "name": "stdout",
     "output_type": "stream",
     "text": [
      "Trial 2/10 test_loss: 0.0014164374442771077\n",
      "Trial 2/10 train_loss: 0.001388993812724948\n",
      "Trial 2/10 val_accuracy: 1.0\n",
      "Trial 2/10 accuracy: 1.0\n"
     ]
    },
    {
     "name": "stderr",
     "output_type": "stream",
     "text": [
      "\r",
      " 30%|█████████████▏                              | 3/10 [00:20<00:42,  6.01s/it]"
     ]
    },
    {
     "name": "stdout",
     "output_type": "stream",
     "text": [
      "Trial 3/10 test_loss: 0.0012361378176137805\n",
      "Trial 3/10 train_loss: 0.0010475397575646639\n",
      "Trial 3/10 val_accuracy: 1.0\n",
      "Trial 3/10 accuracy: 1.0\n"
     ]
    },
    {
     "name": "stderr",
     "output_type": "stream",
     "text": [
      "\r",
      " 40%|█████████████████▌                          | 4/10 [00:24<00:33,  5.58s/it]"
     ]
    },
    {
     "name": "stdout",
     "output_type": "stream",
     "text": [
      "Trial 4/10 test_loss: 0.0020635423716157675\n",
      "Trial 4/10 train_loss: 0.0012934849364683032\n",
      "Trial 4/10 val_accuracy: 1.0\n",
      "Trial 4/10 accuracy: 1.0\n"
     ]
    },
    {
     "name": "stderr",
     "output_type": "stream",
     "text": [
      "\r",
      " 50%|██████████████████████                      | 5/10 [00:30<00:28,  5.66s/it]"
     ]
    },
    {
     "name": "stdout",
     "output_type": "stream",
     "text": [
      "Trial 5/10 test_loss: 0.002635642886161804\n",
      "Trial 5/10 train_loss: 0.001820513280108571\n",
      "Trial 5/10 val_accuracy: 1.0\n",
      "Trial 5/10 accuracy: 1.0\n"
     ]
    },
    {
     "name": "stderr",
     "output_type": "stream",
     "text": [
      "\r",
      " 60%|██████████████████████████▍                 | 6/10 [00:35<00:21,  5.27s/it]"
     ]
    },
    {
     "name": "stdout",
     "output_type": "stream",
     "text": [
      "Trial 6/10 test_loss: 0.0010307603515684605\n",
      "Trial 6/10 train_loss: 0.0009453639504499733\n",
      "Trial 6/10 val_accuracy: 1.0\n",
      "Trial 6/10 accuracy: 1.0\n"
     ]
    },
    {
     "name": "stderr",
     "output_type": "stream",
     "text": [
      "\r",
      " 70%|██████████████████████████████▊             | 7/10 [00:40<00:16,  5.41s/it]"
     ]
    },
    {
     "name": "stdout",
     "output_type": "stream",
     "text": [
      "Trial 7/10 test_loss: 0.0032837192993611097\n",
      "Trial 7/10 train_loss: 0.0013254130026325583\n",
      "Trial 7/10 val_accuracy: 1.0\n",
      "Trial 7/10 accuracy: 1.0\n"
     ]
    },
    {
     "name": "stderr",
     "output_type": "stream",
     "text": [
      "\r",
      " 80%|███████████████████████████████████▏        | 8/10 [00:45<00:10,  5.18s/it]"
     ]
    },
    {
     "name": "stdout",
     "output_type": "stream",
     "text": [
      "Trial 8/10 test_loss: 0.0017669950611889362\n",
      "Trial 8/10 train_loss: 0.0015559798339381814\n",
      "Trial 8/10 val_accuracy: 1.0\n",
      "Trial 8/10 accuracy: 1.0\n"
     ]
    },
    {
     "name": "stderr",
     "output_type": "stream",
     "text": [
      "\r",
      " 90%|███████████████████████████████████████▌    | 9/10 [00:51<00:05,  5.46s/it]"
     ]
    },
    {
     "name": "stdout",
     "output_type": "stream",
     "text": [
      "Trial 9/10 test_loss: 0.00150792277418077\n",
      "Trial 9/10 train_loss: 0.0013688066974282265\n",
      "Trial 9/10 val_accuracy: 1.0\n",
      "Trial 9/10 accuracy: 1.0\n"
     ]
    },
    {
     "name": "stderr",
     "output_type": "stream",
     "text": [
      "100%|███████████████████████████████████████████| 10/10 [00:56<00:00,  5.70s/it]"
     ]
    },
    {
     "name": "stdout",
     "output_type": "stream",
     "text": [
      "Trial 10/10 test_loss: 0.0020553022623062134\n",
      "Trial 10/10 train_loss: 0.0016846677754074335\n",
      "Trial 10/10 val_accuracy: 1.0\n",
      "Trial 10/10 accuracy: 1.0\n",
      "\n",
      "Median test_loss: 0.0020553022623062134, std test_loss 0.055407819001586714\n",
      "Median train_loss: 0.0016846677754074335, std train_loss 0.03237192023544034\n",
      "Median test_accuracy: 1.0, std test_accuracy 0.05972222685813904\n",
      "Median train_accuracy: 1.0, std train_accuracy 0.031952655315399175\n"
     ]
    },
    {
     "name": "stderr",
     "output_type": "stream",
     "text": [
      "\n"
     ]
    },
    {
     "data": {
      "image/png": "[encoded data removed]",
      "text/plain": [
       "<Figure size 640x480 with 1 Axes>"
      ]
     },
     "metadata": {},
     "output_type": "display_data"
    },
    {
     "data": {
      "image/png": "[encoded data removed]",
      "text/plain": [
       "<Figure size 640x480 with 1 Axes>"
      ]
     },
     "metadata": {},
     "output_type": "display_data"
    },
    {
     "name": "stdout",
     "output_type": "stream",
     "text": [
      "14/14 [==============================] - 0s 1ms/step - loss: 0.0021 - accuracy: 1.0000\n",
      "[0.0020553022623062134, 1.0]\n"
     ]
    }
   ],
   "source": [
    "model = grid_search(params, x_train, y_train, k_fold_val, x_test, y_test)\n",
    "test_model(model, x_test, y_test)"
   ]
  },
  {
   "cell_type": "markdown",
   "id": "d8bafda0",
   "metadata": {},
   "source": [
    "# Monks 3"
   ]
  },
  {
   "cell_type": "code",
   "execution_count": 70,
   "id": "55619cba",
   "metadata": {},
   "outputs": [
    {
     "name": "stdout",
     "output_type": "stream",
     "text": [
      "Loaded ./../data/monks-3 dataset\n",
      "(122, 17) (122,)\n",
      "(432, 17) (432,)\n"
     ]
    }
   ],
   "source": [
    "x_train, y_train, x_test, y_test = load_dataset(\"monks3\", True)\n",
    "print(x_train.shape, y_train.shape)\n",
    "print(x_test.shape, y_test.shape)"
   ]
  },
  {
   "cell_type": "code",
   "execution_count": 71,
   "id": "d653c6ce",
   "metadata": {},
   "outputs": [
    {
     "name": "stdout",
     "output_type": "stream",
     "text": [
      "Testing configuration 1/1:\n",
      "{'batch_size': None, 'learning_rate': 0.01, 'max_epochs': 500, 'momentum': 0.9, 'initialization': {'type': 'uniform', 'min': -0.5, 'max': 0.5}, 'early_stopping': {'monitor': 'val_loss', 'patience': 20, 'delta': 0.001}, 'task': 'classification', 'trials_train': 5, 'trials_test': 10, 'nesterov': False, 'regularization': {'method': 'l1', 'value': 0.001}, 'activations_1': 'relu', 'units_1': 5}\n",
      "\n",
      "Executing fold 1/5\n"
     ]
    },
    {
     "name": "stderr",
     "output_type": "stream",
     "text": [
      "100%|█████████████████████████████████████████████| 5/5 [00:21<00:00,  4.29s/it]\n"
     ]
    },
    {
     "name": "stdout",
     "output_type": "stream",
     "text": [
      "Fold 1/5 median val_loss: 0.10474454611539841, std val_loss 0.07102599700345792\n",
      "Fold 1/5 median train_loss: 0.08483191579580307, std train_loss 0.07599718910023709\n",
      "Fold 1/5 median val_accuracy: 0.9200000166893005, std val_accuracy 0.17600001096725462\n",
      "Fold 1/5 median train_accuracy: 0.938144326210022, train_accuracy 0.1649484634399414\n",
      "\n",
      "Executing fold 2/5\n"
     ]
    },
    {
     "name": "stderr",
     "output_type": "stream",
     "text": [
      "100%|█████████████████████████████████████████████| 5/5 [00:47<00:00,  9.54s/it]\n"
     ]
    },
    {
     "name": "stdout",
     "output_type": "stream",
     "text": [
      "Fold 2/5 median val_loss: 0.03862278535962105, std val_loss 0.003954712323690696\n",
      "Fold 2/5 median train_loss: 0.08718717098236084, std train_loss 0.0035290396260316504\n",
      "Fold 2/5 median val_accuracy: 1.0, std val_accuracy 0.0\n",
      "Fold 2/5 median train_accuracy: 0.9175257682800293, train_accuracy 0.0050504946160497815\n",
      "\n",
      "Executing fold 3/5\n"
     ]
    },
    {
     "name": "stderr",
     "output_type": "stream",
     "text": [
      "100%|█████████████████████████████████████████████| 5/5 [00:25<00:00,  5.12s/it]\n"
     ]
    },
    {
     "name": "stdout",
     "output_type": "stream",
     "text": [
      "Fold 3/5 median val_loss: 0.1554030478000641, std val_loss 0.005315524754286469\n",
      "Fold 3/5 median train_loss: 0.07485505193471909, std train_loss 0.00362879193604825\n",
      "Fold 3/5 median val_accuracy: 0.875, std val_accuracy 0.0\n",
      "Fold 3/5 median train_accuracy: 0.9489796161651611, train_accuracy 0.00408163070678711\n",
      "\n",
      "Executing fold 4/5\n"
     ]
    },
    {
     "name": "stderr",
     "output_type": "stream",
     "text": [
      "100%|█████████████████████████████████████████████| 5/5 [00:33<00:00,  6.61s/it]\n"
     ]
    },
    {
     "name": "stdout",
     "output_type": "stream",
     "text": [
      "Fold 4/5 median val_loss: 0.11200955510139465, std val_loss 0.007024042502770288\n",
      "Fold 4/5 median train_loss: 0.08089853078126907, std train_loss 0.0024889240376636214\n",
      "Fold 4/5 median val_accuracy: 0.9166666865348816, std val_accuracy 0.0\n",
      "Fold 4/5 median train_accuracy: 0.9387755393981934, train_accuracy 0.0\n",
      "\n",
      "Executing fold 5/5\n"
     ]
    },
    {
     "name": "stderr",
     "output_type": "stream",
     "text": [
      "100%|█████████████████████████████████████████████| 5/5 [00:28<00:00,  5.66s/it]\n"
     ]
    },
    {
     "name": "stdout",
     "output_type": "stream",
     "text": [
      "Fold 5/5 median val_loss: 0.08174560964107513, std val_loss 0.07557145969019916\n",
      "Fold 5/5 median train_loss: 0.09455417841672897, std train_loss 0.07485287216915067\n",
      "Fold 5/5 median val_accuracy: 0.9583333134651184, std val_accuracy 0.16666665077209472\n",
      "Fold 5/5 median train_accuracy: 0.9285714030265808, train_accuracy 0.1888168734066009\n",
      "\n",
      "Mean val_loss: 0.09850510880351067, std val_loss: 0.038276493003020044\n",
      "Mean train_loss: 0.08446536958217621, std train_loss: 0.006548391665219843\n",
      "Mean val_accuracy: 0.9340000033378602, std val_accuracy: 0.04225057025075893\n",
      "Mean train_accuracy: 0.9340000033378602, std train_accuracy: 0.010624902520899378\n",
      "\n",
      "\n",
      "\n",
      "\n",
      "\n",
      "\n",
      "Best configuration (loss 0.09850510880351067):\n",
      "{'batch_size': None, 'learning_rate': 0.01, 'max_epochs': 500, 'momentum': 0.9, 'initialization': {'type': 'uniform', 'min': -0.5, 'max': 0.5}, 'early_stopping': {'monitor': 'val_loss', 'patience': 20, 'delta': 0.001}, 'task': 'classification', 'trials_train': 5, 'trials_test': 10, 'nesterov': False, 'regularization': {'method': 'l1', 'value': 0.001}, 'activations_1': 'relu', 'units_1': 5}\n"
     ]
    },
    {
     "name": "stderr",
     "output_type": "stream",
     "text": [
      " 10%|████▍                                       | 1/10 [00:15<02:20, 15.60s/it]"
     ]
    },
    {
     "name": "stdout",
     "output_type": "stream",
     "text": [
      "Trial 1/10 test_loss: 0.06327828764915466\n",
      "Trial 1/10 train_loss: 0.06983541697263718\n",
      "Trial 1/10 val_accuracy: 0.9652777910232544\n",
      "Trial 1/10 accuracy: 0.9426229596138\n"
     ]
    },
    {
     "name": "stderr",
     "output_type": "stream",
     "text": [
      "\r",
      " 20%|████████▊                                   | 2/10 [00:28<01:51, 13.99s/it]"
     ]
    },
    {
     "name": "stdout",
     "output_type": "stream",
     "text": [
      "Trial 2/10 test_loss: 0.06399370729923248\n",
      "Trial 2/10 train_loss: 0.07413427531719208\n",
      "Trial 2/10 val_accuracy: 0.9699074029922485\n",
      "Trial 2/10 accuracy: 0.9426229596138\n"
     ]
    },
    {
     "name": "stderr",
     "output_type": "stream",
     "text": [
      "\r",
      " 30%|█████████████▏                              | 3/10 [00:44<01:44, 14.93s/it]"
     ]
    },
    {
     "name": "stdout",
     "output_type": "stream",
     "text": [
      "Trial 3/10 test_loss: 0.0670115053653717\n",
      "Trial 3/10 train_loss: 0.07415172457695007\n",
      "Trial 3/10 val_accuracy: 0.9606481194496155\n",
      "Trial 3/10 accuracy: 0.9426229596138\n"
     ]
    },
    {
     "name": "stderr",
     "output_type": "stream",
     "text": [
      "\r",
      " 40%|█████████████████▌                          | 4/10 [01:00<01:33, 15.53s/it]"
     ]
    },
    {
     "name": "stdout",
     "output_type": "stream",
     "text": [
      "Trial 4/10 test_loss: 0.06580294668674469\n",
      "Trial 4/10 train_loss: 0.07208704203367233\n",
      "Trial 4/10 val_accuracy: 0.9629629850387573\n",
      "Trial 4/10 accuracy: 0.9426229596138\n"
     ]
    },
    {
     "name": "stderr",
     "output_type": "stream",
     "text": [
      "\r",
      " 50%|██████████████████████                      | 5/10 [01:16<01:18, 15.62s/it]"
     ]
    },
    {
     "name": "stdout",
     "output_type": "stream",
     "text": [
      "Trial 5/10 test_loss: 0.06027274951338768\n",
      "Trial 5/10 train_loss: 0.0736326202750206\n",
      "Trial 5/10 val_accuracy: 0.9722222089767456\n",
      "Trial 5/10 accuracy: 0.9344262480735779\n"
     ]
    },
    {
     "name": "stderr",
     "output_type": "stream",
     "text": [
      "\r",
      " 60%|██████████████████████████▍                 | 6/10 [01:30<01:00, 15.09s/it]"
     ]
    },
    {
     "name": "stdout",
     "output_type": "stream",
     "text": [
      "Trial 6/10 test_loss: 0.06807345151901245\n",
      "Trial 6/10 train_loss: 0.07609893381595612\n",
      "Trial 6/10 val_accuracy: 0.9675925970077515\n",
      "Trial 6/10 accuracy: 0.9426229596138\n"
     ]
    },
    {
     "name": "stderr",
     "output_type": "stream",
     "text": [
      "\r",
      " 70%|██████████████████████████████▊             | 7/10 [01:53<00:52, 17.48s/it]"
     ]
    },
    {
     "name": "stdout",
     "output_type": "stream",
     "text": [
      "Trial 7/10 test_loss: 0.0640689954161644\n",
      "Trial 7/10 train_loss: 0.0718989372253418\n",
      "Trial 7/10 val_accuracy: 0.9652777910232544\n",
      "Trial 7/10 accuracy: 0.9426229596138\n"
     ]
    },
    {
     "name": "stderr",
     "output_type": "stream",
     "text": [
      "\r",
      " 80%|███████████████████████████████████▏        | 8/10 [02:08<00:33, 16.90s/it]"
     ]
    },
    {
     "name": "stdout",
     "output_type": "stream",
     "text": [
      "Trial 8/10 test_loss: 0.06858371943235397\n",
      "Trial 8/10 train_loss: 0.07588043063879013\n",
      "Trial 8/10 val_accuracy: 0.9629629850387573\n",
      "Trial 8/10 accuracy: 0.9426229596138\n"
     ]
    },
    {
     "name": "stderr",
     "output_type": "stream",
     "text": [
      "\r",
      " 90%|███████████████████████████████████████▌    | 9/10 [02:23<00:16, 16.13s/it]"
     ]
    },
    {
     "name": "stdout",
     "output_type": "stream",
     "text": [
      "Trial 9/10 test_loss: 0.06592229753732681\n",
      "Trial 9/10 train_loss: 0.0766381099820137\n",
      "Trial 9/10 val_accuracy: 0.9675925970077515\n",
      "Trial 9/10 accuracy: 0.9426229596138\n"
     ]
    },
    {
     "name": "stderr",
     "output_type": "stream",
     "text": [
      "100%|███████████████████████████████████████████| 10/10 [02:36<00:00, 15.70s/it]"
     ]
    },
    {
     "name": "stdout",
     "output_type": "stream",
     "text": [
      "Trial 10/10 test_loss: 0.06675337255001068\n",
      "Trial 10/10 train_loss: 0.07348369807004929\n",
      "Trial 10/10 val_accuracy: 0.9629629850387573\n",
      "Trial 10/10 accuracy: 0.9426229596138\n",
      "\n",
      "Median test_loss: 0.06592229753732681, std test_loss 0.0023807776605654714\n",
      "Median train_loss: 0.0766381099820137, std train_loss 0.002007369692011218\n",
      "Median test_accuracy: 0.9675925970077515, std test_accuracy 0.0034020650316517625\n",
      "Median train_accuracy: 0.9426229596138, std train_accuracy 0.0024590134620666505\n"
     ]
    },
    {
     "name": "stderr",
     "output_type": "stream",
     "text": [
      "\n"
     ]
    },
    {
     "data": {
      "image/png": "[encoded data removed]",
      "text/plain": [
       "<Figure size 640x480 with 1 Axes>"
      ]
     },
     "metadata": {},
     "output_type": "display_data"
    },
    {
     "data": {
      "image/png": "[encoded data removed]",
      "text/plain": [
       "<Figure size 640x480 with 1 Axes>"
      ]
     },
     "metadata": {},
     "output_type": "display_data"
    },
    {
     "name": "stdout",
     "output_type": "stream",
     "text": [
      "14/14 [==============================] - 0s 2ms/step - loss: 0.0659 - accuracy: 0.9676\n",
      "[0.06592229753732681, 0.9675925970077515]\n"
     ]
    }
   ],
   "source": [
    "model = grid_search(params, x_train, y_train, k_fold_val, x_test, y_test)\n",
    "test_model(model, x_test, y_test)"
   ]
  },
  {
   "cell_type": "markdown",
   "id": "58a98502",
   "metadata": {},
   "source": [
    "# ML Cup"
   ]
  },
  {
   "cell_type": "code",
   "execution_count": 104,
   "id": "cebb8e47",
   "metadata": {},
   "outputs": [
    {
     "name": "stdout",
     "output_type": "stream",
     "text": [
      "(1492, 9) (1492, 2)\n",
      "(529, 9)\n"
     ]
    }
   ],
   "source": [
    "x_train, y_train, x_test, _ = load_dataset(\"cup\", True)\n",
    "print(x_train.shape, y_train.shape)\n",
    "print(x_test.shape)"
   ]
  },
  {
   "cell_type": "code",
   "execution_count": 105,
   "id": "1ea9267d",
   "metadata": {},
   "outputs": [],
   "source": [
    "params = {\n",
    "    \"task\": \"regression\",\n",
    "    \"trials_train\": 5,\n",
    "    \"trials_test\": 10,\n",
    "    \"initialization\": {\n",
    "        \"type\": \"uniform\",\n",
    "        \"min\": -0.5,\n",
    "        \"max\": 0.5\n",
    "    },\n",
    "    \"early_stopping\": {\n",
    "        \"monitor\": \"val_loss\",\n",
    "        \"patience\": 20,\n",
    "        \"delta\": 0.001\n",
    "    },\n",
    "    \"max_epochs\": [500],\n",
    "    \"learning_rate\": [0.01],\n",
    "    \"batch_size\": [None],\n",
    "    \"nesterov\": False,\n",
    "    \"momentum\": [0.9],\n",
    "    \"learning_rate_decay\": None,\n",
    "    \"regularization\": [\n",
    "        {\n",
    "            \"type\": \"l1\",\n",
    "            \"value\": [0.01]\n",
    "        }\n",
    "    ],\n",
    "    \"layers\": [\n",
    "        {\n",
    "            \"activations\": [\"relu\"],\n",
    "            \"units\": [10],\n",
    "        },\n",
    "    ]\n",
    "}\n",
    "\n",
    "\n",
    "k_fold_val = {\n",
    "    \"type\": \"k-fold\",\n",
    "    \"n_folds\": 5\n",
    "}\n",
    "\n",
    "hold_out_val = {\n",
    "    \"type\": \"hold-out\",\n",
    "    \"val_split\": 0.15\n",
    "}"
   ]
  },
  {
   "cell_type": "code",
   "execution_count": 106,
   "id": "e8b5f6d4",
   "metadata": {},
   "outputs": [
    {
     "name": "stdout",
     "output_type": "stream",
     "text": [
      "Testing configuration 1/1:\n",
      "{'batch_size': None, 'learning_rate': 0.01, 'max_epochs': 500, 'momentum': 0.9, 'initialization': {'type': 'uniform', 'min': -0.5, 'max': 0.5}, 'early_stopping': {'monitor': 'val_loss', 'patience': 20, 'delta': 0.001}, 'task': 'regression', 'trials_train': 5, 'trials_test': 10, 'nesterov': False, 'learning_rate_decay': None, 'regularization': {'method': 'l1', 'value': 0.01}, 'activations_1': 'relu', 'units_1': 10}\n",
      "\n",
      "Executing fold 1/5\n"
     ]
    },
    {
     "name": "stderr",
     "output_type": "stream",
     "text": [
      "100%|█████████████████████████████████████████████| 5/5 [00:30<00:00,  6.11s/it]\n"
     ]
    },
    {
     "name": "stdout",
     "output_type": "stream",
     "text": [
      "Fold 1/5 median val_loss: 0.19434672594070435, std val_loss 0.001844272355411295\n",
      "Fold 1/5 median train_loss: 0.193853959441185, std train_loss 0.003111411845677442\n",
      "Fold 1/5 median val_mee: 0.3735908567905426, std val_mee 0.004647112056142493\n",
      "Fold 1/5 median train_mee: 0.3681683838367462, train_mee 0.006958321013537082\n",
      "\n",
      "Executing fold 2/5\n"
     ]
    },
    {
     "name": "stderr",
     "output_type": "stream",
     "text": [
      "100%|█████████████████████████████████████████████| 5/5 [00:31<00:00,  6.40s/it]\n"
     ]
    },
    {
     "name": "stdout",
     "output_type": "stream",
     "text": [
      "Fold 2/5 median val_loss: 0.19004246592521667, std val_loss 0.004879179799899302\n",
      "Fold 2/5 median train_loss: 0.19238080084323883, std train_loss 0.00357590880297389\n",
      "Fold 2/5 median val_mee: 0.35483768582344055, std val_mee 0.004130871366912167\n",
      "Fold 2/5 median train_mee: 0.35207054018974304, train_mee 0.005714244405791029\n",
      "\n",
      "Executing fold 3/5\n"
     ]
    },
    {
     "name": "stderr",
     "output_type": "stream",
     "text": [
      "100%|█████████████████████████████████████████████| 5/5 [00:42<00:00,  8.53s/it]\n"
     ]
    },
    {
     "name": "stdout",
     "output_type": "stream",
     "text": [
      "Fold 3/5 median val_loss: 0.18107034265995026, std val_loss 0.00305427299774901\n",
      "Fold 3/5 median train_loss: 0.19733873009681702, std train_loss 0.0024014568184078963\n",
      "Fold 3/5 median val_mee: 0.34324294328689575, std val_mee 0.006420117236057966\n",
      "Fold 3/5 median train_mee: 0.36544057726860046, train_mee 0.003962940692659317\n",
      "\n",
      "Executing fold 4/5\n"
     ]
    },
    {
     "name": "stderr",
     "output_type": "stream",
     "text": [
      "100%|█████████████████████████████████████████████| 5/5 [00:42<00:00,  8.44s/it]\n"
     ]
    },
    {
     "name": "stdout",
     "output_type": "stream",
     "text": [
      "Fold 4/5 median val_loss: 0.21699078381061554, std val_loss 0.004177580235037803\n",
      "Fold 4/5 median train_loss: 0.18586039543151855, std train_loss 0.0025068275276275516\n",
      "Fold 4/5 median val_mee: 0.3733465075492859, std val_mee 0.005867094116923108\n",
      "Fold 4/5 median train_mee: 0.3496476411819458, train_mee 0.005908059656112245\n",
      "\n",
      "Executing fold 5/5\n"
     ]
    },
    {
     "name": "stderr",
     "output_type": "stream",
     "text": [
      "100%|█████████████████████████████████████████████| 5/5 [00:34<00:00,  6.88s/it]\n"
     ]
    },
    {
     "name": "stdout",
     "output_type": "stream",
     "text": [
      "Fold 5/5 median val_loss: 0.1850070208311081, std val_loss 0.0028434132219900595\n",
      "Fold 5/5 median train_loss: 0.19480031728744507, std train_loss 0.002574761768799052\n",
      "Fold 5/5 median val_mee: 0.35035794973373413, std val_mee 0.006678268269380463\n",
      "Fold 5/5 median train_mee: 0.37015247344970703, train_mee 0.004009246253350852\n",
      "\n",
      "Mean val_loss: 0.19349146783351898, std val_loss: 0.012578673407788173\n",
      "Mean train_loss: 0.1928468406200409, std train_loss: 0.003847987524079462\n",
      "Mean val_mee: 0.3590751886367798, std val_mee: 0.012320566890020715\n",
      "Mean train_mee: 0.3590751886367798, std train_mee: 0.008525696693013864\n",
      "\n",
      "\n",
      "\n",
      "\n",
      "\n",
      "\n",
      "Best configuration (loss 0.19349146783351898):\n",
      "{'batch_size': None, 'learning_rate': 0.01, 'max_epochs': 500, 'momentum': 0.9, 'initialization': {'type': 'uniform', 'min': -0.5, 'max': 0.5}, 'early_stopping': {'monitor': 'val_loss', 'patience': 20, 'delta': 0.001}, 'task': 'regression', 'trials_train': 5, 'trials_test': 10, 'nesterov': False, 'learning_rate_decay': None, 'regularization': {'method': 'l1', 'value': 0.01}, 'activations_1': 'relu', 'units_1': 10}\n"
     ]
    },
    {
     "name": "stderr",
     "output_type": "stream",
     "text": [
      " 10%|████▍                                       | 1/10 [00:04<00:37,  4.12s/it]"
     ]
    },
    {
     "name": "stdout",
     "output_type": "stream",
     "text": [
      "Trial 1/10 train_loss: 0.1943889558315277\n",
      "Trial 1/10 train_mee: 0.3584446609020233\n"
     ]
    },
    {
     "name": "stderr",
     "output_type": "stream",
     "text": [
      "\r",
      " 20%|████████▊                                   | 2/10 [00:11<00:49,  6.25s/it]"
     ]
    },
    {
     "name": "stdout",
     "output_type": "stream",
     "text": [
      "Trial 2/10 train_loss: 0.18419745564460754\n",
      "Trial 2/10 train_mee: 0.36471617221832275\n"
     ]
    },
    {
     "name": "stderr",
     "output_type": "stream",
     "text": [
      "\r",
      " 30%|█████████████▏                              | 3/10 [00:15<00:36,  5.17s/it]"
     ]
    },
    {
     "name": "stdout",
     "output_type": "stream",
     "text": [
      "Trial 3/10 train_loss: 0.19425082206726074\n",
      "Trial 3/10 train_mee: 0.3598128855228424\n"
     ]
    },
    {
     "name": "stderr",
     "output_type": "stream",
     "text": [
      "\r",
      " 40%|█████████████████▌                          | 4/10 [00:19<00:26,  4.47s/it]"
     ]
    },
    {
     "name": "stdout",
     "output_type": "stream",
     "text": [
      "Trial 4/10 train_loss: 0.19475440680980682\n",
      "Trial 4/10 train_mee: 0.36823686957359314\n"
     ]
    },
    {
     "name": "stderr",
     "output_type": "stream",
     "text": [
      "\r",
      " 50%|██████████████████████                      | 5/10 [00:22<00:19,  3.91s/it]"
     ]
    },
    {
     "name": "stdout",
     "output_type": "stream",
     "text": [
      "Trial 5/10 train_loss: 0.19389063119888306\n",
      "Trial 5/10 train_mee: 0.3712218701839447\n"
     ]
    },
    {
     "name": "stderr",
     "output_type": "stream",
     "text": [
      "\r",
      " 60%|██████████████████████████▍                 | 6/10 [00:24<00:14,  3.54s/it]"
     ]
    },
    {
     "name": "stdout",
     "output_type": "stream",
     "text": [
      "Trial 6/10 train_loss: 0.19357827305793762\n",
      "Trial 6/10 train_mee: 0.3571604788303375\n"
     ]
    },
    {
     "name": "stderr",
     "output_type": "stream",
     "text": [
      "\r",
      " 70%|██████████████████████████████▊             | 7/10 [00:27<00:09,  3.31s/it]"
     ]
    },
    {
     "name": "stdout",
     "output_type": "stream",
     "text": [
      "Trial 7/10 train_loss: 0.19133079051971436\n",
      "Trial 7/10 train_mee: 0.3608850836753845\n"
     ]
    },
    {
     "name": "stderr",
     "output_type": "stream",
     "text": [
      "\r",
      " 80%|███████████████████████████████████▏        | 8/10 [00:31<00:06,  3.39s/it]"
     ]
    },
    {
     "name": "stdout",
     "output_type": "stream",
     "text": [
      "Trial 8/10 train_loss: 0.1922704577445984\n",
      "Trial 8/10 train_mee: 0.35800987482070923\n"
     ]
    },
    {
     "name": "stderr",
     "output_type": "stream",
     "text": [
      "\r",
      " 90%|███████████████████████████████████████▌    | 9/10 [00:37<00:04,  4.24s/it]"
     ]
    },
    {
     "name": "stdout",
     "output_type": "stream",
     "text": [
      "Trial 9/10 train_loss: 0.19419308006763458\n",
      "Trial 9/10 train_mee: 0.35831573605537415\n"
     ]
    },
    {
     "name": "stderr",
     "output_type": "stream",
     "text": [
      "100%|███████████████████████████████████████████| 10/10 [00:41<00:00,  4.12s/it]"
     ]
    },
    {
     "name": "stdout",
     "output_type": "stream",
     "text": [
      "Trial 10/10 train_loss: 0.18507260084152222\n",
      "Trial 10/10 train_mee: 0.3649287521839142\n",
      "\n",
      "Median train_loss: 0.19389063119888306, std train_loss 0.0037174602744760865\n",
      "Median train_mee: 0.3712218701839447, std train_mee 0.004595424968178355\n"
     ]
    },
    {
     "name": "stderr",
     "output_type": "stream",
     "text": [
      "\n"
     ]
    },
    {
     "data": {
      "image/png": "[encoded data removed]",
      "text/plain": [
       "<Figure size 640x480 with 1 Axes>"
      ]
     },
     "metadata": {},
     "output_type": "display_data"
    },
    {
     "data": {
      "image/png": "[encoded data removed]",
      "text/plain": [
       "<Figure size 640x480 with 1 Axes>"
      ]
     },
     "metadata": {},
     "output_type": "display_data"
    }
   ],
   "source": [
    "model = grid_search(params, x_train, y_train, k_fold_val)\n",
    "# model.summary()\n",
    "# test_model(model, x_test, y_test)"
   ]
  },
  {
   "cell_type": "code",
   "execution_count": 107,
   "id": "b317f7c2",
   "metadata": {},
   "outputs": [
    {
     "name": "stdout",
     "output_type": "stream",
     "text": [
      "(1492, 2)\n",
      "47/47 [==============================] - 0s 1ms/step\n"
     ]
    },
    {
     "data": {
      "image/png": "[encoded data removed]",
      "text/plain": [
       "<Figure size 640x480 with 1 Axes>"
      ]
     },
     "metadata": {},
     "output_type": "display_data"
    }
   ],
   "source": [
    "y_train_rescaled = scaler.inverse_transform(y_train)\n",
    "print(y_train.shape)\n",
    "\n",
    "plt.scatter(y_train_rescaled[:, 0], y_train_rescaled[:, 1], label=\"True\")\n",
    "pred = model.predict(x_train)\n",
    "pred = scaler.inverse_transform(pred)\n",
    "plt.scatter(pred[:, 0], pred[:, 1], label = \"Predicted\")\n",
    "plt.legend()\n",
    "plt.show()"
   ]
  },
  {
   "cell_type": "code",
   "execution_count": null,
   "id": "8763cc51",
   "metadata": {},
   "outputs": [],
   "source": []
  }
 ],
 "metadata": {
  "kernelspec": {
   "display_name": "mlvenv",
   "language": "python",
   "name": "mlvenv"
  },
  "language_info": {
   "codemirror_mode": {
    "name": "ipython",
    "version": 3
   },
   "file_extension": ".py",
   "mimetype": "text/x-python",
   "name": "python",
   "nbconvert_exporter": "python",
   "pygments_lexer": "ipython3",
   "version": "3.10.6"
  }
 },
 "nbformat": 4,
 "nbformat_minor": 5
}
