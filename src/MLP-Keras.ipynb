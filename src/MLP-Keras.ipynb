{
 "cells": [
  {
   "cell_type": "code",
   "execution_count": 1,
   "id": "d37f696d",
   "metadata": {},
   "outputs": [
    {
     "name": "stderr",
     "output_type": "stream",
     "text": [
      "2022-12-21 22:33:17.478446: I tensorflow/core/platform/cpu_feature_guard.cc:193] This TensorFlow binary is optimized with oneAPI Deep Neural Network Library (oneDNN) to use the following CPU instructions in performance-critical operations:  AVX2 FMA\n",
      "To enable them in other operations, rebuild TensorFlow with the appropriate compiler flags.\n",
      "2022-12-21 22:33:24.331308: E tensorflow/stream_executor/cuda/cuda_blas.cc:2981] Unable to register cuBLAS factory: Attempting to register factory for plugin cuBLAS when one has already been registered\n",
      "2022-12-21 22:33:32.713717: W tensorflow/stream_executor/platform/default/dso_loader.cc:64] Could not load dynamic library 'libnvinfer.so.7'; dlerror: libnvinfer.so.7: cannot open shared object file: No such file or directory\n",
      "2022-12-21 22:33:32.714005: W tensorflow/stream_executor/platform/default/dso_loader.cc:64] Could not load dynamic library 'libnvinfer_plugin.so.7'; dlerror: libnvinfer_plugin.so.7: cannot open shared object file: No such file or directory\n",
      "2022-12-21 22:33:32.714030: W tensorflow/compiler/tf2tensorrt/utils/py_utils.cc:38] TF-TRT Warning: Cannot dlopen some TensorRT libraries. If you would like to use Nvidia GPU with TensorRT, please make sure the missing libraries mentioned above are installed properly.\n"
     ]
    }
   ],
   "source": [
    "import warnings\n",
    "warnings.filterwarnings('ignore')\n",
    "from tqdm import tqdm\n",
    "import pandas as pd\n",
    "import numpy as np\n",
    "import tensorflow as tf\n",
    "from sklearn.model_selection import GridSearchCV\n",
    "from tensorflow.keras.models import Sequential\n",
    "from keras.regularizers import l1, l2\n",
    "from tensorflow.keras import initializers\n",
    "from tensorflow.keras.layers import Dense, Input\n",
    "from tensorflow.keras.callbacks import EarlyStopping\n",
    "from scikeras.wrappers import KerasClassifier\n",
    "from sklearn.model_selection import KFold\n",
    "import keras_tuner\n",
    "import keras\n",
    "from keras import layers\n",
    "import itertools\n",
    "from sklearn.model_selection import train_test_split\n",
    "from keras.optimizers import SGD\n",
    "from keras.callbacks import EarlyStopping\n",
    "from keras.callbacks import LearningRateScheduler\n",
    "import matplotlib.pyplot as plt\n",
    "from sklearn.model_selection import KFold, StratifiedKFold\n",
    "from sklearn.preprocessing import OneHotEncoder\n",
    "import keras.backend as K\n",
    "from sklearn.preprocessing import StandardScaler, MinMaxScaler\n",
    "from math import ceil\n",
    "from keras.losses import mean_squared_error\n",
    "\n",
    "seed = 7\n",
    "tf.random.set_seed(seed)"
   ]
  },
  {
   "cell_type": "code",
   "execution_count": 2,
   "id": "6d8327a6",
   "metadata": {},
   "outputs": [],
   "source": [
    "def plot_curves(curve_1, label_1, curve_2=None, label_2=None):\n",
    "    if curve_1 is not None: \n",
    "        plt.plot(curve_1, label = label_1)\n",
    "    if curve_2 is not None: \n",
    "        plt.plot(curve_2, label = label_2)   \n",
    "    plt.legend()\n",
    "    plt.show()"
   ]
  },
  {
   "cell_type": "code",
   "execution_count": 3,
   "id": "d60634f7",
   "metadata": {},
   "outputs": [],
   "source": [
    "x_scaler = None\n",
    "y_scaler = None\n",
    "\n",
    "def load_monks(path, encode):\n",
    "    \n",
    "    train = pd.read_csv(f\"{path}.train\", header=None, sep=\" \")\n",
    "    test = pd.read_csv(f\"{path}.test\", header=None, sep=\" \")\n",
    "    \n",
    "    train.drop(0, axis=1, inplace=True)\n",
    "    test.drop(0, axis=1, inplace=True)\n",
    "    train.drop(8, axis=1, inplace=True)\n",
    "    test.drop(8, axis=1, inplace=True)\n",
    "    \n",
    "    y_train = train.iloc[:, 0].to_numpy().astype(np.float64)\n",
    "    x_train = train.iloc[:, 1:].to_numpy().astype(np.float64)\n",
    "    y_test = test.iloc[:, 0].to_numpy().astype(np.float64)\n",
    "    x_test = test.iloc[:, 1:].to_numpy().astype(np.float64)\n",
    "    \n",
    "        \n",
    "    if encode:\n",
    "        \n",
    "        encoder = OneHotEncoder()\n",
    "        \n",
    "        encoder.fit(x_train)\n",
    "        x_train = encoder.transform(x_train).toarray()\n",
    "        x_test = encoder.transform(x_test).toarray()\n",
    "        \n",
    "        \n",
    "    \n",
    "    print(f\"Loaded {path} dataset\")\n",
    "    \n",
    "    return x_train, y_train, x_test, y_test\n",
    "    \n",
    "\n",
    "def load_cup(scale):\n",
    "    global x_scaler\n",
    "    global y_scaler\n",
    "    \n",
    "    x_scaler = StandardScaler()\n",
    "    y_scaler = StandardScaler()\n",
    "    # scaler = MinMaxScaler()\n",
    "    \n",
    "    train = pd.read_csv(\"../data/ML-CUP22-INTERNAL-TR.csv\", header=None, sep=\",\")\n",
    "    test = pd.read_csv(\"../data/ML-CUP22-INTERNAL-TS.csv\", header=None, sep=\",\")\n",
    "    train.drop(0, axis=1, inplace=True)\n",
    "    test.drop(0, axis=1, inplace=True)\n",
    "\n",
    "    x_train = train.iloc[:, :9].to_numpy().astype(np.float64)\n",
    "    y_train = train.iloc[:, 9:].to_numpy().astype(np.float64)\n",
    "\n",
    "    x_test = test.iloc[:, :9].to_numpy().astype(np.float64)\n",
    "    y_test = test.iloc[:, 9:].to_numpy().astype(np.float64) \n",
    "    # x_test_blind = test.to_numpy().astype(np.float64)\n",
    "    \n",
    "    # x_train, x_test, y_train, y_test = train_test_split(x_train, y_train, test_size=0.1, shuffle=True, random_state=7)\n",
    "    \n",
    "    if scale:\n",
    "        x_scaler.fit(x_train)\n",
    "        x_train = x_scaler.transform(x_train)\n",
    "        x_test = x_scaler.transform(x_test)\n",
    "        \n",
    "        y_scaler.fit(y_train)\n",
    "        y_train = y_scaler.transform(y_train)\n",
    "        y_test = y_scaler.transform(y_test)\n",
    "        \n",
    "        \n",
    "    return x_train, y_train, x_test, y_test #, x_test_blind\n",
    "    \n",
    "    \n",
    "    \n",
    "def load_dataset(dataset, encode=True):\n",
    "    assert dataset in [\"monks1\", \"monks2\", \"monks3\", \"cup\"]\n",
    "    \n",
    "    if dataset == \"monks1\":\n",
    "        return load_monks(\"./../data/monks-1\", encode)\n",
    "    elif dataset == \"monks2\":\n",
    "        return load_monks(\"./../data/monks-2\", encode)\n",
    "    elif dataset == \"monks3\":\n",
    "        return load_monks(\"./../data/monks-3\", encode)\n",
    "    else:\n",
    "        return load_cup(encode)"
   ]
  },
  {
   "cell_type": "code",
   "execution_count": 4,
   "id": "68a4b4e1",
   "metadata": {},
   "outputs": [],
   "source": [
    "def median_index(array):\n",
    "    n = len(array)\n",
    "    med_idx = np.argsort(array)[ceil((n-1)/2)]\n",
    "    # med_val = array[med_idx]\n",
    "    return med_idx #, med_val\n",
    "\n",
    "def mee(y_true_t, y_pred_t):\n",
    "    return tf.reduce_mean(tf.sqrt(tf.reduce_sum(tf.square(y_true_t - y_pred_t), axis=1)))\n",
    "    \n",
    "    \n",
    "def mse(y_true_t, y_pred_t):\n",
    "    return tf.reduce_mean(tf.reduce_sum(tf.square(y_true_t - y_pred_t), axis=1))\n",
    "\n",
    "\n",
    "def merge_dicts(dicts):\n",
    "    merged = {}\n",
    "    for d in dicts:\n",
    "        merged = {**merged, **d}\n",
    "    return merged\n",
    "\n",
    "\n",
    "def get_attributes_num(dataset):\n",
    "    return 1 if len(dataset.shape) == 1 else dataset.shape[1]\n",
    "\n",
    "\n",
    "def get_params_configurations(params):\n",
    "    \n",
    "    keys = list(params.keys())\n",
    "    keys.remove(\"layers\")\n",
    "    keys.remove(\"task\")\n",
    "    keys.remove(\"initialization\")\n",
    "    keys.remove(\"early_stopping\")\n",
    "    keys.remove(\"regularization\")\n",
    "    keys.remove(\"nesterov\")\n",
    "    keys.remove(\"trials_train\")\n",
    "    keys.remove(\"trials_test\")\n",
    "    keys.remove(\"learning_rate_decay\")\n",
    "    sorted_keys = sorted(keys)\n",
    "    arguments = []\n",
    "    for key in sorted_keys:\n",
    "        arguments.append(params[key])\n",
    "    \n",
    "    arguments = tuple(arguments)\n",
    "    all_params = list(itertools.product(*arguments))\n",
    "        \n",
    "    configurations = []\n",
    "    \n",
    "    for conf in all_params:\n",
    "        \n",
    "        dict_conf = {}\n",
    "        \n",
    "        for i in range(len(sorted_keys)):\n",
    "            dict_conf[sorted_keys[i]] = conf[i]\n",
    "        dict_conf[\"initialization\"] = params[\"initialization\"]\n",
    "        dict_conf[\"early_stopping\"] = params[\"early_stopping\"]\n",
    "        dict_conf[\"task\"] = params[\"task\"]\n",
    "        dict_conf[\"trials_train\"] = params[\"trials_train\"]\n",
    "        dict_conf[\"trials_test\"] = params[\"trials_test\"]\n",
    "        dict_conf[\"nesterov\"] = params[\"nesterov\"]\n",
    "        dict_conf[\"learning_rate_decay\"] = params[\"learning_rate_decay\"]\n",
    "        \n",
    "        # add regularization parameters\n",
    "        for reg in params[\"regularization\"]:\n",
    "            method = reg[\"type\"]\n",
    "            \n",
    "            if method == None:\n",
    "                reg_dict_conf = dict_conf.copy()\n",
    "                reg_dict_conf[\"regularization\"] = {\n",
    "                    \"method\": None\n",
    "                }\n",
    "                configurations.append(reg_dict_conf)\n",
    "                continue\n",
    "            \n",
    "            for val in reg[\"value\"]:\n",
    "                reg_dict_conf = dict_conf.copy()\n",
    "                reg_dict_conf[\"regularization\"] = {\n",
    "                    \"method\": method,\n",
    "                    \"value\": val\n",
    "                }\n",
    "        \n",
    "                configurations.append(reg_dict_conf)\n",
    "            \n",
    "        \n",
    "    return configurations\n",
    "\n",
    "\n",
    "def get_callbacks(config):\n",
    "    \n",
    "    lr_decay = config[\"learning_rate_decay\"]\n",
    "    early_stopping = config[\"early_stopping\"]\n",
    "    \n",
    "    callbacks = []\n",
    "    \n",
    "    if early_stopping != None:\n",
    "        early_stop = EarlyStopping(\n",
    "            monitor=early_stopping[\"monitor\"], \n",
    "            patience=early_stopping[\"patience\"], \n",
    "            min_delta=early_stopping[\"delta\"], \n",
    "        )\n",
    "        callbacks.append(early_stop)\n",
    "\n",
    "    if lr_decay != None:\n",
    "        decay_epochs = lr_decay[\"epochs\"]\n",
    "        lr_final = lr_decay[\"lr_final\"]\n",
    "        linear_scheduler = get_linear_scheduler(decay_epochs, lr_final)\n",
    "        scheduler = LearningRateScheduler(linear_scheduler)\n",
    "        callbacks.append(scheduler)\n",
    "        \n",
    "    return callbacks if callbacks != [] else None\n",
    "        \n",
    "\n",
    "\n",
    "def get_layers_configurations(params, configurations):\n",
    "    layers = params[\"layers\"]\n",
    "    layers_params_confs = []\n",
    "    \n",
    "    for n_layer in range(len(layers)):\n",
    "        layers_params_confs.append([]) \n",
    "    \n",
    "    for i in range(len(layers)):\n",
    "        layer = layers[i]\n",
    "        activations = layer[\"activations\"]\n",
    "        units = layer[\"units\"]\n",
    "        layer_confs = list(itertools.product(activations, units))\n",
    "        for conf in layer_confs:\n",
    "            conf_dict = {\n",
    "                f\"activations_{i+1}\": conf[0],\n",
    "                f\"units_{i+1}\": conf[1]\n",
    "            }\n",
    "            layers_params_confs[i].append(conf_dict)\n",
    "        \n",
    "    layers_confs = []\n",
    "    for i in range(len(layers_params_confs)):\n",
    "        confs = layers_params_confs[:i+1]\n",
    "        confs = tuple(confs)\n",
    "        confs = list(itertools.product(*confs))\n",
    "        for conf in confs:\n",
    "            layers_confs.append(merge_dicts(conf))\n",
    "                \n",
    "    return layers_confs\n",
    "\n",
    "\n",
    "\n",
    "def get_configurations(params):\n",
    "    \n",
    "    configurations = get_params_configurations(params)\n",
    "    layers_confs = get_layers_configurations(params, configurations)\n",
    "    configurations = list(itertools.product(configurations, layers_confs))\n",
    "    configurations_merged = []\n",
    "    \n",
    "    for conf in configurations:\n",
    "        configurations_merged.append(merge_dicts(conf))\n",
    "        \n",
    "    \n",
    "    return configurations_merged\n",
    "\n",
    "            \n",
    "\n",
    "def get_linear_scheduler(epochs, lr_final):\n",
    "    \n",
    "    def linear_scheduler(epoch, lr):\n",
    "        if (epoch < epochs):\n",
    "            alpha = epoch/epochs\n",
    "            return (1-alpha)*lr + alpha*lr_final\n",
    "        else:\n",
    "            return lr_final\n",
    "        \n",
    "    return linear_scheduler\n",
    "    \n",
    "\n",
    "def get_model(config, input_size, output_size):\n",
    "    \n",
    "    lr = config[\"learning_rate\"]\n",
    "    momentum = config[\"momentum\"]\n",
    "    init_method = config[\"initialization\"][\"type\"]\n",
    "    task = config[\"task\"]\n",
    "    nesterov = config[\"nesterov\"]\n",
    "    \n",
    "    reg_method = config[\"regularization\"][\"method\"]\n",
    "    \n",
    "    if reg_method == \"l1\":\n",
    "        reg_value = config[\"regularization\"][\"value\"]\n",
    "        reg = l1(reg_value)\n",
    "    elif reg_method == \"l2\":\n",
    "        reg_value = config[\"regularization\"][\"value\"]\n",
    "        reg = l2(reg_value)\n",
    "    else:\n",
    "        reg = None\n",
    "    \n",
    "    \n",
    "    init = None\n",
    "    if init_method == \"uniform\":\n",
    "        min_val = config[\"initialization\"][\"min\"]\n",
    "        max_val = config[\"initialization\"][\"max\"]\n",
    "        init = initializers.RandomUniform(minval=min_val, maxval=max_val, seed=None)\n",
    "    if init_method == \"normal\":\n",
    "        mean = config[\"initialization\"][\"mean\"]\n",
    "        std = config[\"initialization\"][\"std\"]\n",
    "        init = initializers.RandomNormal(mean=mean, stddev=std, seed=None)\n",
    "        \n",
    "    \n",
    "    if momentum != None:\n",
    "        optimizer = SGD(learning_rate=lr, momentum=momentum, nesterov=nesterov)\n",
    "    else:\n",
    "        optimizer = SGD(learning_rate=lr)\n",
    "    \n",
    "    n_layers = 0\n",
    "    for key in config.keys():\n",
    "        if key.startswith(\"units_\"):\n",
    "            n_layers += 1\n",
    "\n",
    "    model = Sequential()\n",
    "    model.add(Input(input_size))\n",
    "    \n",
    "    for l in range(1,n_layers+1):\n",
    "        activation = config[f\"activations_{l}\"]\n",
    "        n_units = config[f\"units_{l}\"]\n",
    "        \n",
    "        model.add(Dense(n_units, activation=activation,\n",
    "                        kernel_regularizer=reg, bias_regularizer=reg,\n",
    "                        kernel_initializer = init, bias_initializer = init))\n",
    "        \n",
    "        \n",
    "    if task == \"classification\":\n",
    "        model.add(Dense(output_size, activation=\"sigmoid\",\n",
    "                        kernel_regularizer=reg, bias_regularizer=reg,\n",
    "                        kernel_initializer = init, bias_initializer = init))\n",
    "        \n",
    "        model.compile(optimizer = optimizer, loss = 'mean_squared_error', metrics = ['accuracy'])\n",
    "        \n",
    "    elif task == \"regression\":\n",
    "        model.add(Dense(output_size, activation=\"linear\",\n",
    "                        kernel_regularizer=reg, bias_regularizer=reg,\n",
    "                        kernel_initializer = init, bias_initializer = init))\n",
    "        \n",
    "        model.compile(optimizer = optimizer, loss = 'mean_squared_error', metrics = [mee])\n",
    "        \n",
    "    return model\n",
    "    \n",
    "    \n",
    "def fit_model_k_fold(x_train, y_train, config, n_folds):\n",
    "    \n",
    "    task = config[\"task\"]\n",
    "    \n",
    "    if task == \"classification\":\n",
    "        train_metric = \"accuracy\"\n",
    "        val_metric = \"val_accuracy\"\n",
    "    elif task == \"regression\":\n",
    "        train_metric = \"mee\"\n",
    "        val_metric = \"val_mee\"\n",
    "    \n",
    "    trials = config[\"trials_train\"]\n",
    "    max_epochs = config[\"max_epochs\"]\n",
    "    batch_size = config[\"batch_size\"]\n",
    "    \n",
    "    callbacks = get_callbacks(config)\n",
    "\n",
    "    \n",
    "    kf = KFold(n_splits = n_folds, shuffle=True)\n",
    "\n",
    "    train_losses = []\n",
    "    val_losses = []\n",
    "    train_accs = []\n",
    "    val_accs = []\n",
    "\n",
    "    fold = 1\n",
    "    for train_index, val_index in kf.split(x_train, y_train):\n",
    "        \n",
    "        print(f\"\\nExecuting fold {fold}/{n_folds}\")\n",
    "        \n",
    "        input_size = get_attributes_num(x_train)\n",
    "        output_size = get_attributes_num(y_train)\n",
    "        \n",
    "                \n",
    "        x_train_fold = x_train[train_index]\n",
    "        y_train_fold = y_train[train_index]\n",
    "\n",
    "        x_val_fold = x_train[val_index]\n",
    "        y_val_fold = y_train[val_index]\n",
    "\n",
    "        \n",
    "        trials_val_loss = []\n",
    "        trials_train_loss = []\n",
    "        trials_val_acc = []\n",
    "        trials_train_acc = []\n",
    "        \n",
    "        with tqdm(total=trials) as pbar:\n",
    "            for trial in range(trials):\n",
    "                model = get_model(config, input_size, output_size)\n",
    "                history = model.fit(x_train_fold, y_train_fold, epochs=max_epochs,\n",
    "                                    validation_data=(x_val_fold, y_val_fold),\n",
    "                                    callbacks=callbacks, verbose = 0)\n",
    "\n",
    "                trial_train_loss = history.history[\"loss\"]\n",
    "                trial_val_loss = history.history[\"val_loss\"]         \n",
    "                trial_train_acc = history.history[train_metric]\n",
    "                trial_val_acc = history.history[val_metric]\n",
    "\n",
    "                trials_val_loss.append(trial_val_loss[-1])\n",
    "                trials_train_loss.append(trial_train_loss[-1])\n",
    "                trials_val_acc.append(trial_val_acc[-1])\n",
    "                trials_train_acc.append(trial_train_acc[-1])\n",
    "\n",
    "                pbar.update(1)\n",
    "            \n",
    "        # get the median metrics among the trials\n",
    "        med_idx = median_index(trials_val_loss)\n",
    "        med_val_loss = trials_val_loss[med_idx]\n",
    "        med_train_loss = trials_train_loss[med_idx]\n",
    "        med_val_acc = trials_val_acc[med_idx]\n",
    "        med_train_acc = trials_train_acc[med_idx]\n",
    "        std_val_loss = np.std(trials_val_loss)\n",
    "        std_train_loss = np.std(trials_train_loss)\n",
    "        std_val_acc = np.std(trials_val_acc)\n",
    "        std_train_acc = np.std(trials_train_acc)\n",
    "\n",
    "        print(f\"Fold {fold}/{n_folds} median val_loss: {med_val_loss}, std val_loss {std_val_loss}\")\n",
    "        print(f\"Fold {fold}/{n_folds} median train_loss: {med_train_loss}, std train_loss {std_train_loss}\")\n",
    "        print(f\"Fold {fold}/{n_folds} median {val_metric}: {med_val_acc}, std {val_metric} {std_val_acc}\")\n",
    "        print(f\"Fold {fold}/{n_folds} median train_{train_metric}: {med_train_acc}, train_{train_metric} {std_train_acc}\")\n",
    "            \n",
    "        train_losses.append(med_train_loss)\n",
    "        val_losses.append(med_val_loss)\n",
    "        val_accs.append(med_val_acc)\n",
    "        train_accs.append(med_train_acc)\n",
    "        \n",
    "        fold += 1\n",
    "        \n",
    "    mean_train_loss = np.mean(train_losses)\n",
    "    mean_val_loss = np.mean(val_losses)\n",
    "    mean_train_acc = np.mean(train_accs)\n",
    "    mean_val_acc = np.mean(val_accs)\n",
    "    std_train_loss = np.std(train_losses)\n",
    "    std_val_loss = np.std(val_losses)\n",
    "    std_train_acc = np.std(train_accs)\n",
    "    std_val_acc = np.std(val_accs)\n",
    "    \n",
    "    print(f\"\\nMean val_loss: {mean_val_loss}, std val_loss: {std_val_loss}\")\n",
    "    print(f\"Mean train_loss: {mean_train_loss}, std train_loss: {std_train_loss}\")\n",
    "    print(f\"Mean {val_metric}: {mean_val_acc}, std {val_metric}: {std_val_acc}\")\n",
    "    print(f\"Mean train_{train_metric}: {mean_val_acc}, std train_{train_metric}: {std_train_acc}\")\n",
    "    \n",
    "    return mean_val_loss\n",
    "\n",
    "\n",
    "\n",
    "\n",
    "def fit_model_hold_out(x_train, y_train, config, val_split):\n",
    "    \n",
    "    task = config[\"task\"]\n",
    "    \n",
    "    if task == \"classification\":\n",
    "        train_metric = \"accuracy\"\n",
    "        val_metric = \"val_accuracy\"\n",
    "    elif task == \"regression\":\n",
    "        train_metric = \"mee\"\n",
    "        val_metric = \"val_mee\"\n",
    "        \n",
    "    trials = config[\"trials_train\"]\n",
    "    input_size = get_attributes_num(x_train)\n",
    "    output_size = get_attributes_num(y_train)\n",
    "    \n",
    "    \n",
    "    max_epochs = config[\"max_epochs\"]\n",
    "    batch_size = config[\"batch_size\"]\n",
    "\n",
    "    \n",
    "    callbacks = get_callbacks(config)\n",
    "    \n",
    "    if task == \"classification\":\n",
    "        stratify = y_train\n",
    "    else:\n",
    "        stratify = None\n",
    "        \n",
    "        \n",
    "    x_train, x_val, y_train, y_val = train_test_split(x_train, y_train, test_size=val_split, shuffle=True, stratify=stratify)\n",
    "\n",
    "    \n",
    "    trials_val_loss = []\n",
    "    trials_train_loss = []\n",
    "    trials_val_acc = []\n",
    "    trials_train_acc = []\n",
    "        \n",
    "    with tqdm(total=trials) as pbar:\n",
    "        for trial in range(trials):            \n",
    "            model = get_model(config, input_size, output_size)\n",
    "            history = model.fit(x_train, y_train, epochs=max_epochs, batch_size=batch_size,\n",
    "                                verbose=0, validation_data=(x_val, y_val), callbacks=callbacks)\n",
    "            \n",
    "\n",
    "            trial_train_loss = history.history[\"loss\"]\n",
    "            trial_val_loss = history.history[\"val_loss\"]         \n",
    "            trial_train_acc = history.history[train_metric]\n",
    "            trial_val_acc = history.history[val_metric]\n",
    "            \n",
    "            trials_val_loss.append(trial_val_loss[-1])\n",
    "            trials_train_loss.append(trial_train_loss[-1])\n",
    "            trials_val_acc.append(trial_val_acc[-1])\n",
    "            trials_train_acc.append(trial_train_acc[-1])\n",
    "            \n",
    "            pbar.update(1)\n",
    "    \n",
    "    # get the median metrics among the trials\n",
    "    med_idx = median_index(trials_val_loss)\n",
    "    med_val_loss = trials_val_loss[med_idx]\n",
    "    med_train_loss = trials_train_loss[med_idx]\n",
    "    med_val_acc = trials_val_acc[med_idx]\n",
    "    med_train_acc = trials_train_acc[med_idx]\n",
    "    std_val_loss = np.std(trials_val_loss)\n",
    "    std_train_loss = np.std(trials_train_loss)\n",
    "    std_val_acc = np.std(trials_val_acc)\n",
    "    std_train_acc = np.std(trials_train_acc)\n",
    "\n",
    "    print(f\"Median val_loss: {med_val_loss}, std val_loss {std_val_loss}\")\n",
    "    print(f\"Median train_loss: {med_train_loss}, std train_loss {std_train_loss}\")\n",
    "    print(f\"Median {val_metric}: {med_val_acc}, std {val_metric} {std_val_acc}\")\n",
    "    print(f\"Median train_{train_metric}: {med_train_acc}, train_{train_metric} {std_train_acc}\")\n",
    "    \n",
    "    return med_val_loss\n",
    "    \n",
    "    \n",
    "\n",
    "def fit_final_model(x_train, y_train, config):\n",
    "    \n",
    "    task = config[\"task\"]\n",
    "    trails = config[\"trials_test\"]\n",
    "    \n",
    "    if task == \"classification\":\n",
    "        train_metric = \"accuracy\"\n",
    "        val_metric = \"val_accuracy\"\n",
    "    elif task == \"regression\":\n",
    "        train_metric = \"mee\"\n",
    "        val_metric = \"val_mee\"\n",
    "    val_loss = \"val_mse\"\n",
    "    train_loss = \"mse\"\n",
    "\n",
    "    max_epochs = config[\"max_epochs\"]\n",
    "    batch_size = config[\"batch_size\"]\n",
    "    trials = config[\"trials_test\"]\n",
    "    \n",
    "    '''if config[\"early_stopping\"][\"monitor\"] == \"val_loss\":\n",
    "        config[\"early_stopping\"][\"monitor\"] = \"loss\"'''\n",
    "        \n",
    "    callbacks = get_callbacks(config)\n",
    "    \n",
    "    input_size = get_attributes_num(x_train)\n",
    "    output_size = get_attributes_num(y_train)\n",
    "    \n",
    "    \n",
    "    trials_val_loss = []\n",
    "    trials_train_loss = []\n",
    "    trials_val_acc = []\n",
    "    trials_train_acc = []\n",
    "    \n",
    "    trials_history_val_loss = []\n",
    "    trials_history_train_loss = []\n",
    "    trials_history_val_acc = []\n",
    "    trials_history_train_acc = []   \n",
    "    \n",
    "    models = []\n",
    "    \n",
    "    if task == \"classification\":\n",
    "        stratify = y_train\n",
    "    else:\n",
    "        stratify = None\n",
    "    \n",
    "    x_train, x_val, y_train, y_val = train_test_split(x_train, y_train, test_size=0.2, shuffle=True, stratify=stratify)\n",
    "    \n",
    "    with tqdm(total=trials) as pbar:\n",
    "        for trial in range(trials):\n",
    "            \n",
    "            model = get_model(config, input_size, output_size)\n",
    "            history = model.fit(x_train, y_train, epochs=max_epochs, validation_data=(x_val, y_val),\n",
    "                                batch_size=batch_size, verbose=0, callbacks=callbacks)\n",
    "\n",
    "            models.append(model)\n",
    "\n",
    "            trial_train_loss = history.history[\"loss\"]\n",
    "            trial_val_loss = history.history[\"val_loss\"]         \n",
    "            trial_train_acc = history.history[train_metric]\n",
    "            trial_val_acc = history.history[val_metric]\n",
    "\n",
    "            trials_val_loss.append(trial_val_loss[-1])\n",
    "            trials_train_loss.append(trial_train_loss[-1])\n",
    "            trials_val_acc.append(trial_val_acc[-1])\n",
    "            trials_train_acc.append(trial_train_acc[-1])\n",
    "\n",
    "            trials_history_val_loss.append(trial_val_loss)\n",
    "            trials_history_train_loss.append(trial_train_loss)\n",
    "            trials_history_val_acc.append(trial_val_acc)\n",
    "            trials_history_train_acc.append(trial_train_acc)\n",
    "\n",
    "            print(f\"Trial {trial+1}/{trials} {val_loss}: {trial_val_loss[-1]}\")\n",
    "            print(f\"Trial {trial+1}/{trials} train_{train_loss}: {trial_train_loss[-1]}\")\n",
    "            print(f\"Trial {trial+1}/{trials} {val_metric}: {trial_val_acc[-1]}\")\n",
    "            print(f\"Trial {trial+1}/{trials} train_{train_metric}: {trial_train_acc[-1]}\")\n",
    "\n",
    "            pbar.update(1)\n",
    "        \n",
    "    med_idx = median_index(trials_val_loss)\n",
    "    med_val_loss = trials_val_loss[med_idx]\n",
    "    med_train_loss = trials_train_loss[med_idx]\n",
    "    med_val_acc = trials_val_acc[med_idx]\n",
    "    med_train_acc = trials_train_acc[med_idx]\n",
    "    std_val_loss = np.std(trials_val_loss)\n",
    "    std_train_loss = np.std(trials_train_loss)\n",
    "    std_val_acc = np.std(trials_val_acc)\n",
    "    std_train_acc = np.std(trials_train_acc)\n",
    "    \n",
    "    print(f\"\\nMedian {val_loss}: {med_val_loss}, std {val_loss}: {std_val_loss}\")\n",
    "    print(f\"Median train_{train_loss}: {med_train_loss}, std train_{train_loss}: {std_train_loss}\")\n",
    "    print(f\"Median {val_metric}: {med_val_acc}, std {val_metric}: {std_val_acc}\")\n",
    "    print(f\"Median train_{train_metric}: {med_train_acc}, std train_{train_metric}: {std_train_acc}\")\n",
    "        \n",
    "    \n",
    "        \n",
    "    train_acc = trials_history_train_acc[med_idx]\n",
    "    val_acc = trials_history_val_acc[med_idx]\n",
    "    plot_curves(train_acc, f\"Training {train_metric}\", val_acc, f\"Validation {train_metric}\")\n",
    "    \n",
    "    train_loss = trials_history_train_loss[med_idx]\n",
    "    val_loss = trials_history_val_loss[med_idx]\n",
    "    plot_curves(train_loss, \"Train loss\", val_loss, \"Validation loss\")\n",
    "    \n",
    "    med_model = models[med_idx]\n",
    "    \n",
    "    return med_model\n",
    "\n",
    "    \n",
    "def fit_model(x_train, y_train, config, validation):\n",
    "    if validation[\"type\"] == \"k-fold\":\n",
    "        val_loss = fit_model_k_fold(x_train, y_train, config, validation[\"n_folds\"])\n",
    "    elif validation[\"type\"] == \"hold-out\":\n",
    "        val_loss = fit_model_hold_out(x_train, y_train, config, validation[\"val_split\"])\n",
    "    return val_loss\n",
    "\n",
    "\n",
    "\n",
    "def test_model(model, x_test, y_test):\n",
    "    input_size = x_test.shape[1]\n",
    "    result = model.evaluate(x_test, y_test)\n",
    "    print(result)\n",
    "    \n",
    "\n",
    "def assess_model(model, x_train, y_train, x_test, y_test, scale=True):\n",
    "    y_train_pred = model.predict(x_train)\n",
    "    y_test_pred = model.predict(x_test)\n",
    "    \n",
    "    if scale:\n",
    "        y_train_pred = y_scaler.inverse_transform(y_train_pred)\n",
    "        y_train  = y_scaler.inverse_transform(y_train)\n",
    "        y_test_pred = y_scaler.inverse_transform(y_test_pred)\n",
    "        y_test  = y_scaler.inverse_transform(y_test)\n",
    "\n",
    "    mse_train = mse(y_train, y_train_pred)\n",
    "    mse_test = mse(y_test, y_test_pred)\n",
    "\n",
    "    mee_train = mee(y_train, y_train_pred)\n",
    "    mee_test = mee(y_test, y_test_pred)\n",
    "\n",
    "    print(f\"Train MSE: {mse_train}\")\n",
    "    print(f\"Train MEE: {mee_train}\")\n",
    "    print(f\"Test MSE: {mse_test}\")\n",
    "    print(f\"Test MEE: {mee_test}\")\n",
    "\n",
    "\n",
    "    \n",
    "def model_selection(configurations, x_train, y_train, validation):\n",
    "        \n",
    "    best_loss = float(\"inf\")\n",
    "    best_conf = None\n",
    "    \n",
    "    idx = 1\n",
    "    n_confs = len(configurations)\n",
    "    for config in configurations:\n",
    "\n",
    "        print(f\"Testing configuration {idx}/{n_confs}:\\n{config}\")\n",
    "        val_loss = fit_model(x_train, y_train, config, validation)\n",
    "\n",
    "        if val_loss < best_loss:\n",
    "            best_loss = val_loss;\n",
    "            best_conf = config\n",
    "        idx += 1\n",
    "        \n",
    "        print(\"\\n\\n\")\n",
    "\n",
    "            \n",
    "    print(\"\\n\\n\")\n",
    "    print(f\"Best configuration (loss {best_loss}):\\n{best_conf}\")\n",
    "    \n",
    "    return best_conf\n",
    "    \n",
    "\n",
    "def grid_search(params, x_train, y_train, validation={\"type\": \"hold-out\", \"val_split\": 0.2}):\n",
    "    configurations = get_configurations(params)    \n",
    "    best_conf = model_selection(configurations, x_train, y_train, validation)\n",
    "    model = fit_final_model(x_train, y_train, best_conf)\n",
    "        \n",
    "    return model"
   ]
  },
  {
   "cell_type": "code",
   "execution_count": 5,
   "id": "bfd7bc34",
   "metadata": {},
   "outputs": [],
   "source": [
    "params = {\n",
    "    \"task\": \"classification\",\n",
    "    \"trials_train\": 5,\n",
    "    \"trials_test\": 10,\n",
    "    \"initialization\": {\n",
    "        \"type\": \"uniform\",\n",
    "        \"min\": -0.5,\n",
    "        \"max\": 0.5\n",
    "    },\n",
    "    \"early_stopping\": {\n",
    "        \"monitor\": \"val_loss\",\n",
    "        \"patience\": 20,\n",
    "        \"delta\": 0.00\n",
    "    },\n",
    "    \"max_epochs\": [500],\n",
    "    \"learning_rate\": [0.1],\n",
    "    \"batch_size\": [None],\n",
    "    \"momentum\": [0.9],\n",
    "    \"nesterov\": False,\n",
    "    \"learning_rate_decay\": None,\n",
    "    \"regularization\": [\n",
    "        {\n",
    "            \"type\": None\n",
    "        }\n",
    "    ],\n",
    "    \"layers\": [\n",
    "        {\n",
    "            \"activations\": [\"relu\"],\n",
    "            \"units\": [8],\n",
    "        },\n",
    "    ]\n",
    "}\n",
    "\n",
    "\n",
    "\"\"\"params = {\n",
    "    \"initialization\": {\n",
    "        \"type\": \"uniform\",\n",
    "        \"min\": -0.5,\n",
    "        \"max\": 0.5\n",
    "    },\n",
    "    \"early_stopping\": {\n",
    "        \"monitor\": \"val_loss\",\n",
    "        \"patience\": 20,\n",
    "        \"delta\": 0.001\n",
    "    },\n",
    "    \"max_epochs\": 500,\n",
    "    \"learning_rate\": [0.001, 0.01, 0.1],\n",
    "    \"batch_size\": [None],\n",
    "    \"momentum\": [0.1, 0.9],\n",
    "    \"learning_rate_decay\": {\n",
    "        \"epochs\": 50,\n",
    "        \"lr_final\": 0.01\n",
    "    },\n",
    "    \"regularization\": [\n",
    "        {\n",
    "            \"type\": \"l1\",\n",
    "            \"value\": [0.0001, 0.001]\n",
    "        },\n",
    "        {\n",
    "            \"type\": \"l2\",\n",
    "            \"value\": [0.0001, 0.001]\n",
    "        },\n",
    "        {\n",
    "            \"type\": None\n",
    "        }\n",
    "    ],\n",
    "    \"layers\": [\n",
    "        {\n",
    "            \"activations\": [\"relu\"],\n",
    "            \"units\": [1,4,8],\n",
    "        },\n",
    "    ]\n",
    "}\"\"\"\n",
    "\n",
    "k_fold_val = {\n",
    "    \"type\": \"k-fold\",\n",
    "    \"n_folds\": 5\n",
    "}\n",
    "\n",
    "hold_out_val = {\n",
    "    \"type\": \"hold-out\",\n",
    "    \"val_split\": 0.15\n",
    "}"
   ]
  },
  {
   "cell_type": "markdown",
   "id": "7835a759",
   "metadata": {},
   "source": [
    "# Monks 1"
   ]
  },
  {
   "cell_type": "code",
   "execution_count": 151,
   "id": "f0e9f138",
   "metadata": {},
   "outputs": [
    {
     "name": "stdout",
     "output_type": "stream",
     "text": [
      "Loaded ./../data/monks-1 dataset\n",
      "(124, 17) (124,)\n",
      "(432, 17) (432,)\n"
     ]
    }
   ],
   "source": [
    "x_train, y_train, x_test, y_test = load_dataset(\"monks1\", True)\n",
    "print(x_train.shape, y_train.shape)\n",
    "print(x_test.shape, y_test.shape)"
   ]
  },
  {
   "cell_type": "code",
   "execution_count": 152,
   "id": "824ed4ae",
   "metadata": {},
   "outputs": [
    {
     "name": "stdout",
     "output_type": "stream",
     "text": [
      "Testing configuration 1/1:\n",
      "{'batch_size': None, 'learning_rate': 0.1, 'max_epochs': 500, 'momentum': 0.9, 'initialization': {'type': 'uniform', 'min': -0.5, 'max': 0.5}, 'early_stopping': {'monitor': 'val_loss', 'patience': 20, 'delta': 0.0}, 'task': 'classification', 'trials_train': 5, 'trials_test': 10, 'nesterov': False, 'learning_rate_decay': None, 'regularization': {'method': None}, 'activations_1': 'relu', 'units_1': 8}\n"
     ]
    },
    {
     "name": "stderr",
     "output_type": "stream",
     "text": [
      "100%|█████████████████████████████████████████████| 5/5 [01:25<00:00, 17.14s/it]\n"
     ]
    },
    {
     "name": "stdout",
     "output_type": "stream",
     "text": [
      "Median val_loss: 0.00047501391964033246, std val_loss 0.0012387443125981583\n",
      "Median train_loss: 0.00039174515404738486, std train_loss 0.00011182861542526954\n",
      "Median val_accuracy: 1.0, std val_accuracy 0.0\n",
      "Median train_accuracy: 1.0, train_accuracy 0.0\n",
      "\n",
      "\n",
      "\n",
      "\n",
      "\n",
      "\n",
      "Best configuration (loss 0.00047501391964033246):\n",
      "{'batch_size': None, 'learning_rate': 0.1, 'max_epochs': 500, 'momentum': 0.9, 'initialization': {'type': 'uniform', 'min': -0.5, 'max': 0.5}, 'early_stopping': {'monitor': 'val_loss', 'patience': 20, 'delta': 0.0}, 'task': 'classification', 'trials_train': 5, 'trials_test': 10, 'nesterov': False, 'learning_rate_decay': None, 'regularization': {'method': None}, 'activations_1': 'relu', 'units_1': 8}\n"
     ]
    },
    {
     "name": "stderr",
     "output_type": "stream",
     "text": [
      " 10%|████▍                                       | 1/10 [00:17<02:33, 17.10s/it]"
     ]
    },
    {
     "name": "stdout",
     "output_type": "stream",
     "text": [
      "Trial 1/10 val_mse: 0.00018074229592457414\n",
      "Trial 1/10 train_mse: 0.00011751984857255593\n",
      "Trial 1/10 val_accuracy: 1.0\n",
      "Trial 1/10 train_accuracy: 1.0\n"
     ]
    },
    {
     "name": "stderr",
     "output_type": "stream",
     "text": [
      "\r",
      " 20%|████████▊                                   | 2/10 [00:32<02:07, 15.93s/it]"
     ]
    },
    {
     "name": "stdout",
     "output_type": "stream",
     "text": [
      "Trial 2/10 val_mse: 0.0003046539204660803\n",
      "Trial 2/10 train_mse: 0.00014938546519260854\n",
      "Trial 2/10 val_accuracy: 1.0\n",
      "Trial 2/10 train_accuracy: 1.0\n"
     ]
    },
    {
     "name": "stderr",
     "output_type": "stream",
     "text": [
      "\r",
      " 30%|█████████████▏                              | 3/10 [00:48<01:51, 15.98s/it]"
     ]
    },
    {
     "name": "stdout",
     "output_type": "stream",
     "text": [
      "Trial 3/10 val_mse: 0.00047968802391551435\n",
      "Trial 3/10 train_mse: 0.000163889373652637\n",
      "Trial 3/10 val_accuracy: 1.0\n",
      "Trial 3/10 train_accuracy: 1.0\n"
     ]
    },
    {
     "name": "stderr",
     "output_type": "stream",
     "text": [
      "\r",
      " 40%|█████████████████▌                          | 4/10 [01:02<01:30, 15.17s/it]"
     ]
    },
    {
     "name": "stdout",
     "output_type": "stream",
     "text": [
      "Trial 4/10 val_mse: 0.0012153801508247852\n",
      "Trial 4/10 train_mse: 0.000251091638347134\n",
      "Trial 4/10 val_accuracy: 1.0\n",
      "Trial 4/10 train_accuracy: 1.0\n"
     ]
    },
    {
     "name": "stderr",
     "output_type": "stream",
     "text": [
      "\r",
      " 50%|██████████████████████                      | 5/10 [01:17<01:15, 15.09s/it]"
     ]
    },
    {
     "name": "stdout",
     "output_type": "stream",
     "text": [
      "Trial 5/10 val_mse: 0.0008660850580781698\n",
      "Trial 5/10 train_mse: 0.00024386888253502548\n",
      "Trial 5/10 val_accuracy: 1.0\n",
      "Trial 5/10 train_accuracy: 1.0\n"
     ]
    },
    {
     "name": "stderr",
     "output_type": "stream",
     "text": [
      "\r",
      " 60%|██████████████████████████▍                 | 6/10 [01:37<01:07, 16.81s/it]"
     ]
    },
    {
     "name": "stdout",
     "output_type": "stream",
     "text": [
      "Trial 6/10 val_mse: 0.00044666859321296215\n",
      "Trial 6/10 train_mse: 0.0002444752608425915\n",
      "Trial 6/10 val_accuracy: 1.0\n",
      "Trial 6/10 train_accuracy: 1.0\n"
     ]
    },
    {
     "name": "stderr",
     "output_type": "stream",
     "text": [
      "\r",
      " 70%|██████████████████████████████▊             | 7/10 [01:55<00:51, 17.21s/it]"
     ]
    },
    {
     "name": "stdout",
     "output_type": "stream",
     "text": [
      "Trial 7/10 val_mse: 0.0022130729630589485\n",
      "Trial 7/10 train_mse: 0.00033941955189220607\n",
      "Trial 7/10 val_accuracy: 1.0\n",
      "Trial 7/10 train_accuracy: 1.0\n"
     ]
    },
    {
     "name": "stderr",
     "output_type": "stream",
     "text": [
      "\r",
      " 80%|███████████████████████████████████▏        | 8/10 [02:09<00:32, 16.12s/it]"
     ]
    },
    {
     "name": "stdout",
     "output_type": "stream",
     "text": [
      "Trial 8/10 val_mse: 0.0005008243606425822\n",
      "Trial 8/10 train_mse: 0.00019561203953344375\n",
      "Trial 8/10 val_accuracy: 1.0\n",
      "Trial 8/10 train_accuracy: 1.0\n"
     ]
    },
    {
     "name": "stderr",
     "output_type": "stream",
     "text": [
      "\r",
      " 90%|███████████████████████████████████████▌    | 9/10 [02:16<00:13, 13.51s/it]"
     ]
    },
    {
     "name": "stdout",
     "output_type": "stream",
     "text": [
      "Trial 9/10 val_mse: 0.006109452340751886\n",
      "Trial 9/10 train_mse: 0.0010557055938988924\n",
      "Trial 9/10 val_accuracy: 1.0\n",
      "Trial 9/10 train_accuracy: 1.0\n"
     ]
    },
    {
     "name": "stderr",
     "output_type": "stream",
     "text": [
      "100%|███████████████████████████████████████████| 10/10 [02:32<00:00, 15.28s/it]"
     ]
    },
    {
     "name": "stdout",
     "output_type": "stream",
     "text": [
      "Trial 10/10 val_mse: 0.003390825353562832\n",
      "Trial 10/10 train_mse: 0.0002687291707843542\n",
      "Trial 10/10 val_accuracy: 1.0\n",
      "Trial 10/10 train_accuracy: 1.0\n",
      "\n",
      "Median val_mse: 0.0008660850580781698, std val_mse: 0.001791137885448676\n",
      "Median train_mse: 0.00024386888253502548, std train_mse: 0.0002583731680804905\n",
      "Median val_accuracy: 1.0, std val_accuracy: 0.0\n",
      "Median train_accuracy: 1.0, std train_accuracy: 0.0\n"
     ]
    },
    {
     "name": "stderr",
     "output_type": "stream",
     "text": [
      "\n"
     ]
    },
    {
     "data": {
      "image/png": "[encoded data removed]",
      "text/plain": [
       "<Figure size 640x480 with 1 Axes>"
      ]
     },
     "metadata": {},
     "output_type": "display_data"
    },
    {
     "data": {
      "image/png": "[encoded data removed]",
      "text/plain": [
       "<Figure size 640x480 with 1 Axes>"
      ]
     },
     "metadata": {},
     "output_type": "display_data"
    },
    {
     "name": "stdout",
     "output_type": "stream",
     "text": [
      "14/14 [==============================] - 0s 2ms/step - loss: 0.0011 - accuracy: 1.0000\n",
      "[0.001103222370147705, 1.0]\n"
     ]
    }
   ],
   "source": [
    "model = grid_search(params, x_train, y_train, hold_out_val)\n",
    "test_model(model, x_test, y_test)"
   ]
  },
  {
   "cell_type": "markdown",
   "id": "580b0bcc",
   "metadata": {},
   "source": [
    "# Monks 2"
   ]
  },
  {
   "cell_type": "code",
   "execution_count": 133,
   "id": "46826a62",
   "metadata": {},
   "outputs": [
    {
     "name": "stdout",
     "output_type": "stream",
     "text": [
      "Loaded ./../data/monks-2 dataset\n",
      "(169, 17) (169,)\n",
      "(432, 17) (432,)\n"
     ]
    }
   ],
   "source": [
    "x_train, y_train, x_test, y_test = load_dataset(\"monks2\", True)\n",
    "print(x_train.shape, y_train.shape)\n",
    "print(x_test.shape, y_test.shape)"
   ]
  },
  {
   "cell_type": "code",
   "execution_count": 168,
   "id": "c040f69c",
   "metadata": {},
   "outputs": [],
   "source": [
    "params = {\n",
    "    \"task\": \"classification\",\n",
    "    \"trials_train\": 5,\n",
    "    \"trials_test\": 10,\n",
    "    \"initialization\": {\n",
    "        \"type\": \"uniform\",\n",
    "        \"min\": -0.5,\n",
    "        \"max\": 0.5\n",
    "    },\n",
    "    \"early_stopping\": {\n",
    "        \"monitor\": \"val_loss\",\n",
    "        \"patience\": 20,\n",
    "        \"delta\": 0.00\n",
    "    },\n",
    "    \"max_epochs\": [500],\n",
    "    \"learning_rate\": [0.1],\n",
    "    \"batch_size\": [None],\n",
    "    \"momentum\": [0.8],\n",
    "    \"nesterov\": False,\n",
    "    \"learning_rate_decay\": None,\n",
    "    \"regularization\": [\n",
    "        {\n",
    "            \"type\": None\n",
    "        }\n",
    "    ],\n",
    "    \"layers\": [\n",
    "        {\n",
    "            \"activations\": [\"relu\"],\n",
    "            \"units\": [8],\n",
    "        },\n",
    "    ]\n",
    "}"
   ]
  },
  {
   "cell_type": "code",
   "execution_count": 156,
   "id": "51fb016a",
   "metadata": {},
   "outputs": [
    {
     "name": "stdout",
     "output_type": "stream",
     "text": [
      "Testing configuration 1/1:\n",
      "{'batch_size': None, 'learning_rate': 0.1, 'max_epochs': 500, 'momentum': 0.8, 'initialization': {'type': 'uniform', 'min': -0.5, 'max': 0.5}, 'early_stopping': {'monitor': 'val_loss', 'patience': 20, 'delta': 0.0}, 'task': 'classification', 'trials_train': 5, 'trials_test': 10, 'nesterov': False, 'learning_rate_decay': None, 'regularization': {'method': None}, 'activations_1': 'relu', 'units_1': 8}\n"
     ]
    },
    {
     "name": "stderr",
     "output_type": "stream",
     "text": [
      "100%|█████████████████████████████████████████████| 5/5 [00:37<00:00,  7.44s/it]\n"
     ]
    },
    {
     "name": "stdout",
     "output_type": "stream",
     "text": [
      "Median val_loss: 0.12362547963857651, std val_loss 0.09322665755462804\n",
      "Median train_loss: 0.046446267515420914, std train_loss 0.05439393101243089\n",
      "Median val_accuracy: 0.8421052694320679, std val_accuracy 0.1306281419735712\n",
      "Median train_accuracy: 0.961904764175415, train_accuracy 0.0565043660575679\n",
      "\n",
      "\n",
      "\n",
      "\n",
      "\n",
      "\n",
      "Best configuration (loss 0.12362547963857651):\n",
      "{'batch_size': None, 'learning_rate': 0.1, 'max_epochs': 500, 'momentum': 0.8, 'initialization': {'type': 'uniform', 'min': -0.5, 'max': 0.5}, 'early_stopping': {'monitor': 'val_loss', 'patience': 20, 'delta': 0.0}, 'task': 'classification', 'trials_train': 5, 'trials_test': 10, 'nesterov': False, 'learning_rate_decay': None, 'regularization': {'method': None}, 'activations_1': 'relu', 'units_1': 8}\n"
     ]
    },
    {
     "name": "stderr",
     "output_type": "stream",
     "text": [
      " 10%|████▍                                       | 1/10 [00:12<01:49, 12.15s/it]"
     ]
    },
    {
     "name": "stdout",
     "output_type": "stream",
     "text": [
      "Trial 1/10 val_mse: 0.001442444627173245\n",
      "Trial 1/10 train_mse: 0.000543556350748986\n",
      "Trial 1/10 val_accuracy: 1.0\n",
      "Trial 1/10 train_accuracy: 1.0\n"
     ]
    },
    {
     "name": "stderr",
     "output_type": "stream",
     "text": [
      "\r",
      " 20%|████████▊                                   | 2/10 [00:25<01:40, 12.57s/it]"
     ]
    },
    {
     "name": "stdout",
     "output_type": "stream",
     "text": [
      "Trial 2/10 val_mse: 0.0014755451120436192\n",
      "Trial 2/10 train_mse: 0.001567514380440116\n",
      "Trial 2/10 val_accuracy: 1.0\n",
      "Trial 2/10 train_accuracy: 1.0\n"
     ]
    },
    {
     "name": "stderr",
     "output_type": "stream",
     "text": [
      "\r",
      " 30%|█████████████▏                              | 3/10 [00:33<01:14, 10.65s/it]"
     ]
    },
    {
     "name": "stdout",
     "output_type": "stream",
     "text": [
      "Trial 3/10 val_mse: 0.00901222974061966\n",
      "Trial 3/10 train_mse: 0.0037883531767874956\n",
      "Trial 3/10 val_accuracy: 1.0\n",
      "Trial 3/10 train_accuracy: 1.0\n"
     ]
    },
    {
     "name": "stderr",
     "output_type": "stream",
     "text": [
      "\r",
      " 40%|█████████████████▌                          | 4/10 [00:49<01:17, 12.83s/it]"
     ]
    },
    {
     "name": "stdout",
     "output_type": "stream",
     "text": [
      "Trial 4/10 val_mse: 0.0012586726807057858\n",
      "Trial 4/10 train_mse: 0.0004315180703997612\n",
      "Trial 4/10 val_accuracy: 1.0\n",
      "Trial 4/10 train_accuracy: 1.0\n"
     ]
    },
    {
     "name": "stderr",
     "output_type": "stream",
     "text": [
      "\r",
      " 50%|██████████████████████                      | 5/10 [00:51<00:45,  9.04s/it]"
     ]
    },
    {
     "name": "stdout",
     "output_type": "stream",
     "text": [
      "Trial 5/10 val_mse: 0.11349032074213028\n",
      "Trial 5/10 train_mse: 0.08981156349182129\n",
      "Trial 5/10 val_accuracy: 0.8799999952316284\n",
      "Trial 5/10 train_accuracy: 0.8888888955116272\n"
     ]
    },
    {
     "name": "stderr",
     "output_type": "stream",
     "text": [
      "\r",
      " 60%|██████████████████████████▍                 | 6/10 [01:04<00:41, 10.33s/it]"
     ]
    },
    {
     "name": "stdout",
     "output_type": "stream",
     "text": [
      "Trial 6/10 val_mse: 0.0014093626523390412\n",
      "Trial 6/10 train_mse: 0.0006616192404180765\n",
      "Trial 6/10 val_accuracy: 1.0\n",
      "Trial 6/10 train_accuracy: 1.0\n"
     ]
    },
    {
     "name": "stderr",
     "output_type": "stream",
     "text": [
      "\r",
      " 70%|██████████████████████████████▊             | 7/10 [01:07<00:23,  7.82s/it]"
     ]
    },
    {
     "name": "stdout",
     "output_type": "stream",
     "text": [
      "Trial 7/10 val_mse: 0.15179158747196198\n",
      "Trial 7/10 train_mse: 0.0809621587395668\n",
      "Trial 7/10 val_accuracy: 0.7599999904632568\n",
      "Trial 7/10 train_accuracy: 0.8989899158477783\n"
     ]
    },
    {
     "name": "stderr",
     "output_type": "stream",
     "text": [
      "\r",
      " 80%|███████████████████████████████████▏        | 8/10 [01:20<00:18,  9.43s/it]"
     ]
    },
    {
     "name": "stdout",
     "output_type": "stream",
     "text": [
      "Trial 8/10 val_mse: 0.002023333217948675\n",
      "Trial 8/10 train_mse: 0.001381042180582881\n",
      "Trial 8/10 val_accuracy: 1.0\n",
      "Trial 8/10 train_accuracy: 1.0\n"
     ]
    },
    {
     "name": "stderr",
     "output_type": "stream",
     "text": [
      "\r",
      " 90%|███████████████████████████████████████▌    | 9/10 [01:32<00:10, 10.46s/it]"
     ]
    },
    {
     "name": "stdout",
     "output_type": "stream",
     "text": [
      "Trial 9/10 val_mse: 0.0015517751453444362\n",
      "Trial 9/10 train_mse: 0.0006608276744373143\n",
      "Trial 9/10 val_accuracy: 1.0\n",
      "Trial 9/10 train_accuracy: 1.0\n"
     ]
    },
    {
     "name": "stderr",
     "output_type": "stream",
     "text": [
      "100%|███████████████████████████████████████████| 10/10 [01:46<00:00, 10.69s/it]"
     ]
    },
    {
     "name": "stdout",
     "output_type": "stream",
     "text": [
      "Trial 10/10 val_mse: 0.0008841349044814706\n",
      "Trial 10/10 train_mse: 0.001063479227013886\n",
      "Trial 10/10 val_accuracy: 1.0\n",
      "Trial 10/10 train_accuracy: 1.0\n",
      "\n",
      "Median val_mse: 0.0015517751453444362, std val_mse: 0.05285090485027441\n",
      "Median train_mse: 0.0006608276744373143, std train_mse: 0.03372052256476945\n",
      "Median val_accuracy: 1.0, std val_accuracy: 0.07683749390244175\n",
      "Median train_accuracy: 1.0, std train_accuracy: 0.04248432037120888\n"
     ]
    },
    {
     "name": "stderr",
     "output_type": "stream",
     "text": [
      "\n"
     ]
    },
    {
     "data": {
      "image/png": "[encoded data removed]",
      "text/plain": [
       "<Figure size 640x480 with 1 Axes>"
      ]
     },
     "metadata": {},
     "output_type": "display_data"
    },
    {
     "data": {
      "image/png": "[encoded data removed]",
      "text/plain": [
       "<Figure size 640x480 with 1 Axes>"
      ]
     },
     "metadata": {},
     "output_type": "display_data"
    },
    {
     "name": "stdout",
     "output_type": "stream",
     "text": [
      "14/14 [==============================] - 0s 1ms/step - loss: 0.0017 - accuracy: 1.0000\n",
      "[0.0016602040268480778, 1.0]\n"
     ]
    }
   ],
   "source": [
    "model = grid_search(params, x_train, y_train, hold_out_val)\n",
    "test_model(model, x_test, y_test)"
   ]
  },
  {
   "cell_type": "markdown",
   "id": "d8bafda0",
   "metadata": {},
   "source": [
    "# Monks 3"
   ]
  },
  {
   "cell_type": "code",
   "execution_count": 180,
   "id": "30fbc805",
   "metadata": {},
   "outputs": [],
   "source": [
    "params = {\n",
    "    \"task\": \"classification\",\n",
    "    \"trials_train\": 5,\n",
    "    \"trials_test\": 10,\n",
    "    \"initialization\": {\n",
    "        \"type\": \"uniform\",\n",
    "        \"min\": -0.5,\n",
    "        \"max\": 0.5\n",
    "    },\n",
    "    \"early_stopping\": {\n",
    "        \"monitor\": \"val_loss\",\n",
    "        \"patience\": 20,\n",
    "        \"delta\": 0.00\n",
    "    },\n",
    "    \"max_epochs\": [500],\n",
    "    \"learning_rate\": [0.05],\n",
    "    \"batch_size\": [None],\n",
    "    \"momentum\": [0.9],\n",
    "    \"nesterov\": False,\n",
    "    \"learning_rate_decay\": None,\n",
    "    \"regularization\": [\n",
    "        {\n",
    "            \"type\": None,\n",
    "        }\n",
    "    ],\n",
    "    \"layers\": [\n",
    "        {\n",
    "            \"activations\": [\"relu\"],\n",
    "            \"units\": [8],\n",
    "        },\n",
    "    ]\n",
    "}\n",
    "\n",
    "\n",
    "\n",
    "k_fold_val = {\n",
    "    \"type\": \"k-fold\",\n",
    "    \"n_folds\": 5\n",
    "}\n",
    "\n",
    "hold_out_val = {\n",
    "    \"type\": \"hold-out\",\n",
    "    \"val_split\": 0.15\n",
    "}"
   ]
  },
  {
   "cell_type": "code",
   "execution_count": 181,
   "id": "55619cba",
   "metadata": {},
   "outputs": [
    {
     "name": "stdout",
     "output_type": "stream",
     "text": [
      "Loaded ./../data/monks-3 dataset\n",
      "(122, 17) (122,)\n",
      "(432, 17) (432,)\n"
     ]
    }
   ],
   "source": [
    "x_train, y_train, x_test, y_test = load_dataset(\"monks3\", True)\n",
    "print(x_train.shape, y_train.shape)\n",
    "print(x_test.shape, y_test.shape)"
   ]
  },
  {
   "cell_type": "code",
   "execution_count": 182,
   "id": "d653c6ce",
   "metadata": {},
   "outputs": [
    {
     "name": "stdout",
     "output_type": "stream",
     "text": [
      "Testing configuration 1/1:\n",
      "{'batch_size': None, 'learning_rate': 0.05, 'max_epochs': 500, 'momentum': 0.9, 'initialization': {'type': 'uniform', 'min': -0.5, 'max': 0.5}, 'early_stopping': {'monitor': 'val_loss', 'patience': 20, 'delta': 0.0}, 'task': 'classification', 'trials_train': 5, 'trials_test': 10, 'nesterov': False, 'learning_rate_decay': None, 'regularization': {'method': None}, 'activations_1': 'relu', 'units_1': 8}\n"
     ]
    },
    {
     "name": "stderr",
     "output_type": "stream",
     "text": [
      "100%|█████████████████████████████████████████████| 5/5 [00:13<00:00,  2.66s/it]\n"
     ]
    },
    {
     "name": "stdout",
     "output_type": "stream",
     "text": [
      "Median val_loss: 0.0726756826043129, std val_loss 0.0043971222593657535\n",
      "Median train_loss: 0.04860129952430725, std train_loss 0.002405324828151145\n",
      "Median val_accuracy: 0.8947368264198303, std val_accuracy 0.0\n",
      "Median train_accuracy: 0.9417475461959839, train_accuracy 0.0038835048675537106\n",
      "\n",
      "\n",
      "\n",
      "\n",
      "\n",
      "\n",
      "Best configuration (loss 0.0726756826043129):\n",
      "{'batch_size': None, 'learning_rate': 0.05, 'max_epochs': 500, 'momentum': 0.9, 'initialization': {'type': 'uniform', 'min': -0.5, 'max': 0.5}, 'early_stopping': {'monitor': 'val_loss', 'patience': 20, 'delta': 0.0}, 'task': 'classification', 'trials_train': 5, 'trials_test': 10, 'nesterov': False, 'learning_rate_decay': None, 'regularization': {'method': None}, 'activations_1': 'relu', 'units_1': 8}\n"
     ]
    },
    {
     "name": "stderr",
     "output_type": "stream",
     "text": [
      " 10%|████▍                                       | 1/10 [00:02<00:21,  2.40s/it]"
     ]
    },
    {
     "name": "stdout",
     "output_type": "stream",
     "text": [
      "Trial 1/10 val_mse: 0.044589072465896606\n",
      "Trial 1/10 train_mse: 0.052333589643239975\n",
      "Trial 1/10 val_accuracy: 0.9599999785423279\n",
      "Trial 1/10 train_accuracy: 0.9278350472450256\n"
     ]
    },
    {
     "name": "stderr",
     "output_type": "stream",
     "text": [
      "\r",
      " 20%|████████▊                                   | 2/10 [00:04<00:18,  2.29s/it]"
     ]
    },
    {
     "name": "stdout",
     "output_type": "stream",
     "text": [
      "Trial 2/10 val_mse: 0.05559542030096054\n",
      "Trial 2/10 train_mse: 0.06044131517410278\n",
      "Trial 2/10 val_accuracy: 0.9599999785423279\n",
      "Trial 2/10 train_accuracy: 0.9278350472450256\n"
     ]
    },
    {
     "name": "stderr",
     "output_type": "stream",
     "text": [
      "\r",
      " 30%|█████████████▏                              | 3/10 [00:08<00:21,  3.05s/it]"
     ]
    },
    {
     "name": "stdout",
     "output_type": "stream",
     "text": [
      "Trial 3/10 val_mse: 0.053845569491386414\n",
      "Trial 3/10 train_mse: 0.04679998755455017\n",
      "Trial 3/10 val_accuracy: 0.9599999785423279\n",
      "Trial 3/10 train_accuracy: 0.938144326210022\n"
     ]
    },
    {
     "name": "stderr",
     "output_type": "stream",
     "text": [
      "\r",
      " 40%|█████████████████▌                          | 4/10 [00:13<00:21,  3.63s/it]"
     ]
    },
    {
     "name": "stdout",
     "output_type": "stream",
     "text": [
      "Trial 4/10 val_mse: 0.06828930974006653\n",
      "Trial 4/10 train_mse: 0.051952265202999115\n",
      "Trial 4/10 val_accuracy: 0.9200000166893005\n",
      "Trial 4/10 train_accuracy: 0.969072163105011\n"
     ]
    },
    {
     "name": "stderr",
     "output_type": "stream",
     "text": [
      "\r",
      " 50%|██████████████████████                      | 5/10 [00:16<00:17,  3.46s/it]"
     ]
    },
    {
     "name": "stdout",
     "output_type": "stream",
     "text": [
      "Trial 5/10 val_mse: 0.05001949891448021\n",
      "Trial 5/10 train_mse: 0.054437559098005295\n",
      "Trial 5/10 val_accuracy: 0.9599999785423279\n",
      "Trial 5/10 train_accuracy: 0.938144326210022\n"
     ]
    },
    {
     "name": "stderr",
     "output_type": "stream",
     "text": [
      "\r",
      " 60%|██████████████████████████▍                 | 6/10 [00:18<00:12,  3.20s/it]"
     ]
    },
    {
     "name": "stdout",
     "output_type": "stream",
     "text": [
      "Trial 6/10 val_mse: 0.061481133103370667\n",
      "Trial 6/10 train_mse: 0.05418814346194267\n",
      "Trial 6/10 val_accuracy: 0.9200000166893005\n",
      "Trial 6/10 train_accuracy: 0.938144326210022\n"
     ]
    },
    {
     "name": "stderr",
     "output_type": "stream",
     "text": [
      "\r",
      " 70%|██████████████████████████████▊             | 7/10 [00:21<00:08,  3.00s/it]"
     ]
    },
    {
     "name": "stdout",
     "output_type": "stream",
     "text": [
      "Trial 7/10 val_mse: 0.06737364828586578\n",
      "Trial 7/10 train_mse: 0.04070410504937172\n",
      "Trial 7/10 val_accuracy: 0.9200000166893005\n",
      "Trial 7/10 train_accuracy: 0.9484536051750183\n"
     ]
    },
    {
     "name": "stderr",
     "output_type": "stream",
     "text": [
      "\r",
      " 80%|███████████████████████████████████▏        | 8/10 [00:24<00:05,  2.86s/it]"
     ]
    },
    {
     "name": "stdout",
     "output_type": "stream",
     "text": [
      "Trial 8/10 val_mse: 0.049905166029930115\n",
      "Trial 8/10 train_mse: 0.05517273768782616\n",
      "Trial 8/10 val_accuracy: 0.9599999785423279\n",
      "Trial 8/10 train_accuracy: 0.938144326210022\n"
     ]
    },
    {
     "name": "stderr",
     "output_type": "stream",
     "text": [
      "\r",
      " 90%|███████████████████████████████████████▌    | 9/10 [00:26<00:02,  2.73s/it]"
     ]
    },
    {
     "name": "stdout",
     "output_type": "stream",
     "text": [
      "Trial 9/10 val_mse: 0.04810347035527229\n",
      "Trial 9/10 train_mse: 0.04742538183927536\n",
      "Trial 9/10 val_accuracy: 0.9599999785423279\n",
      "Trial 9/10 train_accuracy: 0.938144326210022\n"
     ]
    },
    {
     "name": "stderr",
     "output_type": "stream",
     "text": [
      "100%|███████████████████████████████████████████| 10/10 [00:29<00:00,  2.95s/it]"
     ]
    },
    {
     "name": "stdout",
     "output_type": "stream",
     "text": [
      "Trial 10/10 val_mse: 0.059991054236888885\n",
      "Trial 10/10 train_mse: 0.047965239733457565\n",
      "Trial 10/10 val_accuracy: 0.9599999785423279\n",
      "Trial 10/10 train_accuracy: 0.9278350472450256\n",
      "\n",
      "Median val_mse: 0.05559542030096054, std val_mse: 0.007723835648156184\n",
      "Median train_mse: 0.06044131517410278, std train_mse: 0.005259733869328248\n",
      "Median val_accuracy: 0.9599999785423279, std val_accuracy: 0.018330285298684388\n",
      "Median train_accuracy: 0.9278350472450256, std train_accuracy: 0.011709090070700182\n"
     ]
    },
    {
     "name": "stderr",
     "output_type": "stream",
     "text": [
      "\n"
     ]
    },
    {
     "data": {
      "image/png": "[encoded data removed]",
      "text/plain": [
       "<Figure size 640x480 with 1 Axes>"
      ]
     },
     "metadata": {},
     "output_type": "display_data"
    },
    {
     "data": {
      "image/png": "[encoded data removed]",
      "text/plain": [
       "<Figure size 640x480 with 1 Axes>"
      ]
     },
     "metadata": {},
     "output_type": "display_data"
    },
    {
     "name": "stdout",
     "output_type": "stream",
     "text": [
      "14/14 [==============================] - 0s 2ms/step - loss: 0.0368 - accuracy: 0.9722\n",
      "[0.036842960864305496, 0.9722222089767456]\n"
     ]
    }
   ],
   "source": [
    "model = grid_search(params, x_train, y_train, hold_out_val)\n",
    "test_model(model, x_test, y_test)"
   ]
  },
  {
   "cell_type": "markdown",
   "id": "58a98502",
   "metadata": {},
   "source": [
    "# ML Cup"
   ]
  },
  {
   "cell_type": "code",
   "execution_count": 6,
   "id": "cebb8e47",
   "metadata": {},
   "outputs": [
    {
     "name": "stdout",
     "output_type": "stream",
     "text": [
      "(1343, 9) (1343, 2)\n",
      "(149, 9) (149, 2)\n"
     ]
    }
   ],
   "source": [
    "x_train, y_train, x_test, y_test = load_dataset(\"cup\", True)\n",
    "print(x_train.shape, y_train.shape)\n",
    "print(x_test.shape, y_test.shape)\n",
    "#print(x_test_blind.shape)"
   ]
  },
  {
   "cell_type": "code",
   "execution_count": 7,
   "id": "1ea9267d",
   "metadata": {},
   "outputs": [],
   "source": [
    "params = {\n",
    "    \"task\": \"regression\",\n",
    "    \"trials_train\": 5,\n",
    "    \"trials_test\": 5,\n",
    "    \"initialization\": {\n",
    "        \"type\": \"uniform\",\n",
    "        \"min\": -0.5,\n",
    "        \"max\": 0.5\n",
    "    },\n",
    "    \"early_stopping\": {\n",
    "        \"monitor\": \"val_loss\",\n",
    "        \"patience\": 20,\n",
    "        \"delta\": 0.00\n",
    "    },\n",
    "    \"max_epochs\": [500],\n",
    "    \"learning_rate\": [0.1],\n",
    "    \"batch_size\": [32],\n",
    "    \"nesterov\": False,\n",
    "    \"momentum\": [0.9],\n",
    "    \"learning_rate_decay\": {\n",
    "        \"epochs\": 100,\n",
    "        \"lr_final\": 0.0001\n",
    "    },\n",
    "    \"regularization\": [\n",
    "        {\n",
    "            \"type\": \"l1\",\n",
    "            \"value\": [0.001]\n",
    "        }\n",
    "    ],\n",
    "    \"layers\": [\n",
    "        {\n",
    "            \"activations\": [\"relu\", \"tanh\"],\n",
    "            \"units\": [10],\n",
    "        }\n",
    "    ]\n",
    "}\n",
    "\n",
    "\n",
    "k_fold_val = {\n",
    "    \"type\": \"k-fold\",\n",
    "    \"n_folds\": 5\n",
    "}\n",
    "\n",
    "hold_out_val = {\n",
    "    \"type\": \"hold-out\",\n",
    "    \"val_split\": 0.15\n",
    "}"
   ]
  },
  {
   "cell_type": "code",
   "execution_count": 8,
   "id": "e8b5f6d4",
   "metadata": {},
   "outputs": [
    {
     "name": "stdout",
     "output_type": "stream",
     "text": [
      "Testing configuration 1/2:\n",
      "{'batch_size': 32, 'learning_rate': 0.1, 'max_epochs': 500, 'momentum': 0.9, 'initialization': {'type': 'uniform', 'min': -0.5, 'max': 0.5}, 'early_stopping': {'monitor': 'val_loss', 'patience': 20, 'delta': 0.0}, 'task': 'regression', 'trials_train': 5, 'trials_test': 5, 'nesterov': False, 'learning_rate_decay': {'epochs': 100, 'lr_final': 0.0001}, 'regularization': {'method': 'l1', 'value': 0.001}, 'activations_1': 'relu', 'units_1': 10}\n"
     ]
    },
    {
     "name": "stderr",
     "output_type": "stream",
     "text": [
      "  0%|                                               | 0/5 [00:00<?, ?it/s]2022-12-21 22:37:19.212189: I tensorflow/stream_executor/cuda/cuda_gpu_executor.cc:980] successful NUMA node read from SysFS had negative value (-1), but there must be at least one NUMA node, so returning NUMA node zero\n",
      "2022-12-21 22:37:20.237619: W tensorflow/stream_executor/platform/default/dso_loader.cc:64] Could not load dynamic library 'libcudnn.so.8'; dlerror: libcudnn.so.8: cannot open shared object file: No such file or directory\n",
      "2022-12-21 22:37:20.237665: W tensorflow/core/common_runtime/gpu/gpu_device.cc:1934] Cannot dlopen some GPU libraries. Please make sure the missing libraries mentioned above are installed properly if you would like to use GPU. Follow the guide at https://www.tensorflow.org/install/gpu for how to download and setup the required libraries for your platform.\n",
      "Skipping registering GPU devices...\n",
      "2022-12-21 22:37:20.265033: I tensorflow/core/platform/cpu_feature_guard.cc:193] This TensorFlow binary is optimized with oneAPI Deep Neural Network Library (oneDNN) to use the following CPU instructions in performance-critical operations:  AVX2 FMA\n",
      "To enable them in other operations, rebuild TensorFlow with the appropriate compiler flags.\n",
      "100%|███████████████████████████████████████| 5/5 [00:32<00:00,  6.50s/it]\n"
     ]
    },
    {
     "name": "stdout",
     "output_type": "stream",
     "text": [
      "Median val_loss: 0.11912021040916443, std val_loss 0.0023116075851347955\n",
      "Median train_loss: 0.10068853944540024, std train_loss 0.0011733923049489193\n",
      "Median val_mee: 0.34172335267066956, std val_mee 0.004672557883535988\n",
      "Median train_mee: 0.31545308232307434, train_mee 0.003167265952817391\n",
      "\n",
      "\n",
      "\n",
      "Testing configuration 2/2:\n",
      "{'batch_size': 32, 'learning_rate': 0.1, 'max_epochs': 500, 'momentum': 0.9, 'initialization': {'type': 'uniform', 'min': -0.5, 'max': 0.5}, 'early_stopping': {'monitor': 'val_loss', 'patience': 20, 'delta': 0.0}, 'task': 'regression', 'trials_train': 5, 'trials_test': 5, 'nesterov': False, 'learning_rate_decay': {'epochs': 100, 'lr_final': 0.0001}, 'regularization': {'method': 'l1', 'value': 0.001}, 'activations_1': 'tanh', 'units_1': 10}\n"
     ]
    },
    {
     "name": "stderr",
     "output_type": "stream",
     "text": [
      "100%|███████████████████████████████████████| 5/5 [00:34<00:00,  6.94s/it]\n"
     ]
    },
    {
     "name": "stdout",
     "output_type": "stream",
     "text": [
      "Median val_loss: 0.11226707696914673, std val_loss 0.001762658175978237\n",
      "Median train_loss: 0.1094534769654274, std train_loss 0.0009790840994225488\n",
      "Median val_mee: 0.3379223346710205, std val_mee 0.007755359565294365\n",
      "Median train_mee: 0.31698623299598694, train_mee 0.005451886775592111\n",
      "\n",
      "\n",
      "\n",
      "\n",
      "\n",
      "\n",
      "Best configuration (loss 0.11226707696914673):\n",
      "{'batch_size': 32, 'learning_rate': 0.1, 'max_epochs': 500, 'momentum': 0.9, 'initialization': {'type': 'uniform', 'min': -0.5, 'max': 0.5}, 'early_stopping': {'monitor': 'val_loss', 'patience': 20, 'delta': 0.0}, 'task': 'regression', 'trials_train': 5, 'trials_test': 5, 'nesterov': False, 'learning_rate_decay': {'epochs': 100, 'lr_final': 0.0001}, 'regularization': {'method': 'l1', 'value': 0.001}, 'activations_1': 'tanh', 'units_1': 10}\n"
     ]
    },
    {
     "name": "stderr",
     "output_type": "stream",
     "text": [
      " 20%|███████▊                               | 1/5 [00:06<00:26,  6.73s/it]"
     ]
    },
    {
     "name": "stdout",
     "output_type": "stream",
     "text": [
      "Trial 1/5 val_mse: 0.10525722801685333\n",
      "Trial 1/5 train_mse: 0.10630813241004944\n",
      "Trial 1/5 val_mee: 0.315131813287735\n",
      "Trial 1/5 train_mee: 0.31918346881866455\n"
     ]
    },
    {
     "name": "stderr",
     "output_type": "stream",
     "text": [
      "\r",
      " 40%|███████████████▌                       | 2/5 [00:12<00:18,  6.21s/it]"
     ]
    },
    {
     "name": "stdout",
     "output_type": "stream",
     "text": [
      "Trial 2/5 val_mse: 0.11031559109687805\n",
      "Trial 2/5 train_mse: 0.10908618569374084\n",
      "Trial 2/5 val_mee: 0.3089359402656555\n",
      "Trial 2/5 train_mee: 0.3142217695713043\n"
     ]
    },
    {
     "name": "stderr",
     "output_type": "stream",
     "text": [
      "\r",
      " 60%|███████████████████████▍               | 3/5 [00:18<00:12,  6.20s/it]"
     ]
    },
    {
     "name": "stdout",
     "output_type": "stream",
     "text": [
      "Trial 3/5 val_mse: 0.11008582264184952\n",
      "Trial 3/5 train_mse: 0.10902711004018784\n",
      "Trial 3/5 val_mee: 0.31620776653289795\n",
      "Trial 3/5 train_mee: 0.31732529401779175\n"
     ]
    },
    {
     "name": "stderr",
     "output_type": "stream",
     "text": [
      "\r",
      " 80%|███████████████████████████████▏       | 4/5 [00:29<00:07,  7.99s/it]"
     ]
    },
    {
     "name": "stdout",
     "output_type": "stream",
     "text": [
      "Trial 4/5 val_mse: 0.10976197570562363\n",
      "Trial 4/5 train_mse: 0.1091279536485672\n",
      "Trial 4/5 val_mee: 0.31195399165153503\n",
      "Trial 4/5 train_mee: 0.3154619634151459\n"
     ]
    },
    {
     "name": "stderr",
     "output_type": "stream",
     "text": [
      "100%|███████████████████████████████████████| 5/5 [00:36<00:00,  7.26s/it]"
     ]
    },
    {
     "name": "stdout",
     "output_type": "stream",
     "text": [
      "Trial 5/5 val_mse: 0.10942905396223068\n",
      "Trial 5/5 train_mse: 0.10850729793310165\n",
      "Trial 5/5 val_mee: 0.31482359766960144\n",
      "Trial 5/5 train_mee: 0.3176962435245514\n",
      "\n",
      "Median val_mse: 0.10976197570562363, std val_mse: 0.0018803354702736196\n",
      "Median train_mse: 0.1091279536485672, std train_mse: 0.0010752501723166443\n",
      "Median val_mee: 0.31195399165153503, std val_mee: 0.0026430121386602293\n",
      "Median train_mee: 0.3154619634151459, std train_mee: 0.0017432870176350113\n"
     ]
    },
    {
     "name": "stderr",
     "output_type": "stream",
     "text": [
      "\n"
     ]
    },
    {
     "data": {
      "image/png": "[encoded data removed]",
      "text/plain": [
       "<Figure size 640x480 with 1 Axes>"
      ]
     },
     "metadata": {},
     "output_type": "display_data"
    },
    {
     "data": {
      "image/png": "[encoded data removed]",
      "text/plain": [
       "<Figure size 640x480 with 1 Axes>"
      ]
     },
     "metadata": {},
     "output_type": "display_data"
    },
    {
     "name": "stdout",
     "output_type": "stream",
     "text": [
      "42/42 [==============================] - 0s 2ms/step\n",
      "5/5 [==============================] - 0s 2ms/step\n",
      "Train MSE: 3.740654789933551\n",
      "Train MEE: 1.5499249052822535\n",
      "Test MSE: 4.173100704447258\n",
      "Test MEE: 1.6467627503620546\n"
     ]
    }
   ],
   "source": [
    "model = grid_search(params, x_train, y_train, hold_out_val)\n",
    "assess_model(model, x_train, y_train, x_test, y_test, True)"
   ]
  },
  {
   "cell_type": "code",
   "execution_count": 10,
   "id": "03e0db07",
   "metadata": {},
   "outputs": [],
   "source": [
    "model.save(\"./../models/keras_model.hdf5\")"
   ]
  },
  {
   "cell_type": "code",
   "execution_count": 186,
   "id": "b317f7c2",
   "metadata": {},
   "outputs": [
    {
     "name": "stdout",
     "output_type": "stream",
     "text": [
      "42/42 [==============================] - 0s 1ms/step\n"
     ]
    },
    {
     "data": {
      "image/png": "[encoded data removed]",
      "text/plain": [
       "<Figure size 640x480 with 1 Axes>"
      ]
     },
     "metadata": {},
     "output_type": "display_data"
    }
   ],
   "source": [
    "# y_train_rescaled = scaler.inverse_transform(y_train)\n",
    "# print(y_train.shape)\n",
    "\n",
    "plt.scatter(y_train[:, 0], y_train[:, 1], label=\"True\")\n",
    "pred = model.predict(x_train)\n",
    "# pred = scaler.inverse_transform(pred)\n",
    "plt.scatter(pred[:, 0], pred[:, 1], label = \"Predicted\")\n",
    "plt.legend()\n",
    "plt.show()"
   ]
  },
  {
   "cell_type": "code",
   "execution_count": 187,
   "id": "8763cc51",
   "metadata": {},
   "outputs": [
    {
     "name": "stdout",
     "output_type": "stream",
     "text": [
      "5/5 [==============================] - 0s 2ms/step\n"
     ]
    },
    {
     "data": {
      "image/png": "[encoded data removed]",
      "text/plain": [
       "<Figure size 640x480 with 1 Axes>"
      ]
     },
     "metadata": {},
     "output_type": "display_data"
    }
   ],
   "source": [
    "plt.scatter(y_test[:, 0], y_test[:, 1], label=\"True\")\n",
    "pred = model.predict(x_test)\n",
    "# pred = scaler.inverse_transform(pred)\n",
    "plt.scatter(pred[:, 0], pred[:, 1], label = \"Predicted\")\n",
    "plt.legend()\n",
    "plt.show()"
   ]
  }
 ],
 "metadata": {
  "kernelspec": {
   "display_name": "mlvenv",
   "language": "python",
   "name": "mlvenv"
  },
  "language_info": {
   "codemirror_mode": {
    "name": "ipython",
    "version": 3
   },
   "file_extension": ".py",
   "mimetype": "text/x-python",
   "name": "python",
   "nbconvert_exporter": "python",
   "pygments_lexer": "ipython3",
   "version": "3.10.6"
  }
 },
 "nbformat": 4,
 "nbformat_minor": 5
}
