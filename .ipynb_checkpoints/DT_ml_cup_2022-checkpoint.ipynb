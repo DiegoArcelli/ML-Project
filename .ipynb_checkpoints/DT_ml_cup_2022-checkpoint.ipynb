{
 "cells": [
  {
   "cell_type": "code",
   "execution_count": 5,
   "id": "5c49641c",
   "metadata": {},
   "outputs": [],
   "source": [
    "import numpy as np\n",
    "import pandas as pd\n",
    "from sklearn import tree\n",
    "from sklearn.ensemble import RandomForestClassifier\n",
    "from sklearn.model_selection import GridSearchCV\n",
    "from sklearn.model_selection import RandomizedSearchCV\n",
    "from sklearn.model_selection import train_test_split\n",
    "from sklearn.preprocessing import OneHotEncoder\n",
    "from sklearn.utils import shuffle\n",
    "from sklearn.metrics import roc_curve, auc, roc_auc_score\n",
    "from sklearn import tree\n",
    "from sklearn.metrics import mean_squared_error\n",
    "from sklearn.metrics import make_scorer\n",
    "from sklearn.model_selection import learning_curve\n",
    "from sklearn.metrics import ConfusionMatrixDisplay, confusion_matrix\n",
    "import statistics\n",
    "from sklearn.tree import DecisionTreeRegressor\n",
    "from sklearn.preprocessing import MinMaxScaler\n",
    "import matplotlib.pyplot as plt\n",
    "import joblib\n",
    "from numpy import linalg as LA\n",
    "\n",
    "#to save models\n",
    "from sklearn.linear_model import LogisticRegression\n",
    "import pickle"
   ]
  },
  {
   "cell_type": "code",
   "execution_count": 6,
   "id": "fe8acfd0",
   "metadata": {},
   "outputs": [],
   "source": [
    "# Def of MME error\n",
    "def mee(y_true, y_pred):\n",
    "    return np.mean(np.sqrt(np.sum(np.square(y_true - y_pred), axis=1)))"
   ]
  },
  {
   "cell_type": "code",
   "execution_count": 7,
   "id": "ddd41126",
   "metadata": {},
   "outputs": [],
   "source": [
    "MEE = make_scorer(mee, greater_is_better=False)"
   ]
  },
  {
   "cell_type": "markdown",
   "id": "b31e7fc3",
   "metadata": {},
   "source": [
    "## Dataset"
   ]
  },
  {
   "cell_type": "code",
   "execution_count": 9,
   "id": "7c05880a",
   "metadata": {},
   "outputs": [],
   "source": [
    "colnames = ['id', 'a1', 'a2', 'a3', 'a4', 'a5', 'a6', 'a7', 'a8', 'a9', 'class1', 'class2']\n",
    "mlcup_tr = pd.read_csv(\"data/ML-CUP22-INTERNAL-TR.csv\", sep = \",\", names=colnames)\n",
    "mlcup_tr.drop(\"id\", axis=1, inplace=True)\n",
    "\n",
    "x_mlcup_tr = mlcup_tr.iloc[:, 0:9].values\n",
    "y_mlcup_tr = mlcup_tr.iloc[:, 9:11].values"
   ]
  },
  {
   "cell_type": "markdown",
   "id": "3fad73e1",
   "metadata": {},
   "source": [
    "## Decision tree"
   ]
  },
  {
   "cell_type": "code",
   "execution_count": null,
   "id": "817444d6",
   "metadata": {},
   "outputs": [],
   "source": [
    "param_grid = {\n",
    "    'ccp_alpha': [0.0, 0.1, 0.05, 0.01, 0.005, 0.001, 0.0005, 0.0001, 0.5, 0.2, 0.0002],\n",
    "    'min_weight_fraction_leaf': [0.0, 0.1, 0.05, 0.01, 0.005, 0.001, 0.0005, 0.0001, 0.5, 0.2],\n",
    "    'min_samples_split': [2, 3, 4],\n",
    "    'min_samples_leaf': [1, 2, 3, 4],\n",
    "    'max_depth': [5,7,10, 20, 30, 40, 50]\n",
    "}\n",
    "\n",
    "\n",
    "dt = DecisionTreeRegressor()\n",
    "\n",
    "grid = GridSearchCV(\n",
    "    dt,\n",
    "    param_grid,\n",
    "    cv=5,\n",
    "    scoring=MEE,\n",
    "    verbose=4,\n",
    "    refit = True\n",
    ")\n",
    "grid.fit(x_mlcup_tr, y_mlcup_tr)"
   ]
  },
  {
   "cell_type": "markdown",
   "id": "25dc002c",
   "metadata": {},
   "source": [
    "## Validation score"
   ]
  },
  {
   "cell_type": "code",
   "execution_count": null,
   "id": "081fbb73",
   "metadata": {},
   "outputs": [],
   "source": [
    "print(\n",
    "    \"The best parameters are %s with a score of %0.5f\"\n",
    "    % (grid.best_params_, grid.best_score_)\n",
    ")"
   ]
  },
  {
   "cell_type": "code",
   "execution_count": null,
   "id": "b9711ff8",
   "metadata": {},
   "outputs": [],
   "source": [
    "dt = grid.best_estimator_\n",
    "dt"
   ]
  },
  {
   "cell_type": "markdown",
   "id": "d7806056",
   "metadata": {},
   "source": [
    "## Check error on TR"
   ]
  },
  {
   "cell_type": "code",
   "execution_count": null,
   "id": "ec05849b",
   "metadata": {},
   "outputs": [],
   "source": [
    "# MEE for tr\n",
    "y_pred = dt.predict(x_mlcup_tr)\n",
    "meeTR = mee(y_mlcup_tr, y_pred)\n",
    "print(\"MEE on the training set: %0.5f\" %(meeTR))\n",
    "\n",
    "# MSE for tr\n",
    "mseTR = mean_squared_error(y_mlcup_tr, y_pred)\n",
    "print(\"MSE on the test set: %0.5f\" %(mseTR))"
   ]
  },
  {
   "cell_type": "code",
   "execution_count": null,
   "id": "c650b5fd",
   "metadata": {},
   "outputs": [],
   "source": [
    "joblib.dump(dt, 'savedModels/dt_mlcup.z')"
   ]
  },
  {
   "cell_type": "markdown",
   "id": "4c7877ac",
   "metadata": {},
   "source": [
    "## Randomized GridSearchCV"
   ]
  },
  {
   "cell_type": "code",
   "execution_count": null,
   "id": "51810f7a",
   "metadata": {},
   "outputs": [],
   "source": [
    "\n",
    "param_grid = {\n",
    "    'ccp_alpha': [0.0, 0.1, 0.05, 0.01, 0.005, 0.001, 0.0005, 0.0001, 0.5, 0.2, 0.0002],\n",
    "    'min_weight_fraction_leaf': [0.0, 0.1, 0.05, 0.01, 0.005, 0.001, 0.0005, 0.0001, 0.5, 0.2],\n",
    "    'min_samples_split': np.arange(1,20),\n",
    "    'min_samples_leaf': np.arange(1,20),\n",
    "    'max_depth': np.arange(5,90)\n",
    "}\n",
    "\n",
    "\n",
    "dt = DecisionTreeRegressor()\n",
    "\n",
    "grid = RandomizedSearchCV(\n",
    "    dt,\n",
    "    param_grid,\n",
    "    cv=5,\n",
    "    scoring=MEE,\n",
    "    verbose=4,\n",
    "    refit = True\n",
    ")\n",
    "\n",
    "\n",
    "grid.fit(x_mlcup_tr, y_mlcup_tr)"
   ]
  },
  {
   "cell_type": "markdown",
   "id": "661c72d4",
   "metadata": {},
   "source": [
    "## Validation score"
   ]
  },
  {
   "cell_type": "code",
   "execution_count": null,
   "id": "c24de43b",
   "metadata": {},
   "outputs": [],
   "source": [
    "\n",
    "print(\n",
    "    \"The best parameters are %s with a score of %0.5f\"\n",
    "    % (grid.best_params_, grid.best_score_)\n",
    ")"
   ]
  },
  {
   "cell_type": "code",
   "execution_count": null,
   "id": "9f0fd337",
   "metadata": {},
   "outputs": [],
   "source": [
    "dt = grid.best_estimator_\n",
    "dt"
   ]
  },
  {
   "cell_type": "code",
   "execution_count": null,
   "id": "bdda0457",
   "metadata": {},
   "outputs": [],
   "source": [
    "# MEE for tr\n",
    "y_pred = dt.predict(x_mlcup_tr)\n",
    "meeTR = mee(y_mlcup_tr, y_pred)\n",
    "print(\"MEE on the training set: %0.5f\" %(meeTR))\n",
    "\n",
    "# MSE for tr\n",
    "mseTR = mean_squared_error(y_mlcup_tr, y_pred)\n",
    "print(\"MSE on the training set: %0.5f\" %(mseTR))"
   ]
  },
  {
   "cell_type": "code",
   "execution_count": null,
   "id": "69f9c130",
   "metadata": {},
   "outputs": [],
   "source": [
    "joblib.dump(dt, 'savedModels/dt_randomSearchCV_mlcup.z')"
   ]
  },
  {
   "cell_type": "code",
   "execution_count": null,
   "id": "658b7b74",
   "metadata": {},
   "outputs": [],
   "source": []
  }
 ],
 "metadata": {
  "kernelspec": {
   "display_name": "mlvenv",
   "language": "python",
   "name": "mlvenv"
  },
  "language_info": {
   "codemirror_mode": {
    "name": "ipython",
    "version": 3
   },
   "file_extension": ".py",
   "mimetype": "text/x-python",
   "name": "python",
   "nbconvert_exporter": "python",
   "pygments_lexer": "ipython3",
   "version": "3.10.6"
  }
 },
 "nbformat": 4,
 "nbformat_minor": 5
}
