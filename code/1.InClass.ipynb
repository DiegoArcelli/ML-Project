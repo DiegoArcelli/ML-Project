{
 "cells": [
  {
   "cell_type": "code",
   "execution_count": 1,
   "metadata": {},
   "outputs": [],
   "source": [
    "import warnings\n",
    "warnings.filterwarnings('ignore')"
   ]
  },
  {
   "cell_type": "code",
   "execution_count": 2,
   "metadata": {},
   "outputs": [],
   "source": [
    "import numpy as np\n",
    "import pandas as pd\n",
    "import seaborn as sns\n",
    "import matplotlib.pyplot as plt"
   ]
  },
  {
   "cell_type": "code",
   "execution_count": 109,
   "metadata": {},
   "outputs": [],
   "source": [
    "# Dataset\n",
    "from sklearn.datasets import load_breast_cancer\n",
    "\n",
    "# Model Selection\n",
    "from sklearn.model_selection import train_test_split"
   ]
  },
  {
   "cell_type": "code",
   "execution_count": 110,
   "metadata": {},
   "outputs": [],
   "source": [
    "from sklearn.metrics import *"
   ]
  },
  {
   "cell_type": "markdown",
   "metadata": {},
   "source": [
    "# Day 1 - Classification"
   ]
  },
  {
   "cell_type": "markdown",
   "metadata": {},
   "source": [
    "## Binary Classifier"
   ]
  },
  {
   "cell_type": "code",
   "execution_count": 8,
   "metadata": {},
   "outputs": [],
   "source": [
    "X, y = load_breast_cancer(return_X_y=True)"
   ]
  },
  {
   "cell_type": "code",
   "execution_count": null,
   "metadata": {},
   "outputs": [],
   "source": [
    "#y_classes, y_counts = ()"
   ]
  },
  {
   "cell_type": "code",
   "execution_count": 9,
   "metadata": {},
   "outputs": [],
   "source": [
    "X_dev, X_test, y_dev, y_test = train_test_split(X, y, test_size=100, stratify=y, shuffle=True, random_state=42)"
   ]
  },
  {
   "cell_type": "code",
   "execution_count": 10,
   "metadata": {},
   "outputs": [
    {
     "data": {
      "text/plain": [
       "((469, 30), (100, 30))"
      ]
     },
     "execution_count": 10,
     "metadata": {},
     "output_type": "execute_result"
    }
   ],
   "source": [
    "X_dev.shape, X_test.shape"
   ]
  },
  {
   "cell_type": "markdown",
   "metadata": {},
   "source": [
    "### Baseline Classifier"
   ]
  },
  {
   "cell_type": "code",
   "execution_count": 11,
   "metadata": {},
   "outputs": [
    {
     "data": {
      "text/plain": [
       "(array([0, 1]), array([175, 294], dtype=int64))"
      ]
     },
     "execution_count": 11,
     "metadata": {},
     "output_type": "execute_result"
    }
   ],
   "source": [
    "np.unique(y_dev, return_counts=True)"
   ]
  },
  {
   "cell_type": "code",
   "execution_count": 12,
   "metadata": {},
   "outputs": [],
   "source": [
    "y_pred = np.ones_like(y_dev)"
   ]
  },
  {
   "cell_type": "code",
   "execution_count": 13,
   "metadata": {},
   "outputs": [],
   "source": [
    "y_test_pred = np.ones_like(y_test)"
   ]
  },
  {
   "cell_type": "code",
   "execution_count": 15,
   "metadata": {},
   "outputs": [
    {
     "data": {
      "text/plain": [
       "0.6268656716417911"
      ]
     },
     "execution_count": 15,
     "metadata": {},
     "output_type": "execute_result"
    }
   ],
   "source": [
    "accuracy_score(y_pred, y_dev)"
   ]
  },
  {
   "cell_type": "code",
   "execution_count": null,
   "metadata": {},
   "outputs": [],
   "source": [
    "cm = confusion_matrix()\n",
    "display(cm)"
   ]
  },
  {
   "cell_type": "code",
   "execution_count": 17,
   "metadata": {},
   "outputs": [
    {
     "data": {
      "text/plain": [
       "0.0"
      ]
     },
     "execution_count": 17,
     "metadata": {},
     "output_type": "execute_result"
    }
   ],
   "source": [
    "precision_score(y_test_pred, y_test, pos_label=0)"
   ]
  },
  {
   "cell_type": "code",
   "execution_count": 18,
   "metadata": {},
   "outputs": [
    {
     "data": {
      "text/plain": [
       "1.0"
      ]
     },
     "execution_count": 18,
     "metadata": {},
     "output_type": "execute_result"
    }
   ],
   "source": [
    "precision_score(y_test_pred, y_test, pos_label=1)"
   ]
  },
  {
   "cell_type": "code",
   "execution_count": null,
   "metadata": {},
   "outputs": [],
   "source": [
    "# roc_curve\n",
    "fpr, tpr = roc_curve(y_test, y_test_pred, )"
   ]
  },
  {
   "cell_type": "code",
   "execution_count": null,
   "metadata": {},
   "outputs": [
    {
     "data": {
      "text/plain": [
       "0.5"
      ]
     },
     "execution_count": 22,
     "metadata": {},
     "output_type": "execute_result"
    }
   ],
   "source": [
    "roc_auc_score(y_test, y_test_pred, )"
   ]
  },
  {
   "cell_type": "markdown",
   "metadata": {},
   "source": [
    "### Data Trasnformation"
   ]
  },
  {
   "cell_type": "code",
   "execution_count": 20,
   "metadata": {},
   "outputs": [],
   "source": [
    "from sklearn.preprocessing import *"
   ]
  },
  {
   "cell_type": "code",
   "execution_count": 21,
   "metadata": {},
   "outputs": [
    {
     "data": {
      "text/plain": [
       "[]"
      ]
     },
     "execution_count": 21,
     "metadata": {},
     "output_type": "execute_result"
    },
    {
     "data": {
      "image/png": "[encoded data removed]",
      "text/plain": [
       "<Figure size 432x288 with 1 Axes>"
      ]
     },
     "metadata": {
      "needs_background": "light"
     },
     "output_type": "display_data"
    }
   ],
   "source": [
    "plt.hist(X_dev[:,0], alpha=.5, label='x0')\n",
    "plt.hist(X_dev[:,5], alpha=.5, label='x1')\n",
    "plt.legend(loc='upper right')\n",
    "plt.plot()"
   ]
  },
  {
   "cell_type": "code",
   "execution_count": 22,
   "metadata": {},
   "outputs": [],
   "source": [
    "scaler = MinMaxScaler()"
   ]
  },
  {
   "cell_type": "code",
   "execution_count": 23,
   "metadata": {},
   "outputs": [],
   "source": [
    "scaler.fit(X_dev)\n",
    "X_dev_scaled = scaler.transform(X_dev)"
   ]
  },
  {
   "cell_type": "code",
   "execution_count": null,
   "metadata": {},
   "outputs": [],
   "source": []
  },
  {
   "cell_type": "code",
   "execution_count": 24,
   "metadata": {},
   "outputs": [
    {
     "data": {
      "text/plain": [
       "[]"
      ]
     },
     "execution_count": 24,
     "metadata": {},
     "output_type": "execute_result"
    },
    {
     "data": {
      "image/png": "[encoded data removed]",
      "text/plain": [
       "<Figure size 432x288 with 1 Axes>"
      ]
     },
     "metadata": {
      "needs_background": "light"
     },
     "output_type": "display_data"
    }
   ],
   "source": [
    "plt.hist(X_dev_scaled[:,0], alpha=.5, label='x0')\n",
    "plt.hist(X_dev_scaled[:,5], alpha=.5, label='x1')\n",
    "plt.legend(loc='upper right')\n",
    "plt.plot()"
   ]
  },
  {
   "cell_type": "code",
   "execution_count": null,
   "metadata": {},
   "outputs": [],
   "source": []
  },
  {
   "cell_type": "markdown",
   "metadata": {},
   "source": [
    "### Model Selection"
   ]
  },
  {
   "cell_type": "markdown",
   "metadata": {},
   "source": [
    "##### K-fold Cross-validation"
   ]
  },
  {
   "cell_type": "code",
   "execution_count": 25,
   "metadata": {},
   "outputs": [],
   "source": [
    "from sklearn.model_selection import KFold, StratifiedKFold"
   ]
  },
  {
   "cell_type": "code",
   "execution_count": null,
   "metadata": {},
   "outputs": [],
   "source": [
    "kfold = KFold(n_splits=5, shuffle=True, random_state=42)"
   ]
  },
  {
   "cell_type": "code",
   "execution_count": null,
   "metadata": {},
   "outputs": [
    {
     "data": {
      "text/plain": [
       "<generator object _BaseKFold.split at 0x0000026A55A74510>"
      ]
     },
     "execution_count": 38,
     "metadata": {},
     "output_type": "execute_result"
    }
   ],
   "source": [
    "kfold.split(X_dev, y_dev)"
   ]
  },
  {
   "cell_type": "code",
   "execution_count": null,
   "metadata": {},
   "outputs": [
    {
     "data": {
      "text/plain": [
       "[(array([  1,   2,   3,   4,   5,   6,   7,   8,  10,  12,  13,  14,  16,\n",
       "          17,  20,  21,  22,  23,  24,  26,  27,  28,  29,  31,  32,  34,\n",
       "          35,  36,  37,  38,  40,  41,  43,  44,  45,  46,  47,  48,  49,\n",
       "          50,  51,  52,  53,  54,  57,  58,  59,  60,  61,  62,  64,  65,\n",
       "          66,  67,  68,  69,  71,  74,  80,  81,  83,  84,  85,  86,  87,\n",
       "          88,  89,  91,  92,  94,  95,  96,  97,  98,  99, 100, 102, 103,\n",
       "         104, 105, 106, 107, 108, 109, 110, 111, 112, 114, 115, 116, 118,\n",
       "         119, 120, 121, 122, 123, 125, 126, 127, 128, 129, 130, 133, 134,\n",
       "         135, 136, 138, 139, 141, 142, 143, 144, 145, 146, 147, 149, 150,\n",
       "         151, 152, 156, 158, 159, 160, 161, 162, 163, 164, 165, 166, 167,\n",
       "         168, 169, 170, 171, 172, 174, 176, 177, 178, 179, 181, 182, 183,\n",
       "         184, 185, 186, 187, 188, 189, 190, 191, 192, 193, 194, 195, 197,\n",
       "         198, 199, 200, 201, 202, 204, 205, 206, 207, 209, 211, 212, 213,\n",
       "         214, 215, 216, 217, 219, 221, 222, 223, 224, 225, 226, 227, 228,\n",
       "         230, 232, 233, 234, 235, 236, 237, 239, 240, 241, 242, 243, 244,\n",
       "         245, 246, 249, 250, 251, 252, 253, 254, 255, 256, 257, 258, 259,\n",
       "         260, 261, 262, 263, 264, 265, 266, 267, 268, 269, 270, 272, 273,\n",
       "         274, 275, 276, 278, 279, 280, 281, 282, 283, 285, 286, 287, 288,\n",
       "         289, 290, 291, 292, 293, 294, 295, 299, 300, 303, 305, 306, 307,\n",
       "         308, 309, 310, 313, 314, 315, 316, 317, 318, 319, 320, 322, 323,\n",
       "         324, 325, 326, 327, 328, 329, 330, 332, 333, 334, 335, 336, 337,\n",
       "         338, 339, 340, 341, 342, 343, 344, 345, 346, 347, 348, 349, 350,\n",
       "         351, 353, 354, 355, 356, 357, 358, 359, 360, 361, 363, 365, 366,\n",
       "         367, 368, 369, 370, 371, 372, 373, 374, 375, 376, 377, 378, 379,\n",
       "         380, 381, 383, 385, 387, 388, 389, 390, 391, 392, 394, 395, 396,\n",
       "         397, 399, 401, 403, 404, 405, 407, 409, 410, 411, 413, 414, 416,\n",
       "         417, 419, 420, 421, 422, 423, 424, 427, 428, 430, 431, 432, 433,\n",
       "         435, 436, 437, 438, 439, 441, 444, 447, 448, 449, 450, 451, 452,\n",
       "         453, 455, 457, 458, 459, 461, 462, 465, 466, 467, 468]),\n",
       "  array([  0,   9,  11,  15,  18,  19,  25,  30,  33,  39,  42,  55,  56,\n",
       "          63,  70,  72,  73,  75,  76,  77,  78,  79,  82,  90,  93, 101,\n",
       "         113, 117, 124, 131, 132, 137, 140, 148, 153, 154, 155, 157, 173,\n",
       "         175, 180, 196, 203, 208, 210, 218, 220, 229, 231, 238, 247, 248,\n",
       "         271, 277, 284, 296, 297, 298, 301, 302, 304, 311, 312, 321, 331,\n",
       "         352, 362, 364, 382, 384, 386, 393, 398, 400, 402, 406, 408, 412,\n",
       "         415, 418, 425, 426, 429, 434, 440, 442, 443, 445, 446, 454, 456,\n",
       "         460, 463, 464])),\n",
       " (array([  0,   1,   2,   4,   6,   8,   9,  10,  11,  12,  13,  14,  15,\n",
       "          18,  19,  20,  21,  23,  25,  27,  28,  30,  32,  33,  34,  35,\n",
       "          36,  37,  38,  39,  40,  41,  42,  43,  44,  47,  48,  49,  50,\n",
       "          51,  52,  53,  54,  55,  56,  58,  59,  61,  62,  63,  64,  65,\n",
       "          67,  68,  69,  70,  71,  72,  73,  75,  76,  77,  78,  79,  80,\n",
       "          81,  82,  85,  87,  88,  89,  90,  91,  92,  93,  95,  96,  97,\n",
       "          98,  99, 100, 101, 102, 103, 105, 106, 107, 111, 112, 113, 115,\n",
       "         117, 120, 121, 122, 123, 124, 125, 127, 128, 129, 130, 131, 132,\n",
       "         133, 134, 135, 136, 137, 138, 139, 140, 142, 143, 144, 146, 147,\n",
       "         148, 149, 150, 151, 153, 154, 155, 156, 157, 158, 159, 160, 161,\n",
       "         162, 163, 164, 166, 167, 169, 170, 171, 173, 174, 175, 177, 178,\n",
       "         179, 180, 182, 183, 184, 186, 187, 188, 189, 190, 191, 194, 195,\n",
       "         196, 197, 198, 200, 201, 202, 203, 204, 205, 206, 207, 208, 210,\n",
       "         211, 212, 213, 214, 215, 216, 217, 218, 219, 220, 221, 222, 223,\n",
       "         224, 225, 226, 228, 229, 230, 231, 232, 233, 235, 236, 237, 238,\n",
       "         240, 241, 242, 243, 246, 247, 248, 251, 252, 253, 254, 255, 256,\n",
       "         257, 258, 259, 260, 261, 263, 264, 265, 266, 267, 268, 269, 270,\n",
       "         271, 272, 273, 274, 275, 276, 277, 278, 279, 281, 282, 283, 284,\n",
       "         285, 286, 288, 289, 291, 292, 293, 295, 296, 297, 298, 300, 301,\n",
       "         302, 303, 304, 306, 308, 309, 310, 311, 312, 313, 315, 317, 319,\n",
       "         320, 321, 322, 325, 326, 327, 328, 329, 330, 331, 334, 337, 338,\n",
       "         339, 340, 342, 343, 344, 345, 347, 348, 349, 350, 351, 352, 353,\n",
       "         355, 356, 357, 359, 360, 361, 362, 363, 364, 365, 366, 368, 372,\n",
       "         373, 374, 375, 376, 377, 379, 380, 381, 382, 383, 384, 385, 386,\n",
       "         387, 389, 390, 392, 393, 395, 396, 397, 398, 399, 400, 401, 402,\n",
       "         403, 405, 406, 407, 408, 409, 410, 412, 413, 415, 416, 417, 418,\n",
       "         419, 421, 422, 423, 424, 425, 426, 429, 430, 431, 432, 433, 434,\n",
       "         435, 436, 440, 441, 442, 443, 444, 445, 446, 447, 451, 452, 453,\n",
       "         454, 455, 456, 457, 458, 460, 461, 463, 464, 465, 468]),\n",
       "  array([  3,   5,   7,  16,  17,  22,  24,  26,  29,  31,  45,  46,  57,\n",
       "          60,  66,  74,  83,  84,  86,  94, 104, 108, 109, 110, 114, 116,\n",
       "         118, 119, 126, 141, 145, 152, 165, 168, 172, 176, 181, 185, 192,\n",
       "         193, 199, 209, 227, 234, 239, 244, 245, 249, 250, 262, 280, 287,\n",
       "         290, 294, 299, 305, 307, 314, 316, 318, 323, 324, 332, 333, 335,\n",
       "         336, 341, 346, 354, 358, 367, 369, 370, 371, 378, 388, 391, 394,\n",
       "         404, 411, 414, 420, 427, 428, 437, 438, 439, 448, 449, 450, 459,\n",
       "         462, 466, 467])),\n",
       " (array([  0,   1,   3,   4,   5,   7,   8,   9,  11,  12,  13,  14,  15,\n",
       "          16,  17,  18,  19,  20,  21,  22,  24,  25,  26,  27,  28,  29,\n",
       "          30,  31,  32,  33,  34,  35,  39,  40,  41,  42,  43,  44,  45,\n",
       "          46,  47,  48,  49,  50,  51,  52,  53,  54,  55,  56,  57,  58,\n",
       "          60,  61,  62,  63,  64,  65,  66,  70,  71,  72,  73,  74,  75,\n",
       "          76,  77,  78,  79,  80,  82,  83,  84,  85,  86,  87,  88,  90,\n",
       "          91,  93,  94,  95,  98,  99, 100, 101, 102, 104, 105, 106, 107,\n",
       "         108, 109, 110, 113, 114, 115, 116, 117, 118, 119, 120, 121, 124,\n",
       "         126, 127, 128, 130, 131, 132, 133, 134, 135, 136, 137, 138, 140,\n",
       "         141, 142, 145, 148, 149, 151, 152, 153, 154, 155, 156, 157, 159,\n",
       "         160, 161, 162, 164, 165, 166, 168, 169, 170, 171, 172, 173, 174,\n",
       "         175, 176, 178, 180, 181, 185, 186, 187, 188, 189, 190, 191, 192,\n",
       "         193, 196, 197, 199, 200, 201, 203, 205, 206, 207, 208, 209, 210,\n",
       "         212, 213, 214, 215, 216, 217, 218, 220, 221, 224, 226, 227, 229,\n",
       "         230, 231, 232, 233, 234, 235, 236, 238, 239, 240, 241, 242, 243,\n",
       "         244, 245, 247, 248, 249, 250, 251, 252, 254, 256, 257, 258, 259,\n",
       "         260, 262, 263, 264, 267, 269, 270, 271, 273, 276, 277, 279, 280,\n",
       "         282, 283, 284, 285, 287, 288, 290, 292, 293, 294, 295, 296, 297,\n",
       "         298, 299, 300, 301, 302, 303, 304, 305, 306, 307, 308, 309, 311,\n",
       "         312, 313, 314, 315, 316, 317, 318, 319, 321, 322, 323, 324, 326,\n",
       "         327, 328, 330, 331, 332, 333, 335, 336, 337, 339, 340, 341, 342,\n",
       "         343, 344, 345, 346, 348, 349, 350, 351, 352, 354, 357, 358, 359,\n",
       "         362, 363, 364, 366, 367, 368, 369, 370, 371, 372, 374, 376, 378,\n",
       "         380, 381, 382, 384, 385, 386, 387, 388, 389, 390, 391, 393, 394,\n",
       "         396, 398, 400, 401, 402, 403, 404, 405, 406, 408, 409, 411, 412,\n",
       "         413, 414, 415, 416, 418, 419, 420, 421, 422, 423, 425, 426, 427,\n",
       "         428, 429, 430, 431, 432, 433, 434, 435, 436, 437, 438, 439, 440,\n",
       "         442, 443, 444, 445, 446, 447, 448, 449, 450, 451, 453, 454, 456,\n",
       "         458, 459, 460, 461, 462, 463, 464, 465, 466, 467, 468]),\n",
       "  array([  2,   6,  10,  23,  36,  37,  38,  59,  67,  68,  69,  81,  89,\n",
       "          92,  96,  97, 103, 111, 112, 122, 123, 125, 129, 139, 143, 144,\n",
       "         146, 147, 150, 158, 163, 167, 177, 179, 182, 183, 184, 194, 195,\n",
       "         198, 202, 204, 211, 219, 222, 223, 225, 228, 237, 246, 253, 255,\n",
       "         261, 265, 266, 268, 272, 274, 275, 278, 281, 286, 289, 291, 310,\n",
       "         320, 325, 329, 334, 338, 347, 353, 355, 356, 360, 361, 365, 373,\n",
       "         375, 377, 379, 383, 392, 395, 397, 399, 407, 410, 417, 424, 441,\n",
       "         452, 455, 457])),\n",
       " (array([  0,   1,   2,   3,   5,   6,   7,   9,  10,  11,  13,  15,  16,\n",
       "          17,  18,  19,  20,  21,  22,  23,  24,  25,  26,  29,  30,  31,\n",
       "          33,  34,  36,  37,  38,  39,  42,  43,  45,  46,  48,  49,  50,\n",
       "          52,  53,  54,  55,  56,  57,  58,  59,  60,  63,  66,  67,  68,\n",
       "          69,  70,  71,  72,  73,  74,  75,  76,  77,  78,  79,  80,  81,\n",
       "          82,  83,  84,  86,  87,  88,  89,  90,  91,  92,  93,  94,  96,\n",
       "          97,  99, 101, 102, 103, 104, 105, 106, 108, 109, 110, 111, 112,\n",
       "         113, 114, 116, 117, 118, 119, 121, 122, 123, 124, 125, 126, 129,\n",
       "         130, 131, 132, 134, 137, 139, 140, 141, 143, 144, 145, 146, 147,\n",
       "         148, 149, 150, 151, 152, 153, 154, 155, 157, 158, 160, 161, 163,\n",
       "         165, 166, 167, 168, 169, 172, 173, 174, 175, 176, 177, 179, 180,\n",
       "         181, 182, 183, 184, 185, 187, 188, 189, 190, 191, 192, 193, 194,\n",
       "         195, 196, 198, 199, 201, 202, 203, 204, 205, 207, 208, 209, 210,\n",
       "         211, 212, 214, 217, 218, 219, 220, 222, 223, 225, 227, 228, 229,\n",
       "         231, 234, 235, 236, 237, 238, 239, 241, 243, 244, 245, 246, 247,\n",
       "         248, 249, 250, 251, 252, 253, 255, 257, 259, 261, 262, 263, 264,\n",
       "         265, 266, 268, 269, 270, 271, 272, 273, 274, 275, 276, 277, 278,\n",
       "         280, 281, 284, 286, 287, 289, 290, 291, 293, 294, 295, 296, 297,\n",
       "         298, 299, 301, 302, 303, 304, 305, 306, 307, 308, 309, 310, 311,\n",
       "         312, 313, 314, 315, 316, 318, 319, 320, 321, 323, 324, 325, 328,\n",
       "         329, 330, 331, 332, 333, 334, 335, 336, 338, 339, 341, 343, 344,\n",
       "         345, 346, 347, 348, 350, 352, 353, 354, 355, 356, 358, 359, 360,\n",
       "         361, 362, 363, 364, 365, 366, 367, 369, 370, 371, 372, 373, 375,\n",
       "         377, 378, 379, 382, 383, 384, 385, 386, 387, 388, 389, 391, 392,\n",
       "         393, 394, 395, 397, 398, 399, 400, 402, 404, 406, 407, 408, 410,\n",
       "         411, 412, 413, 414, 415, 416, 417, 418, 420, 424, 425, 426, 427,\n",
       "         428, 429, 430, 431, 434, 435, 437, 438, 439, 440, 441, 442, 443,\n",
       "         444, 445, 446, 448, 449, 450, 451, 452, 453, 454, 455, 456, 457,\n",
       "         458, 459, 460, 461, 462, 463, 464, 465, 466, 467, 468]),\n",
       "  array([  4,   8,  12,  14,  27,  28,  32,  35,  40,  41,  44,  47,  51,\n",
       "          61,  62,  64,  65,  85,  95,  98, 100, 107, 115, 120, 127, 128,\n",
       "         133, 135, 136, 138, 142, 156, 159, 162, 164, 170, 171, 178, 186,\n",
       "         197, 200, 206, 213, 215, 216, 221, 224, 226, 230, 232, 233, 240,\n",
       "         242, 254, 256, 258, 260, 267, 279, 282, 283, 285, 288, 292, 300,\n",
       "         317, 322, 326, 327, 337, 340, 342, 349, 351, 357, 368, 374, 376,\n",
       "         380, 381, 390, 396, 401, 403, 405, 409, 419, 421, 422, 423, 432,\n",
       "         433, 436, 447])),\n",
       " (array([  0,   2,   3,   4,   5,   6,   7,   8,   9,  10,  11,  12,  14,\n",
       "          15,  16,  17,  18,  19,  22,  23,  24,  25,  26,  27,  28,  29,\n",
       "          30,  31,  32,  33,  35,  36,  37,  38,  39,  40,  41,  42,  44,\n",
       "          45,  46,  47,  51,  55,  56,  57,  59,  60,  61,  62,  63,  64,\n",
       "          65,  66,  67,  68,  69,  70,  72,  73,  74,  75,  76,  77,  78,\n",
       "          79,  81,  82,  83,  84,  85,  86,  89,  90,  92,  93,  94,  95,\n",
       "          96,  97,  98, 100, 101, 103, 104, 107, 108, 109, 110, 111, 112,\n",
       "         113, 114, 115, 116, 117, 118, 119, 120, 122, 123, 124, 125, 126,\n",
       "         127, 128, 129, 131, 132, 133, 135, 136, 137, 138, 139, 140, 141,\n",
       "         142, 143, 144, 145, 146, 147, 148, 150, 152, 153, 154, 155, 156,\n",
       "         157, 158, 159, 162, 163, 164, 165, 167, 168, 170, 171, 172, 173,\n",
       "         175, 176, 177, 178, 179, 180, 181, 182, 183, 184, 185, 186, 192,\n",
       "         193, 194, 195, 196, 197, 198, 199, 200, 202, 203, 204, 206, 208,\n",
       "         209, 210, 211, 213, 215, 216, 218, 219, 220, 221, 222, 223, 224,\n",
       "         225, 226, 227, 228, 229, 230, 231, 232, 233, 234, 237, 238, 239,\n",
       "         240, 242, 244, 245, 246, 247, 248, 249, 250, 253, 254, 255, 256,\n",
       "         258, 260, 261, 262, 265, 266, 267, 268, 271, 272, 274, 275, 277,\n",
       "         278, 279, 280, 281, 282, 283, 284, 285, 286, 287, 288, 289, 290,\n",
       "         291, 292, 294, 296, 297, 298, 299, 300, 301, 302, 304, 305, 307,\n",
       "         310, 311, 312, 314, 316, 317, 318, 320, 321, 322, 323, 324, 325,\n",
       "         326, 327, 329, 331, 332, 333, 334, 335, 336, 337, 338, 340, 341,\n",
       "         342, 346, 347, 349, 351, 352, 353, 354, 355, 356, 357, 358, 360,\n",
       "         361, 362, 364, 365, 367, 368, 369, 370, 371, 373, 374, 375, 376,\n",
       "         377, 378, 379, 380, 381, 382, 383, 384, 386, 388, 390, 391, 392,\n",
       "         393, 394, 395, 396, 397, 398, 399, 400, 401, 402, 403, 404, 405,\n",
       "         406, 407, 408, 409, 410, 411, 412, 414, 415, 417, 418, 419, 420,\n",
       "         421, 422, 423, 424, 425, 426, 427, 428, 429, 432, 433, 434, 436,\n",
       "         437, 438, 439, 440, 441, 442, 443, 445, 446, 447, 448, 449, 450,\n",
       "         452, 454, 455, 456, 457, 459, 460, 462, 463, 464, 466, 467]),\n",
       "  array([  1,  13,  20,  21,  34,  43,  48,  49,  50,  52,  53,  54,  58,\n",
       "          71,  80,  87,  88,  91,  99, 102, 105, 106, 121, 130, 134, 149,\n",
       "         151, 160, 161, 166, 169, 174, 187, 188, 189, 190, 191, 201, 205,\n",
       "         207, 212, 214, 217, 235, 236, 241, 243, 251, 252, 257, 259, 263,\n",
       "         264, 269, 270, 273, 276, 293, 295, 303, 306, 308, 309, 313, 315,\n",
       "         319, 328, 330, 339, 343, 344, 345, 348, 350, 359, 363, 366, 372,\n",
       "         385, 387, 389, 413, 416, 430, 431, 435, 444, 451, 453, 458, 461,\n",
       "         465, 468]))]"
      ]
     },
     "execution_count": 40,
     "metadata": {},
     "output_type": "execute_result"
    }
   ],
   "source": [
    "list(kfold.split(X_dev, y_dev))"
   ]
  },
  {
   "cell_type": "code",
   "execution_count": null,
   "metadata": {},
   "outputs": [],
   "source": [
    "stkfold = StratifiedKFold(n_splits=5, shuffle=True, random_state=42)"
   ]
  },
  {
   "cell_type": "code",
   "execution_count": null,
   "metadata": {},
   "outputs": [
    {
     "data": {
      "text/plain": [
       "<generator object _BaseKFold.split at 0x0000026A55A74C80>"
      ]
     },
     "execution_count": 42,
     "metadata": {},
     "output_type": "execute_result"
    }
   ],
   "source": [
    "stkfold.split(X_dev, y_dev)"
   ]
  },
  {
   "cell_type": "code",
   "execution_count": null,
   "metadata": {},
   "outputs": [
    {
     "data": {
      "text/plain": [
       "[(array([  1,   2,   3,   4,   5,   6,   7,   8,  10,  12,  13,  14,  16,\n",
       "          17,  20,  21,  22,  23,  24,  26,  27,  28,  29,  31,  32,  34,\n",
       "          35,  36,  37,  38,  40,  41,  43,  44,  45,  46,  47,  48,  49,\n",
       "          50,  51,  52,  53,  54,  57,  58,  59,  60,  61,  62,  64,  65,\n",
       "          66,  67,  68,  69,  71,  74,  80,  81,  83,  84,  85,  86,  87,\n",
       "          88,  89,  91,  92,  94,  95,  96,  97,  98,  99, 100, 102, 103,\n",
       "         104, 105, 106, 107, 108, 109, 110, 111, 112, 114, 115, 116, 118,\n",
       "         119, 120, 121, 122, 123, 125, 126, 127, 128, 129, 130, 133, 134,\n",
       "         135, 136, 138, 139, 141, 142, 143, 144, 145, 146, 147, 149, 150,\n",
       "         151, 152, 156, 158, 159, 160, 161, 162, 163, 164, 165, 166, 167,\n",
       "         168, 169, 170, 171, 172, 174, 176, 177, 178, 179, 181, 182, 183,\n",
       "         184, 185, 186, 187, 188, 189, 190, 191, 192, 193, 194, 195, 197,\n",
       "         198, 199, 200, 201, 202, 204, 205, 206, 207, 209, 211, 212, 213,\n",
       "         214, 215, 216, 217, 219, 221, 222, 223, 224, 225, 226, 227, 228,\n",
       "         230, 232, 233, 234, 235, 236, 237, 239, 240, 241, 242, 243, 244,\n",
       "         245, 246, 249, 250, 251, 252, 253, 254, 255, 256, 257, 258, 259,\n",
       "         260, 261, 262, 263, 264, 265, 266, 267, 268, 269, 270, 272, 273,\n",
       "         274, 275, 276, 278, 279, 280, 281, 282, 283, 285, 286, 287, 288,\n",
       "         289, 290, 291, 292, 293, 294, 295, 299, 300, 303, 305, 306, 307,\n",
       "         308, 309, 310, 313, 314, 315, 316, 317, 318, 319, 320, 322, 323,\n",
       "         324, 325, 326, 327, 328, 329, 330, 332, 333, 334, 335, 336, 337,\n",
       "         338, 339, 340, 341, 342, 343, 344, 345, 346, 347, 348, 349, 350,\n",
       "         351, 353, 354, 355, 356, 357, 358, 359, 360, 361, 363, 365, 366,\n",
       "         367, 368, 369, 370, 371, 372, 373, 374, 375, 376, 377, 378, 379,\n",
       "         380, 381, 383, 385, 387, 388, 389, 390, 391, 392, 394, 395, 396,\n",
       "         397, 399, 401, 403, 404, 405, 407, 409, 410, 411, 413, 414, 416,\n",
       "         417, 419, 420, 421, 422, 423, 424, 427, 428, 430, 431, 432, 433,\n",
       "         435, 436, 437, 438, 439, 441, 444, 447, 448, 449, 450, 451, 452,\n",
       "         453, 455, 457, 458, 459, 461, 462, 465, 466, 467, 468]),\n",
       "  array([  0,   9,  11,  15,  18,  19,  25,  30,  33,  39,  42,  55,  56,\n",
       "          63,  70,  72,  73,  75,  76,  77,  78,  79,  82,  90,  93, 101,\n",
       "         113, 117, 124, 131, 132, 137, 140, 148, 153, 154, 155, 157, 173,\n",
       "         175, 180, 196, 203, 208, 210, 218, 220, 229, 231, 238, 247, 248,\n",
       "         271, 277, 284, 296, 297, 298, 301, 302, 304, 311, 312, 321, 331,\n",
       "         352, 362, 364, 382, 384, 386, 393, 398, 400, 402, 406, 408, 412,\n",
       "         415, 418, 425, 426, 429, 434, 440, 442, 443, 445, 446, 454, 456,\n",
       "         460, 463, 464])),\n",
       " (array([  0,   1,   2,   4,   6,   8,   9,  10,  11,  12,  13,  14,  15,\n",
       "          18,  19,  20,  21,  23,  25,  27,  28,  30,  32,  33,  34,  35,\n",
       "          36,  37,  38,  39,  40,  41,  42,  43,  44,  47,  48,  49,  50,\n",
       "          51,  52,  53,  54,  55,  56,  58,  59,  61,  62,  63,  64,  65,\n",
       "          67,  68,  69,  70,  71,  72,  73,  75,  76,  77,  78,  79,  80,\n",
       "          81,  82,  85,  87,  88,  89,  90,  91,  92,  93,  95,  96,  97,\n",
       "          98,  99, 100, 101, 102, 103, 105, 106, 107, 111, 112, 113, 115,\n",
       "         117, 120, 121, 122, 123, 124, 125, 127, 128, 129, 130, 131, 132,\n",
       "         133, 134, 135, 136, 137, 138, 139, 140, 142, 143, 144, 146, 147,\n",
       "         148, 149, 150, 151, 153, 154, 155, 156, 157, 158, 159, 160, 161,\n",
       "         162, 163, 164, 166, 167, 169, 170, 171, 173, 174, 175, 177, 178,\n",
       "         179, 180, 182, 183, 184, 186, 187, 188, 189, 190, 191, 194, 195,\n",
       "         196, 197, 198, 200, 201, 202, 203, 204, 205, 206, 207, 208, 210,\n",
       "         211, 212, 213, 214, 215, 216, 217, 218, 219, 220, 221, 222, 223,\n",
       "         224, 225, 226, 228, 229, 230, 231, 232, 233, 235, 236, 237, 238,\n",
       "         240, 241, 242, 243, 246, 247, 248, 251, 252, 253, 254, 255, 256,\n",
       "         257, 258, 259, 260, 261, 263, 264, 265, 266, 267, 268, 269, 270,\n",
       "         271, 272, 273, 274, 275, 276, 277, 278, 279, 281, 282, 283, 284,\n",
       "         285, 286, 288, 289, 291, 292, 293, 295, 296, 297, 298, 300, 301,\n",
       "         302, 303, 304, 306, 308, 309, 310, 311, 312, 313, 315, 317, 319,\n",
       "         320, 321, 322, 325, 326, 327, 328, 329, 330, 331, 334, 337, 338,\n",
       "         339, 340, 342, 343, 344, 345, 347, 348, 349, 350, 351, 352, 353,\n",
       "         355, 356, 357, 359, 360, 361, 362, 363, 364, 365, 366, 368, 372,\n",
       "         373, 374, 375, 376, 377, 379, 380, 381, 382, 383, 384, 385, 386,\n",
       "         387, 389, 390, 392, 393, 395, 396, 397, 398, 399, 400, 401, 402,\n",
       "         403, 405, 406, 407, 408, 409, 410, 412, 413, 415, 416, 417, 418,\n",
       "         419, 421, 422, 423, 424, 425, 426, 429, 430, 431, 432, 433, 434,\n",
       "         435, 436, 440, 441, 442, 443, 444, 445, 446, 447, 451, 452, 453,\n",
       "         454, 455, 456, 457, 458, 460, 461, 463, 464, 465, 468]),\n",
       "  array([  3,   5,   7,  16,  17,  22,  24,  26,  29,  31,  45,  46,  57,\n",
       "          60,  66,  74,  83,  84,  86,  94, 104, 108, 109, 110, 114, 116,\n",
       "         118, 119, 126, 141, 145, 152, 165, 168, 172, 176, 181, 185, 192,\n",
       "         193, 199, 209, 227, 234, 239, 244, 245, 249, 250, 262, 280, 287,\n",
       "         290, 294, 299, 305, 307, 314, 316, 318, 323, 324, 332, 333, 335,\n",
       "         336, 341, 346, 354, 358, 367, 369, 370, 371, 378, 388, 391, 394,\n",
       "         404, 411, 414, 420, 427, 428, 437, 438, 439, 448, 449, 450, 459,\n",
       "         462, 466, 467])),\n",
       " (array([  0,   1,   3,   4,   5,   7,   8,   9,  11,  12,  13,  14,  15,\n",
       "          16,  17,  18,  19,  20,  21,  22,  24,  25,  26,  27,  28,  29,\n",
       "          30,  31,  32,  33,  34,  35,  39,  40,  41,  42,  43,  44,  45,\n",
       "          46,  47,  48,  49,  50,  51,  52,  53,  54,  55,  56,  57,  58,\n",
       "          60,  61,  62,  63,  64,  65,  66,  70,  71,  72,  73,  74,  75,\n",
       "          76,  77,  78,  79,  80,  82,  83,  84,  85,  86,  87,  88,  90,\n",
       "          91,  93,  94,  95,  98,  99, 100, 101, 102, 104, 105, 106, 107,\n",
       "         108, 109, 110, 113, 114, 115, 116, 117, 118, 119, 120, 121, 124,\n",
       "         126, 127, 128, 130, 131, 132, 133, 134, 135, 136, 137, 138, 140,\n",
       "         141, 142, 145, 148, 149, 151, 152, 153, 154, 155, 156, 157, 159,\n",
       "         160, 161, 162, 164, 165, 166, 168, 169, 170, 171, 172, 173, 174,\n",
       "         175, 176, 178, 180, 181, 185, 186, 187, 188, 189, 190, 191, 192,\n",
       "         193, 196, 197, 199, 200, 201, 203, 205, 206, 207, 208, 209, 210,\n",
       "         212, 213, 214, 215, 216, 217, 218, 220, 221, 224, 226, 227, 229,\n",
       "         230, 231, 232, 233, 234, 235, 236, 238, 239, 240, 241, 242, 243,\n",
       "         244, 245, 247, 248, 249, 250, 251, 252, 254, 256, 257, 258, 259,\n",
       "         260, 262, 263, 264, 267, 269, 270, 271, 273, 276, 277, 279, 280,\n",
       "         282, 283, 284, 285, 287, 288, 290, 292, 293, 294, 295, 296, 297,\n",
       "         298, 299, 300, 301, 302, 303, 304, 305, 306, 307, 308, 309, 311,\n",
       "         312, 313, 314, 315, 316, 317, 318, 319, 321, 322, 323, 324, 326,\n",
       "         327, 328, 330, 331, 332, 333, 335, 336, 337, 339, 340, 341, 342,\n",
       "         343, 344, 345, 346, 348, 349, 350, 351, 352, 354, 357, 358, 359,\n",
       "         362, 363, 364, 366, 367, 368, 369, 370, 371, 372, 374, 376, 378,\n",
       "         380, 381, 382, 384, 385, 386, 387, 388, 389, 390, 391, 393, 394,\n",
       "         396, 398, 400, 401, 402, 403, 404, 405, 406, 408, 409, 411, 412,\n",
       "         413, 414, 415, 416, 418, 419, 420, 421, 422, 423, 425, 426, 427,\n",
       "         428, 429, 430, 431, 432, 433, 434, 435, 436, 437, 438, 439, 440,\n",
       "         442, 443, 444, 445, 446, 447, 448, 449, 450, 451, 453, 454, 456,\n",
       "         458, 459, 460, 461, 462, 463, 464, 465, 466, 467, 468]),\n",
       "  array([  2,   6,  10,  23,  36,  37,  38,  59,  67,  68,  69,  81,  89,\n",
       "          92,  96,  97, 103, 111, 112, 122, 123, 125, 129, 139, 143, 144,\n",
       "         146, 147, 150, 158, 163, 167, 177, 179, 182, 183, 184, 194, 195,\n",
       "         198, 202, 204, 211, 219, 222, 223, 225, 228, 237, 246, 253, 255,\n",
       "         261, 265, 266, 268, 272, 274, 275, 278, 281, 286, 289, 291, 310,\n",
       "         320, 325, 329, 334, 338, 347, 353, 355, 356, 360, 361, 365, 373,\n",
       "         375, 377, 379, 383, 392, 395, 397, 399, 407, 410, 417, 424, 441,\n",
       "         452, 455, 457])),\n",
       " (array([  0,   1,   2,   3,   5,   6,   7,   9,  10,  11,  13,  15,  16,\n",
       "          17,  18,  19,  20,  21,  22,  23,  24,  25,  26,  29,  30,  31,\n",
       "          33,  34,  36,  37,  38,  39,  42,  43,  45,  46,  48,  49,  50,\n",
       "          52,  53,  54,  55,  56,  57,  58,  59,  60,  63,  66,  67,  68,\n",
       "          69,  70,  71,  72,  73,  74,  75,  76,  77,  78,  79,  80,  81,\n",
       "          82,  83,  84,  86,  87,  88,  89,  90,  91,  92,  93,  94,  96,\n",
       "          97,  99, 101, 102, 103, 104, 105, 106, 108, 109, 110, 111, 112,\n",
       "         113, 114, 116, 117, 118, 119, 121, 122, 123, 124, 125, 126, 129,\n",
       "         130, 131, 132, 134, 137, 139, 140, 141, 143, 144, 145, 146, 147,\n",
       "         148, 149, 150, 151, 152, 153, 154, 155, 157, 158, 160, 161, 163,\n",
       "         165, 166, 167, 168, 169, 172, 173, 174, 175, 176, 177, 179, 180,\n",
       "         181, 182, 183, 184, 185, 187, 188, 189, 190, 191, 192, 193, 194,\n",
       "         195, 196, 198, 199, 201, 202, 203, 204, 205, 207, 208, 209, 210,\n",
       "         211, 212, 214, 217, 218, 219, 220, 222, 223, 225, 227, 228, 229,\n",
       "         231, 234, 235, 236, 237, 238, 239, 241, 243, 244, 245, 246, 247,\n",
       "         248, 249, 250, 251, 252, 253, 255, 257, 259, 261, 262, 263, 264,\n",
       "         265, 266, 268, 269, 270, 271, 272, 273, 274, 275, 276, 277, 278,\n",
       "         280, 281, 284, 286, 287, 289, 290, 291, 293, 294, 295, 296, 297,\n",
       "         298, 299, 301, 302, 303, 304, 305, 306, 307, 308, 309, 310, 311,\n",
       "         312, 313, 314, 315, 316, 318, 319, 320, 321, 323, 324, 325, 328,\n",
       "         329, 330, 331, 332, 333, 334, 335, 336, 338, 339, 341, 343, 344,\n",
       "         345, 346, 347, 348, 350, 352, 353, 354, 355, 356, 358, 359, 360,\n",
       "         361, 362, 363, 364, 365, 366, 367, 369, 370, 371, 372, 373, 375,\n",
       "         377, 378, 379, 382, 383, 384, 385, 386, 387, 388, 389, 391, 392,\n",
       "         393, 394, 395, 397, 398, 399, 400, 402, 404, 406, 407, 408, 410,\n",
       "         411, 412, 413, 414, 415, 416, 417, 418, 420, 424, 425, 426, 427,\n",
       "         428, 429, 430, 431, 434, 435, 437, 438, 439, 440, 441, 442, 443,\n",
       "         444, 445, 446, 448, 449, 450, 451, 452, 453, 454, 455, 456, 457,\n",
       "         458, 459, 460, 461, 462, 463, 464, 465, 466, 467, 468]),\n",
       "  array([  4,   8,  12,  14,  27,  28,  32,  35,  40,  41,  44,  47,  51,\n",
       "          61,  62,  64,  65,  85,  95,  98, 100, 107, 115, 120, 127, 128,\n",
       "         133, 135, 136, 138, 142, 156, 159, 162, 164, 170, 171, 178, 186,\n",
       "         197, 200, 206, 213, 215, 216, 221, 224, 226, 230, 232, 233, 240,\n",
       "         242, 254, 256, 258, 260, 267, 279, 282, 283, 285, 288, 292, 300,\n",
       "         317, 322, 326, 327, 337, 340, 342, 349, 351, 357, 368, 374, 376,\n",
       "         380, 381, 390, 396, 401, 403, 405, 409, 419, 421, 422, 423, 432,\n",
       "         433, 436, 447])),\n",
       " (array([  0,   2,   3,   4,   5,   6,   7,   8,   9,  10,  11,  12,  14,\n",
       "          15,  16,  17,  18,  19,  22,  23,  24,  25,  26,  27,  28,  29,\n",
       "          30,  31,  32,  33,  35,  36,  37,  38,  39,  40,  41,  42,  44,\n",
       "          45,  46,  47,  51,  55,  56,  57,  59,  60,  61,  62,  63,  64,\n",
       "          65,  66,  67,  68,  69,  70,  72,  73,  74,  75,  76,  77,  78,\n",
       "          79,  81,  82,  83,  84,  85,  86,  89,  90,  92,  93,  94,  95,\n",
       "          96,  97,  98, 100, 101, 103, 104, 107, 108, 109, 110, 111, 112,\n",
       "         113, 114, 115, 116, 117, 118, 119, 120, 122, 123, 124, 125, 126,\n",
       "         127, 128, 129, 131, 132, 133, 135, 136, 137, 138, 139, 140, 141,\n",
       "         142, 143, 144, 145, 146, 147, 148, 150, 152, 153, 154, 155, 156,\n",
       "         157, 158, 159, 162, 163, 164, 165, 167, 168, 170, 171, 172, 173,\n",
       "         175, 176, 177, 178, 179, 180, 181, 182, 183, 184, 185, 186, 192,\n",
       "         193, 194, 195, 196, 197, 198, 199, 200, 202, 203, 204, 206, 208,\n",
       "         209, 210, 211, 213, 215, 216, 218, 219, 220, 221, 222, 223, 224,\n",
       "         225, 226, 227, 228, 229, 230, 231, 232, 233, 234, 237, 238, 239,\n",
       "         240, 242, 244, 245, 246, 247, 248, 249, 250, 253, 254, 255, 256,\n",
       "         258, 260, 261, 262, 265, 266, 267, 268, 271, 272, 274, 275, 277,\n",
       "         278, 279, 280, 281, 282, 283, 284, 285, 286, 287, 288, 289, 290,\n",
       "         291, 292, 294, 296, 297, 298, 299, 300, 301, 302, 304, 305, 307,\n",
       "         310, 311, 312, 314, 316, 317, 318, 320, 321, 322, 323, 324, 325,\n",
       "         326, 327, 329, 331, 332, 333, 334, 335, 336, 337, 338, 340, 341,\n",
       "         342, 346, 347, 349, 351, 352, 353, 354, 355, 356, 357, 358, 360,\n",
       "         361, 362, 364, 365, 367, 368, 369, 370, 371, 373, 374, 375, 376,\n",
       "         377, 378, 379, 380, 381, 382, 383, 384, 386, 388, 390, 391, 392,\n",
       "         393, 394, 395, 396, 397, 398, 399, 400, 401, 402, 403, 404, 405,\n",
       "         406, 407, 408, 409, 410, 411, 412, 414, 415, 417, 418, 419, 420,\n",
       "         421, 422, 423, 424, 425, 426, 427, 428, 429, 432, 433, 434, 436,\n",
       "         437, 438, 439, 440, 441, 442, 443, 445, 446, 447, 448, 449, 450,\n",
       "         452, 454, 455, 456, 457, 459, 460, 462, 463, 464, 466, 467]),\n",
       "  array([  1,  13,  20,  21,  34,  43,  48,  49,  50,  52,  53,  54,  58,\n",
       "          71,  80,  87,  88,  91,  99, 102, 105, 106, 121, 130, 134, 149,\n",
       "         151, 160, 161, 166, 169, 174, 187, 188, 189, 190, 191, 201, 205,\n",
       "         207, 212, 214, 217, 235, 236, 241, 243, 251, 252, 257, 259, 263,\n",
       "         264, 269, 270, 273, 276, 293, 295, 303, 306, 308, 309, 313, 315,\n",
       "         319, 328, 330, 339, 343, 344, 345, 348, 350, 359, 363, 366, 372,\n",
       "         385, 387, 389, 413, 416, 430, 431, 435, 444, 451, 453, 458, 461,\n",
       "         465, 468]))]"
      ]
     },
     "execution_count": 43,
     "metadata": {},
     "output_type": "execute_result"
    }
   ],
   "source": [
    "list(kfold.split(X_dev, y_dev))"
   ]
  },
  {
   "cell_type": "code",
   "execution_count": null,
   "metadata": {},
   "outputs": [],
   "source": [
    "outer_kfold = KFold(n_splits=10)\n",
    "inner_kfold = KFold(n_splits=5)"
   ]
  },
  {
   "cell_type": "code",
   "execution_count": null,
   "metadata": {},
   "outputs": [],
   "source": [
    "for selection_indices, tets_indices in outer_kfold.split(X, y):\n",
    "    for train_indices, validation_indicesin inner_kfold.split(X[selection_indices], y[selection_indices]):\n",
    "        # ..."
   ]
  },
  {
   "cell_type": "code",
   "execution_count": null,
   "metadata": {},
   "outputs": [],
   "source": [
    "## taking into asccount std in validation curve with k-nn is important"
   ]
  },
  {
   "cell_type": "markdown",
   "metadata": {},
   "source": [
    "#### Hyper-parameter search"
   ]
  },
  {
   "cell_type": "code",
   "execution_count": null,
   "metadata": {},
   "outputs": [],
   "source": [
    "## using param-grid for grid search or random search\n",
    "## --- in grid search indicate scoring ='balanced_accuracy' in cv = kfold...\n",
    "## --- in the results we have cv_result, best_estimators,  best_score, best_parameter\n",
    "## euclidean or manhattan distance"
   ]
  },
  {
   "cell_type": "code",
   "execution_count": null,
   "metadata": {},
   "outputs": [],
   "source": [
    "## random search is better for larger number of parameter to tune, so e.g. for NN it's better "
   ]
  },
  {
   "cell_type": "markdown",
   "metadata": {},
   "source": [
    "## Linear Models"
   ]
  },
  {
   "cell_type": "code",
   "execution_count": null,
   "metadata": {},
   "outputs": [],
   "source": []
  },
  {
   "cell_type": "markdown",
   "metadata": {},
   "source": [
    "#### Ridge Classifier"
   ]
  },
  {
   "cell_type": "code",
   "execution_count": 26,
   "metadata": {},
   "outputs": [],
   "source": [
    "from sklearn.linear_model import RidgeClassifier"
   ]
  },
  {
   "cell_type": "code",
   "execution_count": 15,
   "metadata": {},
   "outputs": [],
   "source": [
    "clf = RidgeClassifier(alpha = 1.0,\n",
    "        class_weight='balanced', \n",
    "        solver='auto')\n",
    "        "
   ]
  },
  {
   "cell_type": "code",
   "execution_count": 16,
   "metadata": {},
   "outputs": [
    {
     "data": {
      "text/html": [
       "<style>#sk-container-id-1 {color: black;background-color: white;}#sk-container-id-1 pre{padding: 0;}#sk-container-id-1 div.sk-toggleable {background-color: white;}#sk-container-id-1 label.sk-toggleable__label {cursor: pointer;display: block;width: 100%;margin-bottom: 0;padding: 0.3em;box-sizing: border-box;text-align: center;}#sk-container-id-1 label.sk-toggleable__label-arrow:before {content: \"▸\";float: left;margin-right: 0.25em;color: #696969;}#sk-container-id-1 label.sk-toggleable__label-arrow:hover:before {color: black;}#sk-container-id-1 div.sk-estimator:hover label.sk-toggleable__label-arrow:before {color: black;}#sk-container-id-1 div.sk-toggleable__content {max-height: 0;max-width: 0;overflow: hidden;text-align: left;background-color: #f0f8ff;}#sk-container-id-1 div.sk-toggleable__content pre {margin: 0.2em;color: black;border-radius: 0.25em;background-color: #f0f8ff;}#sk-container-id-1 input.sk-toggleable__control:checked~div.sk-toggleable__content {max-height: 200px;max-width: 100%;overflow: auto;}#sk-container-id-1 input.sk-toggleable__control:checked~label.sk-toggleable__label-arrow:before {content: \"▾\";}#sk-container-id-1 div.sk-estimator input.sk-toggleable__control:checked~label.sk-toggleable__label {background-color: #d4ebff;}#sk-container-id-1 div.sk-label input.sk-toggleable__control:checked~label.sk-toggleable__label {background-color: #d4ebff;}#sk-container-id-1 input.sk-hidden--visually {border: 0;clip: rect(1px 1px 1px 1px);clip: rect(1px, 1px, 1px, 1px);height: 1px;margin: -1px;overflow: hidden;padding: 0;position: absolute;width: 1px;}#sk-container-id-1 div.sk-estimator {font-family: monospace;background-color: #f0f8ff;border: 1px dotted black;border-radius: 0.25em;box-sizing: border-box;margin-bottom: 0.5em;}#sk-container-id-1 div.sk-estimator:hover {background-color: #d4ebff;}#sk-container-id-1 div.sk-parallel-item::after {content: \"\";width: 100%;border-bottom: 1px solid gray;flex-grow: 1;}#sk-container-id-1 div.sk-label:hover label.sk-toggleable__label {background-color: #d4ebff;}#sk-container-id-1 div.sk-serial::before {content: \"\";position: absolute;border-left: 1px solid gray;box-sizing: border-box;top: 0;bottom: 0;left: 50%;z-index: 0;}#sk-container-id-1 div.sk-serial {display: flex;flex-direction: column;align-items: center;background-color: white;padding-right: 0.2em;padding-left: 0.2em;position: relative;}#sk-container-id-1 div.sk-item {position: relative;z-index: 1;}#sk-container-id-1 div.sk-parallel {display: flex;align-items: stretch;justify-content: center;background-color: white;position: relative;}#sk-container-id-1 div.sk-item::before, #sk-container-id-1 div.sk-parallel-item::before {content: \"\";position: absolute;border-left: 1px solid gray;box-sizing: border-box;top: 0;bottom: 0;left: 50%;z-index: -1;}#sk-container-id-1 div.sk-parallel-item {display: flex;flex-direction: column;z-index: 1;position: relative;background-color: white;}#sk-container-id-1 div.sk-parallel-item:first-child::after {align-self: flex-end;width: 50%;}#sk-container-id-1 div.sk-parallel-item:last-child::after {align-self: flex-start;width: 50%;}#sk-container-id-1 div.sk-parallel-item:only-child::after {width: 0;}#sk-container-id-1 div.sk-dashed-wrapped {border: 1px dashed gray;margin: 0 0.4em 0.5em 0.4em;box-sizing: border-box;padding-bottom: 0.4em;background-color: white;}#sk-container-id-1 div.sk-label label {font-family: monospace;font-weight: bold;display: inline-block;line-height: 1.2em;}#sk-container-id-1 div.sk-label-container {text-align: center;}#sk-container-id-1 div.sk-container {/* jupyter's `normalize.less` sets `[hidden] { display: none; }` but bootstrap.min.css set `[hidden] { display: none !important; }` so we also need the `!important` here to be able to override the default hidden behavior on the sphinx rendered scikit-learn.org. See: https://github.com/scikit-learn/scikit-learn/issues/21755 */display: inline-block !important;position: relative;}#sk-container-id-1 div.sk-text-repr-fallback {display: none;}</style><div id=\"sk-container-id-1\" class=\"sk-top-container\"><div class=\"sk-text-repr-fallback\"><pre>RidgeClassifier(class_weight=&#x27;balanced&#x27;)</pre><b>In a Jupyter environment, please rerun this cell to show the HTML representation or trust the notebook. <br />On GitHub, the HTML representation is unable to render, please try loading this page with nbviewer.org.</b></div><div class=\"sk-container\" hidden><div class=\"sk-item\"><div class=\"sk-estimator sk-toggleable\"><input class=\"sk-toggleable__control sk-hidden--visually\" id=\"sk-estimator-id-1\" type=\"checkbox\" checked><label for=\"sk-estimator-id-1\" class=\"sk-toggleable__label sk-toggleable__label-arrow\">RidgeClassifier</label><div class=\"sk-toggleable__content\"><pre>RidgeClassifier(class_weight=&#x27;balanced&#x27;)</pre></div></div></div></div></div>"
      ],
      "text/plain": [
       "RidgeClassifier(class_weight='balanced')"
      ]
     },
     "execution_count": 16,
     "metadata": {},
     "output_type": "execute_result"
    }
   ],
   "source": [
    "clf.fit(X_dev, y_dev)"
   ]
  },
  {
   "cell_type": "code",
   "execution_count": null,
   "metadata": {},
   "outputs": [],
   "source": []
  },
  {
   "cell_type": "markdown",
   "metadata": {},
   "source": [
    "#### Logistic Regression"
   ]
  },
  {
   "cell_type": "code",
   "execution_count": 27,
   "metadata": {},
   "outputs": [],
   "source": [
    "from sklearn.linear_model import LogisticRegression"
   ]
  },
  {
   "cell_type": "code",
   "execution_count": 28,
   "metadata": {},
   "outputs": [],
   "source": [
    "## \n",
    "from sklearn.linear_model import Lasso"
   ]
  },
  {
   "cell_type": "markdown",
   "metadata": {},
   "source": [
    "## Neural Networks"
   ]
  },
  {
   "cell_type": "code",
   "execution_count": 29,
   "metadata": {},
   "outputs": [],
   "source": [
    "from sklearn.neural_network import MLPClassifier"
   ]
  },
  {
   "cell_type": "code",
   "execution_count": null,
   "metadata": {},
   "outputs": [],
   "source": [
    "nn = MLPClassifier(\n",
    "    hidden_layer_sizes=(5,)\n",
    "    ,activation='tanh'\n",
    "    ,solver='sdg'\n",
    "    ,alpha=1e-4\n",
    "    ,max_iter=50\n",
    "    ,shuffle=True\n",
    "    ,learning_rate=\n",
    "    ,learning_rate_init=\n",
    "    ,momentum=\n",
    "    ,nesterovs_momentum=\n",
    "    ,verbose=\n",
    ")"
   ]
  },
  {
   "cell_type": "code",
   "execution_count": null,
   "metadata": {},
   "outputs": [],
   "source": [
    "#nn.fit(X_dev, y_dev)"
   ]
  },
  {
   "cell_type": "code",
   "execution_count": null,
   "metadata": {},
   "outputs": [],
   "source": [
    "## nn.loss_curve_"
   ]
  },
  {
   "cell_type": "code",
   "execution_count": null,
   "metadata": {},
   "outputs": [],
   "source": []
  },
  {
   "cell_type": "markdown",
   "metadata": {},
   "source": [
    "## SVM "
   ]
  },
  {
   "cell_type": "code",
   "execution_count": 30,
   "metadata": {},
   "outputs": [],
   "source": [
    "from sklearn.svm import SVC"
   ]
  },
  {
   "cell_type": "code",
   "execution_count": 21,
   "metadata": {},
   "outputs": [],
   "source": [
    "svm = SVC(\n",
    "    C=1.0\n",
    "    ,kernel='linear'\n",
    "    ,class_weight='balanced'\n",
    "    ,verbose=True\n",
    ")"
   ]
  },
  {
   "cell_type": "code",
   "execution_count": 22,
   "metadata": {},
   "outputs": [
    {
     "name": "stdout",
     "output_type": "stream",
     "text": [
      "[LibSVM]"
     ]
    },
    {
     "data": {
      "text/html": [
       "<style>#sk-container-id-2 {color: black;background-color: white;}#sk-container-id-2 pre{padding: 0;}#sk-container-id-2 div.sk-toggleable {background-color: white;}#sk-container-id-2 label.sk-toggleable__label {cursor: pointer;display: block;width: 100%;margin-bottom: 0;padding: 0.3em;box-sizing: border-box;text-align: center;}#sk-container-id-2 label.sk-toggleable__label-arrow:before {content: \"▸\";float: left;margin-right: 0.25em;color: #696969;}#sk-container-id-2 label.sk-toggleable__label-arrow:hover:before {color: black;}#sk-container-id-2 div.sk-estimator:hover label.sk-toggleable__label-arrow:before {color: black;}#sk-container-id-2 div.sk-toggleable__content {max-height: 0;max-width: 0;overflow: hidden;text-align: left;background-color: #f0f8ff;}#sk-container-id-2 div.sk-toggleable__content pre {margin: 0.2em;color: black;border-radius: 0.25em;background-color: #f0f8ff;}#sk-container-id-2 input.sk-toggleable__control:checked~div.sk-toggleable__content {max-height: 200px;max-width: 100%;overflow: auto;}#sk-container-id-2 input.sk-toggleable__control:checked~label.sk-toggleable__label-arrow:before {content: \"▾\";}#sk-container-id-2 div.sk-estimator input.sk-toggleable__control:checked~label.sk-toggleable__label {background-color: #d4ebff;}#sk-container-id-2 div.sk-label input.sk-toggleable__control:checked~label.sk-toggleable__label {background-color: #d4ebff;}#sk-container-id-2 input.sk-hidden--visually {border: 0;clip: rect(1px 1px 1px 1px);clip: rect(1px, 1px, 1px, 1px);height: 1px;margin: -1px;overflow: hidden;padding: 0;position: absolute;width: 1px;}#sk-container-id-2 div.sk-estimator {font-family: monospace;background-color: #f0f8ff;border: 1px dotted black;border-radius: 0.25em;box-sizing: border-box;margin-bottom: 0.5em;}#sk-container-id-2 div.sk-estimator:hover {background-color: #d4ebff;}#sk-container-id-2 div.sk-parallel-item::after {content: \"\";width: 100%;border-bottom: 1px solid gray;flex-grow: 1;}#sk-container-id-2 div.sk-label:hover label.sk-toggleable__label {background-color: #d4ebff;}#sk-container-id-2 div.sk-serial::before {content: \"\";position: absolute;border-left: 1px solid gray;box-sizing: border-box;top: 0;bottom: 0;left: 50%;z-index: 0;}#sk-container-id-2 div.sk-serial {display: flex;flex-direction: column;align-items: center;background-color: white;padding-right: 0.2em;padding-left: 0.2em;position: relative;}#sk-container-id-2 div.sk-item {position: relative;z-index: 1;}#sk-container-id-2 div.sk-parallel {display: flex;align-items: stretch;justify-content: center;background-color: white;position: relative;}#sk-container-id-2 div.sk-item::before, #sk-container-id-2 div.sk-parallel-item::before {content: \"\";position: absolute;border-left: 1px solid gray;box-sizing: border-box;top: 0;bottom: 0;left: 50%;z-index: -1;}#sk-container-id-2 div.sk-parallel-item {display: flex;flex-direction: column;z-index: 1;position: relative;background-color: white;}#sk-container-id-2 div.sk-parallel-item:first-child::after {align-self: flex-end;width: 50%;}#sk-container-id-2 div.sk-parallel-item:last-child::after {align-self: flex-start;width: 50%;}#sk-container-id-2 div.sk-parallel-item:only-child::after {width: 0;}#sk-container-id-2 div.sk-dashed-wrapped {border: 1px dashed gray;margin: 0 0.4em 0.5em 0.4em;box-sizing: border-box;padding-bottom: 0.4em;background-color: white;}#sk-container-id-2 div.sk-label label {font-family: monospace;font-weight: bold;display: inline-block;line-height: 1.2em;}#sk-container-id-2 div.sk-label-container {text-align: center;}#sk-container-id-2 div.sk-container {/* jupyter's `normalize.less` sets `[hidden] { display: none; }` but bootstrap.min.css set `[hidden] { display: none !important; }` so we also need the `!important` here to be able to override the default hidden behavior on the sphinx rendered scikit-learn.org. See: https://github.com/scikit-learn/scikit-learn/issues/21755 */display: inline-block !important;position: relative;}#sk-container-id-2 div.sk-text-repr-fallback {display: none;}</style><div id=\"sk-container-id-2\" class=\"sk-top-container\"><div class=\"sk-text-repr-fallback\"><pre>SVC(class_weight=&#x27;balanced&#x27;, kernel=&#x27;linear&#x27;, verbose=True)</pre><b>In a Jupyter environment, please rerun this cell to show the HTML representation or trust the notebook. <br />On GitHub, the HTML representation is unable to render, please try loading this page with nbviewer.org.</b></div><div class=\"sk-container\" hidden><div class=\"sk-item\"><div class=\"sk-estimator sk-toggleable\"><input class=\"sk-toggleable__control sk-hidden--visually\" id=\"sk-estimator-id-2\" type=\"checkbox\" checked><label for=\"sk-estimator-id-2\" class=\"sk-toggleable__label sk-toggleable__label-arrow\">SVC</label><div class=\"sk-toggleable__content\"><pre>SVC(class_weight=&#x27;balanced&#x27;, kernel=&#x27;linear&#x27;, verbose=True)</pre></div></div></div></div></div>"
      ],
      "text/plain": [
       "SVC(class_weight='balanced', kernel='linear', verbose=True)"
      ]
     },
     "execution_count": 22,
     "metadata": {},
     "output_type": "execute_result"
    }
   ],
   "source": [
    "svm.fit(X_dev, y_dev)"
   ]
  },
  {
   "cell_type": "code",
   "execution_count": 23,
   "metadata": {},
   "outputs": [
    {
     "data": {
      "text/plain": [
       "array([20, 31])"
      ]
     },
     "execution_count": 23,
     "metadata": {},
     "output_type": "execute_result"
    }
   ],
   "source": [
    "svm.n_support_"
   ]
  },
  {
   "cell_type": "code",
   "execution_count": 24,
   "metadata": {},
   "outputs": [
    {
     "data": {
      "text/plain": [
       "0.97"
      ]
     },
     "execution_count": 24,
     "metadata": {},
     "output_type": "execute_result"
    }
   ],
   "source": [
    "svm.score(X_test, y_test)"
   ]
  },
  {
   "cell_type": "code",
   "execution_count": null,
   "metadata": {},
   "outputs": [],
   "source": []
  },
  {
   "cell_type": "markdown",
   "metadata": {},
   "source": [
    "## Decision Trees"
   ]
  },
  {
   "cell_type": "code",
   "execution_count": 31,
   "metadata": {},
   "outputs": [],
   "source": [
    "from sklearn.tree import DecisionTreeClassifier, plot_tree"
   ]
  },
  {
   "cell_type": "markdown",
   "metadata": {},
   "source": [
    "## TEST"
   ]
  },
  {
   "cell_type": "code",
   "execution_count": 28,
   "metadata": {},
   "outputs": [],
   "source": [
    "svm = SVC(\n",
    "    C=1.0\n",
    "    ,kernel='linear'\n",
    "    ,class_weight='balanced'\n",
    "    ,verbose=True\n",
    ")"
   ]
  },
  {
   "cell_type": "code",
   "execution_count": 29,
   "metadata": {},
   "outputs": [
    {
     "name": "stdout",
     "output_type": "stream",
     "text": [
      "[LibSVM]"
     ]
    },
    {
     "data": {
      "text/html": [
       "<style>#sk-container-id-3 {color: black;background-color: white;}#sk-container-id-3 pre{padding: 0;}#sk-container-id-3 div.sk-toggleable {background-color: white;}#sk-container-id-3 label.sk-toggleable__label {cursor: pointer;display: block;width: 100%;margin-bottom: 0;padding: 0.3em;box-sizing: border-box;text-align: center;}#sk-container-id-3 label.sk-toggleable__label-arrow:before {content: \"▸\";float: left;margin-right: 0.25em;color: #696969;}#sk-container-id-3 label.sk-toggleable__label-arrow:hover:before {color: black;}#sk-container-id-3 div.sk-estimator:hover label.sk-toggleable__label-arrow:before {color: black;}#sk-container-id-3 div.sk-toggleable__content {max-height: 0;max-width: 0;overflow: hidden;text-align: left;background-color: #f0f8ff;}#sk-container-id-3 div.sk-toggleable__content pre {margin: 0.2em;color: black;border-radius: 0.25em;background-color: #f0f8ff;}#sk-container-id-3 input.sk-toggleable__control:checked~div.sk-toggleable__content {max-height: 200px;max-width: 100%;overflow: auto;}#sk-container-id-3 input.sk-toggleable__control:checked~label.sk-toggleable__label-arrow:before {content: \"▾\";}#sk-container-id-3 div.sk-estimator input.sk-toggleable__control:checked~label.sk-toggleable__label {background-color: #d4ebff;}#sk-container-id-3 div.sk-label input.sk-toggleable__control:checked~label.sk-toggleable__label {background-color: #d4ebff;}#sk-container-id-3 input.sk-hidden--visually {border: 0;clip: rect(1px 1px 1px 1px);clip: rect(1px, 1px, 1px, 1px);height: 1px;margin: -1px;overflow: hidden;padding: 0;position: absolute;width: 1px;}#sk-container-id-3 div.sk-estimator {font-family: monospace;background-color: #f0f8ff;border: 1px dotted black;border-radius: 0.25em;box-sizing: border-box;margin-bottom: 0.5em;}#sk-container-id-3 div.sk-estimator:hover {background-color: #d4ebff;}#sk-container-id-3 div.sk-parallel-item::after {content: \"\";width: 100%;border-bottom: 1px solid gray;flex-grow: 1;}#sk-container-id-3 div.sk-label:hover label.sk-toggleable__label {background-color: #d4ebff;}#sk-container-id-3 div.sk-serial::before {content: \"\";position: absolute;border-left: 1px solid gray;box-sizing: border-box;top: 0;bottom: 0;left: 50%;z-index: 0;}#sk-container-id-3 div.sk-serial {display: flex;flex-direction: column;align-items: center;background-color: white;padding-right: 0.2em;padding-left: 0.2em;position: relative;}#sk-container-id-3 div.sk-item {position: relative;z-index: 1;}#sk-container-id-3 div.sk-parallel {display: flex;align-items: stretch;justify-content: center;background-color: white;position: relative;}#sk-container-id-3 div.sk-item::before, #sk-container-id-3 div.sk-parallel-item::before {content: \"\";position: absolute;border-left: 1px solid gray;box-sizing: border-box;top: 0;bottom: 0;left: 50%;z-index: -1;}#sk-container-id-3 div.sk-parallel-item {display: flex;flex-direction: column;z-index: 1;position: relative;background-color: white;}#sk-container-id-3 div.sk-parallel-item:first-child::after {align-self: flex-end;width: 50%;}#sk-container-id-3 div.sk-parallel-item:last-child::after {align-self: flex-start;width: 50%;}#sk-container-id-3 div.sk-parallel-item:only-child::after {width: 0;}#sk-container-id-3 div.sk-dashed-wrapped {border: 1px dashed gray;margin: 0 0.4em 0.5em 0.4em;box-sizing: border-box;padding-bottom: 0.4em;background-color: white;}#sk-container-id-3 div.sk-label label {font-family: monospace;font-weight: bold;display: inline-block;line-height: 1.2em;}#sk-container-id-3 div.sk-label-container {text-align: center;}#sk-container-id-3 div.sk-container {/* jupyter's `normalize.less` sets `[hidden] { display: none; }` but bootstrap.min.css set `[hidden] { display: none !important; }` so we also need the `!important` here to be able to override the default hidden behavior on the sphinx rendered scikit-learn.org. See: https://github.com/scikit-learn/scikit-learn/issues/21755 */display: inline-block !important;position: relative;}#sk-container-id-3 div.sk-text-repr-fallback {display: none;}</style><div id=\"sk-container-id-3\" class=\"sk-top-container\"><div class=\"sk-text-repr-fallback\"><pre>SVC(class_weight=&#x27;balanced&#x27;, kernel=&#x27;linear&#x27;, verbose=True)</pre><b>In a Jupyter environment, please rerun this cell to show the HTML representation or trust the notebook. <br />On GitHub, the HTML representation is unable to render, please try loading this page with nbviewer.org.</b></div><div class=\"sk-container\" hidden><div class=\"sk-item\"><div class=\"sk-estimator sk-toggleable\"><input class=\"sk-toggleable__control sk-hidden--visually\" id=\"sk-estimator-id-3\" type=\"checkbox\" checked><label for=\"sk-estimator-id-3\" class=\"sk-toggleable__label sk-toggleable__label-arrow\">SVC</label><div class=\"sk-toggleable__content\"><pre>SVC(class_weight=&#x27;balanced&#x27;, kernel=&#x27;linear&#x27;, verbose=True)</pre></div></div></div></div></div>"
      ],
      "text/plain": [
       "SVC(class_weight='balanced', kernel='linear', verbose=True)"
      ]
     },
     "execution_count": 29,
     "metadata": {},
     "output_type": "execute_result"
    }
   ],
   "source": [
    "svm.fit(X_dev, y_dev)"
   ]
  },
  {
   "cell_type": "code",
   "execution_count": 32,
   "metadata": {},
   "outputs": [],
   "source": [
    "from sklearn.model_selection import GridSearchCV"
   ]
  },
  {
   "cell_type": "code",
   "execution_count": 34,
   "metadata": {},
   "outputs": [
    {
     "name": "stdout",
     "output_type": "stream",
     "text": [
      "[LibSVM]"
     ]
    },
    {
     "data": {
      "text/html": [
       "<style>#sk-container-id-4 {color: black;background-color: white;}#sk-container-id-4 pre{padding: 0;}#sk-container-id-4 div.sk-toggleable {background-color: white;}#sk-container-id-4 label.sk-toggleable__label {cursor: pointer;display: block;width: 100%;margin-bottom: 0;padding: 0.3em;box-sizing: border-box;text-align: center;}#sk-container-id-4 label.sk-toggleable__label-arrow:before {content: \"▸\";float: left;margin-right: 0.25em;color: #696969;}#sk-container-id-4 label.sk-toggleable__label-arrow:hover:before {color: black;}#sk-container-id-4 div.sk-estimator:hover label.sk-toggleable__label-arrow:before {color: black;}#sk-container-id-4 div.sk-toggleable__content {max-height: 0;max-width: 0;overflow: hidden;text-align: left;background-color: #f0f8ff;}#sk-container-id-4 div.sk-toggleable__content pre {margin: 0.2em;color: black;border-radius: 0.25em;background-color: #f0f8ff;}#sk-container-id-4 input.sk-toggleable__control:checked~div.sk-toggleable__content {max-height: 200px;max-width: 100%;overflow: auto;}#sk-container-id-4 input.sk-toggleable__control:checked~label.sk-toggleable__label-arrow:before {content: \"▾\";}#sk-container-id-4 div.sk-estimator input.sk-toggleable__control:checked~label.sk-toggleable__label {background-color: #d4ebff;}#sk-container-id-4 div.sk-label input.sk-toggleable__control:checked~label.sk-toggleable__label {background-color: #d4ebff;}#sk-container-id-4 input.sk-hidden--visually {border: 0;clip: rect(1px 1px 1px 1px);clip: rect(1px, 1px, 1px, 1px);height: 1px;margin: -1px;overflow: hidden;padding: 0;position: absolute;width: 1px;}#sk-container-id-4 div.sk-estimator {font-family: monospace;background-color: #f0f8ff;border: 1px dotted black;border-radius: 0.25em;box-sizing: border-box;margin-bottom: 0.5em;}#sk-container-id-4 div.sk-estimator:hover {background-color: #d4ebff;}#sk-container-id-4 div.sk-parallel-item::after {content: \"\";width: 100%;border-bottom: 1px solid gray;flex-grow: 1;}#sk-container-id-4 div.sk-label:hover label.sk-toggleable__label {background-color: #d4ebff;}#sk-container-id-4 div.sk-serial::before {content: \"\";position: absolute;border-left: 1px solid gray;box-sizing: border-box;top: 0;bottom: 0;left: 50%;z-index: 0;}#sk-container-id-4 div.sk-serial {display: flex;flex-direction: column;align-items: center;background-color: white;padding-right: 0.2em;padding-left: 0.2em;position: relative;}#sk-container-id-4 div.sk-item {position: relative;z-index: 1;}#sk-container-id-4 div.sk-parallel {display: flex;align-items: stretch;justify-content: center;background-color: white;position: relative;}#sk-container-id-4 div.sk-item::before, #sk-container-id-4 div.sk-parallel-item::before {content: \"\";position: absolute;border-left: 1px solid gray;box-sizing: border-box;top: 0;bottom: 0;left: 50%;z-index: -1;}#sk-container-id-4 div.sk-parallel-item {display: flex;flex-direction: column;z-index: 1;position: relative;background-color: white;}#sk-container-id-4 div.sk-parallel-item:first-child::after {align-self: flex-end;width: 50%;}#sk-container-id-4 div.sk-parallel-item:last-child::after {align-self: flex-start;width: 50%;}#sk-container-id-4 div.sk-parallel-item:only-child::after {width: 0;}#sk-container-id-4 div.sk-dashed-wrapped {border: 1px dashed gray;margin: 0 0.4em 0.5em 0.4em;box-sizing: border-box;padding-bottom: 0.4em;background-color: white;}#sk-container-id-4 div.sk-label label {font-family: monospace;font-weight: bold;display: inline-block;line-height: 1.2em;}#sk-container-id-4 div.sk-label-container {text-align: center;}#sk-container-id-4 div.sk-container {/* jupyter's `normalize.less` sets `[hidden] { display: none; }` but bootstrap.min.css set `[hidden] { display: none !important; }` so we also need the `!important` here to be able to override the default hidden behavior on the sphinx rendered scikit-learn.org. See: https://github.com/scikit-learn/scikit-learn/issues/21755 */display: inline-block !important;position: relative;}#sk-container-id-4 div.sk-text-repr-fallback {display: none;}</style><div id=\"sk-container-id-4\" class=\"sk-top-container\"><div class=\"sk-text-repr-fallback\"><pre>SVC(C=10, class_weight=&#x27;balanced&#x27;, kernel=&#x27;linear&#x27;, random_state=42,\n",
       "    verbose=True)</pre><b>In a Jupyter environment, please rerun this cell to show the HTML representation or trust the notebook. <br />On GitHub, the HTML representation is unable to render, please try loading this page with nbviewer.org.</b></div><div class=\"sk-container\" hidden><div class=\"sk-item\"><div class=\"sk-estimator sk-toggleable\"><input class=\"sk-toggleable__control sk-hidden--visually\" id=\"sk-estimator-id-4\" type=\"checkbox\" checked><label for=\"sk-estimator-id-4\" class=\"sk-toggleable__label sk-toggleable__label-arrow\">SVC</label><div class=\"sk-toggleable__content\"><pre>SVC(C=10, class_weight=&#x27;balanced&#x27;, kernel=&#x27;linear&#x27;, random_state=42,\n",
       "    verbose=True)</pre></div></div></div></div></div>"
      ],
      "text/plain": [
       "SVC(C=10, class_weight='balanced', kernel='linear', random_state=42,\n",
       "    verbose=True)"
      ]
     },
     "execution_count": 34,
     "metadata": {},
     "output_type": "execute_result"
    }
   ],
   "source": [
    "#Create a svm Classifier\n",
    "clf = SVC(\n",
    "   kernel='linear'\n",
    "  ,class_weight='balanced'\n",
    "  ,verbose=True\n",
    "  ,random_state=42)\n",
    "\n",
    "# Grid Search\n",
    "param_grid = [\n",
    "  {'C': [0.1, 1, 10, 100], \n",
    "    'kernel': ['linear', 'rbf', 'poly']}\n",
    "]\n",
    "\n",
    "grid_search = GridSearchCV(clf, param_grid=param_grid, cv=5, n_jobs=20)\n",
    "grid_search.fit(X_dev, y_dev)\n",
    "grid_search.best_estimator_"
   ]
  },
  {
   "cell_type": "code",
   "execution_count": 45,
   "metadata": {},
   "outputs": [
    {
     "data": {
      "text/plain": [
       "{'mean_fit_time': array([1.25099173e+00, 4.84702110e-02, 9.96804237e-03, 8.63427973e+00,\n",
       "        3.92244816e-02, 3.55099678e-02, 3.21967669e+01, 1.10421658e-02,\n",
       "        5.51563263e-02, 4.51442835e+01, 2.10669899e-01, 7.19779968e-02]),\n",
       " 'std_fit_time': array([1.07882366e+00, 4.85019165e-02, 3.13658386e-03, 2.85771394e+00,\n",
       "        6.04811200e-02, 2.20644764e-02, 7.86483133e+00, 4.21314613e-03,\n",
       "        7.57557001e-02, 5.37603475e+00, 2.50689968e-01, 1.26918218e-01]),\n",
       " 'mean_score_time': array([0.00059843, 0.00539451, 0.00119686, 0.00339599, 0.01252627,\n",
       "        0.00139771, 0.00079818, 0.01507196, 0.00222936, 0.00152054,\n",
       "        0.00462823, 0.00121484]),\n",
       " 'std_score_time': array([0.00048862, 0.00049946, 0.0003984 , 0.00435031, 0.01377148,\n",
       "        0.00079741, 0.00074672, 0.02316674, 0.00304388, 0.00104194,\n",
       "        0.00323388, 0.00043459]),\n",
       " 'param_C': masked_array(data=[0.1, 0.1, 0.1, 1, 1, 1, 10, 10, 10, 100, 100, 100],\n",
       "              mask=[False, False, False, False, False, False, False, False,\n",
       "                    False, False, False, False],\n",
       "        fill_value='?',\n",
       "             dtype=object),\n",
       " 'param_kernel': masked_array(data=['linear', 'rbf', 'poly', 'linear', 'rbf', 'poly',\n",
       "                    'linear', 'rbf', 'poly', 'linear', 'rbf', 'poly'],\n",
       "              mask=[False, False, False, False, False, False, False, False,\n",
       "                    False, False, False, False],\n",
       "        fill_value='?',\n",
       "             dtype=object),\n",
       " 'params': [{'C': 0.1, 'kernel': 'linear'},\n",
       "  {'C': 0.1, 'kernel': 'rbf'},\n",
       "  {'C': 0.1, 'kernel': 'poly'},\n",
       "  {'C': 1, 'kernel': 'linear'},\n",
       "  {'C': 1, 'kernel': 'rbf'},\n",
       "  {'C': 1, 'kernel': 'poly'},\n",
       "  {'C': 10, 'kernel': 'linear'},\n",
       "  {'C': 10, 'kernel': 'rbf'},\n",
       "  {'C': 10, 'kernel': 'poly'},\n",
       "  {'C': 100, 'kernel': 'linear'},\n",
       "  {'C': 100, 'kernel': 'rbf'},\n",
       "  {'C': 100, 'kernel': 'poly'}],\n",
       " 'split0_test_score': array([0.95744681, 0.92553191, 0.89361702, 0.95744681, 0.91489362,\n",
       "        0.91489362, 0.9787234 , 0.94680851, 0.90425532, 0.96808511,\n",
       "        0.95744681, 0.95744681]),\n",
       " 'split1_test_score': array([0.92553191, 0.94680851, 0.94680851, 0.94680851, 0.91489362,\n",
       "        0.94680851, 0.96808511, 0.92553191, 0.92553191, 0.96808511,\n",
       "        0.93617021, 0.93617021]),\n",
       " 'split2_test_score': array([0.92553191, 0.82978723, 0.82978723, 0.93617021, 0.86170213,\n",
       "        0.85106383, 0.93617021, 0.88297872, 0.87234043, 0.94680851,\n",
       "        0.91489362, 0.91489362]),\n",
       " 'split3_test_score': array([0.96808511, 0.92553191, 0.92553191, 0.95744681, 0.92553191,\n",
       "        0.92553191, 0.94680851, 0.95744681, 0.95744681, 0.96808511,\n",
       "        0.95744681, 0.96808511]),\n",
       " 'split4_test_score': array([0.93548387, 0.93548387, 0.93548387, 0.94623656, 0.87096774,\n",
       "        0.90322581, 0.97849462, 0.91397849, 0.89247312, 0.95698925,\n",
       "        0.93548387, 0.92473118]),\n",
       " 'mean_test_score': array([0.94241592, 0.91262869, 0.90624571, 0.94882178, 0.8975978 ,\n",
       "        0.90830474, 0.96165637, 0.92534889, 0.91040952, 0.96161062,\n",
       "        0.94028826, 0.94026539]),\n",
       " 'std_test_score': array([0.01733798, 0.04215759, 0.0421368 , 0.00799476, 0.02598563,\n",
       "        0.03201577, 0.01724031, 0.02613558, 0.02915489, 0.00855823,\n",
       "        0.01596095, 0.0198542 ]),\n",
       " 'rank_test_score': array([ 4,  8, 11,  3, 12, 10,  1,  7,  9,  2,  5,  6])}"
      ]
     },
     "execution_count": 45,
     "metadata": {},
     "output_type": "execute_result"
    }
   ],
   "source": [
    "grid_search.cv_results_"
   ]
  },
  {
   "cell_type": "code",
   "execution_count": 52,
   "metadata": {},
   "outputs": [
    {
     "data": {
      "text/plain": [
       "11.21279001235962"
      ]
     },
     "execution_count": 52,
     "metadata": {},
     "output_type": "execute_result"
    }
   ],
   "source": [
    "grid_search.refit_time_"
   ]
  },
  {
   "cell_type": "code",
   "execution_count": 51,
   "metadata": {},
   "outputs": [],
   "source": [
    "params = grid_search.get_params()"
   ]
  },
  {
   "cell_type": "code",
   "execution_count": 49,
   "metadata": {},
   "outputs": [
    {
     "data": {
      "text/plain": [
       "{'cv': 5,\n",
       " 'error_score': nan,\n",
       " 'estimator__C': 1.0,\n",
       " 'estimator__break_ties': False,\n",
       " 'estimator__cache_size': 200,\n",
       " 'estimator__class_weight': 'balanced',\n",
       " 'estimator__coef0': 0.0,\n",
       " 'estimator__decision_function_shape': 'ovr',\n",
       " 'estimator__degree': 3,\n",
       " 'estimator__gamma': 'scale',\n",
       " 'estimator__kernel': 'linear',\n",
       " 'estimator__max_iter': -1,\n",
       " 'estimator__probability': False,\n",
       " 'estimator__random_state': 42,\n",
       " 'estimator__shrinking': True,\n",
       " 'estimator__tol': 0.001,\n",
       " 'estimator__verbose': True,\n",
       " 'estimator': SVC(class_weight='balanced', kernel='linear', random_state=42, verbose=True),\n",
       " 'n_jobs': 20,\n",
       " 'param_grid': [{'C': [0.1, 1, 10, 100], 'kernel': ['linear', 'rbf', 'poly']}],\n",
       " 'pre_dispatch': '2*n_jobs',\n",
       " 'refit': True,\n",
       " 'return_train_score': False,\n",
       " 'scoring': None,\n",
       " 'verbose': 0}"
      ]
     },
     "execution_count": 49,
     "metadata": {},
     "output_type": "execute_result"
    }
   ],
   "source": [
    "params"
   ]
  },
  {
   "cell_type": "code",
   "execution_count": 35,
   "metadata": {},
   "outputs": [
    {
     "name": "stdout",
     "output_type": "stream",
     "text": [
      "Accuracy 0.97\n",
      "F1-score [0.95890411 0.97637795]\n",
      "              precision    recall  f1-score   support\n",
      "\n",
      "           0       0.97      0.95      0.96        37\n",
      "           1       0.97      0.98      0.98        63\n",
      "\n",
      "    accuracy                           0.97       100\n",
      "   macro avg       0.97      0.97      0.97       100\n",
      "weighted avg       0.97      0.97      0.97       100\n",
      "\n"
     ]
    }
   ],
   "source": [
    "#Predict the response for test dataset\n",
    "clf = grid_search.best_estimator_\n",
    "\n",
    "y_pred = clf.predict(X_test)\n",
    "\n",
    "print('Accuracy %s' % accuracy_score(y_test, y_pred))\n",
    "print('F1-score %s' % f1_score(y_test, y_pred, average=None))\n",
    "print(classification_report(y_test, y_pred))"
   ]
  },
  {
   "cell_type": "code",
   "execution_count": 53,
   "metadata": {},
   "outputs": [
    {
     "data": {
      "text/plain": [
       "{'C': 10,\n",
       " 'break_ties': False,\n",
       " 'cache_size': 200,\n",
       " 'class_weight': 'balanced',\n",
       " 'coef0': 0.0,\n",
       " 'decision_function_shape': 'ovr',\n",
       " 'degree': 3,\n",
       " 'gamma': 'scale',\n",
       " 'kernel': 'linear',\n",
       " 'max_iter': -1,\n",
       " 'probability': False,\n",
       " 'random_state': 42,\n",
       " 'shrinking': True,\n",
       " 'tol': 0.001,\n",
       " 'verbose': True}"
      ]
     },
     "execution_count": 53,
     "metadata": {},
     "output_type": "execute_result"
    }
   ],
   "source": [
    "clf.get_params()"
   ]
  },
  {
   "cell_type": "code",
   "execution_count": 37,
   "metadata": {},
   "outputs": [],
   "source": [
    "from sklearn.model_selection import cross_val_score"
   ]
  },
  {
   "cell_type": "code",
   "execution_count": 39,
   "metadata": {},
   "outputs": [
    {
     "name": "stdout",
     "output_type": "stream",
     "text": [
      "[LibSVM][LibSVM][LibSVM][LibSVM][LibSVM]"
     ]
    },
    {
     "data": {
      "text/plain": [
       "array([1. , 0.9, 0.8, 1. , 0.8])"
      ]
     },
     "execution_count": 39,
     "metadata": {},
     "output_type": "execute_result"
    }
   ],
   "source": [
    "scores = cross_val_score(clf, X_test, y_pred, cv=5)\n",
    "scores"
   ]
  },
  {
   "cell_type": "code",
   "execution_count": 44,
   "metadata": {},
   "outputs": [
    {
     "data": {
      "text/plain": [
       "0.9"
      ]
     },
     "execution_count": 44,
     "metadata": {},
     "output_type": "execute_result"
    }
   ],
   "source": [
    "np.mean(scores)"
   ]
  },
  {
   "cell_type": "code",
   "execution_count": null,
   "metadata": {},
   "outputs": [],
   "source": []
  }
 ],
 "metadata": {
  "kernelspec": {
   "display_name": "Python 3.9.12 ('base')",
   "language": "python",
   "name": "python3"
  },
  "language_info": {
   "codemirror_mode": {
    "name": "ipython",
    "version": 3
   },
   "file_extension": ".py",
   "mimetype": "text/x-python",
   "name": "python",
   "nbconvert_exporter": "python",
   "pygments_lexer": "ipython3",
   "version": "3.9.12"
  },
  "orig_nbformat": 4,
  "vscode": {
   "interpreter": {
    "hash": "a077222d77dfe082b8f1dd562ad70e458ac2ab76993a0b248ab0476e32e9e8dd"
   }
  }
 },
 "nbformat": 4,
 "nbformat_minor": 2
}
