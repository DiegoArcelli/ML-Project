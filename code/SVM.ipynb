{
 "cells": [
  {
   "cell_type": "code",
   "execution_count": 85,
   "metadata": {},
   "outputs": [],
   "source": [
    "import warnings\n",
    "warnings.filterwarnings('ignore')"
   ]
  },
  {
   "cell_type": "code",
   "execution_count": 204,
   "metadata": {},
   "outputs": [],
   "source": [
    "import pandas as pd\n",
    "import matplotlib.pyplot as plt\n",
    "import seaborn as sns"
   ]
  },
  {
   "cell_type": "code",
   "execution_count": 111,
   "metadata": {},
   "outputs": [],
   "source": [
    "from sklearn import svm "
   ]
  },
  {
   "cell_type": "code",
   "execution_count": 192,
   "metadata": {},
   "outputs": [],
   "source": [
    "from sklearn.metrics import confusion_matrix, ConfusionMatrixDisplay\n",
    "\n",
    "from sklearn.metrics import accuracy_score, f1_score, classification_report\n",
    "from sklearn.metrics import roc_curve, auc, roc_auc_score"
   ]
  },
  {
   "cell_type": "markdown",
   "metadata": {},
   "source": [
    "### Read datasets"
   ]
  },
  {
   "cell_type": "code",
   "execution_count": 97,
   "metadata": {},
   "outputs": [],
   "source": [
    "monks1_test = pd.read_csv('../data/monks-1.test', header=None, delimiter=' ')\n",
    "monks1_train = pd.read_csv('../data/monks-1.train', header=None, delimiter=' ')\n",
    "monks2_test = pd.read_csv('../data/monks-2.test', header=None, delimiter=' ')\n",
    "monks2_train = pd.read_csv('../data/monks-2.train', header=None, delimiter=' ')\n",
    "monks3_test = pd.read_csv('../data/monks-3.test', header=None, delimiter=' ')\n",
    "monks3_train = pd.read_csv('../data/monks-3.train', header=None, delimiter=' ')\n",
    "\n",
    "ml_cup22_train = pd.read_csv('../data/ML-CUP22-TR.csv', header=None)\n",
    "ml_cup22_test = pd.read_csv('../data/ML-CUP22-TS.csv', header=None)"
   ]
  },
  {
   "cell_type": "code",
   "execution_count": 103,
   "metadata": {},
   "outputs": [
    {
     "data": {
      "text/plain": [
       "((432, 9), (124, 9), (432, 9), (169, 9), (432, 9), (122, 9))"
      ]
     },
     "execution_count": 103,
     "metadata": {},
     "output_type": "execute_result"
    }
   ],
   "source": [
    "monks1_test.shape, monks1_train.shape, monks2_test.shape, monks2_train.shape, monks3_test.shape, monks3_train.shape, "
   ]
  },
  {
   "cell_type": "markdown",
   "metadata": {},
   "source": [
    "### Preprocess monks sets"
   ]
  },
  {
   "cell_type": "markdown",
   "metadata": {},
   "source": [
    "Attribute information:\n",
    "* class: 0, 1 \n",
    "* a1:    1, 2, 3\n",
    "* a2:    1, 2, 3\n",
    "* a3:    1, 2\n",
    "* a4:    1, 2, 3\n",
    "* a5:    1, 2, 3, 4\n",
    "* a6:    1, 2\n",
    "* Id:    (A unique symbol for each instance)"
   ]
  },
  {
   "cell_type": "markdown",
   "metadata": {},
   "source": [
    "#### set 1"
   ]
  },
  {
   "cell_type": "code",
   "execution_count": 90,
   "metadata": {},
   "outputs": [],
   "source": [
    "test1 = monks1_test.drop(columns=0)\n",
    "columns = ['class', 'a1', 'a2', 'a3', 'a4', 'a4', 'a6', 'id']\n",
    "test1.columns = columns\n",
    "#test1.head()"
   ]
  },
  {
   "cell_type": "code",
   "execution_count": 91,
   "metadata": {},
   "outputs": [],
   "source": [
    "train1 = monks1_train.drop(columns=0)\n",
    "columns = ['class', 'a1', 'a2', 'a3', 'a4', 'a4', 'a6', 'id']\n",
    "train1.columns = columns\n",
    "#train1.head()"
   ]
  },
  {
   "cell_type": "code",
   "execution_count": 92,
   "metadata": {},
   "outputs": [
    {
     "data": {
      "text/plain": [
       "0.28703703703703703"
      ]
     },
     "execution_count": 92,
     "metadata": {},
     "output_type": "execute_result"
    }
   ],
   "source": [
    "len(train1)/len(test1)"
   ]
  },
  {
   "cell_type": "code",
   "execution_count": 93,
   "metadata": {},
   "outputs": [
    {
     "name": "stdout",
     "output_type": "stream",
     "text": [
      "test:  1    144\n",
      "2    144\n",
      "3    144\n",
      "Name: a1, dtype: int64\n",
      "train:  1    45\n",
      "2    42\n",
      "3    37\n",
      "Name: a1, dtype: int64\n"
     ]
    }
   ],
   "source": [
    "print('test: ', test1['a1'].value_counts()) \n",
    "print('train: ', train1['a1'].value_counts())"
   ]
  },
  {
   "cell_type": "markdown",
   "metadata": {},
   "source": [
    "#### set 2"
   ]
  },
  {
   "cell_type": "code",
   "execution_count": 98,
   "metadata": {},
   "outputs": [],
   "source": [
    "test2 = monks2_test.drop(columns=0)\n",
    "columns = ['class', 'a1', 'a2', 'a3', 'a4', 'a4', 'a6', 'id']\n",
    "test2.columns = columns\n",
    "train2 = monks2_train.drop(columns=0)\n",
    "columns = ['class', 'a1', 'a2', 'a3', 'a4', 'a4', 'a6', 'id']\n",
    "train2.columns = columns"
   ]
  },
  {
   "cell_type": "markdown",
   "metadata": {},
   "source": [
    "#### set 3"
   ]
  },
  {
   "cell_type": "code",
   "execution_count": 104,
   "metadata": {},
   "outputs": [],
   "source": [
    "test3 = monks3_test.drop(columns=0)\n",
    "columns = ['class', 'a1', 'a2', 'a3', 'a4', 'a4', 'a6', 'id']\n",
    "test3.columns = columns\n",
    "train3 = monks3_train.drop(columns=0)\n",
    "columns = ['class', 'a1', 'a2', 'a3', 'a4', 'a4', 'a6', 'id']\n",
    "train3.columns = columns"
   ]
  },
  {
   "cell_type": "code",
   "execution_count": null,
   "metadata": {},
   "outputs": [],
   "source": []
  },
  {
   "cell_type": "markdown",
   "metadata": {},
   "source": [
    "### Prepare TRAIN and TEST sets"
   ]
  },
  {
   "cell_type": "code",
   "execution_count": 94,
   "metadata": {},
   "outputs": [],
   "source": [
    "# Splitting the train set in X and y\n",
    "X_train1 = train1.copy()\n",
    "y_train1 = X_train1['class']\n",
    "X_train1 = X_train1.drop(columns='id')\n",
    "X_train1 = X_train1.drop(columns='class')\n",
    "X_train1 = X_train1.values\n",
    "# Splitting the test set in X and y\n",
    "X_test1 = test1.copy()\n",
    "y_test1 = X_test1['class']\n",
    "X_test1 = X_test1.drop(columns='id')\n",
    "X_test1 = X_test1.drop(columns='class')\n",
    "X_test1 = X_test1.values"
   ]
  },
  {
   "cell_type": "code",
   "execution_count": 106,
   "metadata": {},
   "outputs": [],
   "source": [
    "# Splitting the train set in X and y\n",
    "X_train2 = train2.copy()\n",
    "y_train2 = X_train2['class']\n",
    "X_train2 = X_train2.drop(columns='id')\n",
    "X_train2 = X_train2.drop(columns='class')\n",
    "X_train2 = X_train2.values\n",
    "# Splitting the test set in X and y\n",
    "X_test2 = test2.copy()\n",
    "y_test2 = X_test2['class']\n",
    "X_test2 = X_test2.drop(columns='id')\n",
    "X_test2 = X_test2.drop(columns='class')\n",
    "X_test2 = X_test2.values"
   ]
  },
  {
   "cell_type": "code",
   "execution_count": 107,
   "metadata": {},
   "outputs": [],
   "source": [
    "# Splitting the train set in X and y\n",
    "X_train3 = train3.copy()\n",
    "y_train3 = X_train3['class']\n",
    "X_train3 = X_train3.drop(columns='id')\n",
    "X_train3 = X_train3.drop(columns='class')\n",
    "X_train3 = X_train3.values\n",
    "# Splitting the test set in X and y\n",
    "X_test3 = test3.copy()\n",
    "y_test3 = X_test3['class']\n",
    "X_test3 = X_test3.drop(columns='id')\n",
    "X_test3 = X_test3.drop(columns='class')\n",
    "X_test3 = X_test3.values"
   ]
  },
  {
   "cell_type": "markdown",
   "metadata": {},
   "source": [
    "### 1. SVM"
   ]
  },
  {
   "cell_type": "code",
   "execution_count": 189,
   "metadata": {},
   "outputs": [
    {
     "name": "stdout",
     "output_type": "stream",
     "text": [
      "Accuracy 0.8333333333333334\n",
      "F1-score [0.84347826 0.82178218]\n",
      "              precision    recall  f1-score   support\n",
      "\n",
      "           0       0.80      0.90      0.84       216\n",
      "           1       0.88      0.77      0.82       216\n",
      "\n",
      "    accuracy                           0.83       432\n",
      "   macro avg       0.84      0.83      0.83       432\n",
      "weighted avg       0.84      0.83      0.83       432\n",
      "\n"
     ]
    }
   ],
   "source": [
    "#Create a svm Classifier\n",
    "clf = svm.SVC(random_state=42) # Linear Kernel\n",
    "\n",
    "#Train the model using the train 1 set\n",
    "clf.fit(X_train1, y_train1)\n",
    "\n",
    "#Predict the response for test dataset\n",
    "y_pred1 = clf.predict(X_test1)\n",
    "\n",
    "print('Accuracy %s' % accuracy_score(y_test1, y_pred1))\n",
    "print('F1-score %s' % f1_score(y_test1, y_pred1, average=None))\n",
    "print(classification_report(y_test1, y_pred1))"
   ]
  },
  {
   "cell_type": "code",
   "execution_count": 190,
   "metadata": {},
   "outputs": [
    {
     "name": "stdout",
     "output_type": "stream",
     "text": [
      "Accuracy 0.6805555555555556\n",
      "F1-score [0.78504673 0.37837838]\n",
      "              precision    recall  f1-score   support\n",
      "\n",
      "           0       0.72      0.87      0.79       290\n",
      "           1       0.53      0.30      0.38       142\n",
      "\n",
      "    accuracy                           0.68       432\n",
      "   macro avg       0.62      0.58      0.58       432\n",
      "weighted avg       0.65      0.68      0.65       432\n",
      "\n"
     ]
    }
   ],
   "source": [
    "#Train the model using the train 2 set\n",
    "clf.fit(X_train2, y_train2)\n",
    "\n",
    "#Predict the response for test dataset\n",
    "y_pred2 = clf.predict(X_test2)\n",
    "\n",
    "print('Accuracy %s' % accuracy_score(y_test2, y_pred2))\n",
    "print('F1-score %s' % f1_score(y_test2, y_pred2, average=None))\n",
    "print(classification_report(y_test2, y_pred2))"
   ]
  },
  {
   "cell_type": "code",
   "execution_count": 191,
   "metadata": {},
   "outputs": [
    {
     "name": "stdout",
     "output_type": "stream",
     "text": [
      "Accuracy 0.9699074074074074\n",
      "F1-score [0.96912114 0.97065463]\n",
      "              precision    recall  f1-score   support\n",
      "\n",
      "           0       0.94      1.00      0.97       204\n",
      "           1       1.00      0.94      0.97       228\n",
      "\n",
      "    accuracy                           0.97       432\n",
      "   macro avg       0.97      0.97      0.97       432\n",
      "weighted avg       0.97      0.97      0.97       432\n",
      "\n"
     ]
    }
   ],
   "source": [
    "#Train the model using the train 3 set\n",
    "clf.fit(X_train3, y_train3)\n",
    "\n",
    "#Predict the response for test dataset\n",
    "y_pred3 = clf.predict(X_test3)\n",
    "\n",
    "print('Accuracy %s' % accuracy_score(y_test3, y_pred3))\n",
    "print('F1-score %s' % f1_score(y_test3, y_pred3, average=None))\n",
    "print(classification_report(y_test3, y_pred3))"
   ]
  },
  {
   "cell_type": "code",
   "execution_count": 136,
   "metadata": {},
   "outputs": [],
   "source": [
    "## #Create a svm Classifier\n",
    "## clf_linear = svm.LinearSVC() # Linear Kernel\n",
    "## \n",
    "## #Train the model using the training sets\n",
    "## clf_linear.fit(X_train1, y_train1)\n",
    "## \n",
    "## #Predict the response for test dataset\n",
    "## y_pred1_linear = clf_linear.predict(X_test1)"
   ]
  },
  {
   "cell_type": "code",
   "execution_count": null,
   "metadata": {},
   "outputs": [],
   "source": []
  },
  {
   "cell_type": "markdown",
   "metadata": {},
   "source": [
    "### Hyperparameter Tuning for SVM"
   ]
  },
  {
   "cell_type": "code",
   "execution_count": null,
   "metadata": {},
   "outputs": [],
   "source": [
    "from sklearn.model_selection import GridSearchCV\n",
    "from sklearn.model_selection import RandomizedSearchCV"
   ]
  },
  {
   "cell_type": "code",
   "execution_count": null,
   "metadata": {},
   "outputs": [
    {
     "data": {
      "text/html": [
       "<style>#sk-container-id-17 {color: black;background-color: white;}#sk-container-id-17 pre{padding: 0;}#sk-container-id-17 div.sk-toggleable {background-color: white;}#sk-container-id-17 label.sk-toggleable__label {cursor: pointer;display: block;width: 100%;margin-bottom: 0;padding: 0.3em;box-sizing: border-box;text-align: center;}#sk-container-id-17 label.sk-toggleable__label-arrow:before {content: \"▸\";float: left;margin-right: 0.25em;color: #696969;}#sk-container-id-17 label.sk-toggleable__label-arrow:hover:before {color: black;}#sk-container-id-17 div.sk-estimator:hover label.sk-toggleable__label-arrow:before {color: black;}#sk-container-id-17 div.sk-toggleable__content {max-height: 0;max-width: 0;overflow: hidden;text-align: left;background-color: #f0f8ff;}#sk-container-id-17 div.sk-toggleable__content pre {margin: 0.2em;color: black;border-radius: 0.25em;background-color: #f0f8ff;}#sk-container-id-17 input.sk-toggleable__control:checked~div.sk-toggleable__content {max-height: 200px;max-width: 100%;overflow: auto;}#sk-container-id-17 input.sk-toggleable__control:checked~label.sk-toggleable__label-arrow:before {content: \"▾\";}#sk-container-id-17 div.sk-estimator input.sk-toggleable__control:checked~label.sk-toggleable__label {background-color: #d4ebff;}#sk-container-id-17 div.sk-label input.sk-toggleable__control:checked~label.sk-toggleable__label {background-color: #d4ebff;}#sk-container-id-17 input.sk-hidden--visually {border: 0;clip: rect(1px 1px 1px 1px);clip: rect(1px, 1px, 1px, 1px);height: 1px;margin: -1px;overflow: hidden;padding: 0;position: absolute;width: 1px;}#sk-container-id-17 div.sk-estimator {font-family: monospace;background-color: #f0f8ff;border: 1px dotted black;border-radius: 0.25em;box-sizing: border-box;margin-bottom: 0.5em;}#sk-container-id-17 div.sk-estimator:hover {background-color: #d4ebff;}#sk-container-id-17 div.sk-parallel-item::after {content: \"\";width: 100%;border-bottom: 1px solid gray;flex-grow: 1;}#sk-container-id-17 div.sk-label:hover label.sk-toggleable__label {background-color: #d4ebff;}#sk-container-id-17 div.sk-serial::before {content: \"\";position: absolute;border-left: 1px solid gray;box-sizing: border-box;top: 0;bottom: 0;left: 50%;z-index: 0;}#sk-container-id-17 div.sk-serial {display: flex;flex-direction: column;align-items: center;background-color: white;padding-right: 0.2em;padding-left: 0.2em;position: relative;}#sk-container-id-17 div.sk-item {position: relative;z-index: 1;}#sk-container-id-17 div.sk-parallel {display: flex;align-items: stretch;justify-content: center;background-color: white;position: relative;}#sk-container-id-17 div.sk-item::before, #sk-container-id-17 div.sk-parallel-item::before {content: \"\";position: absolute;border-left: 1px solid gray;box-sizing: border-box;top: 0;bottom: 0;left: 50%;z-index: -1;}#sk-container-id-17 div.sk-parallel-item {display: flex;flex-direction: column;z-index: 1;position: relative;background-color: white;}#sk-container-id-17 div.sk-parallel-item:first-child::after {align-self: flex-end;width: 50%;}#sk-container-id-17 div.sk-parallel-item:last-child::after {align-self: flex-start;width: 50%;}#sk-container-id-17 div.sk-parallel-item:only-child::after {width: 0;}#sk-container-id-17 div.sk-dashed-wrapped {border: 1px dashed gray;margin: 0 0.4em 0.5em 0.4em;box-sizing: border-box;padding-bottom: 0.4em;background-color: white;}#sk-container-id-17 div.sk-label label {font-family: monospace;font-weight: bold;display: inline-block;line-height: 1.2em;}#sk-container-id-17 div.sk-label-container {text-align: center;}#sk-container-id-17 div.sk-container {/* jupyter's `normalize.less` sets `[hidden] { display: none; }` but bootstrap.min.css set `[hidden] { display: none !important; }` so we also need the `!important` here to be able to override the default hidden behavior on the sphinx rendered scikit-learn.org. See: https://github.com/scikit-learn/scikit-learn/issues/21755 */display: inline-block !important;position: relative;}#sk-container-id-17 div.sk-text-repr-fallback {display: none;}</style><div id=\"sk-container-id-17\" class=\"sk-top-container\"><div class=\"sk-text-repr-fallback\"><pre>SVC(C=100, kernel=&#x27;poly&#x27;, random_state=42)</pre><b>In a Jupyter environment, please rerun this cell to show the HTML representation or trust the notebook. <br />On GitHub, the HTML representation is unable to render, please try loading this page with nbviewer.org.</b></div><div class=\"sk-container\" hidden><div class=\"sk-item\"><div class=\"sk-estimator sk-toggleable\"><input class=\"sk-toggleable__control sk-hidden--visually\" id=\"sk-estimator-id-17\" type=\"checkbox\" checked><label for=\"sk-estimator-id-17\" class=\"sk-toggleable__label sk-toggleable__label-arrow\">SVC</label><div class=\"sk-toggleable__content\"><pre>SVC(C=100, kernel=&#x27;poly&#x27;, random_state=42)</pre></div></div></div></div></div>"
      ],
      "text/plain": [
       "SVC(C=100, kernel='poly', random_state=42)"
      ]
     },
     "metadata": {},
     "output_type": "display_data"
    }
   ],
   "source": [
    "#Create a svm Classifier\n",
    "clf = svm.SVC(random_state=42)\n",
    "\n",
    "# Grid Search\n",
    "param_grid = [\n",
    "  {'C': [1, 10, 100, 1000], 'kernel': ['linear', 'rbf', 'poly']},\n",
    "  #{'C': [1, 10, 100, 1000], 'gamma': [0.001, 0.0001]},\n",
    "]\n",
    "\n",
    "grid_search = GridSearchCV(clf, param_grid=param_grid, cv=5, n_jobs=20)\n",
    "grid_search.fit(X_train1, y_train1)\n",
    "grid_search.best_estimator_"
   ]
  },
  {
   "cell_type": "code",
   "execution_count": 197,
   "metadata": {},
   "outputs": [
    {
     "name": "stdout",
     "output_type": "stream",
     "text": [
      "Accuracy 0.9212962962962963\n",
      "F1-score [0.92018779 0.92237443]\n",
      "              precision    recall  f1-score   support\n",
      "\n",
      "           0       0.93      0.91      0.92       216\n",
      "           1       0.91      0.94      0.92       216\n",
      "\n",
      "    accuracy                           0.92       432\n",
      "   macro avg       0.92      0.92      0.92       432\n",
      "weighted avg       0.92      0.92      0.92       432\n",
      "\n"
     ]
    }
   ],
   "source": [
    "#Create a svm Classifier\n",
    "clf = svm.SVC(random_state=42)\n",
    "\n",
    "# Grid Search\n",
    "param_grid = [\n",
    "  {'C': [1, 10, 100, 1000], 'kernel': ['linear', 'rbf', 'poly']},\n",
    "  #{'C': [1, 10, 100, 1000], 'gamma': [0.001, 0.0001]},\n",
    "]\n",
    "\n",
    "grid_search = GridSearchCV(clf, param_grid=param_grid, cv=5, n_jobs=20)\n",
    "grid_search.fit(X_train1, y_train1)\n",
    "clf = grid_search.best_estimator_\n",
    "\n",
    "y_pred1 = clf.predict(X_test1)\n",
    "#y_score1 = clf.predict_proba(X_test1)\n",
    "\n",
    "print('Accuracy %s' % accuracy_score(y_test1, y_pred1))\n",
    "print('F1-score %s' % f1_score(y_test1, y_pred1, average=None))\n",
    "print(classification_report(y_test1, y_pred1))"
   ]
  },
  {
   "cell_type": "code",
   "execution_count": 196,
   "metadata": {},
   "outputs": [
    {
     "name": "stdout",
     "output_type": "stream",
     "text": [
      "Accuracy 0.8125\n",
      "F1-score [0.85245902 0.74285714]\n",
      "              precision    recall  f1-score   support\n",
      "\n",
      "           0       0.90      0.81      0.85       290\n",
      "           1       0.68      0.82      0.74       142\n",
      "\n",
      "    accuracy                           0.81       432\n",
      "   macro avg       0.79      0.82      0.80       432\n",
      "weighted avg       0.83      0.81      0.82       432\n",
      "\n"
     ]
    }
   ],
   "source": [
    "#Create a svm Classifier\n",
    "clf = svm.SVC(random_state=42)\n",
    "\n",
    "# Grid Search\n",
    "param_grid = [\n",
    "  {'C': [1, 10, 100, 1000], 'kernel': ['linear', 'rbf', 'poly']},\n",
    "  #{'C': [1, 10, 100, 1000], 'gamma': [0.001, 0.0001]},\n",
    "]\n",
    "\n",
    "grid_search = GridSearchCV(clf, param_grid=param_grid, cv=5, n_jobs=20)\n",
    "grid_search.fit(X_train2, y_train2)\n",
    "clf = grid_search.best_estimator_\n",
    "\n",
    "y_pred2 = clf.predict(X_test2)\n",
    "#y_score2 = clf.predict_proba(X_test2)\n",
    "\n",
    "print('Accuracy %s' % accuracy_score(y_test2, y_pred2))\n",
    "print('F1-score %s' % f1_score(y_test2, y_pred2, average=None))\n",
    "print(classification_report(y_test2, y_pred2))"
   ]
  },
  {
   "cell_type": "code",
   "execution_count": 194,
   "metadata": {},
   "outputs": [
    {
     "name": "stdout",
     "output_type": "stream",
     "text": [
      "Accuracy 0.9328703703703703\n",
      "F1-score [0.93176471 0.93394077]\n",
      "              precision    recall  f1-score   support\n",
      "\n",
      "           0       0.90      0.97      0.93       204\n",
      "           1       0.97      0.90      0.93       228\n",
      "\n",
      "    accuracy                           0.93       432\n",
      "   macro avg       0.93      0.93      0.93       432\n",
      "weighted avg       0.94      0.93      0.93       432\n",
      "\n"
     ]
    }
   ],
   "source": [
    "#Create a svm Classifier\n",
    "clf = svm.SVC(random_state=42)\n",
    "\n",
    "# Grid Search\n",
    "param_grid = [\n",
    "  {'C': [1, 10, 100, 1000], 'kernel': ['linear', 'rbf', 'poly']},\n",
    "  #{'C': [1, 10, 100, 1000], 'gamma': [0.001, 0.0001]},\n",
    "]\n",
    "\n",
    "grid_search = GridSearchCV(clf, param_grid=param_grid, cv=5, n_jobs=20)\n",
    "grid_search.fit(X_train3, y_train3)\n",
    "clf = grid_search.best_estimator_\n",
    "\n",
    "y_pred3 = clf.predict(X_test3)\n",
    "#y_score3 = clf.predict_proba(X_test3)\n",
    "\n",
    "print('Accuracy %s' % accuracy_score(y_test3, y_pred3))\n",
    "print('F1-score %s' % f1_score(y_test3, y_pred3, average=None))\n",
    "print(classification_report(y_test3, y_pred3))"
   ]
  },
  {
   "cell_type": "markdown",
   "metadata": {},
   "source": [
    "### 2. SVM "
   ]
  },
  {
   "cell_type": "code",
   "execution_count": 212,
   "metadata": {},
   "outputs": [
    {
     "name": "stdout",
     "output_type": "stream",
     "text": [
      "Accuracy 0.6666666666666666\n",
      "F1-score [0.65876777 0.67420814]\n",
      "              precision    recall  f1-score   support\n",
      "\n",
      "           0       0.67      0.64      0.66       216\n",
      "           1       0.66      0.69      0.67       216\n",
      "\n",
      "    accuracy                           0.67       432\n",
      "   macro avg       0.67      0.67      0.67       432\n",
      "weighted avg       0.67      0.67      0.67       432\n",
      "\n"
     ]
    }
   ],
   "source": [
    "#Create a svm Classifier\n",
    "clf = svm.LinearSVC(random_state=42)\n",
    "\n",
    "# Grid Search\n",
    "param_grid = [\n",
    "  {'C': [1, 10, 100, 1000]},\n",
    "  #{'C': [1, 10, 100, 1000], 'gamma': [0.001, 0.0001]},\n",
    "]\n",
    "\n",
    "grid_search = GridSearchCV(clf, param_grid=param_grid, cv=5, n_jobs=20)\n",
    "grid_search.fit(X_train1, y_train1)\n",
    "clf = grid_search.best_estimator_\n",
    "\n",
    "y_pred1 = clf.predict(X_test1)\n",
    "#y_score1 = clf.predict_proba(X_test1)\n",
    "\n",
    "print('Accuracy %s' % accuracy_score(y_test1, y_pred1))\n",
    "print('F1-score %s' % f1_score(y_test1, y_pred1, average=None))\n",
    "print(classification_report(y_test1, y_pred1))"
   ]
  },
  {
   "cell_type": "code",
   "execution_count": 214,
   "metadata": {},
   "outputs": [
    {
     "name": "stdout",
     "output_type": "stream",
     "text": [
      "Accuracy 0.6412037037037037\n",
      "F1-score [0.77239354 0.15300546]\n",
      "              precision    recall  f1-score   support\n",
      "\n",
      "           0       0.67      0.91      0.77       290\n",
      "           1       0.34      0.10      0.15       142\n",
      "\n",
      "    accuracy                           0.64       432\n",
      "   macro avg       0.51      0.50      0.46       432\n",
      "weighted avg       0.56      0.64      0.57       432\n",
      "\n"
     ]
    }
   ],
   "source": [
    "#Create a svm Classifier\n",
    "clf = svm.LinearSVC(random_state=42)\n",
    "\n",
    "# Grid Search\n",
    "param_grid = [\n",
    "  {'C': [1, 10, 100, 1000]},\n",
    "  #{'C': [1, 10, 100, 1000], 'gamma': [0.001, 0.0001]},\n",
    "]\n",
    "\n",
    "grid_search = GridSearchCV(clf, param_grid=param_grid, cv=5, n_jobs=20)\n",
    "grid_search.fit(X_train2, y_train2)\n",
    "clf = grid_search.best_estimator_\n",
    "\n",
    "y_pred2 = clf.predict(X_test2)\n",
    "\n",
    "print('Accuracy %s' % accuracy_score(y_test2, y_pred2))\n",
    "print('F1-score %s' % f1_score(y_test2, y_pred2, average=None))\n",
    "print(classification_report(y_test2, y_pred2))"
   ]
  },
  {
   "cell_type": "code",
   "execution_count": 215,
   "metadata": {},
   "outputs": [
    {
     "name": "stdout",
     "output_type": "stream",
     "text": [
      "Accuracy 0.8379629629629629\n",
      "F1-score [0.84090909 0.83490566]\n",
      "              precision    recall  f1-score   support\n",
      "\n",
      "           0       0.78      0.91      0.84       204\n",
      "           1       0.90      0.78      0.83       228\n",
      "\n",
      "    accuracy                           0.84       432\n",
      "   macro avg       0.84      0.84      0.84       432\n",
      "weighted avg       0.85      0.84      0.84       432\n",
      "\n"
     ]
    }
   ],
   "source": [
    "#Create a svm Classifier\n",
    "clf = svm.LinearSVC(random_state=42)\n",
    "\n",
    "# Grid Search\n",
    "param_grid = [\n",
    "  {'C': [1, 10, 100, 1000]},\n",
    "  #{'C': [1, 10, 100, 1000], 'gamma': [0.001, 0.0001]},\n",
    "]\n",
    "\n",
    "grid_search = GridSearchCV(clf, param_grid=param_grid, cv=5, n_jobs=20)\n",
    "grid_search.fit(X_train3, y_train3)\n",
    "clf = grid_search.best_estimator_\n",
    "\n",
    "y_pred3 = clf.predict(X_test3)\n",
    "\n",
    "print('Accuracy %s' % accuracy_score(y_test3, y_pred3))\n",
    "print('F1-score %s' % f1_score(y_test3, y_pred3, average=None))\n",
    "print(classification_report(y_test3, y_pred3))"
   ]
  },
  {
   "cell_type": "markdown",
   "metadata": {},
   "source": [
    "### Model Evaluation"
   ]
  },
  {
   "cell_type": "code",
   "execution_count": 203,
   "metadata": {},
   "outputs": [],
   "source": [
    "#from scikitplot.metrics import plot_roc\n",
    "#from scikitplot.metrics import plot_precision_recall\n",
    "#from scikitplot.metrics import plot_cumulative_gain\n",
    "#from scikitplot.metrics import plot_lift_curve"
   ]
  },
  {
   "cell_type": "code",
   "execution_count": null,
   "metadata": {},
   "outputs": [],
   "source": []
  },
  {
   "cell_type": "markdown",
   "metadata": {},
   "source": [
    "#### Confusion Matrix"
   ]
  },
  {
   "cell_type": "code",
   "execution_count": 207,
   "metadata": {},
   "outputs": [
    {
     "data": {
      "text/plain": [
       "array([[196,  20],\n",
       "       [ 14, 202]], dtype=int64)"
      ]
     },
     "execution_count": 207,
     "metadata": {},
     "output_type": "execute_result"
    }
   ],
   "source": [
    "cf = confusion_matrix(y_test1, y_pred1)\n",
    "cf"
   ]
  },
  {
   "cell_type": "code",
   "execution_count": 208,
   "metadata": {},
   "outputs": [
    {
     "data": {
      "image/png": "[encoded data removed]",
      "text/plain": [
       "<Figure size 864x720 with 2 Axes>"
      ]
     },
     "metadata": {
      "needs_background": "light"
     },
     "output_type": "display_data"
    }
   ],
   "source": [
    "activities = ['0', '1']\n",
    "\n",
    "ax = plt.subplots(figsize = (12,10))\n",
    "ax = sns.heatmap(cf, annot=True, fmt=\"d\", annot_kws={\"size\": 20}, linewidths=4, cmap=\"Blues\")\n",
    "ax.set_xticklabels(activities, fontsize=10)\n",
    "ax.set_xlabel('Predicted Class', fontsize=14)\n",
    "ax.set_yticklabels(activities, fontsize=10)\n",
    "ax.set_ylabel('True Class', fontsize=14)\n",
    "\n",
    "plt.show()"
   ]
  }
 ],
 "metadata": {
  "kernelspec": {
   "display_name": "Python 3.9.12 ('base')",
   "language": "python",
   "name": "python3"
  },
  "language_info": {
   "codemirror_mode": {
    "name": "ipython",
    "version": 3
   },
   "file_extension": ".py",
   "mimetype": "text/x-python",
   "name": "python",
   "nbconvert_exporter": "python",
   "pygments_lexer": "ipython3",
   "version": "3.9.12"
  },
  "orig_nbformat": 4,
  "vscode": {
   "interpreter": {
    "hash": "a077222d77dfe082b8f1dd562ad70e458ac2ab76993a0b248ab0476e32e9e8dd"
   }
  }
 },
 "nbformat": 4,
 "nbformat_minor": 2
}
