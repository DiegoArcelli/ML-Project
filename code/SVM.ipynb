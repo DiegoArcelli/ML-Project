{
 "cells": [
  {
   "cell_type": "code",
   "execution_count": 1,
   "metadata": {},
   "outputs": [],
   "source": [
    "import warnings\n",
    "warnings.filterwarnings('ignore')"
   ]
  },
  {
   "cell_type": "code",
   "execution_count": 2,
   "metadata": {},
   "outputs": [],
   "source": [
    "import numpy as np\n",
    "import pandas as pd\n",
    "import seaborn as sns\n",
    "import matplotlib.pyplot as plt"
   ]
  },
  {
   "cell_type": "code",
   "execution_count": 3,
   "metadata": {},
   "outputs": [],
   "source": [
    "from matplotlib.colors import ListedColormap\n",
    "\n",
    "# Preprocessing\n",
    "from sklearn.preprocessing import StandardScaler, MinMaxScaler, OneHotEncoder\n",
    "\n",
    "# Feature Selection\n",
    "from sklearn.feature_selection import SelectKBest\n",
    "from sklearn.decomposition import PCA \n",
    "\n",
    "# classification algorithm\n",
    "from sklearn import svm \n",
    "\n",
    "# metrics\n",
    "from sklearn.metrics import confusion_matrix, ConfusionMatrixDisplay\n",
    "from sklearn.metrics import accuracy_score, f1_score, classification_report\n",
    "from sklearn.metrics import r2_score, mean_squared_error, mean_absolute_error\n",
    "from sklearn.metrics import roc_curve, auc, roc_auc_score\n",
    "\n",
    "# model selection and parameter tuning\n",
    "from sklearn.model_selection import GridSearchCV, KFold, cross_val_score\n",
    "from sklearn.model_selection import RandomizedSearchCV\n",
    "\n",
    "# yellowbrick library  #pip install yellowbrick\n",
    "from yellowbrick.model_selection import LearningCurve\n",
    "from yellowbrick.classifier import ClassificationReport"
   ]
  },
  {
   "cell_type": "code",
   "execution_count": 4,
   "metadata": {},
   "outputs": [],
   "source": [
    "# example dataset\n",
    "from sklearn.datasets import make_blobs"
   ]
  },
  {
   "cell_type": "code",
   "execution_count": 5,
   "metadata": {},
   "outputs": [],
   "source": [
    "# appearence\n",
    "sns.set_theme(style='darkgrid')\n",
    "sns.set(rc={\"figure.figsize\":(12, 8)})\n",
    "activities = ['Walking', 'Walking Upstairs', 'Walking Downstairs', 'Sitting', 'Standing', 'Laying']\n",
    "c = ['#f05039', '#e57a77', '#eebab4', '#1f449c', '#3d65a5', '#7ca1cc']\n",
    "col = ListedColormap(sns.color_palette(c).as_hex())"
   ]
  },
  {
   "attachments": {},
   "cell_type": "markdown",
   "metadata": {},
   "source": [
    "### functions"
   ]
  },
  {
   "cell_type": "code",
   "execution_count": 6,
   "metadata": {},
   "outputs": [],
   "source": [
    "def data_encoder(train, test):\n",
    "    \"\"\"Encodes the sets. Takes as arguments train-test sets. \n",
    "    Fits on train and transforms both.\"\"\"\n",
    "    encoder = OneHotEncoder()\n",
    "    encoder.fit(train)\n",
    "    train_encoded = encoder.transform(train).toarray()\n",
    "    test_encoded = encoder.transform(test).toarray()\n",
    "    return train_encoded, test_encoded\n",
    "\n",
    "\n",
    "def data_scaler(train, test, scaler):\n",
    "    \"\"\"Scales the datasets. Takes as arguments train-test sets and a scaler.\n",
    "    Fits on train set and transforms both.\"\"\"\n",
    "    scaler.fit(train)\n",
    "    train_scaled = scaler.transform(train)\n",
    "    test_scaled = scaler.transform(test)\n",
    "    return train_scaled, test_scaled"
   ]
  },
  {
   "cell_type": "code",
   "execution_count": 7,
   "metadata": {},
   "outputs": [],
   "source": [
    "csv_names = {\n",
    "    'monk1': ['monks-1.train', 'monks-1.test'] \n",
    "    ,'monk2': ['monks-2.train', 'monks-2.test']\n",
    "    ,'monk3': ['monks-3.train', 'monks-3.test']\n",
    "    ,'cup': ['ML-CUP22-TR.csv', 'ML-CUP22-TS.csv']\n",
    "    ,'internal_cup': ['ML-CUP22-INTERNAL-TR.csv', 'ML-CUP22-INTERNAL-TS.csv']\n",
    " }\n",
    "\n",
    "def import_df(string, type):\n",
    "    \"\"\"Imports a dataframe from csv file. \n",
    "    type = 'monk' OR 'cup'. \n",
    "    sting = .csv path\"\"\"\n",
    "    if type == 'monk':\n",
    "        dataframe = pd.read_csv('../data/{}'.format(string), header=None, delimiter=' ')\n",
    "    elif type == 'cup':\n",
    "        dataframe = pd.read_csv('../data/{}'.format(string), header=None)\n",
    "        dataframe.drop(0, axis=1, inplace=True)\n",
    "    return dataframe\n",
    "\n",
    "def set_attributes(dataframe, type):\n",
    "    \"\"\"Takes a dataframe and sets corresponding attribute names.\"\"\"\n",
    "    if type == 'monk':\n",
    "        df = dataframe.drop(columns=0)\n",
    "        columns = ['class', 'a1', 'a2', 'a3', 'a4', 'a5', 'a6', 'id']\n",
    "        df.columns = columns\n",
    "    else:\n",
    "        df = dataframe\n",
    "    return df #..\n",
    "\n",
    "def X_y_split(dataframe, type):\n",
    "    \"\"\"Split dataframe in X and y sets. Takes dataframe as an argument.\n",
    "    In case of cup it gives y_1 and y_2.\"\"\"\n",
    "    \n",
    "    if type == 'monk':\n",
    "        X_df = dataframe.copy()\n",
    "        y_df_1 = X_df['class']\n",
    "        X_df = X_df.drop(columns='id')\n",
    "        X_df = X_df.drop(columns='class')\n",
    "        X_df = X_df.values  \n",
    "        y_df_2 = []\n",
    "    elif type == 'cup':\n",
    "        X_df = dataframe.iloc[:, :9].to_numpy().astype(np.float64)\n",
    "        y_df_1 = dataframe.iloc[:, 9:10].to_numpy().astype(np.float64)\n",
    "        y_df_2 = dataframe.iloc[:, 10:].to_numpy().astype(np.float64)\n",
    "    return X_df, y_df_1, y_df_2\n",
    "\n",
    "\n",
    "def load_data(string, type):\n",
    "    \"\"\"Loads Dataframe\"\"\"\n",
    "    dataframe = import_df(string, type)\n",
    "    df = set_attributes(dataframe, type)\n",
    "    X_df, y_df_1, y_df_2 = X_y_split(df, type)\n",
    "    return X_df, y_df_1, y_df_2"
   ]
  },
  {
   "cell_type": "markdown",
   "metadata": {},
   "source": [
    "## MONKs"
   ]
  },
  {
   "cell_type": "markdown",
   "metadata": {},
   "source": [
    "Attribute information:\n",
    "* class: 0, 1 \n",
    "* a1:    1, 2, 3\n",
    "* a2:    1, 2, 3\n",
    "* a3:    1, 2\n",
    "* a4:    1, 2, 3\n",
    "* a5:    1, 2, 3, 4\n",
    "* a6:    1, 2\n",
    "* Id:    (A unique symbol for each instance)"
   ]
  },
  {
   "cell_type": "markdown",
   "metadata": {},
   "source": [
    "### Load & Prepare MONKs Data"
   ]
  },
  {
   "cell_type": "code",
   "execution_count": 83,
   "metadata": {},
   "outputs": [],
   "source": [
    "X_train1, y_train1, empty  = load_data(csv_names['monk1'][0], 'monk')\n",
    "X_test1, y_test1, empty    = load_data(csv_names['monk1'][1], 'monk')\n",
    "X_train2, y_train2, empty  = load_data(csv_names['monk2'][0], 'monk')\n",
    "X_test2, y_test2, empty    = load_data(csv_names['monk2'][1], 'monk')\n",
    "X_train3, y_train3, empty  = load_data(csv_names['monk3'][0], 'monk')\n",
    "X_test3, y_test3, empty    = load_data(csv_names['monk3'][1], 'monk')"
   ]
  },
  {
   "cell_type": "code",
   "execution_count": 84,
   "metadata": {},
   "outputs": [
    {
     "data": {
      "text/plain": [
       "(0.28703703703703703, 0.3912037037037037, 0.2824074074074074)"
      ]
     },
     "execution_count": 84,
     "metadata": {},
     "output_type": "execute_result"
    }
   ],
   "source": [
    "len(X_train1)/len(X_test1), len(X_train2)/len(X_test2), len(X_train3)/len(X_test3)  "
   ]
  },
  {
   "cell_type": "code",
   "execution_count": 88,
   "metadata": {},
   "outputs": [],
   "source": [
    "train1 = import_df(csv_names[0])\n",
    "train1 = set_attributes(train1)"
   ]
  },
  {
   "cell_type": "code",
   "execution_count": 89,
   "metadata": {},
   "outputs": [
    {
     "name": "stdout",
     "output_type": "stream",
     "text": [
      "train:  1    45\n",
      "2    42\n",
      "3    37\n",
      "Name: a1, dtype: int64\n"
     ]
    }
   ],
   "source": [
    "#print('test: ', test1['a1'].value_counts()) \n",
    "print('train: ', train1['a1'].value_counts())"
   ]
  },
  {
   "cell_type": "markdown",
   "metadata": {},
   "source": [
    "### Encoding & Scaling "
   ]
  },
  {
   "cell_type": "code",
   "execution_count": 91,
   "metadata": {},
   "outputs": [
    {
     "data": {
      "text/plain": [
       "(124, 17)"
      ]
     },
     "execution_count": 91,
     "metadata": {},
     "output_type": "execute_result"
    }
   ],
   "source": [
    "X_train1_encoded, X_test1_encoded = data_encoder(X_train1, X_test1)\n",
    "X_train2_encoded, X_test2_encoded = data_encoder(X_train2, X_test2)\n",
    "X_train3_encoded, X_test3_encoded = data_encoder(X_train3, X_test3)\n",
    "\n",
    "X_train1_encoded.shape"
   ]
  },
  {
   "cell_type": "code",
   "execution_count": 92,
   "metadata": {},
   "outputs": [
    {
     "data": {
      "text/plain": [
       "(124, 6)"
      ]
     },
     "execution_count": 92,
     "metadata": {},
     "output_type": "execute_result"
    }
   ],
   "source": [
    "scaler = StandardScaler() # MinMaxScaler()\n",
    "X_train1_sc, X_test1_sc = data_scaler(X_train1, X_test1, scaler)\n",
    "X_train2_sc, X_test2_sc = data_scaler(X_train2, X_test2, scaler)\n",
    "X_train3_sc, X_test3_sc = data_scaler(X_train3, X_test3, scaler)\n",
    "\n",
    "X_train1_sc.shape"
   ]
  },
  {
   "cell_type": "markdown",
   "metadata": {},
   "source": [
    "### Plotting"
   ]
  },
  {
   "cell_type": "code",
   "execution_count": 16,
   "metadata": {},
   "outputs": [
    {
     "data": {
      "image/png": "[encoded data removed]",
      "text/plain": [
       "<Figure size 1200x800 with 1 Axes>"
      ]
     },
     "metadata": {},
     "output_type": "display_data"
    }
   ],
   "source": [
    "plt.title('No of Datapoints per class', fontsize=15)\n",
    "sns.countplot(train1['class'])\n",
    "plt.xticks(rotation=0)\n",
    "plt.show()"
   ]
  },
  {
   "cell_type": "code",
   "execution_count": 17,
   "metadata": {},
   "outputs": [
    {
     "data": {
      "image/png": "[encoded data removed]",
      "text/plain": [
       "<Figure size 1200x800 with 1 Axes>"
      ]
     },
     "metadata": {},
     "output_type": "display_data"
    }
   ],
   "source": [
    "sns.countplot(train1['a5'])\n",
    "plt.xticks(rotation=0)\n",
    "plt.show()"
   ]
  },
  {
   "cell_type": "code",
   "execution_count": 18,
   "metadata": {},
   "outputs": [
    {
     "data": {
      "text/html": [
       "<div>\n",
       "<style scoped>\n",
       "    .dataframe tbody tr th:only-of-type {\n",
       "        vertical-align: middle;\n",
       "    }\n",
       "\n",
       "    .dataframe tbody tr th {\n",
       "        vertical-align: top;\n",
       "    }\n",
       "\n",
       "    .dataframe thead th {\n",
       "        text-align: right;\n",
       "    }\n",
       "</style>\n",
       "<table border=\"1\" class=\"dataframe\">\n",
       "  <thead>\n",
       "    <tr style=\"text-align: right;\">\n",
       "      <th></th>\n",
       "      <th>a1</th>\n",
       "      <th>a2</th>\n",
       "      <th>a3</th>\n",
       "      <th>a4</th>\n",
       "      <th>a5</th>\n",
       "      <th>a6</th>\n",
       "    </tr>\n",
       "  </thead>\n",
       "  <tbody>\n",
       "    <tr>\n",
       "      <th>0</th>\n",
       "      <td>1</td>\n",
       "      <td>1</td>\n",
       "      <td>1</td>\n",
       "      <td>1</td>\n",
       "      <td>3</td>\n",
       "      <td>1</td>\n",
       "    </tr>\n",
       "    <tr>\n",
       "      <th>1</th>\n",
       "      <td>1</td>\n",
       "      <td>1</td>\n",
       "      <td>1</td>\n",
       "      <td>1</td>\n",
       "      <td>3</td>\n",
       "      <td>2</td>\n",
       "    </tr>\n",
       "    <tr>\n",
       "      <th>2</th>\n",
       "      <td>1</td>\n",
       "      <td>1</td>\n",
       "      <td>1</td>\n",
       "      <td>3</td>\n",
       "      <td>2</td>\n",
       "      <td>1</td>\n",
       "    </tr>\n",
       "    <tr>\n",
       "      <th>3</th>\n",
       "      <td>1</td>\n",
       "      <td>1</td>\n",
       "      <td>1</td>\n",
       "      <td>3</td>\n",
       "      <td>3</td>\n",
       "      <td>2</td>\n",
       "    </tr>\n",
       "    <tr>\n",
       "      <th>4</th>\n",
       "      <td>1</td>\n",
       "      <td>1</td>\n",
       "      <td>2</td>\n",
       "      <td>1</td>\n",
       "      <td>2</td>\n",
       "      <td>1</td>\n",
       "    </tr>\n",
       "  </tbody>\n",
       "</table>\n",
       "</div>"
      ],
      "text/plain": [
       "   a1  a2  a3  a4  a5  a6\n",
       "0   1   1   1   1   3   1\n",
       "1   1   1   1   1   3   2\n",
       "2   1   1   1   3   2   1\n",
       "3   1   1   1   3   3   2\n",
       "4   1   1   2   1   2   1"
      ]
     },
     "execution_count": 18,
     "metadata": {},
     "output_type": "execute_result"
    }
   ],
   "source": [
    "# representing only 6 dimensions \n",
    "train1_dims = train1[['a1',\t'a2', 'a3',\t'a4', 'a5',\t'a6']]\n",
    "train1_dims.head()"
   ]
  },
  {
   "cell_type": "code",
   "execution_count": 19,
   "metadata": {},
   "outputs": [
    {
     "data": {
      "text/plain": [
       "<AxesSubplot: >"
      ]
     },
     "execution_count": 19,
     "metadata": {},
     "output_type": "execute_result"
    },
    {
     "data": {
      "image/png": "[encoded data removed]",
      "text/plain": [
       "<Figure size 1200x800 with 1 Axes>"
      ]
     },
     "metadata": {},
     "output_type": "display_data"
    }
   ],
   "source": [
    "unique = train1_dims.nunique()\n",
    "unique.plot(kind='bar', \n",
    "           color=c)"
   ]
  },
  {
   "cell_type": "code",
   "execution_count": 20,
   "metadata": {},
   "outputs": [
    {
     "data": {
      "text/html": [
       "<div>\n",
       "<style scoped>\n",
       "    .dataframe tbody tr th:only-of-type {\n",
       "        vertical-align: middle;\n",
       "    }\n",
       "\n",
       "    .dataframe tbody tr th {\n",
       "        vertical-align: top;\n",
       "    }\n",
       "\n",
       "    .dataframe thead th {\n",
       "        text-align: right;\n",
       "    }\n",
       "</style>\n",
       "<table border=\"1\" class=\"dataframe\">\n",
       "  <thead>\n",
       "    <tr style=\"text-align: right;\">\n",
       "      <th></th>\n",
       "      <th>a1</th>\n",
       "      <th>a2</th>\n",
       "      <th>a3</th>\n",
       "      <th>a4</th>\n",
       "      <th>a5</th>\n",
       "      <th>a6</th>\n",
       "    </tr>\n",
       "  </thead>\n",
       "  <tbody>\n",
       "    <tr>\n",
       "      <th>mean</th>\n",
       "      <td>1.935484</td>\n",
       "      <td>2.096774</td>\n",
       "      <td>1.475806</td>\n",
       "      <td>2.008065</td>\n",
       "      <td>2.556452</td>\n",
       "      <td>1.548387</td>\n",
       "    </tr>\n",
       "    <tr>\n",
       "      <th>std</th>\n",
       "      <td>0.813923</td>\n",
       "      <td>0.810694</td>\n",
       "      <td>0.501440</td>\n",
       "      <td>0.831259</td>\n",
       "      <td>1.128366</td>\n",
       "      <td>0.499672</td>\n",
       "    </tr>\n",
       "  </tbody>\n",
       "</table>\n",
       "</div>"
      ],
      "text/plain": [
       "            a1        a2        a3        a4        a5        a6\n",
       "mean  1.935484  2.096774  1.475806  2.008065  2.556452  1.548387\n",
       "std   0.813923  0.810694  0.501440  0.831259  1.128366  0.499672"
      ]
     },
     "execution_count": 20,
     "metadata": {},
     "output_type": "execute_result"
    }
   ],
   "source": [
    "train1_mean_std = train1_dims.agg([np.mean, np.std])\n",
    "train1_mean_std"
   ]
  },
  {
   "cell_type": "code",
   "execution_count": 21,
   "metadata": {},
   "outputs": [
    {
     "data": {
      "text/plain": [
       "<AxesSubplot: >"
      ]
     },
     "execution_count": 21,
     "metadata": {},
     "output_type": "execute_result"
    },
    {
     "data": {
      "image/png": "[encoded data removed]",
      "text/plain": [
       "<Figure size 1200x800 with 1 Axes>"
      ]
     },
     "metadata": {},
     "output_type": "display_data"
    }
   ],
   "source": [
    "train1_mean_std.plot(kind = 'bar')"
   ]
  },
  {
   "cell_type": "code",
   "execution_count": 22,
   "metadata": {},
   "outputs": [
    {
     "ename": "ImportError",
     "evalue": "Missing optional dependency 'Jinja2'. DataFrame.style requires jinja2. Use pip or conda to install Jinja2.",
     "output_type": "error",
     "traceback": [
      "\u001b[0;31m---------------------------------------------------------------------------\u001b[0m",
      "\u001b[0;31mModuleNotFoundError\u001b[0m                       Traceback (most recent call last)",
      "File \u001b[0;32m~/Desktop/Universita/Magistrale/FirstYear/ML/ML-Project/env/lib/python3.10/site-packages/pandas/compat/_optional.py:141\u001b[0m, in \u001b[0;36mimport_optional_dependency\u001b[0;34m(name, extra, errors, min_version)\u001b[0m\n\u001b[1;32m    140\u001b[0m \u001b[38;5;28;01mtry\u001b[39;00m:\n\u001b[0;32m--> 141\u001b[0m     module \u001b[38;5;241m=\u001b[39m \u001b[43mimportlib\u001b[49m\u001b[38;5;241;43m.\u001b[39;49m\u001b[43mimport_module\u001b[49m\u001b[43m(\u001b[49m\u001b[43mname\u001b[49m\u001b[43m)\u001b[49m\n\u001b[1;32m    142\u001b[0m \u001b[38;5;28;01mexcept\u001b[39;00m \u001b[38;5;167;01mImportError\u001b[39;00m:\n",
      "File \u001b[0;32m/usr/lib/python3.10/importlib/__init__.py:126\u001b[0m, in \u001b[0;36mimport_module\u001b[0;34m(name, package)\u001b[0m\n\u001b[1;32m    125\u001b[0m         level \u001b[38;5;241m+\u001b[39m\u001b[38;5;241m=\u001b[39m \u001b[38;5;241m1\u001b[39m\n\u001b[0;32m--> 126\u001b[0m \u001b[38;5;28;01mreturn\u001b[39;00m \u001b[43m_bootstrap\u001b[49m\u001b[38;5;241;43m.\u001b[39;49m\u001b[43m_gcd_import\u001b[49m\u001b[43m(\u001b[49m\u001b[43mname\u001b[49m\u001b[43m[\u001b[49m\u001b[43mlevel\u001b[49m\u001b[43m:\u001b[49m\u001b[43m]\u001b[49m\u001b[43m,\u001b[49m\u001b[43m \u001b[49m\u001b[43mpackage\u001b[49m\u001b[43m,\u001b[49m\u001b[43m \u001b[49m\u001b[43mlevel\u001b[49m\u001b[43m)\u001b[49m\n",
      "File \u001b[0;32m<frozen importlib._bootstrap>:1050\u001b[0m, in \u001b[0;36m_gcd_import\u001b[0;34m(name, package, level)\u001b[0m\n",
      "File \u001b[0;32m<frozen importlib._bootstrap>:1027\u001b[0m, in \u001b[0;36m_find_and_load\u001b[0;34m(name, import_)\u001b[0m\n",
      "File \u001b[0;32m<frozen importlib._bootstrap>:1004\u001b[0m, in \u001b[0;36m_find_and_load_unlocked\u001b[0;34m(name, import_)\u001b[0m\n",
      "\u001b[0;31mModuleNotFoundError\u001b[0m: No module named 'jinja2'",
      "\nDuring handling of the above exception, another exception occurred:\n",
      "\u001b[0;31mImportError\u001b[0m                               Traceback (most recent call last)",
      "Cell \u001b[0;32mIn [22], line 3\u001b[0m\n\u001b[1;32m      1\u001b[0m \u001b[38;5;66;03m# correlation of only 6 dimensions \u001b[39;00m\n\u001b[1;32m      2\u001b[0m train1_corr \u001b[38;5;241m=\u001b[39m train1_dims\u001b[38;5;241m.\u001b[39mcorr()\n\u001b[0;32m----> 3\u001b[0m \u001b[43mtrain1_corr\u001b[49m\u001b[38;5;241;43m.\u001b[39;49m\u001b[43mstyle\u001b[49m\u001b[38;5;241m.\u001b[39mbackground_gradient(cmap\u001b[38;5;241m=\u001b[39m\u001b[38;5;124m'\u001b[39m\u001b[38;5;124mviridis\u001b[39m\u001b[38;5;124m'\u001b[39m) \u001b[38;5;66;03m# Blues cubehelix RdBu PuOr viridis binary jet rainbow gray\u001b[39;00m\n",
      "File \u001b[0;32m~/Desktop/Universita/Magistrale/FirstYear/ML/ML-Project/env/lib/python3.10/site-packages/pandas/core/frame.py:1263\u001b[0m, in \u001b[0;36mDataFrame.style\u001b[0;34m(self)\u001b[0m\n\u001b[1;32m   1251\u001b[0m \u001b[38;5;129m@property\u001b[39m\n\u001b[1;32m   1252\u001b[0m \u001b[38;5;28;01mdef\u001b[39;00m \u001b[38;5;21mstyle\u001b[39m(\u001b[38;5;28mself\u001b[39m) \u001b[38;5;241m-\u001b[39m\u001b[38;5;241m>\u001b[39m Styler:\n\u001b[1;32m   1253\u001b[0m     \u001b[38;5;124;03m\"\"\"\u001b[39;00m\n\u001b[1;32m   1254\u001b[0m \u001b[38;5;124;03m    Returns a Styler object.\u001b[39;00m\n\u001b[1;32m   1255\u001b[0m \n\u001b[0;32m   (...)\u001b[0m\n\u001b[1;32m   1261\u001b[0m \u001b[38;5;124;03m        data with HTML and CSS.\u001b[39;00m\n\u001b[1;32m   1262\u001b[0m \u001b[38;5;124;03m    \"\"\"\u001b[39;00m\n\u001b[0;32m-> 1263\u001b[0m     \u001b[38;5;28;01mfrom\u001b[39;00m \u001b[38;5;21;01mpandas\u001b[39;00m\u001b[38;5;21;01m.\u001b[39;00m\u001b[38;5;21;01mio\u001b[39;00m\u001b[38;5;21;01m.\u001b[39;00m\u001b[38;5;21;01mformats\u001b[39;00m\u001b[38;5;21;01m.\u001b[39;00m\u001b[38;5;21;01mstyle\u001b[39;00m \u001b[38;5;28;01mimport\u001b[39;00m Styler\n\u001b[1;32m   1265\u001b[0m     \u001b[38;5;28;01mreturn\u001b[39;00m Styler(\u001b[38;5;28mself\u001b[39m)\n",
      "File \u001b[0;32m~/Desktop/Universita/Magistrale/FirstYear/ML/ML-Project/env/lib/python3.10/site-packages/pandas/io/formats/style.py:56\u001b[0m\n\u001b[1;32m     52\u001b[0m \u001b[38;5;28;01mfrom\u001b[39;00m \u001b[38;5;21;01mpandas\u001b[39;00m\u001b[38;5;21;01m.\u001b[39;00m\u001b[38;5;21;01mcore\u001b[39;00m\u001b[38;5;21;01m.\u001b[39;00m\u001b[38;5;21;01mshared_docs\u001b[39;00m \u001b[38;5;28;01mimport\u001b[39;00m _shared_docs\n\u001b[1;32m     54\u001b[0m \u001b[38;5;28;01mfrom\u001b[39;00m \u001b[38;5;21;01mpandas\u001b[39;00m\u001b[38;5;21;01m.\u001b[39;00m\u001b[38;5;21;01mio\u001b[39;00m\u001b[38;5;21;01m.\u001b[39;00m\u001b[38;5;21;01mformats\u001b[39;00m\u001b[38;5;21;01m.\u001b[39;00m\u001b[38;5;21;01mformat\u001b[39;00m \u001b[38;5;28;01mimport\u001b[39;00m save_to_buffer\n\u001b[0;32m---> 56\u001b[0m jinja2 \u001b[38;5;241m=\u001b[39m \u001b[43mimport_optional_dependency\u001b[49m\u001b[43m(\u001b[49m\u001b[38;5;124;43m\"\u001b[39;49m\u001b[38;5;124;43mjinja2\u001b[39;49m\u001b[38;5;124;43m\"\u001b[39;49m\u001b[43m,\u001b[49m\u001b[43m \u001b[49m\u001b[43mextra\u001b[49m\u001b[38;5;241;43m=\u001b[39;49m\u001b[38;5;124;43m\"\u001b[39;49m\u001b[38;5;124;43mDataFrame.style requires jinja2.\u001b[39;49m\u001b[38;5;124;43m\"\u001b[39;49m\u001b[43m)\u001b[49m\n\u001b[1;32m     58\u001b[0m \u001b[38;5;28;01mfrom\u001b[39;00m \u001b[38;5;21;01mpandas\u001b[39;00m\u001b[38;5;21;01m.\u001b[39;00m\u001b[38;5;21;01mio\u001b[39;00m\u001b[38;5;21;01m.\u001b[39;00m\u001b[38;5;21;01mformats\u001b[39;00m\u001b[38;5;21;01m.\u001b[39;00m\u001b[38;5;21;01mstyle_render\u001b[39;00m \u001b[38;5;28;01mimport\u001b[39;00m (\n\u001b[1;32m     59\u001b[0m     CSSProperties,\n\u001b[1;32m     60\u001b[0m     CSSStyles,\n\u001b[0;32m   (...)\u001b[0m\n\u001b[1;32m     68\u001b[0m     refactor_levels,\n\u001b[1;32m     69\u001b[0m )\n\u001b[1;32m     71\u001b[0m \u001b[38;5;28;01mtry\u001b[39;00m:\n",
      "File \u001b[0;32m~/Desktop/Universita/Magistrale/FirstYear/ML/ML-Project/env/lib/python3.10/site-packages/pandas/compat/_optional.py:144\u001b[0m, in \u001b[0;36mimport_optional_dependency\u001b[0;34m(name, extra, errors, min_version)\u001b[0m\n\u001b[1;32m    142\u001b[0m \u001b[38;5;28;01mexcept\u001b[39;00m \u001b[38;5;167;01mImportError\u001b[39;00m:\n\u001b[1;32m    143\u001b[0m     \u001b[38;5;28;01mif\u001b[39;00m errors \u001b[38;5;241m==\u001b[39m \u001b[38;5;124m\"\u001b[39m\u001b[38;5;124mraise\u001b[39m\u001b[38;5;124m\"\u001b[39m:\n\u001b[0;32m--> 144\u001b[0m         \u001b[38;5;28;01mraise\u001b[39;00m \u001b[38;5;167;01mImportError\u001b[39;00m(msg)\n\u001b[1;32m    145\u001b[0m     \u001b[38;5;28;01melse\u001b[39;00m:\n\u001b[1;32m    146\u001b[0m         \u001b[38;5;28;01mreturn\u001b[39;00m \u001b[38;5;28;01mNone\u001b[39;00m\n",
      "\u001b[0;31mImportError\u001b[0m: Missing optional dependency 'Jinja2'. DataFrame.style requires jinja2. Use pip or conda to install Jinja2."
     ]
    }
   ],
   "source": [
    "# correlation of only 6 dimensions \n",
    "train1_corr = train1_dims.corr()\n",
    "train1_corr.style.background_gradient(cmap='viridis') # Blues cubehelix RdBu PuOr viridis binary jet rainbow gray"
   ]
  },
  {
   "cell_type": "code",
   "execution_count": null,
   "metadata": {},
   "outputs": [],
   "source": [
    "# trying scatter plot of highly correlated attributes\n",
    "plt.scatter(train1[train1['class'] == 0]['a1'],\n",
    "            train1[train1['class'] == 0]['a5'], color=c[0], marker='*', label='class 0')\n",
    "plt.scatter(train1[train1['class'] == 1]['a1'],\n",
    "            train1[train1['class'] == 1]['a5'], color=c[5], label='class 1')\n",
    "plt.xlabel('a1')\n",
    "plt.ylabel('a5')\n",
    "plt.legend()\n",
    "plt.show()"
   ]
  },
  {
   "cell_type": "code",
   "execution_count": null,
   "metadata": {},
   "outputs": [],
   "source": [
    "train1['class'].value_counts().plot(kind='pie', y='count', #figsize=(9,9),\n",
    "                                #title='Class', \n",
    "                                #autopct='%1.0f%%',\n",
    "                                autopct = \"%.2f%%\",\n",
    "                                fontsize = 24, \n",
    "                                )\n",
    "plt.show()\n"
   ]
  },
  {
   "cell_type": "code",
   "execution_count": null,
   "metadata": {},
   "outputs": [],
   "source": [
    "train1['a5'].value_counts().plot(kind='pie', y='count', #figsize=(9,9),\n",
    "                                #title='Class', \n",
    "                                #autopct='%1.0f%%',\n",
    "                                autopct = \"%.2f%%\",\n",
    "                                fontsize = 24, \n",
    "                                )\n",
    "plt.show()\n"
   ]
  },
  {
   "cell_type": "code",
   "execution_count": null,
   "metadata": {},
   "outputs": [],
   "source": [
    "class_values = sorted(train1['class'].unique())\n",
    "for val in class_values:\n",
    "    train1[train1['class'] == val]['a1'].plot(kind='kde') #Generate Kernel Density Estimate plot using Gaussian kernels\n",
    "plt.xlabel('a1', fontsize = 24)\n",
    "plt.ylabel('Density', fontsize = 24)\n",
    "plt.xticks(fontsize = 20)\n",
    "plt.yticks(fontsize = 20)\n",
    "plt.axvline(1, color = \"lightblue\", linestyle='--')\n",
    "plt.axvline(3, color = \"orange\", linestyle='--')\n",
    "legend = plt.legend(('0', '1'), loc='best', fontsize = 20, fancybox=True,shadow=True)\n",
    "legend.set_title(\"Class\", prop={'size':18})\n",
    "plt.show()"
   ]
  },
  {
   "cell_type": "code",
   "execution_count": null,
   "metadata": {},
   "outputs": [],
   "source": [
    "class_values = sorted(train1['class'].unique())\n",
    "for val in class_values:\n",
    "    train1[train1['class'] == val]['a2'].plot(kind='kde') #Generate Kernel Density Estimate plot using Gaussian kernels\n",
    "plt.xlabel('a2', fontsize = 24)\n",
    "plt.ylabel('Density', fontsize = 24)\n",
    "plt.xticks(fontsize = 20)\n",
    "plt.yticks(fontsize = 20)\n",
    "plt.axvline(2.98, color = \"lightblue\", linestyle='--')\n",
    "plt.axvline(3, color = \"orange\", linestyle='--')\n",
    "legend = plt.legend(('0', '1'), loc='best', fontsize = 20, fancybox=True,shadow=True)\n",
    "legend.set_title(\"Class\", prop={'size':18})\n",
    "plt.show()"
   ]
  },
  {
   "cell_type": "code",
   "execution_count": null,
   "metadata": {},
   "outputs": [],
   "source": [
    "class_values = sorted(train1['class'].unique())\n",
    "for val in class_values:\n",
    "    train1[train1['class'] == val]['a3'].plot(kind='kde') #Generate Kernel Density Estimate plot using Gaussian kernels\n",
    "plt.xlabel('a3', fontsize = 24)\n",
    "plt.ylabel('Density', fontsize = 24)\n",
    "plt.xticks(fontsize = 20)\n",
    "plt.yticks(fontsize = 20)\n",
    "plt.axvline(2, color = \"lightblue\", linestyle='--')\n",
    "plt.axvline(1, color = \"orange\", linestyle='--')\n",
    "legend = plt.legend(('0', '1'), loc='best', fontsize = 20, fancybox=True,shadow=True)\n",
    "legend.set_title(\"Class\", prop={'size':18})\n",
    "plt.show()"
   ]
  },
  {
   "cell_type": "code",
   "execution_count": null,
   "metadata": {},
   "outputs": [],
   "source": [
    "class_values = sorted(train1['class'].unique())\n",
    "for val in class_values:\n",
    "    train1[train1['class'] == val]['a4'].plot(kind='kde') #Generate Kernel Density Estimate plot using Gaussian kernels\n",
    "plt.xlabel('a4', fontsize = 24)\n",
    "plt.ylabel('Density', fontsize = 24)\n",
    "plt.xticks(fontsize = 20)\n",
    "plt.yticks(fontsize = 20)\n",
    "plt.axvline(2, color = \"lightblue\", linestyle='--')\n",
    "plt.axvline(1, color = \"orange\", linestyle='--')\n",
    "legend = plt.legend(('0', '1'), loc='best', fontsize = 20, fancybox=True,shadow=True)\n",
    "legend.set_title(\"Class\", prop={'size':18})\n",
    "plt.show()"
   ]
  },
  {
   "cell_type": "code",
   "execution_count": null,
   "metadata": {},
   "outputs": [],
   "source": [
    "class_values = sorted(train1['class'].unique())\n",
    "for val in class_values:\n",
    "    train1[train1['class'] == val]['a5'].plot(kind='kde') #Generate Kernel Density Estimate plot using Gaussian kernels\n",
    "plt.xlabel('a5', fontsize = 24)\n",
    "plt.ylabel('Density', fontsize = 24)\n",
    "plt.xticks(fontsize = 20)\n",
    "plt.yticks(fontsize = 20)\n",
    "plt.axvline(4, color = \"lightblue\", linestyle='--')\n",
    "plt.axvline(1, color = \"orange\", linestyle='--')\n",
    "legend = plt.legend(('0', '1'), loc='best', fontsize = 20, fancybox=True,shadow=True)\n",
    "legend.set_title(\"Class\", prop={'size':18})\n",
    "plt.show()"
   ]
  },
  {
   "cell_type": "code",
   "execution_count": null,
   "metadata": {},
   "outputs": [],
   "source": [
    "class_values = sorted(train1['class'].unique())\n",
    "for val in class_values:\n",
    "    train1[train1['class'] == val]['a6'].plot(kind='kde') #Generate Kernel Density Estimate plot using Gaussian kernels\n",
    "plt.xlabel('a6', fontsize = 24)\n",
    "plt.ylabel('Density', fontsize = 24)\n",
    "plt.xticks(fontsize = 20)\n",
    "plt.yticks(fontsize = 20)\n",
    "plt.axvline(2, color = \"lightblue\", linestyle='--')\n",
    "plt.axvline(1, color = \"orange\", linestyle='--')\n",
    "legend = plt.legend(('0', '1'), loc='best', fontsize = 20, fancybox=True,shadow=True)\n",
    "legend.set_title(\"Class\", prop={'size':18})\n",
    "plt.show()"
   ]
  },
  {
   "cell_type": "markdown",
   "metadata": {},
   "source": [
    "### 1. SVM"
   ]
  },
  {
   "cell_type": "markdown",
   "metadata": {},
   "source": [
    "Parameters to Tune:\n",
    "* Kernel {'linear', 'poly', 'rbf', 'sigmoid', 'precomputed'}\n",
    "* Regularization - C - tells the SVM optimization how much we want to avoid misclassifying each training example\n",
    "* Gamma {'scale', 'auto'} \n",
    "        Kernel coefficient for 'rbf', 'poly' and 'sigmoid'\n",
    "        - if ``gamma='scale'`` (default) is passed then it uses\n",
    "          1 / (n_features * X.var()) as value of gamma,\n",
    "        - if 'auto', uses 1 / n_features.\n",
    "* Margin "
   ]
  },
  {
   "cell_type": "code",
   "execution_count": 93,
   "metadata": {},
   "outputs": [
    {
     "name": "stdout",
     "output_type": "stream",
     "text": [
      "Accuracy 0.8912037037037037\n",
      "F1-score [0.89485459 0.88729017]\n",
      "              precision    recall  f1-score   support\n",
      "\n",
      "           0       0.87      0.93      0.89       216\n",
      "           1       0.92      0.86      0.89       216\n",
      "\n",
      "    accuracy                           0.89       432\n",
      "   macro avg       0.89      0.89      0.89       432\n",
      "weighted avg       0.89      0.89      0.89       432\n",
      "\n"
     ]
    }
   ],
   "source": [
    "#Create a svm Classifier\n",
    "clf = svm.SVC(random_state=42) # Linear Kernel\n",
    "\n",
    "#Train the model using the train 1 set\n",
    "clf.fit(X_train1_encoded, y_train1)\n",
    "\n",
    "#Predict the response for test dataset\n",
    "y_pred1 = clf.predict(X_test1_encoded)\n",
    "\n",
    "print('Accuracy %s' % accuracy_score(y_test1, y_pred1))\n",
    "print('F1-score %s' % f1_score(y_test1, y_pred1, average=None))\n",
    "print(classification_report(y_test1, y_pred1))"
   ]
  },
  {
   "cell_type": "code",
   "execution_count": 94,
   "metadata": {},
   "outputs": [
    {
     "data": {
      "image/png": "[encoded data removed]",
      "text/plain": [
       "<Figure size 1200x800 with 2 Axes>"
      ]
     },
     "metadata": {},
     "output_type": "display_data"
    },
    {
     "data": {
      "text/plain": [
       "<AxesSubplot:title={'center':'SVC Classification Report'}>"
      ]
     },
     "execution_count": 94,
     "metadata": {},
     "output_type": "execute_result"
    }
   ],
   "source": [
    "clf = svm.SVC(random_state=42) # Linear Kernel\n",
    "## Specify the target classes\n",
    "#classes = [\"0\", \"1\"]\n",
    "\n",
    "visualizer = ClassificationReport(clf, support=True) #classes=classes, \n",
    "\n",
    "visualizer.fit(X_train1, y_train1)        # Fit the visualizer and the model\n",
    "visualizer.score(X_test1, y_test1)        # Evaluate the model on the test data\n",
    "visualizer.show()                       # Finalize and show the figure"
   ]
  },
  {
   "cell_type": "code",
   "execution_count": 95,
   "metadata": {},
   "outputs": [
    {
     "name": "stdout",
     "output_type": "stream",
     "text": [
      "Accuracy 0.6805555555555556\n",
      "F1-score [0.78504673 0.37837838]\n",
      "              precision    recall  f1-score   support\n",
      "\n",
      "           0       0.72      0.87      0.79       290\n",
      "           1       0.53      0.30      0.38       142\n",
      "\n",
      "    accuracy                           0.68       432\n",
      "   macro avg       0.62      0.58      0.58       432\n",
      "weighted avg       0.65      0.68      0.65       432\n",
      "\n"
     ]
    }
   ],
   "source": [
    "#Train the model using the train 2 set\n",
    "clf.fit(X_train2, y_train2)\n",
    "\n",
    "#Predict the response for test dataset\n",
    "y_pred2 = clf.predict(X_test2)\n",
    "\n",
    "print('Accuracy %s' % accuracy_score(y_test2, y_pred2))\n",
    "print('F1-score %s' % f1_score(y_test2, y_pred2, average=None))\n",
    "print(classification_report(y_test2, y_pred2))"
   ]
  },
  {
   "cell_type": "code",
   "execution_count": 96,
   "metadata": {},
   "outputs": [
    {
     "name": "stdout",
     "output_type": "stream",
     "text": [
      "Accuracy 0.9699074074074074\n",
      "F1-score [0.96912114 0.97065463]\n",
      "              precision    recall  f1-score   support\n",
      "\n",
      "           0       0.94      1.00      0.97       204\n",
      "           1       1.00      0.94      0.97       228\n",
      "\n",
      "    accuracy                           0.97       432\n",
      "   macro avg       0.97      0.97      0.97       432\n",
      "weighted avg       0.97      0.97      0.97       432\n",
      "\n"
     ]
    }
   ],
   "source": [
    "#Train the model using the train 3 set\n",
    "clf.fit(X_train3, y_train3)\n",
    "\n",
    "#Predict the response for test dataset\n",
    "y_pred3 = clf.predict(X_test3)\n",
    "\n",
    "print('Accuracy %s' % accuracy_score(y_test3, y_pred3))\n",
    "print('F1-score %s' % f1_score(y_test3, y_pred3, average=None))\n",
    "print(classification_report(y_test3, y_pred3))"
   ]
  },
  {
   "cell_type": "markdown",
   "metadata": {},
   "source": [
    "### Hyperparameter Tuning for SVM"
   ]
  },
  {
   "cell_type": "code",
   "execution_count": 22,
   "metadata": {},
   "outputs": [],
   "source": [
    "from sklearn.model_selection import StratifiedKFold\n",
    "\n",
    "def ParameterTune(X_train, y_train, X_test, y_test):\n",
    "  #Create a svm Classifier\n",
    "  clf = svm.SVC(random_state=42)\n",
    "\n",
    "  # Grid Search\n",
    "  param_grid = [\n",
    "    {'C': range(1,100)\n",
    "    ,'kernel': ['linear', 'rbf', 'poly']\n",
    "    #,'gamma': range(1e-2, 1e-5)\n",
    "    },\n",
    "    {'C': [0.0001, 0.001, 0.01, 0.05, 0.1, 0.5, 1, 10, 100, 1000, 10000]\n",
    "    ,'kernel': ['linear', 'rbf', 'poly']\n",
    "    ,'gamma': [0.0001, 0.001, 0.01, 0.05, 0.1, 0.5, 1, 10, 100, 1000, 10000]\n",
    "    }\n",
    "  ]\n",
    "\n",
    "    \n",
    "  cv = StratifiedKFold(n_splits=5, shuffle=True)    \n",
    "\n",
    "  grid_search = GridSearchCV(clf, param_grid=param_grid, cv=cv, n_jobs=20)\n",
    "  grid_search.fit(X_train, y_train)\n",
    "  clf = grid_search.best_estimator_\n",
    "\n",
    "  y_pred = clf.predict(X_test)\n",
    "  #y_score1 = clf.predict_proba(X_test)\n",
    "\n",
    "  model = grid_search.best_estimator_\n",
    "  #accuracy = accuracy_score(y_test, y_pred)\n",
    "  #f1_score = f1_score(y_test, y_pred, average=None)\n",
    "  #classification_rep = classification_report(y_test, y_pred)\n",
    "\n",
    "  learning_curve = LearningCurve(model, scoring='accuracy')\n",
    "  learning_curve.fit(X_train, y_train)  \n",
    "\n",
    "  return y_test, y_pred, model, learning_curve #, accuracy, f1_score, classification_rep"
   ]
  },
  {
   "cell_type": "code",
   "execution_count": 23,
   "metadata": {},
   "outputs": [
    {
     "name": "stdout",
     "output_type": "stream",
     "text": [
      "Model:  SVC(C=10000, gamma=0.01, random_state=42)\n",
      "Accuracy 1.0\n",
      "F1-score [1. 1.]\n",
      "              precision    recall  f1-score   support\n",
      "\n",
      "           0       1.00      1.00      1.00       216\n",
      "           1       1.00      1.00      1.00       216\n",
      "\n",
      "    accuracy                           1.00       432\n",
      "   macro avg       1.00      1.00      1.00       432\n",
      "weighted avg       1.00      1.00      1.00       432\n",
      "\n"
     ]
    },
    {
     "data": {
      "image/png": "[encoded data removed]",
      "text/plain": [
       "<Figure size 1200x800 with 1 Axes>"
      ]
     },
     "metadata": {},
     "output_type": "display_data"
    },
    {
     "data": {
      "text/plain": [
       "<AxesSubplot:title={'center':'Learning Curve for SVC'}, xlabel='Training Instances', ylabel='Score'>"
      ]
     },
     "execution_count": 23,
     "metadata": {},
     "output_type": "execute_result"
    }
   ],
   "source": [
    "y_test, y_pred, model, lc = ParameterTune(X_train1_encoded, y_train1, X_test1_encoded, y_test1)\n",
    "\n",
    "print('Model: ', model)\n",
    "print('Accuracy %s' % accuracy_score(y_test, y_pred))\n",
    "print('F1-score %s' % f1_score(y_test, y_pred, average=None))\n",
    "print(classification_report(y_test, y_pred))\n",
    "\n",
    "lc.show()"
   ]
  },
  {
   "cell_type": "code",
   "execution_count": 24,
   "metadata": {},
   "outputs": [
    {
     "name": "stdout",
     "output_type": "stream",
     "text": [
      "Model:  SVC(C=10000, gamma=0.01, random_state=42)\n",
      "Accuracy 1.0\n",
      "F1-score [1. 1.]\n",
      "              precision    recall  f1-score   support\n",
      "\n",
      "           0       1.00      1.00      1.00       290\n",
      "           1       1.00      1.00      1.00       142\n",
      "\n",
      "    accuracy                           1.00       432\n",
      "   macro avg       1.00      1.00      1.00       432\n",
      "weighted avg       1.00      1.00      1.00       432\n",
      "\n"
     ]
    },
    {
     "data": {
      "image/png": "[encoded data removed]",
      "text/plain": [
       "<Figure size 1200x800 with 1 Axes>"
      ]
     },
     "metadata": {},
     "output_type": "display_data"
    },
    {
     "data": {
      "text/plain": [
       "<AxesSubplot:title={'center':'Learning Curve for SVC'}, xlabel='Training Instances', ylabel='Score'>"
      ]
     },
     "execution_count": 24,
     "metadata": {},
     "output_type": "execute_result"
    }
   ],
   "source": [
    "y_test, y_pred, model, lc = ParameterTune(X_train2_encoded, y_train2, X_test2_encoded, y_test2)\n",
    "\n",
    "print('Model: ', model)\n",
    "print('Accuracy %s' % accuracy_score(y_test, y_pred))\n",
    "print('F1-score %s' % f1_score(y_test, y_pred, average=None))\n",
    "print(classification_report(y_test, y_pred))\n",
    "\n",
    "lc.show()"
   ]
  },
  {
   "cell_type": "code",
   "execution_count": 25,
   "metadata": {},
   "outputs": [
    {
     "name": "stdout",
     "output_type": "stream",
     "text": [
      "Model:  SVC(C=1, kernel='linear', random_state=42)\n",
      "Accuracy 0.9722222222222222\n",
      "F1-score [0.97142857 0.97297297]\n",
      "              precision    recall  f1-score   support\n",
      "\n",
      "           0       0.94      1.00      0.97       204\n",
      "           1       1.00      0.95      0.97       228\n",
      "\n",
      "    accuracy                           0.97       432\n",
      "   macro avg       0.97      0.97      0.97       432\n",
      "weighted avg       0.97      0.97      0.97       432\n",
      "\n"
     ]
    },
    {
     "data": {
      "image/png": "[encoded data removed]",
      "text/plain": [
       "<Figure size 1200x800 with 1 Axes>"
      ]
     },
     "metadata": {},
     "output_type": "display_data"
    },
    {
     "data": {
      "text/plain": [
       "<AxesSubplot:title={'center':'Learning Curve for SVC'}, xlabel='Training Instances', ylabel='Score'>"
      ]
     },
     "execution_count": 25,
     "metadata": {},
     "output_type": "execute_result"
    }
   ],
   "source": [
    "y_test, y_pred, model, lc = ParameterTune(X_train3_encoded, y_train3, X_test3_encoded, y_test3)\n",
    "\n",
    "print('Model: ', model)\n",
    "print('Accuracy %s' % accuracy_score(y_test, y_pred))\n",
    "print('F1-score %s' % f1_score(y_test, y_pred, average=None))\n",
    "print(classification_report(y_test, y_pred))\n",
    "\n",
    "lc.show()"
   ]
  },
  {
   "cell_type": "markdown",
   "metadata": {},
   "source": [
    "### Nested CV"
   ]
  },
  {
   "cell_type": "code",
   "execution_count": null,
   "metadata": {},
   "outputs": [],
   "source": [
    "# Number of random trials\n",
    "NUM_TRIALS = 30\n",
    "\n",
    "# Set up possible values of parameters to optimize over\n",
    "p_grid = {\"C\": [1, 10, 100], \"gamma\": [0.01, 0.1]}\n",
    "\n",
    "# We will use a Support Vector Classifier with \"rbf\" kernel\n",
    "model = svm.SVC(random_state = 42, kernel=\"rbf\")\n",
    "\n",
    "# Arrays to store scores\n",
    "non_nested_scores = np.zeros(NUM_TRIALS)\n",
    "nested_scores = np.zeros(NUM_TRIALS)\n",
    "\n",
    "# Loop for each trial\n",
    "for i in range(NUM_TRIALS):\n",
    "\n",
    "    # Choose cross-validation techniques for the inner and outer loops,\n",
    "    # independently of the dataset.\n",
    "    # E.g \"GroupKFold\", \"LeaveOneOut\", \"LeaveOneGroupOut\", etc.\n",
    "    inner_cv = KFold(n_splits=5, shuffle=True, random_state=i)\n",
    "    outer_cv = KFold(n_splits=5, shuffle=True, random_state=i)\n",
    "\n",
    "    # Non_nested parameter search and scoring\n",
    "    clf = GridSearchCV(estimator=model, param_grid=p_grid, cv=outer_cv)\n",
    "    clf.fit(X_train1_encoded, y_train1)\n",
    "    non_nested_scores[i] = clf.best_score_\n",
    "\n",
    "    # Nested CV with parameter optimization\n",
    "    clf = GridSearchCV(estimator=model, param_grid=p_grid, cv=inner_cv)\n",
    "    nested_score = cross_val_score(clf, X=X_train1_encoded, y=y_train1, cv=outer_cv)\n",
    "    nested_scores[i] = nested_score.mean()\n",
    "\n",
    "score_difference = non_nested_scores - nested_scores\n",
    "\n",
    "print(\n",
    "    \"Average difference of {:6f} with std. dev. of {:6f}.\".format(\n",
    "        score_difference.mean(), score_difference.std()\n",
    "    )\n",
    ")"
   ]
  },
  {
   "cell_type": "code",
   "execution_count": null,
   "metadata": {},
   "outputs": [],
   "source": [
    "#print('Parameters: ', clf.best_estimator_)"
   ]
  },
  {
   "cell_type": "code",
   "execution_count": null,
   "metadata": {},
   "outputs": [],
   "source": [
    "# Plot scores on each trial for nested and non-nested CV\n",
    "plt.figure()\n",
    "plt.subplot(211)\n",
    "(non_nested_scores_line,) = plt.plot(non_nested_scores, color=\"r\")\n",
    "(nested_line,) = plt.plot(nested_scores, color=\"b\")\n",
    "plt.ylabel(\"score\", fontsize=\"14\")\n",
    "plt.legend(\n",
    "    [non_nested_scores_line, nested_line],\n",
    "    [\"Non-Nested CV\", \"Nested CV\"],\n",
    "    bbox_to_anchor=(0, 0.4, 0.5, 0),\n",
    ")\n",
    "plt.title(\n",
    "    \"Non-Nested and Nested Cross Validation on MONK Dataset\",\n",
    "    x=0.5,\n",
    "    y=1.1,\n",
    "    fontsize=\"15\",\n",
    ")\n",
    "\n",
    "# Plot bar chart of the difference.\n",
    "plt.subplot(212)\n",
    "difference_plot = plt.bar(range(NUM_TRIALS), score_difference)\n",
    "plt.xlabel(\"Individual Trial #\")\n",
    "plt.legend(\n",
    "    [difference_plot],\n",
    "    [\"Non-Nested CV - Nested CV Score\"],\n",
    "    bbox_to_anchor=(0, 1, 0.8, 0),\n",
    ")\n",
    "plt.ylabel(\"score difference\", fontsize=\"14\")\n",
    "\n",
    "plt.show()"
   ]
  },
  {
   "cell_type": "markdown",
   "metadata": {},
   "source": [
    "### 2. Linear SVM "
   ]
  },
  {
   "cell_type": "markdown",
   "metadata": {},
   "source": [
    "For linear SVM we need to take max two features to run the algorithm"
   ]
  },
  {
   "cell_type": "markdown",
   "metadata": {},
   "source": [
    "#### Feature Selection"
   ]
  },
  {
   "cell_type": "markdown",
   "metadata": {},
   "source": [
    "##### Univariate Feature Selection"
   ]
  },
  {
   "cell_type": "code",
   "execution_count": null,
   "metadata": {},
   "outputs": [],
   "source": [
    "sel = SelectKBest(k=2)\n",
    "X_train1_sel = sel.fit_transform(X_train1_mm, y_train1)\n",
    "X_test1_sel = sel.fit_transform(X_test1_mm, y_test1)\n",
    "X_train1_sel.shape, X_test1_sel.shape"
   ]
  },
  {
   "cell_type": "code",
   "execution_count": null,
   "metadata": {},
   "outputs": [],
   "source": [
    "X_train_sel_df = pd.DataFrame({'x':X_train1_sel[:,0], 'y':X_train1_sel[:,1] ,'class':y_train1})\n",
    "X_train_sel_df"
   ]
  },
  {
   "cell_type": "markdown",
   "metadata": {},
   "source": [
    "##### PCA"
   ]
  },
  {
   "cell_type": "code",
   "execution_count": null,
   "metadata": {},
   "outputs": [],
   "source": [
    "pca = PCA(n_components=2, random_state=42)\n",
    "pca.fit(X_train1)\n",
    "X_train1_pca = pca.transform(X_train1)\n",
    "X_test1_pca = pca.transform(X_test1)"
   ]
  },
  {
   "cell_type": "markdown",
   "metadata": {},
   "source": [
    "#### linearSVC  (?sucks)"
   ]
  },
  {
   "cell_type": "code",
   "execution_count": null,
   "metadata": {},
   "outputs": [],
   "source": [
    "#Create a svm Classifier\n",
    "clf = svm.LinearSVC(random_state=42)\n",
    "#clf = svm.SVC(kernel='linear',random_state=42)\n",
    "\n",
    "clf.fit(X_train1_sel, y_train1)\n",
    "y_pred1 = clf.predict(X_test1_sel)\n",
    "\n",
    "print('Accuracy %s' % accuracy_score(y_test1, y_pred1))\n",
    "print('F1-score %s' % f1_score(y_test1, y_pred1, average=None))\n",
    "print(classification_report(y_test1, y_pred1))"
   ]
  },
  {
   "cell_type": "code",
   "execution_count": null,
   "metadata": {},
   "outputs": [],
   "source": [
    "#Create a svm Classifier\n",
    "clf = svm.LinearSVC(random_state=42)\n",
    "\n",
    "clf.fit(X_train1_pca, y_train1)\n",
    "y_pred1 = clf.predict(X_test1_pca)\n",
    "\n",
    "print('Accuracy %s' % accuracy_score(y_test1, y_pred1))\n",
    "print('F1-score %s' % f1_score(y_test1, y_pred1, average=None))\n",
    "print(classification_report(y_test1, y_pred1))"
   ]
  },
  {
   "cell_type": "code",
   "execution_count": null,
   "metadata": {},
   "outputs": [],
   "source": [
    "#Create a svm Classifier\n",
    "clf = svm.LinearSVC(random_state=42)\n",
    "\n",
    "# Grid Search\n",
    "param_grid = [\n",
    "  {'C': [0.0001, 0.001, 0.01, 0.1, 1, 10, 100, 1000]},\n",
    "  #{'C': [1, 10, 100, 1000], 'gamma': [0.001, 0.0001]},\n",
    "]\n",
    "\n",
    "grid_search = GridSearchCV(clf, param_grid=param_grid, cv=5, n_jobs=20)\n",
    "grid_search.fit(X_train1_sel, y_train1)\n",
    "clf = grid_search.best_estimator_\n",
    "\n",
    "y_pred1 = clf.predict(X_test1_sel)\n",
    "#y_score1 = clf.predict_proba(X_test1)\n",
    "\n",
    "print('Accuracy %s' % accuracy_score(y_test1, y_pred1))\n",
    "print('F1-score %s' % f1_score(y_test1, y_pred1, average=None))\n",
    "print(classification_report(y_test1, y_pred1))"
   ]
  },
  {
   "cell_type": "code",
   "execution_count": null,
   "metadata": {},
   "outputs": [],
   "source": [
    "#Create a svm Classifier\n",
    "clf = svm.LinearSVC(random_state=42)\n",
    "\n",
    "# Grid Search\n",
    "param_grid = [\n",
    "  {'C': [0.0001, 0.001, 0.01, 0.1, 1, 10, 100, 1000]},\n",
    "  #{'C': [1, 10, 100, 1000], 'gamma': [0.001, 0.0001]},\n",
    "]\n",
    "\n",
    "grid_search = GridSearchCV(clf, param_grid=param_grid, cv=5, n_jobs=50) \n",
    "# cv : int, cross-validation generator or an iterable, default=None\n",
    "#         Determines the cross-validation splitting strategy.\n",
    "\n",
    "grid_search.fit(X_train1_st, y_train1)\n",
    "clf = grid_search.best_estimator_\n",
    "\n",
    "y_pred1 = clf.predict(X_test1_st)\n",
    "#y_score1 = clf.predict_proba(X_test1)\n",
    "\n",
    "print('Accuracy %s' % accuracy_score(y_test1, y_pred1))\n",
    "print('F1-score %s' % f1_score(y_test1, y_pred1, average=None))\n",
    "print(classification_report(y_test1, y_pred1))"
   ]
  },
  {
   "cell_type": "code",
   "execution_count": null,
   "metadata": {},
   "outputs": [],
   "source": [
    "clf"
   ]
  },
  {
   "cell_type": "code",
   "execution_count": null,
   "metadata": {},
   "outputs": [],
   "source": [
    "#Create a svm Classifier\n",
    "clf = svm.LinearSVC(random_state=42)\n",
    "\n",
    "# Grid Search\n",
    "param_grid = [\n",
    "  {'C': [0.0001, 0.001, 0.01, 0.1, 1, 10, 100, 1000]},\n",
    "  #{'C': [1, 10, 100, 1000], 'gamma': [0.001, 0.0001]},\n",
    "]\n",
    "\n",
    "grid_search = GridSearchCV(clf, param_grid=param_grid, cv=5, n_jobs=50) \n",
    "# cv : int, cross-validation generator or an iterable, default=None\n",
    "#         Determines the cross-validation splitting strategy.\n",
    "\n",
    "grid_search.fit(X_train1_mm, y_train1)\n",
    "clf = grid_search.best_estimator_\n",
    "\n",
    "y_pred1 = clf.predict(X_test1_mm)\n",
    "#y_score1 = clf.predict_proba(X_test1)\n",
    "\n",
    "print('Accuracy %s' % accuracy_score(y_test1, y_pred1))\n",
    "print('F1-score %s' % f1_score(y_test1, y_pred1, average=None))\n",
    "print(classification_report(y_test1, y_pred1))"
   ]
  },
  {
   "cell_type": "code",
   "execution_count": null,
   "metadata": {},
   "outputs": [],
   "source": [
    "lc3_viz = LearningCurve(clf, scoring='accuracy')\n",
    "lc3_viz.fit(X_train1_mm, y_train1)\n",
    "lc3_viz.show()"
   ]
  },
  {
   "cell_type": "code",
   "execution_count": null,
   "metadata": {},
   "outputs": [],
   "source": []
  },
  {
   "cell_type": "code",
   "execution_count": null,
   "metadata": {},
   "outputs": [],
   "source": [
    "X, y = make_blobs(n_samples=40, centers=2, random_state=42)\n",
    "#X = X_train1\n",
    "#y = y_train1\n",
    "\n",
    "plt.figure(figsize=(10, 5))\n",
    "for i, C in enumerate([1, 100]):\n",
    "    # \"hinge\" is the standard SVM loss\n",
    "    clf = svm.LinearSVC(C=C, loss=\"hinge\", random_state=42).fit(X, y)\n",
    "    # obtain the support vectors through the decision function\n",
    "    decision_function = clf.decision_function(X)\n",
    "    # we can also calculate the decision function manually\n",
    "    # decision_function = np.dot(X, clf.coef_[0]) + clf.intercept_[0]\n",
    "    support_vector_indices = np.where((2 * y - 1) * decision_function <= 1)[0]\n",
    "    support_vectors = X[support_vector_indices]\n",
    "\n",
    "    plt.subplot(1, 2, i + 1)\n",
    "    plt.scatter(X[:, 0], X[:, 1], c=y, s=30, cmap=plt.cm.Paired)\n",
    "    ax = plt.gca()\n",
    "    xlim = ax.get_xlim()\n",
    "    ylim = ax.get_ylim()\n",
    "    xx, yy = np.meshgrid(np.linspace(xlim[0], xlim[1], 50),\n",
    "                         np.linspace(ylim[0], ylim[1], 50))\n",
    "    Z = clf.decision_function(np.c_[xx.ravel(), yy.ravel()])\n",
    "    Z = Z.reshape(xx.shape)\n",
    "    plt.contour(xx, yy, Z, colors='k', levels=[-1, 0, 1], alpha=0.5,\n",
    "                linestyles=['--', '-', '--'])\n",
    "    plt.scatter(support_vectors[:, 0], support_vectors[:, 1], s=100,\n",
    "                linewidth=1, facecolors='none', edgecolors='k')\n",
    "    plt.title(\"C=\" + str(C))\n",
    "    #plt.scatter(clf.coef_[:, 0] + clf.intercept_, clf.coef_[:, 1] + clf.intercept_)\n",
    "plt.tight_layout()\n",
    "plt.show()"
   ]
  },
  {
   "cell_type": "code",
   "execution_count": null,
   "metadata": {},
   "outputs": [],
   "source": []
  },
  {
   "cell_type": "code",
   "execution_count": null,
   "metadata": {},
   "outputs": [],
   "source": []
  },
  {
   "cell_type": "markdown",
   "metadata": {},
   "source": [
    "### 3. SVM with Linear Kernel"
   ]
  },
  {
   "cell_type": "code",
   "execution_count": null,
   "metadata": {},
   "outputs": [],
   "source": [
    "#Create a svm Classifier\n",
    "clf = svm.SVC(random_state=42, kernel='linear')\n",
    "\n",
    "# Grid Search\n",
    "param_grid = [\n",
    "  {'C': [0.001, 0.01, 0.05, 0.1, 0.5, 1, 10, 100]},\n",
    "]\n",
    "\n",
    "grid_search = GridSearchCV(clf, param_grid=param_grid, cv=10, n_jobs=50)\n",
    "grid_search.fit(X_train1, y_train1)\n",
    "grid_search.best_estimator_"
   ]
  },
  {
   "cell_type": "code",
   "execution_count": null,
   "metadata": {},
   "outputs": [],
   "source": [
    "#Create a svm Classifier\n",
    "clf = svm.SVC(random_state=42, kernel='linear', C=0.05)\n",
    "\n",
    "clf.fit(X_train1, y_train1)\n",
    "\n",
    "y_pred1 = clf.predict(X_test1)\n",
    "#y_score1 = clf.predict_proba(X_test1)\n",
    "\n",
    "print('Accuracy %s' % accuracy_score(y_test1, y_pred1))\n",
    "print('F1-score %s' % f1_score(y_test1, y_pred1, average=None))\n",
    "print(classification_report(y_test1, y_pred1))"
   ]
  },
  {
   "cell_type": "code",
   "execution_count": null,
   "metadata": {},
   "outputs": [],
   "source": [
    "lc_1 = LearningCurve(clf, scoring='accuracy')\n",
    "lc_1.fit(X_train1, y_train1)\n",
    "lc_1.show()"
   ]
  },
  {
   "cell_type": "markdown",
   "metadata": {},
   "source": [
    "### Model Evaluation"
   ]
  },
  {
   "cell_type": "code",
   "execution_count": null,
   "metadata": {},
   "outputs": [],
   "source": [
    "#from scikitplot.metrics import plot_roc\n",
    "#from scikitplot.metrics import plot_precision_recall\n",
    "#from scikitplot.metrics import plot_cumulative_gain\n",
    "#from scikitplot.metrics import plot_lift_curve"
   ]
  },
  {
   "cell_type": "code",
   "execution_count": null,
   "metadata": {},
   "outputs": [],
   "source": []
  },
  {
   "cell_type": "markdown",
   "metadata": {},
   "source": [
    "#### Confusion Matrix"
   ]
  },
  {
   "cell_type": "code",
   "execution_count": null,
   "metadata": {},
   "outputs": [],
   "source": [
    "cf = confusion_matrix(y_test1, y_pred1)\n",
    "cf"
   ]
  },
  {
   "cell_type": "code",
   "execution_count": null,
   "metadata": {},
   "outputs": [],
   "source": [
    "activities = ['0', '1']\n",
    "\n",
    "ax = plt.subplots(figsize = (12,10))\n",
    "ax = sns.heatmap(cf, annot=True, fmt=\"d\", annot_kws={\"size\": 20}, linewidths=4, cmap=\"Blues\")\n",
    "ax.set_xticklabels(activities, fontsize=10)\n",
    "ax.set_xlabel('Predicted Class', fontsize=14)\n",
    "ax.set_yticklabels(activities, fontsize=10)\n",
    "ax.set_ylabel('True Class', fontsize=14)\n",
    "\n",
    "plt.show()"
   ]
  },
  {
   "cell_type": "code",
   "execution_count": null,
   "metadata": {},
   "outputs": [],
   "source": []
  },
  {
   "cell_type": "markdown",
   "metadata": {},
   "source": [
    "## ML-CUP22"
   ]
  },
  {
   "cell_type": "markdown",
   "metadata": {},
   "source": [
    "### Read datasets"
   ]
  },
  {
   "cell_type": "code",
   "execution_count": 8,
   "metadata": {},
   "outputs": [],
   "source": [
    "X_train_cup, y_train_cup_1, y_train_cup_2  = load_data(csv_names['cup'][0], 'cup')\n",
    "X_test_cup, y_test_cup_1, y_test_cup_2  = load_data(csv_names['cup'][1], 'cup')\n",
    "\n",
    "X_train_int_cup, y_train_int_cup_1, y_train_int_cup_2  = load_data(csv_names['internal_cup'][0], 'cup')\n",
    "X_test_int_cup, y_test_int_cup_1, y_test_int_cup_2  = load_data(csv_names['internal_cup'][1], 'cup')"
   ]
  },
  {
   "cell_type": "code",
   "execution_count": 9,
   "metadata": {},
   "outputs": [
    {
     "name": "stdout",
     "output_type": "stream",
     "text": [
      "(1492, 9) (1492, 1) (1492, 1)\n",
      "(529, 9) (529, 0) (529, 0)\n",
      "(1194, 9) (1194, 1) (1194, 1)\n",
      "(298, 9) (298, 1) (298, 1)\n"
     ]
    }
   ],
   "source": [
    "print(X_train_cup.shape, y_train_cup_1.shape, y_train_cup_2.shape) \n",
    "print(X_test_cup.shape, y_test_cup_1.shape, y_test_cup_2.shape)\n",
    "print(X_train_int_cup.shape, y_train_int_cup_1.shape, y_train_int_cup_2.shape)\n",
    "print(X_test_int_cup.shape, y_test_int_cup_1.shape, y_test_int_cup_2.shape)"
   ]
  },
  {
   "attachments": {},
   "cell_type": "markdown",
   "metadata": {},
   "source": [
    "### Scaling"
   ]
  },
  {
   "cell_type": "code",
   "execution_count": 10,
   "metadata": {},
   "outputs": [],
   "source": [
    "minmax = StandardScaler()\n",
    "X_train_cup_scaled, X_test_cup_scaled = data_scaler(X_train_int_cup, X_test_int_cup, minmax)\n",
    "#minmax = MinMaxScaler()\n",
    "#y_train_cup1_scaled, y_test_cup1_scaled = data_scaler(y_train_int_cup_1, y_test_int_cup_1, minmax)\n",
    "#minmax = MinMaxScaler()\n",
    "#y_train_cup2_scaled, y_test_cup2_scaled = data_scaler(y_train_int_cup_2, y_test_int_cup_2, minmax)"
   ]
  },
  {
   "cell_type": "code",
   "execution_count": 11,
   "metadata": {},
   "outputs": [
    {
     "data": {
      "text/plain": [
       "((1194, 9), (298, 9))"
      ]
     },
     "execution_count": 11,
     "metadata": {},
     "output_type": "execute_result"
    }
   ],
   "source": [
    "X_train_cup_scaled.shape, X_test_cup_scaled.shape"
   ]
  },
  {
   "cell_type": "code",
   "execution_count": 12,
   "metadata": {},
   "outputs": [
    {
     "data": {
      "text/plain": [
       "array([[-1.75465767,  1.52632634, -1.09040812, ..., -0.03000727,\n",
       "         0.28635912, -1.27334492],\n",
       "       [-0.94508875,  0.70804759, -0.74396566, ..., -0.68803179,\n",
       "         1.47525578, -1.13824079],\n",
       "       [ 1.07201796, -1.67220704,  0.43855985, ..., -0.93543641,\n",
       "        -1.4018833 ,  0.54716499],\n",
       "       ...,\n",
       "       [ 1.51448542, -1.99134622,  0.17665589, ..., -1.46384714,\n",
       "        -1.42907601, -0.09833872],\n",
       "       [ 0.1578718 ,  0.14978996,  2.15280454, ...,  0.36838859,\n",
       "         0.27243016,  0.04115403],\n",
       "       [-1.75099708,  0.88572018, -0.59256539, ..., -0.21391298,\n",
       "         0.33897976, -1.42525419]])"
      ]
     },
     "execution_count": 12,
     "metadata": {},
     "output_type": "execute_result"
    }
   ],
   "source": [
    "X_train_cup_scaled"
   ]
  },
  {
   "cell_type": "code",
   "execution_count": 13,
   "metadata": {},
   "outputs": [],
   "source": [
    "# the final sets scaled\n",
    "st_scaler = StandardScaler()\n",
    "X_tr_scaled, X_ts_scaled = data_scaler(X_train_cup, X_test_cup, st_scaler)\n",
    "\n",
    "#minmax = StandardScaler()\n",
    "#y_tr1_scaled = minmax.fit_transform(y_train_cup_1)\n",
    "#y_tr2_scaled = minmax.fit_transform(y_train_cup_2)"
   ]
  },
  {
   "attachments": {},
   "cell_type": "markdown",
   "metadata": {},
   "source": [
    "### SVR"
   ]
  },
  {
   "cell_type": "code",
   "execution_count": 14,
   "metadata": {},
   "outputs": [],
   "source": [
    "from sklearn.model_selection import StratifiedKFold, KFold, StratifiedGroupKFold\n",
    "\n",
    "from sklearn.metrics import * \n",
    "from sklearn.metrics import mean_absolute_error, mean_squared_error, r2_score\n",
    "\n",
    "def mee(y_true, y_pred):\n",
    "    return np.mean(np.sqrt(np.sum(np.square(y_true - y_pred), axis=1)))"
   ]
  },
  {
   "cell_type": "code",
   "execution_count": 19,
   "metadata": {},
   "outputs": [],
   "source": [
    "def ParameterTune_Regression(X_train, y_train, X_test, y_test):\n",
    "  #Create a svm Regressor\n",
    "  reg = svm.SVR()\n",
    "\n",
    "  # Grid Search\n",
    "  param_grid = [\n",
    "    {\n",
    "    'C': [0.01, 0.1, 0.5, 1.0, 10.0]\n",
    "    ,'kernel': ['linear', 'rbf', 'poly']\n",
    "    #,'gamma': ['scale', 'auto']  \n",
    "    ,'gamma': [0.1, 0.5, 1]\n",
    "    ,'epsilon': [0.1,0.2,0.5,0.3]\n",
    "    }\n",
    "    #,\n",
    "    #{\n",
    "    #'C': [0.0001, 0.001, 0.01, 0.1, 0.5, 1.0, 10.0, 100.0, 1000.0]\n",
    "    #,'kernel': ['linear', 'rbf'] # , 'poly' --> takes a lot of execution time with many other params\n",
    "    #,'gamma': [0.001, 0.01, 0.05, 0.1, 0.5, 1, 10, 100, 1000]\n",
    "    #,'epsilon': [0.1,0.2,0.5,0.3]\n",
    "    #}\n",
    "  ]\n",
    "\n",
    "  cv = KFold(n_splits=5, shuffle=True, random_state=42)\n",
    "  MEE = make_scorer(mee, greater_is_better=False)\n",
    "\n",
    "  grid_search = GridSearchCV(reg, param_grid=param_grid, cv=cv, verbose=4, n_jobs=1, refit=True, scoring=MEE) # n_jobs=-1 --> sets to num. of processors available \n",
    "  model = grid_search.fit(X_train, y_train)\n",
    "\n",
    "  #y_pred = model.predict(X_train)\n",
    "  \n",
    "  val_score = model.best_score_\n",
    "\n",
    "  return model, val_score #, learning_curve #, accuracy, f1_score, classification_rep"
   ]
  },
  {
   "attachments": {},
   "cell_type": "markdown",
   "metadata": {},
   "source": [
    "#### for 1st label"
   ]
  },
  {
   "cell_type": "code",
   "execution_count": 17,
   "metadata": {},
   "outputs": [
    {
     "data": {
      "text/plain": [
       "array([[22.222923],\n",
       "       [18.88552 ],\n",
       "       [ 4.587627],\n",
       "       ...,\n",
       "       [ 4.982587],\n",
       "       [10.887319],\n",
       "       [18.453878]])"
      ]
     },
     "execution_count": 17,
     "metadata": {},
     "output_type": "execute_result"
    }
   ],
   "source": [
    "y_train_int_cup_1"
   ]
  },
  {
   "cell_type": "code",
   "execution_count": null,
   "metadata": {},
   "outputs": [],
   "source": [
    "model, score = ParameterTune_Regression(X_train_cup_scaled, y_train_int_cup_1, X_test_cup_scaled, y_test_int_cup_1)"
   ]
  },
  {
   "cell_type": "code",
   "execution_count": null,
   "metadata": {},
   "outputs": [],
   "source": [
    "print('Validation MEE: ', score)"
   ]
  },
  {
   "cell_type": "code",
   "execution_count": 47,
   "metadata": {},
   "outputs": [
    {
     "data": {
      "text/html": [
       "<style>#sk-container-id-5 {color: black;background-color: white;}#sk-container-id-5 pre{padding: 0;}#sk-container-id-5 div.sk-toggleable {background-color: white;}#sk-container-id-5 label.sk-toggleable__label {cursor: pointer;display: block;width: 100%;margin-bottom: 0;padding: 0.3em;box-sizing: border-box;text-align: center;}#sk-container-id-5 label.sk-toggleable__label-arrow:before {content: \"▸\";float: left;margin-right: 0.25em;color: #696969;}#sk-container-id-5 label.sk-toggleable__label-arrow:hover:before {color: black;}#sk-container-id-5 div.sk-estimator:hover label.sk-toggleable__label-arrow:before {color: black;}#sk-container-id-5 div.sk-toggleable__content {max-height: 0;max-width: 0;overflow: hidden;text-align: left;background-color: #f0f8ff;}#sk-container-id-5 div.sk-toggleable__content pre {margin: 0.2em;color: black;border-radius: 0.25em;background-color: #f0f8ff;}#sk-container-id-5 input.sk-toggleable__control:checked~div.sk-toggleable__content {max-height: 200px;max-width: 100%;overflow: auto;}#sk-container-id-5 input.sk-toggleable__control:checked~label.sk-toggleable__label-arrow:before {content: \"▾\";}#sk-container-id-5 div.sk-estimator input.sk-toggleable__control:checked~label.sk-toggleable__label {background-color: #d4ebff;}#sk-container-id-5 div.sk-label input.sk-toggleable__control:checked~label.sk-toggleable__label {background-color: #d4ebff;}#sk-container-id-5 input.sk-hidden--visually {border: 0;clip: rect(1px 1px 1px 1px);clip: rect(1px, 1px, 1px, 1px);height: 1px;margin: -1px;overflow: hidden;padding: 0;position: absolute;width: 1px;}#sk-container-id-5 div.sk-estimator {font-family: monospace;background-color: #f0f8ff;border: 1px dotted black;border-radius: 0.25em;box-sizing: border-box;margin-bottom: 0.5em;}#sk-container-id-5 div.sk-estimator:hover {background-color: #d4ebff;}#sk-container-id-5 div.sk-parallel-item::after {content: \"\";width: 100%;border-bottom: 1px solid gray;flex-grow: 1;}#sk-container-id-5 div.sk-label:hover label.sk-toggleable__label {background-color: #d4ebff;}#sk-container-id-5 div.sk-serial::before {content: \"\";position: absolute;border-left: 1px solid gray;box-sizing: border-box;top: 0;bottom: 0;left: 50%;z-index: 0;}#sk-container-id-5 div.sk-serial {display: flex;flex-direction: column;align-items: center;background-color: white;padding-right: 0.2em;padding-left: 0.2em;position: relative;}#sk-container-id-5 div.sk-item {position: relative;z-index: 1;}#sk-container-id-5 div.sk-parallel {display: flex;align-items: stretch;justify-content: center;background-color: white;position: relative;}#sk-container-id-5 div.sk-item::before, #sk-container-id-5 div.sk-parallel-item::before {content: \"\";position: absolute;border-left: 1px solid gray;box-sizing: border-box;top: 0;bottom: 0;left: 50%;z-index: -1;}#sk-container-id-5 div.sk-parallel-item {display: flex;flex-direction: column;z-index: 1;position: relative;background-color: white;}#sk-container-id-5 div.sk-parallel-item:first-child::after {align-self: flex-end;width: 50%;}#sk-container-id-5 div.sk-parallel-item:last-child::after {align-self: flex-start;width: 50%;}#sk-container-id-5 div.sk-parallel-item:only-child::after {width: 0;}#sk-container-id-5 div.sk-dashed-wrapped {border: 1px dashed gray;margin: 0 0.4em 0.5em 0.4em;box-sizing: border-box;padding-bottom: 0.4em;background-color: white;}#sk-container-id-5 div.sk-label label {font-family: monospace;font-weight: bold;display: inline-block;line-height: 1.2em;}#sk-container-id-5 div.sk-label-container {text-align: center;}#sk-container-id-5 div.sk-container {/* jupyter's `normalize.less` sets `[hidden] { display: none; }` but bootstrap.min.css set `[hidden] { display: none !important; }` so we also need the `!important` here to be able to override the default hidden behavior on the sphinx rendered scikit-learn.org. See: https://github.com/scikit-learn/scikit-learn/issues/21755 */display: inline-block !important;position: relative;}#sk-container-id-5 div.sk-text-repr-fallback {display: none;}</style><div id=\"sk-container-id-5\" class=\"sk-top-container\"><div class=\"sk-text-repr-fallback\"><pre>SVR(C=0.5, gamma=1)</pre><b>In a Jupyter environment, please rerun this cell to show the HTML representation or trust the notebook. <br />On GitHub, the HTML representation is unable to render, please try loading this page with nbviewer.org.</b></div><div class=\"sk-container\" hidden><div class=\"sk-item\"><div class=\"sk-estimator sk-toggleable\"><input class=\"sk-toggleable__control sk-hidden--visually\" id=\"sk-estimator-id-7\" type=\"checkbox\" checked><label for=\"sk-estimator-id-7\" class=\"sk-toggleable__label sk-toggleable__label-arrow\">SVR</label><div class=\"sk-toggleable__content\"><pre>SVR(C=0.5, gamma=1)</pre></div></div></div></div></div>"
      ],
      "text/plain": [
       "SVR(C=0.5, gamma=1)"
      ]
     },
     "execution_count": 47,
     "metadata": {},
     "output_type": "execute_result"
    }
   ],
   "source": [
    "model.best_estimator_"
   ]
  },
  {
   "cell_type": "code",
   "execution_count": 50,
   "metadata": {},
   "outputs": [
    {
     "name": "stdout",
     "output_type": "stream",
     "text": [
      "Fitting 5 folds for each of 828 candidates, totalling 4140 fits\n"
     ]
    }
   ],
   "source": [
    "# retraining on whole train set  ??\n",
    "model.fit(X_tr_scaled, y_train_cup_1)\n",
    "y_pred1 = model.predict(X_ts_scaled)\n"
   ]
  },
  {
   "cell_type": "code",
   "execution_count": 62,
   "metadata": {},
   "outputs": [],
   "source": [
    "## Checking the score for all parameters\n",
    "#print(\"Grid scores on training set:\")\n",
    "#means = grid.cv_results_['mean_test_score']\n",
    "#stds = grid.cv_results_['std_test_score']\n",
    "#for mean, std, params in zip(means, stds, grid.cv_results_['params']):\n",
    "#    print(\"%0.3f (+/-%0.03f) for %r\"% (mean, std * 2, params))"
   ]
  },
  {
   "attachments": {},
   "cell_type": "markdown",
   "metadata": {},
   "source": [
    "#### for 2nd label"
   ]
  },
  {
   "cell_type": "code",
   "execution_count": 63,
   "metadata": {},
   "outputs": [
    {
     "name": "stdout",
     "output_type": "stream",
     "text": [
      "Fitting 5 folds for each of 828 candidates, totalling 4140 fits\n",
      "MEE:  5.22063356692569\n",
      "MAE:  0.06713724495166341\n",
      "MSE:  0.007532855513600758\n",
      "R2:  0.8547046143263486\n"
     ]
    }
   ],
   "source": [
    "model2, score2 = ParameterTune_Regression(X_train_cup_scaled, y_train_int_cup_2, X_test_cup_scaled,  y_train_int_cup_2)"
   ]
  },
  {
   "cell_type": "code",
   "execution_count": null,
   "metadata": {},
   "outputs": [],
   "source": [
    "print('Validation MEE: ', score2)"
   ]
  },
  {
   "cell_type": "code",
   "execution_count": 65,
   "metadata": {},
   "outputs": [
    {
     "data": {
      "text/html": [
       "<style>#sk-container-id-3 {color: black;background-color: white;}#sk-container-id-3 pre{padding: 0;}#sk-container-id-3 div.sk-toggleable {background-color: white;}#sk-container-id-3 label.sk-toggleable__label {cursor: pointer;display: block;width: 100%;margin-bottom: 0;padding: 0.3em;box-sizing: border-box;text-align: center;}#sk-container-id-3 label.sk-toggleable__label-arrow:before {content: \"▸\";float: left;margin-right: 0.25em;color: #696969;}#sk-container-id-3 label.sk-toggleable__label-arrow:hover:before {color: black;}#sk-container-id-3 div.sk-estimator:hover label.sk-toggleable__label-arrow:before {color: black;}#sk-container-id-3 div.sk-toggleable__content {max-height: 0;max-width: 0;overflow: hidden;text-align: left;background-color: #f0f8ff;}#sk-container-id-3 div.sk-toggleable__content pre {margin: 0.2em;color: black;border-radius: 0.25em;background-color: #f0f8ff;}#sk-container-id-3 input.sk-toggleable__control:checked~div.sk-toggleable__content {max-height: 200px;max-width: 100%;overflow: auto;}#sk-container-id-3 input.sk-toggleable__control:checked~label.sk-toggleable__label-arrow:before {content: \"▾\";}#sk-container-id-3 div.sk-estimator input.sk-toggleable__control:checked~label.sk-toggleable__label {background-color: #d4ebff;}#sk-container-id-3 div.sk-label input.sk-toggleable__control:checked~label.sk-toggleable__label {background-color: #d4ebff;}#sk-container-id-3 input.sk-hidden--visually {border: 0;clip: rect(1px 1px 1px 1px);clip: rect(1px, 1px, 1px, 1px);height: 1px;margin: -1px;overflow: hidden;padding: 0;position: absolute;width: 1px;}#sk-container-id-3 div.sk-estimator {font-family: monospace;background-color: #f0f8ff;border: 1px dotted black;border-radius: 0.25em;box-sizing: border-box;margin-bottom: 0.5em;}#sk-container-id-3 div.sk-estimator:hover {background-color: #d4ebff;}#sk-container-id-3 div.sk-parallel-item::after {content: \"\";width: 100%;border-bottom: 1px solid gray;flex-grow: 1;}#sk-container-id-3 div.sk-label:hover label.sk-toggleable__label {background-color: #d4ebff;}#sk-container-id-3 div.sk-serial::before {content: \"\";position: absolute;border-left: 1px solid gray;box-sizing: border-box;top: 0;bottom: 0;left: 50%;z-index: 0;}#sk-container-id-3 div.sk-serial {display: flex;flex-direction: column;align-items: center;background-color: white;padding-right: 0.2em;padding-left: 0.2em;position: relative;}#sk-container-id-3 div.sk-item {position: relative;z-index: 1;}#sk-container-id-3 div.sk-parallel {display: flex;align-items: stretch;justify-content: center;background-color: white;position: relative;}#sk-container-id-3 div.sk-item::before, #sk-container-id-3 div.sk-parallel-item::before {content: \"\";position: absolute;border-left: 1px solid gray;box-sizing: border-box;top: 0;bottom: 0;left: 50%;z-index: -1;}#sk-container-id-3 div.sk-parallel-item {display: flex;flex-direction: column;z-index: 1;position: relative;background-color: white;}#sk-container-id-3 div.sk-parallel-item:first-child::after {align-self: flex-end;width: 50%;}#sk-container-id-3 div.sk-parallel-item:last-child::after {align-self: flex-start;width: 50%;}#sk-container-id-3 div.sk-parallel-item:only-child::after {width: 0;}#sk-container-id-3 div.sk-dashed-wrapped {border: 1px dashed gray;margin: 0 0.4em 0.5em 0.4em;box-sizing: border-box;padding-bottom: 0.4em;background-color: white;}#sk-container-id-3 div.sk-label label {font-family: monospace;font-weight: bold;display: inline-block;line-height: 1.2em;}#sk-container-id-3 div.sk-label-container {text-align: center;}#sk-container-id-3 div.sk-container {/* jupyter's `normalize.less` sets `[hidden] { display: none; }` but bootstrap.min.css set `[hidden] { display: none !important; }` so we also need the `!important` here to be able to override the default hidden behavior on the sphinx rendered scikit-learn.org. See: https://github.com/scikit-learn/scikit-learn/issues/21755 */display: inline-block !important;position: relative;}#sk-container-id-3 div.sk-text-repr-fallback {display: none;}</style><div id=\"sk-container-id-3\" class=\"sk-top-container\"><div class=\"sk-text-repr-fallback\"><pre>SVR(gamma=1)</pre><b>In a Jupyter environment, please rerun this cell to show the HTML representation or trust the notebook. <br />On GitHub, the HTML representation is unable to render, please try loading this page with nbviewer.org.</b></div><div class=\"sk-container\" hidden><div class=\"sk-item\"><div class=\"sk-estimator sk-toggleable\"><input class=\"sk-toggleable__control sk-hidden--visually\" id=\"sk-estimator-id-3\" type=\"checkbox\" checked><label for=\"sk-estimator-id-3\" class=\"sk-toggleable__label sk-toggleable__label-arrow\">SVR</label><div class=\"sk-toggleable__content\"><pre>SVR(gamma=1)</pre></div></div></div></div></div>"
      ],
      "text/plain": [
       "SVR(gamma=1)"
      ]
     },
     "execution_count": 65,
     "metadata": {},
     "output_type": "execute_result"
    }
   ],
   "source": [
    "model2"
   ]
  },
  {
   "cell_type": "code",
   "execution_count": null,
   "metadata": {},
   "outputs": [],
   "source": [
    "# internal train\n",
    "y_pred1 = model.predict(X_train_cup_scaled)\n",
    "y_pred2 = model2.predict(X_train_cup_scaled)\n",
    "\n",
    "y_pred = np.array([y_pred1, y_pred2])\n",
    "y_pred = y_pred.reshape(-1,2)\n",
    "\n",
    "print('MEE: ', mee(y_test, y_pred))\n",
    "print('MAE: ', mean_absolute_error(y_test, y_pred))\n",
    "print('MSE: ', mean_squared_error(y_test, y_pred))\n",
    "print('R2: ', r2_score(y_test, y_pred))"
   ]
  },
  {
   "cell_type": "code",
   "execution_count": null,
   "metadata": {},
   "outputs": [],
   "source": [
    "# Internal test \n",
    "y_pred1 = model.predict(X_test_cup_scaled)\n",
    "y_pred2 = model2.predict(X_test_cup_scaled)\n",
    "\n",
    "y_pred = np.array([y_pred1, y_pred2])\n",
    "y_pred = y_pred.reshape(-1,2)\n",
    "\n",
    "print('MEE: ', mee(y_test, y_pred))\n",
    "print('MAE: ', mean_absolute_error(y_test, y_pred))\n",
    "print('MSE: ', mean_squared_error(y_test, y_pred))\n",
    "print('R2: ', r2_score(y_test, y_pred))"
   ]
  },
  {
   "attachments": {},
   "cell_type": "markdown",
   "metadata": {},
   "source": [
    "### Saving the Model"
   ]
  },
  {
   "cell_type": "code",
   "execution_count": null,
   "metadata": {},
   "outputs": [],
   "source": [
    "from joblib import dump, load\n",
    "dump(model, '../Models/model1.joblib') \n",
    "dump(model2, '../Models/model2.joblib') "
   ]
  },
  {
   "cell_type": "code",
   "execution_count": null,
   "metadata": {},
   "outputs": [],
   "source": [
    "# loading the model \n",
    "#model1 = load('../Models/model1.joblib') "
   ]
  }
 ],
 "metadata": {
  "kernelspec": {
   "display_name": "base",
   "language": "python",
   "name": "python3"
  },
  "language_info": {
   "codemirror_mode": {
    "name": "ipython",
    "version": 3
   },
   "file_extension": ".py",
   "mimetype": "text/x-python",
   "name": "python",
   "nbconvert_exporter": "python",
   "pygments_lexer": "ipython3",
   "version": "3.9.12"
  },
  "vscode": {
   "interpreter": {
    "hash": "a077222d77dfe082b8f1dd562ad70e458ac2ab76993a0b248ab0476e32e9e8dd"
   }
  }
 },
 "nbformat": 4,
 "nbformat_minor": 2
}
