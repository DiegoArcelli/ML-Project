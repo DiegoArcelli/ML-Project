{
 "cells": [
  {
   "cell_type": "code",
   "execution_count": 244,
   "id": "7f7a9651",
   "metadata": {},
   "outputs": [],
   "source": [
    "import pandas as pd, numpy as np\n",
    "import matplotlib.pyplot as plt, seaborn as sns\n",
    "%matplotlib inline\n",
    "from sklearn.ensemble import RandomForestClassifier\n",
    "import matplotlib.pyplot as plt\n",
    "from sklearn.neighbors import KNeighborsClassifier\n",
    "from sklearn.model_selection import train_test_split\n",
    "from sklearn.datasets import load_iris\n",
    "from sklearn.pipeline import make_pipeline\n",
    "from sklearn.model_selection import GridSearchCV\n",
    "import pandas as pd\n",
    "from sklearn.metrics import confusion_matrix, ConfusionMatrixDisplay\n",
    "from sklearn.metrics import accuracy_score, f1_score, classification_report\n",
    "from sklearn.metrics import roc_curve, auc, roc_auc_score\n",
    "from sklearn.model_selection import validation_curve\n",
    "from sklearn import preprocessing"
   ]
  },
  {
   "cell_type": "code",
   "execution_count": 245,
   "id": "5ad13378",
   "metadata": {},
   "outputs": [],
   "source": [
    "# Loading data\n",
    "data = pd.read_csv('data/monks-3.train',header=None,sep=\" \")\n",
    "ts = pd.read_csv('data/monks-3.test',header=None,sep=\" \")\n",
    "\n",
    "\n",
    "data.drop(0,axis=1,inplace=True)\n",
    "data.drop(8,axis=1,inplace=True)\n",
    "\n",
    "# Create feature and target arrays\n",
    "x = data.iloc[:, 1:]\n",
    "y = data.iloc[:,0]\n",
    "\n",
    "ts.drop(0,axis=1,inplace=True)\n",
    "ts.drop(8,axis=1,inplace=True)\n",
    "\n",
    "# Create feature and target arrays\n",
    "xts = ts.iloc[:, 1:]\n",
    "yts = ts.iloc[:,0]\n"
   ]
  },
  {
   "cell_type": "code",
   "execution_count": 246,
   "id": "b185ab42",
   "metadata": {},
   "outputs": [
    {
     "name": "stdout",
     "output_type": "stream",
     "text": [
      "Fitting 20 folds for each of 2 candidates, totalling 40 fits\n"
     ]
    }
   ],
   "source": [
    "rf = RandomForestClassifier(random_state=42, n_jobs=-1)\n",
    "params = {\n",
    "    'max_depth': [3,5], # higher than 5 -> error decreases\n",
    "    'min_samples_leaf': [1], # higher than 5,10 -> error between 0.5 and 0.93\n",
    "    'n_estimators': [15], # best 15\n",
    "    'criterion' : [\"gini\"],\n",
    "    'bootstrap' : [\"True\"]\n",
    "}\n",
    "# Instantiate the grid search model\n",
    "grid_search = GridSearchCV(estimator=rf,\n",
    "                           param_grid=params,\n",
    "                           cv = 20, # higher error decreases, why ?\n",
    "                           n_jobs=-1, verbose=4, scoring=\"accuracy\", return_train_score=True)\n",
    "h = grid_search.fit(x, y)\n"
   ]
  },
  {
   "cell_type": "code",
   "execution_count": 247,
   "id": "1d2ca721",
   "metadata": {},
   "outputs": [
    {
     "name": "stdout",
     "output_type": "stream",
     "text": [
      "Best Score: 0.944\n"
     ]
    }
   ],
   "source": [
    "print('Best Score: %.3f' % grid_search.best_score_)\n"
   ]
  },
  {
   "cell_type": "code",
   "execution_count": 248,
   "id": "80329d85",
   "metadata": {},
   "outputs": [
    {
     "data": {
      "text/plain": [
       "{'bootstrap': 'True',\n",
       " 'criterion': 'gini',\n",
       " 'max_depth': 5,\n",
       " 'min_samples_leaf': 1,\n",
       " 'n_estimators': 15}"
      ]
     },
     "execution_count": 248,
     "metadata": {},
     "output_type": "execute_result"
    }
   ],
   "source": [
    "grid_search.best_params_"
   ]
  },
  {
   "cell_type": "code",
   "execution_count": 249,
   "id": "dd018847",
   "metadata": {},
   "outputs": [
    {
     "data": {
      "image/png": "[encoded data removed]",
      "text/plain": [
       "<Figure size 640x480 with 1 Axes>"
      ]
     },
     "metadata": {},
     "output_type": "display_data"
    }
   ],
   "source": [
    "validation_scores = h.cv_results_['mean_test_score']\n",
    "train_scores = h.cv_results_['mean_train_score'] \n",
    "plt.plot(validation_scores, label='validation score')\n",
    "plt.plot(train_scores, label='train score')\n",
    "plt.legend(loc='best')\n",
    "plt.show()"
   ]
  },
  {
   "cell_type": "code",
   "execution_count": 250,
   "id": "3602e610",
   "metadata": {},
   "outputs": [
    {
     "name": "stdout",
     "output_type": "stream",
     "text": [
      "Accuracy score: 0.9745370370370371\n"
     ]
    }
   ],
   "source": [
    "y_pred = grid_search.predict(xts)\n",
    "import warnings\n",
    "warnings.filterwarnings('ignore')  \n",
    "\n",
    "print(\"Accuracy score:\", accuracy_score(yts, y_pred))"
   ]
  },
  {
   "cell_type": "code",
   "execution_count": 251,
   "id": "fe39a2e9",
   "metadata": {},
   "outputs": [
    {
     "name": "stdout",
     "output_type": "stream",
     "text": [
      "              precision    recall  f1-score   support\n",
      "\n",
      "           0       0.95      1.00      0.97       204\n",
      "           1       1.00      0.96      0.98       228\n",
      "\n",
      "    accuracy                           0.97       432\n",
      "   macro avg       0.97      0.98      0.97       432\n",
      "weighted avg       0.98      0.97      0.97       432\n",
      "\n",
      "[[203   1]\n",
      " [ 10 218]]\n"
     ]
    }
   ],
   "source": [
    "print(classification_report(yts, y_pred))\n",
    "print(confusion_matrix(yts, y_pred))"
   ]
  },
  {
   "cell_type": "code",
   "execution_count": null,
   "id": "1a2b125a",
   "metadata": {},
   "outputs": [],
   "source": []
  },
  {
   "cell_type": "code",
   "execution_count": null,
   "id": "8d096305",
   "metadata": {},
   "outputs": [],
   "source": []
  }
 ],
 "metadata": {
  "kernelspec": {
   "display_name": "Python 3.9 (tensorflow)",
   "language": "python",
   "name": "tensorflow"
  },
  "language_info": {
   "codemirror_mode": {
    "name": "ipython",
    "version": 3
   },
   "file_extension": ".py",
   "mimetype": "text/x-python",
   "name": "python",
   "nbconvert_exporter": "python",
   "pygments_lexer": "ipython3",
   "version": "3.9.13"
  }
 },
 "nbformat": 4,
 "nbformat_minor": 5
}
