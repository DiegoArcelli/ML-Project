{
 "cells": [
  {
   "cell_type": "code",
   "execution_count": 573,
   "id": "006815b1",
   "metadata": {},
   "outputs": [],
   "source": [
    "# Import necessary modules,\n",
    "import matplotlib.pyplot as plt\n",
    "from sklearn.neighbors import KNeighborsClassifier\n",
    "from sklearn.model_selection import train_test_split\n",
    "from sklearn.datasets import load_iris\n",
    "from sklearn.pipeline import make_pipeline\n",
    "from sklearn.model_selection import GridSearchCV\n",
    "import pandas as pd\n",
    "import numpy as np\n",
    "from sklearn import preprocessing\n",
    "from sklearn.ensemble import RandomForestClassifier\n",
    "from sklearn import datasets\n",
    "from sklearn.preprocessing import normalize\n",
    "from sklearn.model_selection import learning_curve\n",
    "from sklearn.metrics import confusion_matrix, ConfusionMatrixDisplay\n",
    "from sklearn.metrics import accuracy_score, f1_score, classification_report\n",
    "from sklearn.metrics import roc_curve, auc, roc_auc_score\n",
    "from sklearn.model_selection import validation_curve"
   ]
  },
  {
   "cell_type": "code",
   "execution_count": 574,
   "id": "6481953c",
   "metadata": {},
   "outputs": [],
   "source": [
    "# Loading data\n",
    "monk1_train = pd.read_csv('data/monks-1.train',header=None,sep=\" \")\n",
    "monk1_test = pd.read_csv('data/monks-1.test',header=None,sep=\" \")\n",
    "monk2_train = pd.read_csv('data/monks-2.train',header=None,sep=\" \")\n",
    "monk2_test = pd.read_csv('data/monks-2.test',header=None,sep=\" \")\n",
    "monk3_train = pd.read_csv('data/monks-3.train',header=None,sep=\" \")\n",
    "monk3_test = pd.read_csv('data/monks-3.test',header=None,sep=\" \")\n",
    "ml_cup22_train = pd.read_csv('data/ML-CUP22-TR.csv', header=None)\n",
    "ml_cup22_test = pd.read_csv('data/ML-CUP22-TS.csv', header=None)"
   ]
  },
  {
   "cell_type": "code",
   "execution_count": 575,
   "id": "c475ee72",
   "metadata": {},
   "outputs": [],
   "source": [
    "train1 = monk1_train.drop(columns=0)\n",
    "columns = ['class', 'a1', 'a2', 'a3', 'a4', 'a4', 'a6', 'id']\n",
    "train1.columns = columns\n",
    "test1 = monk1_test.drop(columns=0)\n",
    "columns = ['class', 'a1', 'a2', 'a3', 'a4', 'a4', 'a6', 'id']\n",
    "test1.columns = columns\n",
    "train2 = monk2_train.drop(columns=0)\n",
    "columns = ['class', 'a1', 'a2', 'a3', 'a4', 'a4', 'a6', 'id']\n",
    "train2.columns = columns\n",
    "test2 = monk2_test.drop(columns=0)\n",
    "columns = ['class', 'a1', 'a2', 'a3', 'a4', 'a4', 'a6', 'id']\n",
    "test2.columns = columns\n",
    "train3 = monk3_train.drop(columns=0)\n",
    "columns = ['class', 'a1', 'a2', 'a3', 'a4', 'a4', 'a6', 'id']\n",
    "train3.columns = columns\n",
    "test3 = monk3_test.drop(columns=0)\n",
    "columns = ['class', 'a1', 'a2', 'a3', 'a4', 'a4', 'a6', 'id']\n",
    "test3.columns = columns"
   ]
  },
  {
   "cell_type": "code",
   "execution_count": 576,
   "id": "97cf19d4",
   "metadata": {},
   "outputs": [],
   "source": [
    "# Splitting the train set in X and y\n",
    "X_train1 = train1.copy()\n",
    "y_train1 = X_train1['class']\n",
    "X_train1 = X_train1.drop(columns='id')\n",
    "X_train1 = X_train1.drop(columns='class')\n",
    "X_train1 = X_train1.values\n",
    "# Splitting the test set in X and y\n",
    "X_test1 = test1.copy()\n",
    "y_test1 = X_test1['class']\n",
    "X_test1 = X_test1.drop(columns='id')\n",
    "X_test1 = X_test1.drop(columns='class')\n",
    "X_test1 = X_test1.values"
   ]
  },
  {
   "cell_type": "code",
   "execution_count": 577,
   "id": "509b8df5",
   "metadata": {},
   "outputs": [],
   "source": [
    "# Splitting the train set in X and y\n",
    "X_train2 = train2.copy()\n",
    "y_train2 = X_train2['class']\n",
    "X_train2 = X_train2.drop(columns='id')\n",
    "X_train2 = X_train2.drop(columns='class')\n",
    "X_train2 = X_train2.values\n",
    "# Splitting the test set in X and y\n",
    "X_test2 = test2.copy()\n",
    "y_test2 = X_test2['class']\n",
    "X_test2 = X_test2.drop(columns='id')\n",
    "X_test2 = X_test2.drop(columns='class')\n",
    "X_test2 = X_test2.values"
   ]
  },
  {
   "cell_type": "code",
   "execution_count": 578,
   "id": "80a371e4",
   "metadata": {},
   "outputs": [],
   "source": [
    "# Splitting the train set in X and y\n",
    "X_train3 = train3.copy()\n",
    "y_train3 = X_train3['class']\n",
    "X_train3 = X_train3.drop(columns='id')\n",
    "X_train3 = X_train3.drop(columns='class')\n",
    "X_train3 = X_train3.values\n",
    "# Splitting the test set in X and y\n",
    "X_test3 = test3.copy()\n",
    "y_test3 = X_test3['class']\n",
    "X_test3 = X_test3.drop(columns='id')\n",
    "X_test3 = X_test3.drop(columns='class')\n",
    "X_test3 = X_test3.values"
   ]
  },
  {
   "cell_type": "code",
   "execution_count": 579,
   "id": "d6fe3bb1",
   "metadata": {},
   "outputs": [],
   "source": [
    "pipeline = make_pipeline(KNeighborsClassifier())\n",
    "param_grid = [{\n",
    "    'kneighborsclassifier__n_neighbors': [7], # lower VL error increase\n",
    "    'kneighborsclassifier__p': [1],\n",
    "    'kneighborsclassifier__weights': ['distance'],\n",
    "    'kneighborsclassifier__algorithm': ['auto'],\n",
    "    'kneighborsclassifier__metric': ['euclidean','manhattan','cityblock'],\n",
    "    }]"
   ]
  },
  {
   "cell_type": "markdown",
   "id": "4b4cd70c",
   "metadata": {},
   "source": [
    "# Parameters config"
   ]
  },
  {
   "cell_type": "code",
   "execution_count": 580,
   "id": "b720143e",
   "metadata": {},
   "outputs": [
    {
     "data": {
      "text/plain": [
       "'\\nbrute, k=7, distance possible overfitting\\n\\nauto, k=7, distance good (VL increases, TR error=0)\\n'"
      ]
     },
     "execution_count": 580,
     "metadata": {},
     "output_type": "execute_result"
    }
   ],
   "source": [
    "'''\n",
    "brute, k=7, distance possible overfitting\n",
    "\n",
    "auto, k=7, distance, euclidian, p=1 good (VL increases, TR error=0)\n",
    "'''"
   ]
  },
  {
   "cell_type": "code",
   "execution_count": 581,
   "id": "3854a960",
   "metadata": {},
   "outputs": [],
   "source": [
    "# Create a grid search instance\n",
    "gs = GridSearchCV(pipeline, param_grid = param_grid,\n",
    "    scoring='accuracy',\n",
    "    refit=True,\n",
    "    cv=60,\n",
    "    verbose=4,\n",
    "    n_jobs=1,\n",
    "    return_train_score=True)\n"
   ]
  },
  {
   "cell_type": "code",
   "execution_count": 582,
   "id": "fc7cbc8b",
   "metadata": {},
   "outputs": [
    {
     "name": "stdout",
     "output_type": "stream",
     "text": [
      "Fitting 60 folds for each of 3 candidates, totalling 180 fits\n",
      "[CV 1/60] END kneighborsclassifier__algorithm=auto, kneighborsclassifier__metric=euclidean, kneighborsclassifier__n_neighbors=7, kneighborsclassifier__p=1, kneighborsclassifier__weights=distance;, score=(train=1.000, test=0.000) total time=   0.0s\n",
      "[CV 2/60] END kneighborsclassifier__algorithm=auto, kneighborsclassifier__metric=euclidean, kneighborsclassifier__n_neighbors=7, kneighborsclassifier__p=1, kneighborsclassifier__weights=distance;, score=(train=1.000, test=0.000) total time=   0.0s\n",
      "[CV 3/60] END kneighborsclassifier__algorithm=auto, kneighborsclassifier__metric=euclidean, kneighborsclassifier__n_neighbors=7, kneighborsclassifier__p=1, kneighborsclassifier__weights=distance;, score=(train=1.000, test=0.667) total time=   0.0s\n",
      "[CV 4/60] END kneighborsclassifier__algorithm=auto, kneighborsclassifier__metric=euclidean, kneighborsclassifier__n_neighbors=7, kneighborsclassifier__p=1, kneighborsclassifier__weights=distance;, score=(train=1.000, test=1.000) total time=   0.0s\n",
      "[CV 5/60] END kneighborsclassifier__algorithm=auto, kneighborsclassifier__metric=euclidean, kneighborsclassifier__n_neighbors=7, kneighborsclassifier__p=1, kneighborsclassifier__weights=distance;, score=(train=1.000, test=0.500) total time=   0.0s\n",
      "[CV 6/60] END kneighborsclassifier__algorithm=auto, kneighborsclassifier__metric=euclidean, kneighborsclassifier__n_neighbors=7, kneighborsclassifier__p=1, kneighborsclassifier__weights=distance;, score=(train=1.000, test=0.500) total time=   0.0s\n",
      "[CV 7/60] END kneighborsclassifier__algorithm=auto, kneighborsclassifier__metric=euclidean, kneighborsclassifier__n_neighbors=7, kneighborsclassifier__p=1, kneighborsclassifier__weights=distance;, score=(train=1.000, test=0.500) total time=   0.0s\n",
      "[CV 8/60] END kneighborsclassifier__algorithm=auto, kneighborsclassifier__metric=euclidean, kneighborsclassifier__n_neighbors=7, kneighborsclassifier__p=1, kneighborsclassifier__weights=distance;, score=(train=1.000, test=0.500) total time=   0.0s\n",
      "[CV 9/60] END kneighborsclassifier__algorithm=auto, kneighborsclassifier__metric=euclidean, kneighborsclassifier__n_neighbors=7, kneighborsclassifier__p=1, kneighborsclassifier__weights=distance;, score=(train=1.000, test=1.000) total time=   0.0s\n",
      "[CV 10/60] END kneighborsclassifier__algorithm=auto, kneighborsclassifier__metric=euclidean, kneighborsclassifier__n_neighbors=7, kneighborsclassifier__p=1, kneighborsclassifier__weights=distance;, score=(train=1.000, test=1.000) total time=   0.0s\n",
      "[CV 11/60] END kneighborsclassifier__algorithm=auto, kneighborsclassifier__metric=euclidean, kneighborsclassifier__n_neighbors=7, kneighborsclassifier__p=1, kneighborsclassifier__weights=distance;, score=(train=1.000, test=1.000) total time=   0.0s\n",
      "[CV 12/60] END kneighborsclassifier__algorithm=auto, kneighborsclassifier__metric=euclidean, kneighborsclassifier__n_neighbors=7, kneighborsclassifier__p=1, kneighborsclassifier__weights=distance;, score=(train=1.000, test=0.500) total time=   0.0s\n",
      "[CV 13/60] END kneighborsclassifier__algorithm=auto, kneighborsclassifier__metric=euclidean, kneighborsclassifier__n_neighbors=7, kneighborsclassifier__p=1, kneighborsclassifier__weights=distance;, score=(train=1.000, test=1.000) total time=   0.0s\n",
      "[CV 14/60] END kneighborsclassifier__algorithm=auto, kneighborsclassifier__metric=euclidean, kneighborsclassifier__n_neighbors=7, kneighborsclassifier__p=1, kneighborsclassifier__weights=distance;, score=(train=1.000, test=1.000) total time=   0.0s\n",
      "[CV 15/60] END kneighborsclassifier__algorithm=auto, kneighborsclassifier__metric=euclidean, kneighborsclassifier__n_neighbors=7, kneighborsclassifier__p=1, kneighborsclassifier__weights=distance;, score=(train=1.000, test=1.000) total time=   0.0s\n",
      "[CV 16/60] END kneighborsclassifier__algorithm=auto, kneighborsclassifier__metric=euclidean, kneighborsclassifier__n_neighbors=7, kneighborsclassifier__p=1, kneighborsclassifier__weights=distance;, score=(train=1.000, test=0.500) total time=   0.0s\n",
      "[CV 17/60] END kneighborsclassifier__algorithm=auto, kneighborsclassifier__metric=euclidean, kneighborsclassifier__n_neighbors=7, kneighborsclassifier__p=1, kneighborsclassifier__weights=distance;, score=(train=1.000, test=0.500) total time=   0.0s\n",
      "[CV 18/60] END kneighborsclassifier__algorithm=auto, kneighborsclassifier__metric=euclidean, kneighborsclassifier__n_neighbors=7, kneighborsclassifier__p=1, kneighborsclassifier__weights=distance;, score=(train=1.000, test=0.500) total time=   0.0s\n",
      "[CV 19/60] END kneighborsclassifier__algorithm=auto, kneighborsclassifier__metric=euclidean, kneighborsclassifier__n_neighbors=7, kneighborsclassifier__p=1, kneighborsclassifier__weights=distance;, score=(train=1.000, test=1.000) total time=   0.0s\n",
      "[CV 20/60] END kneighborsclassifier__algorithm=auto, kneighborsclassifier__metric=euclidean, kneighborsclassifier__n_neighbors=7, kneighborsclassifier__p=1, kneighborsclassifier__weights=distance;, score=(train=1.000, test=1.000) total time=   0.0s\n",
      "[CV 21/60] END kneighborsclassifier__algorithm=auto, kneighborsclassifier__metric=euclidean, kneighborsclassifier__n_neighbors=7, kneighborsclassifier__p=1, kneighborsclassifier__weights=distance;, score=(train=1.000, test=0.500) total time=   0.0s\n",
      "[CV 22/60] END kneighborsclassifier__algorithm=auto, kneighborsclassifier__metric=euclidean, kneighborsclassifier__n_neighbors=7, kneighborsclassifier__p=1, kneighborsclassifier__weights=distance;, score=(train=1.000, test=1.000) total time=   0.0s\n",
      "[CV 23/60] END kneighborsclassifier__algorithm=auto, kneighborsclassifier__metric=euclidean, kneighborsclassifier__n_neighbors=7, kneighborsclassifier__p=1, kneighborsclassifier__weights=distance;, score=(train=1.000, test=0.500) total time=   0.0s\n",
      "[CV 24/60] END kneighborsclassifier__algorithm=auto, kneighborsclassifier__metric=euclidean, kneighborsclassifier__n_neighbors=7, kneighborsclassifier__p=1, kneighborsclassifier__weights=distance;, score=(train=1.000, test=1.000) total time=   0.0s\n",
      "[CV 25/60] END kneighborsclassifier__algorithm=auto, kneighborsclassifier__metric=euclidean, kneighborsclassifier__n_neighbors=7, kneighborsclassifier__p=1, kneighborsclassifier__weights=distance;, score=(train=1.000, test=0.500) total time=   0.0s\n",
      "[CV 26/60] END kneighborsclassifier__algorithm=auto, kneighborsclassifier__metric=euclidean, kneighborsclassifier__n_neighbors=7, kneighborsclassifier__p=1, kneighborsclassifier__weights=distance;, score=(train=1.000, test=1.000) total time=   0.0s\n",
      "[CV 27/60] END kneighborsclassifier__algorithm=auto, kneighborsclassifier__metric=euclidean, kneighborsclassifier__n_neighbors=7, kneighborsclassifier__p=1, kneighborsclassifier__weights=distance;, score=(train=1.000, test=0.500) total time=   0.0s\n",
      "[CV 28/60] END kneighborsclassifier__algorithm=auto, kneighborsclassifier__metric=euclidean, kneighborsclassifier__n_neighbors=7, kneighborsclassifier__p=1, kneighborsclassifier__weights=distance;, score=(train=1.000, test=1.000) total time=   0.0s\n",
      "[CV 29/60] END kneighborsclassifier__algorithm=auto, kneighborsclassifier__metric=euclidean, kneighborsclassifier__n_neighbors=7, kneighborsclassifier__p=1, kneighborsclassifier__weights=distance;, score=(train=1.000, test=0.500) total time=   0.0s\n",
      "[CV 30/60] END kneighborsclassifier__algorithm=auto, kneighborsclassifier__metric=euclidean, kneighborsclassifier__n_neighbors=7, kneighborsclassifier__p=1, kneighborsclassifier__weights=distance;, score=(train=1.000, test=0.500) total time=   0.0s\n",
      "[CV 31/60] END kneighborsclassifier__algorithm=auto, kneighborsclassifier__metric=euclidean, kneighborsclassifier__n_neighbors=7, kneighborsclassifier__p=1, kneighborsclassifier__weights=distance;, score=(train=1.000, test=1.000) total time=   0.0s\n",
      "[CV 32/60] END kneighborsclassifier__algorithm=auto, kneighborsclassifier__metric=euclidean, kneighborsclassifier__n_neighbors=7, kneighborsclassifier__p=1, kneighborsclassifier__weights=distance;, score=(train=1.000, test=0.500) total time=   0.0s\n",
      "[CV 33/60] END kneighborsclassifier__algorithm=auto, kneighborsclassifier__metric=euclidean, kneighborsclassifier__n_neighbors=7, kneighborsclassifier__p=1, kneighborsclassifier__weights=distance;, score=(train=1.000, test=1.000) total time=   0.0s\n",
      "[CV 34/60] END kneighborsclassifier__algorithm=auto, kneighborsclassifier__metric=euclidean, kneighborsclassifier__n_neighbors=7, kneighborsclassifier__p=1, kneighborsclassifier__weights=distance;, score=(train=1.000, test=1.000) total time=   0.0s\n",
      "[CV 35/60] END kneighborsclassifier__algorithm=auto, kneighborsclassifier__metric=euclidean, kneighborsclassifier__n_neighbors=7, kneighborsclassifier__p=1, kneighborsclassifier__weights=distance;, score=(train=1.000, test=1.000) total time=   0.0s\n",
      "[CV 36/60] END kneighborsclassifier__algorithm=auto, kneighborsclassifier__metric=euclidean, kneighborsclassifier__n_neighbors=7, kneighborsclassifier__p=1, kneighborsclassifier__weights=distance;, score=(train=1.000, test=1.000) total time=   0.0s\n",
      "[CV 37/60] END kneighborsclassifier__algorithm=auto, kneighborsclassifier__metric=euclidean, kneighborsclassifier__n_neighbors=7, kneighborsclassifier__p=1, kneighborsclassifier__weights=distance;, score=(train=1.000, test=1.000) total time=   0.0s\n",
      "[CV 38/60] END kneighborsclassifier__algorithm=auto, kneighborsclassifier__metric=euclidean, kneighborsclassifier__n_neighbors=7, kneighborsclassifier__p=1, kneighborsclassifier__weights=distance;, score=(train=1.000, test=1.000) total time=   0.0s\n",
      "[CV 39/60] END kneighborsclassifier__algorithm=auto, kneighborsclassifier__metric=euclidean, kneighborsclassifier__n_neighbors=7, kneighborsclassifier__p=1, kneighborsclassifier__weights=distance;, score=(train=1.000, test=1.000) total time=   0.0s\n",
      "[CV 40/60] END kneighborsclassifier__algorithm=auto, kneighborsclassifier__metric=euclidean, kneighborsclassifier__n_neighbors=7, kneighborsclassifier__p=1, kneighborsclassifier__weights=distance;, score=(train=1.000, test=1.000) total time=   0.0s\n",
      "[CV 41/60] END kneighborsclassifier__algorithm=auto, kneighborsclassifier__metric=euclidean, kneighborsclassifier__n_neighbors=7, kneighborsclassifier__p=1, kneighborsclassifier__weights=distance;, score=(train=1.000, test=1.000) total time=   0.0s\n",
      "[CV 42/60] END kneighborsclassifier__algorithm=auto, kneighborsclassifier__metric=euclidean, kneighborsclassifier__n_neighbors=7, kneighborsclassifier__p=1, kneighborsclassifier__weights=distance;, score=(train=1.000, test=1.000) total time=   0.0s\n",
      "[CV 43/60] END kneighborsclassifier__algorithm=auto, kneighborsclassifier__metric=euclidean, kneighborsclassifier__n_neighbors=7, kneighborsclassifier__p=1, kneighborsclassifier__weights=distance;, score=(train=1.000, test=1.000) total time=   0.0s\n",
      "[CV 44/60] END kneighborsclassifier__algorithm=auto, kneighborsclassifier__metric=euclidean, kneighborsclassifier__n_neighbors=7, kneighborsclassifier__p=1, kneighborsclassifier__weights=distance;, score=(train=1.000, test=1.000) total time=   0.0s\n",
      "[CV 45/60] END kneighborsclassifier__algorithm=auto, kneighborsclassifier__metric=euclidean, kneighborsclassifier__n_neighbors=7, kneighborsclassifier__p=1, kneighborsclassifier__weights=distance;, score=(train=1.000, test=1.000) total time=   0.0s\n",
      "[CV 46/60] END kneighborsclassifier__algorithm=auto, kneighborsclassifier__metric=euclidean, kneighborsclassifier__n_neighbors=7, kneighborsclassifier__p=1, kneighborsclassifier__weights=distance;, score=(train=1.000, test=1.000) total time=   0.0s\n",
      "[CV 47/60] END kneighborsclassifier__algorithm=auto, kneighborsclassifier__metric=euclidean, kneighborsclassifier__n_neighbors=7, kneighborsclassifier__p=1, kneighborsclassifier__weights=distance;, score=(train=1.000, test=0.500) total time=   0.0s\n",
      "[CV 48/60] END kneighborsclassifier__algorithm=auto, kneighborsclassifier__metric=euclidean, kneighborsclassifier__n_neighbors=7, kneighborsclassifier__p=1, kneighborsclassifier__weights=distance;, score=(train=1.000, test=0.500) total time=   0.0s\n",
      "[CV 49/60] END kneighborsclassifier__algorithm=auto, kneighborsclassifier__metric=euclidean, kneighborsclassifier__n_neighbors=7, kneighborsclassifier__p=1, kneighborsclassifier__weights=distance;, score=(train=1.000, test=1.000) total time=   0.0s\n",
      "[CV 50/60] END kneighborsclassifier__algorithm=auto, kneighborsclassifier__metric=euclidean, kneighborsclassifier__n_neighbors=7, kneighborsclassifier__p=1, kneighborsclassifier__weights=distance;, score=(train=1.000, test=1.000) total time=   0.0s\n",
      "[CV 51/60] END kneighborsclassifier__algorithm=auto, kneighborsclassifier__metric=euclidean, kneighborsclassifier__n_neighbors=7, kneighborsclassifier__p=1, kneighborsclassifier__weights=distance;, score=(train=1.000, test=1.000) total time=   0.0s\n",
      "[CV 52/60] END kneighborsclassifier__algorithm=auto, kneighborsclassifier__metric=euclidean, kneighborsclassifier__n_neighbors=7, kneighborsclassifier__p=1, kneighborsclassifier__weights=distance;, score=(train=1.000, test=1.000) total time=   0.0s\n",
      "[CV 53/60] END kneighborsclassifier__algorithm=auto, kneighborsclassifier__metric=euclidean, kneighborsclassifier__n_neighbors=7, kneighborsclassifier__p=1, kneighborsclassifier__weights=distance;, score=(train=1.000, test=1.000) total time=   0.0s\n",
      "[CV 54/60] END kneighborsclassifier__algorithm=auto, kneighborsclassifier__metric=euclidean, kneighborsclassifier__n_neighbors=7, kneighborsclassifier__p=1, kneighborsclassifier__weights=distance;, score=(train=1.000, test=1.000) total time=   0.0s\n",
      "[CV 55/60] END kneighborsclassifier__algorithm=auto, kneighborsclassifier__metric=euclidean, kneighborsclassifier__n_neighbors=7, kneighborsclassifier__p=1, kneighborsclassifier__weights=distance;, score=(train=1.000, test=1.000) total time=   0.0s\n",
      "[CV 56/60] END kneighborsclassifier__algorithm=auto, kneighborsclassifier__metric=euclidean, kneighborsclassifier__n_neighbors=7, kneighborsclassifier__p=1, kneighborsclassifier__weights=distance;, score=(train=1.000, test=0.500) total time=   0.0s\n",
      "[CV 57/60] END kneighborsclassifier__algorithm=auto, kneighborsclassifier__metric=euclidean, kneighborsclassifier__n_neighbors=7, kneighborsclassifier__p=1, kneighborsclassifier__weights=distance;, score=(train=1.000, test=0.500) total time=   0.0s\n",
      "[CV 58/60] END kneighborsclassifier__algorithm=auto, kneighborsclassifier__metric=euclidean, kneighborsclassifier__n_neighbors=7, kneighborsclassifier__p=1, kneighborsclassifier__weights=distance;, score=(train=1.000, test=1.000) total time=   0.0s\n",
      "[CV 59/60] END kneighborsclassifier__algorithm=auto, kneighborsclassifier__metric=euclidean, kneighborsclassifier__n_neighbors=7, kneighborsclassifier__p=1, kneighborsclassifier__weights=distance;, score=(train=1.000, test=0.500) total time=   0.0s\n",
      "[CV 60/60] END kneighborsclassifier__algorithm=auto, kneighborsclassifier__metric=euclidean, kneighborsclassifier__n_neighbors=7, kneighborsclassifier__p=1, kneighborsclassifier__weights=distance;, score=(train=1.000, test=0.500) total time=   0.0s\n",
      "[CV 1/60] END kneighborsclassifier__algorithm=auto, kneighborsclassifier__metric=manhattan, kneighborsclassifier__n_neighbors=7, kneighborsclassifier__p=1, kneighborsclassifier__weights=distance;, score=(train=1.000, test=0.333) total time=   0.0s\n",
      "[CV 2/60] END kneighborsclassifier__algorithm=auto, kneighborsclassifier__metric=manhattan, kneighborsclassifier__n_neighbors=7, kneighborsclassifier__p=1, kneighborsclassifier__weights=distance;, score=(train=1.000, test=0.000) total time=   0.0s\n",
      "[CV 3/60] END kneighborsclassifier__algorithm=auto, kneighborsclassifier__metric=manhattan, kneighborsclassifier__n_neighbors=7, kneighborsclassifier__p=1, kneighborsclassifier__weights=distance;, score=(train=1.000, test=0.667) total time=   0.0s\n",
      "[CV 4/60] END kneighborsclassifier__algorithm=auto, kneighborsclassifier__metric=manhattan, kneighborsclassifier__n_neighbors=7, kneighborsclassifier__p=1, kneighborsclassifier__weights=distance;, score=(train=1.000, test=0.667) total time=   0.0s\n",
      "[CV 5/60] END kneighborsclassifier__algorithm=auto, kneighborsclassifier__metric=manhattan, kneighborsclassifier__n_neighbors=7, kneighborsclassifier__p=1, kneighborsclassifier__weights=distance;, score=(train=1.000, test=0.500) total time=   0.0s\n",
      "[CV 6/60] END kneighborsclassifier__algorithm=auto, kneighborsclassifier__metric=manhattan, kneighborsclassifier__n_neighbors=7, kneighborsclassifier__p=1, kneighborsclassifier__weights=distance;, score=(train=1.000, test=0.500) total time=   0.0s\n",
      "[CV 7/60] END kneighborsclassifier__algorithm=auto, kneighborsclassifier__metric=manhattan, kneighborsclassifier__n_neighbors=7, kneighborsclassifier__p=1, kneighborsclassifier__weights=distance;, score=(train=1.000, test=1.000) total time=   0.0s\n",
      "[CV 8/60] END kneighborsclassifier__algorithm=auto, kneighborsclassifier__metric=manhattan, kneighborsclassifier__n_neighbors=7, kneighborsclassifier__p=1, kneighborsclassifier__weights=distance;, score=(train=1.000, test=1.000) total time=   0.0s\n",
      "[CV 9/60] END kneighborsclassifier__algorithm=auto, kneighborsclassifier__metric=manhattan, kneighborsclassifier__n_neighbors=7, kneighborsclassifier__p=1, kneighborsclassifier__weights=distance;, score=(train=1.000, test=1.000) total time=   0.0s\n",
      "[CV 10/60] END kneighborsclassifier__algorithm=auto, kneighborsclassifier__metric=manhattan, kneighborsclassifier__n_neighbors=7, kneighborsclassifier__p=1, kneighborsclassifier__weights=distance;, score=(train=1.000, test=1.000) total time=   0.0s\n",
      "[CV 11/60] END kneighborsclassifier__algorithm=auto, kneighborsclassifier__metric=manhattan, kneighborsclassifier__n_neighbors=7, kneighborsclassifier__p=1, kneighborsclassifier__weights=distance;, score=(train=1.000, test=1.000) total time=   0.0s\n",
      "[CV 12/60] END kneighborsclassifier__algorithm=auto, kneighborsclassifier__metric=manhattan, kneighborsclassifier__n_neighbors=7, kneighborsclassifier__p=1, kneighborsclassifier__weights=distance;, score=(train=1.000, test=1.000) total time=   0.0s\n",
      "[CV 13/60] END kneighborsclassifier__algorithm=auto, kneighborsclassifier__metric=manhattan, kneighborsclassifier__n_neighbors=7, kneighborsclassifier__p=1, kneighborsclassifier__weights=distance;, score=(train=1.000, test=1.000) total time=   0.0s\n",
      "[CV 14/60] END kneighborsclassifier__algorithm=auto, kneighborsclassifier__metric=manhattan, kneighborsclassifier__n_neighbors=7, kneighborsclassifier__p=1, kneighborsclassifier__weights=distance;, score=(train=1.000, test=1.000) total time=   0.0s\n",
      "[CV 15/60] END kneighborsclassifier__algorithm=auto, kneighborsclassifier__metric=manhattan, kneighborsclassifier__n_neighbors=7, kneighborsclassifier__p=1, kneighborsclassifier__weights=distance;, score=(train=1.000, test=1.000) total time=   0.0s\n",
      "[CV 16/60] END kneighborsclassifier__algorithm=auto, kneighborsclassifier__metric=manhattan, kneighborsclassifier__n_neighbors=7, kneighborsclassifier__p=1, kneighborsclassifier__weights=distance;, score=(train=1.000, test=0.500) total time=   0.0s\n",
      "[CV 17/60] END kneighborsclassifier__algorithm=auto, kneighborsclassifier__metric=manhattan, kneighborsclassifier__n_neighbors=7, kneighborsclassifier__p=1, kneighborsclassifier__weights=distance;, score=(train=1.000, test=0.500) total time=   0.0s\n",
      "[CV 18/60] END kneighborsclassifier__algorithm=auto, kneighborsclassifier__metric=manhattan, kneighborsclassifier__n_neighbors=7, kneighborsclassifier__p=1, kneighborsclassifier__weights=distance;, score=(train=1.000, test=0.500) total time=   0.0s\n",
      "[CV 19/60] END kneighborsclassifier__algorithm=auto, kneighborsclassifier__metric=manhattan, kneighborsclassifier__n_neighbors=7, kneighborsclassifier__p=1, kneighborsclassifier__weights=distance;, score=(train=1.000, test=1.000) total time=   0.0s\n",
      "[CV 20/60] END kneighborsclassifier__algorithm=auto, kneighborsclassifier__metric=manhattan, kneighborsclassifier__n_neighbors=7, kneighborsclassifier__p=1, kneighborsclassifier__weights=distance;, score=(train=1.000, test=1.000) total time=   0.0s\n",
      "[CV 21/60] END kneighborsclassifier__algorithm=auto, kneighborsclassifier__metric=manhattan, kneighborsclassifier__n_neighbors=7, kneighborsclassifier__p=1, kneighborsclassifier__weights=distance;, score=(train=1.000, test=1.000) total time=   0.0s\n",
      "[CV 22/60] END kneighborsclassifier__algorithm=auto, kneighborsclassifier__metric=manhattan, kneighborsclassifier__n_neighbors=7, kneighborsclassifier__p=1, kneighborsclassifier__weights=distance;, score=(train=1.000, test=1.000) total time=   0.0s\n",
      "[CV 23/60] END kneighborsclassifier__algorithm=auto, kneighborsclassifier__metric=manhattan, kneighborsclassifier__n_neighbors=7, kneighborsclassifier__p=1, kneighborsclassifier__weights=distance;, score=(train=1.000, test=0.500) total time=   0.0s\n",
      "[CV 24/60] END kneighborsclassifier__algorithm=auto, kneighborsclassifier__metric=manhattan, kneighborsclassifier__n_neighbors=7, kneighborsclassifier__p=1, kneighborsclassifier__weights=distance;, score=(train=1.000, test=1.000) total time=   0.0s\n",
      "[CV 25/60] END kneighborsclassifier__algorithm=auto, kneighborsclassifier__metric=manhattan, kneighborsclassifier__n_neighbors=7, kneighborsclassifier__p=1, kneighborsclassifier__weights=distance;, score=(train=1.000, test=0.500) total time=   0.0s\n",
      "[CV 26/60] END kneighborsclassifier__algorithm=auto, kneighborsclassifier__metric=manhattan, kneighborsclassifier__n_neighbors=7, kneighborsclassifier__p=1, kneighborsclassifier__weights=distance;, score=(train=1.000, test=1.000) total time=   0.0s\n",
      "[CV 27/60] END kneighborsclassifier__algorithm=auto, kneighborsclassifier__metric=manhattan, kneighborsclassifier__n_neighbors=7, kneighborsclassifier__p=1, kneighborsclassifier__weights=distance;, score=(train=1.000, test=0.500) total time=   0.0s\n",
      "[CV 28/60] END kneighborsclassifier__algorithm=auto, kneighborsclassifier__metric=manhattan, kneighborsclassifier__n_neighbors=7, kneighborsclassifier__p=1, kneighborsclassifier__weights=distance;, score=(train=1.000, test=0.500) total time=   0.0s\n",
      "[CV 29/60] END kneighborsclassifier__algorithm=auto, kneighborsclassifier__metric=manhattan, kneighborsclassifier__n_neighbors=7, kneighborsclassifier__p=1, kneighborsclassifier__weights=distance;, score=(train=1.000, test=0.500) total time=   0.0s\n",
      "[CV 30/60] END kneighborsclassifier__algorithm=auto, kneighborsclassifier__metric=manhattan, kneighborsclassifier__n_neighbors=7, kneighborsclassifier__p=1, kneighborsclassifier__weights=distance;, score=(train=1.000, test=1.000) total time=   0.0s\n",
      "[CV 31/60] END kneighborsclassifier__algorithm=auto, kneighborsclassifier__metric=manhattan, kneighborsclassifier__n_neighbors=7, kneighborsclassifier__p=1, kneighborsclassifier__weights=distance;, score=(train=1.000, test=1.000) total time=   0.0s\n",
      "[CV 32/60] END kneighborsclassifier__algorithm=auto, kneighborsclassifier__metric=manhattan, kneighborsclassifier__n_neighbors=7, kneighborsclassifier__p=1, kneighborsclassifier__weights=distance;, score=(train=1.000, test=0.500) total time=   0.0s\n",
      "[CV 33/60] END kneighborsclassifier__algorithm=auto, kneighborsclassifier__metric=manhattan, kneighborsclassifier__n_neighbors=7, kneighborsclassifier__p=1, kneighborsclassifier__weights=distance;, score=(train=1.000, test=1.000) total time=   0.0s\n",
      "[CV 34/60] END kneighborsclassifier__algorithm=auto, kneighborsclassifier__metric=manhattan, kneighborsclassifier__n_neighbors=7, kneighborsclassifier__p=1, kneighborsclassifier__weights=distance;, score=(train=1.000, test=1.000) total time=   0.0s\n",
      "[CV 35/60] END kneighborsclassifier__algorithm=auto, kneighborsclassifier__metric=manhattan, kneighborsclassifier__n_neighbors=7, kneighborsclassifier__p=1, kneighborsclassifier__weights=distance;, score=(train=1.000, test=1.000) total time=   0.0s\n",
      "[CV 36/60] END kneighborsclassifier__algorithm=auto, kneighborsclassifier__metric=manhattan, kneighborsclassifier__n_neighbors=7, kneighborsclassifier__p=1, kneighborsclassifier__weights=distance;, score=(train=1.000, test=1.000) total time=   0.0s\n",
      "[CV 37/60] END kneighborsclassifier__algorithm=auto, kneighborsclassifier__metric=manhattan, kneighborsclassifier__n_neighbors=7, kneighborsclassifier__p=1, kneighborsclassifier__weights=distance;, score=(train=1.000, test=1.000) total time=   0.0s\n",
      "[CV 38/60] END kneighborsclassifier__algorithm=auto, kneighborsclassifier__metric=manhattan, kneighborsclassifier__n_neighbors=7, kneighborsclassifier__p=1, kneighborsclassifier__weights=distance;, score=(train=1.000, test=1.000) total time=   0.0s\n",
      "[CV 39/60] END kneighborsclassifier__algorithm=auto, kneighborsclassifier__metric=manhattan, kneighborsclassifier__n_neighbors=7, kneighborsclassifier__p=1, kneighborsclassifier__weights=distance;, score=(train=1.000, test=1.000) total time=   0.0s\n",
      "[CV 40/60] END kneighborsclassifier__algorithm=auto, kneighborsclassifier__metric=manhattan, kneighborsclassifier__n_neighbors=7, kneighborsclassifier__p=1, kneighborsclassifier__weights=distance;, score=(train=1.000, test=1.000) total time=   0.0s\n",
      "[CV 41/60] END kneighborsclassifier__algorithm=auto, kneighborsclassifier__metric=manhattan, kneighborsclassifier__n_neighbors=7, kneighborsclassifier__p=1, kneighborsclassifier__weights=distance;, score=(train=1.000, test=1.000) total time=   0.0s\n",
      "[CV 42/60] END kneighborsclassifier__algorithm=auto, kneighborsclassifier__metric=manhattan, kneighborsclassifier__n_neighbors=7, kneighborsclassifier__p=1, kneighborsclassifier__weights=distance;, score=(train=1.000, test=1.000) total time=   0.0s\n",
      "[CV 43/60] END kneighborsclassifier__algorithm=auto, kneighborsclassifier__metric=manhattan, kneighborsclassifier__n_neighbors=7, kneighborsclassifier__p=1, kneighborsclassifier__weights=distance;, score=(train=1.000, test=1.000) total time=   0.0s\n",
      "[CV 44/60] END kneighborsclassifier__algorithm=auto, kneighborsclassifier__metric=manhattan, kneighborsclassifier__n_neighbors=7, kneighborsclassifier__p=1, kneighborsclassifier__weights=distance;, score=(train=1.000, test=1.000) total time=   0.0s\n",
      "[CV 45/60] END kneighborsclassifier__algorithm=auto, kneighborsclassifier__metric=manhattan, kneighborsclassifier__n_neighbors=7, kneighborsclassifier__p=1, kneighborsclassifier__weights=distance;, score=(train=1.000, test=1.000) total time=   0.0s\n",
      "[CV 46/60] END kneighborsclassifier__algorithm=auto, kneighborsclassifier__metric=manhattan, kneighborsclassifier__n_neighbors=7, kneighborsclassifier__p=1, kneighborsclassifier__weights=distance;, score=(train=1.000, test=1.000) total time=   0.0s\n",
      "[CV 47/60] END kneighborsclassifier__algorithm=auto, kneighborsclassifier__metric=manhattan, kneighborsclassifier__n_neighbors=7, kneighborsclassifier__p=1, kneighborsclassifier__weights=distance;, score=(train=1.000, test=0.500) total time=   0.0s\n",
      "[CV 48/60] END kneighborsclassifier__algorithm=auto, kneighborsclassifier__metric=manhattan, kneighborsclassifier__n_neighbors=7, kneighborsclassifier__p=1, kneighborsclassifier__weights=distance;, score=(train=1.000, test=0.500) total time=   0.0s\n",
      "[CV 49/60] END kneighborsclassifier__algorithm=auto, kneighborsclassifier__metric=manhattan, kneighborsclassifier__n_neighbors=7, kneighborsclassifier__p=1, kneighborsclassifier__weights=distance;, score=(train=1.000, test=1.000) total time=   0.0s\n",
      "[CV 50/60] END kneighborsclassifier__algorithm=auto, kneighborsclassifier__metric=manhattan, kneighborsclassifier__n_neighbors=7, kneighborsclassifier__p=1, kneighborsclassifier__weights=distance;, score=(train=1.000, test=1.000) total time=   0.0s\n",
      "[CV 51/60] END kneighborsclassifier__algorithm=auto, kneighborsclassifier__metric=manhattan, kneighborsclassifier__n_neighbors=7, kneighborsclassifier__p=1, kneighborsclassifier__weights=distance;, score=(train=1.000, test=1.000) total time=   0.0s\n",
      "[CV 52/60] END kneighborsclassifier__algorithm=auto, kneighborsclassifier__metric=manhattan, kneighborsclassifier__n_neighbors=7, kneighborsclassifier__p=1, kneighborsclassifier__weights=distance;, score=(train=1.000, test=1.000) total time=   0.0s\n",
      "[CV 53/60] END kneighborsclassifier__algorithm=auto, kneighborsclassifier__metric=manhattan, kneighborsclassifier__n_neighbors=7, kneighborsclassifier__p=1, kneighborsclassifier__weights=distance;, score=(train=1.000, test=1.000) total time=   0.0s\n",
      "[CV 54/60] END kneighborsclassifier__algorithm=auto, kneighborsclassifier__metric=manhattan, kneighborsclassifier__n_neighbors=7, kneighborsclassifier__p=1, kneighborsclassifier__weights=distance;, score=(train=1.000, test=1.000) total time=   0.0s\n",
      "[CV 55/60] END kneighborsclassifier__algorithm=auto, kneighborsclassifier__metric=manhattan, kneighborsclassifier__n_neighbors=7, kneighborsclassifier__p=1, kneighborsclassifier__weights=distance;, score=(train=1.000, test=1.000) total time=   0.0s\n",
      "[CV 56/60] END kneighborsclassifier__algorithm=auto, kneighborsclassifier__metric=manhattan, kneighborsclassifier__n_neighbors=7, kneighborsclassifier__p=1, kneighborsclassifier__weights=distance;, score=(train=1.000, test=0.500) total time=   0.0s\n",
      "[CV 57/60] END kneighborsclassifier__algorithm=auto, kneighborsclassifier__metric=manhattan, kneighborsclassifier__n_neighbors=7, kneighborsclassifier__p=1, kneighborsclassifier__weights=distance;, score=(train=1.000, test=0.500) total time=   0.0s\n",
      "[CV 58/60] END kneighborsclassifier__algorithm=auto, kneighborsclassifier__metric=manhattan, kneighborsclassifier__n_neighbors=7, kneighborsclassifier__p=1, kneighborsclassifier__weights=distance;, score=(train=1.000, test=0.500) total time=   0.0s\n",
      "[CV 59/60] END kneighborsclassifier__algorithm=auto, kneighborsclassifier__metric=manhattan, kneighborsclassifier__n_neighbors=7, kneighborsclassifier__p=1, kneighborsclassifier__weights=distance;, score=(train=1.000, test=0.500) total time=   0.0s\n",
      "[CV 60/60] END kneighborsclassifier__algorithm=auto, kneighborsclassifier__metric=manhattan, kneighborsclassifier__n_neighbors=7, kneighborsclassifier__p=1, kneighborsclassifier__weights=distance;, score=(train=1.000, test=1.000) total time=   0.0s\n",
      "[CV 1/60] END kneighborsclassifier__algorithm=auto, kneighborsclassifier__metric=cityblock, kneighborsclassifier__n_neighbors=7, kneighborsclassifier__p=1, kneighborsclassifier__weights=distance;, score=(train=1.000, test=0.333) total time=   0.0s\n",
      "[CV 2/60] END kneighborsclassifier__algorithm=auto, kneighborsclassifier__metric=cityblock, kneighborsclassifier__n_neighbors=7, kneighborsclassifier__p=1, kneighborsclassifier__weights=distance;, score=(train=1.000, test=0.000) total time=   0.0s\n",
      "[CV 3/60] END kneighborsclassifier__algorithm=auto, kneighborsclassifier__metric=cityblock, kneighborsclassifier__n_neighbors=7, kneighborsclassifier__p=1, kneighborsclassifier__weights=distance;, score=(train=1.000, test=0.667) total time=   0.0s\n",
      "[CV 4/60] END kneighborsclassifier__algorithm=auto, kneighborsclassifier__metric=cityblock, kneighborsclassifier__n_neighbors=7, kneighborsclassifier__p=1, kneighborsclassifier__weights=distance;, score=(train=1.000, test=0.667) total time=   0.0s\n",
      "[CV 5/60] END kneighborsclassifier__algorithm=auto, kneighborsclassifier__metric=cityblock, kneighborsclassifier__n_neighbors=7, kneighborsclassifier__p=1, kneighborsclassifier__weights=distance;, score=(train=1.000, test=0.500) total time=   0.0s\n",
      "[CV 6/60] END kneighborsclassifier__algorithm=auto, kneighborsclassifier__metric=cityblock, kneighborsclassifier__n_neighbors=7, kneighborsclassifier__p=1, kneighborsclassifier__weights=distance;, score=(train=1.000, test=0.500) total time=   0.0s\n",
      "[CV 7/60] END kneighborsclassifier__algorithm=auto, kneighborsclassifier__metric=cityblock, kneighborsclassifier__n_neighbors=7, kneighborsclassifier__p=1, kneighborsclassifier__weights=distance;, score=(train=1.000, test=1.000) total time=   0.0s\n",
      "[CV 8/60] END kneighborsclassifier__algorithm=auto, kneighborsclassifier__metric=cityblock, kneighborsclassifier__n_neighbors=7, kneighborsclassifier__p=1, kneighborsclassifier__weights=distance;, score=(train=1.000, test=1.000) total time=   0.0s\n",
      "[CV 9/60] END kneighborsclassifier__algorithm=auto, kneighborsclassifier__metric=cityblock, kneighborsclassifier__n_neighbors=7, kneighborsclassifier__p=1, kneighborsclassifier__weights=distance;, score=(train=1.000, test=1.000) total time=   0.0s\n",
      "[CV 10/60] END kneighborsclassifier__algorithm=auto, kneighborsclassifier__metric=cityblock, kneighborsclassifier__n_neighbors=7, kneighborsclassifier__p=1, kneighborsclassifier__weights=distance;, score=(train=1.000, test=1.000) total time=   0.0s\n",
      "[CV 11/60] END kneighborsclassifier__algorithm=auto, kneighborsclassifier__metric=cityblock, kneighborsclassifier__n_neighbors=7, kneighborsclassifier__p=1, kneighborsclassifier__weights=distance;, score=(train=1.000, test=1.000) total time=   0.0s\n",
      "[CV 12/60] END kneighborsclassifier__algorithm=auto, kneighborsclassifier__metric=cityblock, kneighborsclassifier__n_neighbors=7, kneighborsclassifier__p=1, kneighborsclassifier__weights=distance;, score=(train=1.000, test=1.000) total time=   0.0s\n",
      "[CV 13/60] END kneighborsclassifier__algorithm=auto, kneighborsclassifier__metric=cityblock, kneighborsclassifier__n_neighbors=7, kneighborsclassifier__p=1, kneighborsclassifier__weights=distance;, score=(train=1.000, test=1.000) total time=   0.0s\n",
      "[CV 14/60] END kneighborsclassifier__algorithm=auto, kneighborsclassifier__metric=cityblock, kneighborsclassifier__n_neighbors=7, kneighborsclassifier__p=1, kneighborsclassifier__weights=distance;, score=(train=1.000, test=1.000) total time=   0.0s\n",
      "[CV 15/60] END kneighborsclassifier__algorithm=auto, kneighborsclassifier__metric=cityblock, kneighborsclassifier__n_neighbors=7, kneighborsclassifier__p=1, kneighborsclassifier__weights=distance;, score=(train=1.000, test=1.000) total time=   0.0s\n",
      "[CV 16/60] END kneighborsclassifier__algorithm=auto, kneighborsclassifier__metric=cityblock, kneighborsclassifier__n_neighbors=7, kneighborsclassifier__p=1, kneighborsclassifier__weights=distance;, score=(train=1.000, test=0.500) total time=   0.0s\n",
      "[CV 17/60] END kneighborsclassifier__algorithm=auto, kneighborsclassifier__metric=cityblock, kneighborsclassifier__n_neighbors=7, kneighborsclassifier__p=1, kneighborsclassifier__weights=distance;, score=(train=1.000, test=0.500) total time=   0.0s\n",
      "[CV 18/60] END kneighborsclassifier__algorithm=auto, kneighborsclassifier__metric=cityblock, kneighborsclassifier__n_neighbors=7, kneighborsclassifier__p=1, kneighborsclassifier__weights=distance;, score=(train=1.000, test=0.500) total time=   0.0s\n",
      "[CV 19/60] END kneighborsclassifier__algorithm=auto, kneighborsclassifier__metric=cityblock, kneighborsclassifier__n_neighbors=7, kneighborsclassifier__p=1, kneighborsclassifier__weights=distance;, score=(train=1.000, test=1.000) total time=   0.0s\n",
      "[CV 20/60] END kneighborsclassifier__algorithm=auto, kneighborsclassifier__metric=cityblock, kneighborsclassifier__n_neighbors=7, kneighborsclassifier__p=1, kneighborsclassifier__weights=distance;, score=(train=1.000, test=1.000) total time=   0.0s\n",
      "[CV 21/60] END kneighborsclassifier__algorithm=auto, kneighborsclassifier__metric=cityblock, kneighborsclassifier__n_neighbors=7, kneighborsclassifier__p=1, kneighborsclassifier__weights=distance;, score=(train=1.000, test=1.000) total time=   0.0s\n",
      "[CV 22/60] END kneighborsclassifier__algorithm=auto, kneighborsclassifier__metric=cityblock, kneighborsclassifier__n_neighbors=7, kneighborsclassifier__p=1, kneighborsclassifier__weights=distance;, score=(train=1.000, test=1.000) total time=   0.0s\n",
      "[CV 23/60] END kneighborsclassifier__algorithm=auto, kneighborsclassifier__metric=cityblock, kneighborsclassifier__n_neighbors=7, kneighborsclassifier__p=1, kneighborsclassifier__weights=distance;, score=(train=1.000, test=0.500) total time=   0.0s\n",
      "[CV 24/60] END kneighborsclassifier__algorithm=auto, kneighborsclassifier__metric=cityblock, kneighborsclassifier__n_neighbors=7, kneighborsclassifier__p=1, kneighborsclassifier__weights=distance;, score=(train=1.000, test=1.000) total time=   0.0s\n",
      "[CV 25/60] END kneighborsclassifier__algorithm=auto, kneighborsclassifier__metric=cityblock, kneighborsclassifier__n_neighbors=7, kneighborsclassifier__p=1, kneighborsclassifier__weights=distance;, score=(train=1.000, test=0.500) total time=   0.0s\n",
      "[CV 26/60] END kneighborsclassifier__algorithm=auto, kneighborsclassifier__metric=cityblock, kneighborsclassifier__n_neighbors=7, kneighborsclassifier__p=1, kneighborsclassifier__weights=distance;, score=(train=1.000, test=1.000) total time=   0.0s\n",
      "[CV 27/60] END kneighborsclassifier__algorithm=auto, kneighborsclassifier__metric=cityblock, kneighborsclassifier__n_neighbors=7, kneighborsclassifier__p=1, kneighborsclassifier__weights=distance;, score=(train=1.000, test=0.500) total time=   0.0s\n",
      "[CV 28/60] END kneighborsclassifier__algorithm=auto, kneighborsclassifier__metric=cityblock, kneighborsclassifier__n_neighbors=7, kneighborsclassifier__p=1, kneighborsclassifier__weights=distance;, score=(train=1.000, test=0.500) total time=   0.0s\n",
      "[CV 29/60] END kneighborsclassifier__algorithm=auto, kneighborsclassifier__metric=cityblock, kneighborsclassifier__n_neighbors=7, kneighborsclassifier__p=1, kneighborsclassifier__weights=distance;, score=(train=1.000, test=0.500) total time=   0.0s\n",
      "[CV 30/60] END kneighborsclassifier__algorithm=auto, kneighborsclassifier__metric=cityblock, kneighborsclassifier__n_neighbors=7, kneighborsclassifier__p=1, kneighborsclassifier__weights=distance;, score=(train=1.000, test=1.000) total time=   0.0s\n",
      "[CV 31/60] END kneighborsclassifier__algorithm=auto, kneighborsclassifier__metric=cityblock, kneighborsclassifier__n_neighbors=7, kneighborsclassifier__p=1, kneighborsclassifier__weights=distance;, score=(train=1.000, test=1.000) total time=   0.0s\n",
      "[CV 32/60] END kneighborsclassifier__algorithm=auto, kneighborsclassifier__metric=cityblock, kneighborsclassifier__n_neighbors=7, kneighborsclassifier__p=1, kneighborsclassifier__weights=distance;, score=(train=1.000, test=0.500) total time=   0.0s\n",
      "[CV 33/60] END kneighborsclassifier__algorithm=auto, kneighborsclassifier__metric=cityblock, kneighborsclassifier__n_neighbors=7, kneighborsclassifier__p=1, kneighborsclassifier__weights=distance;, score=(train=1.000, test=1.000) total time=   0.0s\n",
      "[CV 34/60] END kneighborsclassifier__algorithm=auto, kneighborsclassifier__metric=cityblock, kneighborsclassifier__n_neighbors=7, kneighborsclassifier__p=1, kneighborsclassifier__weights=distance;, score=(train=1.000, test=1.000) total time=   0.0s\n",
      "[CV 35/60] END kneighborsclassifier__algorithm=auto, kneighborsclassifier__metric=cityblock, kneighborsclassifier__n_neighbors=7, kneighborsclassifier__p=1, kneighborsclassifier__weights=distance;, score=(train=1.000, test=1.000) total time=   0.0s\n",
      "[CV 36/60] END kneighborsclassifier__algorithm=auto, kneighborsclassifier__metric=cityblock, kneighborsclassifier__n_neighbors=7, kneighborsclassifier__p=1, kneighborsclassifier__weights=distance;, score=(train=1.000, test=1.000) total time=   0.0s\n",
      "[CV 37/60] END kneighborsclassifier__algorithm=auto, kneighborsclassifier__metric=cityblock, kneighborsclassifier__n_neighbors=7, kneighborsclassifier__p=1, kneighborsclassifier__weights=distance;, score=(train=1.000, test=1.000) total time=   0.0s\n",
      "[CV 38/60] END kneighborsclassifier__algorithm=auto, kneighborsclassifier__metric=cityblock, kneighborsclassifier__n_neighbors=7, kneighborsclassifier__p=1, kneighborsclassifier__weights=distance;, score=(train=1.000, test=1.000) total time=   0.0s\n",
      "[CV 39/60] END kneighborsclassifier__algorithm=auto, kneighborsclassifier__metric=cityblock, kneighborsclassifier__n_neighbors=7, kneighborsclassifier__p=1, kneighborsclassifier__weights=distance;, score=(train=1.000, test=1.000) total time=   0.0s\n",
      "[CV 40/60] END kneighborsclassifier__algorithm=auto, kneighborsclassifier__metric=cityblock, kneighborsclassifier__n_neighbors=7, kneighborsclassifier__p=1, kneighborsclassifier__weights=distance;, score=(train=1.000, test=1.000) total time=   0.0s\n",
      "[CV 41/60] END kneighborsclassifier__algorithm=auto, kneighborsclassifier__metric=cityblock, kneighborsclassifier__n_neighbors=7, kneighborsclassifier__p=1, kneighborsclassifier__weights=distance;, score=(train=1.000, test=1.000) total time=   0.0s\n",
      "[CV 42/60] END kneighborsclassifier__algorithm=auto, kneighborsclassifier__metric=cityblock, kneighborsclassifier__n_neighbors=7, kneighborsclassifier__p=1, kneighborsclassifier__weights=distance;, score=(train=1.000, test=1.000) total time=   0.0s\n",
      "[CV 43/60] END kneighborsclassifier__algorithm=auto, kneighborsclassifier__metric=cityblock, kneighborsclassifier__n_neighbors=7, kneighborsclassifier__p=1, kneighborsclassifier__weights=distance;, score=(train=1.000, test=1.000) total time=   0.0s\n",
      "[CV 44/60] END kneighborsclassifier__algorithm=auto, kneighborsclassifier__metric=cityblock, kneighborsclassifier__n_neighbors=7, kneighborsclassifier__p=1, kneighborsclassifier__weights=distance;, score=(train=1.000, test=1.000) total time=   0.0s\n",
      "[CV 45/60] END kneighborsclassifier__algorithm=auto, kneighborsclassifier__metric=cityblock, kneighborsclassifier__n_neighbors=7, kneighborsclassifier__p=1, kneighborsclassifier__weights=distance;, score=(train=1.000, test=1.000) total time=   0.0s\n",
      "[CV 46/60] END kneighborsclassifier__algorithm=auto, kneighborsclassifier__metric=cityblock, kneighborsclassifier__n_neighbors=7, kneighborsclassifier__p=1, kneighborsclassifier__weights=distance;, score=(train=1.000, test=1.000) total time=   0.0s\n",
      "[CV 47/60] END kneighborsclassifier__algorithm=auto, kneighborsclassifier__metric=cityblock, kneighborsclassifier__n_neighbors=7, kneighborsclassifier__p=1, kneighborsclassifier__weights=distance;, score=(train=1.000, test=0.500) total time=   0.0s\n",
      "[CV 48/60] END kneighborsclassifier__algorithm=auto, kneighborsclassifier__metric=cityblock, kneighborsclassifier__n_neighbors=7, kneighborsclassifier__p=1, kneighborsclassifier__weights=distance;, score=(train=1.000, test=0.500) total time=   0.0s\n",
      "[CV 49/60] END kneighborsclassifier__algorithm=auto, kneighborsclassifier__metric=cityblock, kneighborsclassifier__n_neighbors=7, kneighborsclassifier__p=1, kneighborsclassifier__weights=distance;, score=(train=1.000, test=1.000) total time=   0.0s\n",
      "[CV 50/60] END kneighborsclassifier__algorithm=auto, kneighborsclassifier__metric=cityblock, kneighborsclassifier__n_neighbors=7, kneighborsclassifier__p=1, kneighborsclassifier__weights=distance;, score=(train=1.000, test=1.000) total time=   0.0s\n",
      "[CV 51/60] END kneighborsclassifier__algorithm=auto, kneighborsclassifier__metric=cityblock, kneighborsclassifier__n_neighbors=7, kneighborsclassifier__p=1, kneighborsclassifier__weights=distance;, score=(train=1.000, test=1.000) total time=   0.0s\n",
      "[CV 52/60] END kneighborsclassifier__algorithm=auto, kneighborsclassifier__metric=cityblock, kneighborsclassifier__n_neighbors=7, kneighborsclassifier__p=1, kneighborsclassifier__weights=distance;, score=(train=1.000, test=1.000) total time=   0.0s\n",
      "[CV 53/60] END kneighborsclassifier__algorithm=auto, kneighborsclassifier__metric=cityblock, kneighborsclassifier__n_neighbors=7, kneighborsclassifier__p=1, kneighborsclassifier__weights=distance;, score=(train=1.000, test=1.000) total time=   0.0s\n",
      "[CV 54/60] END kneighborsclassifier__algorithm=auto, kneighborsclassifier__metric=cityblock, kneighborsclassifier__n_neighbors=7, kneighborsclassifier__p=1, kneighborsclassifier__weights=distance;, score=(train=1.000, test=1.000) total time=   0.0s\n",
      "[CV 55/60] END kneighborsclassifier__algorithm=auto, kneighborsclassifier__metric=cityblock, kneighborsclassifier__n_neighbors=7, kneighborsclassifier__p=1, kneighborsclassifier__weights=distance;, score=(train=1.000, test=1.000) total time=   0.0s\n",
      "[CV 56/60] END kneighborsclassifier__algorithm=auto, kneighborsclassifier__metric=cityblock, kneighborsclassifier__n_neighbors=7, kneighborsclassifier__p=1, kneighborsclassifier__weights=distance;, score=(train=1.000, test=0.500) total time=   0.0s\n",
      "[CV 57/60] END kneighborsclassifier__algorithm=auto, kneighborsclassifier__metric=cityblock, kneighborsclassifier__n_neighbors=7, kneighborsclassifier__p=1, kneighborsclassifier__weights=distance;, score=(train=1.000, test=0.500) total time=   0.0s\n",
      "[CV 58/60] END kneighborsclassifier__algorithm=auto, kneighborsclassifier__metric=cityblock, kneighborsclassifier__n_neighbors=7, kneighborsclassifier__p=1, kneighborsclassifier__weights=distance;, score=(train=1.000, test=0.500) total time=   0.0s\n",
      "[CV 59/60] END kneighborsclassifier__algorithm=auto, kneighborsclassifier__metric=cityblock, kneighborsclassifier__n_neighbors=7, kneighborsclassifier__p=1, kneighborsclassifier__weights=distance;, score=(train=1.000, test=0.500) total time=   0.0s\n",
      "[CV 60/60] END kneighborsclassifier__algorithm=auto, kneighborsclassifier__metric=cityblock, kneighborsclassifier__n_neighbors=7, kneighborsclassifier__p=1, kneighborsclassifier__weights=distance;, score=(train=1.000, test=1.000) total time=   0.0s\n"
     ]
    }
   ],
   "source": [
    "# Run fit over all the models (combinations of hyperparameters)\n",
    "h = gs.fit(X_train1, y_train1)"
   ]
  },
  {
   "cell_type": "code",
   "execution_count": 583,
   "id": "33c8ec8b",
   "metadata": {},
   "outputs": [
    {
     "name": "stdout",
     "output_type": "stream",
     "text": [
      "Best Score: 0.819 Best Parameters:  {'kneighborsclassifier__algorithm': 'auto', 'kneighborsclassifier__metric': 'manhattan', 'kneighborsclassifier__n_neighbors': 7, 'kneighborsclassifier__p': 1, 'kneighborsclassifier__weights': 'distance'}\n"
     ]
    }
   ],
   "source": [
    "print('Best Score: %.3f' % gs.best_score_, 'Best Parameters: ', gs.best_params_)"
   ]
  },
  {
   "cell_type": "code",
   "execution_count": 584,
   "id": "91952e9c",
   "metadata": {},
   "outputs": [
    {
     "data": {
      "image/png": "[encoded data removed]",
      "text/plain": [
       "<Figure size 640x480 with 1 Axes>"
      ]
     },
     "metadata": {},
     "output_type": "display_data"
    }
   ],
   "source": [
    "validation_scores = h.cv_results_['mean_test_score']\n",
    "train_scores = h.cv_results_['mean_train_score'] \n",
    "plt.plot(validation_scores, label='validation score')\n",
    "plt.plot(train_scores, label='train score')\n",
    "plt.legend(loc='best')\n",
    "plt.show()"
   ]
  },
  {
   "cell_type": "code",
   "execution_count": null,
   "id": "6ddd41c1",
   "metadata": {},
   "outputs": [],
   "source": [
    "# is this a good fit ? val_err low and slightly higher than tr_err (=0)"
   ]
  },
  {
   "cell_type": "code",
   "execution_count": 585,
   "id": "1b5fca38",
   "metadata": {},
   "outputs": [
    {
     "name": "stdout",
     "output_type": "stream",
     "text": [
      "Accuracy score: 0.8379629629629629\n"
     ]
    }
   ],
   "source": [
    "y_pred1 = gs.predict(X_test1)\n",
    "import warnings\n",
    "warnings.filterwarnings('ignore')  \n",
    "\n",
    "print(\"Accuracy score:\", accuracy_score(y_test1, y_pred1))"
   ]
  },
  {
   "cell_type": "code",
   "execution_count": 586,
   "id": "2c32e510",
   "metadata": {},
   "outputs": [
    {
     "name": "stdout",
     "output_type": "stream",
     "text": [
      "              precision    recall  f1-score   support\n",
      "\n",
      "           0       0.83      0.84      0.84       216\n",
      "           1       0.84      0.83      0.84       216\n",
      "\n",
      "    accuracy                           0.84       432\n",
      "   macro avg       0.84      0.84      0.84       432\n",
      "weighted avg       0.84      0.84      0.84       432\n",
      "\n",
      "[[182  34]\n",
      " [ 36 180]]\n"
     ]
    }
   ],
   "source": [
    "print(classification_report(y_test1, y_pred1))\n",
    "print(confusion_matrix(y_test1, y_pred1))"
   ]
  },
  {
   "cell_type": "code",
   "execution_count": null,
   "id": "e1f6f31e",
   "metadata": {},
   "outputs": [],
   "source": []
  }
 ],
 "metadata": {
  "kernelspec": {
   "display_name": "Python 3.9 (tensorflow)",
   "language": "python",
   "name": "tensorflow"
  },
  "language_info": {
   "codemirror_mode": {
    "name": "ipython",
    "version": 3
   },
   "file_extension": ".py",
   "mimetype": "text/x-python",
   "name": "python",
   "nbconvert_exporter": "python",
   "pygments_lexer": "ipython3",
   "version": "3.9.13"
  }
 },
 "nbformat": 4,
 "nbformat_minor": 5
}
